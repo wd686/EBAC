{
 "cells": [
  {
   "cell_type": "markdown",
   "metadata": {},
   "source": [
    "### Import libraries and load datasets"
   ]
  },
  {
   "cell_type": "code",
   "execution_count": 102,
   "metadata": {},
   "outputs": [],
   "source": [
    "import pandas as pd\n",
    "import numpy as np\n",
    "import matplotlib.pyplot as plt\n",
    "\n",
    "pd.set_option('display.max_rows', None)"
   ]
  },
  {
   "cell_type": "code",
   "execution_count": 103,
   "metadata": {},
   "outputs": [
    {
     "name": "stderr",
     "output_type": "stream",
     "text": [
      "C:\\Users\\Michael\\AppData\\Local\\Temp\\ipykernel_13016\\2916819335.py:1: DtypeWarning: Columns (1,2,4,5) have mixed types. Specify dtype option on import or set low_memory=False.\n",
      "  userComments1 = pd.read_csv('Data Sources/Video Games/metacritic_game_user_comments (0-100k).csv')\n",
      "C:\\Users\\Michael\\AppData\\Local\\Temp\\ipykernel_13016\\2916819335.py:2: DtypeWarning: Columns (1,2,4,5) have mixed types. Specify dtype option on import or set low_memory=False.\n",
      "  userComments2 = pd.read_csv('Data Sources/Video Games/metacritic_game_user_comments (100-200k).csv')\n"
     ]
    }
   ],
   "source": [
    "# based on what columns we deem necessary, may need to rename df/ column names\n",
    "# need to choose the impt Score/ Rating/ metacritic Matrix defined to be from Beta testers (we've too many)\n",
    "# standardise release_date if it's impt\n",
    "\n",
    "userComments1 = pd.read_csv('Data Sources/Video Games/metacritic_game_user_comments (0-100k).csv')\n",
    "userComments2 = pd.read_csv('Data Sources/Video Games/metacritic_game_user_comments (100-200k).csv')\n",
    "userComments3 = pd.read_csv('Data Sources/Video Games/metacritic_game_user_comments (200-300k).csv')\n",
    "gameInfo = pd.read_csv('Data Sources/Video Games/metacritic_game_info.csv')\n",
    "\n",
    "ratingsAndReleaseDate = pd.read_csv('Data Sources/Video Games/updatedVGOutput.csv')\n",
    "gameScore = pd.read_excel('Data Sources/Video Games/metascore-video-games-1986-2023.xlsx', sheet_name='Sheet1')\n",
    "gameSales = pd.read_excel('Data Sources/Video Games/Video game sales - 2000 - 2020.xlsx', sheet_name= 'Sheet1')"
   ]
  },
  {
   "cell_type": "code",
   "execution_count": 196,
   "metadata": {},
   "outputs": [
    {
     "name": "stdout",
     "output_type": "stream",
     "text": [
      "userComments1: Index(['Unnamed: 0', 'Title', 'Platform', 'Userscore', 'Comment', 'Username'], dtype='object')\n",
      "\n",
      "gameInfo:Index(['Title', 'Year', 'Publisher', 'Genre', 'Platform', 'Metascore',\n",
      "       'Avg_Userscore', 'No_Players'],\n",
      "      dtype='object')\n",
      "\n",
      "ratingsAndReleaseDate: Index(['name', 'platform', 'user_rating', 'critic_rating', 'release_date',\n",
      "       'summary', 'description', 'metacritic'],\n",
      "      dtype='object')\n",
      "\n",
      "gameScore: Index(['no', 'name', 'platform', 'release_date', 'user_score', 'meta_score',\n",
      "       'summary'],\n",
      "      dtype='object')\n",
      "\n",
      "gameSales: Index(['title', 'platform', 'genre', 'publisher', 'vg_score', 'critic_score',\n",
      "       'user_score', 'total_shipped', 'aisan_sales', 'north_american_sales',\n",
      "       'japan_sales', 'european_sales', 'global_sales', 'Production Cost',\n",
      "       'release_year'],\n",
      "      dtype='object')\n"
     ]
    }
   ],
   "source": [
    "# can join via title/name\n",
    "print(f\"userComments1: {userComments1.columns}\\n\\ngameInfo:{gameInfo.columns}\\n\\nratingsAndReleaseDate: {ratingsAndReleaseDate.columns}\\n\\ngameScore: {gameScore.columns}\\n\\ngameSales: {gameSales.columns}\")"
   ]
  },
  {
   "cell_type": "code",
   "execution_count": 213,
   "metadata": {},
   "outputs": [
    {
     "data": {
      "text/html": [
       "<div>\n",
       "<style scoped>\n",
       "    .dataframe tbody tr th:only-of-type {\n",
       "        vertical-align: middle;\n",
       "    }\n",
       "\n",
       "    .dataframe tbody tr th {\n",
       "        vertical-align: top;\n",
       "    }\n",
       "\n",
       "    .dataframe thead th {\n",
       "        text-align: right;\n",
       "    }\n",
       "</style>\n",
       "<table border=\"1\" class=\"dataframe\">\n",
       "  <thead>\n",
       "    <tr style=\"text-align: right;\">\n",
       "      <th></th>\n",
       "      <th>Unnamed: 0</th>\n",
       "      <th>Title</th>\n",
       "      <th>Platform</th>\n",
       "      <th>Userscore</th>\n",
       "      <th>Comment</th>\n",
       "      <th>Username</th>\n",
       "    </tr>\n",
       "  </thead>\n",
       "  <tbody>\n",
       "    <tr>\n",
       "      <th>0</th>\n",
       "      <td>0.0</td>\n",
       "      <td>The Legend of Zelda: Ocarina of Time</td>\n",
       "      <td>Nintendo64</td>\n",
       "      <td>10.0</td>\n",
       "      <td>Everything in OoT is so near at perfection, it...</td>\n",
       "      <td>SirCaestus</td>\n",
       "    </tr>\n",
       "    <tr>\n",
       "      <th>1</th>\n",
       "      <td>1.0</td>\n",
       "      <td>The Legend of Zelda: Ocarina of Time</td>\n",
       "      <td>Nintendo64</td>\n",
       "      <td>10.0</td>\n",
       "      <td>I won't bore you with what everyone is already...</td>\n",
       "      <td>Kaistlin</td>\n",
       "    </tr>\n",
       "    <tr>\n",
       "      <th>2</th>\n",
       "      <td>2.0</td>\n",
       "      <td>The Legend of Zelda: Ocarina of Time</td>\n",
       "      <td>Nintendo64</td>\n",
       "      <td>10.0</td>\n",
       "      <td>Anyone who gives the masterpiece below a 7 or ...</td>\n",
       "      <td>Jacody</td>\n",
       "    </tr>\n",
       "    <tr>\n",
       "      <th>3</th>\n",
       "      <td>3.0</td>\n",
       "      <td>The Legend of Zelda: Ocarina of Time</td>\n",
       "      <td>Nintendo64</td>\n",
       "      <td>10.0</td>\n",
       "      <td>I'm one of those people who think that this is...</td>\n",
       "      <td>doodlerman</td>\n",
       "    </tr>\n",
       "    <tr>\n",
       "      <th>4</th>\n",
       "      <td>4.0</td>\n",
       "      <td>The Legend of Zelda: Ocarina of Time</td>\n",
       "      <td>Nintendo64</td>\n",
       "      <td>10.0</td>\n",
       "      <td>This game is the highest rated game on Metacr...</td>\n",
       "      <td>StevenA</td>\n",
       "    </tr>\n",
       "  </tbody>\n",
       "</table>\n",
       "</div>"
      ],
      "text/plain": [
       "   Unnamed: 0                                 Title    Platform  Userscore  \\\n",
       "0         0.0  The Legend of Zelda: Ocarina of Time  Nintendo64       10.0   \n",
       "1         1.0  The Legend of Zelda: Ocarina of Time  Nintendo64       10.0   \n",
       "2         2.0  The Legend of Zelda: Ocarina of Time  Nintendo64       10.0   \n",
       "3         3.0  The Legend of Zelda: Ocarina of Time  Nintendo64       10.0   \n",
       "4         4.0  The Legend of Zelda: Ocarina of Time  Nintendo64       10.0   \n",
       "\n",
       "                                             Comment    Username  \n",
       "0  Everything in OoT is so near at perfection, it...  SirCaestus  \n",
       "1  I won't bore you with what everyone is already...    Kaistlin  \n",
       "2  Anyone who gives the masterpiece below a 7 or ...      Jacody  \n",
       "3  I'm one of those people who think that this is...  doodlerman  \n",
       "4   This game is the highest rated game on Metacr...     StevenA  "
      ]
     },
     "execution_count": 213,
     "metadata": {},
     "output_type": "execute_result"
    }
   ],
   "source": [
    "userComments1.head()"
   ]
  },
  {
   "cell_type": "code",
   "execution_count": 214,
   "metadata": {},
   "outputs": [
    {
     "data": {
      "text/html": [
       "<div>\n",
       "<style scoped>\n",
       "    .dataframe tbody tr th:only-of-type {\n",
       "        vertical-align: middle;\n",
       "    }\n",
       "\n",
       "    .dataframe tbody tr th {\n",
       "        vertical-align: top;\n",
       "    }\n",
       "\n",
       "    .dataframe thead th {\n",
       "        text-align: right;\n",
       "    }\n",
       "</style>\n",
       "<table border=\"1\" class=\"dataframe\">\n",
       "  <thead>\n",
       "    <tr style=\"text-align: right;\">\n",
       "      <th></th>\n",
       "      <th>Title</th>\n",
       "      <th>Year</th>\n",
       "      <th>Publisher</th>\n",
       "      <th>Genre</th>\n",
       "      <th>Platform</th>\n",
       "      <th>Metascore</th>\n",
       "      <th>Avg_Userscore</th>\n",
       "      <th>No_Players</th>\n",
       "    </tr>\n",
       "  </thead>\n",
       "  <tbody>\n",
       "    <tr>\n",
       "      <th>0</th>\n",
       "      <td>The Legend of Zelda: Ocarina of Time</td>\n",
       "      <td>1998</td>\n",
       "      <td>Nintendo</td>\n",
       "      <td>Action Adventure;Fantasy</td>\n",
       "      <td>Nintendo64</td>\n",
       "      <td>99.0</td>\n",
       "      <td>9.1</td>\n",
       "      <td>1 Player</td>\n",
       "    </tr>\n",
       "    <tr>\n",
       "      <th>1</th>\n",
       "      <td>Tony Hawk's Pro Skater 2</td>\n",
       "      <td>2000</td>\n",
       "      <td>NeversoftEntertainment</td>\n",
       "      <td>Sports;Alternative;Skateboarding</td>\n",
       "      <td>PlayStation</td>\n",
       "      <td>98.0</td>\n",
       "      <td>7.4</td>\n",
       "      <td>1-2</td>\n",
       "    </tr>\n",
       "    <tr>\n",
       "      <th>2</th>\n",
       "      <td>Grand Theft Auto IV</td>\n",
       "      <td>2008</td>\n",
       "      <td>RockstarNorth</td>\n",
       "      <td>Action Adventure;Modern;Modern;Open-World</td>\n",
       "      <td>PlayStation3</td>\n",
       "      <td>98.0</td>\n",
       "      <td>7.5</td>\n",
       "      <td>1 Player</td>\n",
       "    </tr>\n",
       "    <tr>\n",
       "      <th>3</th>\n",
       "      <td>SoulCalibur</td>\n",
       "      <td>1999</td>\n",
       "      <td>Namco</td>\n",
       "      <td>Action;Fighting;3D</td>\n",
       "      <td>Dreamcast</td>\n",
       "      <td>98.0</td>\n",
       "      <td>8.6</td>\n",
       "      <td>1-2</td>\n",
       "    </tr>\n",
       "    <tr>\n",
       "      <th>4</th>\n",
       "      <td>Grand Theft Auto IV</td>\n",
       "      <td>2008</td>\n",
       "      <td>RockstarNorth</td>\n",
       "      <td>Action Adventure;Modern;Modern;Open-World</td>\n",
       "      <td>Xbox360</td>\n",
       "      <td>98.0</td>\n",
       "      <td>7.9</td>\n",
       "      <td>1 Player</td>\n",
       "    </tr>\n",
       "  </tbody>\n",
       "</table>\n",
       "</div>"
      ],
      "text/plain": [
       "                                  Title  Year               Publisher  \\\n",
       "0  The Legend of Zelda: Ocarina of Time  1998                Nintendo   \n",
       "1              Tony Hawk's Pro Skater 2  2000  NeversoftEntertainment   \n",
       "2                   Grand Theft Auto IV  2008           RockstarNorth   \n",
       "3                           SoulCalibur  1999                   Namco   \n",
       "4                   Grand Theft Auto IV  2008           RockstarNorth   \n",
       "\n",
       "                                       Genre      Platform  Metascore  \\\n",
       "0                   Action Adventure;Fantasy    Nintendo64       99.0   \n",
       "1           Sports;Alternative;Skateboarding   PlayStation       98.0   \n",
       "2  Action Adventure;Modern;Modern;Open-World  PlayStation3       98.0   \n",
       "3                         Action;Fighting;3D     Dreamcast       98.0   \n",
       "4  Action Adventure;Modern;Modern;Open-World       Xbox360       98.0   \n",
       "\n",
       "   Avg_Userscore No_Players  \n",
       "0            9.1   1 Player  \n",
       "1            7.4       1-2   \n",
       "2            7.5   1 Player  \n",
       "3            8.6       1-2   \n",
       "4            7.9   1 Player  "
      ]
     },
     "execution_count": 214,
     "metadata": {},
     "output_type": "execute_result"
    }
   ],
   "source": [
    "gameInfo.head()"
   ]
  },
  {
   "cell_type": "code",
   "execution_count": 215,
   "metadata": {},
   "outputs": [
    {
     "data": {
      "text/html": [
       "<div>\n",
       "<style scoped>\n",
       "    .dataframe tbody tr th:only-of-type {\n",
       "        vertical-align: middle;\n",
       "    }\n",
       "\n",
       "    .dataframe tbody tr th {\n",
       "        vertical-align: top;\n",
       "    }\n",
       "\n",
       "    .dataframe thead th {\n",
       "        text-align: right;\n",
       "    }\n",
       "</style>\n",
       "<table border=\"1\" class=\"dataframe\">\n",
       "  <thead>\n",
       "    <tr style=\"text-align: right;\">\n",
       "      <th></th>\n",
       "      <th>name</th>\n",
       "      <th>platform</th>\n",
       "      <th>user_rating</th>\n",
       "      <th>critic_rating</th>\n",
       "      <th>release_date</th>\n",
       "      <th>summary</th>\n",
       "      <th>description</th>\n",
       "      <th>metacritic</th>\n",
       "    </tr>\n",
       "  </thead>\n",
       "  <tbody>\n",
       "    <tr>\n",
       "      <th>0</th>\n",
       "      <td>Full Throttle</td>\n",
       "      <td>PC</td>\n",
       "      <td>8.5</td>\n",
       "      <td>86</td>\n",
       "      <td>April 30, 1995</td>\n",
       "      <td>You're Ben--beaten, framed for murder and left...</td>\n",
       "      <td>&lt;p&gt;One minute you&amp;#39;re on the road, riding. ...</td>\n",
       "      <td>86.0</td>\n",
       "    </tr>\n",
       "    <tr>\n",
       "      <th>1</th>\n",
       "      <td>Sid Meier's Civilization II</td>\n",
       "      <td>PC</td>\n",
       "      <td>8.7</td>\n",
       "      <td>94</td>\n",
       "      <td>February 29, 1996</td>\n",
       "      <td>An empire-building turn-based strategy game. T...</td>\n",
       "      <td>&lt;p&gt;Make every critical social, economic and po...</td>\n",
       "      <td>94.0</td>\n",
       "    </tr>\n",
       "    <tr>\n",
       "      <th>2</th>\n",
       "      <td>Quake</td>\n",
       "      <td>PC</td>\n",
       "      <td>8.8</td>\n",
       "      <td>94</td>\n",
       "      <td>June 22, 1996</td>\n",
       "      <td>Rage through 32 single player levels and 6 dea...</td>\n",
       "      <td>&lt;h3&gt;The roots&lt;/h3&gt;\\n&lt;p&gt;One of the classic repr...</td>\n",
       "      <td>94.0</td>\n",
       "    </tr>\n",
       "    <tr>\n",
       "      <th>3</th>\n",
       "      <td>Diablo</td>\n",
       "      <td>PC</td>\n",
       "      <td>8.6</td>\n",
       "      <td>94</td>\n",
       "      <td>December 31, 1996</td>\n",
       "      <td>The kingdom of Khandaras has fallen into chaos...</td>\n",
       "      <td>&lt;p&gt;Traveler, stay awhile and listen...&lt;/p&gt;\\n&lt;p...</td>\n",
       "      <td>94.0</td>\n",
       "    </tr>\n",
       "    <tr>\n",
       "      <th>4</th>\n",
       "      <td>Super Mario 64</td>\n",
       "      <td>Nintendo 64</td>\n",
       "      <td>9.1</td>\n",
       "      <td>94</td>\n",
       "      <td>September 26, 1996</td>\n",
       "      <td>Mario is super in a whole new way! Combining t...</td>\n",
       "      <td>&lt;p&gt;Mario is super in a whole new way! Combinin...</td>\n",
       "      <td>94.0</td>\n",
       "    </tr>\n",
       "  </tbody>\n",
       "</table>\n",
       "</div>"
      ],
      "text/plain": [
       "                          name     platform  user_rating  critic_rating  \\\n",
       "0                Full Throttle           PC          8.5             86   \n",
       "1  Sid Meier's Civilization II           PC          8.7             94   \n",
       "2                        Quake           PC          8.8             94   \n",
       "3                       Diablo           PC          8.6             94   \n",
       "4               Super Mario 64  Nintendo 64          9.1             94   \n",
       "\n",
       "         release_date                                            summary  \\\n",
       "0      April 30, 1995  You're Ben--beaten, framed for murder and left...   \n",
       "1   February 29, 1996  An empire-building turn-based strategy game. T...   \n",
       "2       June 22, 1996  Rage through 32 single player levels and 6 dea...   \n",
       "3   December 31, 1996  The kingdom of Khandaras has fallen into chaos...   \n",
       "4  September 26, 1996  Mario is super in a whole new way! Combining t...   \n",
       "\n",
       "                                         description  metacritic  \n",
       "0  <p>One minute you&#39;re on the road, riding. ...        86.0  \n",
       "1  <p>Make every critical social, economic and po...        94.0  \n",
       "2  <h3>The roots</h3>\\n<p>One of the classic repr...        94.0  \n",
       "3  <p>Traveler, stay awhile and listen...</p>\\n<p...        94.0  \n",
       "4  <p>Mario is super in a whole new way! Combinin...        94.0  "
      ]
     },
     "execution_count": 215,
     "metadata": {},
     "output_type": "execute_result"
    }
   ],
   "source": [
    "ratingsAndReleaseDate.head()"
   ]
  },
  {
   "cell_type": "code",
   "execution_count": 216,
   "metadata": {},
   "outputs": [
    {
     "data": {
      "text/html": [
       "<div>\n",
       "<style scoped>\n",
       "    .dataframe tbody tr th:only-of-type {\n",
       "        vertical-align: middle;\n",
       "    }\n",
       "\n",
       "    .dataframe tbody tr th {\n",
       "        vertical-align: top;\n",
       "    }\n",
       "\n",
       "    .dataframe thead th {\n",
       "        text-align: right;\n",
       "    }\n",
       "</style>\n",
       "<table border=\"1\" class=\"dataframe\">\n",
       "  <thead>\n",
       "    <tr style=\"text-align: right;\">\n",
       "      <th></th>\n",
       "      <th>no</th>\n",
       "      <th>name</th>\n",
       "      <th>platform</th>\n",
       "      <th>release_date</th>\n",
       "      <th>user_score</th>\n",
       "      <th>meta_score</th>\n",
       "      <th>summary</th>\n",
       "    </tr>\n",
       "  </thead>\n",
       "  <tbody>\n",
       "    <tr>\n",
       "      <th>0</th>\n",
       "      <td>0</td>\n",
       "      <td>Like a Dragon: Ishin!</td>\n",
       "      <td>Xbox Series X</td>\n",
       "      <td>2023-02-18</td>\n",
       "      <td>NaN</td>\n",
       "      <td>80.0</td>\n",
       "      <td>1860s Kyo is plagued by widespread inequality,...</td>\n",
       "    </tr>\n",
       "    <tr>\n",
       "      <th>1</th>\n",
       "      <td>1</td>\n",
       "      <td>FinalFort</td>\n",
       "      <td>PC</td>\n",
       "      <td>2023-02-18</td>\n",
       "      <td>NaN</td>\n",
       "      <td>NaN</td>\n",
       "      <td>You will be humanity's last hope, building a w...</td>\n",
       "    </tr>\n",
       "    <tr>\n",
       "      <th>2</th>\n",
       "      <td>2</td>\n",
       "      <td>Like a Dragon: Ishin!</td>\n",
       "      <td>Xbox One</td>\n",
       "      <td>2023-02-18</td>\n",
       "      <td>NaN</td>\n",
       "      <td>NaN</td>\n",
       "      <td>1860s Kyo is plagued by widespread inequality,...</td>\n",
       "    </tr>\n",
       "    <tr>\n",
       "      <th>3</th>\n",
       "      <td>3</td>\n",
       "      <td>Tales of Symphonia Remastered</td>\n",
       "      <td>PlayStation 4</td>\n",
       "      <td>2023-02-17</td>\n",
       "      <td>NaN</td>\n",
       "      <td>68.0</td>\n",
       "      <td>In a dying world, legend has it that a Chosen ...</td>\n",
       "    </tr>\n",
       "    <tr>\n",
       "      <th>4</th>\n",
       "      <td>4</td>\n",
       "      <td>Tales of Symphonia Remastered</td>\n",
       "      <td>Switch</td>\n",
       "      <td>2023-02-17</td>\n",
       "      <td>NaN</td>\n",
       "      <td>68.0</td>\n",
       "      <td>In a dying world, legend has it that a Chosen ...</td>\n",
       "    </tr>\n",
       "  </tbody>\n",
       "</table>\n",
       "</div>"
      ],
      "text/plain": [
       "   no                           name       platform release_date  user_score  \\\n",
       "0   0          Like a Dragon: Ishin!  Xbox Series X   2023-02-18         NaN   \n",
       "1   1                      FinalFort             PC   2023-02-18         NaN   \n",
       "2   2          Like a Dragon: Ishin!       Xbox One   2023-02-18         NaN   \n",
       "3   3  Tales of Symphonia Remastered  PlayStation 4   2023-02-17         NaN   \n",
       "4   4  Tales of Symphonia Remastered         Switch   2023-02-17         NaN   \n",
       "\n",
       "   meta_score                                            summary  \n",
       "0        80.0  1860s Kyo is plagued by widespread inequality,...  \n",
       "1         NaN  You will be humanity's last hope, building a w...  \n",
       "2         NaN  1860s Kyo is plagued by widespread inequality,...  \n",
       "3        68.0  In a dying world, legend has it that a Chosen ...  \n",
       "4        68.0  In a dying world, legend has it that a Chosen ...  "
      ]
     },
     "execution_count": 216,
     "metadata": {},
     "output_type": "execute_result"
    }
   ],
   "source": [
    "gameScore.head()"
   ]
  },
  {
   "cell_type": "code",
   "execution_count": 217,
   "metadata": {},
   "outputs": [
    {
     "data": {
      "text/html": [
       "<div>\n",
       "<style scoped>\n",
       "    .dataframe tbody tr th:only-of-type {\n",
       "        vertical-align: middle;\n",
       "    }\n",
       "\n",
       "    .dataframe tbody tr th {\n",
       "        vertical-align: top;\n",
       "    }\n",
       "\n",
       "    .dataframe thead th {\n",
       "        text-align: right;\n",
       "    }\n",
       "</style>\n",
       "<table border=\"1\" class=\"dataframe\">\n",
       "  <thead>\n",
       "    <tr style=\"text-align: right;\">\n",
       "      <th></th>\n",
       "      <th>title</th>\n",
       "      <th>platform</th>\n",
       "      <th>genre</th>\n",
       "      <th>publisher</th>\n",
       "      <th>vg_score</th>\n",
       "      <th>critic_score</th>\n",
       "      <th>user_score</th>\n",
       "      <th>total_shipped</th>\n",
       "      <th>aisan_sales</th>\n",
       "      <th>north_american_sales</th>\n",
       "      <th>japan_sales</th>\n",
       "      <th>european_sales</th>\n",
       "      <th>global_sales</th>\n",
       "      <th>Production Cost</th>\n",
       "      <th>release_year</th>\n",
       "    </tr>\n",
       "  </thead>\n",
       "  <tbody>\n",
       "    <tr>\n",
       "      <th>0</th>\n",
       "      <td>(c 12) Final Resistance</td>\n",
       "      <td>PS</td>\n",
       "      <td>Shooter</td>\n",
       "      <td>IBM</td>\n",
       "      <td>1.0</td>\n",
       "      <td>6.5</td>\n",
       "      <td>4.0</td>\n",
       "      <td>8.0</td>\n",
       "      <td>5.08</td>\n",
       "      <td>1.10</td>\n",
       "      <td>5.70</td>\n",
       "      <td>3.54</td>\n",
       "      <td>15.42</td>\n",
       "      <td>1.98</td>\n",
       "      <td>2002</td>\n",
       "    </tr>\n",
       "    <tr>\n",
       "      <th>1</th>\n",
       "      <td>.hack  Sekai no Mukou ni   Versus</td>\n",
       "      <td>PS3</td>\n",
       "      <td>Fighting</td>\n",
       "      <td>IBM</td>\n",
       "      <td>6.0</td>\n",
       "      <td>10.0</td>\n",
       "      <td>6.0</td>\n",
       "      <td>269.0</td>\n",
       "      <td>3.00</td>\n",
       "      <td>1.86</td>\n",
       "      <td>0.03</td>\n",
       "      <td>6.43</td>\n",
       "      <td>8.35</td>\n",
       "      <td>3.34</td>\n",
       "      <td>2012</td>\n",
       "    </tr>\n",
       "    <tr>\n",
       "      <th>2</th>\n",
       "      <td>007  Quantum of Solace</td>\n",
       "      <td>PS2</td>\n",
       "      <td>Shooter</td>\n",
       "      <td>Activision</td>\n",
       "      <td>8.0</td>\n",
       "      <td>7.8</td>\n",
       "      <td>4.0</td>\n",
       "      <td>81.0</td>\n",
       "      <td>3.00</td>\n",
       "      <td>0.17</td>\n",
       "      <td>1.21</td>\n",
       "      <td>2.22</td>\n",
       "      <td>4.03</td>\n",
       "      <td>2.05</td>\n",
       "      <td>2008</td>\n",
       "    </tr>\n",
       "    <tr>\n",
       "      <th>3</th>\n",
       "      <td>007  Quantum of Solace</td>\n",
       "      <td>PS3</td>\n",
       "      <td>Shooter</td>\n",
       "      <td>Activision</td>\n",
       "      <td>3.0</td>\n",
       "      <td>6.6</td>\n",
       "      <td>10.0</td>\n",
       "      <td>158.0</td>\n",
       "      <td>1.14</td>\n",
       "      <td>0.43</td>\n",
       "      <td>0.02</td>\n",
       "      <td>0.51</td>\n",
       "      <td>2.10</td>\n",
       "      <td>1.19</td>\n",
       "      <td>2008</td>\n",
       "    </tr>\n",
       "    <tr>\n",
       "      <th>4</th>\n",
       "      <td>007  The World is not Enough</td>\n",
       "      <td>PS</td>\n",
       "      <td>Shooter</td>\n",
       "      <td>Electronic Arts</td>\n",
       "      <td>1.0</td>\n",
       "      <td>6.4</td>\n",
       "      <td>1.0</td>\n",
       "      <td>240.0</td>\n",
       "      <td>3.00</td>\n",
       "      <td>0.51</td>\n",
       "      <td>3.75</td>\n",
       "      <td>0.35</td>\n",
       "      <td>5.53</td>\n",
       "      <td>1.50</td>\n",
       "      <td>2000</td>\n",
       "    </tr>\n",
       "  </tbody>\n",
       "</table>\n",
       "</div>"
      ],
      "text/plain": [
       "                               title platform     genre        publisher  \\\n",
       "0            (c 12) Final Resistance       PS   Shooter              IBM   \n",
       "1  .hack  Sekai no Mukou ni   Versus      PS3  Fighting              IBM   \n",
       "2             007  Quantum of Solace      PS2   Shooter       Activision   \n",
       "3             007  Quantum of Solace      PS3   Shooter       Activision   \n",
       "4       007  The World is not Enough       PS   Shooter  Electronic Arts   \n",
       "\n",
       "   vg_score  critic_score  user_score  total_shipped  aisan_sales  \\\n",
       "0       1.0           6.5         4.0            8.0         5.08   \n",
       "1       6.0          10.0         6.0          269.0         3.00   \n",
       "2       8.0           7.8         4.0           81.0         3.00   \n",
       "3       3.0           6.6        10.0          158.0         1.14   \n",
       "4       1.0           6.4         1.0          240.0         3.00   \n",
       "\n",
       "   north_american_sales  japan_sales  european_sales  global_sales  \\\n",
       "0                  1.10         5.70            3.54         15.42   \n",
       "1                  1.86         0.03            6.43          8.35   \n",
       "2                  0.17         1.21            2.22          4.03   \n",
       "3                  0.43         0.02            0.51          2.10   \n",
       "4                  0.51         3.75            0.35          5.53   \n",
       "\n",
       "   Production Cost  release_year  \n",
       "0             1.98          2002  \n",
       "1             3.34          2012  \n",
       "2             2.05          2008  \n",
       "3             1.19          2008  \n",
       "4             1.50          2000  "
      ]
     },
     "execution_count": 217,
     "metadata": {},
     "output_type": "execute_result"
    }
   ],
   "source": [
    "gameSales.head()"
   ]
  },
  {
   "cell_type": "code",
   "execution_count": 137,
   "metadata": {},
   "outputs": [],
   "source": [
    "def hist(df, column_name):\n",
    "    plt.hist(df[column_name], bins=10, edgecolor='black')\n",
    "    plt.xlabel(column_name)\n",
    "    plt.ylabel('Frequency')\n",
    "    plt.title(f'{column_name} Distribution')\n",
    "    plt.grid(axis='y', alpha=0.75)\n",
    "    plt.show()"
   ]
  },
  {
   "cell_type": "markdown",
   "metadata": {},
   "source": [
    "### userComments"
   ]
  },
  {
   "cell_type": "code",
   "execution_count": 104,
   "metadata": {},
   "outputs": [],
   "source": [
    "userComments3['Unnamed: 0'] = userComments3['Unnamed: 0'].astype('float64')\n",
    "userComments3['Userscore'] = userComments3['Userscore'].astype('float64')\n",
    "\n",
    "userComments = pd.concat([userComments1, userComments2, userComments3], axis = 0)\n",
    "userComments.drop(columns = 'Unnamed: 0', inplace = True)\n",
    "userComments.dropna(how = 'all', inplace = True)"
   ]
  },
  {
   "cell_type": "code",
   "execution_count": 203,
   "metadata": {},
   "outputs": [
    {
     "name": "stdout",
     "output_type": "stream",
     "text": [
      "<class 'pandas.core.frame.DataFrame'>\n",
      "Int64Index: 283983 entries, 0 to 83981\n",
      "Data columns (total 5 columns):\n",
      " #   Column     Non-Null Count   Dtype  \n",
      "---  ------     --------------   -----  \n",
      " 0   Title      283983 non-null  object \n",
      " 1   Platform   283983 non-null  object \n",
      " 2   Userscore  283983 non-null  float64\n",
      " 3   Comment    283960 non-null  object \n",
      " 4   Username   283980 non-null  object \n",
      "dtypes: float64(1), object(4)\n",
      "memory usage: 13.0+ MB\n"
     ]
    }
   ],
   "source": [
    "# Comments >> 23 missing entries\n",
    "# Username   >> 3 missing entries\n",
    "userComments.info()"
   ]
  },
  {
   "cell_type": "code",
   "execution_count": 105,
   "metadata": {},
   "outputs": [
    {
     "data": {
      "text/html": [
       "<div>\n",
       "<style scoped>\n",
       "    .dataframe tbody tr th:only-of-type {\n",
       "        vertical-align: middle;\n",
       "    }\n",
       "\n",
       "    .dataframe tbody tr th {\n",
       "        vertical-align: top;\n",
       "    }\n",
       "\n",
       "    .dataframe thead th {\n",
       "        text-align: right;\n",
       "    }\n",
       "</style>\n",
       "<table border=\"1\" class=\"dataframe\">\n",
       "  <thead>\n",
       "    <tr style=\"text-align: right;\">\n",
       "      <th></th>\n",
       "      <th>Userscore</th>\n",
       "    </tr>\n",
       "  </thead>\n",
       "  <tbody>\n",
       "    <tr>\n",
       "      <th>count</th>\n",
       "      <td>283983.000000</td>\n",
       "    </tr>\n",
       "    <tr>\n",
       "      <th>mean</th>\n",
       "      <td>7.618308</td>\n",
       "    </tr>\n",
       "    <tr>\n",
       "      <th>std</th>\n",
       "      <td>3.131767</td>\n",
       "    </tr>\n",
       "    <tr>\n",
       "      <th>min</th>\n",
       "      <td>0.000000</td>\n",
       "    </tr>\n",
       "    <tr>\n",
       "      <th>25%</th>\n",
       "      <td>7.000000</td>\n",
       "    </tr>\n",
       "    <tr>\n",
       "      <th>50%</th>\n",
       "      <td>9.000000</td>\n",
       "    </tr>\n",
       "    <tr>\n",
       "      <th>75%</th>\n",
       "      <td>10.000000</td>\n",
       "    </tr>\n",
       "    <tr>\n",
       "      <th>max</th>\n",
       "      <td>10.000000</td>\n",
       "    </tr>\n",
       "  </tbody>\n",
       "</table>\n",
       "</div>"
      ],
      "text/plain": [
       "           Userscore\n",
       "count  283983.000000\n",
       "mean        7.618308\n",
       "std         3.131767\n",
       "min         0.000000\n",
       "25%         7.000000\n",
       "50%         9.000000\n",
       "75%        10.000000\n",
       "max        10.000000"
      ]
     },
     "execution_count": 105,
     "metadata": {},
     "output_type": "execute_result"
    }
   ],
   "source": [
    "userComments.describe()"
   ]
  },
  {
   "cell_type": "code",
   "execution_count": 136,
   "metadata": {},
   "outputs": [
    {
     "data": {
      "image/png": "[encoded data removed]",
      "text/plain": [
       "<Figure size 640x480 with 1 Axes>"
      ]
     },
     "metadata": {},
     "output_type": "display_data"
    }
   ],
   "source": [
    "hist(userComments, 'Userscore')"
   ]
  },
  {
   "cell_type": "code",
   "execution_count": 127,
   "metadata": {},
   "outputs": [
    {
     "data": {
      "text/html": [
       "<div>\n",
       "<style scoped>\n",
       "    .dataframe tbody tr th:only-of-type {\n",
       "        vertical-align: middle;\n",
       "    }\n",
       "\n",
       "    .dataframe tbody tr th {\n",
       "        vertical-align: top;\n",
       "    }\n",
       "\n",
       "    .dataframe thead th {\n",
       "        text-align: right;\n",
       "    }\n",
       "</style>\n",
       "<table border=\"1\" class=\"dataframe\">\n",
       "  <thead>\n",
       "    <tr style=\"text-align: right;\">\n",
       "      <th></th>\n",
       "      <th>Title</th>\n",
       "      <th>Platform</th>\n",
       "      <th>Userscore</th>\n",
       "      <th>Comment</th>\n",
       "      <th>Username</th>\n",
       "    </tr>\n",
       "  </thead>\n",
       "  <tbody>\n",
       "    <tr>\n",
       "      <th>0</th>\n",
       "      <td>The Legend of Zelda: Ocarina of Time</td>\n",
       "      <td>Nintendo64</td>\n",
       "      <td>10.0</td>\n",
       "      <td>Everything in OoT is so near at perfection, it...</td>\n",
       "      <td>SirCaestus</td>\n",
       "    </tr>\n",
       "    <tr>\n",
       "      <th>1</th>\n",
       "      <td>The Legend of Zelda: Ocarina of Time</td>\n",
       "      <td>Nintendo64</td>\n",
       "      <td>10.0</td>\n",
       "      <td>I won't bore you with what everyone is already...</td>\n",
       "      <td>Kaistlin</td>\n",
       "    </tr>\n",
       "    <tr>\n",
       "      <th>2</th>\n",
       "      <td>The Legend of Zelda: Ocarina of Time</td>\n",
       "      <td>Nintendo64</td>\n",
       "      <td>10.0</td>\n",
       "      <td>Anyone who gives the masterpiece below a 7 or ...</td>\n",
       "      <td>Jacody</td>\n",
       "    </tr>\n",
       "    <tr>\n",
       "      <th>3</th>\n",
       "      <td>The Legend of Zelda: Ocarina of Time</td>\n",
       "      <td>Nintendo64</td>\n",
       "      <td>10.0</td>\n",
       "      <td>I'm one of those people who think that this is...</td>\n",
       "      <td>doodlerman</td>\n",
       "    </tr>\n",
       "    <tr>\n",
       "      <th>4</th>\n",
       "      <td>The Legend of Zelda: Ocarina of Time</td>\n",
       "      <td>Nintendo64</td>\n",
       "      <td>10.0</td>\n",
       "      <td>This game is the highest rated game on Metacr...</td>\n",
       "      <td>StevenA</td>\n",
       "    </tr>\n",
       "  </tbody>\n",
       "</table>\n",
       "</div>"
      ],
      "text/plain": [
       "                                  Title    Platform  Userscore  \\\n",
       "0  The Legend of Zelda: Ocarina of Time  Nintendo64       10.0   \n",
       "1  The Legend of Zelda: Ocarina of Time  Nintendo64       10.0   \n",
       "2  The Legend of Zelda: Ocarina of Time  Nintendo64       10.0   \n",
       "3  The Legend of Zelda: Ocarina of Time  Nintendo64       10.0   \n",
       "4  The Legend of Zelda: Ocarina of Time  Nintendo64       10.0   \n",
       "\n",
       "                                             Comment    Username  \n",
       "0  Everything in OoT is so near at perfection, it...  SirCaestus  \n",
       "1  I won't bore you with what everyone is already...    Kaistlin  \n",
       "2  Anyone who gives the masterpiece below a 7 or ...      Jacody  \n",
       "3  I'm one of those people who think that this is...  doodlerman  \n",
       "4   This game is the highest rated game on Metacr...     StevenA  "
      ]
     },
     "execution_count": 127,
     "metadata": {},
     "output_type": "execute_result"
    }
   ],
   "source": [
    "userComments.head()"
   ]
  },
  {
   "cell_type": "markdown",
   "metadata": {},
   "source": [
    "### gameInfo"
   ]
  },
  {
   "cell_type": "code",
   "execution_count": 153,
   "metadata": {},
   "outputs": [],
   "source": [
    "gameInfo = pd.read_csv('Data Sources/Video Games/metacritic_game_info.csv')"
   ]
  },
  {
   "cell_type": "code",
   "execution_count": 154,
   "metadata": {},
   "outputs": [],
   "source": [
    "gameInfo.drop(columns = 'Unnamed: 0', inplace = True)"
   ]
  },
  {
   "cell_type": "code",
   "execution_count": 156,
   "metadata": {},
   "outputs": [],
   "source": [
    "gameInfo.loc[gameInfo.Metascore == 'not specified', 'Metascore'] = -999\n",
    "gameInfo['Metascore'] = gameInfo.Metascore.astype('float64')\n",
    "\n",
    "gameInfo.loc[gameInfo.Avg_Userscore == 'not specified', 'Avg_Userscore'] = -999\n",
    "gameInfo.loc[gameInfo.Avg_Userscore == 'tbd', 'Avg_Userscore'] = -998\n",
    "gameInfo['Avg_Userscore'] = gameInfo.Avg_Userscore.astype('float64')\n",
    "\n",
    "gameInfo.loc[gameInfo.Year == 'not specified', 'Year'] = -999\n",
    "gameInfo['Year'] = gameInfo.Year.astype('int64')"
   ]
  },
  {
   "cell_type": "code",
   "execution_count": 169,
   "metadata": {},
   "outputs": [
    {
     "data": {
      "text/plain": [
       "(75, 8)"
      ]
     },
     "execution_count": 169,
     "metadata": {},
     "output_type": "execute_result"
    }
   ],
   "source": [
    "gameInfo = gameInfo[gameInfo.Year != -999] # 11 rows removed (all Metascore = -999 are removed too)\n",
    "gameInfo = gameInfo[gameInfo.Avg_Userscore != -999] # 1 row removed\n",
    "\n",
    "gameInfo[gameInfo.Avg_Userscore == -998].shape # 75 rows .. keep? not sure if this col is impt"
   ]
  },
  {
   "cell_type": "code",
   "execution_count": 141,
   "metadata": {},
   "outputs": [
    {
     "data": {
      "text/plain": [
       "(52,)"
      ]
     },
     "execution_count": 141,
     "metadata": {},
     "output_type": "execute_result"
    }
   ],
   "source": [
    "# No_Players >> 52 categories .. combine them??\n",
    "\n",
    "gameInfo..value_counts().shape\n",
    "# gameInfo.No_Players.value_counts()"
   ]
  },
  {
   "cell_type": "code",
   "execution_count": 170,
   "metadata": {},
   "outputs": [
    {
     "name": "stdout",
     "output_type": "stream",
     "text": [
      "<class 'pandas.core.frame.DataFrame'>\n",
      "Int64Index: 4988 entries, 0 to 4999\n",
      "Data columns (total 8 columns):\n",
      " #   Column         Non-Null Count  Dtype  \n",
      "---  ------         --------------  -----  \n",
      " 0   Title          4988 non-null   object \n",
      " 1   Year           4988 non-null   int64  \n",
      " 2   Publisher      4988 non-null   object \n",
      " 3   Genre          4988 non-null   object \n",
      " 4   Platform       4988 non-null   object \n",
      " 5   Metascore      4988 non-null   float64\n",
      " 6   Avg_Userscore  4988 non-null   float64\n",
      " 7   No_Players     4981 non-null   object \n",
      "dtypes: float64(2), int64(1), object(5)\n",
      "memory usage: 350.7+ KB\n"
     ]
    }
   ],
   "source": [
    "# No_Players .. 7 missing entries\n",
    "\n",
    "gameInfo.info()"
   ]
  },
  {
   "cell_type": "code",
   "execution_count": 172,
   "metadata": {},
   "outputs": [
    {
     "data": {
      "text/plain": [
       "count    4988.000000\n",
       "mean       83.123697\n",
       "std         4.342992\n",
       "min        77.000000\n",
       "25%        80.000000\n",
       "50%        82.000000\n",
       "75%        86.000000\n",
       "max        99.000000\n",
       "Name: Metascore, dtype: float64"
      ]
     },
     "execution_count": 172,
     "metadata": {},
     "output_type": "execute_result"
    }
   ],
   "source": [
    "gameInfo.Metascore.describe()"
   ]
  },
  {
   "cell_type": "code",
   "execution_count": 176,
   "metadata": {},
   "outputs": [
    {
     "data": {
      "image/png": "[encoded data removed]",
      "text/plain": [
       "<Figure size 640x480 with 1 Axes>"
      ]
     },
     "metadata": {},
     "output_type": "display_data"
    },
    {
     "data": {
      "image/png": "[encoded data removed]",
      "text/plain": [
       "<Figure size 640x480 with 1 Axes>"
      ]
     },
     "metadata": {},
     "output_type": "display_data"
    },
    {
     "data": {
      "image/png": "[encoded data removed]",
      "text/plain": [
       "<Figure size 640x480 with 1 Axes>"
      ]
     },
     "metadata": {},
     "output_type": "display_data"
    }
   ],
   "source": [
    "for x in gameInfo.select_dtypes(include=['Int64', 'float64']):\n",
    "    if x == 'Avg_Userscore':\n",
    "        test = gameInfo[gameInfo[x] != -998]\n",
    "        hist(test, x)\n",
    "    else:\n",
    "        hist(gameInfo, x)"
   ]
  },
  {
   "cell_type": "code",
   "execution_count": 174,
   "metadata": {},
   "outputs": [
    {
     "data": {
      "text/html": [
       "<div>\n",
       "<style scoped>\n",
       "    .dataframe tbody tr th:only-of-type {\n",
       "        vertical-align: middle;\n",
       "    }\n",
       "\n",
       "    .dataframe tbody tr th {\n",
       "        vertical-align: top;\n",
       "    }\n",
       "\n",
       "    .dataframe thead th {\n",
       "        text-align: right;\n",
       "    }\n",
       "</style>\n",
       "<table border=\"1\" class=\"dataframe\">\n",
       "  <thead>\n",
       "    <tr style=\"text-align: right;\">\n",
       "      <th></th>\n",
       "      <th>Title</th>\n",
       "      <th>Year</th>\n",
       "      <th>Publisher</th>\n",
       "      <th>Genre</th>\n",
       "      <th>Platform</th>\n",
       "      <th>Metascore</th>\n",
       "      <th>Avg_Userscore</th>\n",
       "      <th>No_Players</th>\n",
       "    </tr>\n",
       "  </thead>\n",
       "  <tbody>\n",
       "    <tr>\n",
       "      <th>0</th>\n",
       "      <td>The Legend of Zelda: Ocarina of Time</td>\n",
       "      <td>1998</td>\n",
       "      <td>Nintendo</td>\n",
       "      <td>Action Adventure;Fantasy</td>\n",
       "      <td>Nintendo64</td>\n",
       "      <td>99.0</td>\n",
       "      <td>9.1</td>\n",
       "      <td>1 Player</td>\n",
       "    </tr>\n",
       "    <tr>\n",
       "      <th>1</th>\n",
       "      <td>Tony Hawk's Pro Skater 2</td>\n",
       "      <td>2000</td>\n",
       "      <td>NeversoftEntertainment</td>\n",
       "      <td>Sports;Alternative;Skateboarding</td>\n",
       "      <td>PlayStation</td>\n",
       "      <td>98.0</td>\n",
       "      <td>7.4</td>\n",
       "      <td>1-2</td>\n",
       "    </tr>\n",
       "    <tr>\n",
       "      <th>2</th>\n",
       "      <td>Grand Theft Auto IV</td>\n",
       "      <td>2008</td>\n",
       "      <td>RockstarNorth</td>\n",
       "      <td>Action Adventure;Modern;Modern;Open-World</td>\n",
       "      <td>PlayStation3</td>\n",
       "      <td>98.0</td>\n",
       "      <td>7.5</td>\n",
       "      <td>1 Player</td>\n",
       "    </tr>\n",
       "    <tr>\n",
       "      <th>3</th>\n",
       "      <td>SoulCalibur</td>\n",
       "      <td>1999</td>\n",
       "      <td>Namco</td>\n",
       "      <td>Action;Fighting;3D</td>\n",
       "      <td>Dreamcast</td>\n",
       "      <td>98.0</td>\n",
       "      <td>8.6</td>\n",
       "      <td>1-2</td>\n",
       "    </tr>\n",
       "    <tr>\n",
       "      <th>4</th>\n",
       "      <td>Grand Theft Auto IV</td>\n",
       "      <td>2008</td>\n",
       "      <td>RockstarNorth</td>\n",
       "      <td>Action Adventure;Modern;Modern;Open-World</td>\n",
       "      <td>Xbox360</td>\n",
       "      <td>98.0</td>\n",
       "      <td>7.9</td>\n",
       "      <td>1 Player</td>\n",
       "    </tr>\n",
       "  </tbody>\n",
       "</table>\n",
       "</div>"
      ],
      "text/plain": [
       "                                  Title  Year               Publisher  \\\n",
       "0  The Legend of Zelda: Ocarina of Time  1998                Nintendo   \n",
       "1              Tony Hawk's Pro Skater 2  2000  NeversoftEntertainment   \n",
       "2                   Grand Theft Auto IV  2008           RockstarNorth   \n",
       "3                           SoulCalibur  1999                   Namco   \n",
       "4                   Grand Theft Auto IV  2008           RockstarNorth   \n",
       "\n",
       "                                       Genre      Platform  Metascore  \\\n",
       "0                   Action Adventure;Fantasy    Nintendo64       99.0   \n",
       "1           Sports;Alternative;Skateboarding   PlayStation       98.0   \n",
       "2  Action Adventure;Modern;Modern;Open-World  PlayStation3       98.0   \n",
       "3                         Action;Fighting;3D     Dreamcast       98.0   \n",
       "4  Action Adventure;Modern;Modern;Open-World       Xbox360       98.0   \n",
       "\n",
       "   Avg_Userscore No_Players  \n",
       "0            9.1   1 Player  \n",
       "1            7.4       1-2   \n",
       "2            7.5   1 Player  \n",
       "3            8.6       1-2   \n",
       "4            7.9   1 Player  "
      ]
     },
     "execution_count": 174,
     "metadata": {},
     "output_type": "execute_result"
    }
   ],
   "source": [
    "gameInfo.head()"
   ]
  }
 ],
 "metadata": {
  "kernelspec": {
   "display_name": "Python 3",
   "language": "python",
   "name": "python3"
  },
  "language_info": {
   "codemirror_mode": {
    "name": "ipython",
    "version": 3
   },
   "file_extension": ".py",
   "mimetype": "text/x-python",
   "name": "python",
   "nbconvert_exporter": "python",
   "pygments_lexer": "ipython3",
   "version": "3.10.11"
  },
  "orig_nbformat": 4
 },
 "nbformat": 4,
 "nbformat_minor": 2
}
