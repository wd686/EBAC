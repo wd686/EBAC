{
 "cells": [
  {
   "cell_type": "markdown",
   "metadata": {},
   "source": [
    "### Import libraries and load datasets"
   ]
  },
  {
   "cell_type": "code",
   "execution_count": 96,
   "metadata": {},
   "outputs": [],
   "source": [
    "import pandas as pd\n",
    "import numpy as np\n",
    "import matplotlib.pyplot as plt\n",
    "import seaborn as sns\n",
    "import plotly.express as px\n",
    "\n",
    "from commonFunctions import hist, detailSummary\n",
    "\n",
    "pd.set_option('display.max_rows', None)\n",
    "pd.set_option('display.max_columns', None)"
   ]
  },
  {
   "cell_type": "markdown",
   "metadata": {},
   "source": [
    "### Load datasets"
   ]
  },
  {
   "cell_type": "code",
   "execution_count": 97,
   "metadata": {},
   "outputs": [
    {
     "name": "stderr",
     "output_type": "stream",
     "text": [
      "C:\\Users\\Michael\\AppData\\Local\\Temp\\ipykernel_13876\\3980805325.py:5: DtypeWarning:\n",
      "\n",
      "Columns (1,2,4,5) have mixed types. Specify dtype option on import or set low_memory=False.\n",
      "\n",
      "C:\\Users\\Michael\\AppData\\Local\\Temp\\ipykernel_13876\\3980805325.py:6: DtypeWarning:\n",
      "\n",
      "Columns (1,2,4,5) have mixed types. Specify dtype option on import or set low_memory=False.\n",
      "\n"
     ]
    }
   ],
   "source": [
    "# based on what columns we deem necessary, may need to rename df/ column names\n",
    "# need to choose the impt Score/ Rating/ metacritic Matrix defined to be from Beta testers (we've too many)\n",
    "# standardise release_date if it's impt\n",
    "\n",
    "userComments1 = pd.read_csv('../dataSources/videoGames/metacritic_game_user_comments (0-100k).csv')\n",
    "userComments2 = pd.read_csv('../dataSources/videoGames/metacritic_game_user_comments (100-200k).csv')\n",
    "userComments3 = pd.read_csv('../dataSources/videoGames/metacritic_game_user_comments (200-300k).csv')\n",
    "\n",
    "gameInfo = pd.read_csv('../dataSources/videoGames/metacritic_game_info.csv')\n",
    "ratingsAndReleaseDate = pd.read_csv('../dataSources/videoGames/updatedVGOutput.csv')\n",
    "gameScore = pd.read_excel('../dataSources/videoGames/metascore-video-games-1986-2023.xlsx', sheet_name='Sheet1')\n",
    "gameSales = pd.read_excel('../dataSources/videoGames/Video game sales - 2000 - 2020.xlsx', sheet_name= 'Sheet1')"
   ]
  },
  {
   "cell_type": "code",
   "execution_count": 98,
   "metadata": {},
   "outputs": [],
   "source": [
    "# userComments[~(userComments.Title.isin(gameSales.title))].groupby('Title').count().sort_values(by = 'Comment', ascending = False)"
   ]
  },
  {
   "cell_type": "code",
   "execution_count": 99,
   "metadata": {},
   "outputs": [
    {
     "name": "stdout",
     "output_type": "stream",
     "text": [
      "userComments1: Index(['Unnamed: 0', 'Title', 'Platform', 'Userscore', 'Comment', 'Username'], dtype='object')\n",
      "\n",
      "gameInfo:Index(['Unnamed: 0', 'Title', 'Year', 'Developer', 'Genre', 'Platform',\n",
      "       'Metascore', 'Avg_Userscore', 'No_Players', 'Platform1'],\n",
      "      dtype='object')\n",
      "\n",
      "ratingsAndReleaseDate: Index(['name', 'platform', 'platform1', 'user_rating', 'critic_rating',\n",
      "       'release_date', 'summary', 'description', 'metacritic'],\n",
      "      dtype='object')\n",
      "\n",
      "gameScore: Index(['no', 'name', 'platform', 'platform1', 'release_date', 'user_score',\n",
      "       'meta_score', 'summary'],\n",
      "      dtype='object')\n",
      "\n",
      "gameSales: Index(['title', 'platform', 'genre', 'publisher', 'vg_score', 'critic_score',\n",
      "       'user_score', 'total_shipped', 'aisan_sales', 'north_american_sales',\n",
      "       'japan_sales', 'european_sales', 'global_sales', 'Production Cost',\n",
      "       'release_year'],\n",
      "      dtype='object')\n"
     ]
    }
   ],
   "source": [
    "# can join via title/name\n",
    "print(f\"userComments1: {userComments1.columns}\\n\\ngameInfo:{gameInfo.columns}\\n\\nratingsAndReleaseDate: {ratingsAndReleaseDate.columns}\\n\\ngameScore: {gameScore.columns}\\n\\ngameSales: {gameSales.columns}\")"
   ]
  },
  {
   "cell_type": "code",
   "execution_count": 100,
   "metadata": {},
   "outputs": [
    {
     "data": {
      "text/html": [
       "<div>\n",
       "<style scoped>\n",
       "    .dataframe tbody tr th:only-of-type {\n",
       "        vertical-align: middle;\n",
       "    }\n",
       "\n",
       "    .dataframe tbody tr th {\n",
       "        vertical-align: top;\n",
       "    }\n",
       "\n",
       "    .dataframe thead th {\n",
       "        text-align: right;\n",
       "    }\n",
       "</style>\n",
       "<table border=\"1\" class=\"dataframe\">\n",
       "  <thead>\n",
       "    <tr style=\"text-align: right;\">\n",
       "      <th></th>\n",
       "      <th>Unnamed: 0</th>\n",
       "      <th>Title</th>\n",
       "      <th>Platform</th>\n",
       "      <th>Userscore</th>\n",
       "      <th>Comment</th>\n",
       "      <th>Username</th>\n",
       "    </tr>\n",
       "  </thead>\n",
       "  <tbody>\n",
       "    <tr>\n",
       "      <th>0</th>\n",
       "      <td>0.0</td>\n",
       "      <td>The Legend of Zelda: Ocarina of Time</td>\n",
       "      <td>Nintendo64</td>\n",
       "      <td>10.0</td>\n",
       "      <td>Everything in OoT is so near at perfection, it...</td>\n",
       "      <td>SirCaestus</td>\n",
       "    </tr>\n",
       "    <tr>\n",
       "      <th>1</th>\n",
       "      <td>1.0</td>\n",
       "      <td>The Legend of Zelda: Ocarina of Time</td>\n",
       "      <td>Nintendo64</td>\n",
       "      <td>10.0</td>\n",
       "      <td>I won't bore you with what everyone is already...</td>\n",
       "      <td>Kaistlin</td>\n",
       "    </tr>\n",
       "    <tr>\n",
       "      <th>2</th>\n",
       "      <td>2.0</td>\n",
       "      <td>The Legend of Zelda: Ocarina of Time</td>\n",
       "      <td>Nintendo64</td>\n",
       "      <td>10.0</td>\n",
       "      <td>Anyone who gives the masterpiece below a 7 or ...</td>\n",
       "      <td>Jacody</td>\n",
       "    </tr>\n",
       "    <tr>\n",
       "      <th>3</th>\n",
       "      <td>3.0</td>\n",
       "      <td>The Legend of Zelda: Ocarina of Time</td>\n",
       "      <td>Nintendo64</td>\n",
       "      <td>10.0</td>\n",
       "      <td>I'm one of those people who think that this is...</td>\n",
       "      <td>doodlerman</td>\n",
       "    </tr>\n",
       "    <tr>\n",
       "      <th>4</th>\n",
       "      <td>4.0</td>\n",
       "      <td>The Legend of Zelda: Ocarina of Time</td>\n",
       "      <td>Nintendo64</td>\n",
       "      <td>10.0</td>\n",
       "      <td>This game is the highest rated game on Metacr...</td>\n",
       "      <td>StevenA</td>\n",
       "    </tr>\n",
       "  </tbody>\n",
       "</table>\n",
       "</div>"
      ],
      "text/plain": [
       "   Unnamed: 0                                 Title    Platform  Userscore  \\\n",
       "0         0.0  The Legend of Zelda: Ocarina of Time  Nintendo64       10.0   \n",
       "1         1.0  The Legend of Zelda: Ocarina of Time  Nintendo64       10.0   \n",
       "2         2.0  The Legend of Zelda: Ocarina of Time  Nintendo64       10.0   \n",
       "3         3.0  The Legend of Zelda: Ocarina of Time  Nintendo64       10.0   \n",
       "4         4.0  The Legend of Zelda: Ocarina of Time  Nintendo64       10.0   \n",
       "\n",
       "                                             Comment    Username  \n",
       "0  Everything in OoT is so near at perfection, it...  SirCaestus  \n",
       "1  I won't bore you with what everyone is already...    Kaistlin  \n",
       "2  Anyone who gives the masterpiece below a 7 or ...      Jacody  \n",
       "3  I'm one of those people who think that this is...  doodlerman  \n",
       "4   This game is the highest rated game on Metacr...     StevenA  "
      ]
     },
     "execution_count": 100,
     "metadata": {},
     "output_type": "execute_result"
    }
   ],
   "source": [
    "# some users commented & gave rating more than once per game and platform (unique only when combine all cols)\n",
    "userComments1.head()"
   ]
  },
  {
   "cell_type": "code",
   "execution_count": 101,
   "metadata": {},
   "outputs": [
    {
     "data": {
      "text/html": [
       "<div>\n",
       "<style scoped>\n",
       "    .dataframe tbody tr th:only-of-type {\n",
       "        vertical-align: middle;\n",
       "    }\n",
       "\n",
       "    .dataframe tbody tr th {\n",
       "        vertical-align: top;\n",
       "    }\n",
       "\n",
       "    .dataframe thead th {\n",
       "        text-align: right;\n",
       "    }\n",
       "</style>\n",
       "<table border=\"1\" class=\"dataframe\">\n",
       "  <thead>\n",
       "    <tr style=\"text-align: right;\">\n",
       "      <th></th>\n",
       "      <th>Unnamed: 0</th>\n",
       "      <th>Title</th>\n",
       "      <th>Year</th>\n",
       "      <th>Developer</th>\n",
       "      <th>Genre</th>\n",
       "      <th>Platform</th>\n",
       "      <th>Metascore</th>\n",
       "      <th>Avg_Userscore</th>\n",
       "      <th>No_Players</th>\n",
       "      <th>Platform1</th>\n",
       "    </tr>\n",
       "  </thead>\n",
       "  <tbody>\n",
       "    <tr>\n",
       "      <th>0</th>\n",
       "      <td>3145</td>\n",
       "      <td>007  The World is not Enough</td>\n",
       "      <td>2000</td>\n",
       "      <td>EurocomEntertainmentSoftware</td>\n",
       "      <td>Action;Shooter;First-Person;Modern</td>\n",
       "      <td>Nintendo64</td>\n",
       "      <td>81</td>\n",
       "      <td>7.8</td>\n",
       "      <td>1-Apr</td>\n",
       "      <td>0</td>\n",
       "    </tr>\n",
       "    <tr>\n",
       "      <th>1</th>\n",
       "      <td>2589</td>\n",
       "      <td>10 Second Ninja X</td>\n",
       "      <td>2016</td>\n",
       "      <td>GameDesignDan</td>\n",
       "      <td>Action;Platformer;2D</td>\n",
       "      <td>XboxOne</td>\n",
       "      <td>82</td>\n",
       "      <td>4.5</td>\n",
       "      <td>not specified</td>\n",
       "      <td>0</td>\n",
       "    </tr>\n",
       "    <tr>\n",
       "      <th>2</th>\n",
       "      <td>4465</td>\n",
       "      <td>1001 Spikes</td>\n",
       "      <td>2014</td>\n",
       "      <td>Nicalis</td>\n",
       "      <td>Action;Platformer;Platformer;2D;2D</td>\n",
       "      <td>PlayStation4</td>\n",
       "      <td>78</td>\n",
       "      <td>6.6</td>\n",
       "      <td>not specified</td>\n",
       "      <td>PS4</td>\n",
       "    </tr>\n",
       "    <tr>\n",
       "      <th>3</th>\n",
       "      <td>3896</td>\n",
       "      <td>1701 A.D.</td>\n",
       "      <td>2006</td>\n",
       "      <td>RelatedDesigns</td>\n",
       "      <td>Strategy;Real-Time;Historic;General;Historic</td>\n",
       "      <td>PC</td>\n",
       "      <td>79</td>\n",
       "      <td>8.4</td>\n",
       "      <td>4  Online</td>\n",
       "      <td>PC</td>\n",
       "    </tr>\n",
       "    <tr>\n",
       "      <th>4</th>\n",
       "      <td>3716</td>\n",
       "      <td>1979 Revolution Black Friday</td>\n",
       "      <td>2016</td>\n",
       "      <td>N-FusionInteractiveEntertainmentCorp.,iNKStories</td>\n",
       "      <td>Adventure;General</td>\n",
       "      <td>PC</td>\n",
       "      <td>80</td>\n",
       "      <td>7.7</td>\n",
       "      <td>No Online Multiplayer</td>\n",
       "      <td>PC</td>\n",
       "    </tr>\n",
       "  </tbody>\n",
       "</table>\n",
       "</div>"
      ],
      "text/plain": [
       "   Unnamed: 0                         Title  Year  \\\n",
       "0        3145  007  The World is not Enough  2000   \n",
       "1        2589             10 Second Ninja X  2016   \n",
       "2        4465                   1001 Spikes  2014   \n",
       "3        3896                     1701 A.D.  2006   \n",
       "4        3716  1979 Revolution Black Friday  2016   \n",
       "\n",
       "                                          Developer  \\\n",
       "0                      EurocomEntertainmentSoftware   \n",
       "1                                     GameDesignDan   \n",
       "2                                           Nicalis   \n",
       "3                                    RelatedDesigns   \n",
       "4  N-FusionInteractiveEntertainmentCorp.,iNKStories   \n",
       "\n",
       "                                          Genre      Platform Metascore  \\\n",
       "0            Action;Shooter;First-Person;Modern    Nintendo64        81   \n",
       "1                          Action;Platformer;2D       XboxOne        82   \n",
       "2            Action;Platformer;Platformer;2D;2D  PlayStation4        78   \n",
       "3  Strategy;Real-Time;Historic;General;Historic            PC        79   \n",
       "4                             Adventure;General            PC        80   \n",
       "\n",
       "  Avg_Userscore             No_Players Platform1  \n",
       "0           7.8                  1-Apr         0  \n",
       "1           4.5          not specified         0  \n",
       "2           6.6          not specified       PS4  \n",
       "3           8.4              4  Online        PC  \n",
       "4           7.7  No Online Multiplayer        PC  "
      ]
     },
     "execution_count": 101,
     "metadata": {},
     "output_type": "execute_result"
    }
   ],
   "source": [
    "# (gameInfo.Title + gameInfo.Year.astype(str) + gameInfo.Publisher + gameInfo.Genre + gameInfo.Platform).nunique()\n",
    "gameInfo.head()"
   ]
  },
  {
   "cell_type": "code",
   "execution_count": 102,
   "metadata": {},
   "outputs": [
    {
     "data": {
      "text/html": [
       "<div>\n",
       "<style scoped>\n",
       "    .dataframe tbody tr th:only-of-type {\n",
       "        vertical-align: middle;\n",
       "    }\n",
       "\n",
       "    .dataframe tbody tr th {\n",
       "        vertical-align: top;\n",
       "    }\n",
       "\n",
       "    .dataframe thead th {\n",
       "        text-align: right;\n",
       "    }\n",
       "</style>\n",
       "<table border=\"1\" class=\"dataframe\">\n",
       "  <thead>\n",
       "    <tr style=\"text-align: right;\">\n",
       "      <th></th>\n",
       "      <th>name</th>\n",
       "      <th>platform</th>\n",
       "      <th>platform1</th>\n",
       "      <th>user_rating</th>\n",
       "      <th>critic_rating</th>\n",
       "      <th>release_date</th>\n",
       "      <th>summary</th>\n",
       "      <th>description</th>\n",
       "      <th>metacritic</th>\n",
       "    </tr>\n",
       "  </thead>\n",
       "  <tbody>\n",
       "    <tr>\n",
       "      <th>0</th>\n",
       "      <td>Full Throttle</td>\n",
       "      <td>PC</td>\n",
       "      <td>PC</td>\n",
       "      <td>8.5</td>\n",
       "      <td>86</td>\n",
       "      <td>April 30, 1995</td>\n",
       "      <td>You're Ben--beaten, framed for murder and left...</td>\n",
       "      <td>&lt;p&gt;One minute you&amp;#39;re on the road, riding. ...</td>\n",
       "      <td>86.0</td>\n",
       "    </tr>\n",
       "    <tr>\n",
       "      <th>1</th>\n",
       "      <td>Sid Meier's Civilization II</td>\n",
       "      <td>PC</td>\n",
       "      <td>PC</td>\n",
       "      <td>8.7</td>\n",
       "      <td>94</td>\n",
       "      <td>February 29, 1996</td>\n",
       "      <td>An empire-building turn-based strategy game. T...</td>\n",
       "      <td>&lt;p&gt;Make every critical social, economic and po...</td>\n",
       "      <td>94.0</td>\n",
       "    </tr>\n",
       "    <tr>\n",
       "      <th>2</th>\n",
       "      <td>Quake</td>\n",
       "      <td>PC</td>\n",
       "      <td>PC</td>\n",
       "      <td>8.8</td>\n",
       "      <td>94</td>\n",
       "      <td>June 22, 1996</td>\n",
       "      <td>Rage through 32 single player levels and 6 dea...</td>\n",
       "      <td>&lt;h3&gt;The roots&lt;/h3&gt;\\r\\n&lt;p&gt;One of the classic re...</td>\n",
       "      <td>94.0</td>\n",
       "    </tr>\n",
       "    <tr>\n",
       "      <th>3</th>\n",
       "      <td>Diablo</td>\n",
       "      <td>PC</td>\n",
       "      <td>PC</td>\n",
       "      <td>8.6</td>\n",
       "      <td>94</td>\n",
       "      <td>December 31, 1996</td>\n",
       "      <td>The kingdom of Khandaras has fallen into chaos...</td>\n",
       "      <td>&lt;p&gt;Traveler, stay awhile and listen...&lt;/p&gt;\\r\\n...</td>\n",
       "      <td>94.0</td>\n",
       "    </tr>\n",
       "    <tr>\n",
       "      <th>4</th>\n",
       "      <td>Super Mario 64</td>\n",
       "      <td>Nintendo 64</td>\n",
       "      <td>NaN</td>\n",
       "      <td>9.1</td>\n",
       "      <td>94</td>\n",
       "      <td>September 26, 1996</td>\n",
       "      <td>Mario is super in a whole new way! Combining t...</td>\n",
       "      <td>&lt;p&gt;Mario is super in a whole new way! Combinin...</td>\n",
       "      <td>94.0</td>\n",
       "    </tr>\n",
       "  </tbody>\n",
       "</table>\n",
       "</div>"
      ],
      "text/plain": [
       "                          name     platform platform1  user_rating  \\\n",
       "0                Full Throttle           PC        PC          8.5   \n",
       "1  Sid Meier's Civilization II           PC        PC          8.7   \n",
       "2                        Quake           PC        PC          8.8   \n",
       "3                       Diablo           PC        PC          8.6   \n",
       "4               Super Mario 64  Nintendo 64       NaN          9.1   \n",
       "\n",
       "   critic_rating        release_date  \\\n",
       "0             86      April 30, 1995   \n",
       "1             94   February 29, 1996   \n",
       "2             94       June 22, 1996   \n",
       "3             94   December 31, 1996   \n",
       "4             94  September 26, 1996   \n",
       "\n",
       "                                             summary  \\\n",
       "0  You're Ben--beaten, framed for murder and left...   \n",
       "1  An empire-building turn-based strategy game. T...   \n",
       "2  Rage through 32 single player levels and 6 dea...   \n",
       "3  The kingdom of Khandaras has fallen into chaos...   \n",
       "4  Mario is super in a whole new way! Combining t...   \n",
       "\n",
       "                                         description  metacritic  \n",
       "0  <p>One minute you&#39;re on the road, riding. ...        86.0  \n",
       "1  <p>Make every critical social, economic and po...        94.0  \n",
       "2  <h3>The roots</h3>\\r\\n<p>One of the classic re...        94.0  \n",
       "3  <p>Traveler, stay awhile and listen...</p>\\r\\n...        94.0  \n",
       "4  <p>Mario is super in a whole new way! Combinin...        94.0  "
      ]
     },
     "execution_count": 102,
     "metadata": {},
     "output_type": "execute_result"
    }
   ],
   "source": [
    "# ratingsAndReleaseDate.name.nunique()\n",
    "ratingsAndReleaseDate.head()\n",
    "# ratingsAndReleaseDate.shape = 209"
   ]
  },
  {
   "cell_type": "code",
   "execution_count": 103,
   "metadata": {},
   "outputs": [
    {
     "data": {
      "text/html": [
       "<div>\n",
       "<style scoped>\n",
       "    .dataframe tbody tr th:only-of-type {\n",
       "        vertical-align: middle;\n",
       "    }\n",
       "\n",
       "    .dataframe tbody tr th {\n",
       "        vertical-align: top;\n",
       "    }\n",
       "\n",
       "    .dataframe thead th {\n",
       "        text-align: right;\n",
       "    }\n",
       "</style>\n",
       "<table border=\"1\" class=\"dataframe\">\n",
       "  <thead>\n",
       "    <tr style=\"text-align: right;\">\n",
       "      <th></th>\n",
       "      <th>no</th>\n",
       "      <th>name</th>\n",
       "      <th>platform</th>\n",
       "      <th>platform1</th>\n",
       "      <th>release_date</th>\n",
       "      <th>user_score</th>\n",
       "      <th>meta_score</th>\n",
       "      <th>summary</th>\n",
       "    </tr>\n",
       "  </thead>\n",
       "  <tbody>\n",
       "    <tr>\n",
       "      <th>0</th>\n",
       "      <td>0</td>\n",
       "      <td>Like a Dragon: Ishin!</td>\n",
       "      <td>Xbox Series X</td>\n",
       "      <td>NaN</td>\n",
       "      <td>2023-02-18</td>\n",
       "      <td>NaN</td>\n",
       "      <td>80.0</td>\n",
       "      <td>1860s Kyo is plagued by widespread inequality,...</td>\n",
       "    </tr>\n",
       "    <tr>\n",
       "      <th>1</th>\n",
       "      <td>1</td>\n",
       "      <td>FinalFort</td>\n",
       "      <td>PC</td>\n",
       "      <td>PC</td>\n",
       "      <td>2023-02-18</td>\n",
       "      <td>NaN</td>\n",
       "      <td>NaN</td>\n",
       "      <td>You will be humanity's last hope, building a w...</td>\n",
       "    </tr>\n",
       "    <tr>\n",
       "      <th>2</th>\n",
       "      <td>2</td>\n",
       "      <td>Like a Dragon: Ishin!</td>\n",
       "      <td>Xbox One</td>\n",
       "      <td>NaN</td>\n",
       "      <td>2023-02-18</td>\n",
       "      <td>NaN</td>\n",
       "      <td>NaN</td>\n",
       "      <td>1860s Kyo is plagued by widespread inequality,...</td>\n",
       "    </tr>\n",
       "    <tr>\n",
       "      <th>3</th>\n",
       "      <td>3</td>\n",
       "      <td>Tales of Symphonia Remastered</td>\n",
       "      <td>PlayStation 4</td>\n",
       "      <td>PS4</td>\n",
       "      <td>2023-02-17</td>\n",
       "      <td>NaN</td>\n",
       "      <td>68.0</td>\n",
       "      <td>In a dying world, legend has it that a Chosen ...</td>\n",
       "    </tr>\n",
       "    <tr>\n",
       "      <th>4</th>\n",
       "      <td>4</td>\n",
       "      <td>Tales of Symphonia Remastered</td>\n",
       "      <td>Switch</td>\n",
       "      <td>0</td>\n",
       "      <td>2023-02-17</td>\n",
       "      <td>NaN</td>\n",
       "      <td>68.0</td>\n",
       "      <td>In a dying world, legend has it that a Chosen ...</td>\n",
       "    </tr>\n",
       "  </tbody>\n",
       "</table>\n",
       "</div>"
      ],
      "text/plain": [
       "   no                           name       platform platform1 release_date  \\\n",
       "0   0          Like a Dragon: Ishin!  Xbox Series X       NaN   2023-02-18   \n",
       "1   1                      FinalFort             PC        PC   2023-02-18   \n",
       "2   2          Like a Dragon: Ishin!       Xbox One       NaN   2023-02-18   \n",
       "3   3  Tales of Symphonia Remastered  PlayStation 4       PS4   2023-02-17   \n",
       "4   4  Tales of Symphonia Remastered         Switch         0   2023-02-17   \n",
       "\n",
       "   user_score  meta_score                                            summary  \n",
       "0         NaN        80.0  1860s Kyo is plagued by widespread inequality,...  \n",
       "1         NaN         NaN  You will be humanity's last hope, building a w...  \n",
       "2         NaN         NaN  1860s Kyo is plagued by widespread inequality,...  \n",
       "3         NaN        68.0  In a dying world, legend has it that a Chosen ...  \n",
       "4         NaN        68.0  In a dying world, legend has it that a Chosen ...  "
      ]
     },
     "execution_count": 103,
     "metadata": {},
     "output_type": "execute_result"
    }
   ],
   "source": [
    "gameScore.head()"
   ]
  },
  {
   "cell_type": "code",
   "execution_count": 104,
   "metadata": {},
   "outputs": [
    {
     "data": {
      "text/html": [
       "<div>\n",
       "<style scoped>\n",
       "    .dataframe tbody tr th:only-of-type {\n",
       "        vertical-align: middle;\n",
       "    }\n",
       "\n",
       "    .dataframe tbody tr th {\n",
       "        vertical-align: top;\n",
       "    }\n",
       "\n",
       "    .dataframe thead th {\n",
       "        text-align: right;\n",
       "    }\n",
       "</style>\n",
       "<table border=\"1\" class=\"dataframe\">\n",
       "  <thead>\n",
       "    <tr style=\"text-align: right;\">\n",
       "      <th></th>\n",
       "      <th>title</th>\n",
       "      <th>platform</th>\n",
       "      <th>genre</th>\n",
       "      <th>publisher</th>\n",
       "      <th>vg_score</th>\n",
       "      <th>critic_score</th>\n",
       "      <th>user_score</th>\n",
       "      <th>total_shipped</th>\n",
       "      <th>aisan_sales</th>\n",
       "      <th>north_american_sales</th>\n",
       "      <th>japan_sales</th>\n",
       "      <th>european_sales</th>\n",
       "      <th>global_sales</th>\n",
       "      <th>Production Cost</th>\n",
       "      <th>release_year</th>\n",
       "    </tr>\n",
       "  </thead>\n",
       "  <tbody>\n",
       "    <tr>\n",
       "      <th>0</th>\n",
       "      <td>(c 12) Final Resistance</td>\n",
       "      <td>PS</td>\n",
       "      <td>Shooter</td>\n",
       "      <td>IBM</td>\n",
       "      <td>1.0</td>\n",
       "      <td>6.5</td>\n",
       "      <td>4.0</td>\n",
       "      <td>8.0</td>\n",
       "      <td>5.08</td>\n",
       "      <td>1.10</td>\n",
       "      <td>5.70</td>\n",
       "      <td>3.54</td>\n",
       "      <td>15.42</td>\n",
       "      <td>1.98</td>\n",
       "      <td>2002</td>\n",
       "    </tr>\n",
       "    <tr>\n",
       "      <th>1</th>\n",
       "      <td>.hack  Sekai no Mukou ni   Versus</td>\n",
       "      <td>PS3</td>\n",
       "      <td>Fighting</td>\n",
       "      <td>IBM</td>\n",
       "      <td>6.0</td>\n",
       "      <td>10.0</td>\n",
       "      <td>6.0</td>\n",
       "      <td>269.0</td>\n",
       "      <td>3.00</td>\n",
       "      <td>1.86</td>\n",
       "      <td>0.03</td>\n",
       "      <td>6.43</td>\n",
       "      <td>8.35</td>\n",
       "      <td>3.34</td>\n",
       "      <td>2012</td>\n",
       "    </tr>\n",
       "    <tr>\n",
       "      <th>2</th>\n",
       "      <td>007  Quantum of Solace</td>\n",
       "      <td>PS2</td>\n",
       "      <td>Shooter</td>\n",
       "      <td>Activision</td>\n",
       "      <td>8.0</td>\n",
       "      <td>7.8</td>\n",
       "      <td>4.0</td>\n",
       "      <td>81.0</td>\n",
       "      <td>3.00</td>\n",
       "      <td>0.17</td>\n",
       "      <td>1.21</td>\n",
       "      <td>2.22</td>\n",
       "      <td>4.03</td>\n",
       "      <td>2.05</td>\n",
       "      <td>2008</td>\n",
       "    </tr>\n",
       "    <tr>\n",
       "      <th>3</th>\n",
       "      <td>007  Quantum of Solace</td>\n",
       "      <td>PS3</td>\n",
       "      <td>Shooter</td>\n",
       "      <td>Activision</td>\n",
       "      <td>3.0</td>\n",
       "      <td>6.6</td>\n",
       "      <td>10.0</td>\n",
       "      <td>158.0</td>\n",
       "      <td>1.14</td>\n",
       "      <td>0.43</td>\n",
       "      <td>0.02</td>\n",
       "      <td>0.51</td>\n",
       "      <td>2.10</td>\n",
       "      <td>1.19</td>\n",
       "      <td>2008</td>\n",
       "    </tr>\n",
       "    <tr>\n",
       "      <th>4</th>\n",
       "      <td>007  The World is not Enough</td>\n",
       "      <td>PS</td>\n",
       "      <td>Shooter</td>\n",
       "      <td>Electronic Arts</td>\n",
       "      <td>1.0</td>\n",
       "      <td>6.4</td>\n",
       "      <td>1.0</td>\n",
       "      <td>240.0</td>\n",
       "      <td>3.00</td>\n",
       "      <td>0.51</td>\n",
       "      <td>3.75</td>\n",
       "      <td>0.35</td>\n",
       "      <td>5.53</td>\n",
       "      <td>1.50</td>\n",
       "      <td>2000</td>\n",
       "    </tr>\n",
       "  </tbody>\n",
       "</table>\n",
       "</div>"
      ],
      "text/plain": [
       "                               title platform     genre        publisher  \\\n",
       "0            (c 12) Final Resistance       PS   Shooter              IBM   \n",
       "1  .hack  Sekai no Mukou ni   Versus      PS3  Fighting              IBM   \n",
       "2             007  Quantum of Solace      PS2   Shooter       Activision   \n",
       "3             007  Quantum of Solace      PS3   Shooter       Activision   \n",
       "4       007  The World is not Enough       PS   Shooter  Electronic Arts   \n",
       "\n",
       "   vg_score  critic_score  user_score  total_shipped  aisan_sales  \\\n",
       "0       1.0           6.5         4.0            8.0         5.08   \n",
       "1       6.0          10.0         6.0          269.0         3.00   \n",
       "2       8.0           7.8         4.0           81.0         3.00   \n",
       "3       3.0           6.6        10.0          158.0         1.14   \n",
       "4       1.0           6.4         1.0          240.0         3.00   \n",
       "\n",
       "   north_american_sales  japan_sales  european_sales  global_sales  \\\n",
       "0                  1.10         5.70            3.54         15.42   \n",
       "1                  1.86         0.03            6.43          8.35   \n",
       "2                  0.17         1.21            2.22          4.03   \n",
       "3                  0.43         0.02            0.51          2.10   \n",
       "4                  0.51         3.75            0.35          5.53   \n",
       "\n",
       "   Production Cost  release_year  \n",
       "0             1.98          2002  \n",
       "1             3.34          2012  \n",
       "2             2.05          2008  \n",
       "3             1.19          2008  \n",
       "4             1.50          2000  "
      ]
     },
     "execution_count": 104,
     "metadata": {},
     "output_type": "execute_result"
    }
   ],
   "source": [
    "gameSales.head()"
   ]
  },
  {
   "cell_type": "markdown",
   "metadata": {},
   "source": [
    "### userComments"
   ]
  },
  {
   "cell_type": "code",
   "execution_count": 105,
   "metadata": {},
   "outputs": [],
   "source": [
    "# userComments.groupby('Title').first().sort_values(by = 'Title').reset_index()"
   ]
  },
  {
   "cell_type": "code",
   "execution_count": 106,
   "metadata": {},
   "outputs": [],
   "source": [
    "userComments3['Unnamed: 0'] = userComments3['Unnamed: 0'].astype('float64')\n",
    "userComments3['Userscore'] = userComments3['Userscore'].astype('float64')\n",
    "\n",
    "userComments = pd.concat([userComments1, userComments2, userComments3], axis = 0)\n",
    "userComments.drop(columns = 'Unnamed: 0', inplace = True)\n",
    "userComments.dropna(how = 'all', inplace = True)"
   ]
  },
  {
   "cell_type": "code",
   "execution_count": 107,
   "metadata": {},
   "outputs": [
    {
     "name": "stdout",
     "output_type": "stream",
     "text": [
      "<class 'pandas.core.frame.DataFrame'>\n",
      "Int64Index: 283983 entries, 0 to 83981\n",
      "Data columns (total 5 columns):\n",
      " #   Column     Non-Null Count   Dtype  \n",
      "---  ------     --------------   -----  \n",
      " 0   Title      283983 non-null  object \n",
      " 1   Platform   283983 non-null  object \n",
      " 2   Userscore  283983 non-null  float64\n",
      " 3   Comment    283960 non-null  object \n",
      " 4   Username   283980 non-null  object \n",
      "dtypes: float64(1), object(4)\n",
      "memory usage: 13.0+ MB\n"
     ]
    }
   ],
   "source": [
    "# Comments >> 23 missing entries\n",
    "# Username   >> 3 missing entries\n",
    "userComments.info()"
   ]
  },
  {
   "cell_type": "code",
   "execution_count": 108,
   "metadata": {},
   "outputs": [
    {
     "data": {
      "text/html": [
       "<div>\n",
       "<style scoped>\n",
       "    .dataframe tbody tr th:only-of-type {\n",
       "        vertical-align: middle;\n",
       "    }\n",
       "\n",
       "    .dataframe tbody tr th {\n",
       "        vertical-align: top;\n",
       "    }\n",
       "\n",
       "    .dataframe thead th {\n",
       "        text-align: right;\n",
       "    }\n",
       "</style>\n",
       "<table border=\"1\" class=\"dataframe\">\n",
       "  <thead>\n",
       "    <tr style=\"text-align: right;\">\n",
       "      <th></th>\n",
       "      <th>Userscore</th>\n",
       "    </tr>\n",
       "  </thead>\n",
       "  <tbody>\n",
       "    <tr>\n",
       "      <th>count</th>\n",
       "      <td>283983.000000</td>\n",
       "    </tr>\n",
       "    <tr>\n",
       "      <th>mean</th>\n",
       "      <td>7.618308</td>\n",
       "    </tr>\n",
       "    <tr>\n",
       "      <th>std</th>\n",
       "      <td>3.131767</td>\n",
       "    </tr>\n",
       "    <tr>\n",
       "      <th>min</th>\n",
       "      <td>0.000000</td>\n",
       "    </tr>\n",
       "    <tr>\n",
       "      <th>25%</th>\n",
       "      <td>7.000000</td>\n",
       "    </tr>\n",
       "    <tr>\n",
       "      <th>50%</th>\n",
       "      <td>9.000000</td>\n",
       "    </tr>\n",
       "    <tr>\n",
       "      <th>75%</th>\n",
       "      <td>10.000000</td>\n",
       "    </tr>\n",
       "    <tr>\n",
       "      <th>max</th>\n",
       "      <td>10.000000</td>\n",
       "    </tr>\n",
       "  </tbody>\n",
       "</table>\n",
       "</div>"
      ],
      "text/plain": [
       "           Userscore\n",
       "count  283983.000000\n",
       "mean        7.618308\n",
       "std         3.131767\n",
       "min         0.000000\n",
       "25%         7.000000\n",
       "50%         9.000000\n",
       "75%        10.000000\n",
       "max        10.000000"
      ]
     },
     "execution_count": 108,
     "metadata": {},
     "output_type": "execute_result"
    }
   ],
   "source": [
    "userComments.describe()"
   ]
  },
  {
   "cell_type": "code",
   "execution_count": 109,
   "metadata": {},
   "outputs": [
    {
     "data": {
      "image/png": "[encoded data removed]",
      "text/plain": [
       "<Figure size 640x480 with 1 Axes>"
      ]
     },
     "metadata": {},
     "output_type": "display_data"
    }
   ],
   "source": [
    "hist(userComments, 'Userscore')"
   ]
  },
  {
   "cell_type": "code",
   "execution_count": 110,
   "metadata": {},
   "outputs": [
    {
     "data": {
      "text/html": [
       "<div>\n",
       "<style scoped>\n",
       "    .dataframe tbody tr th:only-of-type {\n",
       "        vertical-align: middle;\n",
       "    }\n",
       "\n",
       "    .dataframe tbody tr th {\n",
       "        vertical-align: top;\n",
       "    }\n",
       "\n",
       "    .dataframe thead th {\n",
       "        text-align: right;\n",
       "    }\n",
       "</style>\n",
       "<table border=\"1\" class=\"dataframe\">\n",
       "  <thead>\n",
       "    <tr style=\"text-align: right;\">\n",
       "      <th></th>\n",
       "      <th>Title</th>\n",
       "      <th>Platform</th>\n",
       "      <th>Userscore</th>\n",
       "      <th>Comment</th>\n",
       "      <th>Username</th>\n",
       "    </tr>\n",
       "  </thead>\n",
       "  <tbody>\n",
       "    <tr>\n",
       "      <th>1733</th>\n",
       "      <td>Grand Theft Auto IV</td>\n",
       "      <td>Xbox360</td>\n",
       "      <td>2.0</td>\n",
       "      <td>This game is redundant in the worst way. It's...</td>\n",
       "      <td>MattE</td>\n",
       "    </tr>\n",
       "    <tr>\n",
       "      <th>39573</th>\n",
       "      <td>Diablo III</td>\n",
       "      <td>PC</td>\n",
       "      <td>4.0</td>\n",
       "      <td>Gave it a 4 because it provided a decent amoun...</td>\n",
       "      <td>Kilmeister</td>\n",
       "    </tr>\n",
       "    <tr>\n",
       "      <th>82636</th>\n",
       "      <td>Disney Infinity 3.0 Edition</td>\n",
       "      <td>PlayStation4</td>\n",
       "      <td>8.0</td>\n",
       "      <td>this is my first infinity game. the game and p...</td>\n",
       "      <td>hobieone</td>\n",
       "    </tr>\n",
       "    <tr>\n",
       "      <th>30179</th>\n",
       "      <td>Call of Duty: Black Ops II</td>\n",
       "      <td>Xbox360</td>\n",
       "      <td>9.0</td>\n",
       "      <td>What is wrong with you people? this game is Gr...</td>\n",
       "      <td>ATOMB</td>\n",
       "    </tr>\n",
       "    <tr>\n",
       "      <th>82681</th>\n",
       "      <td>Fez</td>\n",
       "      <td>PC</td>\n",
       "      <td>9.0</td>\n",
       "      <td>Un très bon jeu vraiment surprenant qui mêle h...</td>\n",
       "      <td>kiraa44</td>\n",
       "    </tr>\n",
       "    <tr>\n",
       "      <th>63229</th>\n",
       "      <td>The Sims Bustin' Out</td>\n",
       "      <td>PlayStation2</td>\n",
       "      <td>10.0</td>\n",
       "      <td>I love the Sims, and I started this game chee...</td>\n",
       "      <td>TonyaJ.</td>\n",
       "    </tr>\n",
       "    <tr>\n",
       "      <th>41895</th>\n",
       "      <td>Counter-Strike: Global Offensive</td>\n",
       "      <td>PC</td>\n",
       "      <td>8.0</td>\n",
       "      <td>While I haven't played a full game of 1.6 yet ...</td>\n",
       "      <td>RebornNightmare</td>\n",
       "    </tr>\n",
       "    <tr>\n",
       "      <th>41901</th>\n",
       "      <td>Diablo III</td>\n",
       "      <td>PC</td>\n",
       "      <td>7.0</td>\n",
       "      <td>How does a person write a good review without ...</td>\n",
       "      <td>opensauce</td>\n",
       "    </tr>\n",
       "    <tr>\n",
       "      <th>48303</th>\n",
       "      <td>The Witcher 2: Assassins of Kings</td>\n",
       "      <td>PC</td>\n",
       "      <td>10.0</td>\n",
       "      <td>this game really deserves a 9.5 but it rounds ...</td>\n",
       "      <td>imawsome722</td>\n",
       "    </tr>\n",
       "    <tr>\n",
       "      <th>66860</th>\n",
       "      <td>Madden NFL 19</td>\n",
       "      <td>XboxOne</td>\n",
       "      <td>9.0</td>\n",
       "      <td>This is the best madden in 5 years. There is a...</td>\n",
       "      <td>beamabrian1</td>\n",
       "    </tr>\n",
       "  </tbody>\n",
       "</table>\n",
       "</div>"
      ],
      "text/plain": [
       "                                   Title      Platform  Userscore  \\\n",
       "1733                 Grand Theft Auto IV       Xbox360        2.0   \n",
       "39573                         Diablo III            PC        4.0   \n",
       "82636        Disney Infinity 3.0 Edition  PlayStation4        8.0   \n",
       "30179         Call of Duty: Black Ops II       Xbox360        9.0   \n",
       "82681                                Fez            PC        9.0   \n",
       "63229               The Sims Bustin' Out  PlayStation2       10.0   \n",
       "41895   Counter-Strike: Global Offensive            PC        8.0   \n",
       "41901                         Diablo III            PC        7.0   \n",
       "48303  The Witcher 2: Assassins of Kings            PC       10.0   \n",
       "66860                      Madden NFL 19       XboxOne        9.0   \n",
       "\n",
       "                                                 Comment         Username  \n",
       "1733    This game is redundant in the worst way. It's...            MattE  \n",
       "39573  Gave it a 4 because it provided a decent amoun...       Kilmeister  \n",
       "82636  this is my first infinity game. the game and p...         hobieone  \n",
       "30179  What is wrong with you people? this game is Gr...            ATOMB  \n",
       "82681  Un très bon jeu vraiment surprenant qui mêle h...          kiraa44  \n",
       "63229   I love the Sims, and I started this game chee...          TonyaJ.  \n",
       "41895  While I haven't played a full game of 1.6 yet ...  RebornNightmare  \n",
       "41901  How does a person write a good review without ...        opensauce  \n",
       "48303  this game really deserves a 9.5 but it rounds ...      imawsome722  \n",
       "66860  This is the best madden in 5 years. There is a...      beamabrian1  "
      ]
     },
     "execution_count": 110,
     "metadata": {},
     "output_type": "execute_result"
    }
   ],
   "source": [
    "userComments.sample(10)"
   ]
  },
  {
   "cell_type": "code",
   "execution_count": 111,
   "metadata": {},
   "outputs": [
    {
     "data": {
      "text/plain": [
       "(283983, 5)"
      ]
     },
     "execution_count": 111,
     "metadata": {},
     "output_type": "execute_result"
    }
   ],
   "source": [
    "userComments.shape"
   ]
  },
  {
   "cell_type": "code",
   "execution_count": 112,
   "metadata": {},
   "outputs": [
    {
     "data": {
      "text/plain": [
       "281300"
      ]
     },
     "execution_count": 112,
     "metadata": {},
     "output_type": "execute_result"
    }
   ],
   "source": [
    "# some users commented & gave rating more than once per game and platform\n",
    "(userComments.Title + userComments.Platform + userComments.Username).nunique()"
   ]
  },
  {
   "cell_type": "code",
   "execution_count": 113,
   "metadata": {},
   "outputs": [],
   "source": [
    "df = userComments.copy()\n",
    "platformList = df.groupby('Platform')['Comment'].count().reset_index().sort_values(by = 'Comment', ascending = False).head(6).Platform.to_list()\n",
    "df = userComments[userComments.Platform.isin(platformList)]"
   ]
  },
  {
   "cell_type": "code",
   "execution_count": 114,
   "metadata": {},
   "outputs": [
    {
     "data": {
      "image/png": "[encoded data removed]",
      "text/plain": [
       "<Figure size 900x600 with 6 Axes>"
      ]
     },
     "metadata": {},
     "output_type": "display_data"
    }
   ],
   "source": [
    "# Create a facet grid with Seaborn\n",
    "g = sns.FacetGrid(df, col='Platform', col_wrap=3)\n",
    "g.map(sns.histplot, 'Userscore', kde=False)\n",
    "\n",
    "# Add labels for mean, median, SD, and IQR\n",
    "for platform, ax in zip(df['Platform'].unique(), g.axes):\n",
    "    platform_data = df[df['Platform'] == platform]['Userscore']\n",
    "    mean = platform_data.mean()\n",
    "    median = platform_data.median()\n",
    "    std_dev = platform_data.std()\n",
    "    iqr = platform_data.quantile(0.75) - platform_data.quantile(0.25)\n",
    "    \n",
    "    ax.axvline(mean, color='red', linestyle='dashed', label=f'Mean: {mean:.2f}')\n",
    "    ax.axvline(std_dev, color='green', linestyle='dashed', alpha= 0, label=f'SD: {std_dev:.2f}')\n",
    "    ax.axvline(median, color='blue', linestyle='dashed', label=f'Median: {median:.2f}')\n",
    "    ax.axvline(iqr, color='orange', linestyle='dashed', alpha = 0, label=f'IQR: {iqr:.2f}')\n",
    "    ax.legend()\n",
    "\n",
    "# Adjust plot aesthetics\n",
    "g.set_axis_labels('Userscore', '')\n",
    "g.fig.suptitle('Distribution of Userscores by Platform (Most Popular 6)', fontsize=16)\n",
    "g.set(ylim=(0, None))\n",
    "\n",
    "# Show the plot\n",
    "plt.subplots_adjust(top=0.85)\n",
    "plt.show()\n",
    "\n",
    "# distribution of userscores are generally similar across various platforms (join by just title with MAIN?)"
   ]
  },
  {
   "cell_type": "code",
   "execution_count": 115,
   "metadata": {},
   "outputs": [],
   "source": [
    "title_counts = userComments.groupby('Title')['Comment'].count().reset_index().sort_values(by = 'Comment', ascending = False).head(10)\n",
    "title_platform_counts = userComments.groupby(['Title', 'Platform'])['Comment'].count().reset_index()\n",
    "title_platform_counts = pd.merge(title_counts[['Title']], title_platform_counts, how = 'left', on = 'Title')\n",
    "\n",
    "df = title_platform_counts.copy()"
   ]
  },
  {
   "cell_type": "code",
   "execution_count": 116,
   "metadata": {},
   "outputs": [
    {
     "data": {
      "image/png": "[encoded data removed]",
      "text/plain": [
       "<Figure size 1000x800 with 1 Axes>"
      ]
     },
     "metadata": {},
     "output_type": "display_data"
    }
   ],
   "source": [
    "# Pivot the data to create a DataFrame suitable for a stacked bar chart\n",
    "pivot_df = df.pivot(index='Title', columns='Platform', values='Comment')\n",
    "\n",
    "# Sort by the total number of comments in descending order\n",
    "sorted_titles = pivot_df.sum(axis=1).sort_values().index\n",
    "pivot_df = pivot_df.loc[sorted_titles]\n",
    "\n",
    "# Sort platforms by the total number of comments\n",
    "sorted_platforms = pivot_df.sum().sort_values(ascending=False).index\n",
    "pivot_df = pivot_df[sorted_platforms]\n",
    "\n",
    "# Create a figure and axis\n",
    "fig, ax = plt.subplots(figsize=(10, 8))\n",
    "\n",
    "# Use a Seaborn color palette for better colors\n",
    "colors = sns.color_palette(\"Set3\", n_colors=len(pivot_df.columns))\n",
    "\n",
    "# Plot the stacked bar chart\n",
    "bars = pivot_df.plot(kind='barh', stacked=True, color=colors, alpha=0.8, ax=ax)\n",
    "\n",
    "ax.set_xlabel('Number of Comments', fontsize=12)\n",
    "ax.set_ylabel('Title', fontsize=12)\n",
    "ax.set_title('Top 10 Most Commented Games (By Platform)', fontsize=14)\n",
    "ax.spines[['right', 'top']].set_visible(False)\n",
    "\n",
    "# Add data labels to the bars\n",
    "for container in bars.containers:\n",
    "    ax.bar_label(container, fmt='%.0f', label_type='center', fontsize=10, color='black')\n",
    "\n",
    "# Add legends\n",
    "ax.legend(loc='upper left', bbox_to_anchor=(0.99, 1), labels=sorted_platforms, fontsize=10)\n",
    "\n",
    "plt.tight_layout()\n",
    "plt.show()\n",
    "\n",
    "# there are uneven distribution of platform comments per game (but that does not mean that within each platform, the comment sentiments are different) ..\n",
    "# .. should we generalise that the comments are similar per platform (then join by just title with MAIN?)\n"
   ]
  },
  {
   "cell_type": "code",
   "execution_count": 117,
   "metadata": {},
   "outputs": [],
   "source": [
    "df = userComments.copy()\n",
    "noOfComments = df.groupby(['Username', 'Title']).count().reset_index()\n",
    "noOfComments.drop(columns = ['Platform', 'Userscore'], inplace = True)\n",
    "noOfComments['Comment'] = noOfComments.Comment.astype('string')\n",
    "df = noOfComments.copy()"
   ]
  },
  {
   "cell_type": "code",
   "execution_count": 118,
   "metadata": {},
   "outputs": [
    {
     "data": {
      "application/vnd.plotly.v1+json": {
       "config": {
        "plotlyServerURL": "https://plot.ly"
       },
       "data": [
        {
         "branchvalues": "total",
         "customdata": [
          [
           0.007586074856496751
          ],
          [
           98.01786701249536
          ],
          [
           0.0003612416598331786
          ],
          [
           0.0003612416598331786
          ],
          [
           0.0007224833196663572
          ],
          [
           0.0003612416598331786
          ],
          [
           0.0007224833196663572
          ],
          [
           0.0007224833196663572
          ],
          [
           0.0003612416598331786
          ],
          [
           0.0003612416598331786
          ],
          [
           0.0003612416598331786
          ],
          [
           0.0010837249794995358
          ],
          [
           1.7014482178142714
          ],
          [
           0.0003612416598331786
          ],
          [
           0.0007224833196663572
          ],
          [
           0.0007224833196663572
          ],
          [
           0.0003612416598331786
          ],
          [
           0.0003612416598331786
          ],
          [
           0.23552956221123247
          ],
          [
           0.0007224833196663572
          ],
          [
           0.0003612416598331786
          ],
          [
           0.010837249794995358
          ],
          [
           0.0003612416598331786
          ],
          [
           0.007947316516329928
          ],
          [
           0.0003612416598331786
          ],
          [
           0.0003612416598331786
          ],
          [
           0.0003612416598331786
          ],
          [
           0.0028899332786654288
          ],
          [
           0.003612416598331786
          ],
          [
           0.0007224833196663572
          ],
          [
           0.0007224833196663572
          ],
          [
           0.0003612416598331786
          ]
         ],
         "domain": {
          "x": [
           0,
           1
          ],
          "y": [
           0,
           1
          ]
         },
         "hovertemplate": "labels=%{label}<br>Percentage=%{customdata[0]}<br>parent=%{parent}<br>id=%{id}<extra></extra>",
         "ids": [
          "0",
          "1",
          "10",
          "107",
          "11",
          "12",
          "13",
          "14",
          "15",
          "16",
          "17",
          "19",
          "2",
          "20",
          "21",
          "22",
          "26",
          "29",
          "3",
          "31",
          "32",
          "4",
          "42",
          "5",
          "51",
          "52",
          "55",
          "6",
          "7",
          "8",
          "9",
          "98"
         ],
         "labels": [
          "0",
          "1",
          "10",
          "107",
          "11",
          "12",
          "13",
          "14",
          "15",
          "16",
          "17",
          "19",
          "2",
          "20",
          "21",
          "22",
          "26",
          "29",
          "3",
          "31",
          "32",
          "4",
          "42",
          "5",
          "51",
          "52",
          "55",
          "6",
          "7",
          "8",
          "9",
          "98"
         ],
         "name": "",
         "parents": [
          "",
          "",
          "",
          "",
          "",
          "",
          "",
          "",
          "",
          "",
          "",
          "",
          "",
          "",
          "",
          "",
          "",
          "",
          "",
          "",
          "",
          "",
          "",
          "",
          "",
          "",
          "",
          "",
          "",
          "",
          "",
          ""
         ],
         "textinfo": "label+percent parent",
         "type": "treemap",
         "values": [
          0.007586074856496751,
          98.01786701249536,
          0.0003612416598331786,
          0.0003612416598331786,
          0.0007224833196663572,
          0.0003612416598331786,
          0.0007224833196663572,
          0.0007224833196663572,
          0.0003612416598331786,
          0.0003612416598331786,
          0.0003612416598331786,
          0.0010837249794995358,
          1.7014482178142714,
          0.0003612416598331786,
          0.0007224833196663572,
          0.0007224833196663572,
          0.0003612416598331786,
          0.0003612416598331786,
          0.23552956221123247,
          0.0007224833196663572,
          0.0003612416598331786,
          0.010837249794995358,
          0.0003612416598331786,
          0.007947316516329928,
          0.0003612416598331786,
          0.0003612416598331786,
          0.0003612416598331786,
          0.0028899332786654288,
          0.003612416598331786,
          0.0007224833196663572,
          0.0007224833196663572,
          0.0003612416598331786
         ]
        }
       ],
       "layout": {
        "height": 400,
        "hoverlabel": {
         "bgcolor": "white",
         "font": {
          "size": 14
         }
        },
        "legend": {
         "tracegroupgap": 0
        },
        "margin": {
         "b": 0,
         "l": 0,
         "r": 0,
         "t": 40
        },
        "template": {
         "data": {
          "bar": [
           {
            "error_x": {
             "color": "#2a3f5f"
            },
            "error_y": {
             "color": "#2a3f5f"
            },
            "marker": {
             "line": {
              "color": "#E5ECF6",
              "width": 0.5
             },
             "pattern": {
              "fillmode": "overlay",
              "size": 10,
              "solidity": 0.2
             }
            },
            "type": "bar"
           }
          ],
          "barpolar": [
           {
            "marker": {
             "line": {
              "color": "#E5ECF6",
              "width": 0.5
             },
             "pattern": {
              "fillmode": "overlay",
              "size": 10,
              "solidity": 0.2
             }
            },
            "type": "barpolar"
           }
          ],
          "carpet": [
           {
            "aaxis": {
             "endlinecolor": "#2a3f5f",
             "gridcolor": "white",
             "linecolor": "white",
             "minorgridcolor": "white",
             "startlinecolor": "#2a3f5f"
            },
            "baxis": {
             "endlinecolor": "#2a3f5f",
             "gridcolor": "white",
             "linecolor": "white",
             "minorgridcolor": "white",
             "startlinecolor": "#2a3f5f"
            },
            "type": "carpet"
           }
          ],
          "choropleth": [
           {
            "colorbar": {
             "outlinewidth": 0,
             "ticks": ""
            },
            "type": "choropleth"
           }
          ],
          "contour": [
           {
            "colorbar": {
             "outlinewidth": 0,
             "ticks": ""
            },
            "colorscale": [
             [
              0,
              "#0d0887"
             ],
             [
              0.1111111111111111,
              "#46039f"
             ],
             [
              0.2222222222222222,
              "#7201a8"
             ],
             [
              0.3333333333333333,
              "#9c179e"
             ],
             [
              0.4444444444444444,
              "#bd3786"
             ],
             [
              0.5555555555555556,
              "#d8576b"
             ],
             [
              0.6666666666666666,
              "#ed7953"
             ],
             [
              0.7777777777777778,
              "#fb9f3a"
             ],
             [
              0.8888888888888888,
              "#fdca26"
             ],
             [
              1,
              "#f0f921"
             ]
            ],
            "type": "contour"
           }
          ],
          "contourcarpet": [
           {
            "colorbar": {
             "outlinewidth": 0,
             "ticks": ""
            },
            "type": "contourcarpet"
           }
          ],
          "heatmap": [
           {
            "colorbar": {
             "outlinewidth": 0,
             "ticks": ""
            },
            "colorscale": [
             [
              0,
              "#0d0887"
             ],
             [
              0.1111111111111111,
              "#46039f"
             ],
             [
              0.2222222222222222,
              "#7201a8"
             ],
             [
              0.3333333333333333,
              "#9c179e"
             ],
             [
              0.4444444444444444,
              "#bd3786"
             ],
             [
              0.5555555555555556,
              "#d8576b"
             ],
             [
              0.6666666666666666,
              "#ed7953"
             ],
             [
              0.7777777777777778,
              "#fb9f3a"
             ],
             [
              0.8888888888888888,
              "#fdca26"
             ],
             [
              1,
              "#f0f921"
             ]
            ],
            "type": "heatmap"
           }
          ],
          "heatmapgl": [
           {
            "colorbar": {
             "outlinewidth": 0,
             "ticks": ""
            },
            "colorscale": [
             [
              0,
              "#0d0887"
             ],
             [
              0.1111111111111111,
              "#46039f"
             ],
             [
              0.2222222222222222,
              "#7201a8"
             ],
             [
              0.3333333333333333,
              "#9c179e"
             ],
             [
              0.4444444444444444,
              "#bd3786"
             ],
             [
              0.5555555555555556,
              "#d8576b"
             ],
             [
              0.6666666666666666,
              "#ed7953"
             ],
             [
              0.7777777777777778,
              "#fb9f3a"
             ],
             [
              0.8888888888888888,
              "#fdca26"
             ],
             [
              1,
              "#f0f921"
             ]
            ],
            "type": "heatmapgl"
           }
          ],
          "histogram": [
           {
            "marker": {
             "pattern": {
              "fillmode": "overlay",
              "size": 10,
              "solidity": 0.2
             }
            },
            "type": "histogram"
           }
          ],
          "histogram2d": [
           {
            "colorbar": {
             "outlinewidth": 0,
             "ticks": ""
            },
            "colorscale": [
             [
              0,
              "#0d0887"
             ],
             [
              0.1111111111111111,
              "#46039f"
             ],
             [
              0.2222222222222222,
              "#7201a8"
             ],
             [
              0.3333333333333333,
              "#9c179e"
             ],
             [
              0.4444444444444444,
              "#bd3786"
             ],
             [
              0.5555555555555556,
              "#d8576b"
             ],
             [
              0.6666666666666666,
              "#ed7953"
             ],
             [
              0.7777777777777778,
              "#fb9f3a"
             ],
             [
              0.8888888888888888,
              "#fdca26"
             ],
             [
              1,
              "#f0f921"
             ]
            ],
            "type": "histogram2d"
           }
          ],
          "histogram2dcontour": [
           {
            "colorbar": {
             "outlinewidth": 0,
             "ticks": ""
            },
            "colorscale": [
             [
              0,
              "#0d0887"
             ],
             [
              0.1111111111111111,
              "#46039f"
             ],
             [
              0.2222222222222222,
              "#7201a8"
             ],
             [
              0.3333333333333333,
              "#9c179e"
             ],
             [
              0.4444444444444444,
              "#bd3786"
             ],
             [
              0.5555555555555556,
              "#d8576b"
             ],
             [
              0.6666666666666666,
              "#ed7953"
             ],
             [
              0.7777777777777778,
              "#fb9f3a"
             ],
             [
              0.8888888888888888,
              "#fdca26"
             ],
             [
              1,
              "#f0f921"
             ]
            ],
            "type": "histogram2dcontour"
           }
          ],
          "mesh3d": [
           {
            "colorbar": {
             "outlinewidth": 0,
             "ticks": ""
            },
            "type": "mesh3d"
           }
          ],
          "parcoords": [
           {
            "line": {
             "colorbar": {
              "outlinewidth": 0,
              "ticks": ""
             }
            },
            "type": "parcoords"
           }
          ],
          "pie": [
           {
            "automargin": true,
            "type": "pie"
           }
          ],
          "scatter": [
           {
            "fillpattern": {
             "fillmode": "overlay",
             "size": 10,
             "solidity": 0.2
            },
            "type": "scatter"
           }
          ],
          "scatter3d": [
           {
            "line": {
             "colorbar": {
              "outlinewidth": 0,
              "ticks": ""
             }
            },
            "marker": {
             "colorbar": {
              "outlinewidth": 0,
              "ticks": ""
             }
            },
            "type": "scatter3d"
           }
          ],
          "scattercarpet": [
           {
            "marker": {
             "colorbar": {
              "outlinewidth": 0,
              "ticks": ""
             }
            },
            "type": "scattercarpet"
           }
          ],
          "scattergeo": [
           {
            "marker": {
             "colorbar": {
              "outlinewidth": 0,
              "ticks": ""
             }
            },
            "type": "scattergeo"
           }
          ],
          "scattergl": [
           {
            "marker": {
             "colorbar": {
              "outlinewidth": 0,
              "ticks": ""
             }
            },
            "type": "scattergl"
           }
          ],
          "scattermapbox": [
           {
            "marker": {
             "colorbar": {
              "outlinewidth": 0,
              "ticks": ""
             }
            },
            "type": "scattermapbox"
           }
          ],
          "scatterpolar": [
           {
            "marker": {
             "colorbar": {
              "outlinewidth": 0,
              "ticks": ""
             }
            },
            "type": "scatterpolar"
           }
          ],
          "scatterpolargl": [
           {
            "marker": {
             "colorbar": {
              "outlinewidth": 0,
              "ticks": ""
             }
            },
            "type": "scatterpolargl"
           }
          ],
          "scatterternary": [
           {
            "marker": {
             "colorbar": {
              "outlinewidth": 0,
              "ticks": ""
             }
            },
            "type": "scatterternary"
           }
          ],
          "surface": [
           {
            "colorbar": {
             "outlinewidth": 0,
             "ticks": ""
            },
            "colorscale": [
             [
              0,
              "#0d0887"
             ],
             [
              0.1111111111111111,
              "#46039f"
             ],
             [
              0.2222222222222222,
              "#7201a8"
             ],
             [
              0.3333333333333333,
              "#9c179e"
             ],
             [
              0.4444444444444444,
              "#bd3786"
             ],
             [
              0.5555555555555556,
              "#d8576b"
             ],
             [
              0.6666666666666666,
              "#ed7953"
             ],
             [
              0.7777777777777778,
              "#fb9f3a"
             ],
             [
              0.8888888888888888,
              "#fdca26"
             ],
             [
              1,
              "#f0f921"
             ]
            ],
            "type": "surface"
           }
          ],
          "table": [
           {
            "cells": {
             "fill": {
              "color": "#EBF0F8"
             },
             "line": {
              "color": "white"
             }
            },
            "header": {
             "fill": {
              "color": "#C8D4E3"
             },
             "line": {
              "color": "white"
             }
            },
            "type": "table"
           }
          ]
         },
         "layout": {
          "annotationdefaults": {
           "arrowcolor": "#2a3f5f",
           "arrowhead": 0,
           "arrowwidth": 1
          },
          "autotypenumbers": "strict",
          "coloraxis": {
           "colorbar": {
            "outlinewidth": 0,
            "ticks": ""
           }
          },
          "colorscale": {
           "diverging": [
            [
             0,
             "#8e0152"
            ],
            [
             0.1,
             "#c51b7d"
            ],
            [
             0.2,
             "#de77ae"
            ],
            [
             0.3,
             "#f1b6da"
            ],
            [
             0.4,
             "#fde0ef"
            ],
            [
             0.5,
             "#f7f7f7"
            ],
            [
             0.6,
             "#e6f5d0"
            ],
            [
             0.7,
             "#b8e186"
            ],
            [
             0.8,
             "#7fbc41"
            ],
            [
             0.9,
             "#4d9221"
            ],
            [
             1,
             "#276419"
            ]
           ],
           "sequential": [
            [
             0,
             "#0d0887"
            ],
            [
             0.1111111111111111,
             "#46039f"
            ],
            [
             0.2222222222222222,
             "#7201a8"
            ],
            [
             0.3333333333333333,
             "#9c179e"
            ],
            [
             0.4444444444444444,
             "#bd3786"
            ],
            [
             0.5555555555555556,
             "#d8576b"
            ],
            [
             0.6666666666666666,
             "#ed7953"
            ],
            [
             0.7777777777777778,
             "#fb9f3a"
            ],
            [
             0.8888888888888888,
             "#fdca26"
            ],
            [
             1,
             "#f0f921"
            ]
           ],
           "sequentialminus": [
            [
             0,
             "#0d0887"
            ],
            [
             0.1111111111111111,
             "#46039f"
            ],
            [
             0.2222222222222222,
             "#7201a8"
            ],
            [
             0.3333333333333333,
             "#9c179e"
            ],
            [
             0.4444444444444444,
             "#bd3786"
            ],
            [
             0.5555555555555556,
             "#d8576b"
            ],
            [
             0.6666666666666666,
             "#ed7953"
            ],
            [
             0.7777777777777778,
             "#fb9f3a"
            ],
            [
             0.8888888888888888,
             "#fdca26"
            ],
            [
             1,
             "#f0f921"
            ]
           ]
          },
          "colorway": [
           "#636efa",
           "#EF553B",
           "#00cc96",
           "#ab63fa",
           "#FFA15A",
           "#19d3f3",
           "#FF6692",
           "#B6E880",
           "#FF97FF",
           "#FECB52"
          ],
          "font": {
           "color": "#2a3f5f"
          },
          "geo": {
           "bgcolor": "white",
           "lakecolor": "white",
           "landcolor": "#E5ECF6",
           "showlakes": true,
           "showland": true,
           "subunitcolor": "white"
          },
          "hoverlabel": {
           "align": "left"
          },
          "hovermode": "closest",
          "mapbox": {
           "style": "light"
          },
          "paper_bgcolor": "white",
          "plot_bgcolor": "#E5ECF6",
          "polar": {
           "angularaxis": {
            "gridcolor": "white",
            "linecolor": "white",
            "ticks": ""
           },
           "bgcolor": "#E5ECF6",
           "radialaxis": {
            "gridcolor": "white",
            "linecolor": "white",
            "ticks": ""
           }
          },
          "scene": {
           "xaxis": {
            "backgroundcolor": "#E5ECF6",
            "gridcolor": "white",
            "gridwidth": 2,
            "linecolor": "white",
            "showbackground": true,
            "ticks": "",
            "zerolinecolor": "white"
           },
           "yaxis": {
            "backgroundcolor": "#E5ECF6",
            "gridcolor": "white",
            "gridwidth": 2,
            "linecolor": "white",
            "showbackground": true,
            "ticks": "",
            "zerolinecolor": "white"
           },
           "zaxis": {
            "backgroundcolor": "#E5ECF6",
            "gridcolor": "white",
            "gridwidth": 2,
            "linecolor": "white",
            "showbackground": true,
            "ticks": "",
            "zerolinecolor": "white"
           }
          },
          "shapedefaults": {
           "line": {
            "color": "#2a3f5f"
           }
          },
          "ternary": {
           "aaxis": {
            "gridcolor": "white",
            "linecolor": "white",
            "ticks": ""
           },
           "baxis": {
            "gridcolor": "white",
            "linecolor": "white",
            "ticks": ""
           },
           "bgcolor": "#E5ECF6",
           "caxis": {
            "gridcolor": "white",
            "linecolor": "white",
            "ticks": ""
           }
          },
          "title": {
           "x": 0.05
          },
          "xaxis": {
           "automargin": true,
           "gridcolor": "white",
           "linecolor": "white",
           "ticks": "",
           "title": {
            "standoff": 15
           },
           "zerolinecolor": "white",
           "zerolinewidth": 2
          },
          "yaxis": {
           "automargin": true,
           "gridcolor": "white",
           "linecolor": "white",
           "ticks": "",
           "title": {
            "standoff": 15
           },
           "zerolinecolor": "white",
           "zerolinewidth": 2
          }
         }
        },
        "title": {
         "font": {
          "color": "black",
          "size": 20
         },
         "text": "No. of Comments from same Username per Game",
         "x": 0.5
        },
        "treemapcolorway": [
         "rgb(102, 197, 204)",
         "rgb(246, 207, 113)",
         "rgb(248, 156, 116)",
         "rgb(220, 176, 242)",
         "rgb(135, 197, 95)",
         "rgb(158, 185, 243)",
         "rgb(254, 136, 177)",
         "rgb(201, 219, 116)",
         "rgb(139, 224, 164)",
         "rgb(180, 151, 231)",
         "rgb(179, 179, 179)"
        ],
        "uniformtext": {
         "minsize": 10
        },
        "width": 1300
       }
      }
     },
     "metadata": {},
     "output_type": "display_data"
    }
   ],
   "source": [
    "# Group by Platform and Comment and calculate percentage\n",
    "grouped = df.groupby(['Comment']).size().reset_index(name='Count')\n",
    "total_comments = grouped['Count'].sum()\n",
    "grouped['Percentage'] = (grouped['Count'] / total_comments) * 100\n",
    "\n",
    "# Create a treemap\n",
    "fig = px.treemap(grouped, \n",
    "                 path=['Comment'], \n",
    "                 values='Percentage', \n",
    "                 title='Treemap of Comments by Platform and Comment',\n",
    "                 hover_data=['Percentage'],  # Display percentage in hover\n",
    "                 color_discrete_sequence=px.colors.qualitative.Pastel,\n",
    "                 width=1300, height=400)\n",
    "\n",
    "# Customize hover template to show percentage values\n",
    "fig.update_traces(textinfo='label+percent parent')\n",
    "\n",
    "# Update treemap layout\n",
    "fig.update_layout(\n",
    "    margin=dict(t=40, b=0, l=0, r=0),\n",
    "    treemapcolorway=px.colors.qualitative.Pastel,\n",
    "    uniformtext=dict(minsize=10),\n",
    "    hoverlabel=dict(bgcolor='white', font_size=14),\n",
    "    title=dict(text='No. of Comments from same Username per Game', font=dict(size=20, color='black'), x=0.5),\n",
    ")\n",
    "\n",
    "# Show the treemap\n",
    "fig.show()\n",
    "\n",
    "# most users just comment once per game, so the data collection is pretty consistent and not skewed to repeated sampling (from same person)"
   ]
  },
  {
   "cell_type": "code",
   "execution_count": 119,
   "metadata": {},
   "outputs": [
    {
     "data": {
      "text/plain": [
       "array(['Nintendo64', 'PlayStation', 'PlayStation3', 'Dreamcast',\n",
       "       'Xbox360', 'Wii', 'XboxOne', 'Switch', 'PlayStation2',\n",
       "       'PlayStation4', 'GameCube', 'Xbox', 'PC', 'WiiU', 'GameBoyAdvance',\n",
       "       '3DS', 'DS', 'PlayStationVita', 'PSP', 'not specified'],\n",
       "      dtype=object)"
      ]
     },
     "execution_count": 119,
     "metadata": {},
     "output_type": "execute_result"
    }
   ],
   "source": [
    "userComments.Platform.unique()"
   ]
  },
  {
   "cell_type": "code",
   "execution_count": 120,
   "metadata": {},
   "outputs": [],
   "source": [
    "platformMap = {\n",
    "'DS': 'DS',\n",
    "'iOS': 'iOS',\n",
    "'PC': 'PC',\n",
    "'PlayStation': 'PS',\n",
    "'PlayStation2': 'PS2',\n",
    "'PlayStation3': 'PS3',\n",
    "'PlayStation4': 'PS4',\n",
    "'PlayStation5': 'PS5'\n",
    "}\n",
    "\n",
    "userComments['Platform_alignedNaming'] = userComments.Platform.map(platformMap)\n",
    "userComments.loc[userComments.Platform_alignedNaming == 'not specified', 'Platform_alignedNaming'] = np.NaN"
   ]
  },
  {
   "cell_type": "code",
   "execution_count": 121,
   "metadata": {},
   "outputs": [
    {
     "data": {
      "text/plain": [
       "array([nan, 'PS', 'PS3', 'PS2', 'PS4', 'PC', 'DS'], dtype=object)"
      ]
     },
     "execution_count": 121,
     "metadata": {},
     "output_type": "execute_result"
    }
   ],
   "source": [
    "userComments.Platform_alignedNaming.unique()"
   ]
  },
  {
   "cell_type": "markdown",
   "metadata": {},
   "source": [
    "### gameInfo"
   ]
  },
  {
   "cell_type": "code",
   "execution_count": 123,
   "metadata": {},
   "outputs": [],
   "source": [
    "gameInfo.drop(columns = 'Unnamed: 0', inplace = True)"
   ]
  },
  {
   "cell_type": "code",
   "execution_count": 124,
   "metadata": {},
   "outputs": [],
   "source": [
    "gameInfo.loc[gameInfo.Metascore == 'not specified', 'Metascore'] = -999\n",
    "gameInfo['Metascore'] = gameInfo.Metascore.astype('float64')\n",
    "\n",
    "gameInfo.loc[gameInfo.Avg_Userscore == 'not specified', 'Avg_Userscore'] = -999\n",
    "gameInfo.loc[gameInfo.Avg_Userscore == 'tbd', 'Avg_Userscore'] = -998\n",
    "gameInfo['Avg_Userscore'] = gameInfo.Avg_Userscore.astype('float64')\n",
    "\n",
    "gameInfo.loc[gameInfo.Year == 'not specified', 'Year'] = -999\n",
    "gameInfo['Year'] = gameInfo.Year.astype('int64')"
   ]
  },
  {
   "cell_type": "code",
   "execution_count": 125,
   "metadata": {},
   "outputs": [
    {
     "data": {
      "text/plain": [
       "(75, 9)"
      ]
     },
     "execution_count": 125,
     "metadata": {},
     "output_type": "execute_result"
    }
   ],
   "source": [
    "gameInfo = gameInfo[gameInfo.Year != -999] # 11 rows removed (all Metascore = -999 are removed too)\n",
    "gameInfo = gameInfo[gameInfo.Avg_Userscore != -999] # 1 row removed\n",
    "\n",
    "gameInfo[gameInfo.Avg_Userscore == -998].shape # 75 rows .. keep? not sure if this col is impt"
   ]
  },
  {
   "cell_type": "code",
   "execution_count": 126,
   "metadata": {},
   "outputs": [
    {
     "data": {
      "text/plain": [
       "(52,)"
      ]
     },
     "execution_count": 126,
     "metadata": {},
     "output_type": "execute_result"
    }
   ],
   "source": [
    "# No_Players >> 52 categories .. combine them??\n",
    "gameInfo.No_Players.value_counts().shape\n",
    "# gameInfo.No_Players.value_counts()"
   ]
  },
  {
   "cell_type": "code",
   "execution_count": 127,
   "metadata": {},
   "outputs": [],
   "source": [
    "# gameInfo.No_Players.value_counts()"
   ]
  },
  {
   "cell_type": "code",
   "execution_count": 128,
   "metadata": {},
   "outputs": [
    {
     "name": "stdout",
     "output_type": "stream",
     "text": [
      "<class 'pandas.core.frame.DataFrame'>\n",
      "Int64Index: 4988 entries, 0 to 4999\n",
      "Data columns (total 9 columns):\n",
      " #   Column         Non-Null Count  Dtype  \n",
      "---  ------         --------------  -----  \n",
      " 0   Title          4988 non-null   object \n",
      " 1   Year           4988 non-null   int64  \n",
      " 2   Developer      4988 non-null   object \n",
      " 3   Genre          4988 non-null   object \n",
      " 4   Platform       4988 non-null   object \n",
      " 5   Metascore      4988 non-null   float64\n",
      " 6   Avg_Userscore  4988 non-null   float64\n",
      " 7   No_Players     4981 non-null   object \n",
      " 8   Platform1      4988 non-null   object \n",
      "dtypes: float64(2), int64(1), object(6)\n",
      "memory usage: 389.7+ KB\n"
     ]
    }
   ],
   "source": [
    "# No_Players .. 7 missing entries\n",
    "gameInfo.info()"
   ]
  },
  {
   "cell_type": "code",
   "execution_count": 129,
   "metadata": {},
   "outputs": [
    {
     "data": {
      "text/plain": [
       "count    4988.000000\n",
       "mean       83.123697\n",
       "std         4.342992\n",
       "min        77.000000\n",
       "25%        80.000000\n",
       "50%        82.000000\n",
       "75%        86.000000\n",
       "max        99.000000\n",
       "Name: Metascore, dtype: float64"
      ]
     },
     "execution_count": 129,
     "metadata": {},
     "output_type": "execute_result"
    }
   ],
   "source": [
    "gameInfo.Metascore.describe()"
   ]
  },
  {
   "cell_type": "code",
   "execution_count": 130,
   "metadata": {},
   "outputs": [
    {
     "data": {
      "image/png": "[encoded data removed]",
      "text/plain": [
       "<Figure size 640x480 with 1 Axes>"
      ]
     },
     "metadata": {},
     "output_type": "display_data"
    },
    {
     "data": {
      "image/png": "[encoded data removed]",
      "text/plain": [
       "<Figure size 640x480 with 1 Axes>"
      ]
     },
     "metadata": {},
     "output_type": "display_data"
    },
    {
     "data": {
      "image/png": "[encoded data removed]",
      "text/plain": [
       "<Figure size 640x480 with 1 Axes>"
      ]
     },
     "metadata": {},
     "output_type": "display_data"
    }
   ],
   "source": [
    "for x in gameInfo.select_dtypes(include=['Int64', 'float64']):\n",
    "    if x == 'Avg_Userscore':\n",
    "        test = gameInfo[gameInfo[x] != -998]\n",
    "        hist(test, x)\n",
    "    else:\n",
    "        hist(gameInfo, x)"
   ]
  },
  {
   "cell_type": "code",
   "execution_count": 131,
   "metadata": {},
   "outputs": [
    {
     "data": {
      "text/html": [
       "<div>\n",
       "<style scoped>\n",
       "    .dataframe tbody tr th:only-of-type {\n",
       "        vertical-align: middle;\n",
       "    }\n",
       "\n",
       "    .dataframe tbody tr th {\n",
       "        vertical-align: top;\n",
       "    }\n",
       "\n",
       "    .dataframe thead th {\n",
       "        text-align: right;\n",
       "    }\n",
       "</style>\n",
       "<table border=\"1\" class=\"dataframe\">\n",
       "  <thead>\n",
       "    <tr style=\"text-align: right;\">\n",
       "      <th></th>\n",
       "      <th>Title</th>\n",
       "      <th>Year</th>\n",
       "      <th>Developer</th>\n",
       "      <th>Genre</th>\n",
       "      <th>Platform</th>\n",
       "      <th>Metascore</th>\n",
       "      <th>Avg_Userscore</th>\n",
       "      <th>No_Players</th>\n",
       "      <th>Platform1</th>\n",
       "    </tr>\n",
       "  </thead>\n",
       "  <tbody>\n",
       "    <tr>\n",
       "      <th>0</th>\n",
       "      <td>007  The World is not Enough</td>\n",
       "      <td>2000</td>\n",
       "      <td>EurocomEntertainmentSoftware</td>\n",
       "      <td>Action;Shooter;First-Person;Modern</td>\n",
       "      <td>Nintendo64</td>\n",
       "      <td>81.0</td>\n",
       "      <td>7.8</td>\n",
       "      <td>1-Apr</td>\n",
       "      <td>0</td>\n",
       "    </tr>\n",
       "    <tr>\n",
       "      <th>1</th>\n",
       "      <td>10 Second Ninja X</td>\n",
       "      <td>2016</td>\n",
       "      <td>GameDesignDan</td>\n",
       "      <td>Action;Platformer;2D</td>\n",
       "      <td>XboxOne</td>\n",
       "      <td>82.0</td>\n",
       "      <td>4.5</td>\n",
       "      <td>not specified</td>\n",
       "      <td>0</td>\n",
       "    </tr>\n",
       "    <tr>\n",
       "      <th>2</th>\n",
       "      <td>1001 Spikes</td>\n",
       "      <td>2014</td>\n",
       "      <td>Nicalis</td>\n",
       "      <td>Action;Platformer;Platformer;2D;2D</td>\n",
       "      <td>PlayStation4</td>\n",
       "      <td>78.0</td>\n",
       "      <td>6.6</td>\n",
       "      <td>not specified</td>\n",
       "      <td>PS4</td>\n",
       "    </tr>\n",
       "    <tr>\n",
       "      <th>3</th>\n",
       "      <td>1701 A.D.</td>\n",
       "      <td>2006</td>\n",
       "      <td>RelatedDesigns</td>\n",
       "      <td>Strategy;Real-Time;Historic;General;Historic</td>\n",
       "      <td>PC</td>\n",
       "      <td>79.0</td>\n",
       "      <td>8.4</td>\n",
       "      <td>4  Online</td>\n",
       "      <td>PC</td>\n",
       "    </tr>\n",
       "    <tr>\n",
       "      <th>4</th>\n",
       "      <td>1979 Revolution Black Friday</td>\n",
       "      <td>2016</td>\n",
       "      <td>N-FusionInteractiveEntertainmentCorp.,iNKStories</td>\n",
       "      <td>Adventure;General</td>\n",
       "      <td>PC</td>\n",
       "      <td>80.0</td>\n",
       "      <td>7.7</td>\n",
       "      <td>No Online Multiplayer</td>\n",
       "      <td>PC</td>\n",
       "    </tr>\n",
       "  </tbody>\n",
       "</table>\n",
       "</div>"
      ],
      "text/plain": [
       "                          Title  Year  \\\n",
       "0  007  The World is not Enough  2000   \n",
       "1             10 Second Ninja X  2016   \n",
       "2                   1001 Spikes  2014   \n",
       "3                     1701 A.D.  2006   \n",
       "4  1979 Revolution Black Friday  2016   \n",
       "\n",
       "                                          Developer  \\\n",
       "0                      EurocomEntertainmentSoftware   \n",
       "1                                     GameDesignDan   \n",
       "2                                           Nicalis   \n",
       "3                                    RelatedDesigns   \n",
       "4  N-FusionInteractiveEntertainmentCorp.,iNKStories   \n",
       "\n",
       "                                          Genre      Platform  Metascore  \\\n",
       "0            Action;Shooter;First-Person;Modern    Nintendo64       81.0   \n",
       "1                          Action;Platformer;2D       XboxOne       82.0   \n",
       "2            Action;Platformer;Platformer;2D;2D  PlayStation4       78.0   \n",
       "3  Strategy;Real-Time;Historic;General;Historic            PC       79.0   \n",
       "4                             Adventure;General            PC       80.0   \n",
       "\n",
       "   Avg_Userscore             No_Players Platform1  \n",
       "0            7.8                  1-Apr         0  \n",
       "1            4.5          not specified         0  \n",
       "2            6.6          not specified       PS4  \n",
       "3            8.4              4  Online        PC  \n",
       "4            7.7  No Online Multiplayer        PC  "
      ]
     },
     "execution_count": 131,
     "metadata": {},
     "output_type": "execute_result"
    }
   ],
   "source": [
    "gameInfo.head()"
   ]
  },
  {
   "cell_type": "code",
   "execution_count": 132,
   "metadata": {},
   "outputs": [
    {
     "data": {
      "text/plain": [
       "(4988, 9)"
      ]
     },
     "execution_count": 132,
     "metadata": {},
     "output_type": "execute_result"
    }
   ],
   "source": [
    "gameInfo.shape"
   ]
  },
  {
   "cell_type": "code",
   "execution_count": 133,
   "metadata": {},
   "outputs": [
    {
     "data": {
      "text/plain": [
       "3423"
      ]
     },
     "execution_count": 133,
     "metadata": {},
     "output_type": "execute_result"
    }
   ],
   "source": [
    "gameInfo.Title.nunique()"
   ]
  },
  {
   "cell_type": "code",
   "execution_count": 134,
   "metadata": {},
   "outputs": [
    {
     "data": {
      "text/plain": [
       "4988"
      ]
     },
     "execution_count": 134,
     "metadata": {},
     "output_type": "execute_result"
    }
   ],
   "source": [
    "(gameInfo.Title + gameInfo.Year.astype(str) + gameInfo.Developer + gameInfo.Genre + gameInfo.Platform).nunique()"
   ]
  },
  {
   "cell_type": "markdown",
   "metadata": {},
   "source": [
    "### ratingsAndReleaseDate"
   ]
  },
  {
   "cell_type": "code",
   "execution_count": 135,
   "metadata": {},
   "outputs": [
    {
     "data": {
      "text/html": [
       "<div>\n",
       "<style scoped>\n",
       "    .dataframe tbody tr th:only-of-type {\n",
       "        vertical-align: middle;\n",
       "    }\n",
       "\n",
       "    .dataframe tbody tr th {\n",
       "        vertical-align: top;\n",
       "    }\n",
       "\n",
       "    .dataframe thead th {\n",
       "        text-align: right;\n",
       "    }\n",
       "</style>\n",
       "<table border=\"1\" class=\"dataframe\">\n",
       "  <thead>\n",
       "    <tr style=\"text-align: right;\">\n",
       "      <th></th>\n",
       "      <th>name</th>\n",
       "      <th>platform</th>\n",
       "      <th>platform1</th>\n",
       "      <th>user_rating</th>\n",
       "      <th>critic_rating</th>\n",
       "      <th>release_date</th>\n",
       "      <th>summary</th>\n",
       "      <th>description</th>\n",
       "      <th>metacritic</th>\n",
       "    </tr>\n",
       "  </thead>\n",
       "  <tbody>\n",
       "    <tr>\n",
       "      <th>0</th>\n",
       "      <td>Full Throttle</td>\n",
       "      <td>PC</td>\n",
       "      <td>PC</td>\n",
       "      <td>8.5</td>\n",
       "      <td>86</td>\n",
       "      <td>April 30, 1995</td>\n",
       "      <td>You're Ben--beaten, framed for murder and left...</td>\n",
       "      <td>&lt;p&gt;One minute you&amp;#39;re on the road, riding. ...</td>\n",
       "      <td>86.0</td>\n",
       "    </tr>\n",
       "    <tr>\n",
       "      <th>1</th>\n",
       "      <td>Sid Meier's Civilization II</td>\n",
       "      <td>PC</td>\n",
       "      <td>PC</td>\n",
       "      <td>8.7</td>\n",
       "      <td>94</td>\n",
       "      <td>February 29, 1996</td>\n",
       "      <td>An empire-building turn-based strategy game. T...</td>\n",
       "      <td>&lt;p&gt;Make every critical social, economic and po...</td>\n",
       "      <td>94.0</td>\n",
       "    </tr>\n",
       "    <tr>\n",
       "      <th>2</th>\n",
       "      <td>Quake</td>\n",
       "      <td>PC</td>\n",
       "      <td>PC</td>\n",
       "      <td>8.8</td>\n",
       "      <td>94</td>\n",
       "      <td>June 22, 1996</td>\n",
       "      <td>Rage through 32 single player levels and 6 dea...</td>\n",
       "      <td>&lt;h3&gt;The roots&lt;/h3&gt;\\r\\n&lt;p&gt;One of the classic re...</td>\n",
       "      <td>94.0</td>\n",
       "    </tr>\n",
       "    <tr>\n",
       "      <th>3</th>\n",
       "      <td>Diablo</td>\n",
       "      <td>PC</td>\n",
       "      <td>PC</td>\n",
       "      <td>8.6</td>\n",
       "      <td>94</td>\n",
       "      <td>December 31, 1996</td>\n",
       "      <td>The kingdom of Khandaras has fallen into chaos...</td>\n",
       "      <td>&lt;p&gt;Traveler, stay awhile and listen...&lt;/p&gt;\\r\\n...</td>\n",
       "      <td>94.0</td>\n",
       "    </tr>\n",
       "    <tr>\n",
       "      <th>4</th>\n",
       "      <td>Super Mario 64</td>\n",
       "      <td>Nintendo 64</td>\n",
       "      <td>NaN</td>\n",
       "      <td>9.1</td>\n",
       "      <td>94</td>\n",
       "      <td>September 26, 1996</td>\n",
       "      <td>Mario is super in a whole new way! Combining t...</td>\n",
       "      <td>&lt;p&gt;Mario is super in a whole new way! Combinin...</td>\n",
       "      <td>94.0</td>\n",
       "    </tr>\n",
       "  </tbody>\n",
       "</table>\n",
       "</div>"
      ],
      "text/plain": [
       "                          name     platform platform1  user_rating  \\\n",
       "0                Full Throttle           PC        PC          8.5   \n",
       "1  Sid Meier's Civilization II           PC        PC          8.7   \n",
       "2                        Quake           PC        PC          8.8   \n",
       "3                       Diablo           PC        PC          8.6   \n",
       "4               Super Mario 64  Nintendo 64       NaN          9.1   \n",
       "\n",
       "   critic_rating        release_date  \\\n",
       "0             86      April 30, 1995   \n",
       "1             94   February 29, 1996   \n",
       "2             94       June 22, 1996   \n",
       "3             94   December 31, 1996   \n",
       "4             94  September 26, 1996   \n",
       "\n",
       "                                             summary  \\\n",
       "0  You're Ben--beaten, framed for murder and left...   \n",
       "1  An empire-building turn-based strategy game. T...   \n",
       "2  Rage through 32 single player levels and 6 dea...   \n",
       "3  The kingdom of Khandaras has fallen into chaos...   \n",
       "4  Mario is super in a whole new way! Combining t...   \n",
       "\n",
       "                                         description  metacritic  \n",
       "0  <p>One minute you&#39;re on the road, riding. ...        86.0  \n",
       "1  <p>Make every critical social, economic and po...        94.0  \n",
       "2  <h3>The roots</h3>\\r\\n<p>One of the classic re...        94.0  \n",
       "3  <p>Traveler, stay awhile and listen...</p>\\r\\n...        94.0  \n",
       "4  <p>Mario is super in a whole new way! Combinin...        94.0  "
      ]
     },
     "execution_count": 135,
     "metadata": {},
     "output_type": "execute_result"
    }
   ],
   "source": [
    "ratingsAndReleaseDate.head()"
   ]
  },
  {
   "cell_type": "code",
   "execution_count": 136,
   "metadata": {},
   "outputs": [
    {
     "data": {
      "text/plain": [
       "209"
      ]
     },
     "execution_count": 136,
     "metadata": {},
     "output_type": "execute_result"
    }
   ],
   "source": [
    "# unique names!\n",
    "ratingsAndReleaseDate.shape\n",
    "ratingsAndReleaseDate.name.nunique()"
   ]
  },
  {
   "cell_type": "markdown",
   "metadata": {},
   "source": [
    "### gameScore"
   ]
  },
  {
   "cell_type": "code",
   "execution_count": 137,
   "metadata": {},
   "outputs": [
    {
     "data": {
      "text/plain": [
       "(121050, 8)"
      ]
     },
     "execution_count": 137,
     "metadata": {},
     "output_type": "execute_result"
    }
   ],
   "source": [
    "gameScore.user_score.count()\n",
    "gameScore.meta_score.count()\n",
    "gameScore.shape"
   ]
  },
  {
   "cell_type": "code",
   "execution_count": 138,
   "metadata": {},
   "outputs": [
    {
     "data": {
      "text/plain": [
       "120964"
      ]
     },
     "execution_count": 138,
     "metadata": {},
     "output_type": "execute_result"
    }
   ],
   "source": [
    "(gameScore.name + gameScore.platform + gameScore.release_date.astype(str)).nunique()"
   ]
  },
  {
   "cell_type": "markdown",
   "metadata": {},
   "source": [
    "### gameSales"
   ]
  },
  {
   "cell_type": "code",
   "execution_count": 139,
   "metadata": {},
   "outputs": [
    {
     "data": {
      "text/plain": [
       "(8896, 15)"
      ]
     },
     "execution_count": 139,
     "metadata": {},
     "output_type": "execute_result"
    }
   ],
   "source": [
    "gameSales.shape"
   ]
  },
  {
   "cell_type": "code",
   "execution_count": 140,
   "metadata": {},
   "outputs": [
    {
     "data": {
      "text/plain": [
       "8893"
      ]
     },
     "execution_count": 140,
     "metadata": {},
     "output_type": "execute_result"
    }
   ],
   "source": [
    "(gameSales.title + gameSales.platform + gameSales.genre + gameSales.publisher).nunique()"
   ]
  }
 ],
 "metadata": {
  "kernelspec": {
   "display_name": "Python 3",
   "language": "python",
   "name": "python3"
  },
  "language_info": {
   "codemirror_mode": {
    "name": "ipython",
    "version": 3
   },
   "file_extension": ".py",
   "mimetype": "text/x-python",
   "name": "python",
   "nbconvert_exporter": "python",
   "pygments_lexer": "ipython3",
   "version": "3.10.11"
  },
  "orig_nbformat": 4
 },
 "nbformat": 4,
 "nbformat_minor": 2
}
