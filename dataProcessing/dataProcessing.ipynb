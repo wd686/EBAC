{
 "cells": [
  {
   "cell_type": "markdown",
   "metadata": {},
   "source": [
    "### Import libraries and load datasets"
   ]
  },
  {
   "cell_type": "code",
   "execution_count": 31,
   "metadata": {},
   "outputs": [
    {
     "ename": "ImportError",
     "evalue": "attempted relative import with no known parent package",
     "output_type": "error",
     "traceback": [
      "\u001b[1;31m---------------------------------------------------------------------------\u001b[0m",
      "\u001b[1;31mImportError\u001b[0m                               Traceback (most recent call last)",
      "\u001b[1;32mc:\\Users\\Michael\\Documents\\GitHub\\EBAC\\dataProcessing\\dataProcessing.ipynb Cell 2\u001b[0m line \u001b[0;36m5\n\u001b[0;32m      <a href='vscode-notebook-cell:/c%3A/Users/Michael/Documents/GitHub/EBAC/dataProcessing/dataProcessing.ipynb#X65sZmlsZQ%3D%3D?line=1'>2</a>\u001b[0m \u001b[39mimport\u001b[39;00m \u001b[39mnumpy\u001b[39;00m \u001b[39mas\u001b[39;00m \u001b[39mnp\u001b[39;00m\n\u001b[0;32m      <a href='vscode-notebook-cell:/c%3A/Users/Michael/Documents/GitHub/EBAC/dataProcessing/dataProcessing.ipynb#X65sZmlsZQ%3D%3D?line=2'>3</a>\u001b[0m \u001b[39mimport\u001b[39;00m \u001b[39mmatplotlib\u001b[39;00m\u001b[39m.\u001b[39;00m\u001b[39mpyplot\u001b[39;00m \u001b[39mas\u001b[39;00m \u001b[39mplt\u001b[39;00m\n\u001b[1;32m----> <a href='vscode-notebook-cell:/c%3A/Users/Michael/Documents/GitHub/EBAC/dataProcessing/dataProcessing.ipynb#X65sZmlsZQ%3D%3D?line=4'>5</a>\u001b[0m \u001b[39mfrom\u001b[39;00m \u001b[39m.\u001b[39;00m\u001b[39m.\u001b[39;00m\u001b[39mcommonFunctions\u001b[39;00m \u001b[39mimport\u001b[39;00m hist\n\u001b[0;32m      <a href='vscode-notebook-cell:/c%3A/Users/Michael/Documents/GitHub/EBAC/dataProcessing/dataProcessing.ipynb#X65sZmlsZQ%3D%3D?line=6'>7</a>\u001b[0m pd\u001b[39m.\u001b[39mset_option(\u001b[39m'\u001b[39m\u001b[39mdisplay.max_rows\u001b[39m\u001b[39m'\u001b[39m, \u001b[39mNone\u001b[39;00m)\n\u001b[0;32m      <a href='vscode-notebook-cell:/c%3A/Users/Michael/Documents/GitHub/EBAC/dataProcessing/dataProcessing.ipynb#X65sZmlsZQ%3D%3D?line=7'>8</a>\u001b[0m pd\u001b[39m.\u001b[39mset_option(\u001b[39m'\u001b[39m\u001b[39mdisplay.max_columns\u001b[39m\u001b[39m'\u001b[39m, \u001b[39mNone\u001b[39;00m)\n",
      "\u001b[1;31mImportError\u001b[0m: attempted relative import with no known parent package"
     ]
    }
   ],
   "source": [
    "import pandas as pd\n",
    "import numpy as np\n",
    "import matplotlib.pyplot as plt\n",
    "\n",
    "from ..commonFunctions import hist\n",
    "\n",
    "pd.set_option('display.max_rows', None)\n",
    "pd.set_option('display.max_columns', None)"
   ]
  },
  {
   "cell_type": "markdown",
   "metadata": {},
   "source": [
    "### Load datasets"
   ]
  },
  {
   "cell_type": "code",
   "execution_count": 2,
   "metadata": {},
   "outputs": [
    {
     "name": "stderr",
     "output_type": "stream",
     "text": [
      "C:\\Users\\Michael\\AppData\\Local\\Temp\\ipykernel_31680\\3980805325.py:5: DtypeWarning: Columns (1,2,4,5) have mixed types. Specify dtype option on import or set low_memory=False.\n",
      "  userComments1 = pd.read_csv('../dataSources/videoGames/metacritic_game_user_comments (0-100k).csv')\n",
      "C:\\Users\\Michael\\AppData\\Local\\Temp\\ipykernel_31680\\3980805325.py:6: DtypeWarning: Columns (1,2,4,5) have mixed types. Specify dtype option on import or set low_memory=False.\n",
      "  userComments2 = pd.read_csv('../dataSources/videoGames/metacritic_game_user_comments (100-200k).csv')\n"
     ]
    }
   ],
   "source": [
    "# based on what columns we deem necessary, may need to rename df/ column names\n",
    "# need to choose the impt Score/ Rating/ metacritic Matrix defined to be from Beta testers (we've too many)\n",
    "# standardise release_date if it's impt\n",
    "\n",
    "userComments1 = pd.read_csv('../dataSources/videoGames/metacritic_game_user_comments (0-100k).csv')\n",
    "userComments2 = pd.read_csv('../dataSources/videoGames/metacritic_game_user_comments (100-200k).csv')\n",
    "userComments3 = pd.read_csv('../dataSources/videoGames/metacritic_game_user_comments (200-300k).csv')\n",
    "\n",
    "gameInfo = pd.read_csv('../dataSources/videoGames/metacritic_game_info.csv')\n",
    "ratingsAndReleaseDate = pd.read_csv('../dataSources/videoGames/updatedVGOutput.csv')\n",
    "gameScore = pd.read_excel('../dataSources/videoGames/metascore-video-games-1986-2023.xlsx', sheet_name='Sheet1')\n",
    "gameSales = pd.read_excel('../dataSources/videoGames/Video game sales - 2000 - 2020.xlsx', sheet_name= 'Sheet1')"
   ]
  },
  {
   "cell_type": "code",
   "execution_count": 3,
   "metadata": {},
   "outputs": [],
   "source": [
    "# userComments[~(userComments.Title.isin(gameSales.title))].groupby('Title').count().sort_values(by = 'Comment', ascending = False)"
   ]
  },
  {
   "cell_type": "code",
   "execution_count": 4,
   "metadata": {},
   "outputs": [
    {
     "name": "stdout",
     "output_type": "stream",
     "text": [
      "userComments1: Index(['Unnamed: 0', 'Title', 'Platform', 'Userscore', 'Comment', 'Username'], dtype='object')\n",
      "\n",
      "gameInfo:Index(['Unnamed: 0', 'Title', 'Year', 'Developer', 'Genre', 'Platform',\n",
      "       'Metascore', 'Avg_Userscore', 'No_Players', 'Platform1'],\n",
      "      dtype='object')\n",
      "\n",
      "ratingsAndReleaseDate: Index(['name', 'platform', 'platform1', 'user_rating', 'critic_rating',\n",
      "       'release_date', 'summary', 'description', 'metacritic'],\n",
      "      dtype='object')\n",
      "\n",
      "gameScore: Index(['no', 'name', 'platform', 'platform1', 'release_date', 'user_score',\n",
      "       'meta_score', 'summary'],\n",
      "      dtype='object')\n",
      "\n",
      "gameSales: Index(['title', 'platform', 'genre', 'publisher', 'vg_score', 'critic_score',\n",
      "       'user_score', 'total_shipped', 'aisan_sales', 'north_american_sales',\n",
      "       'japan_sales', 'european_sales', 'global_sales', 'Production Cost',\n",
      "       'release_year', 'Developer_metacritic_game_info',\n",
      "       'Genre_metacritic_game_info', 'Metascore_metacritic_game_info',\n",
      "       'Avg_Userscore_metacritic_game_info',\n",
      "       'No. of players_metacritic_game_info', 'releasedate_1986-2023',\n",
      "       'releasedate_VGOutput', 'releasedate_raw', 'releasedate_quarter',\n",
      "       'releasedate_link'],\n",
      "      dtype='object')\n"
     ]
    }
   ],
   "source": [
    "# can join via title/name\n",
    "print(f\"userComments1: {userComments1.columns}\\n\\ngameInfo:{gameInfo.columns}\\n\\nratingsAndReleaseDate: {ratingsAndReleaseDate.columns}\\n\\ngameScore: {gameScore.columns}\\n\\ngameSales: {gameSales.columns}\")"
   ]
  },
  {
   "cell_type": "code",
   "execution_count": 5,
   "metadata": {},
   "outputs": [
    {
     "data": {
      "text/html": [
       "<div>\n",
       "<style scoped>\n",
       "    .dataframe tbody tr th:only-of-type {\n",
       "        vertical-align: middle;\n",
       "    }\n",
       "\n",
       "    .dataframe tbody tr th {\n",
       "        vertical-align: top;\n",
       "    }\n",
       "\n",
       "    .dataframe thead th {\n",
       "        text-align: right;\n",
       "    }\n",
       "</style>\n",
       "<table border=\"1\" class=\"dataframe\">\n",
       "  <thead>\n",
       "    <tr style=\"text-align: right;\">\n",
       "      <th></th>\n",
       "      <th>Unnamed: 0</th>\n",
       "      <th>Title</th>\n",
       "      <th>Platform</th>\n",
       "      <th>Userscore</th>\n",
       "      <th>Comment</th>\n",
       "      <th>Username</th>\n",
       "    </tr>\n",
       "  </thead>\n",
       "  <tbody>\n",
       "    <tr>\n",
       "      <th>0</th>\n",
       "      <td>0.0</td>\n",
       "      <td>The Legend of Zelda: Ocarina of Time</td>\n",
       "      <td>Nintendo64</td>\n",
       "      <td>10.0</td>\n",
       "      <td>Everything in OoT is so near at perfection, it...</td>\n",
       "      <td>SirCaestus</td>\n",
       "    </tr>\n",
       "    <tr>\n",
       "      <th>1</th>\n",
       "      <td>1.0</td>\n",
       "      <td>The Legend of Zelda: Ocarina of Time</td>\n",
       "      <td>Nintendo64</td>\n",
       "      <td>10.0</td>\n",
       "      <td>I won't bore you with what everyone is already...</td>\n",
       "      <td>Kaistlin</td>\n",
       "    </tr>\n",
       "    <tr>\n",
       "      <th>2</th>\n",
       "      <td>2.0</td>\n",
       "      <td>The Legend of Zelda: Ocarina of Time</td>\n",
       "      <td>Nintendo64</td>\n",
       "      <td>10.0</td>\n",
       "      <td>Anyone who gives the masterpiece below a 7 or ...</td>\n",
       "      <td>Jacody</td>\n",
       "    </tr>\n",
       "    <tr>\n",
       "      <th>3</th>\n",
       "      <td>3.0</td>\n",
       "      <td>The Legend of Zelda: Ocarina of Time</td>\n",
       "      <td>Nintendo64</td>\n",
       "      <td>10.0</td>\n",
       "      <td>I'm one of those people who think that this is...</td>\n",
       "      <td>doodlerman</td>\n",
       "    </tr>\n",
       "    <tr>\n",
       "      <th>4</th>\n",
       "      <td>4.0</td>\n",
       "      <td>The Legend of Zelda: Ocarina of Time</td>\n",
       "      <td>Nintendo64</td>\n",
       "      <td>10.0</td>\n",
       "      <td>This game is the highest rated game on Metacr...</td>\n",
       "      <td>StevenA</td>\n",
       "    </tr>\n",
       "  </tbody>\n",
       "</table>\n",
       "</div>"
      ],
      "text/plain": [
       "   Unnamed: 0                                 Title    Platform  Userscore  \\\n",
       "0         0.0  The Legend of Zelda: Ocarina of Time  Nintendo64       10.0   \n",
       "1         1.0  The Legend of Zelda: Ocarina of Time  Nintendo64       10.0   \n",
       "2         2.0  The Legend of Zelda: Ocarina of Time  Nintendo64       10.0   \n",
       "3         3.0  The Legend of Zelda: Ocarina of Time  Nintendo64       10.0   \n",
       "4         4.0  The Legend of Zelda: Ocarina of Time  Nintendo64       10.0   \n",
       "\n",
       "                                             Comment    Username  \n",
       "0  Everything in OoT is so near at perfection, it...  SirCaestus  \n",
       "1  I won't bore you with what everyone is already...    Kaistlin  \n",
       "2  Anyone who gives the masterpiece below a 7 or ...      Jacody  \n",
       "3  I'm one of those people who think that this is...  doodlerman  \n",
       "4   This game is the highest rated game on Metacr...     StevenA  "
      ]
     },
     "execution_count": 5,
     "metadata": {},
     "output_type": "execute_result"
    }
   ],
   "source": [
    "# some users commented & gave rating more than once per game and platform (unique only when combine all cols)\n",
    "userComments1.head()"
   ]
  },
  {
   "cell_type": "code",
   "execution_count": 6,
   "metadata": {},
   "outputs": [
    {
     "data": {
      "text/html": [
       "<div>\n",
       "<style scoped>\n",
       "    .dataframe tbody tr th:only-of-type {\n",
       "        vertical-align: middle;\n",
       "    }\n",
       "\n",
       "    .dataframe tbody tr th {\n",
       "        vertical-align: top;\n",
       "    }\n",
       "\n",
       "    .dataframe thead th {\n",
       "        text-align: right;\n",
       "    }\n",
       "</style>\n",
       "<table border=\"1\" class=\"dataframe\">\n",
       "  <thead>\n",
       "    <tr style=\"text-align: right;\">\n",
       "      <th></th>\n",
       "      <th>Unnamed: 0</th>\n",
       "      <th>Title</th>\n",
       "      <th>Year</th>\n",
       "      <th>Developer</th>\n",
       "      <th>Genre</th>\n",
       "      <th>Platform</th>\n",
       "      <th>Metascore</th>\n",
       "      <th>Avg_Userscore</th>\n",
       "      <th>No_Players</th>\n",
       "      <th>Platform1</th>\n",
       "    </tr>\n",
       "  </thead>\n",
       "  <tbody>\n",
       "    <tr>\n",
       "      <th>0</th>\n",
       "      <td>3145</td>\n",
       "      <td>007  The World is not Enough</td>\n",
       "      <td>2000</td>\n",
       "      <td>EurocomEntertainmentSoftware</td>\n",
       "      <td>Action;Shooter;First-Person;Modern</td>\n",
       "      <td>Nintendo64</td>\n",
       "      <td>81</td>\n",
       "      <td>7.8</td>\n",
       "      <td>1-Apr</td>\n",
       "      <td>0</td>\n",
       "    </tr>\n",
       "    <tr>\n",
       "      <th>1</th>\n",
       "      <td>2589</td>\n",
       "      <td>10 Second Ninja X</td>\n",
       "      <td>2016</td>\n",
       "      <td>GameDesignDan</td>\n",
       "      <td>Action;Platformer;2D</td>\n",
       "      <td>XboxOne</td>\n",
       "      <td>82</td>\n",
       "      <td>4.5</td>\n",
       "      <td>not specified</td>\n",
       "      <td>0</td>\n",
       "    </tr>\n",
       "    <tr>\n",
       "      <th>2</th>\n",
       "      <td>4465</td>\n",
       "      <td>1001 Spikes</td>\n",
       "      <td>2014</td>\n",
       "      <td>Nicalis</td>\n",
       "      <td>Action;Platformer;Platformer;2D;2D</td>\n",
       "      <td>PlayStation4</td>\n",
       "      <td>78</td>\n",
       "      <td>6.6</td>\n",
       "      <td>not specified</td>\n",
       "      <td>PS4</td>\n",
       "    </tr>\n",
       "    <tr>\n",
       "      <th>3</th>\n",
       "      <td>3896</td>\n",
       "      <td>1701 A.D.</td>\n",
       "      <td>2006</td>\n",
       "      <td>RelatedDesigns</td>\n",
       "      <td>Strategy;Real-Time;Historic;General;Historic</td>\n",
       "      <td>PC</td>\n",
       "      <td>79</td>\n",
       "      <td>8.4</td>\n",
       "      <td>4  Online</td>\n",
       "      <td>PC</td>\n",
       "    </tr>\n",
       "    <tr>\n",
       "      <th>4</th>\n",
       "      <td>3716</td>\n",
       "      <td>1979 Revolution Black Friday</td>\n",
       "      <td>2016</td>\n",
       "      <td>N-FusionInteractiveEntertainmentCorp.,iNKStories</td>\n",
       "      <td>Adventure;General</td>\n",
       "      <td>PC</td>\n",
       "      <td>80</td>\n",
       "      <td>7.7</td>\n",
       "      <td>No Online Multiplayer</td>\n",
       "      <td>PC</td>\n",
       "    </tr>\n",
       "  </tbody>\n",
       "</table>\n",
       "</div>"
      ],
      "text/plain": [
       "   Unnamed: 0                         Title  Year  \\\n",
       "0        3145  007  The World is not Enough  2000   \n",
       "1        2589             10 Second Ninja X  2016   \n",
       "2        4465                   1001 Spikes  2014   \n",
       "3        3896                     1701 A.D.  2006   \n",
       "4        3716  1979 Revolution Black Friday  2016   \n",
       "\n",
       "                                          Developer  \\\n",
       "0                      EurocomEntertainmentSoftware   \n",
       "1                                     GameDesignDan   \n",
       "2                                           Nicalis   \n",
       "3                                    RelatedDesigns   \n",
       "4  N-FusionInteractiveEntertainmentCorp.,iNKStories   \n",
       "\n",
       "                                          Genre      Platform Metascore  \\\n",
       "0            Action;Shooter;First-Person;Modern    Nintendo64        81   \n",
       "1                          Action;Platformer;2D       XboxOne        82   \n",
       "2            Action;Platformer;Platformer;2D;2D  PlayStation4        78   \n",
       "3  Strategy;Real-Time;Historic;General;Historic            PC        79   \n",
       "4                             Adventure;General            PC        80   \n",
       "\n",
       "  Avg_Userscore             No_Players Platform1  \n",
       "0           7.8                  1-Apr         0  \n",
       "1           4.5          not specified         0  \n",
       "2           6.6          not specified       PS4  \n",
       "3           8.4              4  Online        PC  \n",
       "4           7.7  No Online Multiplayer        PC  "
      ]
     },
     "execution_count": 6,
     "metadata": {},
     "output_type": "execute_result"
    }
   ],
   "source": [
    "# (gameInfo.Title + gameInfo.Year.astype(str) + gameInfo.Publisher + gameInfo.Genre + gameInfo.Platform).nunique()\n",
    "gameInfo.head()"
   ]
  },
  {
   "cell_type": "code",
   "execution_count": 7,
   "metadata": {},
   "outputs": [
    {
     "data": {
      "text/html": [
       "<div>\n",
       "<style scoped>\n",
       "    .dataframe tbody tr th:only-of-type {\n",
       "        vertical-align: middle;\n",
       "    }\n",
       "\n",
       "    .dataframe tbody tr th {\n",
       "        vertical-align: top;\n",
       "    }\n",
       "\n",
       "    .dataframe thead th {\n",
       "        text-align: right;\n",
       "    }\n",
       "</style>\n",
       "<table border=\"1\" class=\"dataframe\">\n",
       "  <thead>\n",
       "    <tr style=\"text-align: right;\">\n",
       "      <th></th>\n",
       "      <th>name</th>\n",
       "      <th>platform</th>\n",
       "      <th>platform1</th>\n",
       "      <th>user_rating</th>\n",
       "      <th>critic_rating</th>\n",
       "      <th>release_date</th>\n",
       "      <th>summary</th>\n",
       "      <th>description</th>\n",
       "      <th>metacritic</th>\n",
       "    </tr>\n",
       "  </thead>\n",
       "  <tbody>\n",
       "    <tr>\n",
       "      <th>0</th>\n",
       "      <td>Full Throttle</td>\n",
       "      <td>PC</td>\n",
       "      <td>PC</td>\n",
       "      <td>8.5</td>\n",
       "      <td>86</td>\n",
       "      <td>April 30, 1995</td>\n",
       "      <td>You're Ben--beaten, framed for murder and left...</td>\n",
       "      <td>&lt;p&gt;One minute you&amp;#39;re on the road, riding. ...</td>\n",
       "      <td>86.0</td>\n",
       "    </tr>\n",
       "    <tr>\n",
       "      <th>1</th>\n",
       "      <td>Sid Meier's Civilization II</td>\n",
       "      <td>PC</td>\n",
       "      <td>PC</td>\n",
       "      <td>8.7</td>\n",
       "      <td>94</td>\n",
       "      <td>February 29, 1996</td>\n",
       "      <td>An empire-building turn-based strategy game. T...</td>\n",
       "      <td>&lt;p&gt;Make every critical social, economic and po...</td>\n",
       "      <td>94.0</td>\n",
       "    </tr>\n",
       "    <tr>\n",
       "      <th>2</th>\n",
       "      <td>Quake</td>\n",
       "      <td>PC</td>\n",
       "      <td>PC</td>\n",
       "      <td>8.8</td>\n",
       "      <td>94</td>\n",
       "      <td>June 22, 1996</td>\n",
       "      <td>Rage through 32 single player levels and 6 dea...</td>\n",
       "      <td>&lt;h3&gt;The roots&lt;/h3&gt;\\r\\n&lt;p&gt;One of the classic re...</td>\n",
       "      <td>94.0</td>\n",
       "    </tr>\n",
       "    <tr>\n",
       "      <th>3</th>\n",
       "      <td>Diablo</td>\n",
       "      <td>PC</td>\n",
       "      <td>PC</td>\n",
       "      <td>8.6</td>\n",
       "      <td>94</td>\n",
       "      <td>December 31, 1996</td>\n",
       "      <td>The kingdom of Khandaras has fallen into chaos...</td>\n",
       "      <td>&lt;p&gt;Traveler, stay awhile and listen...&lt;/p&gt;\\r\\n...</td>\n",
       "      <td>94.0</td>\n",
       "    </tr>\n",
       "    <tr>\n",
       "      <th>4</th>\n",
       "      <td>Super Mario 64</td>\n",
       "      <td>Nintendo 64</td>\n",
       "      <td>NaN</td>\n",
       "      <td>9.1</td>\n",
       "      <td>94</td>\n",
       "      <td>September 26, 1996</td>\n",
       "      <td>Mario is super in a whole new way! Combining t...</td>\n",
       "      <td>&lt;p&gt;Mario is super in a whole new way! Combinin...</td>\n",
       "      <td>94.0</td>\n",
       "    </tr>\n",
       "  </tbody>\n",
       "</table>\n",
       "</div>"
      ],
      "text/plain": [
       "                          name     platform platform1  user_rating  \\\n",
       "0                Full Throttle           PC        PC          8.5   \n",
       "1  Sid Meier's Civilization II           PC        PC          8.7   \n",
       "2                        Quake           PC        PC          8.8   \n",
       "3                       Diablo           PC        PC          8.6   \n",
       "4               Super Mario 64  Nintendo 64       NaN          9.1   \n",
       "\n",
       "   critic_rating        release_date  \\\n",
       "0             86      April 30, 1995   \n",
       "1             94   February 29, 1996   \n",
       "2             94       June 22, 1996   \n",
       "3             94   December 31, 1996   \n",
       "4             94  September 26, 1996   \n",
       "\n",
       "                                             summary  \\\n",
       "0  You're Ben--beaten, framed for murder and left...   \n",
       "1  An empire-building turn-based strategy game. T...   \n",
       "2  Rage through 32 single player levels and 6 dea...   \n",
       "3  The kingdom of Khandaras has fallen into chaos...   \n",
       "4  Mario is super in a whole new way! Combining t...   \n",
       "\n",
       "                                         description  metacritic  \n",
       "0  <p>One minute you&#39;re on the road, riding. ...        86.0  \n",
       "1  <p>Make every critical social, economic and po...        94.0  \n",
       "2  <h3>The roots</h3>\\r\\n<p>One of the classic re...        94.0  \n",
       "3  <p>Traveler, stay awhile and listen...</p>\\r\\n...        94.0  \n",
       "4  <p>Mario is super in a whole new way! Combinin...        94.0  "
      ]
     },
     "execution_count": 7,
     "metadata": {},
     "output_type": "execute_result"
    }
   ],
   "source": [
    "# ratingsAndReleaseDate.name.nunique()\n",
    "ratingsAndReleaseDate.head()\n",
    "# ratingsAndReleaseDate.shape = 209"
   ]
  },
  {
   "cell_type": "code",
   "execution_count": 8,
   "metadata": {},
   "outputs": [
    {
     "data": {
      "text/html": [
       "<div>\n",
       "<style scoped>\n",
       "    .dataframe tbody tr th:only-of-type {\n",
       "        vertical-align: middle;\n",
       "    }\n",
       "\n",
       "    .dataframe tbody tr th {\n",
       "        vertical-align: top;\n",
       "    }\n",
       "\n",
       "    .dataframe thead th {\n",
       "        text-align: right;\n",
       "    }\n",
       "</style>\n",
       "<table border=\"1\" class=\"dataframe\">\n",
       "  <thead>\n",
       "    <tr style=\"text-align: right;\">\n",
       "      <th></th>\n",
       "      <th>no</th>\n",
       "      <th>name</th>\n",
       "      <th>platform</th>\n",
       "      <th>platform1</th>\n",
       "      <th>release_date</th>\n",
       "      <th>user_score</th>\n",
       "      <th>meta_score</th>\n",
       "      <th>summary</th>\n",
       "    </tr>\n",
       "  </thead>\n",
       "  <tbody>\n",
       "    <tr>\n",
       "      <th>0</th>\n",
       "      <td>0</td>\n",
       "      <td>Like a Dragon: Ishin!</td>\n",
       "      <td>Xbox Series X</td>\n",
       "      <td>NaN</td>\n",
       "      <td>2023-02-18</td>\n",
       "      <td>NaN</td>\n",
       "      <td>80.0</td>\n",
       "      <td>1860s Kyo is plagued by widespread inequality,...</td>\n",
       "    </tr>\n",
       "    <tr>\n",
       "      <th>1</th>\n",
       "      <td>1</td>\n",
       "      <td>FinalFort</td>\n",
       "      <td>PC</td>\n",
       "      <td>PC</td>\n",
       "      <td>2023-02-18</td>\n",
       "      <td>NaN</td>\n",
       "      <td>NaN</td>\n",
       "      <td>You will be humanity's last hope, building a w...</td>\n",
       "    </tr>\n",
       "    <tr>\n",
       "      <th>2</th>\n",
       "      <td>2</td>\n",
       "      <td>Like a Dragon: Ishin!</td>\n",
       "      <td>Xbox One</td>\n",
       "      <td>NaN</td>\n",
       "      <td>2023-02-18</td>\n",
       "      <td>NaN</td>\n",
       "      <td>NaN</td>\n",
       "      <td>1860s Kyo is plagued by widespread inequality,...</td>\n",
       "    </tr>\n",
       "    <tr>\n",
       "      <th>3</th>\n",
       "      <td>3</td>\n",
       "      <td>Tales of Symphonia Remastered</td>\n",
       "      <td>PlayStation 4</td>\n",
       "      <td>PS4</td>\n",
       "      <td>2023-02-17</td>\n",
       "      <td>NaN</td>\n",
       "      <td>68.0</td>\n",
       "      <td>In a dying world, legend has it that a Chosen ...</td>\n",
       "    </tr>\n",
       "    <tr>\n",
       "      <th>4</th>\n",
       "      <td>4</td>\n",
       "      <td>Tales of Symphonia Remastered</td>\n",
       "      <td>Switch</td>\n",
       "      <td>0</td>\n",
       "      <td>2023-02-17</td>\n",
       "      <td>NaN</td>\n",
       "      <td>68.0</td>\n",
       "      <td>In a dying world, legend has it that a Chosen ...</td>\n",
       "    </tr>\n",
       "  </tbody>\n",
       "</table>\n",
       "</div>"
      ],
      "text/plain": [
       "   no                           name       platform platform1 release_date  \\\n",
       "0   0          Like a Dragon: Ishin!  Xbox Series X       NaN   2023-02-18   \n",
       "1   1                      FinalFort             PC        PC   2023-02-18   \n",
       "2   2          Like a Dragon: Ishin!       Xbox One       NaN   2023-02-18   \n",
       "3   3  Tales of Symphonia Remastered  PlayStation 4       PS4   2023-02-17   \n",
       "4   4  Tales of Symphonia Remastered         Switch         0   2023-02-17   \n",
       "\n",
       "   user_score  meta_score                                            summary  \n",
       "0         NaN        80.0  1860s Kyo is plagued by widespread inequality,...  \n",
       "1         NaN         NaN  You will be humanity's last hope, building a w...  \n",
       "2         NaN         NaN  1860s Kyo is plagued by widespread inequality,...  \n",
       "3         NaN        68.0  In a dying world, legend has it that a Chosen ...  \n",
       "4         NaN        68.0  In a dying world, legend has it that a Chosen ...  "
      ]
     },
     "execution_count": 8,
     "metadata": {},
     "output_type": "execute_result"
    }
   ],
   "source": [
    "gameScore.head()"
   ]
  },
  {
   "cell_type": "code",
   "execution_count": 9,
   "metadata": {},
   "outputs": [
    {
     "data": {
      "text/html": [
       "<div>\n",
       "<style scoped>\n",
       "    .dataframe tbody tr th:only-of-type {\n",
       "        vertical-align: middle;\n",
       "    }\n",
       "\n",
       "    .dataframe tbody tr th {\n",
       "        vertical-align: top;\n",
       "    }\n",
       "\n",
       "    .dataframe thead th {\n",
       "        text-align: right;\n",
       "    }\n",
       "</style>\n",
       "<table border=\"1\" class=\"dataframe\">\n",
       "  <thead>\n",
       "    <tr style=\"text-align: right;\">\n",
       "      <th></th>\n",
       "      <th>title</th>\n",
       "      <th>platform</th>\n",
       "      <th>genre</th>\n",
       "      <th>publisher</th>\n",
       "      <th>vg_score</th>\n",
       "      <th>critic_score</th>\n",
       "      <th>user_score</th>\n",
       "      <th>total_shipped</th>\n",
       "      <th>aisan_sales</th>\n",
       "      <th>north_american_sales</th>\n",
       "      <th>japan_sales</th>\n",
       "      <th>european_sales</th>\n",
       "      <th>global_sales</th>\n",
       "      <th>Production Cost</th>\n",
       "      <th>release_year</th>\n",
       "      <th>Developer_metacritic_game_info</th>\n",
       "      <th>Genre_metacritic_game_info</th>\n",
       "      <th>Metascore_metacritic_game_info</th>\n",
       "      <th>Avg_Userscore_metacritic_game_info</th>\n",
       "      <th>No. of players_metacritic_game_info</th>\n",
       "      <th>releasedate_1986-2023</th>\n",
       "      <th>releasedate_VGOutput</th>\n",
       "      <th>releasedate_raw</th>\n",
       "      <th>releasedate_quarter</th>\n",
       "      <th>releasedate_link</th>\n",
       "    </tr>\n",
       "  </thead>\n",
       "  <tbody>\n",
       "    <tr>\n",
       "      <th>0</th>\n",
       "      <td>(c 12) Final Resistance</td>\n",
       "      <td>PS</td>\n",
       "      <td>Shooter</td>\n",
       "      <td>IBM</td>\n",
       "      <td>1.0</td>\n",
       "      <td>6.5</td>\n",
       "      <td>4.0</td>\n",
       "      <td>8.0</td>\n",
       "      <td>5.08</td>\n",
       "      <td>1.10</td>\n",
       "      <td>5.70</td>\n",
       "      <td>3.54</td>\n",
       "      <td>15.42</td>\n",
       "      <td>1.98</td>\n",
       "      <td>2002</td>\n",
       "      <td>NaN</td>\n",
       "      <td>NaN</td>\n",
       "      <td>NaN</td>\n",
       "      <td>NaN</td>\n",
       "      <td>NaN</td>\n",
       "      <td>NaN</td>\n",
       "      <td>NaN</td>\n",
       "      <td>NaN</td>\n",
       "      <td>00:00:00</td>\n",
       "      <td>https://www.google.com/search?q=(c 12) Final R...</td>\n",
       "    </tr>\n",
       "    <tr>\n",
       "      <th>1</th>\n",
       "      <td>.hack Sekai no Mukou ni  Versus</td>\n",
       "      <td>PS3</td>\n",
       "      <td>Fighting</td>\n",
       "      <td>IBM</td>\n",
       "      <td>6.0</td>\n",
       "      <td>10.0</td>\n",
       "      <td>6.0</td>\n",
       "      <td>269.0</td>\n",
       "      <td>3.00</td>\n",
       "      <td>1.86</td>\n",
       "      <td>0.03</td>\n",
       "      <td>6.43</td>\n",
       "      <td>8.35</td>\n",
       "      <td>3.34</td>\n",
       "      <td>2012</td>\n",
       "      <td>NaN</td>\n",
       "      <td>NaN</td>\n",
       "      <td>NaN</td>\n",
       "      <td>NaN</td>\n",
       "      <td>NaN</td>\n",
       "      <td>NaN</td>\n",
       "      <td>NaN</td>\n",
       "      <td>NaN</td>\n",
       "      <td>00:00:00</td>\n",
       "      <td>https://www.google.com/search?q=.hack Sekai no...</td>\n",
       "    </tr>\n",
       "    <tr>\n",
       "      <th>2</th>\n",
       "      <td>007 Quantum of Solace</td>\n",
       "      <td>PS2</td>\n",
       "      <td>Shooter</td>\n",
       "      <td>Activision</td>\n",
       "      <td>8.0</td>\n",
       "      <td>7.8</td>\n",
       "      <td>4.0</td>\n",
       "      <td>81.0</td>\n",
       "      <td>3.00</td>\n",
       "      <td>0.17</td>\n",
       "      <td>1.21</td>\n",
       "      <td>2.22</td>\n",
       "      <td>4.03</td>\n",
       "      <td>2.05</td>\n",
       "      <td>2008</td>\n",
       "      <td>NaN</td>\n",
       "      <td>NaN</td>\n",
       "      <td>NaN</td>\n",
       "      <td>NaN</td>\n",
       "      <td>NaN</td>\n",
       "      <td>NaN</td>\n",
       "      <td>NaN</td>\n",
       "      <td>NaN</td>\n",
       "      <td>00:00:00</td>\n",
       "      <td>https://www.google.com/search?q=007 Quantum of...</td>\n",
       "    </tr>\n",
       "    <tr>\n",
       "      <th>3</th>\n",
       "      <td>007 Quantum of Solace</td>\n",
       "      <td>PS3</td>\n",
       "      <td>Shooter</td>\n",
       "      <td>Activision</td>\n",
       "      <td>3.0</td>\n",
       "      <td>6.6</td>\n",
       "      <td>10.0</td>\n",
       "      <td>158.0</td>\n",
       "      <td>1.14</td>\n",
       "      <td>0.43</td>\n",
       "      <td>0.02</td>\n",
       "      <td>0.51</td>\n",
       "      <td>2.10</td>\n",
       "      <td>1.19</td>\n",
       "      <td>2008</td>\n",
       "      <td>NaN</td>\n",
       "      <td>NaN</td>\n",
       "      <td>NaN</td>\n",
       "      <td>NaN</td>\n",
       "      <td>NaN</td>\n",
       "      <td>NaN</td>\n",
       "      <td>NaN</td>\n",
       "      <td>NaN</td>\n",
       "      <td>00:00:00</td>\n",
       "      <td>https://www.google.com/search?q=007 Quantum of...</td>\n",
       "    </tr>\n",
       "    <tr>\n",
       "      <th>4</th>\n",
       "      <td>007 The World is not Enough</td>\n",
       "      <td>PS</td>\n",
       "      <td>Shooter</td>\n",
       "      <td>Electronic Arts</td>\n",
       "      <td>1.0</td>\n",
       "      <td>6.4</td>\n",
       "      <td>1.0</td>\n",
       "      <td>240.0</td>\n",
       "      <td>3.00</td>\n",
       "      <td>0.51</td>\n",
       "      <td>3.75</td>\n",
       "      <td>0.35</td>\n",
       "      <td>5.53</td>\n",
       "      <td>1.50</td>\n",
       "      <td>2000</td>\n",
       "      <td>NaN</td>\n",
       "      <td>NaN</td>\n",
       "      <td>NaN</td>\n",
       "      <td>NaN</td>\n",
       "      <td>NaN</td>\n",
       "      <td>NaN</td>\n",
       "      <td>NaN</td>\n",
       "      <td>NaN</td>\n",
       "      <td>00:00:00</td>\n",
       "      <td>https://www.google.com/search?q=007 The World ...</td>\n",
       "    </tr>\n",
       "  </tbody>\n",
       "</table>\n",
       "</div>"
      ],
      "text/plain": [
       "                             title platform     genre        publisher  \\\n",
       "0          (c 12) Final Resistance       PS   Shooter              IBM   \n",
       "1  .hack Sekai no Mukou ni  Versus      PS3  Fighting              IBM   \n",
       "2            007 Quantum of Solace      PS2   Shooter       Activision   \n",
       "3            007 Quantum of Solace      PS3   Shooter       Activision   \n",
       "4      007 The World is not Enough       PS   Shooter  Electronic Arts   \n",
       "\n",
       "   vg_score  critic_score  user_score  total_shipped  aisan_sales  \\\n",
       "0       1.0           6.5         4.0            8.0         5.08   \n",
       "1       6.0          10.0         6.0          269.0         3.00   \n",
       "2       8.0           7.8         4.0           81.0         3.00   \n",
       "3       3.0           6.6        10.0          158.0         1.14   \n",
       "4       1.0           6.4         1.0          240.0         3.00   \n",
       "\n",
       "   north_american_sales  japan_sales  european_sales  global_sales  \\\n",
       "0                  1.10         5.70            3.54         15.42   \n",
       "1                  1.86         0.03            6.43          8.35   \n",
       "2                  0.17         1.21            2.22          4.03   \n",
       "3                  0.43         0.02            0.51          2.10   \n",
       "4                  0.51         3.75            0.35          5.53   \n",
       "\n",
       "   Production Cost  release_year Developer_metacritic_game_info  \\\n",
       "0             1.98          2002                            NaN   \n",
       "1             3.34          2012                            NaN   \n",
       "2             2.05          2008                            NaN   \n",
       "3             1.19          2008                            NaN   \n",
       "4             1.50          2000                            NaN   \n",
       "\n",
       "  Genre_metacritic_game_info  Metascore_metacritic_game_info  \\\n",
       "0                        NaN                             NaN   \n",
       "1                        NaN                             NaN   \n",
       "2                        NaN                             NaN   \n",
       "3                        NaN                             NaN   \n",
       "4                        NaN                             NaN   \n",
       "\n",
       "  Avg_Userscore_metacritic_game_info  No. of players_metacritic_game_info  \\\n",
       "0                                NaN                                  NaN   \n",
       "1                                NaN                                  NaN   \n",
       "2                                NaN                                  NaN   \n",
       "3                                NaN                                  NaN   \n",
       "4                                NaN                                  NaN   \n",
       "\n",
       "   releasedate_1986-2023 releasedate_VGOutput releasedate_raw  \\\n",
       "0                    NaN                  NaN             NaN   \n",
       "1                    NaN                  NaN             NaN   \n",
       "2                    NaN                  NaN             NaN   \n",
       "3                    NaN                  NaN             NaN   \n",
       "4                    NaN                  NaN             NaN   \n",
       "\n",
       "  releasedate_quarter                                   releasedate_link  \n",
       "0            00:00:00  https://www.google.com/search?q=(c 12) Final R...  \n",
       "1            00:00:00  https://www.google.com/search?q=.hack Sekai no...  \n",
       "2            00:00:00  https://www.google.com/search?q=007 Quantum of...  \n",
       "3            00:00:00  https://www.google.com/search?q=007 Quantum of...  \n",
       "4            00:00:00  https://www.google.com/search?q=007 The World ...  "
      ]
     },
     "execution_count": 9,
     "metadata": {},
     "output_type": "execute_result"
    }
   ],
   "source": [
    "gameSales.head()"
   ]
  },
  {
   "cell_type": "markdown",
   "metadata": {},
   "source": [
    "### userComments"
   ]
  },
  {
   "cell_type": "code",
   "execution_count": 10,
   "metadata": {},
   "outputs": [],
   "source": [
    "# userComments.groupby('Title').first().sort_values(by = 'Title').reset_index()"
   ]
  },
  {
   "cell_type": "code",
   "execution_count": 11,
   "metadata": {},
   "outputs": [],
   "source": [
    "userComments3['Unnamed: 0'] = userComments3['Unnamed: 0'].astype('float64')\n",
    "userComments3['Userscore'] = userComments3['Userscore'].astype('float64')\n",
    "\n",
    "userComments = pd.concat([userComments1, userComments2, userComments3], axis = 0)\n",
    "userComments.drop(columns = 'Unnamed: 0', inplace = True)\n",
    "userComments.dropna(how = 'all', inplace = True)"
   ]
  },
  {
   "cell_type": "code",
   "execution_count": 12,
   "metadata": {},
   "outputs": [
    {
     "name": "stdout",
     "output_type": "stream",
     "text": [
      "<class 'pandas.core.frame.DataFrame'>\n",
      "Int64Index: 283983 entries, 0 to 83981\n",
      "Data columns (total 5 columns):\n",
      " #   Column     Non-Null Count   Dtype  \n",
      "---  ------     --------------   -----  \n",
      " 0   Title      283983 non-null  object \n",
      " 1   Platform   283983 non-null  object \n",
      " 2   Userscore  283983 non-null  float64\n",
      " 3   Comment    283960 non-null  object \n",
      " 4   Username   283980 non-null  object \n",
      "dtypes: float64(1), object(4)\n",
      "memory usage: 13.0+ MB\n"
     ]
    }
   ],
   "source": [
    "# Comments >> 23 missing entries\n",
    "# Username   >> 3 missing entries\n",
    "userComments.info()"
   ]
  },
  {
   "cell_type": "code",
   "execution_count": 13,
   "metadata": {},
   "outputs": [
    {
     "data": {
      "text/html": [
       "<div>\n",
       "<style scoped>\n",
       "    .dataframe tbody tr th:only-of-type {\n",
       "        vertical-align: middle;\n",
       "    }\n",
       "\n",
       "    .dataframe tbody tr th {\n",
       "        vertical-align: top;\n",
       "    }\n",
       "\n",
       "    .dataframe thead th {\n",
       "        text-align: right;\n",
       "    }\n",
       "</style>\n",
       "<table border=\"1\" class=\"dataframe\">\n",
       "  <thead>\n",
       "    <tr style=\"text-align: right;\">\n",
       "      <th></th>\n",
       "      <th>Userscore</th>\n",
       "    </tr>\n",
       "  </thead>\n",
       "  <tbody>\n",
       "    <tr>\n",
       "      <th>count</th>\n",
       "      <td>283983.000000</td>\n",
       "    </tr>\n",
       "    <tr>\n",
       "      <th>mean</th>\n",
       "      <td>7.618308</td>\n",
       "    </tr>\n",
       "    <tr>\n",
       "      <th>std</th>\n",
       "      <td>3.131767</td>\n",
       "    </tr>\n",
       "    <tr>\n",
       "      <th>min</th>\n",
       "      <td>0.000000</td>\n",
       "    </tr>\n",
       "    <tr>\n",
       "      <th>25%</th>\n",
       "      <td>7.000000</td>\n",
       "    </tr>\n",
       "    <tr>\n",
       "      <th>50%</th>\n",
       "      <td>9.000000</td>\n",
       "    </tr>\n",
       "    <tr>\n",
       "      <th>75%</th>\n",
       "      <td>10.000000</td>\n",
       "    </tr>\n",
       "    <tr>\n",
       "      <th>max</th>\n",
       "      <td>10.000000</td>\n",
       "    </tr>\n",
       "  </tbody>\n",
       "</table>\n",
       "</div>"
      ],
      "text/plain": [
       "           Userscore\n",
       "count  283983.000000\n",
       "mean        7.618308\n",
       "std         3.131767\n",
       "min         0.000000\n",
       "25%         7.000000\n",
       "50%         9.000000\n",
       "75%        10.000000\n",
       "max        10.000000"
      ]
     },
     "execution_count": 13,
     "metadata": {},
     "output_type": "execute_result"
    }
   ],
   "source": [
    "userComments.describe()"
   ]
  },
  {
   "cell_type": "code",
   "execution_count": 14,
   "metadata": {},
   "outputs": [],
   "source": [
    "hist(userComments, 'Userscore')"
   ]
  },
  {
   "cell_type": "code",
   "execution_count": 15,
   "metadata": {},
   "outputs": [
    {
     "data": {
      "text/html": [
       "<div>\n",
       "<style scoped>\n",
       "    .dataframe tbody tr th:only-of-type {\n",
       "        vertical-align: middle;\n",
       "    }\n",
       "\n",
       "    .dataframe tbody tr th {\n",
       "        vertical-align: top;\n",
       "    }\n",
       "\n",
       "    .dataframe thead th {\n",
       "        text-align: right;\n",
       "    }\n",
       "</style>\n",
       "<table border=\"1\" class=\"dataframe\">\n",
       "  <thead>\n",
       "    <tr style=\"text-align: right;\">\n",
       "      <th></th>\n",
       "      <th>Title</th>\n",
       "      <th>Platform</th>\n",
       "      <th>Userscore</th>\n",
       "      <th>Comment</th>\n",
       "      <th>Username</th>\n",
       "    </tr>\n",
       "  </thead>\n",
       "  <tbody>\n",
       "    <tr>\n",
       "      <th>0</th>\n",
       "      <td>The Legend of Zelda: Ocarina of Time</td>\n",
       "      <td>Nintendo64</td>\n",
       "      <td>10.0</td>\n",
       "      <td>Everything in OoT is so near at perfection, it...</td>\n",
       "      <td>SirCaestus</td>\n",
       "    </tr>\n",
       "    <tr>\n",
       "      <th>1</th>\n",
       "      <td>The Legend of Zelda: Ocarina of Time</td>\n",
       "      <td>Nintendo64</td>\n",
       "      <td>10.0</td>\n",
       "      <td>I won't bore you with what everyone is already...</td>\n",
       "      <td>Kaistlin</td>\n",
       "    </tr>\n",
       "    <tr>\n",
       "      <th>2</th>\n",
       "      <td>The Legend of Zelda: Ocarina of Time</td>\n",
       "      <td>Nintendo64</td>\n",
       "      <td>10.0</td>\n",
       "      <td>Anyone who gives the masterpiece below a 7 or ...</td>\n",
       "      <td>Jacody</td>\n",
       "    </tr>\n",
       "    <tr>\n",
       "      <th>3</th>\n",
       "      <td>The Legend of Zelda: Ocarina of Time</td>\n",
       "      <td>Nintendo64</td>\n",
       "      <td>10.0</td>\n",
       "      <td>I'm one of those people who think that this is...</td>\n",
       "      <td>doodlerman</td>\n",
       "    </tr>\n",
       "    <tr>\n",
       "      <th>4</th>\n",
       "      <td>The Legend of Zelda: Ocarina of Time</td>\n",
       "      <td>Nintendo64</td>\n",
       "      <td>10.0</td>\n",
       "      <td>This game is the highest rated game on Metacr...</td>\n",
       "      <td>StevenA</td>\n",
       "    </tr>\n",
       "  </tbody>\n",
       "</table>\n",
       "</div>"
      ],
      "text/plain": [
       "                                  Title    Platform  Userscore  \\\n",
       "0  The Legend of Zelda: Ocarina of Time  Nintendo64       10.0   \n",
       "1  The Legend of Zelda: Ocarina of Time  Nintendo64       10.0   \n",
       "2  The Legend of Zelda: Ocarina of Time  Nintendo64       10.0   \n",
       "3  The Legend of Zelda: Ocarina of Time  Nintendo64       10.0   \n",
       "4  The Legend of Zelda: Ocarina of Time  Nintendo64       10.0   \n",
       "\n",
       "                                             Comment    Username  \n",
       "0  Everything in OoT is so near at perfection, it...  SirCaestus  \n",
       "1  I won't bore you with what everyone is already...    Kaistlin  \n",
       "2  Anyone who gives the masterpiece below a 7 or ...      Jacody  \n",
       "3  I'm one of those people who think that this is...  doodlerman  \n",
       "4   This game is the highest rated game on Metacr...     StevenA  "
      ]
     },
     "execution_count": 15,
     "metadata": {},
     "output_type": "execute_result"
    }
   ],
   "source": [
    "userComments.head()"
   ]
  },
  {
   "cell_type": "code",
   "execution_count": 16,
   "metadata": {},
   "outputs": [
    {
     "data": {
      "text/plain": [
       "(283983, 5)"
      ]
     },
     "execution_count": 16,
     "metadata": {},
     "output_type": "execute_result"
    }
   ],
   "source": [
    "userComments.shape"
   ]
  },
  {
   "cell_type": "code",
   "execution_count": 17,
   "metadata": {},
   "outputs": [
    {
     "data": {
      "text/plain": [
       "281300"
      ]
     },
     "execution_count": 17,
     "metadata": {},
     "output_type": "execute_result"
    }
   ],
   "source": [
    "# some users commented & gave rating more than once per game and platform\n",
    "(userComments.Title + userComments.Platform + userComments.Username).nunique()"
   ]
  },
  {
   "cell_type": "code",
   "execution_count": 18,
   "metadata": {},
   "outputs": [
    {
     "data": {
      "text/html": [
       "<div>\n",
       "<style scoped>\n",
       "    .dataframe tbody tr th:only-of-type {\n",
       "        vertical-align: middle;\n",
       "    }\n",
       "\n",
       "    .dataframe tbody tr th {\n",
       "        vertical-align: top;\n",
       "    }\n",
       "\n",
       "    .dataframe thead th {\n",
       "        text-align: right;\n",
       "    }\n",
       "</style>\n",
       "<table border=\"1\" class=\"dataframe\">\n",
       "  <thead>\n",
       "    <tr style=\"text-align: right;\">\n",
       "      <th></th>\n",
       "      <th>Title</th>\n",
       "      <th>Comment</th>\n",
       "    </tr>\n",
       "  </thead>\n",
       "  <tbody>\n",
       "    <tr>\n",
       "      <th>218</th>\n",
       "      <td>Call of Duty: Modern Warfare 3</td>\n",
       "      <td>5841</td>\n",
       "    </tr>\n",
       "    <tr>\n",
       "      <th>407</th>\n",
       "      <td>Diablo III</td>\n",
       "      <td>4876</td>\n",
       "    </tr>\n",
       "    <tr>\n",
       "      <th>1933</th>\n",
       "      <td>The Elder Scrolls V: Skyrim</td>\n",
       "      <td>4239</td>\n",
       "    </tr>\n",
       "    <tr>\n",
       "      <th>1053</th>\n",
       "      <td>Mass Effect 3</td>\n",
       "      <td>3793</td>\n",
       "    </tr>\n",
       "    <tr>\n",
       "      <th>444</th>\n",
       "      <td>Dota 2</td>\n",
       "      <td>3563</td>\n",
       "    </tr>\n",
       "    <tr>\n",
       "      <th>739</th>\n",
       "      <td>Grand Theft Auto V</td>\n",
       "      <td>3562</td>\n",
       "    </tr>\n",
       "    <tr>\n",
       "      <th>575</th>\n",
       "      <td>Fallout 4</td>\n",
       "      <td>3529</td>\n",
       "    </tr>\n",
       "    <tr>\n",
       "      <th>117</th>\n",
       "      <td>Battlefield 3</td>\n",
       "      <td>2960</td>\n",
       "    </tr>\n",
       "    <tr>\n",
       "      <th>2022</th>\n",
       "      <td>The Witcher 3: Wild Hunt</td>\n",
       "      <td>2739</td>\n",
       "    </tr>\n",
       "    <tr>\n",
       "      <th>1955</th>\n",
       "      <td>The Legend of Zelda: Breath of the Wild</td>\n",
       "      <td>2641</td>\n",
       "    </tr>\n",
       "  </tbody>\n",
       "</table>\n",
       "</div>"
      ],
      "text/plain": [
       "                                        Title  Comment\n",
       "218            Call of Duty: Modern Warfare 3     5841\n",
       "407                                Diablo III     4876\n",
       "1933              The Elder Scrolls V: Skyrim     4239\n",
       "1053                            Mass Effect 3     3793\n",
       "444                                    Dota 2     3563\n",
       "739                        Grand Theft Auto V     3562\n",
       "575                                 Fallout 4     3529\n",
       "117                             Battlefield 3     2960\n",
       "2022                 The Witcher 3: Wild Hunt     2739\n",
       "1955  The Legend of Zelda: Breath of the Wild     2641"
      ]
     },
     "execution_count": 18,
     "metadata": {},
     "output_type": "execute_result"
    }
   ],
   "source": [
    "userComments[['Title', 'Comment']].groupby('Title').count().reset_index().sort_values(by = 'Comment', ascending = False).head(10)"
   ]
  },
  {
   "cell_type": "code",
   "execution_count": null,
   "metadata": {},
   "outputs": [],
   "source": []
  },
  {
   "cell_type": "code",
   "execution_count": null,
   "metadata": {},
   "outputs": [],
   "source": []
  },
  {
   "cell_type": "code",
   "execution_count": null,
   "metadata": {},
   "outputs": [],
   "source": []
  },
  {
   "cell_type": "code",
   "execution_count": null,
   "metadata": {},
   "outputs": [],
   "source": []
  },
  {
   "cell_type": "markdown",
   "metadata": {},
   "source": [
    "### gameInfo"
   ]
  },
  {
   "cell_type": "code",
   "execution_count": 19,
   "metadata": {},
   "outputs": [],
   "source": [
    "gameInfo.drop(columns = 'Unnamed: 0', inplace = True)"
   ]
  },
  {
   "cell_type": "code",
   "execution_count": 20,
   "metadata": {},
   "outputs": [],
   "source": [
    "gameInfo.loc[gameInfo.Metascore == 'not specified', 'Metascore'] = -999\n",
    "gameInfo['Metascore'] = gameInfo.Metascore.astype('float64')\n",
    "\n",
    "gameInfo.loc[gameInfo.Avg_Userscore == 'not specified', 'Avg_Userscore'] = -999\n",
    "gameInfo.loc[gameInfo.Avg_Userscore == 'tbd', 'Avg_Userscore'] = -998\n",
    "gameInfo['Avg_Userscore'] = gameInfo.Avg_Userscore.astype('float64')\n",
    "\n",
    "gameInfo.loc[gameInfo.Year == 'not specified', 'Year'] = -999\n",
    "gameInfo['Year'] = gameInfo.Year.astype('int64')"
   ]
  },
  {
   "cell_type": "code",
   "execution_count": 21,
   "metadata": {},
   "outputs": [
    {
     "data": {
      "text/plain": [
       "(75, 9)"
      ]
     },
     "execution_count": 21,
     "metadata": {},
     "output_type": "execute_result"
    }
   ],
   "source": [
    "gameInfo = gameInfo[gameInfo.Year != -999] # 11 rows removed (all Metascore = -999 are removed too)\n",
    "gameInfo = gameInfo[gameInfo.Avg_Userscore != -999] # 1 row removed\n",
    "\n",
    "gameInfo[gameInfo.Avg_Userscore == -998].shape # 75 rows .. keep? not sure if this col is impt"
   ]
  },
  {
   "cell_type": "code",
   "execution_count": 22,
   "metadata": {},
   "outputs": [
    {
     "data": {
      "text/plain": [
       "(52,)"
      ]
     },
     "execution_count": 22,
     "metadata": {},
     "output_type": "execute_result"
    }
   ],
   "source": [
    "# No_Players >> 52 categories .. combine them??\n",
    "gameInfo.No_Players.value_counts().shape\n",
    "# gameInfo.No_Players.value_counts()"
   ]
  },
  {
   "cell_type": "code",
   "execution_count": 23,
   "metadata": {},
   "outputs": [],
   "source": [
    "# gameInfo.No_Players.value_counts()"
   ]
  },
  {
   "cell_type": "code",
   "execution_count": 24,
   "metadata": {},
   "outputs": [
    {
     "name": "stdout",
     "output_type": "stream",
     "text": [
      "<class 'pandas.core.frame.DataFrame'>\n",
      "Int64Index: 4988 entries, 0 to 4999\n",
      "Data columns (total 9 columns):\n",
      " #   Column         Non-Null Count  Dtype  \n",
      "---  ------         --------------  -----  \n",
      " 0   Title          4988 non-null   object \n",
      " 1   Year           4988 non-null   int64  \n",
      " 2   Developer      4988 non-null   object \n",
      " 3   Genre          4988 non-null   object \n",
      " 4   Platform       4988 non-null   object \n",
      " 5   Metascore      4988 non-null   float64\n",
      " 6   Avg_Userscore  4988 non-null   float64\n",
      " 7   No_Players     4981 non-null   object \n",
      " 8   Platform1      4988 non-null   object \n",
      "dtypes: float64(2), int64(1), object(6)\n",
      "memory usage: 389.7+ KB\n"
     ]
    }
   ],
   "source": [
    "# No_Players .. 7 missing entries\n",
    "gameInfo.info()"
   ]
  },
  {
   "cell_type": "code",
   "execution_count": 25,
   "metadata": {},
   "outputs": [
    {
     "data": {
      "text/plain": [
       "count    4988.000000\n",
       "mean       83.123697\n",
       "std         4.342992\n",
       "min        77.000000\n",
       "25%        80.000000\n",
       "50%        82.000000\n",
       "75%        86.000000\n",
       "max        99.000000\n",
       "Name: Metascore, dtype: float64"
      ]
     },
     "execution_count": 25,
     "metadata": {},
     "output_type": "execute_result"
    }
   ],
   "source": [
    "gameInfo.Metascore.describe()"
   ]
  },
  {
   "cell_type": "code",
   "execution_count": 26,
   "metadata": {},
   "outputs": [
    {
     "ename": "NameError",
     "evalue": "name 'hist' is not defined",
     "output_type": "error",
     "traceback": [
      "\u001b[1;31m---------------------------------------------------------------------------\u001b[0m",
      "\u001b[1;31mNameError\u001b[0m                                 Traceback (most recent call last)",
      "\u001b[1;32mc:\\Users\\Michael\\Documents\\GitHub\\EBAC\\dataProcessing\\dataProcessing.ipynb Cell 34\u001b[0m line \u001b[0;36m6\n\u001b[0;32m      <a href='vscode-notebook-cell:/c%3A/Users/Michael/Documents/GitHub/EBAC/dataProcessing/dataProcessing.ipynb#Y142sZmlsZQ%3D%3D?line=3'>4</a>\u001b[0m     hist(test, x)\n\u001b[0;32m      <a href='vscode-notebook-cell:/c%3A/Users/Michael/Documents/GitHub/EBAC/dataProcessing/dataProcessing.ipynb#Y142sZmlsZQ%3D%3D?line=4'>5</a>\u001b[0m \u001b[39melse\u001b[39;00m:\n\u001b[1;32m----> <a href='vscode-notebook-cell:/c%3A/Users/Michael/Documents/GitHub/EBAC/dataProcessing/dataProcessing.ipynb#Y142sZmlsZQ%3D%3D?line=5'>6</a>\u001b[0m     hist(gameInfo, x)\n",
      "\u001b[1;31mNameError\u001b[0m: name 'hist' is not defined"
     ]
    }
   ],
   "source": [
    "for x in gameInfo.select_dtypes(include=['Int64', 'float64']):\n",
    "    if x == 'Avg_Userscore':\n",
    "        test = gameInfo[gameInfo[x] != -998]\n",
    "        hist(test, x)\n",
    "    else:\n",
    "        hist(gameInfo, x)"
   ]
  },
  {
   "cell_type": "code",
   "execution_count": null,
   "metadata": {},
   "outputs": [
    {
     "data": {
      "text/html": [
       "<div>\n",
       "<style scoped>\n",
       "    .dataframe tbody tr th:only-of-type {\n",
       "        vertical-align: middle;\n",
       "    }\n",
       "\n",
       "    .dataframe tbody tr th {\n",
       "        vertical-align: top;\n",
       "    }\n",
       "\n",
       "    .dataframe thead th {\n",
       "        text-align: right;\n",
       "    }\n",
       "</style>\n",
       "<table border=\"1\" class=\"dataframe\">\n",
       "  <thead>\n",
       "    <tr style=\"text-align: right;\">\n",
       "      <th></th>\n",
       "      <th>Title</th>\n",
       "      <th>Year</th>\n",
       "      <th>Developer</th>\n",
       "      <th>Genre</th>\n",
       "      <th>Platform</th>\n",
       "      <th>Metascore</th>\n",
       "      <th>Avg_Userscore</th>\n",
       "      <th>No_Players</th>\n",
       "      <th>Platform1</th>\n",
       "    </tr>\n",
       "  </thead>\n",
       "  <tbody>\n",
       "    <tr>\n",
       "      <th>0</th>\n",
       "      <td>007  The World is not Enough</td>\n",
       "      <td>2000</td>\n",
       "      <td>EurocomEntertainmentSoftware</td>\n",
       "      <td>Action;Shooter;First-Person;Modern</td>\n",
       "      <td>Nintendo64</td>\n",
       "      <td>81.0</td>\n",
       "      <td>7.8</td>\n",
       "      <td>1-Apr</td>\n",
       "      <td>0</td>\n",
       "    </tr>\n",
       "    <tr>\n",
       "      <th>1</th>\n",
       "      <td>10 Second Ninja X</td>\n",
       "      <td>2016</td>\n",
       "      <td>GameDesignDan</td>\n",
       "      <td>Action;Platformer;2D</td>\n",
       "      <td>XboxOne</td>\n",
       "      <td>82.0</td>\n",
       "      <td>4.5</td>\n",
       "      <td>not specified</td>\n",
       "      <td>0</td>\n",
       "    </tr>\n",
       "    <tr>\n",
       "      <th>2</th>\n",
       "      <td>1001 Spikes</td>\n",
       "      <td>2014</td>\n",
       "      <td>Nicalis</td>\n",
       "      <td>Action;Platformer;Platformer;2D;2D</td>\n",
       "      <td>PlayStation4</td>\n",
       "      <td>78.0</td>\n",
       "      <td>6.6</td>\n",
       "      <td>not specified</td>\n",
       "      <td>PS4</td>\n",
       "    </tr>\n",
       "    <tr>\n",
       "      <th>3</th>\n",
       "      <td>1701 A.D.</td>\n",
       "      <td>2006</td>\n",
       "      <td>RelatedDesigns</td>\n",
       "      <td>Strategy;Real-Time;Historic;General;Historic</td>\n",
       "      <td>PC</td>\n",
       "      <td>79.0</td>\n",
       "      <td>8.4</td>\n",
       "      <td>4  Online</td>\n",
       "      <td>PC</td>\n",
       "    </tr>\n",
       "    <tr>\n",
       "      <th>4</th>\n",
       "      <td>1979 Revolution Black Friday</td>\n",
       "      <td>2016</td>\n",
       "      <td>N-FusionInteractiveEntertainmentCorp.,iNKStories</td>\n",
       "      <td>Adventure;General</td>\n",
       "      <td>PC</td>\n",
       "      <td>80.0</td>\n",
       "      <td>7.7</td>\n",
       "      <td>No Online Multiplayer</td>\n",
       "      <td>PC</td>\n",
       "    </tr>\n",
       "  </tbody>\n",
       "</table>\n",
       "</div>"
      ],
      "text/plain": [
       "                          Title  Year  \\\n",
       "0  007  The World is not Enough  2000   \n",
       "1             10 Second Ninja X  2016   \n",
       "2                   1001 Spikes  2014   \n",
       "3                     1701 A.D.  2006   \n",
       "4  1979 Revolution Black Friday  2016   \n",
       "\n",
       "                                          Developer  \\\n",
       "0                      EurocomEntertainmentSoftware   \n",
       "1                                     GameDesignDan   \n",
       "2                                           Nicalis   \n",
       "3                                    RelatedDesigns   \n",
       "4  N-FusionInteractiveEntertainmentCorp.,iNKStories   \n",
       "\n",
       "                                          Genre      Platform  Metascore  \\\n",
       "0            Action;Shooter;First-Person;Modern    Nintendo64       81.0   \n",
       "1                          Action;Platformer;2D       XboxOne       82.0   \n",
       "2            Action;Platformer;Platformer;2D;2D  PlayStation4       78.0   \n",
       "3  Strategy;Real-Time;Historic;General;Historic            PC       79.0   \n",
       "4                             Adventure;General            PC       80.0   \n",
       "\n",
       "   Avg_Userscore             No_Players Platform1  \n",
       "0            7.8                  1-Apr         0  \n",
       "1            4.5          not specified         0  \n",
       "2            6.6          not specified       PS4  \n",
       "3            8.4              4  Online        PC  \n",
       "4            7.7  No Online Multiplayer        PC  "
      ]
     },
     "execution_count": 40,
     "metadata": {},
     "output_type": "execute_result"
    }
   ],
   "source": [
    "gameInfo.head()"
   ]
  },
  {
   "cell_type": "code",
   "execution_count": null,
   "metadata": {},
   "outputs": [
    {
     "data": {
      "text/plain": [
       "(4988, 9)"
      ]
     },
     "execution_count": 41,
     "metadata": {},
     "output_type": "execute_result"
    }
   ],
   "source": [
    "gameInfo.shape"
   ]
  },
  {
   "cell_type": "code",
   "execution_count": null,
   "metadata": {},
   "outputs": [
    {
     "data": {
      "text/plain": [
       "3423"
      ]
     },
     "execution_count": 42,
     "metadata": {},
     "output_type": "execute_result"
    }
   ],
   "source": [
    "gameInfo.Title.nunique()"
   ]
  },
  {
   "cell_type": "code",
   "execution_count": null,
   "metadata": {},
   "outputs": [
    {
     "data": {
      "text/plain": [
       "4988"
      ]
     },
     "execution_count": 44,
     "metadata": {},
     "output_type": "execute_result"
    }
   ],
   "source": [
    "(gameInfo.Title + gameInfo.Year.astype(str) + gameInfo.Developer + gameInfo.Genre + gameInfo.Platform).nunique()"
   ]
  },
  {
   "cell_type": "markdown",
   "metadata": {},
   "source": [
    "### ratingsAndReleaseDate"
   ]
  },
  {
   "cell_type": "code",
   "execution_count": null,
   "metadata": {},
   "outputs": [
    {
     "data": {
      "text/html": [
       "<div>\n",
       "<style scoped>\n",
       "    .dataframe tbody tr th:only-of-type {\n",
       "        vertical-align: middle;\n",
       "    }\n",
       "\n",
       "    .dataframe tbody tr th {\n",
       "        vertical-align: top;\n",
       "    }\n",
       "\n",
       "    .dataframe thead th {\n",
       "        text-align: right;\n",
       "    }\n",
       "</style>\n",
       "<table border=\"1\" class=\"dataframe\">\n",
       "  <thead>\n",
       "    <tr style=\"text-align: right;\">\n",
       "      <th></th>\n",
       "      <th>name</th>\n",
       "      <th>platform</th>\n",
       "      <th>user_rating</th>\n",
       "      <th>critic_rating</th>\n",
       "      <th>release_date</th>\n",
       "      <th>summary</th>\n",
       "      <th>description</th>\n",
       "      <th>metacritic</th>\n",
       "    </tr>\n",
       "  </thead>\n",
       "  <tbody>\n",
       "    <tr>\n",
       "      <th>0</th>\n",
       "      <td>Full Throttle</td>\n",
       "      <td>PC</td>\n",
       "      <td>8.5</td>\n",
       "      <td>86</td>\n",
       "      <td>April 30, 1995</td>\n",
       "      <td>You're Ben--beaten, framed for murder and left...</td>\n",
       "      <td>&lt;p&gt;One minute you&amp;#39;re on the road, riding. ...</td>\n",
       "      <td>86.0</td>\n",
       "    </tr>\n",
       "    <tr>\n",
       "      <th>1</th>\n",
       "      <td>Sid Meier's Civilization II</td>\n",
       "      <td>PC</td>\n",
       "      <td>8.7</td>\n",
       "      <td>94</td>\n",
       "      <td>February 29, 1996</td>\n",
       "      <td>An empire-building turn-based strategy game. T...</td>\n",
       "      <td>&lt;p&gt;Make every critical social, economic and po...</td>\n",
       "      <td>94.0</td>\n",
       "    </tr>\n",
       "    <tr>\n",
       "      <th>2</th>\n",
       "      <td>Quake</td>\n",
       "      <td>PC</td>\n",
       "      <td>8.8</td>\n",
       "      <td>94</td>\n",
       "      <td>June 22, 1996</td>\n",
       "      <td>Rage through 32 single player levels and 6 dea...</td>\n",
       "      <td>&lt;h3&gt;The roots&lt;/h3&gt;\\r\\n&lt;p&gt;One of the classic re...</td>\n",
       "      <td>94.0</td>\n",
       "    </tr>\n",
       "    <tr>\n",
       "      <th>3</th>\n",
       "      <td>Diablo</td>\n",
       "      <td>PC</td>\n",
       "      <td>8.6</td>\n",
       "      <td>94</td>\n",
       "      <td>December 31, 1996</td>\n",
       "      <td>The kingdom of Khandaras has fallen into chaos...</td>\n",
       "      <td>&lt;p&gt;Traveler, stay awhile and listen...&lt;/p&gt;\\r\\n...</td>\n",
       "      <td>94.0</td>\n",
       "    </tr>\n",
       "    <tr>\n",
       "      <th>4</th>\n",
       "      <td>Super Mario 64</td>\n",
       "      <td>Nintendo 64</td>\n",
       "      <td>9.1</td>\n",
       "      <td>94</td>\n",
       "      <td>September 26, 1996</td>\n",
       "      <td>Mario is super in a whole new way! Combining t...</td>\n",
       "      <td>&lt;p&gt;Mario is super in a whole new way! Combinin...</td>\n",
       "      <td>94.0</td>\n",
       "    </tr>\n",
       "  </tbody>\n",
       "</table>\n",
       "</div>"
      ],
      "text/plain": [
       "                          name     platform  user_rating  critic_rating  \\\n",
       "0                Full Throttle           PC          8.5             86   \n",
       "1  Sid Meier's Civilization II           PC          8.7             94   \n",
       "2                        Quake           PC          8.8             94   \n",
       "3                       Diablo           PC          8.6             94   \n",
       "4               Super Mario 64  Nintendo 64          9.1             94   \n",
       "\n",
       "         release_date                                            summary  \\\n",
       "0      April 30, 1995  You're Ben--beaten, framed for murder and left...   \n",
       "1   February 29, 1996  An empire-building turn-based strategy game. T...   \n",
       "2       June 22, 1996  Rage through 32 single player levels and 6 dea...   \n",
       "3   December 31, 1996  The kingdom of Khandaras has fallen into chaos...   \n",
       "4  September 26, 1996  Mario is super in a whole new way! Combining t...   \n",
       "\n",
       "                                         description  metacritic  \n",
       "0  <p>One minute you&#39;re on the road, riding. ...        86.0  \n",
       "1  <p>Make every critical social, economic and po...        94.0  \n",
       "2  <h3>The roots</h3>\\r\\n<p>One of the classic re...        94.0  \n",
       "3  <p>Traveler, stay awhile and listen...</p>\\r\\n...        94.0  \n",
       "4  <p>Mario is super in a whole new way! Combinin...        94.0  "
      ]
     },
     "execution_count": 31,
     "metadata": {},
     "output_type": "execute_result"
    }
   ],
   "source": [
    "ratingsAndReleaseDate.head()"
   ]
  },
  {
   "cell_type": "code",
   "execution_count": null,
   "metadata": {},
   "outputs": [
    {
     "data": {
      "text/plain": [
       "209"
      ]
     },
     "execution_count": 32,
     "metadata": {},
     "output_type": "execute_result"
    }
   ],
   "source": [
    "# unique names!\n",
    "ratingsAndReleaseDate.shape\n",
    "ratingsAndReleaseDate.name.nunique()"
   ]
  },
  {
   "cell_type": "markdown",
   "metadata": {},
   "source": [
    "### gameScore"
   ]
  },
  {
   "cell_type": "code",
   "execution_count": null,
   "metadata": {},
   "outputs": [
    {
     "data": {
      "text/plain": [
       "(121050, 7)"
      ]
     },
     "execution_count": 33,
     "metadata": {},
     "output_type": "execute_result"
    }
   ],
   "source": [
    "gameScore.user_score.count()\n",
    "gameScore.meta_score.count()\n",
    "gameScore.shape"
   ]
  },
  {
   "cell_type": "code",
   "execution_count": null,
   "metadata": {},
   "outputs": [
    {
     "data": {
      "text/plain": [
       "120964"
      ]
     },
     "execution_count": 34,
     "metadata": {},
     "output_type": "execute_result"
    }
   ],
   "source": [
    "(gameScore.name + gameScore.platform + gameScore.release_date.astype(str)).nunique()"
   ]
  },
  {
   "cell_type": "markdown",
   "metadata": {},
   "source": [
    "### gameSales"
   ]
  },
  {
   "cell_type": "code",
   "execution_count": null,
   "metadata": {},
   "outputs": [
    {
     "data": {
      "text/plain": [
       "(8896, 15)"
      ]
     },
     "execution_count": 35,
     "metadata": {},
     "output_type": "execute_result"
    }
   ],
   "source": [
    "gameSales.shape"
   ]
  },
  {
   "cell_type": "code",
   "execution_count": null,
   "metadata": {},
   "outputs": [
    {
     "data": {
      "text/plain": [
       "8893"
      ]
     },
     "execution_count": 36,
     "metadata": {},
     "output_type": "execute_result"
    }
   ],
   "source": [
    "(gameSales.title + gameSales.platform + gameSales.genre + gameSales.publisher).nunique()"
   ]
  }
 ],
 "metadata": {
  "kernelspec": {
   "display_name": "Python 3",
   "language": "python",
   "name": "python3"
  },
  "language_info": {
   "codemirror_mode": {
    "name": "ipython",
    "version": 3
   },
   "file_extension": ".py",
   "mimetype": "text/x-python",
   "name": "python",
   "nbconvert_exporter": "python",
   "pygments_lexer": "ipython3",
   "version": "3.10.11"
  },
  "orig_nbformat": 4
 },
 "nbformat": 4,
 "nbformat_minor": 2
}
