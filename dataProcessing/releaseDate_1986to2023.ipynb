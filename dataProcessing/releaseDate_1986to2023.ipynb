{
 "cells": [
  {
   "cell_type": "code",
   "execution_count": 1,
   "metadata": {},
   "outputs": [],
   "source": [
    "import pandas as pd\n",
    "import numpy as np\n",
    "\n",
    "pd.set_option('display.max_rows', None)\n",
    "pd.set_option('display.max_columns', None)"
   ]
  },
  {
   "cell_type": "code",
   "execution_count": 3,
   "metadata": {},
   "outputs": [],
   "source": [
    "main = pd.read_excel('../dataSources/videoGames/Video game sales - 2000 - 2020.xlsx', sheet_name= 'Sheet1')\n",
    "gameScore = pd.read_excel('../dataSources/videoGames/metascore-video-games-1986-2023.xlsx', sheet_name='Sheet1')"
   ]
  },
  {
   "cell_type": "code",
   "execution_count": null,
   "metadata": {},
   "outputs": [
    {
     "name": "stdout",
     "output_type": "stream",
     "text": [
      "65 out of 97157: 0.07%\n"
     ]
    }
   ],
   "source": [
    "# 65 (0.07%) games have > 1 release date on same platform .. take the LATEST date!\n",
    "\n",
    "gameScore_nodup = gameScore[['name', 'platform', 'release_date']].sort_values(by = ['name', 'platform', 'release_date']).drop_duplicates(keep = 'last')\n",
    "a = gameScore_nodup[(gameScore_nodup.duplicated(subset=['name', 'platform'],keep = False))].sort_values(by = ['name', 'platform']).name.nunique()\n",
    "print(f'{a} out of {gameScore.name.nunique()}: {round(a/gameScore.name.nunique()*100, 2)}%')\n",
    "\n",
    "gameScore_final = gameScore[['name', 'platform', 'release_date']].sort_values(by = ['name', 'platform', 'release_date']).drop_duplicates(subset = ['name', 'platform'], keep = 'last')"
   ]
  },
  {
   "cell_type": "code",
   "execution_count": null,
   "metadata": {},
   "outputs": [
    {
     "data": {
      "text/plain": [
       "(121050, 8)"
      ]
     },
     "execution_count": 193,
     "metadata": {},
     "output_type": "execute_result"
    }
   ],
   "source": [
    "gameScore.shape"
   ]
  },
  {
   "cell_type": "code",
   "execution_count": null,
   "metadata": {},
   "outputs": [
    {
     "data": {
      "text/plain": [
       "(120899, 3)"
      ]
     },
     "execution_count": 194,
     "metadata": {},
     "output_type": "execute_result"
    }
   ],
   "source": [
    "gameScore_final.shape"
   ]
  },
  {
   "cell_type": "code",
   "execution_count": null,
   "metadata": {},
   "outputs": [
    {
     "data": {
      "text/plain": [
       "array(['PS', 'PS3', 'PS2', 'PC', 'DS', 'PS4', 'iOS', 'PS5'], dtype=object)"
      ]
     },
     "execution_count": 195,
     "metadata": {},
     "output_type": "execute_result"
    }
   ],
   "source": [
    "main.platform.unique()"
   ]
  },
  {
   "cell_type": "code",
   "execution_count": null,
   "metadata": {},
   "outputs": [
    {
     "data": {
      "text/plain": [
       "array(['PC', 'iOS', 'PlayStation 4', 'Switch', 'Xbox One',\n",
       "       'PlayStation 5', 'Xbox Series X', 'iOS (Apple Arcade)'],\n",
       "      dtype=object)"
      ]
     },
     "execution_count": 196,
     "metadata": {},
     "output_type": "execute_result"
    }
   ],
   "source": [
    "gameScore_final.platform.unique()"
   ]
  },
  {
   "cell_type": "code",
   "execution_count": null,
   "metadata": {},
   "outputs": [
    {
     "data": {
      "text/plain": [
       "array(['PC', 'iOS', 'PS4', 'Switch', 'Xbox One', 'PS5', 'Xbox Series X'],\n",
       "      dtype=object)"
      ]
     },
     "execution_count": 197,
     "metadata": {},
     "output_type": "execute_result"
    }
   ],
   "source": [
    "platformMap = {\n",
    "'PC': 'PC',\n",
    "'iOS': 'iOS',\n",
    "'PlayStation 4': 'PS4',\n",
    "'Switch': 'Switch', # no mapping\n",
    "'Xbox One': 'Xbox One', # no mapping\n",
    "'PlayStation 5': 'PS5',\n",
    "'Xbox Series X': 'Xbox Series X',\n",
    "'iOS (Apple Arcade)': 'iOS'\n",
    "}\n",
    "\n",
    "gameScore_final['platform'] = gameScore_final.platform.map(platformMap)\n",
    "gameScore_final.platform.unique()"
   ]
  },
  {
   "cell_type": "code",
   "execution_count": null,
   "metadata": {},
   "outputs": [],
   "source": [
    "main.drop(columns= 'releasedate_1986-2023', inplace = True)\n",
    "gameScore_final.rename(columns = {'release_date': 'releasedate_1986-2023', 'name': 'title'}, inplace = True)\n",
    "\n",
    "main = pd.merge(main, gameScore_final, how = 'left', on = ['title', 'platform'])"
   ]
  },
  {
   "cell_type": "code",
   "execution_count": null,
   "metadata": {},
   "outputs": [
    {
     "data": {
      "text/plain": [
       "1421"
      ]
     },
     "execution_count": 200,
     "metadata": {},
     "output_type": "execute_result"
    }
   ],
   "source": [
    "# Only 1421 release dates from 1986-2023 file can be mapped to main table (using title and platform as matching keys)!\n",
    "\n",
    "main['releasedate_1986-2023'].count()"
   ]
  },
  {
   "cell_type": "code",
   "execution_count": null,
   "metadata": {},
   "outputs": [
    {
     "data": {
      "text/plain": [
       "(8896, 23)"
      ]
     },
     "execution_count": 199,
     "metadata": {},
     "output_type": "execute_result"
    }
   ],
   "source": [
    "main.shape"
   ]
  },
  {
   "cell_type": "code",
   "execution_count": null,
   "metadata": {},
   "outputs": [
    {
     "data": {
      "text/html": [
       "<div>\n",
       "<style scoped>\n",
       "    .dataframe tbody tr th:only-of-type {\n",
       "        vertical-align: middle;\n",
       "    }\n",
       "\n",
       "    .dataframe tbody tr th {\n",
       "        vertical-align: top;\n",
       "    }\n",
       "\n",
       "    .dataframe thead th {\n",
       "        text-align: right;\n",
       "    }\n",
       "</style>\n",
       "<table border=\"1\" class=\"dataframe\">\n",
       "  <thead>\n",
       "    <tr style=\"text-align: right;\">\n",
       "      <th></th>\n",
       "      <th>title</th>\n",
       "      <th>platform</th>\n",
       "      <th>genre</th>\n",
       "      <th>publisher</th>\n",
       "      <th>vg_score</th>\n",
       "      <th>critic_score</th>\n",
       "      <th>user_score</th>\n",
       "      <th>total_shipped</th>\n",
       "      <th>aisan_sales</th>\n",
       "      <th>north_american_sales</th>\n",
       "      <th>japan_sales</th>\n",
       "      <th>european_sales</th>\n",
       "      <th>global_sales</th>\n",
       "      <th>Production Cost</th>\n",
       "      <th>release_year</th>\n",
       "      <th>Developer_metacritic_game_info</th>\n",
       "      <th>Genre_metacritic_game_info</th>\n",
       "      <th>Metascore_metacritic_game_info</th>\n",
       "      <th>Avg_Userscore_metacritic_game_info</th>\n",
       "      <th>No. of players_metacritic_game_info</th>\n",
       "      <th>releasedate_VGOutput</th>\n",
       "      <th>releasedate_roy</th>\n",
       "      <th>releasedate_1986-2023</th>\n",
       "    </tr>\n",
       "  </thead>\n",
       "  <tbody>\n",
       "    <tr>\n",
       "      <th>0</th>\n",
       "      <td>(c 12) Final Resistance</td>\n",
       "      <td>PS</td>\n",
       "      <td>Shooter</td>\n",
       "      <td>IBM</td>\n",
       "      <td>1.0</td>\n",
       "      <td>6.5</td>\n",
       "      <td>4.0</td>\n",
       "      <td>8.0</td>\n",
       "      <td>5.08</td>\n",
       "      <td>1.10</td>\n",
       "      <td>5.70</td>\n",
       "      <td>3.54</td>\n",
       "      <td>15.42</td>\n",
       "      <td>1.98</td>\n",
       "      <td>2002</td>\n",
       "      <td>NaN</td>\n",
       "      <td>NaN</td>\n",
       "      <td>NaN</td>\n",
       "      <td>NaN</td>\n",
       "      <td>NaN</td>\n",
       "      <td>NaN</td>\n",
       "      <td>https://www.google.com/search?q=(c 12) Final R...</td>\n",
       "      <td>NaT</td>\n",
       "    </tr>\n",
       "    <tr>\n",
       "      <th>1</th>\n",
       "      <td>.hack Sekai no Mukou ni  Versus</td>\n",
       "      <td>PS3</td>\n",
       "      <td>Fighting</td>\n",
       "      <td>IBM</td>\n",
       "      <td>6.0</td>\n",
       "      <td>10.0</td>\n",
       "      <td>6.0</td>\n",
       "      <td>269.0</td>\n",
       "      <td>3.00</td>\n",
       "      <td>1.86</td>\n",
       "      <td>0.03</td>\n",
       "      <td>6.43</td>\n",
       "      <td>8.35</td>\n",
       "      <td>3.34</td>\n",
       "      <td>2012</td>\n",
       "      <td>NaN</td>\n",
       "      <td>NaN</td>\n",
       "      <td>NaN</td>\n",
       "      <td>NaN</td>\n",
       "      <td>NaN</td>\n",
       "      <td>NaN</td>\n",
       "      <td>https://www.google.com/search?q=.hack Sekai no...</td>\n",
       "      <td>NaT</td>\n",
       "    </tr>\n",
       "    <tr>\n",
       "      <th>2</th>\n",
       "      <td>007 Quantum of Solace</td>\n",
       "      <td>PS2</td>\n",
       "      <td>Shooter</td>\n",
       "      <td>Activision</td>\n",
       "      <td>8.0</td>\n",
       "      <td>7.8</td>\n",
       "      <td>4.0</td>\n",
       "      <td>81.0</td>\n",
       "      <td>3.00</td>\n",
       "      <td>0.17</td>\n",
       "      <td>1.21</td>\n",
       "      <td>2.22</td>\n",
       "      <td>4.03</td>\n",
       "      <td>2.05</td>\n",
       "      <td>2008</td>\n",
       "      <td>NaN</td>\n",
       "      <td>NaN</td>\n",
       "      <td>NaN</td>\n",
       "      <td>NaN</td>\n",
       "      <td>NaN</td>\n",
       "      <td>NaN</td>\n",
       "      <td>https://www.google.com/search?q=007 Quantum of...</td>\n",
       "      <td>NaT</td>\n",
       "    </tr>\n",
       "    <tr>\n",
       "      <th>3</th>\n",
       "      <td>007 Quantum of Solace</td>\n",
       "      <td>PS3</td>\n",
       "      <td>Shooter</td>\n",
       "      <td>Activision</td>\n",
       "      <td>3.0</td>\n",
       "      <td>6.6</td>\n",
       "      <td>10.0</td>\n",
       "      <td>158.0</td>\n",
       "      <td>1.14</td>\n",
       "      <td>0.43</td>\n",
       "      <td>0.02</td>\n",
       "      <td>0.51</td>\n",
       "      <td>2.10</td>\n",
       "      <td>1.19</td>\n",
       "      <td>2008</td>\n",
       "      <td>NaN</td>\n",
       "      <td>NaN</td>\n",
       "      <td>NaN</td>\n",
       "      <td>NaN</td>\n",
       "      <td>NaN</td>\n",
       "      <td>NaN</td>\n",
       "      <td>https://www.google.com/search?q=007 Quantum of...</td>\n",
       "      <td>NaT</td>\n",
       "    </tr>\n",
       "    <tr>\n",
       "      <th>4</th>\n",
       "      <td>007 The World is not Enough</td>\n",
       "      <td>PS</td>\n",
       "      <td>Shooter</td>\n",
       "      <td>Electronic Arts</td>\n",
       "      <td>1.0</td>\n",
       "      <td>6.4</td>\n",
       "      <td>1.0</td>\n",
       "      <td>240.0</td>\n",
       "      <td>3.00</td>\n",
       "      <td>0.51</td>\n",
       "      <td>3.75</td>\n",
       "      <td>0.35</td>\n",
       "      <td>5.53</td>\n",
       "      <td>1.50</td>\n",
       "      <td>2000</td>\n",
       "      <td>NaN</td>\n",
       "      <td>NaN</td>\n",
       "      <td>NaN</td>\n",
       "      <td>NaN</td>\n",
       "      <td>NaN</td>\n",
       "      <td>NaN</td>\n",
       "      <td>https://www.google.com/search?q=007 The World ...</td>\n",
       "      <td>NaT</td>\n",
       "    </tr>\n",
       "  </tbody>\n",
       "</table>\n",
       "</div>"
      ],
      "text/plain": [
       "                             title platform     genre        publisher  \\\n",
       "0          (c 12) Final Resistance       PS   Shooter              IBM   \n",
       "1  .hack Sekai no Mukou ni  Versus      PS3  Fighting              IBM   \n",
       "2            007 Quantum of Solace      PS2   Shooter       Activision   \n",
       "3            007 Quantum of Solace      PS3   Shooter       Activision   \n",
       "4      007 The World is not Enough       PS   Shooter  Electronic Arts   \n",
       "\n",
       "   vg_score  critic_score  user_score  total_shipped  aisan_sales  \\\n",
       "0       1.0           6.5         4.0            8.0         5.08   \n",
       "1       6.0          10.0         6.0          269.0         3.00   \n",
       "2       8.0           7.8         4.0           81.0         3.00   \n",
       "3       3.0           6.6        10.0          158.0         1.14   \n",
       "4       1.0           6.4         1.0          240.0         3.00   \n",
       "\n",
       "   north_american_sales  japan_sales  european_sales  global_sales  \\\n",
       "0                  1.10         5.70            3.54         15.42   \n",
       "1                  1.86         0.03            6.43          8.35   \n",
       "2                  0.17         1.21            2.22          4.03   \n",
       "3                  0.43         0.02            0.51          2.10   \n",
       "4                  0.51         3.75            0.35          5.53   \n",
       "\n",
       "   Production Cost  release_year Developer_metacritic_game_info  \\\n",
       "0             1.98          2002                            NaN   \n",
       "1             3.34          2012                            NaN   \n",
       "2             2.05          2008                            NaN   \n",
       "3             1.19          2008                            NaN   \n",
       "4             1.50          2000                            NaN   \n",
       "\n",
       "  Genre_metacritic_game_info  Metascore_metacritic_game_info  \\\n",
       "0                        NaN                             NaN   \n",
       "1                        NaN                             NaN   \n",
       "2                        NaN                             NaN   \n",
       "3                        NaN                             NaN   \n",
       "4                        NaN                             NaN   \n",
       "\n",
       "  Avg_Userscore_metacritic_game_info No. of players_metacritic_game_info  \\\n",
       "0                                NaN                                 NaN   \n",
       "1                                NaN                                 NaN   \n",
       "2                                NaN                                 NaN   \n",
       "3                                NaN                                 NaN   \n",
       "4                                NaN                                 NaN   \n",
       "\n",
       "  releasedate_VGOutput                                    releasedate_roy  \\\n",
       "0                  NaN  https://www.google.com/search?q=(c 12) Final R...   \n",
       "1                  NaN  https://www.google.com/search?q=.hack Sekai no...   \n",
       "2                  NaN  https://www.google.com/search?q=007 Quantum of...   \n",
       "3                  NaN  https://www.google.com/search?q=007 Quantum of...   \n",
       "4                  NaN  https://www.google.com/search?q=007 The World ...   \n",
       "\n",
       "  releasedate_1986-2023  \n",
       "0                   NaT  \n",
       "1                   NaT  \n",
       "2                   NaT  \n",
       "3                   NaT  \n",
       "4                   NaT  "
      ]
     },
     "execution_count": 201,
     "metadata": {},
     "output_type": "execute_result"
    }
   ],
   "source": [
    "main.head()"
   ]
  }
 ],
 "metadata": {
  "kernelspec": {
   "display_name": "Python 3",
   "language": "python",
   "name": "python3"
  },
  "language_info": {
   "codemirror_mode": {
    "name": "ipython",
    "version": 3
   },
   "file_extension": ".py",
   "mimetype": "text/x-python",
   "name": "python",
   "nbconvert_exporter": "python",
   "pygments_lexer": "ipython3",
   "version": "3.10.11"
  }
 },
 "nbformat": 4,
 "nbformat_minor": 2
}
