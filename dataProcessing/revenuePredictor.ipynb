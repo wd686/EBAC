{
 "cells": [
  {
   "cell_type": "code",
   "execution_count": null,
   "metadata": {
    "vscode": {
     "languageId": "r"
    }
   },
   "outputs": [],
   "source": [
    "library(pacman)\n",
    "\n",
    "# Use pacman to load the \"car\" package\n",
    "p_load(car)\n",
    "p_load(dplyr)\n",
    "p_load(tidyverse, VIM, mice, Hmisc, \n",
    "               DMwR, naniar)\n",
    "p_load(stargazer)\n",
    "p_load(openxlsx)\n",
    "p_load(here)\n",
    "p_load(rio)\n",
    "\n",
    "library(mice)\n",
    "library(BSDA)\n",
    "library(dplyr)\n",
    "library(stargazer)"
   ]
  },
  {
   "cell_type": "markdown",
   "metadata": {},
   "source": [
    "Import File"
   ]
  },
  {
   "cell_type": "code",
   "execution_count": 20,
   "metadata": {
    "vscode": {
     "languageId": "r"
    }
   },
   "outputs": [
    {
     "name": "stderr",
     "output_type": "stream",
     "text": [
      "The following objects are masked from data (pos = 3):\n",
      "\n",
      "    Console, Critic Score, Developer, Genre, Last Update, Publisher,\n",
      "    Rank, Release Date, Title, User Score, VGChartz Score\n",
      "\n",
      "\n",
      "The following objects are masked from data (pos = 4):\n",
      "\n",
      "    Console, Critic Score, Developer, Genre, Last Update, Publisher,\n",
      "    Rank, Release Date, Title, User Score, VGChartz Score\n",
      "\n",
      "\n"
     ]
    }
   ],
   "source": [
    "data = import(here(\"dataSources\", \"videoGames\", \"video game sales titles - amc.csv\"))\n",
    "attach(data)"
   ]
  },
  {
   "cell_type": "code",
   "execution_count": 21,
   "metadata": {
    "vscode": {
     "languageId": "r"
    }
   },
   "outputs": [
    {
     "name": "stdout",
     "output_type": "stream",
     "text": [
      "'data.frame':\t7623 obs. of  23 variables:\n",
      " $ Rank          : int  2 3 5 7 8 10 13 18 19 23 ...\n",
      " $ Title         : chr  \"Mario Kart 8 Deluxe\" \"Animal Crossing: New Horizons\" \"Counter-Strike: Global Offensive\" \"PLAYERUNKNOWN'S BATTLEGROUNDS\" ...\n",
      " $ Console       : chr  \"NS\" \"NS\" \"PC\" \"PC\" ...\n",
      " $ Publisher     : chr  \"Nintendo\" \"Nintendo\" \"Valve\" \"PUBG Corporation\" ...\n",
      " $ Developer     : chr  \"Nintendo EPD\" \"Nintendo\" \"Valve Corporation\" \"PUBG Corporation\" ...\n",
      " $ Genre         : chr  \"Racing\" \"Simulation\" \"Shooter\" \"Shooter\" ...\n",
      " $ ReleaseYear   : int  2017 2020 2012 2017 2010 2018 2017 2017 2019 2011 ...\n",
      " $ ReleaseQuarter: int  2 1 3 4 4 3 1 4 4 2 ...\n",
      " $ ReleaseMonth  : int  4 3 8 12 10 7 3 10 11 5 ...\n",
      " $ ReleaseWeek   : int  17 12 34 51 41 28 9 43 46 21 ...\n",
      " $ ReleaseDay    : int  6 6 3 5 3 5 6 6 6 2 ...\n",
      " $ ReleaseWeekend: chr  \"Weekend\" \"Weekend\" \"Weekday\" \"Weekday\" ...\n",
      " $ EndOfMonth    : chr  \"End of month\" \"End of month\" \"End of month\" \"End of month\" ...\n",
      " $ TotalSales    : int  55460000 42790000 40000000 36600000 33150000 31770000 30650000 26440000 25920000 23000000 ...\n",
      " $ NASales       : int  NA NA NA NA NA NA NA NA NA NA ...\n",
      " $ PALSales      : int  NA NA NA NA NA NA NA NA NA NA ...\n",
      " $ JapanSales    : int  NA NA NA NA NA NA NA NA NA NA ...\n",
      " $ OtherSales    : int  NA NA NA NA NA NA NA NA NA NA ...\n",
      " $ Release Date  : chr  \"28/4/2017\" \"20/3/2020\" \"21/8/2012\" \"21/12/2017\" ...\n",
      " $ Last Update   : chr  \"11/19/2018\" \"4/11/2020\" \"3/26/2019\" \"4/29/2019\" ...\n",
      " $ VGChartz Score: num  NA 8 NA NA 8.8 9 NA NA 7 NA ...\n",
      " $ Critic Score  : num  9.3 NA NA NA 10 9.4 9.9 9.9 NA 8.8 ...\n",
      " $ User Score    : num  NA NA NA NA NA 9.7 10 NA NA NA ...\n"
     ]
    },
    {
     "data": {
      "text/plain": [
       "      Rank          Title             Console           Publisher        \n",
       " Min.   :    2   Length:7623        Length:7623        Length:7623       \n",
       " 1st Qu.: 5416   Class :character   Class :character   Class :character  \n",
       " Median :11084   Mode  :character   Mode  :character   Mode  :character  \n",
       " Mean   :10574                                                           \n",
       " 3rd Qu.:15858                                                           \n",
       " Max.   :19944                                                           \n",
       "                                                                         \n",
       "  Developer            Genre            ReleaseYear   ReleaseQuarter \n",
       " Length:7623        Length:7623        Min.   :2010   Min.   :1.000  \n",
       " Class :character   Class :character   1st Qu.:2011   1st Qu.:2.000  \n",
       " Mode  :character   Mode  :character   Median :2013   Median :3.000  \n",
       "                                       Mean   :2014   Mean   :2.558  \n",
       "                                       3rd Qu.:2016   3rd Qu.:4.000  \n",
       "                                       Max.   :2023   Max.   :4.000  \n",
       "                                                                     \n",
       "  ReleaseMonth     ReleaseWeek      ReleaseDay    ReleaseWeekend    \n",
       " Min.   : 1.000   Min.   : 1.00   Min.   :1.000   Length:7623       \n",
       " 1st Qu.: 4.000   1st Qu.:14.00   1st Qu.:3.000   Class :character  \n",
       " Median : 7.000   Median :28.00   Median :3.000   Mode  :character  \n",
       " Mean   : 6.662   Mean   :27.88   Mean   :3.913                     \n",
       " 3rd Qu.:10.000   3rd Qu.:42.00   3rd Qu.:5.000                     \n",
       " Max.   :12.000   Max.   :53.00   Max.   :7.000                     \n",
       "                                                                    \n",
       "  EndOfMonth          TotalSales          NASales           PALSales      \n",
       " Length:7623        Min.   :   10000   Min.   :      0   Min.   :      0  \n",
       " Class :character   1st Qu.:   40000   1st Qu.:  50000   1st Qu.:  20000  \n",
       " Mode  :character   Median :  130000   Median : 100000   Median :  70000  \n",
       "                    Mean   :  597452   Mean   : 271480   Mean   : 228996  \n",
       "                    3rd Qu.:  420000   3rd Qu.: 250000   3rd Qu.: 210000  \n",
       "                    Max.   :55460000   Max.   :9760000   Max.   :9850000  \n",
       "                                       NA's   :3502      NA's   :3878     \n",
       "   JapanSales        OtherSales      Release Date       Last Update       \n",
       " Min.   :      0   Min.   :      0   Length:7623        Length:7623       \n",
       " 1st Qu.:  20000   1st Qu.:  10000   Class :character   Class :character  \n",
       " Median :  40000   Median :  20000   Mode  :character   Mode  :character  \n",
       " Mean   :  73537   Mean   :  58706                                        \n",
       " 3rd Qu.:  90000   3rd Qu.:  50000                                        \n",
       " Max.   :1870000   Max.   :3120000                                        \n",
       " NA's   :4694      NA's   :2802                                           \n",
       " VGChartz Score   Critic Score      User Score    \n",
       " Min.   :2.000   Min.   : 1.000   Min.   : 2.500  \n",
       " 1st Qu.:6.800   1st Qu.: 6.600   1st Qu.: 7.500  \n",
       " Median :7.700   Median : 7.600   Median : 8.500  \n",
       " Mean   :7.451   Mean   : 7.363   Mean   : 8.233  \n",
       " 3rd Qu.:8.500   3rd Qu.: 8.300   3rd Qu.: 9.200  \n",
       " Max.   :9.700   Max.   :10.000   Max.   :10.000  \n",
       " NA's   :6900    NA's   :6118     NA's   :7528    "
      ]
     },
     "metadata": {},
     "output_type": "display_data"
    },
    {
     "data": {
      "text/html": [
       "<style>\n",
       ".list-inline {list-style: none; margin:0; padding: 0}\n",
       ".list-inline>li {display: inline-block}\n",
       ".list-inline>li:not(:last-child)::after {content: \"\\00b7\"; padding: 0 .5ex}\n",
       "</style>\n",
       "<ol class=list-inline><li>'Rank'</li><li>'Title'</li><li>'Console'</li><li>'Publisher'</li><li>'Developer'</li><li>'Genre'</li><li>'ReleaseYear'</li><li>'ReleaseQuarter'</li><li>'ReleaseMonth'</li><li>'ReleaseWeek'</li><li>'ReleaseDay'</li><li>'ReleaseWeekend'</li><li>'EndOfMonth'</li><li>'TotalSales'</li><li>'NASales'</li><li>'PALSales'</li><li>'JapanSales'</li><li>'OtherSales'</li><li>'Release Date'</li><li>'Last Update'</li><li>'VGChartz Score'</li><li>'Critic Score'</li><li>'User Score'</li></ol>\n"
      ],
      "text/latex": [
       "\\begin{enumerate*}\n",
       "\\item 'Rank'\n",
       "\\item 'Title'\n",
       "\\item 'Console'\n",
       "\\item 'Publisher'\n",
       "\\item 'Developer'\n",
       "\\item 'Genre'\n",
       "\\item 'ReleaseYear'\n",
       "\\item 'ReleaseQuarter'\n",
       "\\item 'ReleaseMonth'\n",
       "\\item 'ReleaseWeek'\n",
       "\\item 'ReleaseDay'\n",
       "\\item 'ReleaseWeekend'\n",
       "\\item 'EndOfMonth'\n",
       "\\item 'TotalSales'\n",
       "\\item 'NASales'\n",
       "\\item 'PALSales'\n",
       "\\item 'JapanSales'\n",
       "\\item 'OtherSales'\n",
       "\\item 'Release Date'\n",
       "\\item 'Last Update'\n",
       "\\item 'VGChartz Score'\n",
       "\\item 'Critic Score'\n",
       "\\item 'User Score'\n",
       "\\end{enumerate*}\n"
      ],
      "text/markdown": [
       "1. 'Rank'\n",
       "2. 'Title'\n",
       "3. 'Console'\n",
       "4. 'Publisher'\n",
       "5. 'Developer'\n",
       "6. 'Genre'\n",
       "7. 'ReleaseYear'\n",
       "8. 'ReleaseQuarter'\n",
       "9. 'ReleaseMonth'\n",
       "10. 'ReleaseWeek'\n",
       "11. 'ReleaseDay'\n",
       "12. 'ReleaseWeekend'\n",
       "13. 'EndOfMonth'\n",
       "14. 'TotalSales'\n",
       "15. 'NASales'\n",
       "16. 'PALSales'\n",
       "17. 'JapanSales'\n",
       "18. 'OtherSales'\n",
       "19. 'Release Date'\n",
       "20. 'Last Update'\n",
       "21. 'VGChartz Score'\n",
       "22. 'Critic Score'\n",
       "23. 'User Score'\n",
       "\n",
       "\n"
      ],
      "text/plain": [
       " [1] \"Rank\"           \"Title\"          \"Console\"        \"Publisher\"     \n",
       " [5] \"Developer\"      \"Genre\"          \"ReleaseYear\"    \"ReleaseQuarter\"\n",
       " [9] \"ReleaseMonth\"   \"ReleaseWeek\"    \"ReleaseDay\"     \"ReleaseWeekend\"\n",
       "[13] \"EndOfMonth\"     \"TotalSales\"     \"NASales\"        \"PALSales\"      \n",
       "[17] \"JapanSales\"     \"OtherSales\"     \"Release Date\"   \"Last Update\"   \n",
       "[21] \"VGChartz Score\" \"Critic Score\"   \"User Score\"    "
      ]
     },
     "metadata": {},
     "output_type": "display_data"
    },
    {
     "data": {
      "text/html": [
       "<table class=\"dataframe\">\n",
       "<caption>A data.frame: 5 × 23</caption>\n",
       "<thead>\n",
       "\t<tr><th></th><th scope=col>Rank</th><th scope=col>Title</th><th scope=col>Console</th><th scope=col>Publisher</th><th scope=col>Developer</th><th scope=col>Genre</th><th scope=col>ReleaseYear</th><th scope=col>ReleaseQuarter</th><th scope=col>ReleaseMonth</th><th scope=col>ReleaseWeek</th><th scope=col>⋯</th><th scope=col>TotalSales</th><th scope=col>NASales</th><th scope=col>PALSales</th><th scope=col>JapanSales</th><th scope=col>OtherSales</th><th scope=col>Release Date</th><th scope=col>Last Update</th><th scope=col>VGChartz Score</th><th scope=col>Critic Score</th><th scope=col>User Score</th></tr>\n",
       "\t<tr><th></th><th scope=col>&lt;int&gt;</th><th scope=col>&lt;chr&gt;</th><th scope=col>&lt;chr&gt;</th><th scope=col>&lt;chr&gt;</th><th scope=col>&lt;chr&gt;</th><th scope=col>&lt;chr&gt;</th><th scope=col>&lt;int&gt;</th><th scope=col>&lt;int&gt;</th><th scope=col>&lt;int&gt;</th><th scope=col>&lt;int&gt;</th><th scope=col>⋯</th><th scope=col>&lt;int&gt;</th><th scope=col>&lt;int&gt;</th><th scope=col>&lt;int&gt;</th><th scope=col>&lt;int&gt;</th><th scope=col>&lt;int&gt;</th><th scope=col>&lt;chr&gt;</th><th scope=col>&lt;chr&gt;</th><th scope=col>&lt;dbl&gt;</th><th scope=col>&lt;dbl&gt;</th><th scope=col>&lt;dbl&gt;</th></tr>\n",
       "</thead>\n",
       "<tbody>\n",
       "\t<tr><th scope=row>1</th><td>2</td><td>Mario Kart 8 Deluxe             </td><td>NS</td><td>Nintendo        </td><td>Nintendo EPD     </td><td>Racing    </td><td>2017</td><td>2</td><td> 4</td><td>17</td><td>⋯</td><td>55460000</td><td>NA</td><td>NA</td><td>NA</td><td>NA</td><td>28/4/2017 </td><td>11/19/2018</td><td> NA</td><td> 9.3</td><td>NA</td></tr>\n",
       "\t<tr><th scope=row>2</th><td>3</td><td>Animal Crossing: New Horizons   </td><td>NS</td><td>Nintendo        </td><td>Nintendo         </td><td>Simulation</td><td>2020</td><td>1</td><td> 3</td><td>12</td><td>⋯</td><td>42790000</td><td>NA</td><td>NA</td><td>NA</td><td>NA</td><td>20/3/2020 </td><td>4/11/2020 </td><td>8.0</td><td>  NA</td><td>NA</td></tr>\n",
       "\t<tr><th scope=row>3</th><td>5</td><td>Counter-Strike: Global Offensive</td><td>PC</td><td>Valve           </td><td>Valve Corporation</td><td>Shooter   </td><td>2012</td><td>3</td><td> 8</td><td>34</td><td>⋯</td><td>40000000</td><td>NA</td><td>NA</td><td>NA</td><td>NA</td><td>21/8/2012 </td><td>3/26/2019 </td><td> NA</td><td>  NA</td><td>NA</td></tr>\n",
       "\t<tr><th scope=row>4</th><td>7</td><td>PLAYERUNKNOWN'S BATTLEGROUNDS   </td><td>PC</td><td>PUBG Corporation</td><td>PUBG Corporation </td><td>Shooter   </td><td>2017</td><td>4</td><td>12</td><td>51</td><td>⋯</td><td>36600000</td><td>NA</td><td>NA</td><td>NA</td><td>NA</td><td>21/12/2017</td><td>4/29/2019 </td><td> NA</td><td>  NA</td><td>NA</td></tr>\n",
       "\t<tr><th scope=row>5</th><td>8</td><td>Minecraft                       </td><td>PC</td><td>Mojang          </td><td>Mojang AB        </td><td>Misc      </td><td>2010</td><td>4</td><td>10</td><td>41</td><td>⋯</td><td>33150000</td><td>NA</td><td>NA</td><td>NA</td><td>NA</td><td>5/10/2010 </td><td>8/5/2018  </td><td>8.8</td><td>10.0</td><td>NA</td></tr>\n",
       "</tbody>\n",
       "</table>\n"
      ],
      "text/latex": [
       "A data.frame: 5 × 23\n",
       "\\begin{tabular}{r|lllllllllllllllllllll}\n",
       "  & Rank & Title & Console & Publisher & Developer & Genre & ReleaseYear & ReleaseQuarter & ReleaseMonth & ReleaseWeek & ⋯ & TotalSales & NASales & PALSales & JapanSales & OtherSales & Release Date & Last Update & VGChartz Score & Critic Score & User Score\\\\\n",
       "  & <int> & <chr> & <chr> & <chr> & <chr> & <chr> & <int> & <int> & <int> & <int> & ⋯ & <int> & <int> & <int> & <int> & <int> & <chr> & <chr> & <dbl> & <dbl> & <dbl>\\\\\n",
       "\\hline\n",
       "\t1 & 2 & Mario Kart 8 Deluxe              & NS & Nintendo         & Nintendo EPD      & Racing     & 2017 & 2 &  4 & 17 & ⋯ & 55460000 & NA & NA & NA & NA & 28/4/2017  & 11/19/2018 &  NA &  9.3 & NA\\\\\n",
       "\t2 & 3 & Animal Crossing: New Horizons    & NS & Nintendo         & Nintendo          & Simulation & 2020 & 1 &  3 & 12 & ⋯ & 42790000 & NA & NA & NA & NA & 20/3/2020  & 4/11/2020  & 8.0 &   NA & NA\\\\\n",
       "\t3 & 5 & Counter-Strike: Global Offensive & PC & Valve            & Valve Corporation & Shooter    & 2012 & 3 &  8 & 34 & ⋯ & 40000000 & NA & NA & NA & NA & 21/8/2012  & 3/26/2019  &  NA &   NA & NA\\\\\n",
       "\t4 & 7 & PLAYERUNKNOWN'S BATTLEGROUNDS    & PC & PUBG Corporation & PUBG Corporation  & Shooter    & 2017 & 4 & 12 & 51 & ⋯ & 36600000 & NA & NA & NA & NA & 21/12/2017 & 4/29/2019  &  NA &   NA & NA\\\\\n",
       "\t5 & 8 & Minecraft                        & PC & Mojang           & Mojang AB         & Misc       & 2010 & 4 & 10 & 41 & ⋯ & 33150000 & NA & NA & NA & NA & 5/10/2010  & 8/5/2018   & 8.8 & 10.0 & NA\\\\\n",
       "\\end{tabular}\n"
      ],
      "text/markdown": [
       "\n",
       "A data.frame: 5 × 23\n",
       "\n",
       "| <!--/--> | Rank &lt;int&gt; | Title &lt;chr&gt; | Console &lt;chr&gt; | Publisher &lt;chr&gt; | Developer &lt;chr&gt; | Genre &lt;chr&gt; | ReleaseYear &lt;int&gt; | ReleaseQuarter &lt;int&gt; | ReleaseMonth &lt;int&gt; | ReleaseWeek &lt;int&gt; | ⋯ ⋯ | TotalSales &lt;int&gt; | NASales &lt;int&gt; | PALSales &lt;int&gt; | JapanSales &lt;int&gt; | OtherSales &lt;int&gt; | Release Date &lt;chr&gt; | Last Update &lt;chr&gt; | VGChartz Score &lt;dbl&gt; | Critic Score &lt;dbl&gt; | User Score &lt;dbl&gt; |\n",
       "|---|---|---|---|---|---|---|---|---|---|---|---|---|---|---|---|---|---|---|---|---|---|\n",
       "| 1 | 2 | Mario Kart 8 Deluxe              | NS | Nintendo         | Nintendo EPD      | Racing     | 2017 | 2 |  4 | 17 | ⋯ | 55460000 | NA | NA | NA | NA | 28/4/2017  | 11/19/2018 |  NA |  9.3 | NA |\n",
       "| 2 | 3 | Animal Crossing: New Horizons    | NS | Nintendo         | Nintendo          | Simulation | 2020 | 1 |  3 | 12 | ⋯ | 42790000 | NA | NA | NA | NA | 20/3/2020  | 4/11/2020  | 8.0 |   NA | NA |\n",
       "| 3 | 5 | Counter-Strike: Global Offensive | PC | Valve            | Valve Corporation | Shooter    | 2012 | 3 |  8 | 34 | ⋯ | 40000000 | NA | NA | NA | NA | 21/8/2012  | 3/26/2019  |  NA |   NA | NA |\n",
       "| 4 | 7 | PLAYERUNKNOWN'S BATTLEGROUNDS    | PC | PUBG Corporation | PUBG Corporation  | Shooter    | 2017 | 4 | 12 | 51 | ⋯ | 36600000 | NA | NA | NA | NA | 21/12/2017 | 4/29/2019  |  NA |   NA | NA |\n",
       "| 5 | 8 | Minecraft                        | PC | Mojang           | Mojang AB         | Misc       | 2010 | 4 | 10 | 41 | ⋯ | 33150000 | NA | NA | NA | NA | 5/10/2010  | 8/5/2018   | 8.8 | 10.0 | NA |\n",
       "\n"
      ],
      "text/plain": [
       "  Rank Title                            Console Publisher       \n",
       "1 2    Mario Kart 8 Deluxe              NS      Nintendo        \n",
       "2 3    Animal Crossing: New Horizons    NS      Nintendo        \n",
       "3 5    Counter-Strike: Global Offensive PC      Valve           \n",
       "4 7    PLAYERUNKNOWN'S BATTLEGROUNDS    PC      PUBG Corporation\n",
       "5 8    Minecraft                        PC      Mojang          \n",
       "  Developer         Genre      ReleaseYear ReleaseQuarter ReleaseMonth\n",
       "1 Nintendo EPD      Racing     2017        2               4          \n",
       "2 Nintendo          Simulation 2020        1               3          \n",
       "3 Valve Corporation Shooter    2012        3               8          \n",
       "4 PUBG Corporation  Shooter    2017        4              12          \n",
       "5 Mojang AB         Misc       2010        4              10          \n",
       "  ReleaseWeek ⋯ TotalSales NASales PALSales JapanSales OtherSales Release Date\n",
       "1 17          ⋯ 55460000   NA      NA       NA         NA         28/4/2017   \n",
       "2 12          ⋯ 42790000   NA      NA       NA         NA         20/3/2020   \n",
       "3 34          ⋯ 40000000   NA      NA       NA         NA         21/8/2012   \n",
       "4 51          ⋯ 36600000   NA      NA       NA         NA         21/12/2017  \n",
       "5 41          ⋯ 33150000   NA      NA       NA         NA         5/10/2010   \n",
       "  Last Update VGChartz Score Critic Score User Score\n",
       "1 11/19/2018   NA             9.3         NA        \n",
       "2 4/11/2020   8.0              NA         NA        \n",
       "3 3/26/2019    NA              NA         NA        \n",
       "4 4/29/2019    NA              NA         NA        \n",
       "5 8/5/2018    8.8            10.0         NA        "
      ]
     },
     "metadata": {},
     "output_type": "display_data"
    }
   ],
   "source": [
    "# Check the data\n",
    "str(data)\n",
    "summary(data)\n",
    "names(data)\n",
    "head(data, 5)"
   ]
  },
  {
   "cell_type": "code",
   "execution_count": 22,
   "metadata": {
    "vscode": {
     "languageId": "r"
    }
   },
   "outputs": [],
   "source": [
    "########################################################\n",
    "# data type\n",
    "# set the variables to factors (categorical data)\n",
    "data <- data %>%\n",
    "  mutate(\n",
    "    Console = as.factor(Console),\n",
    "    Publisher = as.factor(Publisher),\n",
    "    Developer = as.factor(Developer),\n",
    "    Genre = as.factor(Genre),\n",
    "    ReleaseWeekend = as.factor(ReleaseWeekend),\n",
    "    EndOfMonth = as.factor(EndOfMonth)\n",
    "  )\n",
    "\n",
    "data ['NASales'] = NULL\n",
    "data ['PALSales'] = NULL\n",
    "data ['JapanSales'] = NULL\n",
    "data ['OtherSales'] = NULL\n",
    "data ['ReleaseDate'] = NULL\n",
    "data ['LastUpdate'] = NULL\n",
    "data ['VGChartzScore'] = NULL\n",
    "data ['CriticScore'] = NULL\n",
    "data ['UserScore'] = NULL"
   ]
  },
  {
   "cell_type": "code",
   "execution_count": 23,
   "metadata": {
    "vscode": {
     "languageId": "r"
    }
   },
   "outputs": [
    {
     "data": {
      "text/html": [
       "<table class=\"dataframe\">\n",
       "<caption>A data.frame: 5 × 19</caption>\n",
       "<thead>\n",
       "\t<tr><th></th><th scope=col>Rank</th><th scope=col>Title</th><th scope=col>Console</th><th scope=col>Publisher</th><th scope=col>Developer</th><th scope=col>Genre</th><th scope=col>ReleaseYear</th><th scope=col>ReleaseQuarter</th><th scope=col>ReleaseMonth</th><th scope=col>ReleaseWeek</th><th scope=col>ReleaseDay</th><th scope=col>ReleaseWeekend</th><th scope=col>EndOfMonth</th><th scope=col>TotalSales</th><th scope=col>Release Date</th><th scope=col>Last Update</th><th scope=col>VGChartz Score</th><th scope=col>Critic Score</th><th scope=col>User Score</th></tr>\n",
       "\t<tr><th></th><th scope=col>&lt;int&gt;</th><th scope=col>&lt;chr&gt;</th><th scope=col>&lt;fct&gt;</th><th scope=col>&lt;fct&gt;</th><th scope=col>&lt;fct&gt;</th><th scope=col>&lt;fct&gt;</th><th scope=col>&lt;int&gt;</th><th scope=col>&lt;int&gt;</th><th scope=col>&lt;int&gt;</th><th scope=col>&lt;int&gt;</th><th scope=col>&lt;int&gt;</th><th scope=col>&lt;fct&gt;</th><th scope=col>&lt;fct&gt;</th><th scope=col>&lt;int&gt;</th><th scope=col>&lt;chr&gt;</th><th scope=col>&lt;chr&gt;</th><th scope=col>&lt;dbl&gt;</th><th scope=col>&lt;dbl&gt;</th><th scope=col>&lt;dbl&gt;</th></tr>\n",
       "</thead>\n",
       "<tbody>\n",
       "\t<tr><th scope=row>1</th><td>2</td><td>Mario Kart 8 Deluxe             </td><td>NS</td><td>Nintendo        </td><td>Nintendo EPD     </td><td>Racing    </td><td>2017</td><td>2</td><td> 4</td><td>17</td><td>6</td><td>Weekend</td><td>End of month      </td><td>55460000</td><td>28/4/2017 </td><td>11/19/2018</td><td> NA</td><td> 9.3</td><td>NA</td></tr>\n",
       "\t<tr><th scope=row>2</th><td>3</td><td>Animal Crossing: New Horizons   </td><td>NS</td><td>Nintendo        </td><td>Nintendo         </td><td>Simulation</td><td>2020</td><td>1</td><td> 3</td><td>12</td><td>6</td><td>Weekend</td><td>End of month      </td><td>42790000</td><td>20/3/2020 </td><td>4/11/2020 </td><td>8.0</td><td>  NA</td><td>NA</td></tr>\n",
       "\t<tr><th scope=row>3</th><td>5</td><td>Counter-Strike: Global Offensive</td><td>PC</td><td>Valve           </td><td>Valve Corporation</td><td>Shooter   </td><td>2012</td><td>3</td><td> 8</td><td>34</td><td>3</td><td>Weekday</td><td>End of month      </td><td>40000000</td><td>21/8/2012 </td><td>3/26/2019 </td><td> NA</td><td>  NA</td><td>NA</td></tr>\n",
       "\t<tr><th scope=row>4</th><td>7</td><td>PLAYERUNKNOWN'S BATTLEGROUNDS   </td><td>PC</td><td>PUBG Corporation</td><td>PUBG Corporation </td><td>Shooter   </td><td>2017</td><td>4</td><td>12</td><td>51</td><td>5</td><td>Weekday</td><td>End of month      </td><td>36600000</td><td>21/12/2017</td><td>4/29/2019 </td><td> NA</td><td>  NA</td><td>NA</td></tr>\n",
       "\t<tr><th scope=row>5</th><td>8</td><td>Minecraft                       </td><td>PC</td><td>Mojang          </td><td>Mojang AB        </td><td>Misc      </td><td>2010</td><td>4</td><td>10</td><td>41</td><td>3</td><td>Weekday</td><td>Beginning of month</td><td>33150000</td><td>5/10/2010 </td><td>8/5/2018  </td><td>8.8</td><td>10.0</td><td>NA</td></tr>\n",
       "</tbody>\n",
       "</table>\n"
      ],
      "text/latex": [
       "A data.frame: 5 × 19\n",
       "\\begin{tabular}{r|lllllllllllllllllll}\n",
       "  & Rank & Title & Console & Publisher & Developer & Genre & ReleaseYear & ReleaseQuarter & ReleaseMonth & ReleaseWeek & ReleaseDay & ReleaseWeekend & EndOfMonth & TotalSales & Release Date & Last Update & VGChartz Score & Critic Score & User Score\\\\\n",
       "  & <int> & <chr> & <fct> & <fct> & <fct> & <fct> & <int> & <int> & <int> & <int> & <int> & <fct> & <fct> & <int> & <chr> & <chr> & <dbl> & <dbl> & <dbl>\\\\\n",
       "\\hline\n",
       "\t1 & 2 & Mario Kart 8 Deluxe              & NS & Nintendo         & Nintendo EPD      & Racing     & 2017 & 2 &  4 & 17 & 6 & Weekend & End of month       & 55460000 & 28/4/2017  & 11/19/2018 &  NA &  9.3 & NA\\\\\n",
       "\t2 & 3 & Animal Crossing: New Horizons    & NS & Nintendo         & Nintendo          & Simulation & 2020 & 1 &  3 & 12 & 6 & Weekend & End of month       & 42790000 & 20/3/2020  & 4/11/2020  & 8.0 &   NA & NA\\\\\n",
       "\t3 & 5 & Counter-Strike: Global Offensive & PC & Valve            & Valve Corporation & Shooter    & 2012 & 3 &  8 & 34 & 3 & Weekday & End of month       & 40000000 & 21/8/2012  & 3/26/2019  &  NA &   NA & NA\\\\\n",
       "\t4 & 7 & PLAYERUNKNOWN'S BATTLEGROUNDS    & PC & PUBG Corporation & PUBG Corporation  & Shooter    & 2017 & 4 & 12 & 51 & 5 & Weekday & End of month       & 36600000 & 21/12/2017 & 4/29/2019  &  NA &   NA & NA\\\\\n",
       "\t5 & 8 & Minecraft                        & PC & Mojang           & Mojang AB         & Misc       & 2010 & 4 & 10 & 41 & 3 & Weekday & Beginning of month & 33150000 & 5/10/2010  & 8/5/2018   & 8.8 & 10.0 & NA\\\\\n",
       "\\end{tabular}\n"
      ],
      "text/markdown": [
       "\n",
       "A data.frame: 5 × 19\n",
       "\n",
       "| <!--/--> | Rank &lt;int&gt; | Title &lt;chr&gt; | Console &lt;fct&gt; | Publisher &lt;fct&gt; | Developer &lt;fct&gt; | Genre &lt;fct&gt; | ReleaseYear &lt;int&gt; | ReleaseQuarter &lt;int&gt; | ReleaseMonth &lt;int&gt; | ReleaseWeek &lt;int&gt; | ReleaseDay &lt;int&gt; | ReleaseWeekend &lt;fct&gt; | EndOfMonth &lt;fct&gt; | TotalSales &lt;int&gt; | Release Date &lt;chr&gt; | Last Update &lt;chr&gt; | VGChartz Score &lt;dbl&gt; | Critic Score &lt;dbl&gt; | User Score &lt;dbl&gt; |\n",
       "|---|---|---|---|---|---|---|---|---|---|---|---|---|---|---|---|---|---|---|---|\n",
       "| 1 | 2 | Mario Kart 8 Deluxe              | NS | Nintendo         | Nintendo EPD      | Racing     | 2017 | 2 |  4 | 17 | 6 | Weekend | End of month       | 55460000 | 28/4/2017  | 11/19/2018 |  NA |  9.3 | NA |\n",
       "| 2 | 3 | Animal Crossing: New Horizons    | NS | Nintendo         | Nintendo          | Simulation | 2020 | 1 |  3 | 12 | 6 | Weekend | End of month       | 42790000 | 20/3/2020  | 4/11/2020  | 8.0 |   NA | NA |\n",
       "| 3 | 5 | Counter-Strike: Global Offensive | PC | Valve            | Valve Corporation | Shooter    | 2012 | 3 |  8 | 34 | 3 | Weekday | End of month       | 40000000 | 21/8/2012  | 3/26/2019  |  NA |   NA | NA |\n",
       "| 4 | 7 | PLAYERUNKNOWN'S BATTLEGROUNDS    | PC | PUBG Corporation | PUBG Corporation  | Shooter    | 2017 | 4 | 12 | 51 | 5 | Weekday | End of month       | 36600000 | 21/12/2017 | 4/29/2019  |  NA |   NA | NA |\n",
       "| 5 | 8 | Minecraft                        | PC | Mojang           | Mojang AB         | Misc       | 2010 | 4 | 10 | 41 | 3 | Weekday | Beginning of month | 33150000 | 5/10/2010  | 8/5/2018   | 8.8 | 10.0 | NA |\n",
       "\n"
      ],
      "text/plain": [
       "  Rank Title                            Console Publisher       \n",
       "1 2    Mario Kart 8 Deluxe              NS      Nintendo        \n",
       "2 3    Animal Crossing: New Horizons    NS      Nintendo        \n",
       "3 5    Counter-Strike: Global Offensive PC      Valve           \n",
       "4 7    PLAYERUNKNOWN'S BATTLEGROUNDS    PC      PUBG Corporation\n",
       "5 8    Minecraft                        PC      Mojang          \n",
       "  Developer         Genre      ReleaseYear ReleaseQuarter ReleaseMonth\n",
       "1 Nintendo EPD      Racing     2017        2               4          \n",
       "2 Nintendo          Simulation 2020        1               3          \n",
       "3 Valve Corporation Shooter    2012        3               8          \n",
       "4 PUBG Corporation  Shooter    2017        4              12          \n",
       "5 Mojang AB         Misc       2010        4              10          \n",
       "  ReleaseWeek ReleaseDay ReleaseWeekend EndOfMonth         TotalSales\n",
       "1 17          6          Weekend        End of month       55460000  \n",
       "2 12          6          Weekend        End of month       42790000  \n",
       "3 34          3          Weekday        End of month       40000000  \n",
       "4 51          5          Weekday        End of month       36600000  \n",
       "5 41          3          Weekday        Beginning of month 33150000  \n",
       "  Release Date Last Update VGChartz Score Critic Score User Score\n",
       "1 28/4/2017    11/19/2018   NA             9.3         NA        \n",
       "2 20/3/2020    4/11/2020   8.0              NA         NA        \n",
       "3 21/8/2012    3/26/2019    NA              NA         NA        \n",
       "4 21/12/2017   4/29/2019    NA              NA         NA        \n",
       "5 5/10/2010    8/5/2018    8.8            10.0         NA        "
      ]
     },
     "metadata": {},
     "output_type": "display_data"
    }
   ],
   "source": [
    "head(data, 5)"
   ]
  },
  {
   "cell_type": "code",
   "execution_count": 24,
   "metadata": {
    "vscode": {
     "languageId": "r"
    }
   },
   "outputs": [
    {
     "data": {
      "text/html": [
       "<style>\n",
       ".dl-inline {width: auto; margin:0; padding: 0}\n",
       ".dl-inline>dt, .dl-inline>dd {float: none; width: auto; display: inline-block}\n",
       ".dl-inline>dt::after {content: \":\\0020\"; padding-right: .5ex}\n",
       ".dl-inline>dt:not(:first-of-type) {padding-left: .5ex}\n",
       "</style><dl class=dl-inline><dt>Rank</dt><dd>7623</dd><dt>Title</dt><dd>4930</dd><dt>Console</dt><dd>21</dd><dt>Publisher</dt><dd>713</dd><dt>Developer</dt><dd>1564</dd><dt>Genre</dt><dd>13</dd><dt>ReleaseYear</dt><dd>14</dd><dt>ReleaseQuarter</dt><dd>4</dd><dt>ReleaseMonth</dt><dd>12</dd><dt>ReleaseWeek</dt><dd>53</dd><dt>ReleaseDay</dt><dd>7</dd><dt>ReleaseWeekend</dt><dd>2</dd><dt>EndOfMonth</dt><dd>2</dd><dt>TotalSales</dt><dd>500</dd><dt>Release Date</dt><dd>1671</dd><dt>Last Update</dt><dd>488</dd><dt>VGChartz Score</dt><dd>65</dd><dt>Critic Score</dt><dd>73</dd><dt>User Score</dt><dd>38</dd></dl>\n"
      ],
      "text/latex": [
       "\\begin{description*}\n",
       "\\item[Rank] 7623\n",
       "\\item[Title] 4930\n",
       "\\item[Console] 21\n",
       "\\item[Publisher] 713\n",
       "\\item[Developer] 1564\n",
       "\\item[Genre] 13\n",
       "\\item[ReleaseYear] 14\n",
       "\\item[ReleaseQuarter] 4\n",
       "\\item[ReleaseMonth] 12\n",
       "\\item[ReleaseWeek] 53\n",
       "\\item[ReleaseDay] 7\n",
       "\\item[ReleaseWeekend] 2\n",
       "\\item[EndOfMonth] 2\n",
       "\\item[TotalSales] 500\n",
       "\\item[Release Date] 1671\n",
       "\\item[Last Update] 488\n",
       "\\item[VGChartz Score] 65\n",
       "\\item[Critic Score] 73\n",
       "\\item[User Score] 38\n",
       "\\end{description*}\n"
      ],
      "text/markdown": [
       "Rank\n",
       ":   7623Title\n",
       ":   4930Console\n",
       ":   21Publisher\n",
       ":   713Developer\n",
       ":   1564Genre\n",
       ":   13ReleaseYear\n",
       ":   14ReleaseQuarter\n",
       ":   4ReleaseMonth\n",
       ":   12ReleaseWeek\n",
       ":   53ReleaseDay\n",
       ":   7ReleaseWeekend\n",
       ":   2EndOfMonth\n",
       ":   2TotalSales\n",
       ":   500Release Date\n",
       ":   1671Last Update\n",
       ":   488VGChartz Score\n",
       ":   65Critic Score\n",
       ":   73User Score\n",
       ":   38\n",
       "\n"
      ],
      "text/plain": [
       "          Rank          Title        Console      Publisher      Developer \n",
       "          7623           4930             21            713           1564 \n",
       "         Genre    ReleaseYear ReleaseQuarter   ReleaseMonth    ReleaseWeek \n",
       "            13             14              4             12             53 \n",
       "    ReleaseDay ReleaseWeekend     EndOfMonth     TotalSales   Release Date \n",
       "             7              2              2            500           1671 \n",
       "   Last Update VGChartz Score   Critic Score     User Score \n",
       "           488             65             73             38 "
      ]
     },
     "metadata": {},
     "output_type": "display_data"
    }
   ],
   "source": [
    "########################################################\n",
    "# Check the number of distinct values for the variables\n",
    "\n",
    "sapply(data, function(x) n_distinct(x))\n",
    "\n",
    "# Noticed too many publishers (total 713 publishers) & developers (total 1564 developers)"
   ]
  },
  {
   "cell_type": "markdown",
   "metadata": {},
   "source": [
    "ANOVA test - Do Publisher & Developer have any significant impact on the sales revenue?\n",
    "Note: Due to large amount of publishers & developers, we run one-way ANOVA test in order to minimize computing power required"
   ]
  },
  {
   "cell_type": "code",
   "execution_count": 25,
   "metadata": {
    "vscode": {
     "languageId": "r"
    }
   },
   "outputs": [],
   "source": [
    "########################################################\n",
    "# Does Publisher have an impact on the revenue?\n",
    "\n",
    "#Pre-processing: change the '-' to '_' for TukeyHSD\n",
    "# Replace hyphens with underscores in the \"Publisher\" column\n",
    "data$Publisher <- gsub(\"-\", \"_\", data$Publisher)"
   ]
  },
  {
   "cell_type": "code",
   "execution_count": 27,
   "metadata": {
    "vscode": {
     "languageId": "r"
    }
   },
   "outputs": [
    {
     "data": {
      "text/plain": [
       "              Df    Sum Sq   Mean Sq F value Pr(>F)    \n",
       "Publisher    712 7.141e+15 1.003e+13   3.075 <2e-16 ***\n",
       "Residuals   6910 2.254e+16 3.262e+12                   \n",
       "---\n",
       "Signif. codes:  0 '***' 0.001 '**' 0.01 '*' 0.05 '.' 0.1 ' ' 1"
      ]
     },
     "metadata": {},
     "output_type": "display_data"
    }
   ],
   "source": [
    "# Perform one-way ANOVA to identify significant publishers\n",
    "anova.result_Publisher = aov(TotalSales ~ Publisher,data=data)\n",
    "summary(anova.result_Publisher)\n",
    "\n",
    "# p-value is less than 0.05, reject the null hypothesis - Publisher has an impact on the revenue"
   ]
  },
  {
   "cell_type": "code",
   "execution_count": 28,
   "metadata": {
    "vscode": {
     "languageId": "r"
    }
   },
   "outputs": [],
   "source": [
    "# Apply the Tukey HSD test\n",
    "tukey_result = TukeyHSD(anova.result_Publisher)"
   ]
  },
  {
   "cell_type": "code",
   "execution_count": 29,
   "metadata": {
    "vscode": {
     "languageId": "r"
    }
   },
   "outputs": [],
   "source": [
    "# Change Tukey HSD test result to data frame\n",
    "tukey_df <- as.data.frame(tukey_result$Publisher)"
   ]
  },
  {
   "cell_type": "code",
   "execution_count": 30,
   "metadata": {
    "vscode": {
     "languageId": "r"
    }
   },
   "outputs": [],
   "source": [
    "# Create a new column for Publisher names\n",
    "tukey_df$Publisher <- rownames(tukey_df)"
   ]
  },
  {
   "cell_type": "code",
   "execution_count": 31,
   "metadata": {
    "vscode": {
     "languageId": "r"
    }
   },
   "outputs": [
    {
     "data": {
      "text/html": [
       "<table class=\"dataframe\">\n",
       "<caption>A data.frame: 5 × 5</caption>\n",
       "<thead>\n",
       "\t<tr><th></th><th scope=col>diff</th><th scope=col>lwr</th><th scope=col>upr</th><th scope=col>p adj</th><th scope=col>Publisher</th></tr>\n",
       "\t<tr><th></th><th scope=col>&lt;dbl&gt;</th><th scope=col>&lt;dbl&gt;</th><th scope=col>&lt;dbl&gt;</th><th scope=col>&lt;dbl&gt;</th><th scope=col>&lt;chr&gt;</th></tr>\n",
       "</thead>\n",
       "<tbody>\n",
       "\t<tr><th scope=row>17_Bit-11 bit studios</th><td>-224000.0</td><td>-10295814</td><td>9847814</td><td>1</td><td>17_Bit-11 bit studios    </td></tr>\n",
       "\t<tr><th scope=row>1C Company-11 bit studios</th><td>-267333.3</td><td> -6981876</td><td>6447209</td><td>1</td><td>1C Company-11 bit studios</td></tr>\n",
       "\t<tr><th scope=row>2K Games-11 bit studios</th><td> 462400.0</td><td> -3784250</td><td>4709050</td><td>1</td><td>2K Games-11 bit studios  </td></tr>\n",
       "\t<tr><th scope=row>2K Play-11 bit studios</th><td>-119000.0</td><td> -5013022</td><td>4775022</td><td>1</td><td>2K Play-11 bit studios   </td></tr>\n",
       "\t<tr><th scope=row>2K Sports-11 bit studios</th><td> 568911.4</td><td> -3671014</td><td>4808836</td><td>1</td><td>2K Sports-11 bit studios </td></tr>\n",
       "</tbody>\n",
       "</table>\n"
      ],
      "text/latex": [
       "A data.frame: 5 × 5\n",
       "\\begin{tabular}{r|lllll}\n",
       "  & diff & lwr & upr & p adj & Publisher\\\\\n",
       "  & <dbl> & <dbl> & <dbl> & <dbl> & <chr>\\\\\n",
       "\\hline\n",
       "\t17\\_Bit-11 bit studios & -224000.0 & -10295814 & 9847814 & 1 & 17\\_Bit-11 bit studios    \\\\\n",
       "\t1C Company-11 bit studios & -267333.3 &  -6981876 & 6447209 & 1 & 1C Company-11 bit studios\\\\\n",
       "\t2K Games-11 bit studios &  462400.0 &  -3784250 & 4709050 & 1 & 2K Games-11 bit studios  \\\\\n",
       "\t2K Play-11 bit studios & -119000.0 &  -5013022 & 4775022 & 1 & 2K Play-11 bit studios   \\\\\n",
       "\t2K Sports-11 bit studios &  568911.4 &  -3671014 & 4808836 & 1 & 2K Sports-11 bit studios \\\\\n",
       "\\end{tabular}\n"
      ],
      "text/markdown": [
       "\n",
       "A data.frame: 5 × 5\n",
       "\n",
       "| <!--/--> | diff &lt;dbl&gt; | lwr &lt;dbl&gt; | upr &lt;dbl&gt; | p adj &lt;dbl&gt; | Publisher &lt;chr&gt; |\n",
       "|---|---|---|---|---|---|\n",
       "| 17_Bit-11 bit studios | -224000.0 | -10295814 | 9847814 | 1 | 17_Bit-11 bit studios     |\n",
       "| 1C Company-11 bit studios | -267333.3 |  -6981876 | 6447209 | 1 | 1C Company-11 bit studios |\n",
       "| 2K Games-11 bit studios |  462400.0 |  -3784250 | 4709050 | 1 | 2K Games-11 bit studios   |\n",
       "| 2K Play-11 bit studios | -119000.0 |  -5013022 | 4775022 | 1 | 2K Play-11 bit studios    |\n",
       "| 2K Sports-11 bit studios |  568911.4 |  -3671014 | 4808836 | 1 | 2K Sports-11 bit studios  |\n",
       "\n"
      ],
      "text/plain": [
       "                          diff      lwr       upr     p adj\n",
       "17_Bit-11 bit studios     -224000.0 -10295814 9847814 1    \n",
       "1C Company-11 bit studios -267333.3  -6981876 6447209 1    \n",
       "2K Games-11 bit studios    462400.0  -3784250 4709050 1    \n",
       "2K Play-11 bit studios    -119000.0  -5013022 4775022 1    \n",
       "2K Sports-11 bit studios   568911.4  -3671014 4808836 1    \n",
       "                          Publisher                \n",
       "17_Bit-11 bit studios     17_Bit-11 bit studios    \n",
       "1C Company-11 bit studios 1C Company-11 bit studios\n",
       "2K Games-11 bit studios   2K Games-11 bit studios  \n",
       "2K Play-11 bit studios    2K Play-11 bit studios   \n",
       "2K Sports-11 bit studios  2K Sports-11 bit studios "
      ]
     },
     "metadata": {},
     "output_type": "display_data"
    },
    {
     "data": {
      "text/html": [
       "<style>\n",
       ".list-inline {list-style: none; margin:0; padding: 0}\n",
       ".list-inline>li {display: inline-block}\n",
       ".list-inline>li:not(:last-child)::after {content: \"\\00b7\"; padding: 0 .5ex}\n",
       "</style>\n",
       "<ol class=list-inline><li>'diff'</li><li>'lwr'</li><li>'upr'</li><li>'p adj'</li><li>'Publisher'</li></ol>\n"
      ],
      "text/latex": [
       "\\begin{enumerate*}\n",
       "\\item 'diff'\n",
       "\\item 'lwr'\n",
       "\\item 'upr'\n",
       "\\item 'p adj'\n",
       "\\item 'Publisher'\n",
       "\\end{enumerate*}\n"
      ],
      "text/markdown": [
       "1. 'diff'\n",
       "2. 'lwr'\n",
       "3. 'upr'\n",
       "4. 'p adj'\n",
       "5. 'Publisher'\n",
       "\n",
       "\n"
      ],
      "text/plain": [
       "[1] \"diff\"      \"lwr\"       \"upr\"       \"p adj\"     \"Publisher\""
      ]
     },
     "metadata": {},
     "output_type": "display_data"
    }
   ],
   "source": [
    "# View the dataframe\n",
    "head(tukey_df,5)\n",
    "names(tukey_df)"
   ]
  },
  {
   "cell_type": "code",
   "execution_count": 32,
   "metadata": {
    "vscode": {
     "languageId": "r"
    }
   },
   "outputs": [],
   "source": [
    "# filter for p value < 0.05\n",
    "significant_tukey_df <- tukey_df %>%\n",
    "  filter(`p adj` < 0.05)\n"
   ]
  },
  {
   "cell_type": "code",
   "execution_count": 33,
   "metadata": {
    "vscode": {
     "languageId": "r"
    }
   },
   "outputs": [],
   "source": [
    "# Split the \"Publisher\" column into two columns\n",
    "significant_tukey_df <- significant_tukey_df %>%\n",
    "  separate(Publisher, into = c(\"Publisher1\", \"Publisher2\"), sep = \"-\", extra = \"merge\", remove = FALSE)\n"
   ]
  },
  {
   "cell_type": "code",
   "execution_count": 34,
   "metadata": {
    "vscode": {
     "languageId": "r"
    }
   },
   "outputs": [
    {
     "data": {
      "text/html": [
       "394"
      ],
      "text/latex": [
       "394"
      ],
      "text/markdown": [
       "394"
      ],
      "text/plain": [
       "[1] 394"
      ]
     },
     "metadata": {},
     "output_type": "display_data"
    }
   ],
   "source": [
    "# Create a vector of all unique significant publishers\n",
    "all_significant_publishers <- unique(significant_tukey_df$Publisher1)\n",
    "\n",
    "# Remove NAs (if any)\n",
    "all_significant_publishers <- all_significant_publishers[!is.na(all_significant_publishers)]\n",
    "length (all_significant_publishers)\n",
    "\n",
    "# Compare and replace data$Publisher with 'Others' if it's not in the list\n",
    "data$Publisher <- ifelse(data$Publisher %in% all_significant_publishers, data$Publisher, 'Others')\n"
   ]
  },
  {
   "cell_type": "code",
   "execution_count": 37,
   "metadata": {
    "vscode": {
     "languageId": "r"
    }
   },
   "outputs": [
    {
     "data": {
      "text/html": [
       "<style>\n",
       ".dl-inline {width: auto; margin:0; padding: 0}\n",
       ".dl-inline>dt, .dl-inline>dd {float: none; width: auto; display: inline-block}\n",
       ".dl-inline>dt::after {content: \":\\0020\"; padding-right: .5ex}\n",
       ".dl-inline>dt:not(:first-of-type) {padding-left: .5ex}\n",
       "</style><dl class=dl-inline><dt>Rank</dt><dd>7623</dd><dt>Title</dt><dd>4930</dd><dt>Console</dt><dd>21</dd><dt>Publisher</dt><dd>395</dd><dt>Developer</dt><dd>1564</dd><dt>Genre</dt><dd>13</dd><dt>ReleaseYear</dt><dd>14</dd><dt>ReleaseQuarter</dt><dd>4</dd><dt>ReleaseMonth</dt><dd>12</dd><dt>ReleaseWeek</dt><dd>53</dd><dt>ReleaseDay</dt><dd>7</dd><dt>ReleaseWeekend</dt><dd>2</dd><dt>EndOfMonth</dt><dd>2</dd><dt>TotalSales</dt><dd>500</dd><dt>Release Date</dt><dd>1671</dd><dt>Last Update</dt><dd>488</dd><dt>VGChartz Score</dt><dd>65</dd><dt>Critic Score</dt><dd>73</dd><dt>User Score</dt><dd>38</dd></dl>\n"
      ],
      "text/latex": [
       "\\begin{description*}\n",
       "\\item[Rank] 7623\n",
       "\\item[Title] 4930\n",
       "\\item[Console] 21\n",
       "\\item[Publisher] 395\n",
       "\\item[Developer] 1564\n",
       "\\item[Genre] 13\n",
       "\\item[ReleaseYear] 14\n",
       "\\item[ReleaseQuarter] 4\n",
       "\\item[ReleaseMonth] 12\n",
       "\\item[ReleaseWeek] 53\n",
       "\\item[ReleaseDay] 7\n",
       "\\item[ReleaseWeekend] 2\n",
       "\\item[EndOfMonth] 2\n",
       "\\item[TotalSales] 500\n",
       "\\item[Release Date] 1671\n",
       "\\item[Last Update] 488\n",
       "\\item[VGChartz Score] 65\n",
       "\\item[Critic Score] 73\n",
       "\\item[User Score] 38\n",
       "\\end{description*}\n"
      ],
      "text/markdown": [
       "Rank\n",
       ":   7623Title\n",
       ":   4930Console\n",
       ":   21Publisher\n",
       ":   395Developer\n",
       ":   1564Genre\n",
       ":   13ReleaseYear\n",
       ":   14ReleaseQuarter\n",
       ":   4ReleaseMonth\n",
       ":   12ReleaseWeek\n",
       ":   53ReleaseDay\n",
       ":   7ReleaseWeekend\n",
       ":   2EndOfMonth\n",
       ":   2TotalSales\n",
       ":   500Release Date\n",
       ":   1671Last Update\n",
       ":   488VGChartz Score\n",
       ":   65Critic Score\n",
       ":   73User Score\n",
       ":   38\n",
       "\n"
      ],
      "text/plain": [
       "          Rank          Title        Console      Publisher      Developer \n",
       "          7623           4930             21            395           1564 \n",
       "         Genre    ReleaseYear ReleaseQuarter   ReleaseMonth    ReleaseWeek \n",
       "            13             14              4             12             53 \n",
       "    ReleaseDay ReleaseWeekend     EndOfMonth     TotalSales   Release Date \n",
       "             7              2              2            500           1671 \n",
       "   Last Update VGChartz Score   Critic Score     User Score \n",
       "           488             65             73             38 "
      ]
     },
     "metadata": {},
     "output_type": "display_data"
    }
   ],
   "source": [
    "########################################################\n",
    "# Check the number of distinct values for the variables\n",
    "\n",
    "sapply(data, function(x) n_distinct(x))\n",
    "\n",
    "# Reduce the number of unique Publisher to 395"
   ]
  },
  {
   "cell_type": "code",
   "execution_count": 38,
   "metadata": {
    "vscode": {
     "languageId": "r"
    }
   },
   "outputs": [
    {
     "data": {
      "text/html": [
       "335"
      ],
      "text/latex": [
       "335"
      ],
      "text/markdown": [
       "335"
      ],
      "text/plain": [
       "[1] 335"
      ]
     },
     "metadata": {},
     "output_type": "display_data"
    }
   ],
   "source": [
    "########################################################\n",
    "# Try again using lower significance level\n",
    "\n",
    "# filter for p value < 0.00025\n",
    "significant_tukey_df <- tukey_df %>%\n",
    "  filter(`p adj` < 0.00025)\n",
    "\n",
    "# Split the \"Publisher\" column into two columns\n",
    "significant_tukey_df <- significant_tukey_df %>%\n",
    "  separate(Publisher, into = c(\"Publisher1\", \"Publisher2\"), sep = \"-\", extra = \"merge\", remove = FALSE)\n",
    "\n",
    "\n",
    "# Create a vector of all unique significant publishers\n",
    "all_significant_publishers <- unique(significant_tukey_df$Publisher1)\n",
    "\n",
    "# Remove NAs (if any)\n",
    "all_significant_publishers <- all_significant_publishers[!is.na(all_significant_publishers)]\n",
    "length (all_significant_publishers)\n",
    "\n",
    "# Compare and replace data$Publisher with 'Others' if it's not in the list\n",
    "data$Publisher <- ifelse(data$Publisher %in% all_significant_publishers, data$Publisher, 'Others')\n"
   ]
  },
  {
   "cell_type": "code",
   "execution_count": 39,
   "metadata": {
    "vscode": {
     "languageId": "r"
    }
   },
   "outputs": [
    {
     "data": {
      "text/html": [
       "<style>\n",
       ".dl-inline {width: auto; margin:0; padding: 0}\n",
       ".dl-inline>dt, .dl-inline>dd {float: none; width: auto; display: inline-block}\n",
       ".dl-inline>dt::after {content: \":\\0020\"; padding-right: .5ex}\n",
       ".dl-inline>dt:not(:first-of-type) {padding-left: .5ex}\n",
       "</style><dl class=dl-inline><dt>Rank</dt><dd>7623</dd><dt>Title</dt><dd>4930</dd><dt>Console</dt><dd>21</dd><dt>Publisher</dt><dd>336</dd><dt>Developer</dt><dd>1564</dd><dt>Genre</dt><dd>13</dd><dt>ReleaseYear</dt><dd>14</dd><dt>ReleaseQuarter</dt><dd>4</dd><dt>ReleaseMonth</dt><dd>12</dd><dt>ReleaseWeek</dt><dd>53</dd><dt>ReleaseDay</dt><dd>7</dd><dt>ReleaseWeekend</dt><dd>2</dd><dt>EndOfMonth</dt><dd>2</dd><dt>TotalSales</dt><dd>500</dd><dt>Release Date</dt><dd>1671</dd><dt>Last Update</dt><dd>488</dd><dt>VGChartz Score</dt><dd>65</dd><dt>Critic Score</dt><dd>73</dd><dt>User Score</dt><dd>38</dd></dl>\n"
      ],
      "text/latex": [
       "\\begin{description*}\n",
       "\\item[Rank] 7623\n",
       "\\item[Title] 4930\n",
       "\\item[Console] 21\n",
       "\\item[Publisher] 336\n",
       "\\item[Developer] 1564\n",
       "\\item[Genre] 13\n",
       "\\item[ReleaseYear] 14\n",
       "\\item[ReleaseQuarter] 4\n",
       "\\item[ReleaseMonth] 12\n",
       "\\item[ReleaseWeek] 53\n",
       "\\item[ReleaseDay] 7\n",
       "\\item[ReleaseWeekend] 2\n",
       "\\item[EndOfMonth] 2\n",
       "\\item[TotalSales] 500\n",
       "\\item[Release Date] 1671\n",
       "\\item[Last Update] 488\n",
       "\\item[VGChartz Score] 65\n",
       "\\item[Critic Score] 73\n",
       "\\item[User Score] 38\n",
       "\\end{description*}\n"
      ],
      "text/markdown": [
       "Rank\n",
       ":   7623Title\n",
       ":   4930Console\n",
       ":   21Publisher\n",
       ":   336Developer\n",
       ":   1564Genre\n",
       ":   13ReleaseYear\n",
       ":   14ReleaseQuarter\n",
       ":   4ReleaseMonth\n",
       ":   12ReleaseWeek\n",
       ":   53ReleaseDay\n",
       ":   7ReleaseWeekend\n",
       ":   2EndOfMonth\n",
       ":   2TotalSales\n",
       ":   500Release Date\n",
       ":   1671Last Update\n",
       ":   488VGChartz Score\n",
       ":   65Critic Score\n",
       ":   73User Score\n",
       ":   38\n",
       "\n"
      ],
      "text/plain": [
       "          Rank          Title        Console      Publisher      Developer \n",
       "          7623           4930             21            336           1564 \n",
       "         Genre    ReleaseYear ReleaseQuarter   ReleaseMonth    ReleaseWeek \n",
       "            13             14              4             12             53 \n",
       "    ReleaseDay ReleaseWeekend     EndOfMonth     TotalSales   Release Date \n",
       "             7              2              2            500           1671 \n",
       "   Last Update VGChartz Score   Critic Score     User Score \n",
       "           488             65             73             38 "
      ]
     },
     "metadata": {},
     "output_type": "display_data"
    }
   ],
   "source": [
    "########################################################\n",
    "# Check the number of distinct values for the variables\n",
    "\n",
    "sapply(data, function(x) n_distinct(x))\n",
    "\n",
    "# Reduce the number of unique Publisher to 336"
   ]
  },
  {
   "cell_type": "code",
   "execution_count": 40,
   "metadata": {
    "vscode": {
     "languageId": "r"
    }
   },
   "outputs": [],
   "source": [
    "########################################################\n",
    "# Does Developer have an impact on the revenue?\n",
    "\n",
    "#Pre-processing: change the '-' to '_' for TukeyHSD\n",
    "# Replace hyphens with underscores in the \"Developer\" column\n",
    "data$Developer <- gsub(\"-\", \"_\", data$Developer)"
   ]
  },
  {
   "cell_type": "code",
   "execution_count": 41,
   "metadata": {
    "vscode": {
     "languageId": "r"
    }
   },
   "outputs": [
    {
     "data": {
      "text/plain": [
       "              Df    Sum Sq   Mean Sq F value Pr(>F)    \n",
       "Developer   1563 1.422e+16 9.096e+12   3.564 <2e-16 ***\n",
       "Residuals   6059 1.546e+16 2.552e+12                   \n",
       "---\n",
       "Signif. codes:  0 '***' 0.001 '**' 0.01 '*' 0.05 '.' 0.1 ' ' 1"
      ]
     },
     "metadata": {},
     "output_type": "display_data"
    }
   ],
   "source": [
    "# Perform one-way ANOVA to identify significant publishers\n",
    "anova.result_Developer = aov(TotalSales ~ Developer,data=data)\n",
    "summary(anova.result_Developer)\n",
    "\n",
    "# p-value is less than 0.05, reject the null hypothesis - Developer has an impact on the revenue\n"
   ]
  }
 ],
 "metadata": {
  "kernelspec": {
   "display_name": "R",
   "language": "R",
   "name": "ir"
  },
  "language_info": {
   "codemirror_mode": "r",
   "file_extension": ".r",
   "mimetype": "text/x-r-source",
   "name": "R",
   "pygments_lexer": "r",
   "version": "4.3.1"
  }
 },
 "nbformat": 4,
 "nbformat_minor": 2
}
