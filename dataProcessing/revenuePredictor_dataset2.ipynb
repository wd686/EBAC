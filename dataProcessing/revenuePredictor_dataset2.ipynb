{
 "cells": [
  {
   "cell_type": "code",
   "execution_count": 43,
   "metadata": {
    "vscode": {
     "languageId": "r"
    }
   },
   "outputs": [],
   "source": [
    "library(pacman)\n",
    "\n",
    "# Use pacman to load the packages\n",
    "p_load(car)\n",
    "p_load(dplyr)\n",
    "p_load(tidyverse, VIM, mice, Hmisc, \n",
    "               DMwR, naniar)\n",
    "p_load(stargazer)\n",
    "p_load(openxlsx)\n",
    "p_load(here)\n",
    "p_load(rio)\n",
    "p_load(ggplot2)\n",
    "p_load(BSDA)\n",
    "p_load(corrplot)\n",
    "p_load(caTools)\n",
    "p_load(keras)\n",
    "p_load(reticulate)\n",
    "p_load(readr)\n",
    "p_load(writexl)\n",
    "p_load(stringr)\n",
    "p_load(caTools)\n",
    "p_load(scales)\n",
    "p_load(reshape2)\n",
    "p_load(MASS)\n"
   ]
  },
  {
   "cell_type": "code",
   "execution_count": 8,
   "metadata": {
    "vscode": {
     "languageId": "r"
    }
   },
   "outputs": [
    {
     "name": "stderr",
     "output_type": "stream",
     "text": [
      "+ \"C:/Users/angme/anaconda3/condabin/conda.bat\" \"install\" \"--yes\" \"--prefix\" \"C:/Users/angme/anaconda3\" \"-c\" \"conda-forge\" \"tensorflow\"\n",
      "\n"
     ]
    }
   ],
   "source": [
    "py_install(\"tensorflow\")"
   ]
  },
  {
   "cell_type": "markdown",
   "metadata": {},
   "source": [
    "Import File"
   ]
  },
  {
   "cell_type": "code",
   "execution_count": null,
   "metadata": {
    "vscode": {
     "languageId": "r"
    }
   },
   "outputs": [],
   "source": [
    "data = read.csv(here(\"dataSources\", \"videoGames\", \"clean output of joined table.csv\"))\n",
    "attach(data)"
   ]
  },
  {
   "cell_type": "code",
   "execution_count": 66,
   "metadata": {
    "vscode": {
     "languageId": "r"
    }
   },
   "outputs": [
    {
     "name": "stdout",
     "output_type": "stream",
     "text": [
      "'data.frame':\t8896 obs. of  32 variables:\n",
      " $ Title                : chr  \"(c 12) Final Resistance\" \".hack Sekai no Mukou ni  Versus\" \"007 Quantum of Solace\" \"007 Quantum of Solace\" ...\n",
      " $ Platform             : chr  \"PS\" \"PS3\" \"PS2\" \"PS3\" ...\n",
      " $ Genre                : chr  \"Shooter\" \"Fighting\" \"Shooter\" \"Shooter\" ...\n",
      " $ Publisher            : chr  \"IBM\" \"IBM\" \"Activision\" \"Activision\" ...\n",
      " $ VGScore              : num  1 6 8 3 1 6 3 1 2 3 ...\n",
      " $ CriticScore          : num  6.5 10 7.8 6.6 6.4 7 6.1 2 10 7 ...\n",
      " $ UserScore            : num  4 6 4 10 1 7 8 5 3 1 ...\n",
      " $ TotalShipped         : num  8 269 81 158 240 294 210 174 21 277 ...\n",
      " $ AsianSales           : num  5.08 3 3 1.14 3 2.94 3 3.74 5.5 2.67 ...\n",
      " $ NorthAmericaSales    : num  1.1 1.86 0.17 0.43 0.51 2.3 0.3 1.98 4.74 2.37 ...\n",
      " $ JapanSales           : num  5.7 0.03 1.21 0.02 3.75 1.37 4.94 2.34 3.85 5.75 ...\n",
      " $ EuropeSales          : num  3.54 6.43 2.22 0.51 0.35 2.14 0.2 1.16 3.73 3.62 ...\n",
      " $ GlobalSales          : num  15.42 8.35 4.03 2.1 5.53 ...\n",
      " $ ProductionCost       : num  1.98 3.34 2.05 1.19 1.5 4.27 2.8 5.76 3.89 6.33 ...\n",
      " $ ReleaseYear_v1       : int  2002 2012 2008 2008 2000 2002 2000 2009 2008 2006 ...\n",
      " $ Developer            : chr  \"#N/A\" \"#N/A\" \"#N/A\" \"#N/A\" ...\n",
      " $ MultipleGenre        : chr  \"#N/A\" \"#N/A\" \"#N/A\" \"#N/A\" ...\n",
      " $ MetaScore            : chr  \"#N/A\" \"#N/A\" \"#N/A\" \"#N/A\" ...\n",
      " $ AvgUserScore         : chr  \"#N/A\" \"#N/A\" \"#N/A\" \"#N/A\" ...\n",
      " $ NoOfPlayers          : chr  \"#N/A\" \"#N/A\" \"#N/A\" \"#N/A\" ...\n",
      " $ releasedate_1986.2023: logi  NA NA NA NA NA NA ...\n",
      " $ releasedate_VGOutput : chr  \"#N/A\" \"#N/A\" \"#N/A\" \"#N/A\" ...\n",
      " $ releasedate_raw      : chr  \"\" \"\" \"\" \"\" ...\n",
      " $ ReleaseDate          : chr  \"0/1/1900\" \"0/1/1900\" \"0/1/1900\" \"0/1/1900\" ...\n",
      " $ releasedate_link     : chr  \"https://www.google.com/search?q=(c 12) Final Resistance PS release date\" \"https://www.google.com/search?q=.hack Sekai no Mukou ni  Versus PS3 release date\" \"https://www.google.com/search?q=007 Quantum of Solace PS2 release date\" \"https://www.google.com/search?q=007 Quantum of Solace PS3 release date\" ...\n",
      " $ ReleaseYear          : int  NA NA NA NA NA NA NA NA NA NA ...\n",
      " $ ReleaseMonth         : int  NA NA NA NA NA NA NA NA NA NA ...\n",
      " $ EndOfMonth           : chr  \"\" \"\" \"\" \"\" ...\n",
      " $ ReleaseQuarter       : int  NA NA NA NA NA NA NA NA NA NA ...\n",
      " $ ReleaseWeekDay       : int  NA NA NA NA NA NA NA NA NA NA ...\n",
      " $ ReleaseWeekend       : chr  \"\" \"\" \"\" \"\" ...\n",
      " $ ReleaseWeek          : int  NA NA NA NA NA NA NA NA NA NA ...\n"
     ]
    },
    {
     "data": {
      "text/plain": [
       "    Title             Platform            Genre            Publisher        \n",
       " Length:8896        Length:8896        Length:8896        Length:8896       \n",
       " Class :character   Class :character   Class :character   Class :character  \n",
       " Mode  :character   Mode  :character   Mode  :character   Mode  :character  \n",
       "                                                                            \n",
       "                                                                            \n",
       "                                                                            \n",
       "                                                                            \n",
       "    VGScore        CriticScore      UserScore       TotalShipped   \n",
       " Min.   : 1.000   Min.   : 1.00   Min.   : 1.000   Min.   :  0.07  \n",
       " 1st Qu.: 4.000   1st Qu.: 3.00   1st Qu.: 3.000   1st Qu.: 67.00  \n",
       " Median : 6.000   Median : 6.00   Median : 5.000   Median :146.00  \n",
       " Mean   : 6.121   Mean   : 5.71   Mean   : 5.502   Mean   :145.25  \n",
       " 3rd Qu.: 8.500   3rd Qu.: 8.00   3rd Qu.: 8.000   3rd Qu.:224.00  \n",
       " Max.   :10.000   Max.   :10.00   Max.   :10.000   Max.   :300.00  \n",
       "                                                                   \n",
       "   AsianSales     NorthAmericaSales   JapanSales     EuropeSales   \n",
       " Min.   : 1.000   Min.   :0.010     Min.   :0.010   Min.   :0.010  \n",
       " 1st Qu.: 3.000   1st Qu.:0.640     1st Qu.:1.690   1st Qu.:1.040  \n",
       " Median : 3.000   Median :2.440     Median :3.100   Median :3.025  \n",
       " Mean   : 3.877   Mean   :2.591     Mean   :3.065   Mean   :3.037  \n",
       " 3rd Qu.: 5.140   3rd Qu.:4.060     3rd Qu.:4.590   3rd Qu.:5.000  \n",
       " Max.   :13.800   Max.   :8.000     Max.   :6.000   Max.   :7.000  \n",
       "                                                                   \n",
       "  GlobalSales    ProductionCost  ReleaseYear_v1  Developer        \n",
       " Min.   : 0.09   Min.   :0.010   Min.   :2000   Length:8896       \n",
       " 1st Qu.: 6.34   1st Qu.:2.160   1st Qu.:2004   Class :character  \n",
       " Median :12.20   Median :3.440   Median :2007   Mode  :character  \n",
       " Mean   :11.59   Mean   :3.565   Mean   :2008                     \n",
       " 3rd Qu.:16.23   3rd Qu.:4.950   3rd Qu.:2010                     \n",
       " Max.   :27.08   Max.   :8.000   Max.   :2020                     \n",
       "                                                                  \n",
       " MultipleGenre       MetaScore         AvgUserScore       NoOfPlayers       \n",
       " Length:8896        Length:8896        Length:8896        Length:8896       \n",
       " Class :character   Class :character   Class :character   Class :character  \n",
       " Mode  :character   Mode  :character   Mode  :character   Mode  :character  \n",
       "                                                                            \n",
       "                                                                            \n",
       "                                                                            \n",
       "                                                                            \n",
       " releasedate_1986.2023 releasedate_VGOutput releasedate_raw   \n",
       " Mode:logical          Length:8896          Length:8896       \n",
       " NA's:8896             Class :character     Class :character  \n",
       "                       Mode  :character     Mode  :character  \n",
       "                                                              \n",
       "                                                              \n",
       "                                                              \n",
       "                                                              \n",
       " ReleaseDate        releasedate_link    ReleaseYear    ReleaseMonth   \n",
       " Length:8896        Length:8896        Min.   :1900   Min.   : 1.000  \n",
       " Class :character   Class :character   1st Qu.:2003   1st Qu.: 4.000  \n",
       " Mode  :character   Mode  :character   Median :2006   Median : 8.000  \n",
       "                                       Mean   :2007   Mean   : 7.172  \n",
       "                                       3rd Qu.:2010   3rd Qu.:10.000  \n",
       "                                       Max.   :2019   Max.   :12.000  \n",
       "                                       NA's   :8070   NA's   :8070    \n",
       "  EndOfMonth        ReleaseQuarter  ReleaseWeekDay  ReleaseWeekend    \n",
       " Length:8896        Min.   :1.000   Min.   :1.000   Length:8896       \n",
       " Class :character   1st Qu.:2.000   1st Qu.:2.000   Class :character  \n",
       " Mode  :character   Median :3.000   Median :2.000   Mode  :character  \n",
       "                    Mean   :2.711   Mean   :2.636                     \n",
       "                    3rd Qu.:4.000   3rd Qu.:4.000                     \n",
       "                    Max.   :4.000   Max.   :7.000                     \n",
       "                    NA's   :8070    NA's   :8070                      \n",
       "  ReleaseWeek   \n",
       " Min.   : 0.00  \n",
       " 1st Qu.:16.00  \n",
       " Median :35.00  \n",
       " Mean   :29.94  \n",
       " 3rd Qu.:43.00  \n",
       " Max.   :52.00  \n",
       " NA's   :8070   "
      ]
     },
     "metadata": {},
     "output_type": "display_data"
    },
    {
     "data": {
      "text/html": [
       "<style>\n",
       ".list-inline {list-style: none; margin:0; padding: 0}\n",
       ".list-inline>li {display: inline-block}\n",
       ".list-inline>li:not(:last-child)::after {content: \"\\00b7\"; padding: 0 .5ex}\n",
       "</style>\n",
       "<ol class=list-inline><li>'Title'</li><li>'Platform'</li><li>'Genre'</li><li>'Publisher'</li><li>'VGScore'</li><li>'CriticScore'</li><li>'UserScore'</li><li>'TotalShipped'</li><li>'AsianSales'</li><li>'NorthAmericaSales'</li><li>'JapanSales'</li><li>'EuropeSales'</li><li>'GlobalSales'</li><li>'ProductionCost'</li><li>'ReleaseYear_v1'</li><li>'Developer'</li><li>'MultipleGenre'</li><li>'MetaScore'</li><li>'AvgUserScore'</li><li>'NoOfPlayers'</li><li>'releasedate_1986.2023'</li><li>'releasedate_VGOutput'</li><li>'releasedate_raw'</li><li>'ReleaseDate'</li><li>'releasedate_link'</li><li>'ReleaseYear'</li><li>'ReleaseMonth'</li><li>'EndOfMonth'</li><li>'ReleaseQuarter'</li><li>'ReleaseWeekDay'</li><li>'ReleaseWeekend'</li><li>'ReleaseWeek'</li></ol>\n"
      ],
      "text/latex": [
       "\\begin{enumerate*}\n",
       "\\item 'Title'\n",
       "\\item 'Platform'\n",
       "\\item 'Genre'\n",
       "\\item 'Publisher'\n",
       "\\item 'VGScore'\n",
       "\\item 'CriticScore'\n",
       "\\item 'UserScore'\n",
       "\\item 'TotalShipped'\n",
       "\\item 'AsianSales'\n",
       "\\item 'NorthAmericaSales'\n",
       "\\item 'JapanSales'\n",
       "\\item 'EuropeSales'\n",
       "\\item 'GlobalSales'\n",
       "\\item 'ProductionCost'\n",
       "\\item 'ReleaseYear\\_v1'\n",
       "\\item 'Developer'\n",
       "\\item 'MultipleGenre'\n",
       "\\item 'MetaScore'\n",
       "\\item 'AvgUserScore'\n",
       "\\item 'NoOfPlayers'\n",
       "\\item 'releasedate\\_1986.2023'\n",
       "\\item 'releasedate\\_VGOutput'\n",
       "\\item 'releasedate\\_raw'\n",
       "\\item 'ReleaseDate'\n",
       "\\item 'releasedate\\_link'\n",
       "\\item 'ReleaseYear'\n",
       "\\item 'ReleaseMonth'\n",
       "\\item 'EndOfMonth'\n",
       "\\item 'ReleaseQuarter'\n",
       "\\item 'ReleaseWeekDay'\n",
       "\\item 'ReleaseWeekend'\n",
       "\\item 'ReleaseWeek'\n",
       "\\end{enumerate*}\n"
      ],
      "text/markdown": [
       "1. 'Title'\n",
       "2. 'Platform'\n",
       "3. 'Genre'\n",
       "4. 'Publisher'\n",
       "5. 'VGScore'\n",
       "6. 'CriticScore'\n",
       "7. 'UserScore'\n",
       "8. 'TotalShipped'\n",
       "9. 'AsianSales'\n",
       "10. 'NorthAmericaSales'\n",
       "11. 'JapanSales'\n",
       "12. 'EuropeSales'\n",
       "13. 'GlobalSales'\n",
       "14. 'ProductionCost'\n",
       "15. 'ReleaseYear_v1'\n",
       "16. 'Developer'\n",
       "17. 'MultipleGenre'\n",
       "18. 'MetaScore'\n",
       "19. 'AvgUserScore'\n",
       "20. 'NoOfPlayers'\n",
       "21. 'releasedate_1986.2023'\n",
       "22. 'releasedate_VGOutput'\n",
       "23. 'releasedate_raw'\n",
       "24. 'ReleaseDate'\n",
       "25. 'releasedate_link'\n",
       "26. 'ReleaseYear'\n",
       "27. 'ReleaseMonth'\n",
       "28. 'EndOfMonth'\n",
       "29. 'ReleaseQuarter'\n",
       "30. 'ReleaseWeekDay'\n",
       "31. 'ReleaseWeekend'\n",
       "32. 'ReleaseWeek'\n",
       "\n",
       "\n"
      ],
      "text/plain": [
       " [1] \"Title\"                 \"Platform\"              \"Genre\"                \n",
       " [4] \"Publisher\"             \"VGScore\"               \"CriticScore\"          \n",
       " [7] \"UserScore\"             \"TotalShipped\"          \"AsianSales\"           \n",
       "[10] \"NorthAmericaSales\"     \"JapanSales\"            \"EuropeSales\"          \n",
       "[13] \"GlobalSales\"           \"ProductionCost\"        \"ReleaseYear_v1\"       \n",
       "[16] \"Developer\"             \"MultipleGenre\"         \"MetaScore\"            \n",
       "[19] \"AvgUserScore\"          \"NoOfPlayers\"           \"releasedate_1986.2023\"\n",
       "[22] \"releasedate_VGOutput\"  \"releasedate_raw\"       \"ReleaseDate\"          \n",
       "[25] \"releasedate_link\"      \"ReleaseYear\"           \"ReleaseMonth\"         \n",
       "[28] \"EndOfMonth\"            \"ReleaseQuarter\"        \"ReleaseWeekDay\"       \n",
       "[31] \"ReleaseWeekend\"        \"ReleaseWeek\"          "
      ]
     },
     "metadata": {},
     "output_type": "display_data"
    },
    {
     "data": {
      "text/html": [
       "<table class=\"dataframe\">\n",
       "<caption>A data.frame: 5 × 32</caption>\n",
       "<thead>\n",
       "\t<tr><th></th><th scope=col>Title</th><th scope=col>Platform</th><th scope=col>Genre</th><th scope=col>Publisher</th><th scope=col>VGScore</th><th scope=col>CriticScore</th><th scope=col>UserScore</th><th scope=col>TotalShipped</th><th scope=col>AsianSales</th><th scope=col>NorthAmericaSales</th><th scope=col>⋯</th><th scope=col>releasedate_raw</th><th scope=col>ReleaseDate</th><th scope=col>releasedate_link</th><th scope=col>ReleaseYear</th><th scope=col>ReleaseMonth</th><th scope=col>EndOfMonth</th><th scope=col>ReleaseQuarter</th><th scope=col>ReleaseWeekDay</th><th scope=col>ReleaseWeekend</th><th scope=col>ReleaseWeek</th></tr>\n",
       "\t<tr><th></th><th scope=col>&lt;chr&gt;</th><th scope=col>&lt;chr&gt;</th><th scope=col>&lt;chr&gt;</th><th scope=col>&lt;chr&gt;</th><th scope=col>&lt;dbl&gt;</th><th scope=col>&lt;dbl&gt;</th><th scope=col>&lt;dbl&gt;</th><th scope=col>&lt;dbl&gt;</th><th scope=col>&lt;dbl&gt;</th><th scope=col>&lt;dbl&gt;</th><th scope=col>⋯</th><th scope=col>&lt;chr&gt;</th><th scope=col>&lt;chr&gt;</th><th scope=col>&lt;chr&gt;</th><th scope=col>&lt;int&gt;</th><th scope=col>&lt;int&gt;</th><th scope=col>&lt;chr&gt;</th><th scope=col>&lt;int&gt;</th><th scope=col>&lt;int&gt;</th><th scope=col>&lt;chr&gt;</th><th scope=col>&lt;int&gt;</th></tr>\n",
       "</thead>\n",
       "<tbody>\n",
       "\t<tr><th scope=row>1</th><td>(c 12) Final Resistance        </td><td>PS </td><td>Shooter </td><td>IBM            </td><td>1</td><td> 6.5</td><td> 4</td><td>  8</td><td>5.08</td><td>1.10</td><td>⋯</td><td></td><td>0/1/1900</td><td>https://www.google.com/search?q=(c 12) Final Resistance PS release date         </td><td>NA</td><td>NA</td><td></td><td>NA</td><td>NA</td><td></td><td>NA</td></tr>\n",
       "\t<tr><th scope=row>2</th><td>.hack Sekai no Mukou ni  Versus</td><td>PS3</td><td>Fighting</td><td>IBM            </td><td>6</td><td>10.0</td><td> 6</td><td>269</td><td>3.00</td><td>1.86</td><td>⋯</td><td></td><td>0/1/1900</td><td>https://www.google.com/search?q=.hack Sekai no Mukou ni  Versus PS3 release date</td><td>NA</td><td>NA</td><td></td><td>NA</td><td>NA</td><td></td><td>NA</td></tr>\n",
       "\t<tr><th scope=row>3</th><td>007 Quantum of Solace          </td><td>PS2</td><td>Shooter </td><td>Activision     </td><td>8</td><td> 7.8</td><td> 4</td><td> 81</td><td>3.00</td><td>0.17</td><td>⋯</td><td></td><td>0/1/1900</td><td>https://www.google.com/search?q=007 Quantum of Solace PS2 release date          </td><td>NA</td><td>NA</td><td></td><td>NA</td><td>NA</td><td></td><td>NA</td></tr>\n",
       "\t<tr><th scope=row>4</th><td>007 Quantum of Solace          </td><td>PS3</td><td>Shooter </td><td>Activision     </td><td>3</td><td> 6.6</td><td>10</td><td>158</td><td>1.14</td><td>0.43</td><td>⋯</td><td></td><td>0/1/1900</td><td>https://www.google.com/search?q=007 Quantum of Solace PS3 release date          </td><td>NA</td><td>NA</td><td></td><td>NA</td><td>NA</td><td></td><td>NA</td></tr>\n",
       "\t<tr><th scope=row>5</th><td>007 The World is not Enough    </td><td>PS </td><td>Shooter </td><td>Electronic Arts</td><td>1</td><td> 6.4</td><td> 1</td><td>240</td><td>3.00</td><td>0.51</td><td>⋯</td><td></td><td>0/1/1900</td><td>https://www.google.com/search?q=007 The World is not Enough PS release date     </td><td>NA</td><td>NA</td><td></td><td>NA</td><td>NA</td><td></td><td>NA</td></tr>\n",
       "</tbody>\n",
       "</table>\n"
      ],
      "text/latex": [
       "A data.frame: 5 × 32\n",
       "\\begin{tabular}{r|lllllllllllllllllllll}\n",
       "  & Title & Platform & Genre & Publisher & VGScore & CriticScore & UserScore & TotalShipped & AsianSales & NorthAmericaSales & ⋯ & releasedate\\_raw & ReleaseDate & releasedate\\_link & ReleaseYear & ReleaseMonth & EndOfMonth & ReleaseQuarter & ReleaseWeekDay & ReleaseWeekend & ReleaseWeek\\\\\n",
       "  & <chr> & <chr> & <chr> & <chr> & <dbl> & <dbl> & <dbl> & <dbl> & <dbl> & <dbl> & ⋯ & <chr> & <chr> & <chr> & <int> & <int> & <chr> & <int> & <int> & <chr> & <int>\\\\\n",
       "\\hline\n",
       "\t1 & (c 12) Final Resistance         & PS  & Shooter  & IBM             & 1 &  6.5 &  4 &   8 & 5.08 & 1.10 & ⋯ &  & 0/1/1900 & https://www.google.com/search?q=(c 12) Final Resistance PS release date          & NA & NA &  & NA & NA &  & NA\\\\\n",
       "\t2 & .hack Sekai no Mukou ni  Versus & PS3 & Fighting & IBM             & 6 & 10.0 &  6 & 269 & 3.00 & 1.86 & ⋯ &  & 0/1/1900 & https://www.google.com/search?q=.hack Sekai no Mukou ni  Versus PS3 release date & NA & NA &  & NA & NA &  & NA\\\\\n",
       "\t3 & 007 Quantum of Solace           & PS2 & Shooter  & Activision      & 8 &  7.8 &  4 &  81 & 3.00 & 0.17 & ⋯ &  & 0/1/1900 & https://www.google.com/search?q=007 Quantum of Solace PS2 release date           & NA & NA &  & NA & NA &  & NA\\\\\n",
       "\t4 & 007 Quantum of Solace           & PS3 & Shooter  & Activision      & 3 &  6.6 & 10 & 158 & 1.14 & 0.43 & ⋯ &  & 0/1/1900 & https://www.google.com/search?q=007 Quantum of Solace PS3 release date           & NA & NA &  & NA & NA &  & NA\\\\\n",
       "\t5 & 007 The World is not Enough     & PS  & Shooter  & Electronic Arts & 1 &  6.4 &  1 & 240 & 3.00 & 0.51 & ⋯ &  & 0/1/1900 & https://www.google.com/search?q=007 The World is not Enough PS release date      & NA & NA &  & NA & NA &  & NA\\\\\n",
       "\\end{tabular}\n"
      ],
      "text/markdown": [
       "\n",
       "A data.frame: 5 × 32\n",
       "\n",
       "| <!--/--> | Title &lt;chr&gt; | Platform &lt;chr&gt; | Genre &lt;chr&gt; | Publisher &lt;chr&gt; | VGScore &lt;dbl&gt; | CriticScore &lt;dbl&gt; | UserScore &lt;dbl&gt; | TotalShipped &lt;dbl&gt; | AsianSales &lt;dbl&gt; | NorthAmericaSales &lt;dbl&gt; | ⋯ ⋯ | releasedate_raw &lt;chr&gt; | ReleaseDate &lt;chr&gt; | releasedate_link &lt;chr&gt; | ReleaseYear &lt;int&gt; | ReleaseMonth &lt;int&gt; | EndOfMonth &lt;chr&gt; | ReleaseQuarter &lt;int&gt; | ReleaseWeekDay &lt;int&gt; | ReleaseWeekend &lt;chr&gt; | ReleaseWeek &lt;int&gt; |\n",
       "|---|---|---|---|---|---|---|---|---|---|---|---|---|---|---|---|---|---|---|---|---|---|\n",
       "| 1 | (c 12) Final Resistance         | PS  | Shooter  | IBM             | 1 |  6.5 |  4 |   8 | 5.08 | 1.10 | ⋯ | <!----> | 0/1/1900 | https://www.google.com/search?q=(c 12) Final Resistance PS release date          | NA | NA | <!----> | NA | NA | <!----> | NA |\n",
       "| 2 | .hack Sekai no Mukou ni  Versus | PS3 | Fighting | IBM             | 6 | 10.0 |  6 | 269 | 3.00 | 1.86 | ⋯ | <!----> | 0/1/1900 | https://www.google.com/search?q=.hack Sekai no Mukou ni  Versus PS3 release date | NA | NA | <!----> | NA | NA | <!----> | NA |\n",
       "| 3 | 007 Quantum of Solace           | PS2 | Shooter  | Activision      | 8 |  7.8 |  4 |  81 | 3.00 | 0.17 | ⋯ | <!----> | 0/1/1900 | https://www.google.com/search?q=007 Quantum of Solace PS2 release date           | NA | NA | <!----> | NA | NA | <!----> | NA |\n",
       "| 4 | 007 Quantum of Solace           | PS3 | Shooter  | Activision      | 3 |  6.6 | 10 | 158 | 1.14 | 0.43 | ⋯ | <!----> | 0/1/1900 | https://www.google.com/search?q=007 Quantum of Solace PS3 release date           | NA | NA | <!----> | NA | NA | <!----> | NA |\n",
       "| 5 | 007 The World is not Enough     | PS  | Shooter  | Electronic Arts | 1 |  6.4 |  1 | 240 | 3.00 | 0.51 | ⋯ | <!----> | 0/1/1900 | https://www.google.com/search?q=007 The World is not Enough PS release date      | NA | NA | <!----> | NA | NA | <!----> | NA |\n",
       "\n"
      ],
      "text/plain": [
       "  Title                           Platform Genre    Publisher       VGScore\n",
       "1 (c 12) Final Resistance         PS       Shooter  IBM             1      \n",
       "2 .hack Sekai no Mukou ni  Versus PS3      Fighting IBM             6      \n",
       "3 007 Quantum of Solace           PS2      Shooter  Activision      8      \n",
       "4 007 Quantum of Solace           PS3      Shooter  Activision      3      \n",
       "5 007 The World is not Enough     PS       Shooter  Electronic Arts 1      \n",
       "  CriticScore UserScore TotalShipped AsianSales NorthAmericaSales ⋯\n",
       "1  6.5         4          8          5.08       1.10              ⋯\n",
       "2 10.0         6        269          3.00       1.86              ⋯\n",
       "3  7.8         4         81          3.00       0.17              ⋯\n",
       "4  6.6        10        158          1.14       0.43              ⋯\n",
       "5  6.4         1        240          3.00       0.51              ⋯\n",
       "  releasedate_raw ReleaseDate\n",
       "1                 0/1/1900   \n",
       "2                 0/1/1900   \n",
       "3                 0/1/1900   \n",
       "4                 0/1/1900   \n",
       "5                 0/1/1900   \n",
       "  releasedate_link                                                                \n",
       "1 https://www.google.com/search?q=(c 12) Final Resistance PS release date         \n",
       "2 https://www.google.com/search?q=.hack Sekai no Mukou ni  Versus PS3 release date\n",
       "3 https://www.google.com/search?q=007 Quantum of Solace PS2 release date          \n",
       "4 https://www.google.com/search?q=007 Quantum of Solace PS3 release date          \n",
       "5 https://www.google.com/search?q=007 The World is not Enough PS release date     \n",
       "  ReleaseYear ReleaseMonth EndOfMonth ReleaseQuarter ReleaseWeekDay\n",
       "1 NA          NA                      NA             NA            \n",
       "2 NA          NA                      NA             NA            \n",
       "3 NA          NA                      NA             NA            \n",
       "4 NA          NA                      NA             NA            \n",
       "5 NA          NA                      NA             NA            \n",
       "  ReleaseWeekend ReleaseWeek\n",
       "1                NA         \n",
       "2                NA         \n",
       "3                NA         \n",
       "4                NA         \n",
       "5                NA         "
      ]
     },
     "metadata": {},
     "output_type": "display_data"
    }
   ],
   "source": [
    "# Check the data\n",
    "str(data)\n",
    "summary(data)\n",
    "names(data)\n",
    "head(data, 5)"
   ]
  },
  {
   "cell_type": "code",
   "execution_count": 67,
   "metadata": {
    "vscode": {
     "languageId": "r"
    }
   },
   "outputs": [],
   "source": [
    "########################################################\n",
    "# drop empty values\n",
    "\n",
    "data <- subset(data, !(Developer %in% c(\"$ Developer\", \"#N/A\")))"
   ]
  },
  {
   "cell_type": "code",
   "execution_count": 68,
   "metadata": {
    "vscode": {
     "languageId": "r"
    }
   },
   "outputs": [
    {
     "name": "stdout",
     "output_type": "stream",
     "text": [
      "'data.frame':\t826 obs. of  32 variables:\n",
      " $ Title                : chr  \"1701 A.D.\" \"2002 FIFA World Cup\" \"2010 FIFA World Cup South Africa\" \"ABZU\" ...\n",
      " $ Platform             : chr  \"PC\" \"PC\" \"PS3\" \"PC\" ...\n",
      " $ Genre                : chr  \"Simulation\" \"Sports\" \"Sports\" \"Adventure\" ...\n",
      " $ Publisher            : chr  \"Sony Computer Entertainment\" \"Sony Computer Entertainment\" \"Ubisoft\" \"Activision\" ...\n",
      " $ VGScore              : num  8 2 7 9 8 6 8 10 3 5 ...\n",
      " $ CriticScore          : num  7.7 6 8.2 8 7 8.7 7 4 4 8.2 ...\n",
      " $ UserScore            : num  5 7 9 9 7 10 3 8 8 2 ...\n",
      " $ TotalShipped         : num  1 277 53 0.58 117 117 59 189 296 275 ...\n",
      " $ AsianSales           : num  7.05 3.77 1.23 6.83 3 3 3 1.09 3 7.34 ...\n",
      " $ NorthAmericaSales    : num  4.74 3.55 0.3 1.6 0.03 0.17 0.25 0.29 0.05 4.4 ...\n",
      " $ JapanSales           : num  5.85 1.03 0.07 2.48 4.98 3.56 2.9 0.05 5.03 3.43 ...\n",
      " $ EuropeSales          : num  2.3 3.58 0.64 5.48 3.98 0.13 0.18 0.59 0.04 4.6 ...\n",
      " $ GlobalSales          : num  19.94 11.93 2.24 16.39 9.03 ...\n",
      " $ ProductionCost       : num  6.96 6.06 4.24 3.75 3.24 3.21 0.03 2.61 2.58 2.07 ...\n",
      " $ ReleaseYear_v1       : int  2006 2002 2010 2016 2017 2002 2010 2014 2004 2001 ...\n",
      " $ Developer            : chr  \"RelatedDesigns\" \"EASports\" \"EACanada\" \"GiantSquid\" ...\n",
      " $ MultipleGenre        : chr  \"Strategy;Real-Time;Historic;General;Historic\" \"Sports;Traditional;Team;Soccer;Sim;Sim\" \"Sports;Traditional;Team;Soccer;Sim;Sim\" \"Action Adventure;Adventure;General;3D;Third-Person\" ...\n",
      " $ MetaScore            : chr  \"79\" \"80\" \"82\" \"83\" ...\n",
      " $ AvgUserScore         : chr  \"8.4\" \"8\" \"7.8\" \"6.9\" ...\n",
      " $ NoOfPlayers          : chr  \"1 to 4\" \"Mutliplayer\" \"1\" \"1\" ...\n",
      " $ releasedate_1986.2023: logi  NA NA NA NA NA NA ...\n",
      " $ releasedate_VGOutput : chr  \"#N/A\" \"#N/A\" \"#N/A\" \"#N/A\" ...\n",
      " $ releasedate_raw      : chr  \"October 26 2006\" \"26/4/2002\" \"April 27 2010\" \"August 2 2016\" ...\n",
      " $ ReleaseDate          : chr  \"26/10/2006\" \"26/4/2002\" \"27/4/2010\" \"2/8/2016\" ...\n",
      " $ releasedate_link     : chr  \"https://www.google.com/search?q=1701 A.D. PC release date\" \"https://www.google.com/search?q=2002 FIFA World Cup PC release date\" \"https://www.google.com/search?q=2010 FIFA World Cup South Africa PS3 release date\" \"https://www.google.com/search?q=ABZU PC release date\" ...\n",
      " $ ReleaseYear          : int  2006 2002 2010 2016 2016 2002 2010 2014 2004 2001 ...\n",
      " $ ReleaseMonth         : int  10 4 4 8 8 5 3 10 11 10 ...\n",
      " $ EndOfMonth           : chr  \"Yes\" \"Yes\" \"Yes\" \"No\" ...\n",
      " $ ReleaseQuarter       : int  4 2 2 3 3 2 1 4 4 4 ...\n",
      " $ ReleaseWeekDay       : int  4 5 2 2 2 2 2 1 7 1 ...\n",
      " $ ReleaseWeekend       : chr  \"Weekday\" \"Weekday\" \"Weekday\" \"Weekday\" ...\n",
      " $ ReleaseWeek          : int  43 17 18 32 32 22 10 41 48 43 ...\n"
     ]
    },
    {
     "data": {
      "text/plain": [
       "    Title             Platform            Genre            Publisher        \n",
       " Length:826         Length:826         Length:826         Length:826        \n",
       " Class :character   Class :character   Class :character   Class :character  \n",
       " Mode  :character   Mode  :character   Mode  :character   Mode  :character  \n",
       "                                                                            \n",
       "                                                                            \n",
       "                                                                            \n",
       "    VGScore        CriticScore       UserScore       TotalShipped  \n",
       " Min.   : 1.000   Min.   : 1.000   Min.   : 1.000   Min.   :  0.1  \n",
       " 1st Qu.: 4.000   1st Qu.: 4.000   1st Qu.: 3.000   1st Qu.: 53.0  \n",
       " Median : 7.000   Median : 8.000   Median : 5.000   Median :134.0  \n",
       " Mean   : 6.277   Mean   : 6.623   Mean   : 5.428   Mean   :139.4  \n",
       " 3rd Qu.: 8.600   3rd Qu.: 8.700   3rd Qu.: 8.000   3rd Qu.:223.5  \n",
       " Max.   :10.000   Max.   :10.000   Max.   :10.000   Max.   :300.0  \n",
       "   AsianSales     NorthAmericaSales   JapanSales     EuropeSales   \n",
       " Min.   : 1.000   Min.   :0.010     Min.   :0.010   Min.   :0.010  \n",
       " 1st Qu.: 2.560   1st Qu.:0.300     1st Qu.:1.230   1st Qu.:0.120  \n",
       " Median : 3.000   Median :1.310     Median :2.780   Median :0.615  \n",
       " Mean   : 3.355   Mean   :1.980     Mean   :2.760   Mean   :1.760  \n",
       " 3rd Qu.: 3.558   3rd Qu.:3.237     3rd Qu.:4.348   3rd Qu.:3.185  \n",
       " Max.   :13.800   Max.   :7.910     Max.   :5.990   Max.   :6.990  \n",
       "  GlobalSales     ProductionCost  ReleaseYear_v1  Developer        \n",
       " Min.   : 0.090   Min.   :0.010   Min.   :2000   Length:826        \n",
       " 1st Qu.: 3.960   1st Qu.:2.230   1st Qu.:2003   Class :character  \n",
       " Median : 7.015   Median :3.400   Median :2006   Mode  :character  \n",
       " Mean   : 8.762   Mean   :3.553   Mean   :2007                     \n",
       " 3rd Qu.:13.300   3rd Qu.:4.860   3rd Qu.:2010                     \n",
       " Max.   :25.660   Max.   :7.840   Max.   :2019                     \n",
       " MultipleGenre       MetaScore         AvgUserScore       NoOfPlayers       \n",
       " Length:826         Length:826         Length:826         Length:826        \n",
       " Class :character   Class :character   Class :character   Class :character  \n",
       " Mode  :character   Mode  :character   Mode  :character   Mode  :character  \n",
       "                                                                            \n",
       "                                                                            \n",
       "                                                                            \n",
       " releasedate_1986.2023 releasedate_VGOutput releasedate_raw   \n",
       " Mode:logical          Length:826           Length:826        \n",
       " NA's:826              Class :character     Class :character  \n",
       "                       Mode  :character     Mode  :character  \n",
       "                                                              \n",
       "                                                              \n",
       "                                                              \n",
       " ReleaseDate        releasedate_link    ReleaseYear    ReleaseMonth   \n",
       " Length:826         Length:826         Min.   :1900   Min.   : 1.000  \n",
       " Class :character   Class :character   1st Qu.:2003   1st Qu.: 4.000  \n",
       " Mode  :character   Mode  :character   Median :2006   Median : 8.000  \n",
       "                                       Mean   :2007   Mean   : 7.172  \n",
       "                                       3rd Qu.:2010   3rd Qu.:10.000  \n",
       "                                       Max.   :2019   Max.   :12.000  \n",
       "  EndOfMonth        ReleaseQuarter  ReleaseWeekDay  ReleaseWeekend    \n",
       " Length:826         Min.   :1.000   Min.   :1.000   Length:826        \n",
       " Class :character   1st Qu.:2.000   1st Qu.:2.000   Class :character  \n",
       " Mode  :character   Median :3.000   Median :2.000   Mode  :character  \n",
       "                    Mean   :2.711   Mean   :2.636                     \n",
       "                    3rd Qu.:4.000   3rd Qu.:4.000                     \n",
       "                    Max.   :4.000   Max.   :7.000                     \n",
       "  ReleaseWeek   \n",
       " Min.   : 0.00  \n",
       " 1st Qu.:16.00  \n",
       " Median :35.00  \n",
       " Mean   :29.94  \n",
       " 3rd Qu.:43.00  \n",
       " Max.   :52.00  "
      ]
     },
     "metadata": {},
     "output_type": "display_data"
    }
   ],
   "source": [
    "# Check the data\n",
    "str(data)\n",
    "summary(data)"
   ]
  },
  {
   "cell_type": "code",
   "execution_count": 69,
   "metadata": {
    "vscode": {
     "languageId": "r"
    }
   },
   "outputs": [
    {
     "name": "stderr",
     "output_type": "stream",
     "text": [
      "Warning message:\n",
      "\"\u001b[1m\u001b[22mThere was 1 warning in `mutate()`.\n",
      "\u001b[1m\u001b[22m\u001b[36mℹ\u001b[39m In argument: `AvgUserScore = as.numeric(AvgUserScore)`.\n",
      "Caused by warning:\n",
      "\u001b[33m!\u001b[39m NAs introduced by coercion\"\n"
     ]
    }
   ],
   "source": [
    "########################################################\n",
    "# data type\n",
    "# set the variables to factors (categorical data)\n",
    "data <- data %>%\n",
    "  mutate(\n",
    "    Platform = as.factor(Platform),\n",
    "    Genre = as.factor(Genre),\n",
    "    Publisher = as.factor(Publisher),\n",
    "    Developer = as.factor(Developer),\n",
    "    NoOfPlayers = as.factor(NoOfPlayers),\n",
    "    ReleaseWeekend = as.factor(ReleaseWeekend),\n",
    "    EndOfMonth = as.factor(EndOfMonth),\n",
    "    ReleaseWeekend = as.numeric(ReleaseWeekend),\n",
    "    MetaScore = as.numeric(MetaScore),\n",
    "    AvgUserScore = as.numeric (AvgUserScore),\n",
    "    ReleaseDate = as.Date(ReleaseDate)  \n",
    "  )\n",
    "\n",
    "data ['releasedate_1986.2023'] = NULL\n",
    "data ['releasedate_VGOutput'] = NULL\n",
    "data ['releasedate_raw'] = NULL\n",
    "data ['releasedate_link'] = NULL"
   ]
  },
  {
   "cell_type": "code",
   "execution_count": 70,
   "metadata": {
    "vscode": {
     "languageId": "r"
    }
   },
   "outputs": [
    {
     "data": {
      "text/html": [
       "TRUE"
      ],
      "text/latex": [
       "TRUE"
      ],
      "text/markdown": [
       "TRUE"
      ],
      "text/plain": [
       "[1] TRUE"
      ]
     },
     "metadata": {},
     "output_type": "display_data"
    },
    {
     "data": {
      "text/html": [
       "<style>\n",
       ".list-inline {list-style: none; margin:0; padding: 0}\n",
       ".list-inline>li {display: inline-block}\n",
       ".list-inline>li:not(:last-child)::after {content: \"\\00b7\"; padding: 0 .5ex}\n",
       "</style>\n",
       "<ol class=list-inline><li>7</li><li>16</li><li>315</li><li>427</li><li>505</li><li>603</li><li>674</li><li>734</li></ol>\n"
      ],
      "text/latex": [
       "\\begin{enumerate*}\n",
       "\\item 7\n",
       "\\item 16\n",
       "\\item 315\n",
       "\\item 427\n",
       "\\item 505\n",
       "\\item 603\n",
       "\\item 674\n",
       "\\item 734\n",
       "\\end{enumerate*}\n"
      ],
      "text/markdown": [
       "1. 7\n",
       "2. 16\n",
       "3. 315\n",
       "4. 427\n",
       "5. 505\n",
       "6. 603\n",
       "7. 674\n",
       "8. 734\n",
       "\n",
       "\n"
      ],
      "text/plain": [
       "[1]   7  16 315 427 505 603 674 734"
      ]
     },
     "metadata": {},
     "output_type": "display_data"
    }
   ],
   "source": [
    "has_NA <- any(is.na(data$AvgUserScore))\n",
    "has_NA\n",
    "\n",
    "rows_with_NA <- which(is.na(data$AvgUserScore))\n",
    "rows_with_NA"
   ]
  },
  {
   "cell_type": "code",
   "execution_count": 71,
   "metadata": {
    "vscode": {
     "languageId": "r"
    }
   },
   "outputs": [
    {
     "data": {
      "text/html": [
       "<table class=\"dataframe\">\n",
       "<caption>A matrix: 3 × 29 of type dbl</caption>\n",
       "<thead>\n",
       "\t<tr><th></th><th scope=col>Title</th><th scope=col>Platform</th><th scope=col>Genre</th><th scope=col>Publisher</th><th scope=col>VGScore</th><th scope=col>CriticScore</th><th scope=col>UserScore</th><th scope=col>TotalShipped</th><th scope=col>AsianSales</th><th scope=col>NorthAmericaSales</th><th scope=col>⋯</th><th scope=col>ReleaseDate</th><th scope=col>ReleaseYear</th><th scope=col>ReleaseMonth</th><th scope=col>EndOfMonth</th><th scope=col>ReleaseQuarter</th><th scope=col>ReleaseWeekDay</th><th scope=col>ReleaseWeekend</th><th scope=col>ReleaseWeek</th><th scope=col>AvgUserScore</th><th scope=col></th></tr>\n",
       "</thead>\n",
       "<tbody>\n",
       "\t<tr><th scope=row>818</th><td>1</td><td>1</td><td>1</td><td>1</td><td>1</td><td>1</td><td>1</td><td>1</td><td>1</td><td>1</td><td>⋯</td><td>1</td><td>1</td><td>1</td><td>1</td><td>1</td><td>1</td><td>1</td><td>1</td><td>1</td><td>0</td></tr>\n",
       "\t<tr><th scope=row>8</th><td>1</td><td>1</td><td>1</td><td>1</td><td>1</td><td>1</td><td>1</td><td>1</td><td>1</td><td>1</td><td>⋯</td><td>1</td><td>1</td><td>1</td><td>1</td><td>1</td><td>1</td><td>1</td><td>1</td><td>0</td><td>1</td></tr>\n",
       "\t<tr><th scope=row></th><td>0</td><td>0</td><td>0</td><td>0</td><td>0</td><td>0</td><td>0</td><td>0</td><td>0</td><td>0</td><td>⋯</td><td>0</td><td>0</td><td>0</td><td>0</td><td>0</td><td>0</td><td>0</td><td>0</td><td>8</td><td>8</td></tr>\n",
       "</tbody>\n",
       "</table>\n"
      ],
      "text/latex": [
       "A matrix: 3 × 29 of type dbl\n",
       "\\begin{tabular}{r|lllllllllllllllllllll}\n",
       "  & Title & Platform & Genre & Publisher & VGScore & CriticScore & UserScore & TotalShipped & AsianSales & NorthAmericaSales & ⋯ & ReleaseDate & ReleaseYear & ReleaseMonth & EndOfMonth & ReleaseQuarter & ReleaseWeekDay & ReleaseWeekend & ReleaseWeek & AvgUserScore & \\\\\n",
       "\\hline\n",
       "\t818 & 1 & 1 & 1 & 1 & 1 & 1 & 1 & 1 & 1 & 1 & ⋯ & 1 & 1 & 1 & 1 & 1 & 1 & 1 & 1 & 1 & 0\\\\\n",
       "\t8 & 1 & 1 & 1 & 1 & 1 & 1 & 1 & 1 & 1 & 1 & ⋯ & 1 & 1 & 1 & 1 & 1 & 1 & 1 & 1 & 0 & 1\\\\\n",
       "\t & 0 & 0 & 0 & 0 & 0 & 0 & 0 & 0 & 0 & 0 & ⋯ & 0 & 0 & 0 & 0 & 0 & 0 & 0 & 0 & 8 & 8\\\\\n",
       "\\end{tabular}\n"
      ],
      "text/markdown": [
       "\n",
       "A matrix: 3 × 29 of type dbl\n",
       "\n",
       "| <!--/--> | Title | Platform | Genre | Publisher | VGScore | CriticScore | UserScore | TotalShipped | AsianSales | NorthAmericaSales | ⋯ | ReleaseDate | ReleaseYear | ReleaseMonth | EndOfMonth | ReleaseQuarter | ReleaseWeekDay | ReleaseWeekend | ReleaseWeek | AvgUserScore | <!----> |\n",
       "|---|---|---|---|---|---|---|---|---|---|---|---|---|---|---|---|---|---|---|---|---|---|\n",
       "| 818 | 1 | 1 | 1 | 1 | 1 | 1 | 1 | 1 | 1 | 1 | ⋯ | 1 | 1 | 1 | 1 | 1 | 1 | 1 | 1 | 1 | 0 |\n",
       "| 8 | 1 | 1 | 1 | 1 | 1 | 1 | 1 | 1 | 1 | 1 | ⋯ | 1 | 1 | 1 | 1 | 1 | 1 | 1 | 1 | 0 | 1 |\n",
       "| <!----> | 0 | 0 | 0 | 0 | 0 | 0 | 0 | 0 | 0 | 0 | ⋯ | 0 | 0 | 0 | 0 | 0 | 0 | 0 | 0 | 8 | 8 |\n",
       "\n"
      ],
      "text/plain": [
       "    Title Platform Genre Publisher VGScore CriticScore UserScore TotalShipped\n",
       "818 1     1        1     1         1       1           1         1           \n",
       "8   1     1        1     1         1       1           1         1           \n",
       "    0     0        0     0         0       0           0         0           \n",
       "    AsianSales NorthAmericaSales ⋯ ReleaseDate ReleaseYear ReleaseMonth\n",
       "818 1          1                 ⋯ 1           1           1           \n",
       "8   1          1                 ⋯ 1           1           1           \n",
       "    0          0                 ⋯ 0           0           0           \n",
       "    EndOfMonth ReleaseQuarter ReleaseWeekDay ReleaseWeekend ReleaseWeek\n",
       "818 1          1              1              1              1          \n",
       "8   1          1              1              1              1          \n",
       "    0          0              0              0              0          \n",
       "    AvgUserScore  \n",
       "818 1            0\n",
       "8   0            1\n",
       "    8            8"
      ]
     },
     "metadata": {},
     "output_type": "display_data"
    },
    {
     "data": {
      "text/html": [
       "<table class=\"dataframe\">\n",
       "<caption>A tibble: 1 × 4</caption>\n",
       "<thead>\n",
       "\t<tr><th scope=col>statistic</th><th scope=col>df</th><th scope=col>p.value</th><th scope=col>missing.patterns</th></tr>\n",
       "\t<tr><th scope=col>&lt;dbl&gt;</th><th scope=col>&lt;dbl&gt;</th><th scope=col>&lt;dbl&gt;</th><th scope=col>&lt;int&gt;</th></tr>\n",
       "</thead>\n",
       "<tbody>\n",
       "\t<tr><td>54.19672</td><td>27</td><td>0.001439332</td><td>2</td></tr>\n",
       "</tbody>\n",
       "</table>\n"
      ],
      "text/latex": [
       "A tibble: 1 × 4\n",
       "\\begin{tabular}{llll}\n",
       " statistic & df & p.value & missing.patterns\\\\\n",
       " <dbl> & <dbl> & <dbl> & <int>\\\\\n",
       "\\hline\n",
       "\t 54.19672 & 27 & 0.001439332 & 2\\\\\n",
       "\\end{tabular}\n"
      ],
      "text/markdown": [
       "\n",
       "A tibble: 1 × 4\n",
       "\n",
       "| statistic &lt;dbl&gt; | df &lt;dbl&gt; | p.value &lt;dbl&gt; | missing.patterns &lt;int&gt; |\n",
       "|---|---|---|---|\n",
       "| 54.19672 | 27 | 0.001439332 | 2 |\n",
       "\n"
      ],
      "text/plain": [
       "  statistic df p.value     missing.patterns\n",
       "1 54.19672  27 0.001439332 2               "
      ]
     },
     "metadata": {},
     "output_type": "display_data"
    },
    {
     "data": {
      "image/png": "[encoded data removed]",
      "text/plain": [
       "plot without title"
      ]
     },
     "metadata": {
      "image/png": {
       "height": 420,
       "width": 420
      }
     },
     "output_type": "display_data"
    }
   ],
   "source": [
    "# Check the missing value pattern in AvgUserScore\n",
    "md.pattern(data)\n",
    "\n",
    "##### Little's Test #######\n",
    "# Little's (1988) test statistic to assess if data is MCAR. \n",
    "# The null hypothesis (H0) : the data is MCAR\n",
    "\n",
    "mcar_test(data)\n",
    "\n",
    "# p-value of mcar test is less than 0.05, reject the H0, the data is not MCAR, hence not recommended to impute missing values, suggest to drop"
   ]
  },
  {
   "cell_type": "code",
   "execution_count": 81,
   "metadata": {
    "vscode": {
     "languageId": "r"
    }
   },
   "outputs": [],
   "source": [
    "########################################################\n",
    "# drop empty values\n",
    "\n",
    "data <- subset(data, !(AvgUserScore %in% c(\"$ AvgUserScore\", \"NA\", \"\")) & !(is.na(AvgUserScore)) & !(ReleaseYear == 1900))\n"
   ]
  },
  {
   "cell_type": "code",
   "execution_count": 82,
   "metadata": {
    "vscode": {
     "languageId": "r"
    }
   },
   "outputs": [],
   "source": [
    "########################################################\n",
    "# data type\n",
    "# set the variables to factors (categorical data)\n",
    "data <- data %>%\n",
    "  mutate(\n",
    "    Platform = as.factor(Platform),\n",
    "    Genre = as.factor(Genre),\n",
    "    Publisher = as.factor(Publisher),\n",
    "    Developer = as.factor(Developer),\n",
    "    NoOfPlayers = as.factor(NoOfPlayers),\n",
    "    ReleaseWeekend = as.factor(ReleaseWeekend),\n",
    "    EndOfMonth = as.factor(EndOfMonth),\n",
    "    ReleaseWeekend = as.integer(ReleaseWeekend),\n",
    "    MetaScore = as.numeric(MetaScore),\n",
    "    AvgUserScore = as.numeric (AvgUserScore),\n",
    "    ReleaseDate = as.Date(ReleaseDate)  \n",
    "  )\n",
    "\n",
    "data ['releasedate_1986.2023'] = NULL\n",
    "data ['releasedate_VGOutput'] = NULL\n",
    "data ['releasedate_raw'] = NULL\n",
    "data ['releasedate_link'] = NULL\n",
    "data ['ReleaseYear_v1'] = NULL"
   ]
  },
  {
   "cell_type": "code",
   "execution_count": 83,
   "metadata": {
    "vscode": {
     "languageId": "r"
    }
   },
   "outputs": [
    {
     "name": "stdout",
     "output_type": "stream",
     "text": [
      "'data.frame':\t816 obs. of  27 variables:\n",
      " $ Title            : chr  \"1701 A.D.\" \"2002 FIFA World Cup\" \"2010 FIFA World Cup South Africa\" \"ABZU\" ...\n",
      " $ Platform         : Factor w/ 6 levels \"DS\",\"PC\",\"PS\",..: 2 2 5 2 6 4 6 4 2 2 ...\n",
      " $ Genre            : Factor w/ 8 levels \"Adventure\",\"Board Game\",..: 7 8 8 1 1 8 1 6 6 7 ...\n",
      " $ Publisher        : Factor w/ 8 levels \"Activision\",\"Amazon Game Studios\",..: 7 7 8 1 3 1 4 4 7 1 ...\n",
      " $ VGScore          : num  8 2 7 9 8 6 10 3 5 1 ...\n",
      " $ CriticScore      : num  7.7 6 8.2 8 7 8.7 4 4 8.2 10 ...\n",
      " $ UserScore        : num  5 7 9 9 7 10 8 8 2 10 ...\n",
      " $ TotalShipped     : num  1 277 53 0.58 117 117 189 296 275 231 ...\n",
      " $ AsianSales       : num  7.05 3.77 1.23 6.83 3 3 1.09 3 7.34 3.78 ...\n",
      " $ NorthAmericaSales: num  4.74 3.55 0.3 1.6 0.03 0.17 0.29 0.05 4.4 3.01 ...\n",
      " $ JapanSales       : num  5.85 1.03 0.07 2.48 4.98 3.56 0.05 5.03 3.43 4.72 ...\n",
      " $ EuropeSales      : num  2.3 3.58 0.64 5.48 3.98 0.13 0.59 0.04 4.6 5.26 ...\n",
      " $ GlobalSales      : num  19.94 11.93 2.24 16.39 9.03 ...\n",
      " $ ProductionCost   : num  6.96 6.06 4.24 3.75 3.24 3.21 2.61 2.58 2.07 2.81 ...\n",
      " $ Developer        : Factor w/ 320 levels \"1stPlayableProductions\",..: 225 93 84 126 126 318 59 283 181 178 ...\n",
      " $ MultipleGenre    : chr  \"Strategy;Real-Time;Historic;General;Historic\" \"Sports;Traditional;Team;Soccer;Sim;Sim\" \"Sports;Traditional;Team;Soccer;Sim;Sim\" \"Action Adventure;Adventure;General;3D;Third-Person\" ...\n",
      " $ MetaScore        : num  79 80 82 83 78 85 79 78 85 86 ...\n",
      " $ AvgUserScore     : num  8.4 8 7.8 6.9 7.6 8.7 8.2 8.3 8.7 8.3 ...\n",
      " $ NoOfPlayers      : Factor w/ 6 levels \"#N/A\",\"1\",\"1 to 2\",..: 4 6 2 2 2 3 2 2 6 2 ...\n",
      " $ ReleaseDate      : Date, format: \"0026-10-20\" \"0026-04-20\" ...\n",
      " $ ReleaseYear      : int  2006 2002 2010 2016 2016 2002 2014 2004 2001 2000 ...\n",
      " $ ReleaseMonth     : int  10 4 4 8 8 5 10 11 10 3 ...\n",
      " $ EndOfMonth       : Factor w/ 2 levels \"No\",\"Yes\": 2 2 2 1 1 2 1 2 2 1 ...\n",
      " $ ReleaseQuarter   : int  4 2 2 3 3 2 4 4 4 1 ...\n",
      " $ ReleaseWeekDay   : int  4 5 2 2 2 2 1 7 1 4 ...\n",
      " $ ReleaseWeekend   : int  1 1 1 1 1 1 1 2 1 1 ...\n",
      " $ ReleaseWeek      : int  43 17 18 32 32 22 41 48 43 12 ...\n"
     ]
    },
    {
     "data": {
      "text/plain": [
       "    Title           Platform         Genre    \n",
       " Length:816         DS : 42   Shooter   :213  \n",
       " Class :character   PC :351   Sports    :210  \n",
       " Mode  :character   PS : 20   Racing    :120  \n",
       "                    PS2:223   Adventure :101  \n",
       "                    PS3:131   Simulation: 81  \n",
       "                    PS4: 49   Fighting  : 54  \n",
       "                              (Other)   : 37  \n",
       "                       Publisher      VGScore        CriticScore    \n",
       " Electronic Arts            :179   Min.   : 1.000   Min.   : 1.000  \n",
       " Activision                 :145   1st Qu.: 4.000   1st Qu.: 4.000  \n",
       " Ubisoft                    :117   Median : 7.000   Median : 8.000  \n",
       " Frontier Developments      :113   Mean   : 6.271   Mean   : 6.634  \n",
       " Sony Computer Entertainment: 83   3rd Qu.: 8.600   3rd Qu.: 8.700  \n",
       " Omega                      : 66   Max.   :10.000   Max.   :10.000  \n",
       " (Other)                    :113                                    \n",
       "   UserScore       TotalShipped     AsianSales     NorthAmericaSales\n",
       " Min.   : 1.000   Min.   :  0.1   Min.   : 1.000   Min.   :0.0100   \n",
       " 1st Qu.: 3.000   1st Qu.: 53.0   1st Qu.: 2.515   1st Qu.:0.3175   \n",
       " Median : 5.000   Median :134.5   Median : 3.000   Median :1.3150   \n",
       " Mean   : 5.443   Mean   :139.6   Mean   : 3.355   Mean   :1.9896   \n",
       " 3rd Qu.: 8.000   3rd Qu.:224.0   3rd Qu.: 3.567   3rd Qu.:3.2400   \n",
       " Max.   :10.000   Max.   :300.0   Max.   :13.800   Max.   :7.9100   \n",
       "                                                                    \n",
       "   JapanSales     EuropeSales     GlobalSales     ProductionCost \n",
       " Min.   :0.010   Min.   :0.010   Min.   : 0.090   Min.   :0.010  \n",
       " 1st Qu.:1.218   1st Qu.:0.120   1st Qu.: 3.945   1st Qu.:2.237  \n",
       " Median :2.775   Median :0.630   Median : 7.055   Median :3.400  \n",
       " Mean   :2.747   Mean   :1.772   Mean   : 8.783   Mean   :3.556  \n",
       " 3rd Qu.:4.330   3rd Qu.:3.228   3rd Qu.:13.305   3rd Qu.:4.830  \n",
       " Max.   :5.990   Max.   :6.990   Max.   :25.660   Max.   :7.840  \n",
       "                                                                 \n",
       "          Developer   MultipleGenre        MetaScore      AvgUserScore  \n",
       " EASports      : 59   Length:816         Min.   :77.00   Min.   :2.700  \n",
       " EACanada      : 36   Class :character   1st Qu.:80.00   1st Qu.:7.500  \n",
       " EATiburon     : 22   Mode  :character   Median :83.00   Median :8.000  \n",
       " Codemasters   : 20                      Mean   :83.33   Mean   :7.812  \n",
       " VisualConcepts: 19                      3rd Qu.:86.00   3rd Qu.:8.500  \n",
       " Capcom        : 13                      Max.   :96.00   Max.   :9.200  \n",
       " (Other)       :647                                                     \n",
       "      NoOfPlayers   ReleaseDate          ReleaseYear    ReleaseMonth   \n",
       " #N/A       :  1   Min.   :0001-02-20   Min.   :2000   Min.   : 1.000  \n",
       " 1          :346   1st Qu.:0008-11-20   1st Qu.:2003   1st Qu.: 4.000  \n",
       " 1 to 2     :144   Median :0017-02-20   Median :2006   Median : 8.000  \n",
       " 1 to 4     : 91   Mean   :0016-07-01   Mean   :2007   Mean   : 7.181  \n",
       " 1 to 8     : 14   3rd Qu.:0024-03-20   3rd Qu.:2010   3rd Qu.:10.000  \n",
       " Mutliplayer:220   Max.   :0031-10-20   Max.   :2019   Max.   :12.000  \n",
       "                                                                       \n",
       " EndOfMonth ReleaseQuarter  ReleaseWeekDay  ReleaseWeekend   ReleaseWeek\n",
       " No :517    Min.   :1.000   Min.   :1.000   Min.   :1.000   Min.   : 1  \n",
       " Yes:299    1st Qu.:2.000   1st Qu.:2.000   1st Qu.:1.000   1st Qu.:16  \n",
       "            Median :3.000   Median :2.000   Median :1.000   Median :35  \n",
       "            Mean   :2.713   Mean   :2.626   Mean   :1.031   Mean   :30  \n",
       "            3rd Qu.:4.000   3rd Qu.:4.000   3rd Qu.:1.000   3rd Qu.:43  \n",
       "            Max.   :4.000   Max.   :7.000   Max.   :2.000   Max.   :52  \n",
       "                                                                        "
      ]
     },
     "metadata": {},
     "output_type": "display_data"
    }
   ],
   "source": [
    "# Check the data\n",
    "str(data)\n",
    "summary(data)"
   ]
  },
  {
   "cell_type": "code",
   "execution_count": 84,
   "metadata": {
    "vscode": {
     "languageId": "r"
    }
   },
   "outputs": [
    {
     "data": {
      "text/html": [
       "<style>\n",
       ".dl-inline {width: auto; margin:0; padding: 0}\n",
       ".dl-inline>dt, .dl-inline>dd {float: none; width: auto; display: inline-block}\n",
       ".dl-inline>dt::after {content: \":\\0020\"; padding-right: .5ex}\n",
       ".dl-inline>dt:not(:first-of-type) {padding-left: .5ex}\n",
       "</style><dl class=dl-inline><dt>Title</dt><dd>695</dd><dt>Platform</dt><dd>6</dd><dt>Genre</dt><dd>8</dd><dt>Publisher</dt><dd>8</dd><dt>VGScore</dt><dd>28</dd><dt>CriticScore</dt><dd>34</dd><dt>UserScore</dt><dd>21</dd><dt>TotalShipped</dt><dd>345</dd><dt>AsianSales</dt><dd>336</dd><dt>NorthAmericaSales</dt><dd>400</dd><dt>JapanSales</dt><dd>395</dd><dt>EuropeSales</dt><dd>355</dd><dt>GlobalSales</dt><dd>654</dd><dt>ProductionCost</dt><dd>405</dd><dt>Developer</dt><dd>314</dd><dt>MultipleGenre</dt><dd>249</dd><dt>MetaScore</dt><dd>20</dd><dt>AvgUserScore</dt><dd>54</dd><dt>NoOfPlayers</dt><dd>6</dd><dt>ReleaseDate</dt><dd>284</dd><dt>ReleaseYear</dt><dd>20</dd><dt>ReleaseMonth</dt><dd>12</dd><dt>EndOfMonth</dt><dd>2</dd><dt>ReleaseQuarter</dt><dd>4</dd><dt>ReleaseWeekDay</dt><dd>7</dd><dt>ReleaseWeekend</dt><dd>2</dd><dt>ReleaseWeek</dt><dd>52</dd></dl>\n"
      ],
      "text/latex": [
       "\\begin{description*}\n",
       "\\item[Title] 695\n",
       "\\item[Platform] 6\n",
       "\\item[Genre] 8\n",
       "\\item[Publisher] 8\n",
       "\\item[VGScore] 28\n",
       "\\item[CriticScore] 34\n",
       "\\item[UserScore] 21\n",
       "\\item[TotalShipped] 345\n",
       "\\item[AsianSales] 336\n",
       "\\item[NorthAmericaSales] 400\n",
       "\\item[JapanSales] 395\n",
       "\\item[EuropeSales] 355\n",
       "\\item[GlobalSales] 654\n",
       "\\item[ProductionCost] 405\n",
       "\\item[Developer] 314\n",
       "\\item[MultipleGenre] 249\n",
       "\\item[MetaScore] 20\n",
       "\\item[AvgUserScore] 54\n",
       "\\item[NoOfPlayers] 6\n",
       "\\item[ReleaseDate] 284\n",
       "\\item[ReleaseYear] 20\n",
       "\\item[ReleaseMonth] 12\n",
       "\\item[EndOfMonth] 2\n",
       "\\item[ReleaseQuarter] 4\n",
       "\\item[ReleaseWeekDay] 7\n",
       "\\item[ReleaseWeekend] 2\n",
       "\\item[ReleaseWeek] 52\n",
       "\\end{description*}\n"
      ],
      "text/markdown": [
       "Title\n",
       ":   695Platform\n",
       ":   6Genre\n",
       ":   8Publisher\n",
       ":   8VGScore\n",
       ":   28CriticScore\n",
       ":   34UserScore\n",
       ":   21TotalShipped\n",
       ":   345AsianSales\n",
       ":   336NorthAmericaSales\n",
       ":   400JapanSales\n",
       ":   395EuropeSales\n",
       ":   355GlobalSales\n",
       ":   654ProductionCost\n",
       ":   405Developer\n",
       ":   314MultipleGenre\n",
       ":   249MetaScore\n",
       ":   20AvgUserScore\n",
       ":   54NoOfPlayers\n",
       ":   6ReleaseDate\n",
       ":   284ReleaseYear\n",
       ":   20ReleaseMonth\n",
       ":   12EndOfMonth\n",
       ":   2ReleaseQuarter\n",
       ":   4ReleaseWeekDay\n",
       ":   7ReleaseWeekend\n",
       ":   2ReleaseWeek\n",
       ":   52\n",
       "\n"
      ],
      "text/plain": [
       "            Title          Platform             Genre         Publisher \n",
       "              695                 6                 8                 8 \n",
       "          VGScore       CriticScore         UserScore      TotalShipped \n",
       "               28                34                21               345 \n",
       "       AsianSales NorthAmericaSales        JapanSales       EuropeSales \n",
       "              336               400               395               355 \n",
       "      GlobalSales    ProductionCost         Developer     MultipleGenre \n",
       "              654               405               314               249 \n",
       "        MetaScore      AvgUserScore       NoOfPlayers       ReleaseDate \n",
       "               20                54                 6               284 \n",
       "      ReleaseYear      ReleaseMonth        EndOfMonth    ReleaseQuarter \n",
       "               20                12                 2                 4 \n",
       "   ReleaseWeekDay    ReleaseWeekend       ReleaseWeek \n",
       "                7                 2                52 "
      ]
     },
     "metadata": {},
     "output_type": "display_data"
    }
   ],
   "source": [
    "########################################################\n",
    "# Check the number of distinct values for the variables\n",
    "\n",
    "sapply(data, function(x) n_distinct(x))"
   ]
  },
  {
   "cell_type": "code",
   "execution_count": 85,
   "metadata": {
    "vscode": {
     "languageId": "r"
    }
   },
   "outputs": [
    {
     "data": {
      "text/html": [
       "0"
      ],
      "text/latex": [
       "0"
      ],
      "text/markdown": [
       "0"
      ],
      "text/plain": [
       "[1] 0"
      ]
     },
     "metadata": {},
     "output_type": "display_data"
    }
   ],
   "source": [
    "sum(is.na(data))"
   ]
  },
  {
   "cell_type": "markdown",
   "metadata": {},
   "source": [
    "Data Cleaning"
   ]
  },
  {
   "cell_type": "code",
   "execution_count": 86,
   "metadata": {
    "vscode": {
     "languageId": "r"
    }
   },
   "outputs": [
    {
     "data": {
      "image/png": "[encoded data removed]",
      "text/plain": [
       "plot without title"
      ]
     },
     "metadata": {
      "image/png": {
       "height": 420,
       "width": 420
      }
     },
     "output_type": "display_data"
    }
   ],
   "source": [
    "########################################################\n",
    "# EDA - explore the dataset\n",
    "\n",
    "# Calculate average sales and count of games released by year\n",
    "summary_data <- data %>%\n",
    "  group_by(ReleaseYear) %>%\n",
    "  summarise(AvgSales = mean(GlobalSales), Count = n())\n",
    "\n",
    "# Define a scaling factor to make the Count values visible\n",
    "count_scaling_factor <- max(summary_data$AvgSales) / max(summary_data$Count)\n",
    "\n",
    "# Create a line graph\n",
    "ggplot(summary_data, aes(x = ReleaseYear)) +\n",
    "  geom_line(aes(y = AvgSales, color = \"Average Sales\"), size = 1) +\n",
    "  geom_line(aes(y = Count * count_scaling_factor, color = \"Count\"), size = 1) +\n",
    "  scale_color_manual(values = c(\"Average Sales\" = \"blue\", \"Count\" = \"orange\")) +\n",
    "  labs(title = \"Average Sales and Game Count by Release Year\",\n",
    "       y = \"Average Sales\",\n",
    "       color = \"Metric\") +\n",
    "  theme_minimal() +\n",
    "  scale_y_continuous(\n",
    "    sec.axis = sec_axis(~./count_scaling_factor, name = \"Count\")\n",
    "  ) +\n",
    "  scale_x_continuous(breaks = unique(summary_data$ReleaseYear))"
   ]
  },
  {
   "cell_type": "code",
   "execution_count": 209,
   "metadata": {
    "vscode": {
     "languageId": "r"
    }
   },
   "outputs": [
    {
     "data": {
      "image/png": "[encoded data removed]",
      "text/plain": [
       "plot without title"
      ]
     },
     "metadata": {
      "image/png": {
       "height": 420,
       "width": 420
      }
     },
     "output_type": "display_data"
    }
   ],
   "source": [
    "# Subset the years to display on the x-axis (e.g., displaying every 5th year)\n",
    "years_to_display <- unique(summary_data$ReleaseYear)[seq(1, length(unique(summary_data$ReleaseYear)), by = 2)]\n",
    "\n",
    "# Create a line graph displaying Average Sales by year and count as a secondary axis\n",
    "ggplot(summary_data, aes(x = ReleaseYear)) +\n",
    "  geom_line(aes(y = AvgSales, color = \"Average Sales\"), size = 1) +\n",
    "  geom_line(aes(y = Count * count_scaling_factor, color = \"Count\"), size = 1) +\n",
    "  scale_color_manual(values = c(\"Average Sales\" = \"blue\", \"Count\" = \"white\")) +\n",
    "  labs(title = \"Average Sales by Release Year\",\n",
    "       y = \"Average Sales\",\n",
    "       color = \"Metric\") +\n",
    "  theme_minimal() +\n",
    "  scale_y_continuous(sec.axis = sec_axis(~./count_scaling_factor, name = \"Count\")) +\n",
    "  scale_x_continuous(breaks = years_to_display)"
   ]
  },
  {
   "cell_type": "code",
   "execution_count": 87,
   "metadata": {
    "vscode": {
     "languageId": "r"
    }
   },
   "outputs": [
    {
     "data": {
      "text/html": [
       "<table class=\"dataframe\">\n",
       "<caption>A tibble: 20 × 3</caption>\n",
       "<thead>\n",
       "\t<tr><th scope=col>ReleaseYear</th><th scope=col>AvgSales</th><th scope=col>Count</th></tr>\n",
       "\t<tr><th scope=col>&lt;int&gt;</th><th scope=col>&lt;dbl&gt;</th><th scope=col>&lt;int&gt;</th></tr>\n",
       "</thead>\n",
       "<tbody>\n",
       "\t<tr><td>2000</td><td>10.233478</td><td>46</td></tr>\n",
       "\t<tr><td>2001</td><td> 7.967586</td><td>58</td></tr>\n",
       "\t<tr><td>2002</td><td> 9.060588</td><td>68</td></tr>\n",
       "\t<tr><td>2003</td><td> 8.800260</td><td>77</td></tr>\n",
       "\t<tr><td>2004</td><td> 8.850926</td><td>54</td></tr>\n",
       "\t<tr><td>2005</td><td> 8.089848</td><td>66</td></tr>\n",
       "\t<tr><td>2006</td><td> 9.064792</td><td>48</td></tr>\n",
       "\t<tr><td>2007</td><td> 7.022667</td><td>60</td></tr>\n",
       "\t<tr><td>2008</td><td> 7.718361</td><td>61</td></tr>\n",
       "\t<tr><td>2009</td><td> 8.179853</td><td>68</td></tr>\n",
       "\t<tr><td>2010</td><td>10.075172</td><td>29</td></tr>\n",
       "\t<tr><td>2011</td><td> 6.822333</td><td>30</td></tr>\n",
       "\t<tr><td>2012</td><td>10.148095</td><td>21</td></tr>\n",
       "\t<tr><td>2013</td><td>10.413478</td><td>23</td></tr>\n",
       "\t<tr><td>2014</td><td>10.398000</td><td>15</td></tr>\n",
       "\t<tr><td>2015</td><td> 9.091250</td><td>24</td></tr>\n",
       "\t<tr><td>2016</td><td>10.247600</td><td>25</td></tr>\n",
       "\t<tr><td>2017</td><td>11.037200</td><td>25</td></tr>\n",
       "\t<tr><td>2018</td><td>10.205882</td><td>17</td></tr>\n",
       "\t<tr><td>2019</td><td>15.370000</td><td> 1</td></tr>\n",
       "</tbody>\n",
       "</table>\n"
      ],
      "text/latex": [
       "A tibble: 20 × 3\n",
       "\\begin{tabular}{lll}\n",
       " ReleaseYear & AvgSales & Count\\\\\n",
       " <int> & <dbl> & <int>\\\\\n",
       "\\hline\n",
       "\t 2000 & 10.233478 & 46\\\\\n",
       "\t 2001 &  7.967586 & 58\\\\\n",
       "\t 2002 &  9.060588 & 68\\\\\n",
       "\t 2003 &  8.800260 & 77\\\\\n",
       "\t 2004 &  8.850926 & 54\\\\\n",
       "\t 2005 &  8.089848 & 66\\\\\n",
       "\t 2006 &  9.064792 & 48\\\\\n",
       "\t 2007 &  7.022667 & 60\\\\\n",
       "\t 2008 &  7.718361 & 61\\\\\n",
       "\t 2009 &  8.179853 & 68\\\\\n",
       "\t 2010 & 10.075172 & 29\\\\\n",
       "\t 2011 &  6.822333 & 30\\\\\n",
       "\t 2012 & 10.148095 & 21\\\\\n",
       "\t 2013 & 10.413478 & 23\\\\\n",
       "\t 2014 & 10.398000 & 15\\\\\n",
       "\t 2015 &  9.091250 & 24\\\\\n",
       "\t 2016 & 10.247600 & 25\\\\\n",
       "\t 2017 & 11.037200 & 25\\\\\n",
       "\t 2018 & 10.205882 & 17\\\\\n",
       "\t 2019 & 15.370000 &  1\\\\\n",
       "\\end{tabular}\n"
      ],
      "text/markdown": [
       "\n",
       "A tibble: 20 × 3\n",
       "\n",
       "| ReleaseYear &lt;int&gt; | AvgSales &lt;dbl&gt; | Count &lt;int&gt; |\n",
       "|---|---|---|\n",
       "| 2000 | 10.233478 | 46 |\n",
       "| 2001 |  7.967586 | 58 |\n",
       "| 2002 |  9.060588 | 68 |\n",
       "| 2003 |  8.800260 | 77 |\n",
       "| 2004 |  8.850926 | 54 |\n",
       "| 2005 |  8.089848 | 66 |\n",
       "| 2006 |  9.064792 | 48 |\n",
       "| 2007 |  7.022667 | 60 |\n",
       "| 2008 |  7.718361 | 61 |\n",
       "| 2009 |  8.179853 | 68 |\n",
       "| 2010 | 10.075172 | 29 |\n",
       "| 2011 |  6.822333 | 30 |\n",
       "| 2012 | 10.148095 | 21 |\n",
       "| 2013 | 10.413478 | 23 |\n",
       "| 2014 | 10.398000 | 15 |\n",
       "| 2015 |  9.091250 | 24 |\n",
       "| 2016 | 10.247600 | 25 |\n",
       "| 2017 | 11.037200 | 25 |\n",
       "| 2018 | 10.205882 | 17 |\n",
       "| 2019 | 15.370000 |  1 |\n",
       "\n"
      ],
      "text/plain": [
       "   ReleaseYear AvgSales  Count\n",
       "1  2000        10.233478 46   \n",
       "2  2001         7.967586 58   \n",
       "3  2002         9.060588 68   \n",
       "4  2003         8.800260 77   \n",
       "5  2004         8.850926 54   \n",
       "6  2005         8.089848 66   \n",
       "7  2006         9.064792 48   \n",
       "8  2007         7.022667 60   \n",
       "9  2008         7.718361 61   \n",
       "10 2009         8.179853 68   \n",
       "11 2010        10.075172 29   \n",
       "12 2011         6.822333 30   \n",
       "13 2012        10.148095 21   \n",
       "14 2013        10.413478 23   \n",
       "15 2014        10.398000 15   \n",
       "16 2015         9.091250 24   \n",
       "17 2016        10.247600 25   \n",
       "18 2017        11.037200 25   \n",
       "19 2018        10.205882 17   \n",
       "20 2019        15.370000  1   "
      ]
     },
     "metadata": {},
     "output_type": "display_data"
    }
   ],
   "source": [
    "summary_data"
   ]
  },
  {
   "cell_type": "code",
   "execution_count": 88,
   "metadata": {
    "vscode": {
     "languageId": "r"
    }
   },
   "outputs": [],
   "source": [
    "# Drop data from 2019 onwards to eliminate covid impact\n",
    "\n",
    "data <- subset(data, !(ReleaseYear == 2019))"
   ]
  },
  {
   "cell_type": "code",
   "execution_count": 89,
   "metadata": {
    "vscode": {
     "languageId": "r"
    }
   },
   "outputs": [
    {
     "data": {
      "text/html": [
       "<style>\n",
       ".dl-inline {width: auto; margin:0; padding: 0}\n",
       ".dl-inline>dt, .dl-inline>dd {float: none; width: auto; display: inline-block}\n",
       ".dl-inline>dt::after {content: \":\\0020\"; padding-right: .5ex}\n",
       ".dl-inline>dt:not(:first-of-type) {padding-left: .5ex}\n",
       "</style><dl class=dl-inline><dt>Title</dt><dd>694</dd><dt>Platform</dt><dd>6</dd><dt>Genre</dt><dd>8</dd><dt>Publisher</dt><dd>8</dd><dt>VGScore</dt><dd>28</dd><dt>CriticScore</dt><dd>34</dd><dt>UserScore</dt><dd>21</dd><dt>TotalShipped</dt><dd>345</dd><dt>AsianSales</dt><dd>336</dd><dt>NorthAmericaSales</dt><dd>400</dd><dt>JapanSales</dt><dd>394</dd><dt>EuropeSales</dt><dd>355</dd><dt>GlobalSales</dt><dd>653</dd><dt>ProductionCost</dt><dd>405</dd><dt>Developer</dt><dd>314</dd><dt>MultipleGenre</dt><dd>248</dd><dt>MetaScore</dt><dd>20</dd><dt>AvgUserScore</dt><dd>54</dd><dt>NoOfPlayers</dt><dd>6</dd><dt>ReleaseDate</dt><dd>283</dd><dt>ReleaseYear</dt><dd>19</dd><dt>ReleaseMonth</dt><dd>12</dd><dt>EndOfMonth</dt><dd>2</dd><dt>ReleaseQuarter</dt><dd>4</dd><dt>ReleaseWeekDay</dt><dd>7</dd><dt>ReleaseWeekend</dt><dd>2</dd><dt>ReleaseWeek</dt><dd>52</dd></dl>\n"
      ],
      "text/latex": [
       "\\begin{description*}\n",
       "\\item[Title] 694\n",
       "\\item[Platform] 6\n",
       "\\item[Genre] 8\n",
       "\\item[Publisher] 8\n",
       "\\item[VGScore] 28\n",
       "\\item[CriticScore] 34\n",
       "\\item[UserScore] 21\n",
       "\\item[TotalShipped] 345\n",
       "\\item[AsianSales] 336\n",
       "\\item[NorthAmericaSales] 400\n",
       "\\item[JapanSales] 394\n",
       "\\item[EuropeSales] 355\n",
       "\\item[GlobalSales] 653\n",
       "\\item[ProductionCost] 405\n",
       "\\item[Developer] 314\n",
       "\\item[MultipleGenre] 248\n",
       "\\item[MetaScore] 20\n",
       "\\item[AvgUserScore] 54\n",
       "\\item[NoOfPlayers] 6\n",
       "\\item[ReleaseDate] 283\n",
       "\\item[ReleaseYear] 19\n",
       "\\item[ReleaseMonth] 12\n",
       "\\item[EndOfMonth] 2\n",
       "\\item[ReleaseQuarter] 4\n",
       "\\item[ReleaseWeekDay] 7\n",
       "\\item[ReleaseWeekend] 2\n",
       "\\item[ReleaseWeek] 52\n",
       "\\end{description*}\n"
      ],
      "text/markdown": [
       "Title\n",
       ":   694Platform\n",
       ":   6Genre\n",
       ":   8Publisher\n",
       ":   8VGScore\n",
       ":   28CriticScore\n",
       ":   34UserScore\n",
       ":   21TotalShipped\n",
       ":   345AsianSales\n",
       ":   336NorthAmericaSales\n",
       ":   400JapanSales\n",
       ":   394EuropeSales\n",
       ":   355GlobalSales\n",
       ":   653ProductionCost\n",
       ":   405Developer\n",
       ":   314MultipleGenre\n",
       ":   248MetaScore\n",
       ":   20AvgUserScore\n",
       ":   54NoOfPlayers\n",
       ":   6ReleaseDate\n",
       ":   283ReleaseYear\n",
       ":   19ReleaseMonth\n",
       ":   12EndOfMonth\n",
       ":   2ReleaseQuarter\n",
       ":   4ReleaseWeekDay\n",
       ":   7ReleaseWeekend\n",
       ":   2ReleaseWeek\n",
       ":   52\n",
       "\n"
      ],
      "text/plain": [
       "            Title          Platform             Genre         Publisher \n",
       "              694                 6                 8                 8 \n",
       "          VGScore       CriticScore         UserScore      TotalShipped \n",
       "               28                34                21               345 \n",
       "       AsianSales NorthAmericaSales        JapanSales       EuropeSales \n",
       "              336               400               394               355 \n",
       "      GlobalSales    ProductionCost         Developer     MultipleGenre \n",
       "              653               405               314               248 \n",
       "        MetaScore      AvgUserScore       NoOfPlayers       ReleaseDate \n",
       "               20                54                 6               283 \n",
       "      ReleaseYear      ReleaseMonth        EndOfMonth    ReleaseQuarter \n",
       "               19                12                 2                 4 \n",
       "   ReleaseWeekDay    ReleaseWeekend       ReleaseWeek \n",
       "                7                 2                52 "
      ]
     },
     "metadata": {},
     "output_type": "display_data"
    }
   ],
   "source": [
    "########################################################\n",
    "# Check the number of distinct values for the variables\n",
    "\n",
    "sapply(data, function(x) n_distinct(x))"
   ]
  },
  {
   "cell_type": "code",
   "execution_count": 90,
   "metadata": {
    "vscode": {
     "languageId": "r"
    }
   },
   "outputs": [],
   "source": [
    "########################################################\n",
    "# Data inconsistencies spotted for Developer column\n",
    "\n",
    "# Change 'Developer' column to character\n",
    "data$Developer <- as.character(data$Developer)\n",
    "\n",
    "# Define a mapping of replacements as a named vector\n",
    "  developer_replacements <- c(\n",
    "  'CodemastersBirmingham' = 'Codemasters',\n",
    "  'CriterionGames,STELLARENTERTAINMENTSOFTWARELTD' = 'CriterionGames',\n",
    "  'EABlackBox|EACanada|EACanada,EAVancouver|EAChicago|EADICE|EAGames|EALA|EARedwoodShores|EASaltLake|EASports|EASports,EAVancouver|EASportsBig|EATiburon|EAVancouver|ElectronicArts' = 'Electronic Arts',\n",
    "  'GearboxSoftware,IronGalaxyStudios' = 'GearboxSoftware',\n",
    "  'Maxis,EARedwoodShores' = 'Maxis',\n",
    "  'NamcoBandaiGames' = 'Namco',\n",
    "  'Nintendo,NintendoSoftwareTechnology' = 'Nintendo',\n",
    "  'RockstarLeeds|RockstarSanDiego|RockstarStudios|RockstarToronto' = 'Rockstar',\n",
    "  'SCEA|SCEASanDiegoStudios|SCEE|SCEELondonStudio|SCEJapanStudio|SCESantaMonica|SonyInteractiveEntertainment|SonyInteractiveEntertainment,FirstContactEntertainment|SonyOnlineEntertainment|SonyOnlineEntertainment,DaybreakGames' = 'Sony',\n",
    "  'SegaAM2|SegaAM3' = 'Sega',\n",
    "  'UbisoftMontpellier|UbisoftMontreal|UbisoftReflections|UbisoftRomania' = 'Ubisoft'\n",
    ")\n",
    "\n",
    "# Use str_replace_all to apply the replacements\n",
    "data$Developer <- str_replace_all(data$Developer, developer_replacements)\n",
    "\n",
    "# Convert 'Developer' back to factor\n",
    "data$Developer <- as.factor(data$Developer)"
   ]
  },
  {
   "cell_type": "code",
   "execution_count": 91,
   "metadata": {
    "vscode": {
     "languageId": "r"
    }
   },
   "outputs": [
    {
     "data": {
      "text/html": [
       "<style>\n",
       ".dl-inline {width: auto; margin:0; padding: 0}\n",
       ".dl-inline>dt, .dl-inline>dd {float: none; width: auto; display: inline-block}\n",
       ".dl-inline>dt::after {content: \":\\0020\"; padding-right: .5ex}\n",
       ".dl-inline>dt:not(:first-of-type) {padding-left: .5ex}\n",
       "</style><dl class=dl-inline><dt>Title</dt><dd>694</dd><dt>Platform</dt><dd>6</dd><dt>Genre</dt><dd>8</dd><dt>Publisher</dt><dd>8</dd><dt>VGScore</dt><dd>28</dd><dt>CriticScore</dt><dd>34</dd><dt>UserScore</dt><dd>21</dd><dt>TotalShipped</dt><dd>345</dd><dt>AsianSales</dt><dd>336</dd><dt>NorthAmericaSales</dt><dd>400</dd><dt>JapanSales</dt><dd>394</dd><dt>EuropeSales</dt><dd>355</dd><dt>GlobalSales</dt><dd>653</dd><dt>ProductionCost</dt><dd>405</dd><dt>Developer</dt><dd>283</dd><dt>MultipleGenre</dt><dd>248</dd><dt>MetaScore</dt><dd>20</dd><dt>AvgUserScore</dt><dd>54</dd><dt>NoOfPlayers</dt><dd>6</dd><dt>ReleaseDate</dt><dd>283</dd><dt>ReleaseYear</dt><dd>19</dd><dt>ReleaseMonth</dt><dd>12</dd><dt>EndOfMonth</dt><dd>2</dd><dt>ReleaseQuarter</dt><dd>4</dd><dt>ReleaseWeekDay</dt><dd>7</dd><dt>ReleaseWeekend</dt><dd>2</dd><dt>ReleaseWeek</dt><dd>52</dd></dl>\n"
      ],
      "text/latex": [
       "\\begin{description*}\n",
       "\\item[Title] 694\n",
       "\\item[Platform] 6\n",
       "\\item[Genre] 8\n",
       "\\item[Publisher] 8\n",
       "\\item[VGScore] 28\n",
       "\\item[CriticScore] 34\n",
       "\\item[UserScore] 21\n",
       "\\item[TotalShipped] 345\n",
       "\\item[AsianSales] 336\n",
       "\\item[NorthAmericaSales] 400\n",
       "\\item[JapanSales] 394\n",
       "\\item[EuropeSales] 355\n",
       "\\item[GlobalSales] 653\n",
       "\\item[ProductionCost] 405\n",
       "\\item[Developer] 283\n",
       "\\item[MultipleGenre] 248\n",
       "\\item[MetaScore] 20\n",
       "\\item[AvgUserScore] 54\n",
       "\\item[NoOfPlayers] 6\n",
       "\\item[ReleaseDate] 283\n",
       "\\item[ReleaseYear] 19\n",
       "\\item[ReleaseMonth] 12\n",
       "\\item[EndOfMonth] 2\n",
       "\\item[ReleaseQuarter] 4\n",
       "\\item[ReleaseWeekDay] 7\n",
       "\\item[ReleaseWeekend] 2\n",
       "\\item[ReleaseWeek] 52\n",
       "\\end{description*}\n"
      ],
      "text/markdown": [
       "Title\n",
       ":   694Platform\n",
       ":   6Genre\n",
       ":   8Publisher\n",
       ":   8VGScore\n",
       ":   28CriticScore\n",
       ":   34UserScore\n",
       ":   21TotalShipped\n",
       ":   345AsianSales\n",
       ":   336NorthAmericaSales\n",
       ":   400JapanSales\n",
       ":   394EuropeSales\n",
       ":   355GlobalSales\n",
       ":   653ProductionCost\n",
       ":   405Developer\n",
       ":   283MultipleGenre\n",
       ":   248MetaScore\n",
       ":   20AvgUserScore\n",
       ":   54NoOfPlayers\n",
       ":   6ReleaseDate\n",
       ":   283ReleaseYear\n",
       ":   19ReleaseMonth\n",
       ":   12EndOfMonth\n",
       ":   2ReleaseQuarter\n",
       ":   4ReleaseWeekDay\n",
       ":   7ReleaseWeekend\n",
       ":   2ReleaseWeek\n",
       ":   52\n",
       "\n"
      ],
      "text/plain": [
       "            Title          Platform             Genre         Publisher \n",
       "              694                 6                 8                 8 \n",
       "          VGScore       CriticScore         UserScore      TotalShipped \n",
       "               28                34                21               345 \n",
       "       AsianSales NorthAmericaSales        JapanSales       EuropeSales \n",
       "              336               400               394               355 \n",
       "      GlobalSales    ProductionCost         Developer     MultipleGenre \n",
       "              653               405               283               248 \n",
       "        MetaScore      AvgUserScore       NoOfPlayers       ReleaseDate \n",
       "               20                54                 6               283 \n",
       "      ReleaseYear      ReleaseMonth        EndOfMonth    ReleaseQuarter \n",
       "               19                12                 2                 4 \n",
       "   ReleaseWeekDay    ReleaseWeekend       ReleaseWeek \n",
       "                7                 2                52 "
      ]
     },
     "metadata": {},
     "output_type": "display_data"
    }
   ],
   "source": [
    "########################################################\n",
    "# Check the number of distinct values for the variables\n",
    "\n",
    "sapply(data, function(x) n_distinct(x))"
   ]
  },
  {
   "cell_type": "code",
   "execution_count": 92,
   "metadata": {
    "vscode": {
     "languageId": "r"
    }
   },
   "outputs": [
    {
     "name": "stdout",
     "output_type": "stream",
     "text": [
      " [1] Electronic Arts   Codemasters       VisualConcepts    Namco            \n",
      " [5] Ubisoft           Capcom            SportsInteractive KCET             \n",
      " [9] Maxis             Konami           \n",
      "283 Levels: 1stPlayableProductions 2015 2DBoy 2KCzech 2KGames ... ZipperInteractive\n"
     ]
    }
   ],
   "source": [
    "########################################################\n",
    "# Group Top 10 after addressing data inconsistencies\n",
    "\n",
    "# Calculate the frequency of each Developer\n",
    "developer_counts <- data %>%\n",
    "  group_by(Developer) %>%\n",
    "  summarise(n = n()) %>%\n",
    "  arrange(desc(n))\n",
    "\n",
    "# Extract the top 10 unique developers based on count frequency\n",
    "top10_developers <- developer_counts$Developer %>%\n",
    "  head(10)\n",
    "\n",
    "# View the top 10\n",
    "print(top10_developers)"
   ]
  },
  {
   "cell_type": "code",
   "execution_count": 93,
   "metadata": {
    "vscode": {
     "languageId": "r"
    }
   },
   "outputs": [
    {
     "data": {
      "image/png": "[encoded data removed]",
      "text/plain": [
       "plot without title"
      ]
     },
     "metadata": {
      "image/png": {
       "height": 420,
       "width": 420
      }
     },
     "output_type": "display_data"
    }
   ],
   "source": [
    "# Visualize top 10 Developers\n",
    "ggplot(head(developer_counts, 10), aes(x = reorder(Developer, -n), y = n)) +\n",
    "  geom_bar(stat = \"identity\", fill = \"skyblue\", alpha = 0.7) +\n",
    "  labs(title = \"Top 10 Developers by Count\",\n",
    "       x = \"Developer\",\n",
    "       y = \"Count\") +\n",
    "  theme(axis.text.x = element_text(angle = 45, hjust = 1)) +\n",
    "  coord_flip()"
   ]
  },
  {
   "cell_type": "code",
   "execution_count": 94,
   "metadata": {
    "vscode": {
     "languageId": "r"
    }
   },
   "outputs": [],
   "source": [
    "# Create a function to replace with \"Others\" if not in the top list\n",
    "replace_with_others <- function(names, top_names) {\n",
    "  names <- as.character(names)\n",
    "  names[!names %in% top_names] <- \"Others\"\n",
    "  names <- as.factor(names)\n",
    "  return(names)\n",
    "}\n",
    "\n",
    "data$TopDeveloper_Count = data$Developer\n",
    "\n",
    "# Replace publishers and developers in the original data frame\n",
    "data$TopDeveloper_Count <- replace_with_others(data$TopDeveloper_Count, top10_developers)"
   ]
  },
  {
   "cell_type": "code",
   "execution_count": 95,
   "metadata": {
    "vscode": {
     "languageId": "r"
    }
   },
   "outputs": [
    {
     "data": {
      "text/html": [
       "<style>\n",
       ".dl-inline {width: auto; margin:0; padding: 0}\n",
       ".dl-inline>dt, .dl-inline>dd {float: none; width: auto; display: inline-block}\n",
       ".dl-inline>dt::after {content: \":\\0020\"; padding-right: .5ex}\n",
       ".dl-inline>dt:not(:first-of-type) {padding-left: .5ex}\n",
       "</style><dl class=dl-inline><dt>Title</dt><dd>694</dd><dt>Platform</dt><dd>6</dd><dt>Genre</dt><dd>8</dd><dt>Publisher</dt><dd>8</dd><dt>VGScore</dt><dd>28</dd><dt>CriticScore</dt><dd>34</dd><dt>UserScore</dt><dd>21</dd><dt>TotalShipped</dt><dd>345</dd><dt>AsianSales</dt><dd>336</dd><dt>NorthAmericaSales</dt><dd>400</dd><dt>JapanSales</dt><dd>394</dd><dt>EuropeSales</dt><dd>355</dd><dt>GlobalSales</dt><dd>653</dd><dt>ProductionCost</dt><dd>405</dd><dt>Developer</dt><dd>283</dd><dt>MultipleGenre</dt><dd>248</dd><dt>MetaScore</dt><dd>20</dd><dt>AvgUserScore</dt><dd>54</dd><dt>NoOfPlayers</dt><dd>6</dd><dt>ReleaseDate</dt><dd>283</dd><dt>ReleaseYear</dt><dd>19</dd><dt>ReleaseMonth</dt><dd>12</dd><dt>EndOfMonth</dt><dd>2</dd><dt>ReleaseQuarter</dt><dd>4</dd><dt>ReleaseWeekDay</dt><dd>7</dd><dt>ReleaseWeekend</dt><dd>2</dd><dt>ReleaseWeek</dt><dd>52</dd><dt>TopDeveloper_Count</dt><dd>11</dd></dl>\n"
      ],
      "text/latex": [
       "\\begin{description*}\n",
       "\\item[Title] 694\n",
       "\\item[Platform] 6\n",
       "\\item[Genre] 8\n",
       "\\item[Publisher] 8\n",
       "\\item[VGScore] 28\n",
       "\\item[CriticScore] 34\n",
       "\\item[UserScore] 21\n",
       "\\item[TotalShipped] 345\n",
       "\\item[AsianSales] 336\n",
       "\\item[NorthAmericaSales] 400\n",
       "\\item[JapanSales] 394\n",
       "\\item[EuropeSales] 355\n",
       "\\item[GlobalSales] 653\n",
       "\\item[ProductionCost] 405\n",
       "\\item[Developer] 283\n",
       "\\item[MultipleGenre] 248\n",
       "\\item[MetaScore] 20\n",
       "\\item[AvgUserScore] 54\n",
       "\\item[NoOfPlayers] 6\n",
       "\\item[ReleaseDate] 283\n",
       "\\item[ReleaseYear] 19\n",
       "\\item[ReleaseMonth] 12\n",
       "\\item[EndOfMonth] 2\n",
       "\\item[ReleaseQuarter] 4\n",
       "\\item[ReleaseWeekDay] 7\n",
       "\\item[ReleaseWeekend] 2\n",
       "\\item[ReleaseWeek] 52\n",
       "\\item[TopDeveloper\\textbackslash{}\\_Count] 11\n",
       "\\end{description*}\n"
      ],
      "text/markdown": [
       "Title\n",
       ":   694Platform\n",
       ":   6Genre\n",
       ":   8Publisher\n",
       ":   8VGScore\n",
       ":   28CriticScore\n",
       ":   34UserScore\n",
       ":   21TotalShipped\n",
       ":   345AsianSales\n",
       ":   336NorthAmericaSales\n",
       ":   400JapanSales\n",
       ":   394EuropeSales\n",
       ":   355GlobalSales\n",
       ":   653ProductionCost\n",
       ":   405Developer\n",
       ":   283MultipleGenre\n",
       ":   248MetaScore\n",
       ":   20AvgUserScore\n",
       ":   54NoOfPlayers\n",
       ":   6ReleaseDate\n",
       ":   283ReleaseYear\n",
       ":   19ReleaseMonth\n",
       ":   12EndOfMonth\n",
       ":   2ReleaseQuarter\n",
       ":   4ReleaseWeekDay\n",
       ":   7ReleaseWeekend\n",
       ":   2ReleaseWeek\n",
       ":   52TopDeveloper_Count\n",
       ":   11\n",
       "\n"
      ],
      "text/plain": [
       "             Title           Platform              Genre          Publisher \n",
       "               694                  6                  8                  8 \n",
       "           VGScore        CriticScore          UserScore       TotalShipped \n",
       "                28                 34                 21                345 \n",
       "        AsianSales  NorthAmericaSales         JapanSales        EuropeSales \n",
       "               336                400                394                355 \n",
       "       GlobalSales     ProductionCost          Developer      MultipleGenre \n",
       "               653                405                283                248 \n",
       "         MetaScore       AvgUserScore        NoOfPlayers        ReleaseDate \n",
       "                20                 54                  6                283 \n",
       "       ReleaseYear       ReleaseMonth         EndOfMonth     ReleaseQuarter \n",
       "                19                 12                  2                  4 \n",
       "    ReleaseWeekDay     ReleaseWeekend        ReleaseWeek TopDeveloper_Count \n",
       "                 7                  2                 52                 11 "
      ]
     },
     "metadata": {},
     "output_type": "display_data"
    }
   ],
   "source": [
    "########################################################\n",
    "# Check the number of distinct values for the variables\n",
    "sapply(data, function(x) n_distinct(x))"
   ]
  },
  {
   "cell_type": "code",
   "execution_count": 96,
   "metadata": {
    "vscode": {
     "languageId": "r"
    }
   },
   "outputs": [
    {
     "name": "stdout",
     "output_type": "stream",
     "text": [
      " [1] Electronic Arts   SportsInteractive Codemasters       Ubisoft          \n",
      " [5] Namco             ValveSoftware     KCET              VisualConcepts   \n",
      " [9] Nintendo          Maxis            \n",
      "283 Levels: 1stPlayableProductions 2015 2DBoy 2KCzech 2KGames ... ZipperInteractive\n"
     ]
    }
   ],
   "source": [
    "## Explore to group Developer by using GlobalSales\n",
    "\n",
    "# Calculate the sum of GlobalSales for each Developer\n",
    "developer_sales <- data %>%\n",
    "  group_by(Developer) %>%\n",
    "  summarise(GlobalSales = sum(GlobalSales)) %>%\n",
    "  arrange(desc(GlobalSales))\n",
    "\n",
    "  # Extract the top 10 unique developers based on count frequency\n",
    "top10_developers_sum <- developer_sales$Developer %>%\n",
    "  head(10)\n",
    "\n",
    "# View the top 10\n",
    "print(top10_developers_sum)"
   ]
  },
  {
   "cell_type": "code",
   "execution_count": 97,
   "metadata": {
    "vscode": {
     "languageId": "r"
    }
   },
   "outputs": [
    {
     "data": {
      "image/png": "[encoded data removed]",
      "text/plain": [
       "plot without title"
      ]
     },
     "metadata": {
      "image/png": {
       "height": 420,
       "width": 420
      }
     },
     "output_type": "display_data"
    }
   ],
   "source": [
    "# Visualize top 10 Developers by Global Sales\n",
    "ggplot(subset(developer_sales, Developer %in% top10_developers_sum), aes(x = reorder(Developer, -GlobalSales), y = GlobalSales)) +\n",
    "  geom_bar(stat = \"identity\", fill = \"skyblue\", alpha = 0.7) +\n",
    "  labs(title = \"Top 10 Developers by Global Sales\",\n",
    "       x = \"Developer\",\n",
    "       y = \"Global Sales\") +\n",
    "  theme(axis.text.x = element_text(angle = 45, hjust = 1)) +\n",
    "  coord_flip()"
   ]
  },
  {
   "cell_type": "code",
   "execution_count": 98,
   "metadata": {
    "vscode": {
     "languageId": "r"
    }
   },
   "outputs": [],
   "source": [
    "# Create a function to replace with \"Others\" if not in the top list\n",
    "replace_with_others <- function(names, top_names) {\n",
    "  names <- as.character(names)\n",
    "  names[!names %in% top_names] <- \"Others\"\n",
    "  names <- as.factor(names)\n",
    "  return(names)\n",
    "}\n",
    "\n",
    "data$TopDeveloper_Sum = data$Developer\n",
    "\n",
    "# Replace publishers and developers in the original data frame\n",
    "data$TopDeveloper_Sum <- replace_with_others(data$TopDeveloper_Sum, top10_developers_sum)"
   ]
  },
  {
   "cell_type": "code",
   "execution_count": 99,
   "metadata": {
    "vscode": {
     "languageId": "r"
    }
   },
   "outputs": [
    {
     "data": {
      "text/html": [
       "<style>\n",
       ".dl-inline {width: auto; margin:0; padding: 0}\n",
       ".dl-inline>dt, .dl-inline>dd {float: none; width: auto; display: inline-block}\n",
       ".dl-inline>dt::after {content: \":\\0020\"; padding-right: .5ex}\n",
       ".dl-inline>dt:not(:first-of-type) {padding-left: .5ex}\n",
       "</style><dl class=dl-inline><dt>Title</dt><dd>694</dd><dt>Platform</dt><dd>6</dd><dt>Genre</dt><dd>8</dd><dt>Publisher</dt><dd>8</dd><dt>VGScore</dt><dd>28</dd><dt>CriticScore</dt><dd>34</dd><dt>UserScore</dt><dd>21</dd><dt>TotalShipped</dt><dd>345</dd><dt>AsianSales</dt><dd>336</dd><dt>NorthAmericaSales</dt><dd>400</dd><dt>JapanSales</dt><dd>394</dd><dt>EuropeSales</dt><dd>355</dd><dt>GlobalSales</dt><dd>653</dd><dt>ProductionCost</dt><dd>405</dd><dt>Developer</dt><dd>283</dd><dt>MultipleGenre</dt><dd>248</dd><dt>MetaScore</dt><dd>20</dd><dt>AvgUserScore</dt><dd>54</dd><dt>NoOfPlayers</dt><dd>6</dd><dt>ReleaseDate</dt><dd>283</dd><dt>ReleaseYear</dt><dd>19</dd><dt>ReleaseMonth</dt><dd>12</dd><dt>EndOfMonth</dt><dd>2</dd><dt>ReleaseQuarter</dt><dd>4</dd><dt>ReleaseWeekDay</dt><dd>7</dd><dt>ReleaseWeekend</dt><dd>2</dd><dt>ReleaseWeek</dt><dd>52</dd><dt>TopDeveloper_Count</dt><dd>11</dd><dt>TopDeveloper_Sum</dt><dd>11</dd></dl>\n"
      ],
      "text/latex": [
       "\\begin{description*}\n",
       "\\item[Title] 694\n",
       "\\item[Platform] 6\n",
       "\\item[Genre] 8\n",
       "\\item[Publisher] 8\n",
       "\\item[VGScore] 28\n",
       "\\item[CriticScore] 34\n",
       "\\item[UserScore] 21\n",
       "\\item[TotalShipped] 345\n",
       "\\item[AsianSales] 336\n",
       "\\item[NorthAmericaSales] 400\n",
       "\\item[JapanSales] 394\n",
       "\\item[EuropeSales] 355\n",
       "\\item[GlobalSales] 653\n",
       "\\item[ProductionCost] 405\n",
       "\\item[Developer] 283\n",
       "\\item[MultipleGenre] 248\n",
       "\\item[MetaScore] 20\n",
       "\\item[AvgUserScore] 54\n",
       "\\item[NoOfPlayers] 6\n",
       "\\item[ReleaseDate] 283\n",
       "\\item[ReleaseYear] 19\n",
       "\\item[ReleaseMonth] 12\n",
       "\\item[EndOfMonth] 2\n",
       "\\item[ReleaseQuarter] 4\n",
       "\\item[ReleaseWeekDay] 7\n",
       "\\item[ReleaseWeekend] 2\n",
       "\\item[ReleaseWeek] 52\n",
       "\\item[TopDeveloper\\textbackslash{}\\_Count] 11\n",
       "\\item[TopDeveloper\\textbackslash{}\\_Sum] 11\n",
       "\\end{description*}\n"
      ],
      "text/markdown": [
       "Title\n",
       ":   694Platform\n",
       ":   6Genre\n",
       ":   8Publisher\n",
       ":   8VGScore\n",
       ":   28CriticScore\n",
       ":   34UserScore\n",
       ":   21TotalShipped\n",
       ":   345AsianSales\n",
       ":   336NorthAmericaSales\n",
       ":   400JapanSales\n",
       ":   394EuropeSales\n",
       ":   355GlobalSales\n",
       ":   653ProductionCost\n",
       ":   405Developer\n",
       ":   283MultipleGenre\n",
       ":   248MetaScore\n",
       ":   20AvgUserScore\n",
       ":   54NoOfPlayers\n",
       ":   6ReleaseDate\n",
       ":   283ReleaseYear\n",
       ":   19ReleaseMonth\n",
       ":   12EndOfMonth\n",
       ":   2ReleaseQuarter\n",
       ":   4ReleaseWeekDay\n",
       ":   7ReleaseWeekend\n",
       ":   2ReleaseWeek\n",
       ":   52TopDeveloper_Count\n",
       ":   11TopDeveloper_Sum\n",
       ":   11\n",
       "\n"
      ],
      "text/plain": [
       "             Title           Platform              Genre          Publisher \n",
       "               694                  6                  8                  8 \n",
       "           VGScore        CriticScore          UserScore       TotalShipped \n",
       "                28                 34                 21                345 \n",
       "        AsianSales  NorthAmericaSales         JapanSales        EuropeSales \n",
       "               336                400                394                355 \n",
       "       GlobalSales     ProductionCost          Developer      MultipleGenre \n",
       "               653                405                283                248 \n",
       "         MetaScore       AvgUserScore        NoOfPlayers        ReleaseDate \n",
       "                20                 54                  6                283 \n",
       "       ReleaseYear       ReleaseMonth         EndOfMonth     ReleaseQuarter \n",
       "                19                 12                  2                  4 \n",
       "    ReleaseWeekDay     ReleaseWeekend        ReleaseWeek TopDeveloper_Count \n",
       "                 7                  2                 52                 11 \n",
       "  TopDeveloper_Sum \n",
       "                11 "
      ]
     },
     "metadata": {},
     "output_type": "display_data"
    }
   ],
   "source": [
    "########################################################\n",
    "# Check the number of distinct values for the variables\n",
    "sapply(data, function(x) n_distinct(x))"
   ]
  },
  {
   "cell_type": "markdown",
   "metadata": {},
   "source": [
    "Handle Outliers, Transform Y to be normally distributed"
   ]
  },
  {
   "cell_type": "code",
   "execution_count": 100,
   "metadata": {
    "vscode": {
     "languageId": "r"
    }
   },
   "outputs": [
    {
     "name": "stderr",
     "output_type": "stream",
     "text": [
      "\u001b[1m\u001b[22m`stat_bin()` using `bins = 30`. Pick better value with `binwidth`.\n"
     ]
    },
    {
     "data": {
      "image/png": "[encoded data removed]",
      "text/plain": [
       "plot without title"
      ]
     },
     "metadata": {
      "image/png": {
       "height": 420,
       "width": 420
      }
     },
     "output_type": "display_data"
    }
   ],
   "source": [
    "########################################################\n",
    "# Check the distribution of dependent variable (GlobalSales)\n",
    "\n",
    "# Create a histogram using ggplot\n",
    "ggplot(data, aes(x = data$GlobalSales)) +\n",
    "  geom_histogram(fill = \"blue\", color = \"black\", alpha = 0.7) +\n",
    "  labs(\n",
    "    title = \"Distribution of Global Sales\",\n",
    "    x = \"Global Sales\",\n",
    "    y = \"Frequency\"\n",
    "  )"
   ]
  },
  {
   "cell_type": "code",
   "execution_count": 101,
   "metadata": {
    "vscode": {
     "languageId": "r"
    }
   },
   "outputs": [
    {
     "name": "stdout",
     "output_type": "stream",
     "text": [
      "Number of outliers: 0 \n"
     ]
    }
   ],
   "source": [
    "# Remove outliers\n",
    "\n",
    "# Calculate the IQR for Global Sales\n",
    "Q1 <- quantile(data$GlobalSales, 0.25)\n",
    "Q3 <- quantile(data$GlobalSales, 0.75)\n",
    "IQR_value <- Q3 - Q1\n",
    "\n",
    "# Define the lower and upper bounds for identifying outliers\n",
    "lower_bound <- Q1 - 1.5 * IQR_value\n",
    "upper_bound <- Q3 + 1.5 * IQR_value\n",
    "\n",
    "# Identify outliers\n",
    "outliers <- data$GlobalSales[data$GlobalSales < lower_bound | data$GlobalSales > upper_bound]\n",
    "\n",
    "# Display the number of outliers removed\n",
    "cat(\"Number of outliers:\", length(outliers), \"\\n\")"
   ]
  },
  {
   "cell_type": "markdown",
   "metadata": {},
   "source": [
    "Right Skewed Transformation"
   ]
  },
  {
   "cell_type": "code",
   "execution_count": 102,
   "metadata": {
    "vscode": {
     "languageId": "r"
    }
   },
   "outputs": [],
   "source": [
    "# Right-skewed: transform 'GlobalSales' using log\n",
    "data$LogGlobalSales <- log(data$GlobalSales)"
   ]
  },
  {
   "cell_type": "code",
   "execution_count": 103,
   "metadata": {
    "vscode": {
     "languageId": "r"
    }
   },
   "outputs": [
    {
     "name": "stdout",
     "output_type": "stream",
     "text": [
      "Number of NA values in LogGobalSales: 0 \n",
      "Number of NaN values in LogGobalSales: 0 \n",
      "Number of Inf values in LogGobalSales: 0 \n"
     ]
    }
   ],
   "source": [
    "# Check for NA values in the LogGobalSales column\n",
    "na_count <- sum(is.na(data$LogGobalSales))\n",
    "\n",
    "# Check for NaN values in the LogGobalSales column\n",
    "nan_count <- sum(is.nan(data$LogGobalSales))\n",
    "\n",
    "# Check for Inf values in the LogGobalSales column\n",
    "inf_count <- sum(is.infinite(data$LogGobalSales))\n",
    "\n",
    "# Print the results\n",
    "cat(\"Number of NA values in LogGobalSales:\", na_count, \"\\n\")\n",
    "cat(\"Number of NaN values in LogGobalSales:\", nan_count, \"\\n\")\n",
    "cat(\"Number of Inf values in LogGobalSales:\", inf_count, \"\\n\")"
   ]
  },
  {
   "cell_type": "code",
   "execution_count": 104,
   "metadata": {
    "vscode": {
     "languageId": "r"
    }
   },
   "outputs": [
    {
     "data": {
      "image/png": "[encoded data removed]",
      "text/plain": [
       "Plot with title \"Histogram of LogGobalSales\""
      ]
     },
     "metadata": {
      "image/png": {
       "height": 420,
       "width": 420
      }
     },
     "output_type": "display_data"
    },
    {
     "data": {
      "image/png": "[encoded data removed]",
      "text/plain": [
       "Plot with title \"Normal Q-Q Plot\""
      ]
     },
     "metadata": {
      "image/png": {
       "height": 420,
       "width": 420
      }
     },
     "output_type": "display_data"
    }
   ],
   "source": [
    "# Create a histogram for 'LogGobalSales'\n",
    "hist(x = data$LogGlobalSales, main = \"Histogram of LogGobalSales\", xlab = \"Log Transformed Global Sales\", col = \"lightblue\")\n",
    "\n",
    "# Create a QQ plot for 'LogGobalSales'\n",
    "qqnorm(data$LogGlobalSales)\n",
    "qqline(data$LogGlobalSales, col = 2)\n",
    "\n",
    "# Display both the histogram and the QQ plot side by side\n",
    "par(mfrow = c(2, 2))"
   ]
  },
  {
   "cell_type": "code",
   "execution_count": 105,
   "metadata": {
    "vscode": {
     "languageId": "r"
    }
   },
   "outputs": [],
   "source": [
    "# Right-skewed: transform 'GlobalSales' using square root\n",
    "data$SqRtGlobalSales <- sqrt(data$GlobalSales)"
   ]
  },
  {
   "cell_type": "code",
   "execution_count": 106,
   "metadata": {
    "vscode": {
     "languageId": "r"
    }
   },
   "outputs": [
    {
     "name": "stdout",
     "output_type": "stream",
     "text": [
      "Number of NA values in SqRtGobalSales: 0 \n",
      "Number of NaN values in SqRtGobalSales: 0 \n",
      "Number of Inf values in SqRtGobalSales: 0 \n"
     ]
    }
   ],
   "source": [
    "# Check for NA values in the SqRtGobalSales column\n",
    "na_count <- sum(is.na(data$SqRtGobalSales))\n",
    "\n",
    "# Check for NaN values in the SqRtGobalSales column\n",
    "nan_count <- sum(is.nan(data$SqRtGobalSales))\n",
    "\n",
    "# Check for Inf values in the SqRtGobalSales column\n",
    "inf_count <- sum(is.infinite(data$SqRtGobalSales))\n",
    "\n",
    "# Print the results\n",
    "cat(\"Number of NA values in SqRtGobalSales:\", na_count, \"\\n\")\n",
    "cat(\"Number of NaN values in SqRtGobalSales:\", nan_count, \"\\n\")\n",
    "cat(\"Number of Inf values in SqRtGobalSales:\", inf_count, \"\\n\")"
   ]
  },
  {
   "cell_type": "code",
   "execution_count": 107,
   "metadata": {
    "vscode": {
     "languageId": "r"
    }
   },
   "outputs": [
    {
     "data": {
      "image/png": "[encoded data removed]",
      "text/plain": [
       "Plot with title \"Histogram of SqRtGobalSales\""
      ]
     },
     "metadata": {
      "image/png": {
       "height": 420,
       "width": 420
      }
     },
     "output_type": "display_data"
    },
    {
     "data": {
      "image/png": "[encoded data removed]",
      "text/plain": [
       "Plot with title \"Normal Q-Q Plot\""
      ]
     },
     "metadata": {
      "image/png": {
       "height": 420,
       "width": 420
      }
     },
     "output_type": "display_data"
    }
   ],
   "source": [
    "# Create a histogram for 'SqRtGobalSales'\n",
    "hist(x = data$SqRtGlobalSales, main = \"Histogram of SqRtGobalSales\", xlab = \"Square Root Transformed Global Sales\", col = \"lightblue\")\n",
    "\n",
    "# Create a QQ plot for 'SqRtGobalSales'\n",
    "qqnorm(data$SqRtGlobalSales)\n",
    "qqline(data$SqRtGlobalSales, col = 2)\n",
    "\n",
    "# Display both the histogram and the QQ plot side by side\n",
    "par(mfrow = c(2, 2))"
   ]
  },
  {
   "cell_type": "code",
   "execution_count": 108,
   "metadata": {
    "vscode": {
     "languageId": "r"
    }
   },
   "outputs": [
    {
     "name": "stdout",
     "output_type": "stream",
     "text": [
      "Number of outliers: 0 \n"
     ]
    }
   ],
   "source": [
    "# Remove outliers\n",
    "\n",
    "# Calculate the IQR for Global Sales\n",
    "Q1 <- quantile(data$SqRtGlobalSales, 0.25)\n",
    "Q3 <- quantile(data$SqRtGlobalSales, 0.75)\n",
    "IQR_value <- Q3 - Q1\n",
    "\n",
    "# Define the lower and upper bounds for identifying outliers\n",
    "lower_bound <- Q1 - 1.5 * IQR_value\n",
    "upper_bound <- Q3 + 1.5 * IQR_value\n",
    "\n",
    "# Identify outliers\n",
    "outliers <- data$SqRtGlobalSales[data$SqRtGlobalSales < lower_bound | data$SqRtGlobalSales > upper_bound]\n",
    "\n",
    "# Display the number of outliers removed\n",
    "cat(\"Number of outliers:\", length(outliers), \"\\n\")"
   ]
  },
  {
   "cell_type": "code",
   "execution_count": 109,
   "metadata": {
    "vscode": {
     "languageId": "r"
    }
   },
   "outputs": [
    {
     "name": "stdout",
     "output_type": "stream",
     "text": [
      "             Title           Platform              Genre          Publisher \n",
      "                 0                  0                  0                  0 \n",
      "           VGScore        CriticScore          UserScore       TotalShipped \n",
      "                 0                  0                  0                  0 \n",
      "        AsianSales  NorthAmericaSales         JapanSales        EuropeSales \n",
      "                 0                  0                  0                  0 \n",
      "       GlobalSales     ProductionCost          Developer      MultipleGenre \n",
      "                 0                  0                  0                  0 \n",
      "         MetaScore       AvgUserScore        NoOfPlayers        ReleaseDate \n",
      "                 0                  0                  0                  0 \n",
      "       ReleaseYear       ReleaseMonth         EndOfMonth     ReleaseQuarter \n",
      "                 0                  0                  0                  0 \n",
      "    ReleaseWeekDay     ReleaseWeekend        ReleaseWeek TopDeveloper_Count \n",
      "                 0                  0                  0                  0 \n",
      "  TopDeveloper_Sum     LogGlobalSales    SqRtGlobalSales \n",
      "                 0                  0                  0 \n"
     ]
    }
   ],
   "source": [
    "# Count missing values for each column\n",
    "missing_count <- colSums(is.na(data))\n",
    "\n",
    "# Display the count of missing values for each column\n",
    "print(missing_count)"
   ]
  },
  {
   "cell_type": "markdown",
   "metadata": {},
   "source": [
    "Multi-collinearity assessment"
   ]
  },
  {
   "cell_type": "code",
   "execution_count": 110,
   "metadata": {
    "vscode": {
     "languageId": "r"
    }
   },
   "outputs": [
    {
     "data": {
      "text/html": [
       "<table class=\"dataframe\">\n",
       "<caption>A matrix: 17 × 17 of type dbl</caption>\n",
       "<thead>\n",
       "\t<tr><th></th><th scope=col>AsianSales</th><th scope=col>NorthAmericaSales</th><th scope=col>JapanSales</th><th scope=col>EuropeSales</th><th scope=col>GlobalSales</th><th scope=col>VGScore</th><th scope=col>CriticScore</th><th scope=col>UserScore</th><th scope=col>TotalShipped</th><th scope=col>ProductionCost</th><th scope=col>MetaScore</th><th scope=col>ReleaseYear</th><th scope=col>ReleaseMonth</th><th scope=col>ReleaseQuarter</th><th scope=col>ReleaseWeekDay</th><th scope=col>ReleaseWeekend</th><th scope=col>ReleaseWeek</th></tr>\n",
       "</thead>\n",
       "<tbody>\n",
       "\t<tr><th scope=row>AsianSales</th><td> 1.0000000000</td><td> 0.36802766</td><td> 0.125414456</td><td> 0.426378638</td><td> 0.64038066</td><td> 0.026639270</td><td> 0.064410354</td><td>-0.028508225</td><td>-0.105862682</td><td> 0.046617529</td><td> 0.019566207</td><td> 0.06361438</td><td> 0.012718877</td><td> 0.0004890956</td><td> 0.040186733</td><td>-0.007812655</td><td> 0.012672012</td></tr>\n",
       "\t<tr><th scope=row>NorthAmericaSales</th><td> 0.3680276630</td><td> 1.00000000</td><td> 0.219807060</td><td> 0.486340136</td><td> 0.75840015</td><td> 0.012013469</td><td>-0.042135921</td><td> 0.014881783</td><td>-0.115234956</td><td> 0.045298112</td><td> 0.019166869</td><td> 0.09095066</td><td> 0.061329651</td><td> 0.0551763346</td><td> 0.134397182</td><td> 0.049045293</td><td> 0.060731905</td></tr>\n",
       "\t<tr><th scope=row>JapanSales</th><td> 0.1254144561</td><td> 0.21980706</td><td> 1.000000000</td><td> 0.197045967</td><td> 0.49212802</td><td>-0.040768009</td><td>-0.097819963</td><td> 0.016272838</td><td>-0.022109370</td><td> 0.035296778</td><td>-0.017783725</td><td>-0.08629796</td><td>-0.008542279</td><td>-0.0226881112</td><td> 0.028506750</td><td> 0.006761485</td><td>-0.004632791</td></tr>\n",
       "\t<tr><th scope=row>EuropeSales</th><td> 0.4263786381</td><td> 0.48634014</td><td> 0.197045967</td><td> 1.000000000</td><td> 0.80598292</td><td> 0.047366989</td><td>-0.053168990</td><td>-0.051035619</td><td>-0.140256503</td><td> 0.044454353</td><td>-0.006639806</td><td> 0.09305954</td><td>-0.003192373</td><td>-0.0045237543</td><td> 0.137433439</td><td> 0.077593259</td><td>-0.007766531</td></tr>\n",
       "\t<tr><th scope=row>GlobalSales</th><td> 0.6403806601</td><td> 0.75840015</td><td> 0.492128020</td><td> 0.805982922</td><td> 1.00000000</td><td> 0.025021039</td><td>-0.044245685</td><td>-0.025742523</td><td>-0.157973406</td><td> 0.058422229</td><td> 0.045971230</td><td> 0.05427680</td><td> 0.024911149</td><td> 0.0175683889</td><td> 0.126489943</td><td> 0.046599291</td><td> 0.025121083</td></tr>\n",
       "\t<tr><th scope=row>VGScore</th><td> 0.0266392696</td><td> 0.01201347</td><td>-0.040768009</td><td> 0.047366989</td><td> 0.02502104</td><td> 1.000000000</td><td>-0.001479083</td><td> 0.029533513</td><td>-0.106223990</td><td>-0.013214673</td><td>-0.031923779</td><td> 0.32421684</td><td>-0.037469593</td><td>-0.0501190076</td><td>-0.013242352</td><td>-0.011791073</td><td>-0.035452828</td></tr>\n",
       "\t<tr><th scope=row>CriticScore</th><td> 0.0644103545</td><td>-0.04213592</td><td>-0.097819963</td><td>-0.053168990</td><td>-0.04424568</td><td>-0.001479083</td><td> 1.000000000</td><td> 0.015334593</td><td>-0.008152876</td><td> 0.002176961</td><td> 0.145933358</td><td> 0.01701733</td><td>-0.018201560</td><td>-0.0148827175</td><td>-0.031171091</td><td>-0.024318453</td><td>-0.018955547</td></tr>\n",
       "\t<tr><th scope=row>UserScore</th><td>-0.0285082247</td><td> 0.01488178</td><td> 0.016272838</td><td>-0.051035619</td><td>-0.02574252</td><td> 0.029533513</td><td> 0.015334593</td><td> 1.000000000</td><td>-0.027644033</td><td> 0.041219121</td><td> 0.005761414</td><td> 0.01386281</td><td>-0.001749519</td><td>-0.0098186593</td><td>-0.025940060</td><td>-0.049487987</td><td>-0.001799183</td></tr>\n",
       "\t<tr><th scope=row>TotalShipped</th><td>-0.1058626818</td><td>-0.11523496</td><td>-0.022109370</td><td>-0.140256503</td><td>-0.15797341</td><td>-0.106223990</td><td>-0.008152876</td><td>-0.027644033</td><td> 1.000000000</td><td> 0.055347674</td><td>-0.031274203</td><td>-0.21895935</td><td> 0.055684232</td><td> 0.0522729703</td><td>-0.025544642</td><td>-0.010844244</td><td> 0.053048345</td></tr>\n",
       "\t<tr><th scope=row>ProductionCost</th><td> 0.0466175287</td><td> 0.04529811</td><td> 0.035296778</td><td> 0.044454353</td><td> 0.05842223</td><td>-0.013214673</td><td> 0.002176961</td><td> 0.041219121</td><td> 0.055347674</td><td> 1.000000000</td><td> 0.015332533</td><td>-0.02812523</td><td> 0.024793400</td><td> 0.0231041987</td><td> 0.030703514</td><td> 0.017522206</td><td> 0.023795383</td></tr>\n",
       "\t<tr><th scope=row>MetaScore</th><td> 0.0195662066</td><td> 0.01916687</td><td>-0.017783725</td><td>-0.006639806</td><td> 0.04597123</td><td>-0.031923779</td><td> 0.145933358</td><td> 0.005761414</td><td>-0.031274203</td><td> 0.015332533</td><td> 1.000000000</td><td>-0.11784444</td><td>-0.036274891</td><td>-0.0345531784</td><td>-0.068219149</td><td>-0.003629619</td><td>-0.031867584</td></tr>\n",
       "\t<tr><th scope=row>ReleaseYear</th><td> 0.0636143769</td><td> 0.09095066</td><td>-0.086297955</td><td> 0.093059543</td><td> 0.05427680</td><td> 0.324216837</td><td> 0.017017328</td><td> 0.013862811</td><td>-0.218959353</td><td>-0.028125227</td><td>-0.117844445</td><td> 1.00000000</td><td>-0.110442031</td><td>-0.1108245310</td><td> 0.022316453</td><td>-0.048695006</td><td>-0.111815269</td></tr>\n",
       "\t<tr><th scope=row>ReleaseMonth</th><td> 0.0127188766</td><td> 0.06132965</td><td>-0.008542279</td><td>-0.003192373</td><td> 0.02491115</td><td>-0.037469593</td><td>-0.018201560</td><td>-0.001749519</td><td> 0.055684232</td><td> 0.024793400</td><td>-0.036274891</td><td>-0.11044203</td><td> 1.000000000</td><td> 0.9730150247</td><td> 0.007942722</td><td>-0.024730586</td><td> 0.995925589</td></tr>\n",
       "\t<tr><th scope=row>ReleaseQuarter</th><td> 0.0004890956</td><td> 0.05517633</td><td>-0.022688111</td><td>-0.004523754</td><td> 0.01756839</td><td>-0.050119008</td><td>-0.014882718</td><td>-0.009818659</td><td> 0.052272970</td><td> 0.023104199</td><td>-0.034553178</td><td>-0.11082453</td><td> 0.973015025</td><td> 1.0000000000</td><td> 0.017708823</td><td>-0.029990637</td><td> 0.969916471</td></tr>\n",
       "\t<tr><th scope=row>ReleaseWeekDay</th><td> 0.0401867331</td><td> 0.13439718</td><td> 0.028506750</td><td> 0.137433439</td><td> 0.12648994</td><td>-0.013242352</td><td>-0.031171091</td><td>-0.025940060</td><td>-0.025544642</td><td> 0.030703514</td><td>-0.068219149</td><td> 0.02231645</td><td> 0.007942722</td><td> 0.0177088227</td><td> 1.000000000</td><td> 0.516240593</td><td>-0.004898080</td></tr>\n",
       "\t<tr><th scope=row>ReleaseWeekend</th><td>-0.0078126553</td><td> 0.04904529</td><td> 0.006761485</td><td> 0.077593259</td><td> 0.04659929</td><td>-0.011791073</td><td>-0.024318453</td><td>-0.049487987</td><td>-0.010844244</td><td> 0.017522206</td><td>-0.003629619</td><td>-0.04869501</td><td>-0.024730586</td><td>-0.0299906374</td><td> 0.516240593</td><td> 1.000000000</td><td>-0.038015995</td></tr>\n",
       "\t<tr><th scope=row>ReleaseWeek</th><td> 0.0126720118</td><td> 0.06073190</td><td>-0.004632791</td><td>-0.007766531</td><td> 0.02512108</td><td>-0.035452828</td><td>-0.018955547</td><td>-0.001799183</td><td> 0.053048345</td><td> 0.023795383</td><td>-0.031867584</td><td>-0.11181527</td><td> 0.995925589</td><td> 0.9699164714</td><td>-0.004898080</td><td>-0.038015995</td><td> 1.000000000</td></tr>\n",
       "</tbody>\n",
       "</table>\n"
      ],
      "text/latex": [
       "A matrix: 17 × 17 of type dbl\n",
       "\\begin{tabular}{r|lllllllllllllllll}\n",
       "  & AsianSales & NorthAmericaSales & JapanSales & EuropeSales & GlobalSales & VGScore & CriticScore & UserScore & TotalShipped & ProductionCost & MetaScore & ReleaseYear & ReleaseMonth & ReleaseQuarter & ReleaseWeekDay & ReleaseWeekend & ReleaseWeek\\\\\n",
       "\\hline\n",
       "\tAsianSales &  1.0000000000 &  0.36802766 &  0.125414456 &  0.426378638 &  0.64038066 &  0.026639270 &  0.064410354 & -0.028508225 & -0.105862682 &  0.046617529 &  0.019566207 &  0.06361438 &  0.012718877 &  0.0004890956 &  0.040186733 & -0.007812655 &  0.012672012\\\\\n",
       "\tNorthAmericaSales &  0.3680276630 &  1.00000000 &  0.219807060 &  0.486340136 &  0.75840015 &  0.012013469 & -0.042135921 &  0.014881783 & -0.115234956 &  0.045298112 &  0.019166869 &  0.09095066 &  0.061329651 &  0.0551763346 &  0.134397182 &  0.049045293 &  0.060731905\\\\\n",
       "\tJapanSales &  0.1254144561 &  0.21980706 &  1.000000000 &  0.197045967 &  0.49212802 & -0.040768009 & -0.097819963 &  0.016272838 & -0.022109370 &  0.035296778 & -0.017783725 & -0.08629796 & -0.008542279 & -0.0226881112 &  0.028506750 &  0.006761485 & -0.004632791\\\\\n",
       "\tEuropeSales &  0.4263786381 &  0.48634014 &  0.197045967 &  1.000000000 &  0.80598292 &  0.047366989 & -0.053168990 & -0.051035619 & -0.140256503 &  0.044454353 & -0.006639806 &  0.09305954 & -0.003192373 & -0.0045237543 &  0.137433439 &  0.077593259 & -0.007766531\\\\\n",
       "\tGlobalSales &  0.6403806601 &  0.75840015 &  0.492128020 &  0.805982922 &  1.00000000 &  0.025021039 & -0.044245685 & -0.025742523 & -0.157973406 &  0.058422229 &  0.045971230 &  0.05427680 &  0.024911149 &  0.0175683889 &  0.126489943 &  0.046599291 &  0.025121083\\\\\n",
       "\tVGScore &  0.0266392696 &  0.01201347 & -0.040768009 &  0.047366989 &  0.02502104 &  1.000000000 & -0.001479083 &  0.029533513 & -0.106223990 & -0.013214673 & -0.031923779 &  0.32421684 & -0.037469593 & -0.0501190076 & -0.013242352 & -0.011791073 & -0.035452828\\\\\n",
       "\tCriticScore &  0.0644103545 & -0.04213592 & -0.097819963 & -0.053168990 & -0.04424568 & -0.001479083 &  1.000000000 &  0.015334593 & -0.008152876 &  0.002176961 &  0.145933358 &  0.01701733 & -0.018201560 & -0.0148827175 & -0.031171091 & -0.024318453 & -0.018955547\\\\\n",
       "\tUserScore & -0.0285082247 &  0.01488178 &  0.016272838 & -0.051035619 & -0.02574252 &  0.029533513 &  0.015334593 &  1.000000000 & -0.027644033 &  0.041219121 &  0.005761414 &  0.01386281 & -0.001749519 & -0.0098186593 & -0.025940060 & -0.049487987 & -0.001799183\\\\\n",
       "\tTotalShipped & -0.1058626818 & -0.11523496 & -0.022109370 & -0.140256503 & -0.15797341 & -0.106223990 & -0.008152876 & -0.027644033 &  1.000000000 &  0.055347674 & -0.031274203 & -0.21895935 &  0.055684232 &  0.0522729703 & -0.025544642 & -0.010844244 &  0.053048345\\\\\n",
       "\tProductionCost &  0.0466175287 &  0.04529811 &  0.035296778 &  0.044454353 &  0.05842223 & -0.013214673 &  0.002176961 &  0.041219121 &  0.055347674 &  1.000000000 &  0.015332533 & -0.02812523 &  0.024793400 &  0.0231041987 &  0.030703514 &  0.017522206 &  0.023795383\\\\\n",
       "\tMetaScore &  0.0195662066 &  0.01916687 & -0.017783725 & -0.006639806 &  0.04597123 & -0.031923779 &  0.145933358 &  0.005761414 & -0.031274203 &  0.015332533 &  1.000000000 & -0.11784444 & -0.036274891 & -0.0345531784 & -0.068219149 & -0.003629619 & -0.031867584\\\\\n",
       "\tReleaseYear &  0.0636143769 &  0.09095066 & -0.086297955 &  0.093059543 &  0.05427680 &  0.324216837 &  0.017017328 &  0.013862811 & -0.218959353 & -0.028125227 & -0.117844445 &  1.00000000 & -0.110442031 & -0.1108245310 &  0.022316453 & -0.048695006 & -0.111815269\\\\\n",
       "\tReleaseMonth &  0.0127188766 &  0.06132965 & -0.008542279 & -0.003192373 &  0.02491115 & -0.037469593 & -0.018201560 & -0.001749519 &  0.055684232 &  0.024793400 & -0.036274891 & -0.11044203 &  1.000000000 &  0.9730150247 &  0.007942722 & -0.024730586 &  0.995925589\\\\\n",
       "\tReleaseQuarter &  0.0004890956 &  0.05517633 & -0.022688111 & -0.004523754 &  0.01756839 & -0.050119008 & -0.014882718 & -0.009818659 &  0.052272970 &  0.023104199 & -0.034553178 & -0.11082453 &  0.973015025 &  1.0000000000 &  0.017708823 & -0.029990637 &  0.969916471\\\\\n",
       "\tReleaseWeekDay &  0.0401867331 &  0.13439718 &  0.028506750 &  0.137433439 &  0.12648994 & -0.013242352 & -0.031171091 & -0.025940060 & -0.025544642 &  0.030703514 & -0.068219149 &  0.02231645 &  0.007942722 &  0.0177088227 &  1.000000000 &  0.516240593 & -0.004898080\\\\\n",
       "\tReleaseWeekend & -0.0078126553 &  0.04904529 &  0.006761485 &  0.077593259 &  0.04659929 & -0.011791073 & -0.024318453 & -0.049487987 & -0.010844244 &  0.017522206 & -0.003629619 & -0.04869501 & -0.024730586 & -0.0299906374 &  0.516240593 &  1.000000000 & -0.038015995\\\\\n",
       "\tReleaseWeek &  0.0126720118 &  0.06073190 & -0.004632791 & -0.007766531 &  0.02512108 & -0.035452828 & -0.018955547 & -0.001799183 &  0.053048345 &  0.023795383 & -0.031867584 & -0.11181527 &  0.995925589 &  0.9699164714 & -0.004898080 & -0.038015995 &  1.000000000\\\\\n",
       "\\end{tabular}\n"
      ],
      "text/markdown": [
       "\n",
       "A matrix: 17 × 17 of type dbl\n",
       "\n",
       "| <!--/--> | AsianSales | NorthAmericaSales | JapanSales | EuropeSales | GlobalSales | VGScore | CriticScore | UserScore | TotalShipped | ProductionCost | MetaScore | ReleaseYear | ReleaseMonth | ReleaseQuarter | ReleaseWeekDay | ReleaseWeekend | ReleaseWeek |\n",
       "|---|---|---|---|---|---|---|---|---|---|---|---|---|---|---|---|---|---|\n",
       "| AsianSales |  1.0000000000 |  0.36802766 |  0.125414456 |  0.426378638 |  0.64038066 |  0.026639270 |  0.064410354 | -0.028508225 | -0.105862682 |  0.046617529 |  0.019566207 |  0.06361438 |  0.012718877 |  0.0004890956 |  0.040186733 | -0.007812655 |  0.012672012 |\n",
       "| NorthAmericaSales |  0.3680276630 |  1.00000000 |  0.219807060 |  0.486340136 |  0.75840015 |  0.012013469 | -0.042135921 |  0.014881783 | -0.115234956 |  0.045298112 |  0.019166869 |  0.09095066 |  0.061329651 |  0.0551763346 |  0.134397182 |  0.049045293 |  0.060731905 |\n",
       "| JapanSales |  0.1254144561 |  0.21980706 |  1.000000000 |  0.197045967 |  0.49212802 | -0.040768009 | -0.097819963 |  0.016272838 | -0.022109370 |  0.035296778 | -0.017783725 | -0.08629796 | -0.008542279 | -0.0226881112 |  0.028506750 |  0.006761485 | -0.004632791 |\n",
       "| EuropeSales |  0.4263786381 |  0.48634014 |  0.197045967 |  1.000000000 |  0.80598292 |  0.047366989 | -0.053168990 | -0.051035619 | -0.140256503 |  0.044454353 | -0.006639806 |  0.09305954 | -0.003192373 | -0.0045237543 |  0.137433439 |  0.077593259 | -0.007766531 |\n",
       "| GlobalSales |  0.6403806601 |  0.75840015 |  0.492128020 |  0.805982922 |  1.00000000 |  0.025021039 | -0.044245685 | -0.025742523 | -0.157973406 |  0.058422229 |  0.045971230 |  0.05427680 |  0.024911149 |  0.0175683889 |  0.126489943 |  0.046599291 |  0.025121083 |\n",
       "| VGScore |  0.0266392696 |  0.01201347 | -0.040768009 |  0.047366989 |  0.02502104 |  1.000000000 | -0.001479083 |  0.029533513 | -0.106223990 | -0.013214673 | -0.031923779 |  0.32421684 | -0.037469593 | -0.0501190076 | -0.013242352 | -0.011791073 | -0.035452828 |\n",
       "| CriticScore |  0.0644103545 | -0.04213592 | -0.097819963 | -0.053168990 | -0.04424568 | -0.001479083 |  1.000000000 |  0.015334593 | -0.008152876 |  0.002176961 |  0.145933358 |  0.01701733 | -0.018201560 | -0.0148827175 | -0.031171091 | -0.024318453 | -0.018955547 |\n",
       "| UserScore | -0.0285082247 |  0.01488178 |  0.016272838 | -0.051035619 | -0.02574252 |  0.029533513 |  0.015334593 |  1.000000000 | -0.027644033 |  0.041219121 |  0.005761414 |  0.01386281 | -0.001749519 | -0.0098186593 | -0.025940060 | -0.049487987 | -0.001799183 |\n",
       "| TotalShipped | -0.1058626818 | -0.11523496 | -0.022109370 | -0.140256503 | -0.15797341 | -0.106223990 | -0.008152876 | -0.027644033 |  1.000000000 |  0.055347674 | -0.031274203 | -0.21895935 |  0.055684232 |  0.0522729703 | -0.025544642 | -0.010844244 |  0.053048345 |\n",
       "| ProductionCost |  0.0466175287 |  0.04529811 |  0.035296778 |  0.044454353 |  0.05842223 | -0.013214673 |  0.002176961 |  0.041219121 |  0.055347674 |  1.000000000 |  0.015332533 | -0.02812523 |  0.024793400 |  0.0231041987 |  0.030703514 |  0.017522206 |  0.023795383 |\n",
       "| MetaScore |  0.0195662066 |  0.01916687 | -0.017783725 | -0.006639806 |  0.04597123 | -0.031923779 |  0.145933358 |  0.005761414 | -0.031274203 |  0.015332533 |  1.000000000 | -0.11784444 | -0.036274891 | -0.0345531784 | -0.068219149 | -0.003629619 | -0.031867584 |\n",
       "| ReleaseYear |  0.0636143769 |  0.09095066 | -0.086297955 |  0.093059543 |  0.05427680 |  0.324216837 |  0.017017328 |  0.013862811 | -0.218959353 | -0.028125227 | -0.117844445 |  1.00000000 | -0.110442031 | -0.1108245310 |  0.022316453 | -0.048695006 | -0.111815269 |\n",
       "| ReleaseMonth |  0.0127188766 |  0.06132965 | -0.008542279 | -0.003192373 |  0.02491115 | -0.037469593 | -0.018201560 | -0.001749519 |  0.055684232 |  0.024793400 | -0.036274891 | -0.11044203 |  1.000000000 |  0.9730150247 |  0.007942722 | -0.024730586 |  0.995925589 |\n",
       "| ReleaseQuarter |  0.0004890956 |  0.05517633 | -0.022688111 | -0.004523754 |  0.01756839 | -0.050119008 | -0.014882718 | -0.009818659 |  0.052272970 |  0.023104199 | -0.034553178 | -0.11082453 |  0.973015025 |  1.0000000000 |  0.017708823 | -0.029990637 |  0.969916471 |\n",
       "| ReleaseWeekDay |  0.0401867331 |  0.13439718 |  0.028506750 |  0.137433439 |  0.12648994 | -0.013242352 | -0.031171091 | -0.025940060 | -0.025544642 |  0.030703514 | -0.068219149 |  0.02231645 |  0.007942722 |  0.0177088227 |  1.000000000 |  0.516240593 | -0.004898080 |\n",
       "| ReleaseWeekend | -0.0078126553 |  0.04904529 |  0.006761485 |  0.077593259 |  0.04659929 | -0.011791073 | -0.024318453 | -0.049487987 | -0.010844244 |  0.017522206 | -0.003629619 | -0.04869501 | -0.024730586 | -0.0299906374 |  0.516240593 |  1.000000000 | -0.038015995 |\n",
       "| ReleaseWeek |  0.0126720118 |  0.06073190 | -0.004632791 | -0.007766531 |  0.02512108 | -0.035452828 | -0.018955547 | -0.001799183 |  0.053048345 |  0.023795383 | -0.031867584 | -0.11181527 |  0.995925589 |  0.9699164714 | -0.004898080 | -0.038015995 |  1.000000000 |\n",
       "\n"
      ],
      "text/plain": [
       "                  AsianSales    NorthAmericaSales JapanSales   EuropeSales \n",
       "AsianSales         1.0000000000  0.36802766        0.125414456  0.426378638\n",
       "NorthAmericaSales  0.3680276630  1.00000000        0.219807060  0.486340136\n",
       "JapanSales         0.1254144561  0.21980706        1.000000000  0.197045967\n",
       "EuropeSales        0.4263786381  0.48634014        0.197045967  1.000000000\n",
       "GlobalSales        0.6403806601  0.75840015        0.492128020  0.805982922\n",
       "VGScore            0.0266392696  0.01201347       -0.040768009  0.047366989\n",
       "CriticScore        0.0644103545 -0.04213592       -0.097819963 -0.053168990\n",
       "UserScore         -0.0285082247  0.01488178        0.016272838 -0.051035619\n",
       "TotalShipped      -0.1058626818 -0.11523496       -0.022109370 -0.140256503\n",
       "ProductionCost     0.0466175287  0.04529811        0.035296778  0.044454353\n",
       "MetaScore          0.0195662066  0.01916687       -0.017783725 -0.006639806\n",
       "ReleaseYear        0.0636143769  0.09095066       -0.086297955  0.093059543\n",
       "ReleaseMonth       0.0127188766  0.06132965       -0.008542279 -0.003192373\n",
       "ReleaseQuarter     0.0004890956  0.05517633       -0.022688111 -0.004523754\n",
       "ReleaseWeekDay     0.0401867331  0.13439718        0.028506750  0.137433439\n",
       "ReleaseWeekend    -0.0078126553  0.04904529        0.006761485  0.077593259\n",
       "ReleaseWeek        0.0126720118  0.06073190       -0.004632791 -0.007766531\n",
       "                  GlobalSales VGScore      CriticScore  UserScore   \n",
       "AsianSales         0.64038066  0.026639270  0.064410354 -0.028508225\n",
       "NorthAmericaSales  0.75840015  0.012013469 -0.042135921  0.014881783\n",
       "JapanSales         0.49212802 -0.040768009 -0.097819963  0.016272838\n",
       "EuropeSales        0.80598292  0.047366989 -0.053168990 -0.051035619\n",
       "GlobalSales        1.00000000  0.025021039 -0.044245685 -0.025742523\n",
       "VGScore            0.02502104  1.000000000 -0.001479083  0.029533513\n",
       "CriticScore       -0.04424568 -0.001479083  1.000000000  0.015334593\n",
       "UserScore         -0.02574252  0.029533513  0.015334593  1.000000000\n",
       "TotalShipped      -0.15797341 -0.106223990 -0.008152876 -0.027644033\n",
       "ProductionCost     0.05842223 -0.013214673  0.002176961  0.041219121\n",
       "MetaScore          0.04597123 -0.031923779  0.145933358  0.005761414\n",
       "ReleaseYear        0.05427680  0.324216837  0.017017328  0.013862811\n",
       "ReleaseMonth       0.02491115 -0.037469593 -0.018201560 -0.001749519\n",
       "ReleaseQuarter     0.01756839 -0.050119008 -0.014882718 -0.009818659\n",
       "ReleaseWeekDay     0.12648994 -0.013242352 -0.031171091 -0.025940060\n",
       "ReleaseWeekend     0.04659929 -0.011791073 -0.024318453 -0.049487987\n",
       "ReleaseWeek        0.02512108 -0.035452828 -0.018955547 -0.001799183\n",
       "                  TotalShipped ProductionCost MetaScore    ReleaseYear\n",
       "AsianSales        -0.105862682  0.046617529    0.019566207  0.06361438\n",
       "NorthAmericaSales -0.115234956  0.045298112    0.019166869  0.09095066\n",
       "JapanSales        -0.022109370  0.035296778   -0.017783725 -0.08629796\n",
       "EuropeSales       -0.140256503  0.044454353   -0.006639806  0.09305954\n",
       "GlobalSales       -0.157973406  0.058422229    0.045971230  0.05427680\n",
       "VGScore           -0.106223990 -0.013214673   -0.031923779  0.32421684\n",
       "CriticScore       -0.008152876  0.002176961    0.145933358  0.01701733\n",
       "UserScore         -0.027644033  0.041219121    0.005761414  0.01386281\n",
       "TotalShipped       1.000000000  0.055347674   -0.031274203 -0.21895935\n",
       "ProductionCost     0.055347674  1.000000000    0.015332533 -0.02812523\n",
       "MetaScore         -0.031274203  0.015332533    1.000000000 -0.11784444\n",
       "ReleaseYear       -0.218959353 -0.028125227   -0.117844445  1.00000000\n",
       "ReleaseMonth       0.055684232  0.024793400   -0.036274891 -0.11044203\n",
       "ReleaseQuarter     0.052272970  0.023104199   -0.034553178 -0.11082453\n",
       "ReleaseWeekDay    -0.025544642  0.030703514   -0.068219149  0.02231645\n",
       "ReleaseWeekend    -0.010844244  0.017522206   -0.003629619 -0.04869501\n",
       "ReleaseWeek        0.053048345  0.023795383   -0.031867584 -0.11181527\n",
       "                  ReleaseMonth ReleaseQuarter ReleaseWeekDay ReleaseWeekend\n",
       "AsianSales         0.012718877  0.0004890956   0.040186733   -0.007812655  \n",
       "NorthAmericaSales  0.061329651  0.0551763346   0.134397182    0.049045293  \n",
       "JapanSales        -0.008542279 -0.0226881112   0.028506750    0.006761485  \n",
       "EuropeSales       -0.003192373 -0.0045237543   0.137433439    0.077593259  \n",
       "GlobalSales        0.024911149  0.0175683889   0.126489943    0.046599291  \n",
       "VGScore           -0.037469593 -0.0501190076  -0.013242352   -0.011791073  \n",
       "CriticScore       -0.018201560 -0.0148827175  -0.031171091   -0.024318453  \n",
       "UserScore         -0.001749519 -0.0098186593  -0.025940060   -0.049487987  \n",
       "TotalShipped       0.055684232  0.0522729703  -0.025544642   -0.010844244  \n",
       "ProductionCost     0.024793400  0.0231041987   0.030703514    0.017522206  \n",
       "MetaScore         -0.036274891 -0.0345531784  -0.068219149   -0.003629619  \n",
       "ReleaseYear       -0.110442031 -0.1108245310   0.022316453   -0.048695006  \n",
       "ReleaseMonth       1.000000000  0.9730150247   0.007942722   -0.024730586  \n",
       "ReleaseQuarter     0.973015025  1.0000000000   0.017708823   -0.029990637  \n",
       "ReleaseWeekDay     0.007942722  0.0177088227   1.000000000    0.516240593  \n",
       "ReleaseWeekend    -0.024730586 -0.0299906374   0.516240593    1.000000000  \n",
       "ReleaseWeek        0.995925589  0.9699164714  -0.004898080   -0.038015995  \n",
       "                  ReleaseWeek \n",
       "AsianSales         0.012672012\n",
       "NorthAmericaSales  0.060731905\n",
       "JapanSales        -0.004632791\n",
       "EuropeSales       -0.007766531\n",
       "GlobalSales        0.025121083\n",
       "VGScore           -0.035452828\n",
       "CriticScore       -0.018955547\n",
       "UserScore         -0.001799183\n",
       "TotalShipped       0.053048345\n",
       "ProductionCost     0.023795383\n",
       "MetaScore         -0.031867584\n",
       "ReleaseYear       -0.111815269\n",
       "ReleaseMonth       0.995925589\n",
       "ReleaseQuarter     0.969916471\n",
       "ReleaseWeekDay    -0.004898080\n",
       "ReleaseWeekend    -0.038015995\n",
       "ReleaseWeek        1.000000000"
      ]
     },
     "metadata": {},
     "output_type": "display_data"
    }
   ],
   "source": [
    "# Extract the numerical predictor variables from your data\n",
    "numerical <- data[, c(\"AsianSales\", \"NorthAmericaSales\", \"JapanSales\", \"EuropeSales\", \"GlobalSales\",\n",
    "                    \"VGScore\", \"CriticScore\", \"UserScore\", \"TotalShipped\", \"ProductionCost\", \n",
    "                    \"MetaScore\", \"ReleaseYear\", \"ReleaseMonth\", \"ReleaseQuarter\", \"ReleaseWeekDay\", \"ReleaseWeekend\", \"ReleaseWeek\")]\n",
    "\n",
    "# Identify collinear variables\n",
    "cor_matrix <- cor(numerical)\n",
    "cor_matrix "
   ]
  },
  {
   "cell_type": "code",
   "execution_count": 111,
   "metadata": {
    "vscode": {
     "languageId": "r"
    }
   },
   "outputs": [
    {
     "data": {
      "image/png": "[encoded data removed]",
      "text/plain": [
       "plot without title"
      ]
     },
     "metadata": {
      "image/png": {
       "height": 420,
       "width": 420
      }
     },
     "output_type": "display_data"
    }
   ],
   "source": [
    "# Reshape the correlation matrix for plotting\n",
    "cor_melted <- melt(cor_matrix)\n",
    "\n",
    "# Plotting the heatmap using ggplot\n",
    "ggplot(cor_melted, aes(Var1, Var2, fill = value)) +\n",
    "  geom_tile() +\n",
    "  scale_fill_gradient(low = \"#1b1bbd\", high = \"orange\") +\n",
    "  labs(title = \"Correlation Heatmap\", x = \"Variables\", y = \"Variables\") +\n",
    "  theme(axis.text.x = element_text(angle = 45, hjust = 1))\n"
   ]
  },
  {
   "cell_type": "code",
   "execution_count": 112,
   "metadata": {
    "vscode": {
     "languageId": "r"
    }
   },
   "outputs": [
    {
     "name": "stderr",
     "output_type": "stream",
     "text": [
      "Warning message in chisq.test(cross_tab):\n",
      "\"Chi-squared approximation may be incorrect\"\n",
      "Warning message in chisq.test(cross_tab):\n",
      "\"Chi-squared approximation may be incorrect\"\n",
      "Warning message in chisq.test(cross_tab):\n",
      "\"Chi-squared approximation may be incorrect\"\n",
      "Warning message in chisq.test(cross_tab):\n",
      "\"Chi-squared approximation may be incorrect\"\n",
      "Warning message in chisq.test(cross_tab):\n",
      "\"Chi-squared approximation may be incorrect\"\n",
      "Warning message in chisq.test(cross_tab):\n",
      "\"Chi-squared approximation may be incorrect\"\n",
      "Warning message in chisq.test(cross_tab):\n",
      "\"Chi-squared approximation may be incorrect\"\n",
      "Warning message in chisq.test(cross_tab):\n",
      "\"Chi-squared approximation may be incorrect\"\n",
      "Warning message in chisq.test(cross_tab):\n",
      "\"Chi-squared approximation may be incorrect\"\n",
      "Warning message in chisq.test(cross_tab):\n",
      "\"Chi-squared approximation may be incorrect\"\n",
      "Warning message in chisq.test(cross_tab):\n",
      "\"Chi-squared approximation may be incorrect\"\n",
      "Warning message in chisq.test(cross_tab):\n",
      "\"Chi-squared approximation may be incorrect\"\n",
      "Warning message in chisq.test(cross_tab):\n",
      "\"Chi-squared approximation may be incorrect\"\n",
      "Warning message in chisq.test(cross_tab):\n",
      "\"Chi-squared approximation may be incorrect\"\n",
      "Warning message in chisq.test(cross_tab):\n",
      "\"Chi-squared approximation may be incorrect\"\n",
      "Warning message in chisq.test(cross_tab):\n",
      "\"Chi-squared approximation may be incorrect\"\n",
      "Warning message in chisq.test(cross_tab):\n",
      "\"Chi-squared approximation may be incorrect\"\n",
      "Warning message in chisq.test(cross_tab):\n",
      "\"Chi-squared approximation may be incorrect\"\n",
      "Warning message in chisq.test(cross_tab):\n",
      "\"Chi-squared approximation may be incorrect\"\n",
      "Warning message in chisq.test(cross_tab):\n",
      "\"Chi-squared approximation may be incorrect\"\n",
      "Warning message in chisq.test(cross_tab):\n",
      "\"Chi-squared approximation may be incorrect\"\n",
      "Warning message in chisq.test(cross_tab):\n",
      "\"Chi-squared approximation may be incorrect\"\n",
      "Warning message in chisq.test(cross_tab):\n",
      "\"Chi-squared approximation may be incorrect\"\n",
      "Warning message in chisq.test(cross_tab):\n",
      "\"Chi-squared approximation may be incorrect\"\n"
     ]
    },
    {
     "name": "stderr",
     "output_type": "stream",
     "text": [
      "Warning message in chisq.test(cross_tab):\n",
      "\"Chi-squared approximation may be incorrect\"\n",
      "Warning message in chisq.test(cross_tab):\n",
      "\"Chi-squared approximation may be incorrect\"\n"
     ]
    },
    {
     "name": "stdout",
     "output_type": "stream",
     "text": [
      "                       Platform         Genre    Publisher     Developer\n",
      "Platform                     NA  1.146150e-36 4.098947e-01  5.851350e-30\n",
      "Genre              1.146150e-36            NA 7.173637e-02 3.481961e-207\n",
      "Publisher          4.098947e-01  7.173637e-02           NA  6.627394e-09\n",
      "Developer          5.851350e-30 3.481961e-207 6.627394e-09            NA\n",
      "NoOfPlayers        8.067939e-47  1.838731e-40 7.393081e-01  3.024689e-07\n",
      "EndOfMonth         2.692597e-01  1.471296e-01 1.672091e-01  8.913350e-02\n",
      "TopDeveloper_Count 1.154608e-13 1.462085e-117 5.837365e-21  0.000000e+00\n",
      "TopDeveloper_Sum   1.660058e-28 1.244600e-100 2.362041e-20  0.000000e+00\n",
      "                    NoOfPlayers  EndOfMonth TopDeveloper_Count TopDeveloper_Sum\n",
      "Platform           8.067939e-47 0.269259694       1.154608e-13     1.660058e-28\n",
      "Genre              1.838731e-40 0.147129613      1.462085e-117    1.244600e-100\n",
      "Publisher          7.393081e-01 0.167209124       5.837365e-21     2.362041e-20\n",
      "Developer          3.024689e-07 0.089133497       0.000000e+00     0.000000e+00\n",
      "NoOfPlayers                  NA 0.838600097       4.432302e-14     8.162158e-17\n",
      "EndOfMonth         8.386001e-01          NA       6.262209e-03     3.495869e-03\n",
      "TopDeveloper_Count 4.432302e-14 0.006262209                 NA     0.000000e+00\n",
      "TopDeveloper_Sum   8.162158e-17 0.003495869       0.000000e+00               NA\n"
     ]
    }
   ],
   "source": [
    "# Select the categorical variables to compare\n",
    "categorical_variables <- data[, c(\"Platform\", \"Genre\", \"Publisher\", \"Developer\", \"NoOfPlayers\", \"EndOfMonth\", \"TopDeveloper_Count\", \"TopDeveloper_Sum\")]\n",
    "\n",
    "# Create an empty matrix to store p-values from chi-square tests\n",
    "p_values_matrix <- matrix(NA, nrow = ncol(categorical_variables), ncol = ncol(categorical_variables))\n",
    "rownames(p_values_matrix) <- colnames(p_values_matrix) <- names(categorical_variables)\n",
    "\n",
    "# Perform chi-square tests for all pairs of categorical variables\n",
    "for (i in 1:(ncol(categorical_variables) - 1)) {\n",
    "  for (j in (i + 1):ncol(categorical_variables)) {\n",
    "    cross_tab <- table(categorical_variables[, i], categorical_variables[, j])\n",
    "    chi_square_test <- chisq.test(cross_tab)\n",
    "    p_values_matrix[i, j] <- p_values_matrix[j, i] <- chi_square_test$p.value\n",
    "  }\n",
    "}\n",
    "\n",
    "# Print or view the p-values matrix\n",
    "print(p_values_matrix)"
   ]
  },
  {
   "cell_type": "code",
   "execution_count": 113,
   "metadata": {
    "vscode": {
     "languageId": "r"
    }
   },
   "outputs": [
    {
     "data": {
      "image/png": "[encoded data removed]",
      "text/plain": [
       "plot without title"
      ]
     },
     "metadata": {
      "image/png": {
       "height": 420,
       "width": 420
      }
     },
     "output_type": "display_data"
    }
   ],
   "source": [
    "# Reshape the p-values matrix for plotting\n",
    "p_values_df <- reshape2::melt(p_values_matrix)\n",
    "\n",
    "# Plotting the heatmap of p-values\n",
    "ggplot(p_values_df, aes(Var1, Var2, fill = value)) +\n",
    "  geom_tile() +\n",
    "  scale_fill_gradient(low = \"blue\", high = \"orange\") +\n",
    "  labs(title = \"Chi-square Test P-values Heatmap\", x = \"Variables\", y = \"Variables\")"
   ]
  },
  {
   "cell_type": "markdown",
   "metadata": {},
   "source": [
    "Split Training and Testing Dataset"
   ]
  },
  {
   "cell_type": "code",
   "execution_count": 267,
   "metadata": {
    "vscode": {
     "languageId": "r"
    }
   },
   "outputs": [],
   "source": [
    "########################################################\n",
    "# Split into 80-20 training-testing dataset\n",
    "\n",
    "# Set a random seed for reproducibility\n",
    "set.seed(123)\n",
    "\n",
    "# Split the data into a training set (80%) and a test set (20%)\n",
    "split <- sample.split(data$SqRtGlobalSales, SplitRatio = 0.8)\n",
    "training_data <- subset(data, split == TRUE)\n",
    "test_data <- subset(data, split == FALSE)"
   ]
  },
  {
   "cell_type": "markdown",
   "metadata": {},
   "source": [
    "Build LM model"
   ]
  },
  {
   "cell_type": "code",
   "execution_count": 115,
   "metadata": {
    "vscode": {
     "languageId": "r"
    }
   },
   "outputs": [
    {
     "data": {
      "text/plain": [
       "\n",
       "Call:\n",
       "lm(formula = SqRtGlobalSales ~ . - AsianSales - NorthAmericaSales - \n",
       "    JapanSales - EuropeSales - TotalShipped - GlobalSales - LogGlobalSales - \n",
       "    AvgUserScore - MultipleGenre - Title - Developer - TopDeveloper_Count, \n",
       "    data = training_data)\n",
       "\n",
       "Residuals:\n",
       "     Min       1Q   Median       3Q      Max \n",
       "-2.10218 -0.53362  0.02572  0.56736  2.61220 \n",
       "\n",
       "Coefficients:\n",
       "                                       Estimate Std. Error t value Pr(>|t|)    \n",
       "(Intercept)                          -1.620e+01  3.898e+01  -0.416 0.677896    \n",
       "PlatformPC                            1.710e+00  1.733e-01   9.868  < 2e-16 ***\n",
       "PlatformPS                            9.007e-01  2.842e-01   3.170 0.001604 ** \n",
       "PlatformPS2                           5.124e-01  1.831e-01   2.799 0.005285 ** \n",
       "PlatformPS3                           6.286e-01  1.928e-01   3.260 0.001177 ** \n",
       "PlatformPS4                           4.649e-01  2.353e-01   1.975 0.048700 *  \n",
       "GenreBoard Game                      -1.109e+00  8.590e-01  -1.291 0.197291    \n",
       "GenreFighting                        -6.077e-01  1.805e-01  -3.366 0.000811 ***\n",
       "GenrePuzzle                          -1.162e-01  1.910e-01  -0.608 0.543256    \n",
       "GenreRacing                          -2.583e-01  1.519e-01  -1.700 0.089685 .  \n",
       "GenreShooter                         -4.361e-01  1.283e-01  -3.398 0.000723 ***\n",
       "GenreSimulation                      -4.834e-01  1.529e-01  -3.161 0.001648 ** \n",
       "GenreSports                          -5.304e-01  1.508e-01  -3.519 0.000467 ***\n",
       "PublisherAmazon Game Studios         -2.096e-01  1.536e-01  -1.364 0.173031    \n",
       "PublisherElectronic Arts             -2.280e-01  1.084e-01  -2.103 0.035854 *  \n",
       "PublisherFrontier Developments       -2.004e-02  1.189e-01  -0.169 0.866136    \n",
       "PublisherIBM                          8.199e-02  1.530e-01   0.536 0.592344    \n",
       "PublisherOmega                       -9.926e-02  1.457e-01  -0.681 0.495942    \n",
       "PublisherSony Computer Entertainment -1.619e-01  1.282e-01  -1.263 0.207120    \n",
       "PublisherUbisoft                     -1.386e-01  1.209e-01  -1.147 0.252029    \n",
       "VGScore                               1.669e-02  1.340e-02   1.246 0.213382    \n",
       "CriticScore                          -1.496e-02  1.252e-02  -1.195 0.232542    \n",
       "UserScore                            -2.177e-02  1.173e-02  -1.856 0.063876 .  \n",
       "ProductionCost                       -8.025e-04  1.939e-02  -0.041 0.966992    \n",
       "MetaScore                             2.094e-02  8.147e-03   2.571 0.010383 *  \n",
       "NoOfPlayers1                         -3.523e-01  8.575e-01  -0.411 0.681337    \n",
       "NoOfPlayers1 to 2                    -1.377e-01  8.645e-01  -0.159 0.873473    \n",
       "NoOfPlayers1 to 4                    -2.201e-01  8.661e-01  -0.254 0.799450    \n",
       "NoOfPlayers1 to 8                    -6.177e-01  8.944e-01  -0.691 0.490025    \n",
       "NoOfPlayersMutliplayer               -2.056e-01  8.611e-01  -0.239 0.811375    \n",
       "ReleaseDate                          -6.660e-06  4.488e-05  -0.148 0.882070    \n",
       "ReleaseYear                           5.489e-03  9.760e-03   0.562 0.574049    \n",
       "ReleaseMonth                          2.630e-01  4.626e-01   0.569 0.569868    \n",
       "EndOfMonthYes                         1.819e-01  1.239e-01   1.469 0.142448    \n",
       "ReleaseQuarter                       -7.716e-02  1.301e-01  -0.593 0.553176    \n",
       "ReleaseWeekDay                        2.505e-02  3.236e-02   0.774 0.439106    \n",
       "ReleaseWeekend                        3.600e-01  2.473e-01   1.456 0.145960    \n",
       "ReleaseWeek                          -5.257e-02  1.060e-01  -0.496 0.620158    \n",
       "TopDeveloper_SumElectronic Arts       8.692e-01  2.481e-01   3.503 0.000494 ***\n",
       "TopDeveloper_SumKCET                  1.191e+00  3.838e-01   3.104 0.001998 ** \n",
       "TopDeveloper_SumMaxis                 1.830e-01  3.716e-01   0.492 0.622580    \n",
       "TopDeveloper_SumNamco                 1.046e+00  3.546e-01   2.951 0.003295 ** \n",
       "TopDeveloper_SumNintendo              2.571e+00  4.478e-01   5.743 1.48e-08 ***\n",
       "TopDeveloper_SumOthers                6.915e-01  2.290e-01   3.019 0.002640 ** \n",
       "TopDeveloper_SumSportsInteractive     7.694e-01  3.618e-01   2.127 0.033864 *  \n",
       "TopDeveloper_SumUbisoft               5.147e-01  3.579e-01   1.438 0.150915    \n",
       "TopDeveloper_SumValveSoftware         1.031e+00  4.238e-01   2.432 0.015316 *  \n",
       "TopDeveloper_SumVisualConcepts        5.239e-01  3.469e-01   1.510 0.131471    \n",
       "---\n",
       "Signif. codes:  0 '***' 0.001 '**' 0.01 '*' 0.05 '.' 0.1 ' ' 1\n",
       "\n",
       "Residual standard error: 0.8323 on 604 degrees of freedom\n",
       "Multiple R-squared:  0.4029,\tAdjusted R-squared:  0.3564 \n",
       "F-statistic: 8.671 on 47 and 604 DF,  p-value: < 2.2e-16\n"
      ]
     },
     "metadata": {},
     "output_type": "display_data"
    }
   ],
   "source": [
    "########################################################\n",
    "# Build LM model\n",
    "\n",
    "lm_model1 = lm(SqRtGlobalSales ~ . - AsianSales - NorthAmericaSales - JapanSales - EuropeSales - TotalShipped - GlobalSales - LogGlobalSales\n",
    "                - AvgUserScore - MultipleGenre - Title - Developer - TopDeveloper_Count , data = training_data)\n",
    "summary(lm_model1)"
   ]
  },
  {
   "cell_type": "code",
   "execution_count": 116,
   "metadata": {
    "vscode": {
     "languageId": "r"
    }
   },
   "outputs": [
    {
     "data": {
      "text/plain": [
       "\n",
       "Call:\n",
       "lm(formula = SqRtGlobalSales ~ . - AsianSales - NorthAmericaSales - \n",
       "    JapanSales - EuropeSales - TotalShipped - GlobalSales - LogGlobalSales - \n",
       "    AvgUserScore - MultipleGenre - Title - Developer - TopDeveloper_Sum, \n",
       "    data = training_data)\n",
       "\n",
       "Residuals:\n",
       "     Min       1Q   Median       3Q      Max \n",
       "-2.15284 -0.54008  0.03962  0.54839  2.56729 \n",
       "\n",
       "Coefficients:\n",
       "                                       Estimate Std. Error t value Pr(>|t|)    \n",
       "(Intercept)                          -9.367e+00  3.932e+01  -0.238 0.811816    \n",
       "PlatformPC                            1.365e+00  1.654e-01   8.258 9.38e-16 ***\n",
       "PlatformPS                            5.451e-01  2.817e-01   1.935 0.053489 .  \n",
       "PlatformPS2                           1.305e-01  1.747e-01   0.747 0.455111    \n",
       "PlatformPS3                           2.581e-01  1.859e-01   1.388 0.165565    \n",
       "PlatformPS4                           1.234e-01  2.308e-01   0.535 0.592877    \n",
       "GenreBoard Game                      -1.148e+00  8.678e-01  -1.323 0.186300    \n",
       "GenreFighting                        -5.505e-01  1.845e-01  -2.984 0.002960 ** \n",
       "GenrePuzzle                          -2.251e-01  1.936e-01  -1.163 0.245477    \n",
       "GenreRacing                          -2.912e-01  1.538e-01  -1.894 0.058769 .  \n",
       "GenreShooter                         -4.804e-01  1.297e-01  -3.704 0.000232 ***\n",
       "GenreSimulation                      -5.118e-01  1.551e-01  -3.299 0.001027 ** \n",
       "GenreSports                          -5.505e-01  1.534e-01  -3.588 0.000361 ***\n",
       "PublisherAmazon Game Studios         -1.838e-01  1.550e-01  -1.186 0.236098    \n",
       "PublisherElectronic Arts             -1.817e-01  1.099e-01  -1.653 0.098754 .  \n",
       "PublisherFrontier Developments       -6.878e-03  1.202e-01  -0.057 0.954383    \n",
       "PublisherIBM                          9.111e-02  1.550e-01   0.588 0.556912    \n",
       "PublisherOmega                       -1.137e-01  1.481e-01  -0.768 0.442783    \n",
       "PublisherSony Computer Entertainment -1.585e-01  1.295e-01  -1.224 0.221534    \n",
       "PublisherUbisoft                     -1.404e-01  1.220e-01  -1.150 0.250449    \n",
       "VGScore                               1.764e-02  1.352e-02   1.305 0.192455    \n",
       "CriticScore                          -1.079e-02  1.264e-02  -0.854 0.393648    \n",
       "UserScore                            -1.690e-02  1.184e-02  -1.427 0.153983    \n",
       "ProductionCost                       -2.870e-04  1.958e-02  -0.015 0.988311    \n",
       "MetaScore                             2.526e-02  8.159e-03   3.095 0.002056 ** \n",
       "NoOfPlayers1                         -3.546e-01  8.663e-01  -0.409 0.682471    \n",
       "NoOfPlayers1 to 2                    -8.292e-02  8.735e-01  -0.095 0.924398    \n",
       "NoOfPlayers1 to 4                    -1.389e-01  8.748e-01  -0.159 0.873907    \n",
       "NoOfPlayers1 to 8                    -6.143e-01  9.027e-01  -0.680 0.496485    \n",
       "NoOfPlayersMutliplayer               -1.904e-01  8.699e-01  -0.219 0.826837    \n",
       "ReleaseDate                           7.550e-06  4.528e-05   0.167 0.867628    \n",
       "ReleaseYear                           6.962e-03  9.853e-03   0.707 0.480130    \n",
       "ReleaseMonth                          3.578e-01  4.675e-01   0.765 0.444446    \n",
       "EndOfMonthYes                         1.419e-01  1.254e-01   1.132 0.258171    \n",
       "ReleaseQuarter                       -8.218e-02  1.312e-01  -0.626 0.531362    \n",
       "ReleaseWeekDay                        1.178e-02  3.256e-02   0.362 0.717689    \n",
       "ReleaseWeekend                        4.194e-01  2.489e-01   1.685 0.092492 .  \n",
       "ReleaseWeek                          -7.352e-02  1.072e-01  -0.686 0.493047    \n",
       "TopDeveloper_CountCodemasters         2.418e-01  3.687e-01   0.656 0.512213    \n",
       "TopDeveloper_CountElectronic Arts     1.079e+00  3.093e-01   3.490 0.000518 ***\n",
       "TopDeveloper_CountKCET                1.421e+00  4.245e-01   3.346 0.000870 ***\n",
       "TopDeveloper_CountKonami              6.278e-01  4.277e-01   1.468 0.142606    \n",
       "TopDeveloper_CountMaxis               4.180e-01  4.188e-01   0.998 0.318545    \n",
       "TopDeveloper_CountNamco               1.237e+00  3.883e-01   3.187 0.001513 ** \n",
       "TopDeveloper_CountOthers              9.574e-01  2.907e-01   3.294 0.001047 ** \n",
       "TopDeveloper_CountSportsInteractive   1.018e+00  4.115e-01   2.473 0.013658 *  \n",
       "TopDeveloper_CountUbisoft             7.528e-01  3.993e-01   1.886 0.059834 .  \n",
       "TopDeveloper_CountVisualConcepts      7.434e-01  3.903e-01   1.904 0.057326 .  \n",
       "---\n",
       "Signif. codes:  0 '***' 0.001 '**' 0.01 '*' 0.05 '.' 0.1 ' ' 1\n",
       "\n",
       "Residual standard error: 0.8408 on 604 degrees of freedom\n",
       "Multiple R-squared:  0.3907,\tAdjusted R-squared:  0.3432 \n",
       "F-statistic: 8.239 on 47 and 604 DF,  p-value: < 2.2e-16\n"
      ]
     },
     "metadata": {},
     "output_type": "display_data"
    }
   ],
   "source": [
    "########################################################\n",
    "# Build LM model\n",
    "\n",
    "lm_model2 = lm(SqRtGlobalSales ~ . - AsianSales - NorthAmericaSales - JapanSales - EuropeSales - TotalShipped - GlobalSales - LogGlobalSales\n",
    "                - AvgUserScore - MultipleGenre - Title - Developer - TopDeveloper_Sum , data = training_data)\n",
    "summary(lm_model2)"
   ]
  },
  {
   "cell_type": "code",
   "execution_count": 117,
   "metadata": {
    "vscode": {
     "languageId": "r"
    }
   },
   "outputs": [
    {
     "data": {
      "text/plain": [
       "\n",
       "Call:\n",
       "lm(formula = SqRtGlobalSales ~ . - AsianSales - NorthAmericaSales - \n",
       "    JapanSales - EuropeSales - TotalShipped - GlobalSales - LogGlobalSales - \n",
       "    VGScore - CriticScore - UserScore - MetaScore - MultipleGenre - \n",
       "    Title - Developer - TopDeveloper_Count, data = training_data)\n",
       "\n",
       "Residuals:\n",
       "     Min       1Q   Median       3Q      Max \n",
       "-2.14906 -0.52479  0.03684  0.57507  2.67199 \n",
       "\n",
       "Coefficients:\n",
       "                                       Estimate Std. Error t value Pr(>|t|)    \n",
       "(Intercept)                          -2.404e+01  3.942e+01  -0.610 0.542122    \n",
       "PlatformPC                            1.706e+00  1.733e-01   9.840  < 2e-16 ***\n",
       "PlatformPS                            9.444e-01  2.837e-01   3.329 0.000926 ***\n",
       "PlatformPS2                           4.888e-01  1.840e-01   2.656 0.008110 ** \n",
       "PlatformPS3                           6.354e-01  1.936e-01   3.283 0.001087 ** \n",
       "PlatformPS4                           5.026e-01  2.364e-01   2.126 0.033897 *  \n",
       "GenreBoard Game                      -8.624e-01  8.576e-01  -1.006 0.315054    \n",
       "GenreFighting                        -5.953e-01  1.816e-01  -3.278 0.001104 ** \n",
       "GenrePuzzle                          -1.462e-01  1.919e-01  -0.762 0.446370    \n",
       "GenreRacing                          -2.414e-01  1.536e-01  -1.572 0.116542    \n",
       "GenreShooter                         -4.097e-01  1.297e-01  -3.158 0.001665 ** \n",
       "GenreSimulation                      -4.767e-01  1.533e-01  -3.110 0.001959 ** \n",
       "GenreSports                          -4.713e-01  1.551e-01  -3.038 0.002486 ** \n",
       "PublisherAmazon Game Studios         -1.971e-01  1.544e-01  -1.276 0.202285    \n",
       "PublisherElectronic Arts             -2.210e-01  1.086e-01  -2.036 0.042203 *  \n",
       "PublisherFrontier Developments       -1.728e-02  1.193e-01  -0.145 0.884888    \n",
       "PublisherIBM                          8.878e-02  1.536e-01   0.578 0.563435    \n",
       "PublisherOmega                       -1.224e-01  1.463e-01  -0.836 0.403323    \n",
       "PublisherSony Computer Entertainment -1.724e-01  1.287e-01  -1.340 0.180869    \n",
       "PublisherUbisoft                     -1.460e-01  1.213e-01  -1.203 0.229445    \n",
       "ProductionCost                       -2.365e-03  1.944e-02  -0.122 0.903189    \n",
       "AvgUserScore                          6.811e-02  3.964e-02   1.718 0.086278 .  \n",
       "NoOfPlayers1                         -2.899e-01  8.631e-01  -0.336 0.737088    \n",
       "NoOfPlayers1 to 2                    -8.330e-02  8.703e-01  -0.096 0.923779    \n",
       "NoOfPlayers1 to 4                    -1.621e-01  8.716e-01  -0.186 0.852522    \n",
       "NoOfPlayers1 to 8                    -5.969e-01  8.990e-01  -0.664 0.506981    \n",
       "NoOfPlayersMutliplayer               -1.138e-01  8.669e-01  -0.131 0.895636    \n",
       "ReleaseDate                          -5.614e-06  4.491e-05  -0.125 0.900576    \n",
       "ReleaseYear                           1.029e-02  9.928e-03   1.037 0.300325    \n",
       "ReleaseMonth                          2.637e-01  4.619e-01   0.571 0.568217    \n",
       "EndOfMonthYes                         1.761e-01  1.240e-01   1.421 0.155943    \n",
       "ReleaseQuarter                       -9.205e-02  1.303e-01  -0.707 0.480090    \n",
       "ReleaseWeekDay                        2.105e-02  3.245e-02   0.649 0.516738    \n",
       "ReleaseWeekend                        4.064e-01  2.479e-01   1.639 0.101661    \n",
       "ReleaseWeek                          -5.149e-02  1.058e-01  -0.487 0.626584    \n",
       "TopDeveloper_SumElectronic Arts       8.251e-01  2.484e-01   3.322 0.000949 ***\n",
       "TopDeveloper_SumKCET                  1.155e+00  3.853e-01   2.997 0.002833 ** \n",
       "TopDeveloper_SumMaxis                 1.261e-01  3.730e-01   0.338 0.735456    \n",
       "TopDeveloper_SumNamco                 9.899e-01  3.557e-01   2.783 0.005558 ** \n",
       "TopDeveloper_SumNintendo              2.524e+00  4.475e-01   5.640  2.6e-08 ***\n",
       "TopDeveloper_SumOthers                6.241e-01  2.284e-01   2.733 0.006460 ** \n",
       "TopDeveloper_SumSportsInteractive     8.160e-01  3.646e-01   2.238 0.025572 *  \n",
       "TopDeveloper_SumUbisoft               4.846e-01  3.576e-01   1.355 0.175925    \n",
       "TopDeveloper_SumValveSoftware         9.542e-01  4.244e-01   2.248 0.024904 *  \n",
       "TopDeveloper_SumVisualConcepts        5.060e-01  3.478e-01   1.455 0.146199    \n",
       "---\n",
       "Signif. codes:  0 '***' 0.001 '**' 0.01 '*' 0.05 '.' 0.1 ' ' 1\n",
       "\n",
       "Residual standard error: 0.8364 on 607 degrees of freedom\n",
       "Multiple R-squared:  0.394,\tAdjusted R-squared:   0.35 \n",
       "F-statistic: 8.968 on 44 and 607 DF,  p-value: < 2.2e-16\n"
      ]
     },
     "metadata": {},
     "output_type": "display_data"
    }
   ],
   "source": [
    "########################################################\n",
    "# Build LM model\n",
    "\n",
    "lm_model3 = lm(SqRtGlobalSales ~ . - AsianSales - NorthAmericaSales - JapanSales - EuropeSales - TotalShipped - GlobalSales - LogGlobalSales\n",
    "                - VGScore - CriticScore - UserScore - MetaScore - MultipleGenre - Title - Developer - TopDeveloper_Count , data = training_data)\n",
    "summary(lm_model3)"
   ]
  },
  {
   "cell_type": "code",
   "execution_count": 210,
   "metadata": {
    "vscode": {
     "languageId": "r"
    }
   },
   "outputs": [
    {
     "name": "stdout",
     "output_type": "stream",
     "text": [
      "Start:  AIC=-193.22\n",
      "SqRtGlobalSales ~ (Title + Platform + Genre + Publisher + VGScore + \n",
      "    CriticScore + UserScore + TotalShipped + AsianSales + NorthAmericaSales + \n",
      "    JapanSales + EuropeSales + GlobalSales + ProductionCost + \n",
      "    Developer + MultipleGenre + MetaScore + AvgUserScore + NoOfPlayers + \n",
      "    ReleaseDate + ReleaseYear + ReleaseMonth + EndOfMonth + ReleaseQuarter + \n",
      "    ReleaseWeekDay + ReleaseWeekend + ReleaseWeek + TopDeveloper_Count + \n",
      "    TopDeveloper_Sum + LogGlobalSales) - AsianSales - NorthAmericaSales - \n",
      "    JapanSales - EuropeSales - TotalShipped - GlobalSales - LogGlobalSales - \n",
      "    AvgUserScore - MultipleGenre - Title - Developer - TopDeveloper_Count\n",
      "\n",
      "                   Df Sum of Sq    RSS      AIC\n",
      "- Publisher         7     5.799 424.21 -198.246\n",
      "- NoOfPlayers       5     4.203 422.61 -196.704\n",
      "- ProductionCost    1     0.001 418.41 -195.219\n",
      "- ReleaseDate       1     0.015 418.42 -195.197\n",
      "- ReleaseWeek       1     0.170 418.58 -194.956\n",
      "- ReleaseYear       1     0.219 418.63 -194.880\n",
      "- ReleaseMonth      1     0.224 418.63 -194.872\n",
      "- ReleaseQuarter    1     0.244 418.65 -194.841\n",
      "- ReleaseWeekDay    1     0.415 418.82 -194.574\n",
      "- CriticScore       1     0.989 419.40 -193.681\n",
      "- VGScore           1     1.075 419.48 -193.548\n",
      "<none>                          418.41 -193.221\n",
      "- ReleaseWeekend    1     1.468 419.87 -192.937\n",
      "- EndOfMonth        1     1.494 419.90 -192.897\n",
      "- UserScore         1     2.387 420.79 -191.511\n",
      "- MetaScore         1     4.578 422.99 -188.125\n",
      "- Genre             7    15.762 434.17 -183.110\n",
      "- TopDeveloper_Sum 10    31.262 449.67 -166.240\n",
      "- Platform          5   172.989 591.40   22.391\n",
      "\n",
      "Step:  AIC=-198.25\n",
      "SqRtGlobalSales ~ Platform + Genre + VGScore + CriticScore + \n",
      "    UserScore + ProductionCost + MetaScore + NoOfPlayers + ReleaseDate + \n",
      "    ReleaseYear + ReleaseMonth + EndOfMonth + ReleaseQuarter + \n",
      "    ReleaseWeekDay + ReleaseWeekend + ReleaseWeek + TopDeveloper_Sum\n",
      "\n",
      "                   Df Sum of Sq    RSS      AIC\n",
      "- NoOfPlayers       5     4.210 428.42 -201.808\n",
      "- ProductionCost    1     0.000 424.21 -200.246\n",
      "- ReleaseDate       1     0.008 424.21 -200.233\n",
      "- ReleaseYear       1     0.033 424.24 -200.195\n",
      "- ReleaseWeek       1     0.191 424.40 -199.953\n",
      "- ReleaseMonth      1     0.247 424.45 -199.867\n",
      "- ReleaseQuarter    1     0.262 424.47 -199.844\n",
      "- ReleaseWeekDay    1     0.308 424.51 -199.773\n",
      "- CriticScore       1     0.998 425.20 -198.715\n",
      "- VGScore           1     1.229 425.44 -198.360\n",
      "<none>                          424.21 -198.246\n",
      "- ReleaseWeekend    1     1.386 425.59 -198.120\n",
      "- EndOfMonth        1     1.449 425.66 -198.022\n",
      "- UserScore         1     2.351 426.56 -196.642\n",
      "- MetaScore         1     4.415 428.62 -193.496\n",
      "+ Publisher         7     5.799 418.41 -193.221\n",
      "- Genre             7    15.918 440.12 -188.228\n",
      "- TopDeveloper_Sum 10    31.717 455.92 -171.233\n",
      "- Platform          5   175.615 599.82   17.615\n",
      "\n",
      "Step:  AIC=-201.81\n",
      "SqRtGlobalSales ~ Platform + Genre + VGScore + CriticScore + \n",
      "    UserScore + ProductionCost + MetaScore + ReleaseDate + ReleaseYear + \n",
      "    ReleaseMonth + EndOfMonth + ReleaseQuarter + ReleaseWeekDay + \n",
      "    ReleaseWeekend + ReleaseWeek + TopDeveloper_Sum\n",
      "\n",
      "                   Df Sum of Sq    RSS      AIC\n",
      "- ReleaseDate       1     0.001 428.42 -203.806\n",
      "- ProductionCost    1     0.017 428.43 -203.782\n",
      "- ReleaseYear       1     0.042 428.46 -203.744\n",
      "- ReleaseWeekDay    1     0.150 428.57 -203.580\n",
      "- ReleaseQuarter    1     0.268 428.68 -203.401\n",
      "- ReleaseWeek       1     0.341 428.76 -203.290\n",
      "- ReleaseMonth      1     0.415 428.83 -203.177\n",
      "- VGScore           1     1.186 429.60 -202.005\n",
      "- CriticScore       1     1.300 429.72 -201.833\n",
      "<none>                          428.42 -201.808\n",
      "- EndOfMonth        1     1.365 429.78 -201.733\n",
      "- ReleaseWeekend    1     1.703 430.12 -201.221\n",
      "- UserScore         1     2.368 430.78 -200.215\n",
      "+ NoOfPlayers       5     4.210 424.21 -198.246\n",
      "- MetaScore         1     4.517 432.93 -196.970\n",
      "+ Publisher         7     5.806 422.61 -196.704\n",
      "- Genre             7    13.990 442.41 -194.857\n",
      "- TopDeveloper_Sum 10    34.368 462.78 -171.496\n",
      "- Platform          5   189.986 618.40   27.505\n",
      "\n",
      "Step:  AIC=-203.81\n",
      "SqRtGlobalSales ~ Platform + Genre + VGScore + CriticScore + \n",
      "    UserScore + ProductionCost + MetaScore + ReleaseYear + ReleaseMonth + \n",
      "    EndOfMonth + ReleaseQuarter + ReleaseWeekDay + ReleaseWeekend + \n",
      "    ReleaseWeek + TopDeveloper_Sum\n",
      "\n",
      "                   Df Sum of Sq    RSS      AIC\n",
      "- ProductionCost    1     0.017 428.43 -205.781\n",
      "- ReleaseYear       1     0.041 428.46 -205.744\n",
      "- ReleaseWeekDay    1     0.186 428.60 -205.523\n",
      "- ReleaseQuarter    1     0.268 428.68 -205.398\n",
      "- VGScore           1     1.185 429.60 -204.004\n",
      "- CriticScore       1     1.309 429.73 -203.816\n",
      "<none>                          428.42 -203.806\n",
      "- EndOfMonth        1     1.568 429.99 -203.424\n",
      "- ReleaseWeek       1     1.776 430.19 -203.109\n",
      "- ReleaseWeekend    1     1.811 430.23 -203.056\n",
      "- ReleaseMonth      1     2.050 430.47 -202.693\n",
      "- UserScore         1     2.383 430.80 -202.189\n",
      "+ ReleaseDate       1     0.001 428.42 -201.808\n",
      "+ NoOfPlayers       5     4.203 424.21 -200.233\n",
      "- MetaScore         1     4.519 432.94 -198.965\n",
      "+ Publisher         7     5.807 422.61 -198.704\n",
      "- Genre             7    14.005 442.42 -196.833\n",
      "- TopDeveloper_Sum 10    34.562 462.98 -173.220\n",
      "- Platform          5   190.253 618.67   25.788\n",
      "\n",
      "Step:  AIC=-205.78\n",
      "SqRtGlobalSales ~ Platform + Genre + VGScore + CriticScore + \n",
      "    UserScore + MetaScore + ReleaseYear + ReleaseMonth + EndOfMonth + \n",
      "    ReleaseQuarter + ReleaseWeekDay + ReleaseWeekend + ReleaseWeek + \n",
      "    TopDeveloper_Sum\n",
      "\n",
      "                   Df Sum of Sq    RSS      AIC\n",
      "- ReleaseYear       1     0.041 428.47 -207.719\n",
      "- ReleaseWeekDay    1     0.186 428.62 -207.497\n",
      "- ReleaseQuarter    1     0.266 428.70 -207.375\n",
      "- VGScore           1     1.182 429.62 -205.984\n",
      "- CriticScore       1     1.304 429.74 -205.800\n",
      "<none>                          428.43 -205.781\n",
      "- EndOfMonth        1     1.563 430.00 -205.407\n",
      "- ReleaseWeek       1     1.768 430.20 -205.095\n",
      "- ReleaseWeekend    1     1.810 430.24 -205.031\n",
      "- ReleaseMonth      1     2.042 430.48 -204.680\n",
      "- UserScore         1     2.368 430.80 -204.188\n",
      "+ ProductionCost    1     0.017 428.42 -203.806\n",
      "+ ReleaseDate       1     0.001 428.43 -203.782\n",
      "+ NoOfPlayers       5     4.219 424.21 -202.233\n",
      "- MetaScore         1     4.530 432.96 -200.923\n",
      "+ Publisher         7     5.810 422.62 -200.683\n",
      "- Genre             7    14.138 442.57 -198.612\n",
      "- TopDeveloper_Sum 10    34.667 463.10 -175.049\n",
      "- Platform          5   190.615 619.05   24.187\n",
      "\n",
      "Step:  AIC=-207.72\n",
      "SqRtGlobalSales ~ Platform + Genre + VGScore + CriticScore + \n",
      "    UserScore + MetaScore + ReleaseMonth + EndOfMonth + ReleaseQuarter + \n",
      "    ReleaseWeekDay + ReleaseWeekend + ReleaseWeek + TopDeveloper_Sum\n",
      "\n",
      "                   Df Sum of Sq    RSS      AIC\n",
      "- ReleaseWeekDay    1     0.183 428.66 -209.441\n",
      "- ReleaseQuarter    1     0.257 428.73 -209.328\n",
      "- VGScore           1     1.141 429.62 -207.984\n",
      "- CriticScore       1     1.305 429.78 -207.736\n",
      "<none>                          428.47 -207.719\n",
      "- EndOfMonth        1     1.553 430.03 -207.360\n",
      "- ReleaseWeek       1     1.754 430.23 -207.056\n",
      "- ReleaseWeekend    1     1.837 430.31 -206.930\n",
      "- ReleaseMonth      1     2.024 430.50 -206.647\n",
      "- UserScore         1     2.354 430.83 -206.147\n",
      "+ ReleaseYear       1     0.041 428.43 -205.781\n",
      "+ ProductionCost    1     0.017 428.46 -205.744\n",
      "+ ReleaseDate       1     0.000 428.47 -205.719\n",
      "+ NoOfPlayers       5     4.230 424.24 -204.187\n",
      "+ Publisher         7     5.843 422.63 -202.671\n",
      "- MetaScore         1     4.674 433.15 -202.644\n",
      "- Genre             7    14.160 442.63 -200.520\n",
      "- TopDeveloper_Sum 10    34.694 463.17 -176.955\n",
      "- Platform          5   190.620 619.09   22.235\n",
      "\n",
      "Step:  AIC=-209.44\n",
      "SqRtGlobalSales ~ Platform + Genre + VGScore + CriticScore + \n",
      "    UserScore + MetaScore + ReleaseMonth + EndOfMonth + ReleaseQuarter + \n",
      "    ReleaseWeekend + ReleaseWeek + TopDeveloper_Sum\n",
      "\n",
      "                   Df Sum of Sq    RSS      AIC\n",
      "- ReleaseQuarter    1     0.225 428.88 -211.099\n",
      "- VGScore           1     1.126 429.78 -209.730\n",
      "- CriticScore       1     1.289 429.95 -209.483\n",
      "<none>                          428.66 -209.441\n",
      "- EndOfMonth        1     1.782 430.44 -208.735\n",
      "- ReleaseWeek       1     2.007 430.66 -208.394\n",
      "- ReleaseMonth      1     2.255 430.91 -208.019\n",
      "- UserScore         1     2.313 430.97 -207.932\n",
      "+ ReleaseWeekDay    1     0.183 428.47 -207.719\n",
      "+ ReleaseYear       1     0.037 428.62 -207.497\n",
      "+ ReleaseDate       1     0.028 428.63 -207.483\n",
      "+ ProductionCost    1     0.017 428.64 -207.466\n",
      "- ReleaseWeekend    1     3.421 432.08 -206.258\n",
      "+ NoOfPlayers       5     4.097 424.56 -205.702\n",
      "- MetaScore         1     4.640 433.30 -204.420\n",
      "+ Publisher         7     5.757 422.90 -204.257\n",
      "- Genre             7    14.088 442.74 -202.357\n",
      "- TopDeveloper_Sum 10    34.546 463.20 -178.906\n",
      "- Platform          5   195.126 623.78   25.154\n",
      "\n",
      "Step:  AIC=-211.1\n",
      "SqRtGlobalSales ~ Platform + Genre + VGScore + CriticScore + \n",
      "    UserScore + MetaScore + ReleaseMonth + EndOfMonth + ReleaseWeekend + \n",
      "    ReleaseWeek + TopDeveloper_Sum\n",
      "\n",
      "                   Df Sum of Sq    RSS      AIC\n",
      "- VGScore           1     1.183 430.07 -211.302\n",
      "- CriticScore       1     1.291 430.17 -211.138\n",
      "<none>                          428.88 -211.099\n",
      "- EndOfMonth        1     1.683 430.56 -210.545\n",
      "- ReleaseWeek       1     1.934 430.82 -210.165\n",
      "- ReleaseMonth      1     2.033 430.92 -210.015\n",
      "- UserScore         1     2.251 431.13 -209.685\n",
      "+ ReleaseQuarter    1     0.225 428.66 -209.441\n",
      "+ ReleaseWeekDay    1     0.151 428.73 -209.328\n",
      "+ ReleaseYear       1     0.029 428.85 -209.142\n",
      "+ ReleaseDate       1     0.025 428.86 -209.136\n",
      "+ ProductionCost    1     0.016 428.87 -209.122\n",
      "- ReleaseWeekend    1     3.420 432.30 -207.920\n",
      "+ NoOfPlayers       5     4.097 424.78 -207.357\n",
      "- MetaScore         1     4.739 433.62 -205.934\n",
      "+ Publisher         7     5.768 423.11 -205.927\n",
      "- Genre             7    13.990 442.87 -204.170\n",
      "- TopDeveloper_Sum 10    34.426 463.31 -180.758\n",
      "- Platform          5   195.812 624.69   24.106\n",
      "\n",
      "Step:  AIC=-211.3\n",
      "SqRtGlobalSales ~ Platform + Genre + CriticScore + UserScore + \n",
      "    MetaScore + ReleaseMonth + EndOfMonth + ReleaseWeekend + \n",
      "    ReleaseWeek + TopDeveloper_Sum\n",
      "\n",
      "                   Df Sum of Sq    RSS      AIC\n",
      "- CriticScore       1     1.314 431.38 -211.312\n",
      "<none>                          430.07 -211.302\n",
      "+ VGScore           1     1.183 428.88 -211.099\n",
      "- EndOfMonth        1     1.768 431.83 -210.627\n",
      "- ReleaseWeek       1     1.909 431.97 -210.415\n",
      "- ReleaseMonth      1     2.005 432.07 -210.269\n",
      "- UserScore         1     2.098 432.16 -210.130\n",
      "+ ReleaseQuarter    1     0.282 429.78 -209.730\n",
      "+ ReleaseWeekDay    1     0.133 429.93 -209.504\n",
      "+ ReleaseDate       1     0.023 430.04 -209.336\n",
      "+ ProductionCost    1     0.012 430.05 -209.321\n",
      "+ ReleaseYear       1     0.002 430.06 -209.306\n",
      "- ReleaseWeekend    1     3.379 433.44 -208.200\n",
      "+ NoOfPlayers       5     3.914 426.15 -207.262\n",
      "- MetaScore         1     4.562 434.63 -206.423\n",
      "+ Publisher         7     5.788 424.28 -206.137\n",
      "- Genre             7    14.551 444.62 -203.607\n",
      "- TopDeveloper_Sum 10    33.827 463.89 -181.936\n",
      "- Platform          5   194.871 624.94   22.359\n",
      "\n",
      "Step:  AIC=-211.31\n",
      "SqRtGlobalSales ~ Platform + Genre + UserScore + MetaScore + \n",
      "    ReleaseMonth + EndOfMonth + ReleaseWeekend + ReleaseWeek + \n",
      "    TopDeveloper_Sum\n",
      "\n",
      "                   Df Sum of Sq    RSS      AIC\n",
      "<none>                          431.38 -211.312\n",
      "+ CriticScore       1     1.314 430.07 -211.302\n",
      "+ VGScore           1     1.206 430.17 -211.138\n",
      "- EndOfMonth        1     1.653 433.03 -210.819\n",
      "- ReleaseWeek       1     1.815 433.19 -210.575\n",
      "- ReleaseMonth      1     1.904 433.28 -210.440\n",
      "- UserScore         1     2.061 433.44 -210.205\n",
      "+ ReleaseQuarter    1     0.285 431.09 -209.744\n",
      "+ ReleaseWeekDay    1     0.119 431.26 -209.493\n",
      "+ ReleaseDate       1     0.043 431.34 -209.377\n",
      "+ ProductionCost    1     0.007 431.37 -209.324\n",
      "+ ReleaseYear       1     0.002 431.38 -209.316\n",
      "- ReleaseWeekend    1     3.445 434.83 -208.126\n",
      "+ NoOfPlayers       5     4.185 427.19 -207.668\n",
      "- MetaScore         1     3.927 435.31 -207.403\n",
      "+ Publisher         7     5.776 425.60 -206.101\n",
      "- Genre             7    14.201 445.58 -204.194\n",
      "- TopDeveloper_Sum 10    33.633 465.01 -182.363\n",
      "- Platform          5   197.017 628.40   23.959\n"
     ]
    },
    {
     "data": {
      "text/plain": [
       "\n",
       "Call:\n",
       "lm(formula = SqRtGlobalSales ~ Platform + Genre + UserScore + \n",
       "    MetaScore + ReleaseMonth + EndOfMonth + ReleaseWeekend + \n",
       "    ReleaseWeek + TopDeveloper_Sum, data = training_data)\n",
       "\n",
       "Residuals:\n",
       "    Min      1Q  Median      3Q     Max \n",
       "-2.0860 -0.5693  0.0493  0.5650  2.7621 \n",
       "\n",
       "Coefficients:\n",
       "                                   Estimate Std. Error t value Pr(>|t|)    \n",
       "(Intercept)                       -0.673248   0.775020  -0.869 0.385354    \n",
       "PlatformPC                         1.660165   0.168624   9.845  < 2e-16 ***\n",
       "PlatformPS                         0.808273   0.276006   2.928 0.003531 ** \n",
       "PlatformPS2                        0.467426   0.178928   2.612 0.009209 ** \n",
       "PlatformPS3                        0.575931   0.186128   3.094 0.002061 ** \n",
       "PlatformPS4                        0.477872   0.213863   2.234 0.025806 *  \n",
       "GenreBoard Game                   -1.065054   0.846987  -1.257 0.209057    \n",
       "GenreFighting                     -0.535601   0.167930  -3.189 0.001497 ** \n",
       "GenrePuzzle                       -0.135244   0.187555  -0.721 0.471123    \n",
       "GenreRacing                       -0.219888   0.139158  -1.580 0.114585    \n",
       "GenreShooter                      -0.399119   0.117810  -3.388 0.000749 ***\n",
       "GenreSimulation                   -0.438184   0.145262  -3.017 0.002661 ** \n",
       "GenreSports                       -0.458447   0.139825  -3.279 0.001101 ** \n",
       "UserScore                         -0.019913   0.011543  -1.725 0.085004 .  \n",
       "MetaScore                          0.018822   0.007903   2.382 0.017539 *  \n",
       "ReleaseMonth                       0.305588   0.184264   1.658 0.097736 .  \n",
       "EndOfMonthYes                      0.175316   0.113482   1.545 0.122882    \n",
       "ReleaseWeekend                     0.446787   0.200293   2.231 0.026058 *  \n",
       "ReleaseWeek                       -0.068564   0.042348  -1.619 0.105946    \n",
       "TopDeveloper_SumElectronic Arts    0.843498   0.240189   3.512 0.000477 ***\n",
       "TopDeveloper_SumKCET               1.265613   0.375096   3.374 0.000787 ***\n",
       "TopDeveloper_SumMaxis              0.012822   0.362808   0.035 0.971820    \n",
       "TopDeveloper_SumNamco              1.124826   0.344523   3.265 0.001155 ** \n",
       "TopDeveloper_SumNintendo           2.473984   0.433717   5.704 1.81e-08 ***\n",
       "TopDeveloper_SumOthers             0.688998   0.222049   3.103 0.002003 ** \n",
       "TopDeveloper_SumSportsInteractive  0.755578   0.354766   2.130 0.033580 *  \n",
       "TopDeveloper_SumUbisoft            0.449498   0.339287   1.325 0.185713    \n",
       "TopDeveloper_SumValveSoftware      0.972750   0.413391   2.353 0.018927 *  \n",
       "TopDeveloper_SumVisualConcepts     0.565248   0.334144   1.692 0.091217 .  \n",
       "---\n",
       "Signif. codes:  0 '***' 0.001 '**' 0.01 '*' 0.05 '.' 0.1 ' ' 1\n",
       "\n",
       "Residual standard error: 0.8321 on 623 degrees of freedom\n",
       "Multiple R-squared:  0.3844,\tAdjusted R-squared:  0.3567 \n",
       "F-statistic: 13.89 on 28 and 623 DF,  p-value: < 2.2e-16\n"
      ]
     },
     "metadata": {},
     "output_type": "display_data"
    }
   ],
   "source": [
    "########################################################\n",
    "# Build LM model\n",
    "\n",
    "lm_model_step <- stepAIC(lm_model1, direction = \"both\")\n",
    "summary(lm_model_step)"
   ]
  },
  {
   "cell_type": "code",
   "execution_count": 119,
   "metadata": {
    "vscode": {
     "languageId": "r"
    }
   },
   "outputs": [
    {
     "name": "stdout",
     "output_type": "stream",
     "text": [
      "\n",
      "Regression Models Comparison\n",
      "=====================================================================================================================================\n",
      "                                                                            Dependent Variable                                       \n",
      "                                     ------------------------------------------------------------------------------------------------\n",
      "                                                                            Response Variable                                        \n",
      "                                               (1)                     (2)                     (3)                     (4)           \n",
      "-------------------------------------------------------------------------------------------------------------------------------------\n",
      "PlatformPC                                  1.710***                1.365***                1.706***                 1.660***        \n",
      "                                             (0.173)                 (0.165)                 (0.173)                 (0.169)         \n",
      "                                                                                                                                     \n",
      "PlatformPS                                  0.901***                 0.545*                 0.944***                 0.808***        \n",
      "                                             (0.284)                 (0.282)                 (0.284)                 (0.276)         \n",
      "                                                                                                                                     \n",
      "PlatformPS2                                 0.512***                  0.131                 0.489***                 0.467***        \n",
      "                                             (0.183)                 (0.175)                 (0.184)                 (0.179)         \n",
      "                                                                                                                                     \n",
      "PlatformPS3                                 0.629***                  0.258                 0.635***                 0.576***        \n",
      "                                             (0.193)                 (0.186)                 (0.194)                 (0.186)         \n",
      "                                                                                                                                     \n",
      "PlatformPS4                                  0.465**                  0.123                  0.503**                 0.478**         \n",
      "                                             (0.235)                 (0.231)                 (0.236)                 (0.214)         \n",
      "                                                                                                                                     \n",
      "GenreBoard Game                              -1.109                  -1.148                  -0.862                   -1.065         \n",
      "                                             (0.859)                 (0.868)                 (0.858)                 (0.847)         \n",
      "                                                                                                                                     \n",
      "GenreFighting                               -0.608***               -0.551***               -0.595***               -0.536***        \n",
      "                                             (0.181)                 (0.184)                 (0.182)                 (0.168)         \n",
      "                                                                                                                                     \n",
      "GenrePuzzle                                  -0.116                  -0.225                  -0.146                   -0.135         \n",
      "                                             (0.191)                 (0.194)                 (0.192)                 (0.188)         \n",
      "                                                                                                                                     \n",
      "GenreRacing                                  -0.258*                 -0.291*                 -0.241                   -0.220         \n",
      "                                             (0.152)                 (0.154)                 (0.154)                 (0.139)         \n",
      "                                                                                                                                     \n",
      "GenreShooter                                -0.436***               -0.480***               -0.410***               -0.399***        \n",
      "                                             (0.128)                 (0.130)                 (0.130)                 (0.118)         \n",
      "                                                                                                                                     \n",
      "GenreSimulation                             -0.483***               -0.512***               -0.477***               -0.438***        \n",
      "                                             (0.153)                 (0.155)                 (0.153)                 (0.145)         \n",
      "                                                                                                                                     \n",
      "GenreSports                                 -0.530***               -0.550***               -0.471***               -0.458***        \n",
      "                                             (0.151)                 (0.153)                 (0.155)                 (0.140)         \n",
      "                                                                                                                                     \n",
      "PublisherAmazon Game Studios                 -0.210                  -0.184                  -0.197                                  \n",
      "                                             (0.154)                 (0.155)                 (0.154)                                 \n",
      "                                                                                                                                     \n",
      "PublisherElectronic Arts                    -0.228**                 -0.182*                -0.221**                                 \n",
      "                                             (0.108)                 (0.110)                 (0.109)                                 \n",
      "                                                                                                                                     \n",
      "PublisherFrontier Developments               -0.020                  -0.007                  -0.017                                  \n",
      "                                             (0.119)                 (0.120)                 (0.119)                                 \n",
      "                                                                                                                                     \n",
      "PublisherIBM                                  0.082                   0.091                   0.089                                  \n",
      "                                             (0.153)                 (0.155)                 (0.154)                                 \n",
      "                                                                                                                                     \n",
      "PublisherOmega                               -0.099                  -0.114                  -0.122                                  \n",
      "                                             (0.146)                 (0.148)                 (0.146)                                 \n",
      "                                                                                                                                     \n",
      "PublisherSony Computer Entertainment         -0.162                  -0.158                  -0.172                                  \n",
      "                                             (0.128)                 (0.129)                 (0.129)                                 \n",
      "                                                                                                                                     \n",
      "PublisherUbisoft                             -0.139                  -0.140                  -0.146                                  \n",
      "                                             (0.121)                 (0.122)                 (0.121)                                 \n",
      "                                                                                                                                     \n",
      "VGScore                                       0.017                   0.018                                                          \n",
      "                                             (0.013)                 (0.014)                                                         \n",
      "                                                                                                                                     \n",
      "CriticScore                                  -0.015                  -0.011                                                          \n",
      "                                             (0.013)                 (0.013)                                                         \n",
      "                                                                                                                                     \n",
      "UserScore                                    -0.022*                 -0.017                                          -0.020*         \n",
      "                                             (0.012)                 (0.012)                                         (0.012)         \n",
      "                                                                                                                                     \n",
      "ProductionCost                               -0.001                  -0.0003                 -0.002                                  \n",
      "                                             (0.019)                 (0.020)                 (0.019)                                 \n",
      "                                                                                                                                     \n",
      "MetaScore                                    0.021**                0.025***                                         0.019**         \n",
      "                                             (0.008)                 (0.008)                                         (0.008)         \n",
      "                                                                                                                                     \n",
      "AvgUserScore                                                                                 0.068*                                  \n",
      "                                                                                             (0.040)                                 \n",
      "                                                                                                                                     \n",
      "NoOfPlayers1                                 -0.352                  -0.355                  -0.290                                  \n",
      "                                             (0.857)                 (0.866)                 (0.863)                                 \n",
      "                                                                                                                                     \n",
      "NoOfPlayers1 to 2                            -0.138                  -0.083                  -0.083                                  \n",
      "                                             (0.865)                 (0.873)                 (0.870)                                 \n",
      "                                                                                                                                     \n",
      "NoOfPlayers1 to 4                            -0.220                  -0.139                  -0.162                                  \n",
      "                                             (0.866)                 (0.875)                 (0.872)                                 \n",
      "                                                                                                                                     \n",
      "NoOfPlayers1 to 8                            -0.618                  -0.614                  -0.597                                  \n",
      "                                             (0.894)                 (0.903)                 (0.899)                                 \n",
      "                                                                                                                                     \n",
      "NoOfPlayersMutliplayer                       -0.206                  -0.190                  -0.114                                  \n",
      "                                             (0.861)                 (0.870)                 (0.867)                                 \n",
      "                                                                                                                                     \n",
      "ReleaseDate                                 -0.00001                 0.00001                -0.00001                                 \n",
      "                                            (0.00004)               (0.00005)               (0.00004)                                \n",
      "                                                                                                                                     \n",
      "ReleaseYear                                   0.005                   0.007                   0.010                                  \n",
      "                                             (0.010)                 (0.010)                 (0.010)                                 \n",
      "                                                                                                                                     \n",
      "ReleaseMonth                                  0.263                   0.358                   0.264                   0.306*         \n",
      "                                             (0.463)                 (0.468)                 (0.462)                 (0.184)         \n",
      "                                                                                                                                     \n",
      "EndOfMonthYes                                 0.182                   0.142                   0.176                   0.175          \n",
      "                                             (0.124)                 (0.125)                 (0.124)                 (0.113)         \n",
      "                                                                                                                                     \n",
      "ReleaseQuarter                               -0.077                  -0.082                  -0.092                                  \n",
      "                                             (0.130)                 (0.131)                 (0.130)                                 \n",
      "                                                                                                                                     \n",
      "ReleaseWeekDay                                0.025                   0.012                   0.021                                  \n",
      "                                             (0.032)                 (0.033)                 (0.032)                                 \n",
      "                                                                                                                                     \n",
      "ReleaseWeekend                                0.360                  0.419*                   0.406                  0.447**         \n",
      "                                             (0.247)                 (0.249)                 (0.248)                 (0.200)         \n",
      "                                                                                                                                     \n",
      "ReleaseWeek                                  -0.053                  -0.074                  -0.051                   -0.069         \n",
      "                                             (0.106)                 (0.107)                 (0.106)                 (0.042)         \n",
      "                                                                                                                                     \n",
      "TopDeveloper_SumElectronic Arts             0.869***                                        0.825***                 0.843***        \n",
      "                                             (0.248)                                         (0.248)                 (0.240)         \n",
      "                                                                                                                                     \n",
      "TopDeveloper_SumKCET                        1.191***                                        1.155***                 1.266***        \n",
      "                                             (0.384)                                         (0.385)                 (0.375)         \n",
      "                                                                                                                                     \n",
      "TopDeveloper_SumMaxis                         0.183                                           0.126                   0.013          \n",
      "                                             (0.372)                                         (0.373)                 (0.363)         \n",
      "                                                                                                                                     \n",
      "TopDeveloper_SumNamco                       1.046***                                        0.990***                 1.125***        \n",
      "                                             (0.355)                                         (0.356)                 (0.345)         \n",
      "                                                                                                                                     \n",
      "TopDeveloper_SumNintendo                    2.571***                                        2.524***                 2.474***        \n",
      "                                             (0.448)                                         (0.448)                 (0.434)         \n",
      "                                                                                                                                     \n",
      "TopDeveloper_SumOthers                      0.692***                                        0.624***                 0.689***        \n",
      "                                             (0.229)                                         (0.228)                 (0.222)         \n",
      "                                                                                                                                     \n",
      "TopDeveloper_SumSportsInteractive            0.769**                                         0.816**                 0.756**         \n",
      "                                             (0.362)                                         (0.365)                 (0.355)         \n",
      "                                                                                                                                     \n",
      "TopDeveloper_SumUbisoft                       0.515                                           0.485                   0.449          \n",
      "                                             (0.358)                                         (0.358)                 (0.339)         \n",
      "                                                                                                                                     \n",
      "TopDeveloper_SumValveSoftware                1.031**                                         0.954**                 0.973**         \n",
      "                                             (0.424)                                         (0.424)                 (0.413)         \n",
      "                                                                                                                                     \n",
      "TopDeveloper_SumVisualConcepts                0.524                                           0.506                   0.565*         \n",
      "                                             (0.347)                                         (0.348)                 (0.334)         \n",
      "                                                                                                                                     \n",
      "TopDeveloper_CountCodemasters                                         0.242                                                          \n",
      "                                                                     (0.369)                                                         \n",
      "                                                                                                                                     \n",
      "TopDeveloper_CountElectronic Arts                                   1.079***                                                         \n",
      "                                                                     (0.309)                                                         \n",
      "                                                                                                                                     \n",
      "TopDeveloper_CountKCET                                              1.421***                                                         \n",
      "                                                                     (0.425)                                                         \n",
      "                                                                                                                                     \n",
      "TopDeveloper_CountKonami                                              0.628                                                          \n",
      "                                                                     (0.428)                                                         \n",
      "                                                                                                                                     \n",
      "TopDeveloper_CountMaxis                                               0.418                                                          \n",
      "                                                                     (0.419)                                                         \n",
      "                                                                                                                                     \n",
      "TopDeveloper_CountNamco                                             1.237***                                                         \n",
      "                                                                     (0.388)                                                         \n",
      "                                                                                                                                     \n",
      "TopDeveloper_CountOthers                                            0.957***                                                         \n",
      "                                                                     (0.291)                                                         \n",
      "                                                                                                                                     \n",
      "TopDeveloper_CountSportsInteractive                                  1.018**                                                         \n",
      "                                                                     (0.411)                                                         \n",
      "                                                                                                                                     \n",
      "TopDeveloper_CountUbisoft                                            0.753*                                                          \n",
      "                                                                     (0.399)                                                         \n",
      "                                                                                                                                     \n",
      "TopDeveloper_CountVisualConcepts                                     0.743*                                                          \n",
      "                                                                     (0.390)                                                         \n",
      "                                                                                                                                     \n",
      "Constant                                     -16.196                 -9.367                  -24.045                  -0.673         \n",
      "                                            (38.977)                (39.324)                (39.421)                 (0.775)         \n",
      "                                                                                                                                     \n",
      "-------------------------------------------------------------------------------------------------------------------------------------\n",
      "Observations                                   652                     652                     652                     652           \n",
      "R2                                            0.403                   0.391                   0.394                   0.384          \n",
      "Adjusted R2                                   0.356                   0.343                   0.350                   0.357          \n",
      "Residual Std. Error                     0.832 (df = 604)        0.841 (df = 604)        0.836 (df = 607)         0.832 (df = 623)    \n",
      "F Statistic                          8.671*** (df = 47; 604) 8.239*** (df = 47; 604) 8.968*** (df = 44; 607) 13.892*** (df = 28; 623)\n",
      "=====================================================================================================================================\n",
      "Note:                                                                                                     *p<0.1; **p<0.05; ***p<0.01\n"
     ]
    }
   ],
   "source": [
    "########################################################\n",
    "# View using StarGazer\n",
    "\n",
    "stargazer(lm_model1, lm_model2, lm_model3, lm_model_step, \n",
    "          title = \"Regression Models Comparison\",\n",
    "          dep.var.caption = \"Dependent Variable\",\n",
    "          dep.var.labels = \"Response Variable\",\n",
    "          align = TRUE,\n",
    "          type = \"text\",\n",
    "          out = \"summary_table.txt\")"
   ]
  },
  {
   "cell_type": "code",
   "execution_count": 292,
   "metadata": {
    "vscode": {
     "languageId": "r"
    }
   },
   "outputs": [
    {
     "name": "stderr",
     "output_type": "stream",
     "text": [
      "Warning message in sqrt(crit * p * (1 - hh)/hh):\n",
      "\"NaNs produced\"\n",
      "Warning message in sqrt(crit * p * (1 - hh)/hh):\n",
      "\"NaNs produced\"\n"
     ]
    },
    {
     "data": {
      "image/png": "[encoded data removed]",
      "text/plain": [
       "Plot with title \"\""
      ]
     },
     "metadata": {
      "image/png": {
       "height": 420,
       "width": 420
      }
     },
     "output_type": "display_data"
    }
   ],
   "source": [
    "# Create a residual plot\n",
    "par(mfrow = c(2,2)) # reset the mfrow parameter\n",
    "plot(lm_model_step)"
   ]
  },
  {
   "cell_type": "markdown",
   "metadata": {},
   "source": [
    "LM Actual vs Prediction Plot"
   ]
  },
  {
   "cell_type": "code",
   "execution_count": 270,
   "metadata": {
    "vscode": {
     "languageId": "r"
    }
   },
   "outputs": [],
   "source": [
    "predicted_values_train <- predict(lm_model_step, training_data)"
   ]
  },
  {
   "cell_type": "code",
   "execution_count": 271,
   "metadata": {
    "vscode": {
     "languageId": "r"
    }
   },
   "outputs": [
    {
     "name": "stdout",
     "output_type": "stream",
     "text": [
      "Number of NA values in prediction: 0 \n",
      "Number of NaN values in prediction: 0 \n",
      "Number of Inf values in prediction: 0 \n"
     ]
    }
   ],
   "source": [
    "# Check for NA values in the prediction column\n",
    "na_count <- sum(is.na(predicted_values_train))\n",
    "\n",
    "# Check for NaN values in the prediction column\n",
    "nan_count <- sum(is.nan(predicted_values_train ))\n",
    "\n",
    "# Check for Inf values in the prediction column\n",
    "inf_count <- sum(is.infinite(predicted_values_train ))\n",
    "\n",
    "# Print the results\n",
    "cat(\"Number of NA values in prediction:\", na_count, \"\\n\")\n",
    "cat(\"Number of NaN values in prediction:\", nan_count, \"\\n\")\n",
    "cat(\"Number of Inf values in prediction:\", inf_count, \"\\n\")"
   ]
  },
  {
   "cell_type": "code",
   "execution_count": 335,
   "metadata": {
    "vscode": {
     "languageId": "r"
    }
   },
   "outputs": [
    {
     "data": {
      "image/png": "[encoded data removed]",
      "text/plain": [
       "Plot with title \"Predicted vs. Actual Global Sales\""
      ]
     },
     "metadata": {
      "image/png": {
       "height": 420,
       "width": 420
      }
     },
     "output_type": "display_data"
    }
   ],
   "source": [
    "# Convert sqrt-transformed values back to the original scale\n",
    "actual_values_train <- training_data$GlobalSales\n",
    "predicted_values_train_sq <- (predicted_values_train)^2\n",
    "\n",
    "# Create a scatterplot to compare predicted vs actual TotalSales on the training set\n",
    "plot(seq_along(actual_values_train), actual_values_train,\n",
    "     main = \"Predicted vs. Actual Global Sales\",\n",
    "     xlab = \"Data Index\", ylab = \"Global Sales\",\n",
    "     col = \"blue\", pch = 16)\n",
    "\n",
    "# Add the predicted values on the training set\n",
    "points(seq_along(predicted_values_train_sq), predicted_values_train_sq, col = \"#ff6f00\", pch = 16)\n",
    "\n",
    "# Add the fitted line from the lm model\n",
    "legend(\"topright\", legend = c(\"Actual\", \"Predicted\"), col = c(\"blue\", \"#ff6f00\"), pch = 16)\n"
   ]
  },
  {
   "cell_type": "code",
   "execution_count": 278,
   "metadata": {
    "vscode": {
     "languageId": "r"
    }
   },
   "outputs": [
    {
     "name": "stdout",
     "output_type": "stream",
     "text": [
      "Sum of Squared Errors (Training): 14908.36 \n",
      "Mean Absolute Deviation (Training): 3.667089 \n",
      "Mean Percentage Error (Training): 66.16253 %\n",
      "Mean Squared Error (Training): 22.86559 \n",
      "Standard Error (Training): 4.781797 \n",
      "Mean Absolute Percentage Error (Training): 366.7089 %\n"
     ]
    }
   ],
   "source": [
    "# Calculate various error metrics on the original scale for the training set\n",
    "errors_train <- training_data$GlobalSales - predicted_values_train_sq\n",
    "sum_of_sqerrors_train <- sum(errors_train^2)\n",
    "mean_absolute_deviation_train <- mean(abs(errors_train))\n",
    "mean_percentage_error_train <- mean(errors_train) * 100  # Already on the original scale\n",
    "mean_squared_error_train <- mean(errors_train^2)\n",
    "standard_error_train <- sqrt(mean_squared_error_train)\n",
    "mean_absolute_percentage_error_train <- mean(abs(errors_train)) * 100\n",
    "\n",
    "# Print the error metrics for the training set\n",
    "cat(\"Sum of Squared Errors (Training):\", sum_of_sqerrors_train, \"\\n\")\n",
    "cat(\"Mean Absolute Deviation (Training):\", mean_absolute_deviation_train, \"\\n\")\n",
    "cat(\"Mean Percentage Error (Training):\", mean_percentage_error_train, \"%\\n\")\n",
    "cat(\"Mean Squared Error (Training):\", mean_squared_error_train, \"\\n\")\n",
    "cat(\"Standard Error (Training):\", standard_error_train, \"\\n\")\n",
    "cat(\"Mean Absolute Percentage Error (Training):\", mean_absolute_percentage_error_train, \"%\\n\")"
   ]
  },
  {
   "cell_type": "code",
   "execution_count": 274,
   "metadata": {
    "vscode": {
     "languageId": "r"
    }
   },
   "outputs": [],
   "source": [
    "predicted_values_test <- predict(lm_model_step, test_data)"
   ]
  },
  {
   "cell_type": "code",
   "execution_count": 275,
   "metadata": {
    "vscode": {
     "languageId": "r"
    }
   },
   "outputs": [
    {
     "name": "stdout",
     "output_type": "stream",
     "text": [
      "Number of NA values in prediction: 0 \n",
      "Number of NaN values in prediction: 0 \n",
      "Number of Inf values in prediction: 0 \n"
     ]
    }
   ],
   "source": [
    "# Check for NA values in the prediction column\n",
    "na_count <- sum(is.na(predicted_values_test))\n",
    "\n",
    "# Check for NaN values in the prediction column\n",
    "nan_count <- sum(is.nan(predicted_values_test))\n",
    "\n",
    "# Check for Inf values in the prediction column\n",
    "inf_count <- sum(is.infinite(predicted_values_test))\n",
    "\n",
    "# Print the results\n",
    "cat(\"Number of NA values in prediction:\", na_count, \"\\n\")\n",
    "cat(\"Number of NaN values in prediction:\", nan_count, \"\\n\")\n",
    "cat(\"Number of Inf values in prediction:\", inf_count, \"\\n\")"
   ]
  },
  {
   "cell_type": "code",
   "execution_count": 322,
   "metadata": {
    "vscode": {
     "languageId": "r"
    }
   },
   "outputs": [
    {
     "data": {
      "image/png": "[encoded data removed]",
      "text/plain": [
       "Plot with title \"Predicted vs. Actual Global Sales (Testing Set)\""
      ]
     },
     "metadata": {
      "image/png": {
       "height": 420,
       "width": 420
      }
     },
     "output_type": "display_data"
    }
   ],
   "source": [
    "# Convert sqrt-transformed values back to the original scale\n",
    "actual_values_test <- test_data$GlobalSales\n",
    "predicted_values_test_sq <- (predicted_values_test)^2\n",
    "\n",
    "# Create a scatterplot to compare predicted vs actual TotalSales on the training set\n",
    "plot(seq_along(actual_values_test), actual_values_test,\n",
    "     main = \"Predicted vs. Actual Global Sales (Testing Set)\",\n",
    "     xlab = \"Data Index\", ylab = \"Global Sales\",\n",
    "     col = \"blue\", pch = 16)\n",
    "\n",
    "# Add the predicted values on the training set\n",
    "points(seq_along(predicted_values_test_sq), predicted_values_test_sq, col = \"#ff6f00\", pch = 16)\n",
    "\n",
    "# Add the fitted line from the lm model\n",
    "legend(\"topright\", legend = c(\"Actual\", \"Predicted\"), col = c(\"blue\", \"#ff6f00\"), pch = 16)\n"
   ]
  },
  {
   "cell_type": "code",
   "execution_count": 279,
   "metadata": {
    "vscode": {
     "languageId": "r"
    }
   },
   "outputs": [
    {
     "name": "stdout",
     "output_type": "stream",
     "text": [
      "Sum of Errors (Test): 3670.563 \n",
      "Mean Absolute Deviation (Test): 3.659602 \n",
      "Mean Percentage Error (Test): -22.32752 %\n",
      "Mean Squared Error (Test): 22.51879 \n",
      "Standard Error (Test): 4.745397 \n",
      "Mean Absolute Percentage Error (Test): 365.9602 %\n"
     ]
    }
   ],
   "source": [
    "# Calculate various error metrics on the original scale for the test set\n",
    "errors_test <- test_data$GlobalSales - predicted_values_test_sq\n",
    "sum_of_sqerrors_test <- sum(errors_test^2)\n",
    "mean_absolute_deviation_test <- mean(abs(errors_test))\n",
    "mean_percentage_error_test <- mean(errors_test) * 100  # Already on the original scale\n",
    "mean_squared_error_test <- mean(errors_test^2)\n",
    "standard_error_test <- sqrt(mean_squared_error_test)\n",
    "mean_absolute_percentage_error_test <- mean(abs(errors_test)) * 100\n",
    "\n",
    "# Print the error metrics for the test set\n",
    "cat(\"Sum of Errors (Test):\", sum_of_sqerrors_test, \"\\n\")\n",
    "cat(\"Mean Absolute Deviation (Test):\", mean_absolute_deviation_test, \"\\n\")\n",
    "cat(\"Mean Percentage Error (Test):\", mean_percentage_error_test, \"%\\n\")\n",
    "cat(\"Mean Squared Error (Test):\", mean_squared_error_test, \"\\n\")\n",
    "cat(\"Standard Error (Test):\", standard_error_test, \"\\n\")\n",
    "cat(\"Mean Absolute Percentage Error (Test):\", mean_absolute_percentage_error_test, \"%\\n\")"
   ]
  },
  {
   "cell_type": "markdown",
   "metadata": {},
   "source": [
    "Normalize the Data for NN"
   ]
  },
  {
   "cell_type": "code",
   "execution_count": 214,
   "metadata": {
    "vscode": {
     "languageId": "r"
    }
   },
   "outputs": [
    {
     "data": {
      "text/plain": [
       "    Title           Platform         Genre    \n",
       " Length:815         DS : 42   Shooter   :212  \n",
       " Class :character   PC :351   Sports    :210  \n",
       " Mode  :character   PS : 20   Racing    :120  \n",
       "                    PS2:223   Adventure :101  \n",
       "                    PS3:131   Simulation: 81  \n",
       "                    PS4: 48   Fighting  : 54  \n",
       "                              (Other)   : 37  \n",
       "                       Publisher      VGScore        CriticScore   \n",
       " Electronic Arts            :179   Min.   : 1.000   Min.   : 1.00  \n",
       " Activision                 :145   1st Qu.: 4.000   1st Qu.: 4.00  \n",
       " Ubisoft                    :117   Median : 7.000   Median : 8.00  \n",
       " Frontier Developments      :113   Mean   : 6.271   Mean   : 6.64  \n",
       " Sony Computer Entertainment: 83   3rd Qu.: 8.600   3rd Qu.: 8.70  \n",
       " Omega                      : 66   Max.   :10.000   Max.   :10.00  \n",
       " (Other)                    :112                                   \n",
       "   UserScore       TotalShipped     AsianSales     NorthAmericaSales\n",
       " Min.   : 1.000   Min.   :  0.1   Min.   : 1.000   Min.   :0.010    \n",
       " 1st Qu.: 3.000   1st Qu.: 53.0   1st Qu.: 2.510   1st Qu.:0.315    \n",
       " Median : 5.000   Median :134.0   Median : 3.000   Median :1.310    \n",
       " Mean   : 5.445   Mean   :139.4   Mean   : 3.350   Mean   :1.989    \n",
       " 3rd Qu.: 8.000   3rd Qu.:223.0   3rd Qu.: 3.555   3rd Qu.:3.240    \n",
       " Max.   :10.000   Max.   :300.0   Max.   :13.800   Max.   :7.910    \n",
       "                                                                    \n",
       "   JapanSales     EuropeSales     GlobalSales     ProductionCost \n",
       " Min.   :0.010   Min.   :0.010   Min.   : 0.090   Min.   :0.010  \n",
       " 1st Qu.:1.215   1st Qu.:0.120   1st Qu.: 3.930   1st Qu.:2.235  \n",
       " Median :2.770   Median :0.630   Median : 7.050   Median :3.400  \n",
       " Mean   :2.746   Mean   :1.771   Mean   : 8.775   Mean   :3.556  \n",
       " 3rd Qu.:4.330   3rd Qu.:3.235   3rd Qu.:13.300   3rd Qu.:4.840  \n",
       " Max.   :5.990   Max.   :6.990   Max.   :25.660   Max.   :7.840  \n",
       "                                                                 \n",
       "           Developer   MultipleGenre        MetaScore      AvgUserScore  \n",
       " Electronic Arts:147   Length:815         Min.   :77.00   Min.   :2.700  \n",
       " Codemasters    : 21   Class :character   1st Qu.:80.00   1st Qu.:7.500  \n",
       " VisualConcepts : 19   Mode  :character   Median :83.00   Median :8.000  \n",
       " Namco          : 14                      Mean   :83.33   Mean   :7.811  \n",
       " Ubisoft        : 14                      3rd Qu.:86.00   3rd Qu.:8.500  \n",
       " Capcom         : 13                      Max.   :96.00   Max.   :9.200  \n",
       " (Other)        :587                                                     \n",
       "      NoOfPlayers   ReleaseDate          ReleaseYear    ReleaseMonth   \n",
       " #N/A       :  1   Min.   :0001-02-20   Min.   :2000   Min.   : 1.000  \n",
       " 1          :346   1st Qu.:0008-11-20   1st Qu.:2003   1st Qu.: 4.000  \n",
       " 1 to 2     :144   Median :0017-02-20   Median :2006   Median : 8.000  \n",
       " 1 to 4     : 91   Mean   :0016-06-26   Mean   :2007   Mean   : 7.182  \n",
       " 1 to 8     : 14   3rd Qu.:0024-03-20   3rd Qu.:2010   3rd Qu.:10.000  \n",
       " Mutliplayer:219   Max.   :0031-10-20   Max.   :2018   Max.   :12.000  \n",
       "                                                                       \n",
       " EndOfMonth ReleaseQuarter  ReleaseWeekDay  ReleaseWeekend   ReleaseWeek\n",
       " No :517    Min.   :1.000   Min.   :1.000   Min.   :1.000   Min.   : 1  \n",
       " Yes:298    1st Qu.:2.000   1st Qu.:2.000   1st Qu.:1.000   1st Qu.:16  \n",
       "            Median :3.000   Median :2.000   Median :1.000   Median :35  \n",
       "            Mean   :2.713   Mean   :2.623   Mean   :1.031   Mean   :30  \n",
       "            3rd Qu.:4.000   3rd Qu.:3.500   3rd Qu.:1.000   3rd Qu.:43  \n",
       "            Max.   :4.000   Max.   :7.000   Max.   :2.000   Max.   :52  \n",
       "                                                                        \n",
       "       TopDeveloper_Count        TopDeveloper_Sum LogGlobalSales  \n",
       " Others         :543      Others         :551     Min.   :-2.408  \n",
       " Electronic Arts:147      Electronic Arts:147     1st Qu.: 1.369  \n",
       " Codemasters    : 21      Codemasters    : 21     Median : 1.953  \n",
       " VisualConcepts : 19      VisualConcepts : 19     Mean   : 1.880  \n",
       " Namco          : 14      Namco          : 14     3rd Qu.: 2.588  \n",
       " Ubisoft        : 14      Ubisoft        : 14     Max.   : 3.245  \n",
       " (Other)        : 57      (Other)        : 49                     \n",
       " SqRtGlobalSales\n",
       " Min.   :0.300  \n",
       " 1st Qu.:1.982  \n",
       " Median :2.655  \n",
       " Mean   :2.778  \n",
       " 3rd Qu.:3.647  \n",
       " Max.   :5.066  \n",
       "                "
      ]
     },
     "metadata": {},
     "output_type": "display_data"
    }
   ],
   "source": [
    "summary(data)"
   ]
  },
  {
   "cell_type": "code",
   "execution_count": 219,
   "metadata": {
    "vscode": {
     "languageId": "r"
    }
   },
   "outputs": [
    {
     "name": "stdout",
     "output_type": "stream",
     "text": [
      "'data.frame':\t815 obs. of  32 variables:\n",
      " $ Title              : chr  \"1701 A.D.\" \"2002 FIFA World Cup\" \"2010 FIFA World Cup South Africa\" \"ABZU\" ...\n",
      " $ Platform           : Factor w/ 6 levels \"DS\",\"PC\",\"PS\",..: 2 2 5 2 6 4 6 4 2 2 ...\n",
      " $ Genre              : Factor w/ 8 levels \"Adventure\",\"Board Game\",..: 7 8 8 1 1 8 1 6 6 7 ...\n",
      " $ Publisher          : Factor w/ 8 levels \"Activision\",\"Amazon Game Studios\",..: 7 7 8 1 3 1 4 4 7 1 ...\n",
      " $ VGScore            : num  8 2 7 9 8 6 10 3 5 1 ...\n",
      " $ CriticScore        : num  7.7 6 8.2 8 7 8.7 4 4 8.2 10 ...\n",
      " $ UserScore          : num  5 7 9 9 7 10 8 8 2 10 ...\n",
      " $ TotalShipped       : num  1 277 53 0.58 117 117 189 296 275 231 ...\n",
      " $ AsianSales         : num  7.05 3.77 1.23 6.83 3 3 1.09 3 7.34 3.78 ...\n",
      " $ NorthAmericaSales  : num  4.74 3.55 0.3 1.6 0.03 0.17 0.29 0.05 4.4 3.01 ...\n",
      " $ JapanSales         : num  5.85 1.03 0.07 2.48 4.98 3.56 0.05 5.03 3.43 4.72 ...\n",
      " $ EuropeSales        : num  2.3 3.58 0.64 5.48 3.98 0.13 0.59 0.04 4.6 5.26 ...\n",
      " $ GlobalSales        : num  19.94 11.93 2.24 16.39 9.03 ...\n",
      " $ ProductionCost     : num  6.96 6.06 4.24 3.75 3.24 3.21 2.61 2.58 2.07 2.81 ...\n",
      " $ Developer          : Factor w/ 283 levels \"1stPlayableProductions\",..: 206 86 86 109 109 282 57 251 164 161 ...\n",
      " $ MultipleGenre      : chr  \"Strategy;Real-Time;Historic;General;Historic\" \"Sports;Traditional;Team;Soccer;Sim;Sim\" \"Sports;Traditional;Team;Soccer;Sim;Sim\" \"Action Adventure;Adventure;General;3D;Third-Person\" ...\n",
      " $ MetaScore          : num  79 80 82 83 78 85 79 78 85 86 ...\n",
      " $ AvgUserScore       : num  8.4 8 7.8 6.9 7.6 8.7 8.2 8.3 8.7 8.3 ...\n",
      " $ NoOfPlayers        : Factor w/ 6 levels \"#N/A\",\"1\",\"1 to 2\",..: 4 6 2 2 2 3 2 2 6 2 ...\n",
      " $ ReleaseDate        : Date, format: \"0026-10-20\" \"0026-04-20\" ...\n",
      " $ ReleaseYear        : int  2006 2002 2010 2016 2016 2002 2014 2004 2001 2000 ...\n",
      " $ ReleaseMonth       : int  10 4 4 8 8 5 10 11 10 3 ...\n",
      " $ EndOfMonth         : Factor w/ 2 levels \"No\",\"Yes\": 2 2 2 1 1 2 1 2 2 1 ...\n",
      " $ ReleaseQuarter     : int  4 2 2 3 3 2 4 4 4 1 ...\n",
      " $ ReleaseWeekDay     : int  4 5 2 2 2 2 1 7 1 4 ...\n",
      " $ ReleaseWeekend     : int  1 1 1 1 1 1 1 2 1 1 ...\n",
      " $ ReleaseWeek        : int  43 17 18 32 32 22 41 48 43 12 ...\n",
      " $ TopDeveloper_Count : Factor w/ 11 levels \"Capcom\",\"Codemasters\",..: 8 3 3 8 8 8 8 8 8 8 ...\n",
      " $ TopDeveloper_Sum   : Factor w/ 11 levels \"Codemasters\",..: 7 2 2 7 7 7 7 7 7 7 ...\n",
      " $ LogGlobalSales     : num  2.993 2.479 0.806 2.797 2.201 ...\n",
      " $ SqRtGlobalSales    : num  4.47 3.45 1.5 4.05 3 ...\n",
      " $ NormalizedMetaScore: num  0.1053 0.1579 0.2632 0.3158 0.0526 ...\n"
     ]
    }
   ],
   "source": [
    "str(data)"
   ]
  },
  {
   "cell_type": "code",
   "execution_count": 217,
   "metadata": {
    "vscode": {
     "languageId": "r"
    }
   },
   "outputs": [
    {
     "name": "stdout",
     "output_type": "stream",
     "text": [
      " [1] \"Title\"               \"Platform\"            \"Genre\"              \n",
      " [4] \"Publisher\"           \"VGScore\"             \"CriticScore\"        \n",
      " [7] \"UserScore\"           \"TotalShipped\"        \"AsianSales\"         \n",
      "[10] \"NorthAmericaSales\"   \"JapanSales\"          \"EuropeSales\"        \n",
      "[13] \"GlobalSales\"         \"ProductionCost\"      \"Developer\"          \n",
      "[16] \"MultipleGenre\"       \"MetaScore\"           \"AvgUserScore\"       \n",
      "[19] \"NoOfPlayers\"         \"ReleaseDate\"         \"ReleaseYear\"        \n",
      "[22] \"ReleaseMonth\"        \"EndOfMonth\"          \"ReleaseQuarter\"     \n",
      "[25] \"ReleaseWeekDay\"      \"ReleaseWeekend\"      \"ReleaseWeek\"        \n",
      "[28] \"TopDeveloper_Count\"  \"TopDeveloper_Sum\"    \"LogGlobalSales\"     \n",
      "[31] \"SqRtGlobalSales\"     \"NormalizedMetaScore\"\n"
     ]
    }
   ],
   "source": [
    "column_names <- names(data)\n",
    "print(column_names)"
   ]
  },
  {
   "cell_type": "code",
   "execution_count": 222,
   "metadata": {
    "vscode": {
     "languageId": "r"
    }
   },
   "outputs": [],
   "source": [
    "# Function to normalize columns using min-max scaling\n",
    "normalize_columns <- function(data, columns) {\n",
    "  for (col in columns) {\n",
    "    data[[paste0(\"Normalized_\", col)]] <- (data[[col]] - min(data[[col]])) / (max(data[[col]]) - min(data[[col]]))\n",
    "  }\n",
    "  return(data)\n",
    "}\n",
    "\n",
    "# List of columns to normalize\n",
    "columns_to_normalize <- c(\"VGScore\", \"CriticScore\", \n",
    "                          \"UserScore\", \"ProductionCost\", \n",
    "                          \"MetaScore\", \"ReleaseYear\", \n",
    "                          \"ReleaseMonth\", \"ReleaseQuarter\", \"ReleaseWeekDay\", \n",
    "                          \"ReleaseWeekend\", \"ReleaseWeek\")  \n",
    "\n",
    "# Applying normalization function to the specified columns and adding as separate columns\n",
    "data <- normalize_columns(normalized_data, columns_to_normalize)\n"
   ]
  },
  {
   "cell_type": "code",
   "execution_count": 223,
   "metadata": {
    "vscode": {
     "languageId": "r"
    }
   },
   "outputs": [
    {
     "data": {
      "text/plain": [
       "    Title           Platform         Genre    \n",
       " Length:815         DS : 42   Shooter   :212  \n",
       " Class :character   PC :351   Sports    :210  \n",
       " Mode  :character   PS : 20   Racing    :120  \n",
       "                    PS2:223   Adventure :101  \n",
       "                    PS3:131   Simulation: 81  \n",
       "                    PS4: 48   Fighting  : 54  \n",
       "                              (Other)   : 37  \n",
       "                       Publisher      VGScore        CriticScore   \n",
       " Electronic Arts            :179   Min.   : 1.000   Min.   : 1.00  \n",
       " Activision                 :145   1st Qu.: 4.000   1st Qu.: 4.00  \n",
       " Ubisoft                    :117   Median : 7.000   Median : 8.00  \n",
       " Frontier Developments      :113   Mean   : 6.271   Mean   : 6.64  \n",
       " Sony Computer Entertainment: 83   3rd Qu.: 8.600   3rd Qu.: 8.70  \n",
       " Omega                      : 66   Max.   :10.000   Max.   :10.00  \n",
       " (Other)                    :112                                   \n",
       "   UserScore       TotalShipped     AsianSales     NorthAmericaSales\n",
       " Min.   : 1.000   Min.   :  0.1   Min.   : 1.000   Min.   :0.010    \n",
       " 1st Qu.: 3.000   1st Qu.: 53.0   1st Qu.: 2.510   1st Qu.:0.315    \n",
       " Median : 5.000   Median :134.0   Median : 3.000   Median :1.310    \n",
       " Mean   : 5.445   Mean   :139.4   Mean   : 3.350   Mean   :1.989    \n",
       " 3rd Qu.: 8.000   3rd Qu.:223.0   3rd Qu.: 3.555   3rd Qu.:3.240    \n",
       " Max.   :10.000   Max.   :300.0   Max.   :13.800   Max.   :7.910    \n",
       "                                                                    \n",
       "   JapanSales     EuropeSales     GlobalSales     ProductionCost \n",
       " Min.   :0.010   Min.   :0.010   Min.   : 0.090   Min.   :0.010  \n",
       " 1st Qu.:1.215   1st Qu.:0.120   1st Qu.: 3.930   1st Qu.:2.235  \n",
       " Median :2.770   Median :0.630   Median : 7.050   Median :3.400  \n",
       " Mean   :2.746   Mean   :1.771   Mean   : 8.775   Mean   :3.556  \n",
       " 3rd Qu.:4.330   3rd Qu.:3.235   3rd Qu.:13.300   3rd Qu.:4.840  \n",
       " Max.   :5.990   Max.   :6.990   Max.   :25.660   Max.   :7.840  \n",
       "                                                                 \n",
       "           Developer   MultipleGenre        MetaScore      AvgUserScore  \n",
       " Electronic Arts:147   Length:815         Min.   :77.00   Min.   :2.700  \n",
       " Codemasters    : 21   Class :character   1st Qu.:80.00   1st Qu.:7.500  \n",
       " VisualConcepts : 19   Mode  :character   Median :83.00   Median :8.000  \n",
       " Namco          : 14                      Mean   :83.33   Mean   :7.811  \n",
       " Ubisoft        : 14                      3rd Qu.:86.00   3rd Qu.:8.500  \n",
       " Capcom         : 13                      Max.   :96.00   Max.   :9.200  \n",
       " (Other)        :587                                                     \n",
       "      NoOfPlayers   ReleaseDate          ReleaseYear    ReleaseMonth   \n",
       " #N/A       :  1   Min.   :0001-02-20   Min.   :2000   Min.   : 1.000  \n",
       " 1          :346   1st Qu.:0008-11-20   1st Qu.:2003   1st Qu.: 4.000  \n",
       " 1 to 2     :144   Median :0017-02-20   Median :2006   Median : 8.000  \n",
       " 1 to 4     : 91   Mean   :0016-06-26   Mean   :2007   Mean   : 7.182  \n",
       " 1 to 8     : 14   3rd Qu.:0024-03-20   3rd Qu.:2010   3rd Qu.:10.000  \n",
       " Mutliplayer:219   Max.   :0031-10-20   Max.   :2018   Max.   :12.000  \n",
       "                                                                       \n",
       " EndOfMonth ReleaseQuarter  ReleaseWeekDay  ReleaseWeekend   ReleaseWeek\n",
       " No :517    Min.   :1.000   Min.   :1.000   Min.   :1.000   Min.   : 1  \n",
       " Yes:298    1st Qu.:2.000   1st Qu.:2.000   1st Qu.:1.000   1st Qu.:16  \n",
       "            Median :3.000   Median :2.000   Median :1.000   Median :35  \n",
       "            Mean   :2.713   Mean   :2.623   Mean   :1.031   Mean   :30  \n",
       "            3rd Qu.:4.000   3rd Qu.:3.500   3rd Qu.:1.000   3rd Qu.:43  \n",
       "            Max.   :4.000   Max.   :7.000   Max.   :2.000   Max.   :52  \n",
       "                                                                        \n",
       "       TopDeveloper_Count        TopDeveloper_Sum LogGlobalSales  \n",
       " Others         :543      Others         :551     Min.   :-2.408  \n",
       " Electronic Arts:147      Electronic Arts:147     1st Qu.: 1.369  \n",
       " Codemasters    : 21      Codemasters    : 21     Median : 1.953  \n",
       " VisualConcepts : 19      VisualConcepts : 19     Mean   : 1.880  \n",
       " Namco          : 14      Namco          : 14     3rd Qu.: 2.588  \n",
       " Ubisoft        : 14      Ubisoft        : 14     Max.   : 3.245  \n",
       " (Other)        : 57      (Other)        : 49                     \n",
       " SqRtGlobalSales NormalizedMetaScore Normalized_VGScore Normalized_CriticScore\n",
       " Min.   :0.300   Min.   :0.0000      Min.   :0.0000     Min.   :0.0000        \n",
       " 1st Qu.:1.982   1st Qu.:0.1579      1st Qu.:0.3333     1st Qu.:0.3333        \n",
       " Median :2.655   Median :0.3158      Median :0.6667     Median :0.7778        \n",
       " Mean   :2.778   Mean   :0.3330      Mean   :0.5856     Mean   :0.6267        \n",
       " 3rd Qu.:3.647   3rd Qu.:0.4737      3rd Qu.:0.8444     3rd Qu.:0.8556        \n",
       " Max.   :5.066   Max.   :1.0000      Max.   :1.0000     Max.   :1.0000        \n",
       "                                                                              \n",
       " Normalized_UserScore Normalized_ProductionCost Normalized_MetaScore\n",
       " Min.   :0.0000       Min.   :0.0000            Min.   :0.0000      \n",
       " 1st Qu.:0.2222       1st Qu.:0.2842            1st Qu.:0.1579      \n",
       " Median :0.4444       Median :0.4330            Median :0.3158      \n",
       " Mean   :0.4938       Mean   :0.4529            Mean   :0.3330      \n",
       " 3rd Qu.:0.7778       3rd Qu.:0.6169            3rd Qu.:0.4737      \n",
       " Max.   :1.0000       Max.   :1.0000            Max.   :1.0000      \n",
       "                                                                    \n",
       " Normalized_ReleaseYear Normalized_ReleaseMonth Normalized_ReleaseQuarter\n",
       " Min.   :0.0000         Min.   :0.0000          Min.   :0.0000           \n",
       " 1st Qu.:0.1667         1st Qu.:0.2727          1st Qu.:0.3333           \n",
       " Median :0.3333         Median :0.6364          Median :0.6667           \n",
       " Mean   :0.3852         Mean   :0.5620          Mean   :0.5710           \n",
       " 3rd Qu.:0.5556         3rd Qu.:0.8182          3rd Qu.:1.0000           \n",
       " Max.   :1.0000         Max.   :1.0000          Max.   :1.0000           \n",
       "                                                                         \n",
       " Normalized_ReleaseWeekDay Normalized_ReleaseWeekend Normalized_ReleaseWeek\n",
       " Min.   :0.0000            Min.   :0.00000           Min.   :0.0000        \n",
       " 1st Qu.:0.1667            1st Qu.:0.00000           1st Qu.:0.2941        \n",
       " Median :0.1667            Median :0.00000           Median :0.6667        \n",
       " Mean   :0.2706            Mean   :0.03067           Mean   :0.5685        \n",
       " 3rd Qu.:0.4167            3rd Qu.:0.00000           3rd Qu.:0.8235        \n",
       " Max.   :1.0000            Max.   :1.00000           Max.   :1.0000        \n",
       "                                                                           "
      ]
     },
     "metadata": {},
     "output_type": "display_data"
    }
   ],
   "source": [
    "summary(data)"
   ]
  },
  {
   "cell_type": "code",
   "execution_count": 227,
   "metadata": {
    "vscode": {
     "languageId": "r"
    }
   },
   "outputs": [],
   "source": [
    "########################################################\n",
    "# Split into 80-20 training-testing dataset\n",
    "\n",
    "# Set a random seed for reproducibility\n",
    "set.seed(123)\n",
    "\n",
    "# Split the data into a training set (80%) and a test set (20%)\n",
    "split <- sample.split(data$GlobalSales, SplitRatio = 0.8)\n",
    "training_data_NN <- subset(data, split == TRUE)\n",
    "test_data_NN <- subset(data, split == FALSE)"
   ]
  },
  {
   "cell_type": "markdown",
   "metadata": {},
   "source": [
    "Neural Network_sum [Model 1]"
   ]
  },
  {
   "cell_type": "code",
   "execution_count": 234,
   "metadata": {
    "vscode": {
     "languageId": "r"
    }
   },
   "outputs": [],
   "source": [
    "########################################################\n",
    "# Build a NN model\n",
    "\n",
    "# Create a Keras Sequential model\n",
    "model <- keras_model_sequential()\n",
    "\n",
    "# Add an input layer\n",
    "model %>% \n",
    "  layer_dense(units = 3, input_shape = c(16), activation = \"relu\")\n",
    "\n",
    "# Add one or more hidden layers\n",
    "model %>%\n",
    "  layer_dense(units = 5, activation = \"relu\")\n",
    "\n",
    "# Add an output layer\n",
    "model %>%\n",
    "  layer_dense(units = 1)  # To predict 'TotalSales'\n",
    "\n",
    "# Compile the model with custom absolute error loss and MAE metric\n",
    "model %>%\n",
    "  compile(\n",
    "    loss = \"mean_squared_error\",\n",
    "    optimizer = optimizer_adam(),\n",
    "    metrics = list(\"mean_absolute_error\")\n",
    "  )"
   ]
  },
  {
   "cell_type": "code",
   "execution_count": 235,
   "metadata": {
    "vscode": {
     "languageId": "r"
    }
   },
   "outputs": [
    {
     "name": "stdout",
     "output_type": "stream",
     "text": [
      "Model: \"sequential_12\"\n",
      "________________________________________________________________________________\n",
      " Layer (type)                       Output Shape                    Param #     \n",
      "================================================================================\n",
      " dense_38 (Dense)                   (None, 3)                       51          \n",
      " dense_39 (Dense)                   (None, 5)                       20          \n",
      " dense_40 (Dense)                   (None, 1)                       6           \n",
      "================================================================================\n",
      "Total params: 77\n",
      "Trainable params: 77\n",
      "Non-trainable params: 0\n",
      "________________________________________________________________________________\n"
     ]
    }
   ],
   "source": [
    "summary (model)"
   ]
  },
  {
   "cell_type": "code",
   "execution_count": 293,
   "metadata": {
    "vscode": {
     "languageId": "r"
    }
   },
   "outputs": [],
   "source": [
    "# Include specific columns\n",
    "include_columns <- c(\"Normalized_VGScore\", \n",
    "                    \"Normalized_CriticScore\", \n",
    "                    \"Normalized_UserScore\", \n",
    "                    \"Normalized_ProductionCost\", \n",
    "                    \"Normalized_MetaScore\", \n",
    "                    \"Normalized_ReleaseYear\", \n",
    "                    \"Normalized_ReleaseMonth\",\n",
    "                    \"Normalized_ReleaseQuarter\", \n",
    "                    \"Normalized_ReleaseWeekDay\",\n",
    "                    \"Normalized_ReleaseWeekend\",\n",
    "                    \"Normalized_ReleaseWeek\",\n",
    "                    \"Platform\", \n",
    "                    \"Genre\",\n",
    "                    \"Publisher\",\n",
    "                    \"Developer\", \n",
    "                    \"NoOfPlayers\")\n",
    "                    \n",
    "x_train <- training_data_NN[, names(training_data_NN) %in% include_columns]\n",
    "x_test <- test_data_NN[, names(test_data_NN) %in% include_columns]"
   ]
  },
  {
   "cell_type": "code",
   "execution_count": 237,
   "metadata": {
    "vscode": {
     "languageId": "r"
    }
   },
   "outputs": [],
   "source": [
    "# Train the model\n",
    "history = keras::fit(model, data.matrix(x_train), data.matrix(training_data$GlobalSales), epochs = 100, batch_size = 100, verbose = 1)"
   ]
  },
  {
   "cell_type": "code",
   "execution_count": 216,
   "metadata": {
    "vscode": {
     "languageId": "r"
    }
   },
   "outputs": [
    {
     "data": {
      "image/png": "[encoded data removed]",
      "text/plain": [
       "plot without title"
      ]
     },
     "metadata": {
      "image/png": {
       "height": 420,
       "width": 420
      }
     },
     "output_type": "display_data"
    }
   ],
   "source": [
    "plot(history)"
   ]
  },
  {
   "cell_type": "code",
   "execution_count": 238,
   "metadata": {
    "vscode": {
     "languageId": "r"
    }
   },
   "outputs": [],
   "source": [
    "# Evaluate the model\n",
    "eval_metrics <- model %>% evaluate(\n",
    "  x = data.matrix(x_test),  # Independent variables for testing\n",
    "  y = data.matrix(test_data$GlobalSales)  # Target variable for testing\n",
    ")"
   ]
  },
  {
   "cell_type": "code",
   "execution_count": 239,
   "metadata": {
    "vscode": {
     "languageId": "r"
    }
   },
   "outputs": [
    {
     "name": "stdout",
     "output_type": "stream",
     "text": [
      "               loss mean_absolute_error \n",
      "           36.29319             5.02452 \n"
     ]
    }
   ],
   "source": [
    "# Print the evaluation metrics\n",
    "print(eval_metrics)"
   ]
  },
  {
   "cell_type": "markdown",
   "metadata": {},
   "source": [
    "Test on training data"
   ]
  },
  {
   "cell_type": "code",
   "execution_count": 240,
   "metadata": {
    "vscode": {
     "languageId": "r"
    }
   },
   "outputs": [
    {
     "data": {
      "text/html": [
       "-0.100060290508589"
      ],
      "text/latex": [
       "-0.100060290508589"
      ],
      "text/markdown": [
       "-0.100060290508589"
      ],
      "text/plain": [
       "[1] -0.1000603"
      ]
     },
     "metadata": {},
     "output_type": "display_data"
    }
   ],
   "source": [
    "# Generate predictions using your trained model\n",
    "predictions <- model %>% predict(data.matrix(x_train))\n",
    "\n",
    "# Organize results into a data frame\n",
    "results <- data.frame(Actual_GlobalSales = training_data$GlobalSales, Predicted_GlobalSales = predictions)\n",
    "\n",
    "# Calculate R-squared using the results data frame\n",
    "SSR <- sum((results$Predicted_GlobalSales - results$Actual_GlobalSales)^2)  # Sum of squared residuals\n",
    "SST <- sum((results$Actual_GlobalSales - mean(results$Actual_GlobalSales))^2)  # Total sum of squares\n",
    "\n",
    "R_squared <- 1 - SSR / SST  # Calculate R-squared\n",
    "R_squared\n"
   ]
  },
  {
   "cell_type": "code",
   "execution_count": 281,
   "metadata": {
    "vscode": {
     "languageId": "r"
    }
   },
   "outputs": [
    {
     "name": "stdout",
     "output_type": "stream",
     "text": [
      "Sum of Squared Errors: 23430.58 \n",
      "Mean Absolute Deviation: 4.984313 \n",
      "Mean Percentage Error: -103.9052 %\n",
      "Mean Squared Error: 35.93648 \n",
      "Standard Error: 5.994704 \n",
      "Mean Absolute Percentage Error: 136.5836 %\n"
     ]
    }
   ],
   "source": [
    "# Calculating the Sum of Squared Errors\n",
    "sum_sqerrors <- sum((results$Actual_GlobalSales - results$Predicted_GlobalSales)^2)\n",
    "\n",
    "# Calculating the Mean Absolute Deviation (MAD)\n",
    "mean_absolute_deviation <- mean(abs(results$Actual_GlobalSales - results$Predicted_GlobalSales))\n",
    "\n",
    "# Calculating the Mean Percentage Error (MPE)\n",
    "mean_percentage_error <- mean((results$Actual_GlobalSales - results$Predicted_GlobalSales) / results$Actual_GlobalSales) * 100\n",
    "\n",
    "# Calculating the Mean Squared Error (MSE)\n",
    "mean_squared_error <- mean((results$Actual_GlobalSales - results$Predicted_GlobalSales)^2)\n",
    "\n",
    "# Calculating the Standard Error (Root Mean Squared Error - RMSE)\n",
    "standard_error <- sqrt(mean((results$Actual_GlobalSales - results$Predicted_GlobalSales)^2))\n",
    "\n",
    "# Calculating the Mean Absolute Percentage Error (MAPE)\n",
    "mean_absolute_percentage_error <- mean(abs((results$Actual_GlobalSales - results$Predicted_GlobalSales) / results$Actual_GlobalSales)) * 100\n",
    "\n",
    "# Displaying the results\n",
    "cat(\"Sum of Squared Errors:\", sum_sqerrors, \"\\n\")\n",
    "cat(\"Mean Absolute Deviation:\", mean_absolute_deviation, \"\\n\")\n",
    "cat(\"Mean Percentage Error:\", mean_percentage_error, \"%\\n\")\n",
    "cat(\"Mean Squared Error:\", mean_squared_error, \"\\n\")\n",
    "cat(\"Standard Error:\", standard_error, \"\\n\")\n",
    "cat(\"Mean Absolute Percentage Error:\", mean_absolute_percentage_error, \"%\\n\")\n"
   ]
  },
  {
   "cell_type": "code",
   "execution_count": 282,
   "metadata": {
    "vscode": {
     "languageId": "r"
    }
   },
   "outputs": [
    {
     "data": {
      "image/png": "[encoded data removed]",
      "text/plain": [
       "plot without title"
      ]
     },
     "metadata": {
      "image/png": {
       "height": 420,
       "width": 420
      }
     },
     "output_type": "display_data"
    }
   ],
   "source": [
    "# Create a scatter plot for both predicted and actual values using different colors\n",
    "ggplot(results, aes(x = seq_along(Actual_GlobalSales))) +\n",
    "  geom_point(aes(y = Predicted_GlobalSales), color = \"orange\") +\n",
    "  geom_point(aes(y = Actual_GlobalSales), color = \"blue\") +\n",
    "  labs(x = \"Index\", y = \"Global Sales\") +\n",
    "  ggtitle(\"Predicted Global Sales vs. Actual Global Sales\") +\n",
    "  theme_minimal()"
   ]
  },
  {
   "cell_type": "markdown",
   "metadata": {},
   "source": [
    "Test on Testing Data"
   ]
  },
  {
   "cell_type": "code",
   "execution_count": 294,
   "metadata": {
    "vscode": {
     "languageId": "r"
    }
   },
   "outputs": [
    {
     "data": {
      "text/html": [
       "-1.69263720821958"
      ],
      "text/latex": [
       "-1.69263720821958"
      ],
      "text/markdown": [
       "-1.69263720821958"
      ],
      "text/plain": [
       "[1] -1.692637"
      ]
     },
     "metadata": {},
     "output_type": "display_data"
    }
   ],
   "source": [
    "# Generate predictions using your trained model\n",
    "predictions <- model %>% predict(data.matrix(x_test))\n",
    "\n",
    "# Organize results into a data frame\n",
    "results <- data.frame(Actual_GlobalSales = test_data$GlobalSales, Predicted_GlobalSales = predictions)\n",
    "\n",
    "# Calculate R-squared using the results data frame\n",
    "SSR <- sum((results$Predicted_GlobalSales - results$Actual_GlobalSales)^2)  # Sum of squared residuals\n",
    "SST <- sum((results$Actual_GlobalSales - mean(results$Actual_GlobalSales))^2)  # Total sum of squares\n",
    "\n",
    "R_squared <- 1 - SSR / SST  # Calculate R-squared\n",
    "R_squared\n"
   ]
  },
  {
   "cell_type": "code",
   "execution_count": 295,
   "metadata": {
    "vscode": {
     "languageId": "r"
    }
   },
   "outputs": [
    {
     "name": "stdout",
     "output_type": "stream",
     "text": [
      "Sum of Squared Errors: 13321.23 \n",
      "Mean Absolute Deviation: 7.174803 \n",
      "Mean Percentage Error: 83.79677 %\n",
      "Mean Squared Error: 81.72535 \n",
      "Standard Error: 9.040208 \n",
      "Mean Absolute Percentage Error: 90.40518 %\n"
     ]
    }
   ],
   "source": [
    "# Calculating the Sum of Squared Errors\n",
    "sum_sqerrors <- sum((results$Actual_GlobalSales - results$Predicted_GlobalSales)^2)\n",
    "\n",
    "# Calculating the Mean Absolute Deviation (MAD)\n",
    "mean_absolute_deviation <- mean(abs(results$Actual_GlobalSales - results$Predicted_GlobalSales))\n",
    "\n",
    "# Calculating the Mean Percentage Error (MPE)\n",
    "mean_percentage_error <- mean((results$Actual_GlobalSales - results$Predicted_GlobalSales) / results$Actual_GlobalSales) * 100\n",
    "\n",
    "# Calculating the Mean Squared Error (MSE)\n",
    "mean_squared_error <- mean((results$Actual_GlobalSales - results$Predicted_GlobalSales)^2)\n",
    "\n",
    "# Calculating the Standard Error (Root Mean Squared Error - RMSE)\n",
    "standard_error <- sqrt(mean((results$Actual_GlobalSales - results$Predicted_GlobalSales)^2))\n",
    "\n",
    "# Calculating the Mean Absolute Percentage Error (MAPE)\n",
    "mean_absolute_percentage_error <- mean(abs((results$Actual_GlobalSales - results$Predicted_GlobalSales) / results$Actual_GlobalSales)) * 100\n",
    "\n",
    "# Displaying the results\n",
    "cat(\"Sum of Squared Errors:\", sum_sqerrors, \"\\n\")\n",
    "cat(\"Mean Absolute Deviation:\", mean_absolute_deviation, \"\\n\")\n",
    "cat(\"Mean Percentage Error:\", mean_percentage_error, \"%\\n\")\n",
    "cat(\"Mean Squared Error:\", mean_squared_error, \"\\n\")\n",
    "cat(\"Standard Error:\", standard_error, \"\\n\")\n",
    "cat(\"Mean Absolute Percentage Error:\", mean_absolute_percentage_error, \"%\\n\")\n"
   ]
  },
  {
   "cell_type": "code",
   "execution_count": 296,
   "metadata": {
    "vscode": {
     "languageId": "r"
    }
   },
   "outputs": [
    {
     "data": {
      "image/png": "[encoded data removed]",
      "text/plain": [
       "plot without title"
      ]
     },
     "metadata": {
      "image/png": {
       "height": 420,
       "width": 420
      }
     },
     "output_type": "display_data"
    }
   ],
   "source": [
    "# Create a scatter plot for both predicted and actual values using different colors\n",
    "ggplot(results, aes(x = seq_along(Actual_GlobalSales))) +\n",
    "  geom_point(aes(y = Predicted_GlobalSales), color = \"orange\") +\n",
    "  geom_point(aes(y = Actual_GlobalSales), color = \"blue\") +\n",
    "  labs(x = \"Index\", y = \"Global Sales\") +\n",
    "  ggtitle(\"Predicted Global Sales vs. Actual Global Sales\") +\n",
    "  theme_minimal()"
   ]
  },
  {
   "cell_type": "code",
   "execution_count": 120,
   "metadata": {
    "vscode": {
     "languageId": "r"
    }
   },
   "outputs": [],
   "source": [
    "# Export to excel\n",
    "\n",
    "write_xlsx(results, path = \"NN_results.xlsx\")"
   ]
  },
  {
   "cell_type": "markdown",
   "metadata": {},
   "source": [
    "Neural Network_sum [Model 2]"
   ]
  },
  {
   "cell_type": "code",
   "execution_count": 297,
   "metadata": {
    "vscode": {
     "languageId": "r"
    }
   },
   "outputs": [],
   "source": [
    "########################################################\n",
    "# Build a NN model\n",
    "\n",
    "# Create a Keras Sequential model\n",
    "model <- keras_model_sequential()\n",
    "\n",
    "# Add an input layer\n",
    "model %>% \n",
    "  layer_dense(units = 4, input_shape = c(16), activation = \"relu\")\n",
    "\n",
    "# Add one or more hidden layers\n",
    "model %>%\n",
    "  layer_dense(units = 2, activation = \"relu\")\n",
    "\n",
    "# Add an output layer\n",
    "model %>%\n",
    "  layer_dense(units = 1)  # To predict 'TotalSales'\n",
    "\n",
    "# Compile the model with custom absolute error loss and MAE metric\n",
    "model %>%\n",
    "  compile(\n",
    "    loss = \"mean_squared_error\",\n",
    "    optimizer = optimizer_adam(),\n",
    "    metrics = list(\"mean_absolute_error\")\n",
    "  )"
   ]
  },
  {
   "cell_type": "code",
   "execution_count": 298,
   "metadata": {
    "vscode": {
     "languageId": "r"
    }
   },
   "outputs": [
    {
     "name": "stdout",
     "output_type": "stream",
     "text": [
      "Model: \"sequential_17\"\n",
      "________________________________________________________________________________\n",
      " Layer (type)                       Output Shape                    Param #     \n",
      "================================================================================\n",
      " dense_53 (Dense)                   (None, 4)                       68          \n",
      " dense_54 (Dense)                   (None, 2)                       10          \n",
      " dense_55 (Dense)                   (None, 1)                       3           \n",
      "================================================================================\n",
      "Total params: 81\n",
      "Trainable params: 81\n",
      "Non-trainable params: 0\n",
      "________________________________________________________________________________\n"
     ]
    }
   ],
   "source": [
    "summary (model)"
   ]
  },
  {
   "cell_type": "code",
   "execution_count": 308,
   "metadata": {
    "vscode": {
     "languageId": "r"
    }
   },
   "outputs": [],
   "source": [
    "# Train the model\n",
    "history = keras::fit(model, data.matrix(x_train), data.matrix(training_data$GlobalSales), epochs = 100, batch_size = 100, verbose = 1)"
   ]
  },
  {
   "cell_type": "code",
   "execution_count": 309,
   "metadata": {
    "vscode": {
     "languageId": "r"
    }
   },
   "outputs": [
    {
     "data": {
      "image/png": "[encoded data removed]",
      "text/plain": [
       "plot without title"
      ]
     },
     "metadata": {
      "image/png": {
       "height": 420,
       "width": 420
      }
     },
     "output_type": "display_data"
    }
   ],
   "source": [
    "plot(history)"
   ]
  },
  {
   "cell_type": "code",
   "execution_count": 310,
   "metadata": {
    "vscode": {
     "languageId": "r"
    }
   },
   "outputs": [],
   "source": [
    "# Evaluate the model\n",
    "eval_metrics <- model %>% evaluate(\n",
    "  x = data.matrix(x_test),  # Independent variables for testing\n",
    "  y = data.matrix(test_data$GlobalSales)  # Target variable for testing\n",
    ")"
   ]
  },
  {
   "cell_type": "code",
   "execution_count": 311,
   "metadata": {
    "vscode": {
     "languageId": "r"
    }
   },
   "outputs": [
    {
     "name": "stdout",
     "output_type": "stream",
     "text": [
      "               loss mean_absolute_error \n",
      "          26.051537            4.106274 \n"
     ]
    }
   ],
   "source": [
    "# Print the evaluation metrics\n",
    "print(eval_metrics)"
   ]
  },
  {
   "cell_type": "markdown",
   "metadata": {},
   "source": [
    "Test on training data"
   ]
  },
  {
   "cell_type": "code",
   "execution_count": 331,
   "metadata": {
    "vscode": {
     "languageId": "r"
    }
   },
   "outputs": [
    {
     "data": {
      "text/html": [
       "0.185545914584232"
      ],
      "text/latex": [
       "0.185545914584232"
      ],
      "text/markdown": [
       "0.185545914584232"
      ],
      "text/plain": [
       "[1] 0.1855459"
      ]
     },
     "metadata": {},
     "output_type": "display_data"
    }
   ],
   "source": [
    "# Generate predictions using your trained model\n",
    "predictions <- model %>% predict(data.matrix(x_train))\n",
    "\n",
    "# Organize results into a data frame\n",
    "results <- data.frame(Actual_GlobalSales = training_data$GlobalSales, Predicted_GlobalSales = predictions)\n",
    "\n",
    "# Calculate R-squared using the results data frame\n",
    "SSR <- sum((results$Predicted_GlobalSales - results$Actual_GlobalSales)^2)  # Sum of squared residuals\n",
    "SST <- sum((results$Actual_GlobalSales - mean(results$Actual_GlobalSales))^2)  # Total sum of squares\n",
    "\n",
    "R_squared <- 1 - SSR / SST  # Calculate R-squared\n",
    "R_squared"
   ]
  },
  {
   "cell_type": "code",
   "execution_count": 313,
   "metadata": {
    "vscode": {
     "languageId": "r"
    }
   },
   "outputs": [
    {
     "name": "stdout",
     "output_type": "stream",
     "text": [
      "Sum of Errors: 46.43848 \n",
      "Mean Absolute Deviation: 4.340531 \n",
      "Mean Percentage Error: -99.89546 %\n",
      "Mean Squared Error: 28.87753 \n",
      "Standard Error: 5.373782 \n",
      "Mean Absolute Percentage Error: 128.2694 %\n"
     ]
    }
   ],
   "source": [
    "# Calculating the Sum of Errors\n",
    "sum_errors <- sum(results$Actual_GlobalSales - results$Predicted_GlobalSales)\n",
    "\n",
    "# Calculating the Mean Absolute Deviation (MAD)\n",
    "mean_absolute_deviation <- mean(abs(results$Actual_GlobalSales - results$Predicted_GlobalSales))\n",
    "\n",
    "# Calculating the Mean Percentage Error (MPE)\n",
    "mean_percentage_error <- mean((results$Actual_GlobalSales - results$Predicted_GlobalSales) / results$Actual_GlobalSales) * 100\n",
    "\n",
    "# Calculating the Mean Squared Error (MSE)\n",
    "mean_squared_error <- mean((results$Actual_GlobalSales - results$Predicted_GlobalSales)^2)\n",
    "\n",
    "# Calculating the Standard Error (Root Mean Squared Error - RMSE)\n",
    "standard_error <- sqrt(mean((results$Actual_GlobalSales - results$Predicted_GlobalSales)^2))\n",
    "\n",
    "# Calculating the Mean Absolute Percentage Error (MAPE)\n",
    "mean_absolute_percentage_error <- mean(abs((results$Actual_GlobalSales - results$Predicted_GlobalSales) / results$Actual_GlobalSales)) * 100\n",
    "\n",
    "# Displaying the results\n",
    "cat(\"Sum of Errors:\", sum_errors, \"\\n\")\n",
    "cat(\"Mean Absolute Deviation:\", mean_absolute_deviation, \"\\n\")\n",
    "cat(\"Mean Percentage Error:\", mean_percentage_error, \"%\\n\")\n",
    "cat(\"Mean Squared Error:\", mean_squared_error, \"\\n\")\n",
    "cat(\"Standard Error:\", standard_error, \"\\n\")\n",
    "cat(\"Mean Absolute Percentage Error:\", mean_absolute_percentage_error, \"%\\n\")\n"
   ]
  },
  {
   "cell_type": "code",
   "execution_count": 334,
   "metadata": {
    "vscode": {
     "languageId": "r"
    }
   },
   "outputs": [
    {
     "data": {
      "image/png": "[encoded data removed]",
      "text/plain": [
       "Plot with title \"Predicted vs. Actual Global Sales\""
      ]
     },
     "metadata": {
      "image/png": {
       "height": 420,
       "width": 420
      }
     },
     "output_type": "display_data"
    }
   ],
   "source": [
    "# Creating a simple scatterplot if 'results' contains the necessary columns\n",
    "plot(seq_along(results$Actual_GlobalSales), results$Actual_GlobalSales,\n",
    "     main = \"Predicted vs. Actual Global Sales\",\n",
    "     xlab = \"Data Index\", ylab = \"Global Sales\",\n",
    "     col = \"blue\", pch = 16)\n",
    "\n",
    "# Adding the predicted values on the training set if 'results' contains the necessary columns\n",
    "points(seq_along(results$Predicted_GlobalSales), results$Predicted_GlobalSales, col = \"#ff6f00\", pch = 16)\n",
    "\n",
    "# Adding the legend\n",
    "legend(\"topright\", legend = c(\"Actual\", \"Predicted\"), col = c(\"blue\", \"#ff6f00\"), pch = 16)\n"
   ]
  },
  {
   "cell_type": "markdown",
   "metadata": {},
   "source": [
    "Test on testing data"
   ]
  },
  {
   "cell_type": "code",
   "execution_count": 327,
   "metadata": {
    "vscode": {
     "languageId": "r"
    }
   },
   "outputs": [
    {
     "data": {
      "text/html": [
       "0.141669830163974"
      ],
      "text/latex": [
       "0.141669830163974"
      ],
      "text/markdown": [
       "0.141669830163974"
      ],
      "text/plain": [
       "[1] 0.1416698"
      ]
     },
     "metadata": {},
     "output_type": "display_data"
    }
   ],
   "source": [
    "# Generate predictions using your trained model\n",
    "predictions <- model %>% predict(data.matrix(x_test))\n",
    "\n",
    "# Organize results into a data frame\n",
    "results <- data.frame(Actual_GlobalSales = test_data$GlobalSales, Predicted_GlobalSales = predictions)\n",
    "\n",
    "# Calculate R-squared using the results data frame\n",
    "SSR <- sum((results$Predicted_GlobalSales - results$Actual_GlobalSales)^2)  # Sum of squared residuals\n",
    "SST <- sum((results$Actual_GlobalSales - mean(results$Actual_GlobalSales))^2)  # Total sum of squares\n",
    "\n",
    "R_squared <- 1 - SSR / SST  # Calculate R-squared\n",
    "R_squared"
   ]
  },
  {
   "cell_type": "code",
   "execution_count": 316,
   "metadata": {
    "vscode": {
     "languageId": "r"
    }
   },
   "outputs": [
    {
     "name": "stdout",
     "output_type": "stream",
     "text": [
      "Sum of Errors: -129.4179 \n",
      "Mean Absolute Deviation: 4.106274 \n",
      "Mean Percentage Error: -122.7723 %\n",
      "Mean Squared Error: 26.05154 \n",
      "Standard Error: 5.104071 \n",
      "Mean Absolute Percentage Error: 144.8882 %\n"
     ]
    }
   ],
   "source": [
    "# Calculating the Sum of Errors\n",
    "sum_errors <- sum(results$Actual_GlobalSales - results$Predicted_GlobalSales)\n",
    "\n",
    "# Calculating the Mean Absolute Deviation (MAD)\n",
    "mean_absolute_deviation <- mean(abs(results$Actual_GlobalSales - results$Predicted_GlobalSales))\n",
    "\n",
    "# Calculating the Mean Percentage Error (MPE)\n",
    "mean_percentage_error <- mean((results$Actual_GlobalSales - results$Predicted_GlobalSales) / results$Actual_GlobalSales) * 100\n",
    "\n",
    "# Calculating the Mean Squared Error (MSE)\n",
    "mean_squared_error <- mean((results$Actual_GlobalSales - results$Predicted_GlobalSales)^2)\n",
    "\n",
    "# Calculating the Standard Error (Root Mean Squared Error - RMSE)\n",
    "standard_error <- sqrt(mean((results$Actual_GlobalSales - results$Predicted_GlobalSales)^2))\n",
    "\n",
    "# Calculating the Mean Absolute Percentage Error (MAPE)\n",
    "mean_absolute_percentage_error <- mean(abs((results$Actual_GlobalSales - results$Predicted_GlobalSales) / results$Actual_GlobalSales)) * 100\n",
    "\n",
    "# Displaying the results\n",
    "cat(\"Sum of Errors:\", sum_errors, \"\\n\")\n",
    "cat(\"Mean Absolute Deviation:\", mean_absolute_deviation, \"\\n\")\n",
    "cat(\"Mean Percentage Error:\", mean_percentage_error, \"%\\n\")\n",
    "cat(\"Mean Squared Error:\", mean_squared_error, \"\\n\")\n",
    "cat(\"Standard Error:\", standard_error, \"\\n\")\n",
    "cat(\"Mean Absolute Percentage Error:\", mean_absolute_percentage_error, \"%\\n\")\n"
   ]
  },
  {
   "cell_type": "code",
   "execution_count": 328,
   "metadata": {
    "vscode": {
     "languageId": "r"
    }
   },
   "outputs": [
    {
     "data": {
      "image/png": "[encoded data removed]",
      "text/plain": [
       "plot without title"
      ]
     },
     "metadata": {
      "image/png": {
       "height": 420,
       "width": 420
      }
     },
     "output_type": "display_data"
    }
   ],
   "source": [
    "# Create a scatter plot for both predicted and actual values using different colors\n",
    "ggplot(results, aes(x = seq_along(Actual_GlobalSales))) +\n",
    "  geom_point(aes(y = Predicted_GlobalSales), color = \"#ff6f00\") +\n",
    "  geom_point(aes(y = Actual_GlobalSales), color = \"blue\") +\n",
    "  labs(x = \"Index\", y = \"Global Sales\") +\n",
    "  ggtitle(\"Predicted Global Sales vs. Actual Global Sales\") +\n",
    "  theme_minimal()"
   ]
  }
 ],
 "metadata": {
  "kernelspec": {
   "display_name": "R",
   "language": "R",
   "name": "ir"
  },
  "language_info": {
   "codemirror_mode": "r",
   "file_extension": ".r",
   "mimetype": "text/x-r-source",
   "name": "R",
   "pygments_lexer": "r",
   "version": "4.3.1"
  }
 },
 "nbformat": 4,
 "nbformat_minor": 2
}
