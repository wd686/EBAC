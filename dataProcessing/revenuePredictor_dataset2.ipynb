{
 "cells": [
  {
   "cell_type": "code",
   "execution_count": 1,
   "metadata": {
    "vscode": {
     "languageId": "r"
    }
   },
   "outputs": [],
   "source": [
    "library(pacman)\n",
    "\n",
    "# Use pacman to load the packages\n",
    "p_load(car)\n",
    "p_load(dplyr)\n",
    "p_load(tidyverse, VIM, mice, Hmisc, \n",
    "               DMwR, naniar)\n",
    "p_load(stargazer)\n",
    "p_load(openxlsx)\n",
    "p_load(here)\n",
    "p_load(rio)\n",
    "p_load(ggplot2)\n",
    "p_load(BSDA)\n",
    "p_load(corrplot)\n",
    "p_load(caTools)\n",
    "p_load(keras)\n",
    "p_load(reticulate)\n",
    "p_load(readr)\n",
    "p_load(writexl)\n",
    "p_load(stringr)\n",
    "p_load(caTools)\n",
    "p_load(scales)\n",
    "p_load(reshape2)\n",
    "p_load(MASS)\n",
    "p_load(relaimpo)\n"
   ]
  },
  {
   "cell_type": "code",
   "execution_count": 8,
   "metadata": {
    "vscode": {
     "languageId": "r"
    }
   },
   "outputs": [
    {
     "name": "stderr",
     "output_type": "stream",
     "text": [
      "+ \"C:/Users/angme/anaconda3/condabin/conda.bat\" \"install\" \"--yes\" \"--prefix\" \"C:/Users/angme/anaconda3\" \"-c\" \"conda-forge\" \"tensorflow\"\n",
      "\n"
     ]
    }
   ],
   "source": [
    "py_install(\"tensorflow\")"
   ]
  },
  {
   "cell_type": "markdown",
   "metadata": {},
   "source": [
    "Import File"
   ]
  },
  {
   "cell_type": "code",
   "execution_count": 2,
   "metadata": {
    "vscode": {
     "languageId": "r"
    }
   },
   "outputs": [],
   "source": [
    "data = read.csv(here(\"dataSources\", \"videoGames\", \"clean output of joined table.csv\"))\n",
    "attach(data)"
   ]
  },
  {
   "cell_type": "code",
   "execution_count": 3,
   "metadata": {
    "vscode": {
     "languageId": "r"
    }
   },
   "outputs": [
    {
     "name": "stdout",
     "output_type": "stream",
     "text": [
      "'data.frame':\t8896 obs. of  32 variables:\n",
      " $ Title                : chr  \"(c 12) Final Resistance\" \".hack Sekai no Mukou ni  Versus\" \"007 Quantum of Solace\" \"007 Quantum of Solace\" ...\n",
      " $ Platform             : chr  \"PS\" \"PS3\" \"PS2\" \"PS3\" ...\n",
      " $ Genre                : chr  \"Shooter\" \"Fighting\" \"Shooter\" \"Shooter\" ...\n",
      " $ Publisher            : chr  \"IBM\" \"IBM\" \"Activision\" \"Activision\" ...\n",
      " $ VGScore              : num  1 6 8 3 1 6 3 1 2 3 ...\n",
      " $ CriticScore          : num  6.5 10 7.8 6.6 6.4 7 6.1 2 10 7 ...\n",
      " $ UserScore            : num  4 6 4 10 1 7 8 5 3 1 ...\n",
      " $ TotalShipped         : num  8 269 81 158 240 294 210 174 21 277 ...\n",
      " $ AsianSales           : num  5.08 3 3 1.14 3 2.94 3 3.74 5.5 2.67 ...\n",
      " $ NorthAmericaSales    : num  1.1 1.86 0.17 0.43 0.51 2.3 0.3 1.98 4.74 2.37 ...\n",
      " $ JapanSales           : num  5.7 0.03 1.21 0.02 3.75 1.37 4.94 2.34 3.85 5.75 ...\n",
      " $ EuropeSales          : num  3.54 6.43 2.22 0.51 0.35 2.14 0.2 1.16 3.73 3.62 ...\n",
      " $ GlobalSales          : num  15.42 8.35 4.03 2.1 5.53 ...\n",
      " $ ProductionCost       : num  1.98 3.34 2.05 1.19 1.5 4.27 2.8 5.76 3.89 6.33 ...\n",
      " $ ReleaseYear_v1       : int  2002 2012 2008 2008 2000 2002 2000 2009 2008 2006 ...\n",
      " $ Developer            : chr  \"#N/A\" \"#N/A\" \"#N/A\" \"#N/A\" ...\n",
      " $ MultipleGenre        : chr  \"#N/A\" \"#N/A\" \"#N/A\" \"#N/A\" ...\n",
      " $ MetaScore            : chr  \"#N/A\" \"#N/A\" \"#N/A\" \"#N/A\" ...\n",
      " $ AvgUserScore         : chr  \"#N/A\" \"#N/A\" \"#N/A\" \"#N/A\" ...\n",
      " $ NoOfPlayers          : chr  \"#N/A\" \"#N/A\" \"#N/A\" \"#N/A\" ...\n",
      " $ releasedate_1986.2023: logi  NA NA NA NA NA NA ...\n",
      " $ releasedate_VGOutput : chr  \"#N/A\" \"#N/A\" \"#N/A\" \"#N/A\" ...\n",
      " $ releasedate_raw      : chr  \"\" \"\" \"\" \"\" ...\n",
      " $ ReleaseDate          : chr  \"0/1/1900\" \"0/1/1900\" \"0/1/1900\" \"0/1/1900\" ...\n",
      " $ releasedate_link     : chr  \"https://www.google.com/search?q=(c 12) Final Resistance PS release date\" \"https://www.google.com/search?q=.hack Sekai no Mukou ni  Versus PS3 release date\" \"https://www.google.com/search?q=007 Quantum of Solace PS2 release date\" \"https://www.google.com/search?q=007 Quantum of Solace PS3 release date\" ...\n",
      " $ ReleaseYear          : int  NA NA NA NA NA NA NA NA NA NA ...\n",
      " $ ReleaseMonth         : int  NA NA NA NA NA NA NA NA NA NA ...\n",
      " $ EndOfMonth           : chr  \"\" \"\" \"\" \"\" ...\n",
      " $ ReleaseQuarter       : int  NA NA NA NA NA NA NA NA NA NA ...\n",
      " $ ReleaseWeekDay       : int  NA NA NA NA NA NA NA NA NA NA ...\n",
      " $ ReleaseWeekend       : chr  \"\" \"\" \"\" \"\" ...\n",
      " $ ReleaseWeek          : int  NA NA NA NA NA NA NA NA NA NA ...\n"
     ]
    },
    {
     "data": {
      "text/plain": [
       "    Title             Platform            Genre            Publisher        \n",
       " Length:8896        Length:8896        Length:8896        Length:8896       \n",
       " Class :character   Class :character   Class :character   Class :character  \n",
       " Mode  :character   Mode  :character   Mode  :character   Mode  :character  \n",
       "                                                                            \n",
       "                                                                            \n",
       "                                                                            \n",
       "                                                                            \n",
       "    VGScore        CriticScore      UserScore       TotalShipped   \n",
       " Min.   : 1.000   Min.   : 1.00   Min.   : 1.000   Min.   :  0.07  \n",
       " 1st Qu.: 4.000   1st Qu.: 3.00   1st Qu.: 3.000   1st Qu.: 67.00  \n",
       " Median : 6.000   Median : 6.00   Median : 5.000   Median :146.00  \n",
       " Mean   : 6.121   Mean   : 5.71   Mean   : 5.502   Mean   :145.25  \n",
       " 3rd Qu.: 8.500   3rd Qu.: 8.00   3rd Qu.: 8.000   3rd Qu.:224.00  \n",
       " Max.   :10.000   Max.   :10.00   Max.   :10.000   Max.   :300.00  \n",
       "                                                                   \n",
       "   AsianSales     NorthAmericaSales   JapanSales     EuropeSales   \n",
       " Min.   : 1.000   Min.   :0.010     Min.   :0.010   Min.   :0.010  \n",
       " 1st Qu.: 3.000   1st Qu.:0.640     1st Qu.:1.690   1st Qu.:1.040  \n",
       " Median : 3.000   Median :2.440     Median :3.100   Median :3.025  \n",
       " Mean   : 3.877   Mean   :2.591     Mean   :3.065   Mean   :3.037  \n",
       " 3rd Qu.: 5.140   3rd Qu.:4.060     3rd Qu.:4.590   3rd Qu.:5.000  \n",
       " Max.   :13.800   Max.   :8.000     Max.   :6.000   Max.   :7.000  \n",
       "                                                                   \n",
       "  GlobalSales    ProductionCost  ReleaseYear_v1  Developer        \n",
       " Min.   : 0.09   Min.   :0.010   Min.   :2000   Length:8896       \n",
       " 1st Qu.: 6.34   1st Qu.:2.160   1st Qu.:2004   Class :character  \n",
       " Median :12.20   Median :3.440   Median :2007   Mode  :character  \n",
       " Mean   :11.59   Mean   :3.565   Mean   :2008                     \n",
       " 3rd Qu.:16.23   3rd Qu.:4.950   3rd Qu.:2010                     \n",
       " Max.   :27.08   Max.   :8.000   Max.   :2020                     \n",
       "                                                                  \n",
       " MultipleGenre       MetaScore         AvgUserScore       NoOfPlayers       \n",
       " Length:8896        Length:8896        Length:8896        Length:8896       \n",
       " Class :character   Class :character   Class :character   Class :character  \n",
       " Mode  :character   Mode  :character   Mode  :character   Mode  :character  \n",
       "                                                                            \n",
       "                                                                            \n",
       "                                                                            \n",
       "                                                                            \n",
       " releasedate_1986.2023 releasedate_VGOutput releasedate_raw   \n",
       " Mode:logical          Length:8896          Length:8896       \n",
       " NA's:8896             Class :character     Class :character  \n",
       "                       Mode  :character     Mode  :character  \n",
       "                                                              \n",
       "                                                              \n",
       "                                                              \n",
       "                                                              \n",
       " ReleaseDate        releasedate_link    ReleaseYear    ReleaseMonth   \n",
       " Length:8896        Length:8896        Min.   :1900   Min.   : 1.000  \n",
       " Class :character   Class :character   1st Qu.:2003   1st Qu.: 4.000  \n",
       " Mode  :character   Mode  :character   Median :2006   Median : 8.000  \n",
       "                                       Mean   :2007   Mean   : 7.172  \n",
       "                                       3rd Qu.:2010   3rd Qu.:10.000  \n",
       "                                       Max.   :2019   Max.   :12.000  \n",
       "                                       NA's   :8070   NA's   :8070    \n",
       "  EndOfMonth        ReleaseQuarter  ReleaseWeekDay  ReleaseWeekend    \n",
       " Length:8896        Min.   :1.000   Min.   :1.000   Length:8896       \n",
       " Class :character   1st Qu.:2.000   1st Qu.:2.000   Class :character  \n",
       " Mode  :character   Median :3.000   Median :2.000   Mode  :character  \n",
       "                    Mean   :2.711   Mean   :2.636                     \n",
       "                    3rd Qu.:4.000   3rd Qu.:4.000                     \n",
       "                    Max.   :4.000   Max.   :7.000                     \n",
       "                    NA's   :8070    NA's   :8070                      \n",
       "  ReleaseWeek   \n",
       " Min.   : 0.00  \n",
       " 1st Qu.:16.00  \n",
       " Median :35.00  \n",
       " Mean   :29.94  \n",
       " 3rd Qu.:43.00  \n",
       " Max.   :52.00  \n",
       " NA's   :8070   "
      ]
     },
     "metadata": {},
     "output_type": "display_data"
    },
    {
     "data": {
      "text/html": [
       "<style>\n",
       ".list-inline {list-style: none; margin:0; padding: 0}\n",
       ".list-inline>li {display: inline-block}\n",
       ".list-inline>li:not(:last-child)::after {content: \"\\00b7\"; padding: 0 .5ex}\n",
       "</style>\n",
       "<ol class=list-inline><li>'Title'</li><li>'Platform'</li><li>'Genre'</li><li>'Publisher'</li><li>'VGScore'</li><li>'CriticScore'</li><li>'UserScore'</li><li>'TotalShipped'</li><li>'AsianSales'</li><li>'NorthAmericaSales'</li><li>'JapanSales'</li><li>'EuropeSales'</li><li>'GlobalSales'</li><li>'ProductionCost'</li><li>'ReleaseYear_v1'</li><li>'Developer'</li><li>'MultipleGenre'</li><li>'MetaScore'</li><li>'AvgUserScore'</li><li>'NoOfPlayers'</li><li>'releasedate_1986.2023'</li><li>'releasedate_VGOutput'</li><li>'releasedate_raw'</li><li>'ReleaseDate'</li><li>'releasedate_link'</li><li>'ReleaseYear'</li><li>'ReleaseMonth'</li><li>'EndOfMonth'</li><li>'ReleaseQuarter'</li><li>'ReleaseWeekDay'</li><li>'ReleaseWeekend'</li><li>'ReleaseWeek'</li></ol>\n"
      ],
      "text/latex": [
       "\\begin{enumerate*}\n",
       "\\item 'Title'\n",
       "\\item 'Platform'\n",
       "\\item 'Genre'\n",
       "\\item 'Publisher'\n",
       "\\item 'VGScore'\n",
       "\\item 'CriticScore'\n",
       "\\item 'UserScore'\n",
       "\\item 'TotalShipped'\n",
       "\\item 'AsianSales'\n",
       "\\item 'NorthAmericaSales'\n",
       "\\item 'JapanSales'\n",
       "\\item 'EuropeSales'\n",
       "\\item 'GlobalSales'\n",
       "\\item 'ProductionCost'\n",
       "\\item 'ReleaseYear\\_v1'\n",
       "\\item 'Developer'\n",
       "\\item 'MultipleGenre'\n",
       "\\item 'MetaScore'\n",
       "\\item 'AvgUserScore'\n",
       "\\item 'NoOfPlayers'\n",
       "\\item 'releasedate\\_1986.2023'\n",
       "\\item 'releasedate\\_VGOutput'\n",
       "\\item 'releasedate\\_raw'\n",
       "\\item 'ReleaseDate'\n",
       "\\item 'releasedate\\_link'\n",
       "\\item 'ReleaseYear'\n",
       "\\item 'ReleaseMonth'\n",
       "\\item 'EndOfMonth'\n",
       "\\item 'ReleaseQuarter'\n",
       "\\item 'ReleaseWeekDay'\n",
       "\\item 'ReleaseWeekend'\n",
       "\\item 'ReleaseWeek'\n",
       "\\end{enumerate*}\n"
      ],
      "text/markdown": [
       "1. 'Title'\n",
       "2. 'Platform'\n",
       "3. 'Genre'\n",
       "4. 'Publisher'\n",
       "5. 'VGScore'\n",
       "6. 'CriticScore'\n",
       "7. 'UserScore'\n",
       "8. 'TotalShipped'\n",
       "9. 'AsianSales'\n",
       "10. 'NorthAmericaSales'\n",
       "11. 'JapanSales'\n",
       "12. 'EuropeSales'\n",
       "13. 'GlobalSales'\n",
       "14. 'ProductionCost'\n",
       "15. 'ReleaseYear_v1'\n",
       "16. 'Developer'\n",
       "17. 'MultipleGenre'\n",
       "18. 'MetaScore'\n",
       "19. 'AvgUserScore'\n",
       "20. 'NoOfPlayers'\n",
       "21. 'releasedate_1986.2023'\n",
       "22. 'releasedate_VGOutput'\n",
       "23. 'releasedate_raw'\n",
       "24. 'ReleaseDate'\n",
       "25. 'releasedate_link'\n",
       "26. 'ReleaseYear'\n",
       "27. 'ReleaseMonth'\n",
       "28. 'EndOfMonth'\n",
       "29. 'ReleaseQuarter'\n",
       "30. 'ReleaseWeekDay'\n",
       "31. 'ReleaseWeekend'\n",
       "32. 'ReleaseWeek'\n",
       "\n",
       "\n"
      ],
      "text/plain": [
       " [1] \"Title\"                 \"Platform\"              \"Genre\"                \n",
       " [4] \"Publisher\"             \"VGScore\"               \"CriticScore\"          \n",
       " [7] \"UserScore\"             \"TotalShipped\"          \"AsianSales\"           \n",
       "[10] \"NorthAmericaSales\"     \"JapanSales\"            \"EuropeSales\"          \n",
       "[13] \"GlobalSales\"           \"ProductionCost\"        \"ReleaseYear_v1\"       \n",
       "[16] \"Developer\"             \"MultipleGenre\"         \"MetaScore\"            \n",
       "[19] \"AvgUserScore\"          \"NoOfPlayers\"           \"releasedate_1986.2023\"\n",
       "[22] \"releasedate_VGOutput\"  \"releasedate_raw\"       \"ReleaseDate\"          \n",
       "[25] \"releasedate_link\"      \"ReleaseYear\"           \"ReleaseMonth\"         \n",
       "[28] \"EndOfMonth\"            \"ReleaseQuarter\"        \"ReleaseWeekDay\"       \n",
       "[31] \"ReleaseWeekend\"        \"ReleaseWeek\"          "
      ]
     },
     "metadata": {},
     "output_type": "display_data"
    },
    {
     "data": {
      "text/html": [
       "<table class=\"dataframe\">\n",
       "<caption>A data.frame: 5 × 32</caption>\n",
       "<thead>\n",
       "\t<tr><th></th><th scope=col>Title</th><th scope=col>Platform</th><th scope=col>Genre</th><th scope=col>Publisher</th><th scope=col>VGScore</th><th scope=col>CriticScore</th><th scope=col>UserScore</th><th scope=col>TotalShipped</th><th scope=col>AsianSales</th><th scope=col>NorthAmericaSales</th><th scope=col>⋯</th><th scope=col>releasedate_raw</th><th scope=col>ReleaseDate</th><th scope=col>releasedate_link</th><th scope=col>ReleaseYear</th><th scope=col>ReleaseMonth</th><th scope=col>EndOfMonth</th><th scope=col>ReleaseQuarter</th><th scope=col>ReleaseWeekDay</th><th scope=col>ReleaseWeekend</th><th scope=col>ReleaseWeek</th></tr>\n",
       "\t<tr><th></th><th scope=col>&lt;chr&gt;</th><th scope=col>&lt;chr&gt;</th><th scope=col>&lt;chr&gt;</th><th scope=col>&lt;chr&gt;</th><th scope=col>&lt;dbl&gt;</th><th scope=col>&lt;dbl&gt;</th><th scope=col>&lt;dbl&gt;</th><th scope=col>&lt;dbl&gt;</th><th scope=col>&lt;dbl&gt;</th><th scope=col>&lt;dbl&gt;</th><th scope=col>⋯</th><th scope=col>&lt;chr&gt;</th><th scope=col>&lt;chr&gt;</th><th scope=col>&lt;chr&gt;</th><th scope=col>&lt;int&gt;</th><th scope=col>&lt;int&gt;</th><th scope=col>&lt;chr&gt;</th><th scope=col>&lt;int&gt;</th><th scope=col>&lt;int&gt;</th><th scope=col>&lt;chr&gt;</th><th scope=col>&lt;int&gt;</th></tr>\n",
       "</thead>\n",
       "<tbody>\n",
       "\t<tr><th scope=row>1</th><td>(c 12) Final Resistance        </td><td>PS </td><td>Shooter </td><td>IBM            </td><td>1</td><td> 6.5</td><td> 4</td><td>  8</td><td>5.08</td><td>1.10</td><td>⋯</td><td></td><td>0/1/1900</td><td>https://www.google.com/search?q=(c 12) Final Resistance PS release date         </td><td>NA</td><td>NA</td><td></td><td>NA</td><td>NA</td><td></td><td>NA</td></tr>\n",
       "\t<tr><th scope=row>2</th><td>.hack Sekai no Mukou ni  Versus</td><td>PS3</td><td>Fighting</td><td>IBM            </td><td>6</td><td>10.0</td><td> 6</td><td>269</td><td>3.00</td><td>1.86</td><td>⋯</td><td></td><td>0/1/1900</td><td>https://www.google.com/search?q=.hack Sekai no Mukou ni  Versus PS3 release date</td><td>NA</td><td>NA</td><td></td><td>NA</td><td>NA</td><td></td><td>NA</td></tr>\n",
       "\t<tr><th scope=row>3</th><td>007 Quantum of Solace          </td><td>PS2</td><td>Shooter </td><td>Activision     </td><td>8</td><td> 7.8</td><td> 4</td><td> 81</td><td>3.00</td><td>0.17</td><td>⋯</td><td></td><td>0/1/1900</td><td>https://www.google.com/search?q=007 Quantum of Solace PS2 release date          </td><td>NA</td><td>NA</td><td></td><td>NA</td><td>NA</td><td></td><td>NA</td></tr>\n",
       "\t<tr><th scope=row>4</th><td>007 Quantum of Solace          </td><td>PS3</td><td>Shooter </td><td>Activision     </td><td>3</td><td> 6.6</td><td>10</td><td>158</td><td>1.14</td><td>0.43</td><td>⋯</td><td></td><td>0/1/1900</td><td>https://www.google.com/search?q=007 Quantum of Solace PS3 release date          </td><td>NA</td><td>NA</td><td></td><td>NA</td><td>NA</td><td></td><td>NA</td></tr>\n",
       "\t<tr><th scope=row>5</th><td>007 The World is not Enough    </td><td>PS </td><td>Shooter </td><td>Electronic Arts</td><td>1</td><td> 6.4</td><td> 1</td><td>240</td><td>3.00</td><td>0.51</td><td>⋯</td><td></td><td>0/1/1900</td><td>https://www.google.com/search?q=007 The World is not Enough PS release date     </td><td>NA</td><td>NA</td><td></td><td>NA</td><td>NA</td><td></td><td>NA</td></tr>\n",
       "</tbody>\n",
       "</table>\n"
      ],
      "text/latex": [
       "A data.frame: 5 × 32\n",
       "\\begin{tabular}{r|lllllllllllllllllllll}\n",
       "  & Title & Platform & Genre & Publisher & VGScore & CriticScore & UserScore & TotalShipped & AsianSales & NorthAmericaSales & ⋯ & releasedate\\_raw & ReleaseDate & releasedate\\_link & ReleaseYear & ReleaseMonth & EndOfMonth & ReleaseQuarter & ReleaseWeekDay & ReleaseWeekend & ReleaseWeek\\\\\n",
       "  & <chr> & <chr> & <chr> & <chr> & <dbl> & <dbl> & <dbl> & <dbl> & <dbl> & <dbl> & ⋯ & <chr> & <chr> & <chr> & <int> & <int> & <chr> & <int> & <int> & <chr> & <int>\\\\\n",
       "\\hline\n",
       "\t1 & (c 12) Final Resistance         & PS  & Shooter  & IBM             & 1 &  6.5 &  4 &   8 & 5.08 & 1.10 & ⋯ &  & 0/1/1900 & https://www.google.com/search?q=(c 12) Final Resistance PS release date          & NA & NA &  & NA & NA &  & NA\\\\\n",
       "\t2 & .hack Sekai no Mukou ni  Versus & PS3 & Fighting & IBM             & 6 & 10.0 &  6 & 269 & 3.00 & 1.86 & ⋯ &  & 0/1/1900 & https://www.google.com/search?q=.hack Sekai no Mukou ni  Versus PS3 release date & NA & NA &  & NA & NA &  & NA\\\\\n",
       "\t3 & 007 Quantum of Solace           & PS2 & Shooter  & Activision      & 8 &  7.8 &  4 &  81 & 3.00 & 0.17 & ⋯ &  & 0/1/1900 & https://www.google.com/search?q=007 Quantum of Solace PS2 release date           & NA & NA &  & NA & NA &  & NA\\\\\n",
       "\t4 & 007 Quantum of Solace           & PS3 & Shooter  & Activision      & 3 &  6.6 & 10 & 158 & 1.14 & 0.43 & ⋯ &  & 0/1/1900 & https://www.google.com/search?q=007 Quantum of Solace PS3 release date           & NA & NA &  & NA & NA &  & NA\\\\\n",
       "\t5 & 007 The World is not Enough     & PS  & Shooter  & Electronic Arts & 1 &  6.4 &  1 & 240 & 3.00 & 0.51 & ⋯ &  & 0/1/1900 & https://www.google.com/search?q=007 The World is not Enough PS release date      & NA & NA &  & NA & NA &  & NA\\\\\n",
       "\\end{tabular}\n"
      ],
      "text/markdown": [
       "\n",
       "A data.frame: 5 × 32\n",
       "\n",
       "| <!--/--> | Title &lt;chr&gt; | Platform &lt;chr&gt; | Genre &lt;chr&gt; | Publisher &lt;chr&gt; | VGScore &lt;dbl&gt; | CriticScore &lt;dbl&gt; | UserScore &lt;dbl&gt; | TotalShipped &lt;dbl&gt; | AsianSales &lt;dbl&gt; | NorthAmericaSales &lt;dbl&gt; | ⋯ ⋯ | releasedate_raw &lt;chr&gt; | ReleaseDate &lt;chr&gt; | releasedate_link &lt;chr&gt; | ReleaseYear &lt;int&gt; | ReleaseMonth &lt;int&gt; | EndOfMonth &lt;chr&gt; | ReleaseQuarter &lt;int&gt; | ReleaseWeekDay &lt;int&gt; | ReleaseWeekend &lt;chr&gt; | ReleaseWeek &lt;int&gt; |\n",
       "|---|---|---|---|---|---|---|---|---|---|---|---|---|---|---|---|---|---|---|---|---|---|\n",
       "| 1 | (c 12) Final Resistance         | PS  | Shooter  | IBM             | 1 |  6.5 |  4 |   8 | 5.08 | 1.10 | ⋯ | <!----> | 0/1/1900 | https://www.google.com/search?q=(c 12) Final Resistance PS release date          | NA | NA | <!----> | NA | NA | <!----> | NA |\n",
       "| 2 | .hack Sekai no Mukou ni  Versus | PS3 | Fighting | IBM             | 6 | 10.0 |  6 | 269 | 3.00 | 1.86 | ⋯ | <!----> | 0/1/1900 | https://www.google.com/search?q=.hack Sekai no Mukou ni  Versus PS3 release date | NA | NA | <!----> | NA | NA | <!----> | NA |\n",
       "| 3 | 007 Quantum of Solace           | PS2 | Shooter  | Activision      | 8 |  7.8 |  4 |  81 | 3.00 | 0.17 | ⋯ | <!----> | 0/1/1900 | https://www.google.com/search?q=007 Quantum of Solace PS2 release date           | NA | NA | <!----> | NA | NA | <!----> | NA |\n",
       "| 4 | 007 Quantum of Solace           | PS3 | Shooter  | Activision      | 3 |  6.6 | 10 | 158 | 1.14 | 0.43 | ⋯ | <!----> | 0/1/1900 | https://www.google.com/search?q=007 Quantum of Solace PS3 release date           | NA | NA | <!----> | NA | NA | <!----> | NA |\n",
       "| 5 | 007 The World is not Enough     | PS  | Shooter  | Electronic Arts | 1 |  6.4 |  1 | 240 | 3.00 | 0.51 | ⋯ | <!----> | 0/1/1900 | https://www.google.com/search?q=007 The World is not Enough PS release date      | NA | NA | <!----> | NA | NA | <!----> | NA |\n",
       "\n"
      ],
      "text/plain": [
       "  Title                           Platform Genre    Publisher       VGScore\n",
       "1 (c 12) Final Resistance         PS       Shooter  IBM             1      \n",
       "2 .hack Sekai no Mukou ni  Versus PS3      Fighting IBM             6      \n",
       "3 007 Quantum of Solace           PS2      Shooter  Activision      8      \n",
       "4 007 Quantum of Solace           PS3      Shooter  Activision      3      \n",
       "5 007 The World is not Enough     PS       Shooter  Electronic Arts 1      \n",
       "  CriticScore UserScore TotalShipped AsianSales NorthAmericaSales ⋯\n",
       "1  6.5         4          8          5.08       1.10              ⋯\n",
       "2 10.0         6        269          3.00       1.86              ⋯\n",
       "3  7.8         4         81          3.00       0.17              ⋯\n",
       "4  6.6        10        158          1.14       0.43              ⋯\n",
       "5  6.4         1        240          3.00       0.51              ⋯\n",
       "  releasedate_raw ReleaseDate\n",
       "1                 0/1/1900   \n",
       "2                 0/1/1900   \n",
       "3                 0/1/1900   \n",
       "4                 0/1/1900   \n",
       "5                 0/1/1900   \n",
       "  releasedate_link                                                                \n",
       "1 https://www.google.com/search?q=(c 12) Final Resistance PS release date         \n",
       "2 https://www.google.com/search?q=.hack Sekai no Mukou ni  Versus PS3 release date\n",
       "3 https://www.google.com/search?q=007 Quantum of Solace PS2 release date          \n",
       "4 https://www.google.com/search?q=007 Quantum of Solace PS3 release date          \n",
       "5 https://www.google.com/search?q=007 The World is not Enough PS release date     \n",
       "  ReleaseYear ReleaseMonth EndOfMonth ReleaseQuarter ReleaseWeekDay\n",
       "1 NA          NA                      NA             NA            \n",
       "2 NA          NA                      NA             NA            \n",
       "3 NA          NA                      NA             NA            \n",
       "4 NA          NA                      NA             NA            \n",
       "5 NA          NA                      NA             NA            \n",
       "  ReleaseWeekend ReleaseWeek\n",
       "1                NA         \n",
       "2                NA         \n",
       "3                NA         \n",
       "4                NA         \n",
       "5                NA         "
      ]
     },
     "metadata": {},
     "output_type": "display_data"
    }
   ],
   "source": [
    "# Check the data\n",
    "str(data)\n",
    "summary(data)\n",
    "names(data)\n",
    "head(data, 5)"
   ]
  },
  {
   "cell_type": "code",
   "execution_count": 4,
   "metadata": {
    "vscode": {
     "languageId": "r"
    }
   },
   "outputs": [],
   "source": [
    "########################################################\n",
    "# drop empty values\n",
    "\n",
    "data <- subset(data, !(Developer %in% c(\"$ Developer\", \"#N/A\")))"
   ]
  },
  {
   "cell_type": "code",
   "execution_count": 84,
   "metadata": {
    "vscode": {
     "languageId": "r"
    }
   },
   "outputs": [
    {
     "name": "stdout",
     "output_type": "stream",
     "text": [
      "'data.frame':\t826 obs. of  32 variables:\n",
      " $ Title                : chr  \"1701 A.D.\" \"2002 FIFA World Cup\" \"2010 FIFA World Cup South Africa\" \"ABZU\" ...\n",
      " $ Platform             : chr  \"PC\" \"PC\" \"PS3\" \"PC\" ...\n",
      " $ Genre                : chr  \"Simulation\" \"Sports\" \"Sports\" \"Adventure\" ...\n",
      " $ Publisher            : chr  \"Sony Computer Entertainment\" \"Sony Computer Entertainment\" \"Ubisoft\" \"Activision\" ...\n",
      " $ VGScore              : num  8 2 7 9 8 6 8 10 3 5 ...\n",
      " $ CriticScore          : num  7.7 6 8.2 8 7 8.7 7 4 4 8.2 ...\n",
      " $ UserScore            : num  5 7 9 9 7 10 3 8 8 2 ...\n",
      " $ TotalShipped         : num  1 277 53 0.58 117 117 59 189 296 275 ...\n",
      " $ AsianSales           : num  7.05 3.77 1.23 6.83 3 3 3 1.09 3 7.34 ...\n",
      " $ NorthAmericaSales    : num  4.74 3.55 0.3 1.6 0.03 0.17 0.25 0.29 0.05 4.4 ...\n",
      " $ JapanSales           : num  5.85 1.03 0.07 2.48 4.98 3.56 2.9 0.05 5.03 3.43 ...\n",
      " $ EuropeSales          : num  2.3 3.58 0.64 5.48 3.98 0.13 0.18 0.59 0.04 4.6 ...\n",
      " $ GlobalSales          : num  19.94 11.93 2.24 16.39 9.03 ...\n",
      " $ ProductionCost       : num  6.96 6.06 4.24 3.75 3.24 3.21 0.03 2.61 2.58 2.07 ...\n",
      " $ ReleaseYear_v1       : int  2006 2002 2010 2016 2017 2002 2010 2014 2004 2001 ...\n",
      " $ Developer            : chr  \"RelatedDesigns\" \"EASports\" \"EACanada\" \"GiantSquid\" ...\n",
      " $ MultipleGenre        : chr  \"Strategy;Real-Time;Historic;General;Historic\" \"Sports;Traditional;Team;Soccer;Sim;Sim\" \"Sports;Traditional;Team;Soccer;Sim;Sim\" \"Action Adventure;Adventure;General;3D;Third-Person\" ...\n",
      " $ MetaScore            : chr  \"79\" \"80\" \"82\" \"83\" ...\n",
      " $ AvgUserScore         : chr  \"8.4\" \"8\" \"7.8\" \"6.9\" ...\n",
      " $ NoOfPlayers          : chr  \"1 to 4\" \"Mutliplayer\" \"1\" \"1\" ...\n",
      " $ releasedate_1986.2023: logi  NA NA NA NA NA NA ...\n",
      " $ releasedate_VGOutput : chr  \"#N/A\" \"#N/A\" \"#N/A\" \"#N/A\" ...\n",
      " $ releasedate_raw      : chr  \"October 26 2006\" \"26/4/2002\" \"April 27 2010\" \"August 2 2016\" ...\n",
      " $ ReleaseDate          : chr  \"26/10/2006\" \"26/4/2002\" \"27/4/2010\" \"2/8/2016\" ...\n",
      " $ releasedate_link     : chr  \"https://www.google.com/search?q=1701 A.D. PC release date\" \"https://www.google.com/search?q=2002 FIFA World Cup PC release date\" \"https://www.google.com/search?q=2010 FIFA World Cup South Africa PS3 release date\" \"https://www.google.com/search?q=ABZU PC release date\" ...\n",
      " $ ReleaseYear          : int  2006 2002 2010 2016 2016 2002 2010 2014 2004 2001 ...\n",
      " $ ReleaseMonth         : int  10 4 4 8 8 5 3 10 11 10 ...\n",
      " $ EndOfMonth           : chr  \"Yes\" \"Yes\" \"Yes\" \"No\" ...\n",
      " $ ReleaseQuarter       : int  4 2 2 3 3 2 1 4 4 4 ...\n",
      " $ ReleaseWeekDay       : int  4 5 2 2 2 2 2 1 7 1 ...\n",
      " $ ReleaseWeekend       : chr  \"Weekday\" \"Weekday\" \"Weekday\" \"Weekday\" ...\n",
      " $ ReleaseWeek          : int  43 17 18 32 32 22 10 41 48 43 ...\n"
     ]
    },
    {
     "data": {
      "text/plain": [
       "    Title             Platform            Genre            Publisher        \n",
       " Length:826         Length:826         Length:826         Length:826        \n",
       " Class :character   Class :character   Class :character   Class :character  \n",
       " Mode  :character   Mode  :character   Mode  :character   Mode  :character  \n",
       "                                                                            \n",
       "                                                                            \n",
       "                                                                            \n",
       "    VGScore        CriticScore       UserScore       TotalShipped  \n",
       " Min.   : 1.000   Min.   : 1.000   Min.   : 1.000   Min.   :  0.1  \n",
       " 1st Qu.: 4.000   1st Qu.: 4.000   1st Qu.: 3.000   1st Qu.: 53.0  \n",
       " Median : 7.000   Median : 8.000   Median : 5.000   Median :134.0  \n",
       " Mean   : 6.277   Mean   : 6.623   Mean   : 5.428   Mean   :139.4  \n",
       " 3rd Qu.: 8.600   3rd Qu.: 8.700   3rd Qu.: 8.000   3rd Qu.:223.5  \n",
       " Max.   :10.000   Max.   :10.000   Max.   :10.000   Max.   :300.0  \n",
       "   AsianSales     NorthAmericaSales   JapanSales     EuropeSales   \n",
       " Min.   : 1.000   Min.   :0.010     Min.   :0.010   Min.   :0.010  \n",
       " 1st Qu.: 2.560   1st Qu.:0.300     1st Qu.:1.230   1st Qu.:0.120  \n",
       " Median : 3.000   Median :1.310     Median :2.780   Median :0.615  \n",
       " Mean   : 3.355   Mean   :1.980     Mean   :2.760   Mean   :1.760  \n",
       " 3rd Qu.: 3.558   3rd Qu.:3.237     3rd Qu.:4.348   3rd Qu.:3.185  \n",
       " Max.   :13.800   Max.   :7.910     Max.   :5.990   Max.   :6.990  \n",
       "  GlobalSales     ProductionCost  ReleaseYear_v1  Developer        \n",
       " Min.   : 0.090   Min.   :0.010   Min.   :2000   Length:826        \n",
       " 1st Qu.: 3.960   1st Qu.:2.230   1st Qu.:2003   Class :character  \n",
       " Median : 7.015   Median :3.400   Median :2006   Mode  :character  \n",
       " Mean   : 8.762   Mean   :3.553   Mean   :2007                     \n",
       " 3rd Qu.:13.300   3rd Qu.:4.860   3rd Qu.:2010                     \n",
       " Max.   :25.660   Max.   :7.840   Max.   :2019                     \n",
       " MultipleGenre       MetaScore         AvgUserScore       NoOfPlayers       \n",
       " Length:826         Length:826         Length:826         Length:826        \n",
       " Class :character   Class :character   Class :character   Class :character  \n",
       " Mode  :character   Mode  :character   Mode  :character   Mode  :character  \n",
       "                                                                            \n",
       "                                                                            \n",
       "                                                                            \n",
       " releasedate_1986.2023 releasedate_VGOutput releasedate_raw   \n",
       " Mode:logical          Length:826           Length:826        \n",
       " NA's:826              Class :character     Class :character  \n",
       "                       Mode  :character     Mode  :character  \n",
       "                                                              \n",
       "                                                              \n",
       "                                                              \n",
       " ReleaseDate        releasedate_link    ReleaseYear    ReleaseMonth   \n",
       " Length:826         Length:826         Min.   :1900   Min.   : 1.000  \n",
       " Class :character   Class :character   1st Qu.:2003   1st Qu.: 4.000  \n",
       " Mode  :character   Mode  :character   Median :2006   Median : 8.000  \n",
       "                                       Mean   :2007   Mean   : 7.172  \n",
       "                                       3rd Qu.:2010   3rd Qu.:10.000  \n",
       "                                       Max.   :2019   Max.   :12.000  \n",
       "  EndOfMonth        ReleaseQuarter  ReleaseWeekDay  ReleaseWeekend    \n",
       " Length:826         Min.   :1.000   Min.   :1.000   Length:826        \n",
       " Class :character   1st Qu.:2.000   1st Qu.:2.000   Class :character  \n",
       " Mode  :character   Median :3.000   Median :2.000   Mode  :character  \n",
       "                    Mean   :2.711   Mean   :2.636                     \n",
       "                    3rd Qu.:4.000   3rd Qu.:4.000                     \n",
       "                    Max.   :4.000   Max.   :7.000                     \n",
       "  ReleaseWeek   \n",
       " Min.   : 0.00  \n",
       " 1st Qu.:16.00  \n",
       " Median :35.00  \n",
       " Mean   :29.94  \n",
       " 3rd Qu.:43.00  \n",
       " Max.   :52.00  "
      ]
     },
     "metadata": {},
     "output_type": "display_data"
    }
   ],
   "source": [
    "# Check the data\n",
    "str(data)\n",
    "summary(data)"
   ]
  },
  {
   "cell_type": "code",
   "execution_count": 5,
   "metadata": {
    "vscode": {
     "languageId": "r"
    }
   },
   "outputs": [
    {
     "name": "stderr",
     "output_type": "stream",
     "text": [
      "Warning message:\n",
      "\"\u001b[1m\u001b[22mThere was 1 warning in `mutate()`.\n",
      "\u001b[1m\u001b[22m\u001b[36mℹ\u001b[39m In argument: `AvgUserScore = as.numeric(AvgUserScore)`.\n",
      "Caused by warning:\n",
      "\u001b[33m!\u001b[39m NAs introduced by coercion\"\n"
     ]
    }
   ],
   "source": [
    "########################################################\n",
    "# data type\n",
    "# set the variables to factors (categorical data)\n",
    "data <- data %>%\n",
    "  mutate(\n",
    "    Platform = as.factor(Platform),\n",
    "    Genre = as.factor(Genre),\n",
    "    Publisher = as.factor(Publisher),\n",
    "    Developer = as.factor(Developer),\n",
    "    NoOfPlayers = as.factor(NoOfPlayers),\n",
    "    ReleaseWeekend = as.factor(ReleaseWeekend),\n",
    "    EndOfMonth = as.factor(EndOfMonth),\n",
    "    ReleaseWeekend = as.factor(ReleaseWeekend),\n",
    "    MetaScore = as.numeric(MetaScore),\n",
    "    AvgUserScore = as.numeric (AvgUserScore),\n",
    "    ReleaseDate = as.Date(ReleaseDate)  \n",
    "  )\n",
    "\n",
    "data ['releasedate_1986.2023'] = NULL\n",
    "data ['releasedate_VGOutput'] = NULL\n",
    "data ['releasedate_raw'] = NULL\n",
    "data ['releasedate_link'] = NULL"
   ]
  },
  {
   "cell_type": "code",
   "execution_count": 6,
   "metadata": {
    "vscode": {
     "languageId": "r"
    }
   },
   "outputs": [
    {
     "data": {
      "text/html": [
       "TRUE"
      ],
      "text/latex": [
       "TRUE"
      ],
      "text/markdown": [
       "TRUE"
      ],
      "text/plain": [
       "[1] TRUE"
      ]
     },
     "metadata": {},
     "output_type": "display_data"
    },
    {
     "data": {
      "text/html": [
       "<style>\n",
       ".list-inline {list-style: none; margin:0; padding: 0}\n",
       ".list-inline>li {display: inline-block}\n",
       ".list-inline>li:not(:last-child)::after {content: \"\\00b7\"; padding: 0 .5ex}\n",
       "</style>\n",
       "<ol class=list-inline><li>7</li><li>16</li><li>315</li><li>427</li><li>505</li><li>603</li><li>674</li><li>734</li></ol>\n"
      ],
      "text/latex": [
       "\\begin{enumerate*}\n",
       "\\item 7\n",
       "\\item 16\n",
       "\\item 315\n",
       "\\item 427\n",
       "\\item 505\n",
       "\\item 603\n",
       "\\item 674\n",
       "\\item 734\n",
       "\\end{enumerate*}\n"
      ],
      "text/markdown": [
       "1. 7\n",
       "2. 16\n",
       "3. 315\n",
       "4. 427\n",
       "5. 505\n",
       "6. 603\n",
       "7. 674\n",
       "8. 734\n",
       "\n",
       "\n"
      ],
      "text/plain": [
       "[1]   7  16 315 427 505 603 674 734"
      ]
     },
     "metadata": {},
     "output_type": "display_data"
    }
   ],
   "source": [
    "has_NA <- any(is.na(data$AvgUserScore))\n",
    "has_NA\n",
    "\n",
    "rows_with_NA <- which(is.na(data$AvgUserScore))\n",
    "rows_with_NA"
   ]
  },
  {
   "cell_type": "code",
   "execution_count": 87,
   "metadata": {
    "vscode": {
     "languageId": "r"
    }
   },
   "outputs": [
    {
     "data": {
      "text/html": [
       "<table class=\"dataframe\">\n",
       "<caption>A matrix: 3 × 29 of type dbl</caption>\n",
       "<thead>\n",
       "\t<tr><th></th><th scope=col>Title</th><th scope=col>Platform</th><th scope=col>Genre</th><th scope=col>Publisher</th><th scope=col>VGScore</th><th scope=col>CriticScore</th><th scope=col>UserScore</th><th scope=col>TotalShipped</th><th scope=col>AsianSales</th><th scope=col>NorthAmericaSales</th><th scope=col>⋯</th><th scope=col>ReleaseDate</th><th scope=col>ReleaseYear</th><th scope=col>ReleaseMonth</th><th scope=col>EndOfMonth</th><th scope=col>ReleaseQuarter</th><th scope=col>ReleaseWeekDay</th><th scope=col>ReleaseWeekend</th><th scope=col>ReleaseWeek</th><th scope=col>AvgUserScore</th><th scope=col></th></tr>\n",
       "</thead>\n",
       "<tbody>\n",
       "\t<tr><th scope=row>818</th><td>1</td><td>1</td><td>1</td><td>1</td><td>1</td><td>1</td><td>1</td><td>1</td><td>1</td><td>1</td><td>⋯</td><td>1</td><td>1</td><td>1</td><td>1</td><td>1</td><td>1</td><td>1</td><td>1</td><td>1</td><td>0</td></tr>\n",
       "\t<tr><th scope=row>8</th><td>1</td><td>1</td><td>1</td><td>1</td><td>1</td><td>1</td><td>1</td><td>1</td><td>1</td><td>1</td><td>⋯</td><td>1</td><td>1</td><td>1</td><td>1</td><td>1</td><td>1</td><td>1</td><td>1</td><td>0</td><td>1</td></tr>\n",
       "\t<tr><th scope=row></th><td>0</td><td>0</td><td>0</td><td>0</td><td>0</td><td>0</td><td>0</td><td>0</td><td>0</td><td>0</td><td>⋯</td><td>0</td><td>0</td><td>0</td><td>0</td><td>0</td><td>0</td><td>0</td><td>0</td><td>8</td><td>8</td></tr>\n",
       "</tbody>\n",
       "</table>\n"
      ],
      "text/latex": [
       "A matrix: 3 × 29 of type dbl\n",
       "\\begin{tabular}{r|lllllllllllllllllllll}\n",
       "  & Title & Platform & Genre & Publisher & VGScore & CriticScore & UserScore & TotalShipped & AsianSales & NorthAmericaSales & ⋯ & ReleaseDate & ReleaseYear & ReleaseMonth & EndOfMonth & ReleaseQuarter & ReleaseWeekDay & ReleaseWeekend & ReleaseWeek & AvgUserScore & \\\\\n",
       "\\hline\n",
       "\t818 & 1 & 1 & 1 & 1 & 1 & 1 & 1 & 1 & 1 & 1 & ⋯ & 1 & 1 & 1 & 1 & 1 & 1 & 1 & 1 & 1 & 0\\\\\n",
       "\t8 & 1 & 1 & 1 & 1 & 1 & 1 & 1 & 1 & 1 & 1 & ⋯ & 1 & 1 & 1 & 1 & 1 & 1 & 1 & 1 & 0 & 1\\\\\n",
       "\t & 0 & 0 & 0 & 0 & 0 & 0 & 0 & 0 & 0 & 0 & ⋯ & 0 & 0 & 0 & 0 & 0 & 0 & 0 & 0 & 8 & 8\\\\\n",
       "\\end{tabular}\n"
      ],
      "text/markdown": [
       "\n",
       "A matrix: 3 × 29 of type dbl\n",
       "\n",
       "| <!--/--> | Title | Platform | Genre | Publisher | VGScore | CriticScore | UserScore | TotalShipped | AsianSales | NorthAmericaSales | ⋯ | ReleaseDate | ReleaseYear | ReleaseMonth | EndOfMonth | ReleaseQuarter | ReleaseWeekDay | ReleaseWeekend | ReleaseWeek | AvgUserScore | <!----> |\n",
       "|---|---|---|---|---|---|---|---|---|---|---|---|---|---|---|---|---|---|---|---|---|---|\n",
       "| 818 | 1 | 1 | 1 | 1 | 1 | 1 | 1 | 1 | 1 | 1 | ⋯ | 1 | 1 | 1 | 1 | 1 | 1 | 1 | 1 | 1 | 0 |\n",
       "| 8 | 1 | 1 | 1 | 1 | 1 | 1 | 1 | 1 | 1 | 1 | ⋯ | 1 | 1 | 1 | 1 | 1 | 1 | 1 | 1 | 0 | 1 |\n",
       "| <!----> | 0 | 0 | 0 | 0 | 0 | 0 | 0 | 0 | 0 | 0 | ⋯ | 0 | 0 | 0 | 0 | 0 | 0 | 0 | 0 | 8 | 8 |\n",
       "\n"
      ],
      "text/plain": [
       "    Title Platform Genre Publisher VGScore CriticScore UserScore TotalShipped\n",
       "818 1     1        1     1         1       1           1         1           \n",
       "8   1     1        1     1         1       1           1         1           \n",
       "    0     0        0     0         0       0           0         0           \n",
       "    AsianSales NorthAmericaSales ⋯ ReleaseDate ReleaseYear ReleaseMonth\n",
       "818 1          1                 ⋯ 1           1           1           \n",
       "8   1          1                 ⋯ 1           1           1           \n",
       "    0          0                 ⋯ 0           0           0           \n",
       "    EndOfMonth ReleaseQuarter ReleaseWeekDay ReleaseWeekend ReleaseWeek\n",
       "818 1          1              1              1              1          \n",
       "8   1          1              1              1              1          \n",
       "    0          0              0              0              0          \n",
       "    AvgUserScore  \n",
       "818 1            0\n",
       "8   0            1\n",
       "    8            8"
      ]
     },
     "metadata": {},
     "output_type": "display_data"
    },
    {
     "data": {
      "text/html": [
       "<table class=\"dataframe\">\n",
       "<caption>A tibble: 1 × 4</caption>\n",
       "<thead>\n",
       "\t<tr><th scope=col>statistic</th><th scope=col>df</th><th scope=col>p.value</th><th scope=col>missing.patterns</th></tr>\n",
       "\t<tr><th scope=col>&lt;dbl&gt;</th><th scope=col>&lt;dbl&gt;</th><th scope=col>&lt;dbl&gt;</th><th scope=col>&lt;int&gt;</th></tr>\n",
       "</thead>\n",
       "<tbody>\n",
       "\t<tr><td>54.19672</td><td>27</td><td>0.001439332</td><td>2</td></tr>\n",
       "</tbody>\n",
       "</table>\n"
      ],
      "text/latex": [
       "A tibble: 1 × 4\n",
       "\\begin{tabular}{llll}\n",
       " statistic & df & p.value & missing.patterns\\\\\n",
       " <dbl> & <dbl> & <dbl> & <int>\\\\\n",
       "\\hline\n",
       "\t 54.19672 & 27 & 0.001439332 & 2\\\\\n",
       "\\end{tabular}\n"
      ],
      "text/markdown": [
       "\n",
       "A tibble: 1 × 4\n",
       "\n",
       "| statistic &lt;dbl&gt; | df &lt;dbl&gt; | p.value &lt;dbl&gt; | missing.patterns &lt;int&gt; |\n",
       "|---|---|---|---|\n",
       "| 54.19672 | 27 | 0.001439332 | 2 |\n",
       "\n"
      ],
      "text/plain": [
       "  statistic df p.value     missing.patterns\n",
       "1 54.19672  27 0.001439332 2               "
      ]
     },
     "metadata": {},
     "output_type": "display_data"
    },
    {
     "data": {
      "image/png": "[encoded data removed]",
      "text/plain": [
       "plot without title"
      ]
     },
     "metadata": {
      "image/png": {
       "height": 420,
       "width": 420
      }
     },
     "output_type": "display_data"
    }
   ],
   "source": [
    "# Check the missing value pattern in AvgUserScore\n",
    "md.pattern(data)\n",
    "\n",
    "##### Little's Test #######\n",
    "# Little's (1988) test statistic to assess if data is MCAR. \n",
    "# The null hypothesis (H0) : the data is MCAR\n",
    "\n",
    "mcar_test(data)\n",
    "\n",
    "# p-value of mcar test is less than 0.05, reject the H0, the data is not MCAR, hence not recommended to impute missing values, suggest to drop"
   ]
  },
  {
   "cell_type": "code",
   "execution_count": 7,
   "metadata": {
    "vscode": {
     "languageId": "r"
    }
   },
   "outputs": [],
   "source": [
    "########################################################\n",
    "# drop empty values\n",
    "\n",
    "data <- subset(data, !(AvgUserScore %in% c(\"$ AvgUserScore\", \"NA\", \"\")) & !(is.na(AvgUserScore)) & !(ReleaseYear == 1900))\n"
   ]
  },
  {
   "cell_type": "code",
   "execution_count": 8,
   "metadata": {
    "vscode": {
     "languageId": "r"
    }
   },
   "outputs": [],
   "source": [
    "########################################################\n",
    "# data type\n",
    "# set the variables to factors (categorical data)\n",
    "data <- data %>%\n",
    "  mutate(\n",
    "    Platform = as.factor(Platform),\n",
    "    Genre = as.factor(Genre),\n",
    "    Publisher = as.factor(Publisher),\n",
    "    Developer = as.factor(Developer),\n",
    "    NoOfPlayers = as.factor(NoOfPlayers),\n",
    "    ReleaseWeekend = as.factor(ReleaseWeekend),\n",
    "    EndOfMonth = as.factor(EndOfMonth),\n",
    "    ReleaseWeekend = as.factor(ReleaseWeekend),\n",
    "    MetaScore = as.numeric(MetaScore),\n",
    "    AvgUserScore = as.numeric (AvgUserScore),\n",
    "    ReleaseDate = as.Date(ReleaseDate)  \n",
    "  )\n",
    "\n",
    "data ['releasedate_1986.2023'] = NULL\n",
    "data ['releasedate_VGOutput'] = NULL\n",
    "data ['releasedate_raw'] = NULL\n",
    "data ['releasedate_link'] = NULL\n",
    "data ['ReleaseYear_v1'] = NULL"
   ]
  },
  {
   "cell_type": "code",
   "execution_count": 90,
   "metadata": {
    "vscode": {
     "languageId": "r"
    }
   },
   "outputs": [
    {
     "name": "stdout",
     "output_type": "stream",
     "text": [
      "'data.frame':\t816 obs. of  27 variables:\n",
      " $ Title            : chr  \"1701 A.D.\" \"2002 FIFA World Cup\" \"2010 FIFA World Cup South Africa\" \"ABZU\" ...\n",
      " $ Platform         : Factor w/ 6 levels \"DS\",\"PC\",\"PS\",..: 2 2 5 2 6 4 6 4 2 2 ...\n",
      " $ Genre            : Factor w/ 8 levels \"Adventure\",\"Board Game\",..: 7 8 8 1 1 8 1 6 6 7 ...\n",
      " $ Publisher        : Factor w/ 8 levels \"Activision\",\"Amazon Game Studios\",..: 7 7 8 1 3 1 4 4 7 1 ...\n",
      " $ VGScore          : num  8 2 7 9 8 6 10 3 5 1 ...\n",
      " $ CriticScore      : num  7.7 6 8.2 8 7 8.7 4 4 8.2 10 ...\n",
      " $ UserScore        : num  5 7 9 9 7 10 8 8 2 10 ...\n",
      " $ TotalShipped     : num  1 277 53 0.58 117 117 189 296 275 231 ...\n",
      " $ AsianSales       : num  7.05 3.77 1.23 6.83 3 3 1.09 3 7.34 3.78 ...\n",
      " $ NorthAmericaSales: num  4.74 3.55 0.3 1.6 0.03 0.17 0.29 0.05 4.4 3.01 ...\n",
      " $ JapanSales       : num  5.85 1.03 0.07 2.48 4.98 3.56 0.05 5.03 3.43 4.72 ...\n",
      " $ EuropeSales      : num  2.3 3.58 0.64 5.48 3.98 0.13 0.59 0.04 4.6 5.26 ...\n",
      " $ GlobalSales      : num  19.94 11.93 2.24 16.39 9.03 ...\n",
      " $ ProductionCost   : num  6.96 6.06 4.24 3.75 3.24 3.21 2.61 2.58 2.07 2.81 ...\n",
      " $ Developer        : Factor w/ 320 levels \"1stPlayableProductions\",..: 225 93 84 126 126 318 59 283 181 178 ...\n",
      " $ MultipleGenre    : chr  \"Strategy;Real-Time;Historic;General;Historic\" \"Sports;Traditional;Team;Soccer;Sim;Sim\" \"Sports;Traditional;Team;Soccer;Sim;Sim\" \"Action Adventure;Adventure;General;3D;Third-Person\" ...\n",
      " $ MetaScore        : num  79 80 82 83 78 85 79 78 85 86 ...\n",
      " $ AvgUserScore     : num  8.4 8 7.8 6.9 7.6 8.7 8.2 8.3 8.7 8.3 ...\n",
      " $ NoOfPlayers      : Factor w/ 6 levels \"#N/A\",\"1\",\"1 to 2\",..: 4 6 2 2 2 3 2 2 6 2 ...\n",
      " $ ReleaseDate      : Date, format: \"0026-10-20\" \"0026-04-20\" ...\n",
      " $ ReleaseYear      : int  2006 2002 2010 2016 2016 2002 2014 2004 2001 2000 ...\n",
      " $ ReleaseMonth     : int  10 4 4 8 8 5 10 11 10 3 ...\n",
      " $ EndOfMonth       : Factor w/ 2 levels \"No\",\"Yes\": 2 2 2 1 1 2 1 2 2 1 ...\n",
      " $ ReleaseQuarter   : int  4 2 2 3 3 2 4 4 4 1 ...\n",
      " $ ReleaseWeekDay   : int  4 5 2 2 2 2 1 7 1 4 ...\n",
      " $ ReleaseWeekend   : Factor w/ 2 levels \"Weekday\",\"Weekend\": 1 1 1 1 1 1 1 2 1 1 ...\n",
      " $ ReleaseWeek      : int  43 17 18 32 32 22 41 48 43 12 ...\n"
     ]
    },
    {
     "data": {
      "text/plain": [
       "    Title           Platform         Genre    \n",
       " Length:816         DS : 42   Shooter   :213  \n",
       " Class :character   PC :351   Sports    :210  \n",
       " Mode  :character   PS : 20   Racing    :120  \n",
       "                    PS2:223   Adventure :101  \n",
       "                    PS3:131   Simulation: 81  \n",
       "                    PS4: 49   Fighting  : 54  \n",
       "                              (Other)   : 37  \n",
       "                       Publisher      VGScore        CriticScore    \n",
       " Electronic Arts            :179   Min.   : 1.000   Min.   : 1.000  \n",
       " Activision                 :145   1st Qu.: 4.000   1st Qu.: 4.000  \n",
       " Ubisoft                    :117   Median : 7.000   Median : 8.000  \n",
       " Frontier Developments      :113   Mean   : 6.271   Mean   : 6.634  \n",
       " Sony Computer Entertainment: 83   3rd Qu.: 8.600   3rd Qu.: 8.700  \n",
       " Omega                      : 66   Max.   :10.000   Max.   :10.000  \n",
       " (Other)                    :113                                    \n",
       "   UserScore       TotalShipped     AsianSales     NorthAmericaSales\n",
       " Min.   : 1.000   Min.   :  0.1   Min.   : 1.000   Min.   :0.0100   \n",
       " 1st Qu.: 3.000   1st Qu.: 53.0   1st Qu.: 2.515   1st Qu.:0.3175   \n",
       " Median : 5.000   Median :134.5   Median : 3.000   Median :1.3150   \n",
       " Mean   : 5.443   Mean   :139.6   Mean   : 3.355   Mean   :1.9896   \n",
       " 3rd Qu.: 8.000   3rd Qu.:224.0   3rd Qu.: 3.567   3rd Qu.:3.2400   \n",
       " Max.   :10.000   Max.   :300.0   Max.   :13.800   Max.   :7.9100   \n",
       "                                                                    \n",
       "   JapanSales     EuropeSales     GlobalSales     ProductionCost \n",
       " Min.   :0.010   Min.   :0.010   Min.   : 0.090   Min.   :0.010  \n",
       " 1st Qu.:1.218   1st Qu.:0.120   1st Qu.: 3.945   1st Qu.:2.237  \n",
       " Median :2.775   Median :0.630   Median : 7.055   Median :3.400  \n",
       " Mean   :2.747   Mean   :1.772   Mean   : 8.783   Mean   :3.556  \n",
       " 3rd Qu.:4.330   3rd Qu.:3.228   3rd Qu.:13.305   3rd Qu.:4.830  \n",
       " Max.   :5.990   Max.   :6.990   Max.   :25.660   Max.   :7.840  \n",
       "                                                                 \n",
       "          Developer   MultipleGenre        MetaScore      AvgUserScore  \n",
       " EASports      : 59   Length:816         Min.   :77.00   Min.   :2.700  \n",
       " EACanada      : 36   Class :character   1st Qu.:80.00   1st Qu.:7.500  \n",
       " EATiburon     : 22   Mode  :character   Median :83.00   Median :8.000  \n",
       " Codemasters   : 20                      Mean   :83.33   Mean   :7.812  \n",
       " VisualConcepts: 19                      3rd Qu.:86.00   3rd Qu.:8.500  \n",
       " Capcom        : 13                      Max.   :96.00   Max.   :9.200  \n",
       " (Other)       :647                                                     \n",
       "      NoOfPlayers   ReleaseDate          ReleaseYear    ReleaseMonth   \n",
       " #N/A       :  1   Min.   :0001-02-20   Min.   :2000   Min.   : 1.000  \n",
       " 1          :346   1st Qu.:0008-11-20   1st Qu.:2003   1st Qu.: 4.000  \n",
       " 1 to 2     :144   Median :0017-02-20   Median :2006   Median : 8.000  \n",
       " 1 to 4     : 91   Mean   :0016-07-01   Mean   :2007   Mean   : 7.181  \n",
       " 1 to 8     : 14   3rd Qu.:0024-03-20   3rd Qu.:2010   3rd Qu.:10.000  \n",
       " Mutliplayer:220   Max.   :0031-10-20   Max.   :2019   Max.   :12.000  \n",
       "                                                                       \n",
       " EndOfMonth ReleaseQuarter  ReleaseWeekDay  ReleaseWeekend  ReleaseWeek\n",
       " No :517    Min.   :1.000   Min.   :1.000   Weekday:791    Min.   : 1  \n",
       " Yes:299    1st Qu.:2.000   1st Qu.:2.000   Weekend: 25    1st Qu.:16  \n",
       "            Median :3.000   Median :2.000                  Median :35  \n",
       "            Mean   :2.713   Mean   :2.626                  Mean   :30  \n",
       "            3rd Qu.:4.000   3rd Qu.:4.000                  3rd Qu.:43  \n",
       "            Max.   :4.000   Max.   :7.000                  Max.   :52  \n",
       "                                                                       "
      ]
     },
     "metadata": {},
     "output_type": "display_data"
    }
   ],
   "source": [
    "# Check the data\n",
    "str(data)\n",
    "summary(data)"
   ]
  },
  {
   "cell_type": "code",
   "execution_count": 9,
   "metadata": {
    "vscode": {
     "languageId": "r"
    }
   },
   "outputs": [
    {
     "data": {
      "text/html": [
       "<style>\n",
       ".dl-inline {width: auto; margin:0; padding: 0}\n",
       ".dl-inline>dt, .dl-inline>dd {float: none; width: auto; display: inline-block}\n",
       ".dl-inline>dt::after {content: \":\\0020\"; padding-right: .5ex}\n",
       ".dl-inline>dt:not(:first-of-type) {padding-left: .5ex}\n",
       "</style><dl class=dl-inline><dt>Title</dt><dd>695</dd><dt>Platform</dt><dd>6</dd><dt>Genre</dt><dd>8</dd><dt>Publisher</dt><dd>8</dd><dt>VGScore</dt><dd>28</dd><dt>CriticScore</dt><dd>34</dd><dt>UserScore</dt><dd>21</dd><dt>TotalShipped</dt><dd>345</dd><dt>AsianSales</dt><dd>336</dd><dt>NorthAmericaSales</dt><dd>400</dd><dt>JapanSales</dt><dd>395</dd><dt>EuropeSales</dt><dd>355</dd><dt>GlobalSales</dt><dd>654</dd><dt>ProductionCost</dt><dd>405</dd><dt>Developer</dt><dd>314</dd><dt>MultipleGenre</dt><dd>249</dd><dt>MetaScore</dt><dd>20</dd><dt>AvgUserScore</dt><dd>54</dd><dt>NoOfPlayers</dt><dd>6</dd><dt>ReleaseDate</dt><dd>284</dd><dt>ReleaseYear</dt><dd>20</dd><dt>ReleaseMonth</dt><dd>12</dd><dt>EndOfMonth</dt><dd>2</dd><dt>ReleaseQuarter</dt><dd>4</dd><dt>ReleaseWeekDay</dt><dd>7</dd><dt>ReleaseWeekend</dt><dd>2</dd><dt>ReleaseWeek</dt><dd>52</dd></dl>\n"
      ],
      "text/latex": [
       "\\begin{description*}\n",
       "\\item[Title] 695\n",
       "\\item[Platform] 6\n",
       "\\item[Genre] 8\n",
       "\\item[Publisher] 8\n",
       "\\item[VGScore] 28\n",
       "\\item[CriticScore] 34\n",
       "\\item[UserScore] 21\n",
       "\\item[TotalShipped] 345\n",
       "\\item[AsianSales] 336\n",
       "\\item[NorthAmericaSales] 400\n",
       "\\item[JapanSales] 395\n",
       "\\item[EuropeSales] 355\n",
       "\\item[GlobalSales] 654\n",
       "\\item[ProductionCost] 405\n",
       "\\item[Developer] 314\n",
       "\\item[MultipleGenre] 249\n",
       "\\item[MetaScore] 20\n",
       "\\item[AvgUserScore] 54\n",
       "\\item[NoOfPlayers] 6\n",
       "\\item[ReleaseDate] 284\n",
       "\\item[ReleaseYear] 20\n",
       "\\item[ReleaseMonth] 12\n",
       "\\item[EndOfMonth] 2\n",
       "\\item[ReleaseQuarter] 4\n",
       "\\item[ReleaseWeekDay] 7\n",
       "\\item[ReleaseWeekend] 2\n",
       "\\item[ReleaseWeek] 52\n",
       "\\end{description*}\n"
      ],
      "text/markdown": [
       "Title\n",
       ":   695Platform\n",
       ":   6Genre\n",
       ":   8Publisher\n",
       ":   8VGScore\n",
       ":   28CriticScore\n",
       ":   34UserScore\n",
       ":   21TotalShipped\n",
       ":   345AsianSales\n",
       ":   336NorthAmericaSales\n",
       ":   400JapanSales\n",
       ":   395EuropeSales\n",
       ":   355GlobalSales\n",
       ":   654ProductionCost\n",
       ":   405Developer\n",
       ":   314MultipleGenre\n",
       ":   249MetaScore\n",
       ":   20AvgUserScore\n",
       ":   54NoOfPlayers\n",
       ":   6ReleaseDate\n",
       ":   284ReleaseYear\n",
       ":   20ReleaseMonth\n",
       ":   12EndOfMonth\n",
       ":   2ReleaseQuarter\n",
       ":   4ReleaseWeekDay\n",
       ":   7ReleaseWeekend\n",
       ":   2ReleaseWeek\n",
       ":   52\n",
       "\n"
      ],
      "text/plain": [
       "            Title          Platform             Genre         Publisher \n",
       "              695                 6                 8                 8 \n",
       "          VGScore       CriticScore         UserScore      TotalShipped \n",
       "               28                34                21               345 \n",
       "       AsianSales NorthAmericaSales        JapanSales       EuropeSales \n",
       "              336               400               395               355 \n",
       "      GlobalSales    ProductionCost         Developer     MultipleGenre \n",
       "              654               405               314               249 \n",
       "        MetaScore      AvgUserScore       NoOfPlayers       ReleaseDate \n",
       "               20                54                 6               284 \n",
       "      ReleaseYear      ReleaseMonth        EndOfMonth    ReleaseQuarter \n",
       "               20                12                 2                 4 \n",
       "   ReleaseWeekDay    ReleaseWeekend       ReleaseWeek \n",
       "                7                 2                52 "
      ]
     },
     "metadata": {},
     "output_type": "display_data"
    }
   ],
   "source": [
    "########################################################\n",
    "# Check the number of distinct values for the variables\n",
    "\n",
    "sapply(data, function(x) n_distinct(x))"
   ]
  },
  {
   "cell_type": "code",
   "execution_count": 10,
   "metadata": {
    "vscode": {
     "languageId": "r"
    }
   },
   "outputs": [
    {
     "data": {
      "text/html": [
       "0"
      ],
      "text/latex": [
       "0"
      ],
      "text/markdown": [
       "0"
      ],
      "text/plain": [
       "[1] 0"
      ]
     },
     "metadata": {},
     "output_type": "display_data"
    }
   ],
   "source": [
    "sum(is.na(data))"
   ]
  },
  {
   "cell_type": "markdown",
   "metadata": {},
   "source": [
    "Data Cleaning"
   ]
  },
  {
   "cell_type": "code",
   "execution_count": 11,
   "metadata": {
    "vscode": {
     "languageId": "r"
    }
   },
   "outputs": [
    {
     "name": "stderr",
     "output_type": "stream",
     "text": [
      "Warning message:\n",
      "\"\u001b[1m\u001b[22mUsing `size` aesthetic for lines was deprecated in ggplot2 3.4.0.\n",
      "\u001b[36mℹ\u001b[39m Please use `linewidth` instead.\"\n"
     ]
    },
    {
     "data": {
      "image/png": "[encoded data removed]",
      "text/plain": [
       "plot without title"
      ]
     },
     "metadata": {
      "image/png": {
       "height": 420,
       "width": 420
      }
     },
     "output_type": "display_data"
    }
   ],
   "source": [
    "########################################################\n",
    "# EDA - explore the dataset\n",
    "\n",
    "# Calculate average sales and count of games released by year\n",
    "summary_data <- data %>%\n",
    "  group_by(ReleaseYear) %>%\n",
    "  summarise(AvgSales = mean(GlobalSales), Count = n())\n",
    "\n",
    "# Define a scaling factor to make the Count values visible\n",
    "count_scaling_factor <- max(summary_data$AvgSales) / max(summary_data$Count)\n",
    "\n",
    "# Create a line graph\n",
    "ggplot(summary_data, aes(x = ReleaseYear)) +\n",
    "  geom_line(aes(y = AvgSales, color = \"Average Sales\"), size = 1) +\n",
    "  geom_line(aes(y = Count * count_scaling_factor, color = \"Count\"), size = 1) +\n",
    "  scale_color_manual(values = c(\"Average Sales\" = \"blue\", \"Count\" = \"orange\")) +\n",
    "  labs(title = \"Average Sales and Game Count by Release Year\",\n",
    "       y = \"Average Sales\",\n",
    "       color = \"Metric\") +\n",
    "  theme_minimal() +\n",
    "  scale_y_continuous(\n",
    "    sec.axis = sec_axis(~./count_scaling_factor, name = \"Count\")\n",
    "  ) +\n",
    "  scale_x_continuous(breaks = unique(summary_data$ReleaseYear))"
   ]
  },
  {
   "cell_type": "code",
   "execution_count": 12,
   "metadata": {
    "vscode": {
     "languageId": "r"
    }
   },
   "outputs": [
    {
     "data": {
      "image/png": "[encoded data removed]",
      "text/plain": [
       "plot without title"
      ]
     },
     "metadata": {
      "image/png": {
       "height": 420,
       "width": 420
      }
     },
     "output_type": "display_data"
    }
   ],
   "source": [
    "# Subset the years to display on the x-axis (e.g., displaying every 5th year)\n",
    "years_to_display <- unique(summary_data$ReleaseYear)[seq(1, length(unique(summary_data$ReleaseYear)), by = 2)]\n",
    "\n",
    "# Create a line graph displaying Average Sales by year and count as a secondary axis\n",
    "ggplot(summary_data, aes(x = ReleaseYear)) +\n",
    "  geom_line(aes(y = AvgSales, color = \"Average Sales\"), size = 1) +\n",
    "  geom_line(aes(y = Count * count_scaling_factor, color = \"Count\"), size = 1) +\n",
    "  scale_color_manual(values = c(\"Average Sales\" = \"blue\", \"Count\" = \"white\")) +\n",
    "  labs(title = \"Average Sales by Release Year\",\n",
    "       y = \"Average Sales\",\n",
    "       color = \"Metric\") +\n",
    "  theme_minimal() +\n",
    "  scale_y_continuous(sec.axis = sec_axis(~./count_scaling_factor, name = \"Count\")) +\n",
    "  scale_x_continuous(breaks = years_to_display)"
   ]
  },
  {
   "cell_type": "code",
   "execution_count": 95,
   "metadata": {
    "vscode": {
     "languageId": "r"
    }
   },
   "outputs": [
    {
     "data": {
      "text/html": [
       "<table class=\"dataframe\">\n",
       "<caption>A tibble: 20 × 3</caption>\n",
       "<thead>\n",
       "\t<tr><th scope=col>ReleaseYear</th><th scope=col>AvgSales</th><th scope=col>Count</th></tr>\n",
       "\t<tr><th scope=col>&lt;int&gt;</th><th scope=col>&lt;dbl&gt;</th><th scope=col>&lt;int&gt;</th></tr>\n",
       "</thead>\n",
       "<tbody>\n",
       "\t<tr><td>2000</td><td>10.233478</td><td>46</td></tr>\n",
       "\t<tr><td>2001</td><td> 7.967586</td><td>58</td></tr>\n",
       "\t<tr><td>2002</td><td> 9.060588</td><td>68</td></tr>\n",
       "\t<tr><td>2003</td><td> 8.800260</td><td>77</td></tr>\n",
       "\t<tr><td>2004</td><td> 8.850926</td><td>54</td></tr>\n",
       "\t<tr><td>2005</td><td> 8.089848</td><td>66</td></tr>\n",
       "\t<tr><td>2006</td><td> 9.064792</td><td>48</td></tr>\n",
       "\t<tr><td>2007</td><td> 7.022667</td><td>60</td></tr>\n",
       "\t<tr><td>2008</td><td> 7.718361</td><td>61</td></tr>\n",
       "\t<tr><td>2009</td><td> 8.179853</td><td>68</td></tr>\n",
       "\t<tr><td>2010</td><td>10.075172</td><td>29</td></tr>\n",
       "\t<tr><td>2011</td><td> 6.822333</td><td>30</td></tr>\n",
       "\t<tr><td>2012</td><td>10.148095</td><td>21</td></tr>\n",
       "\t<tr><td>2013</td><td>10.413478</td><td>23</td></tr>\n",
       "\t<tr><td>2014</td><td>10.398000</td><td>15</td></tr>\n",
       "\t<tr><td>2015</td><td> 9.091250</td><td>24</td></tr>\n",
       "\t<tr><td>2016</td><td>10.247600</td><td>25</td></tr>\n",
       "\t<tr><td>2017</td><td>11.037200</td><td>25</td></tr>\n",
       "\t<tr><td>2018</td><td>10.205882</td><td>17</td></tr>\n",
       "\t<tr><td>2019</td><td>15.370000</td><td> 1</td></tr>\n",
       "</tbody>\n",
       "</table>\n"
      ],
      "text/latex": [
       "A tibble: 20 × 3\n",
       "\\begin{tabular}{lll}\n",
       " ReleaseYear & AvgSales & Count\\\\\n",
       " <int> & <dbl> & <int>\\\\\n",
       "\\hline\n",
       "\t 2000 & 10.233478 & 46\\\\\n",
       "\t 2001 &  7.967586 & 58\\\\\n",
       "\t 2002 &  9.060588 & 68\\\\\n",
       "\t 2003 &  8.800260 & 77\\\\\n",
       "\t 2004 &  8.850926 & 54\\\\\n",
       "\t 2005 &  8.089848 & 66\\\\\n",
       "\t 2006 &  9.064792 & 48\\\\\n",
       "\t 2007 &  7.022667 & 60\\\\\n",
       "\t 2008 &  7.718361 & 61\\\\\n",
       "\t 2009 &  8.179853 & 68\\\\\n",
       "\t 2010 & 10.075172 & 29\\\\\n",
       "\t 2011 &  6.822333 & 30\\\\\n",
       "\t 2012 & 10.148095 & 21\\\\\n",
       "\t 2013 & 10.413478 & 23\\\\\n",
       "\t 2014 & 10.398000 & 15\\\\\n",
       "\t 2015 &  9.091250 & 24\\\\\n",
       "\t 2016 & 10.247600 & 25\\\\\n",
       "\t 2017 & 11.037200 & 25\\\\\n",
       "\t 2018 & 10.205882 & 17\\\\\n",
       "\t 2019 & 15.370000 &  1\\\\\n",
       "\\end{tabular}\n"
      ],
      "text/markdown": [
       "\n",
       "A tibble: 20 × 3\n",
       "\n",
       "| ReleaseYear &lt;int&gt; | AvgSales &lt;dbl&gt; | Count &lt;int&gt; |\n",
       "|---|---|---|\n",
       "| 2000 | 10.233478 | 46 |\n",
       "| 2001 |  7.967586 | 58 |\n",
       "| 2002 |  9.060588 | 68 |\n",
       "| 2003 |  8.800260 | 77 |\n",
       "| 2004 |  8.850926 | 54 |\n",
       "| 2005 |  8.089848 | 66 |\n",
       "| 2006 |  9.064792 | 48 |\n",
       "| 2007 |  7.022667 | 60 |\n",
       "| 2008 |  7.718361 | 61 |\n",
       "| 2009 |  8.179853 | 68 |\n",
       "| 2010 | 10.075172 | 29 |\n",
       "| 2011 |  6.822333 | 30 |\n",
       "| 2012 | 10.148095 | 21 |\n",
       "| 2013 | 10.413478 | 23 |\n",
       "| 2014 | 10.398000 | 15 |\n",
       "| 2015 |  9.091250 | 24 |\n",
       "| 2016 | 10.247600 | 25 |\n",
       "| 2017 | 11.037200 | 25 |\n",
       "| 2018 | 10.205882 | 17 |\n",
       "| 2019 | 15.370000 |  1 |\n",
       "\n"
      ],
      "text/plain": [
       "   ReleaseYear AvgSales  Count\n",
       "1  2000        10.233478 46   \n",
       "2  2001         7.967586 58   \n",
       "3  2002         9.060588 68   \n",
       "4  2003         8.800260 77   \n",
       "5  2004         8.850926 54   \n",
       "6  2005         8.089848 66   \n",
       "7  2006         9.064792 48   \n",
       "8  2007         7.022667 60   \n",
       "9  2008         7.718361 61   \n",
       "10 2009         8.179853 68   \n",
       "11 2010        10.075172 29   \n",
       "12 2011         6.822333 30   \n",
       "13 2012        10.148095 21   \n",
       "14 2013        10.413478 23   \n",
       "15 2014        10.398000 15   \n",
       "16 2015         9.091250 24   \n",
       "17 2016        10.247600 25   \n",
       "18 2017        11.037200 25   \n",
       "19 2018        10.205882 17   \n",
       "20 2019        15.370000  1   "
      ]
     },
     "metadata": {},
     "output_type": "display_data"
    }
   ],
   "source": [
    "summary_data"
   ]
  },
  {
   "cell_type": "code",
   "execution_count": 13,
   "metadata": {
    "vscode": {
     "languageId": "r"
    }
   },
   "outputs": [],
   "source": [
    "# Drop data from 2019 onwards to eliminate covid impact\n",
    "\n",
    "data <- subset(data, !(ReleaseYear == 2019))"
   ]
  },
  {
   "cell_type": "code",
   "execution_count": 14,
   "metadata": {
    "vscode": {
     "languageId": "r"
    }
   },
   "outputs": [
    {
     "data": {
      "text/html": [
       "<style>\n",
       ".dl-inline {width: auto; margin:0; padding: 0}\n",
       ".dl-inline>dt, .dl-inline>dd {float: none; width: auto; display: inline-block}\n",
       ".dl-inline>dt::after {content: \":\\0020\"; padding-right: .5ex}\n",
       ".dl-inline>dt:not(:first-of-type) {padding-left: .5ex}\n",
       "</style><dl class=dl-inline><dt>Title</dt><dd>694</dd><dt>Platform</dt><dd>6</dd><dt>Genre</dt><dd>8</dd><dt>Publisher</dt><dd>8</dd><dt>VGScore</dt><dd>28</dd><dt>CriticScore</dt><dd>34</dd><dt>UserScore</dt><dd>21</dd><dt>TotalShipped</dt><dd>345</dd><dt>AsianSales</dt><dd>336</dd><dt>NorthAmericaSales</dt><dd>400</dd><dt>JapanSales</dt><dd>394</dd><dt>EuropeSales</dt><dd>355</dd><dt>GlobalSales</dt><dd>653</dd><dt>ProductionCost</dt><dd>405</dd><dt>Developer</dt><dd>314</dd><dt>MultipleGenre</dt><dd>248</dd><dt>MetaScore</dt><dd>20</dd><dt>AvgUserScore</dt><dd>54</dd><dt>NoOfPlayers</dt><dd>6</dd><dt>ReleaseDate</dt><dd>283</dd><dt>ReleaseYear</dt><dd>19</dd><dt>ReleaseMonth</dt><dd>12</dd><dt>EndOfMonth</dt><dd>2</dd><dt>ReleaseQuarter</dt><dd>4</dd><dt>ReleaseWeekDay</dt><dd>7</dd><dt>ReleaseWeekend</dt><dd>2</dd><dt>ReleaseWeek</dt><dd>52</dd></dl>\n"
      ],
      "text/latex": [
       "\\begin{description*}\n",
       "\\item[Title] 694\n",
       "\\item[Platform] 6\n",
       "\\item[Genre] 8\n",
       "\\item[Publisher] 8\n",
       "\\item[VGScore] 28\n",
       "\\item[CriticScore] 34\n",
       "\\item[UserScore] 21\n",
       "\\item[TotalShipped] 345\n",
       "\\item[AsianSales] 336\n",
       "\\item[NorthAmericaSales] 400\n",
       "\\item[JapanSales] 394\n",
       "\\item[EuropeSales] 355\n",
       "\\item[GlobalSales] 653\n",
       "\\item[ProductionCost] 405\n",
       "\\item[Developer] 314\n",
       "\\item[MultipleGenre] 248\n",
       "\\item[MetaScore] 20\n",
       "\\item[AvgUserScore] 54\n",
       "\\item[NoOfPlayers] 6\n",
       "\\item[ReleaseDate] 283\n",
       "\\item[ReleaseYear] 19\n",
       "\\item[ReleaseMonth] 12\n",
       "\\item[EndOfMonth] 2\n",
       "\\item[ReleaseQuarter] 4\n",
       "\\item[ReleaseWeekDay] 7\n",
       "\\item[ReleaseWeekend] 2\n",
       "\\item[ReleaseWeek] 52\n",
       "\\end{description*}\n"
      ],
      "text/markdown": [
       "Title\n",
       ":   694Platform\n",
       ":   6Genre\n",
       ":   8Publisher\n",
       ":   8VGScore\n",
       ":   28CriticScore\n",
       ":   34UserScore\n",
       ":   21TotalShipped\n",
       ":   345AsianSales\n",
       ":   336NorthAmericaSales\n",
       ":   400JapanSales\n",
       ":   394EuropeSales\n",
       ":   355GlobalSales\n",
       ":   653ProductionCost\n",
       ":   405Developer\n",
       ":   314MultipleGenre\n",
       ":   248MetaScore\n",
       ":   20AvgUserScore\n",
       ":   54NoOfPlayers\n",
       ":   6ReleaseDate\n",
       ":   283ReleaseYear\n",
       ":   19ReleaseMonth\n",
       ":   12EndOfMonth\n",
       ":   2ReleaseQuarter\n",
       ":   4ReleaseWeekDay\n",
       ":   7ReleaseWeekend\n",
       ":   2ReleaseWeek\n",
       ":   52\n",
       "\n"
      ],
      "text/plain": [
       "            Title          Platform             Genre         Publisher \n",
       "              694                 6                 8                 8 \n",
       "          VGScore       CriticScore         UserScore      TotalShipped \n",
       "               28                34                21               345 \n",
       "       AsianSales NorthAmericaSales        JapanSales       EuropeSales \n",
       "              336               400               394               355 \n",
       "      GlobalSales    ProductionCost         Developer     MultipleGenre \n",
       "              653               405               314               248 \n",
       "        MetaScore      AvgUserScore       NoOfPlayers       ReleaseDate \n",
       "               20                54                 6               283 \n",
       "      ReleaseYear      ReleaseMonth        EndOfMonth    ReleaseQuarter \n",
       "               19                12                 2                 4 \n",
       "   ReleaseWeekDay    ReleaseWeekend       ReleaseWeek \n",
       "                7                 2                52 "
      ]
     },
     "metadata": {},
     "output_type": "display_data"
    }
   ],
   "source": [
    "########################################################\n",
    "# Check the number of distinct values for the variables\n",
    "\n",
    "sapply(data, function(x) n_distinct(x))"
   ]
  },
  {
   "cell_type": "code",
   "execution_count": 15,
   "metadata": {
    "vscode": {
     "languageId": "r"
    }
   },
   "outputs": [],
   "source": [
    "########################################################\n",
    "# Data inconsistencies spotted for Developer column\n",
    "\n",
    "# Change 'Developer' column to character\n",
    "data$Developer <- as.character(data$Developer)\n",
    "\n",
    "# Define a mapping of replacements as a named vector\n",
    "  developer_replacements <- c(\n",
    "  'CodemastersBirmingham' = 'Codemasters',\n",
    "  'CriterionGames,STELLARENTERTAINMENTSOFTWARELTD' = 'CriterionGames',\n",
    "  'EABlackBox|EACanada|EACanada,EAVancouver|EAChicago|EADICE|EAGames|EALA|EARedwoodShores|EASaltLake|EASports|EASports,EAVancouver|EASportsBig|EATiburon|EAVancouver|ElectronicArts' = 'Electronic Arts',\n",
    "  'GearboxSoftware,IronGalaxyStudios' = 'GearboxSoftware',\n",
    "  'Maxis,EARedwoodShores' = 'Maxis',\n",
    "  'NamcoBandaiGames' = 'Namco',\n",
    "  'Nintendo,NintendoSoftwareTechnology' = 'Nintendo',\n",
    "  'RockstarLeeds|RockstarSanDiego|RockstarStudios|RockstarToronto' = 'Rockstar',\n",
    "  'SCEA|SCEASanDiegoStudios|SCEE|SCEELondonStudio|SCEJapanStudio|SCESantaMonica|SonyInteractiveEntertainment|SonyInteractiveEntertainment,FirstContactEntertainment|SonyOnlineEntertainment|SonyOnlineEntertainment,DaybreakGames' = 'Sony',\n",
    "  'SegaAM2|SegaAM3' = 'Sega',\n",
    "  'UbisoftMontpellier|UbisoftMontreal|UbisoftReflections|UbisoftRomania' = 'Ubisoft'\n",
    ")\n",
    "\n",
    "# Use str_replace_all to apply the replacements\n",
    "data$Developer <- str_replace_all(data$Developer, developer_replacements)\n",
    "\n",
    "# Convert 'Developer' back to factor\n",
    "data$Developer <- as.factor(data$Developer)"
   ]
  },
  {
   "cell_type": "code",
   "execution_count": 99,
   "metadata": {
    "vscode": {
     "languageId": "r"
    }
   },
   "outputs": [
    {
     "data": {
      "text/html": [
       "<style>\n",
       ".dl-inline {width: auto; margin:0; padding: 0}\n",
       ".dl-inline>dt, .dl-inline>dd {float: none; width: auto; display: inline-block}\n",
       ".dl-inline>dt::after {content: \":\\0020\"; padding-right: .5ex}\n",
       ".dl-inline>dt:not(:first-of-type) {padding-left: .5ex}\n",
       "</style><dl class=dl-inline><dt>Title</dt><dd>694</dd><dt>Platform</dt><dd>6</dd><dt>Genre</dt><dd>8</dd><dt>Publisher</dt><dd>8</dd><dt>VGScore</dt><dd>28</dd><dt>CriticScore</dt><dd>34</dd><dt>UserScore</dt><dd>21</dd><dt>TotalShipped</dt><dd>345</dd><dt>AsianSales</dt><dd>336</dd><dt>NorthAmericaSales</dt><dd>400</dd><dt>JapanSales</dt><dd>394</dd><dt>EuropeSales</dt><dd>355</dd><dt>GlobalSales</dt><dd>653</dd><dt>ProductionCost</dt><dd>405</dd><dt>Developer</dt><dd>283</dd><dt>MultipleGenre</dt><dd>248</dd><dt>MetaScore</dt><dd>20</dd><dt>AvgUserScore</dt><dd>54</dd><dt>NoOfPlayers</dt><dd>6</dd><dt>ReleaseDate</dt><dd>283</dd><dt>ReleaseYear</dt><dd>19</dd><dt>ReleaseMonth</dt><dd>12</dd><dt>EndOfMonth</dt><dd>2</dd><dt>ReleaseQuarter</dt><dd>4</dd><dt>ReleaseWeekDay</dt><dd>7</dd><dt>ReleaseWeekend</dt><dd>2</dd><dt>ReleaseWeek</dt><dd>52</dd></dl>\n"
      ],
      "text/latex": [
       "\\begin{description*}\n",
       "\\item[Title] 694\n",
       "\\item[Platform] 6\n",
       "\\item[Genre] 8\n",
       "\\item[Publisher] 8\n",
       "\\item[VGScore] 28\n",
       "\\item[CriticScore] 34\n",
       "\\item[UserScore] 21\n",
       "\\item[TotalShipped] 345\n",
       "\\item[AsianSales] 336\n",
       "\\item[NorthAmericaSales] 400\n",
       "\\item[JapanSales] 394\n",
       "\\item[EuropeSales] 355\n",
       "\\item[GlobalSales] 653\n",
       "\\item[ProductionCost] 405\n",
       "\\item[Developer] 283\n",
       "\\item[MultipleGenre] 248\n",
       "\\item[MetaScore] 20\n",
       "\\item[AvgUserScore] 54\n",
       "\\item[NoOfPlayers] 6\n",
       "\\item[ReleaseDate] 283\n",
       "\\item[ReleaseYear] 19\n",
       "\\item[ReleaseMonth] 12\n",
       "\\item[EndOfMonth] 2\n",
       "\\item[ReleaseQuarter] 4\n",
       "\\item[ReleaseWeekDay] 7\n",
       "\\item[ReleaseWeekend] 2\n",
       "\\item[ReleaseWeek] 52\n",
       "\\end{description*}\n"
      ],
      "text/markdown": [
       "Title\n",
       ":   694Platform\n",
       ":   6Genre\n",
       ":   8Publisher\n",
       ":   8VGScore\n",
       ":   28CriticScore\n",
       ":   34UserScore\n",
       ":   21TotalShipped\n",
       ":   345AsianSales\n",
       ":   336NorthAmericaSales\n",
       ":   400JapanSales\n",
       ":   394EuropeSales\n",
       ":   355GlobalSales\n",
       ":   653ProductionCost\n",
       ":   405Developer\n",
       ":   283MultipleGenre\n",
       ":   248MetaScore\n",
       ":   20AvgUserScore\n",
       ":   54NoOfPlayers\n",
       ":   6ReleaseDate\n",
       ":   283ReleaseYear\n",
       ":   19ReleaseMonth\n",
       ":   12EndOfMonth\n",
       ":   2ReleaseQuarter\n",
       ":   4ReleaseWeekDay\n",
       ":   7ReleaseWeekend\n",
       ":   2ReleaseWeek\n",
       ":   52\n",
       "\n"
      ],
      "text/plain": [
       "            Title          Platform             Genre         Publisher \n",
       "              694                 6                 8                 8 \n",
       "          VGScore       CriticScore         UserScore      TotalShipped \n",
       "               28                34                21               345 \n",
       "       AsianSales NorthAmericaSales        JapanSales       EuropeSales \n",
       "              336               400               394               355 \n",
       "      GlobalSales    ProductionCost         Developer     MultipleGenre \n",
       "              653               405               283               248 \n",
       "        MetaScore      AvgUserScore       NoOfPlayers       ReleaseDate \n",
       "               20                54                 6               283 \n",
       "      ReleaseYear      ReleaseMonth        EndOfMonth    ReleaseQuarter \n",
       "               19                12                 2                 4 \n",
       "   ReleaseWeekDay    ReleaseWeekend       ReleaseWeek \n",
       "                7                 2                52 "
      ]
     },
     "metadata": {},
     "output_type": "display_data"
    }
   ],
   "source": [
    "########################################################\n",
    "# Check the number of distinct values for the variables\n",
    "\n",
    "sapply(data, function(x) n_distinct(x))"
   ]
  },
  {
   "cell_type": "code",
   "execution_count": 16,
   "metadata": {
    "vscode": {
     "languageId": "r"
    }
   },
   "outputs": [
    {
     "name": "stdout",
     "output_type": "stream",
     "text": [
      " [1] Electronic Arts   Codemasters       VisualConcepts    Namco            \n",
      " [5] Ubisoft           Capcom            SportsInteractive KCET             \n",
      " [9] Maxis             Konami           \n",
      "283 Levels: 1stPlayableProductions 2015 2DBoy 2KCzech 2KGames ... ZipperInteractive\n"
     ]
    }
   ],
   "source": [
    "########################################################\n",
    "# Group Top 10 after addressing data inconsistencies\n",
    "\n",
    "# Calculate the frequency of each Developer\n",
    "developer_counts <- data %>%\n",
    "  group_by(Developer) %>%\n",
    "  summarise(n = n()) %>%\n",
    "  arrange(desc(n))\n",
    "\n",
    "# Extract the top 10 unique developers based on count frequency\n",
    "top10_developers <- developer_counts$Developer %>%\n",
    "  head(10)\n",
    "\n",
    "# View the top 10\n",
    "print(top10_developers)"
   ]
  },
  {
   "cell_type": "code",
   "execution_count": 17,
   "metadata": {
    "vscode": {
     "languageId": "r"
    }
   },
   "outputs": [
    {
     "data": {
      "image/png": "[encoded data removed]",
      "text/plain": [
       "plot without title"
      ]
     },
     "metadata": {
      "image/png": {
       "height": 420,
       "width": 420
      }
     },
     "output_type": "display_data"
    }
   ],
   "source": [
    "# Visualize top 10 Developers\n",
    "ggplot(head(developer_counts, 10), aes(x = reorder(Developer, -n), y = n)) +\n",
    "  geom_bar(stat = \"identity\", fill = \"skyblue\", alpha = 0.7) +\n",
    "  labs(title = \"Top 10 Developers by Count\",\n",
    "       x = \"Developer\",\n",
    "       y = \"Count\") +\n",
    "  theme(axis.text.x = element_text(angle = 45, hjust = 1)) +\n",
    "  coord_flip()"
   ]
  },
  {
   "cell_type": "code",
   "execution_count": 18,
   "metadata": {
    "vscode": {
     "languageId": "r"
    }
   },
   "outputs": [],
   "source": [
    "# Create a function to replace with \"Others\" if not in the top list\n",
    "replace_with_others <- function(names, top_names) {\n",
    "  names <- as.character(names)\n",
    "  names[!names %in% top_names] <- \"Others\"\n",
    "  names <- as.factor(names)\n",
    "  return(names)\n",
    "}\n",
    "\n",
    "data$TopDeveloper_Count = data$Developer\n",
    "\n",
    "# Replace publishers and developers in the original data frame\n",
    "data$TopDeveloper_Count <- replace_with_others(data$TopDeveloper_Count, top10_developers)"
   ]
  },
  {
   "cell_type": "code",
   "execution_count": 19,
   "metadata": {
    "vscode": {
     "languageId": "r"
    }
   },
   "outputs": [
    {
     "data": {
      "text/html": [
       "<style>\n",
       ".dl-inline {width: auto; margin:0; padding: 0}\n",
       ".dl-inline>dt, .dl-inline>dd {float: none; width: auto; display: inline-block}\n",
       ".dl-inline>dt::after {content: \":\\0020\"; padding-right: .5ex}\n",
       ".dl-inline>dt:not(:first-of-type) {padding-left: .5ex}\n",
       "</style><dl class=dl-inline><dt>Title</dt><dd>694</dd><dt>Platform</dt><dd>6</dd><dt>Genre</dt><dd>8</dd><dt>Publisher</dt><dd>8</dd><dt>VGScore</dt><dd>28</dd><dt>CriticScore</dt><dd>34</dd><dt>UserScore</dt><dd>21</dd><dt>TotalShipped</dt><dd>345</dd><dt>AsianSales</dt><dd>336</dd><dt>NorthAmericaSales</dt><dd>400</dd><dt>JapanSales</dt><dd>394</dd><dt>EuropeSales</dt><dd>355</dd><dt>GlobalSales</dt><dd>653</dd><dt>ProductionCost</dt><dd>405</dd><dt>Developer</dt><dd>283</dd><dt>MultipleGenre</dt><dd>248</dd><dt>MetaScore</dt><dd>20</dd><dt>AvgUserScore</dt><dd>54</dd><dt>NoOfPlayers</dt><dd>6</dd><dt>ReleaseDate</dt><dd>283</dd><dt>ReleaseYear</dt><dd>19</dd><dt>ReleaseMonth</dt><dd>12</dd><dt>EndOfMonth</dt><dd>2</dd><dt>ReleaseQuarter</dt><dd>4</dd><dt>ReleaseWeekDay</dt><dd>7</dd><dt>ReleaseWeekend</dt><dd>2</dd><dt>ReleaseWeek</dt><dd>52</dd><dt>TopDeveloper_Count</dt><dd>11</dd></dl>\n"
      ],
      "text/latex": [
       "\\begin{description*}\n",
       "\\item[Title] 694\n",
       "\\item[Platform] 6\n",
       "\\item[Genre] 8\n",
       "\\item[Publisher] 8\n",
       "\\item[VGScore] 28\n",
       "\\item[CriticScore] 34\n",
       "\\item[UserScore] 21\n",
       "\\item[TotalShipped] 345\n",
       "\\item[AsianSales] 336\n",
       "\\item[NorthAmericaSales] 400\n",
       "\\item[JapanSales] 394\n",
       "\\item[EuropeSales] 355\n",
       "\\item[GlobalSales] 653\n",
       "\\item[ProductionCost] 405\n",
       "\\item[Developer] 283\n",
       "\\item[MultipleGenre] 248\n",
       "\\item[MetaScore] 20\n",
       "\\item[AvgUserScore] 54\n",
       "\\item[NoOfPlayers] 6\n",
       "\\item[ReleaseDate] 283\n",
       "\\item[ReleaseYear] 19\n",
       "\\item[ReleaseMonth] 12\n",
       "\\item[EndOfMonth] 2\n",
       "\\item[ReleaseQuarter] 4\n",
       "\\item[ReleaseWeekDay] 7\n",
       "\\item[ReleaseWeekend] 2\n",
       "\\item[ReleaseWeek] 52\n",
       "\\item[TopDeveloper\\textbackslash{}\\_Count] 11\n",
       "\\end{description*}\n"
      ],
      "text/markdown": [
       "Title\n",
       ":   694Platform\n",
       ":   6Genre\n",
       ":   8Publisher\n",
       ":   8VGScore\n",
       ":   28CriticScore\n",
       ":   34UserScore\n",
       ":   21TotalShipped\n",
       ":   345AsianSales\n",
       ":   336NorthAmericaSales\n",
       ":   400JapanSales\n",
       ":   394EuropeSales\n",
       ":   355GlobalSales\n",
       ":   653ProductionCost\n",
       ":   405Developer\n",
       ":   283MultipleGenre\n",
       ":   248MetaScore\n",
       ":   20AvgUserScore\n",
       ":   54NoOfPlayers\n",
       ":   6ReleaseDate\n",
       ":   283ReleaseYear\n",
       ":   19ReleaseMonth\n",
       ":   12EndOfMonth\n",
       ":   2ReleaseQuarter\n",
       ":   4ReleaseWeekDay\n",
       ":   7ReleaseWeekend\n",
       ":   2ReleaseWeek\n",
       ":   52TopDeveloper_Count\n",
       ":   11\n",
       "\n"
      ],
      "text/plain": [
       "             Title           Platform              Genre          Publisher \n",
       "               694                  6                  8                  8 \n",
       "           VGScore        CriticScore          UserScore       TotalShipped \n",
       "                28                 34                 21                345 \n",
       "        AsianSales  NorthAmericaSales         JapanSales        EuropeSales \n",
       "               336                400                394                355 \n",
       "       GlobalSales     ProductionCost          Developer      MultipleGenre \n",
       "               653                405                283                248 \n",
       "         MetaScore       AvgUserScore        NoOfPlayers        ReleaseDate \n",
       "                20                 54                  6                283 \n",
       "       ReleaseYear       ReleaseMonth         EndOfMonth     ReleaseQuarter \n",
       "                19                 12                  2                  4 \n",
       "    ReleaseWeekDay     ReleaseWeekend        ReleaseWeek TopDeveloper_Count \n",
       "                 7                  2                 52                 11 "
      ]
     },
     "metadata": {},
     "output_type": "display_data"
    }
   ],
   "source": [
    "########################################################\n",
    "# Check the number of distinct values for the variables\n",
    "sapply(data, function(x) n_distinct(x))"
   ]
  },
  {
   "cell_type": "code",
   "execution_count": 20,
   "metadata": {
    "vscode": {
     "languageId": "r"
    }
   },
   "outputs": [
    {
     "name": "stdout",
     "output_type": "stream",
     "text": [
      " [1] Electronic Arts   SportsInteractive Codemasters       Ubisoft          \n",
      " [5] Namco             ValveSoftware     KCET              VisualConcepts   \n",
      " [9] Nintendo          Maxis            \n",
      "283 Levels: 1stPlayableProductions 2015 2DBoy 2KCzech 2KGames ... ZipperInteractive\n"
     ]
    }
   ],
   "source": [
    "## Explore to group Developer by using GlobalSales\n",
    "\n",
    "# Calculate the sum of GlobalSales for each Developer\n",
    "developer_sales <- data %>%\n",
    "  group_by(Developer) %>%\n",
    "  summarise(GlobalSales = sum(GlobalSales)) %>%\n",
    "  arrange(desc(GlobalSales))\n",
    "\n",
    "  # Extract the top 10 unique developers based on count frequency\n",
    "top10_developers_sum <- developer_sales$Developer %>%\n",
    "  head(10)\n",
    "\n",
    "# View the top 10\n",
    "print(top10_developers_sum)"
   ]
  },
  {
   "cell_type": "code",
   "execution_count": 21,
   "metadata": {
    "vscode": {
     "languageId": "r"
    }
   },
   "outputs": [
    {
     "data": {
      "image/png": "[encoded data removed]",
      "text/plain": [
       "plot without title"
      ]
     },
     "metadata": {
      "image/png": {
       "height": 420,
       "width": 420
      }
     },
     "output_type": "display_data"
    }
   ],
   "source": [
    "# Visualize top 10 Developers by Global Sales\n",
    "ggplot(subset(developer_sales, Developer %in% top10_developers_sum), aes(x = reorder(Developer, -GlobalSales), y = GlobalSales)) +\n",
    "  geom_bar(stat = \"identity\", fill = \"skyblue\", alpha = 0.7) +\n",
    "  labs(title = \"Top 10 Developers by Global Sales\",\n",
    "       x = \"Developer\",\n",
    "       y = \"Global Sales\") +\n",
    "  theme(axis.text.x = element_text(angle = 45, hjust = 1)) +\n",
    "  coord_flip()"
   ]
  },
  {
   "cell_type": "code",
   "execution_count": 22,
   "metadata": {
    "vscode": {
     "languageId": "r"
    }
   },
   "outputs": [],
   "source": [
    "# Create a function to replace with \"Others\" if not in the top list\n",
    "replace_with_others <- function(names, top_names) {\n",
    "  names <- as.character(names)\n",
    "  names[!names %in% top_names] <- \"Others\"\n",
    "  names <- as.factor(names)\n",
    "  return(names)\n",
    "}\n",
    "\n",
    "data$TopDeveloper_Sum = data$Developer\n",
    "\n",
    "# Replace publishers and developers in the original data frame\n",
    "data$TopDeveloper_Sum <- replace_with_others(data$TopDeveloper_Sum, top10_developers_sum)"
   ]
  },
  {
   "cell_type": "code",
   "execution_count": 107,
   "metadata": {
    "vscode": {
     "languageId": "r"
    }
   },
   "outputs": [
    {
     "data": {
      "text/html": [
       "<style>\n",
       ".dl-inline {width: auto; margin:0; padding: 0}\n",
       ".dl-inline>dt, .dl-inline>dd {float: none; width: auto; display: inline-block}\n",
       ".dl-inline>dt::after {content: \":\\0020\"; padding-right: .5ex}\n",
       ".dl-inline>dt:not(:first-of-type) {padding-left: .5ex}\n",
       "</style><dl class=dl-inline><dt>Title</dt><dd>694</dd><dt>Platform</dt><dd>6</dd><dt>Genre</dt><dd>8</dd><dt>Publisher</dt><dd>8</dd><dt>VGScore</dt><dd>28</dd><dt>CriticScore</dt><dd>34</dd><dt>UserScore</dt><dd>21</dd><dt>TotalShipped</dt><dd>345</dd><dt>AsianSales</dt><dd>336</dd><dt>NorthAmericaSales</dt><dd>400</dd><dt>JapanSales</dt><dd>394</dd><dt>EuropeSales</dt><dd>355</dd><dt>GlobalSales</dt><dd>653</dd><dt>ProductionCost</dt><dd>405</dd><dt>Developer</dt><dd>283</dd><dt>MultipleGenre</dt><dd>248</dd><dt>MetaScore</dt><dd>20</dd><dt>AvgUserScore</dt><dd>54</dd><dt>NoOfPlayers</dt><dd>6</dd><dt>ReleaseDate</dt><dd>283</dd><dt>ReleaseYear</dt><dd>19</dd><dt>ReleaseMonth</dt><dd>12</dd><dt>EndOfMonth</dt><dd>2</dd><dt>ReleaseQuarter</dt><dd>4</dd><dt>ReleaseWeekDay</dt><dd>7</dd><dt>ReleaseWeekend</dt><dd>2</dd><dt>ReleaseWeek</dt><dd>52</dd><dt>TopDeveloper_Count</dt><dd>11</dd><dt>TopDeveloper_Sum</dt><dd>11</dd></dl>\n"
      ],
      "text/latex": [
       "\\begin{description*}\n",
       "\\item[Title] 694\n",
       "\\item[Platform] 6\n",
       "\\item[Genre] 8\n",
       "\\item[Publisher] 8\n",
       "\\item[VGScore] 28\n",
       "\\item[CriticScore] 34\n",
       "\\item[UserScore] 21\n",
       "\\item[TotalShipped] 345\n",
       "\\item[AsianSales] 336\n",
       "\\item[NorthAmericaSales] 400\n",
       "\\item[JapanSales] 394\n",
       "\\item[EuropeSales] 355\n",
       "\\item[GlobalSales] 653\n",
       "\\item[ProductionCost] 405\n",
       "\\item[Developer] 283\n",
       "\\item[MultipleGenre] 248\n",
       "\\item[MetaScore] 20\n",
       "\\item[AvgUserScore] 54\n",
       "\\item[NoOfPlayers] 6\n",
       "\\item[ReleaseDate] 283\n",
       "\\item[ReleaseYear] 19\n",
       "\\item[ReleaseMonth] 12\n",
       "\\item[EndOfMonth] 2\n",
       "\\item[ReleaseQuarter] 4\n",
       "\\item[ReleaseWeekDay] 7\n",
       "\\item[ReleaseWeekend] 2\n",
       "\\item[ReleaseWeek] 52\n",
       "\\item[TopDeveloper\\textbackslash{}\\_Count] 11\n",
       "\\item[TopDeveloper\\textbackslash{}\\_Sum] 11\n",
       "\\end{description*}\n"
      ],
      "text/markdown": [
       "Title\n",
       ":   694Platform\n",
       ":   6Genre\n",
       ":   8Publisher\n",
       ":   8VGScore\n",
       ":   28CriticScore\n",
       ":   34UserScore\n",
       ":   21TotalShipped\n",
       ":   345AsianSales\n",
       ":   336NorthAmericaSales\n",
       ":   400JapanSales\n",
       ":   394EuropeSales\n",
       ":   355GlobalSales\n",
       ":   653ProductionCost\n",
       ":   405Developer\n",
       ":   283MultipleGenre\n",
       ":   248MetaScore\n",
       ":   20AvgUserScore\n",
       ":   54NoOfPlayers\n",
       ":   6ReleaseDate\n",
       ":   283ReleaseYear\n",
       ":   19ReleaseMonth\n",
       ":   12EndOfMonth\n",
       ":   2ReleaseQuarter\n",
       ":   4ReleaseWeekDay\n",
       ":   7ReleaseWeekend\n",
       ":   2ReleaseWeek\n",
       ":   52TopDeveloper_Count\n",
       ":   11TopDeveloper_Sum\n",
       ":   11\n",
       "\n"
      ],
      "text/plain": [
       "             Title           Platform              Genre          Publisher \n",
       "               694                  6                  8                  8 \n",
       "           VGScore        CriticScore          UserScore       TotalShipped \n",
       "                28                 34                 21                345 \n",
       "        AsianSales  NorthAmericaSales         JapanSales        EuropeSales \n",
       "               336                400                394                355 \n",
       "       GlobalSales     ProductionCost          Developer      MultipleGenre \n",
       "               653                405                283                248 \n",
       "         MetaScore       AvgUserScore        NoOfPlayers        ReleaseDate \n",
       "                20                 54                  6                283 \n",
       "       ReleaseYear       ReleaseMonth         EndOfMonth     ReleaseQuarter \n",
       "                19                 12                  2                  4 \n",
       "    ReleaseWeekDay     ReleaseWeekend        ReleaseWeek TopDeveloper_Count \n",
       "                 7                  2                 52                 11 \n",
       "  TopDeveloper_Sum \n",
       "                11 "
      ]
     },
     "metadata": {},
     "output_type": "display_data"
    }
   ],
   "source": [
    "########################################################\n",
    "# Check the number of distinct values for the variables\n",
    "sapply(data, function(x) n_distinct(x))"
   ]
  },
  {
   "cell_type": "markdown",
   "metadata": {},
   "source": [
    "Handle Outliers, Transform Y to be normally distributed"
   ]
  },
  {
   "cell_type": "code",
   "execution_count": 23,
   "metadata": {
    "vscode": {
     "languageId": "r"
    }
   },
   "outputs": [
    {
     "name": "stderr",
     "output_type": "stream",
     "text": [
      "\u001b[1m\u001b[22m`stat_bin()` using `bins = 30`. Pick better value with `binwidth`.\n"
     ]
    },
    {
     "data": {
      "image/png": "[encoded data removed]",
      "text/plain": [
       "plot without title"
      ]
     },
     "metadata": {
      "image/png": {
       "height": 420,
       "width": 420
      }
     },
     "output_type": "display_data"
    }
   ],
   "source": [
    "########################################################\n",
    "# Check the distribution of dependent variable (GlobalSales)\n",
    "\n",
    "# Create a histogram using ggplot\n",
    "ggplot(data, aes(x = data$GlobalSales)) +\n",
    "  geom_histogram(fill = \"blue\", color = \"black\", alpha = 0.7) +\n",
    "  labs(\n",
    "    title = \"Distribution of Global Sales\",\n",
    "    x = \"Global Sales\",\n",
    "    y = \"Frequency\"\n",
    "  )"
   ]
  },
  {
   "cell_type": "code",
   "execution_count": 24,
   "metadata": {
    "vscode": {
     "languageId": "r"
    }
   },
   "outputs": [
    {
     "name": "stdout",
     "output_type": "stream",
     "text": [
      "Number of outliers: 0 \n"
     ]
    }
   ],
   "source": [
    "# Remove outliers\n",
    "\n",
    "# Calculate the IQR for Global Sales\n",
    "Q1 <- quantile(data$GlobalSales, 0.25)\n",
    "Q3 <- quantile(data$GlobalSales, 0.75)\n",
    "IQR_value <- Q3 - Q1\n",
    "\n",
    "# Define the lower and upper bounds for identifying outliers\n",
    "lower_bound <- Q1 - 1.5 * IQR_value\n",
    "upper_bound <- Q3 + 1.5 * IQR_value\n",
    "\n",
    "# Identify outliers\n",
    "outliers <- data$GlobalSales[data$GlobalSales < lower_bound | data$GlobalSales > upper_bound]\n",
    "\n",
    "# Display the number of outliers removed\n",
    "cat(\"Number of outliers:\", length(outliers), \"\\n\")"
   ]
  },
  {
   "cell_type": "markdown",
   "metadata": {},
   "source": [
    "Right Skewed Transformation"
   ]
  },
  {
   "cell_type": "code",
   "execution_count": 25,
   "metadata": {
    "vscode": {
     "languageId": "r"
    }
   },
   "outputs": [],
   "source": [
    "# Right-skewed: transform 'GlobalSales' using log\n",
    "data$LogGlobalSales <- log(data$GlobalSales)"
   ]
  },
  {
   "cell_type": "code",
   "execution_count": 26,
   "metadata": {
    "vscode": {
     "languageId": "r"
    }
   },
   "outputs": [
    {
     "name": "stdout",
     "output_type": "stream",
     "text": [
      "Number of NA values in LogGobalSales: 0 \n",
      "Number of NaN values in LogGobalSales: 0 \n",
      "Number of Inf values in LogGobalSales: 0 \n"
     ]
    }
   ],
   "source": [
    "# Check for NA values in the LogGobalSales column\n",
    "na_count <- sum(is.na(data$LogGobalSales))\n",
    "\n",
    "# Check for NaN values in the LogGobalSales column\n",
    "nan_count <- sum(is.nan(data$LogGobalSales))\n",
    "\n",
    "# Check for Inf values in the LogGobalSales column\n",
    "inf_count <- sum(is.infinite(data$LogGobalSales))\n",
    "\n",
    "# Print the results\n",
    "cat(\"Number of NA values in LogGobalSales:\", na_count, \"\\n\")\n",
    "cat(\"Number of NaN values in LogGobalSales:\", nan_count, \"\\n\")\n",
    "cat(\"Number of Inf values in LogGobalSales:\", inf_count, \"\\n\")"
   ]
  },
  {
   "cell_type": "code",
   "execution_count": 27,
   "metadata": {
    "vscode": {
     "languageId": "r"
    }
   },
   "outputs": [
    {
     "data": {
      "image/png": "[encoded data removed]",
      "text/plain": [
       "Plot with title \"Histogram of LogGobalSales\""
      ]
     },
     "metadata": {
      "image/png": {
       "height": 420,
       "width": 420
      }
     },
     "output_type": "display_data"
    },
    {
     "data": {
      "image/png": "[encoded data removed]",
      "text/plain": [
       "Plot with title \"Normal Q-Q Plot\""
      ]
     },
     "metadata": {
      "image/png": {
       "height": 420,
       "width": 420
      }
     },
     "output_type": "display_data"
    }
   ],
   "source": [
    "# Create a histogram for 'LogGobalSales'\n",
    "hist(x = data$LogGlobalSales, main = \"Histogram of LogGobalSales\", xlab = \"Log Transformed Global Sales\", col = \"lightblue\")\n",
    "\n",
    "# Create a QQ plot for 'LogGobalSales'\n",
    "qqnorm(data$LogGlobalSales)\n",
    "qqline(data$LogGlobalSales, col = 2)\n",
    "\n",
    "# Display both the histogram and the QQ plot side by side\n",
    "par(mfrow = c(2, 2))"
   ]
  },
  {
   "cell_type": "code",
   "execution_count": 28,
   "metadata": {
    "vscode": {
     "languageId": "r"
    }
   },
   "outputs": [],
   "source": [
    "# Right-skewed: transform 'GlobalSales' using square root\n",
    "data$SqRtGlobalSales <- sqrt(data$GlobalSales)"
   ]
  },
  {
   "cell_type": "code",
   "execution_count": 29,
   "metadata": {
    "vscode": {
     "languageId": "r"
    }
   },
   "outputs": [
    {
     "name": "stdout",
     "output_type": "stream",
     "text": [
      "Number of NA values in SqRtGobalSales: 0 \n",
      "Number of NaN values in SqRtGobalSales: 0 \n",
      "Number of Inf values in SqRtGobalSales: 0 \n"
     ]
    }
   ],
   "source": [
    "# Check for NA values in the SqRtGobalSales column\n",
    "na_count <- sum(is.na(data$SqRtGobalSales))\n",
    "\n",
    "# Check for NaN values in the SqRtGobalSales column\n",
    "nan_count <- sum(is.nan(data$SqRtGobalSales))\n",
    "\n",
    "# Check for Inf values in the SqRtGobalSales column\n",
    "inf_count <- sum(is.infinite(data$SqRtGobalSales))\n",
    "\n",
    "# Print the results\n",
    "cat(\"Number of NA values in SqRtGobalSales:\", na_count, \"\\n\")\n",
    "cat(\"Number of NaN values in SqRtGobalSales:\", nan_count, \"\\n\")\n",
    "cat(\"Number of Inf values in SqRtGobalSales:\", inf_count, \"\\n\")"
   ]
  },
  {
   "cell_type": "code",
   "execution_count": 30,
   "metadata": {
    "vscode": {
     "languageId": "r"
    }
   },
   "outputs": [
    {
     "data": {
      "image/png": "[encoded data removed]",
      "text/plain": [
       "Plot with title \"Histogram of SqRtGobalSales\""
      ]
     },
     "metadata": {
      "image/png": {
       "height": 420,
       "width": 420
      }
     },
     "output_type": "display_data"
    },
    {
     "data": {
      "image/png": "[encoded data removed]",
      "text/plain": [
       "Plot with title \"Normal Q-Q Plot\""
      ]
     },
     "metadata": {
      "image/png": {
       "height": 420,
       "width": 420
      }
     },
     "output_type": "display_data"
    }
   ],
   "source": [
    "# Create a histogram for 'SqRtGobalSales'\n",
    "hist(x = data$SqRtGlobalSales, main = \"Histogram of SqRtGobalSales\", xlab = \"Square Root Transformed Global Sales\", col = \"lightblue\")\n",
    "\n",
    "# Create a QQ plot for 'SqRtGobalSales'\n",
    "qqnorm(data$SqRtGlobalSales)\n",
    "qqline(data$SqRtGlobalSales, col = 2)\n",
    "\n",
    "# Display both the histogram and the QQ plot side by side\n",
    "par(mfrow = c(2, 2))"
   ]
  },
  {
   "cell_type": "code",
   "execution_count": 31,
   "metadata": {
    "vscode": {
     "languageId": "r"
    }
   },
   "outputs": [
    {
     "name": "stdout",
     "output_type": "stream",
     "text": [
      "Number of outliers: 0 \n"
     ]
    }
   ],
   "source": [
    "# Remove outliers\n",
    "\n",
    "# Calculate the IQR for Global Sales\n",
    "Q1 <- quantile(data$SqRtGlobalSales, 0.25)\n",
    "Q3 <- quantile(data$SqRtGlobalSales, 0.75)\n",
    "IQR_value <- Q3 - Q1\n",
    "\n",
    "# Define the lower and upper bounds for identifying outliers\n",
    "lower_bound <- Q1 - 1.5 * IQR_value\n",
    "upper_bound <- Q3 + 1.5 * IQR_value\n",
    "\n",
    "# Identify outliers\n",
    "outliers <- data$SqRtGlobalSales[data$SqRtGlobalSales < lower_bound | data$SqRtGlobalSales > upper_bound]\n",
    "\n",
    "# Display the number of outliers removed\n",
    "cat(\"Number of outliers:\", length(outliers), \"\\n\")"
   ]
  },
  {
   "cell_type": "code",
   "execution_count": 32,
   "metadata": {
    "vscode": {
     "languageId": "r"
    }
   },
   "outputs": [
    {
     "name": "stdout",
     "output_type": "stream",
     "text": [
      "             Title           Platform              Genre          Publisher \n",
      "                 0                  0                  0                  0 \n",
      "           VGScore        CriticScore          UserScore       TotalShipped \n",
      "                 0                  0                  0                  0 \n",
      "        AsianSales  NorthAmericaSales         JapanSales        EuropeSales \n",
      "                 0                  0                  0                  0 \n",
      "       GlobalSales     ProductionCost          Developer      MultipleGenre \n",
      "                 0                  0                  0                  0 \n",
      "         MetaScore       AvgUserScore        NoOfPlayers        ReleaseDate \n",
      "                 0                  0                  0                  0 \n",
      "       ReleaseYear       ReleaseMonth         EndOfMonth     ReleaseQuarter \n",
      "                 0                  0                  0                  0 \n",
      "    ReleaseWeekDay     ReleaseWeekend        ReleaseWeek TopDeveloper_Count \n",
      "                 0                  0                  0                  0 \n",
      "  TopDeveloper_Sum     LogGlobalSales    SqRtGlobalSales \n",
      "                 0                  0                  0 \n"
     ]
    }
   ],
   "source": [
    "# Count missing values for each column\n",
    "missing_count <- colSums(is.na(data))\n",
    "\n",
    "# Display the count of missing values for each column\n",
    "print(missing_count)"
   ]
  },
  {
   "cell_type": "markdown",
   "metadata": {},
   "source": [
    "Multi-collinearity assessment"
   ]
  },
  {
   "cell_type": "code",
   "execution_count": 118,
   "metadata": {
    "vscode": {
     "languageId": "r"
    }
   },
   "outputs": [
    {
     "data": {
      "text/html": [
       "<table class=\"dataframe\">\n",
       "<caption>A matrix: 16 × 16 of type dbl</caption>\n",
       "<thead>\n",
       "\t<tr><th></th><th scope=col>AsianSales</th><th scope=col>NorthAmericaSales</th><th scope=col>JapanSales</th><th scope=col>EuropeSales</th><th scope=col>GlobalSales</th><th scope=col>VGScore</th><th scope=col>CriticScore</th><th scope=col>UserScore</th><th scope=col>TotalShipped</th><th scope=col>ProductionCost</th><th scope=col>MetaScore</th><th scope=col>ReleaseYear</th><th scope=col>ReleaseMonth</th><th scope=col>ReleaseQuarter</th><th scope=col>ReleaseWeekDay</th><th scope=col>ReleaseWeek</th></tr>\n",
       "</thead>\n",
       "<tbody>\n",
       "\t<tr><th scope=row>AsianSales</th><td> 1.0000000000</td><td> 0.36802766</td><td> 0.125414456</td><td> 0.426378638</td><td> 0.64038066</td><td> 0.026639270</td><td> 0.064410354</td><td>-0.028508225</td><td>-0.105862682</td><td> 0.046617529</td><td> 0.019566207</td><td> 0.06361438</td><td> 0.012718877</td><td> 0.0004890956</td><td> 0.040186733</td><td> 0.012672012</td></tr>\n",
       "\t<tr><th scope=row>NorthAmericaSales</th><td> 0.3680276630</td><td> 1.00000000</td><td> 0.219807060</td><td> 0.486340136</td><td> 0.75840015</td><td> 0.012013469</td><td>-0.042135921</td><td> 0.014881783</td><td>-0.115234956</td><td> 0.045298112</td><td> 0.019166869</td><td> 0.09095066</td><td> 0.061329651</td><td> 0.0551763346</td><td> 0.134397182</td><td> 0.060731905</td></tr>\n",
       "\t<tr><th scope=row>JapanSales</th><td> 0.1254144561</td><td> 0.21980706</td><td> 1.000000000</td><td> 0.197045967</td><td> 0.49212802</td><td>-0.040768009</td><td>-0.097819963</td><td> 0.016272838</td><td>-0.022109370</td><td> 0.035296778</td><td>-0.017783725</td><td>-0.08629796</td><td>-0.008542279</td><td>-0.0226881112</td><td> 0.028506750</td><td>-0.004632791</td></tr>\n",
       "\t<tr><th scope=row>EuropeSales</th><td> 0.4263786381</td><td> 0.48634014</td><td> 0.197045967</td><td> 1.000000000</td><td> 0.80598292</td><td> 0.047366989</td><td>-0.053168990</td><td>-0.051035619</td><td>-0.140256503</td><td> 0.044454353</td><td>-0.006639806</td><td> 0.09305954</td><td>-0.003192373</td><td>-0.0045237543</td><td> 0.137433439</td><td>-0.007766531</td></tr>\n",
       "\t<tr><th scope=row>GlobalSales</th><td> 0.6403806601</td><td> 0.75840015</td><td> 0.492128020</td><td> 0.805982922</td><td> 1.00000000</td><td> 0.025021039</td><td>-0.044245685</td><td>-0.025742523</td><td>-0.157973406</td><td> 0.058422229</td><td> 0.045971230</td><td> 0.05427680</td><td> 0.024911149</td><td> 0.0175683889</td><td> 0.126489943</td><td> 0.025121083</td></tr>\n",
       "\t<tr><th scope=row>VGScore</th><td> 0.0266392696</td><td> 0.01201347</td><td>-0.040768009</td><td> 0.047366989</td><td> 0.02502104</td><td> 1.000000000</td><td>-0.001479083</td><td> 0.029533513</td><td>-0.106223990</td><td>-0.013214673</td><td>-0.031923779</td><td> 0.32421684</td><td>-0.037469593</td><td>-0.0501190076</td><td>-0.013242352</td><td>-0.035452828</td></tr>\n",
       "\t<tr><th scope=row>CriticScore</th><td> 0.0644103545</td><td>-0.04213592</td><td>-0.097819963</td><td>-0.053168990</td><td>-0.04424568</td><td>-0.001479083</td><td> 1.000000000</td><td> 0.015334593</td><td>-0.008152876</td><td> 0.002176961</td><td> 0.145933358</td><td> 0.01701733</td><td>-0.018201560</td><td>-0.0148827175</td><td>-0.031171091</td><td>-0.018955547</td></tr>\n",
       "\t<tr><th scope=row>UserScore</th><td>-0.0285082247</td><td> 0.01488178</td><td> 0.016272838</td><td>-0.051035619</td><td>-0.02574252</td><td> 0.029533513</td><td> 0.015334593</td><td> 1.000000000</td><td>-0.027644033</td><td> 0.041219121</td><td> 0.005761414</td><td> 0.01386281</td><td>-0.001749519</td><td>-0.0098186593</td><td>-0.025940060</td><td>-0.001799183</td></tr>\n",
       "\t<tr><th scope=row>TotalShipped</th><td>-0.1058626818</td><td>-0.11523496</td><td>-0.022109370</td><td>-0.140256503</td><td>-0.15797341</td><td>-0.106223990</td><td>-0.008152876</td><td>-0.027644033</td><td> 1.000000000</td><td> 0.055347674</td><td>-0.031274203</td><td>-0.21895935</td><td> 0.055684232</td><td> 0.0522729703</td><td>-0.025544642</td><td> 0.053048345</td></tr>\n",
       "\t<tr><th scope=row>ProductionCost</th><td> 0.0466175287</td><td> 0.04529811</td><td> 0.035296778</td><td> 0.044454353</td><td> 0.05842223</td><td>-0.013214673</td><td> 0.002176961</td><td> 0.041219121</td><td> 0.055347674</td><td> 1.000000000</td><td> 0.015332533</td><td>-0.02812523</td><td> 0.024793400</td><td> 0.0231041987</td><td> 0.030703514</td><td> 0.023795383</td></tr>\n",
       "\t<tr><th scope=row>MetaScore</th><td> 0.0195662066</td><td> 0.01916687</td><td>-0.017783725</td><td>-0.006639806</td><td> 0.04597123</td><td>-0.031923779</td><td> 0.145933358</td><td> 0.005761414</td><td>-0.031274203</td><td> 0.015332533</td><td> 1.000000000</td><td>-0.11784444</td><td>-0.036274891</td><td>-0.0345531784</td><td>-0.068219149</td><td>-0.031867584</td></tr>\n",
       "\t<tr><th scope=row>ReleaseYear</th><td> 0.0636143769</td><td> 0.09095066</td><td>-0.086297955</td><td> 0.093059543</td><td> 0.05427680</td><td> 0.324216837</td><td> 0.017017328</td><td> 0.013862811</td><td>-0.218959353</td><td>-0.028125227</td><td>-0.117844445</td><td> 1.00000000</td><td>-0.110442031</td><td>-0.1108245310</td><td> 0.022316453</td><td>-0.111815269</td></tr>\n",
       "\t<tr><th scope=row>ReleaseMonth</th><td> 0.0127188766</td><td> 0.06132965</td><td>-0.008542279</td><td>-0.003192373</td><td> 0.02491115</td><td>-0.037469593</td><td>-0.018201560</td><td>-0.001749519</td><td> 0.055684232</td><td> 0.024793400</td><td>-0.036274891</td><td>-0.11044203</td><td> 1.000000000</td><td> 0.9730150247</td><td> 0.007942722</td><td> 0.995925589</td></tr>\n",
       "\t<tr><th scope=row>ReleaseQuarter</th><td> 0.0004890956</td><td> 0.05517633</td><td>-0.022688111</td><td>-0.004523754</td><td> 0.01756839</td><td>-0.050119008</td><td>-0.014882718</td><td>-0.009818659</td><td> 0.052272970</td><td> 0.023104199</td><td>-0.034553178</td><td>-0.11082453</td><td> 0.973015025</td><td> 1.0000000000</td><td> 0.017708823</td><td> 0.969916471</td></tr>\n",
       "\t<tr><th scope=row>ReleaseWeekDay</th><td> 0.0401867331</td><td> 0.13439718</td><td> 0.028506750</td><td> 0.137433439</td><td> 0.12648994</td><td>-0.013242352</td><td>-0.031171091</td><td>-0.025940060</td><td>-0.025544642</td><td> 0.030703514</td><td>-0.068219149</td><td> 0.02231645</td><td> 0.007942722</td><td> 0.0177088227</td><td> 1.000000000</td><td>-0.004898080</td></tr>\n",
       "\t<tr><th scope=row>ReleaseWeek</th><td> 0.0126720118</td><td> 0.06073190</td><td>-0.004632791</td><td>-0.007766531</td><td> 0.02512108</td><td>-0.035452828</td><td>-0.018955547</td><td>-0.001799183</td><td> 0.053048345</td><td> 0.023795383</td><td>-0.031867584</td><td>-0.11181527</td><td> 0.995925589</td><td> 0.9699164714</td><td>-0.004898080</td><td> 1.000000000</td></tr>\n",
       "</tbody>\n",
       "</table>\n"
      ],
      "text/latex": [
       "A matrix: 16 × 16 of type dbl\n",
       "\\begin{tabular}{r|llllllllllllllll}\n",
       "  & AsianSales & NorthAmericaSales & JapanSales & EuropeSales & GlobalSales & VGScore & CriticScore & UserScore & TotalShipped & ProductionCost & MetaScore & ReleaseYear & ReleaseMonth & ReleaseQuarter & ReleaseWeekDay & ReleaseWeek\\\\\n",
       "\\hline\n",
       "\tAsianSales &  1.0000000000 &  0.36802766 &  0.125414456 &  0.426378638 &  0.64038066 &  0.026639270 &  0.064410354 & -0.028508225 & -0.105862682 &  0.046617529 &  0.019566207 &  0.06361438 &  0.012718877 &  0.0004890956 &  0.040186733 &  0.012672012\\\\\n",
       "\tNorthAmericaSales &  0.3680276630 &  1.00000000 &  0.219807060 &  0.486340136 &  0.75840015 &  0.012013469 & -0.042135921 &  0.014881783 & -0.115234956 &  0.045298112 &  0.019166869 &  0.09095066 &  0.061329651 &  0.0551763346 &  0.134397182 &  0.060731905\\\\\n",
       "\tJapanSales &  0.1254144561 &  0.21980706 &  1.000000000 &  0.197045967 &  0.49212802 & -0.040768009 & -0.097819963 &  0.016272838 & -0.022109370 &  0.035296778 & -0.017783725 & -0.08629796 & -0.008542279 & -0.0226881112 &  0.028506750 & -0.004632791\\\\\n",
       "\tEuropeSales &  0.4263786381 &  0.48634014 &  0.197045967 &  1.000000000 &  0.80598292 &  0.047366989 & -0.053168990 & -0.051035619 & -0.140256503 &  0.044454353 & -0.006639806 &  0.09305954 & -0.003192373 & -0.0045237543 &  0.137433439 & -0.007766531\\\\\n",
       "\tGlobalSales &  0.6403806601 &  0.75840015 &  0.492128020 &  0.805982922 &  1.00000000 &  0.025021039 & -0.044245685 & -0.025742523 & -0.157973406 &  0.058422229 &  0.045971230 &  0.05427680 &  0.024911149 &  0.0175683889 &  0.126489943 &  0.025121083\\\\\n",
       "\tVGScore &  0.0266392696 &  0.01201347 & -0.040768009 &  0.047366989 &  0.02502104 &  1.000000000 & -0.001479083 &  0.029533513 & -0.106223990 & -0.013214673 & -0.031923779 &  0.32421684 & -0.037469593 & -0.0501190076 & -0.013242352 & -0.035452828\\\\\n",
       "\tCriticScore &  0.0644103545 & -0.04213592 & -0.097819963 & -0.053168990 & -0.04424568 & -0.001479083 &  1.000000000 &  0.015334593 & -0.008152876 &  0.002176961 &  0.145933358 &  0.01701733 & -0.018201560 & -0.0148827175 & -0.031171091 & -0.018955547\\\\\n",
       "\tUserScore & -0.0285082247 &  0.01488178 &  0.016272838 & -0.051035619 & -0.02574252 &  0.029533513 &  0.015334593 &  1.000000000 & -0.027644033 &  0.041219121 &  0.005761414 &  0.01386281 & -0.001749519 & -0.0098186593 & -0.025940060 & -0.001799183\\\\\n",
       "\tTotalShipped & -0.1058626818 & -0.11523496 & -0.022109370 & -0.140256503 & -0.15797341 & -0.106223990 & -0.008152876 & -0.027644033 &  1.000000000 &  0.055347674 & -0.031274203 & -0.21895935 &  0.055684232 &  0.0522729703 & -0.025544642 &  0.053048345\\\\\n",
       "\tProductionCost &  0.0466175287 &  0.04529811 &  0.035296778 &  0.044454353 &  0.05842223 & -0.013214673 &  0.002176961 &  0.041219121 &  0.055347674 &  1.000000000 &  0.015332533 & -0.02812523 &  0.024793400 &  0.0231041987 &  0.030703514 &  0.023795383\\\\\n",
       "\tMetaScore &  0.0195662066 &  0.01916687 & -0.017783725 & -0.006639806 &  0.04597123 & -0.031923779 &  0.145933358 &  0.005761414 & -0.031274203 &  0.015332533 &  1.000000000 & -0.11784444 & -0.036274891 & -0.0345531784 & -0.068219149 & -0.031867584\\\\\n",
       "\tReleaseYear &  0.0636143769 &  0.09095066 & -0.086297955 &  0.093059543 &  0.05427680 &  0.324216837 &  0.017017328 &  0.013862811 & -0.218959353 & -0.028125227 & -0.117844445 &  1.00000000 & -0.110442031 & -0.1108245310 &  0.022316453 & -0.111815269\\\\\n",
       "\tReleaseMonth &  0.0127188766 &  0.06132965 & -0.008542279 & -0.003192373 &  0.02491115 & -0.037469593 & -0.018201560 & -0.001749519 &  0.055684232 &  0.024793400 & -0.036274891 & -0.11044203 &  1.000000000 &  0.9730150247 &  0.007942722 &  0.995925589\\\\\n",
       "\tReleaseQuarter &  0.0004890956 &  0.05517633 & -0.022688111 & -0.004523754 &  0.01756839 & -0.050119008 & -0.014882718 & -0.009818659 &  0.052272970 &  0.023104199 & -0.034553178 & -0.11082453 &  0.973015025 &  1.0000000000 &  0.017708823 &  0.969916471\\\\\n",
       "\tReleaseWeekDay &  0.0401867331 &  0.13439718 &  0.028506750 &  0.137433439 &  0.12648994 & -0.013242352 & -0.031171091 & -0.025940060 & -0.025544642 &  0.030703514 & -0.068219149 &  0.02231645 &  0.007942722 &  0.0177088227 &  1.000000000 & -0.004898080\\\\\n",
       "\tReleaseWeek &  0.0126720118 &  0.06073190 & -0.004632791 & -0.007766531 &  0.02512108 & -0.035452828 & -0.018955547 & -0.001799183 &  0.053048345 &  0.023795383 & -0.031867584 & -0.11181527 &  0.995925589 &  0.9699164714 & -0.004898080 &  1.000000000\\\\\n",
       "\\end{tabular}\n"
      ],
      "text/markdown": [
       "\n",
       "A matrix: 16 × 16 of type dbl\n",
       "\n",
       "| <!--/--> | AsianSales | NorthAmericaSales | JapanSales | EuropeSales | GlobalSales | VGScore | CriticScore | UserScore | TotalShipped | ProductionCost | MetaScore | ReleaseYear | ReleaseMonth | ReleaseQuarter | ReleaseWeekDay | ReleaseWeek |\n",
       "|---|---|---|---|---|---|---|---|---|---|---|---|---|---|---|---|---|\n",
       "| AsianSales |  1.0000000000 |  0.36802766 |  0.125414456 |  0.426378638 |  0.64038066 |  0.026639270 |  0.064410354 | -0.028508225 | -0.105862682 |  0.046617529 |  0.019566207 |  0.06361438 |  0.012718877 |  0.0004890956 |  0.040186733 |  0.012672012 |\n",
       "| NorthAmericaSales |  0.3680276630 |  1.00000000 |  0.219807060 |  0.486340136 |  0.75840015 |  0.012013469 | -0.042135921 |  0.014881783 | -0.115234956 |  0.045298112 |  0.019166869 |  0.09095066 |  0.061329651 |  0.0551763346 |  0.134397182 |  0.060731905 |\n",
       "| JapanSales |  0.1254144561 |  0.21980706 |  1.000000000 |  0.197045967 |  0.49212802 | -0.040768009 | -0.097819963 |  0.016272838 | -0.022109370 |  0.035296778 | -0.017783725 | -0.08629796 | -0.008542279 | -0.0226881112 |  0.028506750 | -0.004632791 |\n",
       "| EuropeSales |  0.4263786381 |  0.48634014 |  0.197045967 |  1.000000000 |  0.80598292 |  0.047366989 | -0.053168990 | -0.051035619 | -0.140256503 |  0.044454353 | -0.006639806 |  0.09305954 | -0.003192373 | -0.0045237543 |  0.137433439 | -0.007766531 |\n",
       "| GlobalSales |  0.6403806601 |  0.75840015 |  0.492128020 |  0.805982922 |  1.00000000 |  0.025021039 | -0.044245685 | -0.025742523 | -0.157973406 |  0.058422229 |  0.045971230 |  0.05427680 |  0.024911149 |  0.0175683889 |  0.126489943 |  0.025121083 |\n",
       "| VGScore |  0.0266392696 |  0.01201347 | -0.040768009 |  0.047366989 |  0.02502104 |  1.000000000 | -0.001479083 |  0.029533513 | -0.106223990 | -0.013214673 | -0.031923779 |  0.32421684 | -0.037469593 | -0.0501190076 | -0.013242352 | -0.035452828 |\n",
       "| CriticScore |  0.0644103545 | -0.04213592 | -0.097819963 | -0.053168990 | -0.04424568 | -0.001479083 |  1.000000000 |  0.015334593 | -0.008152876 |  0.002176961 |  0.145933358 |  0.01701733 | -0.018201560 | -0.0148827175 | -0.031171091 | -0.018955547 |\n",
       "| UserScore | -0.0285082247 |  0.01488178 |  0.016272838 | -0.051035619 | -0.02574252 |  0.029533513 |  0.015334593 |  1.000000000 | -0.027644033 |  0.041219121 |  0.005761414 |  0.01386281 | -0.001749519 | -0.0098186593 | -0.025940060 | -0.001799183 |\n",
       "| TotalShipped | -0.1058626818 | -0.11523496 | -0.022109370 | -0.140256503 | -0.15797341 | -0.106223990 | -0.008152876 | -0.027644033 |  1.000000000 |  0.055347674 | -0.031274203 | -0.21895935 |  0.055684232 |  0.0522729703 | -0.025544642 |  0.053048345 |\n",
       "| ProductionCost |  0.0466175287 |  0.04529811 |  0.035296778 |  0.044454353 |  0.05842223 | -0.013214673 |  0.002176961 |  0.041219121 |  0.055347674 |  1.000000000 |  0.015332533 | -0.02812523 |  0.024793400 |  0.0231041987 |  0.030703514 |  0.023795383 |\n",
       "| MetaScore |  0.0195662066 |  0.01916687 | -0.017783725 | -0.006639806 |  0.04597123 | -0.031923779 |  0.145933358 |  0.005761414 | -0.031274203 |  0.015332533 |  1.000000000 | -0.11784444 | -0.036274891 | -0.0345531784 | -0.068219149 | -0.031867584 |\n",
       "| ReleaseYear |  0.0636143769 |  0.09095066 | -0.086297955 |  0.093059543 |  0.05427680 |  0.324216837 |  0.017017328 |  0.013862811 | -0.218959353 | -0.028125227 | -0.117844445 |  1.00000000 | -0.110442031 | -0.1108245310 |  0.022316453 | -0.111815269 |\n",
       "| ReleaseMonth |  0.0127188766 |  0.06132965 | -0.008542279 | -0.003192373 |  0.02491115 | -0.037469593 | -0.018201560 | -0.001749519 |  0.055684232 |  0.024793400 | -0.036274891 | -0.11044203 |  1.000000000 |  0.9730150247 |  0.007942722 |  0.995925589 |\n",
       "| ReleaseQuarter |  0.0004890956 |  0.05517633 | -0.022688111 | -0.004523754 |  0.01756839 | -0.050119008 | -0.014882718 | -0.009818659 |  0.052272970 |  0.023104199 | -0.034553178 | -0.11082453 |  0.973015025 |  1.0000000000 |  0.017708823 |  0.969916471 |\n",
       "| ReleaseWeekDay |  0.0401867331 |  0.13439718 |  0.028506750 |  0.137433439 |  0.12648994 | -0.013242352 | -0.031171091 | -0.025940060 | -0.025544642 |  0.030703514 | -0.068219149 |  0.02231645 |  0.007942722 |  0.0177088227 |  1.000000000 | -0.004898080 |\n",
       "| ReleaseWeek |  0.0126720118 |  0.06073190 | -0.004632791 | -0.007766531 |  0.02512108 | -0.035452828 | -0.018955547 | -0.001799183 |  0.053048345 |  0.023795383 | -0.031867584 | -0.11181527 |  0.995925589 |  0.9699164714 | -0.004898080 |  1.000000000 |\n",
       "\n"
      ],
      "text/plain": [
       "                  AsianSales    NorthAmericaSales JapanSales   EuropeSales \n",
       "AsianSales         1.0000000000  0.36802766        0.125414456  0.426378638\n",
       "NorthAmericaSales  0.3680276630  1.00000000        0.219807060  0.486340136\n",
       "JapanSales         0.1254144561  0.21980706        1.000000000  0.197045967\n",
       "EuropeSales        0.4263786381  0.48634014        0.197045967  1.000000000\n",
       "GlobalSales        0.6403806601  0.75840015        0.492128020  0.805982922\n",
       "VGScore            0.0266392696  0.01201347       -0.040768009  0.047366989\n",
       "CriticScore        0.0644103545 -0.04213592       -0.097819963 -0.053168990\n",
       "UserScore         -0.0285082247  0.01488178        0.016272838 -0.051035619\n",
       "TotalShipped      -0.1058626818 -0.11523496       -0.022109370 -0.140256503\n",
       "ProductionCost     0.0466175287  0.04529811        0.035296778  0.044454353\n",
       "MetaScore          0.0195662066  0.01916687       -0.017783725 -0.006639806\n",
       "ReleaseYear        0.0636143769  0.09095066       -0.086297955  0.093059543\n",
       "ReleaseMonth       0.0127188766  0.06132965       -0.008542279 -0.003192373\n",
       "ReleaseQuarter     0.0004890956  0.05517633       -0.022688111 -0.004523754\n",
       "ReleaseWeekDay     0.0401867331  0.13439718        0.028506750  0.137433439\n",
       "ReleaseWeek        0.0126720118  0.06073190       -0.004632791 -0.007766531\n",
       "                  GlobalSales VGScore      CriticScore  UserScore   \n",
       "AsianSales         0.64038066  0.026639270  0.064410354 -0.028508225\n",
       "NorthAmericaSales  0.75840015  0.012013469 -0.042135921  0.014881783\n",
       "JapanSales         0.49212802 -0.040768009 -0.097819963  0.016272838\n",
       "EuropeSales        0.80598292  0.047366989 -0.053168990 -0.051035619\n",
       "GlobalSales        1.00000000  0.025021039 -0.044245685 -0.025742523\n",
       "VGScore            0.02502104  1.000000000 -0.001479083  0.029533513\n",
       "CriticScore       -0.04424568 -0.001479083  1.000000000  0.015334593\n",
       "UserScore         -0.02574252  0.029533513  0.015334593  1.000000000\n",
       "TotalShipped      -0.15797341 -0.106223990 -0.008152876 -0.027644033\n",
       "ProductionCost     0.05842223 -0.013214673  0.002176961  0.041219121\n",
       "MetaScore          0.04597123 -0.031923779  0.145933358  0.005761414\n",
       "ReleaseYear        0.05427680  0.324216837  0.017017328  0.013862811\n",
       "ReleaseMonth       0.02491115 -0.037469593 -0.018201560 -0.001749519\n",
       "ReleaseQuarter     0.01756839 -0.050119008 -0.014882718 -0.009818659\n",
       "ReleaseWeekDay     0.12648994 -0.013242352 -0.031171091 -0.025940060\n",
       "ReleaseWeek        0.02512108 -0.035452828 -0.018955547 -0.001799183\n",
       "                  TotalShipped ProductionCost MetaScore    ReleaseYear\n",
       "AsianSales        -0.105862682  0.046617529    0.019566207  0.06361438\n",
       "NorthAmericaSales -0.115234956  0.045298112    0.019166869  0.09095066\n",
       "JapanSales        -0.022109370  0.035296778   -0.017783725 -0.08629796\n",
       "EuropeSales       -0.140256503  0.044454353   -0.006639806  0.09305954\n",
       "GlobalSales       -0.157973406  0.058422229    0.045971230  0.05427680\n",
       "VGScore           -0.106223990 -0.013214673   -0.031923779  0.32421684\n",
       "CriticScore       -0.008152876  0.002176961    0.145933358  0.01701733\n",
       "UserScore         -0.027644033  0.041219121    0.005761414  0.01386281\n",
       "TotalShipped       1.000000000  0.055347674   -0.031274203 -0.21895935\n",
       "ProductionCost     0.055347674  1.000000000    0.015332533 -0.02812523\n",
       "MetaScore         -0.031274203  0.015332533    1.000000000 -0.11784444\n",
       "ReleaseYear       -0.218959353 -0.028125227   -0.117844445  1.00000000\n",
       "ReleaseMonth       0.055684232  0.024793400   -0.036274891 -0.11044203\n",
       "ReleaseQuarter     0.052272970  0.023104199   -0.034553178 -0.11082453\n",
       "ReleaseWeekDay    -0.025544642  0.030703514   -0.068219149  0.02231645\n",
       "ReleaseWeek        0.053048345  0.023795383   -0.031867584 -0.11181527\n",
       "                  ReleaseMonth ReleaseQuarter ReleaseWeekDay ReleaseWeek \n",
       "AsianSales         0.012718877  0.0004890956   0.040186733    0.012672012\n",
       "NorthAmericaSales  0.061329651  0.0551763346   0.134397182    0.060731905\n",
       "JapanSales        -0.008542279 -0.0226881112   0.028506750   -0.004632791\n",
       "EuropeSales       -0.003192373 -0.0045237543   0.137433439   -0.007766531\n",
       "GlobalSales        0.024911149  0.0175683889   0.126489943    0.025121083\n",
       "VGScore           -0.037469593 -0.0501190076  -0.013242352   -0.035452828\n",
       "CriticScore       -0.018201560 -0.0148827175  -0.031171091   -0.018955547\n",
       "UserScore         -0.001749519 -0.0098186593  -0.025940060   -0.001799183\n",
       "TotalShipped       0.055684232  0.0522729703  -0.025544642    0.053048345\n",
       "ProductionCost     0.024793400  0.0231041987   0.030703514    0.023795383\n",
       "MetaScore         -0.036274891 -0.0345531784  -0.068219149   -0.031867584\n",
       "ReleaseYear       -0.110442031 -0.1108245310   0.022316453   -0.111815269\n",
       "ReleaseMonth       1.000000000  0.9730150247   0.007942722    0.995925589\n",
       "ReleaseQuarter     0.973015025  1.0000000000   0.017708823    0.969916471\n",
       "ReleaseWeekDay     0.007942722  0.0177088227   1.000000000   -0.004898080\n",
       "ReleaseWeek        0.995925589  0.9699164714  -0.004898080    1.000000000"
      ]
     },
     "metadata": {},
     "output_type": "display_data"
    }
   ],
   "source": [
    "# Extract the numerical predictor variables from your data\n",
    "numerical <- data[, c(\"AsianSales\", \"NorthAmericaSales\", \"JapanSales\", \"EuropeSales\", \"GlobalSales\",\n",
    "                    \"VGScore\", \"CriticScore\", \"UserScore\", \"TotalShipped\", \"ProductionCost\", \n",
    "                    \"MetaScore\", \"ReleaseYear\", \"ReleaseMonth\", \"ReleaseQuarter\", \"ReleaseWeekDay\", \"ReleaseWeek\")]\n",
    "\n",
    "# Identify collinear variables\n",
    "cor_matrix <- cor(numerical)\n",
    "cor_matrix "
   ]
  },
  {
   "cell_type": "code",
   "execution_count": 225,
   "metadata": {
    "vscode": {
     "languageId": "r"
    }
   },
   "outputs": [],
   "source": [
    "write.csv(cor_matrix, file = \"cor_matrix.csv\")"
   ]
  },
  {
   "cell_type": "code",
   "execution_count": 151,
   "metadata": {
    "vscode": {
     "languageId": "r"
    }
   },
   "outputs": [
    {
     "data": {
      "image/png": "[encoded data removed]",
      "text/plain": [
       "plot without title"
      ]
     },
     "metadata": {
      "image/png": {
       "height": 420,
       "width": 420
      }
     },
     "output_type": "display_data"
    }
   ],
   "source": [
    "# Reshape the correlation matrix for plotting\n",
    "cor_melted <- melt(cor_matrix)\n",
    "\n",
    "# Plotting the heatmap using ggplot\n",
    "ggplot(cor_melted, aes(Var1, Var2, fill = value)) +\n",
    "  geom_tile() +\n",
    "  scale_fill_gradient(low = \"blue\", high = \"orange\") +\n",
    "  labs(title = \"Correlation Heatmap\", x = \"Variables\", y = \"Variables\") +\n",
    "  theme(axis.text.x = element_text(angle = 45, hjust = 1))\n"
   ]
  },
  {
   "cell_type": "code",
   "execution_count": 177,
   "metadata": {
    "vscode": {
     "languageId": "r"
    }
   },
   "outputs": [
    {
     "name": "stderr",
     "output_type": "stream",
     "text": [
      "Warning message in chisq.test(data[[categorical_columns[i]]], data[[categorical_columns[j]]]):\n",
      "\"Chi-squared approximation may be incorrect\"\n",
      "Warning message in chisq.test(data[[categorical_columns[i]]], data[[categorical_columns[j]]]):\n",
      "\"Chi-squared approximation may be incorrect\"\n",
      "Warning message in chisq.test(data[[categorical_columns[i]]], data[[categorical_columns[j]]]):\n",
      "\"Chi-squared approximation may be incorrect\"\n",
      "Warning message in chisq.test(data[[categorical_columns[i]]], data[[categorical_columns[j]]]):\n",
      "\"Chi-squared approximation may be incorrect\"\n",
      "Warning message in chisq.test(data[[categorical_columns[i]]], data[[categorical_columns[j]]]):\n",
      "\"Chi-squared approximation may be incorrect\"\n",
      "Warning message in chisq.test(data[[categorical_columns[i]]], data[[categorical_columns[j]]]):\n",
      "\"Chi-squared approximation may be incorrect\"\n"
     ]
    },
    {
     "name": "stderr",
     "output_type": "stream",
     "text": [
      "Warning message in chisq.test(data[[categorical_columns[i]]], data[[categorical_columns[j]]]):\n",
      "\"Chi-squared approximation may be incorrect\"\n",
      "Warning message in chisq.test(data[[categorical_columns[i]]], data[[categorical_columns[j]]]):\n",
      "\"Chi-squared approximation may be incorrect\"\n",
      "Warning message in chisq.test(data[[categorical_columns[i]]], data[[categorical_columns[j]]]):\n",
      "\"Chi-squared approximation may be incorrect\"\n",
      "Warning message in chisq.test(data[[categorical_columns[i]]], data[[categorical_columns[j]]]):\n",
      "\"Chi-squared approximation may be incorrect\"\n",
      "Warning message in chisq.test(data[[categorical_columns[i]]], data[[categorical_columns[j]]]):\n",
      "\"Chi-squared approximation may be incorrect\"\n",
      "Warning message in chisq.test(data[[categorical_columns[i]]], data[[categorical_columns[j]]]):\n",
      "\"Chi-squared approximation may be incorrect\"\n",
      "Warning message in chisq.test(data[[categorical_columns[i]]], data[[categorical_columns[j]]]):\n",
      "\"Chi-squared approximation may be incorrect\"\n",
      "Warning message in chisq.test(data[[categorical_columns[i]]], data[[categorical_columns[j]]]):\n",
      "\"Chi-squared approximation may be incorrect\"\n",
      "Warning message in chisq.test(data[[categorical_columns[i]]], data[[categorical_columns[j]]]):\n",
      "\"Chi-squared approximation may be incorrect\"\n",
      "Warning message in chisq.test(data[[categorical_columns[i]]], data[[categorical_columns[j]]]):\n",
      "\"Chi-squared approximation may be incorrect\"\n",
      "Warning message in chisq.test(data[[categorical_columns[i]]], data[[categorical_columns[j]]]):\n",
      "\"Chi-squared approximation may be incorrect\"\n",
      "Warning message in chisq.test(data[[categorical_columns[i]]], data[[categorical_columns[j]]]):\n",
      "\"Chi-squared approximation may be incorrect\"\n",
      "Warning message in chisq.test(data[[categorical_columns[i]]], data[[categorical_columns[j]]]):\n",
      "\"Chi-squared approximation may be incorrect\"\n",
      "Warning message in chisq.test(data[[categorical_columns[i]]], data[[categorical_columns[j]]]):\n",
      "\"Chi-squared approximation may be incorrect\"\n",
      "Warning message in chisq.test(data[[categorical_columns[i]]], data[[categorical_columns[j]]]):\n",
      "\"Chi-squared approximation may be incorrect\"\n",
      "Warning message in chisq.test(data[[categorical_columns[i]]], data[[categorical_columns[j]]]):\n",
      "\"Chi-squared approximation may be incorrect\"\n",
      "Warning message in chisq.test(data[[categorical_columns[i]]], data[[categorical_columns[j]]]):\n",
      "\"Chi-squared approximation may be incorrect\"\n",
      "Warning message in chisq.test(data[[categorical_columns[i]]], data[[categorical_columns[j]]]):\n",
      "\"Chi-squared approximation may be incorrect\"\n",
      "Warning message in chisq.test(data[[categorical_columns[i]]], data[[categorical_columns[j]]]):\n",
      "\"Chi-squared approximation may be incorrect\"\n",
      "Warning message in chisq.test(data[[categorical_columns[i]]], data[[categorical_columns[j]]]):\n",
      "\"Chi-squared approximation may be incorrect\"\n",
      "Warning message in chisq.test(data[[categorical_columns[i]]], data[[categorical_columns[j]]]):\n",
      "\"Chi-squared approximation may be incorrect\"\n",
      "Warning message in chisq.test(data[[categorical_columns[i]]], data[[categorical_columns[j]]]):\n",
      "\"Chi-squared approximation may be incorrect\"\n",
      "Warning message in chisq.test(data[[categorical_columns[i]]], data[[categorical_columns[j]]]):\n",
      "\"Chi-squared approximation may be incorrect\"\n",
      "Warning message in chisq.test(data[[categorical_columns[i]]], data[[categorical_columns[j]]]):\n",
      "\"Chi-squared approximation may be incorrect\"\n",
      "Warning message in chisq.test(data[[categorical_columns[i]]], data[[categorical_columns[j]]]):\n",
      "\"Chi-squared approximation may be incorrect\"\n",
      "Warning message in chisq.test(data[[categorical_columns[i]]], data[[categorical_columns[j]]]):\n",
      "\"Chi-squared approximation may be incorrect\"\n",
      "Warning message in chisq.test(data[[categorical_columns[i]]], data[[categorical_columns[j]]]):\n",
      "\"Chi-squared approximation may be incorrect\"\n"
     ]
    },
    {
     "name": "stdout",
     "output_type": "stream",
     "text": [
      "                       Platform         Genre    Publisher     Developer\n",
      "Platform                     NA  1.146150e-36 4.098947e-01  5.851350e-30\n",
      "Genre              1.146150e-36            NA 7.173637e-02 3.481961e-207\n",
      "Publisher          4.098947e-01  7.173637e-02           NA  6.627394e-09\n",
      "Developer          5.851350e-30 3.481961e-207 6.627394e-09            NA\n",
      "NoOfPlayers        8.067939e-47  1.838731e-40 7.393081e-01  3.024689e-07\n",
      "EndOfMonth         2.692597e-01  1.471296e-01 1.672091e-01  8.913350e-02\n",
      "TopDeveloper_Count 1.154608e-13 1.462085e-117 5.837365e-21  0.000000e+00\n",
      "TopDeveloper_Sum   1.660058e-28 1.244600e-100 2.362041e-20  0.000000e+00\n",
      "ReleaseWeekend     3.230767e-02  4.985086e-01 5.915255e-01  7.728784e-12\n",
      "                    NoOfPlayers  EndOfMonth TopDeveloper_Count TopDeveloper_Sum\n",
      "Platform           8.067939e-47 0.269259694       1.154608e-13     1.660058e-28\n",
      "Genre              1.838731e-40 0.147129613      1.462085e-117    1.244600e-100\n",
      "Publisher          7.393081e-01 0.167209124       5.837365e-21     2.362041e-20\n",
      "Developer          3.024689e-07 0.089133497       0.000000e+00     0.000000e+00\n",
      "NoOfPlayers                  NA 0.838600097       4.432302e-14     8.162158e-17\n",
      "EndOfMonth         8.386001e-01          NA       6.262209e-03     3.495869e-03\n",
      "TopDeveloper_Count 4.432302e-14 0.006262209                 NA     0.000000e+00\n",
      "TopDeveloper_Sum   8.162158e-17 0.003495869       0.000000e+00               NA\n",
      "ReleaseWeekend     4.006473e-01 0.005091739       4.758548e-01     2.859062e-01\n",
      "                   ReleaseWeekend\n",
      "Platform             3.230767e-02\n",
      "Genre                4.985086e-01\n",
      "Publisher            5.915255e-01\n",
      "Developer            7.728784e-12\n",
      "NoOfPlayers          4.006473e-01\n",
      "EndOfMonth           5.091739e-03\n",
      "TopDeveloper_Count   4.758548e-01\n",
      "TopDeveloper_Sum     2.859062e-01\n",
      "ReleaseWeekend                 NA\n"
     ]
    }
   ],
   "source": [
    "# Columns to compare\n",
    "categorical_columns <- c(\"Platform\", \"Genre\", \"Publisher\", \"Developer\", \"NoOfPlayers\", \"EndOfMonth\", \"TopDeveloper_Count\", \"TopDeveloper_Sum\", \"ReleaseWeekend\")\n",
    "\n",
    "# Create an empty matrix to store p-values from chi-square tests\n",
    "p_values_matrix <- matrix(NA, nrow = length(categorical_columns), ncol = length(categorical_columns))\n",
    "rownames(p_values_matrix) <- colnames(p_values_matrix) <- categorical_columns\n",
    "\n",
    "# Perform chi-square tests for all pairs of categorical variables\n",
    "for (i in 1:(length(categorical_columns) - 1)) {\n",
    "  for (j in (i + 1):length(categorical_columns)) {\n",
    "    chi_sq_test <- chisq.test(data[[categorical_columns[i]]], data[[categorical_columns[j]]])\n",
    "    p_values_matrix[i, j] <- p_values_matrix[j, i] <- chi_sq_test$p.value\n",
    "  }\n",
    "}\n",
    "\n",
    "# Print or view the p-values matrix\n",
    "print(p_values_matrix)\n"
   ]
  },
  {
   "cell_type": "code",
   "execution_count": 226,
   "metadata": {
    "vscode": {
     "languageId": "r"
    }
   },
   "outputs": [],
   "source": [
    "write.csv(p_values_matrix, file = \"p_values_matrix.csv\")"
   ]
  },
  {
   "cell_type": "code",
   "execution_count": 178,
   "metadata": {
    "vscode": {
     "languageId": "r"
    }
   },
   "outputs": [
    {
     "data": {
      "image/png": "[encoded data removed]",
      "text/plain": [
       "plot without title"
      ]
     },
     "metadata": {
      "image/png": {
       "height": 420,
       "width": 420
      }
     },
     "output_type": "display_data"
    }
   ],
   "source": [
    "# Create a data frame for visualization\n",
    "p_values_df <- reshape2::melt(p_values_matrix)\n",
    "\n",
    "# Assign significance based on p-value thresholds\n",
    "p_values_df$significant <- ifelse(p_values_df$value < 0.05, \"Significant\", \"Not Significant\")\n",
    "\n",
    "# Plotting the heatmap, highlighting significant p-values in orange with slanted x-axis labels\n",
    "ggplot(p_values_df, aes(Var1, Var2, fill = significant)) +\n",
    "  geom_tile() +\n",
    "  scale_fill_manual(values = c(\"lightgrey\", \"orange\"), guide = guide_legend(title = \"Association\", \n",
    "                                                                           labels = c(\"Not Significant\", \"Significant\"))) +\n",
    "  labs(title = \"Chi-square Test P-values Heatmap\", x = \"Variables\", y = \"Variables\") +\n",
    "  theme(axis.text.x = element_text(angle = 45, hjust = 1))\n"
   ]
  },
  {
   "cell_type": "code",
   "execution_count": 201,
   "metadata": {
    "vscode": {
     "languageId": "r"
    }
   },
   "outputs": [
    {
     "data": {
      "text/plain": [
       "               Df Sum Sq Mean Sq F value Pr(>F)  \n",
       "data$Platform   5    172   34.40   1.874 0.0965 .\n",
       "Residuals     809  14854   18.36                 \n",
       "---\n",
       "Signif. codes:  0 '***' 0.001 '**' 0.01 '*' 0.05 '.' 0.1 ' ' 1"
      ]
     },
     "metadata": {},
     "output_type": "display_data"
    },
    {
     "data": {
      "text/plain": [
       "               Df Sum Sq Mean Sq F value Pr(>F)\n",
       "data$Platform   5     49   9.752   0.883  0.492\n",
       "Residuals     809   8936  11.046               "
      ]
     },
     "metadata": {},
     "output_type": "display_data"
    },
    {
     "data": {
      "text/plain": [
       "             Df Sum Sq Mean Sq F value  Pr(>F)   \n",
       "data$Genre    7    414   59.17   3.268 0.00198 **\n",
       "Residuals   807  14611   18.11                   \n",
       "---\n",
       "Signif. codes:  0 '***' 0.001 '**' 0.01 '*' 0.05 '.' 0.1 ' ' 1"
      ]
     },
     "metadata": {},
     "output_type": "display_data"
    },
    {
     "data": {
      "text/plain": [
       "             Df Sum Sq Mean Sq F value Pr(>F)\n",
       "data$Genre    7    113   16.17   1.471  0.174\n",
       "Residuals   807   8872   10.99               "
      ]
     },
     "metadata": {},
     "output_type": "display_data"
    },
    {
     "data": {
      "text/plain": [
       "                Df Sum Sq Mean Sq F value Pr(>F)\n",
       "data$Publisher   7     78   11.19   0.604  0.753\n",
       "Residuals      807  14947   18.52               "
      ]
     },
     "metadata": {},
     "output_type": "display_data"
    },
    {
     "data": {
      "text/plain": [
       "                Df Sum Sq Mean Sq F value Pr(>F)\n",
       "data$Publisher   7    130   18.62   1.697  0.106\n",
       "Residuals      807   8855   10.97               "
      ]
     },
     "metadata": {},
     "output_type": "display_data"
    },
    {
     "data": {
      "text/plain": [
       "                       Df Sum Sq Mean Sq F value   Pr(>F)    \n",
       "data$TopDeveloper_Sum  10   1028  102.80   5.905 1.19e-08 ***\n",
       "Residuals             804  13998   17.41                     \n",
       "---\n",
       "Signif. codes:  0 '***' 0.001 '**' 0.01 '*' 0.05 '.' 0.1 ' ' 1"
      ]
     },
     "metadata": {},
     "output_type": "display_data"
    },
    {
     "data": {
      "text/plain": [
       "                       Df Sum Sq Mean Sq F value   Pr(>F)    \n",
       "data$TopDeveloper_Sum  10    486   48.63     4.6 2.21e-06 ***\n",
       "Residuals             804   8499   10.57                     \n",
       "---\n",
       "Signif. codes:  0 '***' 0.001 '**' 0.01 '*' 0.05 '.' 0.1 ' ' 1"
      ]
     },
     "metadata": {},
     "output_type": "display_data"
    }
   ],
   "source": [
    "# Perform ANOVA tests for the specified pairs and store results with pair titles\n",
    "anova_result_platform_metascore <- aov(data$MetaScore ~ data$Platform)\n",
    "anova_result_platform_release_month <- aov(data$ReleaseMonth ~ data$Platform)\n",
    "anova_result_genre_metascore <- aov(data$MetaScore ~ data$Genre)\n",
    "anova_result_genre_release_month <- aov(data$ReleaseMonth ~ data$Genre)\n",
    "anova_result_publisher_metascore <- aov(data$MetaScore ~ data$Publisher)\n",
    "anova_result_publisher_release_month <- aov(data$ReleaseMonth ~ data$Publisher)\n",
    "anova_result_topdeveloper_metascore <- aov(data$MetaScore ~ data$TopDeveloper_Sum)\n",
    "anova_result_topdeveloper_release_month <- aov(data$ReleaseMonth ~ data$TopDeveloper_Sum)\n",
    "\n",
    "# Summarize ANOVA results with pair titles\n",
    "summary(anova_result_platform_metascore, name = \"Platform vs MetaScore\")\n",
    "summary(anova_result_platform_release_month, name = \"Platform vs ReleaseMonth\")\n",
    "summary(anova_result_genre_metascore, name = \"Genre vs MetaScore\")\n",
    "summary(anova_result_genre_release_month, name = \"Genre vs ReleaseMonth\")\n",
    "summary(anova_result_publisher_metascore, name = \"Publisher vs MetaScore\")\n",
    "summary(anova_result_publisher_release_month, name = \"Publisher vs ReleaseMonth\")\n",
    "summary(anova_result_topdeveloper_metascore, name = \"TopDeveloper_Sum vs MetaScore\")\n",
    "summary(anova_result_topdeveloper_release_month, name = \"TopDeveloper_Sum vs ReleaseMonth\")\n"
   ]
  },
  {
   "cell_type": "code",
   "execution_count": null,
   "metadata": {
    "vscode": {
     "languageId": "r"
    }
   },
   "outputs": [],
   "source": [
    "## MetaScore is highly associted with Genre and TopDeveloper categories"
   ]
  },
  {
   "cell_type": "markdown",
   "metadata": {},
   "source": [
    "Re-levels"
   ]
  },
  {
   "cell_type": "code",
   "execution_count": 33,
   "metadata": {
    "vscode": {
     "languageId": "r"
    }
   },
   "outputs": [
    {
     "data": {
      "text/html": [
       "<style>\n",
       ".list-inline {list-style: none; margin:0; padding: 0}\n",
       ".list-inline>li {display: inline-block}\n",
       ".list-inline>li:not(:last-child)::after {content: \"\\00b7\"; padding: 0 .5ex}\n",
       "</style>\n",
       "<ol class=list-inline><li>'Adventure'</li><li>'Board Game'</li><li>'Fighting'</li><li>'Puzzle'</li><li>'Racing'</li><li>'Shooter'</li><li>'Simulation'</li><li>'Sports'</li></ol>\n"
      ],
      "text/latex": [
       "\\begin{enumerate*}\n",
       "\\item 'Adventure'\n",
       "\\item 'Board Game'\n",
       "\\item 'Fighting'\n",
       "\\item 'Puzzle'\n",
       "\\item 'Racing'\n",
       "\\item 'Shooter'\n",
       "\\item 'Simulation'\n",
       "\\item 'Sports'\n",
       "\\end{enumerate*}\n"
      ],
      "text/markdown": [
       "1. 'Adventure'\n",
       "2. 'Board Game'\n",
       "3. 'Fighting'\n",
       "4. 'Puzzle'\n",
       "5. 'Racing'\n",
       "6. 'Shooter'\n",
       "7. 'Simulation'\n",
       "8. 'Sports'\n",
       "\n",
       "\n"
      ],
      "text/plain": [
       "[1] \"Adventure\"  \"Board Game\" \"Fighting\"   \"Puzzle\"     \"Racing\"    \n",
       "[6] \"Shooter\"    \"Simulation\" \"Sports\"    "
      ]
     },
     "metadata": {},
     "output_type": "display_data"
    }
   ],
   "source": [
    "levels(data$Genre)"
   ]
  },
  {
   "cell_type": "code",
   "execution_count": 34,
   "metadata": {
    "vscode": {
     "languageId": "r"
    }
   },
   "outputs": [
    {
     "data": {
      "text/html": [
       "<style>\n",
       ".list-inline {list-style: none; margin:0; padding: 0}\n",
       ".list-inline>li {display: inline-block}\n",
       ".list-inline>li:not(:last-child)::after {content: \"\\00b7\"; padding: 0 .5ex}\n",
       "</style>\n",
       "<ol class=list-inline><li>'Fighting'</li><li>'Adventure'</li><li>'Board Game'</li><li>'Puzzle'</li><li>'Racing'</li><li>'Shooter'</li><li>'Simulation'</li><li>'Sports'</li></ol>\n"
      ],
      "text/latex": [
       "\\begin{enumerate*}\n",
       "\\item 'Fighting'\n",
       "\\item 'Adventure'\n",
       "\\item 'Board Game'\n",
       "\\item 'Puzzle'\n",
       "\\item 'Racing'\n",
       "\\item 'Shooter'\n",
       "\\item 'Simulation'\n",
       "\\item 'Sports'\n",
       "\\end{enumerate*}\n"
      ],
      "text/markdown": [
       "1. 'Fighting'\n",
       "2. 'Adventure'\n",
       "3. 'Board Game'\n",
       "4. 'Puzzle'\n",
       "5. 'Racing'\n",
       "6. 'Shooter'\n",
       "7. 'Simulation'\n",
       "8. 'Sports'\n",
       "\n",
       "\n"
      ],
      "text/plain": [
       "[1] \"Fighting\"   \"Adventure\"  \"Board Game\" \"Puzzle\"     \"Racing\"    \n",
       "[6] \"Shooter\"    \"Simulation\" \"Sports\"    "
      ]
     },
     "metadata": {},
     "output_type": "display_data"
    }
   ],
   "source": [
    "# Re-level 'Genre' making 'Board Game' the base level\n",
    "data$Genre <- relevel(data$Genre, ref = \"Fighting\")\n",
    "\n",
    "# Check the new levels of 'Genre'\n",
    "levels(data$Genre)"
   ]
  },
  {
   "cell_type": "code",
   "execution_count": 35,
   "metadata": {
    "vscode": {
     "languageId": "r"
    }
   },
   "outputs": [
    {
     "data": {
      "text/html": [
       "<style>\n",
       ".list-inline {list-style: none; margin:0; padding: 0}\n",
       ".list-inline>li {display: inline-block}\n",
       ".list-inline>li:not(:last-child)::after {content: \"\\00b7\"; padding: 0 .5ex}\n",
       "</style>\n",
       "<ol class=list-inline><li>'Codemasters'</li><li>'Electronic Arts'</li><li>'KCET'</li><li>'Maxis'</li><li>'Namco'</li><li>'Nintendo'</li><li>'Others'</li><li>'SportsInteractive'</li><li>'Ubisoft'</li><li>'ValveSoftware'</li><li>'VisualConcepts'</li></ol>\n"
      ],
      "text/latex": [
       "\\begin{enumerate*}\n",
       "\\item 'Codemasters'\n",
       "\\item 'Electronic Arts'\n",
       "\\item 'KCET'\n",
       "\\item 'Maxis'\n",
       "\\item 'Namco'\n",
       "\\item 'Nintendo'\n",
       "\\item 'Others'\n",
       "\\item 'SportsInteractive'\n",
       "\\item 'Ubisoft'\n",
       "\\item 'ValveSoftware'\n",
       "\\item 'VisualConcepts'\n",
       "\\end{enumerate*}\n"
      ],
      "text/markdown": [
       "1. 'Codemasters'\n",
       "2. 'Electronic Arts'\n",
       "3. 'KCET'\n",
       "4. 'Maxis'\n",
       "5. 'Namco'\n",
       "6. 'Nintendo'\n",
       "7. 'Others'\n",
       "8. 'SportsInteractive'\n",
       "9. 'Ubisoft'\n",
       "10. 'ValveSoftware'\n",
       "11. 'VisualConcepts'\n",
       "\n",
       "\n"
      ],
      "text/plain": [
       " [1] \"Codemasters\"       \"Electronic Arts\"   \"KCET\"             \n",
       " [4] \"Maxis\"             \"Namco\"             \"Nintendo\"         \n",
       " [7] \"Others\"            \"SportsInteractive\" \"Ubisoft\"          \n",
       "[10] \"ValveSoftware\"     \"VisualConcepts\"   "
      ]
     },
     "metadata": {},
     "output_type": "display_data"
    }
   ],
   "source": [
    "levels(data$TopDeveloper_Sum)"
   ]
  },
  {
   "cell_type": "code",
   "execution_count": 36,
   "metadata": {
    "vscode": {
     "languageId": "r"
    }
   },
   "outputs": [
    {
     "data": {
      "text/html": [
       "<style>\n",
       ".list-inline {list-style: none; margin:0; padding: 0}\n",
       ".list-inline>li {display: inline-block}\n",
       ".list-inline>li:not(:last-child)::after {content: \"\\00b7\"; padding: 0 .5ex}\n",
       "</style>\n",
       "<ol class=list-inline><li>'DS'</li><li>'PC'</li><li>'PS'</li><li>'PS2'</li><li>'PS3'</li><li>'PS4'</li></ol>\n"
      ],
      "text/latex": [
       "\\begin{enumerate*}\n",
       "\\item 'DS'\n",
       "\\item 'PC'\n",
       "\\item 'PS'\n",
       "\\item 'PS2'\n",
       "\\item 'PS3'\n",
       "\\item 'PS4'\n",
       "\\end{enumerate*}\n"
      ],
      "text/markdown": [
       "1. 'DS'\n",
       "2. 'PC'\n",
       "3. 'PS'\n",
       "4. 'PS2'\n",
       "5. 'PS3'\n",
       "6. 'PS4'\n",
       "\n",
       "\n"
      ],
      "text/plain": [
       "[1] \"DS\"  \"PC\"  \"PS\"  \"PS2\" \"PS3\" \"PS4\""
      ]
     },
     "metadata": {},
     "output_type": "display_data"
    }
   ],
   "source": [
    "levels(data$Platform)"
   ]
  },
  {
   "cell_type": "code",
   "execution_count": 37,
   "metadata": {
    "vscode": {
     "languageId": "r"
    }
   },
   "outputs": [
    {
     "data": {
      "text/html": [
       "<style>\n",
       ".list-inline {list-style: none; margin:0; padding: 0}\n",
       ".list-inline>li {display: inline-block}\n",
       ".list-inline>li:not(:last-child)::after {content: \"\\00b7\"; padding: 0 .5ex}\n",
       "</style>\n",
       "<ol class=list-inline><li>'Weekday'</li><li>'Weekend'</li></ol>\n"
      ],
      "text/latex": [
       "\\begin{enumerate*}\n",
       "\\item 'Weekday'\n",
       "\\item 'Weekend'\n",
       "\\end{enumerate*}\n"
      ],
      "text/markdown": [
       "1. 'Weekday'\n",
       "2. 'Weekend'\n",
       "\n",
       "\n"
      ],
      "text/plain": [
       "[1] \"Weekday\" \"Weekend\""
      ]
     },
     "metadata": {},
     "output_type": "display_data"
    }
   ],
   "source": [
    "levels(data$ReleaseWeekend)"
   ]
  },
  {
   "cell_type": "code",
   "execution_count": 38,
   "metadata": {
    "vscode": {
     "languageId": "r"
    }
   },
   "outputs": [
    {
     "data": {
      "text/html": [
       "<style>\n",
       ".list-inline {list-style: none; margin:0; padding: 0}\n",
       ".list-inline>li {display: inline-block}\n",
       ".list-inline>li:not(:last-child)::after {content: \"\\00b7\"; padding: 0 .5ex}\n",
       "</style>\n",
       "<ol class=list-inline><li>'Activision'</li><li>'Amazon Game Studios'</li><li>'Electronic Arts'</li><li>'Frontier Developments'</li><li>'IBM'</li><li>'Omega'</li><li>'Sony Computer Entertainment'</li><li>'Ubisoft'</li></ol>\n"
      ],
      "text/latex": [
       "\\begin{enumerate*}\n",
       "\\item 'Activision'\n",
       "\\item 'Amazon Game Studios'\n",
       "\\item 'Electronic Arts'\n",
       "\\item 'Frontier Developments'\n",
       "\\item 'IBM'\n",
       "\\item 'Omega'\n",
       "\\item 'Sony Computer Entertainment'\n",
       "\\item 'Ubisoft'\n",
       "\\end{enumerate*}\n"
      ],
      "text/markdown": [
       "1. 'Activision'\n",
       "2. 'Amazon Game Studios'\n",
       "3. 'Electronic Arts'\n",
       "4. 'Frontier Developments'\n",
       "5. 'IBM'\n",
       "6. 'Omega'\n",
       "7. 'Sony Computer Entertainment'\n",
       "8. 'Ubisoft'\n",
       "\n",
       "\n"
      ],
      "text/plain": [
       "[1] \"Activision\"                  \"Amazon Game Studios\"        \n",
       "[3] \"Electronic Arts\"             \"Frontier Developments\"      \n",
       "[5] \"IBM\"                         \"Omega\"                      \n",
       "[7] \"Sony Computer Entertainment\" \"Ubisoft\"                    "
      ]
     },
     "metadata": {},
     "output_type": "display_data"
    }
   ],
   "source": [
    "levels(data$Publisher)"
   ]
  },
  {
   "cell_type": "code",
   "execution_count": 39,
   "metadata": {
    "vscode": {
     "languageId": "r"
    }
   },
   "outputs": [
    {
     "data": {
      "text/html": [
       "<style>\n",
       ".list-inline {list-style: none; margin:0; padding: 0}\n",
       ".list-inline>li {display: inline-block}\n",
       ".list-inline>li:not(:last-child)::after {content: \"\\00b7\"; padding: 0 .5ex}\n",
       "</style>\n",
       "<ol class=list-inline><li>'Electronic Arts'</li><li>'Activision'</li><li>'Amazon Game Studios'</li><li>'Frontier Developments'</li><li>'IBM'</li><li>'Omega'</li><li>'Sony Computer Entertainment'</li><li>'Ubisoft'</li></ol>\n"
      ],
      "text/latex": [
       "\\begin{enumerate*}\n",
       "\\item 'Electronic Arts'\n",
       "\\item 'Activision'\n",
       "\\item 'Amazon Game Studios'\n",
       "\\item 'Frontier Developments'\n",
       "\\item 'IBM'\n",
       "\\item 'Omega'\n",
       "\\item 'Sony Computer Entertainment'\n",
       "\\item 'Ubisoft'\n",
       "\\end{enumerate*}\n"
      ],
      "text/markdown": [
       "1. 'Electronic Arts'\n",
       "2. 'Activision'\n",
       "3. 'Amazon Game Studios'\n",
       "4. 'Frontier Developments'\n",
       "5. 'IBM'\n",
       "6. 'Omega'\n",
       "7. 'Sony Computer Entertainment'\n",
       "8. 'Ubisoft'\n",
       "\n",
       "\n"
      ],
      "text/plain": [
       "[1] \"Electronic Arts\"             \"Activision\"                 \n",
       "[3] \"Amazon Game Studios\"         \"Frontier Developments\"      \n",
       "[5] \"IBM\"                         \"Omega\"                      \n",
       "[7] \"Sony Computer Entertainment\" \"Ubisoft\"                    "
      ]
     },
     "metadata": {},
     "output_type": "display_data"
    }
   ],
   "source": [
    "data$Publisher <- relevel(data$Publisher, ref = \"Electronic Arts\")\n",
    "\n",
    "levels(data$Publisher)"
   ]
  },
  {
   "cell_type": "markdown",
   "metadata": {},
   "source": [
    "Split Training and Testing Dataset"
   ]
  },
  {
   "cell_type": "code",
   "execution_count": 40,
   "metadata": {
    "vscode": {
     "languageId": "r"
    }
   },
   "outputs": [],
   "source": [
    "########################################################\n",
    "# Split into 80-20 training-testing dataset\n",
    "\n",
    "# Set a random seed for reproducibility\n",
    "set.seed(123)\n",
    "\n",
    "# Split the data into a training set (80%) and a test set (20%)\n",
    "split <- sample.split(data$SqRtGlobalSales, SplitRatio = 0.8)\n",
    "training_data <- subset(data, split == TRUE)\n",
    "test_data <- subset(data, split == FALSE)"
   ]
  },
  {
   "cell_type": "markdown",
   "metadata": {},
   "source": [
    "Build LM model"
   ]
  },
  {
   "cell_type": "code",
   "execution_count": 41,
   "metadata": {
    "vscode": {
     "languageId": "r"
    }
   },
   "outputs": [
    {
     "data": {
      "text/plain": [
       "\n",
       "Call:\n",
       "lm(formula = SqRtGlobalSales ~ Platform + Genre + Publisher + \n",
       "    VGScore + CriticScore + UserScore + ProductionCost + ReleaseYear + \n",
       "    ReleaseMonth + EndOfMonth + ReleaseQuarter + ReleaseWeekDay + \n",
       "    ReleaseWeekend + ReleaseWeek + MetaScore + NoOfPlayers + \n",
       "    TopDeveloper_Sum, data = training_data)\n",
       "\n",
       "Residuals:\n",
       "     Min       1Q   Median       3Q      Max \n",
       "-2.09470 -0.54154  0.02379  0.56637  2.60835 \n",
       "\n",
       "Coefficients:\n",
       "                                       Estimate Std. Error t value Pr(>|t|)    \n",
       "(Intercept)                          -1.167e+01  1.971e+01  -0.592 0.553873    \n",
       "PlatformPC                            1.710e+00  1.731e-01   9.875  < 2e-16 ***\n",
       "PlatformPS                            9.000e-01  2.839e-01   3.170 0.001601 ** \n",
       "PlatformPS2                           5.124e-01  1.829e-01   2.801 0.005251 ** \n",
       "PlatformPS3                           6.283e-01  1.927e-01   3.261 0.001171 ** \n",
       "PlatformPS4                           4.642e-01  2.351e-01   1.974 0.048808 *  \n",
       "GenreAdventure                        6.084e-01  1.803e-01   3.374 0.000788 ***\n",
       "GenreBoard Game                      -5.070e-01  8.660e-01  -0.585 0.558459    \n",
       "GenrePuzzle                           4.912e-01  2.179e-01   2.254 0.024561 *  \n",
       "GenreRacing                           3.496e-01  1.701e-01   2.055 0.040276 *  \n",
       "GenreShooter                          1.718e-01  1.588e-01   1.082 0.279591    \n",
       "GenreSimulation                       1.245e-01  1.836e-01   0.678 0.497887    \n",
       "GenreSports                           7.828e-02  1.647e-01   0.475 0.634661    \n",
       "PublisherActivision                   2.281e-01  1.083e-01   2.106 0.035576 *  \n",
       "PublisherAmazon Game Studios          1.965e-02  1.539e-01   0.128 0.898402    \n",
       "PublisherFrontier Developments        2.082e-01  1.181e-01   1.763 0.078375 .  \n",
       "PublisherIBM                          3.103e-01  1.545e-01   2.008 0.045105 *  \n",
       "PublisherOmega                        1.285e-01  1.471e-01   0.874 0.382599    \n",
       "PublisherSony Computer Entertainment  6.625e-02  1.291e-01   0.513 0.607911    \n",
       "PublisherUbisoft                      9.076e-02  1.195e-01   0.759 0.447960    \n",
       "VGScore                               1.671e-02  1.339e-02   1.248 0.212575    \n",
       "CriticScore                          -1.486e-02  1.249e-02  -1.190 0.234657    \n",
       "UserScore                            -2.166e-02  1.170e-02  -1.852 0.064466 .  \n",
       "ProductionCost                       -6.462e-04  1.934e-02  -0.033 0.973358    \n",
       "ReleaseYear                           5.357e-03  9.711e-03   0.552 0.581436    \n",
       "ReleaseMonth                          3.253e-01  1.952e-01   1.667 0.096118 .  \n",
       "EndOfMonthYes                         1.757e-01  1.165e-01   1.508 0.132094    \n",
       "ReleaseQuarter                       -7.714e-02  1.299e-01  -0.594 0.552980    \n",
       "ReleaseWeekDay                        2.323e-02  2.993e-02   0.776 0.437822    \n",
       "ReleaseWeekendWeekend                 3.703e-01  2.373e-01   1.560 0.119238    \n",
       "ReleaseWeek                          -6.694e-02  4.326e-02  -1.547 0.122355    \n",
       "MetaScore                             2.099e-02  8.135e-03   2.580 0.010118 *  \n",
       "NoOfPlayers1                         -3.473e-01  8.561e-01  -0.406 0.685107    \n",
       "NoOfPlayers1 to 2                    -1.346e-01  8.636e-01  -0.156 0.876158    \n",
       "NoOfPlayers1 to 4                    -2.168e-01  8.651e-01  -0.251 0.802171    \n",
       "NoOfPlayers1 to 8                    -6.134e-01  8.932e-01  -0.687 0.492497    \n",
       "NoOfPlayersMutliplayer               -2.005e-01  8.597e-01  -0.233 0.815666    \n",
       "TopDeveloper_SumElectronic Arts       8.680e-01  2.478e-01   3.503 0.000495 ***\n",
       "TopDeveloper_SumKCET                  1.191e+00  3.834e-01   3.107 0.001980 ** \n",
       "TopDeveloper_SumMaxis                 1.835e-01  3.713e-01   0.494 0.621376    \n",
       "TopDeveloper_SumNamco                 1.046e+00  3.543e-01   2.952 0.003279 ** \n",
       "TopDeveloper_SumNintendo              2.566e+00  4.462e-01   5.752  1.4e-08 ***\n",
       "TopDeveloper_SumOthers                6.901e-01  2.286e-01   3.018 0.002649 ** \n",
       "TopDeveloper_SumSportsInteractive     7.674e-01  3.613e-01   2.124 0.034064 *  \n",
       "TopDeveloper_SumUbisoft               5.125e-01  3.573e-01   1.434 0.151996    \n",
       "TopDeveloper_SumValveSoftware         1.029e+00  4.233e-01   2.431 0.015367 *  \n",
       "TopDeveloper_SumVisualConcepts        5.211e-01  3.461e-01   1.506 0.132639    \n",
       "---\n",
       "Signif. codes:  0 '***' 0.001 '**' 0.01 '*' 0.05 '.' 0.1 ' ' 1\n",
       "\n",
       "Residual standard error: 0.8316 on 605 degrees of freedom\n",
       "Multiple R-squared:  0.4029,\tAdjusted R-squared:  0.3575 \n",
       "F-statistic: 8.873 on 46 and 605 DF,  p-value: < 2.2e-16\n"
      ]
     },
     "metadata": {},
     "output_type": "display_data"
    }
   ],
   "source": [
    "########################################################\n",
    "# Build LM model\n",
    "\n",
    "lm_model1 = lm(SqRtGlobalSales ~ Platform + Genre + Publisher + VGScore + CriticScore\n",
    "                + UserScore + ProductionCost + ReleaseYear + ReleaseMonth + EndOfMonth\n",
    "                + ReleaseQuarter + ReleaseWeekDay + ReleaseWeekend + ReleaseWeek\n",
    "                + MetaScore + NoOfPlayers + TopDeveloper_Sum, \n",
    "                data = training_data)\n",
    "summary(lm_model1)"
   ]
  },
  {
   "cell_type": "code",
   "execution_count": 189,
   "metadata": {
    "vscode": {
     "languageId": "r"
    }
   },
   "outputs": [
    {
     "name": "stdout",
     "output_type": "stream",
     "text": [
      "Response variable: SqRtGlobalSales \n",
      "Total response variance: 1.076354 \n",
      "Analysis based on 652 observations \n",
      "\n",
      "46 Regressors: \n",
      "Some regressors combined in groups: \n",
      "        Group  Platform : PlatformPC PlatformPS PlatformPS2 PlatformPS3 PlatformPS4 \n",
      "        Group  Genre : GenrePuzzle GenreAdventure GenreBoard Game GenreRacing GenreShooter GenreSimulation GenreSports \n",
      "        Group  Publisher : PublisherIBM PublisherOmega PublisherAmazon Game Studios PublisherElectronic Arts PublisherFrontier Developments PublisherSony Computer Entertainment PublisherUbisoft \n",
      "        Group  NoOfPlayers : NoOfPlayers1 NoOfPlayers1 to 2 NoOfPlayers1 to 4 NoOfPlayers1 to 8 NoOfPlayersMutliplayer \n",
      "        Group  TopDeveloper_Sum : TopDeveloper_SumElectronic Arts TopDeveloper_SumKCET TopDeveloper_SumMaxis TopDeveloper_SumNamco TopDeveloper_SumNintendo TopDeveloper_SumOthers TopDeveloper_SumSportsInteractive TopDeveloper_SumUbisoft TopDeveloper_SumValveSoftware TopDeveloper_SumVisualConcepts \n",
      "\n",
      " Relative importance of 17 (groups of) regressors assessed: \n",
      " Platform Genre Publisher NoOfPlayers TopDeveloper_Sum VGScore CriticScore UserScore ProductionCost ReleaseYear ReleaseMonth EndOfMonth ReleaseQuarter ReleaseWeekDay ReleaseWeekend ReleaseWeek MetaScore \n",
      " \n",
      "Proportion of variance explained by model: 40.29%\n",
      "Metrics are not normalized (rela=FALSE). \n",
      "\n",
      "Relative importance metrics: \n",
      "\n",
      "                          lmg\n",
      "Platform         0.2682861697\n",
      "Genre            0.0329223684\n",
      "Publisher        0.0108067686\n",
      "NoOfPlayers      0.0241220609\n",
      "TopDeveloper_Sum 0.0429148197\n",
      "VGScore          0.0008874743\n",
      "CriticScore      0.0026122671\n",
      "UserScore        0.0018065340\n",
      "ProductionCost   0.0006068782\n",
      "ReleaseYear      0.0003672181\n",
      "ReleaseMonth     0.0012568270\n",
      "EndOfMonth       0.0011689962\n",
      "ReleaseQuarter   0.0005669337\n",
      "ReleaseWeekDay   0.0049972704\n",
      "ReleaseWeekend   0.0035667420\n",
      "ReleaseWeek      0.0010849041\n",
      "MetaScore        0.0048829524\n",
      "\n",
      "Average coefficients for different model sizes: \n",
      "\n",
      "                                           1group      2groups      3groups\n",
      "PlatformPC                            1.194195798  1.223773174  1.254137960\n",
      "PlatformPS                            0.462101088  0.480821418  0.501133017\n",
      "PlatformPS2                           0.042794938  0.067263002  0.092775255\n",
      "PlatformPS3                           0.063830118  0.094117046  0.125536394\n",
      "PlatformPS4                           0.007413321  0.037841447  0.068427438\n",
      "GenrePuzzle                           0.666136730  0.639164281  0.613998493\n",
      "GenreAdventure                        0.972785607  0.928847559  0.887658771\n",
      "GenreBoard Game                      -0.409649944 -0.432714320 -0.453796446\n",
      "GenreRacing                           0.560236918  0.539104091  0.518903642\n",
      "GenreShooter                          0.718207764  0.671942946  0.627008165\n",
      "GenreSimulation                       0.720213306  0.661152361  0.605233691\n",
      "GenreSports                           0.385137158  0.362057982  0.339484404\n",
      "PublisherIBM                          0.222805738  0.215219433  0.207287185\n",
      "PublisherOmega                       -0.073072444 -0.078540735 -0.083416119\n",
      "PublisherAmazon Game Studios         -0.090100194 -0.097204789 -0.103930339\n",
      "PublisherElectronic Arts             -0.213764386 -0.215350588 -0.216982746\n",
      "PublisherFrontier Developments       -0.063670429 -0.059296513 -0.055302691\n",
      "PublisherSony Computer Entertainment -0.268738516 -0.257598532 -0.247457063\n",
      "PublisherUbisoft                     -0.114900569 -0.118226300 -0.121234286\n",
      "VGScore                               0.008168167  0.007378241  0.006891509\n",
      "CriticScore                          -0.020671537 -0.020437147 -0.020232109\n",
      "UserScore                            -0.006916674 -0.007885704 -0.008850203\n",
      "ProductionCost                        0.021449200  0.020480095  0.019452719\n",
      "ReleaseYear                           0.005173887  0.003951499  0.002995591\n",
      "ReleaseMonth                          0.009955948  0.012503282  0.015870588\n",
      "EndOfMonth                            0.065808694  0.064698761  0.064101715\n",
      "ReleaseQuarter                        0.019465760 -0.001874688 -0.018916492\n",
      "ReleaseWeekDay                        0.082498015  0.076898457  0.071610713\n",
      "ReleaseWeekend                        0.412280693  0.399426016  0.390147509\n",
      "ReleaseWeek                           0.002302577  0.002925138  0.003012505\n",
      "MetaScore                             0.011683149  0.012802319  0.013770538\n",
      "NoOfPlayers1                         -0.901448310 -0.885959006 -0.867783558\n",
      "NoOfPlayers1 to 2                    -1.413825180 -1.348909122 -1.281721873\n",
      "NoOfPlayers1 to 4                    -1.317218401 -1.263300637 -1.207471138\n",
      "NoOfPlayers1 to 8                    -1.913629245 -1.848204353 -1.780155014\n",
      "NoOfPlayersMutliplayer               -1.023056396 -0.988555255 -0.951977650\n",
      "TopDeveloper_SumElectronic Arts       0.425804857  0.462208575  0.497346214\n",
      "TopDeveloper_SumKCET                  0.853827009  0.874760508  0.895879816\n",
      "TopDeveloper_SumMaxis                 0.388195922  0.342456055  0.302372341\n",
      "TopDeveloper_SumNamco                 0.452545946  0.524285957  0.591999283\n",
      "TopDeveloper_SumNintendo              1.523479277  1.591528307  1.659830493\n",
      "TopDeveloper_SumOthers                0.552318034  0.554034679  0.557341395\n",
      "TopDeveloper_SumSportsInteractive     1.162871241  1.106469782  1.056564128\n",
      "TopDeveloper_SumUbisoft               0.494464995  0.475276722  0.460636214\n",
      "TopDeveloper_SumValveSoftware         1.450020113  1.410872787  1.374092087\n",
      "TopDeveloper_SumVisualConcepts       -0.168531159 -0.118094240 -0.067579066\n",
      "                                          4groups      5groups       6groups\n",
      "PlatformPC                            1.285174822  1.316773568  1.348830e+00\n",
      "PlatformPS                            0.522933135  0.546128666  5.706325e-01\n",
      "PlatformPS2                           0.119224144  0.146510386  1.745423e-01\n",
      "PlatformPS3                           0.157974191  0.191317938  2.254581e-01\n",
      "PlatformPS4                           0.099102033  0.129783601  1.603811e-01\n",
      "GenrePuzzle                           0.590774217  0.569608206  5.505964e-01\n",
      "GenreAdventure                        0.849322280  0.813909521  7.814610e-01\n",
      "GenreBoard Game                      -0.472708717 -0.489301936 -5.034714e-01\n",
      "GenreRacing                           0.499710702  0.481582769  4.645611e-01\n",
      "GenreShooter                          0.583536972  0.541641987  5.014132e-01\n",
      "GenreSimulation                       0.552454269  0.502798511  4.562365e-01\n",
      "GenreSports                           0.317457786  0.296013583  2.751786e-01\n",
      "PublisherIBM                          0.199031766  0.190504686  1.817692e-01\n",
      "PublisherOmega                       -0.087754121 -0.091603949 -9.500396e-02\n",
      "PublisherAmazon Game Studios         -0.110394654 -0.116716496 -1.230073e-01\n",
      "PublisherElectronic Arts             -0.218621166 -0.220224346 -2.217532e-01\n",
      "PublisherFrontier Developments       -0.051713173 -0.048520625 -4.569488e-02\n",
      "PublisherSony Computer Entertainment -0.238213350 -0.229775071 -2.220550e-01\n",
      "PublisherUbisoft                     -0.123951532 -0.126386159 -1.285379e-01\n",
      "VGScore                               0.006672374  0.006689228  6.913338e-03\n",
      "CriticScore                          -0.020038034 -0.019839878 -1.962563e-02\n",
      "UserScore                            -0.009811924 -0.010771810 -1.173001e-02\n",
      "ProductionCost                        0.018372629  0.017242362  1.606255e-02\n",
      "ReleaseYear                           0.002281635  0.001786052  1.485902e-03\n",
      "ReleaseMonth                          0.020389342  0.026432868  3.438753e-02\n",
      "EndOfMonth                            0.063890705  0.064089266  6.483092e-02\n",
      "ReleaseQuarter                       -0.032331282 -0.042712330 -5.058701e-02\n",
      "ReleaseWeekDay                        0.066625274  0.061933494  5.752568e-02\n",
      "ReleaseWeekend                        0.383674388  0.379341138  3.765806e-01\n",
      "ReleaseWeek                           0.002563609  0.001553899 -5.536042e-05\n",
      "MetaScore                             0.014609131  0.015338088  1.597619e-02\n",
      "NoOfPlayers1                         -0.846870611 -0.823189152 -7.967315e-01\n",
      "NoOfPlayers1 to 2                    -1.212249906 -1.140503705 -1.066516e+00\n",
      "NoOfPlayers1 to 4                    -1.149586490 -1.089544724 -1.027285e+00\n",
      "NoOfPlayers1 to 8                    -1.709595854 -1.636630648 -1.561357e+00\n",
      "NoOfPlayersMutliplayer               -0.913157207 -0.871971495 -8.283397e-01\n",
      "TopDeveloper_SumElectronic Arts       0.531166309  0.563640705  5.947666e-01\n",
      "TopDeveloper_SumKCET                  0.917124089  0.938443052  9.597959e-01\n",
      "TopDeveloper_SumMaxis                 0.267696008  0.238184561  2.135924e-01\n",
      "TopDeveloper_SumNamco                 0.655313445  0.713964231  7.677821e-01\n",
      "TopDeveloper_SumNintendo              1.728222635  1.796549491  1.864666e+00\n",
      "TopDeveloper_SumOthers                0.562036684  0.567943243  5.749051e-01\n",
      "TopDeveloper_SumSportsInteractive     1.012344290  0.973131199  9.383636e-01\n",
      "TopDeveloper_SumUbisoft               0.450087446  0.443175322  4.394608e-01\n",
      "TopDeveloper_SumValveSoftware         1.339433649  1.306704797  1.275753e+00\n",
      "TopDeveloper_SumVisualConcepts       -0.017540230  0.031604717  7.955990e-02\n",
      "                                          7groups      8groups      9groups\n",
      "PlatformPC                            1.381246480  1.413933670  1.446810573\n",
      "PlatformPS                            0.596360507  0.623228424  0.651149900\n",
      "PlatformPS2                           0.203235351  0.232511909  0.262301017\n",
      "PlatformPS3                           0.260289806  0.295713717  0.331637522\n",
      "PlatformPS4                           0.190796974  0.220930689  0.250681163\n",
      "GenrePuzzle                           0.533812798  0.519309958  0.507119776\n",
      "GenreAdventure                        0.751988411  0.725476771  0.701887797\n",
      "GenreBoard Game                      -0.515158392 -0.524348100 -0.531065021\n",
      "GenreRacing                           0.448672400  0.433929677  0.420333766\n",
      "GenreShooter                          0.462916965  0.426195739  0.391268134\n",
      "GenreSimulation                       0.412722823  0.372196008  0.334578301\n",
      "GenreSports                           0.254967939  0.235382735  0.216407187\n",
      "PublisherIBM                          0.172888589  0.163918071  0.154900797\n",
      "PublisherOmega                       -0.097978541 -0.100536450 -0.102670516\n",
      "PublisherAmazon Game Studios         -0.129365862 -0.135875661 -0.142604228\n",
      "PublisherElectronic Arts             -0.223173905 -0.224459109 -0.225588428\n",
      "PublisherFrontier Developments       -0.043189338 -0.040945589 -0.038896552\n",
      "PublisherSony Computer Entertainment -0.214968904 -0.208434842 -0.202372467\n",
      "PublisherUbisoft                     -0.130405631 -0.131992917 -0.133310438\n",
      "VGScore                               0.007318182  0.007879106  0.008573165\n",
      "CriticScore                          -0.019385991 -0.019114087 -0.018805116\n",
      "UserScore                            -0.012685922 -0.013638288 -0.014585285\n",
      "ProductionCost                        0.014832692  0.013551600  0.012217707\n",
      "ReleaseYear                           0.001358805  0.001383014  0.001537573\n",
      "ReleaseMonth                          0.044629556  0.057507324  0.073328559\n",
      "EndOfMonth                            0.066324053  0.068821949  0.072597897\n",
      "ReleaseQuarter                       -0.056426502 -0.060653228 -0.063646682\n",
      "ReleaseWeekDay                        0.053390161  0.049513021  0.045878266\n",
      "ReleaseWeekend                        0.374918440  0.373968931  0.373429675\n",
      "ReleaseWeek                          -0.002309528 -0.005254673 -0.008933136\n",
      "MetaScore                             0.016540971  0.017048670  0.017514090\n",
      "NoOfPlayers1                         -0.767515683 -0.735587600 -0.701021721\n",
      "NoOfPlayers1 to 2                    -0.990340574 -0.912052594 -0.831747775\n",
      "NoOfPlayers1 to 4                    -0.962786399 -0.896069218 -0.827192274\n",
      "NoOfPlayers1 to 8                    -1.483868896 -1.404264692 -1.322647050\n",
      "NoOfPlayersMutliplayer               -0.782221002 -0.733613391 -0.682552107\n",
      "TopDeveloper_SumElectronic Arts       0.624566035  0.653084831  0.680389875\n",
      "TopDeveloper_SumKCET                  0.981149692  1.002477854  1.023758862\n",
      "TopDeveloper_SumMaxis                 0.193664473  0.178132147  0.166710652\n",
      "TopDeveloper_SumNamco                 0.816677895  0.860628008  0.899660475\n",
      "TopDeveloper_SumNintendo              1.932437981  1.999741161  2.066460115\n",
      "TopDeveloper_SumOthers                0.582784661  0.591460000  0.600822228\n",
      "TopDeveloper_SumSportsInteractive     0.907585042  0.880430095  0.856611381\n",
      "TopDeveloper_SumUbisoft               0.438530626  0.440002643  0.443527940\n",
      "TopDeveloper_SumValveSoftware         1.246454817  1.218713600  1.192449526\n",
      "TopDeveloper_SumVisualConcepts        0.126135568  0.171232839  0.214828838\n",
      "                                         10groups     11groups     12groups\n",
      "PlatformPC                            1.479805451  1.512855861  1.545908275\n",
      "PlatformPS                            0.680034341  0.709785261  0.740298787\n",
      "PlatformPS2                           0.292538185  0.323165032  0.354128711\n",
      "PlatformPS3                           0.367976401  0.404653326  0.441598835\n",
      "PlatformPS4                           0.279949521  0.308641136  0.336667176\n",
      "GenrePuzzle                           0.497255144  0.489711693  0.484469575\n",
      "GenreAdventure                        0.681162723  0.663225363  0.647985039\n",
      "GenreBoard Game                      -0.535366787 -0.537337384 -0.537080723\n",
      "GenreRacing                           0.407874008  0.396529101  0.386267925\n",
      "GenreShooter                          0.358129629  0.326753758  0.297093838\n",
      "GenreSimulation                       0.299776020  0.267680449  0.238169395\n",
      "GenreSports                           0.198006743  0.180126676  0.162691592\n",
      "PublisherIBM                          0.145865905  0.136828702  0.127792141\n",
      "PublisherOmega                       -0.104358422 -0.105564339 -0.106241142\n",
      "PublisherAmazon Game Studios         -0.149604062 -0.156914512 -0.164564199\n",
      "PublisherElectronic Arts             -0.226547850 -0.227328710 -0.227926357\n",
      "PublisherFrontier Developments       -0.036968677 -0.035083442 -0.033158459\n",
      "PublisherSony Computer Entertainment -0.196703139 -0.191350060 -0.186238512\n",
      "PublisherUbisoft                     -0.134377073 -0.135219161 -0.135868606\n",
      "VGScore                               0.009379073  0.010277190  0.011249521\n",
      "CriticScore                          -0.018456033 -0.018065213 -0.017632141\n",
      "UserScore                            -0.015524658 -0.016453845 -0.017370110\n",
      "ProductionCost                        0.010829178  0.009383927  0.007879564\n",
      "ReleaseYear                           0.001802507  0.002159023  0.002589688\n",
      "ReleaseMonth                          0.092351809  0.114781408  0.140765189\n",
      "EndOfMonth                            0.077924873  0.085059488  0.094229757\n",
      "ReleaseQuarter                       -0.065747886 -0.067262813 -0.068464825\n",
      "ReleaseWeekDay                        0.042468211  0.039263943  0.036245760\n",
      "ReleaseWeekend                        0.373076530  0.372757503  0.372385853\n",
      "ReleaseWeek                          -0.013380358 -0.018622785 -0.024676626\n",
      "MetaScore                             0.017950523  0.018369693  0.018781747\n",
      "NoOfPlayers1                         -0.663921361 -0.624417878 -0.582669110\n",
      "NoOfPlayers1 to 2                    -0.749542472 -0.665573148 -0.579995567\n",
      "NoOfPlayers1 to 4                    -0.756252347 -0.683381952 -0.608746732\n",
      "NoOfPlayers1 to 8                    -1.239127964 -1.153830822 -1.066892152\n",
      "NoOfPlayersMutliplayer               -0.629107945 -0.573385030 -0.515518156\n",
      "TopDeveloper_SumElectronic Arts       0.706566856  0.731717559  0.755957096\n",
      "TopDeveloper_SumKCET                  1.044975529  1.066114804  1.087168081\n",
      "TopDeveloper_SumMaxis                 0.159097741  0.154973266  0.153999473\n",
      "TopDeveloper_SumNamco                 0.933841507  0.963263326  0.988033363\n",
      "TopDeveloper_SumNintendo              2.132486218  2.197715477  2.262046119\n",
      "TopDeveloper_SumOthers                0.610773218  0.621223538  0.632090590\n",
      "TopDeveloper_SumSportsInteractive     0.835906114  0.818143258  0.803191221\n",
      "TopDeveloper_SumUbisoft               0.448790117  0.455502399  0.463402975\n",
      "TopDeveloper_SumValveSoftware         1.167597159  1.144100894  1.121911303\n",
      "TopDeveloper_SumVisualConcepts        0.256962445  0.297720599  0.337225203\n",
      "                                         13groups     14groups     15groups\n",
      "PlatformPC                            1.578917150  1.611843438  1.644652573\n",
      "PlatformPS                            0.771462311  0.803153267  0.835238054\n",
      "PlatformPS2                           0.385381053  0.416877372  0.448574956\n",
      "PlatformPS3                           0.478750282  0.516050575  0.553446415\n",
      "PlatformPS4                           0.363945547  0.390401148  0.415965356\n",
      "GenrePuzzle                           0.481495094  0.480742006  0.482152345\n",
      "GenreAdventure                        0.635339362  0.625176832  0.617379246\n",
      "GenreBoard Game                      -0.534715539 -0.530372621 -0.524195404\n",
      "GenreRacing                           0.377050471  0.368828928  0.361548938\n",
      "GenreShooter                          0.269085231  0.242648105  0.217690596\n",
      "GenreSimulation                       0.211109465  0.186359099  0.163772300\n",
      "GenreSports                           0.145606006  0.128756126  0.112012900\n",
      "PublisherIBM                          0.118749091  0.109684968  0.100580334\n",
      "PublisherOmega                       -0.106332990 -0.105778134 -0.104511850\n",
      "PublisherAmazon Game Studios         -0.172573599 -0.180957548 -0.189727527\n",
      "PublisherElectronic Arts             -0.228338748 -0.228565129 -0.228604970\n",
      "PublisherFrontier Developments       -0.031108400 -0.028845936 -0.026282842\n",
      "PublisherSony Computer Entertainment -0.181296109 -0.176453020 -0.171642215\n",
      "PublisherUbisoft                     -0.136360155 -0.136728161 -0.137003133\n",
      "VGScore                               0.012279705  0.013352957  0.014455994\n",
      "CriticScore                          -0.017157131 -0.016641074 -0.016085229\n",
      "UserScore                            -0.018270665 -0.019152772 -0.020013831\n",
      "ProductionCost                        0.006313299  0.004681836  0.002981269\n",
      "ReleaseYear                           0.003078577  0.003611386  0.004175527\n",
      "ReleaseMonth                          0.170394208  0.203703775  0.240675111\n",
      "EndOfMonth                            0.105626260  0.119396313  0.135640769\n",
      "ReleaseQuarter                       -0.069596098 -0.070867898 -0.072459488\n",
      "ReleaseWeekDay                        0.033393523  0.030686881  0.028105366\n",
      "ReleaseWeekend                        0.371932380  0.371417037  0.370900113\n",
      "ReleaseWeek                          -0.031547305 -0.039229426 -0.047707087\n",
      "MetaScore                             0.019195282  0.019617422  0.020053938\n",
      "NoOfPlayers1                         -0.538857195 -0.493186046 -0.445878860\n",
      "NoOfPlayers1 to 2                    -0.492983685 -0.404728324 -0.315435842\n",
      "NoOfPlayers1 to 4                    -0.532542420 -0.454991601 -0.376340598\n",
      "NoOfPlayers1 to 8                    -0.978462727 -0.888708152 -0.797809172\n",
      "NoOfPlayersMutliplayer               -0.455669769 -0.394026808 -0.330797703\n",
      "TopDeveloper_SumElectronic Arts       0.779410949  0.802211736  0.824495587\n",
      "TopDeveloper_SumKCET                  1.108131882  1.129008716  1.149807872\n",
      "TopDeveloper_SumMaxis                 0.155821875  0.160070574  0.166361929\n",
      "TopDeveloper_SumNamco                 1.008265049  1.024070309  1.035553903\n",
      "TopDeveloper_SumNintendo              2.325375990  2.387599780  2.448606065\n",
      "TopDeveloper_SumOthers                0.643296898  0.654768488  0.666433270\n",
      "TopDeveloper_SumSportsInteractive     0.790946324  0.781322191  0.774240159\n",
      "TopDeveloper_SumUbisoft               0.472248976  0.481809506  0.491858134\n",
      "TopDeveloper_SumValveSoftware         1.100981908  1.081266361  1.062716000\n",
      "TopDeveloper_SumVisualConcepts        0.375620612  0.413061747  0.449702921\n",
      "                                         16groups      17groups\n",
      "PlatformPC                            1.677312000  1.7097883424\n",
      "PlatformPS                            0.867571178  0.8999947238\n",
      "PlatformPS2                           0.480431250  0.5124017996\n",
      "PlatformPS3                           0.590886077  0.6283168227\n",
      "PlatformPS4                           0.440574655  0.4641683074\n",
      "GenrePuzzle                           0.485656587  0.4911730228\n",
      "GenreAdventure                        0.611823833  0.6083850935\n",
      "GenreBoard Game                      -0.516344954 -0.5070103604\n",
      "GenreRacing                           0.355150966  0.3495716942\n",
      "GenreShooter                          0.194112265  0.1718076909\n",
      "GenreSimulation                       0.143202987  0.1245098108\n",
      "GenreSports                           0.095236327  0.0782809172\n",
      "PublisherIBM                          0.091413164  0.0821605460\n",
      "PublisherOmega                       -0.102469520 -0.0995899494\n",
      "PublisherAmazon Game Studios         -0.198893698 -0.2084667921\n",
      "PublisherElectronic Arts             -0.228457281 -0.2281204271\n",
      "PublisherFrontier Developments       -0.023331437 -0.0199065668\n",
      "PublisherSony Computer Entertainment -0.166799772 -0.1618654140\n",
      "PublisherUbisoft                     -0.137208311 -0.1373564815\n",
      "VGScore                               0.015576905  0.0167049853\n",
      "CriticScore                          -0.015491054 -0.0148600626\n",
      "UserScore                            -0.020851430 -0.0216633610\n",
      "ProductionCost                        0.001207019 -0.0006461993\n",
      "ReleaseYear                           0.004760221  0.0053566253\n",
      "ReleaseMonth                          0.281236989  0.3252666944\n",
      "EndOfMonth                            0.154413095  0.1757203684\n",
      "ReleaseQuarter                       -0.074515363 -0.0771404781\n",
      "ReleaseWeekDay                        0.025628347  0.0232348397\n",
      "ReleaseWeekend                        0.370473342  0.3702513857\n",
      "ReleaseWeek                          -0.056954425 -0.0669362203\n",
      "MetaScore                             0.020509391  0.0209873059\n",
      "NoOfPlayers1                         -0.397176130 -0.3473347117\n",
      "NoOfPlayers1 to 2                    -0.225327084 -0.1346369829\n",
      "NoOfPlayers1 to 4                    -0.296856895 -0.2168275889\n",
      "NoOfPlayers1 to 8                    -0.705962078 -0.6133797175\n",
      "NoOfPlayersMutliplayer               -0.266209920 -0.2005085052\n",
      "TopDeveloper_SumElectronic Arts       0.846398081  0.8680497631\n",
      "TopDeveloper_SumKCET                  1.170545874  1.1912463065\n",
      "TopDeveloper_SumMaxis                 0.174300435  0.1834806843\n",
      "TopDeveloper_SumNamco                 1.042809714  1.0459191730\n",
      "TopDeveloper_SumNintendo              2.508274198  2.5664711104\n",
      "TopDeveloper_SumOthers                0.678219368  0.6900533498\n",
      "TopDeveloper_SumSportsInteractive     0.769620711  0.7673758473\n",
      "TopDeveloper_SumUbisoft               0.502165284  0.5124909525\n",
      "TopDeveloper_SumValveSoftware         1.045277707  1.0288919133\n",
      "TopDeveloper_SumVisualConcepts        0.485687484  0.5211384940\n"
     ]
    }
   ],
   "source": [
    "# Calculate variable importance\n",
    "var_importance <- calc.relimp(lm_model1, type = \"lmg\")\n",
    "\n",
    "# Display the variable importance measures\n",
    "print(var_importance)"
   ]
  },
  {
   "cell_type": "code",
   "execution_count": 42,
   "metadata": {
    "vscode": {
     "languageId": "r"
    }
   },
   "outputs": [
    {
     "data": {
      "text/plain": [
       "\n",
       "Call:\n",
       "lm(formula = SqRtGlobalSales ~ Platform + Genre + Publisher + \n",
       "    VGScore + CriticScore + UserScore + ProductionCost + ReleaseYear + \n",
       "    ReleaseMonth + EndOfMonth + ReleaseQuarter + ReleaseWeekDay + \n",
       "    ReleaseWeekend + ReleaseWeek + MetaScore + NoOfPlayers + \n",
       "    TopDeveloper_Count, data = training_data)\n",
       "\n",
       "Residuals:\n",
       "     Min       1Q   Median       3Q      Max \n",
       "-2.15303 -0.53309  0.04511  0.54836  2.57162 \n",
       "\n",
       "Coefficients:\n",
       "                                       Estimate Std. Error t value Pr(>|t|)    \n",
       "(Intercept)                          -1.535e+01  1.988e+01  -0.772 0.440564    \n",
       "PlatformPC                            1.365e+00  1.652e-01   8.263    9e-16 ***\n",
       "PlatformPS                            5.451e-01  2.815e-01   1.936 0.053290 .  \n",
       "PlatformPS2                           1.299e-01  1.745e-01   0.744 0.456911    \n",
       "PlatformPS3                           2.577e-01  1.857e-01   1.388 0.165796    \n",
       "PlatformPS4                           1.236e-01  2.306e-01   0.536 0.591984    \n",
       "GenreAdventure                        5.497e-01  1.843e-01   2.983 0.002969 ** \n",
       "GenreBoard Game                      -5.908e-01  8.756e-01  -0.675 0.500056    \n",
       "GenrePuzzle                           3.257e-01  2.251e-01   1.447 0.148346    \n",
       "GenreRacing                           2.591e-01  1.759e-01   1.472 0.141419    \n",
       "GenreShooter                          6.982e-02  1.647e-01   0.424 0.671876    \n",
       "GenreSimulation                       3.834e-02  1.900e-01   0.202 0.840116    \n",
       "GenreSports                          -1.239e-03  1.717e-01  -0.007 0.994245    \n",
       "PublisherActivision                   1.815e-01  1.098e-01   1.653 0.098769 .  \n",
       "PublisherAmazon Game Studios         -3.415e-03  1.561e-01  -0.022 0.982550    \n",
       "PublisherFrontier Developments        1.745e-01  1.192e-01   1.463 0.143953    \n",
       "PublisherIBM                          2.723e-01  1.556e-01   1.750 0.080576 .  \n",
       "PublisherOmega                        6.807e-02  1.487e-01   0.458 0.647223    \n",
       "PublisherSony Computer Entertainment  2.304e-02  1.308e-01   0.176 0.860201    \n",
       "PublisherUbisoft                      3.978e-02  1.209e-01   0.329 0.742280    \n",
       "VGScore                               1.761e-02  1.350e-02   1.304 0.192597    \n",
       "CriticScore                          -1.090e-02  1.261e-02  -0.864 0.387800    \n",
       "UserScore                            -1.702e-02  1.181e-02  -1.441 0.150123    \n",
       "ProductionCost                       -4.659e-04  1.953e-02  -0.024 0.980980    \n",
       "ReleaseYear                           7.112e-03  9.804e-03   0.725 0.468462    \n",
       "ReleaseMonth                          2.871e-01  1.976e-01   1.453 0.146802    \n",
       "EndOfMonthYes                         1.489e-01  1.182e-01   1.260 0.208258    \n",
       "ReleaseQuarter                       -8.230e-02  1.311e-01  -0.628 0.530427    \n",
       "ReleaseWeekDay                        1.382e-02  3.014e-02   0.458 0.646896    \n",
       "ReleaseWeekendWeekend                 4.080e-01  2.392e-01   1.706 0.088521 .  \n",
       "ReleaseWeek                          -5.721e-02  4.383e-02  -1.305 0.192269    \n",
       "MetaScore                             2.522e-02  8.150e-03   3.095 0.002062 ** \n",
       "NoOfPlayers1                         -3.603e-01  8.649e-01  -0.417 0.677128    \n",
       "NoOfPlayers1 to 2                    -8.653e-02  8.725e-01  -0.099 0.921029    \n",
       "NoOfPlayers1 to 4                    -1.425e-01  8.738e-01  -0.163 0.870465    \n",
       "NoOfPlayers1 to 8                    -6.193e-01  9.015e-01  -0.687 0.492394    \n",
       "NoOfPlayersMutliplayer               -1.962e-01  8.685e-01  -0.226 0.821305    \n",
       "TopDeveloper_CountCodemasters         2.403e-01  3.683e-01   0.653 0.514250    \n",
       "TopDeveloper_CountElectronic Arts     1.079e+00  3.090e-01   3.493 0.000513 ***\n",
       "TopDeveloper_CountKCET                1.419e+00  4.241e-01   3.346 0.000869 ***\n",
       "TopDeveloper_CountKonami              6.299e-01  4.272e-01   1.475 0.140847    \n",
       "TopDeveloper_CountMaxis               4.162e-01  4.183e-01   0.995 0.320158    \n",
       "TopDeveloper_CountNamco               1.236e+00  3.879e-01   3.187 0.001510 ** \n",
       "TopDeveloper_CountOthers              9.576e-01  2.904e-01   3.297 0.001034 ** \n",
       "TopDeveloper_CountSportsInteractive   1.019e+00  4.111e-01   2.478 0.013479 *  \n",
       "TopDeveloper_CountUbisoft             7.539e-01  3.989e-01   1.890 0.059224 .  \n",
       "TopDeveloper_CountVisualConcepts      7.452e-01  3.899e-01   1.911 0.056422 .  \n",
       "---\n",
       "Signif. codes:  0 '***' 0.001 '**' 0.01 '*' 0.05 '.' 0.1 ' ' 1\n",
       "\n",
       "Residual standard error: 0.8401 on 605 degrees of freedom\n",
       "Multiple R-squared:  0.3906,\tAdjusted R-squared:  0.3443 \n",
       "F-statistic: 8.431 on 46 and 605 DF,  p-value: < 2.2e-16\n"
      ]
     },
     "metadata": {},
     "output_type": "display_data"
    }
   ],
   "source": [
    "########################################################\n",
    "# Build LM model\n",
    "\n",
    "lm_model2 = lm(SqRtGlobalSales ~ Platform + Genre + Publisher + VGScore + CriticScore\n",
    "                + UserScore + ProductionCost + ReleaseYear + ReleaseMonth + EndOfMonth\n",
    "                + ReleaseQuarter + ReleaseWeekDay + ReleaseWeekend + ReleaseWeek\n",
    "                + MetaScore + NoOfPlayers + TopDeveloper_Count, \n",
    "                data = training_data)\n",
    "summary(lm_model2)"
   ]
  },
  {
   "cell_type": "code",
   "execution_count": 43,
   "metadata": {
    "vscode": {
     "languageId": "r"
    }
   },
   "outputs": [
    {
     "data": {
      "text/plain": [
       "\n",
       "Call:\n",
       "lm(formula = SqRtGlobalSales ~ Platform + Genre + Platform * \n",
       "    Genre + ReleaseWeekend + TopDeveloper_Sum, data = training_data)\n",
       "\n",
       "Residuals:\n",
       "     Min       1Q   Median       3Q      Max \n",
       "-2.10808 -0.54792  0.02826  0.51999  2.74508 \n",
       "\n",
       "Coefficients: (6 not defined because of singularities)\n",
       "                                  Estimate Std. Error t value Pr(>|t|)    \n",
       "(Intercept)                        0.66576    0.62899   1.058  0.29027    \n",
       "PlatformPC                         1.61402    0.82461   1.957  0.05077 .  \n",
       "PlatformPS                         1.54605    0.84572   1.828  0.06803 .  \n",
       "PlatformPS2                        1.03564    0.61673   1.679  0.09363 .  \n",
       "PlatformPS3                        0.79373    0.62815   1.264  0.20686    \n",
       "PlatformPS4                        0.15762    0.66116   0.238  0.81166    \n",
       "GenreAdventure                     0.80100    0.63062   1.270  0.20451    \n",
       "GenreBoard Game                   -0.25349    0.85706  -0.296  0.76751    \n",
       "GenrePuzzle                        0.43172    0.64615   0.668  0.50430    \n",
       "GenreRacing                        1.00875    0.84666   1.191  0.23395    \n",
       "GenreShooter                       0.62846    0.72055   0.872  0.38346    \n",
       "GenreSimulation                    0.51637    0.69418   0.744  0.45725    \n",
       "GenreSports                        1.63877    1.00994   1.623  0.10519    \n",
       "ReleaseWeekendWeekend              0.40966    0.20505   1.998  0.04619 *  \n",
       "TopDeveloper_SumElectronic Arts    0.80076    0.25625   3.125  0.00186 ** \n",
       "TopDeveloper_SumKCET               1.27099    0.40464   3.141  0.00177 ** \n",
       "TopDeveloper_SumMaxis             -0.07208    0.37584  -0.192  0.84798    \n",
       "TopDeveloper_SumNamco              1.19012    0.36047   3.302  0.00102 ** \n",
       "TopDeveloper_SumNintendo           2.38896    0.45075   5.300 1.63e-07 ***\n",
       "TopDeveloper_SumOthers             0.61609    0.23586   2.612  0.00923 ** \n",
       "TopDeveloper_SumSportsInteractive  0.75144    0.36502   2.059  0.03996 *  \n",
       "TopDeveloper_SumUbisoft            0.57176    0.34943   1.636  0.10231    \n",
       "TopDeveloper_SumValveSoftware      1.01446    0.42001   2.415  0.01602 *  \n",
       "TopDeveloper_SumVisualConcepts     0.56015    0.34720   1.613  0.10721    \n",
       "PlatformPC:GenreAdventure          0.03016    0.86823   0.035  0.97230    \n",
       "PlatformPS:GenreAdventure         -0.90445    1.24865  -0.724  0.46914    \n",
       "PlatformPS2:GenreAdventure        -1.07190    0.71649  -1.496  0.13517    \n",
       "PlatformPS3:GenreAdventure         0.34363    0.75300   0.456  0.64830    \n",
       "PlatformPS4:GenreAdventure         0.82851    0.76146   1.088  0.27701    \n",
       "PlatformPC:GenreBoard Game              NA         NA      NA       NA    \n",
       "PlatformPS:GenreBoard Game              NA         NA      NA       NA    \n",
       "PlatformPS2:GenreBoard Game             NA         NA      NA       NA    \n",
       "PlatformPS3:GenreBoard Game             NA         NA      NA       NA    \n",
       "PlatformPS4:GenreBoard Game             NA         NA      NA       NA    \n",
       "PlatformPC:GenrePuzzle             0.48933    0.89990   0.544  0.58680    \n",
       "PlatformPS:GenrePuzzle                  NA         NA      NA       NA    \n",
       "PlatformPS2:GenrePuzzle           -1.45070    0.79653  -1.821  0.06907 .  \n",
       "PlatformPS3:GenrePuzzle            2.55827    1.07345   2.383  0.01747 *  \n",
       "PlatformPS4:GenrePuzzle            0.86194    1.09299   0.789  0.43065    \n",
       "PlatformPC:GenreRacing            -0.35504    1.03773  -0.342  0.73237    \n",
       "PlatformPS:GenreRacing            -1.89768    1.34937  -1.406  0.16014    \n",
       "PlatformPS2:GenreRacing           -1.03011    0.88207  -1.168  0.24334    \n",
       "PlatformPS3:GenreRacing           -0.52823    0.90567  -0.583  0.55995    \n",
       "PlatformPS4:GenreRacing           -0.21096    0.97923  -0.215  0.82950    \n",
       "PlatformPC:GenreShooter           -0.17527    0.93112  -0.188  0.85076    \n",
       "PlatformPS:GenreShooter           -0.27919    1.05396  -0.265  0.79118    \n",
       "PlatformPS2:GenreShooter          -0.80126    0.76526  -1.047  0.29550    \n",
       "PlatformPS3:GenreShooter          -0.41721    0.77091  -0.541  0.58858    \n",
       "PlatformPS4:GenreShooter           0.42503    0.84482   0.503  0.61508    \n",
       "PlatformPC:GenreSimulation        -0.03847    0.91646  -0.042  0.96653    \n",
       "PlatformPS:GenreSimulation        -0.90910    1.23942  -0.733  0.46355    \n",
       "PlatformPS2:GenreSimulation       -0.79270    0.77751  -1.020  0.30836    \n",
       "PlatformPS3:GenreSimulation       -0.65804    1.10286  -0.597  0.55096    \n",
       "PlatformPS4:GenreSimulation       -0.34719    0.89760  -0.387  0.69904    \n",
       "PlatformPC:GenreSports            -1.25857    1.17508  -1.071  0.28458    \n",
       "PlatformPS:GenreSports            -2.18684    1.21944  -1.793  0.07343 .  \n",
       "PlatformPS2:GenreSports           -1.72272    1.03545  -1.664  0.09669 .  \n",
       "PlatformPS3:GenreSports           -1.67047    1.04842  -1.593  0.11161    \n",
       "PlatformPS4:GenreSports           -0.78208    1.12604  -0.695  0.48761    \n",
       "---\n",
       "Signif. codes:  0 '***' 0.001 '**' 0.01 '*' 0.05 '.' 0.1 ' ' 1\n",
       "\n",
       "Residual standard error: 0.8246 on 599 degrees of freedom\n",
       "Multiple R-squared:  0.4187,\tAdjusted R-squared:  0.3683 \n",
       "F-statistic: 8.298 on 52 and 599 DF,  p-value: < 2.2e-16\n"
      ]
     },
     "metadata": {},
     "output_type": "display_data"
    }
   ],
   "source": [
    "########################################################\n",
    "# Build LM model\n",
    "\n",
    "lm_model3 = lm(SqRtGlobalSales ~ Platform + Genre + Platform * Genre + ReleaseWeekend\n",
    "                + TopDeveloper_Sum, \n",
    "                data = training_data)\n",
    "summary(lm_model3)"
   ]
  },
  {
   "cell_type": "code",
   "execution_count": 44,
   "metadata": {
    "vscode": {
     "languageId": "r"
    }
   },
   "outputs": [
    {
     "data": {
      "text/plain": [
       "\n",
       "Call:\n",
       "lm(formula = SqRtGlobalSales ~ Platform + Genre + Platform * \n",
       "    Genre + ReleaseWeekend + Publisher, data = training_data)\n",
       "\n",
       "Residuals:\n",
       "     Min       1Q   Median       3Q      Max \n",
       "-2.16746 -0.59523  0.06737  0.53838  2.64477 \n",
       "\n",
       "Coefficients: (6 not defined because of singularities)\n",
       "                                     Estimate Std. Error t value Pr(>|t|)   \n",
       "(Intercept)                           1.26128    0.60349   2.090  0.03704 * \n",
       "PlatformPC                            1.50643    0.85443   1.763  0.07839 . \n",
       "PlatformPS                            1.82341    0.86269   2.114  0.03496 * \n",
       "PlatformPS2                           1.03865    0.63525   1.635  0.10257   \n",
       "PlatformPS3                           0.76987    0.64699   1.190  0.23454   \n",
       "PlatformPS4                           0.02404    0.68318   0.035  0.97194   \n",
       "GenreAdventure                        0.92963    0.65095   1.428  0.15378   \n",
       "GenreBoard Game                      -0.29154    0.88645  -0.329  0.74236   \n",
       "GenrePuzzle                           0.53612    0.66597   0.805  0.42112   \n",
       "GenreRacing                           1.77068    0.85451   2.072  0.03868 * \n",
       "GenreShooter                          1.01327    0.73643   1.376  0.16936   \n",
       "GenreSimulation                       0.79227    0.71312   1.111  0.26702   \n",
       "GenreSports                           1.46685    1.04401   1.405  0.16053   \n",
       "ReleaseWeekendWeekend                 0.45598    0.21068   2.164  0.03083 * \n",
       "PublisherActivision                   0.19249    0.10879   1.769  0.07733 . \n",
       "PublisherAmazon Game Studios          0.09766    0.15528   0.629  0.52966   \n",
       "PublisherFrontier Developments        0.15519    0.11832   1.312  0.19016   \n",
       "PublisherIBM                          0.36273    0.15219   2.383  0.01746 * \n",
       "PublisherOmega                        0.10112    0.14691   0.688  0.49152   \n",
       "PublisherSony Computer Entertainment  0.04112    0.13194   0.312  0.75539   \n",
       "PublisherUbisoft                      0.08247    0.11720   0.704  0.48190   \n",
       "PlatformPC:GenreAdventure            -0.09555    0.89981  -0.106  0.91547   \n",
       "PlatformPS:GenreAdventure            -0.73263    1.23949  -0.591  0.55469   \n",
       "PlatformPS2:GenreAdventure           -1.33216    0.73320  -1.817  0.06973 . \n",
       "PlatformPS3:GenreAdventure            0.10479    0.77510   0.135  0.89250   \n",
       "PlatformPS4:GenreAdventure            0.71961    0.78609   0.915  0.36033   \n",
       "PlatformPC:GenreBoard Game                 NA         NA      NA       NA   \n",
       "PlatformPS:GenreBoard Game                 NA         NA      NA       NA   \n",
       "PlatformPS2:GenreBoard Game                NA         NA      NA       NA   \n",
       "PlatformPS3:GenreBoard Game                NA         NA      NA       NA   \n",
       "PlatformPS4:GenreBoard Game                NA         NA      NA       NA   \n",
       "PlatformPC:GenrePuzzle                0.43549    0.93033   0.468  0.63988   \n",
       "PlatformPS:GenrePuzzle                     NA         NA      NA       NA   \n",
       "PlatformPS2:GenrePuzzle              -1.34084    0.81814  -1.639  0.10176   \n",
       "PlatformPS3:GenrePuzzle               2.30581    1.10554   2.086  0.03743 * \n",
       "PlatformPS4:GenrePuzzle               0.87056    1.13381   0.768  0.44290   \n",
       "PlatformPC:GenreRacing               -1.21314    1.05446  -1.150  0.25040   \n",
       "PlatformPS:GenreRacing               -3.53250    1.36059  -2.596  0.00965 **\n",
       "PlatformPS2:GenreRacing              -1.82487    0.89238  -2.045  0.04129 * \n",
       "PlatformPS3:GenreRacing              -1.53981    0.91076  -1.691  0.09141 . \n",
       "PlatformPS4:GenreRacing              -1.19272    0.99122  -1.203  0.22934   \n",
       "PlatformPC:GenreShooter              -0.52775    0.95666  -0.552  0.58139   \n",
       "PlatformPS:GenreShooter              -1.02169    1.07343  -0.952  0.34158   \n",
       "PlatformPS2:GenreShooter             -1.18309    0.78375  -1.510  0.13169   \n",
       "PlatformPS3:GenreShooter             -0.84979    0.79046  -1.075  0.28278   \n",
       "PlatformPS4:GenreShooter              0.06903    0.86679   0.080  0.93655   \n",
       "PlatformPC:GenreSimulation           -0.40402    0.94265  -0.429  0.66837   \n",
       "PlatformPS:GenreSimulation           -1.54292    1.26876  -1.216  0.22443   \n",
       "PlatformPS2:GenreSimulation          -1.02663    0.79447  -1.292  0.19678   \n",
       "PlatformPS3:GenreSimulation          -0.88951    1.13862  -0.781  0.43498   \n",
       "PlatformPS4:GenreSimulation          -0.62982    0.92150  -0.683  0.49457   \n",
       "PlatformPC:GenreSports               -0.93006    1.21275  -0.767  0.44344   \n",
       "PlatformPS:GenreSports               -2.23735    1.25483  -1.783  0.07509 . \n",
       "PlatformPS2:GenreSports              -1.53280    1.06780  -1.435  0.15167   \n",
       "PlatformPS3:GenreSports              -1.45166    1.08122  -1.343  0.17991   \n",
       "PlatformPS4:GenreSports              -0.50332    1.15988  -0.434  0.66449   \n",
       "---\n",
       "Signif. codes:  0 '***' 0.001 '**' 0.01 '*' 0.05 '.' 0.1 ' ' 1\n",
       "\n",
       "Residual standard error: 0.8484 on 602 degrees of freedom\n",
       "Multiple R-squared:  0.3817,\tAdjusted R-squared:  0.3314 \n",
       "F-statistic: 7.584 on 49 and 602 DF,  p-value: < 2.2e-16\n"
      ]
     },
     "metadata": {},
     "output_type": "display_data"
    }
   ],
   "source": [
    "########################################################\n",
    "# Build LM model\n",
    "\n",
    "lm_model4 = lm(SqRtGlobalSales ~ Platform + Genre + Platform * Genre + ReleaseWeekend\n",
    "                + Publisher, \n",
    "                data = training_data)\n",
    "summary(lm_model4)"
   ]
  },
  {
   "cell_type": "code",
   "execution_count": 45,
   "metadata": {
    "vscode": {
     "languageId": "r"
    }
   },
   "outputs": [
    {
     "name": "stdout",
     "output_type": "stream",
     "text": [
      "Start:  AIC=-200.75\n",
      "SqRtGlobalSales ~ Platform + Genre + Platform * Genre + ReleaseWeekend + \n",
      "    TopDeveloper_Sum\n",
      "\n",
      "                   Df Sum of Sq    RSS     AIC\n",
      "- Platform:Genre   29    32.083 439.39 -209.31\n",
      "<none>                          407.31 -200.75\n",
      "- ReleaseWeekend    1     2.714 410.02 -198.42\n",
      "- TopDeveloper_Sum 10    31.472 438.78 -172.22\n",
      "\n",
      "Step:  AIC=-209.31\n",
      "SqRtGlobalSales ~ Platform + Genre + ReleaseWeekend + TopDeveloper_Sum\n",
      "\n"
     ]
    },
    {
     "name": "stdout",
     "output_type": "stream",
     "text": [
      "                   Df Sum of Sq    RSS      AIC\n",
      "<none>                          439.39 -209.313\n",
      "- ReleaseWeekend    1     3.897 443.29 -205.555\n",
      "- Genre             7    13.247 452.64 -203.946\n",
      "+ Platform:Genre   29    32.083 407.31 -200.746\n",
      "- TopDeveloper_Sum 10    34.566 473.96 -179.939\n",
      "- Platform          5   194.221 633.61   19.349\n"
     ]
    },
    {
     "data": {
      "text/plain": [
       "\n",
       "Call:\n",
       "lm(formula = SqRtGlobalSales ~ Platform + Genre + ReleaseWeekend + \n",
       "    TopDeveloper_Sum, data = training_data)\n",
       "\n",
       "Residuals:\n",
       "     Min       1Q   Median       3Q      Max \n",
       "-2.13915 -0.59675  0.02236  0.56765  2.72747 \n",
       "\n",
       "Coefficients:\n",
       "                                  Estimate Std. Error t value Pr(>|t|)    \n",
       "(Intercept)                        0.92104    0.30550   3.015 0.002675 ** \n",
       "PlatformPC                         1.64888    0.16873   9.772  < 2e-16 ***\n",
       "PlatformPS                         0.84911    0.27560   3.081 0.002154 ** \n",
       "PlatformPS2                        0.46706    0.17891   2.611 0.009255 ** \n",
       "PlatformPS3                        0.57319    0.18648   3.074 0.002206 ** \n",
       "PlatformPS4                        0.48993    0.21361   2.294 0.022144 *  \n",
       "GenreAdventure                     0.54422    0.16802   3.239 0.001263 ** \n",
       "GenreBoard Game                   -0.32063    0.84974  -0.377 0.706061    \n",
       "GenrePuzzle                        0.35348    0.21234   1.665 0.096476 .  \n",
       "GenreRacing                        0.32490    0.16461   1.974 0.048841 *  \n",
       "GenreShooter                       0.16172    0.15107   1.070 0.284822    \n",
       "GenreSimulation                    0.10225    0.17818   0.574 0.566270    \n",
       "GenreSports                        0.10560    0.16026   0.659 0.510180    \n",
       "ReleaseWeekendWeekend              0.47036    0.19930   2.360 0.018573 *  \n",
       "TopDeveloper_SumElectronic Arts    0.80574    0.24003   3.357 0.000836 ***\n",
       "TopDeveloper_SumKCET               1.25331    0.37652   3.329 0.000924 ***\n",
       "TopDeveloper_SumMaxis              0.01343    0.36345   0.037 0.970545    \n",
       "TopDeveloper_SumNamco              1.11737    0.34357   3.252 0.001206 ** \n",
       "TopDeveloper_SumNintendo           2.48298    0.43351   5.728 1.58e-08 ***\n",
       "TopDeveloper_SumOthers             0.64848    0.22244   2.915 0.003680 ** \n",
       "TopDeveloper_SumSportsInteractive  0.78643    0.35355   2.224 0.026480 *  \n",
       "TopDeveloper_SumUbisoft            0.46325    0.33969   1.364 0.173137    \n",
       "TopDeveloper_SumValveSoftware      1.01578    0.41413   2.453 0.014445 *  \n",
       "TopDeveloper_SumVisualConcepts     0.59900    0.33318   1.798 0.072684 .  \n",
       "---\n",
       "Signif. codes:  0 '***' 0.001 '**' 0.01 '*' 0.05 '.' 0.1 ' ' 1\n",
       "\n",
       "Residual standard error: 0.8365 on 628 degrees of freedom\n",
       "Multiple R-squared:  0.3729,\tAdjusted R-squared:   0.35 \n",
       "F-statistic: 16.24 on 23 and 628 DF,  p-value: < 2.2e-16\n"
      ]
     },
     "metadata": {},
     "output_type": "display_data"
    }
   ],
   "source": [
    "########################################################\n",
    "# Build LM model\n",
    "\n",
    "lm_model_step <- stepAIC(lm_model3, direction = \"both\")\n",
    "summary(lm_model_step)"
   ]
  },
  {
   "cell_type": "code",
   "execution_count": 46,
   "metadata": {
    "vscode": {
     "languageId": "r"
    }
   },
   "outputs": [
    {
     "name": "stdout",
     "output_type": "stream",
     "text": [
      "\n",
      "Regression Models Comparison\n",
      "====================================================================================================================================\n",
      "                                                                           Dependent Variable                                       \n",
      "                                     -----------------------------------------------------------------------------------------------\n",
      "                                                                            Response Variable                                       \n",
      "                                               (1)                     (2)                     (3)                     (4)          \n",
      "------------------------------------------------------------------------------------------------------------------------------------\n",
      "PlatformPC                                  1.710***                1.365***                 1.614*                  1.506*         \n",
      "                                             (0.173)                 (0.165)                 (0.825)                 (0.854)        \n",
      "                                                                                                                                    \n",
      "PlatformPS                                  0.900***                 0.545*                  1.546*                  1.823**        \n",
      "                                             (0.284)                 (0.281)                 (0.846)                 (0.863)        \n",
      "                                                                                                                                    \n",
      "PlatformPS2                                 0.512***                  0.130                  1.036*                   1.039         \n",
      "                                             (0.183)                 (0.174)                 (0.617)                 (0.635)        \n",
      "                                                                                                                                    \n",
      "PlatformPS3                                 0.628***                  0.258                   0.794                   0.770         \n",
      "                                             (0.193)                 (0.186)                 (0.628)                 (0.647)        \n",
      "                                                                                                                                    \n",
      "PlatformPS4                                  0.464**                  0.124                   0.158                   0.024         \n",
      "                                             (0.235)                 (0.231)                 (0.661)                 (0.683)        \n",
      "                                                                                                                                    \n",
      "GenreAdventure                              0.608***                0.550***                  0.801                   0.930         \n",
      "                                             (0.180)                 (0.184)                 (0.631)                 (0.651)        \n",
      "                                                                                                                                    \n",
      "GenreBoard Game                              -0.507                  -0.591                  -0.253                  -0.292         \n",
      "                                             (0.866)                 (0.876)                 (0.857)                 (0.886)        \n",
      "                                                                                                                                    \n",
      "GenrePuzzle                                  0.491**                  0.326                   0.432                   0.536         \n",
      "                                             (0.218)                 (0.225)                 (0.646)                 (0.666)        \n",
      "                                                                                                                                    \n",
      "GenreRacing                                  0.350**                  0.259                   1.009                  1.771**        \n",
      "                                             (0.170)                 (0.176)                 (0.847)                 (0.855)        \n",
      "                                                                                                                                    \n",
      "GenreShooter                                  0.172                   0.070                   0.628                   1.013         \n",
      "                                             (0.159)                 (0.165)                 (0.721)                 (0.736)        \n",
      "                                                                                                                                    \n",
      "GenreSimulation                               0.125                   0.038                   0.516                   0.792         \n",
      "                                             (0.184)                 (0.190)                 (0.694)                 (0.713)        \n",
      "                                                                                                                                    \n",
      "GenreSports                                   0.078                  -0.001                   1.639                   1.467         \n",
      "                                             (0.165)                 (0.172)                 (1.010)                 (1.044)        \n",
      "                                                                                                                                    \n",
      "PublisherActivision                          0.228**                 0.182*                                          0.192*         \n",
      "                                             (0.108)                 (0.110)                                         (0.109)        \n",
      "                                                                                                                                    \n",
      "PublisherAmazon Game Studios                  0.020                  -0.003                                           0.098         \n",
      "                                             (0.154)                 (0.156)                                         (0.155)        \n",
      "                                                                                                                                    \n",
      "PublisherFrontier Developments               0.208*                   0.174                                           0.155         \n",
      "                                             (0.118)                 (0.119)                                         (0.118)        \n",
      "                                                                                                                                    \n",
      "PublisherIBM                                 0.310**                 0.272*                                          0.363**        \n",
      "                                             (0.155)                 (0.156)                                         (0.152)        \n",
      "                                                                                                                                    \n",
      "PublisherOmega                                0.129                   0.068                                           0.101         \n",
      "                                             (0.147)                 (0.149)                                         (0.147)        \n",
      "                                                                                                                                    \n",
      "PublisherSony Computer Entertainment          0.066                   0.023                                           0.041         \n",
      "                                             (0.129)                 (0.131)                                         (0.132)        \n",
      "                                                                                                                                    \n",
      "PublisherUbisoft                              0.091                   0.040                                           0.082         \n",
      "                                             (0.120)                 (0.121)                                         (0.117)        \n",
      "                                                                                                                                    \n",
      "VGScore                                       0.017                   0.018                                                         \n",
      "                                             (0.013)                 (0.014)                                                        \n",
      "                                                                                                                                    \n",
      "CriticScore                                  -0.015                  -0.011                                                         \n",
      "                                             (0.012)                 (0.013)                                                        \n",
      "                                                                                                                                    \n",
      "UserScore                                    -0.022*                 -0.017                                                         \n",
      "                                             (0.012)                 (0.012)                                                        \n",
      "                                                                                                                                    \n",
      "ProductionCost                               -0.001                  -0.0005                                                        \n",
      "                                             (0.019)                 (0.020)                                                        \n",
      "                                                                                                                                    \n",
      "ReleaseYear                                   0.005                   0.007                                                         \n",
      "                                             (0.010)                 (0.010)                                                        \n",
      "                                                                                                                                    \n",
      "ReleaseMonth                                 0.325*                   0.287                                                         \n",
      "                                             (0.195)                 (0.198)                                                        \n",
      "                                                                                                                                    \n",
      "EndOfMonthYes                                 0.176                   0.149                                                         \n",
      "                                             (0.117)                 (0.118)                                                        \n",
      "                                                                                                                                    \n",
      "ReleaseQuarter                               -0.077                  -0.082                                                         \n",
      "                                             (0.130)                 (0.131)                                                        \n",
      "                                                                                                                                    \n",
      "ReleaseWeekDay                                0.023                   0.014                                                         \n",
      "                                             (0.030)                 (0.030)                                                        \n",
      "                                                                                                                                    \n",
      "ReleaseWeekendWeekend                         0.370                  0.408*                  0.410**                 0.456**        \n",
      "                                             (0.237)                 (0.239)                 (0.205)                 (0.211)        \n",
      "                                                                                                                                    \n",
      "ReleaseWeek                                  -0.067                  -0.057                                                         \n",
      "                                             (0.043)                 (0.044)                                                        \n",
      "                                                                                                                                    \n",
      "MetaScore                                    0.021**                0.025***                                                        \n",
      "                                             (0.008)                 (0.008)                                                        \n",
      "                                                                                                                                    \n",
      "NoOfPlayers1                                 -0.347                  -0.360                                                         \n",
      "                                             (0.856)                 (0.865)                                                        \n",
      "                                                                                                                                    \n",
      "NoOfPlayers1 to 2                            -0.135                  -0.087                                                         \n",
      "                                             (0.864)                 (0.872)                                                        \n",
      "                                                                                                                                    \n",
      "NoOfPlayers1 to 4                            -0.217                  -0.143                                                         \n",
      "                                             (0.865)                 (0.874)                                                        \n",
      "                                                                                                                                    \n",
      "NoOfPlayers1 to 8                            -0.613                  -0.619                                                         \n",
      "                                             (0.893)                 (0.902)                                                        \n",
      "                                                                                                                                    \n",
      "NoOfPlayersMutliplayer                       -0.201                  -0.196                                                         \n",
      "                                             (0.860)                 (0.868)                                                        \n",
      "                                                                                                                                    \n",
      "TopDeveloper_SumElectronic Arts             0.868***                                        0.801***                                \n",
      "                                             (0.248)                                         (0.256)                                \n",
      "                                                                                                                                    \n",
      "TopDeveloper_SumKCET                        1.191***                                        1.271***                                \n",
      "                                             (0.383)                                         (0.405)                                \n",
      "                                                                                                                                    \n",
      "TopDeveloper_SumMaxis                         0.183                                          -0.072                                 \n",
      "                                             (0.371)                                         (0.376)                                \n",
      "                                                                                                                                    \n",
      "TopDeveloper_SumNamco                       1.046***                                        1.190***                                \n",
      "                                             (0.354)                                         (0.360)                                \n",
      "                                                                                                                                    \n",
      "TopDeveloper_SumNintendo                    2.566***                                        2.389***                                \n",
      "                                             (0.446)                                         (0.451)                                \n",
      "                                                                                                                                    \n",
      "TopDeveloper_SumOthers                      0.690***                                        0.616***                                \n",
      "                                             (0.229)                                         (0.236)                                \n",
      "                                                                                                                                    \n",
      "TopDeveloper_SumSportsInteractive            0.767**                                         0.751**                                \n",
      "                                             (0.361)                                         (0.365)                                \n",
      "                                                                                                                                    \n",
      "TopDeveloper_SumUbisoft                       0.512                                           0.572                                 \n",
      "                                             (0.357)                                         (0.349)                                \n",
      "                                                                                                                                    \n",
      "TopDeveloper_SumValveSoftware                1.029**                                         1.014**                                \n",
      "                                             (0.423)                                         (0.420)                                \n",
      "                                                                                                                                    \n",
      "TopDeveloper_SumVisualConcepts                0.521                                           0.560                                 \n",
      "                                             (0.346)                                         (0.347)                                \n",
      "                                                                                                                                    \n",
      "TopDeveloper_CountCodemasters                                         0.240                                                         \n",
      "                                                                     (0.368)                                                        \n",
      "                                                                                                                                    \n",
      "TopDeveloper_CountElectronic Arts                                   1.079***                                                        \n",
      "                                                                     (0.309)                                                        \n",
      "                                                                                                                                    \n",
      "TopDeveloper_CountKCET                                              1.419***                                                        \n",
      "                                                                     (0.424)                                                        \n",
      "                                                                                                                                    \n",
      "TopDeveloper_CountKonami                                              0.630                                                         \n",
      "                                                                     (0.427)                                                        \n",
      "                                                                                                                                    \n",
      "TopDeveloper_CountMaxis                                               0.416                                                         \n",
      "                                                                     (0.418)                                                        \n",
      "                                                                                                                                    \n",
      "TopDeveloper_CountNamco                                             1.236***                                                        \n",
      "                                                                     (0.388)                                                        \n",
      "                                                                                                                                    \n",
      "TopDeveloper_CountOthers                                            0.958***                                                        \n",
      "                                                                     (0.290)                                                        \n",
      "                                                                                                                                    \n",
      "TopDeveloper_CountSportsInteractive                                  1.019**                                                        \n",
      "                                                                     (0.411)                                                        \n",
      "                                                                                                                                    \n",
      "TopDeveloper_CountUbisoft                                            0.754*                                                         \n",
      "                                                                     (0.399)                                                        \n",
      "                                                                                                                                    \n",
      "TopDeveloper_CountVisualConcepts                                     0.745*                                                         \n",
      "                                                                     (0.390)                                                        \n",
      "                                                                                                                                    \n",
      "PlatformPC:GenreAdventure                                                                     0.030                  -0.096         \n",
      "                                                                                             (0.868)                 (0.900)        \n",
      "                                                                                                                                    \n",
      "PlatformPS:GenreAdventure                                                                    -0.904                  -0.733         \n",
      "                                                                                             (1.249)                 (1.239)        \n",
      "                                                                                                                                    \n",
      "PlatformPS2:GenreAdventure                                                                   -1.072                  -1.332*        \n",
      "                                                                                             (0.716)                 (0.733)        \n",
      "                                                                                                                                    \n",
      "PlatformPS3:GenreAdventure                                                                    0.344                   0.105         \n",
      "                                                                                             (0.753)                 (0.775)        \n",
      "                                                                                                                                    \n",
      "PlatformPS4:GenreAdventure                                                                    0.829                   0.720         \n",
      "                                                                                             (0.761)                 (0.786)        \n",
      "                                                                                                                                    \n",
      "PlatformPC:GenreBoard Game                                                                                                          \n",
      "                                                                                                                                    \n",
      "                                                                                                                                    \n",
      "PlatformPS:GenreBoard Game                                                                                                          \n",
      "                                                                                                                                    \n",
      "                                                                                                                                    \n",
      "PlatformPS2:GenreBoard Game                                                                                                         \n",
      "                                                                                                                                    \n",
      "                                                                                                                                    \n",
      "PlatformPS3:GenreBoard Game                                                                                                         \n",
      "                                                                                                                                    \n",
      "                                                                                                                                    \n",
      "PlatformPS4:GenreBoard Game                                                                                                         \n",
      "                                                                                                                                    \n",
      "                                                                                                                                    \n",
      "PlatformPC:GenrePuzzle                                                                        0.489                   0.435         \n",
      "                                                                                             (0.900)                 (0.930)        \n",
      "                                                                                                                                    \n",
      "PlatformPS:GenrePuzzle                                                                                                              \n",
      "                                                                                                                                    \n",
      "                                                                                                                                    \n",
      "PlatformPS2:GenrePuzzle                                                                      -1.451*                 -1.341         \n",
      "                                                                                             (0.797)                 (0.818)        \n",
      "                                                                                                                                    \n",
      "PlatformPS3:GenrePuzzle                                                                      2.558**                 2.306**        \n",
      "                                                                                             (1.073)                 (1.106)        \n",
      "                                                                                                                                    \n",
      "PlatformPS4:GenrePuzzle                                                                       0.862                   0.871         \n",
      "                                                                                             (1.093)                 (1.134)        \n",
      "                                                                                                                                    \n",
      "PlatformPC:GenreRacing                                                                       -0.355                  -1.213         \n",
      "                                                                                             (1.038)                 (1.054)        \n",
      "                                                                                                                                    \n",
      "PlatformPS:GenreRacing                                                                       -1.898                 -3.533***       \n",
      "                                                                                             (1.349)                 (1.361)        \n",
      "                                                                                                                                    \n",
      "PlatformPS2:GenreRacing                                                                      -1.030                 -1.825**        \n",
      "                                                                                             (0.882)                 (0.892)        \n",
      "                                                                                                                                    \n",
      "PlatformPS3:GenreRacing                                                                      -0.528                  -1.540*        \n",
      "                                                                                             (0.906)                 (0.911)        \n",
      "                                                                                                                                    \n",
      "PlatformPS4:GenreRacing                                                                      -0.211                  -1.193         \n",
      "                                                                                             (0.979)                 (0.991)        \n",
      "                                                                                                                                    \n",
      "PlatformPC:GenreShooter                                                                      -0.175                  -0.528         \n",
      "                                                                                             (0.931)                 (0.957)        \n",
      "                                                                                                                                    \n",
      "PlatformPS:GenreShooter                                                                      -0.279                  -1.022         \n",
      "                                                                                             (1.054)                 (1.073)        \n",
      "                                                                                                                                    \n",
      "PlatformPS2:GenreShooter                                                                     -0.801                  -1.183         \n",
      "                                                                                             (0.765)                 (0.784)        \n",
      "                                                                                                                                    \n",
      "PlatformPS3:GenreShooter                                                                     -0.417                  -0.850         \n",
      "                                                                                             (0.771)                 (0.790)        \n",
      "                                                                                                                                    \n",
      "PlatformPS4:GenreShooter                                                                      0.425                   0.069         \n",
      "                                                                                             (0.845)                 (0.867)        \n",
      "                                                                                                                                    \n",
      "PlatformPC:GenreSimulation                                                                   -0.038                  -0.404         \n",
      "                                                                                             (0.916)                 (0.943)        \n",
      "                                                                                                                                    \n",
      "PlatformPS:GenreSimulation                                                                   -0.909                  -1.543         \n",
      "                                                                                             (1.239)                 (1.269)        \n",
      "                                                                                                                                    \n",
      "PlatformPS2:GenreSimulation                                                                  -0.793                  -1.027         \n",
      "                                                                                             (0.778)                 (0.794)        \n",
      "                                                                                                                                    \n",
      "PlatformPS3:GenreSimulation                                                                  -0.658                  -0.890         \n",
      "                                                                                             (1.103)                 (1.139)        \n",
      "                                                                                                                                    \n",
      "PlatformPS4:GenreSimulation                                                                  -0.347                  -0.630         \n",
      "                                                                                             (0.898)                 (0.922)        \n",
      "                                                                                                                                    \n",
      "PlatformPC:GenreSports                                                                       -1.259                  -0.930         \n",
      "                                                                                             (1.175)                 (1.213)        \n",
      "                                                                                                                                    \n",
      "PlatformPS:GenreSports                                                                       -2.187*                 -2.237*        \n",
      "                                                                                             (1.219)                 (1.255)        \n",
      "                                                                                                                                    \n",
      "PlatformPS2:GenreSports                                                                      -1.723*                 -1.533         \n",
      "                                                                                             (1.035)                 (1.068)        \n",
      "                                                                                                                                    \n",
      "PlatformPS3:GenreSports                                                                      -1.670                  -1.452         \n",
      "                                                                                             (1.048)                 (1.081)        \n",
      "                                                                                                                                    \n",
      "PlatformPS4:GenreSports                                                                      -0.782                  -0.503         \n",
      "                                                                                             (1.126)                 (1.160)        \n",
      "                                                                                                                                    \n",
      "Constant                                     -11.673                 -15.346                  0.666                  1.261**        \n",
      "                                            (19.707)                (19.885)                 (0.629)                 (0.603)        \n",
      "                                                                                                                                    \n",
      "------------------------------------------------------------------------------------------------------------------------------------\n",
      "Observations                                   652                     652                     652                     652          \n",
      "R2                                            0.403                   0.391                   0.419                   0.382         \n",
      "Adjusted R2                                   0.357                   0.344                   0.368                   0.331         \n",
      "Residual Std. Error                     0.832 (df = 605)        0.840 (df = 605)        0.825 (df = 599)        0.848 (df = 602)    \n",
      "F Statistic                          8.873*** (df = 46; 605) 8.431*** (df = 46; 605) 8.298*** (df = 52; 599) 7.584*** (df = 49; 602)\n",
      "====================================================================================================================================\n",
      "Note:                                                                                                    *p<0.1; **p<0.05; ***p<0.01\n"
     ]
    }
   ],
   "source": [
    "########################################################\n",
    "# View using StarGazer\n",
    "\n",
    "stargazer(lm_model1, lm_model2, lm_model3, lm_model4, \n",
    "          title = \"Regression Models Comparison\",\n",
    "          dep.var.caption = \"Dependent Variable\",\n",
    "          dep.var.labels = \"Response Variable\",\n",
    "          align = TRUE,\n",
    "          type = \"text\",\n",
    "          out = \"summary_table.txt\")"
   ]
  },
  {
   "cell_type": "code",
   "execution_count": 47,
   "metadata": {
    "vscode": {
     "languageId": "r"
    }
   },
   "outputs": [
    {
     "name": "stderr",
     "output_type": "stream",
     "text": [
      "Warning message:\n",
      "\"not plotting observations with leverage one:\n",
      "  83, 96, 142, 410, 477, 571, 575, 580\"\n"
     ]
    },
    {
     "data": {
      "image/png": "[encoded data removed]",
      "text/plain": [
       "Plot with title \"\""
      ]
     },
     "metadata": {
      "image/png": {
       "height": 420,
       "width": 420
      }
     },
     "output_type": "display_data"
    }
   ],
   "source": [
    "# Create a residual plot\n",
    "par(mfrow = c(2,2)) # reset the mfrow parameter\n",
    "plot(lm_model3)"
   ]
  },
  {
   "cell_type": "code",
   "execution_count": 51,
   "metadata": {
    "vscode": {
     "languageId": "r"
    }
   },
   "outputs": [
    {
     "data": {
      "image/png": "[encoded data removed]",
      "text/plain": [
       "plot without title"
      ]
     },
     "metadata": {
      "image/png": {
       "height": 420,
       "width": 420
      }
     },
     "output_type": "display_data"
    }
   ],
   "source": [
    "pairs(~ SqRtGlobalSales + Genre + Platform + ReleaseWeekend + TopDeveloper_Sum, data = data,\n",
    "      main = \"Scatter Plot Matrix\")"
   ]
  },
  {
   "cell_type": "code",
   "execution_count": 48,
   "metadata": {
    "vscode": {
     "languageId": "r"
    }
   },
   "outputs": [
    {
     "data": {
      "text/plain": [
       "\n",
       "Call:\n",
       "lm(formula = SqRtGlobalSales ~ Platform + ReleaseMonth + ReleaseWeekend + \n",
       "    TopDeveloper_Sum, data = training_data)\n",
       "\n",
       "Residuals:\n",
       "     Min       1Q   Median       3Q      Max \n",
       "-2.25126 -0.57853  0.02348  0.57510  2.69532 \n",
       "\n",
       "Coefficients:\n",
       "                                   Estimate Std. Error t value Pr(>|t|)    \n",
       "(Intercept)                        1.322253   0.262464   5.038 6.15e-07 ***\n",
       "PlatformPC                         1.543119   0.163591   9.433  < 2e-16 ***\n",
       "PlatformPS                         0.678163   0.272383   2.490  0.01304 *  \n",
       "PlatformPS2                        0.317535   0.170594   1.861  0.06316 .  \n",
       "PlatformPS3                        0.403185   0.177631   2.270  0.02356 *  \n",
       "PlatformPS4                        0.380021   0.209994   1.810  0.07082 .  \n",
       "ReleaseMonth                       0.008982   0.010396   0.864  0.38792    \n",
       "ReleaseWeekendWeekend              0.429205   0.200440   2.141  0.03263 *  \n",
       "TopDeveloper_SumElectronic Arts    0.605780   0.215960   2.805  0.00518 ** \n",
       "TopDeveloper_SumKCET               1.102709   0.362788   3.040  0.00247 ** \n",
       "TopDeveloper_SumMaxis             -0.242645   0.336213  -0.722  0.47074    \n",
       "TopDeveloper_SumNamco              0.936613   0.328147   2.854  0.00445 ** \n",
       "TopDeveloper_SumNintendo           2.358235   0.430830   5.474 6.35e-08 ***\n",
       "TopDeveloper_SumOthers             0.537036   0.204724   2.623  0.00892 ** \n",
       "TopDeveloper_SumSportsInteractive  0.501493   0.338701   1.481  0.13920    \n",
       "TopDeveloper_SumUbisoft            0.487536   0.325556   1.498  0.13475    \n",
       "TopDeveloper_SumValveSoftware      0.817682   0.400754   2.040  0.04173 *  \n",
       "TopDeveloper_SumVisualConcepts     0.365373   0.312224   1.170  0.24235    \n",
       "---\n",
       "Signif. codes:  0 '***' 0.001 '**' 0.01 '*' 0.05 '.' 0.1 ' ' 1\n",
       "\n",
       "Residual standard error: 0.8445 on 634 degrees of freedom\n",
       "Multiple R-squared:  0.3548,\tAdjusted R-squared:  0.3375 \n",
       "F-statistic: 20.51 on 17 and 634 DF,  p-value: < 2.2e-16\n"
      ]
     },
     "metadata": {},
     "output_type": "display_data"
    }
   ],
   "source": [
    "########################################################\n",
    "# Build LM model\n",
    "\n",
    "lm_model4 = lm(SqRtGlobalSales ~ Platform + ReleaseMonth + ReleaseWeekend + TopDeveloper_Sum , data = training_data)\n",
    "summary(lm_model4)"
   ]
  },
  {
   "cell_type": "markdown",
   "metadata": {},
   "source": [
    "LM Actual vs Prediction Plot"
   ]
  },
  {
   "cell_type": "code",
   "execution_count": 217,
   "metadata": {
    "vscode": {
     "languageId": "r"
    }
   },
   "outputs": [
    {
     "name": "stderr",
     "output_type": "stream",
     "text": [
      "Warning message in predict.lm(lm_model3, training_data):\n",
      "\"prediction from rank-deficient fit; attr(*, \"non-estim\") has doubtful cases\"\n"
     ]
    }
   ],
   "source": [
    "predicted_values_train <- predict(lm_model3, training_data)"
   ]
  },
  {
   "cell_type": "code",
   "execution_count": 218,
   "metadata": {
    "vscode": {
     "languageId": "r"
    }
   },
   "outputs": [
    {
     "name": "stdout",
     "output_type": "stream",
     "text": [
      "Number of NA values in prediction: 0 \n",
      "Number of NaN values in prediction: 0 \n",
      "Number of Inf values in prediction: 0 \n"
     ]
    }
   ],
   "source": [
    "# Check for NA values in the prediction column\n",
    "na_count <- sum(is.na(predicted_values_train))\n",
    "\n",
    "# Check for NaN values in the prediction column\n",
    "nan_count <- sum(is.nan(predicted_values_train ))\n",
    "\n",
    "# Check for Inf values in the prediction column\n",
    "inf_count <- sum(is.infinite(predicted_values_train ))\n",
    "\n",
    "# Print the results\n",
    "cat(\"Number of NA values in prediction:\", na_count, \"\\n\")\n",
    "cat(\"Number of NaN values in prediction:\", nan_count, \"\\n\")\n",
    "cat(\"Number of Inf values in prediction:\", inf_count, \"\\n\")"
   ]
  },
  {
   "cell_type": "code",
   "execution_count": 229,
   "metadata": {
    "vscode": {
     "languageId": "r"
    }
   },
   "outputs": [
    {
     "data": {
      "image/png": "[encoded data removed]",
      "text/plain": [
       "Plot with title \"Predicted vs. Actual Global Sales (Training Set)\""
      ]
     },
     "metadata": {
      "image/png": {
       "height": 420,
       "width": 420
      }
     },
     "output_type": "display_data"
    }
   ],
   "source": [
    "# Convert sqrt-transformed values back to the original scale\n",
    "actual_values_train <- training_data$GlobalSales\n",
    "predicted_values_train_sq <- (predicted_values_train)^2\n",
    "\n",
    "# Create a scatterplot to compare predicted vs actual TotalSales on the training set\n",
    "plot(seq_along(actual_values_train), actual_values_train,\n",
    "     main = \"Predicted vs. Actual Global Sales (Training Set)\",\n",
    "     xlab = \"Data Index\", ylab = \"Global Sales\",\n",
    "     col = \"blue\", pch = 16)\n",
    "\n",
    "# Add the predicted values on the training set\n",
    "points(seq_along(predicted_values_train_sq), predicted_values_train_sq, col = \"#ff6f00\", pch = 16)\n",
    "\n",
    "# Add the fitted line from the lm model\n",
    "legend(\"topright\", legend = c(\"Actual\", \"Predicted\"), col = c(\"blue\", \"#ff6f00\"), pch = 16)\n"
   ]
  },
  {
   "cell_type": "code",
   "execution_count": 220,
   "metadata": {
    "vscode": {
     "languageId": "r"
    }
   },
   "outputs": [
    {
     "name": "stdout",
     "output_type": "stream",
     "text": [
      "Sum of Squared Errors (Training): 14056.81 \n",
      "Mean Absolute Deviation (Training): 3.549066 \n",
      "Mean Percentage Error (Training): 62.47087 %\n",
      "Mean Squared Error (Training): 21.55952 \n",
      "Standard Error (Training): 4.643223 \n",
      "Mean Absolute Percentage Error (Training): 354.9066 %\n"
     ]
    }
   ],
   "source": [
    "# Calculate various error metrics on the original scale for the training set\n",
    "errors_train <- training_data$GlobalSales - predicted_values_train_sq\n",
    "sum_of_sqerrors_train <- sum(errors_train^2)\n",
    "mean_absolute_deviation_train <- mean(abs(errors_train))\n",
    "mean_percentage_error_train <- mean(errors_train) * 100  # Already on the original scale\n",
    "mean_squared_error_train <- mean(errors_train^2)\n",
    "standard_error_train <- sqrt(mean_squared_error_train)\n",
    "mean_absolute_percentage_error_train <- mean(abs(errors_train)) * 100\n",
    "\n",
    "# Print the error metrics for the training set\n",
    "cat(\"Sum of Squared Errors (Training):\", sum_of_sqerrors_train, \"\\n\")\n",
    "cat(\"Mean Absolute Deviation (Training):\", mean_absolute_deviation_train, \"\\n\")\n",
    "cat(\"Mean Percentage Error (Training):\", mean_percentage_error_train, \"%\\n\")\n",
    "cat(\"Mean Squared Error (Training):\", mean_squared_error_train, \"\\n\")\n",
    "cat(\"Standard Error (Training):\", standard_error_train, \"\\n\")\n",
    "cat(\"Mean Absolute Percentage Error (Training):\", mean_absolute_percentage_error_train, \"%\\n\")"
   ]
  },
  {
   "cell_type": "code",
   "execution_count": 221,
   "metadata": {
    "vscode": {
     "languageId": "r"
    }
   },
   "outputs": [
    {
     "name": "stderr",
     "output_type": "stream",
     "text": [
      "Warning message in predict.lm(lm_model3, test_data):\n",
      "\"prediction from rank-deficient fit; attr(*, \"non-estim\") has doubtful cases\"\n"
     ]
    }
   ],
   "source": [
    "predicted_values_test <- predict(lm_model3, test_data)"
   ]
  },
  {
   "cell_type": "code",
   "execution_count": 222,
   "metadata": {
    "vscode": {
     "languageId": "r"
    }
   },
   "outputs": [
    {
     "name": "stdout",
     "output_type": "stream",
     "text": [
      "Number of NA values in prediction: 0 \n",
      "Number of NaN values in prediction: 0 \n",
      "Number of Inf values in prediction: 0 \n"
     ]
    }
   ],
   "source": [
    "# Check for NA values in the prediction column\n",
    "na_count <- sum(is.na(predicted_values_test))\n",
    "\n",
    "# Check for NaN values in the prediction column\n",
    "nan_count <- sum(is.nan(predicted_values_test))\n",
    "\n",
    "# Check for Inf values in the prediction column\n",
    "inf_count <- sum(is.infinite(predicted_values_test))\n",
    "\n",
    "# Print the results\n",
    "cat(\"Number of NA values in prediction:\", na_count, \"\\n\")\n",
    "cat(\"Number of NaN values in prediction:\", nan_count, \"\\n\")\n",
    "cat(\"Number of Inf values in prediction:\", inf_count, \"\\n\")"
   ]
  },
  {
   "cell_type": "code",
   "execution_count": 223,
   "metadata": {
    "vscode": {
     "languageId": "r"
    }
   },
   "outputs": [
    {
     "data": {
      "image/png": "[encoded data removed]",
      "text/plain": [
       "Plot with title \"Predicted vs. Actual Global Sales (Testing Set)\""
      ]
     },
     "metadata": {
      "image/png": {
       "height": 420,
       "width": 420
      }
     },
     "output_type": "display_data"
    }
   ],
   "source": [
    "# Convert sqrt-transformed values back to the original scale\n",
    "actual_values_test <- test_data$GlobalSales\n",
    "predicted_values_test_sq <- (predicted_values_test)^2\n",
    "\n",
    "# Create a scatterplot to compare predicted vs actual TotalSales on the training set\n",
    "plot(seq_along(actual_values_test), actual_values_test,\n",
    "     main = \"Predicted vs. Actual Global Sales (Testing Set)\",\n",
    "     xlab = \"Data Index\", ylab = \"Global Sales\",\n",
    "     col = \"blue\", pch = 16)\n",
    "\n",
    "# Add the predicted values on the training set\n",
    "points(seq_along(predicted_values_test_sq), predicted_values_test_sq, col = \"#ff6f00\", pch = 16)\n",
    "\n",
    "# Add the fitted line from the lm model\n",
    "legend(\"topright\", legend = c(\"Actual\", \"Predicted\"), col = c(\"blue\", \"#ff6f00\"), pch = 16)\n"
   ]
  },
  {
   "cell_type": "code",
   "execution_count": 224,
   "metadata": {
    "vscode": {
     "languageId": "r"
    }
   },
   "outputs": [
    {
     "name": "stdout",
     "output_type": "stream",
     "text": [
      "Sum of Errors (Test): 3634.824 \n",
      "Mean Absolute Deviation (Test): 3.602001 \n",
      "Mean Percentage Error (Test): -23.64787 %\n",
      "Mean Squared Error (Test): 22.29953 \n",
      "Standard Error (Test): 4.722238 \n",
      "Mean Absolute Percentage Error (Test): 360.2001 %\n"
     ]
    }
   ],
   "source": [
    "# Calculate various error metrics on the original scale for the test set\n",
    "errors_test <- test_data$GlobalSales - predicted_values_test_sq\n",
    "sum_of_sqerrors_test <- sum(errors_test^2)\n",
    "mean_absolute_deviation_test <- mean(abs(errors_test))\n",
    "mean_percentage_error_test <- mean(errors_test) * 100  # Already on the original scale\n",
    "mean_squared_error_test <- mean(errors_test^2)\n",
    "standard_error_test <- sqrt(mean_squared_error_test)\n",
    "mean_absolute_percentage_error_test <- mean(abs(errors_test)) * 100\n",
    "\n",
    "# Print the error metrics for the test set\n",
    "cat(\"Sum of Errors (Test):\", sum_of_sqerrors_test, \"\\n\")\n",
    "cat(\"Mean Absolute Deviation (Test):\", mean_absolute_deviation_test, \"\\n\")\n",
    "cat(\"Mean Percentage Error (Test):\", mean_percentage_error_test, \"%\\n\")\n",
    "cat(\"Mean Squared Error (Test):\", mean_squared_error_test, \"\\n\")\n",
    "cat(\"Standard Error (Test):\", standard_error_test, \"\\n\")\n",
    "cat(\"Mean Absolute Percentage Error (Test):\", mean_absolute_percentage_error_test, \"%\\n\")"
   ]
  },
  {
   "cell_type": "markdown",
   "metadata": {},
   "source": [
    "Normalize the Data for NN"
   ]
  },
  {
   "cell_type": "code",
   "execution_count": 214,
   "metadata": {
    "vscode": {
     "languageId": "r"
    }
   },
   "outputs": [
    {
     "data": {
      "text/plain": [
       "    Title           Platform         Genre    \n",
       " Length:815         DS : 42   Shooter   :212  \n",
       " Class :character   PC :351   Sports    :210  \n",
       " Mode  :character   PS : 20   Racing    :120  \n",
       "                    PS2:223   Adventure :101  \n",
       "                    PS3:131   Simulation: 81  \n",
       "                    PS4: 48   Fighting  : 54  \n",
       "                              (Other)   : 37  \n",
       "                       Publisher      VGScore        CriticScore   \n",
       " Electronic Arts            :179   Min.   : 1.000   Min.   : 1.00  \n",
       " Activision                 :145   1st Qu.: 4.000   1st Qu.: 4.00  \n",
       " Ubisoft                    :117   Median : 7.000   Median : 8.00  \n",
       " Frontier Developments      :113   Mean   : 6.271   Mean   : 6.64  \n",
       " Sony Computer Entertainment: 83   3rd Qu.: 8.600   3rd Qu.: 8.70  \n",
       " Omega                      : 66   Max.   :10.000   Max.   :10.00  \n",
       " (Other)                    :112                                   \n",
       "   UserScore       TotalShipped     AsianSales     NorthAmericaSales\n",
       " Min.   : 1.000   Min.   :  0.1   Min.   : 1.000   Min.   :0.010    \n",
       " 1st Qu.: 3.000   1st Qu.: 53.0   1st Qu.: 2.510   1st Qu.:0.315    \n",
       " Median : 5.000   Median :134.0   Median : 3.000   Median :1.310    \n",
       " Mean   : 5.445   Mean   :139.4   Mean   : 3.350   Mean   :1.989    \n",
       " 3rd Qu.: 8.000   3rd Qu.:223.0   3rd Qu.: 3.555   3rd Qu.:3.240    \n",
       " Max.   :10.000   Max.   :300.0   Max.   :13.800   Max.   :7.910    \n",
       "                                                                    \n",
       "   JapanSales     EuropeSales     GlobalSales     ProductionCost \n",
       " Min.   :0.010   Min.   :0.010   Min.   : 0.090   Min.   :0.010  \n",
       " 1st Qu.:1.215   1st Qu.:0.120   1st Qu.: 3.930   1st Qu.:2.235  \n",
       " Median :2.770   Median :0.630   Median : 7.050   Median :3.400  \n",
       " Mean   :2.746   Mean   :1.771   Mean   : 8.775   Mean   :3.556  \n",
       " 3rd Qu.:4.330   3rd Qu.:3.235   3rd Qu.:13.300   3rd Qu.:4.840  \n",
       " Max.   :5.990   Max.   :6.990   Max.   :25.660   Max.   :7.840  \n",
       "                                                                 \n",
       "           Developer   MultipleGenre        MetaScore      AvgUserScore  \n",
       " Electronic Arts:147   Length:815         Min.   :77.00   Min.   :2.700  \n",
       " Codemasters    : 21   Class :character   1st Qu.:80.00   1st Qu.:7.500  \n",
       " VisualConcepts : 19   Mode  :character   Median :83.00   Median :8.000  \n",
       " Namco          : 14                      Mean   :83.33   Mean   :7.811  \n",
       " Ubisoft        : 14                      3rd Qu.:86.00   3rd Qu.:8.500  \n",
       " Capcom         : 13                      Max.   :96.00   Max.   :9.200  \n",
       " (Other)        :587                                                     \n",
       "      NoOfPlayers   ReleaseDate          ReleaseYear    ReleaseMonth   \n",
       " #N/A       :  1   Min.   :0001-02-20   Min.   :2000   Min.   : 1.000  \n",
       " 1          :346   1st Qu.:0008-11-20   1st Qu.:2003   1st Qu.: 4.000  \n",
       " 1 to 2     :144   Median :0017-02-20   Median :2006   Median : 8.000  \n",
       " 1 to 4     : 91   Mean   :0016-06-26   Mean   :2007   Mean   : 7.182  \n",
       " 1 to 8     : 14   3rd Qu.:0024-03-20   3rd Qu.:2010   3rd Qu.:10.000  \n",
       " Mutliplayer:219   Max.   :0031-10-20   Max.   :2018   Max.   :12.000  \n",
       "                                                                       \n",
       " EndOfMonth ReleaseQuarter  ReleaseWeekDay  ReleaseWeekend   ReleaseWeek\n",
       " No :517    Min.   :1.000   Min.   :1.000   Min.   :1.000   Min.   : 1  \n",
       " Yes:298    1st Qu.:2.000   1st Qu.:2.000   1st Qu.:1.000   1st Qu.:16  \n",
       "            Median :3.000   Median :2.000   Median :1.000   Median :35  \n",
       "            Mean   :2.713   Mean   :2.623   Mean   :1.031   Mean   :30  \n",
       "            3rd Qu.:4.000   3rd Qu.:3.500   3rd Qu.:1.000   3rd Qu.:43  \n",
       "            Max.   :4.000   Max.   :7.000   Max.   :2.000   Max.   :52  \n",
       "                                                                        \n",
       "       TopDeveloper_Count        TopDeveloper_Sum LogGlobalSales  \n",
       " Others         :543      Others         :551     Min.   :-2.408  \n",
       " Electronic Arts:147      Electronic Arts:147     1st Qu.: 1.369  \n",
       " Codemasters    : 21      Codemasters    : 21     Median : 1.953  \n",
       " VisualConcepts : 19      VisualConcepts : 19     Mean   : 1.880  \n",
       " Namco          : 14      Namco          : 14     3rd Qu.: 2.588  \n",
       " Ubisoft        : 14      Ubisoft        : 14     Max.   : 3.245  \n",
       " (Other)        : 57      (Other)        : 49                     \n",
       " SqRtGlobalSales\n",
       " Min.   :0.300  \n",
       " 1st Qu.:1.982  \n",
       " Median :2.655  \n",
       " Mean   :2.778  \n",
       " 3rd Qu.:3.647  \n",
       " Max.   :5.066  \n",
       "                "
      ]
     },
     "metadata": {},
     "output_type": "display_data"
    }
   ],
   "source": [
    "summary(data)"
   ]
  },
  {
   "cell_type": "code",
   "execution_count": 219,
   "metadata": {
    "vscode": {
     "languageId": "r"
    }
   },
   "outputs": [
    {
     "name": "stdout",
     "output_type": "stream",
     "text": [
      "'data.frame':\t815 obs. of  32 variables:\n",
      " $ Title              : chr  \"1701 A.D.\" \"2002 FIFA World Cup\" \"2010 FIFA World Cup South Africa\" \"ABZU\" ...\n",
      " $ Platform           : Factor w/ 6 levels \"DS\",\"PC\",\"PS\",..: 2 2 5 2 6 4 6 4 2 2 ...\n",
      " $ Genre              : Factor w/ 8 levels \"Adventure\",\"Board Game\",..: 7 8 8 1 1 8 1 6 6 7 ...\n",
      " $ Publisher          : Factor w/ 8 levels \"Activision\",\"Amazon Game Studios\",..: 7 7 8 1 3 1 4 4 7 1 ...\n",
      " $ VGScore            : num  8 2 7 9 8 6 10 3 5 1 ...\n",
      " $ CriticScore        : num  7.7 6 8.2 8 7 8.7 4 4 8.2 10 ...\n",
      " $ UserScore          : num  5 7 9 9 7 10 8 8 2 10 ...\n",
      " $ TotalShipped       : num  1 277 53 0.58 117 117 189 296 275 231 ...\n",
      " $ AsianSales         : num  7.05 3.77 1.23 6.83 3 3 1.09 3 7.34 3.78 ...\n",
      " $ NorthAmericaSales  : num  4.74 3.55 0.3 1.6 0.03 0.17 0.29 0.05 4.4 3.01 ...\n",
      " $ JapanSales         : num  5.85 1.03 0.07 2.48 4.98 3.56 0.05 5.03 3.43 4.72 ...\n",
      " $ EuropeSales        : num  2.3 3.58 0.64 5.48 3.98 0.13 0.59 0.04 4.6 5.26 ...\n",
      " $ GlobalSales        : num  19.94 11.93 2.24 16.39 9.03 ...\n",
      " $ ProductionCost     : num  6.96 6.06 4.24 3.75 3.24 3.21 2.61 2.58 2.07 2.81 ...\n",
      " $ Developer          : Factor w/ 283 levels \"1stPlayableProductions\",..: 206 86 86 109 109 282 57 251 164 161 ...\n",
      " $ MultipleGenre      : chr  \"Strategy;Real-Time;Historic;General;Historic\" \"Sports;Traditional;Team;Soccer;Sim;Sim\" \"Sports;Traditional;Team;Soccer;Sim;Sim\" \"Action Adventure;Adventure;General;3D;Third-Person\" ...\n",
      " $ MetaScore          : num  79 80 82 83 78 85 79 78 85 86 ...\n",
      " $ AvgUserScore       : num  8.4 8 7.8 6.9 7.6 8.7 8.2 8.3 8.7 8.3 ...\n",
      " $ NoOfPlayers        : Factor w/ 6 levels \"#N/A\",\"1\",\"1 to 2\",..: 4 6 2 2 2 3 2 2 6 2 ...\n",
      " $ ReleaseDate        : Date, format: \"0026-10-20\" \"0026-04-20\" ...\n",
      " $ ReleaseYear        : int  2006 2002 2010 2016 2016 2002 2014 2004 2001 2000 ...\n",
      " $ ReleaseMonth       : int  10 4 4 8 8 5 10 11 10 3 ...\n",
      " $ EndOfMonth         : Factor w/ 2 levels \"No\",\"Yes\": 2 2 2 1 1 2 1 2 2 1 ...\n",
      " $ ReleaseQuarter     : int  4 2 2 3 3 2 4 4 4 1 ...\n",
      " $ ReleaseWeekDay     : int  4 5 2 2 2 2 1 7 1 4 ...\n",
      " $ ReleaseWeekend     : int  1 1 1 1 1 1 1 2 1 1 ...\n",
      " $ ReleaseWeek        : int  43 17 18 32 32 22 41 48 43 12 ...\n",
      " $ TopDeveloper_Count : Factor w/ 11 levels \"Capcom\",\"Codemasters\",..: 8 3 3 8 8 8 8 8 8 8 ...\n",
      " $ TopDeveloper_Sum   : Factor w/ 11 levels \"Codemasters\",..: 7 2 2 7 7 7 7 7 7 7 ...\n",
      " $ LogGlobalSales     : num  2.993 2.479 0.806 2.797 2.201 ...\n",
      " $ SqRtGlobalSales    : num  4.47 3.45 1.5 4.05 3 ...\n",
      " $ NormalizedMetaScore: num  0.1053 0.1579 0.2632 0.3158 0.0526 ...\n"
     ]
    }
   ],
   "source": [
    "str(data)"
   ]
  },
  {
   "cell_type": "code",
   "execution_count": 217,
   "metadata": {
    "vscode": {
     "languageId": "r"
    }
   },
   "outputs": [
    {
     "name": "stdout",
     "output_type": "stream",
     "text": [
      " [1] \"Title\"               \"Platform\"            \"Genre\"              \n",
      " [4] \"Publisher\"           \"VGScore\"             \"CriticScore\"        \n",
      " [7] \"UserScore\"           \"TotalShipped\"        \"AsianSales\"         \n",
      "[10] \"NorthAmericaSales\"   \"JapanSales\"          \"EuropeSales\"        \n",
      "[13] \"GlobalSales\"         \"ProductionCost\"      \"Developer\"          \n",
      "[16] \"MultipleGenre\"       \"MetaScore\"           \"AvgUserScore\"       \n",
      "[19] \"NoOfPlayers\"         \"ReleaseDate\"         \"ReleaseYear\"        \n",
      "[22] \"ReleaseMonth\"        \"EndOfMonth\"          \"ReleaseQuarter\"     \n",
      "[25] \"ReleaseWeekDay\"      \"ReleaseWeekend\"      \"ReleaseWeek\"        \n",
      "[28] \"TopDeveloper_Count\"  \"TopDeveloper_Sum\"    \"LogGlobalSales\"     \n",
      "[31] \"SqRtGlobalSales\"     \"NormalizedMetaScore\"\n"
     ]
    }
   ],
   "source": [
    "column_names <- names(data)\n",
    "print(column_names)"
   ]
  },
  {
   "cell_type": "code",
   "execution_count": 66,
   "metadata": {
    "vscode": {
     "languageId": "r"
    }
   },
   "outputs": [],
   "source": [
    "# Function to normalize columns using min-max scaling\n",
    "normalize_columns <- function(data, columns) {\n",
    "  for (col in columns) {\n",
    "    data[[paste0(\"Normalized_\", col)]] <- (data[[col]] - min(data[[col]])) / (max(data[[col]]) - min(data[[col]]))\n",
    "  }\n",
    "  return(data)\n",
    "}\n",
    "\n",
    "# List of columns to normalize\n",
    "columns_to_normalize <- c(\"VGScore\", \"CriticScore\", \n",
    "                          \"UserScore\", \"ProductionCost\", \n",
    "                          \"MetaScore\", \"ReleaseYear\", \n",
    "                          \"ReleaseMonth\", \"ReleaseQuarter\", \"ReleaseWeekDay\", \n",
    "                          \"ReleaseWeek\")  \n",
    "\n",
    "# Applying normalization function to the specified columns and adding as separate columns\n",
    "data <- normalize_columns(data, columns_to_normalize)\n"
   ]
  },
  {
   "cell_type": "code",
   "execution_count": 67,
   "metadata": {
    "vscode": {
     "languageId": "r"
    }
   },
   "outputs": [
    {
     "data": {
      "text/plain": [
       "    Title           Platform         Genre    \n",
       " Length:815         DS : 42   Shooter   :212  \n",
       " Class :character   PC :351   Sports    :210  \n",
       " Mode  :character   PS : 20   Racing    :120  \n",
       "                    PS2:223   Adventure :101  \n",
       "                    PS3:131   Simulation: 81  \n",
       "                    PS4: 48   Fighting  : 54  \n",
       "                              (Other)   : 37  \n",
       "                       Publisher      VGScore        CriticScore   \n",
       " Electronic Arts            :179   Min.   : 1.000   Min.   : 1.00  \n",
       " Activision                 :145   1st Qu.: 4.000   1st Qu.: 4.00  \n",
       " Ubisoft                    :117   Median : 7.000   Median : 8.00  \n",
       " Frontier Developments      :113   Mean   : 6.271   Mean   : 6.64  \n",
       " Sony Computer Entertainment: 83   3rd Qu.: 8.600   3rd Qu.: 8.70  \n",
       " Omega                      : 66   Max.   :10.000   Max.   :10.00  \n",
       " (Other)                    :112                                   \n",
       "   UserScore       TotalShipped     AsianSales     NorthAmericaSales\n",
       " Min.   : 1.000   Min.   :  0.1   Min.   : 1.000   Min.   :0.010    \n",
       " 1st Qu.: 3.000   1st Qu.: 53.0   1st Qu.: 2.510   1st Qu.:0.315    \n",
       " Median : 5.000   Median :134.0   Median : 3.000   Median :1.310    \n",
       " Mean   : 5.445   Mean   :139.4   Mean   : 3.350   Mean   :1.989    \n",
       " 3rd Qu.: 8.000   3rd Qu.:223.0   3rd Qu.: 3.555   3rd Qu.:3.240    \n",
       " Max.   :10.000   Max.   :300.0   Max.   :13.800   Max.   :7.910    \n",
       "                                                                    \n",
       "   JapanSales     EuropeSales     GlobalSales     ProductionCost \n",
       " Min.   :0.010   Min.   :0.010   Min.   : 0.090   Min.   :0.010  \n",
       " 1st Qu.:1.215   1st Qu.:0.120   1st Qu.: 3.930   1st Qu.:2.235  \n",
       " Median :2.770   Median :0.630   Median : 7.050   Median :3.400  \n",
       " Mean   :2.746   Mean   :1.771   Mean   : 8.775   Mean   :3.556  \n",
       " 3rd Qu.:4.330   3rd Qu.:3.235   3rd Qu.:13.300   3rd Qu.:4.840  \n",
       " Max.   :5.990   Max.   :6.990   Max.   :25.660   Max.   :7.840  \n",
       "                                                                 \n",
       "           Developer   MultipleGenre        MetaScore      AvgUserScore  \n",
       " Electronic Arts:147   Length:815         Min.   :77.00   Min.   :2.700  \n",
       " Codemasters    : 21   Class :character   1st Qu.:80.00   1st Qu.:7.500  \n",
       " VisualConcepts : 19   Mode  :character   Median :83.00   Median :8.000  \n",
       " Namco          : 14                      Mean   :83.33   Mean   :7.811  \n",
       " Ubisoft        : 14                      3rd Qu.:86.00   3rd Qu.:8.500  \n",
       " Capcom         : 13                      Max.   :96.00   Max.   :9.200  \n",
       " (Other)        :587                                                     \n",
       "      NoOfPlayers   ReleaseDate          ReleaseYear    ReleaseMonth   \n",
       " #N/A       :  1   Min.   :0001-02-20   Min.   :2000   Min.   : 1.000  \n",
       " 1          :346   1st Qu.:0008-11-20   1st Qu.:2003   1st Qu.: 4.000  \n",
       " 1 to 2     :144   Median :0017-02-20   Median :2006   Median : 8.000  \n",
       " 1 to 4     : 91   Mean   :0016-06-26   Mean   :2007   Mean   : 7.182  \n",
       " 1 to 8     : 14   3rd Qu.:0024-03-20   3rd Qu.:2010   3rd Qu.:10.000  \n",
       " Mutliplayer:219   Max.   :0031-10-20   Max.   :2018   Max.   :12.000  \n",
       "                                                                       \n",
       " EndOfMonth ReleaseQuarter  ReleaseWeekDay  ReleaseWeekend  ReleaseWeek\n",
       " No :517    Min.   :1.000   Min.   :1.000   Weekday:790    Min.   : 1  \n",
       " Yes:298    1st Qu.:2.000   1st Qu.:2.000   Weekend: 25    1st Qu.:16  \n",
       "            Median :3.000   Median :2.000                  Median :35  \n",
       "            Mean   :2.713   Mean   :2.623                  Mean   :30  \n",
       "            3rd Qu.:4.000   3rd Qu.:3.500                  3rd Qu.:43  \n",
       "            Max.   :4.000   Max.   :7.000                  Max.   :52  \n",
       "                                                                       \n",
       "       TopDeveloper_Count        TopDeveloper_Sum LogGlobalSales  \n",
       " Others         :543      Others         :551     Min.   :-2.408  \n",
       " Electronic Arts:147      Electronic Arts:147     1st Qu.: 1.369  \n",
       " Codemasters    : 21      Codemasters    : 21     Median : 1.953  \n",
       " VisualConcepts : 19      VisualConcepts : 19     Mean   : 1.880  \n",
       " Namco          : 14      Namco          : 14     3rd Qu.: 2.588  \n",
       " Ubisoft        : 14      Ubisoft        : 14     Max.   : 3.245  \n",
       " (Other)        : 57      (Other)        : 49                     \n",
       " SqRtGlobalSales Normalized_VGScore Normalized_CriticScore Normalized_UserScore\n",
       " Min.   :0.300   Min.   :0.0000     Min.   :0.0000         Min.   :0.0000      \n",
       " 1st Qu.:1.982   1st Qu.:0.3333     1st Qu.:0.3333         1st Qu.:0.2222      \n",
       " Median :2.655   Median :0.6667     Median :0.7778         Median :0.4444      \n",
       " Mean   :2.778   Mean   :0.5856     Mean   :0.6267         Mean   :0.4938      \n",
       " 3rd Qu.:3.647   3rd Qu.:0.8444     3rd Qu.:0.8556         3rd Qu.:0.7778      \n",
       " Max.   :5.066   Max.   :1.0000     Max.   :1.0000         Max.   :1.0000      \n",
       "                                                                               \n",
       " Normalized_ProductionCost Normalized_MetaScore Normalized_ReleaseYear\n",
       " Min.   :0.0000            Min.   :0.0000       Min.   :0.0000        \n",
       " 1st Qu.:0.2842            1st Qu.:0.1579       1st Qu.:0.1667        \n",
       " Median :0.4330            Median :0.3158       Median :0.3333        \n",
       " Mean   :0.4529            Mean   :0.3330       Mean   :0.3852        \n",
       " 3rd Qu.:0.6169            3rd Qu.:0.4737       3rd Qu.:0.5556        \n",
       " Max.   :1.0000            Max.   :1.0000       Max.   :1.0000        \n",
       "                                                                      \n",
       " Normalized_ReleaseMonth Normalized_ReleaseQuarter Normalized_ReleaseWeekDay\n",
       " Min.   :0.0000          Min.   :0.0000            Min.   :0.0000           \n",
       " 1st Qu.:0.2727          1st Qu.:0.3333            1st Qu.:0.1667           \n",
       " Median :0.6364          Median :0.6667            Median :0.1667           \n",
       " Mean   :0.5620          Mean   :0.5710            Mean   :0.2706           \n",
       " 3rd Qu.:0.8182          3rd Qu.:1.0000            3rd Qu.:0.4167           \n",
       " Max.   :1.0000          Max.   :1.0000            Max.   :1.0000           \n",
       "                                                                            \n",
       " Normalized_ReleaseWeek\n",
       " Min.   :0.0000        \n",
       " 1st Qu.:0.2941        \n",
       " Median :0.6667        \n",
       " Mean   :0.5685        \n",
       " 3rd Qu.:0.8235        \n",
       " Max.   :1.0000        \n",
       "                       "
      ]
     },
     "metadata": {},
     "output_type": "display_data"
    }
   ],
   "source": [
    "summary(data)"
   ]
  },
  {
   "cell_type": "code",
   "execution_count": 68,
   "metadata": {
    "vscode": {
     "languageId": "r"
    }
   },
   "outputs": [],
   "source": [
    "########################################################\n",
    "# Split into 80-20 training-testing dataset\n",
    "\n",
    "# Set a random seed for reproducibility\n",
    "set.seed(123)\n",
    "\n",
    "# Split the data into a training set (80%) and a test set (20%)\n",
    "split <- sample.split(data$GlobalSales, SplitRatio = 0.8)\n",
    "training_data_NN <- subset(data, split == TRUE)\n",
    "test_data_NN <- subset(data, split == FALSE)"
   ]
  },
  {
   "cell_type": "markdown",
   "metadata": {},
   "source": [
    "Neural Network_sum [Model 1]"
   ]
  },
  {
   "cell_type": "code",
   "execution_count": 93,
   "metadata": {
    "vscode": {
     "languageId": "r"
    }
   },
   "outputs": [],
   "source": [
    "########################################################\n",
    "# Build a NN model\n",
    "\n",
    "# Create a Keras Sequential model\n",
    "model <- keras_model_sequential()\n",
    "\n",
    "# Add an input layer\n",
    "model %>% \n",
    "  layer_dense(units = 3, input_shape = c(16), activation = \"relu\")\n",
    "\n",
    "# Add one or more hidden layers\n",
    "model %>%\n",
    "  layer_dense(units = 5, activation = \"relu\")\n",
    "\n",
    "# Add an output layer\n",
    "model %>%\n",
    "  layer_dense(units = 1)  # To predict 'TotalSales'\n",
    "\n",
    "# Compile the model with custom absolute error loss and MAE metric\n",
    "model %>%\n",
    "  compile(\n",
    "    loss = \"mean_squared_error\",\n",
    "    optimizer = optimizer_adam(),\n",
    "    metrics = list(\"mean_absolute_error\")\n",
    "  )"
   ]
  },
  {
   "cell_type": "code",
   "execution_count": 70,
   "metadata": {
    "vscode": {
     "languageId": "r"
    }
   },
   "outputs": [
    {
     "name": "stdout",
     "output_type": "stream",
     "text": [
      "Model: \"sequential_1\"\n",
      "________________________________________________________________________________\n",
      " Layer (type)                       Output Shape                    Param #     \n",
      "================================================================================\n",
      " dense_3 (Dense)                    (None, 3)                       51          \n",
      " dense_4 (Dense)                    (None, 5)                       20          \n",
      " dense_5 (Dense)                    (None, 1)                       6           \n",
      "================================================================================\n",
      "Total params: 77\n",
      "Trainable params: 77\n",
      "Non-trainable params: 0\n",
      "________________________________________________________________________________\n"
     ]
    }
   ],
   "source": [
    "summary (model)"
   ]
  },
  {
   "cell_type": "code",
   "execution_count": 94,
   "metadata": {
    "vscode": {
     "languageId": "r"
    }
   },
   "outputs": [],
   "source": [
    "# Include specific columns\n",
    "include_columns <- c(\"Normalized_VGScore\", \n",
    "                    \"Normalized_CriticScore\", \n",
    "                    \"Normalized_UserScore\", \n",
    "                    \"Normalized_ProductionCost\", \n",
    "                    \"Normalized_MetaScore\", \n",
    "                    \"Normalized_ReleaseYear\", \n",
    "                    \"Normalized_ReleaseMonth\",\n",
    "                    \"Normalized_ReleaseQuarter\", \n",
    "                    \"Normalized_ReleaseWeekDay\",\n",
    "                    \"ReleaseWeekend\",\n",
    "                    \"Normalized_ReleaseWeek\",\n",
    "                    \"Platform\", \n",
    "                    \"Genre\",\n",
    "                    \"Publisher\",\n",
    "                    \"TopDeveloper_Sum\", \n",
    "                    \"NoOfPlayers\")\n",
    "                    \n",
    "x_train <- training_data_NN[, names(training_data_NN) %in% include_columns]\n",
    "x_test <- test_data_NN[, names(test_data_NN) %in% include_columns]"
   ]
  },
  {
   "cell_type": "code",
   "execution_count": 95,
   "metadata": {
    "vscode": {
     "languageId": "r"
    }
   },
   "outputs": [],
   "source": [
    "# Train the model\n",
    "history = keras::fit(model, data.matrix(x_train), data.matrix(training_data$GlobalSales), epochs = 100, batch_size = 100, verbose = 1)"
   ]
  },
  {
   "cell_type": "code",
   "execution_count": 96,
   "metadata": {
    "vscode": {
     "languageId": "r"
    }
   },
   "outputs": [
    {
     "data": {
      "image/png": "[encoded data removed]",
      "text/plain": [
       "plot without title"
      ]
     },
     "metadata": {
      "image/png": {
       "height": 420,
       "width": 420
      }
     },
     "output_type": "display_data"
    }
   ],
   "source": [
    "plot(history)"
   ]
  },
  {
   "cell_type": "code",
   "execution_count": 97,
   "metadata": {
    "vscode": {
     "languageId": "r"
    }
   },
   "outputs": [],
   "source": [
    "# Evaluate the model\n",
    "eval_metrics <- model %>% evaluate(\n",
    "  x = data.matrix(x_test),  # Independent variables for testing\n",
    "  y = data.matrix(test_data$GlobalSales)  # Target variable for testing\n",
    ")"
   ]
  },
  {
   "cell_type": "code",
   "execution_count": 98,
   "metadata": {
    "vscode": {
     "languageId": "r"
    }
   },
   "outputs": [
    {
     "name": "stdout",
     "output_type": "stream",
     "text": [
      "               loss mean_absolute_error \n",
      "          32.844242            4.912611 \n"
     ]
    }
   ],
   "source": [
    "# Print the evaluation metrics\n",
    "print(eval_metrics)"
   ]
  },
  {
   "cell_type": "markdown",
   "metadata": {},
   "source": [
    "Test on training data"
   ]
  },
  {
   "cell_type": "code",
   "execution_count": 99,
   "metadata": {
    "vscode": {
     "languageId": "r"
    }
   },
   "outputs": [
    {
     "data": {
      "text/html": [
       "-0.0445160907824764"
      ],
      "text/latex": [
       "-0.0445160907824764"
      ],
      "text/markdown": [
       "-0.0445160907824764"
      ],
      "text/plain": [
       "[1] -0.04451609"
      ]
     },
     "metadata": {},
     "output_type": "display_data"
    }
   ],
   "source": [
    "# Generate predictions using your trained model\n",
    "predictions <- model %>% predict(data.matrix(x_train))\n",
    "\n",
    "# Organize results into a data frame\n",
    "results <- data.frame(Actual_GlobalSales = training_data$GlobalSales, Predicted_GlobalSales = predictions)\n",
    "\n",
    "# Calculate R-squared using the results data frame\n",
    "SSR <- sum((results$Predicted_GlobalSales - results$Actual_GlobalSales)^2)  # Sum of squared residuals\n",
    "SST <- sum((results$Actual_GlobalSales - mean(results$Actual_GlobalSales))^2)  # Total sum of squares\n",
    "\n",
    "R_squared <- 1 - SSR / SST  # Calculate R-squared\n",
    "R_squared\n"
   ]
  },
  {
   "cell_type": "code",
   "execution_count": 100,
   "metadata": {
    "vscode": {
     "languageId": "r"
    }
   },
   "outputs": [
    {
     "name": "stdout",
     "output_type": "stream",
     "text": [
      "Sum of Squared Errors: 24146.61 \n",
      "Mean Absolute Deviation: 5.109294 \n",
      "Mean Percentage Error: -103.9472 %\n",
      "Mean Squared Error: 37.03468 \n",
      "Standard Error: 6.085612 \n",
      "Mean Absolute Percentage Error: 137.4733 %\n"
     ]
    }
   ],
   "source": [
    "# Calculating the Sum of Squared Errors\n",
    "sum_sqerrors <- sum((results$Actual_GlobalSales - results$Predicted_GlobalSales)^2)\n",
    "\n",
    "# Calculating the Mean Absolute Deviation (MAD)\n",
    "mean_absolute_deviation <- mean(abs(results$Actual_GlobalSales - results$Predicted_GlobalSales))\n",
    "\n",
    "# Calculating the Mean Percentage Error (MPE)\n",
    "mean_percentage_error <- mean((results$Actual_GlobalSales - results$Predicted_GlobalSales) / results$Actual_GlobalSales) * 100\n",
    "\n",
    "# Calculating the Mean Squared Error (MSE)\n",
    "mean_squared_error <- mean((results$Actual_GlobalSales - results$Predicted_GlobalSales)^2)\n",
    "\n",
    "# Calculating the Standard Error (Root Mean Squared Error - RMSE)\n",
    "standard_error <- sqrt(mean((results$Actual_GlobalSales - results$Predicted_GlobalSales)^2))\n",
    "\n",
    "# Calculating the Mean Absolute Percentage Error (MAPE)\n",
    "mean_absolute_percentage_error <- mean(abs((results$Actual_GlobalSales - results$Predicted_GlobalSales) / results$Actual_GlobalSales)) * 100\n",
    "\n",
    "# Displaying the results\n",
    "cat(\"Sum of Squared Errors:\", sum_sqerrors, \"\\n\")\n",
    "cat(\"Mean Absolute Deviation:\", mean_absolute_deviation, \"\\n\")\n",
    "cat(\"Mean Percentage Error:\", mean_percentage_error, \"%\\n\")\n",
    "cat(\"Mean Squared Error:\", mean_squared_error, \"\\n\")\n",
    "cat(\"Standard Error:\", standard_error, \"\\n\")\n",
    "cat(\"Mean Absolute Percentage Error:\", mean_absolute_percentage_error, \"%\\n\")\n"
   ]
  },
  {
   "cell_type": "code",
   "execution_count": 101,
   "metadata": {
    "vscode": {
     "languageId": "r"
    }
   },
   "outputs": [
    {
     "data": {
      "image/png": "[encoded data removed]",
      "text/plain": [
       "Plot with title \"Predicted vs. Actual Global Sales (Training Set)\""
      ]
     },
     "metadata": {
      "image/png": {
       "height": 420,
       "width": 420
      }
     },
     "output_type": "display_data"
    }
   ],
   "source": [
    "# Creating a simple scatterplot if 'results' contains the necessary columns\n",
    "plot(seq_along(results$Actual_GlobalSales), results$Actual_GlobalSales,\n",
    "     main = \"Predicted vs. Actual Global Sales (Training Set)\",\n",
    "     xlab = \"Data Index\", ylab = \"Global Sales\",\n",
    "     col = \"blue\", pch = 16)\n",
    "\n",
    "# Adding the predicted values on the training set if 'results' contains the necessary columns\n",
    "points(seq_along(results$Predicted_GlobalSales), results$Predicted_GlobalSales, col = \"#ff6f00\", pch = 16)\n",
    "\n",
    "# Adding the legend\n",
    "legend(\"topright\", legend = c(\"Actual\", \"Predicted\"), col = c(\"blue\", \"#ff6f00\"), pch = 16)\n"
   ]
  },
  {
   "cell_type": "markdown",
   "metadata": {},
   "source": [
    "Test on Testing Data"
   ]
  },
  {
   "cell_type": "code",
   "execution_count": 102,
   "metadata": {
    "vscode": {
     "languageId": "r"
    }
   },
   "outputs": [
    {
     "data": {
      "text/html": [
       "-0.0821320766596085"
      ],
      "text/latex": [
       "-0.0821320766596085"
      ],
      "text/markdown": [
       "-0.0821320766596085"
      ],
      "text/plain": [
       "[1] -0.08213208"
      ]
     },
     "metadata": {},
     "output_type": "display_data"
    }
   ],
   "source": [
    "# Generate predictions using your trained model\n",
    "predictions <- model %>% predict(data.matrix(x_test))\n",
    "\n",
    "# Organize results into a data frame\n",
    "results <- data.frame(Actual_GlobalSales = test_data$GlobalSales, Predicted_GlobalSales = predictions)\n",
    "\n",
    "# Calculate R-squared using the results data frame\n",
    "SSR <- sum((results$Predicted_GlobalSales - results$Actual_GlobalSales)^2)  # Sum of squared residuals\n",
    "SST <- sum((results$Actual_GlobalSales - mean(results$Actual_GlobalSales))^2)  # Total sum of squares\n",
    "\n",
    "R_squared <- 1 - SSR / SST  # Calculate R-squared\n",
    "R_squared\n"
   ]
  },
  {
   "cell_type": "code",
   "execution_count": 103,
   "metadata": {
    "vscode": {
     "languageId": "r"
    }
   },
   "outputs": [
    {
     "name": "stdout",
     "output_type": "stream",
     "text": [
      "Sum of Squared Errors: 5353.611 \n",
      "Mean Absolute Deviation: 4.912611 \n",
      "Mean Percentage Error: -149.6468 %\n",
      "Mean Squared Error: 32.84424 \n",
      "Standard Error: 5.73099 \n",
      "Mean Absolute Percentage Error: 174.4592 %\n"
     ]
    }
   ],
   "source": [
    "# Calculating the Sum of Squared Errors\n",
    "sum_sqerrors <- sum((results$Actual_GlobalSales - results$Predicted_GlobalSales)^2)\n",
    "\n",
    "# Calculating the Mean Absolute Deviation (MAD)\n",
    "mean_absolute_deviation <- mean(abs(results$Actual_GlobalSales - results$Predicted_GlobalSales))\n",
    "\n",
    "# Calculating the Mean Percentage Error (MPE)\n",
    "mean_percentage_error <- mean((results$Actual_GlobalSales - results$Predicted_GlobalSales) / results$Actual_GlobalSales) * 100\n",
    "\n",
    "# Calculating the Mean Squared Error (MSE)\n",
    "mean_squared_error <- mean((results$Actual_GlobalSales - results$Predicted_GlobalSales)^2)\n",
    "\n",
    "# Calculating the Standard Error (Root Mean Squared Error - RMSE)\n",
    "standard_error <- sqrt(mean((results$Actual_GlobalSales - results$Predicted_GlobalSales)^2))\n",
    "\n",
    "# Calculating the Mean Absolute Percentage Error (MAPE)\n",
    "mean_absolute_percentage_error <- mean(abs((results$Actual_GlobalSales - results$Predicted_GlobalSales) / results$Actual_GlobalSales)) * 100\n",
    "\n",
    "# Displaying the results\n",
    "cat(\"Sum of Squared Errors:\", sum_sqerrors, \"\\n\")\n",
    "cat(\"Mean Absolute Deviation:\", mean_absolute_deviation, \"\\n\")\n",
    "cat(\"Mean Percentage Error:\", mean_percentage_error, \"%\\n\")\n",
    "cat(\"Mean Squared Error:\", mean_squared_error, \"\\n\")\n",
    "cat(\"Standard Error:\", standard_error, \"\\n\")\n",
    "cat(\"Mean Absolute Percentage Error:\", mean_absolute_percentage_error, \"%\\n\")\n"
   ]
  },
  {
   "cell_type": "code",
   "execution_count": 104,
   "metadata": {
    "vscode": {
     "languageId": "r"
    }
   },
   "outputs": [
    {
     "data": {
      "image/png": "[encoded data removed]",
      "text/plain": [
       "Plot with title \"Predicted vs. Actual Global Sales (Testing Set)\""
      ]
     },
     "metadata": {
      "image/png": {
       "height": 420,
       "width": 420
      }
     },
     "output_type": "display_data"
    }
   ],
   "source": [
    "# Creating a simple scatterplot if 'results' contains the necessary columns\n",
    "plot(seq_along(results$Actual_GlobalSales), results$Actual_GlobalSales,\n",
    "     main = \"Predicted vs. Actual Global Sales (Testing Set)\",\n",
    "     xlab = \"Data Index\", ylab = \"Global Sales\",\n",
    "     col = \"blue\", pch = 16)\n",
    "\n",
    "# Adding the predicted values on the training set if 'results' contains the necessary columns\n",
    "points(seq_along(results$Predicted_GlobalSales), results$Predicted_GlobalSales, col = \"#ff6f00\", pch = 16)\n",
    "\n",
    "# Adding the legend\n",
    "legend(\"topright\", legend = c(\"Actual\", \"Predicted\"), col = c(\"blue\", \"#ff6f00\"), pch = 16)\n"
   ]
  },
  {
   "cell_type": "code",
   "execution_count": 120,
   "metadata": {
    "vscode": {
     "languageId": "r"
    }
   },
   "outputs": [],
   "source": [
    "# Export to excel\n",
    "\n",
    "write_xlsx(results, path = \"NN_results.xlsx\")"
   ]
  },
  {
   "cell_type": "markdown",
   "metadata": {},
   "source": [
    "Neural Network_sum [Model 2]"
   ]
  },
  {
   "cell_type": "code",
   "execution_count": 105,
   "metadata": {
    "vscode": {
     "languageId": "r"
    }
   },
   "outputs": [],
   "source": [
    "########################################################\n",
    "# Build a NN model\n",
    "\n",
    "# Create a Keras Sequential model\n",
    "model <- keras_model_sequential()\n",
    "\n",
    "# Add an input layer\n",
    "model %>% \n",
    "  layer_dense(units = 4, input_shape = c(16), activation = \"relu\")\n",
    "\n",
    "# Add one or more hidden layers\n",
    "model %>%\n",
    "  layer_dense(units = 2, activation = \"relu\")\n",
    "\n",
    "# Add an output layer\n",
    "model %>%\n",
    "  layer_dense(units = 1)  # To predict 'TotalSales'\n",
    "\n",
    "# Compile the model with custom absolute error loss and MAE metric\n",
    "model %>%\n",
    "  compile(\n",
    "    loss = \"mean_squared_error\",\n",
    "    optimizer = optimizer_adam(),\n",
    "    metrics = list(\"mean_absolute_error\")\n",
    "  )"
   ]
  },
  {
   "cell_type": "code",
   "execution_count": 82,
   "metadata": {
    "vscode": {
     "languageId": "r"
    }
   },
   "outputs": [
    {
     "name": "stdout",
     "output_type": "stream",
     "text": [
      "Model: \"sequential_2\"\n",
      "________________________________________________________________________________\n",
      " Layer (type)                       Output Shape                    Param #     \n",
      "================================================================================\n",
      " dense_6 (Dense)                    (None, 4)                       68          \n",
      " dense_7 (Dense)                    (None, 2)                       10          \n",
      " dense_8 (Dense)                    (None, 1)                       3           \n",
      "================================================================================\n",
      "Total params: 81\n",
      "Trainable params: 81\n",
      "Non-trainable params: 0\n",
      "________________________________________________________________________________\n"
     ]
    }
   ],
   "source": [
    "summary (model)"
   ]
  },
  {
   "cell_type": "code",
   "execution_count": 106,
   "metadata": {
    "vscode": {
     "languageId": "r"
    }
   },
   "outputs": [],
   "source": [
    "# Train the model\n",
    "history = keras::fit(model, data.matrix(x_train), data.matrix(training_data$GlobalSales), epochs = 100, batch_size = 100, verbose = 1)"
   ]
  },
  {
   "cell_type": "code",
   "execution_count": 107,
   "metadata": {
    "vscode": {
     "languageId": "r"
    }
   },
   "outputs": [
    {
     "data": {
      "image/png": "[encoded data removed]",
      "text/plain": [
       "plot without title"
      ]
     },
     "metadata": {
      "image/png": {
       "height": 420,
       "width": 420
      }
     },
     "output_type": "display_data"
    }
   ],
   "source": [
    "plot(history)"
   ]
  },
  {
   "cell_type": "code",
   "execution_count": 108,
   "metadata": {
    "vscode": {
     "languageId": "r"
    }
   },
   "outputs": [],
   "source": [
    "# Evaluate the model\n",
    "eval_metrics <- model %>% evaluate(\n",
    "  x = data.matrix(x_test),  # Independent variables for testing\n",
    "  y = data.matrix(test_data$GlobalSales)  # Target variable for testing\n",
    ")"
   ]
  },
  {
   "cell_type": "code",
   "execution_count": 109,
   "metadata": {
    "vscode": {
     "languageId": "r"
    }
   },
   "outputs": [
    {
     "name": "stdout",
     "output_type": "stream",
     "text": [
      "               loss mean_absolute_error \n",
      "          33.980042            4.976882 \n"
     ]
    }
   ],
   "source": [
    "# Print the evaluation metrics\n",
    "print(eval_metrics)"
   ]
  },
  {
   "cell_type": "markdown",
   "metadata": {},
   "source": [
    "Test on training data"
   ]
  },
  {
   "cell_type": "code",
   "execution_count": 116,
   "metadata": {
    "vscode": {
     "languageId": "r"
    }
   },
   "outputs": [
    {
     "data": {
      "text/html": [
       "-0.0425882468659717"
      ],
      "text/latex": [
       "-0.0425882468659717"
      ],
      "text/markdown": [
       "-0.0425882468659717"
      ],
      "text/plain": [
       "[1] -0.04258825"
      ]
     },
     "metadata": {},
     "output_type": "display_data"
    }
   ],
   "source": [
    "# Generate predictions using your trained model\n",
    "predictions <- model %>% predict(data.matrix(x_train))\n",
    "\n",
    "# Organize results into a data frame\n",
    "results <- data.frame(Actual_GlobalSales = training_data$GlobalSales, Predicted_GlobalSales = predictions)\n",
    "\n",
    "# Calculate R-squared using the results data frame\n",
    "SSR <- sum((results$Predicted_GlobalSales - results$Actual_GlobalSales)^2)  # Sum of squared residuals\n",
    "SST <- sum((results$Actual_GlobalSales - mean(results$Actual_GlobalSales))^2)  # Total sum of squares\n",
    "\n",
    "R_squared <- 1 - SSR / SST  # Calculate R-squared\n",
    "R_squared"
   ]
  },
  {
   "cell_type": "code",
   "execution_count": 117,
   "metadata": {
    "vscode": {
     "languageId": "r"
    }
   },
   "outputs": [
    {
     "name": "stdout",
     "output_type": "stream",
     "text": [
      "Sum of Errors: 189.9959 \n",
      "Mean Absolute Deviation: 5.102423 \n",
      "Mean Percentage Error: -109.9567 %\n",
      "Mean Squared Error: 36.96632 \n",
      "Standard Error: 6.079994 \n",
      "Mean Absolute Percentage Error: 143.4914 %\n"
     ]
    }
   ],
   "source": [
    "# Calculating the Sum of Errors\n",
    "sum_errors <- sum(results$Actual_GlobalSales - results$Predicted_GlobalSales)\n",
    "\n",
    "# Calculating the Mean Absolute Deviation (MAD)\n",
    "mean_absolute_deviation <- mean(abs(results$Actual_GlobalSales - results$Predicted_GlobalSales))\n",
    "\n",
    "# Calculating the Mean Percentage Error (MPE)\n",
    "mean_percentage_error <- mean((results$Actual_GlobalSales - results$Predicted_GlobalSales) / results$Actual_GlobalSales) * 100\n",
    "\n",
    "# Calculating the Mean Squared Error (MSE)\n",
    "mean_squared_error <- mean((results$Actual_GlobalSales - results$Predicted_GlobalSales)^2)\n",
    "\n",
    "# Calculating the Standard Error (Root Mean Squared Error - RMSE)\n",
    "standard_error <- sqrt(mean((results$Actual_GlobalSales - results$Predicted_GlobalSales)^2))\n",
    "\n",
    "# Calculating the Mean Absolute Percentage Error (MAPE)\n",
    "mean_absolute_percentage_error <- mean(abs((results$Actual_GlobalSales - results$Predicted_GlobalSales) / results$Actual_GlobalSales)) * 100\n",
    "\n",
    "# Displaying the results\n",
    "cat(\"Sum of Errors:\", sum_errors, \"\\n\")\n",
    "cat(\"Mean Absolute Deviation:\", mean_absolute_deviation, \"\\n\")\n",
    "cat(\"Mean Percentage Error:\", mean_percentage_error, \"%\\n\")\n",
    "cat(\"Mean Squared Error:\", mean_squared_error, \"\\n\")\n",
    "cat(\"Standard Error:\", standard_error, \"\\n\")\n",
    "cat(\"Mean Absolute Percentage Error:\", mean_absolute_percentage_error, \"%\\n\")\n"
   ]
  },
  {
   "cell_type": "code",
   "execution_count": 119,
   "metadata": {
    "vscode": {
     "languageId": "r"
    }
   },
   "outputs": [
    {
     "data": {
      "image/png": "[encoded data removed]",
      "text/plain": [
       "Plot with title \"Predicted vs. Actual Global Sales (Training Set)\""
      ]
     },
     "metadata": {
      "image/png": {
       "height": 420,
       "width": 420
      }
     },
     "output_type": "display_data"
    }
   ],
   "source": [
    "# Creating a simple scatterplot if 'results' contains the necessary columns\n",
    "plot(seq_along(results$Actual_GlobalSales), results$Actual_GlobalSales,\n",
    "     main = \"Predicted vs. Actual Global Sales (Training Set)\",\n",
    "     xlab = \"Data Index\", ylab = \"Global Sales\",\n",
    "     col = \"blue\", pch = 16)\n",
    "\n",
    "# Adding the predicted values on the training set if 'results' contains the necessary columns\n",
    "points(seq_along(results$Predicted_GlobalSales), results$Predicted_GlobalSales, col = \"#ff6f00\", pch = 16)\n",
    "\n",
    "# Adding the legend\n",
    "legend(\"topright\", legend = c(\"Actual\", \"Predicted\"), col = c(\"blue\", \"#ff6f00\"), pch = 16)\n"
   ]
  },
  {
   "cell_type": "markdown",
   "metadata": {},
   "source": [
    "Test on testing data"
   ]
  },
  {
   "cell_type": "code",
   "execution_count": 113,
   "metadata": {
    "vscode": {
     "languageId": "r"
    }
   },
   "outputs": [
    {
     "data": {
      "text/html": [
       "-0.119553807358396"
      ],
      "text/latex": [
       "-0.119553807358396"
      ],
      "text/markdown": [
       "-0.119553807358396"
      ],
      "text/plain": [
       "[1] -0.1195538"
      ]
     },
     "metadata": {},
     "output_type": "display_data"
    }
   ],
   "source": [
    "# Generate predictions using your trained model\n",
    "predictions <- model %>% predict(data.matrix(x_test))\n",
    "\n",
    "# Organize results into a data frame\n",
    "results <- data.frame(Actual_GlobalSales = test_data$GlobalSales, Predicted_GlobalSales = predictions)\n",
    "\n",
    "# Calculate R-squared using the results data frame\n",
    "SSR <- sum((results$Predicted_GlobalSales - results$Actual_GlobalSales)^2)  # Sum of squared residuals\n",
    "SST <- sum((results$Actual_GlobalSales - mean(results$Actual_GlobalSales))^2)  # Total sum of squares\n",
    "\n",
    "R_squared <- 1 - SSR / SST  # Calculate R-squared\n",
    "R_squared"
   ]
  },
  {
   "cell_type": "code",
   "execution_count": 114,
   "metadata": {
    "vscode": {
     "languageId": "r"
    }
   },
   "outputs": [
    {
     "name": "stdout",
     "output_type": "stream",
     "text": [
      "Sum of Errors: -184.1965 \n",
      "Mean Absolute Deviation: 4.976882 \n",
      "Mean Percentage Error: -160.217 %\n",
      "Mean Squared Error: 33.98004 \n",
      "Standard Error: 5.82924 \n",
      "Mean Absolute Percentage Error: 184.9677 %\n"
     ]
    }
   ],
   "source": [
    "# Calculating the Sum of Errors\n",
    "sum_errors <- sum(results$Actual_GlobalSales - results$Predicted_GlobalSales)\n",
    "\n",
    "# Calculating the Mean Absolute Deviation (MAD)\n",
    "mean_absolute_deviation <- mean(abs(results$Actual_GlobalSales - results$Predicted_GlobalSales))\n",
    "\n",
    "# Calculating the Mean Percentage Error (MPE)\n",
    "mean_percentage_error <- mean((results$Actual_GlobalSales - results$Predicted_GlobalSales) / results$Actual_GlobalSales) * 100\n",
    "\n",
    "# Calculating the Mean Squared Error (MSE)\n",
    "mean_squared_error <- mean((results$Actual_GlobalSales - results$Predicted_GlobalSales)^2)\n",
    "\n",
    "# Calculating the Standard Error (Root Mean Squared Error - RMSE)\n",
    "standard_error <- sqrt(mean((results$Actual_GlobalSales - results$Predicted_GlobalSales)^2))\n",
    "\n",
    "# Calculating the Mean Absolute Percentage Error (MAPE)\n",
    "mean_absolute_percentage_error <- mean(abs((results$Actual_GlobalSales - results$Predicted_GlobalSales) / results$Actual_GlobalSales)) * 100\n",
    "\n",
    "# Displaying the results\n",
    "cat(\"Sum of Errors:\", sum_errors, \"\\n\")\n",
    "cat(\"Mean Absolute Deviation:\", mean_absolute_deviation, \"\\n\")\n",
    "cat(\"Mean Percentage Error:\", mean_percentage_error, \"%\\n\")\n",
    "cat(\"Mean Squared Error:\", mean_squared_error, \"\\n\")\n",
    "cat(\"Standard Error:\", standard_error, \"\\n\")\n",
    "cat(\"Mean Absolute Percentage Error:\", mean_absolute_percentage_error, \"%\\n\")\n"
   ]
  },
  {
   "cell_type": "code",
   "execution_count": 115,
   "metadata": {
    "vscode": {
     "languageId": "r"
    }
   },
   "outputs": [
    {
     "data": {
      "image/png": "[encoded data removed]",
      "text/plain": [
       "Plot with title \"Predicted vs. Actual Global Sales (Training Set)\""
      ]
     },
     "metadata": {
      "image/png": {
       "height": 420,
       "width": 420
      }
     },
     "output_type": "display_data"
    }
   ],
   "source": [
    "# Creating a simple scatterplot if 'results' contains the necessary columns\n",
    "plot(seq_along(results$Actual_GlobalSales), results$Actual_GlobalSales,\n",
    "     main = \"Predicted vs. Actual Global Sales (Training Set)\",\n",
    "     xlab = \"Data Index\", ylab = \"Global Sales\",\n",
    "     col = \"blue\", pch = 16)\n",
    "\n",
    "# Adding the predicted values on the training set if 'results' contains the necessary columns\n",
    "points(seq_along(results$Predicted_GlobalSales), results$Predicted_GlobalSales, col = \"#ff6f00\", pch = 16)\n",
    "\n",
    "# Adding the legend\n",
    "legend(\"topright\", legend = c(\"Actual\", \"Predicted\"), col = c(\"blue\", \"#ff6f00\"), pch = 16)\n"
   ]
  }
 ],
 "metadata": {
  "kernelspec": {
   "display_name": "R",
   "language": "R",
   "name": "ir"
  },
  "language_info": {
   "codemirror_mode": "r",
   "file_extension": ".r",
   "mimetype": "text/x-r-source",
   "name": "R",
   "pygments_lexer": "r",
   "version": "4.3.1"
  }
 },
 "nbformat": 4,
 "nbformat_minor": 2
}
