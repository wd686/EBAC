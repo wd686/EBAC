{
 "cells": [
  {
   "cell_type": "code",
   "execution_count": 69,
   "metadata": {
    "vscode": {
     "languageId": "r"
    }
   },
   "outputs": [],
   "source": [
    "library(pacman)\n",
    "\n",
    "# Use pacman to load the packages\n",
    "p_load(car)\n",
    "p_load(dplyr)\n",
    "p_load(tidyverse, VIM, mice, Hmisc, \n",
    "               DMwR, naniar)\n",
    "p_load(stargazer)\n",
    "p_load(openxlsx)\n",
    "p_load(here)\n",
    "p_load(rio)\n",
    "p_load(ggplot2)\n",
    "p_load(BSDA)\n",
    "p_load(corrplot)\n",
    "p_load(caTools)\n",
    "p_load(keras)\n",
    "p_load(reticulate)\n",
    "p_load(readr)\n",
    "p_load(writexl)\n",
    "p_load(stringr)\n",
    "p_load(caTools)\n",
    "p_load(scales)\n",
    "p_load(reshape2)\n"
   ]
  },
  {
   "cell_type": "code",
   "execution_count": 8,
   "metadata": {
    "vscode": {
     "languageId": "r"
    }
   },
   "outputs": [
    {
     "name": "stderr",
     "output_type": "stream",
     "text": [
      "+ \"C:/Users/angme/anaconda3/condabin/conda.bat\" \"install\" \"--yes\" \"--prefix\" \"C:/Users/angme/anaconda3\" \"-c\" \"conda-forge\" \"tensorflow\"\n",
      "\n"
     ]
    }
   ],
   "source": [
    "py_install(\"tensorflow\")"
   ]
  },
  {
   "cell_type": "markdown",
   "metadata": {},
   "source": [
    "Import File"
   ]
  },
  {
   "cell_type": "code",
   "execution_count": null,
   "metadata": {
    "vscode": {
     "languageId": "r"
    }
   },
   "outputs": [],
   "source": [
    "data = read.csv(here(\"dataSources\", \"videoGames\", \"clean output of joined table.csv\"))\n",
    "attach(data)"
   ]
  },
  {
   "cell_type": "code",
   "execution_count": 17,
   "metadata": {
    "vscode": {
     "languageId": "r"
    }
   },
   "outputs": [
    {
     "name": "stdout",
     "output_type": "stream",
     "text": [
      "'data.frame':\t8896 obs. of  32 variables:\n",
      " $ Title                : chr  \"(c 12) Final Resistance\" \".hack Sekai no Mukou ni  Versus\" \"007 Quantum of Solace\" \"007 Quantum of Solace\" ...\n",
      " $ Platform             : chr  \"PS\" \"PS3\" \"PS2\" \"PS3\" ...\n",
      " $ Genre                : chr  \"Shooter\" \"Fighting\" \"Shooter\" \"Shooter\" ...\n",
      " $ Publisher            : chr  \"IBM\" \"IBM\" \"Activision\" \"Activision\" ...\n",
      " $ VGScore              : num  1 6 8 3 1 6 3 1 2 3 ...\n",
      " $ CriticScore          : num  6.5 10 7.8 6.6 6.4 7 6.1 2 10 7 ...\n",
      " $ UserScore            : num  4 6 4 10 1 7 8 5 3 1 ...\n",
      " $ TotalShipped         : num  8 269 81 158 240 294 210 174 21 277 ...\n",
      " $ AsianSales           : num  5.08 3 3 1.14 3 2.94 3 3.74 5.5 2.67 ...\n",
      " $ NorthAmericaSales    : num  1.1 1.86 0.17 0.43 0.51 2.3 0.3 1.98 4.74 2.37 ...\n",
      " $ JapanSales           : num  5.7 0.03 1.21 0.02 3.75 1.37 4.94 2.34 3.85 5.75 ...\n",
      " $ EuropeSales          : num  3.54 6.43 2.22 0.51 0.35 2.14 0.2 1.16 3.73 3.62 ...\n",
      " $ GlobalSales          : num  15.42 8.35 4.03 2.1 5.53 ...\n",
      " $ ProductionCost       : num  1.98 3.34 2.05 1.19 1.5 4.27 2.8 5.76 3.89 6.33 ...\n",
      " $ ReleaseYear_v1       : int  2002 2012 2008 2008 2000 2002 2000 2009 2008 2006 ...\n",
      " $ Developer            : chr  \"#N/A\" \"#N/A\" \"#N/A\" \"#N/A\" ...\n",
      " $ MultipleGenre        : chr  \"#N/A\" \"#N/A\" \"#N/A\" \"#N/A\" ...\n",
      " $ MetaScore            : chr  \"#N/A\" \"#N/A\" \"#N/A\" \"#N/A\" ...\n",
      " $ AvgUserScore         : chr  \"#N/A\" \"#N/A\" \"#N/A\" \"#N/A\" ...\n",
      " $ NoOfPlayers          : chr  \"#N/A\" \"#N/A\" \"#N/A\" \"#N/A\" ...\n",
      " $ releasedate_1986.2023: logi  NA NA NA NA NA NA ...\n",
      " $ releasedate_VGOutput : chr  \"#N/A\" \"#N/A\" \"#N/A\" \"#N/A\" ...\n",
      " $ releasedate_raw      : chr  \"\" \"\" \"\" \"\" ...\n",
      " $ ReleaseDate          : chr  \"0/1/1900\" \"0/1/1900\" \"0/1/1900\" \"0/1/1900\" ...\n",
      " $ releasedate_link     : chr  \"https://www.google.com/search?q=(c 12) Final Resistance PS release date\" \"https://www.google.com/search?q=.hack Sekai no Mukou ni  Versus PS3 release date\" \"https://www.google.com/search?q=007 Quantum of Solace PS2 release date\" \"https://www.google.com/search?q=007 Quantum of Solace PS3 release date\" ...\n",
      " $ ReleaseYear          : int  NA NA NA NA NA NA NA NA NA NA ...\n",
      " $ ReleaseMonth         : int  NA NA NA NA NA NA NA NA NA NA ...\n",
      " $ EndOfMonth           : chr  \"\" \"\" \"\" \"\" ...\n",
      " $ ReleaseQuarter       : int  NA NA NA NA NA NA NA NA NA NA ...\n",
      " $ ReleaseWeekDay       : int  NA NA NA NA NA NA NA NA NA NA ...\n",
      " $ ReleaseWeekend       : chr  \"\" \"\" \"\" \"\" ...\n",
      " $ ReleaseWeek          : int  NA NA NA NA NA NA NA NA NA NA ...\n"
     ]
    },
    {
     "data": {
      "text/plain": [
       "    Title             Platform            Genre            Publisher        \n",
       " Length:8896        Length:8896        Length:8896        Length:8896       \n",
       " Class :character   Class :character   Class :character   Class :character  \n",
       " Mode  :character   Mode  :character   Mode  :character   Mode  :character  \n",
       "                                                                            \n",
       "                                                                            \n",
       "                                                                            \n",
       "                                                                            \n",
       "    VGScore        CriticScore      UserScore       TotalShipped   \n",
       " Min.   : 1.000   Min.   : 1.00   Min.   : 1.000   Min.   :  0.07  \n",
       " 1st Qu.: 4.000   1st Qu.: 3.00   1st Qu.: 3.000   1st Qu.: 67.00  \n",
       " Median : 6.000   Median : 6.00   Median : 5.000   Median :146.00  \n",
       " Mean   : 6.121   Mean   : 5.71   Mean   : 5.502   Mean   :145.25  \n",
       " 3rd Qu.: 8.500   3rd Qu.: 8.00   3rd Qu.: 8.000   3rd Qu.:224.00  \n",
       " Max.   :10.000   Max.   :10.00   Max.   :10.000   Max.   :300.00  \n",
       "                                                                   \n",
       "   AsianSales     NorthAmericaSales   JapanSales     EuropeSales   \n",
       " Min.   : 1.000   Min.   :0.010     Min.   :0.010   Min.   :0.010  \n",
       " 1st Qu.: 3.000   1st Qu.:0.640     1st Qu.:1.690   1st Qu.:1.040  \n",
       " Median : 3.000   Median :2.440     Median :3.100   Median :3.025  \n",
       " Mean   : 3.877   Mean   :2.591     Mean   :3.065   Mean   :3.037  \n",
       " 3rd Qu.: 5.140   3rd Qu.:4.060     3rd Qu.:4.590   3rd Qu.:5.000  \n",
       " Max.   :13.800   Max.   :8.000     Max.   :6.000   Max.   :7.000  \n",
       "                                                                   \n",
       "  GlobalSales    ProductionCost  ReleaseYear_v1  Developer        \n",
       " Min.   : 0.09   Min.   :0.010   Min.   :2000   Length:8896       \n",
       " 1st Qu.: 6.34   1st Qu.:2.160   1st Qu.:2004   Class :character  \n",
       " Median :12.20   Median :3.440   Median :2007   Mode  :character  \n",
       " Mean   :11.59   Mean   :3.565   Mean   :2008                     \n",
       " 3rd Qu.:16.23   3rd Qu.:4.950   3rd Qu.:2010                     \n",
       " Max.   :27.08   Max.   :8.000   Max.   :2020                     \n",
       "                                                                  \n",
       " MultipleGenre       MetaScore         AvgUserScore       NoOfPlayers       \n",
       " Length:8896        Length:8896        Length:8896        Length:8896       \n",
       " Class :character   Class :character   Class :character   Class :character  \n",
       " Mode  :character   Mode  :character   Mode  :character   Mode  :character  \n",
       "                                                                            \n",
       "                                                                            \n",
       "                                                                            \n",
       "                                                                            \n",
       " releasedate_1986.2023 releasedate_VGOutput releasedate_raw   \n",
       " Mode:logical          Length:8896          Length:8896       \n",
       " NA's:8896             Class :character     Class :character  \n",
       "                       Mode  :character     Mode  :character  \n",
       "                                                              \n",
       "                                                              \n",
       "                                                              \n",
       "                                                              \n",
       " ReleaseDate        releasedate_link    ReleaseYear    ReleaseMonth   \n",
       " Length:8896        Length:8896        Min.   :1900   Min.   : 1.000  \n",
       " Class :character   Class :character   1st Qu.:2003   1st Qu.: 4.000  \n",
       " Mode  :character   Mode  :character   Median :2006   Median : 8.000  \n",
       "                                       Mean   :2007   Mean   : 7.172  \n",
       "                                       3rd Qu.:2010   3rd Qu.:10.000  \n",
       "                                       Max.   :2019   Max.   :12.000  \n",
       "                                       NA's   :8070   NA's   :8070    \n",
       "  EndOfMonth        ReleaseQuarter  ReleaseWeekDay  ReleaseWeekend    \n",
       " Length:8896        Min.   :1.000   Min.   :1.000   Length:8896       \n",
       " Class :character   1st Qu.:2.000   1st Qu.:2.000   Class :character  \n",
       " Mode  :character   Median :3.000   Median :2.000   Mode  :character  \n",
       "                    Mean   :2.711   Mean   :2.636                     \n",
       "                    3rd Qu.:4.000   3rd Qu.:4.000                     \n",
       "                    Max.   :4.000   Max.   :7.000                     \n",
       "                    NA's   :8070    NA's   :8070                      \n",
       "  ReleaseWeek   \n",
       " Min.   : 0.00  \n",
       " 1st Qu.:16.00  \n",
       " Median :35.00  \n",
       " Mean   :29.94  \n",
       " 3rd Qu.:43.00  \n",
       " Max.   :52.00  \n",
       " NA's   :8070   "
      ]
     },
     "metadata": {},
     "output_type": "display_data"
    },
    {
     "data": {
      "text/html": [
       "<style>\n",
       ".list-inline {list-style: none; margin:0; padding: 0}\n",
       ".list-inline>li {display: inline-block}\n",
       ".list-inline>li:not(:last-child)::after {content: \"\\00b7\"; padding: 0 .5ex}\n",
       "</style>\n",
       "<ol class=list-inline><li>'Title'</li><li>'Platform'</li><li>'Genre'</li><li>'Publisher'</li><li>'VGScore'</li><li>'CriticScore'</li><li>'UserScore'</li><li>'TotalShipped'</li><li>'AsianSales'</li><li>'NorthAmericaSales'</li><li>'JapanSales'</li><li>'EuropeSales'</li><li>'GlobalSales'</li><li>'ProductionCost'</li><li>'ReleaseYear_v1'</li><li>'Developer'</li><li>'MultipleGenre'</li><li>'MetaScore'</li><li>'AvgUserScore'</li><li>'NoOfPlayers'</li><li>'releasedate_1986.2023'</li><li>'releasedate_VGOutput'</li><li>'releasedate_raw'</li><li>'ReleaseDate'</li><li>'releasedate_link'</li><li>'ReleaseYear'</li><li>'ReleaseMonth'</li><li>'EndOfMonth'</li><li>'ReleaseQuarter'</li><li>'ReleaseWeekDay'</li><li>'ReleaseWeekend'</li><li>'ReleaseWeek'</li></ol>\n"
      ],
      "text/latex": [
       "\\begin{enumerate*}\n",
       "\\item 'Title'\n",
       "\\item 'Platform'\n",
       "\\item 'Genre'\n",
       "\\item 'Publisher'\n",
       "\\item 'VGScore'\n",
       "\\item 'CriticScore'\n",
       "\\item 'UserScore'\n",
       "\\item 'TotalShipped'\n",
       "\\item 'AsianSales'\n",
       "\\item 'NorthAmericaSales'\n",
       "\\item 'JapanSales'\n",
       "\\item 'EuropeSales'\n",
       "\\item 'GlobalSales'\n",
       "\\item 'ProductionCost'\n",
       "\\item 'ReleaseYear\\_v1'\n",
       "\\item 'Developer'\n",
       "\\item 'MultipleGenre'\n",
       "\\item 'MetaScore'\n",
       "\\item 'AvgUserScore'\n",
       "\\item 'NoOfPlayers'\n",
       "\\item 'releasedate\\_1986.2023'\n",
       "\\item 'releasedate\\_VGOutput'\n",
       "\\item 'releasedate\\_raw'\n",
       "\\item 'ReleaseDate'\n",
       "\\item 'releasedate\\_link'\n",
       "\\item 'ReleaseYear'\n",
       "\\item 'ReleaseMonth'\n",
       "\\item 'EndOfMonth'\n",
       "\\item 'ReleaseQuarter'\n",
       "\\item 'ReleaseWeekDay'\n",
       "\\item 'ReleaseWeekend'\n",
       "\\item 'ReleaseWeek'\n",
       "\\end{enumerate*}\n"
      ],
      "text/markdown": [
       "1. 'Title'\n",
       "2. 'Platform'\n",
       "3. 'Genre'\n",
       "4. 'Publisher'\n",
       "5. 'VGScore'\n",
       "6. 'CriticScore'\n",
       "7. 'UserScore'\n",
       "8. 'TotalShipped'\n",
       "9. 'AsianSales'\n",
       "10. 'NorthAmericaSales'\n",
       "11. 'JapanSales'\n",
       "12. 'EuropeSales'\n",
       "13. 'GlobalSales'\n",
       "14. 'ProductionCost'\n",
       "15. 'ReleaseYear_v1'\n",
       "16. 'Developer'\n",
       "17. 'MultipleGenre'\n",
       "18. 'MetaScore'\n",
       "19. 'AvgUserScore'\n",
       "20. 'NoOfPlayers'\n",
       "21. 'releasedate_1986.2023'\n",
       "22. 'releasedate_VGOutput'\n",
       "23. 'releasedate_raw'\n",
       "24. 'ReleaseDate'\n",
       "25. 'releasedate_link'\n",
       "26. 'ReleaseYear'\n",
       "27. 'ReleaseMonth'\n",
       "28. 'EndOfMonth'\n",
       "29. 'ReleaseQuarter'\n",
       "30. 'ReleaseWeekDay'\n",
       "31. 'ReleaseWeekend'\n",
       "32. 'ReleaseWeek'\n",
       "\n",
       "\n"
      ],
      "text/plain": [
       " [1] \"Title\"                 \"Platform\"              \"Genre\"                \n",
       " [4] \"Publisher\"             \"VGScore\"               \"CriticScore\"          \n",
       " [7] \"UserScore\"             \"TotalShipped\"          \"AsianSales\"           \n",
       "[10] \"NorthAmericaSales\"     \"JapanSales\"            \"EuropeSales\"          \n",
       "[13] \"GlobalSales\"           \"ProductionCost\"        \"ReleaseYear_v1\"       \n",
       "[16] \"Developer\"             \"MultipleGenre\"         \"MetaScore\"            \n",
       "[19] \"AvgUserScore\"          \"NoOfPlayers\"           \"releasedate_1986.2023\"\n",
       "[22] \"releasedate_VGOutput\"  \"releasedate_raw\"       \"ReleaseDate\"          \n",
       "[25] \"releasedate_link\"      \"ReleaseYear\"           \"ReleaseMonth\"         \n",
       "[28] \"EndOfMonth\"            \"ReleaseQuarter\"        \"ReleaseWeekDay\"       \n",
       "[31] \"ReleaseWeekend\"        \"ReleaseWeek\"          "
      ]
     },
     "metadata": {},
     "output_type": "display_data"
    },
    {
     "data": {
      "text/html": [
       "<table class=\"dataframe\">\n",
       "<caption>A data.frame: 5 × 32</caption>\n",
       "<thead>\n",
       "\t<tr><th></th><th scope=col>Title</th><th scope=col>Platform</th><th scope=col>Genre</th><th scope=col>Publisher</th><th scope=col>VGScore</th><th scope=col>CriticScore</th><th scope=col>UserScore</th><th scope=col>TotalShipped</th><th scope=col>AsianSales</th><th scope=col>NorthAmericaSales</th><th scope=col>⋯</th><th scope=col>releasedate_raw</th><th scope=col>ReleaseDate</th><th scope=col>releasedate_link</th><th scope=col>ReleaseYear</th><th scope=col>ReleaseMonth</th><th scope=col>EndOfMonth</th><th scope=col>ReleaseQuarter</th><th scope=col>ReleaseWeekDay</th><th scope=col>ReleaseWeekend</th><th scope=col>ReleaseWeek</th></tr>\n",
       "\t<tr><th></th><th scope=col>&lt;chr&gt;</th><th scope=col>&lt;chr&gt;</th><th scope=col>&lt;chr&gt;</th><th scope=col>&lt;chr&gt;</th><th scope=col>&lt;dbl&gt;</th><th scope=col>&lt;dbl&gt;</th><th scope=col>&lt;dbl&gt;</th><th scope=col>&lt;dbl&gt;</th><th scope=col>&lt;dbl&gt;</th><th scope=col>&lt;dbl&gt;</th><th scope=col>⋯</th><th scope=col>&lt;chr&gt;</th><th scope=col>&lt;chr&gt;</th><th scope=col>&lt;chr&gt;</th><th scope=col>&lt;int&gt;</th><th scope=col>&lt;int&gt;</th><th scope=col>&lt;chr&gt;</th><th scope=col>&lt;int&gt;</th><th scope=col>&lt;int&gt;</th><th scope=col>&lt;chr&gt;</th><th scope=col>&lt;int&gt;</th></tr>\n",
       "</thead>\n",
       "<tbody>\n",
       "\t<tr><th scope=row>1</th><td>(c 12) Final Resistance        </td><td>PS </td><td>Shooter </td><td>IBM            </td><td>1</td><td> 6.5</td><td> 4</td><td>  8</td><td>5.08</td><td>1.10</td><td>⋯</td><td></td><td>0/1/1900</td><td>https://www.google.com/search?q=(c 12) Final Resistance PS release date         </td><td>NA</td><td>NA</td><td></td><td>NA</td><td>NA</td><td></td><td>NA</td></tr>\n",
       "\t<tr><th scope=row>2</th><td>.hack Sekai no Mukou ni  Versus</td><td>PS3</td><td>Fighting</td><td>IBM            </td><td>6</td><td>10.0</td><td> 6</td><td>269</td><td>3.00</td><td>1.86</td><td>⋯</td><td></td><td>0/1/1900</td><td>https://www.google.com/search?q=.hack Sekai no Mukou ni  Versus PS3 release date</td><td>NA</td><td>NA</td><td></td><td>NA</td><td>NA</td><td></td><td>NA</td></tr>\n",
       "\t<tr><th scope=row>3</th><td>007 Quantum of Solace          </td><td>PS2</td><td>Shooter </td><td>Activision     </td><td>8</td><td> 7.8</td><td> 4</td><td> 81</td><td>3.00</td><td>0.17</td><td>⋯</td><td></td><td>0/1/1900</td><td>https://www.google.com/search?q=007 Quantum of Solace PS2 release date          </td><td>NA</td><td>NA</td><td></td><td>NA</td><td>NA</td><td></td><td>NA</td></tr>\n",
       "\t<tr><th scope=row>4</th><td>007 Quantum of Solace          </td><td>PS3</td><td>Shooter </td><td>Activision     </td><td>3</td><td> 6.6</td><td>10</td><td>158</td><td>1.14</td><td>0.43</td><td>⋯</td><td></td><td>0/1/1900</td><td>https://www.google.com/search?q=007 Quantum of Solace PS3 release date          </td><td>NA</td><td>NA</td><td></td><td>NA</td><td>NA</td><td></td><td>NA</td></tr>\n",
       "\t<tr><th scope=row>5</th><td>007 The World is not Enough    </td><td>PS </td><td>Shooter </td><td>Electronic Arts</td><td>1</td><td> 6.4</td><td> 1</td><td>240</td><td>3.00</td><td>0.51</td><td>⋯</td><td></td><td>0/1/1900</td><td>https://www.google.com/search?q=007 The World is not Enough PS release date     </td><td>NA</td><td>NA</td><td></td><td>NA</td><td>NA</td><td></td><td>NA</td></tr>\n",
       "</tbody>\n",
       "</table>\n"
      ],
      "text/latex": [
       "A data.frame: 5 × 32\n",
       "\\begin{tabular}{r|lllllllllllllllllllll}\n",
       "  & Title & Platform & Genre & Publisher & VGScore & CriticScore & UserScore & TotalShipped & AsianSales & NorthAmericaSales & ⋯ & releasedate\\_raw & ReleaseDate & releasedate\\_link & ReleaseYear & ReleaseMonth & EndOfMonth & ReleaseQuarter & ReleaseWeekDay & ReleaseWeekend & ReleaseWeek\\\\\n",
       "  & <chr> & <chr> & <chr> & <chr> & <dbl> & <dbl> & <dbl> & <dbl> & <dbl> & <dbl> & ⋯ & <chr> & <chr> & <chr> & <int> & <int> & <chr> & <int> & <int> & <chr> & <int>\\\\\n",
       "\\hline\n",
       "\t1 & (c 12) Final Resistance         & PS  & Shooter  & IBM             & 1 &  6.5 &  4 &   8 & 5.08 & 1.10 & ⋯ &  & 0/1/1900 & https://www.google.com/search?q=(c 12) Final Resistance PS release date          & NA & NA &  & NA & NA &  & NA\\\\\n",
       "\t2 & .hack Sekai no Mukou ni  Versus & PS3 & Fighting & IBM             & 6 & 10.0 &  6 & 269 & 3.00 & 1.86 & ⋯ &  & 0/1/1900 & https://www.google.com/search?q=.hack Sekai no Mukou ni  Versus PS3 release date & NA & NA &  & NA & NA &  & NA\\\\\n",
       "\t3 & 007 Quantum of Solace           & PS2 & Shooter  & Activision      & 8 &  7.8 &  4 &  81 & 3.00 & 0.17 & ⋯ &  & 0/1/1900 & https://www.google.com/search?q=007 Quantum of Solace PS2 release date           & NA & NA &  & NA & NA &  & NA\\\\\n",
       "\t4 & 007 Quantum of Solace           & PS3 & Shooter  & Activision      & 3 &  6.6 & 10 & 158 & 1.14 & 0.43 & ⋯ &  & 0/1/1900 & https://www.google.com/search?q=007 Quantum of Solace PS3 release date           & NA & NA &  & NA & NA &  & NA\\\\\n",
       "\t5 & 007 The World is not Enough     & PS  & Shooter  & Electronic Arts & 1 &  6.4 &  1 & 240 & 3.00 & 0.51 & ⋯ &  & 0/1/1900 & https://www.google.com/search?q=007 The World is not Enough PS release date      & NA & NA &  & NA & NA &  & NA\\\\\n",
       "\\end{tabular}\n"
      ],
      "text/markdown": [
       "\n",
       "A data.frame: 5 × 32\n",
       "\n",
       "| <!--/--> | Title &lt;chr&gt; | Platform &lt;chr&gt; | Genre &lt;chr&gt; | Publisher &lt;chr&gt; | VGScore &lt;dbl&gt; | CriticScore &lt;dbl&gt; | UserScore &lt;dbl&gt; | TotalShipped &lt;dbl&gt; | AsianSales &lt;dbl&gt; | NorthAmericaSales &lt;dbl&gt; | ⋯ ⋯ | releasedate_raw &lt;chr&gt; | ReleaseDate &lt;chr&gt; | releasedate_link &lt;chr&gt; | ReleaseYear &lt;int&gt; | ReleaseMonth &lt;int&gt; | EndOfMonth &lt;chr&gt; | ReleaseQuarter &lt;int&gt; | ReleaseWeekDay &lt;int&gt; | ReleaseWeekend &lt;chr&gt; | ReleaseWeek &lt;int&gt; |\n",
       "|---|---|---|---|---|---|---|---|---|---|---|---|---|---|---|---|---|---|---|---|---|---|\n",
       "| 1 | (c 12) Final Resistance         | PS  | Shooter  | IBM             | 1 |  6.5 |  4 |   8 | 5.08 | 1.10 | ⋯ | <!----> | 0/1/1900 | https://www.google.com/search?q=(c 12) Final Resistance PS release date          | NA | NA | <!----> | NA | NA | <!----> | NA |\n",
       "| 2 | .hack Sekai no Mukou ni  Versus | PS3 | Fighting | IBM             | 6 | 10.0 |  6 | 269 | 3.00 | 1.86 | ⋯ | <!----> | 0/1/1900 | https://www.google.com/search?q=.hack Sekai no Mukou ni  Versus PS3 release date | NA | NA | <!----> | NA | NA | <!----> | NA |\n",
       "| 3 | 007 Quantum of Solace           | PS2 | Shooter  | Activision      | 8 |  7.8 |  4 |  81 | 3.00 | 0.17 | ⋯ | <!----> | 0/1/1900 | https://www.google.com/search?q=007 Quantum of Solace PS2 release date           | NA | NA | <!----> | NA | NA | <!----> | NA |\n",
       "| 4 | 007 Quantum of Solace           | PS3 | Shooter  | Activision      | 3 |  6.6 | 10 | 158 | 1.14 | 0.43 | ⋯ | <!----> | 0/1/1900 | https://www.google.com/search?q=007 Quantum of Solace PS3 release date           | NA | NA | <!----> | NA | NA | <!----> | NA |\n",
       "| 5 | 007 The World is not Enough     | PS  | Shooter  | Electronic Arts | 1 |  6.4 |  1 | 240 | 3.00 | 0.51 | ⋯ | <!----> | 0/1/1900 | https://www.google.com/search?q=007 The World is not Enough PS release date      | NA | NA | <!----> | NA | NA | <!----> | NA |\n",
       "\n"
      ],
      "text/plain": [
       "  Title                           Platform Genre    Publisher       VGScore\n",
       "1 (c 12) Final Resistance         PS       Shooter  IBM             1      \n",
       "2 .hack Sekai no Mukou ni  Versus PS3      Fighting IBM             6      \n",
       "3 007 Quantum of Solace           PS2      Shooter  Activision      8      \n",
       "4 007 Quantum of Solace           PS3      Shooter  Activision      3      \n",
       "5 007 The World is not Enough     PS       Shooter  Electronic Arts 1      \n",
       "  CriticScore UserScore TotalShipped AsianSales NorthAmericaSales ⋯\n",
       "1  6.5         4          8          5.08       1.10              ⋯\n",
       "2 10.0         6        269          3.00       1.86              ⋯\n",
       "3  7.8         4         81          3.00       0.17              ⋯\n",
       "4  6.6        10        158          1.14       0.43              ⋯\n",
       "5  6.4         1        240          3.00       0.51              ⋯\n",
       "  releasedate_raw ReleaseDate\n",
       "1                 0/1/1900   \n",
       "2                 0/1/1900   \n",
       "3                 0/1/1900   \n",
       "4                 0/1/1900   \n",
       "5                 0/1/1900   \n",
       "  releasedate_link                                                                \n",
       "1 https://www.google.com/search?q=(c 12) Final Resistance PS release date         \n",
       "2 https://www.google.com/search?q=.hack Sekai no Mukou ni  Versus PS3 release date\n",
       "3 https://www.google.com/search?q=007 Quantum of Solace PS2 release date          \n",
       "4 https://www.google.com/search?q=007 Quantum of Solace PS3 release date          \n",
       "5 https://www.google.com/search?q=007 The World is not Enough PS release date     \n",
       "  ReleaseYear ReleaseMonth EndOfMonth ReleaseQuarter ReleaseWeekDay\n",
       "1 NA          NA                      NA             NA            \n",
       "2 NA          NA                      NA             NA            \n",
       "3 NA          NA                      NA             NA            \n",
       "4 NA          NA                      NA             NA            \n",
       "5 NA          NA                      NA             NA            \n",
       "  ReleaseWeekend ReleaseWeek\n",
       "1                NA         \n",
       "2                NA         \n",
       "3                NA         \n",
       "4                NA         \n",
       "5                NA         "
      ]
     },
     "metadata": {},
     "output_type": "display_data"
    }
   ],
   "source": [
    "# Check the data\n",
    "str(data)\n",
    "summary(data)\n",
    "names(data)\n",
    "head(data, 5)"
   ]
  },
  {
   "cell_type": "code",
   "execution_count": 18,
   "metadata": {
    "vscode": {
     "languageId": "r"
    }
   },
   "outputs": [],
   "source": [
    "########################################################\n",
    "# drop empty values\n",
    "\n",
    "data <- subset(data, !(Developer %in% c(\"$ Developer\", \"#N/A\")))"
   ]
  },
  {
   "cell_type": "code",
   "execution_count": 19,
   "metadata": {
    "vscode": {
     "languageId": "r"
    }
   },
   "outputs": [
    {
     "name": "stdout",
     "output_type": "stream",
     "text": [
      "'data.frame':\t826 obs. of  32 variables:\n",
      " $ Title                : chr  \"1701 A.D.\" \"2002 FIFA World Cup\" \"2010 FIFA World Cup South Africa\" \"ABZU\" ...\n",
      " $ Platform             : chr  \"PC\" \"PC\" \"PS3\" \"PC\" ...\n",
      " $ Genre                : chr  \"Simulation\" \"Sports\" \"Sports\" \"Adventure\" ...\n",
      " $ Publisher            : chr  \"Sony Computer Entertainment\" \"Sony Computer Entertainment\" \"Ubisoft\" \"Activision\" ...\n",
      " $ VGScore              : num  8 2 7 9 8 6 8 10 3 5 ...\n",
      " $ CriticScore          : num  7.7 6 8.2 8 7 8.7 7 4 4 8.2 ...\n",
      " $ UserScore            : num  5 7 9 9 7 10 3 8 8 2 ...\n",
      " $ TotalShipped         : num  1 277 53 0.58 117 117 59 189 296 275 ...\n",
      " $ AsianSales           : num  7.05 3.77 1.23 6.83 3 3 3 1.09 3 7.34 ...\n",
      " $ NorthAmericaSales    : num  4.74 3.55 0.3 1.6 0.03 0.17 0.25 0.29 0.05 4.4 ...\n",
      " $ JapanSales           : num  5.85 1.03 0.07 2.48 4.98 3.56 2.9 0.05 5.03 3.43 ...\n",
      " $ EuropeSales          : num  2.3 3.58 0.64 5.48 3.98 0.13 0.18 0.59 0.04 4.6 ...\n",
      " $ GlobalSales          : num  19.94 11.93 2.24 16.39 9.03 ...\n",
      " $ ProductionCost       : num  6.96 6.06 4.24 3.75 3.24 3.21 0.03 2.61 2.58 2.07 ...\n",
      " $ ReleaseYear_v1       : int  2006 2002 2010 2016 2017 2002 2010 2014 2004 2001 ...\n",
      " $ Developer            : chr  \"RelatedDesigns\" \"EASports\" \"EACanada\" \"GiantSquid\" ...\n",
      " $ MultipleGenre        : chr  \"Strategy;Real-Time;Historic;General;Historic\" \"Sports;Traditional;Team;Soccer;Sim;Sim\" \"Sports;Traditional;Team;Soccer;Sim;Sim\" \"Action Adventure;Adventure;General;3D;Third-Person\" ...\n",
      " $ MetaScore            : chr  \"79\" \"80\" \"82\" \"83\" ...\n",
      " $ AvgUserScore         : chr  \"8.4\" \"8\" \"7.8\" \"6.9\" ...\n",
      " $ NoOfPlayers          : chr  \"1 to 4\" \"Mutliplayer\" \"1\" \"1\" ...\n",
      " $ releasedate_1986.2023: logi  NA NA NA NA NA NA ...\n",
      " $ releasedate_VGOutput : chr  \"#N/A\" \"#N/A\" \"#N/A\" \"#N/A\" ...\n",
      " $ releasedate_raw      : chr  \"October 26 2006\" \"26/4/2002\" \"April 27 2010\" \"August 2 2016\" ...\n",
      " $ ReleaseDate          : chr  \"26/10/2006\" \"26/4/2002\" \"27/4/2010\" \"2/8/2016\" ...\n",
      " $ releasedate_link     : chr  \"https://www.google.com/search?q=1701 A.D. PC release date\" \"https://www.google.com/search?q=2002 FIFA World Cup PC release date\" \"https://www.google.com/search?q=2010 FIFA World Cup South Africa PS3 release date\" \"https://www.google.com/search?q=ABZU PC release date\" ...\n",
      " $ ReleaseYear          : int  2006 2002 2010 2016 2016 2002 2010 2014 2004 2001 ...\n",
      " $ ReleaseMonth         : int  10 4 4 8 8 5 3 10 11 10 ...\n",
      " $ EndOfMonth           : chr  \"Yes\" \"Yes\" \"Yes\" \"No\" ...\n",
      " $ ReleaseQuarter       : int  4 2 2 3 3 2 1 4 4 4 ...\n",
      " $ ReleaseWeekDay       : int  4 5 2 2 2 2 2 1 7 1 ...\n",
      " $ ReleaseWeekend       : chr  \"Weekday\" \"Weekday\" \"Weekday\" \"Weekday\" ...\n",
      " $ ReleaseWeek          : int  43 17 18 32 32 22 10 41 48 43 ...\n"
     ]
    },
    {
     "data": {
      "text/plain": [
       "    Title             Platform            Genre            Publisher        \n",
       " Length:826         Length:826         Length:826         Length:826        \n",
       " Class :character   Class :character   Class :character   Class :character  \n",
       " Mode  :character   Mode  :character   Mode  :character   Mode  :character  \n",
       "                                                                            \n",
       "                                                                            \n",
       "                                                                            \n",
       "    VGScore        CriticScore       UserScore       TotalShipped  \n",
       " Min.   : 1.000   Min.   : 1.000   Min.   : 1.000   Min.   :  0.1  \n",
       " 1st Qu.: 4.000   1st Qu.: 4.000   1st Qu.: 3.000   1st Qu.: 53.0  \n",
       " Median : 7.000   Median : 8.000   Median : 5.000   Median :134.0  \n",
       " Mean   : 6.277   Mean   : 6.623   Mean   : 5.428   Mean   :139.4  \n",
       " 3rd Qu.: 8.600   3rd Qu.: 8.700   3rd Qu.: 8.000   3rd Qu.:223.5  \n",
       " Max.   :10.000   Max.   :10.000   Max.   :10.000   Max.   :300.0  \n",
       "   AsianSales     NorthAmericaSales   JapanSales     EuropeSales   \n",
       " Min.   : 1.000   Min.   :0.010     Min.   :0.010   Min.   :0.010  \n",
       " 1st Qu.: 2.560   1st Qu.:0.300     1st Qu.:1.230   1st Qu.:0.120  \n",
       " Median : 3.000   Median :1.310     Median :2.780   Median :0.615  \n",
       " Mean   : 3.355   Mean   :1.980     Mean   :2.760   Mean   :1.760  \n",
       " 3rd Qu.: 3.558   3rd Qu.:3.237     3rd Qu.:4.348   3rd Qu.:3.185  \n",
       " Max.   :13.800   Max.   :7.910     Max.   :5.990   Max.   :6.990  \n",
       "  GlobalSales     ProductionCost  ReleaseYear_v1  Developer        \n",
       " Min.   : 0.090   Min.   :0.010   Min.   :2000   Length:826        \n",
       " 1st Qu.: 3.960   1st Qu.:2.230   1st Qu.:2003   Class :character  \n",
       " Median : 7.015   Median :3.400   Median :2006   Mode  :character  \n",
       " Mean   : 8.762   Mean   :3.553   Mean   :2007                     \n",
       " 3rd Qu.:13.300   3rd Qu.:4.860   3rd Qu.:2010                     \n",
       " Max.   :25.660   Max.   :7.840   Max.   :2019                     \n",
       " MultipleGenre       MetaScore         AvgUserScore       NoOfPlayers       \n",
       " Length:826         Length:826         Length:826         Length:826        \n",
       " Class :character   Class :character   Class :character   Class :character  \n",
       " Mode  :character   Mode  :character   Mode  :character   Mode  :character  \n",
       "                                                                            \n",
       "                                                                            \n",
       "                                                                            \n",
       " releasedate_1986.2023 releasedate_VGOutput releasedate_raw   \n",
       " Mode:logical          Length:826           Length:826        \n",
       " NA's:826              Class :character     Class :character  \n",
       "                       Mode  :character     Mode  :character  \n",
       "                                                              \n",
       "                                                              \n",
       "                                                              \n",
       " ReleaseDate        releasedate_link    ReleaseYear    ReleaseMonth   \n",
       " Length:826         Length:826         Min.   :1900   Min.   : 1.000  \n",
       " Class :character   Class :character   1st Qu.:2003   1st Qu.: 4.000  \n",
       " Mode  :character   Mode  :character   Median :2006   Median : 8.000  \n",
       "                                       Mean   :2007   Mean   : 7.172  \n",
       "                                       3rd Qu.:2010   3rd Qu.:10.000  \n",
       "                                       Max.   :2019   Max.   :12.000  \n",
       "  EndOfMonth        ReleaseQuarter  ReleaseWeekDay  ReleaseWeekend    \n",
       " Length:826         Min.   :1.000   Min.   :1.000   Length:826        \n",
       " Class :character   1st Qu.:2.000   1st Qu.:2.000   Class :character  \n",
       " Mode  :character   Median :3.000   Median :2.000   Mode  :character  \n",
       "                    Mean   :2.711   Mean   :2.636                     \n",
       "                    3rd Qu.:4.000   3rd Qu.:4.000                     \n",
       "                    Max.   :4.000   Max.   :7.000                     \n",
       "  ReleaseWeek   \n",
       " Min.   : 0.00  \n",
       " 1st Qu.:16.00  \n",
       " Median :35.00  \n",
       " Mean   :29.94  \n",
       " 3rd Qu.:43.00  \n",
       " Max.   :52.00  "
      ]
     },
     "metadata": {},
     "output_type": "display_data"
    }
   ],
   "source": [
    "# Check the data\n",
    "str(data)\n",
    "summary(data)"
   ]
  },
  {
   "cell_type": "code",
   "execution_count": 20,
   "metadata": {
    "vscode": {
     "languageId": "r"
    }
   },
   "outputs": [
    {
     "name": "stderr",
     "output_type": "stream",
     "text": [
      "Warning message:\n",
      "\"\u001b[1m\u001b[22mThere was 1 warning in `mutate()`.\n",
      "\u001b[1m\u001b[22m\u001b[36mℹ\u001b[39m In argument: `AvgUserScore = as.numeric(AvgUserScore)`.\n",
      "Caused by warning:\n",
      "\u001b[33m!\u001b[39m NAs introduced by coercion\"\n"
     ]
    }
   ],
   "source": [
    "########################################################\n",
    "# data type\n",
    "# set the variables to factors (categorical data)\n",
    "data <- data %>%\n",
    "  mutate(\n",
    "    Platform = as.factor(Platform),\n",
    "    Genre = as.factor(Genre),\n",
    "    Publisher = as.factor(Publisher),\n",
    "    Developer = as.factor(Developer),\n",
    "    NoOfPlayers = as.factor(NoOfPlayers),\n",
    "    ReleaseWeekend = as.factor(ReleaseWeekend),\n",
    "    EndOfMonth = as.factor(EndOfMonth),\n",
    "    ReleaseWeekend = as.numeric(ReleaseWeekend),\n",
    "    MetaScore = as.numeric(MetaScore),\n",
    "    AvgUserScore = as.numeric (AvgUserScore),\n",
    "    ReleaseDate = as.Date(ReleaseDate)  \n",
    "  )\n",
    "\n",
    "data ['releasedate_1986.2023'] = NULL\n",
    "data ['releasedate_VGOutput'] = NULL\n",
    "data ['releasedate_raw'] = NULL\n",
    "data ['releasedate_link'] = NULL"
   ]
  },
  {
   "cell_type": "code",
   "execution_count": 21,
   "metadata": {
    "vscode": {
     "languageId": "r"
    }
   },
   "outputs": [
    {
     "data": {
      "text/html": [
       "TRUE"
      ],
      "text/latex": [
       "TRUE"
      ],
      "text/markdown": [
       "TRUE"
      ],
      "text/plain": [
       "[1] TRUE"
      ]
     },
     "metadata": {},
     "output_type": "display_data"
    },
    {
     "data": {
      "text/html": [
       "<style>\n",
       ".list-inline {list-style: none; margin:0; padding: 0}\n",
       ".list-inline>li {display: inline-block}\n",
       ".list-inline>li:not(:last-child)::after {content: \"\\00b7\"; padding: 0 .5ex}\n",
       "</style>\n",
       "<ol class=list-inline><li>7</li><li>16</li><li>315</li><li>427</li><li>505</li><li>603</li><li>674</li><li>734</li></ol>\n"
      ],
      "text/latex": [
       "\\begin{enumerate*}\n",
       "\\item 7\n",
       "\\item 16\n",
       "\\item 315\n",
       "\\item 427\n",
       "\\item 505\n",
       "\\item 603\n",
       "\\item 674\n",
       "\\item 734\n",
       "\\end{enumerate*}\n"
      ],
      "text/markdown": [
       "1. 7\n",
       "2. 16\n",
       "3. 315\n",
       "4. 427\n",
       "5. 505\n",
       "6. 603\n",
       "7. 674\n",
       "8. 734\n",
       "\n",
       "\n"
      ],
      "text/plain": [
       "[1]   7  16 315 427 505 603 674 734"
      ]
     },
     "metadata": {},
     "output_type": "display_data"
    }
   ],
   "source": [
    "has_NA <- any(is.na(data$AvgUserScore))\n",
    "has_NA\n",
    "\n",
    "rows_with_NA <- which(is.na(data$AvgUserScore))\n",
    "rows_with_NA"
   ]
  },
  {
   "cell_type": "code",
   "execution_count": 22,
   "metadata": {
    "vscode": {
     "languageId": "r"
    }
   },
   "outputs": [
    {
     "data": {
      "text/html": [
       "<table class=\"dataframe\">\n",
       "<caption>A matrix: 3 × 29 of type dbl</caption>\n",
       "<thead>\n",
       "\t<tr><th></th><th scope=col>Title</th><th scope=col>Platform</th><th scope=col>Genre</th><th scope=col>Publisher</th><th scope=col>VGScore</th><th scope=col>CriticScore</th><th scope=col>UserScore</th><th scope=col>TotalShipped</th><th scope=col>AsianSales</th><th scope=col>NorthAmericaSales</th><th scope=col>⋯</th><th scope=col>ReleaseDate</th><th scope=col>ReleaseYear</th><th scope=col>ReleaseMonth</th><th scope=col>EndOfMonth</th><th scope=col>ReleaseQuarter</th><th scope=col>ReleaseWeekDay</th><th scope=col>ReleaseWeekend</th><th scope=col>ReleaseWeek</th><th scope=col>AvgUserScore</th><th scope=col></th></tr>\n",
       "</thead>\n",
       "<tbody>\n",
       "\t<tr><th scope=row>818</th><td>1</td><td>1</td><td>1</td><td>1</td><td>1</td><td>1</td><td>1</td><td>1</td><td>1</td><td>1</td><td>⋯</td><td>1</td><td>1</td><td>1</td><td>1</td><td>1</td><td>1</td><td>1</td><td>1</td><td>1</td><td>0</td></tr>\n",
       "\t<tr><th scope=row>8</th><td>1</td><td>1</td><td>1</td><td>1</td><td>1</td><td>1</td><td>1</td><td>1</td><td>1</td><td>1</td><td>⋯</td><td>1</td><td>1</td><td>1</td><td>1</td><td>1</td><td>1</td><td>1</td><td>1</td><td>0</td><td>1</td></tr>\n",
       "\t<tr><th scope=row></th><td>0</td><td>0</td><td>0</td><td>0</td><td>0</td><td>0</td><td>0</td><td>0</td><td>0</td><td>0</td><td>⋯</td><td>0</td><td>0</td><td>0</td><td>0</td><td>0</td><td>0</td><td>0</td><td>0</td><td>8</td><td>8</td></tr>\n",
       "</tbody>\n",
       "</table>\n"
      ],
      "text/latex": [
       "A matrix: 3 × 29 of type dbl\n",
       "\\begin{tabular}{r|lllllllllllllllllllll}\n",
       "  & Title & Platform & Genre & Publisher & VGScore & CriticScore & UserScore & TotalShipped & AsianSales & NorthAmericaSales & ⋯ & ReleaseDate & ReleaseYear & ReleaseMonth & EndOfMonth & ReleaseQuarter & ReleaseWeekDay & ReleaseWeekend & ReleaseWeek & AvgUserScore & \\\\\n",
       "\\hline\n",
       "\t818 & 1 & 1 & 1 & 1 & 1 & 1 & 1 & 1 & 1 & 1 & ⋯ & 1 & 1 & 1 & 1 & 1 & 1 & 1 & 1 & 1 & 0\\\\\n",
       "\t8 & 1 & 1 & 1 & 1 & 1 & 1 & 1 & 1 & 1 & 1 & ⋯ & 1 & 1 & 1 & 1 & 1 & 1 & 1 & 1 & 0 & 1\\\\\n",
       "\t & 0 & 0 & 0 & 0 & 0 & 0 & 0 & 0 & 0 & 0 & ⋯ & 0 & 0 & 0 & 0 & 0 & 0 & 0 & 0 & 8 & 8\\\\\n",
       "\\end{tabular}\n"
      ],
      "text/markdown": [
       "\n",
       "A matrix: 3 × 29 of type dbl\n",
       "\n",
       "| <!--/--> | Title | Platform | Genre | Publisher | VGScore | CriticScore | UserScore | TotalShipped | AsianSales | NorthAmericaSales | ⋯ | ReleaseDate | ReleaseYear | ReleaseMonth | EndOfMonth | ReleaseQuarter | ReleaseWeekDay | ReleaseWeekend | ReleaseWeek | AvgUserScore | <!----> |\n",
       "|---|---|---|---|---|---|---|---|---|---|---|---|---|---|---|---|---|---|---|---|---|---|\n",
       "| 818 | 1 | 1 | 1 | 1 | 1 | 1 | 1 | 1 | 1 | 1 | ⋯ | 1 | 1 | 1 | 1 | 1 | 1 | 1 | 1 | 1 | 0 |\n",
       "| 8 | 1 | 1 | 1 | 1 | 1 | 1 | 1 | 1 | 1 | 1 | ⋯ | 1 | 1 | 1 | 1 | 1 | 1 | 1 | 1 | 0 | 1 |\n",
       "| <!----> | 0 | 0 | 0 | 0 | 0 | 0 | 0 | 0 | 0 | 0 | ⋯ | 0 | 0 | 0 | 0 | 0 | 0 | 0 | 0 | 8 | 8 |\n",
       "\n"
      ],
      "text/plain": [
       "    Title Platform Genre Publisher VGScore CriticScore UserScore TotalShipped\n",
       "818 1     1        1     1         1       1           1         1           \n",
       "8   1     1        1     1         1       1           1         1           \n",
       "    0     0        0     0         0       0           0         0           \n",
       "    AsianSales NorthAmericaSales ⋯ ReleaseDate ReleaseYear ReleaseMonth\n",
       "818 1          1                 ⋯ 1           1           1           \n",
       "8   1          1                 ⋯ 1           1           1           \n",
       "    0          0                 ⋯ 0           0           0           \n",
       "    EndOfMonth ReleaseQuarter ReleaseWeekDay ReleaseWeekend ReleaseWeek\n",
       "818 1          1              1              1              1          \n",
       "8   1          1              1              1              1          \n",
       "    0          0              0              0              0          \n",
       "    AvgUserScore  \n",
       "818 1            0\n",
       "8   0            1\n",
       "    8            8"
      ]
     },
     "metadata": {},
     "output_type": "display_data"
    },
    {
     "data": {
      "text/html": [
       "<table class=\"dataframe\">\n",
       "<caption>A tibble: 1 × 4</caption>\n",
       "<thead>\n",
       "\t<tr><th scope=col>statistic</th><th scope=col>df</th><th scope=col>p.value</th><th scope=col>missing.patterns</th></tr>\n",
       "\t<tr><th scope=col>&lt;dbl&gt;</th><th scope=col>&lt;dbl&gt;</th><th scope=col>&lt;dbl&gt;</th><th scope=col>&lt;int&gt;</th></tr>\n",
       "</thead>\n",
       "<tbody>\n",
       "\t<tr><td>54.19672</td><td>27</td><td>0.001439332</td><td>2</td></tr>\n",
       "</tbody>\n",
       "</table>\n"
      ],
      "text/latex": [
       "A tibble: 1 × 4\n",
       "\\begin{tabular}{llll}\n",
       " statistic & df & p.value & missing.patterns\\\\\n",
       " <dbl> & <dbl> & <dbl> & <int>\\\\\n",
       "\\hline\n",
       "\t 54.19672 & 27 & 0.001439332 & 2\\\\\n",
       "\\end{tabular}\n"
      ],
      "text/markdown": [
       "\n",
       "A tibble: 1 × 4\n",
       "\n",
       "| statistic &lt;dbl&gt; | df &lt;dbl&gt; | p.value &lt;dbl&gt; | missing.patterns &lt;int&gt; |\n",
       "|---|---|---|---|\n",
       "| 54.19672 | 27 | 0.001439332 | 2 |\n",
       "\n"
      ],
      "text/plain": [
       "  statistic df p.value     missing.patterns\n",
       "1 54.19672  27 0.001439332 2               "
      ]
     },
     "metadata": {},
     "output_type": "display_data"
    },
    {
     "data": {
      "image/png": "[encoded data removed]",
      "text/plain": [
       "plot without title"
      ]
     },
     "metadata": {
      "image/png": {
       "height": 420,
       "width": 420
      }
     },
     "output_type": "display_data"
    }
   ],
   "source": [
    "# Check the missing value pattern in AvgUserScore\n",
    "md.pattern(data)\n",
    "\n",
    "##### Little's Test #######\n",
    "# Little's (1988) test statistic to assess if data is MCAR. \n",
    "# The null hypothesis (H0) : the data is MCAR\n",
    "\n",
    "mcar_test(data)\n",
    "\n",
    "# p-value of mcar test is less than 0.05, reject the H0, the data is not MCAR, hence not recommended to impute missing values, suggest to drop"
   ]
  },
  {
   "cell_type": "code",
   "execution_count": 33,
   "metadata": {
    "vscode": {
     "languageId": "r"
    }
   },
   "outputs": [],
   "source": [
    "########################################################\n",
    "# drop empty values\n",
    "\n",
    "data <- subset(data, !(AvgUserScore %in% c(\"$ AvgUserScore\", \"NA\")) & !(ReleaseYear == 1900))"
   ]
  },
  {
   "cell_type": "code",
   "execution_count": 82,
   "metadata": {
    "vscode": {
     "languageId": "r"
    }
   },
   "outputs": [],
   "source": [
    "########################################################\n",
    "# data type\n",
    "# set the variables to factors (categorical data)\n",
    "data <- data %>%\n",
    "  mutate(\n",
    "    Platform = as.factor(Platform),\n",
    "    Genre = as.factor(Genre),\n",
    "    Publisher = as.factor(Publisher),\n",
    "    Developer = as.factor(Developer),\n",
    "    NoOfPlayers = as.factor(NoOfPlayers),\n",
    "    ReleaseWeekend = as.factor(ReleaseWeekend),\n",
    "    EndOfMonth = as.factor(EndOfMonth),\n",
    "    ReleaseWeekend = as.integer(ReleaseWeekend),\n",
    "    MetaScore = as.numeric(MetaScore),\n",
    "    AvgUserScore = as.numeric (AvgUserScore),\n",
    "    ReleaseDate = as.Date(ReleaseDate)  \n",
    "  )\n",
    "\n",
    "data ['releasedate_1986.2023'] = NULL\n",
    "data ['releasedate_VGOutput'] = NULL\n",
    "data ['releasedate_raw'] = NULL\n",
    "data ['releasedate_link'] = NULL\n",
    "data ['ReleaseYear_v1'] = NULL"
   ]
  },
  {
   "cell_type": "code",
   "execution_count": 35,
   "metadata": {
    "vscode": {
     "languageId": "r"
    }
   },
   "outputs": [
    {
     "name": "stdout",
     "output_type": "stream",
     "text": [
      "'data.frame':\t824 obs. of  28 variables:\n",
      " $ Title            : chr  \"1701 A.D.\" \"2002 FIFA World Cup\" \"2010 FIFA World Cup South Africa\" \"ABZU\" ...\n",
      " $ Platform         : Factor w/ 6 levels \"DS\",\"PC\",\"PS\",..: 2 2 5 2 6 4 1 6 4 2 ...\n",
      " $ Genre            : Factor w/ 8 levels \"Adventure\",\"Board Game\",..: 7 8 8 1 1 8 1 1 6 6 ...\n",
      " $ Publisher        : Factor w/ 8 levels \"Activision\",\"Amazon Game Studios\",..: 7 7 8 1 3 1 3 4 4 7 ...\n",
      " $ VGScore          : num  8 2 7 9 8 6 8 10 3 5 ...\n",
      " $ CriticScore      : num  7.7 6 8.2 8 7 8.7 7 4 4 8.2 ...\n",
      " $ UserScore        : num  5 7 9 9 7 10 3 8 8 2 ...\n",
      " $ TotalShipped     : num  1 277 53 0.58 117 117 59 189 296 275 ...\n",
      " $ AsianSales       : num  7.05 3.77 1.23 6.83 3 3 3 1.09 3 7.34 ...\n",
      " $ NorthAmericaSales: num  4.74 3.55 0.3 1.6 0.03 0.17 0.25 0.29 0.05 4.4 ...\n",
      " $ JapanSales       : num  5.85 1.03 0.07 2.48 4.98 3.56 2.9 0.05 5.03 3.43 ...\n",
      " $ EuropeSales      : num  2.3 3.58 0.64 5.48 3.98 0.13 0.18 0.59 0.04 4.6 ...\n",
      " $ GlobalSales      : num  19.94 11.93 2.24 16.39 9.03 ...\n",
      " $ ProductionCost   : num  6.96 6.06 4.24 3.75 3.24 3.21 0.03 2.61 2.58 2.07 ...\n",
      " $ ReleaseYear_v1   : int  2006 2002 2010 2016 2017 2002 2010 2014 2004 2001 ...\n",
      " $ Developer        : Factor w/ 320 levels \"1stPlayableProductions\",..: 225 93 84 126 126 318 107 59 283 181 ...\n",
      " $ MultipleGenre    : chr  \"Strategy;Real-Time;Historic;General;Historic\" \"Sports;Traditional;Team;Soccer;Sim;Sim\" \"Sports;Traditional;Team;Soccer;Sim;Sim\" \"Action Adventure;Adventure;General;3D;Third-Person\" ...\n",
      " $ MetaScore        : num  79 80 82 83 78 85 78 79 78 85 ...\n",
      " $ AvgUserScore     : num  8.4 8 7.8 6.9 7.6 8.7 NA 8.2 8.3 8.7 ...\n",
      " $ NoOfPlayers      : Factor w/ 6 levels \"#N/A\",\"1\",\"1 to 2\",..: 4 6 2 2 2 3 2 2 2 6 ...\n",
      " $ ReleaseDate      : Date, format: \"0026-10-20\" \"0026-04-20\" ...\n",
      " $ ReleaseYear      : int  2006 2002 2010 2016 2016 2002 2010 2014 2004 2001 ...\n",
      " $ ReleaseMonth     : int  10 4 4 8 8 5 3 10 11 10 ...\n",
      " $ EndOfMonth       : Factor w/ 2 levels \"No\",\"Yes\": 2 2 2 1 1 2 1 1 2 2 ...\n",
      " $ ReleaseQuarter   : int  4 2 2 3 3 2 1 4 4 4 ...\n",
      " $ ReleaseWeekDay   : int  4 5 2 2 2 2 2 1 7 1 ...\n",
      " $ ReleaseWeekend   : int  1 1 1 1 1 1 1 1 2 1 ...\n",
      " $ ReleaseWeek      : int  43 17 18 32 32 22 10 41 48 43 ...\n"
     ]
    },
    {
     "data": {
      "text/plain": [
       "    Title           Platform         Genre    \n",
       " Length:824         DS : 43   Shooter   :213  \n",
       " Class :character   PC :351   Sports    :213  \n",
       " Mode  :character   PS : 21   Racing    :122  \n",
       "                    PS2:228   Adventure :102  \n",
       "                    PS3:132   Simulation: 81  \n",
       "                    PS4: 49   Fighting  : 55  \n",
       "                              (Other)   : 38  \n",
       "                       Publisher      VGScore        CriticScore    \n",
       " Electronic Arts            :182   Min.   : 1.000   Min.   : 1.000  \n",
       " Activision                 :146   1st Qu.: 4.000   1st Qu.: 4.000  \n",
       " Ubisoft                    :117   Median : 7.000   Median : 8.000  \n",
       " Frontier Developments      :114   Mean   : 6.271   Mean   : 6.623  \n",
       " Sony Computer Entertainment: 83   3rd Qu.: 8.600   3rd Qu.: 8.700  \n",
       " Omega                      : 66   Max.   :10.000   Max.   :10.000  \n",
       " (Other)                    :116                                    \n",
       "   UserScore       TotalShipped     AsianSales     NorthAmericaSales\n",
       " Min.   : 1.000   Min.   :  0.1   Min.   : 1.000   Min.   :0.010    \n",
       " 1st Qu.: 3.000   1st Qu.: 53.0   1st Qu.: 2.550   1st Qu.:0.300    \n",
       " Median : 5.000   Median :134.0   Median : 3.000   Median :1.300    \n",
       " Mean   : 5.432   Mean   :139.4   Mean   : 3.351   Mean   :1.972    \n",
       " 3rd Qu.: 8.000   3rd Qu.:224.0   3rd Qu.: 3.527   3rd Qu.:3.230    \n",
       " Max.   :10.000   Max.   :300.0   Max.   :13.800   Max.   :7.910    \n",
       "                                                                    \n",
       "   JapanSales     EuropeSales     GlobalSales     ProductionCost \n",
       " Min.   :0.010   Min.   :0.010   Min.   : 0.090   Min.   :0.010  \n",
       " 1st Qu.:1.228   1st Qu.:0.120   1st Qu.: 3.945   1st Qu.:2.228  \n",
       " Median :2.790   Median :0.610   Median : 7.005   Median :3.400  \n",
       " Mean   :2.763   Mean   :1.756   Mean   : 8.747   Mean   :3.552  \n",
       " 3rd Qu.:4.350   3rd Qu.:3.175   3rd Qu.:13.285   3rd Qu.:4.860  \n",
       " Max.   :5.990   Max.   :6.990   Max.   :25.660   Max.   :7.840  \n",
       "                                                                 \n",
       " ReleaseYear_v1          Developer   MultipleGenre        MetaScore    \n",
       " Min.   :2000   EASports      : 59   Length:824         Min.   :77.00  \n",
       " 1st Qu.:2003   EACanada      : 36   Class :character   1st Qu.:80.00  \n",
       " Median :2006   EATiburon     : 22   Mode  :character   Median :83.00  \n",
       " Mean   :2007   Codemasters   : 20                      Mean   :83.29  \n",
       " 3rd Qu.:2010   VisualConcepts: 19                      3rd Qu.:86.00  \n",
       " Max.   :2019   Capcom        : 13                      Max.   :96.00  \n",
       "                (Other)       :655                                     \n",
       "  AvgUserScore        NoOfPlayers   ReleaseDate          ReleaseYear  \n",
       " Min.   :2.700   #N/A       :  1   Min.   :0001-02-20   Min.   :2000  \n",
       " 1st Qu.:7.500   1          :348   1st Qu.:0008-10-20   1st Qu.:2003  \n",
       " Median :8.000   1 to 2     :147   Median :0017-01-05   Median :2006  \n",
       " Mean   :7.812   1 to 4     : 94   Mean   :0016-06-12   Mean   :2007  \n",
       " 3rd Qu.:8.500   1 to 8     : 14   3rd Qu.:0024-03-20   3rd Qu.:2010  \n",
       " Max.   :9.200   Mutliplayer:220   Max.   :0031-10-20   Max.   :2019  \n",
       " NA's   :8                                                            \n",
       "  ReleaseMonth    EndOfMonth ReleaseQuarter  ReleaseWeekDay  ReleaseWeekend\n",
       " Min.   : 1.000   No :523    Min.   :1.000   Min.   :1.000   Min.   :1.00  \n",
       " 1st Qu.: 4.000   Yes:301    1st Qu.:2.000   1st Qu.:2.000   1st Qu.:1.00  \n",
       " Median : 8.000              Median :3.000   Median :2.000   Median :1.00  \n",
       " Mean   : 7.187              Mean   :2.715   Mean   :2.627   Mean   :1.03  \n",
       " 3rd Qu.:10.000              3rd Qu.:4.000   3rd Qu.:4.000   3rd Qu.:1.00  \n",
       " Max.   :12.000              Max.   :4.000   Max.   :7.000   Max.   :2.00  \n",
       "                                                                           \n",
       "  ReleaseWeek   \n",
       " Min.   : 1.00  \n",
       " 1st Qu.:16.00  \n",
       " Median :35.00  \n",
       " Mean   :30.01  \n",
       " 3rd Qu.:43.00  \n",
       " Max.   :52.00  \n",
       "                "
      ]
     },
     "metadata": {},
     "output_type": "display_data"
    }
   ],
   "source": [
    "# Check the data\n",
    "str(data)\n",
    "summary(data)"
   ]
  },
  {
   "cell_type": "code",
   "execution_count": 36,
   "metadata": {
    "vscode": {
     "languageId": "r"
    }
   },
   "outputs": [
    {
     "data": {
      "text/html": [
       "<style>\n",
       ".dl-inline {width: auto; margin:0; padding: 0}\n",
       ".dl-inline>dt, .dl-inline>dd {float: none; width: auto; display: inline-block}\n",
       ".dl-inline>dt::after {content: \":\\0020\"; padding-right: .5ex}\n",
       ".dl-inline>dt:not(:first-of-type) {padding-left: .5ex}\n",
       "</style><dl class=dl-inline><dt>Title</dt><dd>701</dd><dt>Platform</dt><dd>6</dd><dt>Genre</dt><dd>8</dd><dt>Publisher</dt><dd>8</dd><dt>VGScore</dt><dd>28</dd><dt>CriticScore</dt><dd>34</dd><dt>UserScore</dt><dd>21</dd><dt>TotalShipped</dt><dd>346</dd><dt>AsianSales</dt><dd>336</dd><dt>NorthAmericaSales</dt><dd>400</dd><dt>JapanSales</dt><dd>398</dd><dt>EuropeSales</dt><dd>355</dd><dt>GlobalSales</dt><dd>658</dd><dt>ProductionCost</dt><dd>407</dd><dt>ReleaseYear_v1</dt><dd>20</dd><dt>Developer</dt><dd>319</dd><dt>MultipleGenre</dt><dd>250</dd><dt>MetaScore</dt><dd>20</dd><dt>AvgUserScore</dt><dd>55</dd><dt>NoOfPlayers</dt><dd>6</dd><dt>ReleaseDate</dt><dd>285</dd><dt>ReleaseYear</dt><dd>20</dd><dt>ReleaseMonth</dt><dd>12</dd><dt>EndOfMonth</dt><dd>2</dd><dt>ReleaseQuarter</dt><dd>4</dd><dt>ReleaseWeekDay</dt><dd>7</dd><dt>ReleaseWeekend</dt><dd>2</dd><dt>ReleaseWeek</dt><dd>52</dd></dl>\n"
      ],
      "text/latex": [
       "\\begin{description*}\n",
       "\\item[Title] 701\n",
       "\\item[Platform] 6\n",
       "\\item[Genre] 8\n",
       "\\item[Publisher] 8\n",
       "\\item[VGScore] 28\n",
       "\\item[CriticScore] 34\n",
       "\\item[UserScore] 21\n",
       "\\item[TotalShipped] 346\n",
       "\\item[AsianSales] 336\n",
       "\\item[NorthAmericaSales] 400\n",
       "\\item[JapanSales] 398\n",
       "\\item[EuropeSales] 355\n",
       "\\item[GlobalSales] 658\n",
       "\\item[ProductionCost] 407\n",
       "\\item[ReleaseYear\\textbackslash{}\\_v1] 20\n",
       "\\item[Developer] 319\n",
       "\\item[MultipleGenre] 250\n",
       "\\item[MetaScore] 20\n",
       "\\item[AvgUserScore] 55\n",
       "\\item[NoOfPlayers] 6\n",
       "\\item[ReleaseDate] 285\n",
       "\\item[ReleaseYear] 20\n",
       "\\item[ReleaseMonth] 12\n",
       "\\item[EndOfMonth] 2\n",
       "\\item[ReleaseQuarter] 4\n",
       "\\item[ReleaseWeekDay] 7\n",
       "\\item[ReleaseWeekend] 2\n",
       "\\item[ReleaseWeek] 52\n",
       "\\end{description*}\n"
      ],
      "text/markdown": [
       "Title\n",
       ":   701Platform\n",
       ":   6Genre\n",
       ":   8Publisher\n",
       ":   8VGScore\n",
       ":   28CriticScore\n",
       ":   34UserScore\n",
       ":   21TotalShipped\n",
       ":   346AsianSales\n",
       ":   336NorthAmericaSales\n",
       ":   400JapanSales\n",
       ":   398EuropeSales\n",
       ":   355GlobalSales\n",
       ":   658ProductionCost\n",
       ":   407ReleaseYear_v1\n",
       ":   20Developer\n",
       ":   319MultipleGenre\n",
       ":   250MetaScore\n",
       ":   20AvgUserScore\n",
       ":   55NoOfPlayers\n",
       ":   6ReleaseDate\n",
       ":   285ReleaseYear\n",
       ":   20ReleaseMonth\n",
       ":   12EndOfMonth\n",
       ":   2ReleaseQuarter\n",
       ":   4ReleaseWeekDay\n",
       ":   7ReleaseWeekend\n",
       ":   2ReleaseWeek\n",
       ":   52\n",
       "\n"
      ],
      "text/plain": [
       "            Title          Platform             Genre         Publisher \n",
       "              701                 6                 8                 8 \n",
       "          VGScore       CriticScore         UserScore      TotalShipped \n",
       "               28                34                21               346 \n",
       "       AsianSales NorthAmericaSales        JapanSales       EuropeSales \n",
       "              336               400               398               355 \n",
       "      GlobalSales    ProductionCost    ReleaseYear_v1         Developer \n",
       "              658               407                20               319 \n",
       "    MultipleGenre         MetaScore      AvgUserScore       NoOfPlayers \n",
       "              250                20                55                 6 \n",
       "      ReleaseDate       ReleaseYear      ReleaseMonth        EndOfMonth \n",
       "              285                20                12                 2 \n",
       "   ReleaseQuarter    ReleaseWeekDay    ReleaseWeekend       ReleaseWeek \n",
       "                4                 7                 2                52 "
      ]
     },
     "metadata": {},
     "output_type": "display_data"
    }
   ],
   "source": [
    "########################################################\n",
    "# Check the number of distinct values for the variables\n",
    "\n",
    "sapply(data, function(x) n_distinct(x))"
   ]
  },
  {
   "cell_type": "markdown",
   "metadata": {},
   "source": [
    "Data Cleaning"
   ]
  },
  {
   "cell_type": "code",
   "execution_count": 37,
   "metadata": {
    "vscode": {
     "languageId": "r"
    }
   },
   "outputs": [
    {
     "data": {
      "image/png": "[encoded data removed]",
      "text/plain": [
       "plot without title"
      ]
     },
     "metadata": {
      "image/png": {
       "height": 420,
       "width": 420
      }
     },
     "output_type": "display_data"
    }
   ],
   "source": [
    "########################################################\n",
    "# EDA - explore the dataset\n",
    "\n",
    "# Calculate average sales and count of games released by year\n",
    "summary_data <- data %>%\n",
    "  group_by(ReleaseYear) %>%\n",
    "  summarise(AvgSales = mean(GlobalSales), Count = n())\n",
    "\n",
    "# Define a scaling factor to make the Count values visible\n",
    "count_scaling_factor <- max(summary_data$AvgSales) / max(summary_data$Count)\n",
    "\n",
    "# Create a line graph\n",
    "ggplot(summary_data, aes(x = ReleaseYear)) +\n",
    "  geom_line(aes(y = AvgSales, color = \"Average Sales\"), size = 1) +\n",
    "  geom_line(aes(y = Count * count_scaling_factor, color = \"Count\"), size = 1) +\n",
    "  scale_color_manual(values = c(\"Average Sales\" = \"blue\", \"Count\" = \"orange\")) +\n",
    "  labs(title = \"Average Sales and Game Count by Release Year\",\n",
    "       y = \"Average Sales\",\n",
    "       color = \"Metric\") +\n",
    "  theme_minimal() +\n",
    "  scale_y_continuous(\n",
    "    sec.axis = sec_axis(~./count_scaling_factor, name = \"Count\")\n",
    "  ) +\n",
    "  scale_x_continuous(breaks = unique(summary_data$ReleaseYear))"
   ]
  },
  {
   "cell_type": "code",
   "execution_count": 39,
   "metadata": {
    "vscode": {
     "languageId": "r"
    }
   },
   "outputs": [
    {
     "data": {
      "text/html": [
       "<table class=\"dataframe\">\n",
       "<caption>A tibble: 20 × 3</caption>\n",
       "<thead>\n",
       "\t<tr><th scope=col>ReleaseYear</th><th scope=col>AvgSales</th><th scope=col>Count</th></tr>\n",
       "\t<tr><th scope=col>&lt;int&gt;</th><th scope=col>&lt;dbl&gt;</th><th scope=col>&lt;int&gt;</th></tr>\n",
       "</thead>\n",
       "<tbody>\n",
       "\t<tr><td>2000</td><td> 9.866939</td><td>49</td></tr>\n",
       "\t<tr><td>2001</td><td> 7.926500</td><td>60</td></tr>\n",
       "\t<tr><td>2002</td><td> 8.996087</td><td>69</td></tr>\n",
       "\t<tr><td>2003</td><td> 8.800260</td><td>77</td></tr>\n",
       "\t<tr><td>2004</td><td> 8.850926</td><td>54</td></tr>\n",
       "\t<tr><td>2005</td><td> 8.089848</td><td>66</td></tr>\n",
       "\t<tr><td>2006</td><td> 9.005918</td><td>49</td></tr>\n",
       "\t<tr><td>2007</td><td> 7.022667</td><td>60</td></tr>\n",
       "\t<tr><td>2008</td><td> 7.718361</td><td>61</td></tr>\n",
       "\t<tr><td>2009</td><td> 8.179853</td><td>68</td></tr>\n",
       "\t<tr><td>2010</td><td> 9.866333</td><td>30</td></tr>\n",
       "\t<tr><td>2011</td><td> 6.822333</td><td>30</td></tr>\n",
       "\t<tr><td>2012</td><td>10.148095</td><td>21</td></tr>\n",
       "\t<tr><td>2013</td><td>10.413478</td><td>23</td></tr>\n",
       "\t<tr><td>2014</td><td>10.398000</td><td>15</td></tr>\n",
       "\t<tr><td>2015</td><td> 9.091250</td><td>24</td></tr>\n",
       "\t<tr><td>2016</td><td>10.247600</td><td>25</td></tr>\n",
       "\t<tr><td>2017</td><td>11.037200</td><td>25</td></tr>\n",
       "\t<tr><td>2018</td><td>10.205882</td><td>17</td></tr>\n",
       "\t<tr><td>2019</td><td>15.370000</td><td> 1</td></tr>\n",
       "</tbody>\n",
       "</table>\n"
      ],
      "text/latex": [
       "A tibble: 20 × 3\n",
       "\\begin{tabular}{lll}\n",
       " ReleaseYear & AvgSales & Count\\\\\n",
       " <int> & <dbl> & <int>\\\\\n",
       "\\hline\n",
       "\t 2000 &  9.866939 & 49\\\\\n",
       "\t 2001 &  7.926500 & 60\\\\\n",
       "\t 2002 &  8.996087 & 69\\\\\n",
       "\t 2003 &  8.800260 & 77\\\\\n",
       "\t 2004 &  8.850926 & 54\\\\\n",
       "\t 2005 &  8.089848 & 66\\\\\n",
       "\t 2006 &  9.005918 & 49\\\\\n",
       "\t 2007 &  7.022667 & 60\\\\\n",
       "\t 2008 &  7.718361 & 61\\\\\n",
       "\t 2009 &  8.179853 & 68\\\\\n",
       "\t 2010 &  9.866333 & 30\\\\\n",
       "\t 2011 &  6.822333 & 30\\\\\n",
       "\t 2012 & 10.148095 & 21\\\\\n",
       "\t 2013 & 10.413478 & 23\\\\\n",
       "\t 2014 & 10.398000 & 15\\\\\n",
       "\t 2015 &  9.091250 & 24\\\\\n",
       "\t 2016 & 10.247600 & 25\\\\\n",
       "\t 2017 & 11.037200 & 25\\\\\n",
       "\t 2018 & 10.205882 & 17\\\\\n",
       "\t 2019 & 15.370000 &  1\\\\\n",
       "\\end{tabular}\n"
      ],
      "text/markdown": [
       "\n",
       "A tibble: 20 × 3\n",
       "\n",
       "| ReleaseYear &lt;int&gt; | AvgSales &lt;dbl&gt; | Count &lt;int&gt; |\n",
       "|---|---|---|\n",
       "| 2000 |  9.866939 | 49 |\n",
       "| 2001 |  7.926500 | 60 |\n",
       "| 2002 |  8.996087 | 69 |\n",
       "| 2003 |  8.800260 | 77 |\n",
       "| 2004 |  8.850926 | 54 |\n",
       "| 2005 |  8.089848 | 66 |\n",
       "| 2006 |  9.005918 | 49 |\n",
       "| 2007 |  7.022667 | 60 |\n",
       "| 2008 |  7.718361 | 61 |\n",
       "| 2009 |  8.179853 | 68 |\n",
       "| 2010 |  9.866333 | 30 |\n",
       "| 2011 |  6.822333 | 30 |\n",
       "| 2012 | 10.148095 | 21 |\n",
       "| 2013 | 10.413478 | 23 |\n",
       "| 2014 | 10.398000 | 15 |\n",
       "| 2015 |  9.091250 | 24 |\n",
       "| 2016 | 10.247600 | 25 |\n",
       "| 2017 | 11.037200 | 25 |\n",
       "| 2018 | 10.205882 | 17 |\n",
       "| 2019 | 15.370000 |  1 |\n",
       "\n"
      ],
      "text/plain": [
       "   ReleaseYear AvgSales  Count\n",
       "1  2000         9.866939 49   \n",
       "2  2001         7.926500 60   \n",
       "3  2002         8.996087 69   \n",
       "4  2003         8.800260 77   \n",
       "5  2004         8.850926 54   \n",
       "6  2005         8.089848 66   \n",
       "7  2006         9.005918 49   \n",
       "8  2007         7.022667 60   \n",
       "9  2008         7.718361 61   \n",
       "10 2009         8.179853 68   \n",
       "11 2010         9.866333 30   \n",
       "12 2011         6.822333 30   \n",
       "13 2012        10.148095 21   \n",
       "14 2013        10.413478 23   \n",
       "15 2014        10.398000 15   \n",
       "16 2015         9.091250 24   \n",
       "17 2016        10.247600 25   \n",
       "18 2017        11.037200 25   \n",
       "19 2018        10.205882 17   \n",
       "20 2019        15.370000  1   "
      ]
     },
     "metadata": {},
     "output_type": "display_data"
    }
   ],
   "source": [
    "summary_data"
   ]
  },
  {
   "cell_type": "code",
   "execution_count": 8,
   "metadata": {
    "vscode": {
     "languageId": "r"
    }
   },
   "outputs": [],
   "source": [
    "# Drop data from 2019 onwards to eliminate covid impact\n",
    "\n",
    "data <- subset(data, !(ReleaseYear == 2019))"
   ]
  },
  {
   "cell_type": "code",
   "execution_count": 40,
   "metadata": {
    "vscode": {
     "languageId": "r"
    }
   },
   "outputs": [
    {
     "data": {
      "text/html": [
       "<style>\n",
       ".dl-inline {width: auto; margin:0; padding: 0}\n",
       ".dl-inline>dt, .dl-inline>dd {float: none; width: auto; display: inline-block}\n",
       ".dl-inline>dt::after {content: \":\\0020\"; padding-right: .5ex}\n",
       ".dl-inline>dt:not(:first-of-type) {padding-left: .5ex}\n",
       "</style><dl class=dl-inline><dt>Title</dt><dd>700</dd><dt>Platform</dt><dd>6</dd><dt>Genre</dt><dd>8</dd><dt>Publisher</dt><dd>8</dd><dt>VGScore</dt><dd>28</dd><dt>CriticScore</dt><dd>34</dd><dt>UserScore</dt><dd>21</dd><dt>TotalShipped</dt><dd>346</dd><dt>AsianSales</dt><dd>336</dd><dt>NorthAmericaSales</dt><dd>400</dd><dt>JapanSales</dt><dd>397</dd><dt>EuropeSales</dt><dd>355</dd><dt>GlobalSales</dt><dd>657</dd><dt>ProductionCost</dt><dd>407</dd><dt>ReleaseYear_v1</dt><dd>19</dd><dt>Developer</dt><dd>319</dd><dt>MultipleGenre</dt><dd>249</dd><dt>MetaScore</dt><dd>20</dd><dt>AvgUserScore</dt><dd>55</dd><dt>NoOfPlayers</dt><dd>6</dd><dt>ReleaseDate</dt><dd>284</dd><dt>ReleaseYear</dt><dd>19</dd><dt>ReleaseMonth</dt><dd>12</dd><dt>EndOfMonth</dt><dd>2</dd><dt>ReleaseQuarter</dt><dd>4</dd><dt>ReleaseWeekDay</dt><dd>7</dd><dt>ReleaseWeekend</dt><dd>2</dd><dt>ReleaseWeek</dt><dd>52</dd></dl>\n"
      ],
      "text/latex": [
       "\\begin{description*}\n",
       "\\item[Title] 700\n",
       "\\item[Platform] 6\n",
       "\\item[Genre] 8\n",
       "\\item[Publisher] 8\n",
       "\\item[VGScore] 28\n",
       "\\item[CriticScore] 34\n",
       "\\item[UserScore] 21\n",
       "\\item[TotalShipped] 346\n",
       "\\item[AsianSales] 336\n",
       "\\item[NorthAmericaSales] 400\n",
       "\\item[JapanSales] 397\n",
       "\\item[EuropeSales] 355\n",
       "\\item[GlobalSales] 657\n",
       "\\item[ProductionCost] 407\n",
       "\\item[ReleaseYear\\textbackslash{}\\_v1] 19\n",
       "\\item[Developer] 319\n",
       "\\item[MultipleGenre] 249\n",
       "\\item[MetaScore] 20\n",
       "\\item[AvgUserScore] 55\n",
       "\\item[NoOfPlayers] 6\n",
       "\\item[ReleaseDate] 284\n",
       "\\item[ReleaseYear] 19\n",
       "\\item[ReleaseMonth] 12\n",
       "\\item[EndOfMonth] 2\n",
       "\\item[ReleaseQuarter] 4\n",
       "\\item[ReleaseWeekDay] 7\n",
       "\\item[ReleaseWeekend] 2\n",
       "\\item[ReleaseWeek] 52\n",
       "\\end{description*}\n"
      ],
      "text/markdown": [
       "Title\n",
       ":   700Platform\n",
       ":   6Genre\n",
       ":   8Publisher\n",
       ":   8VGScore\n",
       ":   28CriticScore\n",
       ":   34UserScore\n",
       ":   21TotalShipped\n",
       ":   346AsianSales\n",
       ":   336NorthAmericaSales\n",
       ":   400JapanSales\n",
       ":   397EuropeSales\n",
       ":   355GlobalSales\n",
       ":   657ProductionCost\n",
       ":   407ReleaseYear_v1\n",
       ":   19Developer\n",
       ":   319MultipleGenre\n",
       ":   249MetaScore\n",
       ":   20AvgUserScore\n",
       ":   55NoOfPlayers\n",
       ":   6ReleaseDate\n",
       ":   284ReleaseYear\n",
       ":   19ReleaseMonth\n",
       ":   12EndOfMonth\n",
       ":   2ReleaseQuarter\n",
       ":   4ReleaseWeekDay\n",
       ":   7ReleaseWeekend\n",
       ":   2ReleaseWeek\n",
       ":   52\n",
       "\n"
      ],
      "text/plain": [
       "            Title          Platform             Genre         Publisher \n",
       "              700                 6                 8                 8 \n",
       "          VGScore       CriticScore         UserScore      TotalShipped \n",
       "               28                34                21               346 \n",
       "       AsianSales NorthAmericaSales        JapanSales       EuropeSales \n",
       "              336               400               397               355 \n",
       "      GlobalSales    ProductionCost    ReleaseYear_v1         Developer \n",
       "              657               407                19               319 \n",
       "    MultipleGenre         MetaScore      AvgUserScore       NoOfPlayers \n",
       "              249                20                55                 6 \n",
       "      ReleaseDate       ReleaseYear      ReleaseMonth        EndOfMonth \n",
       "              284                19                12                 2 \n",
       "   ReleaseQuarter    ReleaseWeekDay    ReleaseWeekend       ReleaseWeek \n",
       "                4                 7                 2                52 "
      ]
     },
     "metadata": {},
     "output_type": "display_data"
    }
   ],
   "source": [
    "########################################################\n",
    "# Check the number of distinct values for the variables\n",
    "\n",
    "sapply(data, function(x) n_distinct(x))"
   ]
  },
  {
   "cell_type": "code",
   "execution_count": 87,
   "metadata": {
    "vscode": {
     "languageId": "r"
    }
   },
   "outputs": [],
   "source": [
    "########################################################\n",
    "# Data inconsistencies spotted for Developer column\n",
    "\n",
    "# Change 'Developer' column to character\n",
    "data$Developer <- as.character(data$Developer)\n",
    "\n",
    "# Define a mapping of replacements as a named vector\n",
    "  developer_replacements <- c(\n",
    "  'CodemastersBirmingham' = 'Codemasters',\n",
    "  'CriterionGames,STELLARENTERTAINMENTSOFTWARELTD' = 'CriterionGames',\n",
    "  'EABlackBox|EACanada|EACanada,EAVancouver|EAChicago|EADICE|EAGames|EALA|EARedwoodShores|EASaltLake|EASports|EASports,EAVancouver|EASportsBig|EATiburon|EAVancouver|ElectronicArts' = 'Electronic Arts',\n",
    "  'GearboxSoftware,IronGalaxyStudios' = 'GearboxSoftware',\n",
    "  'Maxis,EARedwoodShores' = 'Maxis',\n",
    "  'NamcoBandaiGames' = 'Namco',\n",
    "  'Nintendo,NintendoSoftwareTechnology' = 'Nintendo',\n",
    "  'RockstarLeeds|RockstarSanDiego|RockstarStudios|RockstarToronto' = 'Rockstar',\n",
    "  'SCEA|SCEASanDiegoStudios|SCEE|SCEELondonStudio|SCEJapanStudio|SCESantaMonica|SonyInteractiveEntertainment|SonyInteractiveEntertainment,FirstContactEntertainment|SonyOnlineEntertainment|SonyOnlineEntertainment,DaybreakGames' = 'Sony',\n",
    "  'SegaAM2|SegaAM3' = 'Sega',\n",
    "  'UbisoftMontpellier|UbisoftMontreal|UbisoftReflections|UbisoftRomania' = 'Ubisoft'\n",
    ")\n",
    "\n",
    "# Use str_replace_all to apply the replacements\n",
    "data$Developer <- str_replace_all(data$Developer, developer_replacements)\n",
    "\n",
    "# Convert 'Developer' back to factor\n",
    "data$Developer <- as.factor(data$Developer)"
   ]
  },
  {
   "cell_type": "code",
   "execution_count": 88,
   "metadata": {
    "vscode": {
     "languageId": "r"
    }
   },
   "outputs": [
    {
     "data": {
      "text/html": [
       "<style>\n",
       ".dl-inline {width: auto; margin:0; padding: 0}\n",
       ".dl-inline>dt, .dl-inline>dd {float: none; width: auto; display: inline-block}\n",
       ".dl-inline>dt::after {content: \":\\0020\"; padding-right: .5ex}\n",
       ".dl-inline>dt:not(:first-of-type) {padding-left: .5ex}\n",
       "</style><dl class=dl-inline><dt>Title</dt><dd>700</dd><dt>Platform</dt><dd>6</dd><dt>Genre</dt><dd>8</dd><dt>Publisher</dt><dd>8</dd><dt>VGScore</dt><dd>28</dd><dt>CriticScore</dt><dd>34</dd><dt>UserScore</dt><dd>21</dd><dt>TotalShipped</dt><dd>346</dd><dt>AsianSales</dt><dd>336</dd><dt>NorthAmericaSales</dt><dd>400</dd><dt>JapanSales</dt><dd>397</dd><dt>EuropeSales</dt><dd>355</dd><dt>GlobalSales</dt><dd>657</dd><dt>ProductionCost</dt><dd>407</dd><dt>Developer</dt><dd>288</dd><dt>MultipleGenre</dt><dd>249</dd><dt>MetaScore</dt><dd>20</dd><dt>AvgUserScore</dt><dd>55</dd><dt>NoOfPlayers</dt><dd>6</dd><dt>ReleaseDate</dt><dd>284</dd><dt>ReleaseYear</dt><dd>19</dd><dt>ReleaseMonth</dt><dd>12</dd><dt>EndOfMonth</dt><dd>2</dd><dt>ReleaseQuarter</dt><dd>4</dd><dt>ReleaseWeekDay</dt><dd>7</dd><dt>ReleaseWeekend</dt><dd>2</dd><dt>ReleaseWeek</dt><dd>52</dd><dt>LogGlobalSales</dt><dd>657</dd><dt>SqRtGlobalSales</dt><dd>657</dd></dl>\n"
      ],
      "text/latex": [
       "\\begin{description*}\n",
       "\\item[Title] 700\n",
       "\\item[Platform] 6\n",
       "\\item[Genre] 8\n",
       "\\item[Publisher] 8\n",
       "\\item[VGScore] 28\n",
       "\\item[CriticScore] 34\n",
       "\\item[UserScore] 21\n",
       "\\item[TotalShipped] 346\n",
       "\\item[AsianSales] 336\n",
       "\\item[NorthAmericaSales] 400\n",
       "\\item[JapanSales] 397\n",
       "\\item[EuropeSales] 355\n",
       "\\item[GlobalSales] 657\n",
       "\\item[ProductionCost] 407\n",
       "\\item[Developer] 288\n",
       "\\item[MultipleGenre] 249\n",
       "\\item[MetaScore] 20\n",
       "\\item[AvgUserScore] 55\n",
       "\\item[NoOfPlayers] 6\n",
       "\\item[ReleaseDate] 284\n",
       "\\item[ReleaseYear] 19\n",
       "\\item[ReleaseMonth] 12\n",
       "\\item[EndOfMonth] 2\n",
       "\\item[ReleaseQuarter] 4\n",
       "\\item[ReleaseWeekDay] 7\n",
       "\\item[ReleaseWeekend] 2\n",
       "\\item[ReleaseWeek] 52\n",
       "\\item[LogGlobalSales] 657\n",
       "\\item[SqRtGlobalSales] 657\n",
       "\\end{description*}\n"
      ],
      "text/markdown": [
       "Title\n",
       ":   700Platform\n",
       ":   6Genre\n",
       ":   8Publisher\n",
       ":   8VGScore\n",
       ":   28CriticScore\n",
       ":   34UserScore\n",
       ":   21TotalShipped\n",
       ":   346AsianSales\n",
       ":   336NorthAmericaSales\n",
       ":   400JapanSales\n",
       ":   397EuropeSales\n",
       ":   355GlobalSales\n",
       ":   657ProductionCost\n",
       ":   407Developer\n",
       ":   288MultipleGenre\n",
       ":   249MetaScore\n",
       ":   20AvgUserScore\n",
       ":   55NoOfPlayers\n",
       ":   6ReleaseDate\n",
       ":   284ReleaseYear\n",
       ":   19ReleaseMonth\n",
       ":   12EndOfMonth\n",
       ":   2ReleaseQuarter\n",
       ":   4ReleaseWeekDay\n",
       ":   7ReleaseWeekend\n",
       ":   2ReleaseWeek\n",
       ":   52LogGlobalSales\n",
       ":   657SqRtGlobalSales\n",
       ":   657\n",
       "\n"
      ],
      "text/plain": [
       "            Title          Platform             Genre         Publisher \n",
       "              700                 6                 8                 8 \n",
       "          VGScore       CriticScore         UserScore      TotalShipped \n",
       "               28                34                21               346 \n",
       "       AsianSales NorthAmericaSales        JapanSales       EuropeSales \n",
       "              336               400               397               355 \n",
       "      GlobalSales    ProductionCost         Developer     MultipleGenre \n",
       "              657               407               288               249 \n",
       "        MetaScore      AvgUserScore       NoOfPlayers       ReleaseDate \n",
       "               20                55                 6               284 \n",
       "      ReleaseYear      ReleaseMonth        EndOfMonth    ReleaseQuarter \n",
       "               19                12                 2                 4 \n",
       "   ReleaseWeekDay    ReleaseWeekend       ReleaseWeek    LogGlobalSales \n",
       "                7                 2                52               657 \n",
       "  SqRtGlobalSales \n",
       "              657 "
      ]
     },
     "metadata": {},
     "output_type": "display_data"
    }
   ],
   "source": [
    "########################################################\n",
    "# Check the number of distinct values for the variables\n",
    "\n",
    "sapply(data, function(x) n_distinct(x))"
   ]
  },
  {
   "cell_type": "code",
   "execution_count": 89,
   "metadata": {
    "vscode": {
     "languageId": "r"
    }
   },
   "outputs": [
    {
     "name": "stdout",
     "output_type": "stream",
     "text": [
      " [1] Electronic Arts   Codemasters       VisualConcepts    Namco            \n",
      " [5] Ubisoft           Capcom            SportsInteractive KCET             \n",
      " [9] Maxis             Konami           \n",
      "288 Levels: 1stPlayableProductions 2015 2DBoy 2KCzech 2KGames ... ZipperInteractive\n"
     ]
    }
   ],
   "source": [
    "########################################################\n",
    "# Group Top 10 after addressing data inconsistencies\n",
    "\n",
    "# Calculate the frequency of each Developer\n",
    "developer_counts <- data %>%\n",
    "  group_by(Developer) %>%\n",
    "  summarise(n = n()) %>%\n",
    "  arrange(desc(n))\n",
    "\n",
    "# Extract the top 10 unique developers based on count frequency\n",
    "top10_developers <- developer_counts$Developer %>%\n",
    "  head(10)\n",
    "\n",
    "# View the top 10\n",
    "print(top10_developers)"
   ]
  },
  {
   "cell_type": "code",
   "execution_count": 90,
   "metadata": {
    "vscode": {
     "languageId": "r"
    }
   },
   "outputs": [
    {
     "data": {
      "image/png": "[encoded data removed]",
      "text/plain": [
       "plot without title"
      ]
     },
     "metadata": {
      "image/png": {
       "height": 420,
       "width": 420
      }
     },
     "output_type": "display_data"
    }
   ],
   "source": [
    "# Visualize top 10 Developers\n",
    "ggplot(head(developer_counts, 10), aes(x = reorder(Developer, -n), y = n)) +\n",
    "  geom_bar(stat = \"identity\", fill = \"skyblue\", alpha = 0.7) +\n",
    "  labs(title = \"Top 10 Developers by Count\",\n",
    "       x = \"Developer\",\n",
    "       y = \"Count\") +\n",
    "  theme(axis.text.x = element_text(angle = 45, hjust = 1)) +\n",
    "  coord_flip()"
   ]
  },
  {
   "cell_type": "code",
   "execution_count": 91,
   "metadata": {
    "vscode": {
     "languageId": "r"
    }
   },
   "outputs": [],
   "source": [
    "# Create a function to replace with \"Others\" if not in the top list\n",
    "replace_with_others <- function(names, top_names) {\n",
    "  names <- as.character(names)\n",
    "  names[!names %in% top_names] <- \"Others\"\n",
    "  names <- as.factor(names)\n",
    "  return(names)\n",
    "}\n",
    "\n",
    "data$TopDeveloper_Count = data$Developer\n",
    "\n",
    "# Replace publishers and developers in the original data frame\n",
    "data$TopDeveloper_Count <- replace_with_others(data$TopDeveloper_Count, top10_developers)"
   ]
  },
  {
   "cell_type": "code",
   "execution_count": 92,
   "metadata": {
    "vscode": {
     "languageId": "r"
    }
   },
   "outputs": [
    {
     "data": {
      "text/html": [
       "<style>\n",
       ".dl-inline {width: auto; margin:0; padding: 0}\n",
       ".dl-inline>dt, .dl-inline>dd {float: none; width: auto; display: inline-block}\n",
       ".dl-inline>dt::after {content: \":\\0020\"; padding-right: .5ex}\n",
       ".dl-inline>dt:not(:first-of-type) {padding-left: .5ex}\n",
       "</style><dl class=dl-inline><dt>Title</dt><dd>700</dd><dt>Platform</dt><dd>6</dd><dt>Genre</dt><dd>8</dd><dt>Publisher</dt><dd>8</dd><dt>VGScore</dt><dd>28</dd><dt>CriticScore</dt><dd>34</dd><dt>UserScore</dt><dd>21</dd><dt>TotalShipped</dt><dd>346</dd><dt>AsianSales</dt><dd>336</dd><dt>NorthAmericaSales</dt><dd>400</dd><dt>JapanSales</dt><dd>397</dd><dt>EuropeSales</dt><dd>355</dd><dt>GlobalSales</dt><dd>657</dd><dt>ProductionCost</dt><dd>407</dd><dt>Developer</dt><dd>288</dd><dt>MultipleGenre</dt><dd>249</dd><dt>MetaScore</dt><dd>20</dd><dt>AvgUserScore</dt><dd>55</dd><dt>NoOfPlayers</dt><dd>6</dd><dt>ReleaseDate</dt><dd>284</dd><dt>ReleaseYear</dt><dd>19</dd><dt>ReleaseMonth</dt><dd>12</dd><dt>EndOfMonth</dt><dd>2</dd><dt>ReleaseQuarter</dt><dd>4</dd><dt>ReleaseWeekDay</dt><dd>7</dd><dt>ReleaseWeekend</dt><dd>2</dd><dt>ReleaseWeek</dt><dd>52</dd><dt>LogGlobalSales</dt><dd>657</dd><dt>SqRtGlobalSales</dt><dd>657</dd><dt>TopDeveloper_Count</dt><dd>11</dd></dl>\n"
      ],
      "text/latex": [
       "\\begin{description*}\n",
       "\\item[Title] 700\n",
       "\\item[Platform] 6\n",
       "\\item[Genre] 8\n",
       "\\item[Publisher] 8\n",
       "\\item[VGScore] 28\n",
       "\\item[CriticScore] 34\n",
       "\\item[UserScore] 21\n",
       "\\item[TotalShipped] 346\n",
       "\\item[AsianSales] 336\n",
       "\\item[NorthAmericaSales] 400\n",
       "\\item[JapanSales] 397\n",
       "\\item[EuropeSales] 355\n",
       "\\item[GlobalSales] 657\n",
       "\\item[ProductionCost] 407\n",
       "\\item[Developer] 288\n",
       "\\item[MultipleGenre] 249\n",
       "\\item[MetaScore] 20\n",
       "\\item[AvgUserScore] 55\n",
       "\\item[NoOfPlayers] 6\n",
       "\\item[ReleaseDate] 284\n",
       "\\item[ReleaseYear] 19\n",
       "\\item[ReleaseMonth] 12\n",
       "\\item[EndOfMonth] 2\n",
       "\\item[ReleaseQuarter] 4\n",
       "\\item[ReleaseWeekDay] 7\n",
       "\\item[ReleaseWeekend] 2\n",
       "\\item[ReleaseWeek] 52\n",
       "\\item[LogGlobalSales] 657\n",
       "\\item[SqRtGlobalSales] 657\n",
       "\\item[TopDeveloper\\textbackslash{}\\_Count] 11\n",
       "\\end{description*}\n"
      ],
      "text/markdown": [
       "Title\n",
       ":   700Platform\n",
       ":   6Genre\n",
       ":   8Publisher\n",
       ":   8VGScore\n",
       ":   28CriticScore\n",
       ":   34UserScore\n",
       ":   21TotalShipped\n",
       ":   346AsianSales\n",
       ":   336NorthAmericaSales\n",
       ":   400JapanSales\n",
       ":   397EuropeSales\n",
       ":   355GlobalSales\n",
       ":   657ProductionCost\n",
       ":   407Developer\n",
       ":   288MultipleGenre\n",
       ":   249MetaScore\n",
       ":   20AvgUserScore\n",
       ":   55NoOfPlayers\n",
       ":   6ReleaseDate\n",
       ":   284ReleaseYear\n",
       ":   19ReleaseMonth\n",
       ":   12EndOfMonth\n",
       ":   2ReleaseQuarter\n",
       ":   4ReleaseWeekDay\n",
       ":   7ReleaseWeekend\n",
       ":   2ReleaseWeek\n",
       ":   52LogGlobalSales\n",
       ":   657SqRtGlobalSales\n",
       ":   657TopDeveloper_Count\n",
       ":   11\n",
       "\n"
      ],
      "text/plain": [
       "             Title           Platform              Genre          Publisher \n",
       "               700                  6                  8                  8 \n",
       "           VGScore        CriticScore          UserScore       TotalShipped \n",
       "                28                 34                 21                346 \n",
       "        AsianSales  NorthAmericaSales         JapanSales        EuropeSales \n",
       "               336                400                397                355 \n",
       "       GlobalSales     ProductionCost          Developer      MultipleGenre \n",
       "               657                407                288                249 \n",
       "         MetaScore       AvgUserScore        NoOfPlayers        ReleaseDate \n",
       "                20                 55                  6                284 \n",
       "       ReleaseYear       ReleaseMonth         EndOfMonth     ReleaseQuarter \n",
       "                19                 12                  2                  4 \n",
       "    ReleaseWeekDay     ReleaseWeekend        ReleaseWeek     LogGlobalSales \n",
       "                 7                  2                 52                657 \n",
       "   SqRtGlobalSales TopDeveloper_Count \n",
       "               657                 11 "
      ]
     },
     "metadata": {},
     "output_type": "display_data"
    }
   ],
   "source": [
    "########################################################\n",
    "# Check the number of distinct values for the variables\n",
    "sapply(data, function(x) n_distinct(x))"
   ]
  },
  {
   "cell_type": "code",
   "execution_count": 96,
   "metadata": {
    "vscode": {
     "languageId": "r"
    }
   },
   "outputs": [
    {
     "name": "stdout",
     "output_type": "stream",
     "text": [
      " [1] Electronic Arts   SportsInteractive Codemasters       Ubisoft          \n",
      " [5] Namco             ValveSoftware     KCET              VisualConcepts   \n",
      " [9] Nintendo          Maxis            \n",
      "288 Levels: 1stPlayableProductions 2015 2DBoy 2KCzech 2KGames ... ZipperInteractive\n"
     ]
    }
   ],
   "source": [
    "## Explore to group Developer by using GlobalSales\n",
    "\n",
    "# Calculate the sum of GlobalSales for each Developer\n",
    "developer_sales <- data %>%\n",
    "  group_by(Developer) %>%\n",
    "  summarise(GlobalSales = sum(GlobalSales)) %>%\n",
    "  arrange(desc(GlobalSales))\n",
    "\n",
    "  # Extract the top 10 unique developers based on count frequency\n",
    "top10_developers_sum <- developer_sales$Developer %>%\n",
    "  head(10)\n",
    "\n",
    "# View the top 10\n",
    "print(top10_developers_sum)"
   ]
  },
  {
   "cell_type": "code",
   "execution_count": 98,
   "metadata": {
    "vscode": {
     "languageId": "r"
    }
   },
   "outputs": [
    {
     "data": {
      "image/png": "[encoded data removed]",
      "text/plain": [
       "plot without title"
      ]
     },
     "metadata": {
      "image/png": {
       "height": 420,
       "width": 420
      }
     },
     "output_type": "display_data"
    }
   ],
   "source": [
    "# Visualize top 10 Developers by Global Sales\n",
    "ggplot(subset(developer_sales, Developer %in% top10_developers_sum), aes(x = reorder(Developer, -GlobalSales), y = GlobalSales)) +\n",
    "  geom_bar(stat = \"identity\", fill = \"skyblue\", alpha = 0.7) +\n",
    "  labs(title = \"Top 10 Developers by Global Sales\",\n",
    "       x = \"Developer\",\n",
    "       y = \"Global Sales\") +\n",
    "  theme(axis.text.x = element_text(angle = 45, hjust = 1)) +\n",
    "  coord_flip()"
   ]
  },
  {
   "cell_type": "code",
   "execution_count": 99,
   "metadata": {
    "vscode": {
     "languageId": "r"
    }
   },
   "outputs": [],
   "source": [
    "# Create a function to replace with \"Others\" if not in the top list\n",
    "replace_with_others <- function(names, top_names) {\n",
    "  names <- as.character(names)\n",
    "  names[!names %in% top_names] <- \"Others\"\n",
    "  names <- as.factor(names)\n",
    "  return(names)\n",
    "}\n",
    "\n",
    "data$TopDeveloper_Sum = data$Developer\n",
    "\n",
    "# Replace publishers and developers in the original data frame\n",
    "data$TopDeveloper_Sum <- replace_with_others(data$TopDeveloper_Sum, top10_developers_sum)"
   ]
  },
  {
   "cell_type": "code",
   "execution_count": 100,
   "metadata": {
    "vscode": {
     "languageId": "r"
    }
   },
   "outputs": [
    {
     "data": {
      "text/html": [
       "<style>\n",
       ".dl-inline {width: auto; margin:0; padding: 0}\n",
       ".dl-inline>dt, .dl-inline>dd {float: none; width: auto; display: inline-block}\n",
       ".dl-inline>dt::after {content: \":\\0020\"; padding-right: .5ex}\n",
       ".dl-inline>dt:not(:first-of-type) {padding-left: .5ex}\n",
       "</style><dl class=dl-inline><dt>Title</dt><dd>700</dd><dt>Platform</dt><dd>6</dd><dt>Genre</dt><dd>8</dd><dt>Publisher</dt><dd>8</dd><dt>VGScore</dt><dd>28</dd><dt>CriticScore</dt><dd>34</dd><dt>UserScore</dt><dd>21</dd><dt>TotalShipped</dt><dd>346</dd><dt>AsianSales</dt><dd>336</dd><dt>NorthAmericaSales</dt><dd>400</dd><dt>JapanSales</dt><dd>397</dd><dt>EuropeSales</dt><dd>355</dd><dt>GlobalSales</dt><dd>657</dd><dt>ProductionCost</dt><dd>407</dd><dt>Developer</dt><dd>288</dd><dt>MultipleGenre</dt><dd>249</dd><dt>MetaScore</dt><dd>20</dd><dt>AvgUserScore</dt><dd>55</dd><dt>NoOfPlayers</dt><dd>6</dd><dt>ReleaseDate</dt><dd>284</dd><dt>ReleaseYear</dt><dd>19</dd><dt>ReleaseMonth</dt><dd>12</dd><dt>EndOfMonth</dt><dd>2</dd><dt>ReleaseQuarter</dt><dd>4</dd><dt>ReleaseWeekDay</dt><dd>7</dd><dt>ReleaseWeekend</dt><dd>2</dd><dt>ReleaseWeek</dt><dd>52</dd><dt>LogGlobalSales</dt><dd>657</dd><dt>SqRtGlobalSales</dt><dd>657</dd><dt>TopDeveloper_Count</dt><dd>11</dd><dt>TopDeveloper_Sum</dt><dd>11</dd></dl>\n"
      ],
      "text/latex": [
       "\\begin{description*}\n",
       "\\item[Title] 700\n",
       "\\item[Platform] 6\n",
       "\\item[Genre] 8\n",
       "\\item[Publisher] 8\n",
       "\\item[VGScore] 28\n",
       "\\item[CriticScore] 34\n",
       "\\item[UserScore] 21\n",
       "\\item[TotalShipped] 346\n",
       "\\item[AsianSales] 336\n",
       "\\item[NorthAmericaSales] 400\n",
       "\\item[JapanSales] 397\n",
       "\\item[EuropeSales] 355\n",
       "\\item[GlobalSales] 657\n",
       "\\item[ProductionCost] 407\n",
       "\\item[Developer] 288\n",
       "\\item[MultipleGenre] 249\n",
       "\\item[MetaScore] 20\n",
       "\\item[AvgUserScore] 55\n",
       "\\item[NoOfPlayers] 6\n",
       "\\item[ReleaseDate] 284\n",
       "\\item[ReleaseYear] 19\n",
       "\\item[ReleaseMonth] 12\n",
       "\\item[EndOfMonth] 2\n",
       "\\item[ReleaseQuarter] 4\n",
       "\\item[ReleaseWeekDay] 7\n",
       "\\item[ReleaseWeekend] 2\n",
       "\\item[ReleaseWeek] 52\n",
       "\\item[LogGlobalSales] 657\n",
       "\\item[SqRtGlobalSales] 657\n",
       "\\item[TopDeveloper\\textbackslash{}\\_Count] 11\n",
       "\\item[TopDeveloper\\textbackslash{}\\_Sum] 11\n",
       "\\end{description*}\n"
      ],
      "text/markdown": [
       "Title\n",
       ":   700Platform\n",
       ":   6Genre\n",
       ":   8Publisher\n",
       ":   8VGScore\n",
       ":   28CriticScore\n",
       ":   34UserScore\n",
       ":   21TotalShipped\n",
       ":   346AsianSales\n",
       ":   336NorthAmericaSales\n",
       ":   400JapanSales\n",
       ":   397EuropeSales\n",
       ":   355GlobalSales\n",
       ":   657ProductionCost\n",
       ":   407Developer\n",
       ":   288MultipleGenre\n",
       ":   249MetaScore\n",
       ":   20AvgUserScore\n",
       ":   55NoOfPlayers\n",
       ":   6ReleaseDate\n",
       ":   284ReleaseYear\n",
       ":   19ReleaseMonth\n",
       ":   12EndOfMonth\n",
       ":   2ReleaseQuarter\n",
       ":   4ReleaseWeekDay\n",
       ":   7ReleaseWeekend\n",
       ":   2ReleaseWeek\n",
       ":   52LogGlobalSales\n",
       ":   657SqRtGlobalSales\n",
       ":   657TopDeveloper_Count\n",
       ":   11TopDeveloper_Sum\n",
       ":   11\n",
       "\n"
      ],
      "text/plain": [
       "             Title           Platform              Genre          Publisher \n",
       "               700                  6                  8                  8 \n",
       "           VGScore        CriticScore          UserScore       TotalShipped \n",
       "                28                 34                 21                346 \n",
       "        AsianSales  NorthAmericaSales         JapanSales        EuropeSales \n",
       "               336                400                397                355 \n",
       "       GlobalSales     ProductionCost          Developer      MultipleGenre \n",
       "               657                407                288                249 \n",
       "         MetaScore       AvgUserScore        NoOfPlayers        ReleaseDate \n",
       "                20                 55                  6                284 \n",
       "       ReleaseYear       ReleaseMonth         EndOfMonth     ReleaseQuarter \n",
       "                19                 12                  2                  4 \n",
       "    ReleaseWeekDay     ReleaseWeekend        ReleaseWeek     LogGlobalSales \n",
       "                 7                  2                 52                657 \n",
       "   SqRtGlobalSales TopDeveloper_Count   TopDeveloper_Sum \n",
       "               657                 11                 11 "
      ]
     },
     "metadata": {},
     "output_type": "display_data"
    }
   ],
   "source": [
    "########################################################\n",
    "# Check the number of distinct values for the variables\n",
    "sapply(data, function(x) n_distinct(x))"
   ]
  },
  {
   "cell_type": "markdown",
   "metadata": {},
   "source": [
    "Handle Outliers, Transform Y to be normally distributed"
   ]
  },
  {
   "cell_type": "code",
   "execution_count": 41,
   "metadata": {
    "vscode": {
     "languageId": "r"
    }
   },
   "outputs": [
    {
     "name": "stderr",
     "output_type": "stream",
     "text": [
      "\u001b[1m\u001b[22m`stat_bin()` using `bins = 30`. Pick better value with `binwidth`.\n"
     ]
    },
    {
     "data": {
      "image/png": "[encoded data removed]",
      "text/plain": [
       "plot without title"
      ]
     },
     "metadata": {
      "image/png": {
       "height": 420,
       "width": 420
      }
     },
     "output_type": "display_data"
    }
   ],
   "source": [
    "########################################################\n",
    "# Check the distribution of dependent variable (GlobalSales)\n",
    "\n",
    "# Create a histogram using ggplot\n",
    "ggplot(data, aes(x = data$GlobalSales)) +\n",
    "  geom_histogram(fill = \"blue\", color = \"black\", alpha = 0.7) +\n",
    "  labs(\n",
    "    title = \"Distribution of Global Sales\",\n",
    "    x = \"Global Sales\",\n",
    "    y = \"Frequency\"\n",
    "  )"
   ]
  },
  {
   "cell_type": "code",
   "execution_count": 43,
   "metadata": {
    "vscode": {
     "languageId": "r"
    }
   },
   "outputs": [
    {
     "name": "stdout",
     "output_type": "stream",
     "text": [
      "Number of outliers: 0 \n"
     ]
    }
   ],
   "source": [
    "# Remove outliers\n",
    "\n",
    "# Calculate the IQR for Global Sales\n",
    "Q1 <- quantile(data$GlobalSales, 0.25)\n",
    "Q3 <- quantile(data$GlobalSales, 0.75)\n",
    "IQR_value <- Q3 - Q1\n",
    "\n",
    "# Define the lower and upper bounds for identifying outliers\n",
    "lower_bound <- Q1 - 1.5 * IQR_value\n",
    "upper_bound <- Q3 + 1.5 * IQR_value\n",
    "\n",
    "# Identify outliers\n",
    "outliers <- data$GlobalSales[data$GlobalSales < lower_bound | data$GlobalSales > upper_bound]\n",
    "\n",
    "# Display the number of outliers removed\n",
    "cat(\"Number of outliers:\", length(outliers), \"\\n\")"
   ]
  },
  {
   "cell_type": "code",
   "execution_count": 45,
   "metadata": {
    "vscode": {
     "languageId": "r"
    }
   },
   "outputs": [],
   "source": [
    "# Right-skewed: transform 'GlobalSales' using log\n",
    "data$LogGlobalSales <- log(data$GlobalSales)"
   ]
  },
  {
   "cell_type": "code",
   "execution_count": 46,
   "metadata": {
    "vscode": {
     "languageId": "r"
    }
   },
   "outputs": [
    {
     "name": "stdout",
     "output_type": "stream",
     "text": [
      "Number of NA values in LogGobalSales: 0 \n",
      "Number of NaN values in LogGobalSales: 0 \n",
      "Number of Inf values in LogGobalSales: 0 \n"
     ]
    }
   ],
   "source": [
    "# Check for NA values in the LogGobalSales column\n",
    "na_count <- sum(is.na(data$LogGobalSales))\n",
    "\n",
    "# Check for NaN values in the LogGobalSales column\n",
    "nan_count <- sum(is.nan(data$LogGobalSales))\n",
    "\n",
    "# Check for Inf values in the LogGobalSales column\n",
    "inf_count <- sum(is.infinite(data$LogGobalSales))\n",
    "\n",
    "# Print the results\n",
    "cat(\"Number of NA values in LogGobalSales:\", na_count, \"\\n\")\n",
    "cat(\"Number of NaN values in LogGobalSales:\", nan_count, \"\\n\")\n",
    "cat(\"Number of Inf values in LogGobalSales:\", inf_count, \"\\n\")"
   ]
  },
  {
   "cell_type": "code",
   "execution_count": 55,
   "metadata": {
    "vscode": {
     "languageId": "r"
    }
   },
   "outputs": [
    {
     "ename": "ERROR",
     "evalue": "Error in qqnorm.default(data$LogGobalSales): y is empty or has only NAs\n",
     "output_type": "error",
     "traceback": [
      "Error in qqnorm.default(data$LogGobalSales): y is empty or has only NAs\nTraceback:\n",
      "1. qqnorm(data$LogGobalSales)",
      "2. qqnorm.default(data$LogGobalSales)",
      "3. stop(\"y is empty or has only NAs\")"
     ]
    },
    {
     "data": {
      "image/png": "[encoded data removed]",
      "text/plain": [
       "Plot with title \"Histogram of LogGobalSales\""
      ]
     },
     "metadata": {
      "image/png": {
       "height": 420,
       "width": 420
      }
     },
     "output_type": "display_data"
    }
   ],
   "source": [
    "# Create a histogram for 'LogGobalSales'\n",
    "hist(x = data$LogGlobalSales, main = \"Histogram of LogGobalSales\", xlab = \"Log Transformed Global Sales\", col = \"lightblue\")\n",
    "\n",
    "# Create a QQ plot for 'LogGobalSales'\n",
    "qqnorm(data$LogGobalSales)\n",
    "qqline(data$LogGobalSales, col = 2)\n",
    "\n",
    "# Display both the histogram and the QQ plot side by side\n",
    "par(mfrow = c(2, 2))"
   ]
  },
  {
   "cell_type": "code",
   "execution_count": 56,
   "metadata": {
    "vscode": {
     "languageId": "r"
    }
   },
   "outputs": [],
   "source": [
    "# Right-skewed: transform 'GlobalSales' using square root\n",
    "data$SqRtGlobalSales <- sqrt(data$GlobalSales)"
   ]
  },
  {
   "cell_type": "code",
   "execution_count": 57,
   "metadata": {
    "vscode": {
     "languageId": "r"
    }
   },
   "outputs": [
    {
     "name": "stdout",
     "output_type": "stream",
     "text": [
      "Number of NA values in SqRtGobalSales: 0 \n",
      "Number of NaN values in SqRtGobalSales: 0 \n",
      "Number of Inf values in SqRtGobalSales: 0 \n"
     ]
    }
   ],
   "source": [
    "# Check for NA values in the SqRtGobalSales column\n",
    "na_count <- sum(is.na(data$SqRtGobalSales))\n",
    "\n",
    "# Check for NaN values in the SqRtGobalSales column\n",
    "nan_count <- sum(is.nan(data$SqRtGobalSales))\n",
    "\n",
    "# Check for Inf values in the SqRtGobalSales column\n",
    "inf_count <- sum(is.infinite(data$SqRtGobalSales))\n",
    "\n",
    "# Print the results\n",
    "cat(\"Number of NA values in SqRtGobalSales:\", na_count, \"\\n\")\n",
    "cat(\"Number of NaN values in SqRtGobalSales:\", nan_count, \"\\n\")\n",
    "cat(\"Number of Inf values in SqRtGobalSales:\", inf_count, \"\\n\")"
   ]
  },
  {
   "cell_type": "code",
   "execution_count": 60,
   "metadata": {
    "vscode": {
     "languageId": "r"
    }
   },
   "outputs": [
    {
     "ename": "ERROR",
     "evalue": "Error in qqnorm.default(data$SqRtGobalSales): y is empty or has only NAs\n",
     "output_type": "error",
     "traceback": [
      "Error in qqnorm.default(data$SqRtGobalSales): y is empty or has only NAs\nTraceback:\n",
      "1. qqnorm(data$SqRtGobalSales)",
      "2. qqnorm.default(data$SqRtGobalSales)",
      "3. stop(\"y is empty or has only NAs\")"
     ]
    },
    {
     "data": {
      "image/png": "[encoded data removed]",
      "text/plain": [
       "Plot with title \"Histogram of SqRtGobalSales\""
      ]
     },
     "metadata": {
      "image/png": {
       "height": 420,
       "width": 420
      }
     },
     "output_type": "display_data"
    }
   ],
   "source": [
    "# Create a histogram for 'SqRtGobalSales'\n",
    "hist(x = data$SqRtGlobalSales, main = \"Histogram of SqRtGobalSales\", xlab = \"Square Root Transformed Global Sales\", col = \"lightblue\")\n",
    "\n",
    "# Create a QQ plot for 'SqRtGobalSales'\n",
    "qqnorm(data$SqRtGobalSales)\n",
    "qqline(data$SqRtGobalSales, col = 2)\n",
    "\n",
    "# Display both the histogram and the QQ plot side by side\n",
    "par(mfrow = c(2, 2))"
   ]
  },
  {
   "cell_type": "markdown",
   "metadata": {},
   "source": [
    "Multi-collinearity assessment"
   ]
  },
  {
   "cell_type": "code",
   "execution_count": 73,
   "metadata": {
    "vscode": {
     "languageId": "r"
    }
   },
   "outputs": [
    {
     "data": {
      "text/html": [
       "<table class=\"dataframe\">\n",
       "<caption>A matrix: 17 × 17 of type dbl</caption>\n",
       "<thead>\n",
       "\t<tr><th></th><th scope=col>AsianSales</th><th scope=col>NorthAmericaSales</th><th scope=col>JapanSales</th><th scope=col>EuropeSales</th><th scope=col>GlobalSales</th><th scope=col>VGScore</th><th scope=col>CriticScore</th><th scope=col>UserScore</th><th scope=col>TotalShipped</th><th scope=col>ProductionCost</th><th scope=col>MetaScore</th><th scope=col>ReleaseYear</th><th scope=col>ReleaseMonth</th><th scope=col>ReleaseQuarter</th><th scope=col>ReleaseWeekDay</th><th scope=col>ReleaseWeekend</th><th scope=col>ReleaseWeek</th></tr>\n",
       "</thead>\n",
       "<tbody>\n",
       "\t<tr><th scope=row>AsianSales</th><td> 1.0000000000</td><td> 0.36822181</td><td> 0.122625175</td><td> 0.426538813</td><td> 0.63996690</td><td> 0.02653367</td><td> 0.064923857</td><td>-2.765861e-02</td><td>-0.104938564</td><td> 0.046668956</td><td> 0.021319036</td><td> 0.06497030</td><td> 1.231662e-02</td><td> 0.0002100561</td><td> 0.039826023</td><td>-0.007461382</td><td> 1.236303e-02</td></tr>\n",
       "\t<tr><th scope=row>NorthAmericaSales</th><td> 0.3682218140</td><td> 1.00000000</td><td> 0.209169061</td><td> 0.489994002</td><td> 0.75908253</td><td> 0.01174431</td><td>-0.038268105</td><td> 1.810684e-02</td><td>-0.112659135</td><td> 0.046786875</td><td> 0.027655189</td><td> 0.09832605</td><td> 5.888215e-02</td><td> 0.0530159759</td><td> 0.132370504</td><td> 0.050439079</td><td> 5.871604e-02</td></tr>\n",
       "\t<tr><th scope=row>JapanSales</th><td> 0.1226251752</td><td> 0.20916906</td><td> 1.000000000</td><td> 0.188033399</td><td> 0.48445869</td><td>-0.04531488</td><td>-0.098337070</td><td> 1.524083e-02</td><td>-0.021761662</td><td> 0.031443626</td><td>-0.023918316</td><td>-0.09368206</td><td>-8.108940e-03</td><td>-0.0230631253</td><td> 0.026660531</td><td> 0.005191000</td><td>-5.143258e-03</td></tr>\n",
       "\t<tr><th scope=row>EuropeSales</th><td> 0.4265388134</td><td> 0.48999400</td><td> 0.188033399</td><td> 1.000000000</td><td> 0.80643315</td><td> 0.04696353</td><td>-0.049858120</td><td>-4.788065e-02</td><td>-0.137886210</td><td> 0.045865718</td><td> 0.000771382</td><td> 0.09922313</td><td>-4.753942e-03</td><td>-0.0058542647</td><td> 0.135729230</td><td> 0.078716444</td><td>-8.908594e-03</td></tr>\n",
       "\t<tr><th scope=row>GlobalSales</th><td> 0.6399668956</td><td> 0.75908253</td><td> 0.484458692</td><td> 0.806433150</td><td> 1.00000000</td><td> 0.02309694</td><td>-0.041209015</td><td>-2.267475e-02</td><td>-0.155415197</td><td> 0.058837993</td><td> 0.052002484</td><td> 0.05909628</td><td> 2.292346e-02</td><td> 0.0155658517</td><td> 0.124389322</td><td> 0.047557856</td><td> 2.327606e-02</td></tr>\n",
       "\t<tr><th scope=row>VGScore</th><td> 0.0265336743</td><td> 0.01174431</td><td>-0.045314875</td><td> 0.046963530</td><td> 0.02309694</td><td> 1.00000000</td><td>-0.002716100</td><td> 2.669127e-02</td><td>-0.102992087</td><td>-0.014652247</td><td>-0.032980274</td><td> 0.32101901</td><td>-3.569961e-02</td><td>-0.0475409660</td><td>-0.011992805</td><td>-0.011725126</td><td>-3.365914e-02</td></tr>\n",
       "\t<tr><th scope=row>CriticScore</th><td> 0.0649238572</td><td>-0.03826810</td><td>-0.098337070</td><td>-0.049858120</td><td>-0.04120902</td><td>-0.00271610</td><td> 1.000000000</td><td> 2.079416e-02</td><td>-0.006459854</td><td>-0.004163653</td><td> 0.147674020</td><td> 0.02307700</td><td>-1.770748e-02</td><td>-0.0142697060</td><td>-0.037023704</td><td>-0.023538812</td><td>-1.857865e-02</td></tr>\n",
       "\t<tr><th scope=row>UserScore</th><td>-0.0276586066</td><td> 0.01810684</td><td> 0.015240829</td><td>-0.047880649</td><td>-0.02267475</td><td> 0.02669127</td><td> 0.020794160</td><td> 1.000000e+00</td><td>-0.028460768</td><td> 0.036005901</td><td> 0.009703405</td><td> 0.01837375</td><td>-9.594874e-05</td><td>-0.0075146331</td><td>-0.029157684</td><td>-0.048631192</td><td>-6.252595e-05</td></tr>\n",
       "\t<tr><th scope=row>TotalShipped</th><td>-0.1049385640</td><td>-0.11265914</td><td>-0.021761662</td><td>-0.137886210</td><td>-0.15541520</td><td>-0.10299209</td><td>-0.006459854</td><td>-2.846077e-02</td><td> 1.000000000</td><td> 0.054594260</td><td>-0.029295564</td><td>-0.21574132</td><td> 5.990068e-02</td><td> 0.0572535825</td><td>-0.025109892</td><td>-0.010475489</td><td> 5.716952e-02</td></tr>\n",
       "\t<tr><th scope=row>ProductionCost</th><td> 0.0466689557</td><td> 0.04678688</td><td> 0.031443626</td><td> 0.045865718</td><td> 0.05883799</td><td>-0.01465225</td><td>-0.004163653</td><td> 3.600590e-02</td><td> 0.054594260</td><td> 1.000000000</td><td> 0.016855399</td><td>-0.03249579</td><td> 2.843601e-02</td><td> 0.0260068817</td><td> 0.039412225</td><td> 0.017797370</td><td> 2.822827e-02</td></tr>\n",
       "\t<tr><th scope=row>MetaScore</th><td> 0.0213190358</td><td> 0.02765519</td><td>-0.023918316</td><td> 0.000771382</td><td> 0.05200248</td><td>-0.03298027</td><td> 0.147674020</td><td> 9.703405e-03</td><td>-0.029295564</td><td> 0.016855399</td><td> 1.000000000</td><td>-0.10827942</td><td>-3.854044e-02</td><td>-0.0363963969</td><td>-0.068327939</td><td>-0.001977487</td><td>-3.376515e-02</td></tr>\n",
       "\t<tr><th scope=row>ReleaseYear</th><td> 0.0649702987</td><td> 0.09832605</td><td>-0.093682058</td><td> 0.099223135</td><td> 0.05909628</td><td> 0.32101901</td><td> 0.023076999</td><td> 1.837375e-02</td><td>-0.215741321</td><td>-0.032495792</td><td>-0.108279417</td><td> 1.00000000</td><td>-1.132925e-01</td><td>-0.1134077941</td><td> 0.018937790</td><td>-0.046815479</td><td>-1.144399e-01</td></tr>\n",
       "\t<tr><th scope=row>ReleaseMonth</th><td> 0.0123166174</td><td> 0.05888215</td><td>-0.008108940</td><td>-0.004753942</td><td> 0.02292346</td><td>-0.03569961</td><td>-0.017707485</td><td>-9.594874e-05</td><td> 0.059900676</td><td> 0.028436014</td><td>-0.038540438</td><td>-0.11329255</td><td> 1.000000e+00</td><td> 0.9730919787</td><td> 0.011059215</td><td>-0.024892804</td><td> 9.959278e-01</td></tr>\n",
       "\t<tr><th scope=row>ReleaseQuarter</th><td> 0.0002100561</td><td> 0.05301598</td><td>-0.023063125</td><td>-0.005854265</td><td> 0.01556585</td><td>-0.04754097</td><td>-0.014269706</td><td>-7.514633e-03</td><td> 0.057253583</td><td> 0.026006882</td><td>-0.036396397</td><td>-0.11340779</td><td> 9.730920e-01</td><td> 1.0000000000</td><td> 0.020525096</td><td>-0.030047326</td><td> 9.700605e-01</td></tr>\n",
       "\t<tr><th scope=row>ReleaseWeekDay</th><td> 0.0398260233</td><td> 0.13237050</td><td> 0.026660531</td><td> 0.135729230</td><td> 0.12438932</td><td>-0.01199280</td><td>-0.037023704</td><td>-2.915768e-02</td><td>-0.025109892</td><td> 0.039412225</td><td>-0.068327939</td><td> 0.01893779</td><td> 1.105921e-02</td><td> 0.0205250964</td><td> 1.000000000</td><td> 0.513765821</td><td>-1.296092e-03</td></tr>\n",
       "\t<tr><th scope=row>ReleaseWeekend</th><td>-0.0074613816</td><td> 0.05043908</td><td> 0.005191000</td><td> 0.078716444</td><td> 0.04755786</td><td>-0.01172513</td><td>-0.023538812</td><td>-4.863119e-02</td><td>-0.010475489</td><td> 0.017797370</td><td>-0.001977487</td><td>-0.04681548</td><td>-2.489280e-02</td><td>-0.0300473260</td><td> 0.513765821</td><td> 1.000000000</td><td>-3.801344e-02</td></tr>\n",
       "\t<tr><th scope=row>ReleaseWeek</th><td> 0.0123630271</td><td> 0.05871604</td><td>-0.005143258</td><td>-0.008908594</td><td> 0.02327606</td><td>-0.03365914</td><td>-0.018578653</td><td>-6.252595e-05</td><td> 0.057169524</td><td> 0.028228268</td><td>-0.033765150</td><td>-0.11443994</td><td> 9.959278e-01</td><td> 0.9700604683</td><td>-0.001296092</td><td>-0.038013444</td><td> 1.000000e+00</td></tr>\n",
       "</tbody>\n",
       "</table>\n"
      ],
      "text/latex": [
       "A matrix: 17 × 17 of type dbl\n",
       "\\begin{tabular}{r|lllllllllllllllll}\n",
       "  & AsianSales & NorthAmericaSales & JapanSales & EuropeSales & GlobalSales & VGScore & CriticScore & UserScore & TotalShipped & ProductionCost & MetaScore & ReleaseYear & ReleaseMonth & ReleaseQuarter & ReleaseWeekDay & ReleaseWeekend & ReleaseWeek\\\\\n",
       "\\hline\n",
       "\tAsianSales &  1.0000000000 &  0.36822181 &  0.122625175 &  0.426538813 &  0.63996690 &  0.02653367 &  0.064923857 & -2.765861e-02 & -0.104938564 &  0.046668956 &  0.021319036 &  0.06497030 &  1.231662e-02 &  0.0002100561 &  0.039826023 & -0.007461382 &  1.236303e-02\\\\\n",
       "\tNorthAmericaSales &  0.3682218140 &  1.00000000 &  0.209169061 &  0.489994002 &  0.75908253 &  0.01174431 & -0.038268105 &  1.810684e-02 & -0.112659135 &  0.046786875 &  0.027655189 &  0.09832605 &  5.888215e-02 &  0.0530159759 &  0.132370504 &  0.050439079 &  5.871604e-02\\\\\n",
       "\tJapanSales &  0.1226251752 &  0.20916906 &  1.000000000 &  0.188033399 &  0.48445869 & -0.04531488 & -0.098337070 &  1.524083e-02 & -0.021761662 &  0.031443626 & -0.023918316 & -0.09368206 & -8.108940e-03 & -0.0230631253 &  0.026660531 &  0.005191000 & -5.143258e-03\\\\\n",
       "\tEuropeSales &  0.4265388134 &  0.48999400 &  0.188033399 &  1.000000000 &  0.80643315 &  0.04696353 & -0.049858120 & -4.788065e-02 & -0.137886210 &  0.045865718 &  0.000771382 &  0.09922313 & -4.753942e-03 & -0.0058542647 &  0.135729230 &  0.078716444 & -8.908594e-03\\\\\n",
       "\tGlobalSales &  0.6399668956 &  0.75908253 &  0.484458692 &  0.806433150 &  1.00000000 &  0.02309694 & -0.041209015 & -2.267475e-02 & -0.155415197 &  0.058837993 &  0.052002484 &  0.05909628 &  2.292346e-02 &  0.0155658517 &  0.124389322 &  0.047557856 &  2.327606e-02\\\\\n",
       "\tVGScore &  0.0265336743 &  0.01174431 & -0.045314875 &  0.046963530 &  0.02309694 &  1.00000000 & -0.002716100 &  2.669127e-02 & -0.102992087 & -0.014652247 & -0.032980274 &  0.32101901 & -3.569961e-02 & -0.0475409660 & -0.011992805 & -0.011725126 & -3.365914e-02\\\\\n",
       "\tCriticScore &  0.0649238572 & -0.03826810 & -0.098337070 & -0.049858120 & -0.04120902 & -0.00271610 &  1.000000000 &  2.079416e-02 & -0.006459854 & -0.004163653 &  0.147674020 &  0.02307700 & -1.770748e-02 & -0.0142697060 & -0.037023704 & -0.023538812 & -1.857865e-02\\\\\n",
       "\tUserScore & -0.0276586066 &  0.01810684 &  0.015240829 & -0.047880649 & -0.02267475 &  0.02669127 &  0.020794160 &  1.000000e+00 & -0.028460768 &  0.036005901 &  0.009703405 &  0.01837375 & -9.594874e-05 & -0.0075146331 & -0.029157684 & -0.048631192 & -6.252595e-05\\\\\n",
       "\tTotalShipped & -0.1049385640 & -0.11265914 & -0.021761662 & -0.137886210 & -0.15541520 & -0.10299209 & -0.006459854 & -2.846077e-02 &  1.000000000 &  0.054594260 & -0.029295564 & -0.21574132 &  5.990068e-02 &  0.0572535825 & -0.025109892 & -0.010475489 &  5.716952e-02\\\\\n",
       "\tProductionCost &  0.0466689557 &  0.04678688 &  0.031443626 &  0.045865718 &  0.05883799 & -0.01465225 & -0.004163653 &  3.600590e-02 &  0.054594260 &  1.000000000 &  0.016855399 & -0.03249579 &  2.843601e-02 &  0.0260068817 &  0.039412225 &  0.017797370 &  2.822827e-02\\\\\n",
       "\tMetaScore &  0.0213190358 &  0.02765519 & -0.023918316 &  0.000771382 &  0.05200248 & -0.03298027 &  0.147674020 &  9.703405e-03 & -0.029295564 &  0.016855399 &  1.000000000 & -0.10827942 & -3.854044e-02 & -0.0363963969 & -0.068327939 & -0.001977487 & -3.376515e-02\\\\\n",
       "\tReleaseYear &  0.0649702987 &  0.09832605 & -0.093682058 &  0.099223135 &  0.05909628 &  0.32101901 &  0.023076999 &  1.837375e-02 & -0.215741321 & -0.032495792 & -0.108279417 &  1.00000000 & -1.132925e-01 & -0.1134077941 &  0.018937790 & -0.046815479 & -1.144399e-01\\\\\n",
       "\tReleaseMonth &  0.0123166174 &  0.05888215 & -0.008108940 & -0.004753942 &  0.02292346 & -0.03569961 & -0.017707485 & -9.594874e-05 &  0.059900676 &  0.028436014 & -0.038540438 & -0.11329255 &  1.000000e+00 &  0.9730919787 &  0.011059215 & -0.024892804 &  9.959278e-01\\\\\n",
       "\tReleaseQuarter &  0.0002100561 &  0.05301598 & -0.023063125 & -0.005854265 &  0.01556585 & -0.04754097 & -0.014269706 & -7.514633e-03 &  0.057253583 &  0.026006882 & -0.036396397 & -0.11340779 &  9.730920e-01 &  1.0000000000 &  0.020525096 & -0.030047326 &  9.700605e-01\\\\\n",
       "\tReleaseWeekDay &  0.0398260233 &  0.13237050 &  0.026660531 &  0.135729230 &  0.12438932 & -0.01199280 & -0.037023704 & -2.915768e-02 & -0.025109892 &  0.039412225 & -0.068327939 &  0.01893779 &  1.105921e-02 &  0.0205250964 &  1.000000000 &  0.513765821 & -1.296092e-03\\\\\n",
       "\tReleaseWeekend & -0.0074613816 &  0.05043908 &  0.005191000 &  0.078716444 &  0.04755786 & -0.01172513 & -0.023538812 & -4.863119e-02 & -0.010475489 &  0.017797370 & -0.001977487 & -0.04681548 & -2.489280e-02 & -0.0300473260 &  0.513765821 &  1.000000000 & -3.801344e-02\\\\\n",
       "\tReleaseWeek &  0.0123630271 &  0.05871604 & -0.005143258 & -0.008908594 &  0.02327606 & -0.03365914 & -0.018578653 & -6.252595e-05 &  0.057169524 &  0.028228268 & -0.033765150 & -0.11443994 &  9.959278e-01 &  0.9700604683 & -0.001296092 & -0.038013444 &  1.000000e+00\\\\\n",
       "\\end{tabular}\n"
      ],
      "text/markdown": [
       "\n",
       "A matrix: 17 × 17 of type dbl\n",
       "\n",
       "| <!--/--> | AsianSales | NorthAmericaSales | JapanSales | EuropeSales | GlobalSales | VGScore | CriticScore | UserScore | TotalShipped | ProductionCost | MetaScore | ReleaseYear | ReleaseMonth | ReleaseQuarter | ReleaseWeekDay | ReleaseWeekend | ReleaseWeek |\n",
       "|---|---|---|---|---|---|---|---|---|---|---|---|---|---|---|---|---|---|\n",
       "| AsianSales |  1.0000000000 |  0.36822181 |  0.122625175 |  0.426538813 |  0.63996690 |  0.02653367 |  0.064923857 | -2.765861e-02 | -0.104938564 |  0.046668956 |  0.021319036 |  0.06497030 |  1.231662e-02 |  0.0002100561 |  0.039826023 | -0.007461382 |  1.236303e-02 |\n",
       "| NorthAmericaSales |  0.3682218140 |  1.00000000 |  0.209169061 |  0.489994002 |  0.75908253 |  0.01174431 | -0.038268105 |  1.810684e-02 | -0.112659135 |  0.046786875 |  0.027655189 |  0.09832605 |  5.888215e-02 |  0.0530159759 |  0.132370504 |  0.050439079 |  5.871604e-02 |\n",
       "| JapanSales |  0.1226251752 |  0.20916906 |  1.000000000 |  0.188033399 |  0.48445869 | -0.04531488 | -0.098337070 |  1.524083e-02 | -0.021761662 |  0.031443626 | -0.023918316 | -0.09368206 | -8.108940e-03 | -0.0230631253 |  0.026660531 |  0.005191000 | -5.143258e-03 |\n",
       "| EuropeSales |  0.4265388134 |  0.48999400 |  0.188033399 |  1.000000000 |  0.80643315 |  0.04696353 | -0.049858120 | -4.788065e-02 | -0.137886210 |  0.045865718 |  0.000771382 |  0.09922313 | -4.753942e-03 | -0.0058542647 |  0.135729230 |  0.078716444 | -8.908594e-03 |\n",
       "| GlobalSales |  0.6399668956 |  0.75908253 |  0.484458692 |  0.806433150 |  1.00000000 |  0.02309694 | -0.041209015 | -2.267475e-02 | -0.155415197 |  0.058837993 |  0.052002484 |  0.05909628 |  2.292346e-02 |  0.0155658517 |  0.124389322 |  0.047557856 |  2.327606e-02 |\n",
       "| VGScore |  0.0265336743 |  0.01174431 | -0.045314875 |  0.046963530 |  0.02309694 |  1.00000000 | -0.002716100 |  2.669127e-02 | -0.102992087 | -0.014652247 | -0.032980274 |  0.32101901 | -3.569961e-02 | -0.0475409660 | -0.011992805 | -0.011725126 | -3.365914e-02 |\n",
       "| CriticScore |  0.0649238572 | -0.03826810 | -0.098337070 | -0.049858120 | -0.04120902 | -0.00271610 |  1.000000000 |  2.079416e-02 | -0.006459854 | -0.004163653 |  0.147674020 |  0.02307700 | -1.770748e-02 | -0.0142697060 | -0.037023704 | -0.023538812 | -1.857865e-02 |\n",
       "| UserScore | -0.0276586066 |  0.01810684 |  0.015240829 | -0.047880649 | -0.02267475 |  0.02669127 |  0.020794160 |  1.000000e+00 | -0.028460768 |  0.036005901 |  0.009703405 |  0.01837375 | -9.594874e-05 | -0.0075146331 | -0.029157684 | -0.048631192 | -6.252595e-05 |\n",
       "| TotalShipped | -0.1049385640 | -0.11265914 | -0.021761662 | -0.137886210 | -0.15541520 | -0.10299209 | -0.006459854 | -2.846077e-02 |  1.000000000 |  0.054594260 | -0.029295564 | -0.21574132 |  5.990068e-02 |  0.0572535825 | -0.025109892 | -0.010475489 |  5.716952e-02 |\n",
       "| ProductionCost |  0.0466689557 |  0.04678688 |  0.031443626 |  0.045865718 |  0.05883799 | -0.01465225 | -0.004163653 |  3.600590e-02 |  0.054594260 |  1.000000000 |  0.016855399 | -0.03249579 |  2.843601e-02 |  0.0260068817 |  0.039412225 |  0.017797370 |  2.822827e-02 |\n",
       "| MetaScore |  0.0213190358 |  0.02765519 | -0.023918316 |  0.000771382 |  0.05200248 | -0.03298027 |  0.147674020 |  9.703405e-03 | -0.029295564 |  0.016855399 |  1.000000000 | -0.10827942 | -3.854044e-02 | -0.0363963969 | -0.068327939 | -0.001977487 | -3.376515e-02 |\n",
       "| ReleaseYear |  0.0649702987 |  0.09832605 | -0.093682058 |  0.099223135 |  0.05909628 |  0.32101901 |  0.023076999 |  1.837375e-02 | -0.215741321 | -0.032495792 | -0.108279417 |  1.00000000 | -1.132925e-01 | -0.1134077941 |  0.018937790 | -0.046815479 | -1.144399e-01 |\n",
       "| ReleaseMonth |  0.0123166174 |  0.05888215 | -0.008108940 | -0.004753942 |  0.02292346 | -0.03569961 | -0.017707485 | -9.594874e-05 |  0.059900676 |  0.028436014 | -0.038540438 | -0.11329255 |  1.000000e+00 |  0.9730919787 |  0.011059215 | -0.024892804 |  9.959278e-01 |\n",
       "| ReleaseQuarter |  0.0002100561 |  0.05301598 | -0.023063125 | -0.005854265 |  0.01556585 | -0.04754097 | -0.014269706 | -7.514633e-03 |  0.057253583 |  0.026006882 | -0.036396397 | -0.11340779 |  9.730920e-01 |  1.0000000000 |  0.020525096 | -0.030047326 |  9.700605e-01 |\n",
       "| ReleaseWeekDay |  0.0398260233 |  0.13237050 |  0.026660531 |  0.135729230 |  0.12438932 | -0.01199280 | -0.037023704 | -2.915768e-02 | -0.025109892 |  0.039412225 | -0.068327939 |  0.01893779 |  1.105921e-02 |  0.0205250964 |  1.000000000 |  0.513765821 | -1.296092e-03 |\n",
       "| ReleaseWeekend | -0.0074613816 |  0.05043908 |  0.005191000 |  0.078716444 |  0.04755786 | -0.01172513 | -0.023538812 | -4.863119e-02 | -0.010475489 |  0.017797370 | -0.001977487 | -0.04681548 | -2.489280e-02 | -0.0300473260 |  0.513765821 |  1.000000000 | -3.801344e-02 |\n",
       "| ReleaseWeek |  0.0123630271 |  0.05871604 | -0.005143258 | -0.008908594 |  0.02327606 | -0.03365914 | -0.018578653 | -6.252595e-05 |  0.057169524 |  0.028228268 | -0.033765150 | -0.11443994 |  9.959278e-01 |  0.9700604683 | -0.001296092 | -0.038013444 |  1.000000e+00 |\n",
       "\n"
      ],
      "text/plain": [
       "                  AsianSales    NorthAmericaSales JapanSales   EuropeSales \n",
       "AsianSales         1.0000000000  0.36822181        0.122625175  0.426538813\n",
       "NorthAmericaSales  0.3682218140  1.00000000        0.209169061  0.489994002\n",
       "JapanSales         0.1226251752  0.20916906        1.000000000  0.188033399\n",
       "EuropeSales        0.4265388134  0.48999400        0.188033399  1.000000000\n",
       "GlobalSales        0.6399668956  0.75908253        0.484458692  0.806433150\n",
       "VGScore            0.0265336743  0.01174431       -0.045314875  0.046963530\n",
       "CriticScore        0.0649238572 -0.03826810       -0.098337070 -0.049858120\n",
       "UserScore         -0.0276586066  0.01810684        0.015240829 -0.047880649\n",
       "TotalShipped      -0.1049385640 -0.11265914       -0.021761662 -0.137886210\n",
       "ProductionCost     0.0466689557  0.04678688        0.031443626  0.045865718\n",
       "MetaScore          0.0213190358  0.02765519       -0.023918316  0.000771382\n",
       "ReleaseYear        0.0649702987  0.09832605       -0.093682058  0.099223135\n",
       "ReleaseMonth       0.0123166174  0.05888215       -0.008108940 -0.004753942\n",
       "ReleaseQuarter     0.0002100561  0.05301598       -0.023063125 -0.005854265\n",
       "ReleaseWeekDay     0.0398260233  0.13237050        0.026660531  0.135729230\n",
       "ReleaseWeekend    -0.0074613816  0.05043908        0.005191000  0.078716444\n",
       "ReleaseWeek        0.0123630271  0.05871604       -0.005143258 -0.008908594\n",
       "                  GlobalSales VGScore     CriticScore  UserScore    \n",
       "AsianSales         0.63996690  0.02653367  0.064923857 -2.765861e-02\n",
       "NorthAmericaSales  0.75908253  0.01174431 -0.038268105  1.810684e-02\n",
       "JapanSales         0.48445869 -0.04531488 -0.098337070  1.524083e-02\n",
       "EuropeSales        0.80643315  0.04696353 -0.049858120 -4.788065e-02\n",
       "GlobalSales        1.00000000  0.02309694 -0.041209015 -2.267475e-02\n",
       "VGScore            0.02309694  1.00000000 -0.002716100  2.669127e-02\n",
       "CriticScore       -0.04120902 -0.00271610  1.000000000  2.079416e-02\n",
       "UserScore         -0.02267475  0.02669127  0.020794160  1.000000e+00\n",
       "TotalShipped      -0.15541520 -0.10299209 -0.006459854 -2.846077e-02\n",
       "ProductionCost     0.05883799 -0.01465225 -0.004163653  3.600590e-02\n",
       "MetaScore          0.05200248 -0.03298027  0.147674020  9.703405e-03\n",
       "ReleaseYear        0.05909628  0.32101901  0.023076999  1.837375e-02\n",
       "ReleaseMonth       0.02292346 -0.03569961 -0.017707485 -9.594874e-05\n",
       "ReleaseQuarter     0.01556585 -0.04754097 -0.014269706 -7.514633e-03\n",
       "ReleaseWeekDay     0.12438932 -0.01199280 -0.037023704 -2.915768e-02\n",
       "ReleaseWeekend     0.04755786 -0.01172513 -0.023538812 -4.863119e-02\n",
       "ReleaseWeek        0.02327606 -0.03365914 -0.018578653 -6.252595e-05\n",
       "                  TotalShipped ProductionCost MetaScore    ReleaseYear\n",
       "AsianSales        -0.104938564  0.046668956    0.021319036  0.06497030\n",
       "NorthAmericaSales -0.112659135  0.046786875    0.027655189  0.09832605\n",
       "JapanSales        -0.021761662  0.031443626   -0.023918316 -0.09368206\n",
       "EuropeSales       -0.137886210  0.045865718    0.000771382  0.09922313\n",
       "GlobalSales       -0.155415197  0.058837993    0.052002484  0.05909628\n",
       "VGScore           -0.102992087 -0.014652247   -0.032980274  0.32101901\n",
       "CriticScore       -0.006459854 -0.004163653    0.147674020  0.02307700\n",
       "UserScore         -0.028460768  0.036005901    0.009703405  0.01837375\n",
       "TotalShipped       1.000000000  0.054594260   -0.029295564 -0.21574132\n",
       "ProductionCost     0.054594260  1.000000000    0.016855399 -0.03249579\n",
       "MetaScore         -0.029295564  0.016855399    1.000000000 -0.10827942\n",
       "ReleaseYear       -0.215741321 -0.032495792   -0.108279417  1.00000000\n",
       "ReleaseMonth       0.059900676  0.028436014   -0.038540438 -0.11329255\n",
       "ReleaseQuarter     0.057253583  0.026006882   -0.036396397 -0.11340779\n",
       "ReleaseWeekDay    -0.025109892  0.039412225   -0.068327939  0.01893779\n",
       "ReleaseWeekend    -0.010475489  0.017797370   -0.001977487 -0.04681548\n",
       "ReleaseWeek        0.057169524  0.028228268   -0.033765150 -0.11443994\n",
       "                  ReleaseMonth  ReleaseQuarter ReleaseWeekDay ReleaseWeekend\n",
       "AsianSales         1.231662e-02  0.0002100561   0.039826023   -0.007461382  \n",
       "NorthAmericaSales  5.888215e-02  0.0530159759   0.132370504    0.050439079  \n",
       "JapanSales        -8.108940e-03 -0.0230631253   0.026660531    0.005191000  \n",
       "EuropeSales       -4.753942e-03 -0.0058542647   0.135729230    0.078716444  \n",
       "GlobalSales        2.292346e-02  0.0155658517   0.124389322    0.047557856  \n",
       "VGScore           -3.569961e-02 -0.0475409660  -0.011992805   -0.011725126  \n",
       "CriticScore       -1.770748e-02 -0.0142697060  -0.037023704   -0.023538812  \n",
       "UserScore         -9.594874e-05 -0.0075146331  -0.029157684   -0.048631192  \n",
       "TotalShipped       5.990068e-02  0.0572535825  -0.025109892   -0.010475489  \n",
       "ProductionCost     2.843601e-02  0.0260068817   0.039412225    0.017797370  \n",
       "MetaScore         -3.854044e-02 -0.0363963969  -0.068327939   -0.001977487  \n",
       "ReleaseYear       -1.132925e-01 -0.1134077941   0.018937790   -0.046815479  \n",
       "ReleaseMonth       1.000000e+00  0.9730919787   0.011059215   -0.024892804  \n",
       "ReleaseQuarter     9.730920e-01  1.0000000000   0.020525096   -0.030047326  \n",
       "ReleaseWeekDay     1.105921e-02  0.0205250964   1.000000000    0.513765821  \n",
       "ReleaseWeekend    -2.489280e-02 -0.0300473260   0.513765821    1.000000000  \n",
       "ReleaseWeek        9.959278e-01  0.9700604683  -0.001296092   -0.038013444  \n",
       "                  ReleaseWeek  \n",
       "AsianSales         1.236303e-02\n",
       "NorthAmericaSales  5.871604e-02\n",
       "JapanSales        -5.143258e-03\n",
       "EuropeSales       -8.908594e-03\n",
       "GlobalSales        2.327606e-02\n",
       "VGScore           -3.365914e-02\n",
       "CriticScore       -1.857865e-02\n",
       "UserScore         -6.252595e-05\n",
       "TotalShipped       5.716952e-02\n",
       "ProductionCost     2.822827e-02\n",
       "MetaScore         -3.376515e-02\n",
       "ReleaseYear       -1.144399e-01\n",
       "ReleaseMonth       9.959278e-01\n",
       "ReleaseQuarter     9.700605e-01\n",
       "ReleaseWeekDay    -1.296092e-03\n",
       "ReleaseWeekend    -3.801344e-02\n",
       "ReleaseWeek        1.000000e+00"
      ]
     },
     "metadata": {},
     "output_type": "display_data"
    }
   ],
   "source": [
    "# Extract the numerical predictor variables from your data\n",
    "numerical <- data[, c(\"AsianSales\", \"NorthAmericaSales\", \"JapanSales\", \"EuropeSales\", \"GlobalSales\",\n",
    "                    \"VGScore\", \"CriticScore\", \"UserScore\", \"TotalShipped\", \"ProductionCost\", \n",
    "                    \"MetaScore\", \"ReleaseYear\", \"ReleaseMonth\", \"ReleaseQuarter\", \"ReleaseWeekDay\", \"ReleaseWeekend\", \"ReleaseWeek\")]\n",
    "\n",
    "# Identify collinear variables\n",
    "cor_matrix <- cor(numerical)\n",
    "cor_matrix "
   ]
  },
  {
   "cell_type": "code",
   "execution_count": 77,
   "metadata": {
    "vscode": {
     "languageId": "r"
    }
   },
   "outputs": [
    {
     "data": {
      "image/png": "[encoded data removed]",
      "text/plain": [
       "plot without title"
      ]
     },
     "metadata": {
      "image/png": {
       "height": 420,
       "width": 420
      }
     },
     "output_type": "display_data"
    }
   ],
   "source": [
    "# Reshape the correlation matrix for plotting\n",
    "cor_melted <- melt(cor_matrix)\n",
    "\n",
    "# Plotting the heatmap using ggplot\n",
    "ggplot(cor_melted, aes(Var1, Var2, fill = value)) +\n",
    "  geom_tile() +\n",
    "  scale_fill_gradient(low = \"#1b1bbd\", high = \"orange\") +\n",
    "  labs(title = \"Correlation Heatmap\", x = \"Variables\", y = \"Variables\") +\n",
    "  theme(axis.text.x = element_text(angle = 45, hjust = 1))\n"
   ]
  },
  {
   "cell_type": "code",
   "execution_count": 102,
   "metadata": {
    "vscode": {
     "languageId": "r"
    }
   },
   "outputs": [
    {
     "name": "stderr",
     "output_type": "stream",
     "text": [
      "Warning message in chisq.test(cross_tab):\n",
      "\"Chi-squared approximation may be incorrect\"\n",
      "Warning message in chisq.test(cross_tab):\n",
      "\"Chi-squared approximation may be incorrect\"\n",
      "Warning message in chisq.test(cross_tab):\n",
      "\"Chi-squared approximation may be incorrect\"\n",
      "Warning message in chisq.test(cross_tab):\n",
      "\"Chi-squared approximation may be incorrect\"\n",
      "Warning message in chisq.test(cross_tab):\n",
      "\"Chi-squared approximation may be incorrect\"\n"
     ]
    },
    {
     "name": "stderr",
     "output_type": "stream",
     "text": [
      "Warning message in chisq.test(cross_tab):\n",
      "\"Chi-squared approximation may be incorrect\"\n",
      "Warning message in chisq.test(cross_tab):\n",
      "\"Chi-squared approximation may be incorrect\"\n",
      "Warning message in chisq.test(cross_tab):\n",
      "\"Chi-squared approximation may be incorrect\"\n",
      "Warning message in chisq.test(cross_tab):\n",
      "\"Chi-squared approximation may be incorrect\"\n",
      "Warning message in chisq.test(cross_tab):\n",
      "\"Chi-squared approximation may be incorrect\"\n",
      "Warning message in chisq.test(cross_tab):\n",
      "\"Chi-squared approximation may be incorrect\"\n",
      "Warning message in chisq.test(cross_tab):\n",
      "\"Chi-squared approximation may be incorrect\"\n",
      "Warning message in chisq.test(cross_tab):\n",
      "\"Chi-squared approximation may be incorrect\"\n",
      "Warning message in chisq.test(cross_tab):\n",
      "\"Chi-squared approximation may be incorrect\"\n",
      "Warning message in chisq.test(cross_tab):\n",
      "\"Chi-squared approximation may be incorrect\"\n",
      "Warning message in chisq.test(cross_tab):\n",
      "\"Chi-squared approximation may be incorrect\"\n",
      "Warning message in chisq.test(cross_tab):\n",
      "\"Chi-squared approximation may be incorrect\"\n",
      "Warning message in chisq.test(cross_tab):\n",
      "\"Chi-squared approximation may be incorrect\"\n",
      "Warning message in chisq.test(cross_tab):\n",
      "\"Chi-squared approximation may be incorrect\"\n",
      "Warning message in chisq.test(cross_tab):\n",
      "\"Chi-squared approximation may be incorrect\"\n",
      "Warning message in chisq.test(cross_tab):\n",
      "\"Chi-squared approximation may be incorrect\"\n",
      "Warning message in chisq.test(cross_tab):\n",
      "\"Chi-squared approximation may be incorrect\"\n",
      "Warning message in chisq.test(cross_tab):\n",
      "\"Chi-squared approximation may be incorrect\"\n",
      "Warning message in chisq.test(cross_tab):\n",
      "\"Chi-squared approximation may be incorrect\"\n",
      "Warning message in chisq.test(cross_tab):\n",
      "\"Chi-squared approximation may be incorrect\"\n",
      "Warning message in chisq.test(cross_tab):\n",
      "\"Chi-squared approximation may be incorrect\"\n"
     ]
    },
    {
     "name": "stdout",
     "output_type": "stream",
     "text": [
      "                       Platform         Genre    Publisher     Developer\n",
      "Platform                     NA  3.083155e-37 5.414382e-01  2.323621e-31\n",
      "Genre              3.083155e-37            NA 6.770633e-02 2.791300e-207\n",
      "Publisher          5.414382e-01  6.770633e-02           NA  7.203115e-09\n",
      "Developer          2.323621e-31 2.791300e-207 7.203115e-09            NA\n",
      "NoOfPlayers        4.021349e-48  1.961607e-41 7.124463e-01  5.362560e-07\n",
      "EndOfMonth         2.522415e-01  1.455532e-01 1.822544e-01  9.217935e-02\n",
      "TopDeveloper_Count 1.441984e-13 5.536298e-117 3.902491e-21  0.000000e+00\n",
      "TopDeveloper_Sum   3.167884e-28 2.440048e-100 1.677421e-20  0.000000e+00\n",
      "                    NoOfPlayers EndOfMonth TopDeveloper_Count TopDeveloper_Sum\n",
      "Platform           4.021349e-48 0.25224154       1.441984e-13     3.167884e-28\n",
      "Genre              1.961607e-41 0.14555319      5.536298e-117    2.440048e-100\n",
      "Publisher          7.124463e-01 0.18225438       3.902491e-21     1.677421e-20\n",
      "Developer          5.362560e-07 0.09217935       0.000000e+00     0.000000e+00\n",
      "NoOfPlayers                  NA 0.85110840       2.680191e-14     4.209409e-17\n",
      "EndOfMonth         8.511084e-01         NA       7.780530e-03     4.368260e-03\n",
      "TopDeveloper_Count 2.680191e-14 0.00778053                 NA     0.000000e+00\n",
      "TopDeveloper_Sum   4.209409e-17 0.00436826       0.000000e+00               NA\n"
     ]
    }
   ],
   "source": [
    "# Select the categorical variables to compare\n",
    "categorical_variables <- data[, c(\"Platform\", \"Genre\", \"Publisher\", \"Developer\", \"NoOfPlayers\", \"EndOfMonth\", \"TopDeveloper_Count\", \"TopDeveloper_Sum\")]\n",
    "\n",
    "# Create an empty matrix to store p-values from chi-square tests\n",
    "p_values_matrix <- matrix(NA, nrow = ncol(categorical_variables), ncol = ncol(categorical_variables))\n",
    "rownames(p_values_matrix) <- colnames(p_values_matrix) <- names(categorical_variables)\n",
    "\n",
    "# Perform chi-square tests for all pairs of categorical variables\n",
    "for (i in 1:(ncol(categorical_variables) - 1)) {\n",
    "  for (j in (i + 1):ncol(categorical_variables)) {\n",
    "    cross_tab <- table(categorical_variables[, i], categorical_variables[, j])\n",
    "    chi_square_test <- chisq.test(cross_tab)\n",
    "    p_values_matrix[i, j] <- p_values_matrix[j, i] <- chi_square_test$p.value\n",
    "  }\n",
    "}\n",
    "\n",
    "# Print or view the p-values matrix\n",
    "print(p_values_matrix)"
   ]
  },
  {
   "cell_type": "code",
   "execution_count": 103,
   "metadata": {
    "vscode": {
     "languageId": "r"
    }
   },
   "outputs": [
    {
     "data": {
      "image/png": "[encoded data removed]",
      "text/plain": [
       "plot without title"
      ]
     },
     "metadata": {
      "image/png": {
       "height": 420,
       "width": 420
      }
     },
     "output_type": "display_data"
    }
   ],
   "source": [
    "# Reshape the p-values matrix for plotting\n",
    "p_values_df <- reshape2::melt(p_values_matrix)\n",
    "\n",
    "# Plotting the heatmap of p-values\n",
    "ggplot(p_values_df, aes(Var1, Var2, fill = value)) +\n",
    "  geom_tile() +\n",
    "  scale_fill_gradient(low = \"blue\", high = \"orange\") +\n",
    "  labs(title = \"Chi-square Test P-values Heatmap\", x = \"Variables\", y = \"Variables\")"
   ]
  },
  {
   "cell_type": "markdown",
   "metadata": {},
   "source": [
    "Split Training and Testing Dataset"
   ]
  },
  {
   "cell_type": "code",
   "execution_count": 104,
   "metadata": {
    "vscode": {
     "languageId": "r"
    }
   },
   "outputs": [],
   "source": [
    "########################################################\n",
    "# Split into 80-20 training-testing dataset\n",
    "\n",
    "# Set a random seed for reproducibility\n",
    "set.seed(123)\n",
    "\n",
    "# Split the data into a training set (80%) and a test set (20%)\n",
    "split <- sample.split(data$SqRtGlobalSales, SplitRatio = 0.8)\n",
    "training_data <- subset(data, split == TRUE)\n",
    "test_data <- subset(data, split == FALSE)"
   ]
  },
  {
   "cell_type": "markdown",
   "metadata": {},
   "source": [
    "Build LM model"
   ]
  },
  {
   "cell_type": "code",
   "execution_count": 108,
   "metadata": {
    "vscode": {
     "languageId": "r"
    }
   },
   "outputs": [
    {
     "data": {
      "text/plain": [
       "\n",
       "Call:\n",
       "lm(formula = SqRtGlobalSales ~ . - AsianSales - NorthAmericaSales - \n",
       "    JapanSales - EuropeSales - TotalShipped - GlobalSales - LogGlobalSales - \n",
       "    AvgUserScore - MultipleGenre - Title - Developer - TopDeveloper_Count, \n",
       "    data = training_data)\n",
       "\n",
       "Residuals:\n",
       "     Min       1Q   Median       3Q      Max \n",
       "-2.22542 -0.54957  0.03358  0.51007  2.71065 \n",
       "\n",
       "Coefficients:\n",
       "                                       Estimate Std. Error t value Pr(>|t|)    \n",
       "(Intercept)                          -1.804e+01  3.901e+01  -0.463  0.64388    \n",
       "PlatformPC                            1.623e+00  1.745e-01   9.300  < 2e-16 ***\n",
       "PlatformPS                            7.515e-01  2.824e-01   2.661  0.00799 ** \n",
       "PlatformPS2                           3.876e-01  1.846e-01   2.100  0.03615 *  \n",
       "PlatformPS3                           4.496e-01  1.933e-01   2.327  0.02032 *  \n",
       "PlatformPS4                           4.638e-01  2.317e-01   2.001  0.04579 *  \n",
       "GenreBoard Game                       3.339e-01  8.535e-01   0.391  0.69576    \n",
       "GenreFighting                        -4.938e-01  1.825e-01  -2.706  0.00701 ** \n",
       "GenrePuzzle                          -1.897e-01  1.931e-01  -0.983  0.32611    \n",
       "GenreRacing                          -2.323e-01  1.508e-01  -1.540  0.12411    \n",
       "GenreShooter                         -3.583e-01  1.285e-01  -2.788  0.00547 ** \n",
       "GenreSimulation                      -2.924e-01  1.542e-01  -1.897  0.05836 .  \n",
       "GenreSports                          -3.216e-01  1.495e-01  -2.151  0.03184 *  \n",
       "PublisherAmazon Game Studios          1.962e-02  1.511e-01   0.130  0.89671    \n",
       "PublisherElectronic Arts             -1.595e-01  1.082e-01  -1.474  0.14095    \n",
       "PublisherFrontier Developments       -5.659e-02  1.187e-01  -0.477  0.63373    \n",
       "PublisherIBM                          1.922e-01  1.523e-01   1.262  0.20759    \n",
       "PublisherOmega                       -1.592e-01  1.440e-01  -1.106  0.26913    \n",
       "PublisherSony Computer Entertainment -1.270e-01  1.298e-01  -0.978  0.32829    \n",
       "PublisherUbisoft                     -7.704e-02  1.200e-01  -0.642  0.52105    \n",
       "VGScore                               2.055e-02  1.305e-02   1.575  0.11588    \n",
       "CriticScore                          -3.101e-03  1.248e-02  -0.248  0.80384    \n",
       "UserScore                            -1.819e-02  1.147e-02  -1.587  0.11311    \n",
       "ProductionCost                        2.013e-02  1.932e-02   1.042  0.29792    \n",
       "MetaScore                             2.087e-02  8.254e-03   2.528  0.01173 *  \n",
       "NoOfPlayers1                         -5.729e-01  8.540e-01  -0.671  0.50255    \n",
       "NoOfPlayers1 to 2                    -4.839e-01  8.612e-01  -0.562  0.57440    \n",
       "NoOfPlayers1 to 4                    -5.373e-01  8.611e-01  -0.624  0.53288    \n",
       "NoOfPlayers1 to 8                    -9.807e-01  8.874e-01  -1.105  0.26953    \n",
       "NoOfPlayersMutliplayer               -5.047e-01  8.568e-01  -0.589  0.55607    \n",
       "ReleaseDate                          -1.725e-05  4.466e-05  -0.386  0.69941    \n",
       "ReleaseYear                           2.803e-03  1.010e-02   0.277  0.78151    \n",
       "ReleaseMonth                          9.420e-02  4.530e-01   0.208  0.83534    \n",
       "EndOfMonthYes                         1.606e-01  1.231e-01   1.305  0.19255    \n",
       "ReleaseQuarter                       -2.363e-02  1.271e-01  -0.186  0.85258    \n",
       "ReleaseWeekDay                        5.666e-03  3.174e-02   0.179  0.85837    \n",
       "ReleaseWeekend                        1.668e-01  2.270e-01   0.735  0.46286    \n",
       "ReleaseWeek                          -1.799e-02  1.040e-01  -0.173  0.86277    \n",
       "TopDeveloper_SumElectronic Arts       7.790e-01  2.441e-01   3.191  0.00149 ** \n",
       "TopDeveloper_SumKCET                  9.222e-01  3.549e-01   2.598  0.00960 ** \n",
       "TopDeveloper_SumMaxis                -5.435e-02  3.941e-01  -0.138  0.89036    \n",
       "TopDeveloper_SumNamco                 9.779e-01  3.804e-01   2.571  0.01039 *  \n",
       "TopDeveloper_SumNintendo              2.511e+00  4.467e-01   5.620 2.91e-08 ***\n",
       "TopDeveloper_SumOthers                6.883e-01  2.251e-01   3.057  0.00233 ** \n",
       "TopDeveloper_SumSportsInteractive     5.905e-01  3.563e-01   1.657  0.09799 .  \n",
       "TopDeveloper_SumUbisoft               3.442e-01  3.395e-01   1.014  0.31109    \n",
       "TopDeveloper_SumValveSoftware         9.405e-01  4.061e-01   2.316  0.02090 *  \n",
       "TopDeveloper_SumVisualConcepts        5.155e-01  3.269e-01   1.577  0.11534    \n",
       "---\n",
       "Signif. codes:  0 '***' 0.001 '**' 0.01 '*' 0.05 '.' 0.1 ' ' 1\n",
       "\n",
       "Residual standard error: 0.8272 on 603 degrees of freedom\n",
       "  (7 observations deleted due to missingness)\n",
       "Multiple R-squared:  0.4159,\tAdjusted R-squared:  0.3703 \n",
       "F-statistic: 9.134 on 47 and 603 DF,  p-value: < 2.2e-16\n"
      ]
     },
     "metadata": {},
     "output_type": "display_data"
    }
   ],
   "source": [
    "########################################################\n",
    "# Build LM model\n",
    "\n",
    "lm_model1 = lm(SqRtGlobalSales ~ . - AsianSales - NorthAmericaSales - JapanSales - EuropeSales - TotalShipped - GlobalSales - LogGlobalSales\n",
    "                - AvgUserScore - MultipleGenre - Title - Developer - TopDeveloper_Count , data = training_data)\n",
    "summary(lm_model1)"
   ]
  },
  {
   "cell_type": "code",
   "execution_count": 152,
   "metadata": {
    "vscode": {
     "languageId": "r"
    }
   },
   "outputs": [],
   "source": [
    "########################################################\n",
    "# Build LM model for TopN based on frequency count\n",
    "\n",
    "lm_model2 = lm(log_transformed_total_sales ~ . -Rank \n",
    "            - Title - Publisher - Developer  \n",
    "            - Genre\n",
    "            - TopDeveloper_Count \n",
    "            - TopPublisher_Sum - TopDeveloper_Sum\n",
    "            - ReleaseQuarter - ReleaseMonth - ReleaseWeek - EndOfMonth - YearsSinceRelease\n",
    "            - TotalSales - log_transformed_total_sales , data = training_data)"
   ]
  },
  {
   "cell_type": "code",
   "execution_count": 153,
   "metadata": {
    "vscode": {
     "languageId": "r"
    }
   },
   "outputs": [],
   "source": [
    "########################################################\n",
    "# Build LM model for TopN based on frequency count\n",
    "\n",
    "lm_model3 = lm(log_transformed_total_sales ~ . -Rank \n",
    "            - Title - Publisher - Developer  \n",
    "            - Genre \n",
    "            - TopPublisher_Count \n",
    "            - TopPublisher_Sum - TopDeveloper_Sum \n",
    "            - ReleaseQuarter - ReleaseMonth - ReleaseWeek - EndOfMonth - YearsSinceRelease \n",
    "            - TotalSales - log_transformed_total_sales , data = training_data)"
   ]
  },
  {
   "cell_type": "code",
   "execution_count": 162,
   "metadata": {
    "vscode": {
     "languageId": "r"
    }
   },
   "outputs": [],
   "source": [
    "########################################################\n",
    "# Build LM model for TopN based on sum of Total Sales\n",
    "\n",
    "lm_model4 = lm(log_transformed_total_sales ~ . -Rank \n",
    "            - Title - Publisher - Developer  \n",
    "            - Genre \n",
    "            - TopDeveloper_Sum \n",
    "            - TopPublisher_Count - TopDeveloper_Count \n",
    "            - ReleaseQuarter - ReleaseMonth - ReleaseWeek - EndOfMonth - YearsSinceRelease \n",
    "            - TotalSales - log_transformed_total_sales , data = training_data)"
   ]
  },
  {
   "cell_type": "code",
   "execution_count": 155,
   "metadata": {
    "vscode": {
     "languageId": "r"
    }
   },
   "outputs": [],
   "source": [
    "########################################################\n",
    "# Build LM model for TopN based on sum of Total Sales\n",
    "\n",
    "lm_model5 = lm(log_transformed_total_sales ~ . -Rank \n",
    "            - Title - Publisher - Developer  \n",
    "            - Genre \n",
    "            - TopPublisher_Sum \n",
    "            - TopPublisher_Count - TopDeveloper_Count \n",
    "            - ReleaseQuarter - ReleaseMonth - ReleaseWeek - EndOfMonth - YearsSinceRelease \n",
    "            - TotalSales - log_transformed_total_sales , data = training_data)"
   ]
  },
  {
   "cell_type": "code",
   "execution_count": 156,
   "metadata": {
    "vscode": {
     "languageId": "r"
    }
   },
   "outputs": [],
   "source": [
    "########################################################\n",
    "# Build LM model for TopN based on sum of Total Sales\n",
    "\n",
    "lm_model6 = lm(log_transformed_total_sales ~ . -Rank \n",
    "            - Title - Publisher - Developer \n",
    "            - TopPublisher_Sum - TopDeveloper_Sum \n",
    "            - TopPublisher_Count - TopDeveloper_Count \n",
    "            - ReleaseQuarter - ReleaseMonth - ReleaseWeek - EndOfMonth - YearsSinceRelease \n",
    "            - TotalSales - log_transformed_total_sales , data = training_data)"
   ]
  },
  {
   "cell_type": "code",
   "execution_count": 157,
   "metadata": {
    "vscode": {
     "languageId": "r"
    }
   },
   "outputs": [
    {
     "name": "stdout",
     "output_type": "stream",
     "text": [
      "\n",
      "Regression Models Comparison\n",
      "======================================================================================================================================================================================================\n",
      "                                                                                                               Dependent Variable                                                                     \n",
      "                                           -----------------------------------------------------------------------------------------------------------------------------------------------------------\n",
      "                                                                                                                Response Variable                                                                     \n",
      "                                                      (1)                       (2)                       (3)                       (4)                       (5)                       (6)           \n",
      "------------------------------------------------------------------------------------------------------------------------------------------------------------------------------------------------------\n",
      "ConsoleDS                                          -0.261***                 -0.335***                 -0.362***                 -0.213***                 -0.339***                 -0.285***        \n",
      "                                                    (0.084)                   (0.083)                   (0.085)                   (0.082)                   (0.084)                   (0.084)         \n",
      "                                                                                                                                                                                                      \n",
      "ConsoleNS                                           -0.193*                   -0.150                    -0.183*                   -0.025                    -0.196*                   -0.211*         \n",
      "                                                    (0.109)                   (0.109)                   (0.111)                   (0.107)                   (0.110)                   (0.110)         \n",
      "                                                                                                                                                                                                      \n",
      "ConsolePC                                          0.186***                   0.159**                   0.130*                   0.320***                   0.169**                   0.175**         \n",
      "                                                    (0.070)                   (0.069)                   (0.071)                   (0.069)                   (0.070)                   (0.070)         \n",
      "                                                                                                                                                                                                      \n",
      "ConsolePS2                                         -0.584***                 -0.687***                 -0.616***                 -0.607***                 -0.750***                 -0.661***        \n",
      "                                                    (0.189)                   (0.187)                   (0.192)                   (0.183)                   (0.189)                   (0.190)         \n",
      "                                                                                                                                                                                                      \n",
      "ConsolePS3                                         0.307***                  0.301***                  0.343***                  0.380***                  0.358***                  0.298***         \n",
      "                                                    (0.075)                   (0.075)                   (0.076)                   (0.074)                   (0.076)                   (0.076)         \n",
      "                                                                                                                                                                                                      \n",
      "ConsolePS4                                           0.085                     0.128                     0.092                   0.227***                    0.128                     0.088          \n",
      "                                                    (0.080)                   (0.079)                   (0.081)                   (0.079)                   (0.081)                   (0.081)         \n",
      "                                                                                                                                                                                                      \n",
      "ConsolePSN                                          -0.493                    -0.561                    -0.506                    -0.584                    -0.461                    -0.530          \n",
      "                                                    (0.504)                   (0.504)                   (0.514)                   (0.493)                   (0.510)                   (0.510)         \n",
      "                                                                                                                                                                                                      \n",
      "ConsolePSP                                         -0.414***                 -0.472***                 -0.498***                 -0.381***                 -0.552***                 -0.446***        \n",
      "                                                    (0.088)                   (0.086)                   (0.088)                   (0.085)                   (0.087)                   (0.088)         \n",
      "                                                                                                                                                                                                      \n",
      "ConsolePSV                                         -0.336***                 -0.357***                 -0.368***                 -0.290***                 -0.413***                 -0.367***        \n",
      "                                                    (0.085)                   (0.084)                   (0.086)                   (0.083)                   (0.085)                   (0.085)         \n",
      "                                                                                                                                                                                                      \n",
      "ConsoleVC                                           -0.791                    -0.605                    -0.805                    -1.744                    -0.769                    -1.091          \n",
      "                                                    (1.121)                   (1.120)                   (1.143)                   (1.099)                   (1.134)                   (1.134)         \n",
      "                                                                                                                                                                                                      \n",
      "ConsoleWii                                           0.031                     0.031                    -0.007                    0.161*                     0.033                     0.019          \n",
      "                                                    (0.089)                   (0.087)                   (0.089)                   (0.086)                   (0.089)                   (0.089)         \n",
      "                                                                                                                                                                                                      \n",
      "ConsoleWiiU                                          0.026                    -0.070                     0.106                    -0.097                     0.028                    -0.006          \n",
      "                                                    (0.136)                   (0.135)                   (0.138)                   (0.132)                   (0.137)                   (0.137)         \n",
      "                                                                                                                                                                                                      \n",
      "ConsoleX360                                         0.194**                   0.168**                  0.221***                  0.327***                  0.256***                   0.195**         \n",
      "                                                    (0.082)                   (0.081)                   (0.083)                   (0.080)                   (0.082)                   (0.082)         \n",
      "                                                                                                                                                                                                      \n",
      "ConsoleXBL                                          -0.420                    -0.234                    -0.282                    -0.064                    -0.235                    -0.462          \n",
      "                                                    (0.563)                   (0.563)                   (0.574)                   (0.549)                   (0.569)                   (0.570)         \n",
      "                                                                                                                                                                                                      \n",
      "ConsoleXOne                                          0.115                     0.074                     0.114                   0.232***                    0.131                     0.124          \n",
      "                                                    (0.088)                   (0.087)                   (0.089)                   (0.086)                   (0.088)                   (0.088)         \n",
      "                                                                                                                                                                                                      \n",
      "GenreAction-Adventure                              0.244***                                                                                                                           0.230**         \n",
      "                                                    (0.090)                                                                                                                           (0.091)         \n",
      "                                                                                                                                                                                                      \n",
      "GenreAdventure                                     -0.612***                                                                                                                         -0.680***        \n",
      "                                                    (0.065)                                                                                                                           (0.063)         \n",
      "                                                                                                                                                                                                      \n",
      "GenreFighting                                       -0.021                                                                                                                            -0.014          \n",
      "                                                    (0.090)                                                                                                                           (0.090)         \n",
      "                                                                                                                                                                                                      \n",
      "GenreMisc                                          -0.220***                                                                                                                         -0.205***        \n",
      "                                                    (0.069)                                                                                                                           (0.069)         \n",
      "                                                                                                                                                                                                      \n",
      "GenrePlatform                                        0.076                                                                                                                             0.051          \n",
      "                                                    (0.085)                                                                                                                           (0.085)         \n",
      "                                                                                                                                                                                                      \n",
      "GenrePuzzle                                        -0.440***                                                                                                                         -0.474***        \n",
      "                                                    (0.098)                                                                                                                           (0.099)         \n",
      "                                                                                                                                                                                                      \n",
      "GenreRacing                                        -0.276***                                                                                                                         -0.314***        \n",
      "                                                    (0.080)                                                                                                                           (0.080)         \n",
      "                                                                                                                                                                                                      \n",
      "GenreRole-Playing                                    0.097                                                                                                                             0.069          \n",
      "                                                    (0.063)                                                                                                                           (0.062)         \n",
      "                                                                                                                                                                                                      \n",
      "GenreShooter                                         0.101                                                                                                                             0.063          \n",
      "                                                    (0.074)                                                                                                                           (0.074)         \n",
      "                                                                                                                                                                                                      \n",
      "GenreSimulation                                    -0.295***                                                                                                                         -0.327***        \n",
      "                                                    (0.076)                                                                                                                           (0.076)         \n",
      "                                                                                                                                                                                                      \n",
      "GenreSports                                         -0.090                                                                                                                             0.091          \n",
      "                                                    (0.069)                                                                                                                           (0.064)         \n",
      "                                                                                                                                                                                                      \n",
      "GenreStrategy                                      -0.509***                                                                                                                         -0.566***        \n",
      "                                                    (0.085)                                                                                                                           (0.084)         \n",
      "                                                                                                                                                                                                      \n",
      "ReleaseYear                                        -0.077***                 -0.067***                 -0.075***                 -0.066***                 -0.081***                 -0.081***        \n",
      "                                                    (0.010)                   (0.010)                   (0.010)                   (0.010)                   (0.010)                   (0.010)         \n",
      "                                                                                                                                                                                                      \n",
      "ReleaseQuarter                                      -0.019                                                                                                                                            \n",
      "                                                    (0.060)                                                                                                                                           \n",
      "                                                                                                                                                                                                      \n",
      "ReleaseMonth                                        -0.013                                                                                                                                            \n",
      "                                                    (0.108)                                                                                                                                           \n",
      "                                                                                                                                                                                                      \n",
      "ReleaseWeek                                          0.006                                                                                                                                            \n",
      "                                                    (0.024)                                                                                                                                           \n",
      "                                                                                                                                                                                                      \n",
      "ReleaseDay                                         -0.146***                 -0.164***                 -0.161***                 -0.157***                 -0.166***                 -0.160***        \n",
      "                                                    (0.016)                   (0.016)                   (0.016)                   (0.015)                   (0.016)                   (0.016)         \n",
      "                                                                                                                                                                                                      \n",
      "ReleaseWeekendWeekend                              0.449***                  0.518***                  0.487***                  0.443***                  0.515***                  0.497***         \n",
      "                                                    (0.065)                   (0.063)                   (0.065)                   (0.062)                   (0.064)                   (0.064)         \n",
      "                                                                                                                                                                                                      \n",
      "EndOfMonthEnd of month                              -0.103*                                                                                                                                           \n",
      "                                                    (0.059)                                                                                                                                           \n",
      "                                                                                                                                                                                                      \n",
      "YearsSinceRelease                                                                                                                                                                                     \n",
      "                                                                                                                                                                                                      \n",
      "                                                                                                                                                                                                      \n",
      "TopDeveloper_CountCapcom                             0.071                                               0.160                                                                                        \n",
      "                                                    (0.143)                                             (0.145)                                                                                       \n",
      "                                                                                                                                                                                                      \n",
      "TopDeveloper_CountElectronic Arts                  1.015***                                            1.045***                                                                                       \n",
      "                                                    (0.150)                                             (0.145)                                                                                       \n",
      "                                                                                                                                                                                                      \n",
      "TopDeveloper_CountIdea Factory                     -0.599***                                           -0.959***                                                                                      \n",
      "                                                    (0.173)                                             (0.173)                                                                                       \n",
      "                                                                                                                                                                                                      \n",
      "TopDeveloper_CountKoei                             -0.554***                                           -0.709***                                                                                      \n",
      "                                                    (0.196)                                             (0.197)                                                                                       \n",
      "                                                                                                                                                                                                      \n",
      "TopDeveloper_CountKonami                            0.337**                                             0.347**                                                                                       \n",
      "                                                    (0.145)                                             (0.145)                                                                                       \n",
      "                                                                                                                                                                                                      \n",
      "TopDeveloper_CountOmega Force                        0.191                                              0.267*                                                                                        \n",
      "                                                    (0.152)                                             (0.152)                                                                                       \n",
      "                                                                                                                                                                                                      \n",
      "TopDeveloper_CountOthers                            -0.043                                              -0.045                                                                                        \n",
      "                                                    (0.086)                                             (0.087)                                                                                       \n",
      "                                                                                                                                                                                                      \n",
      "TopDeveloper_CountSega                             0.569***                                            0.591***                                                                                       \n",
      "                                                    (0.175)                                             (0.178)                                                                                       \n",
      "                                                                                                                                                                                                      \n",
      "TopDeveloper_CountTHQ                                0.248                                               0.285                                                                                        \n",
      "                                                    (0.195)                                             (0.199)                                                                                       \n",
      "                                                                                                                                                                                                      \n",
      "TopDeveloper_CountUbisoft                           0.235*                                              0.239*                                                                                        \n",
      "                                                    (0.128)                                             (0.130)                                                                                       \n",
      "                                                                                                                                                                                                      \n",
      "TopPublisher_CountBandai Namco                                               -0.231**                                                                                                                 \n",
      "                                                                              (0.097)                                                                                                                 \n",
      "                                                                                                                                                                                                      \n",
      "TopPublisher_CountCapcom                                                      -0.215*                                                                                                                 \n",
      "                                                                              (0.122)                                                                                                                 \n",
      "                                                                                                                                                                                                      \n",
      "TopPublisher_CountElectronic Arts                                            0.512***                                                                                                                 \n",
      "                                                                              (0.107)                                                                                                                 \n",
      "                                                                                                                                                                                                      \n",
      "TopPublisher_CountKonami                                                      -0.072                                                                                                                  \n",
      "                                                                              (0.113)                                                                                                                 \n",
      "                                                                                                                                                                                                      \n",
      "TopPublisher_CountOthers                                                     -0.607***                                                                                                                \n",
      "                                                                              (0.079)                                                                                                                 \n",
      "                                                                                                                                                                                                      \n",
      "TopPublisher_CountSega                                                         0.085                                                                                                                  \n",
      "                                                                              (0.123)                                                                                                                 \n",
      "                                                                                                                                                                                                      \n",
      "TopPublisher_CountTecmo                                                      -0.552***                                                                                                                \n",
      "                                                                              (0.123)                                                                                                                 \n",
      "                                                                                                                                                                                                      \n",
      "TopPublisher_CountTHQ                                                        -0.303**                                                                                                                 \n",
      "                                                                              (0.119)                                                                                                                 \n",
      "                                                                                                                                                                                                      \n",
      "TopPublisher_CountUbisoft                                                     -0.205*                                                                                                                 \n",
      "                                                                              (0.107)                                                                                                                 \n",
      "                                                                                                                                                                                                      \n",
      "TopPublisher_CountWarner Bros. Interactive                                   0.395***                                                                                                                 \n",
      "                                                                              (0.119)                                                                                                                 \n",
      "                                                                                                                                                                                                      \n",
      "TopPublisher_SumBandai Namco                                                                                                     -0.211**                                                             \n",
      "                                                                                                                                  (0.095)                                                             \n",
      "                                                                                                                                                                                                      \n",
      "TopPublisher_SumElectronic Arts                                                                                                  0.495***                                                             \n",
      "                                                                                                                                  (0.105)                                                             \n",
      "                                                                                                                                                                                                      \n",
      "TopPublisher_SumKonami                                                                                                            -0.074                                                              \n",
      "                                                                                                                                  (0.110)                                                             \n",
      "                                                                                                                                                                                                      \n",
      "TopPublisher_SumNintendo                                                                                                         0.640***                                                             \n",
      "                                                                                                                                  (0.144)                                                             \n",
      "                                                                                                                                                                                                      \n",
      "TopPublisher_SumOthers                                                                                                           -0.678***                                                            \n",
      "                                                                                                                                  (0.076)                                                             \n",
      "                                                                                                                                                                                                      \n",
      "TopPublisher_SumSega                                                                                                               0.089                                                              \n",
      "                                                                                                                                  (0.120)                                                             \n",
      "                                                                                                                                                                                                      \n",
      "TopPublisher_SumSony                                                                                                               0.136                                                              \n",
      "                                                                                                                                  (0.123)                                                             \n",
      "                                                                                                                                                                                                      \n",
      "TopPublisher_SumSquare Enix                                                                                                      0.447***                                                             \n",
      "                                                                                                                                  (0.131)                                                             \n",
      "                                                                                                                                                                                                      \n",
      "TopPublisher_SumUbisoft                                                                                                          -0.212**                                                             \n",
      "                                                                                                                                  (0.104)                                                             \n",
      "                                                                                                                                                                                                      \n",
      "TopPublisher_SumWarner Bros. Interactive                                                                                         0.401***                                                             \n",
      "                                                                                                                                  (0.116)                                                             \n",
      "                                                                                                                                                                                                      \n",
      "TopDeveloper_SumCapcom                                                                                                                                       0.146                                    \n",
      "                                                                                                                                                            (0.144)                                   \n",
      "                                                                                                                                                                                                      \n",
      "TopDeveloper_SumElectronic Arts                                                                                                                            1.022***                                   \n",
      "                                                                                                                                                            (0.144)                                   \n",
      "                                                                                                                                                                                                      \n",
      "TopDeveloper_SumKonami                                                                                                                                      0.338**                                   \n",
      "                                                                                                                                                            (0.144)                                   \n",
      "                                                                                                                                                                                                      \n",
      "TopDeveloper_SumOmega Force                                                                                                                                 0.271*                                    \n",
      "                                                                                                                                                            (0.151)                                   \n",
      "                                                                                                                                                                                                      \n",
      "TopDeveloper_SumOthers                                                                                                                                      -0.112                                    \n",
      "                                                                                                                                                            (0.086)                                   \n",
      "                                                                                                                                                                                                      \n",
      "TopDeveloper_SumSega                                                                                                                                       0.590***                                   \n",
      "                                                                                                                                                            (0.176)                                   \n",
      "                                                                                                                                                                                                      \n",
      "TopDeveloper_SumSquare                                                                                                                                     1.013***                                   \n",
      "                                                                                                                                                            (0.204)                                   \n",
      "                                                                                                                                                                                                      \n",
      "TopDeveloper_SumTraveller's Tales                                                                                                                          1.377***                                   \n",
      "                                                                                                                                                            (0.200)                                   \n",
      "                                                                                                                                                                                                      \n",
      "TopDeveloper_SumTT Fusion                                                                                                                                  1.127***                                   \n",
      "                                                                                                                                                            (0.223)                                   \n",
      "                                                                                                                                                                                                      \n",
      "TopDeveloper_SumUbisoft                                                                                                                                      0.207                                    \n",
      "                                                                                                                                                            (0.129)                                   \n",
      "                                                                                                                                                                                                      \n",
      "Constant                                          167.581***                146.822***                162.309***                145.082***                175.209***                175.636***        \n",
      "                                                   (20.007)                  (19.679)                  (20.032)                  (19.306)                  (19.867)                  (19.924)         \n",
      "                                                                                                                                                                                                      \n",
      "------------------------------------------------------------------------------------------------------------------------------------------------------------------------------------------------------\n",
      "Observations                                         4,857                     4,857                     4,857                     4,857                     4,857                     4,857          \n",
      "R2                                                   0.175                     0.171                     0.136                     0.210                     0.151                     0.151          \n",
      "Adjusted R2                                          0.167                     0.166                     0.131                     0.205                     0.146                     0.146          \n",
      "Residual Std. Error                            1.117 (df = 4812)         1.118 (df = 4828)         1.141 (df = 4828)         1.091 (df = 4828)         1.131 (df = 4828)         1.131 (df = 4826)    \n",
      "F Statistic                                23.203*** (df = 44; 4812) 35.563*** (df = 28; 4828) 27.138*** (df = 28; 4828) 45.808*** (df = 28; 4828) 30.597*** (df = 28; 4828) 28.717*** (df = 30; 4826)\n",
      "======================================================================================================================================================================================================\n",
      "Note:                                                                                                                                                                      *p<0.1; **p<0.05; ***p<0.01\n"
     ]
    }
   ],
   "source": [
    "########################################################\n",
    "# View using StarGazer\n",
    "\n",
    "# Create a list of your linear regression models\n",
    "lm_models <- list(AllDateDimensions = lm_model1, \n",
    "                Top10Publishers_Count = lm_model2, \n",
    "                Top10Developers_Count = lm_model3, \n",
    "                Top10Publishers_TotalSales  = lm_model4, \n",
    "                Top10Developers_TotalSales = lm_model5, \n",
    "                Genre = lm_model6)\n",
    "\n",
    "# Generate a regression table using stargazer\n",
    "stargazer(lm_models, \n",
    "          title = \"Regression Models Comparison\",\n",
    "          dep.var.caption = \"Dependent Variable\",\n",
    "          dep.var.labels = \"Response Variable\",\n",
    "          align = TRUE,\n",
    "          type = \"text\",\n",
    "          out = \"summary_table.txt\")"
   ]
  },
  {
   "cell_type": "markdown",
   "metadata": {},
   "source": [
    "LM Actual vs Prediction Plot"
   ]
  },
  {
   "cell_type": "code",
   "execution_count": 171,
   "metadata": {
    "vscode": {
     "languageId": "r"
    }
   },
   "outputs": [
    {
     "data": {
      "image/png": "[encoded data removed]",
      "text/plain": [
       "Plot with title \"Predicted vs. Actual TotalSales (Training Set)\""
      ]
     },
     "metadata": {
      "image/png": {
       "height": 420,
       "width": 420
      }
     },
     "output_type": "display_data"
    }
   ],
   "source": [
    "# Model 4 has highest R2 and adjusted R2 score among all the models\n",
    "# Make predictions using the lm model\n",
    "predicted_values_train <- predict(lm_model4, training_data)\n",
    "\n",
    "# Convert log-transformed values back to the original scale\n",
    "actual_values_train <- training_data$TotalSales\n",
    "predicted_values_train_exp <- exp(predicted_values_train)\n",
    "\n",
    "# Create a scatterplot to compare predicted vs actual TotalSales on the training set\n",
    "plot(seq_along(actual_values_train), actual_values_train,\n",
    "     main = \"Predicted vs. Actual TotalSales (Training Set)\",\n",
    "     xlab = \"Data Index\", ylab = \"Actual TotalSales\",\n",
    "     col = \"blue\", pch = 16)\n",
    "\n",
    "# Add the predicted values on the training set\n",
    "points(seq_along(predicted_values_train_exp), predicted_values_train_exp, col = \"red\", pch = 16)\n",
    "\n",
    "# Add the fitted line from the lm model\n",
    "legend(\"topright\", legend = c(\"Actual\", \"Predicted\"), col = c(\"blue\", \"red\"), pch = 16)\n"
   ]
  },
  {
   "cell_type": "code",
   "execution_count": 173,
   "metadata": {
    "vscode": {
     "languageId": "r"
    }
   },
   "outputs": [
    {
     "ename": "ERROR",
     "evalue": "Error in model.frame.default(Terms, newdata, na.action = na.action, xlev = object$xlevels): factor Title has new levels 1... 2... 3... KICK IT! (Drop That Beat Like an Ugly Baby), 10 Minute Solution, 100 Classic Games, 12-Sai. Torokeru Puzzle Futari no Harmony, 12 Labours of Hercules III: Girl Power, 18 Wheels of Steel: Extreme Trucker 2, 20XX, 4 Play Collection - Dark Mysteries, 4 Play Collection: Treasure Hunters, 7 Wonders: Treasures of Seven, 8-Bit Armies, A Game of Thrones: Genesis, ABBA: You Can Dance, Ace Attorney Investigations 2, Act of Aggression, After Hours Athletes, Again, Agatha Christie: The ABC Murders, Agents of Mayhem, Akin, Alien Breed 2: Assault, Alien Breed: Impact, All Kamen Rider: Rider Generation 2, All Kamen Rider: Rider Revolution, Alter World, Angry Birds: Rio, Anima - Gate of Memories, Anno 2205, Apollo Justice: Ace Attorney, Aqua Moto Racing Utopia, Arcana Heart 3, ArmaGallant: Decks of Destiny, Art Academy: Home Studio, Ashes Cricket, Asphalt 3D, Assassin's Creed Odyssey, Assassin's Creed Syndicate, Assault Suit Leynos, Astro Bot Rescue Mission, Attack on Titan: Escape from Certain Death, Attempt[42], ATV Quad Kings, Bad Apple Wars, Bass Pro Shops: The Strike - Championship Edition, Batman: Arkham Origins, Battle Garegga Rev.2016, Battle Princess of Arcadias, Battle Ranch: Pigs vs Plants, Battlefield: Bad Company 2, Battleplan: American Civil War, Battlezone, Beat City, Bella Sara 2 - The Magic of Drasilmare, Ben 10 Triple Pack, Beyblade Burst: God, Beyblade: Metal Fusion, Beyblade: Metal Masters, Binary Star, bit Dungeon II, Bleach: Heat the Soul 7, Bleed, Bloop Reloaded, Bomber Crew, Borderlands: The Handsome Collection, BoxBoy! Hakobume Box, Bravely Second: End Layer, Bravo Team, Brawlout, Bridge Project, Bunmei Haruka: Aoiza Ibunroku, Busou Shinki: Battle Masters, Busou Shinki: Battle Masters Mk. 2, Buzz! The Ultimate Music Quiz, Cake-ya San Monogatari: Ooishii Sweets o Tsukurou!, Calling, Cardfight!! Vanguard: Lock On Victory!!, Carnage Heart EXA, Casino Chaos With Las Vegas Players Collection, Chaos Rings III, Cities: Skylines Snowfall, City Climber, Clash of the Titans: The Videogame, Clustertruck, Code Name: S.T.E.A.M., Codename: Panzers Complete Collection, Combat of Giants: Dinosaurs 3D, Cook, Serve, Delicious!, Corpse Party: Book of Shadows, Cosmos Chaos!, Crayon Shin-chan: Arashi o Yobu Kasukabe Eiga Stars!, Crime Lab: Body of Evidence, Criminal Girls, Criminal Girls 2: Party Favors, Cross † Channel, Cross Channel: In Memory of All People, Crush3D, Culdcept Revolt, DaGeDar, Daito Giken Koushiki Pachi-Slot Simulator: Ossu! Misao + Maguro Densetsu Portable, Damage Inc.: Pacific Squadron WWII, Danball Senki Boost, Dance Dance Revolution: Hottest Party 5, Dance on Broadway, Danganronpa 1-2 Reload, Dark Fall 3: Lost Souls, Dark Rose Valkyrie, DarkEnd, Darkness Assault, Dead or Alive Xtreme 3: Fortune, Deadly 30, Deca Sports 3, DEFIANCE, Deponia Doomsday, Depth Hunter 2: Deep Dive, Desert Kingdom, Detective Conan: Marionette Symphony, Detective Pikachu, Devil Daggers, Devil May Cry 4 Special Edition, Dexodonex, Diabolik Lovers: More Blood, Disciples III: Renaissance, Disciples III: Resurrection, Discover Europe, Disgaea 4: A Promise Unforgotten, Disgaea PC, Disney Channel: All Star Party, Disney Epic Mickey: The Power of Illusion, Disney Fairies: Tinker Bell and the Great Fairy Rescue, Disneyland Adventures, Dissidia Final Fantasy NT, Doraemon: Nobita and the Island of Miracles, Doraemon: Shin Nobita no Daimakyou Peko to 5-nin no Tankenta, Downtown Nekketsu Koushinkyoku: Soreyuke Daiundoukai All-Star Special, Dragon Ball Heroes: Ultimate Mission 2, Dragon Ball: Origins 2, Dragon Ball: Xenoverse 2, Dragon Quest Monsters Joker 3, Dragon Quest Monsters: Terry's Wonderland 3D, Dragon Quest X: 5000-nen no Harukanaru Kokyou e Online, Drawful 2, Dreamcast Collection, Dungeon Souls, Dungeon Travelers 2-2: The Maiden Who Fell into Darkness and the Book of Beginnings, Dungeons & Dragons Anthology: The Master Collection, Dungeons & Dragons: Daggerdale, Dungeons 2, Dynasty Warriors 9, Earth Defense Force 5, Ebikore Photo Kano Kiss, Elminage Gothic: Ulm Zakir to Yami no Gishiki, Emily the Strange: Strangerous, Escape the Emerald Star, Etrian Odyssey: Millennium Girl, Everybody's Golf, Extinction, Fabled Legends: The Dark Piper, Fairyland: Fairy Power, Family Party: 30 Great Games Winter Fun, Fantastic Football Fan Party, Fantastic Pets, Far Cry 3, Farming Simulator 15 Expansion Pack, Fate/kaleid liner Prisma Illya, Fernbus Simulator, FIFA 16, FIFA Soccer, Final Fantasy VI, Final Fantasy XV: Windows Edition, Fire Emblem: Shin Monshou no Nazo Hikari to Kage no Eiyuu, Fire Pro Wrestling World, Fishdom, Football Manager Handheld 2012, Fragile Dreams: Farewell Ruins of the Moon, Freddi Fish: ABC under the sea, Fushigi no Dungeon: Fuurai no Shiren 5 - Fortune Tower to Unmei no Dice, Future Card Buddyfight: Tanjou! Oretachi no Saikyou Body!, Future Card Buddyfight: Yuujou no Bakunetsu Fight!, G1 Grand Prix, GachiTora! Abarenbou Kyoushi in High School, Gaist Crusher, Gakuen K: Wonderful School Days, Galactic Civilizations III, Game Center CX: 3-Choume no Arino, Games Around the World, Giana Sisters: Twisted Dreams, Girls RPG: Cinderellife, Girls und Panzer: Dream Tank Match, God Eater Off Shot: Soma Shikkuzaru-hen Twin Pack & Animation Vol.4, God of War Saga, Godzilla (2014), Godzilla (2015), GoldenEye 007, Grand Pigeon's Duty, Grand Slam Tennis 2, Great Battle Full Blast, Greed Corp, GRIP: Combat Racing, Gundam Versus, Gunslingers, Hakoniwa Company Works, Hakuouki: Yuugi Roku, Halo: Spartan Assault, HappinessCharge PreCure! Kawarun Collection, Harvest Moon: The Lost Valley, Hatred, Hatsune Miku: Project Diva Extend, Hatsune Miku: Project Mirai DX, Heart no Kuni no Alice Anniversary Ver.: Wonderful Wonder World, Heaven Forest NIGHTS, Her Story, Hero Bank 2, Hexyz Force, Hidden Agenda, Hidden Mysteries: Buckingham Palace, Hidden Mysteries: Salem Secrets - Witch Trials of 1692, Higurashi no Naku Koro ni Kizuna: Dai-Yon-Kan - Kizuna, Himoutou! Umaru-Chan: Himoutou Ikusei Keikaku, Hitman, Hole in the Wall: Deluxe Edition, Hollywood Squares, Hometown Story, Homeworld Remastered Collection, Horrible Histories: Ruthless Romans, Hulk Hogan's Main Event, Hunter x Hunter: Wonder Adventure, Hyakumanton no Bara Bara, Hyperdimension Idol Neptunia PP, I Love Horses: Rider's Paradise, I Spy: Universe, Ikaruga, Ikki Tousen: Xross Impact, Imagine Animal Doctor Care Center, Imagine: Fashion Designer, Inazuma Eleven 3: Sekai e no Chousen!! The Ogre, Injustice: Gods Among Us, Invizimals: The Lost Tribes, Iron Sky: Invasion, Ishin Renka: Ryouma Gaiden, Iwaihime: Matsuri, Iza, Shutsujin! Koisen, J-League Pro Soccer Club o Tsukurou! 7 Euro Plus, Jam With the Band, Jikkyou Powerful Pro Baseball Heroes, Joker no Kuni no Alice, Journey, Just Dance 2017, Just Sing! Vol. 2, Kaitou Tenshi Twin Angel: Toki to Sekai no Meikyuu, Kamen Rider Travelers Record, Kamiko, Karaoke Revolution Glee: Volume 3, Katekyoo Hitman Reborn! DS Fate of Heat III - Yuki no Shugosha Raishuu!, Ken to Mahou to Gakuen Mono. 3D, Ketsui Deathtiny: Kizuna Jigoku Tachi, Kid Adventures: Sky Captain, Kidou Senshi Gundam: Shin Gihren no Yabou, Kimi ni Todoke: Tsutaeru Kimochi, King Arthur's Gold, King Arthur II: The Role-playing Wargame, Kingdom Hearts: Birth by Sleep - Final Mix, Know How 2, KORG DS-10 Synthesizer Plus, Kouekizaidan Houjin Nihon Kanji Nouryoku Kentei Kyoukai: Kanken Training 2, Kurenai no Homura: Sanada Ninpou Chou, Kuroko's Basketball: Ties to Future, Legasista, Legend of Grimrock, Legends of Oz: Dorothy's Return, Lego City Undercover: The Chase Begins, LEGO Ninjago: Shadow of Ronin, Let's Cheer, Let's Play Flight Attendant, Lips: Party Classics, Little Battlers eXperience: Wars, LittleBigPlanet Karting, Living Legends: Frozen Beauty, Lord of Magna: Maiden Heaven, Love of Renai Koutei of Love!, Lovely Lisa and Friends, Loving Life with Hello Kitty & Friends, Madden NFL 25, Magicka: Vietnam, Mahouka Koukou no Rettousei: Out of Order, Majesty 2 Collection, Marginal #4: Idol of Supernova, Mass Effect 2, Mathews Bowhunting, Mechanic Escape, Medabots Dual: Kabuto / Kuwagata, Medal of Honor, Medalot 7, Medarot 9: Kabuto Ver. / Kuwagata Ver., Megamind: Mega \n",
     "output_type": "error",
     "traceback": [
      "Error in model.frame.default(Terms, newdata, na.action = na.action, xlev = object$xlevels): factor Title has new levels 1... 2... 3... KICK IT! (Drop That Beat Like an Ugly Baby), 10 Minute Solution, 100 Classic Games, 12-Sai. Torokeru Puzzle Futari no Harmony, 12 Labours of Hercules III: Girl Power, 18 Wheels of Steel: Extreme Trucker 2, 20XX, 4 Play Collection - Dark Mysteries, 4 Play Collection: Treasure Hunters, 7 Wonders: Treasures of Seven, 8-Bit Armies, A Game of Thrones: Genesis, ABBA: You Can Dance, Ace Attorney Investigations 2, Act of Aggression, After Hours Athletes, Again, Agatha Christie: The ABC Murders, Agents of Mayhem, Akin, Alien Breed 2: Assault, Alien Breed: Impact, All Kamen Rider: Rider Generation 2, All Kamen Rider: Rider Revolution, Alter World, Angry Birds: Rio, Anima - Gate of Memories, Anno 2205, Apollo Justice: Ace Attorney, Aqua Moto Racing Utopia, Arcana Heart 3, ArmaGallant: Decks of Destiny, Art Academy: Home Studio, Ashes Cricket, Asphalt 3D, Assassin's Creed Odyssey, Assassin's Creed Syndicate, Assault Suit Leynos, Astro Bot Rescue Mission, Attack on Titan: Escape from Certain Death, Attempt[42], ATV Quad Kings, Bad Apple Wars, Bass Pro Shops: The Strike - Championship Edition, Batman: Arkham Origins, Battle Garegga Rev.2016, Battle Princess of Arcadias, Battle Ranch: Pigs vs Plants, Battlefield: Bad Company 2, Battleplan: American Civil War, Battlezone, Beat City, Bella Sara 2 - The Magic of Drasilmare, Ben 10 Triple Pack, Beyblade Burst: God, Beyblade: Metal Fusion, Beyblade: Metal Masters, Binary Star, bit Dungeon II, Bleach: Heat the Soul 7, Bleed, Bloop Reloaded, Bomber Crew, Borderlands: The Handsome Collection, BoxBoy! Hakobume Box, Bravely Second: End Layer, Bravo Team, Brawlout, Bridge Project, Bunmei Haruka: Aoiza Ibunroku, Busou Shinki: Battle Masters, Busou Shinki: Battle Masters Mk. 2, Buzz! The Ultimate Music Quiz, Cake-ya San Monogatari: Ooishii Sweets o Tsukurou!, Calling, Cardfight!! Vanguard: Lock On Victory!!, Carnage Heart EXA, Casino Chaos With Las Vegas Players Collection, Chaos Rings III, Cities: Skylines Snowfall, City Climber, Clash of the Titans: The Videogame, Clustertruck, Code Name: S.T.E.A.M., Codename: Panzers Complete Collection, Combat of Giants: Dinosaurs 3D, Cook, Serve, Delicious!, Corpse Party: Book of Shadows, Cosmos Chaos!, Crayon Shin-chan: Arashi o Yobu Kasukabe Eiga Stars!, Crime Lab: Body of Evidence, Criminal Girls, Criminal Girls 2: Party Favors, Cross † Channel, Cross Channel: In Memory of All People, Crush3D, Culdcept Revolt, DaGeDar, Daito Giken Koushiki Pachi-Slot Simulator: Ossu! Misao + Maguro Densetsu Portable, Damage Inc.: Pacific Squadron WWII, Danball Senki Boost, Dance Dance Revolution: Hottest Party 5, Dance on Broadway, Danganronpa 1-2 Reload, Dark Fall 3: Lost Souls, Dark Rose Valkyrie, DarkEnd, Darkness Assault, Dead or Alive Xtreme 3: Fortune, Deadly 30, Deca Sports 3, DEFIANCE, Deponia Doomsday, Depth Hunter 2: Deep Dive, Desert Kingdom, Detective Conan: Marionette Symphony, Detective Pikachu, Devil Daggers, Devil May Cry 4 Special Edition, Dexodonex, Diabolik Lovers: More Blood, Disciples III: Renaissance, Disciples III: Resurrection, Discover Europe, Disgaea 4: A Promise Unforgotten, Disgaea PC, Disney Channel: All Star Party, Disney Epic Mickey: The Power of Illusion, Disney Fairies: Tinker Bell and the Great Fairy Rescue, Disneyland Adventures, Dissidia Final Fantasy NT, Doraemon: Nobita and the Island of Miracles, Doraemon: Shin Nobita no Daimakyou Peko to 5-nin no Tankenta, Downtown Nekketsu Koushinkyoku: Soreyuke Daiundoukai All-Star Special, Dragon Ball Heroes: Ultimate Mission 2, Dragon Ball: Origins 2, Dragon Ball: Xenoverse 2, Dragon Quest Monsters Joker 3, Dragon Quest Monsters: Terry's Wonderland 3D, Dragon Quest X: 5000-nen no Harukanaru Kokyou e Online, Drawful 2, Dreamcast Collection, Dungeon Souls, Dungeon Travelers 2-2: The Maiden Who Fell into Darkness and the Book of Beginnings, Dungeons & Dragons Anthology: The Master Collection, Dungeons & Dragons: Daggerdale, Dungeons 2, Dynasty Warriors 9, Earth Defense Force 5, Ebikore Photo Kano Kiss, Elminage Gothic: Ulm Zakir to Yami no Gishiki, Emily the Strange: Strangerous, Escape the Emerald Star, Etrian Odyssey: Millennium Girl, Everybody's Golf, Extinction, Fabled Legends: The Dark Piper, Fairyland: Fairy Power, Family Party: 30 Great Games Winter Fun, Fantastic Football Fan Party, Fantastic Pets, Far Cry 3, Farming Simulator 15 Expansion Pack, Fate/kaleid liner Prisma Illya, Fernbus Simulator, FIFA 16, FIFA Soccer, Final Fantasy VI, Final Fantasy XV: Windows Edition, Fire Emblem: Shin Monshou no Nazo Hikari to Kage no Eiyuu, Fire Pro Wrestling World, Fishdom, Football Manager Handheld 2012, Fragile Dreams: Farewell Ruins of the Moon, Freddi Fish: ABC under the sea, Fushigi no Dungeon: Fuurai no Shiren 5 - Fortune Tower to Unmei no Dice, Future Card Buddyfight: Tanjou! Oretachi no Saikyou Body!, Future Card Buddyfight: Yuujou no Bakunetsu Fight!, G1 Grand Prix, GachiTora! Abarenbou Kyoushi in High School, Gaist Crusher, Gakuen K: Wonderful School Days, Galactic Civilizations III, Game Center CX: 3-Choume no Arino, Games Around the World, Giana Sisters: Twisted Dreams, Girls RPG: Cinderellife, Girls und Panzer: Dream Tank Match, God Eater Off Shot: Soma Shikkuzaru-hen Twin Pack & Animation Vol.4, God of War Saga, Godzilla (2014), Godzilla (2015), GoldenEye 007, Grand Pigeon's Duty, Grand Slam Tennis 2, Great Battle Full Blast, Greed Corp, GRIP: Combat Racing, Gundam Versus, Gunslingers, Hakoniwa Company Works, Hakuouki: Yuugi Roku, Halo: Spartan Assault, HappinessCharge PreCure! Kawarun Collection, Harvest Moon: The Lost Valley, Hatred, Hatsune Miku: Project Diva Extend, Hatsune Miku: Project Mirai DX, Heart no Kuni no Alice Anniversary Ver.: Wonderful Wonder World, Heaven Forest NIGHTS, Her Story, Hero Bank 2, Hexyz Force, Hidden Agenda, Hidden Mysteries: Buckingham Palace, Hidden Mysteries: Salem Secrets - Witch Trials of 1692, Higurashi no Naku Koro ni Kizuna: Dai-Yon-Kan - Kizuna, Himoutou! Umaru-Chan: Himoutou Ikusei Keikaku, Hitman, Hole in the Wall: Deluxe Edition, Hollywood Squares, Hometown Story, Homeworld Remastered Collection, Horrible Histories: Ruthless Romans, Hulk Hogan's Main Event, Hunter x Hunter: Wonder Adventure, Hyakumanton no Bara Bara, Hyperdimension Idol Neptunia PP, I Love Horses: Rider's Paradise, I Spy: Universe, Ikaruga, Ikki Tousen: Xross Impact, Imagine Animal Doctor Care Center, Imagine: Fashion Designer, Inazuma Eleven 3: Sekai e no Chousen!! The Ogre, Injustice: Gods Among Us, Invizimals: The Lost Tribes, Iron Sky: Invasion, Ishin Renka: Ryouma Gaiden, Iwaihime: Matsuri, Iza, Shutsujin! Koisen, J-League Pro Soccer Club o Tsukurou! 7 Euro Plus, Jam With the Band, Jikkyou Powerful Pro Baseball Heroes, Joker no Kuni no Alice, Journey, Just Dance 2017, Just Sing! Vol. 2, Kaitou Tenshi Twin Angel: Toki to Sekai no Meikyuu, Kamen Rider Travelers Record, Kamiko, Karaoke Revolution Glee: Volume 3, Katekyoo Hitman Reborn! DS Fate of Heat III - Yuki no Shugosha Raishuu!, Ken to Mahou to Gakuen Mono. 3D, Ketsui Deathtiny: Kizuna Jigoku Tachi, Kid Adventures: Sky Captain, Kidou Senshi Gundam: Shin Gihren no Yabou, Kimi ni Todoke: Tsutaeru Kimochi, King Arthur's Gold, King Arthur II: The Role-playing Wargame, Kingdom Hearts: Birth by Sleep - Final Mix, Know How 2, KORG DS-10 Synthesizer Plus, Kouekizaidan Houjin Nihon Kanji Nouryoku Kentei Kyoukai: Kanken Training 2, Kurenai no Homura: Sanada Ninpou Chou, Kuroko's Basketball: Ties to Future, Legasista, Legend of Grimrock, Legends of Oz: Dorothy's Return, Lego City Undercover: The Chase Begins, LEGO Ninjago: Shadow of Ronin, Let's Cheer, Let's Play Flight Attendant, Lips: Party Classics, Little Battlers eXperience: Wars, LittleBigPlanet Karting, Living Legends: Frozen Beauty, Lord of Magna: Maiden Heaven, Love of Renai Koutei of Love!, Lovely Lisa and Friends, Loving Life with Hello Kitty & Friends, Madden NFL 25, Magicka: Vietnam, Mahouka Koukou no Rettousei: Out of Order, Majesty 2 Collection, Marginal #4: Idol of Supernova, Mass Effect 2, Mathews Bowhunting, Mechanic Escape, Medabots Dual: Kabuto / Kuwagata, Medal of Honor, Medalot 7, Medarot 9: Kabuto Ver. / Kuwagata Ver., Megamind: Mega \nTraceback:\n",
      "1. predict(lm_model4, test_data)",
      "2. predict.lm(lm_model4, test_data)",
      "3. model.frame(Terms, newdata, na.action = na.action, xlev = object$xlevels)",
      "4. model.frame.default(Terms, newdata, na.action = na.action, xlev = object$xlevels)",
      "5. stop(sprintf(ngettext(length(m), \"factor %s has new level %s\", \n .     \"factor %s has new levels %s\"), nm, paste(nxl[m], collapse = \", \")), \n .     domain = NA)"
     ]
    }
   ],
   "source": [
    "# Model 4 has highest R2 and adjusted R2 score among all the models\n",
    "# Make predictions using the lm model\n",
    "predicted_values_test <- predict(lm_model4, test_data)\n",
    "\n",
    "# Convert log-transformed values back to the original scale\n",
    "actual_values_test <- test_data$TotalSales\n",
    "predicted_values_test_exp <- exp(predicted_values_test)\n",
    "\n",
    "# Create a scatterplot to compare predicted vs actual TotalSales on the training set\n",
    "plot(seq_along(actual_values_test), actual_values_test,\n",
    "     main = \"Predicted vs. Actual TotalSales (Testing Set)\",\n",
    "     xlab = \"Data Index\", ylab = \"Actual TotalSales\",\n",
    "     col = \"blue\", pch = 16)\n",
    "\n",
    "# Add the predicted values on the training set\n",
    "points(seq_along(predicted_values_test_exp), predicted_values_test_exp, col = \"red\", pch = 16)\n",
    "\n",
    "# Add the fitted line from the lm model\n",
    "legend(\"topright\", legend = c(\"Actual\", \"Predicted\"), col = c(\"blue\", \"red\"), pch = 16)\n"
   ]
  },
  {
   "cell_type": "code",
   "execution_count": 174,
   "metadata": {
    "vscode": {
     "languageId": "r"
    }
   },
   "outputs": [
    {
     "name": "stdout",
     "output_type": "stream",
     "text": [
      "Sum of Errors (Training): 342595020 \n",
      "Mean Absolute Deviation (Training): 126815.1 \n",
      "Mean Percentage Error (Training): 7053634 %\n",
      "Mean Squared Error (Training): 40737123499 \n",
      "Standard Error (Training): 201834.4 \n",
      "Mean Absolute Percentage Error (Training): 12681505 %\n"
     ]
    }
   ],
   "source": [
    "# Calculate various error metrics on the original scale for the training set\n",
    "errors_train <- training_data$TotalSales - predicted_values_train_exp\n",
    "sum_of_errors_train <- sum(errors_train)\n",
    "mean_absolute_deviation_train <- mean(abs(errors_train))\n",
    "mean_percentage_error_train <- mean(errors_train) * 100  # Already on the original scale\n",
    "mean_squared_error_train <- mean(errors_train^2)\n",
    "standard_error_train <- sqrt(mean_squared_error_train)\n",
    "mean_absolute_percentage_error_train <- mean(abs(errors_train)) * 100\n",
    "\n",
    "# Print the error metrics for the training set\n",
    "cat(\"Sum of Errors (Training):\", sum_of_errors_train, \"\\n\")\n",
    "cat(\"Mean Absolute Deviation (Training):\", mean_absolute_deviation_train, \"\\n\")\n",
    "cat(\"Mean Percentage Error (Training):\", mean_percentage_error_train, \"%\\n\")\n",
    "cat(\"Mean Squared Error (Training):\", mean_squared_error_train, \"\\n\")\n",
    "cat(\"Standard Error (Training):\", standard_error_train, \"\\n\")\n",
    "cat(\"Mean Absolute Percentage Error (Training):\", mean_absolute_percentage_error_train, \"%\\n\")"
   ]
  },
  {
   "cell_type": "markdown",
   "metadata": {},
   "source": [
    "Neural Network_count"
   ]
  },
  {
   "cell_type": "code",
   "execution_count": 214,
   "metadata": {
    "vscode": {
     "languageId": "r"
    }
   },
   "outputs": [],
   "source": [
    "########################################################\n",
    "# Build a NN model\n",
    "\n",
    "# Create a Keras Sequential model\n",
    "model <- keras_model_sequential()\n",
    "\n",
    "# Add an input layer\n",
    "model %>% \n",
    "  layer_dense(units = 10, input_shape = c(11), activation = \"relu\")\n",
    "\n",
    "# Add one or more hidden layers\n",
    "model %>%\n",
    "  layer_dense(units = 20, activation = \"relu\") %>%\n",
    "  layer_dense(units = 5, activation = \"relu\")\n",
    "\n",
    "# Add an output layer\n",
    "model %>%\n",
    "  layer_dense(units = 1)  # To predict 'TotalSales'\n",
    "\n",
    "# Compile the model with custom absolute error loss and MAE metric\n",
    "model %>%\n",
    "  compile(\n",
    "    loss = \"mean_squared_error\",\n",
    "    optimizer = optimizer_adam(),\n",
    "    metrics = list(\"mean_absolute_error\")\n",
    "  )"
   ]
  },
  {
   "cell_type": "code",
   "execution_count": 203,
   "metadata": {
    "vscode": {
     "languageId": "r"
    }
   },
   "outputs": [
    {
     "name": "stdout",
     "output_type": "stream",
     "text": [
      "Model: \"sequential_3\"\n",
      "________________________________________________________________________________\n",
      " Layer (type)                       Output Shape                    Param #     \n",
      "================================================================================\n",
      " dense_12 (Dense)                   (None, 10)                      120         \n",
      " dense_14 (Dense)                   (None, 20)                      220         \n",
      " dense_13 (Dense)                   (None, 5)                       105         \n",
      " dense_15 (Dense)                   (None, 1)                       6           \n",
      "================================================================================\n",
      "Total params: 451\n",
      "Trainable params: 451\n",
      "Non-trainable params: 0\n",
      "________________________________________________________________________________\n"
     ]
    }
   ],
   "source": [
    "summary (model)"
   ]
  },
  {
   "cell_type": "code",
   "execution_count": 188,
   "metadata": {
    "vscode": {
     "languageId": "r"
    }
   },
   "outputs": [],
   "source": [
    "# Exclude specific columns\n",
    "excluded_columns <- c(\"Rank\", \n",
    "                    \"Title\", \n",
    "                    \"Publisher\", \n",
    "                    \"Developer\", \n",
    "                    \"YearsSinceRelease\", \n",
    "                    \"log_transformed_total_sales\", \n",
    "                    \"TopPublisher_Sum\", \n",
    "                    \"TopDeveloper_Sum\", \n",
    "                    \"TotalSales\")\n",
    "                    \n",
    "x_train <- training_data[, !names(training_data) %in% excluded_columns]\n",
    "x_test <- test_data[, !names(test_data) %in% excluded_columns]"
   ]
  },
  {
   "cell_type": "code",
   "execution_count": 215,
   "metadata": {
    "vscode": {
     "languageId": "r"
    }
   },
   "outputs": [],
   "source": [
    "# Train the model\n",
    "history = keras::fit(model, data.matrix(x_train), data.matrix(training_data$TotalSales), epochs = 100, batch_size = 100, verbose = 1)"
   ]
  },
  {
   "cell_type": "code",
   "execution_count": 216,
   "metadata": {
    "vscode": {
     "languageId": "r"
    }
   },
   "outputs": [
    {
     "data": {
      "image/png": "[encoded data removed]",
      "text/plain": [
       "plot without title"
      ]
     },
     "metadata": {
      "image/png": {
       "height": 420,
       "width": 420
      }
     },
     "output_type": "display_data"
    }
   ],
   "source": [
    "plot(history)"
   ]
  },
  {
   "cell_type": "code",
   "execution_count": 217,
   "metadata": {
    "vscode": {
     "languageId": "r"
    }
   },
   "outputs": [],
   "source": [
    "# Evaluate the model\n",
    "eval_metrics <- model %>% evaluate(\n",
    "  x = data.matrix(x_test),  # Independent variables for testing\n",
    "  y = data.matrix(test_data$TotalSales)  # Target variable for testing\n",
    ")"
   ]
  },
  {
   "cell_type": "code",
   "execution_count": 218,
   "metadata": {
    "vscode": {
     "languageId": "r"
    }
   },
   "outputs": [
    {
     "name": "stdout",
     "output_type": "stream",
     "text": [
      "               loss mean_absolute_error \n",
      "       4.335517e+10        1.576589e+05 \n"
     ]
    }
   ],
   "source": [
    "# Print the evaluation metrics\n",
    "print(eval_metrics)"
   ]
  },
  {
   "cell_type": "code",
   "execution_count": 219,
   "metadata": {
    "vscode": {
     "languageId": "r"
    }
   },
   "outputs": [],
   "source": [
    "# Generate predictions using your trained model\n",
    "predictions <- model %>% predict(data.matrix(x_train))\n",
    "\n",
    "# Organize results into a data frame\n",
    "results <- data.frame(Actual_TotalSales = training_data$TotalSales, Predicted_TotalSales = predictions)"
   ]
  },
  {
   "cell_type": "code",
   "execution_count": 220,
   "metadata": {
    "vscode": {
     "languageId": "r"
    }
   },
   "outputs": [
    {
     "data": {
      "image/png": "[encoded data removed]",
      "text/plain": [
       "plot without title"
      ]
     },
     "metadata": {
      "image/png": {
       "height": 420,
       "width": 420
      }
     },
     "output_type": "display_data"
    }
   ],
   "source": [
    "# Create a scatter plot for both predicted and actual values using different colors\n",
    "ggplot(results, aes(x = seq_along(Actual_TotalSales))) +\n",
    "  geom_point(aes(y = Predicted_TotalSales), color = \"orange\") +\n",
    "  geom_point(aes(y = Actual_TotalSales), color = \"blue\") +\n",
    "  labs(x = \"Index\", y = \"Total Sales\") +\n",
    "  ggtitle(\"Predicted Total Sales vs. Actual Total Sales\") +\n",
    "  theme_minimal()"
   ]
  },
  {
   "cell_type": "code",
   "execution_count": 120,
   "metadata": {
    "vscode": {
     "languageId": "r"
    }
   },
   "outputs": [],
   "source": [
    "# Export to excel\n",
    "\n",
    "write_xlsx(results, path = \"NN_results.xlsx\")"
   ]
  },
  {
   "cell_type": "markdown",
   "metadata": {},
   "source": [
    "Neural Network_sum"
   ]
  },
  {
   "cell_type": "code",
   "execution_count": 221,
   "metadata": {
    "vscode": {
     "languageId": "r"
    }
   },
   "outputs": [],
   "source": [
    "# Exclude specific columns\n",
    "excluded_columns <- c(\"Rank\", \n",
    "                    \"Title\", \n",
    "                    \"Publisher\", \n",
    "                    \"Developer\", \n",
    "                    \"YearsSinceRelease\", \n",
    "                    \"log_transformed_total_sales\", \n",
    "                    \"TopPublisher_Count\", \n",
    "                    \"TopDeveloper_Count\", \n",
    "                    \"TotalSales\")\n",
    "                    \n",
    "x_train <- training_data[, !names(training_data) %in% excluded_columns]\n",
    "x_test <- test_data[, !names(test_data) %in% excluded_columns]"
   ]
  },
  {
   "cell_type": "code",
   "execution_count": 228,
   "metadata": {
    "vscode": {
     "languageId": "r"
    }
   },
   "outputs": [],
   "source": [
    "# Train the model\n",
    "history = keras::fit(model, data.matrix(x_train), data.matrix(training_data$TotalSales), epochs = 100, batch_size = 100, verbose = 1)"
   ]
  },
  {
   "cell_type": "code",
   "execution_count": 223,
   "metadata": {
    "vscode": {
     "languageId": "r"
    }
   },
   "outputs": [
    {
     "data": {
      "image/png": "[encoded data removed]",
      "text/plain": [
       "plot without title"
      ]
     },
     "metadata": {
      "image/png": {
       "height": 420,
       "width": 420
      }
     },
     "output_type": "display_data"
    }
   ],
   "source": [
    "plot(history)"
   ]
  },
  {
   "cell_type": "code",
   "execution_count": 224,
   "metadata": {
    "vscode": {
     "languageId": "r"
    }
   },
   "outputs": [],
   "source": [
    "# Evaluate the model\n",
    "eval_metrics <- model %>% evaluate(\n",
    "  x = data.matrix(x_test),  # Independent variables for testing\n",
    "  y = data.matrix(test_data$TotalSales)  # Target variable for testing\n",
    ")"
   ]
  },
  {
   "cell_type": "code",
   "execution_count": 225,
   "metadata": {
    "vscode": {
     "languageId": "r"
    }
   },
   "outputs": [
    {
     "name": "stdout",
     "output_type": "stream",
     "text": [
      "               loss mean_absolute_error \n",
      "       4.332587e+10        1.579718e+05 \n"
     ]
    }
   ],
   "source": [
    "# Print the evaluation metrics\n",
    "print(eval_metrics)"
   ]
  },
  {
   "cell_type": "code",
   "execution_count": 226,
   "metadata": {
    "vscode": {
     "languageId": "r"
    }
   },
   "outputs": [],
   "source": [
    "# Generate predictions using your trained model\n",
    "predictions <- model %>% predict(data.matrix(x_train))\n",
    "\n",
    "# Organize results into a data frame\n",
    "results <- data.frame(Actual_TotalSales = training_data$TotalSales, Predicted_TotalSales = predictions)"
   ]
  },
  {
   "cell_type": "code",
   "execution_count": 227,
   "metadata": {
    "vscode": {
     "languageId": "r"
    }
   },
   "outputs": [
    {
     "data": {
      "image/png": "[encoded data removed]",
      "text/plain": [
       "plot without title"
      ]
     },
     "metadata": {
      "image/png": {
       "height": 420,
       "width": 420
      }
     },
     "output_type": "display_data"
    }
   ],
   "source": [
    "# Create a scatter plot for both predicted and actual values using different colors\n",
    "ggplot(results, aes(x = seq_along(Actual_TotalSales))) +\n",
    "  geom_point(aes(y = Predicted_TotalSales), color = \"orange\") +\n",
    "  geom_point(aes(y = Actual_TotalSales), color = \"blue\") +\n",
    "  labs(x = \"Index\", y = \"Total Sales\") +\n",
    "  ggtitle(\"Predicted Total Sales vs. Actual Total Sales\") +\n",
    "  theme_minimal()"
   ]
  },
  {
   "cell_type": "code",
   "execution_count": 229,
   "metadata": {
    "vscode": {
     "languageId": "r"
    }
   },
   "outputs": [
    {
     "name": "stdout",
     "output_type": "stream",
     "text": [
      "Model: \"sequential_7\"\n",
      "________________________________________________________________________________\n",
      " Layer (type)                       Output Shape                    Param #     \n",
      "================================================================================\n",
      " dense_28 (Dense)                   (None, 10)                      120         \n",
      " dense_30 (Dense)                   (None, 20)                      220         \n",
      " dense_29 (Dense)                   (None, 5)                       105         \n",
      " dense_31 (Dense)                   (None, 1)                       6           \n",
      "================================================================================\n",
      "Total params: 451\n",
      "Trainable params: 451\n",
      "Non-trainable params: 0\n",
      "________________________________________________________________________________\n",
      "               loss mean_absolute_error \n",
      "       7.966049e+10        1.904102e+05 \n"
     ]
    },
    {
     "data": {
      "image/png": "[encoded data removed]",
      "text/plain": [
       "plot without title"
      ]
     },
     "metadata": {
      "image/png": {
       "height": 420,
       "width": 420
      }
     },
     "output_type": "display_data"
    },
    {
     "data": {
      "image/png": "[encoded data removed]",
      "text/plain": [
       "plot without title"
      ]
     },
     "metadata": {
      "image/png": {
       "height": 420,
       "width": 420
      }
     },
     "output_type": "display_data"
    }
   ],
   "source": [
    "########################################################\n",
    "# Build a NN model\n",
    "\n",
    "# Create a Keras Sequential model\n",
    "model <- keras_model_sequential()\n",
    "\n",
    "# Add an input layer\n",
    "model %>% \n",
    "  layer_dense(units = 10, input_shape = c(11), activation = \"relu\")\n",
    "\n",
    "# Add one or more hidden layers\n",
    "model %>%\n",
    "  layer_dense(units = 20, activation = \"relu\") %>%\n",
    "  layer_dense(units = 5, activation = \"relu\")\n",
    "\n",
    "# Add an output layer\n",
    "model %>%\n",
    "  layer_dense(units = 1)  # To predict 'TotalSales'\n",
    "\n",
    "# Compile the model with custom absolute error loss and MAE metric\n",
    "model %>%\n",
    "  compile(\n",
    "    loss = \"mean_squared_error\",\n",
    "    optimizer = optimizer_adam(),\n",
    "    metrics = list(\"mean_absolute_error\")\n",
    "  )\n",
    "\n",
    "  summary (model)\n",
    "\n",
    "  # Train the model\n",
    "history = keras::fit(model, data.matrix(x_train), data.matrix(training_data$TotalSales), epochs = 200, batch_size = 100, verbose = 1)\n",
    "\n",
    "plot(history)\n",
    "\n",
    "# Evaluate the model\n",
    "eval_metrics <- model %>% evaluate(\n",
    "  x = data.matrix(x_test),  # Independent variables for testing\n",
    "  y = data.matrix(test_data$TotalSales)  # Target variable for testing\n",
    ")\n",
    "\n",
    "\n",
    "# Print the evaluation metrics\n",
    "print(eval_metrics)\n",
    "\n",
    "\n",
    "# Generate predictions using your trained model\n",
    "predictions <- model %>% predict(data.matrix(x_train))\n",
    "\n",
    "# Organize results into a data frame\n",
    "results <- data.frame(Actual_TotalSales = training_data$TotalSales, Predicted_TotalSales = predictions)\n",
    "\n",
    "# Create a scatter plot for both predicted and actual values using different colors\n",
    "ggplot(results, aes(x = seq_along(Actual_TotalSales))) +\n",
    "  geom_point(aes(y = Predicted_TotalSales), color = \"orange\") +\n",
    "  geom_point(aes(y = Actual_TotalSales), color = \"blue\") +\n",
    "  labs(x = \"Index\", y = \"Total Sales\") +\n",
    "  ggtitle(\"Predicted Total Sales vs. Actual Total Sales\") +\n",
    "  theme_minimal()\n",
    "\n"
   ]
  },
  {
   "cell_type": "code",
   "execution_count": 230,
   "metadata": {
    "vscode": {
     "languageId": "r"
    }
   },
   "outputs": [
    {
     "name": "stdout",
     "output_type": "stream",
     "text": [
      "Model: \"sequential_8\"\n",
      "________________________________________________________________________________\n",
      " Layer (type)                       Output Shape                    Param #     \n",
      "================================================================================\n",
      " dense_32 (Dense)                   (None, 10)                      120         \n",
      " dense_33 (Dense)                   (None, 20)                      220         \n",
      " dense_34 (Dense)                   (None, 1)                       21          \n",
      "================================================================================\n",
      "Total params: 361\n",
      "Trainable params: 361\n",
      "Non-trainable params: 0\n",
      "________________________________________________________________________________\n",
      "               loss mean_absolute_error \n",
      "       4.335328e+10        1.576953e+05 \n"
     ]
    },
    {
     "data": {
      "image/png": "[encoded data removed]",
      "text/plain": [
       "plot without title"
      ]
     },
     "metadata": {
      "image/png": {
       "height": 420,
       "width": 420
      }
     },
     "output_type": "display_data"
    },
    {
     "data": {
      "image/png": "[encoded data removed]",
      "text/plain": [
       "plot without title"
      ]
     },
     "metadata": {
      "image/png": {
       "height": 420,
       "width": 420
      }
     },
     "output_type": "display_data"
    }
   ],
   "source": [
    "########################################################\n",
    "# Build a NN model\n",
    "\n",
    "# Create a Keras Sequential model\n",
    "model <- keras_model_sequential()\n",
    "\n",
    "# Add an input layer\n",
    "model %>% \n",
    "  layer_dense(units = 10, input_shape = c(11), activation = \"relu\")\n",
    "\n",
    "# Add one or more hidden layers\n",
    "model %>%\n",
    "  layer_dense(units = 20, activation = \"relu\")\n",
    "\n",
    "# Add an output layer\n",
    "model %>%\n",
    "  layer_dense(units = 1)  # To predict 'TotalSales'\n",
    "\n",
    "# Compile the model with custom absolute error loss and MAE metric\n",
    "model %>%\n",
    "  compile(\n",
    "    loss = \"mean_squared_error\",\n",
    "    optimizer = optimizer_adam(),\n",
    "    metrics = list(\"mean_absolute_error\")\n",
    "  )\n",
    "\n",
    "  summary (model)\n",
    "\n",
    "  # Train the model\n",
    "history = keras::fit(model, data.matrix(x_train), data.matrix(training_data$TotalSales), epochs = 100, batch_size = 100, verbose = 1)\n",
    "\n",
    "plot(history)\n",
    "\n",
    "# Evaluate the model\n",
    "eval_metrics <- model %>% evaluate(\n",
    "  x = data.matrix(x_test),  # Independent variables for testing\n",
    "  y = data.matrix(test_data$TotalSales)  # Target variable for testing\n",
    ")\n",
    "\n",
    "\n",
    "# Print the evaluation metrics\n",
    "print(eval_metrics)\n",
    "\n",
    "\n",
    "# Generate predictions using your trained model\n",
    "predictions <- model %>% predict(data.matrix(x_train))\n",
    "\n",
    "# Organize results into a data frame\n",
    "results <- data.frame(Actual_TotalSales = training_data$TotalSales, Predicted_TotalSales = predictions)\n",
    "\n",
    "# Create a scatter plot for both predicted and actual values using different colors\n",
    "ggplot(results, aes(x = seq_along(Actual_TotalSales))) +\n",
    "  geom_point(aes(y = Predicted_TotalSales), color = \"orange\") +\n",
    "  geom_point(aes(y = Actual_TotalSales), color = \"blue\") +\n",
    "  labs(x = \"Index\", y = \"Total Sales\") +\n",
    "  ggtitle(\"Predicted Total Sales vs. Actual Total Sales\") +\n",
    "  theme_minimal()\n",
    "\n"
   ]
  }
 ],
 "metadata": {
  "kernelspec": {
   "display_name": "R",
   "language": "R",
   "name": "ir"
  },
  "language_info": {
   "codemirror_mode": "r",
   "file_extension": ".r",
   "mimetype": "text/x-r-source",
   "name": "R",
   "pygments_lexer": "r",
   "version": "4.3.1"
  }
 },
 "nbformat": 4,
 "nbformat_minor": 2
}
