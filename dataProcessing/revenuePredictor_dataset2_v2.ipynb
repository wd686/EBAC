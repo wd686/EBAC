{
 "cells": [
  {
   "cell_type": "code",
   "execution_count": 2,
   "metadata": {
    "vscode": {
     "languageId": "r"
    }
   },
   "outputs": [],
   "source": [
    "library(pacman)\n",
    "\n",
    "# Use pacman to load the packages\n",
    "p_load(car)\n",
    "p_load(dplyr)\n",
    "p_load(tidyverse, VIM, mice, Hmisc, \n",
    "               DMwR, naniar)\n",
    "p_load(stargazer)\n",
    "p_load(openxlsx)\n",
    "p_load(here)\n",
    "p_load(rio)\n",
    "p_load(ggplot2)\n",
    "p_load(BSDA)\n",
    "p_load(corrplot)\n",
    "p_load(caTools)\n",
    "p_load(keras)\n",
    "p_load(reticulate)\n",
    "p_load(readr)\n",
    "p_load(writexl)\n",
    "p_load(stringr)\n",
    "p_load(caTools)\n",
    "p_load(scales)\n",
    "p_load(reshape2)\n"
   ]
  },
  {
   "cell_type": "code",
   "execution_count": 8,
   "metadata": {
    "vscode": {
     "languageId": "r"
    }
   },
   "outputs": [
    {
     "name": "stderr",
     "output_type": "stream",
     "text": [
      "+ \"C:/Users/angme/anaconda3/condabin/conda.bat\" \"install\" \"--yes\" \"--prefix\" \"C:/Users/angme/anaconda3\" \"-c\" \"conda-forge\" \"tensorflow\"\n",
      "\n"
     ]
    }
   ],
   "source": [
    "py_install(\"tensorflow\")"
   ]
  },
  {
   "cell_type": "markdown",
   "metadata": {},
   "source": [
    "Import File"
   ]
  },
  {
   "cell_type": "code",
   "execution_count": null,
   "metadata": {
    "vscode": {
     "languageId": "r"
    }
   },
   "outputs": [],
   "source": [
    "data2 = read.csv(here(\"dataSources\", \"videoGames\", \"clean output of joined table.csv\"))\n",
    "attach(data2)"
   ]
  },
  {
   "cell_type": "code",
   "execution_count": 75,
   "metadata": {
    "vscode": {
     "languageId": "r"
    }
   },
   "outputs": [
    {
     "name": "stdout",
     "output_type": "stream",
     "text": [
      "'data.frame':\t8896 obs. of  32 variables:\n",
      " $ Title                : chr  \"(c 12) Final Resistance\" \".hack Sekai no Mukou ni  Versus\" \"007 Quantum of Solace\" \"007 Quantum of Solace\" ...\n",
      " $ Platform             : chr  \"PS\" \"PS3\" \"PS2\" \"PS3\" ...\n",
      " $ Genre                : chr  \"Shooter\" \"Fighting\" \"Shooter\" \"Shooter\" ...\n",
      " $ Publisher            : chr  \"IBM\" \"IBM\" \"Activision\" \"Activision\" ...\n",
      " $ VGScore              : num  1 6 8 3 1 6 3 1 2 3 ...\n",
      " $ CriticScore          : num  6.5 10 7.8 6.6 6.4 7 6.1 2 10 7 ...\n",
      " $ UserScore            : num  4 6 4 10 1 7 8 5 3 1 ...\n",
      " $ TotalShipped         : num  8 269 81 158 240 294 210 174 21 277 ...\n",
      " $ AsianSales           : num  5.08 3 3 1.14 3 2.94 3 3.74 5.5 2.67 ...\n",
      " $ NorthAmericaSales    : num  1.1 1.86 0.17 0.43 0.51 2.3 0.3 1.98 4.74 2.37 ...\n",
      " $ JapanSales           : num  5.7 0.03 1.21 0.02 3.75 1.37 4.94 2.34 3.85 5.75 ...\n",
      " $ EuropeSales          : num  3.54 6.43 2.22 0.51 0.35 2.14 0.2 1.16 3.73 3.62 ...\n",
      " $ GlobalSales          : num  15.42 8.35 4.03 2.1 5.53 ...\n",
      " $ ProductionCost       : num  1.98 3.34 2.05 1.19 1.5 4.27 2.8 5.76 3.89 6.33 ...\n",
      " $ ReleaseYear_v1       : int  2002 2012 2008 2008 2000 2002 2000 2009 2008 2006 ...\n",
      " $ Developer            : chr  \"#N/A\" \"#N/A\" \"#N/A\" \"#N/A\" ...\n",
      " $ MultipleGenre        : chr  \"#N/A\" \"#N/A\" \"#N/A\" \"#N/A\" ...\n",
      " $ MetaScore            : chr  \"#N/A\" \"#N/A\" \"#N/A\" \"#N/A\" ...\n",
      " $ AvgUserScore         : chr  \"#N/A\" \"#N/A\" \"#N/A\" \"#N/A\" ...\n",
      " $ NoOfPlayers          : chr  \"#N/A\" \"#N/A\" \"#N/A\" \"#N/A\" ...\n",
      " $ releasedate_1986.2023: logi  NA NA NA NA NA NA ...\n",
      " $ releasedate_VGOutput : chr  \"#N/A\" \"#N/A\" \"#N/A\" \"#N/A\" ...\n",
      " $ releasedate_raw      : chr  \"\" \"\" \"\" \"\" ...\n",
      " $ ReleaseDate          : chr  \"0/1/1900\" \"0/1/1900\" \"0/1/1900\" \"0/1/1900\" ...\n",
      " $ releasedate_link     : chr  \"https://www.google.com/search?q=(c 12) Final Resistance PS release date\" \"https://www.google.com/search?q=.hack Sekai no Mukou ni  Versus PS3 release date\" \"https://www.google.com/search?q=007 Quantum of Solace PS2 release date\" \"https://www.google.com/search?q=007 Quantum of Solace PS3 release date\" ...\n",
      " $ ReleaseYear          : int  NA NA NA NA NA NA NA NA NA NA ...\n",
      " $ ReleaseMonth         : int  NA NA NA NA NA NA NA NA NA NA ...\n",
      " $ EndOfMonth           : chr  \"\" \"\" \"\" \"\" ...\n",
      " $ ReleaseQuarter       : int  NA NA NA NA NA NA NA NA NA NA ...\n",
      " $ ReleaseWeekDay       : int  NA NA NA NA NA NA NA NA NA NA ...\n",
      " $ ReleaseWeekend       : chr  \"\" \"\" \"\" \"\" ...\n",
      " $ ReleaseWeek          : int  NA NA NA NA NA NA NA NA NA NA ...\n"
     ]
    },
    {
     "data": {
      "text/plain": [
       "    Title             Platform            Genre            Publisher        \n",
       " Length:8896        Length:8896        Length:8896        Length:8896       \n",
       " Class :character   Class :character   Class :character   Class :character  \n",
       " Mode  :character   Mode  :character   Mode  :character   Mode  :character  \n",
       "                                                                            \n",
       "                                                                            \n",
       "                                                                            \n",
       "                                                                            \n",
       "    VGScore        CriticScore      UserScore       TotalShipped   \n",
       " Min.   : 1.000   Min.   : 1.00   Min.   : 1.000   Min.   :  0.07  \n",
       " 1st Qu.: 4.000   1st Qu.: 3.00   1st Qu.: 3.000   1st Qu.: 67.00  \n",
       " Median : 6.000   Median : 6.00   Median : 5.000   Median :146.00  \n",
       " Mean   : 6.121   Mean   : 5.71   Mean   : 5.502   Mean   :145.25  \n",
       " 3rd Qu.: 8.500   3rd Qu.: 8.00   3rd Qu.: 8.000   3rd Qu.:224.00  \n",
       " Max.   :10.000   Max.   :10.00   Max.   :10.000   Max.   :300.00  \n",
       "                                                                   \n",
       "   AsianSales     NorthAmericaSales   JapanSales     EuropeSales   \n",
       " Min.   : 1.000   Min.   :0.010     Min.   :0.010   Min.   :0.010  \n",
       " 1st Qu.: 3.000   1st Qu.:0.640     1st Qu.:1.690   1st Qu.:1.040  \n",
       " Median : 3.000   Median :2.440     Median :3.100   Median :3.025  \n",
       " Mean   : 3.877   Mean   :2.591     Mean   :3.065   Mean   :3.037  \n",
       " 3rd Qu.: 5.140   3rd Qu.:4.060     3rd Qu.:4.590   3rd Qu.:5.000  \n",
       " Max.   :13.800   Max.   :8.000     Max.   :6.000   Max.   :7.000  \n",
       "                                                                   \n",
       "  GlobalSales    ProductionCost  ReleaseYear_v1  Developer        \n",
       " Min.   : 0.09   Min.   :0.010   Min.   :2000   Length:8896       \n",
       " 1st Qu.: 6.34   1st Qu.:2.160   1st Qu.:2004   Class :character  \n",
       " Median :12.20   Median :3.440   Median :2007   Mode  :character  \n",
       " Mean   :11.59   Mean   :3.565   Mean   :2008                     \n",
       " 3rd Qu.:16.23   3rd Qu.:4.950   3rd Qu.:2010                     \n",
       " Max.   :27.08   Max.   :8.000   Max.   :2020                     \n",
       "                                                                  \n",
       " MultipleGenre       MetaScore         AvgUserScore       NoOfPlayers       \n",
       " Length:8896        Length:8896        Length:8896        Length:8896       \n",
       " Class :character   Class :character   Class :character   Class :character  \n",
       " Mode  :character   Mode  :character   Mode  :character   Mode  :character  \n",
       "                                                                            \n",
       "                                                                            \n",
       "                                                                            \n",
       "                                                                            \n",
       " releasedate_1986.2023 releasedate_VGOutput releasedate_raw   \n",
       " Mode:logical          Length:8896          Length:8896       \n",
       " NA's:8896             Class :character     Class :character  \n",
       "                       Mode  :character     Mode  :character  \n",
       "                                                              \n",
       "                                                              \n",
       "                                                              \n",
       "                                                              \n",
       " ReleaseDate        releasedate_link    ReleaseYear    ReleaseMonth   \n",
       " Length:8896        Length:8896        Min.   :1900   Min.   : 1.000  \n",
       " Class :character   Class :character   1st Qu.:2003   1st Qu.: 4.000  \n",
       " Mode  :character   Mode  :character   Median :2006   Median : 8.000  \n",
       "                                       Mean   :2007   Mean   : 7.172  \n",
       "                                       3rd Qu.:2010   3rd Qu.:10.000  \n",
       "                                       Max.   :2019   Max.   :12.000  \n",
       "                                       NA's   :8070   NA's   :8070    \n",
       "  EndOfMonth        ReleaseQuarter  ReleaseWeekDay  ReleaseWeekend    \n",
       " Length:8896        Min.   :1.000   Min.   :1.000   Length:8896       \n",
       " Class :character   1st Qu.:2.000   1st Qu.:2.000   Class :character  \n",
       " Mode  :character   Median :3.000   Median :2.000   Mode  :character  \n",
       "                    Mean   :2.711   Mean   :2.636                     \n",
       "                    3rd Qu.:4.000   3rd Qu.:4.000                     \n",
       "                    Max.   :4.000   Max.   :7.000                     \n",
       "                    NA's   :8070    NA's   :8070                      \n",
       "  ReleaseWeek   \n",
       " Min.   : 0.00  \n",
       " 1st Qu.:16.00  \n",
       " Median :35.00  \n",
       " Mean   :29.94  \n",
       " 3rd Qu.:43.00  \n",
       " Max.   :52.00  \n",
       " NA's   :8070   "
      ]
     },
     "metadata": {},
     "output_type": "display_data"
    },
    {
     "data": {
      "text/html": [
       "<style>\n",
       ".list-inline {list-style: none; margin:0; padding: 0}\n",
       ".list-inline>li {display: inline-block}\n",
       ".list-inline>li:not(:last-child)::after {content: \"\\00b7\"; padding: 0 .5ex}\n",
       "</style>\n",
       "<ol class=list-inline><li>'Title'</li><li>'Platform'</li><li>'Genre'</li><li>'Publisher'</li><li>'VGScore'</li><li>'CriticScore'</li><li>'UserScore'</li><li>'TotalShipped'</li><li>'AsianSales'</li><li>'NorthAmericaSales'</li><li>'JapanSales'</li><li>'EuropeSales'</li><li>'GlobalSales'</li><li>'ProductionCost'</li><li>'ReleaseYear_v1'</li><li>'Developer'</li><li>'MultipleGenre'</li><li>'MetaScore'</li><li>'AvgUserScore'</li><li>'NoOfPlayers'</li><li>'releasedate_1986.2023'</li><li>'releasedate_VGOutput'</li><li>'releasedate_raw'</li><li>'ReleaseDate'</li><li>'releasedate_link'</li><li>'ReleaseYear'</li><li>'ReleaseMonth'</li><li>'EndOfMonth'</li><li>'ReleaseQuarter'</li><li>'ReleaseWeekDay'</li><li>'ReleaseWeekend'</li><li>'ReleaseWeek'</li></ol>\n"
      ],
      "text/latex": [
       "\\begin{enumerate*}\n",
       "\\item 'Title'\n",
       "\\item 'Platform'\n",
       "\\item 'Genre'\n",
       "\\item 'Publisher'\n",
       "\\item 'VGScore'\n",
       "\\item 'CriticScore'\n",
       "\\item 'UserScore'\n",
       "\\item 'TotalShipped'\n",
       "\\item 'AsianSales'\n",
       "\\item 'NorthAmericaSales'\n",
       "\\item 'JapanSales'\n",
       "\\item 'EuropeSales'\n",
       "\\item 'GlobalSales'\n",
       "\\item 'ProductionCost'\n",
       "\\item 'ReleaseYear\\_v1'\n",
       "\\item 'Developer'\n",
       "\\item 'MultipleGenre'\n",
       "\\item 'MetaScore'\n",
       "\\item 'AvgUserScore'\n",
       "\\item 'NoOfPlayers'\n",
       "\\item 'releasedate\\_1986.2023'\n",
       "\\item 'releasedate\\_VGOutput'\n",
       "\\item 'releasedate\\_raw'\n",
       "\\item 'ReleaseDate'\n",
       "\\item 'releasedate\\_link'\n",
       "\\item 'ReleaseYear'\n",
       "\\item 'ReleaseMonth'\n",
       "\\item 'EndOfMonth'\n",
       "\\item 'ReleaseQuarter'\n",
       "\\item 'ReleaseWeekDay'\n",
       "\\item 'ReleaseWeekend'\n",
       "\\item 'ReleaseWeek'\n",
       "\\end{enumerate*}\n"
      ],
      "text/markdown": [
       "1. 'Title'\n",
       "2. 'Platform'\n",
       "3. 'Genre'\n",
       "4. 'Publisher'\n",
       "5. 'VGScore'\n",
       "6. 'CriticScore'\n",
       "7. 'UserScore'\n",
       "8. 'TotalShipped'\n",
       "9. 'AsianSales'\n",
       "10. 'NorthAmericaSales'\n",
       "11. 'JapanSales'\n",
       "12. 'EuropeSales'\n",
       "13. 'GlobalSales'\n",
       "14. 'ProductionCost'\n",
       "15. 'ReleaseYear_v1'\n",
       "16. 'Developer'\n",
       "17. 'MultipleGenre'\n",
       "18. 'MetaScore'\n",
       "19. 'AvgUserScore'\n",
       "20. 'NoOfPlayers'\n",
       "21. 'releasedate_1986.2023'\n",
       "22. 'releasedate_VGOutput'\n",
       "23. 'releasedate_raw'\n",
       "24. 'ReleaseDate'\n",
       "25. 'releasedate_link'\n",
       "26. 'ReleaseYear'\n",
       "27. 'ReleaseMonth'\n",
       "28. 'EndOfMonth'\n",
       "29. 'ReleaseQuarter'\n",
       "30. 'ReleaseWeekDay'\n",
       "31. 'ReleaseWeekend'\n",
       "32. 'ReleaseWeek'\n",
       "\n",
       "\n"
      ],
      "text/plain": [
       " [1] \"Title\"                 \"Platform\"              \"Genre\"                \n",
       " [4] \"Publisher\"             \"VGScore\"               \"CriticScore\"          \n",
       " [7] \"UserScore\"             \"TotalShipped\"          \"AsianSales\"           \n",
       "[10] \"NorthAmericaSales\"     \"JapanSales\"            \"EuropeSales\"          \n",
       "[13] \"GlobalSales\"           \"ProductionCost\"        \"ReleaseYear_v1\"       \n",
       "[16] \"Developer\"             \"MultipleGenre\"         \"MetaScore\"            \n",
       "[19] \"AvgUserScore\"          \"NoOfPlayers\"           \"releasedate_1986.2023\"\n",
       "[22] \"releasedate_VGOutput\"  \"releasedate_raw\"       \"ReleaseDate\"          \n",
       "[25] \"releasedate_link\"      \"ReleaseYear\"           \"ReleaseMonth\"         \n",
       "[28] \"EndOfMonth\"            \"ReleaseQuarter\"        \"ReleaseWeekDay\"       \n",
       "[31] \"ReleaseWeekend\"        \"ReleaseWeek\"          "
      ]
     },
     "metadata": {},
     "output_type": "display_data"
    },
    {
     "data": {
      "text/html": [
       "<table class=\"dataframe\">\n",
       "<caption>A data.frame: 5 × 32</caption>\n",
       "<thead>\n",
       "\t<tr><th></th><th scope=col>Title</th><th scope=col>Platform</th><th scope=col>Genre</th><th scope=col>Publisher</th><th scope=col>VGScore</th><th scope=col>CriticScore</th><th scope=col>UserScore</th><th scope=col>TotalShipped</th><th scope=col>AsianSales</th><th scope=col>NorthAmericaSales</th><th scope=col>⋯</th><th scope=col>releasedate_raw</th><th scope=col>ReleaseDate</th><th scope=col>releasedate_link</th><th scope=col>ReleaseYear</th><th scope=col>ReleaseMonth</th><th scope=col>EndOfMonth</th><th scope=col>ReleaseQuarter</th><th scope=col>ReleaseWeekDay</th><th scope=col>ReleaseWeekend</th><th scope=col>ReleaseWeek</th></tr>\n",
       "\t<tr><th></th><th scope=col>&lt;chr&gt;</th><th scope=col>&lt;chr&gt;</th><th scope=col>&lt;chr&gt;</th><th scope=col>&lt;chr&gt;</th><th scope=col>&lt;dbl&gt;</th><th scope=col>&lt;dbl&gt;</th><th scope=col>&lt;dbl&gt;</th><th scope=col>&lt;dbl&gt;</th><th scope=col>&lt;dbl&gt;</th><th scope=col>&lt;dbl&gt;</th><th scope=col>⋯</th><th scope=col>&lt;chr&gt;</th><th scope=col>&lt;chr&gt;</th><th scope=col>&lt;chr&gt;</th><th scope=col>&lt;int&gt;</th><th scope=col>&lt;int&gt;</th><th scope=col>&lt;chr&gt;</th><th scope=col>&lt;int&gt;</th><th scope=col>&lt;int&gt;</th><th scope=col>&lt;chr&gt;</th><th scope=col>&lt;int&gt;</th></tr>\n",
       "</thead>\n",
       "<tbody>\n",
       "\t<tr><th scope=row>1</th><td>(c 12) Final Resistance        </td><td>PS </td><td>Shooter </td><td>IBM            </td><td>1</td><td> 6.5</td><td> 4</td><td>  8</td><td>5.08</td><td>1.10</td><td>⋯</td><td></td><td>0/1/1900</td><td>https://www.google.com/search?q=(c 12) Final Resistance PS release date         </td><td>NA</td><td>NA</td><td></td><td>NA</td><td>NA</td><td></td><td>NA</td></tr>\n",
       "\t<tr><th scope=row>2</th><td>.hack Sekai no Mukou ni  Versus</td><td>PS3</td><td>Fighting</td><td>IBM            </td><td>6</td><td>10.0</td><td> 6</td><td>269</td><td>3.00</td><td>1.86</td><td>⋯</td><td></td><td>0/1/1900</td><td>https://www.google.com/search?q=.hack Sekai no Mukou ni  Versus PS3 release date</td><td>NA</td><td>NA</td><td></td><td>NA</td><td>NA</td><td></td><td>NA</td></tr>\n",
       "\t<tr><th scope=row>3</th><td>007 Quantum of Solace          </td><td>PS2</td><td>Shooter </td><td>Activision     </td><td>8</td><td> 7.8</td><td> 4</td><td> 81</td><td>3.00</td><td>0.17</td><td>⋯</td><td></td><td>0/1/1900</td><td>https://www.google.com/search?q=007 Quantum of Solace PS2 release date          </td><td>NA</td><td>NA</td><td></td><td>NA</td><td>NA</td><td></td><td>NA</td></tr>\n",
       "\t<tr><th scope=row>4</th><td>007 Quantum of Solace          </td><td>PS3</td><td>Shooter </td><td>Activision     </td><td>3</td><td> 6.6</td><td>10</td><td>158</td><td>1.14</td><td>0.43</td><td>⋯</td><td></td><td>0/1/1900</td><td>https://www.google.com/search?q=007 Quantum of Solace PS3 release date          </td><td>NA</td><td>NA</td><td></td><td>NA</td><td>NA</td><td></td><td>NA</td></tr>\n",
       "\t<tr><th scope=row>5</th><td>007 The World is not Enough    </td><td>PS </td><td>Shooter </td><td>Electronic Arts</td><td>1</td><td> 6.4</td><td> 1</td><td>240</td><td>3.00</td><td>0.51</td><td>⋯</td><td></td><td>0/1/1900</td><td>https://www.google.com/search?q=007 The World is not Enough PS release date     </td><td>NA</td><td>NA</td><td></td><td>NA</td><td>NA</td><td></td><td>NA</td></tr>\n",
       "</tbody>\n",
       "</table>\n"
      ],
      "text/latex": [
       "A data.frame: 5 × 32\n",
       "\\begin{tabular}{r|lllllllllllllllllllll}\n",
       "  & Title & Platform & Genre & Publisher & VGScore & CriticScore & UserScore & TotalShipped & AsianSales & NorthAmericaSales & ⋯ & releasedate\\_raw & ReleaseDate & releasedate\\_link & ReleaseYear & ReleaseMonth & EndOfMonth & ReleaseQuarter & ReleaseWeekDay & ReleaseWeekend & ReleaseWeek\\\\\n",
       "  & <chr> & <chr> & <chr> & <chr> & <dbl> & <dbl> & <dbl> & <dbl> & <dbl> & <dbl> & ⋯ & <chr> & <chr> & <chr> & <int> & <int> & <chr> & <int> & <int> & <chr> & <int>\\\\\n",
       "\\hline\n",
       "\t1 & (c 12) Final Resistance         & PS  & Shooter  & IBM             & 1 &  6.5 &  4 &   8 & 5.08 & 1.10 & ⋯ &  & 0/1/1900 & https://www.google.com/search?q=(c 12) Final Resistance PS release date          & NA & NA &  & NA & NA &  & NA\\\\\n",
       "\t2 & .hack Sekai no Mukou ni  Versus & PS3 & Fighting & IBM             & 6 & 10.0 &  6 & 269 & 3.00 & 1.86 & ⋯ &  & 0/1/1900 & https://www.google.com/search?q=.hack Sekai no Mukou ni  Versus PS3 release date & NA & NA &  & NA & NA &  & NA\\\\\n",
       "\t3 & 007 Quantum of Solace           & PS2 & Shooter  & Activision      & 8 &  7.8 &  4 &  81 & 3.00 & 0.17 & ⋯ &  & 0/1/1900 & https://www.google.com/search?q=007 Quantum of Solace PS2 release date           & NA & NA &  & NA & NA &  & NA\\\\\n",
       "\t4 & 007 Quantum of Solace           & PS3 & Shooter  & Activision      & 3 &  6.6 & 10 & 158 & 1.14 & 0.43 & ⋯ &  & 0/1/1900 & https://www.google.com/search?q=007 Quantum of Solace PS3 release date           & NA & NA &  & NA & NA &  & NA\\\\\n",
       "\t5 & 007 The World is not Enough     & PS  & Shooter  & Electronic Arts & 1 &  6.4 &  1 & 240 & 3.00 & 0.51 & ⋯ &  & 0/1/1900 & https://www.google.com/search?q=007 The World is not Enough PS release date      & NA & NA &  & NA & NA &  & NA\\\\\n",
       "\\end{tabular}\n"
      ],
      "text/markdown": [
       "\n",
       "A data.frame: 5 × 32\n",
       "\n",
       "| <!--/--> | Title &lt;chr&gt; | Platform &lt;chr&gt; | Genre &lt;chr&gt; | Publisher &lt;chr&gt; | VGScore &lt;dbl&gt; | CriticScore &lt;dbl&gt; | UserScore &lt;dbl&gt; | TotalShipped &lt;dbl&gt; | AsianSales &lt;dbl&gt; | NorthAmericaSales &lt;dbl&gt; | ⋯ ⋯ | releasedate_raw &lt;chr&gt; | ReleaseDate &lt;chr&gt; | releasedate_link &lt;chr&gt; | ReleaseYear &lt;int&gt; | ReleaseMonth &lt;int&gt; | EndOfMonth &lt;chr&gt; | ReleaseQuarter &lt;int&gt; | ReleaseWeekDay &lt;int&gt; | ReleaseWeekend &lt;chr&gt; | ReleaseWeek &lt;int&gt; |\n",
       "|---|---|---|---|---|---|---|---|---|---|---|---|---|---|---|---|---|---|---|---|---|---|\n",
       "| 1 | (c 12) Final Resistance         | PS  | Shooter  | IBM             | 1 |  6.5 |  4 |   8 | 5.08 | 1.10 | ⋯ | <!----> | 0/1/1900 | https://www.google.com/search?q=(c 12) Final Resistance PS release date          | NA | NA | <!----> | NA | NA | <!----> | NA |\n",
       "| 2 | .hack Sekai no Mukou ni  Versus | PS3 | Fighting | IBM             | 6 | 10.0 |  6 | 269 | 3.00 | 1.86 | ⋯ | <!----> | 0/1/1900 | https://www.google.com/search?q=.hack Sekai no Mukou ni  Versus PS3 release date | NA | NA | <!----> | NA | NA | <!----> | NA |\n",
       "| 3 | 007 Quantum of Solace           | PS2 | Shooter  | Activision      | 8 |  7.8 |  4 |  81 | 3.00 | 0.17 | ⋯ | <!----> | 0/1/1900 | https://www.google.com/search?q=007 Quantum of Solace PS2 release date           | NA | NA | <!----> | NA | NA | <!----> | NA |\n",
       "| 4 | 007 Quantum of Solace           | PS3 | Shooter  | Activision      | 3 |  6.6 | 10 | 158 | 1.14 | 0.43 | ⋯ | <!----> | 0/1/1900 | https://www.google.com/search?q=007 Quantum of Solace PS3 release date           | NA | NA | <!----> | NA | NA | <!----> | NA |\n",
       "| 5 | 007 The World is not Enough     | PS  | Shooter  | Electronic Arts | 1 |  6.4 |  1 | 240 | 3.00 | 0.51 | ⋯ | <!----> | 0/1/1900 | https://www.google.com/search?q=007 The World is not Enough PS release date      | NA | NA | <!----> | NA | NA | <!----> | NA |\n",
       "\n"
      ],
      "text/plain": [
       "  Title                           Platform Genre    Publisher       VGScore\n",
       "1 (c 12) Final Resistance         PS       Shooter  IBM             1      \n",
       "2 .hack Sekai no Mukou ni  Versus PS3      Fighting IBM             6      \n",
       "3 007 Quantum of Solace           PS2      Shooter  Activision      8      \n",
       "4 007 Quantum of Solace           PS3      Shooter  Activision      3      \n",
       "5 007 The World is not Enough     PS       Shooter  Electronic Arts 1      \n",
       "  CriticScore UserScore TotalShipped AsianSales NorthAmericaSales ⋯\n",
       "1  6.5         4          8          5.08       1.10              ⋯\n",
       "2 10.0         6        269          3.00       1.86              ⋯\n",
       "3  7.8         4         81          3.00       0.17              ⋯\n",
       "4  6.6        10        158          1.14       0.43              ⋯\n",
       "5  6.4         1        240          3.00       0.51              ⋯\n",
       "  releasedate_raw ReleaseDate\n",
       "1                 0/1/1900   \n",
       "2                 0/1/1900   \n",
       "3                 0/1/1900   \n",
       "4                 0/1/1900   \n",
       "5                 0/1/1900   \n",
       "  releasedate_link                                                                \n",
       "1 https://www.google.com/search?q=(c 12) Final Resistance PS release date         \n",
       "2 https://www.google.com/search?q=.hack Sekai no Mukou ni  Versus PS3 release date\n",
       "3 https://www.google.com/search?q=007 Quantum of Solace PS2 release date          \n",
       "4 https://www.google.com/search?q=007 Quantum of Solace PS3 release date          \n",
       "5 https://www.google.com/search?q=007 The World is not Enough PS release date     \n",
       "  ReleaseYear ReleaseMonth EndOfMonth ReleaseQuarter ReleaseWeekDay\n",
       "1 NA          NA                      NA             NA            \n",
       "2 NA          NA                      NA             NA            \n",
       "3 NA          NA                      NA             NA            \n",
       "4 NA          NA                      NA             NA            \n",
       "5 NA          NA                      NA             NA            \n",
       "  ReleaseWeekend ReleaseWeek\n",
       "1                NA         \n",
       "2                NA         \n",
       "3                NA         \n",
       "4                NA         \n",
       "5                NA         "
      ]
     },
     "metadata": {},
     "output_type": "display_data"
    }
   ],
   "source": [
    "# Check the data\n",
    "str(data2)\n",
    "summary(data2)\n",
    "names(data2)\n",
    "head(data2, 5)"
   ]
  },
  {
   "cell_type": "code",
   "execution_count": 76,
   "metadata": {
    "vscode": {
     "languageId": "r"
    }
   },
   "outputs": [],
   "source": [
    "data2 <- data2[, c(\n",
    "  \"Title\",\n",
    "  \"Platform\",\n",
    "  \"Genre\",\n",
    "  \"Publisher\",\n",
    "  \"VGScore\",\n",
    "  \"CriticScore\",\n",
    "  \"UserScore\",\n",
    "  \"TotalShipped\",\n",
    "  \"AsianSales\",\n",
    "  \"NorthAmericaSales\",\n",
    "  \"JapanSales\",\n",
    "  \"EuropeSales\",\n",
    "  \"GlobalSales\",\n",
    "  \"ProductionCost\",\n",
    "  \"ReleaseYear_v1\"\n",
    ")]"
   ]
  },
  {
   "cell_type": "code",
   "execution_count": 77,
   "metadata": {
    "vscode": {
     "languageId": "r"
    }
   },
   "outputs": [
    {
     "name": "stdout",
     "output_type": "stream",
     "text": [
      "'data.frame':\t8896 obs. of  15 variables:\n",
      " $ Title            : chr  \"(c 12) Final Resistance\" \".hack Sekai no Mukou ni  Versus\" \"007 Quantum of Solace\" \"007 Quantum of Solace\" ...\n",
      " $ Platform         : chr  \"PS\" \"PS3\" \"PS2\" \"PS3\" ...\n",
      " $ Genre            : chr  \"Shooter\" \"Fighting\" \"Shooter\" \"Shooter\" ...\n",
      " $ Publisher        : chr  \"IBM\" \"IBM\" \"Activision\" \"Activision\" ...\n",
      " $ VGScore          : num  1 6 8 3 1 6 3 1 2 3 ...\n",
      " $ CriticScore      : num  6.5 10 7.8 6.6 6.4 7 6.1 2 10 7 ...\n",
      " $ UserScore        : num  4 6 4 10 1 7 8 5 3 1 ...\n",
      " $ TotalShipped     : num  8 269 81 158 240 294 210 174 21 277 ...\n",
      " $ AsianSales       : num  5.08 3 3 1.14 3 2.94 3 3.74 5.5 2.67 ...\n",
      " $ NorthAmericaSales: num  1.1 1.86 0.17 0.43 0.51 2.3 0.3 1.98 4.74 2.37 ...\n",
      " $ JapanSales       : num  5.7 0.03 1.21 0.02 3.75 1.37 4.94 2.34 3.85 5.75 ...\n",
      " $ EuropeSales      : num  3.54 6.43 2.22 0.51 0.35 2.14 0.2 1.16 3.73 3.62 ...\n",
      " $ GlobalSales      : num  15.42 8.35 4.03 2.1 5.53 ...\n",
      " $ ProductionCost   : num  1.98 3.34 2.05 1.19 1.5 4.27 2.8 5.76 3.89 6.33 ...\n",
      " $ ReleaseYear_v1   : int  2002 2012 2008 2008 2000 2002 2000 2009 2008 2006 ...\n"
     ]
    }
   ],
   "source": [
    "str(data2)"
   ]
  },
  {
   "cell_type": "code",
   "execution_count": 78,
   "metadata": {
    "vscode": {
     "languageId": "r"
    }
   },
   "outputs": [],
   "source": [
    "########################################################\n",
    "# data type\n",
    "# set the variables to factors (categorical data)\n",
    "data2 <- data2 %>%\n",
    "  mutate(\n",
    "    Platform = as.factor(Platform),\n",
    "    Genre = as.factor(Genre),\n",
    "    Publisher = as.factor(Publisher)\n",
    "    )"
   ]
  },
  {
   "cell_type": "code",
   "execution_count": 79,
   "metadata": {
    "vscode": {
     "languageId": "r"
    }
   },
   "outputs": [
    {
     "name": "stdout",
     "output_type": "stream",
     "text": [
      " /\\     /\\\n",
      "{  `---'  }\n",
      "{  O   O  }\n",
      "==>  V <==  No need for mice. This data set is completely observed.\n",
      " \\  \\|/  /\n",
      "  `-----'\n",
      "\n"
     ]
    },
    {
     "data": {
      "text/html": [
       "<table class=\"dataframe\">\n",
       "<caption>A matrix: 2 × 16 of type dbl</caption>\n",
       "<thead>\n",
       "\t<tr><th></th><th scope=col>Title</th><th scope=col>Platform</th><th scope=col>Genre</th><th scope=col>Publisher</th><th scope=col>VGScore</th><th scope=col>CriticScore</th><th scope=col>UserScore</th><th scope=col>TotalShipped</th><th scope=col>AsianSales</th><th scope=col>NorthAmericaSales</th><th scope=col>JapanSales</th><th scope=col>EuropeSales</th><th scope=col>GlobalSales</th><th scope=col>ProductionCost</th><th scope=col>ReleaseYear_v1</th><th scope=col></th></tr>\n",
       "</thead>\n",
       "<tbody>\n",
       "\t<tr><th scope=row>8896</th><td>1</td><td>1</td><td>1</td><td>1</td><td>1</td><td>1</td><td>1</td><td>1</td><td>1</td><td>1</td><td>1</td><td>1</td><td>1</td><td>1</td><td>1</td><td>0</td></tr>\n",
       "\t<tr><th scope=row></th><td>0</td><td>0</td><td>0</td><td>0</td><td>0</td><td>0</td><td>0</td><td>0</td><td>0</td><td>0</td><td>0</td><td>0</td><td>0</td><td>0</td><td>0</td><td>0</td></tr>\n",
       "</tbody>\n",
       "</table>\n"
      ],
      "text/latex": [
       "A matrix: 2 × 16 of type dbl\n",
       "\\begin{tabular}{r|llllllllllllllll}\n",
       "  & Title & Platform & Genre & Publisher & VGScore & CriticScore & UserScore & TotalShipped & AsianSales & NorthAmericaSales & JapanSales & EuropeSales & GlobalSales & ProductionCost & ReleaseYear\\_v1 & \\\\\n",
       "\\hline\n",
       "\t8896 & 1 & 1 & 1 & 1 & 1 & 1 & 1 & 1 & 1 & 1 & 1 & 1 & 1 & 1 & 1 & 0\\\\\n",
       "\t & 0 & 0 & 0 & 0 & 0 & 0 & 0 & 0 & 0 & 0 & 0 & 0 & 0 & 0 & 0 & 0\\\\\n",
       "\\end{tabular}\n"
      ],
      "text/markdown": [
       "\n",
       "A matrix: 2 × 16 of type dbl\n",
       "\n",
       "| <!--/--> | Title | Platform | Genre | Publisher | VGScore | CriticScore | UserScore | TotalShipped | AsianSales | NorthAmericaSales | JapanSales | EuropeSales | GlobalSales | ProductionCost | ReleaseYear_v1 | <!----> |\n",
       "|---|---|---|---|---|---|---|---|---|---|---|---|---|---|---|---|---|\n",
       "| 8896 | 1 | 1 | 1 | 1 | 1 | 1 | 1 | 1 | 1 | 1 | 1 | 1 | 1 | 1 | 1 | 0 |\n",
       "| <!----> | 0 | 0 | 0 | 0 | 0 | 0 | 0 | 0 | 0 | 0 | 0 | 0 | 0 | 0 | 0 | 0 |\n",
       "\n"
      ],
      "text/plain": [
       "     Title Platform Genre Publisher VGScore CriticScore UserScore TotalShipped\n",
       "8896 1     1        1     1         1       1           1         1           \n",
       "     0     0        0     0         0       0           0         0           \n",
       "     AsianSales NorthAmericaSales JapanSales EuropeSales GlobalSales\n",
       "8896 1          1                 1          1           1          \n",
       "     0          0                 0          0           0          \n",
       "     ProductionCost ReleaseYear_v1  \n",
       "8896 1              1              0\n",
       "     0              0              0"
      ]
     },
     "metadata": {},
     "output_type": "display_data"
    },
    {
     "data": {
      "image/png": "[encoded data removed]",
      "text/plain": [
       "plot without title"
      ]
     },
     "metadata": {
      "image/png": {
       "height": 420,
       "width": 420
      }
     },
     "output_type": "display_data"
    }
   ],
   "source": [
    "md.pattern(data2)"
   ]
  },
  {
   "cell_type": "code",
   "execution_count": 80,
   "metadata": {
    "vscode": {
     "languageId": "r"
    }
   },
   "outputs": [
    {
     "data": {
      "text/html": [
       "<style>\n",
       ".dl-inline {width: auto; margin:0; padding: 0}\n",
       ".dl-inline>dt, .dl-inline>dd {float: none; width: auto; display: inline-block}\n",
       ".dl-inline>dt::after {content: \":\\0020\"; padding-right: .5ex}\n",
       ".dl-inline>dt:not(:first-of-type) {padding-left: .5ex}\n",
       "</style><dl class=dl-inline><dt>Title</dt><dd>7470</dd><dt>Platform</dt><dd>8</dd><dt>Genre</dt><dd>8</dd><dt>Publisher</dt><dd>8</dd><dt>VGScore</dt><dd>46</dd><dt>CriticScore</dt><dd>73</dd><dt>UserScore</dt><dd>26</dd><dt>TotalShipped</dt><dd>430</dd><dt>AsianSales</dt><dd>705</dd><dt>NorthAmericaSales</dt><dd>781</dd><dt>JapanSales</dt><dd>567</dd><dt>EuropeSales</dt><dd>696</dd><dt>GlobalSales</dt><dd>2244</dd><dt>ProductionCost</dt><dd>636</dd><dt>ReleaseYear_v1</dt><dd>21</dd></dl>\n"
      ],
      "text/latex": [
       "\\begin{description*}\n",
       "\\item[Title] 7470\n",
       "\\item[Platform] 8\n",
       "\\item[Genre] 8\n",
       "\\item[Publisher] 8\n",
       "\\item[VGScore] 46\n",
       "\\item[CriticScore] 73\n",
       "\\item[UserScore] 26\n",
       "\\item[TotalShipped] 430\n",
       "\\item[AsianSales] 705\n",
       "\\item[NorthAmericaSales] 781\n",
       "\\item[JapanSales] 567\n",
       "\\item[EuropeSales] 696\n",
       "\\item[GlobalSales] 2244\n",
       "\\item[ProductionCost] 636\n",
       "\\item[ReleaseYear\\textbackslash{}\\_v1] 21\n",
       "\\end{description*}\n"
      ],
      "text/markdown": [
       "Title\n",
       ":   7470Platform\n",
       ":   8Genre\n",
       ":   8Publisher\n",
       ":   8VGScore\n",
       ":   46CriticScore\n",
       ":   73UserScore\n",
       ":   26TotalShipped\n",
       ":   430AsianSales\n",
       ":   705NorthAmericaSales\n",
       ":   781JapanSales\n",
       ":   567EuropeSales\n",
       ":   696GlobalSales\n",
       ":   2244ProductionCost\n",
       ":   636ReleaseYear_v1\n",
       ":   21\n",
       "\n"
      ],
      "text/plain": [
       "            Title          Platform             Genre         Publisher \n",
       "             7470                 8                 8                 8 \n",
       "          VGScore       CriticScore         UserScore      TotalShipped \n",
       "               46                73                26               430 \n",
       "       AsianSales NorthAmericaSales        JapanSales       EuropeSales \n",
       "              705               781               567               696 \n",
       "      GlobalSales    ProductionCost    ReleaseYear_v1 \n",
       "             2244               636                21 "
      ]
     },
     "metadata": {},
     "output_type": "display_data"
    }
   ],
   "source": [
    "########################################################\n",
    "# Check the number of distinct values for the variables\n",
    "\n",
    "sapply(data2, function(x) n_distinct(x))"
   ]
  },
  {
   "cell_type": "markdown",
   "metadata": {},
   "source": [
    "Data Cleaning"
   ]
  },
  {
   "cell_type": "code",
   "execution_count": 81,
   "metadata": {
    "vscode": {
     "languageId": "r"
    }
   },
   "outputs": [
    {
     "data": {
      "image/png": "[encoded data removed]",
      "text/plain": [
       "plot without title"
      ]
     },
     "metadata": {
      "image/png": {
       "height": 420,
       "width": 420
      }
     },
     "output_type": "display_data"
    }
   ],
   "source": [
    "########################################################\n",
    "# EDA - explore the dataset\n",
    "\n",
    "# Calculate average sales and count of games released by year\n",
    "summary_data2 <- data2 %>%\n",
    "  group_by(ReleaseYear_v1) %>%\n",
    "  summarise(AvgSales = mean(GlobalSales), Count = n())\n",
    "\n",
    "# Define a scaling factor to make the Count values visible\n",
    "count_scaling_factor <- max(summary_data2$AvgSales) / max(summary_data2$Count)\n",
    "\n",
    "# Create a line graph\n",
    "ggplot(summary_data2, aes(x = ReleaseYear_v1)) +\n",
    "  geom_line(aes(y = AvgSales, color = \"Average Sales\"), size = 1) +\n",
    "  geom_line(aes(y = Count * count_scaling_factor, color = \"Count\"), size = 1) +\n",
    "  scale_color_manual(values = c(\"Average Sales\" = \"blue\", \"Count\" = \"orange\")) +\n",
    "  labs(title = \"Average Sales and Game Count by Release Year\",\n",
    "       y = \"Average Sales\",\n",
    "       color = \"Metric\") +\n",
    "  theme_minimal() +\n",
    "  scale_y_continuous(\n",
    "    sec.axis = sec_axis(~./count_scaling_factor, name = \"Count\")\n",
    "  )\n"
   ]
  },
  {
   "cell_type": "code",
   "execution_count": 82,
   "metadata": {
    "vscode": {
     "languageId": "r"
    }
   },
   "outputs": [
    {
     "data": {
      "text/html": [
       "<table class=\"dataframe\">\n",
       "<caption>A tibble: 21 × 3</caption>\n",
       "<thead>\n",
       "\t<tr><th scope=col>ReleaseYear_v1</th><th scope=col>AvgSales</th><th scope=col>Count</th></tr>\n",
       "\t<tr><th scope=col>&lt;int&gt;</th><th scope=col>&lt;dbl&gt;</th><th scope=col>&lt;int&gt;</th></tr>\n",
       "</thead>\n",
       "<tbody>\n",
       "\t<tr><td>2000</td><td>11.32428</td><td> 477</td></tr>\n",
       "\t<tr><td>2001</td><td>10.97297</td><td> 461</td></tr>\n",
       "\t<tr><td>2002</td><td>11.47867</td><td> 533</td></tr>\n",
       "\t<tr><td>2003</td><td>12.05247</td><td> 526</td></tr>\n",
       "\t<tr><td>2004</td><td>11.89545</td><td> 494</td></tr>\n",
       "\t<tr><td>2005</td><td>11.82836</td><td> 518</td></tr>\n",
       "\t<tr><td>2006</td><td>11.65322</td><td> 678</td></tr>\n",
       "\t<tr><td>2007</td><td>11.05153</td><td> 819</td></tr>\n",
       "\t<tr><td>2008</td><td>10.46438</td><td>1008</td></tr>\n",
       "\t<tr><td>2009</td><td>11.33737</td><td>1117</td></tr>\n",
       "\t<tr><td>2010</td><td>11.90783</td><td> 483</td></tr>\n",
       "\t<tr><td>2011</td><td>11.70935</td><td> 386</td></tr>\n",
       "\t<tr><td>2012</td><td>11.26471</td><td> 138</td></tr>\n",
       "\t<tr><td>2013</td><td>11.73037</td><td> 107</td></tr>\n",
       "\t<tr><td>2014</td><td>12.45729</td><td> 181</td></tr>\n",
       "\t<tr><td>2015</td><td>12.36374</td><td> 190</td></tr>\n",
       "\t<tr><td>2016</td><td>11.93022</td><td> 179</td></tr>\n",
       "\t<tr><td>2017</td><td>12.07808</td><td> 172</td></tr>\n",
       "\t<tr><td>2018</td><td>12.16460</td><td> 163</td></tr>\n",
       "\t<tr><td>2019</td><td>15.37018</td><td> 163</td></tr>\n",
       "\t<tr><td>2020</td><td>15.43155</td><td> 103</td></tr>\n",
       "</tbody>\n",
       "</table>\n"
      ],
      "text/latex": [
       "A tibble: 21 × 3\n",
       "\\begin{tabular}{lll}\n",
       " ReleaseYear\\_v1 & AvgSales & Count\\\\\n",
       " <int> & <dbl> & <int>\\\\\n",
       "\\hline\n",
       "\t 2000 & 11.32428 &  477\\\\\n",
       "\t 2001 & 10.97297 &  461\\\\\n",
       "\t 2002 & 11.47867 &  533\\\\\n",
       "\t 2003 & 12.05247 &  526\\\\\n",
       "\t 2004 & 11.89545 &  494\\\\\n",
       "\t 2005 & 11.82836 &  518\\\\\n",
       "\t 2006 & 11.65322 &  678\\\\\n",
       "\t 2007 & 11.05153 &  819\\\\\n",
       "\t 2008 & 10.46438 & 1008\\\\\n",
       "\t 2009 & 11.33737 & 1117\\\\\n",
       "\t 2010 & 11.90783 &  483\\\\\n",
       "\t 2011 & 11.70935 &  386\\\\\n",
       "\t 2012 & 11.26471 &  138\\\\\n",
       "\t 2013 & 11.73037 &  107\\\\\n",
       "\t 2014 & 12.45729 &  181\\\\\n",
       "\t 2015 & 12.36374 &  190\\\\\n",
       "\t 2016 & 11.93022 &  179\\\\\n",
       "\t 2017 & 12.07808 &  172\\\\\n",
       "\t 2018 & 12.16460 &  163\\\\\n",
       "\t 2019 & 15.37018 &  163\\\\\n",
       "\t 2020 & 15.43155 &  103\\\\\n",
       "\\end{tabular}\n"
      ],
      "text/markdown": [
       "\n",
       "A tibble: 21 × 3\n",
       "\n",
       "| ReleaseYear_v1 &lt;int&gt; | AvgSales &lt;dbl&gt; | Count &lt;int&gt; |\n",
       "|---|---|---|\n",
       "| 2000 | 11.32428 |  477 |\n",
       "| 2001 | 10.97297 |  461 |\n",
       "| 2002 | 11.47867 |  533 |\n",
       "| 2003 | 12.05247 |  526 |\n",
       "| 2004 | 11.89545 |  494 |\n",
       "| 2005 | 11.82836 |  518 |\n",
       "| 2006 | 11.65322 |  678 |\n",
       "| 2007 | 11.05153 |  819 |\n",
       "| 2008 | 10.46438 | 1008 |\n",
       "| 2009 | 11.33737 | 1117 |\n",
       "| 2010 | 11.90783 |  483 |\n",
       "| 2011 | 11.70935 |  386 |\n",
       "| 2012 | 11.26471 |  138 |\n",
       "| 2013 | 11.73037 |  107 |\n",
       "| 2014 | 12.45729 |  181 |\n",
       "| 2015 | 12.36374 |  190 |\n",
       "| 2016 | 11.93022 |  179 |\n",
       "| 2017 | 12.07808 |  172 |\n",
       "| 2018 | 12.16460 |  163 |\n",
       "| 2019 | 15.37018 |  163 |\n",
       "| 2020 | 15.43155 |  103 |\n",
       "\n"
      ],
      "text/plain": [
       "   ReleaseYear_v1 AvgSales Count\n",
       "1  2000           11.32428  477 \n",
       "2  2001           10.97297  461 \n",
       "3  2002           11.47867  533 \n",
       "4  2003           12.05247  526 \n",
       "5  2004           11.89545  494 \n",
       "6  2005           11.82836  518 \n",
       "7  2006           11.65322  678 \n",
       "8  2007           11.05153  819 \n",
       "9  2008           10.46438 1008 \n",
       "10 2009           11.33737 1117 \n",
       "11 2010           11.90783  483 \n",
       "12 2011           11.70935  386 \n",
       "13 2012           11.26471  138 \n",
       "14 2013           11.73037  107 \n",
       "15 2014           12.45729  181 \n",
       "16 2015           12.36374  190 \n",
       "17 2016           11.93022  179 \n",
       "18 2017           12.07808  172 \n",
       "19 2018           12.16460  163 \n",
       "20 2019           15.37018  163 \n",
       "21 2020           15.43155  103 "
      ]
     },
     "metadata": {},
     "output_type": "display_data"
    }
   ],
   "source": [
    "summary_data2"
   ]
  },
  {
   "cell_type": "code",
   "execution_count": 83,
   "metadata": {
    "vscode": {
     "languageId": "r"
    }
   },
   "outputs": [],
   "source": [
    "# Drop data from 2019 onwards to eliminate covid impact\n",
    "\n",
    "data2 <- subset(data2, !(ReleaseYear_v1 >= 2019 ))"
   ]
  },
  {
   "cell_type": "code",
   "execution_count": 84,
   "metadata": {
    "vscode": {
     "languageId": "r"
    }
   },
   "outputs": [
    {
     "data": {
      "text/html": [
       "<style>\n",
       ".dl-inline {width: auto; margin:0; padding: 0}\n",
       ".dl-inline>dt, .dl-inline>dd {float: none; width: auto; display: inline-block}\n",
       ".dl-inline>dt::after {content: \":\\0020\"; padding-right: .5ex}\n",
       ".dl-inline>dt:not(:first-of-type) {padding-left: .5ex}\n",
       "</style><dl class=dl-inline><dt>Title</dt><dd>7261</dd><dt>Platform</dt><dd>7</dd><dt>Genre</dt><dd>8</dd><dt>Publisher</dt><dd>8</dd><dt>VGScore</dt><dd>46</dd><dt>CriticScore</dt><dd>73</dd><dt>UserScore</dt><dd>26</dd><dt>TotalShipped</dt><dd>430</dd><dt>AsianSales</dt><dd>705</dd><dt>NorthAmericaSales</dt><dd>779</dd><dt>JapanSales</dt><dd>567</dd><dt>EuropeSales</dt><dd>696</dd><dt>GlobalSales</dt><dd>2233</dd><dt>ProductionCost</dt><dd>636</dd><dt>ReleaseYear_v1</dt><dd>19</dd></dl>\n"
      ],
      "text/latex": [
       "\\begin{description*}\n",
       "\\item[Title] 7261\n",
       "\\item[Platform] 7\n",
       "\\item[Genre] 8\n",
       "\\item[Publisher] 8\n",
       "\\item[VGScore] 46\n",
       "\\item[CriticScore] 73\n",
       "\\item[UserScore] 26\n",
       "\\item[TotalShipped] 430\n",
       "\\item[AsianSales] 705\n",
       "\\item[NorthAmericaSales] 779\n",
       "\\item[JapanSales] 567\n",
       "\\item[EuropeSales] 696\n",
       "\\item[GlobalSales] 2233\n",
       "\\item[ProductionCost] 636\n",
       "\\item[ReleaseYear\\textbackslash{}\\_v1] 19\n",
       "\\end{description*}\n"
      ],
      "text/markdown": [
       "Title\n",
       ":   7261Platform\n",
       ":   7Genre\n",
       ":   8Publisher\n",
       ":   8VGScore\n",
       ":   46CriticScore\n",
       ":   73UserScore\n",
       ":   26TotalShipped\n",
       ":   430AsianSales\n",
       ":   705NorthAmericaSales\n",
       ":   779JapanSales\n",
       ":   567EuropeSales\n",
       ":   696GlobalSales\n",
       ":   2233ProductionCost\n",
       ":   636ReleaseYear_v1\n",
       ":   19\n",
       "\n"
      ],
      "text/plain": [
       "            Title          Platform             Genre         Publisher \n",
       "             7261                 7                 8                 8 \n",
       "          VGScore       CriticScore         UserScore      TotalShipped \n",
       "               46                73                26               430 \n",
       "       AsianSales NorthAmericaSales        JapanSales       EuropeSales \n",
       "              705               779               567               696 \n",
       "      GlobalSales    ProductionCost    ReleaseYear_v1 \n",
       "             2233               636                19 "
      ]
     },
     "metadata": {},
     "output_type": "display_data"
    }
   ],
   "source": [
    "########################################################\n",
    "# Check the number of distinct values for the variables\n",
    "\n",
    "sapply(data2, function(x) n_distinct(x))"
   ]
  },
  {
   "cell_type": "code",
   "execution_count": 85,
   "metadata": {
    "vscode": {
     "languageId": "r"
    }
   },
   "outputs": [
    {
     "data": {
      "image/png": "[encoded data removed]",
      "text/plain": [
       "plot without title"
      ]
     },
     "metadata": {
      "image/png": {
       "height": 420,
       "width": 420
      }
     },
     "output_type": "display_data"
    }
   ],
   "source": [
    "# Create a bar plot for Publisher based on count in ascending order\n",
    "data2_sorted <- data2 %>%\n",
    "  count(Publisher) %>%\n",
    "  arrange(n)  # Sort in ascending order based on count\n",
    "\n",
    "ggplot(data2_sorted, aes(x = factor(Publisher, levels = Publisher), y = n)) +\n",
    "  geom_bar(fill = \"skyblue\", stat = \"identity\") +\n",
    "  labs(title = \"Game Count by Publisher (Ascending Order)\",\n",
    "       x = \"Publisher\",\n",
    "       y = \"Count\") +\n",
    "  theme(axis.text.x = element_text(angle = 45, hjust = 1))"
   ]
  },
  {
   "cell_type": "markdown",
   "metadata": {},
   "source": [
    "Handle Outliers, Transform Y to be normally distributed"
   ]
  },
  {
   "cell_type": "code",
   "execution_count": 86,
   "metadata": {
    "vscode": {
     "languageId": "r"
    }
   },
   "outputs": [
    {
     "name": "stderr",
     "output_type": "stream",
     "text": [
      "\u001b[1m\u001b[22m`stat_bin()` using `bins = 30`. Pick better value with `binwidth`.\n"
     ]
    },
    {
     "data": {
      "image/png": "[encoded data removed]",
      "text/plain": [
       "plot without title"
      ]
     },
     "metadata": {
      "image/png": {
       "height": 420,
       "width": 420
      }
     },
     "output_type": "display_data"
    }
   ],
   "source": [
    "########################################################\n",
    "# Check the distribution of dependent variable (GlobalSales)\n",
    "\n",
    "# Create a histogram using ggplot\n",
    "ggplot(data2, aes(x = data2$GlobalSales)) +\n",
    "  geom_histogram(fill = \"blue\", color = \"black\", alpha = 0.7) +\n",
    "  labs(\n",
    "    title = \"Distribution of Global Sales\",\n",
    "    x = \"Global Sales\",\n",
    "    y = \"Frequency\"\n",
    "  )"
   ]
  },
  {
   "cell_type": "code",
   "execution_count": 87,
   "metadata": {
    "vscode": {
     "languageId": "r"
    }
   },
   "outputs": [
    {
     "name": "stdout",
     "output_type": "stream",
     "text": [
      "Number of outliers: 0 \n"
     ]
    }
   ],
   "source": [
    "# Remove outliers\n",
    "\n",
    "# Calculate the IQR for Global Sales\n",
    "Q1 <- quantile(data2$GlobalSales, 0.25)\n",
    "Q3 <- quantile(data2$GlobalSales, 0.75)\n",
    "IQR_value <- Q3 - Q1\n",
    "\n",
    "# Define the lower and upper bounds for identifying outliers\n",
    "lower_bound <- Q1 - 1.5 * IQR_value\n",
    "upper_bound <- Q3 + 1.5 * IQR_value\n",
    "\n",
    "# Identify outliers\n",
    "outliers <- data2$GlobalSales[data2$GlobalSales < lower_bound | data2$GlobalSales > upper_bound]\n",
    "\n",
    "# Display the number of outliers removed\n",
    "cat(\"Number of outliers:\", length(outliers), \"\\n\")"
   ]
  },
  {
   "cell_type": "code",
   "execution_count": 88,
   "metadata": {
    "vscode": {
     "languageId": "r"
    }
   },
   "outputs": [
    {
     "data": {
      "image/png": "[encoded data removed]",
      "text/plain": [
       "Plot with title \"Normal Q-Q Plot\""
      ]
     },
     "metadata": {
      "image/png": {
       "height": 420,
       "width": 420
      }
     },
     "output_type": "display_data"
    }
   ],
   "source": [
    "# Create a QQ plot for 'GobalSales'\n",
    "qqnorm(data2$GlobalSales)\n",
    "qqline(data2$GlobalSales, col = 2)\n",
    "\n",
    "# Display both the histogram and the QQ plot side by side\n",
    "par(mfrow = c(2, 2))"
   ]
  },
  {
   "cell_type": "code",
   "execution_count": 89,
   "metadata": {
    "vscode": {
     "languageId": "r"
    }
   },
   "outputs": [],
   "source": [
    "# Right-skewed: transform 'GlobalSales' using log\n",
    "data2$LogGlobalSales <- log(data2$GlobalSales)"
   ]
  },
  {
   "cell_type": "code",
   "execution_count": 90,
   "metadata": {
    "vscode": {
     "languageId": "r"
    }
   },
   "outputs": [
    {
     "name": "stdout",
     "output_type": "stream",
     "text": [
      "Number of NA values in LogGobalSales: 0 \n",
      "Number of NaN values in LogGobalSales: 0 \n",
      "Number of Inf values in LogGobalSales: 0 \n"
     ]
    }
   ],
   "source": [
    "# Check for NA values in the LogGobalSales column\n",
    "na_count <- sum(is.na(data2$LogGobalSales))\n",
    "\n",
    "# Check for NaN values in the LogGobalSales column\n",
    "nan_count <- sum(is.nan(data2$LogGobalSales))\n",
    "\n",
    "# Check for Inf values in the LogGobalSales column\n",
    "inf_count <- sum(is.infinite(data2$LogGobalSales))\n",
    "\n",
    "# Print the results\n",
    "cat(\"Number of NA values in LogGobalSales:\", na_count, \"\\n\")\n",
    "cat(\"Number of NaN values in LogGobalSales:\", nan_count, \"\\n\")\n",
    "cat(\"Number of Inf values in LogGobalSales:\", inf_count, \"\\n\")"
   ]
  },
  {
   "cell_type": "code",
   "execution_count": 91,
   "metadata": {
    "vscode": {
     "languageId": "r"
    }
   },
   "outputs": [
    {
     "data": {
      "image/png": "[encoded data removed]",
      "text/plain": [
       "Plot with title \"Histogram of LogGobalSales\""
      ]
     },
     "metadata": {
      "image/png": {
       "height": 420,
       "width": 420
      }
     },
     "output_type": "display_data"
    },
    {
     "data": {
      "image/png": "[encoded data removed]",
      "text/plain": [
       "Plot with title \"Normal Q-Q Plot\""
      ]
     },
     "metadata": {
      "image/png": {
       "height": 420,
       "width": 420
      }
     },
     "output_type": "display_data"
    }
   ],
   "source": [
    "# Create a histogram for 'LogGobalSales'\n",
    "hist(x = data2$LogGlobalSales, main = \"Histogram of LogGobalSales\", xlab = \"Log Transformed Global Sales\", col = \"lightblue\")\n",
    "\n",
    "# Create a QQ plot for 'LogGobalSales'\n",
    "qqnorm(data2$LogGlobalSales)\n",
    "qqline(data2$LogGlobalSales, col = 2)\n",
    "\n",
    "# Display both the histogram and the QQ plot side by side\n",
    "par(mfrow = c(2, 2))"
   ]
  },
  {
   "cell_type": "code",
   "execution_count": 92,
   "metadata": {
    "vscode": {
     "languageId": "r"
    }
   },
   "outputs": [],
   "source": [
    "# Right-skewed: transform 'GlobalSales' using square root\n",
    "data2$SqRtGlobalSales <- sqrt(data2$GlobalSales)"
   ]
  },
  {
   "cell_type": "code",
   "execution_count": 93,
   "metadata": {
    "vscode": {
     "languageId": "r"
    }
   },
   "outputs": [
    {
     "name": "stdout",
     "output_type": "stream",
     "text": [
      "Number of NA values in SqRtGobalSales: 0 \n",
      "Number of NaN values in SqRtGobalSales: 0 \n",
      "Number of Inf values in SqRtGobalSales: 0 \n"
     ]
    }
   ],
   "source": [
    "# Check for NA values in the SqRtGobalSales column\n",
    "na_count <- sum(is.na(data2$SqRtGobalSales))\n",
    "\n",
    "# Check for NaN values in the SqRtGobalSales column\n",
    "nan_count <- sum(is.nan(data2$SqRtGobalSales))\n",
    "\n",
    "# Check for Inf values in the SqRtGobalSales column\n",
    "inf_count <- sum(is.infinite(data2$SqRtGobalSales))\n",
    "\n",
    "# Print the results\n",
    "cat(\"Number of NA values in SqRtGobalSales:\", na_count, \"\\n\")\n",
    "cat(\"Number of NaN values in SqRtGobalSales:\", nan_count, \"\\n\")\n",
    "cat(\"Number of Inf values in SqRtGobalSales:\", inf_count, \"\\n\")"
   ]
  },
  {
   "cell_type": "code",
   "execution_count": 94,
   "metadata": {
    "vscode": {
     "languageId": "r"
    }
   },
   "outputs": [
    {
     "data": {
      "image/png": "[encoded data removed]",
      "text/plain": [
       "Plot with title \"Histogram of SqRtGobalSales\""
      ]
     },
     "metadata": {
      "image/png": {
       "height": 420,
       "width": 420
      }
     },
     "output_type": "display_data"
    },
    {
     "data": {
      "image/png": "[encoded data removed]",
      "text/plain": [
       "Plot with title \"Normal Q-Q Plot\""
      ]
     },
     "metadata": {
      "image/png": {
       "height": 420,
       "width": 420
      }
     },
     "output_type": "display_data"
    }
   ],
   "source": [
    "# Create a histogram for 'SqRtGobalSales'\n",
    "hist(x = data2$SqRtGlobalSales, main = \"Histogram of SqRtGobalSales\", xlab = \"Square Root Transformed Global Sales\", col = \"lightblue\")\n",
    "\n",
    "# Create a QQ plot for 'SqRtGobalSales'\n",
    "qqnorm(data2$SqRtGlobalSales)\n",
    "qqline(data2$SqRtGlobalSales, col = 2)\n",
    "\n",
    "# Display both the histogram and the QQ plot side by side\n",
    "par(mfrow = c(2, 2))"
   ]
  },
  {
   "cell_type": "code",
   "execution_count": 95,
   "metadata": {
    "vscode": {
     "languageId": "r"
    }
   },
   "outputs": [
    {
     "name": "stdout",
     "output_type": "stream",
     "text": [
      "Number of outliers: 0 \n"
     ]
    }
   ],
   "source": [
    "# Remove outliers\n",
    "\n",
    "# Calculate the IQR for Global Sales\n",
    "Q1 <- quantile(data2$SqRtGlobalSales, 0.25)\n",
    "Q3 <- quantile(data2$SqRtGlobalSales, 0.75)\n",
    "IQR_value <- Q3 - Q1\n",
    "\n",
    "# Define the lower and upper bounds for identifying outliers\n",
    "lower_bound <- Q1 - 1.5 * IQR_value\n",
    "upper_bound <- Q3 + 1.5 * IQR_value\n",
    "\n",
    "# Identify outliers\n",
    "outliers <- data2$SqRtGlobalSales[data2$SqRtGlobalSales < lower_bound | data2$SqRtGlobalSales > upper_bound]\n",
    "\n",
    "# Display the number of outliers removed\n",
    "cat(\"Number of outliers:\", length(outliers), \"\\n\")"
   ]
  },
  {
   "cell_type": "code",
   "execution_count": 96,
   "metadata": {
    "vscode": {
     "languageId": "r"
    }
   },
   "outputs": [],
   "source": [
    "data3 = data2\n",
    "\n",
    "data3 = data3[!(data3$SqRtGlobalSales < lower_bound | data3$SqRtGlobalSales> upper_bound), ]"
   ]
  },
  {
   "cell_type": "code",
   "execution_count": 97,
   "metadata": {
    "vscode": {
     "languageId": "r"
    }
   },
   "outputs": [
    {
     "data": {
      "image/png": "[encoded data removed]",
      "text/plain": [
       "Plot with title \"Histogram of SqRtGobalSales\""
      ]
     },
     "metadata": {
      "image/png": {
       "height": 420,
       "width": 420
      }
     },
     "output_type": "display_data"
    },
    {
     "data": {
      "image/png": "[encoded data removed]",
      "text/plain": [
       "Plot with title \"Normal Q-Q Plot\""
      ]
     },
     "metadata": {
      "image/png": {
       "height": 420,
       "width": 420
      }
     },
     "output_type": "display_data"
    }
   ],
   "source": [
    "# Create a histogram for 'SqRtGobalSales'\n",
    "hist(x = data3$SqRtGlobalSales, main = \"Histogram of SqRtGobalSales\", xlab = \"Square Root Transformed Global Sales\", col = \"lightblue\")\n",
    "\n",
    "# Create a QQ plot for 'SqRtGobalSales'\n",
    "qqnorm(data3$SqRtGlobalSales)\n",
    "qqline(data3$SqRtGlobalSales, col = 2)\n",
    "\n",
    "# Display both the histogram and the QQ plot side by side\n",
    "par(mfrow = c(2, 2))"
   ]
  },
  {
   "cell_type": "code",
   "execution_count": 98,
   "metadata": {
    "vscode": {
     "languageId": "r"
    }
   },
   "outputs": [],
   "source": [
    "# Left-skewed: transform 'GlobalSales' using square\n",
    "data2$SqGlobalSales <- (data2$GlobalSales)^2"
   ]
  },
  {
   "cell_type": "code",
   "execution_count": 99,
   "metadata": {
    "vscode": {
     "languageId": "r"
    }
   },
   "outputs": [
    {
     "data": {
      "image/png": "[encoded data removed]",
      "text/plain": [
       "Plot with title \"Histogram of SqGobalSales\""
      ]
     },
     "metadata": {
      "image/png": {
       "height": 420,
       "width": 420
      }
     },
     "output_type": "display_data"
    },
    {
     "data": {
      "image/png": "[encoded data removed]",
      "text/plain": [
       "Plot with title \"Normal Q-Q Plot\""
      ]
     },
     "metadata": {
      "image/png": {
       "height": 420,
       "width": 420
      }
     },
     "output_type": "display_data"
    }
   ],
   "source": [
    "# Create a histogram for 'SqRtGobalSales'\n",
    "hist(x = data2$SqGlobalSales, main = \"Histogram of SqGobalSales\", xlab = \"Square Transformed Global Sales\", col = \"lightblue\")\n",
    "\n",
    "# Create a QQ plot for 'SqRtGobalSales'\n",
    "qqnorm(data2$SqGlobalSales)\n",
    "qqline(data2$SqGlobalSales, col = 2)\n",
    "\n",
    "# Display both the histogram and the QQ plot side by side\n",
    "par(mfrow = c(2, 2))"
   ]
  },
  {
   "cell_type": "code",
   "execution_count": 100,
   "metadata": {
    "vscode": {
     "languageId": "r"
    }
   },
   "outputs": [
    {
     "name": "stdout",
     "output_type": "stream",
     "text": [
      "Number of outliers: 28 \n"
     ]
    }
   ],
   "source": [
    "# Remove outliers\n",
    "\n",
    "# Calculate the IQR for Global Sales\n",
    "Q1 <- quantile(data2$SqGlobalSales, 0.25)\n",
    "Q3 <- quantile(data2$SqGlobalSales, 0.75)\n",
    "IQR_value <- Q3 - Q1\n",
    "\n",
    "# Define the lower and upper bounds for identifying outliers\n",
    "lower_bound <- Q1 - 1.5 * IQR_value\n",
    "upper_bound <- Q3 + 1.5 * IQR_value\n",
    "\n",
    "# Identify outliers\n",
    "outliers <- data2$SqGlobalSales[data2$SqGlobalSales < lower_bound | data2$SqGlobalSales > upper_bound]\n",
    "\n",
    "# Display the number of outliers removed\n",
    "cat(\"Number of outliers:\", length(outliers), \"\\n\")"
   ]
  },
  {
   "cell_type": "code",
   "execution_count": 101,
   "metadata": {
    "vscode": {
     "languageId": "r"
    }
   },
   "outputs": [],
   "source": [
    "data3 = data2\n",
    "\n",
    "data3 = data3[!(data3$SqGlobalSales < lower_bound | data3$SqGlobalSales> upper_bound), ]"
   ]
  },
  {
   "cell_type": "code",
   "execution_count": 102,
   "metadata": {
    "vscode": {
     "languageId": "r"
    }
   },
   "outputs": [
    {
     "data": {
      "text/html": [
       "<style>\n",
       ".dl-inline {width: auto; margin:0; padding: 0}\n",
       ".dl-inline>dt, .dl-inline>dd {float: none; width: auto; display: inline-block}\n",
       ".dl-inline>dt::after {content: \":\\0020\"; padding-right: .5ex}\n",
       ".dl-inline>dt:not(:first-of-type) {padding-left: .5ex}\n",
       "</style><dl class=dl-inline><dt>Title</dt><dd>7241</dd><dt>Platform</dt><dd>7</dd><dt>Genre</dt><dd>8</dd><dt>Publisher</dt><dd>8</dd><dt>VGScore</dt><dd>46</dd><dt>CriticScore</dt><dd>73</dd><dt>UserScore</dt><dd>26</dd><dt>TotalShipped</dt><dd>430</dd><dt>AsianSales</dt><dd>704</dd><dt>NorthAmericaSales</dt><dd>778</dd><dt>JapanSales</dt><dd>566</dd><dt>EuropeSales</dt><dd>696</dd><dt>GlobalSales</dt><dd>2205</dd><dt>ProductionCost</dt><dd>636</dd><dt>ReleaseYear_v1</dt><dd>19</dd><dt>LogGlobalSales</dt><dd>2205</dd><dt>SqRtGlobalSales</dt><dd>2205</dd><dt>SqGlobalSales</dt><dd>2205</dd></dl>\n"
      ],
      "text/latex": [
       "\\begin{description*}\n",
       "\\item[Title] 7241\n",
       "\\item[Platform] 7\n",
       "\\item[Genre] 8\n",
       "\\item[Publisher] 8\n",
       "\\item[VGScore] 46\n",
       "\\item[CriticScore] 73\n",
       "\\item[UserScore] 26\n",
       "\\item[TotalShipped] 430\n",
       "\\item[AsianSales] 704\n",
       "\\item[NorthAmericaSales] 778\n",
       "\\item[JapanSales] 566\n",
       "\\item[EuropeSales] 696\n",
       "\\item[GlobalSales] 2205\n",
       "\\item[ProductionCost] 636\n",
       "\\item[ReleaseYear\\textbackslash{}\\_v1] 19\n",
       "\\item[LogGlobalSales] 2205\n",
       "\\item[SqRtGlobalSales] 2205\n",
       "\\item[SqGlobalSales] 2205\n",
       "\\end{description*}\n"
      ],
      "text/markdown": [
       "Title\n",
       ":   7241Platform\n",
       ":   7Genre\n",
       ":   8Publisher\n",
       ":   8VGScore\n",
       ":   46CriticScore\n",
       ":   73UserScore\n",
       ":   26TotalShipped\n",
       ":   430AsianSales\n",
       ":   704NorthAmericaSales\n",
       ":   778JapanSales\n",
       ":   566EuropeSales\n",
       ":   696GlobalSales\n",
       ":   2205ProductionCost\n",
       ":   636ReleaseYear_v1\n",
       ":   19LogGlobalSales\n",
       ":   2205SqRtGlobalSales\n",
       ":   2205SqGlobalSales\n",
       ":   2205\n",
       "\n"
      ],
      "text/plain": [
       "            Title          Platform             Genre         Publisher \n",
       "             7241                 7                 8                 8 \n",
       "          VGScore       CriticScore         UserScore      TotalShipped \n",
       "               46                73                26               430 \n",
       "       AsianSales NorthAmericaSales        JapanSales       EuropeSales \n",
       "              704               778               566               696 \n",
       "      GlobalSales    ProductionCost    ReleaseYear_v1    LogGlobalSales \n",
       "             2205               636                19              2205 \n",
       "  SqRtGlobalSales     SqGlobalSales \n",
       "             2205              2205 "
      ]
     },
     "metadata": {},
     "output_type": "display_data"
    }
   ],
   "source": [
    "########################################################\n",
    "# Check the number of distinct values for the variables\n",
    "\n",
    "sapply(data3, function(x) n_distinct(x))"
   ]
  },
  {
   "cell_type": "code",
   "execution_count": 103,
   "metadata": {
    "vscode": {
     "languageId": "r"
    }
   },
   "outputs": [
    {
     "data": {
      "image/png": "[encoded data removed]",
      "text/plain": [
       "Plot with title \"Histogram of SqGobalSales\""
      ]
     },
     "metadata": {
      "image/png": {
       "height": 420,
       "width": 420
      }
     },
     "output_type": "display_data"
    },
    {
     "data": {
      "image/png": "[encoded data removed]",
      "text/plain": [
       "Plot with title \"Normal Q-Q Plot\""
      ]
     },
     "metadata": {
      "image/png": {
       "height": 420,
       "width": 420
      }
     },
     "output_type": "display_data"
    }
   ],
   "source": [
    "# Create a histogram for 'SqGobalSales'\n",
    "hist(x = data3$SqGlobalSales, main = \"Histogram of SqGobalSales\", xlab = \"Square Transformed Global Sales\", col = \"lightblue\")\n",
    "\n",
    "# Create a QQ plot for 'SqGobalSales'\n",
    "qqnorm(data3$SqGlobalSales)\n",
    "qqline(data3$SqGlobalSales, col = 2)\n",
    "\n",
    "# Display both the histogram and the QQ plot side by side\n",
    "par(mfrow = c(2, 2))"
   ]
  },
  {
   "cell_type": "code",
   "execution_count": 105,
   "metadata": {
    "vscode": {
     "languageId": "r"
    }
   },
   "outputs": [
    {
     "name": "stdout",
     "output_type": "stream",
     "text": [
      "'data.frame':\t8630 obs. of  18 variables:\n",
      " $ Title            : chr  \"(c 12) Final Resistance\" \".hack Sekai no Mukou ni  Versus\" \"007 Quantum of Solace\" \"007 Quantum of Solace\" ...\n",
      " $ Platform         : Factor w/ 8 levels \"DS\",\"iOS\",\"PC\",..: 4 6 5 6 4 4 4 4 3 3 ...\n",
      " $ Genre            : Factor w/ 8 levels \"Adventure\",\"Board Game\",..: 6 3 6 6 6 6 5 8 4 4 ...\n",
      " $ Publisher        : Factor w/ 8 levels \"Activision\",\"Amazon Game Studios\",..: 5 5 1 1 3 3 3 4 3 4 ...\n",
      " $ VGScore          : num  1 6 8 3 1 6 3 1 2 3 ...\n",
      " $ CriticScore      : num  6.5 10 7.8 6.6 6.4 7 6.1 2 10 7 ...\n",
      " $ UserScore        : num  4 6 4 10 1 7 8 5 3 1 ...\n",
      " $ TotalShipped     : num  8 269 81 158 240 294 210 174 21 277 ...\n",
      " $ AsianSales       : num  5.08 3 3 1.14 3 2.94 3 3.74 5.5 2.67 ...\n",
      " $ NorthAmericaSales: num  1.1 1.86 0.17 0.43 0.51 2.3 0.3 1.98 4.74 2.37 ...\n",
      " $ JapanSales       : num  5.7 0.03 1.21 0.02 3.75 1.37 4.94 2.34 3.85 5.75 ...\n",
      " $ EuropeSales      : num  3.54 6.43 2.22 0.51 0.35 2.14 0.2 1.16 3.73 3.62 ...\n",
      " $ GlobalSales      : num  15.42 8.35 4.03 2.1 5.53 ...\n",
      " $ ProductionCost   : num  1.98 3.34 2.05 1.19 1.5 4.27 2.8 5.76 3.89 6.33 ...\n",
      " $ ReleaseYear_v1   : int  2002 2012 2008 2008 2000 2002 2000 2009 2008 2006 ...\n",
      " $ LogGlobalSales   : num  2.736 2.122 1.394 0.742 1.71 ...\n",
      " $ SqRtGlobalSales  : num  3.93 2.89 2.01 1.45 2.35 ...\n",
      " $ SqGlobalSales    : num  237.78 69.72 16.24 4.41 30.58 ...\n"
     ]
    }
   ],
   "source": [
    "str(data2)"
   ]
  },
  {
   "cell_type": "markdown",
   "metadata": {},
   "source": [
    "Multi-collinearity assessment"
   ]
  },
  {
   "cell_type": "code",
   "execution_count": 110,
   "metadata": {
    "vscode": {
     "languageId": "r"
    }
   },
   "outputs": [
    {
     "data": {
      "text/html": [
       "<table class=\"dataframe\">\n",
       "<caption>A matrix: 12 × 12 of type dbl</caption>\n",
       "<thead>\n",
       "\t<tr><th></th><th scope=col>VGScore</th><th scope=col>CriticScore</th><th scope=col>UserScore</th><th scope=col>TotalShipped</th><th scope=col>AsianSales</th><th scope=col>NorthAmericaSales</th><th scope=col>JapanSales</th><th scope=col>EuropeSales</th><th scope=col>GlobalSales</th><th scope=col>ProductionCost</th><th scope=col>ReleaseYear_v1</th><th scope=col>SqGlobalSales</th></tr>\n",
       "</thead>\n",
       "<tbody>\n",
       "\t<tr><th scope=row>VGScore</th><td> 1.000000000</td><td>-0.002544258</td><td> 0.018460620</td><td>-0.025321563</td><td> 0.030235211</td><td> 0.018687179</td><td> 0.01285808</td><td> 0.005965281</td><td> 0.028163107</td><td>0.004537570</td><td> 0.274617270</td><td> 0.029547058</td></tr>\n",
       "\t<tr><th scope=row>CriticScore</th><td>-0.002544258</td><td> 1.000000000</td><td>-0.001838468</td><td>-0.019906316</td><td>-0.003413335</td><td> 0.000745835</td><td>-0.02623370</td><td>-0.014288598</td><td>-0.008754261</td><td>0.007928741</td><td>-0.001538485</td><td>-0.007025397</td></tr>\n",
       "\t<tr><th scope=row>UserScore</th><td> 0.018460620</td><td>-0.001838468</td><td> 1.000000000</td><td> 0.000832173</td><td> 0.001077687</td><td>-0.004736613</td><td>-0.01390532</td><td>-0.001869562</td><td>-0.007824413</td><td>0.017385440</td><td> 0.014479986</td><td>-0.006216350</td></tr>\n",
       "\t<tr><th scope=row>TotalShipped</th><td>-0.025321563</td><td>-0.019906316</td><td> 0.000832173</td><td> 1.000000000</td><td>-0.009834153</td><td>-0.030599980</td><td>-0.00356682</td><td>-0.006695262</td><td>-0.026249109</td><td>0.001757068</td><td>-0.068993283</td><td>-0.020792397</td></tr>\n",
       "\t<tr><th scope=row>AsianSales</th><td> 0.030235211</td><td>-0.003413335</td><td> 0.001077687</td><td>-0.009834153</td><td> 1.000000000</td><td> 0.257105552</td><td> 0.14390885</td><td> 0.249455777</td><td> 0.614312110</td><td>0.013176389</td><td> 0.007931141</td><td> 0.659419885</td></tr>\n",
       "\t<tr><th scope=row>NorthAmericaSales</th><td> 0.018687179</td><td> 0.000745835</td><td>-0.004736613</td><td>-0.030599980</td><td> 0.257105552</td><td> 1.000000000</td><td> 0.04084186</td><td> 0.376914758</td><td> 0.694016931</td><td>0.003610865</td><td> 0.049957723</td><td> 0.669803285</td></tr>\n",
       "\t<tr><th scope=row>JapanSales</th><td> 0.012858075</td><td>-0.026233698</td><td>-0.013905321</td><td>-0.003566820</td><td> 0.143908854</td><td> 0.040841864</td><td> 1.00000000</td><td> 0.052633544</td><td> 0.434502816</td><td>0.033702669</td><td>-0.030486805</td><td> 0.418969946</td></tr>\n",
       "\t<tr><th scope=row>EuropeSales</th><td> 0.005965281</td><td>-0.014288598</td><td>-0.001869562</td><td>-0.006695262</td><td> 0.249455777</td><td> 0.376914758</td><td> 0.05263354</td><td> 1.000000000</td><td> 0.704747260</td><td>0.026510270</td><td> 0.045336275</td><td> 0.657771073</td></tr>\n",
       "\t<tr><th scope=row>GlobalSales</th><td> 0.028163107</td><td>-0.008754261</td><td>-0.007824413</td><td>-0.026249109</td><td> 0.614312110</td><td> 0.694016931</td><td> 0.43450282</td><td> 0.704747260</td><td> 1.000000000</td><td>0.029415856</td><td> 0.021951962</td><td> 0.969389665</td></tr>\n",
       "\t<tr><th scope=row>ProductionCost</th><td> 0.004537570</td><td> 0.007928741</td><td> 0.017385440</td><td> 0.001757068</td><td> 0.013176389</td><td> 0.003610865</td><td> 0.03370267</td><td> 0.026510270</td><td> 0.029415856</td><td>1.000000000</td><td> 0.009560850</td><td> 0.034782612</td></tr>\n",
       "\t<tr><th scope=row>ReleaseYear_v1</th><td> 0.274617270</td><td>-0.001538485</td><td> 0.014479986</td><td>-0.068993283</td><td> 0.007931141</td><td> 0.049957723</td><td>-0.03048681</td><td> 0.045336275</td><td> 0.021951962</td><td>0.009560850</td><td> 1.000000000</td><td> 0.013376027</td></tr>\n",
       "\t<tr><th scope=row>SqGlobalSales</th><td> 0.029547058</td><td>-0.007025397</td><td>-0.006216350</td><td>-0.020792397</td><td> 0.659419885</td><td> 0.669803285</td><td> 0.41896995</td><td> 0.657771073</td><td> 0.969389665</td><td>0.034782612</td><td> 0.013376027</td><td> 1.000000000</td></tr>\n",
       "</tbody>\n",
       "</table>\n"
      ],
      "text/latex": [
       "A matrix: 12 × 12 of type dbl\n",
       "\\begin{tabular}{r|llllllllllll}\n",
       "  & VGScore & CriticScore & UserScore & TotalShipped & AsianSales & NorthAmericaSales & JapanSales & EuropeSales & GlobalSales & ProductionCost & ReleaseYear\\_v1 & SqGlobalSales\\\\\n",
       "\\hline\n",
       "\tVGScore &  1.000000000 & -0.002544258 &  0.018460620 & -0.025321563 &  0.030235211 &  0.018687179 &  0.01285808 &  0.005965281 &  0.028163107 & 0.004537570 &  0.274617270 &  0.029547058\\\\\n",
       "\tCriticScore & -0.002544258 &  1.000000000 & -0.001838468 & -0.019906316 & -0.003413335 &  0.000745835 & -0.02623370 & -0.014288598 & -0.008754261 & 0.007928741 & -0.001538485 & -0.007025397\\\\\n",
       "\tUserScore &  0.018460620 & -0.001838468 &  1.000000000 &  0.000832173 &  0.001077687 & -0.004736613 & -0.01390532 & -0.001869562 & -0.007824413 & 0.017385440 &  0.014479986 & -0.006216350\\\\\n",
       "\tTotalShipped & -0.025321563 & -0.019906316 &  0.000832173 &  1.000000000 & -0.009834153 & -0.030599980 & -0.00356682 & -0.006695262 & -0.026249109 & 0.001757068 & -0.068993283 & -0.020792397\\\\\n",
       "\tAsianSales &  0.030235211 & -0.003413335 &  0.001077687 & -0.009834153 &  1.000000000 &  0.257105552 &  0.14390885 &  0.249455777 &  0.614312110 & 0.013176389 &  0.007931141 &  0.659419885\\\\\n",
       "\tNorthAmericaSales &  0.018687179 &  0.000745835 & -0.004736613 & -0.030599980 &  0.257105552 &  1.000000000 &  0.04084186 &  0.376914758 &  0.694016931 & 0.003610865 &  0.049957723 &  0.669803285\\\\\n",
       "\tJapanSales &  0.012858075 & -0.026233698 & -0.013905321 & -0.003566820 &  0.143908854 &  0.040841864 &  1.00000000 &  0.052633544 &  0.434502816 & 0.033702669 & -0.030486805 &  0.418969946\\\\\n",
       "\tEuropeSales &  0.005965281 & -0.014288598 & -0.001869562 & -0.006695262 &  0.249455777 &  0.376914758 &  0.05263354 &  1.000000000 &  0.704747260 & 0.026510270 &  0.045336275 &  0.657771073\\\\\n",
       "\tGlobalSales &  0.028163107 & -0.008754261 & -0.007824413 & -0.026249109 &  0.614312110 &  0.694016931 &  0.43450282 &  0.704747260 &  1.000000000 & 0.029415856 &  0.021951962 &  0.969389665\\\\\n",
       "\tProductionCost &  0.004537570 &  0.007928741 &  0.017385440 &  0.001757068 &  0.013176389 &  0.003610865 &  0.03370267 &  0.026510270 &  0.029415856 & 1.000000000 &  0.009560850 &  0.034782612\\\\\n",
       "\tReleaseYear\\_v1 &  0.274617270 & -0.001538485 &  0.014479986 & -0.068993283 &  0.007931141 &  0.049957723 & -0.03048681 &  0.045336275 &  0.021951962 & 0.009560850 &  1.000000000 &  0.013376027\\\\\n",
       "\tSqGlobalSales &  0.029547058 & -0.007025397 & -0.006216350 & -0.020792397 &  0.659419885 &  0.669803285 &  0.41896995 &  0.657771073 &  0.969389665 & 0.034782612 &  0.013376027 &  1.000000000\\\\\n",
       "\\end{tabular}\n"
      ],
      "text/markdown": [
       "\n",
       "A matrix: 12 × 12 of type dbl\n",
       "\n",
       "| <!--/--> | VGScore | CriticScore | UserScore | TotalShipped | AsianSales | NorthAmericaSales | JapanSales | EuropeSales | GlobalSales | ProductionCost | ReleaseYear_v1 | SqGlobalSales |\n",
       "|---|---|---|---|---|---|---|---|---|---|---|---|---|\n",
       "| VGScore |  1.000000000 | -0.002544258 |  0.018460620 | -0.025321563 |  0.030235211 |  0.018687179 |  0.01285808 |  0.005965281 |  0.028163107 | 0.004537570 |  0.274617270 |  0.029547058 |\n",
       "| CriticScore | -0.002544258 |  1.000000000 | -0.001838468 | -0.019906316 | -0.003413335 |  0.000745835 | -0.02623370 | -0.014288598 | -0.008754261 | 0.007928741 | -0.001538485 | -0.007025397 |\n",
       "| UserScore |  0.018460620 | -0.001838468 |  1.000000000 |  0.000832173 |  0.001077687 | -0.004736613 | -0.01390532 | -0.001869562 | -0.007824413 | 0.017385440 |  0.014479986 | -0.006216350 |\n",
       "| TotalShipped | -0.025321563 | -0.019906316 |  0.000832173 |  1.000000000 | -0.009834153 | -0.030599980 | -0.00356682 | -0.006695262 | -0.026249109 | 0.001757068 | -0.068993283 | -0.020792397 |\n",
       "| AsianSales |  0.030235211 | -0.003413335 |  0.001077687 | -0.009834153 |  1.000000000 |  0.257105552 |  0.14390885 |  0.249455777 |  0.614312110 | 0.013176389 |  0.007931141 |  0.659419885 |\n",
       "| NorthAmericaSales |  0.018687179 |  0.000745835 | -0.004736613 | -0.030599980 |  0.257105552 |  1.000000000 |  0.04084186 |  0.376914758 |  0.694016931 | 0.003610865 |  0.049957723 |  0.669803285 |\n",
       "| JapanSales |  0.012858075 | -0.026233698 | -0.013905321 | -0.003566820 |  0.143908854 |  0.040841864 |  1.00000000 |  0.052633544 |  0.434502816 | 0.033702669 | -0.030486805 |  0.418969946 |\n",
       "| EuropeSales |  0.005965281 | -0.014288598 | -0.001869562 | -0.006695262 |  0.249455777 |  0.376914758 |  0.05263354 |  1.000000000 |  0.704747260 | 0.026510270 |  0.045336275 |  0.657771073 |\n",
       "| GlobalSales |  0.028163107 | -0.008754261 | -0.007824413 | -0.026249109 |  0.614312110 |  0.694016931 |  0.43450282 |  0.704747260 |  1.000000000 | 0.029415856 |  0.021951962 |  0.969389665 |\n",
       "| ProductionCost |  0.004537570 |  0.007928741 |  0.017385440 |  0.001757068 |  0.013176389 |  0.003610865 |  0.03370267 |  0.026510270 |  0.029415856 | 1.000000000 |  0.009560850 |  0.034782612 |\n",
       "| ReleaseYear_v1 |  0.274617270 | -0.001538485 |  0.014479986 | -0.068993283 |  0.007931141 |  0.049957723 | -0.03048681 |  0.045336275 |  0.021951962 | 0.009560850 |  1.000000000 |  0.013376027 |\n",
       "| SqGlobalSales |  0.029547058 | -0.007025397 | -0.006216350 | -0.020792397 |  0.659419885 |  0.669803285 |  0.41896995 |  0.657771073 |  0.969389665 | 0.034782612 |  0.013376027 |  1.000000000 |\n",
       "\n"
      ],
      "text/plain": [
       "                  VGScore      CriticScore  UserScore    TotalShipped\n",
       "VGScore            1.000000000 -0.002544258  0.018460620 -0.025321563\n",
       "CriticScore       -0.002544258  1.000000000 -0.001838468 -0.019906316\n",
       "UserScore          0.018460620 -0.001838468  1.000000000  0.000832173\n",
       "TotalShipped      -0.025321563 -0.019906316  0.000832173  1.000000000\n",
       "AsianSales         0.030235211 -0.003413335  0.001077687 -0.009834153\n",
       "NorthAmericaSales  0.018687179  0.000745835 -0.004736613 -0.030599980\n",
       "JapanSales         0.012858075 -0.026233698 -0.013905321 -0.003566820\n",
       "EuropeSales        0.005965281 -0.014288598 -0.001869562 -0.006695262\n",
       "GlobalSales        0.028163107 -0.008754261 -0.007824413 -0.026249109\n",
       "ProductionCost     0.004537570  0.007928741  0.017385440  0.001757068\n",
       "ReleaseYear_v1     0.274617270 -0.001538485  0.014479986 -0.068993283\n",
       "SqGlobalSales      0.029547058 -0.007025397 -0.006216350 -0.020792397\n",
       "                  AsianSales   NorthAmericaSales JapanSales  EuropeSales \n",
       "VGScore            0.030235211  0.018687179       0.01285808  0.005965281\n",
       "CriticScore       -0.003413335  0.000745835      -0.02623370 -0.014288598\n",
       "UserScore          0.001077687 -0.004736613      -0.01390532 -0.001869562\n",
       "TotalShipped      -0.009834153 -0.030599980      -0.00356682 -0.006695262\n",
       "AsianSales         1.000000000  0.257105552       0.14390885  0.249455777\n",
       "NorthAmericaSales  0.257105552  1.000000000       0.04084186  0.376914758\n",
       "JapanSales         0.143908854  0.040841864       1.00000000  0.052633544\n",
       "EuropeSales        0.249455777  0.376914758       0.05263354  1.000000000\n",
       "GlobalSales        0.614312110  0.694016931       0.43450282  0.704747260\n",
       "ProductionCost     0.013176389  0.003610865       0.03370267  0.026510270\n",
       "ReleaseYear_v1     0.007931141  0.049957723      -0.03048681  0.045336275\n",
       "SqGlobalSales      0.659419885  0.669803285       0.41896995  0.657771073\n",
       "                  GlobalSales  ProductionCost ReleaseYear_v1 SqGlobalSales\n",
       "VGScore            0.028163107 0.004537570     0.274617270    0.029547058 \n",
       "CriticScore       -0.008754261 0.007928741    -0.001538485   -0.007025397 \n",
       "UserScore         -0.007824413 0.017385440     0.014479986   -0.006216350 \n",
       "TotalShipped      -0.026249109 0.001757068    -0.068993283   -0.020792397 \n",
       "AsianSales         0.614312110 0.013176389     0.007931141    0.659419885 \n",
       "NorthAmericaSales  0.694016931 0.003610865     0.049957723    0.669803285 \n",
       "JapanSales         0.434502816 0.033702669    -0.030486805    0.418969946 \n",
       "EuropeSales        0.704747260 0.026510270     0.045336275    0.657771073 \n",
       "GlobalSales        1.000000000 0.029415856     0.021951962    0.969389665 \n",
       "ProductionCost     0.029415856 1.000000000     0.009560850    0.034782612 \n",
       "ReleaseYear_v1     0.021951962 0.009560850     1.000000000    0.013376027 \n",
       "SqGlobalSales      0.969389665 0.034782612     0.013376027    1.000000000 "
      ]
     },
     "metadata": {},
     "output_type": "display_data"
    }
   ],
   "source": [
    "# Define columns to exclude\n",
    "columns_to_exclude <- c(\"Title\", \"Genre\", \"Platform\", \"Publisher\", \"LogGlobalSales\", \"SqRtGlobalSales\")\n",
    "\n",
    "# Extract numerical predictor variables excluding specified columns\n",
    "numerical <- data2[, !names(data2) %in% columns_to_exclude]\n",
    "\n",
    "# Identify collinear variables\n",
    "cor_matrix <- cor(numerical)\n",
    "cor_matrix"
   ]
  },
  {
   "cell_type": "code",
   "execution_count": 109,
   "metadata": {
    "vscode": {
     "languageId": "r"
    }
   },
   "outputs": [
    {
     "data": {
      "image/png": "[encoded data removed]",
      "text/plain": [
       "plot without title"
      ]
     },
     "metadata": {
      "image/png": {
       "height": 420,
       "width": 420
      }
     },
     "output_type": "display_data"
    }
   ],
   "source": [
    "# Reshape the correlation matrix for plotting\n",
    "cor_melted <- melt(cor_matrix)\n",
    "\n",
    "# Plotting the heatmap using ggplot\n",
    "ggplot(cor_melted, aes(Var1, Var2, fill = value)) +\n",
    "  geom_tile() +\n",
    "  scale_fill_gradient(low = \"#1b1bbd\", high = \"orange\") +\n",
    "  labs(title = \"Correlation Heatmap\", x = \"Variables\", y = \"Variables\") +\n",
    "  theme(axis.text.x = element_text(angle = 45, hjust = 1))\n"
   ]
  },
  {
   "cell_type": "code",
   "execution_count": 112,
   "metadata": {
    "vscode": {
     "languageId": "r"
    }
   },
   "outputs": [
    {
     "name": "stderr",
     "output_type": "stream",
     "text": [
      "Warning message in chisq.test(cross_tab):\n",
      "\"Chi-squared approximation may be incorrect\"\n",
      "Warning message in chisq.test(cross_tab):\n",
      "\"Chi-squared approximation may be incorrect\"\n",
      "Warning message in chisq.test(cross_tab):\n",
      "\"Chi-squared approximation may be incorrect\"\n"
     ]
    },
    {
     "name": "stdout",
     "output_type": "stream",
     "text": [
      "                 Genre Platform    Publisher\n",
      "Genre               NA      NaN 7.229177e-11\n",
      "Platform           NaN       NA          NaN\n",
      "Publisher 7.229177e-11      NaN           NA\n"
     ]
    }
   ],
   "source": [
    "# Select the categorical variables to compare\n",
    "categorical_variables <- data2[, c(\"Genre\", \"Platform\", \"Publisher\")]\n",
    "\n",
    "# Create an empty matrix to store p-values from chi-square tests\n",
    "p_values_matrix <- matrix(NA, nrow = ncol(categorical_variables), ncol = ncol(categorical_variables))\n",
    "rownames(p_values_matrix) <- colnames(p_values_matrix) <- names(categorical_variables)\n",
    "\n",
    "# Perform chi-square tests for all pairs of categorical variables\n",
    "for (i in 1:(ncol(categorical_variables) - 1)) {\n",
    "  for (j in (i + 1):ncol(categorical_variables)) {\n",
    "    cross_tab <- table(categorical_variables[, i], categorical_variables[, j])\n",
    "    chi_square_test <- chisq.test(cross_tab)\n",
    "    p_values_matrix[i, j] <- p_values_matrix[j, i] <- chi_square_test$p.value\n",
    "  }\n",
    "}\n",
    "\n",
    "# Print or view the p-values matrix\n",
    "print(p_values_matrix)"
   ]
  },
  {
   "cell_type": "code",
   "execution_count": 113,
   "metadata": {
    "vscode": {
     "languageId": "r"
    }
   },
   "outputs": [
    {
     "data": {
      "image/png": "[encoded data removed]",
      "text/plain": [
       "plot without title"
      ]
     },
     "metadata": {
      "image/png": {
       "height": 420,
       "width": 420
      }
     },
     "output_type": "display_data"
    }
   ],
   "source": [
    "# Reshape the p-values matrix for plotting\n",
    "p_values_df <- reshape2::melt(p_values_matrix)\n",
    "\n",
    "# Plotting the heatmap of p-values\n",
    "ggplot(p_values_df, aes(Var1, Var2, fill = value)) +\n",
    "  geom_tile() +\n",
    "  scale_fill_gradient(low = \"blue\", high = \"orange\") +\n",
    "  labs(title = \"Chi-square Test P-values Heatmap\", x = \"Variables\", y = \"Variables\")"
   ]
  },
  {
   "cell_type": "markdown",
   "metadata": {},
   "source": [
    "Split Training and Testing Dataset"
   ]
  },
  {
   "cell_type": "code",
   "execution_count": 115,
   "metadata": {
    "vscode": {
     "languageId": "r"
    }
   },
   "outputs": [],
   "source": [
    "########################################################\n",
    "# Split into 80-20 training-testing dataset\n",
    "\n",
    "# Set a random seed for reproducibility\n",
    "set.seed(123)\n",
    "\n",
    "# Split the data into a training set (80%) and a test set (20%)\n",
    "split <- sample.split(data2$SqGlobalSales, SplitRatio = 0.8)\n",
    "training_data <- subset(data2, split == TRUE)\n",
    "test_data <- subset(data2, split == FALSE)"
   ]
  },
  {
   "cell_type": "markdown",
   "metadata": {},
   "source": [
    "Build LM model"
   ]
  },
  {
   "cell_type": "code",
   "execution_count": 116,
   "metadata": {
    "vscode": {
     "languageId": "r"
    }
   },
   "outputs": [
    {
     "data": {
      "text/plain": [
       "\n",
       "Call:\n",
       "lm(formula = SqGlobalSales ~ . - AsianSales - NorthAmericaSales - \n",
       "    JapanSales - EuropeSales - TotalShipped - GlobalSales - LogGlobalSales - \n",
       "    SqRtGlobalSales - Title, data = training_data)\n",
       "\n",
       "Residuals:\n",
       "    Min      1Q  Median      3Q     Max \n",
       "-265.83  -84.93  -26.91   68.20  567.26 \n",
       "\n",
       "Coefficients:\n",
       "                                       Estimate Std. Error t value Pr(>|t|)    \n",
       "(Intercept)                          -1782.5982   829.7577  -2.148 0.031722 *  \n",
       "PlatformiOS                            200.3353    50.3555   3.978 7.01e-05 ***\n",
       "PlatformPC                             145.7344     4.5749  31.855  < 2e-16 ***\n",
       "PlatformPS                             128.5537     5.5591  23.125  < 2e-16 ***\n",
       "PlatformPS2                             37.4444     5.2052   7.194 6.97e-13 ***\n",
       "PlatformPS3                            -14.4493     7.2580  -1.991 0.046542 *  \n",
       "PlatformPS4                             38.4502     9.3300   4.121 3.81e-05 ***\n",
       "GenreBoard Game                          4.7073    25.4369   0.185 0.853190    \n",
       "GenreFighting                          -26.1203     6.9254  -3.772 0.000164 ***\n",
       "GenrePuzzle                             16.1404     5.4779   2.946 0.003225 ** \n",
       "GenreRacing                            -21.9428     5.3181  -4.126 3.73e-05 ***\n",
       "GenreShooter                           -15.7740     4.9017  -3.218 0.001296 ** \n",
       "GenreSimulation                        -10.8398     5.0451  -2.149 0.031701 *  \n",
       "GenreSports                            -27.3034     4.7377  -5.763 8.62e-09 ***\n",
       "PublisherAmazon Game Studios             7.3963     6.1087   1.211 0.226019    \n",
       "PublisherElectronic Arts               -14.1247     5.1280  -2.754 0.005895 ** \n",
       "PublisherFrontier Developments          -1.4671     5.6258  -0.261 0.794269    \n",
       "PublisherIBM                             5.9986     6.2406   0.961 0.336474    \n",
       "PublisherOmega                           7.3807     5.9394   1.243 0.214037    \n",
       "PublisherSony Computer Entertainment     7.9912     5.5445   1.441 0.149551    \n",
       "PublisherUbisoft                         0.3707     5.2667   0.070 0.943896    \n",
       "VGScore                                  0.2663     0.5472   0.487 0.626548    \n",
       "CriticScore                             -0.2435     0.5294  -0.460 0.645608    \n",
       "UserScore                               -0.3640     0.5165  -0.705 0.481037    \n",
       "ProductionCost                           3.6035     0.8390   4.295 1.77e-05 ***\n",
       "ReleaseYear_v1                           0.9310     0.4136   2.251 0.024404 *  \n",
       "---\n",
       "Signif. codes:  0 '***' 0.001 '**' 0.01 '*' 0.05 '.' 0.1 ' ' 1\n",
       "\n",
       "Residual standard error: 122.8 on 6911 degrees of freedom\n",
       "Multiple R-squared:  0.2273,\tAdjusted R-squared:  0.2245 \n",
       "F-statistic: 81.34 on 25 and 6911 DF,  p-value: < 2.2e-16\n"
      ]
     },
     "metadata": {},
     "output_type": "display_data"
    }
   ],
   "source": [
    "########################################################\n",
    "# Build LM model\n",
    "\n",
    "lm_model1 = lm(SqGlobalSales ~ . - AsianSales - NorthAmericaSales - JapanSales - EuropeSales - TotalShipped - GlobalSales - LogGlobalSales\n",
    "                - SqRtGlobalSales - Title , data = training_data)\n",
    "summary(lm_model1)"
   ]
  },
  {
   "cell_type": "code",
   "execution_count": 152,
   "metadata": {
    "vscode": {
     "languageId": "r"
    }
   },
   "outputs": [],
   "source": [
    "########################################################\n",
    "# Build LM model for TopN based on frequency count\n",
    "\n",
    "lm_model2 = lm(log_transformed_total_sales ~ . -Rank \n",
    "            - Title - Publisher - Developer  \n",
    "            - Genre\n",
    "            - TopDeveloper_Count \n",
    "            - TopPublisher_Sum - TopDeveloper_Sum\n",
    "            - ReleaseQuarter - ReleaseMonth - ReleaseWeek - EndOfMonth - YearsSinceRelease\n",
    "            - TotalSales - log_transformed_total_sales , data = training_data)"
   ]
  },
  {
   "cell_type": "code",
   "execution_count": 153,
   "metadata": {
    "vscode": {
     "languageId": "r"
    }
   },
   "outputs": [],
   "source": [
    "########################################################\n",
    "# Build LM model for TopN based on frequency count\n",
    "\n",
    "lm_model3 = lm(log_transformed_total_sales ~ . -Rank \n",
    "            - Title - Publisher - Developer  \n",
    "            - Genre \n",
    "            - TopPublisher_Count \n",
    "            - TopPublisher_Sum - TopDeveloper_Sum \n",
    "            - ReleaseQuarter - ReleaseMonth - ReleaseWeek - EndOfMonth - YearsSinceRelease \n",
    "            - TotalSales - log_transformed_total_sales , data = training_data)"
   ]
  },
  {
   "cell_type": "code",
   "execution_count": 162,
   "metadata": {
    "vscode": {
     "languageId": "r"
    }
   },
   "outputs": [],
   "source": [
    "########################################################\n",
    "# Build LM model for TopN based on sum of Total Sales\n",
    "\n",
    "lm_model4 = lm(log_transformed_total_sales ~ . -Rank \n",
    "            - Title - Publisher - Developer  \n",
    "            - Genre \n",
    "            - TopDeveloper_Sum \n",
    "            - TopPublisher_Count - TopDeveloper_Count \n",
    "            - ReleaseQuarter - ReleaseMonth - ReleaseWeek - EndOfMonth - YearsSinceRelease \n",
    "            - TotalSales - log_transformed_total_sales , data = training_data)"
   ]
  },
  {
   "cell_type": "code",
   "execution_count": 155,
   "metadata": {
    "vscode": {
     "languageId": "r"
    }
   },
   "outputs": [],
   "source": [
    "########################################################\n",
    "# Build LM model for TopN based on sum of Total Sales\n",
    "\n",
    "lm_model5 = lm(log_transformed_total_sales ~ . -Rank \n",
    "            - Title - Publisher - Developer  \n",
    "            - Genre \n",
    "            - TopPublisher_Sum \n",
    "            - TopPublisher_Count - TopDeveloper_Count \n",
    "            - ReleaseQuarter - ReleaseMonth - ReleaseWeek - EndOfMonth - YearsSinceRelease \n",
    "            - TotalSales - log_transformed_total_sales , data = training_data)"
   ]
  },
  {
   "cell_type": "code",
   "execution_count": 156,
   "metadata": {
    "vscode": {
     "languageId": "r"
    }
   },
   "outputs": [],
   "source": [
    "########################################################\n",
    "# Build LM model for TopN based on sum of Total Sales\n",
    "\n",
    "lm_model6 = lm(log_transformed_total_sales ~ . -Rank \n",
    "            - Title - Publisher - Developer \n",
    "            - TopPublisher_Sum - TopDeveloper_Sum \n",
    "            - TopPublisher_Count - TopDeveloper_Count \n",
    "            - ReleaseQuarter - ReleaseMonth - ReleaseWeek - EndOfMonth - YearsSinceRelease \n",
    "            - TotalSales - log_transformed_total_sales , data = training_data)"
   ]
  },
  {
   "cell_type": "code",
   "execution_count": 157,
   "metadata": {
    "vscode": {
     "languageId": "r"
    }
   },
   "outputs": [
    {
     "name": "stdout",
     "output_type": "stream",
     "text": [
      "\n",
      "Regression Models Comparison\n",
      "======================================================================================================================================================================================================\n",
      "                                                                                                               Dependent Variable                                                                     \n",
      "                                           -----------------------------------------------------------------------------------------------------------------------------------------------------------\n",
      "                                                                                                                Response Variable                                                                     \n",
      "                                                      (1)                       (2)                       (3)                       (4)                       (5)                       (6)           \n",
      "------------------------------------------------------------------------------------------------------------------------------------------------------------------------------------------------------\n",
      "ConsoleDS                                          -0.261***                 -0.335***                 -0.362***                 -0.213***                 -0.339***                 -0.285***        \n",
      "                                                    (0.084)                   (0.083)                   (0.085)                   (0.082)                   (0.084)                   (0.084)         \n",
      "                                                                                                                                                                                                      \n",
      "ConsoleNS                                           -0.193*                   -0.150                    -0.183*                   -0.025                    -0.196*                   -0.211*         \n",
      "                                                    (0.109)                   (0.109)                   (0.111)                   (0.107)                   (0.110)                   (0.110)         \n",
      "                                                                                                                                                                                                      \n",
      "ConsolePC                                          0.186***                   0.159**                   0.130*                   0.320***                   0.169**                   0.175**         \n",
      "                                                    (0.070)                   (0.069)                   (0.071)                   (0.069)                   (0.070)                   (0.070)         \n",
      "                                                                                                                                                                                                      \n",
      "ConsolePS2                                         -0.584***                 -0.687***                 -0.616***                 -0.607***                 -0.750***                 -0.661***        \n",
      "                                                    (0.189)                   (0.187)                   (0.192)                   (0.183)                   (0.189)                   (0.190)         \n",
      "                                                                                                                                                                                                      \n",
      "ConsolePS3                                         0.307***                  0.301***                  0.343***                  0.380***                  0.358***                  0.298***         \n",
      "                                                    (0.075)                   (0.075)                   (0.076)                   (0.074)                   (0.076)                   (0.076)         \n",
      "                                                                                                                                                                                                      \n",
      "ConsolePS4                                           0.085                     0.128                     0.092                   0.227***                    0.128                     0.088          \n",
      "                                                    (0.080)                   (0.079)                   (0.081)                   (0.079)                   (0.081)                   (0.081)         \n",
      "                                                                                                                                                                                                      \n",
      "ConsolePSN                                          -0.493                    -0.561                    -0.506                    -0.584                    -0.461                    -0.530          \n",
      "                                                    (0.504)                   (0.504)                   (0.514)                   (0.493)                   (0.510)                   (0.510)         \n",
      "                                                                                                                                                                                                      \n",
      "ConsolePSP                                         -0.414***                 -0.472***                 -0.498***                 -0.381***                 -0.552***                 -0.446***        \n",
      "                                                    (0.088)                   (0.086)                   (0.088)                   (0.085)                   (0.087)                   (0.088)         \n",
      "                                                                                                                                                                                                      \n",
      "ConsolePSV                                         -0.336***                 -0.357***                 -0.368***                 -0.290***                 -0.413***                 -0.367***        \n",
      "                                                    (0.085)                   (0.084)                   (0.086)                   (0.083)                   (0.085)                   (0.085)         \n",
      "                                                                                                                                                                                                      \n",
      "ConsoleVC                                           -0.791                    -0.605                    -0.805                    -1.744                    -0.769                    -1.091          \n",
      "                                                    (1.121)                   (1.120)                   (1.143)                   (1.099)                   (1.134)                   (1.134)         \n",
      "                                                                                                                                                                                                      \n",
      "ConsoleWii                                           0.031                     0.031                    -0.007                    0.161*                     0.033                     0.019          \n",
      "                                                    (0.089)                   (0.087)                   (0.089)                   (0.086)                   (0.089)                   (0.089)         \n",
      "                                                                                                                                                                                                      \n",
      "ConsoleWiiU                                          0.026                    -0.070                     0.106                    -0.097                     0.028                    -0.006          \n",
      "                                                    (0.136)                   (0.135)                   (0.138)                   (0.132)                   (0.137)                   (0.137)         \n",
      "                                                                                                                                                                                                      \n",
      "ConsoleX360                                         0.194**                   0.168**                  0.221***                  0.327***                  0.256***                   0.195**         \n",
      "                                                    (0.082)                   (0.081)                   (0.083)                   (0.080)                   (0.082)                   (0.082)         \n",
      "                                                                                                                                                                                                      \n",
      "ConsoleXBL                                          -0.420                    -0.234                    -0.282                    -0.064                    -0.235                    -0.462          \n",
      "                                                    (0.563)                   (0.563)                   (0.574)                   (0.549)                   (0.569)                   (0.570)         \n",
      "                                                                                                                                                                                                      \n",
      "ConsoleXOne                                          0.115                     0.074                     0.114                   0.232***                    0.131                     0.124          \n",
      "                                                    (0.088)                   (0.087)                   (0.089)                   (0.086)                   (0.088)                   (0.088)         \n",
      "                                                                                                                                                                                                      \n",
      "GenreAction-Adventure                              0.244***                                                                                                                           0.230**         \n",
      "                                                    (0.090)                                                                                                                           (0.091)         \n",
      "                                                                                                                                                                                                      \n",
      "GenreAdventure                                     -0.612***                                                                                                                         -0.680***        \n",
      "                                                    (0.065)                                                                                                                           (0.063)         \n",
      "                                                                                                                                                                                                      \n",
      "GenreFighting                                       -0.021                                                                                                                            -0.014          \n",
      "                                                    (0.090)                                                                                                                           (0.090)         \n",
      "                                                                                                                                                                                                      \n",
      "GenreMisc                                          -0.220***                                                                                                                         -0.205***        \n",
      "                                                    (0.069)                                                                                                                           (0.069)         \n",
      "                                                                                                                                                                                                      \n",
      "GenrePlatform                                        0.076                                                                                                                             0.051          \n",
      "                                                    (0.085)                                                                                                                           (0.085)         \n",
      "                                                                                                                                                                                                      \n",
      "GenrePuzzle                                        -0.440***                                                                                                                         -0.474***        \n",
      "                                                    (0.098)                                                                                                                           (0.099)         \n",
      "                                                                                                                                                                                                      \n",
      "GenreRacing                                        -0.276***                                                                                                                         -0.314***        \n",
      "                                                    (0.080)                                                                                                                           (0.080)         \n",
      "                                                                                                                                                                                                      \n",
      "GenreRole-Playing                                    0.097                                                                                                                             0.069          \n",
      "                                                    (0.063)                                                                                                                           (0.062)         \n",
      "                                                                                                                                                                                                      \n",
      "GenreShooter                                         0.101                                                                                                                             0.063          \n",
      "                                                    (0.074)                                                                                                                           (0.074)         \n",
      "                                                                                                                                                                                                      \n",
      "GenreSimulation                                    -0.295***                                                                                                                         -0.327***        \n",
      "                                                    (0.076)                                                                                                                           (0.076)         \n",
      "                                                                                                                                                                                                      \n",
      "GenreSports                                         -0.090                                                                                                                             0.091          \n",
      "                                                    (0.069)                                                                                                                           (0.064)         \n",
      "                                                                                                                                                                                                      \n",
      "GenreStrategy                                      -0.509***                                                                                                                         -0.566***        \n",
      "                                                    (0.085)                                                                                                                           (0.084)         \n",
      "                                                                                                                                                                                                      \n",
      "ReleaseYear                                        -0.077***                 -0.067***                 -0.075***                 -0.066***                 -0.081***                 -0.081***        \n",
      "                                                    (0.010)                   (0.010)                   (0.010)                   (0.010)                   (0.010)                   (0.010)         \n",
      "                                                                                                                                                                                                      \n",
      "ReleaseQuarter                                      -0.019                                                                                                                                            \n",
      "                                                    (0.060)                                                                                                                                           \n",
      "                                                                                                                                                                                                      \n",
      "ReleaseMonth                                        -0.013                                                                                                                                            \n",
      "                                                    (0.108)                                                                                                                                           \n",
      "                                                                                                                                                                                                      \n",
      "ReleaseWeek                                          0.006                                                                                                                                            \n",
      "                                                    (0.024)                                                                                                                                           \n",
      "                                                                                                                                                                                                      \n",
      "ReleaseDay                                         -0.146***                 -0.164***                 -0.161***                 -0.157***                 -0.166***                 -0.160***        \n",
      "                                                    (0.016)                   (0.016)                   (0.016)                   (0.015)                   (0.016)                   (0.016)         \n",
      "                                                                                                                                                                                                      \n",
      "ReleaseWeekendWeekend                              0.449***                  0.518***                  0.487***                  0.443***                  0.515***                  0.497***         \n",
      "                                                    (0.065)                   (0.063)                   (0.065)                   (0.062)                   (0.064)                   (0.064)         \n",
      "                                                                                                                                                                                                      \n",
      "EndOfMonthEnd of month                              -0.103*                                                                                                                                           \n",
      "                                                    (0.059)                                                                                                                                           \n",
      "                                                                                                                                                                                                      \n",
      "YearsSinceRelease                                                                                                                                                                                     \n",
      "                                                                                                                                                                                                      \n",
      "                                                                                                                                                                                                      \n",
      "TopDeveloper_CountCapcom                             0.071                                               0.160                                                                                        \n",
      "                                                    (0.143)                                             (0.145)                                                                                       \n",
      "                                                                                                                                                                                                      \n",
      "TopDeveloper_CountElectronic Arts                  1.015***                                            1.045***                                                                                       \n",
      "                                                    (0.150)                                             (0.145)                                                                                       \n",
      "                                                                                                                                                                                                      \n",
      "TopDeveloper_CountIdea Factory                     -0.599***                                           -0.959***                                                                                      \n",
      "                                                    (0.173)                                             (0.173)                                                                                       \n",
      "                                                                                                                                                                                                      \n",
      "TopDeveloper_CountKoei                             -0.554***                                           -0.709***                                                                                      \n",
      "                                                    (0.196)                                             (0.197)                                                                                       \n",
      "                                                                                                                                                                                                      \n",
      "TopDeveloper_CountKonami                            0.337**                                             0.347**                                                                                       \n",
      "                                                    (0.145)                                             (0.145)                                                                                       \n",
      "                                                                                                                                                                                                      \n",
      "TopDeveloper_CountOmega Force                        0.191                                              0.267*                                                                                        \n",
      "                                                    (0.152)                                             (0.152)                                                                                       \n",
      "                                                                                                                                                                                                      \n",
      "TopDeveloper_CountOthers                            -0.043                                              -0.045                                                                                        \n",
      "                                                    (0.086)                                             (0.087)                                                                                       \n",
      "                                                                                                                                                                                                      \n",
      "TopDeveloper_CountSega                             0.569***                                            0.591***                                                                                       \n",
      "                                                    (0.175)                                             (0.178)                                                                                       \n",
      "                                                                                                                                                                                                      \n",
      "TopDeveloper_CountTHQ                                0.248                                               0.285                                                                                        \n",
      "                                                    (0.195)                                             (0.199)                                                                                       \n",
      "                                                                                                                                                                                                      \n",
      "TopDeveloper_CountUbisoft                           0.235*                                              0.239*                                                                                        \n",
      "                                                    (0.128)                                             (0.130)                                                                                       \n",
      "                                                                                                                                                                                                      \n",
      "TopPublisher_CountBandai Namco                                               -0.231**                                                                                                                 \n",
      "                                                                              (0.097)                                                                                                                 \n",
      "                                                                                                                                                                                                      \n",
      "TopPublisher_CountCapcom                                                      -0.215*                                                                                                                 \n",
      "                                                                              (0.122)                                                                                                                 \n",
      "                                                                                                                                                                                                      \n",
      "TopPublisher_CountElectronic Arts                                            0.512***                                                                                                                 \n",
      "                                                                              (0.107)                                                                                                                 \n",
      "                                                                                                                                                                                                      \n",
      "TopPublisher_CountKonami                                                      -0.072                                                                                                                  \n",
      "                                                                              (0.113)                                                                                                                 \n",
      "                                                                                                                                                                                                      \n",
      "TopPublisher_CountOthers                                                     -0.607***                                                                                                                \n",
      "                                                                              (0.079)                                                                                                                 \n",
      "                                                                                                                                                                                                      \n",
      "TopPublisher_CountSega                                                         0.085                                                                                                                  \n",
      "                                                                              (0.123)                                                                                                                 \n",
      "                                                                                                                                                                                                      \n",
      "TopPublisher_CountTecmo                                                      -0.552***                                                                                                                \n",
      "                                                                              (0.123)                                                                                                                 \n",
      "                                                                                                                                                                                                      \n",
      "TopPublisher_CountTHQ                                                        -0.303**                                                                                                                 \n",
      "                                                                              (0.119)                                                                                                                 \n",
      "                                                                                                                                                                                                      \n",
      "TopPublisher_CountUbisoft                                                     -0.205*                                                                                                                 \n",
      "                                                                              (0.107)                                                                                                                 \n",
      "                                                                                                                                                                                                      \n",
      "TopPublisher_CountWarner Bros. Interactive                                   0.395***                                                                                                                 \n",
      "                                                                              (0.119)                                                                                                                 \n",
      "                                                                                                                                                                                                      \n",
      "TopPublisher_SumBandai Namco                                                                                                     -0.211**                                                             \n",
      "                                                                                                                                  (0.095)                                                             \n",
      "                                                                                                                                                                                                      \n",
      "TopPublisher_SumElectronic Arts                                                                                                  0.495***                                                             \n",
      "                                                                                                                                  (0.105)                                                             \n",
      "                                                                                                                                                                                                      \n",
      "TopPublisher_SumKonami                                                                                                            -0.074                                                              \n",
      "                                                                                                                                  (0.110)                                                             \n",
      "                                                                                                                                                                                                      \n",
      "TopPublisher_SumNintendo                                                                                                         0.640***                                                             \n",
      "                                                                                                                                  (0.144)                                                             \n",
      "                                                                                                                                                                                                      \n",
      "TopPublisher_SumOthers                                                                                                           -0.678***                                                            \n",
      "                                                                                                                                  (0.076)                                                             \n",
      "                                                                                                                                                                                                      \n",
      "TopPublisher_SumSega                                                                                                               0.089                                                              \n",
      "                                                                                                                                  (0.120)                                                             \n",
      "                                                                                                                                                                                                      \n",
      "TopPublisher_SumSony                                                                                                               0.136                                                              \n",
      "                                                                                                                                  (0.123)                                                             \n",
      "                                                                                                                                                                                                      \n",
      "TopPublisher_SumSquare Enix                                                                                                      0.447***                                                             \n",
      "                                                                                                                                  (0.131)                                                             \n",
      "                                                                                                                                                                                                      \n",
      "TopPublisher_SumUbisoft                                                                                                          -0.212**                                                             \n",
      "                                                                                                                                  (0.104)                                                             \n",
      "                                                                                                                                                                                                      \n",
      "TopPublisher_SumWarner Bros. Interactive                                                                                         0.401***                                                             \n",
      "                                                                                                                                  (0.116)                                                             \n",
      "                                                                                                                                                                                                      \n",
      "TopDeveloper_SumCapcom                                                                                                                                       0.146                                    \n",
      "                                                                                                                                                            (0.144)                                   \n",
      "                                                                                                                                                                                                      \n",
      "TopDeveloper_SumElectronic Arts                                                                                                                            1.022***                                   \n",
      "                                                                                                                                                            (0.144)                                   \n",
      "                                                                                                                                                                                                      \n",
      "TopDeveloper_SumKonami                                                                                                                                      0.338**                                   \n",
      "                                                                                                                                                            (0.144)                                   \n",
      "                                                                                                                                                                                                      \n",
      "TopDeveloper_SumOmega Force                                                                                                                                 0.271*                                    \n",
      "                                                                                                                                                            (0.151)                                   \n",
      "                                                                                                                                                                                                      \n",
      "TopDeveloper_SumOthers                                                                                                                                      -0.112                                    \n",
      "                                                                                                                                                            (0.086)                                   \n",
      "                                                                                                                                                                                                      \n",
      "TopDeveloper_SumSega                                                                                                                                       0.590***                                   \n",
      "                                                                                                                                                            (0.176)                                   \n",
      "                                                                                                                                                                                                      \n",
      "TopDeveloper_SumSquare                                                                                                                                     1.013***                                   \n",
      "                                                                                                                                                            (0.204)                                   \n",
      "                                                                                                                                                                                                      \n",
      "TopDeveloper_SumTraveller's Tales                                                                                                                          1.377***                                   \n",
      "                                                                                                                                                            (0.200)                                   \n",
      "                                                                                                                                                                                                      \n",
      "TopDeveloper_SumTT Fusion                                                                                                                                  1.127***                                   \n",
      "                                                                                                                                                            (0.223)                                   \n",
      "                                                                                                                                                                                                      \n",
      "TopDeveloper_SumUbisoft                                                                                                                                      0.207                                    \n",
      "                                                                                                                                                            (0.129)                                   \n",
      "                                                                                                                                                                                                      \n",
      "Constant                                          167.581***                146.822***                162.309***                145.082***                175.209***                175.636***        \n",
      "                                                   (20.007)                  (19.679)                  (20.032)                  (19.306)                  (19.867)                  (19.924)         \n",
      "                                                                                                                                                                                                      \n",
      "------------------------------------------------------------------------------------------------------------------------------------------------------------------------------------------------------\n",
      "Observations                                         4,857                     4,857                     4,857                     4,857                     4,857                     4,857          \n",
      "R2                                                   0.175                     0.171                     0.136                     0.210                     0.151                     0.151          \n",
      "Adjusted R2                                          0.167                     0.166                     0.131                     0.205                     0.146                     0.146          \n",
      "Residual Std. Error                            1.117 (df = 4812)         1.118 (df = 4828)         1.141 (df = 4828)         1.091 (df = 4828)         1.131 (df = 4828)         1.131 (df = 4826)    \n",
      "F Statistic                                23.203*** (df = 44; 4812) 35.563*** (df = 28; 4828) 27.138*** (df = 28; 4828) 45.808*** (df = 28; 4828) 30.597*** (df = 28; 4828) 28.717*** (df = 30; 4826)\n",
      "======================================================================================================================================================================================================\n",
      "Note:                                                                                                                                                                      *p<0.1; **p<0.05; ***p<0.01\n"
     ]
    }
   ],
   "source": [
    "########################################################\n",
    "# View using StarGazer\n",
    "\n",
    "# Create a list of your linear regression models\n",
    "lm_models <- list(AllDateDimensions = lm_model1, \n",
    "                Top10Publishers_Count = lm_model2, \n",
    "                Top10Developers_Count = lm_model3, \n",
    "                Top10Publishers_TotalSales  = lm_model4, \n",
    "                Top10Developers_TotalSales = lm_model5, \n",
    "                Genre = lm_model6)\n",
    "\n",
    "# Generate a regression table using stargazer\n",
    "stargazer(lm_models, \n",
    "          title = \"Regression Models Comparison\",\n",
    "          dep.var.caption = \"Dependent Variable\",\n",
    "          dep.var.labels = \"Response Variable\",\n",
    "          align = TRUE,\n",
    "          type = \"text\",\n",
    "          out = \"summary_table.txt\")"
   ]
  },
  {
   "cell_type": "markdown",
   "metadata": {},
   "source": [
    "LM Actual vs Prediction Plot"
   ]
  },
  {
   "cell_type": "code",
   "execution_count": 171,
   "metadata": {
    "vscode": {
     "languageId": "r"
    }
   },
   "outputs": [
    {
     "data": {
      "image/png": "[encoded data removed]",
      "text/plain": [
       "Plot with title \"Predicted vs. Actual TotalSales (Training Set)\""
      ]
     },
     "metadata": {
      "image/png": {
       "height": 420,
       "width": 420
      }
     },
     "output_type": "display_data"
    }
   ],
   "source": [
    "# Model 4 has highest R2 and adjusted R2 score among all the models\n",
    "# Make predictions using the lm model\n",
    "predicted_values_train <- predict(lm_model4, training_data)\n",
    "\n",
    "# Convert log-transformed values back to the original scale\n",
    "actual_values_train <- training_data$TotalSales\n",
    "predicted_values_train_exp <- exp(predicted_values_train)\n",
    "\n",
    "# Create a scatterplot to compare predicted vs actual TotalSales on the training set\n",
    "plot(seq_along(actual_values_train), actual_values_train,\n",
    "     main = \"Predicted vs. Actual TotalSales (Training Set)\",\n",
    "     xlab = \"Data Index\", ylab = \"Actual TotalSales\",\n",
    "     col = \"blue\", pch = 16)\n",
    "\n",
    "# Add the predicted values on the training set\n",
    "points(seq_along(predicted_values_train_exp), predicted_values_train_exp, col = \"red\", pch = 16)\n",
    "\n",
    "# Add the fitted line from the lm model\n",
    "legend(\"topright\", legend = c(\"Actual\", \"Predicted\"), col = c(\"blue\", \"red\"), pch = 16)\n"
   ]
  },
  {
   "cell_type": "code",
   "execution_count": 173,
   "metadata": {
    "vscode": {
     "languageId": "r"
    }
   },
   "outputs": [
    {
     "ename": "ERROR",
     "evalue": "Error in model.frame.default(Terms, newdata, na.action = na.action, xlev = object$xlevels): factor Title has new levels 1... 2... 3... KICK IT! (Drop That Beat Like an Ugly Baby), 10 Minute Solution, 100 Classic Games, 12-Sai. Torokeru Puzzle Futari no Harmony, 12 Labours of Hercules III: Girl Power, 18 Wheels of Steel: Extreme Trucker 2, 20XX, 4 Play Collection - Dark Mysteries, 4 Play Collection: Treasure Hunters, 7 Wonders: Treasures of Seven, 8-Bit Armies, A Game of Thrones: Genesis, ABBA: You Can Dance, Ace Attorney Investigations 2, Act of Aggression, After Hours Athletes, Again, Agatha Christie: The ABC Murders, Agents of Mayhem, Akin, Alien Breed 2: Assault, Alien Breed: Impact, All Kamen Rider: Rider Generation 2, All Kamen Rider: Rider Revolution, Alter World, Angry Birds: Rio, Anima - Gate of Memories, Anno 2205, Apollo Justice: Ace Attorney, Aqua Moto Racing Utopia, Arcana Heart 3, ArmaGallant: Decks of Destiny, Art Academy: Home Studio, Ashes Cricket, Asphalt 3D, Assassin's Creed Odyssey, Assassin's Creed Syndicate, Assault Suit Leynos, Astro Bot Rescue Mission, Attack on Titan: Escape from Certain Death, Attempt[42], ATV Quad Kings, Bad Apple Wars, Bass Pro Shops: The Strike - Championship Edition, Batman: Arkham Origins, Battle Garegga Rev.2016, Battle Princess of Arcadias, Battle Ranch: Pigs vs Plants, Battlefield: Bad Company 2, Battleplan: American Civil War, Battlezone, Beat City, Bella Sara 2 - The Magic of Drasilmare, Ben 10 Triple Pack, Beyblade Burst: God, Beyblade: Metal Fusion, Beyblade: Metal Masters, Binary Star, bit Dungeon II, Bleach: Heat the Soul 7, Bleed, Bloop Reloaded, Bomber Crew, Borderlands: The Handsome Collection, BoxBoy! Hakobume Box, Bravely Second: End Layer, Bravo Team, Brawlout, Bridge Project, Bunmei Haruka: Aoiza Ibunroku, Busou Shinki: Battle Masters, Busou Shinki: Battle Masters Mk. 2, Buzz! The Ultimate Music Quiz, Cake-ya San Monogatari: Ooishii Sweets o Tsukurou!, Calling, Cardfight!! Vanguard: Lock On Victory!!, Carnage Heart EXA, Casino Chaos With Las Vegas Players Collection, Chaos Rings III, Cities: Skylines Snowfall, City Climber, Clash of the Titans: The Videogame, Clustertruck, Code Name: S.T.E.A.M., Codename: Panzers Complete Collection, Combat of Giants: Dinosaurs 3D, Cook, Serve, Delicious!, Corpse Party: Book of Shadows, Cosmos Chaos!, Crayon Shin-chan: Arashi o Yobu Kasukabe Eiga Stars!, Crime Lab: Body of Evidence, Criminal Girls, Criminal Girls 2: Party Favors, Cross † Channel, Cross Channel: In Memory of All People, Crush3D, Culdcept Revolt, DaGeDar, Daito Giken Koushiki Pachi-Slot Simulator: Ossu! Misao + Maguro Densetsu Portable, Damage Inc.: Pacific Squadron WWII, Danball Senki Boost, Dance Dance Revolution: Hottest Party 5, Dance on Broadway, Danganronpa 1-2 Reload, Dark Fall 3: Lost Souls, Dark Rose Valkyrie, DarkEnd, Darkness Assault, Dead or Alive Xtreme 3: Fortune, Deadly 30, Deca Sports 3, DEFIANCE, Deponia Doomsday, Depth Hunter 2: Deep Dive, Desert Kingdom, Detective Conan: Marionette Symphony, Detective Pikachu, Devil Daggers, Devil May Cry 4 Special Edition, Dexodonex, Diabolik Lovers: More Blood, Disciples III: Renaissance, Disciples III: Resurrection, Discover Europe, Disgaea 4: A Promise Unforgotten, Disgaea PC, Disney Channel: All Star Party, Disney Epic Mickey: The Power of Illusion, Disney Fairies: Tinker Bell and the Great Fairy Rescue, Disneyland Adventures, Dissidia Final Fantasy NT, Doraemon: Nobita and the Island of Miracles, Doraemon: Shin Nobita no Daimakyou Peko to 5-nin no Tankenta, Downtown Nekketsu Koushinkyoku: Soreyuke Daiundoukai All-Star Special, Dragon Ball Heroes: Ultimate Mission 2, Dragon Ball: Origins 2, Dragon Ball: Xenoverse 2, Dragon Quest Monsters Joker 3, Dragon Quest Monsters: Terry's Wonderland 3D, Dragon Quest X: 5000-nen no Harukanaru Kokyou e Online, Drawful 2, Dreamcast Collection, Dungeon Souls, Dungeon Travelers 2-2: The Maiden Who Fell into Darkness and the Book of Beginnings, Dungeons & Dragons Anthology: The Master Collection, Dungeons & Dragons: Daggerdale, Dungeons 2, Dynasty Warriors 9, Earth Defense Force 5, Ebikore Photo Kano Kiss, Elminage Gothic: Ulm Zakir to Yami no Gishiki, Emily the Strange: Strangerous, Escape the Emerald Star, Etrian Odyssey: Millennium Girl, Everybody's Golf, Extinction, Fabled Legends: The Dark Piper, Fairyland: Fairy Power, Family Party: 30 Great Games Winter Fun, Fantastic Football Fan Party, Fantastic Pets, Far Cry 3, Farming Simulator 15 Expansion Pack, Fate/kaleid liner Prisma Illya, Fernbus Simulator, FIFA 16, FIFA Soccer, Final Fantasy VI, Final Fantasy XV: Windows Edition, Fire Emblem: Shin Monshou no Nazo Hikari to Kage no Eiyuu, Fire Pro Wrestling World, Fishdom, Football Manager Handheld 2012, Fragile Dreams: Farewell Ruins of the Moon, Freddi Fish: ABC under the sea, Fushigi no Dungeon: Fuurai no Shiren 5 - Fortune Tower to Unmei no Dice, Future Card Buddyfight: Tanjou! Oretachi no Saikyou Body!, Future Card Buddyfight: Yuujou no Bakunetsu Fight!, G1 Grand Prix, GachiTora! Abarenbou Kyoushi in High School, Gaist Crusher, Gakuen K: Wonderful School Days, Galactic Civilizations III, Game Center CX: 3-Choume no Arino, Games Around the World, Giana Sisters: Twisted Dreams, Girls RPG: Cinderellife, Girls und Panzer: Dream Tank Match, God Eater Off Shot: Soma Shikkuzaru-hen Twin Pack & Animation Vol.4, God of War Saga, Godzilla (2014), Godzilla (2015), GoldenEye 007, Grand Pigeon's Duty, Grand Slam Tennis 2, Great Battle Full Blast, Greed Corp, GRIP: Combat Racing, Gundam Versus, Gunslingers, Hakoniwa Company Works, Hakuouki: Yuugi Roku, Halo: Spartan Assault, HappinessCharge PreCure! Kawarun Collection, Harvest Moon: The Lost Valley, Hatred, Hatsune Miku: Project Diva Extend, Hatsune Miku: Project Mirai DX, Heart no Kuni no Alice Anniversary Ver.: Wonderful Wonder World, Heaven Forest NIGHTS, Her Story, Hero Bank 2, Hexyz Force, Hidden Agenda, Hidden Mysteries: Buckingham Palace, Hidden Mysteries: Salem Secrets - Witch Trials of 1692, Higurashi no Naku Koro ni Kizuna: Dai-Yon-Kan - Kizuna, Himoutou! Umaru-Chan: Himoutou Ikusei Keikaku, Hitman, Hole in the Wall: Deluxe Edition, Hollywood Squares, Hometown Story, Homeworld Remastered Collection, Horrible Histories: Ruthless Romans, Hulk Hogan's Main Event, Hunter x Hunter: Wonder Adventure, Hyakumanton no Bara Bara, Hyperdimension Idol Neptunia PP, I Love Horses: Rider's Paradise, I Spy: Universe, Ikaruga, Ikki Tousen: Xross Impact, Imagine Animal Doctor Care Center, Imagine: Fashion Designer, Inazuma Eleven 3: Sekai e no Chousen!! The Ogre, Injustice: Gods Among Us, Invizimals: The Lost Tribes, Iron Sky: Invasion, Ishin Renka: Ryouma Gaiden, Iwaihime: Matsuri, Iza, Shutsujin! Koisen, J-League Pro Soccer Club o Tsukurou! 7 Euro Plus, Jam With the Band, Jikkyou Powerful Pro Baseball Heroes, Joker no Kuni no Alice, Journey, Just Dance 2017, Just Sing! Vol. 2, Kaitou Tenshi Twin Angel: Toki to Sekai no Meikyuu, Kamen Rider Travelers Record, Kamiko, Karaoke Revolution Glee: Volume 3, Katekyoo Hitman Reborn! DS Fate of Heat III - Yuki no Shugosha Raishuu!, Ken to Mahou to Gakuen Mono. 3D, Ketsui Deathtiny: Kizuna Jigoku Tachi, Kid Adventures: Sky Captain, Kidou Senshi Gundam: Shin Gihren no Yabou, Kimi ni Todoke: Tsutaeru Kimochi, King Arthur's Gold, King Arthur II: The Role-playing Wargame, Kingdom Hearts: Birth by Sleep - Final Mix, Know How 2, KORG DS-10 Synthesizer Plus, Kouekizaidan Houjin Nihon Kanji Nouryoku Kentei Kyoukai: Kanken Training 2, Kurenai no Homura: Sanada Ninpou Chou, Kuroko's Basketball: Ties to Future, Legasista, Legend of Grimrock, Legends of Oz: Dorothy's Return, Lego City Undercover: The Chase Begins, LEGO Ninjago: Shadow of Ronin, Let's Cheer, Let's Play Flight Attendant, Lips: Party Classics, Little Battlers eXperience: Wars, LittleBigPlanet Karting, Living Legends: Frozen Beauty, Lord of Magna: Maiden Heaven, Love of Renai Koutei of Love!, Lovely Lisa and Friends, Loving Life with Hello Kitty & Friends, Madden NFL 25, Magicka: Vietnam, Mahouka Koukou no Rettousei: Out of Order, Majesty 2 Collection, Marginal #4: Idol of Supernova, Mass Effect 2, Mathews Bowhunting, Mechanic Escape, Medabots Dual: Kabuto / Kuwagata, Medal of Honor, Medalot 7, Medarot 9: Kabuto Ver. / Kuwagata Ver., Megamind: Mega \n",
     "output_type": "error",
     "traceback": [
      "Error in model.frame.default(Terms, newdata, na.action = na.action, xlev = object$xlevels): factor Title has new levels 1... 2... 3... KICK IT! (Drop That Beat Like an Ugly Baby), 10 Minute Solution, 100 Classic Games, 12-Sai. Torokeru Puzzle Futari no Harmony, 12 Labours of Hercules III: Girl Power, 18 Wheels of Steel: Extreme Trucker 2, 20XX, 4 Play Collection - Dark Mysteries, 4 Play Collection: Treasure Hunters, 7 Wonders: Treasures of Seven, 8-Bit Armies, A Game of Thrones: Genesis, ABBA: You Can Dance, Ace Attorney Investigations 2, Act of Aggression, After Hours Athletes, Again, Agatha Christie: The ABC Murders, Agents of Mayhem, Akin, Alien Breed 2: Assault, Alien Breed: Impact, All Kamen Rider: Rider Generation 2, All Kamen Rider: Rider Revolution, Alter World, Angry Birds: Rio, Anima - Gate of Memories, Anno 2205, Apollo Justice: Ace Attorney, Aqua Moto Racing Utopia, Arcana Heart 3, ArmaGallant: Decks of Destiny, Art Academy: Home Studio, Ashes Cricket, Asphalt 3D, Assassin's Creed Odyssey, Assassin's Creed Syndicate, Assault Suit Leynos, Astro Bot Rescue Mission, Attack on Titan: Escape from Certain Death, Attempt[42], ATV Quad Kings, Bad Apple Wars, Bass Pro Shops: The Strike - Championship Edition, Batman: Arkham Origins, Battle Garegga Rev.2016, Battle Princess of Arcadias, Battle Ranch: Pigs vs Plants, Battlefield: Bad Company 2, Battleplan: American Civil War, Battlezone, Beat City, Bella Sara 2 - The Magic of Drasilmare, Ben 10 Triple Pack, Beyblade Burst: God, Beyblade: Metal Fusion, Beyblade: Metal Masters, Binary Star, bit Dungeon II, Bleach: Heat the Soul 7, Bleed, Bloop Reloaded, Bomber Crew, Borderlands: The Handsome Collection, BoxBoy! Hakobume Box, Bravely Second: End Layer, Bravo Team, Brawlout, Bridge Project, Bunmei Haruka: Aoiza Ibunroku, Busou Shinki: Battle Masters, Busou Shinki: Battle Masters Mk. 2, Buzz! The Ultimate Music Quiz, Cake-ya San Monogatari: Ooishii Sweets o Tsukurou!, Calling, Cardfight!! Vanguard: Lock On Victory!!, Carnage Heart EXA, Casino Chaos With Las Vegas Players Collection, Chaos Rings III, Cities: Skylines Snowfall, City Climber, Clash of the Titans: The Videogame, Clustertruck, Code Name: S.T.E.A.M., Codename: Panzers Complete Collection, Combat of Giants: Dinosaurs 3D, Cook, Serve, Delicious!, Corpse Party: Book of Shadows, Cosmos Chaos!, Crayon Shin-chan: Arashi o Yobu Kasukabe Eiga Stars!, Crime Lab: Body of Evidence, Criminal Girls, Criminal Girls 2: Party Favors, Cross † Channel, Cross Channel: In Memory of All People, Crush3D, Culdcept Revolt, DaGeDar, Daito Giken Koushiki Pachi-Slot Simulator: Ossu! Misao + Maguro Densetsu Portable, Damage Inc.: Pacific Squadron WWII, Danball Senki Boost, Dance Dance Revolution: Hottest Party 5, Dance on Broadway, Danganronpa 1-2 Reload, Dark Fall 3: Lost Souls, Dark Rose Valkyrie, DarkEnd, Darkness Assault, Dead or Alive Xtreme 3: Fortune, Deadly 30, Deca Sports 3, DEFIANCE, Deponia Doomsday, Depth Hunter 2: Deep Dive, Desert Kingdom, Detective Conan: Marionette Symphony, Detective Pikachu, Devil Daggers, Devil May Cry 4 Special Edition, Dexodonex, Diabolik Lovers: More Blood, Disciples III: Renaissance, Disciples III: Resurrection, Discover Europe, Disgaea 4: A Promise Unforgotten, Disgaea PC, Disney Channel: All Star Party, Disney Epic Mickey: The Power of Illusion, Disney Fairies: Tinker Bell and the Great Fairy Rescue, Disneyland Adventures, Dissidia Final Fantasy NT, Doraemon: Nobita and the Island of Miracles, Doraemon: Shin Nobita no Daimakyou Peko to 5-nin no Tankenta, Downtown Nekketsu Koushinkyoku: Soreyuke Daiundoukai All-Star Special, Dragon Ball Heroes: Ultimate Mission 2, Dragon Ball: Origins 2, Dragon Ball: Xenoverse 2, Dragon Quest Monsters Joker 3, Dragon Quest Monsters: Terry's Wonderland 3D, Dragon Quest X: 5000-nen no Harukanaru Kokyou e Online, Drawful 2, Dreamcast Collection, Dungeon Souls, Dungeon Travelers 2-2: The Maiden Who Fell into Darkness and the Book of Beginnings, Dungeons & Dragons Anthology: The Master Collection, Dungeons & Dragons: Daggerdale, Dungeons 2, Dynasty Warriors 9, Earth Defense Force 5, Ebikore Photo Kano Kiss, Elminage Gothic: Ulm Zakir to Yami no Gishiki, Emily the Strange: Strangerous, Escape the Emerald Star, Etrian Odyssey: Millennium Girl, Everybody's Golf, Extinction, Fabled Legends: The Dark Piper, Fairyland: Fairy Power, Family Party: 30 Great Games Winter Fun, Fantastic Football Fan Party, Fantastic Pets, Far Cry 3, Farming Simulator 15 Expansion Pack, Fate/kaleid liner Prisma Illya, Fernbus Simulator, FIFA 16, FIFA Soccer, Final Fantasy VI, Final Fantasy XV: Windows Edition, Fire Emblem: Shin Monshou no Nazo Hikari to Kage no Eiyuu, Fire Pro Wrestling World, Fishdom, Football Manager Handheld 2012, Fragile Dreams: Farewell Ruins of the Moon, Freddi Fish: ABC under the sea, Fushigi no Dungeon: Fuurai no Shiren 5 - Fortune Tower to Unmei no Dice, Future Card Buddyfight: Tanjou! Oretachi no Saikyou Body!, Future Card Buddyfight: Yuujou no Bakunetsu Fight!, G1 Grand Prix, GachiTora! Abarenbou Kyoushi in High School, Gaist Crusher, Gakuen K: Wonderful School Days, Galactic Civilizations III, Game Center CX: 3-Choume no Arino, Games Around the World, Giana Sisters: Twisted Dreams, Girls RPG: Cinderellife, Girls und Panzer: Dream Tank Match, God Eater Off Shot: Soma Shikkuzaru-hen Twin Pack & Animation Vol.4, God of War Saga, Godzilla (2014), Godzilla (2015), GoldenEye 007, Grand Pigeon's Duty, Grand Slam Tennis 2, Great Battle Full Blast, Greed Corp, GRIP: Combat Racing, Gundam Versus, Gunslingers, Hakoniwa Company Works, Hakuouki: Yuugi Roku, Halo: Spartan Assault, HappinessCharge PreCure! Kawarun Collection, Harvest Moon: The Lost Valley, Hatred, Hatsune Miku: Project Diva Extend, Hatsune Miku: Project Mirai DX, Heart no Kuni no Alice Anniversary Ver.: Wonderful Wonder World, Heaven Forest NIGHTS, Her Story, Hero Bank 2, Hexyz Force, Hidden Agenda, Hidden Mysteries: Buckingham Palace, Hidden Mysteries: Salem Secrets - Witch Trials of 1692, Higurashi no Naku Koro ni Kizuna: Dai-Yon-Kan - Kizuna, Himoutou! Umaru-Chan: Himoutou Ikusei Keikaku, Hitman, Hole in the Wall: Deluxe Edition, Hollywood Squares, Hometown Story, Homeworld Remastered Collection, Horrible Histories: Ruthless Romans, Hulk Hogan's Main Event, Hunter x Hunter: Wonder Adventure, Hyakumanton no Bara Bara, Hyperdimension Idol Neptunia PP, I Love Horses: Rider's Paradise, I Spy: Universe, Ikaruga, Ikki Tousen: Xross Impact, Imagine Animal Doctor Care Center, Imagine: Fashion Designer, Inazuma Eleven 3: Sekai e no Chousen!! The Ogre, Injustice: Gods Among Us, Invizimals: The Lost Tribes, Iron Sky: Invasion, Ishin Renka: Ryouma Gaiden, Iwaihime: Matsuri, Iza, Shutsujin! Koisen, J-League Pro Soccer Club o Tsukurou! 7 Euro Plus, Jam With the Band, Jikkyou Powerful Pro Baseball Heroes, Joker no Kuni no Alice, Journey, Just Dance 2017, Just Sing! Vol. 2, Kaitou Tenshi Twin Angel: Toki to Sekai no Meikyuu, Kamen Rider Travelers Record, Kamiko, Karaoke Revolution Glee: Volume 3, Katekyoo Hitman Reborn! DS Fate of Heat III - Yuki no Shugosha Raishuu!, Ken to Mahou to Gakuen Mono. 3D, Ketsui Deathtiny: Kizuna Jigoku Tachi, Kid Adventures: Sky Captain, Kidou Senshi Gundam: Shin Gihren no Yabou, Kimi ni Todoke: Tsutaeru Kimochi, King Arthur's Gold, King Arthur II: The Role-playing Wargame, Kingdom Hearts: Birth by Sleep - Final Mix, Know How 2, KORG DS-10 Synthesizer Plus, Kouekizaidan Houjin Nihon Kanji Nouryoku Kentei Kyoukai: Kanken Training 2, Kurenai no Homura: Sanada Ninpou Chou, Kuroko's Basketball: Ties to Future, Legasista, Legend of Grimrock, Legends of Oz: Dorothy's Return, Lego City Undercover: The Chase Begins, LEGO Ninjago: Shadow of Ronin, Let's Cheer, Let's Play Flight Attendant, Lips: Party Classics, Little Battlers eXperience: Wars, LittleBigPlanet Karting, Living Legends: Frozen Beauty, Lord of Magna: Maiden Heaven, Love of Renai Koutei of Love!, Lovely Lisa and Friends, Loving Life with Hello Kitty & Friends, Madden NFL 25, Magicka: Vietnam, Mahouka Koukou no Rettousei: Out of Order, Majesty 2 Collection, Marginal #4: Idol of Supernova, Mass Effect 2, Mathews Bowhunting, Mechanic Escape, Medabots Dual: Kabuto / Kuwagata, Medal of Honor, Medalot 7, Medarot 9: Kabuto Ver. / Kuwagata Ver., Megamind: Mega \nTraceback:\n",
      "1. predict(lm_model4, test_data)",
      "2. predict.lm(lm_model4, test_data)",
      "3. model.frame(Terms, newdata, na.action = na.action, xlev = object$xlevels)",
      "4. model.frame.default(Terms, newdata, na.action = na.action, xlev = object$xlevels)",
      "5. stop(sprintf(ngettext(length(m), \"factor %s has new level %s\", \n .     \"factor %s has new levels %s\"), nm, paste(nxl[m], collapse = \", \")), \n .     domain = NA)"
     ]
    }
   ],
   "source": [
    "# Model 4 has highest R2 and adjusted R2 score among all the models\n",
    "# Make predictions using the lm model\n",
    "predicted_values_test <- predict(lm_model4, test_data)\n",
    "\n",
    "# Convert log-transformed values back to the original scale\n",
    "actual_values_test <- test_data$TotalSales\n",
    "predicted_values_test_exp <- exp(predicted_values_test)\n",
    "\n",
    "# Create a scatterplot to compare predicted vs actual TotalSales on the training set\n",
    "plot(seq_along(actual_values_test), actual_values_test,\n",
    "     main = \"Predicted vs. Actual TotalSales (Testing Set)\",\n",
    "     xlab = \"Data Index\", ylab = \"Actual TotalSales\",\n",
    "     col = \"blue\", pch = 16)\n",
    "\n",
    "# Add the predicted values on the training set\n",
    "points(seq_along(predicted_values_test_exp), predicted_values_test_exp, col = \"red\", pch = 16)\n",
    "\n",
    "# Add the fitted line from the lm model\n",
    "legend(\"topright\", legend = c(\"Actual\", \"Predicted\"), col = c(\"blue\", \"red\"), pch = 16)\n"
   ]
  },
  {
   "cell_type": "code",
   "execution_count": 174,
   "metadata": {
    "vscode": {
     "languageId": "r"
    }
   },
   "outputs": [
    {
     "name": "stdout",
     "output_type": "stream",
     "text": [
      "Sum of Errors (Training): 342595020 \n",
      "Mean Absolute Deviation (Training): 126815.1 \n",
      "Mean Percentage Error (Training): 7053634 %\n",
      "Mean Squared Error (Training): 40737123499 \n",
      "Standard Error (Training): 201834.4 \n",
      "Mean Absolute Percentage Error (Training): 12681505 %\n"
     ]
    }
   ],
   "source": [
    "# Calculate various error metrics on the original scale for the training set\n",
    "errors_train <- training_data$TotalSales - predicted_values_train_exp\n",
    "sum_of_errors_train <- sum(errors_train)\n",
    "mean_absolute_deviation_train <- mean(abs(errors_train))\n",
    "mean_percentage_error_train <- mean(errors_train) * 100  # Already on the original scale\n",
    "mean_squared_error_train <- mean(errors_train^2)\n",
    "standard_error_train <- sqrt(mean_squared_error_train)\n",
    "mean_absolute_percentage_error_train <- mean(abs(errors_train)) * 100\n",
    "\n",
    "# Print the error metrics for the training set\n",
    "cat(\"Sum of Errors (Training):\", sum_of_errors_train, \"\\n\")\n",
    "cat(\"Mean Absolute Deviation (Training):\", mean_absolute_deviation_train, \"\\n\")\n",
    "cat(\"Mean Percentage Error (Training):\", mean_percentage_error_train, \"%\\n\")\n",
    "cat(\"Mean Squared Error (Training):\", mean_squared_error_train, \"\\n\")\n",
    "cat(\"Standard Error (Training):\", standard_error_train, \"\\n\")\n",
    "cat(\"Mean Absolute Percentage Error (Training):\", mean_absolute_percentage_error_train, \"%\\n\")"
   ]
  },
  {
   "cell_type": "markdown",
   "metadata": {},
   "source": [
    "Neural Network_count"
   ]
  },
  {
   "cell_type": "code",
   "execution_count": 214,
   "metadata": {
    "vscode": {
     "languageId": "r"
    }
   },
   "outputs": [],
   "source": [
    "########################################################\n",
    "# Build a NN model\n",
    "\n",
    "# Create a Keras Sequential model\n",
    "model <- keras_model_sequential()\n",
    "\n",
    "# Add an input layer\n",
    "model %>% \n",
    "  layer_dense(units = 10, input_shape = c(11), activation = \"relu\")\n",
    "\n",
    "# Add one or more hidden layers\n",
    "model %>%\n",
    "  layer_dense(units = 20, activation = \"relu\") %>%\n",
    "  layer_dense(units = 5, activation = \"relu\")\n",
    "\n",
    "# Add an output layer\n",
    "model %>%\n",
    "  layer_dense(units = 1)  # To predict 'TotalSales'\n",
    "\n",
    "# Compile the model with custom absolute error loss and MAE metric\n",
    "model %>%\n",
    "  compile(\n",
    "    loss = \"mean_squared_error\",\n",
    "    optimizer = optimizer_adam(),\n",
    "    metrics = list(\"mean_absolute_error\")\n",
    "  )"
   ]
  },
  {
   "cell_type": "code",
   "execution_count": 203,
   "metadata": {
    "vscode": {
     "languageId": "r"
    }
   },
   "outputs": [
    {
     "name": "stdout",
     "output_type": "stream",
     "text": [
      "Model: \"sequential_3\"\n",
      "________________________________________________________________________________\n",
      " Layer (type)                       Output Shape                    Param #     \n",
      "================================================================================\n",
      " dense_12 (Dense)                   (None, 10)                      120         \n",
      " dense_14 (Dense)                   (None, 20)                      220         \n",
      " dense_13 (Dense)                   (None, 5)                       105         \n",
      " dense_15 (Dense)                   (None, 1)                       6           \n",
      "================================================================================\n",
      "Total params: 451\n",
      "Trainable params: 451\n",
      "Non-trainable params: 0\n",
      "________________________________________________________________________________\n"
     ]
    }
   ],
   "source": [
    "summary (model)"
   ]
  },
  {
   "cell_type": "code",
   "execution_count": 188,
   "metadata": {
    "vscode": {
     "languageId": "r"
    }
   },
   "outputs": [],
   "source": [
    "# Exclude specific columns\n",
    "excluded_columns <- c(\"Rank\", \n",
    "                    \"Title\", \n",
    "                    \"Publisher\", \n",
    "                    \"Developer\", \n",
    "                    \"YearsSinceRelease\", \n",
    "                    \"log_transformed_total_sales\", \n",
    "                    \"TopPublisher_Sum\", \n",
    "                    \"TopDeveloper_Sum\", \n",
    "                    \"TotalSales\")\n",
    "                    \n",
    "x_train <- training_data[, !names(training_data) %in% excluded_columns]\n",
    "x_test <- test_data[, !names(test_data) %in% excluded_columns]"
   ]
  },
  {
   "cell_type": "code",
   "execution_count": 215,
   "metadata": {
    "vscode": {
     "languageId": "r"
    }
   },
   "outputs": [],
   "source": [
    "# Train the model\n",
    "history = keras::fit(model, data.matrix(x_train), data.matrix(training_data$TotalSales), epochs = 100, batch_size = 100, verbose = 1)"
   ]
  },
  {
   "cell_type": "code",
   "execution_count": 216,
   "metadata": {
    "vscode": {
     "languageId": "r"
    }
   },
   "outputs": [
    {
     "data": {
      "image/png": "[encoded data removed]",
      "text/plain": [
       "plot without title"
      ]
     },
     "metadata": {
      "image/png": {
       "height": 420,
       "width": 420
      }
     },
     "output_type": "display_data"
    }
   ],
   "source": [
    "plot(history)"
   ]
  },
  {
   "cell_type": "code",
   "execution_count": 217,
   "metadata": {
    "vscode": {
     "languageId": "r"
    }
   },
   "outputs": [],
   "source": [
    "# Evaluate the model\n",
    "eval_metrics <- model %>% evaluate(\n",
    "  x = data.matrix(x_test),  # Independent variables for testing\n",
    "  y = data.matrix(test_data$TotalSales)  # Target variable for testing\n",
    ")"
   ]
  },
  {
   "cell_type": "code",
   "execution_count": 218,
   "metadata": {
    "vscode": {
     "languageId": "r"
    }
   },
   "outputs": [
    {
     "name": "stdout",
     "output_type": "stream",
     "text": [
      "               loss mean_absolute_error \n",
      "       4.335517e+10        1.576589e+05 \n"
     ]
    }
   ],
   "source": [
    "# Print the evaluation metrics\n",
    "print(eval_metrics)"
   ]
  },
  {
   "cell_type": "code",
   "execution_count": 219,
   "metadata": {
    "vscode": {
     "languageId": "r"
    }
   },
   "outputs": [],
   "source": [
    "# Generate predictions using your trained model\n",
    "predictions <- model %>% predict(data.matrix(x_train))\n",
    "\n",
    "# Organize results into a data frame\n",
    "results <- data.frame(Actual_TotalSales = training_data$TotalSales, Predicted_TotalSales = predictions)"
   ]
  },
  {
   "cell_type": "code",
   "execution_count": 220,
   "metadata": {
    "vscode": {
     "languageId": "r"
    }
   },
   "outputs": [
    {
     "data": {
      "image/png": "[encoded data removed]",
      "text/plain": [
       "plot without title"
      ]
     },
     "metadata": {
      "image/png": {
       "height": 420,
       "width": 420
      }
     },
     "output_type": "display_data"
    }
   ],
   "source": [
    "# Create a scatter plot for both predicted and actual values using different colors\n",
    "ggplot(results, aes(x = seq_along(Actual_TotalSales))) +\n",
    "  geom_point(aes(y = Predicted_TotalSales), color = \"orange\") +\n",
    "  geom_point(aes(y = Actual_TotalSales), color = \"blue\") +\n",
    "  labs(x = \"Index\", y = \"Total Sales\") +\n",
    "  ggtitle(\"Predicted Total Sales vs. Actual Total Sales\") +\n",
    "  theme_minimal()"
   ]
  },
  {
   "cell_type": "code",
   "execution_count": 120,
   "metadata": {
    "vscode": {
     "languageId": "r"
    }
   },
   "outputs": [],
   "source": [
    "# Export to excel\n",
    "\n",
    "write_xlsx(results, path = \"NN_results.xlsx\")"
   ]
  },
  {
   "cell_type": "markdown",
   "metadata": {},
   "source": [
    "Neural Network_sum"
   ]
  },
  {
   "cell_type": "code",
   "execution_count": 221,
   "metadata": {
    "vscode": {
     "languageId": "r"
    }
   },
   "outputs": [],
   "source": [
    "# Exclude specific columns\n",
    "excluded_columns <- c(\"Rank\", \n",
    "                    \"Title\", \n",
    "                    \"Publisher\", \n",
    "                    \"Developer\", \n",
    "                    \"YearsSinceRelease\", \n",
    "                    \"log_transformed_total_sales\", \n",
    "                    \"TopPublisher_Count\", \n",
    "                    \"TopDeveloper_Count\", \n",
    "                    \"TotalSales\")\n",
    "                    \n",
    "x_train <- training_data[, !names(training_data) %in% excluded_columns]\n",
    "x_test <- test_data[, !names(test_data) %in% excluded_columns]"
   ]
  },
  {
   "cell_type": "code",
   "execution_count": 228,
   "metadata": {
    "vscode": {
     "languageId": "r"
    }
   },
   "outputs": [],
   "source": [
    "# Train the model\n",
    "history = keras::fit(model, data.matrix(x_train), data.matrix(training_data$TotalSales), epochs = 100, batch_size = 100, verbose = 1)"
   ]
  },
  {
   "cell_type": "code",
   "execution_count": 223,
   "metadata": {
    "vscode": {
     "languageId": "r"
    }
   },
   "outputs": [
    {
     "data": {
      "image/png": "[encoded data removed]",
      "text/plain": [
       "plot without title"
      ]
     },
     "metadata": {
      "image/png": {
       "height": 420,
       "width": 420
      }
     },
     "output_type": "display_data"
    }
   ],
   "source": [
    "plot(history)"
   ]
  },
  {
   "cell_type": "code",
   "execution_count": 224,
   "metadata": {
    "vscode": {
     "languageId": "r"
    }
   },
   "outputs": [],
   "source": [
    "# Evaluate the model\n",
    "eval_metrics <- model %>% evaluate(\n",
    "  x = data.matrix(x_test),  # Independent variables for testing\n",
    "  y = data.matrix(test_data$TotalSales)  # Target variable for testing\n",
    ")"
   ]
  },
  {
   "cell_type": "code",
   "execution_count": 225,
   "metadata": {
    "vscode": {
     "languageId": "r"
    }
   },
   "outputs": [
    {
     "name": "stdout",
     "output_type": "stream",
     "text": [
      "               loss mean_absolute_error \n",
      "       4.332587e+10        1.579718e+05 \n"
     ]
    }
   ],
   "source": [
    "# Print the evaluation metrics\n",
    "print(eval_metrics)"
   ]
  },
  {
   "cell_type": "code",
   "execution_count": 226,
   "metadata": {
    "vscode": {
     "languageId": "r"
    }
   },
   "outputs": [],
   "source": [
    "# Generate predictions using your trained model\n",
    "predictions <- model %>% predict(data.matrix(x_train))\n",
    "\n",
    "# Organize results into a data frame\n",
    "results <- data.frame(Actual_TotalSales = training_data$TotalSales, Predicted_TotalSales = predictions)"
   ]
  },
  {
   "cell_type": "code",
   "execution_count": 227,
   "metadata": {
    "vscode": {
     "languageId": "r"
    }
   },
   "outputs": [
    {
     "data": {
      "image/png": "[encoded data removed]",
      "text/plain": [
       "plot without title"
      ]
     },
     "metadata": {
      "image/png": {
       "height": 420,
       "width": 420
      }
     },
     "output_type": "display_data"
    }
   ],
   "source": [
    "# Create a scatter plot for both predicted and actual values using different colors\n",
    "ggplot(results, aes(x = seq_along(Actual_TotalSales))) +\n",
    "  geom_point(aes(y = Predicted_TotalSales), color = \"orange\") +\n",
    "  geom_point(aes(y = Actual_TotalSales), color = \"blue\") +\n",
    "  labs(x = \"Index\", y = \"Total Sales\") +\n",
    "  ggtitle(\"Predicted Total Sales vs. Actual Total Sales\") +\n",
    "  theme_minimal()"
   ]
  },
  {
   "cell_type": "code",
   "execution_count": 229,
   "metadata": {
    "vscode": {
     "languageId": "r"
    }
   },
   "outputs": [
    {
     "name": "stdout",
     "output_type": "stream",
     "text": [
      "Model: \"sequential_7\"\n",
      "________________________________________________________________________________\n",
      " Layer (type)                       Output Shape                    Param #     \n",
      "================================================================================\n",
      " dense_28 (Dense)                   (None, 10)                      120         \n",
      " dense_30 (Dense)                   (None, 20)                      220         \n",
      " dense_29 (Dense)                   (None, 5)                       105         \n",
      " dense_31 (Dense)                   (None, 1)                       6           \n",
      "================================================================================\n",
      "Total params: 451\n",
      "Trainable params: 451\n",
      "Non-trainable params: 0\n",
      "________________________________________________________________________________\n",
      "               loss mean_absolute_error \n",
      "       7.966049e+10        1.904102e+05 \n"
     ]
    },
    {
     "data": {
      "image/png": "[encoded data removed]",
      "text/plain": [
       "plot without title"
      ]
     },
     "metadata": {
      "image/png": {
       "height": 420,
       "width": 420
      }
     },
     "output_type": "display_data"
    },
    {
     "data": {
      "image/png": "[encoded data removed]",
      "text/plain": [
       "plot without title"
      ]
     },
     "metadata": {
      "image/png": {
       "height": 420,
       "width": 420
      }
     },
     "output_type": "display_data"
    }
   ],
   "source": [
    "########################################################\n",
    "# Build a NN model\n",
    "\n",
    "# Create a Keras Sequential model\n",
    "model <- keras_model_sequential()\n",
    "\n",
    "# Add an input layer\n",
    "model %>% \n",
    "  layer_dense(units = 10, input_shape = c(11), activation = \"relu\")\n",
    "\n",
    "# Add one or more hidden layers\n",
    "model %>%\n",
    "  layer_dense(units = 20, activation = \"relu\") %>%\n",
    "  layer_dense(units = 5, activation = \"relu\")\n",
    "\n",
    "# Add an output layer\n",
    "model %>%\n",
    "  layer_dense(units = 1)  # To predict 'TotalSales'\n",
    "\n",
    "# Compile the model with custom absolute error loss and MAE metric\n",
    "model %>%\n",
    "  compile(\n",
    "    loss = \"mean_squared_error\",\n",
    "    optimizer = optimizer_adam(),\n",
    "    metrics = list(\"mean_absolute_error\")\n",
    "  )\n",
    "\n",
    "  summary (model)\n",
    "\n",
    "  # Train the model\n",
    "history = keras::fit(model, data.matrix(x_train), data.matrix(training_data$TotalSales), epochs = 200, batch_size = 100, verbose = 1)\n",
    "\n",
    "plot(history)\n",
    "\n",
    "# Evaluate the model\n",
    "eval_metrics <- model %>% evaluate(\n",
    "  x = data.matrix(x_test),  # Independent variables for testing\n",
    "  y = data.matrix(test_data$TotalSales)  # Target variable for testing\n",
    ")\n",
    "\n",
    "\n",
    "# Print the evaluation metrics\n",
    "print(eval_metrics)\n",
    "\n",
    "\n",
    "# Generate predictions using your trained model\n",
    "predictions <- model %>% predict(data.matrix(x_train))\n",
    "\n",
    "# Organize results into a data frame\n",
    "results <- data.frame(Actual_TotalSales = training_data$TotalSales, Predicted_TotalSales = predictions)\n",
    "\n",
    "# Create a scatter plot for both predicted and actual values using different colors\n",
    "ggplot(results, aes(x = seq_along(Actual_TotalSales))) +\n",
    "  geom_point(aes(y = Predicted_TotalSales), color = \"orange\") +\n",
    "  geom_point(aes(y = Actual_TotalSales), color = \"blue\") +\n",
    "  labs(x = \"Index\", y = \"Total Sales\") +\n",
    "  ggtitle(\"Predicted Total Sales vs. Actual Total Sales\") +\n",
    "  theme_minimal()\n",
    "\n"
   ]
  },
  {
   "cell_type": "code",
   "execution_count": 230,
   "metadata": {
    "vscode": {
     "languageId": "r"
    }
   },
   "outputs": [
    {
     "name": "stdout",
     "output_type": "stream",
     "text": [
      "Model: \"sequential_8\"\n",
      "________________________________________________________________________________\n",
      " Layer (type)                       Output Shape                    Param #     \n",
      "================================================================================\n",
      " dense_32 (Dense)                   (None, 10)                      120         \n",
      " dense_33 (Dense)                   (None, 20)                      220         \n",
      " dense_34 (Dense)                   (None, 1)                       21          \n",
      "================================================================================\n",
      "Total params: 361\n",
      "Trainable params: 361\n",
      "Non-trainable params: 0\n",
      "________________________________________________________________________________\n",
      "               loss mean_absolute_error \n",
      "       4.335328e+10        1.576953e+05 \n"
     ]
    },
    {
     "data": {
      "image/png": "[encoded data removed]",
      "text/plain": [
       "plot without title"
      ]
     },
     "metadata": {
      "image/png": {
       "height": 420,
       "width": 420
      }
     },
     "output_type": "display_data"
    },
    {
     "data": {
      "image/png": "[encoded data removed]",
      "text/plain": [
       "plot without title"
      ]
     },
     "metadata": {
      "image/png": {
       "height": 420,
       "width": 420
      }
     },
     "output_type": "display_data"
    }
   ],
   "source": [
    "########################################################\n",
    "# Build a NN model\n",
    "\n",
    "# Create a Keras Sequential model\n",
    "model <- keras_model_sequential()\n",
    "\n",
    "# Add an input layer\n",
    "model %>% \n",
    "  layer_dense(units = 10, input_shape = c(11), activation = \"relu\")\n",
    "\n",
    "# Add one or more hidden layers\n",
    "model %>%\n",
    "  layer_dense(units = 20, activation = \"relu\")\n",
    "\n",
    "# Add an output layer\n",
    "model %>%\n",
    "  layer_dense(units = 1)  # To predict 'TotalSales'\n",
    "\n",
    "# Compile the model with custom absolute error loss and MAE metric\n",
    "model %>%\n",
    "  compile(\n",
    "    loss = \"mean_squared_error\",\n",
    "    optimizer = optimizer_adam(),\n",
    "    metrics = list(\"mean_absolute_error\")\n",
    "  )\n",
    "\n",
    "  summary (model)\n",
    "\n",
    "  # Train the model\n",
    "history = keras::fit(model, data.matrix(x_train), data.matrix(training_data$TotalSales), epochs = 100, batch_size = 100, verbose = 1)\n",
    "\n",
    "plot(history)\n",
    "\n",
    "# Evaluate the model\n",
    "eval_metrics <- model %>% evaluate(\n",
    "  x = data.matrix(x_test),  # Independent variables for testing\n",
    "  y = data.matrix(test_data$TotalSales)  # Target variable for testing\n",
    ")\n",
    "\n",
    "\n",
    "# Print the evaluation metrics\n",
    "print(eval_metrics)\n",
    "\n",
    "\n",
    "# Generate predictions using your trained model\n",
    "predictions <- model %>% predict(data.matrix(x_train))\n",
    "\n",
    "# Organize results into a data frame\n",
    "results <- data.frame(Actual_TotalSales = training_data$TotalSales, Predicted_TotalSales = predictions)\n",
    "\n",
    "# Create a scatter plot for both predicted and actual values using different colors\n",
    "ggplot(results, aes(x = seq_along(Actual_TotalSales))) +\n",
    "  geom_point(aes(y = Predicted_TotalSales), color = \"orange\") +\n",
    "  geom_point(aes(y = Actual_TotalSales), color = \"blue\") +\n",
    "  labs(x = \"Index\", y = \"Total Sales\") +\n",
    "  ggtitle(\"Predicted Total Sales vs. Actual Total Sales\") +\n",
    "  theme_minimal()\n",
    "\n"
   ]
  }
 ],
 "metadata": {
  "kernelspec": {
   "display_name": "R",
   "language": "R",
   "name": "ir"
  },
  "language_info": {
   "codemirror_mode": "r",
   "file_extension": ".r",
   "mimetype": "text/x-r-source",
   "name": "R",
   "pygments_lexer": "r",
   "version": "4.3.1"
  }
 },
 "nbformat": 4,
 "nbformat_minor": 2
}
