{
 "cells": [
  {
   "cell_type": "code",
   "execution_count": 1,
   "metadata": {
    "vscode": {
     "languageId": "r"
    }
   },
   "outputs": [],
   "source": [
    "library(pacman)\n",
    "\n",
    "# Use pacman to load the packages\n",
    "p_load(car)\n",
    "p_load(dplyr)\n",
    "p_load(tidyverse, VIM, mice, Hmisc, \n",
    "               DMwR, naniar)\n",
    "p_load(stargazer)\n",
    "p_load(openxlsx)\n",
    "p_load(here)\n",
    "p_load(rio)\n",
    "p_load(ggplot2)\n",
    "p_load(BSDA)\n",
    "p_load(corrplot)\n",
    "p_load(caTools)\n",
    "p_load(keras)\n",
    "p_load(reticulate)\n",
    "p_load(readr)\n",
    "p_load(writexl)\n",
    "p_load(stringr)\n"
   ]
  },
  {
   "cell_type": "code",
   "execution_count": 2,
   "metadata": {
    "vscode": {
     "languageId": "r"
    }
   },
   "outputs": [],
   "source": [
    "library(caTools)"
   ]
  },
  {
   "cell_type": "code",
   "execution_count": 8,
   "metadata": {
    "vscode": {
     "languageId": "r"
    }
   },
   "outputs": [
    {
     "name": "stderr",
     "output_type": "stream",
     "text": [
      "+ \"C:/Users/angme/anaconda3/condabin/conda.bat\" \"install\" \"--yes\" \"--prefix\" \"C:/Users/angme/anaconda3\" \"-c\" \"conda-forge\" \"tensorflow\"\n",
      "\n"
     ]
    }
   ],
   "source": [
    "py_install(\"tensorflow\")"
   ]
  },
  {
   "cell_type": "markdown",
   "metadata": {},
   "source": [
    "Import File"
   ]
  },
  {
   "cell_type": "code",
   "execution_count": 3,
   "metadata": {
    "vscode": {
     "languageId": "r"
    }
   },
   "outputs": [],
   "source": [
    "data = read.csv(here(\"dataSources\", \"videoGames\", \"video game sales titles - amc.csv\"))\n",
    "attach(data)"
   ]
  },
  {
   "cell_type": "code",
   "execution_count": 4,
   "metadata": {
    "vscode": {
     "languageId": "r"
    }
   },
   "outputs": [
    {
     "name": "stdout",
     "output_type": "stream",
     "text": [
      "'data.frame':\t7623 obs. of  23 variables:\n",
      " $ Rank          : int  2 3 5 7 8 10 13 18 19 23 ...\n",
      " $ Title         : chr  \"Mario Kart 8 Deluxe\" \"Animal Crossing: New Horizons\" \"Counter-Strike: Global Offensive\" \"PLAYERUNKNOWN'S BATTLEGROUNDS\" ...\n",
      " $ Console       : chr  \"NS\" \"NS\" \"PC\" \"PC\" ...\n",
      " $ Publisher     : chr  \"Nintendo\" \"Nintendo\" \"Valve\" \"PUBG Corporation\" ...\n",
      " $ Developer     : chr  \"Nintendo EPD\" \"Nintendo\" \"Valve Corporation\" \"PUBG Corporation\" ...\n",
      " $ Genre         : chr  \"Racing\" \"Simulation\" \"Shooter\" \"Shooter\" ...\n",
      " $ ReleaseYear   : int  2017 2020 2012 2017 2010 2018 2017 2017 2019 2011 ...\n",
      " $ ReleaseQuarter: int  2 1 3 4 4 3 1 4 4 2 ...\n",
      " $ ReleaseMonth  : int  4 3 8 12 10 7 3 10 11 5 ...\n",
      " $ ReleaseWeek   : int  17 12 34 51 41 28 9 43 46 21 ...\n",
      " $ ReleaseDay    : int  6 6 3 5 3 5 6 6 6 2 ...\n",
      " $ ReleaseWeekend: chr  \"Weekend\" \"Weekend\" \"Weekday\" \"Weekday\" ...\n",
      " $ EndOfMonth    : chr  \"End of month\" \"End of month\" \"End of month\" \"End of month\" ...\n",
      " $ TotalSales    : int  55460000 42790000 40000000 36600000 33150000 31770000 30650000 26440000 25920000 23000000 ...\n",
      " $ NASales       : int  NA NA NA NA NA NA NA NA NA NA ...\n",
      " $ PALSales      : int  NA NA NA NA NA NA NA NA NA NA ...\n",
      " $ JapanSales    : int  NA NA NA NA NA NA NA NA NA NA ...\n",
      " $ OtherSales    : int  NA NA NA NA NA NA NA NA NA NA ...\n",
      " $ ReleaseDate   : chr  \"28/4/2017\" \"20/3/2020\" \"21/8/2012\" \"21/12/2017\" ...\n",
      " $ LastUpdate    : chr  \"11/19/2018\" \"4/11/2020\" \"3/26/2019\" \"4/29/2019\" ...\n",
      " $ VGChartzScore : num  NA 8 NA NA 8.8 9 NA NA 7 NA ...\n",
      " $ CriticScore   : num  9.3 NA NA NA 10 9.4 9.9 9.9 NA 8.8 ...\n",
      " $ UserScore     : num  NA NA NA NA NA 9.7 10 NA NA NA ...\n"
     ]
    },
    {
     "data": {
      "text/plain": [
       "      Rank          Title             Console           Publisher        \n",
       " Min.   :    2   Length:7623        Length:7623        Length:7623       \n",
       " 1st Qu.: 5416   Class :character   Class :character   Class :character  \n",
       " Median :11084   Mode  :character   Mode  :character   Mode  :character  \n",
       " Mean   :10574                                                           \n",
       " 3rd Qu.:15858                                                           \n",
       " Max.   :19944                                                           \n",
       "                                                                         \n",
       "  Developer            Genre            ReleaseYear   ReleaseQuarter \n",
       " Length:7623        Length:7623        Min.   :2010   Min.   :1.000  \n",
       " Class :character   Class :character   1st Qu.:2011   1st Qu.:2.000  \n",
       " Mode  :character   Mode  :character   Median :2013   Median :3.000  \n",
       "                                       Mean   :2014   Mean   :2.558  \n",
       "                                       3rd Qu.:2016   3rd Qu.:4.000  \n",
       "                                       Max.   :2023   Max.   :4.000  \n",
       "                                                                     \n",
       "  ReleaseMonth     ReleaseWeek      ReleaseDay    ReleaseWeekend    \n",
       " Min.   : 1.000   Min.   : 1.00   Min.   :1.000   Length:7623       \n",
       " 1st Qu.: 4.000   1st Qu.:14.00   1st Qu.:3.000   Class :character  \n",
       " Median : 7.000   Median :28.00   Median :3.000   Mode  :character  \n",
       " Mean   : 6.662   Mean   :27.88   Mean   :3.913                     \n",
       " 3rd Qu.:10.000   3rd Qu.:42.00   3rd Qu.:5.000                     \n",
       " Max.   :12.000   Max.   :53.00   Max.   :7.000                     \n",
       "                                                                    \n",
       "  EndOfMonth          TotalSales          NASales           PALSales      \n",
       " Length:7623        Min.   :   10000   Min.   :      0   Min.   :      0  \n",
       " Class :character   1st Qu.:   40000   1st Qu.:  50000   1st Qu.:  20000  \n",
       " Mode  :character   Median :  130000   Median : 100000   Median :  70000  \n",
       "                    Mean   :  597452   Mean   : 271480   Mean   : 228996  \n",
       "                    3rd Qu.:  420000   3rd Qu.: 250000   3rd Qu.: 210000  \n",
       "                    Max.   :55460000   Max.   :9760000   Max.   :9850000  \n",
       "                                       NA's   :3502      NA's   :3878     \n",
       "   JapanSales        OtherSales      ReleaseDate         LastUpdate       \n",
       " Min.   :      0   Min.   :      0   Length:7623        Length:7623       \n",
       " 1st Qu.:  20000   1st Qu.:  10000   Class :character   Class :character  \n",
       " Median :  40000   Median :  20000   Mode  :character   Mode  :character  \n",
       " Mean   :  73537   Mean   :  58706                                        \n",
       " 3rd Qu.:  90000   3rd Qu.:  50000                                        \n",
       " Max.   :1870000   Max.   :3120000                                        \n",
       " NA's   :4694      NA's   :2802                                           \n",
       " VGChartzScore    CriticScore       UserScore     \n",
       " Min.   :2.000   Min.   : 1.000   Min.   : 2.500  \n",
       " 1st Qu.:6.800   1st Qu.: 6.600   1st Qu.: 7.500  \n",
       " Median :7.700   Median : 7.600   Median : 8.500  \n",
       " Mean   :7.451   Mean   : 7.363   Mean   : 8.233  \n",
       " 3rd Qu.:8.500   3rd Qu.: 8.300   3rd Qu.: 9.200  \n",
       " Max.   :9.700   Max.   :10.000   Max.   :10.000  \n",
       " NA's   :6900    NA's   :6118     NA's   :7528    "
      ]
     },
     "metadata": {},
     "output_type": "display_data"
    },
    {
     "data": {
      "text/html": [
       "<style>\n",
       ".list-inline {list-style: none; margin:0; padding: 0}\n",
       ".list-inline>li {display: inline-block}\n",
       ".list-inline>li:not(:last-child)::after {content: \"\\00b7\"; padding: 0 .5ex}\n",
       "</style>\n",
       "<ol class=list-inline><li>'Rank'</li><li>'Title'</li><li>'Console'</li><li>'Publisher'</li><li>'Developer'</li><li>'Genre'</li><li>'ReleaseYear'</li><li>'ReleaseQuarter'</li><li>'ReleaseMonth'</li><li>'ReleaseWeek'</li><li>'ReleaseDay'</li><li>'ReleaseWeekend'</li><li>'EndOfMonth'</li><li>'TotalSales'</li><li>'NASales'</li><li>'PALSales'</li><li>'JapanSales'</li><li>'OtherSales'</li><li>'ReleaseDate'</li><li>'LastUpdate'</li><li>'VGChartzScore'</li><li>'CriticScore'</li><li>'UserScore'</li></ol>\n"
      ],
      "text/latex": [
       "\\begin{enumerate*}\n",
       "\\item 'Rank'\n",
       "\\item 'Title'\n",
       "\\item 'Console'\n",
       "\\item 'Publisher'\n",
       "\\item 'Developer'\n",
       "\\item 'Genre'\n",
       "\\item 'ReleaseYear'\n",
       "\\item 'ReleaseQuarter'\n",
       "\\item 'ReleaseMonth'\n",
       "\\item 'ReleaseWeek'\n",
       "\\item 'ReleaseDay'\n",
       "\\item 'ReleaseWeekend'\n",
       "\\item 'EndOfMonth'\n",
       "\\item 'TotalSales'\n",
       "\\item 'NASales'\n",
       "\\item 'PALSales'\n",
       "\\item 'JapanSales'\n",
       "\\item 'OtherSales'\n",
       "\\item 'ReleaseDate'\n",
       "\\item 'LastUpdate'\n",
       "\\item 'VGChartzScore'\n",
       "\\item 'CriticScore'\n",
       "\\item 'UserScore'\n",
       "\\end{enumerate*}\n"
      ],
      "text/markdown": [
       "1. 'Rank'\n",
       "2. 'Title'\n",
       "3. 'Console'\n",
       "4. 'Publisher'\n",
       "5. 'Developer'\n",
       "6. 'Genre'\n",
       "7. 'ReleaseYear'\n",
       "8. 'ReleaseQuarter'\n",
       "9. 'ReleaseMonth'\n",
       "10. 'ReleaseWeek'\n",
       "11. 'ReleaseDay'\n",
       "12. 'ReleaseWeekend'\n",
       "13. 'EndOfMonth'\n",
       "14. 'TotalSales'\n",
       "15. 'NASales'\n",
       "16. 'PALSales'\n",
       "17. 'JapanSales'\n",
       "18. 'OtherSales'\n",
       "19. 'ReleaseDate'\n",
       "20. 'LastUpdate'\n",
       "21. 'VGChartzScore'\n",
       "22. 'CriticScore'\n",
       "23. 'UserScore'\n",
       "\n",
       "\n"
      ],
      "text/plain": [
       " [1] \"Rank\"           \"Title\"          \"Console\"        \"Publisher\"     \n",
       " [5] \"Developer\"      \"Genre\"          \"ReleaseYear\"    \"ReleaseQuarter\"\n",
       " [9] \"ReleaseMonth\"   \"ReleaseWeek\"    \"ReleaseDay\"     \"ReleaseWeekend\"\n",
       "[13] \"EndOfMonth\"     \"TotalSales\"     \"NASales\"        \"PALSales\"      \n",
       "[17] \"JapanSales\"     \"OtherSales\"     \"ReleaseDate\"    \"LastUpdate\"    \n",
       "[21] \"VGChartzScore\"  \"CriticScore\"    \"UserScore\"     "
      ]
     },
     "metadata": {},
     "output_type": "display_data"
    },
    {
     "data": {
      "text/html": [
       "<table class=\"dataframe\">\n",
       "<caption>A data.frame: 5 × 23</caption>\n",
       "<thead>\n",
       "\t<tr><th></th><th scope=col>Rank</th><th scope=col>Title</th><th scope=col>Console</th><th scope=col>Publisher</th><th scope=col>Developer</th><th scope=col>Genre</th><th scope=col>ReleaseYear</th><th scope=col>ReleaseQuarter</th><th scope=col>ReleaseMonth</th><th scope=col>ReleaseWeek</th><th scope=col>⋯</th><th scope=col>TotalSales</th><th scope=col>NASales</th><th scope=col>PALSales</th><th scope=col>JapanSales</th><th scope=col>OtherSales</th><th scope=col>ReleaseDate</th><th scope=col>LastUpdate</th><th scope=col>VGChartzScore</th><th scope=col>CriticScore</th><th scope=col>UserScore</th></tr>\n",
       "\t<tr><th></th><th scope=col>&lt;int&gt;</th><th scope=col>&lt;chr&gt;</th><th scope=col>&lt;chr&gt;</th><th scope=col>&lt;chr&gt;</th><th scope=col>&lt;chr&gt;</th><th scope=col>&lt;chr&gt;</th><th scope=col>&lt;int&gt;</th><th scope=col>&lt;int&gt;</th><th scope=col>&lt;int&gt;</th><th scope=col>&lt;int&gt;</th><th scope=col>⋯</th><th scope=col>&lt;int&gt;</th><th scope=col>&lt;int&gt;</th><th scope=col>&lt;int&gt;</th><th scope=col>&lt;int&gt;</th><th scope=col>&lt;int&gt;</th><th scope=col>&lt;chr&gt;</th><th scope=col>&lt;chr&gt;</th><th scope=col>&lt;dbl&gt;</th><th scope=col>&lt;dbl&gt;</th><th scope=col>&lt;dbl&gt;</th></tr>\n",
       "</thead>\n",
       "<tbody>\n",
       "\t<tr><th scope=row>1</th><td>2</td><td>Mario Kart 8 Deluxe             </td><td>NS</td><td>Nintendo        </td><td>Nintendo EPD     </td><td>Racing    </td><td>2017</td><td>2</td><td> 4</td><td>17</td><td>⋯</td><td>55460000</td><td>NA</td><td>NA</td><td>NA</td><td>NA</td><td>28/4/2017 </td><td>11/19/2018</td><td> NA</td><td> 9.3</td><td>NA</td></tr>\n",
       "\t<tr><th scope=row>2</th><td>3</td><td>Animal Crossing: New Horizons   </td><td>NS</td><td>Nintendo        </td><td>Nintendo         </td><td>Simulation</td><td>2020</td><td>1</td><td> 3</td><td>12</td><td>⋯</td><td>42790000</td><td>NA</td><td>NA</td><td>NA</td><td>NA</td><td>20/3/2020 </td><td>4/11/2020 </td><td>8.0</td><td>  NA</td><td>NA</td></tr>\n",
       "\t<tr><th scope=row>3</th><td>5</td><td>Counter-Strike: Global Offensive</td><td>PC</td><td>Valve           </td><td>Valve Corporation</td><td>Shooter   </td><td>2012</td><td>3</td><td> 8</td><td>34</td><td>⋯</td><td>40000000</td><td>NA</td><td>NA</td><td>NA</td><td>NA</td><td>21/8/2012 </td><td>3/26/2019 </td><td> NA</td><td>  NA</td><td>NA</td></tr>\n",
       "\t<tr><th scope=row>4</th><td>7</td><td>PLAYERUNKNOWN'S BATTLEGROUNDS   </td><td>PC</td><td>PUBG Corporation</td><td>PUBG Corporation </td><td>Shooter   </td><td>2017</td><td>4</td><td>12</td><td>51</td><td>⋯</td><td>36600000</td><td>NA</td><td>NA</td><td>NA</td><td>NA</td><td>21/12/2017</td><td>4/29/2019 </td><td> NA</td><td>  NA</td><td>NA</td></tr>\n",
       "\t<tr><th scope=row>5</th><td>8</td><td>Minecraft                       </td><td>PC</td><td>Mojang          </td><td>Mojang AB        </td><td>Misc      </td><td>2010</td><td>4</td><td>10</td><td>41</td><td>⋯</td><td>33150000</td><td>NA</td><td>NA</td><td>NA</td><td>NA</td><td>5/10/2010 </td><td>8/5/2018  </td><td>8.8</td><td>10.0</td><td>NA</td></tr>\n",
       "</tbody>\n",
       "</table>\n"
      ],
      "text/latex": [
       "A data.frame: 5 × 23\n",
       "\\begin{tabular}{r|lllllllllllllllllllll}\n",
       "  & Rank & Title & Console & Publisher & Developer & Genre & ReleaseYear & ReleaseQuarter & ReleaseMonth & ReleaseWeek & ⋯ & TotalSales & NASales & PALSales & JapanSales & OtherSales & ReleaseDate & LastUpdate & VGChartzScore & CriticScore & UserScore\\\\\n",
       "  & <int> & <chr> & <chr> & <chr> & <chr> & <chr> & <int> & <int> & <int> & <int> & ⋯ & <int> & <int> & <int> & <int> & <int> & <chr> & <chr> & <dbl> & <dbl> & <dbl>\\\\\n",
       "\\hline\n",
       "\t1 & 2 & Mario Kart 8 Deluxe              & NS & Nintendo         & Nintendo EPD      & Racing     & 2017 & 2 &  4 & 17 & ⋯ & 55460000 & NA & NA & NA & NA & 28/4/2017  & 11/19/2018 &  NA &  9.3 & NA\\\\\n",
       "\t2 & 3 & Animal Crossing: New Horizons    & NS & Nintendo         & Nintendo          & Simulation & 2020 & 1 &  3 & 12 & ⋯ & 42790000 & NA & NA & NA & NA & 20/3/2020  & 4/11/2020  & 8.0 &   NA & NA\\\\\n",
       "\t3 & 5 & Counter-Strike: Global Offensive & PC & Valve            & Valve Corporation & Shooter    & 2012 & 3 &  8 & 34 & ⋯ & 40000000 & NA & NA & NA & NA & 21/8/2012  & 3/26/2019  &  NA &   NA & NA\\\\\n",
       "\t4 & 7 & PLAYERUNKNOWN'S BATTLEGROUNDS    & PC & PUBG Corporation & PUBG Corporation  & Shooter    & 2017 & 4 & 12 & 51 & ⋯ & 36600000 & NA & NA & NA & NA & 21/12/2017 & 4/29/2019  &  NA &   NA & NA\\\\\n",
       "\t5 & 8 & Minecraft                        & PC & Mojang           & Mojang AB         & Misc       & 2010 & 4 & 10 & 41 & ⋯ & 33150000 & NA & NA & NA & NA & 5/10/2010  & 8/5/2018   & 8.8 & 10.0 & NA\\\\\n",
       "\\end{tabular}\n"
      ],
      "text/markdown": [
       "\n",
       "A data.frame: 5 × 23\n",
       "\n",
       "| <!--/--> | Rank &lt;int&gt; | Title &lt;chr&gt; | Console &lt;chr&gt; | Publisher &lt;chr&gt; | Developer &lt;chr&gt; | Genre &lt;chr&gt; | ReleaseYear &lt;int&gt; | ReleaseQuarter &lt;int&gt; | ReleaseMonth &lt;int&gt; | ReleaseWeek &lt;int&gt; | ⋯ ⋯ | TotalSales &lt;int&gt; | NASales &lt;int&gt; | PALSales &lt;int&gt; | JapanSales &lt;int&gt; | OtherSales &lt;int&gt; | ReleaseDate &lt;chr&gt; | LastUpdate &lt;chr&gt; | VGChartzScore &lt;dbl&gt; | CriticScore &lt;dbl&gt; | UserScore &lt;dbl&gt; |\n",
       "|---|---|---|---|---|---|---|---|---|---|---|---|---|---|---|---|---|---|---|---|---|---|\n",
       "| 1 | 2 | Mario Kart 8 Deluxe              | NS | Nintendo         | Nintendo EPD      | Racing     | 2017 | 2 |  4 | 17 | ⋯ | 55460000 | NA | NA | NA | NA | 28/4/2017  | 11/19/2018 |  NA |  9.3 | NA |\n",
       "| 2 | 3 | Animal Crossing: New Horizons    | NS | Nintendo         | Nintendo          | Simulation | 2020 | 1 |  3 | 12 | ⋯ | 42790000 | NA | NA | NA | NA | 20/3/2020  | 4/11/2020  | 8.0 |   NA | NA |\n",
       "| 3 | 5 | Counter-Strike: Global Offensive | PC | Valve            | Valve Corporation | Shooter    | 2012 | 3 |  8 | 34 | ⋯ | 40000000 | NA | NA | NA | NA | 21/8/2012  | 3/26/2019  |  NA |   NA | NA |\n",
       "| 4 | 7 | PLAYERUNKNOWN'S BATTLEGROUNDS    | PC | PUBG Corporation | PUBG Corporation  | Shooter    | 2017 | 4 | 12 | 51 | ⋯ | 36600000 | NA | NA | NA | NA | 21/12/2017 | 4/29/2019  |  NA |   NA | NA |\n",
       "| 5 | 8 | Minecraft                        | PC | Mojang           | Mojang AB         | Misc       | 2010 | 4 | 10 | 41 | ⋯ | 33150000 | NA | NA | NA | NA | 5/10/2010  | 8/5/2018   | 8.8 | 10.0 | NA |\n",
       "\n"
      ],
      "text/plain": [
       "  Rank Title                            Console Publisher       \n",
       "1 2    Mario Kart 8 Deluxe              NS      Nintendo        \n",
       "2 3    Animal Crossing: New Horizons    NS      Nintendo        \n",
       "3 5    Counter-Strike: Global Offensive PC      Valve           \n",
       "4 7    PLAYERUNKNOWN'S BATTLEGROUNDS    PC      PUBG Corporation\n",
       "5 8    Minecraft                        PC      Mojang          \n",
       "  Developer         Genre      ReleaseYear ReleaseQuarter ReleaseMonth\n",
       "1 Nintendo EPD      Racing     2017        2               4          \n",
       "2 Nintendo          Simulation 2020        1               3          \n",
       "3 Valve Corporation Shooter    2012        3               8          \n",
       "4 PUBG Corporation  Shooter    2017        4              12          \n",
       "5 Mojang AB         Misc       2010        4              10          \n",
       "  ReleaseWeek ⋯ TotalSales NASales PALSales JapanSales OtherSales ReleaseDate\n",
       "1 17          ⋯ 55460000   NA      NA       NA         NA         28/4/2017  \n",
       "2 12          ⋯ 42790000   NA      NA       NA         NA         20/3/2020  \n",
       "3 34          ⋯ 40000000   NA      NA       NA         NA         21/8/2012  \n",
       "4 51          ⋯ 36600000   NA      NA       NA         NA         21/12/2017 \n",
       "5 41          ⋯ 33150000   NA      NA       NA         NA         5/10/2010  \n",
       "  LastUpdate VGChartzScore CriticScore UserScore\n",
       "1 11/19/2018  NA            9.3        NA       \n",
       "2 4/11/2020  8.0             NA        NA       \n",
       "3 3/26/2019   NA             NA        NA       \n",
       "4 4/29/2019   NA             NA        NA       \n",
       "5 8/5/2018   8.8           10.0        NA       "
      ]
     },
     "metadata": {},
     "output_type": "display_data"
    }
   ],
   "source": [
    "# Check the data\n",
    "str(data)\n",
    "summary(data)\n",
    "names(data)\n",
    "head(data, 5)"
   ]
  },
  {
   "cell_type": "code",
   "execution_count": 5,
   "metadata": {
    "vscode": {
     "languageId": "r"
    }
   },
   "outputs": [],
   "source": [
    "########################################################\n",
    "# data type\n",
    "# set the variables to factors (categorical data)\n",
    "data <- data %>%\n",
    "  mutate(\n",
    "    Console = as.factor(Console),\n",
    "    Publisher = as.factor(Publisher),\n",
    "    Developer = as.factor(Developer),\n",
    "    Genre = as.factor(Genre),\n",
    "    ReleaseWeekend = as.factor(ReleaseWeekend),\n",
    "    EndOfMonth = as.factor(EndOfMonth),\n",
    "    TotalSales = as.numeric(TotalSales)\n",
    "  )\n",
    "\n",
    "data ['NASales'] = NULL\n",
    "data ['PALSales'] = NULL\n",
    "data ['JapanSales'] = NULL\n",
    "data ['OtherSales'] = NULL\n",
    "data ['ReleaseDate'] = NULL\n",
    "data ['LastUpdate'] = NULL\n",
    "data ['VGChartzScore'] = NULL\n",
    "data ['CriticScore'] = NULL\n",
    "data ['UserScore'] = NULL"
   ]
  },
  {
   "cell_type": "code",
   "execution_count": 6,
   "metadata": {
    "vscode": {
     "languageId": "r"
    }
   },
   "outputs": [],
   "source": [
    "########################################################\n",
    "# Calculate YearsSinceRelease\n",
    "data$YearsSinceRelease <- 2023 - data$ReleaseYear"
   ]
  },
  {
   "cell_type": "code",
   "execution_count": 68,
   "metadata": {
    "vscode": {
     "languageId": "r"
    }
   },
   "outputs": [
    {
     "data": {
      "text/html": [
       "<table class=\"dataframe\">\n",
       "<caption>A data.frame: 5 × 15</caption>\n",
       "<thead>\n",
       "\t<tr><th></th><th scope=col>Rank</th><th scope=col>Title</th><th scope=col>Console</th><th scope=col>Publisher</th><th scope=col>Developer</th><th scope=col>Genre</th><th scope=col>ReleaseYear</th><th scope=col>ReleaseQuarter</th><th scope=col>ReleaseMonth</th><th scope=col>ReleaseWeek</th><th scope=col>ReleaseDay</th><th scope=col>ReleaseWeekend</th><th scope=col>EndOfMonth</th><th scope=col>TotalSales</th><th scope=col>YearsSinceRelease</th></tr>\n",
       "\t<tr><th></th><th scope=col>&lt;int&gt;</th><th scope=col>&lt;chr&gt;</th><th scope=col>&lt;fct&gt;</th><th scope=col>&lt;fct&gt;</th><th scope=col>&lt;fct&gt;</th><th scope=col>&lt;fct&gt;</th><th scope=col>&lt;int&gt;</th><th scope=col>&lt;int&gt;</th><th scope=col>&lt;int&gt;</th><th scope=col>&lt;int&gt;</th><th scope=col>&lt;int&gt;</th><th scope=col>&lt;fct&gt;</th><th scope=col>&lt;fct&gt;</th><th scope=col>&lt;dbl&gt;</th><th scope=col>&lt;dbl&gt;</th></tr>\n",
       "</thead>\n",
       "<tbody>\n",
       "\t<tr><th scope=row>1</th><td>2</td><td>Mario Kart 8 Deluxe             </td><td>NS</td><td>Nintendo        </td><td>Nintendo EPD     </td><td>Racing    </td><td>2017</td><td>2</td><td> 4</td><td>17</td><td>6</td><td>Weekend</td><td>End of month      </td><td>55460000</td><td> 6</td></tr>\n",
       "\t<tr><th scope=row>2</th><td>3</td><td>Animal Crossing: New Horizons   </td><td>NS</td><td>Nintendo        </td><td>Nintendo         </td><td>Simulation</td><td>2020</td><td>1</td><td> 3</td><td>12</td><td>6</td><td>Weekend</td><td>End of month      </td><td>42790000</td><td> 3</td></tr>\n",
       "\t<tr><th scope=row>3</th><td>5</td><td>Counter-Strike: Global Offensive</td><td>PC</td><td>Valve           </td><td>Valve Corporation</td><td>Shooter   </td><td>2012</td><td>3</td><td> 8</td><td>34</td><td>3</td><td>Weekday</td><td>End of month      </td><td>40000000</td><td>11</td></tr>\n",
       "\t<tr><th scope=row>4</th><td>7</td><td>PLAYERUNKNOWN'S BATTLEGROUNDS   </td><td>PC</td><td>PUBG Corporation</td><td>PUBG Corporation </td><td>Shooter   </td><td>2017</td><td>4</td><td>12</td><td>51</td><td>5</td><td>Weekday</td><td>End of month      </td><td>36600000</td><td> 6</td></tr>\n",
       "\t<tr><th scope=row>5</th><td>8</td><td>Minecraft                       </td><td>PC</td><td>Mojang          </td><td>Mojang AB        </td><td>Misc      </td><td>2010</td><td>4</td><td>10</td><td>41</td><td>3</td><td>Weekday</td><td>Beginning of month</td><td>33150000</td><td>13</td></tr>\n",
       "</tbody>\n",
       "</table>\n"
      ],
      "text/latex": [
       "A data.frame: 5 × 15\n",
       "\\begin{tabular}{r|lllllllllllllll}\n",
       "  & Rank & Title & Console & Publisher & Developer & Genre & ReleaseYear & ReleaseQuarter & ReleaseMonth & ReleaseWeek & ReleaseDay & ReleaseWeekend & EndOfMonth & TotalSales & YearsSinceRelease\\\\\n",
       "  & <int> & <chr> & <fct> & <fct> & <fct> & <fct> & <int> & <int> & <int> & <int> & <int> & <fct> & <fct> & <dbl> & <dbl>\\\\\n",
       "\\hline\n",
       "\t1 & 2 & Mario Kart 8 Deluxe              & NS & Nintendo         & Nintendo EPD      & Racing     & 2017 & 2 &  4 & 17 & 6 & Weekend & End of month       & 55460000 &  6\\\\\n",
       "\t2 & 3 & Animal Crossing: New Horizons    & NS & Nintendo         & Nintendo          & Simulation & 2020 & 1 &  3 & 12 & 6 & Weekend & End of month       & 42790000 &  3\\\\\n",
       "\t3 & 5 & Counter-Strike: Global Offensive & PC & Valve            & Valve Corporation & Shooter    & 2012 & 3 &  8 & 34 & 3 & Weekday & End of month       & 40000000 & 11\\\\\n",
       "\t4 & 7 & PLAYERUNKNOWN'S BATTLEGROUNDS    & PC & PUBG Corporation & PUBG Corporation  & Shooter    & 2017 & 4 & 12 & 51 & 5 & Weekday & End of month       & 36600000 &  6\\\\\n",
       "\t5 & 8 & Minecraft                        & PC & Mojang           & Mojang AB         & Misc       & 2010 & 4 & 10 & 41 & 3 & Weekday & Beginning of month & 33150000 & 13\\\\\n",
       "\\end{tabular}\n"
      ],
      "text/markdown": [
       "\n",
       "A data.frame: 5 × 15\n",
       "\n",
       "| <!--/--> | Rank &lt;int&gt; | Title &lt;chr&gt; | Console &lt;fct&gt; | Publisher &lt;fct&gt; | Developer &lt;fct&gt; | Genre &lt;fct&gt; | ReleaseYear &lt;int&gt; | ReleaseQuarter &lt;int&gt; | ReleaseMonth &lt;int&gt; | ReleaseWeek &lt;int&gt; | ReleaseDay &lt;int&gt; | ReleaseWeekend &lt;fct&gt; | EndOfMonth &lt;fct&gt; | TotalSales &lt;dbl&gt; | YearsSinceRelease &lt;dbl&gt; |\n",
       "|---|---|---|---|---|---|---|---|---|---|---|---|---|---|---|---|\n",
       "| 1 | 2 | Mario Kart 8 Deluxe              | NS | Nintendo         | Nintendo EPD      | Racing     | 2017 | 2 |  4 | 17 | 6 | Weekend | End of month       | 55460000 |  6 |\n",
       "| 2 | 3 | Animal Crossing: New Horizons    | NS | Nintendo         | Nintendo          | Simulation | 2020 | 1 |  3 | 12 | 6 | Weekend | End of month       | 42790000 |  3 |\n",
       "| 3 | 5 | Counter-Strike: Global Offensive | PC | Valve            | Valve Corporation | Shooter    | 2012 | 3 |  8 | 34 | 3 | Weekday | End of month       | 40000000 | 11 |\n",
       "| 4 | 7 | PLAYERUNKNOWN'S BATTLEGROUNDS    | PC | PUBG Corporation | PUBG Corporation  | Shooter    | 2017 | 4 | 12 | 51 | 5 | Weekday | End of month       | 36600000 |  6 |\n",
       "| 5 | 8 | Minecraft                        | PC | Mojang           | Mojang AB         | Misc       | 2010 | 4 | 10 | 41 | 3 | Weekday | Beginning of month | 33150000 | 13 |\n",
       "\n"
      ],
      "text/plain": [
       "  Rank Title                            Console Publisher       \n",
       "1 2    Mario Kart 8 Deluxe              NS      Nintendo        \n",
       "2 3    Animal Crossing: New Horizons    NS      Nintendo        \n",
       "3 5    Counter-Strike: Global Offensive PC      Valve           \n",
       "4 7    PLAYERUNKNOWN'S BATTLEGROUNDS    PC      PUBG Corporation\n",
       "5 8    Minecraft                        PC      Mojang          \n",
       "  Developer         Genre      ReleaseYear ReleaseQuarter ReleaseMonth\n",
       "1 Nintendo EPD      Racing     2017        2               4          \n",
       "2 Nintendo          Simulation 2020        1               3          \n",
       "3 Valve Corporation Shooter    2012        3               8          \n",
       "4 PUBG Corporation  Shooter    2017        4              12          \n",
       "5 Mojang AB         Misc       2010        4              10          \n",
       "  ReleaseWeek ReleaseDay ReleaseWeekend EndOfMonth         TotalSales\n",
       "1 17          6          Weekend        End of month       55460000  \n",
       "2 12          6          Weekend        End of month       42790000  \n",
       "3 34          3          Weekday        End of month       40000000  \n",
       "4 51          5          Weekday        End of month       36600000  \n",
       "5 41          3          Weekday        Beginning of month 33150000  \n",
       "  YearsSinceRelease\n",
       "1  6               \n",
       "2  3               \n",
       "3 11               \n",
       "4  6               \n",
       "5 13               "
      ]
     },
     "metadata": {},
     "output_type": "display_data"
    }
   ],
   "source": [
    "head(data,5)"
   ]
  },
  {
   "cell_type": "code",
   "execution_count": 7,
   "metadata": {
    "vscode": {
     "languageId": "r"
    }
   },
   "outputs": [
    {
     "data": {
      "text/html": [
       "<style>\n",
       ".dl-inline {width: auto; margin:0; padding: 0}\n",
       ".dl-inline>dt, .dl-inline>dd {float: none; width: auto; display: inline-block}\n",
       ".dl-inline>dt::after {content: \":\\0020\"; padding-right: .5ex}\n",
       ".dl-inline>dt:not(:first-of-type) {padding-left: .5ex}\n",
       "</style><dl class=dl-inline><dt>Rank</dt><dd>7623</dd><dt>Title</dt><dd>4930</dd><dt>Console</dt><dd>21</dd><dt>Publisher</dt><dd>713</dd><dt>Developer</dt><dd>1564</dd><dt>Genre</dt><dd>13</dd><dt>ReleaseYear</dt><dd>14</dd><dt>ReleaseQuarter</dt><dd>4</dd><dt>ReleaseMonth</dt><dd>12</dd><dt>ReleaseWeek</dt><dd>53</dd><dt>ReleaseDay</dt><dd>7</dd><dt>ReleaseWeekend</dt><dd>2</dd><dt>EndOfMonth</dt><dd>2</dd><dt>TotalSales</dt><dd>500</dd><dt>YearsSinceRelease</dt><dd>14</dd></dl>\n"
      ],
      "text/latex": [
       "\\begin{description*}\n",
       "\\item[Rank] 7623\n",
       "\\item[Title] 4930\n",
       "\\item[Console] 21\n",
       "\\item[Publisher] 713\n",
       "\\item[Developer] 1564\n",
       "\\item[Genre] 13\n",
       "\\item[ReleaseYear] 14\n",
       "\\item[ReleaseQuarter] 4\n",
       "\\item[ReleaseMonth] 12\n",
       "\\item[ReleaseWeek] 53\n",
       "\\item[ReleaseDay] 7\n",
       "\\item[ReleaseWeekend] 2\n",
       "\\item[EndOfMonth] 2\n",
       "\\item[TotalSales] 500\n",
       "\\item[YearsSinceRelease] 14\n",
       "\\end{description*}\n"
      ],
      "text/markdown": [
       "Rank\n",
       ":   7623Title\n",
       ":   4930Console\n",
       ":   21Publisher\n",
       ":   713Developer\n",
       ":   1564Genre\n",
       ":   13ReleaseYear\n",
       ":   14ReleaseQuarter\n",
       ":   4ReleaseMonth\n",
       ":   12ReleaseWeek\n",
       ":   53ReleaseDay\n",
       ":   7ReleaseWeekend\n",
       ":   2EndOfMonth\n",
       ":   2TotalSales\n",
       ":   500YearsSinceRelease\n",
       ":   14\n",
       "\n"
      ],
      "text/plain": [
       "             Rank             Title           Console         Publisher \n",
       "             7623              4930                21               713 \n",
       "        Developer             Genre       ReleaseYear    ReleaseQuarter \n",
       "             1564                13                14                 4 \n",
       "     ReleaseMonth       ReleaseWeek        ReleaseDay    ReleaseWeekend \n",
       "               12                53                 7                 2 \n",
       "       EndOfMonth        TotalSales YearsSinceRelease \n",
       "                2               500                14 "
      ]
     },
     "metadata": {},
     "output_type": "display_data"
    }
   ],
   "source": [
    "########################################################\n",
    "# Check the number of distinct values for the variables\n",
    "\n",
    "sapply(data, function(x) n_distinct(x))\n",
    "\n",
    "# Noticed too many publishers (total 713 publishers) & developers (total 1564 developers)"
   ]
  },
  {
   "cell_type": "markdown",
   "metadata": {},
   "source": [
    "Data Cleaning"
   ]
  },
  {
   "cell_type": "code",
   "execution_count": 70,
   "metadata": {
    "vscode": {
     "languageId": "r"
    }
   },
   "outputs": [
    {
     "data": {
      "image/png": "[encoded data removed]",
      "text/plain": [
       "plot without title"
      ]
     },
     "metadata": {
      "image/png": {
       "height": 420,
       "width": 420
      }
     },
     "output_type": "display_data"
    }
   ],
   "source": [
    "########################################################\n",
    "# EDA - explore the dataset\n",
    "\n",
    "# Calculate average sales and count of games released by year\n",
    "summary_data <- data %>%\n",
    "  group_by(ReleaseYear) %>%\n",
    "  summarise(AvgSales = mean(TotalSales), Count = n())\n",
    "\n",
    "# Define a scaling factor to make the Count values visible\n",
    "count_scaling_factor <- max(summary_data$AvgSales) / max(summary_data$Count)\n",
    "\n",
    "# Create a line graph\n",
    "ggplot(summary_data, aes(x = ReleaseYear)) +\n",
    "  geom_line(aes(y = AvgSales, color = \"Average Sales\"), size = 1) +\n",
    "  geom_line(aes(y = Count * count_scaling_factor, color = \"Count\"), size = 1) +\n",
    "  scale_color_manual(values = c(\"Average Sales\" = \"blue\", \"Count\" = \"orange\")) +\n",
    "  labs(title = \"Average Sales and Game Count by Release Year\",\n",
    "       y = \"Average Sales\",\n",
    "       color = \"Metric\") +\n",
    "  theme_minimal() +\n",
    "  scale_y_continuous(\n",
    "    sec.axis = sec_axis(~./count_scaling_factor, name = \"Count\")\n",
    "  ) +\n",
    "  scale_x_continuous(breaks = unique(summary_data$ReleaseYear))"
   ]
  },
  {
   "cell_type": "code",
   "execution_count": 71,
   "metadata": {
    "vscode": {
     "languageId": "r"
    }
   },
   "outputs": [
    {
     "data": {
      "text/html": [
       "<table class=\"dataframe\">\n",
       "<caption>A tibble: 14 × 3</caption>\n",
       "<thead>\n",
       "\t<tr><th scope=col>ReleaseYear</th><th scope=col>AvgSales</th><th scope=col>Count</th></tr>\n",
       "\t<tr><th scope=col>&lt;int&gt;</th><th scope=col>&lt;dbl&gt;</th><th scope=col>&lt;int&gt;</th></tr>\n",
       "</thead>\n",
       "<tbody>\n",
       "\t<tr><td>2010</td><td> 469174.4</td><td>1393</td></tr>\n",
       "\t<tr><td>2011</td><td> 503859.4</td><td>1280</td></tr>\n",
       "\t<tr><td>2012</td><td> 639492.5</td><td> 670</td></tr>\n",
       "\t<tr><td>2013</td><td> 790377.4</td><td> 583</td></tr>\n",
       "\t<tr><td>2014</td><td> 628039.8</td><td> 704</td></tr>\n",
       "\t<tr><td>2015</td><td> 550807.4</td><td> 706</td></tr>\n",
       "\t<tr><td>2016</td><td> 501132.1</td><td> 742</td></tr>\n",
       "\t<tr><td>2017</td><td> 594730.5</td><td> 742</td></tr>\n",
       "\t<tr><td>2018</td><td> 478072.1</td><td> 638</td></tr>\n",
       "\t<tr><td>2019</td><td>1845468.8</td><td>  64</td></tr>\n",
       "\t<tr><td>2020</td><td>2325283.0</td><td>  53</td></tr>\n",
       "\t<tr><td>2021</td><td>3206190.5</td><td>  21</td></tr>\n",
       "\t<tr><td>2022</td><td>4442222.2</td><td>  18</td></tr>\n",
       "\t<tr><td>2023</td><td>3204444.4</td><td>   9</td></tr>\n",
       "</tbody>\n",
       "</table>\n"
      ],
      "text/latex": [
       "A tibble: 14 × 3\n",
       "\\begin{tabular}{lll}\n",
       " ReleaseYear & AvgSales & Count\\\\\n",
       " <int> & <dbl> & <int>\\\\\n",
       "\\hline\n",
       "\t 2010 &  469174.4 & 1393\\\\\n",
       "\t 2011 &  503859.4 & 1280\\\\\n",
       "\t 2012 &  639492.5 &  670\\\\\n",
       "\t 2013 &  790377.4 &  583\\\\\n",
       "\t 2014 &  628039.8 &  704\\\\\n",
       "\t 2015 &  550807.4 &  706\\\\\n",
       "\t 2016 &  501132.1 &  742\\\\\n",
       "\t 2017 &  594730.5 &  742\\\\\n",
       "\t 2018 &  478072.1 &  638\\\\\n",
       "\t 2019 & 1845468.8 &   64\\\\\n",
       "\t 2020 & 2325283.0 &   53\\\\\n",
       "\t 2021 & 3206190.5 &   21\\\\\n",
       "\t 2022 & 4442222.2 &   18\\\\\n",
       "\t 2023 & 3204444.4 &    9\\\\\n",
       "\\end{tabular}\n"
      ],
      "text/markdown": [
       "\n",
       "A tibble: 14 × 3\n",
       "\n",
       "| ReleaseYear &lt;int&gt; | AvgSales &lt;dbl&gt; | Count &lt;int&gt; |\n",
       "|---|---|---|\n",
       "| 2010 |  469174.4 | 1393 |\n",
       "| 2011 |  503859.4 | 1280 |\n",
       "| 2012 |  639492.5 |  670 |\n",
       "| 2013 |  790377.4 |  583 |\n",
       "| 2014 |  628039.8 |  704 |\n",
       "| 2015 |  550807.4 |  706 |\n",
       "| 2016 |  501132.1 |  742 |\n",
       "| 2017 |  594730.5 |  742 |\n",
       "| 2018 |  478072.1 |  638 |\n",
       "| 2019 | 1845468.8 |   64 |\n",
       "| 2020 | 2325283.0 |   53 |\n",
       "| 2021 | 3206190.5 |   21 |\n",
       "| 2022 | 4442222.2 |   18 |\n",
       "| 2023 | 3204444.4 |    9 |\n",
       "\n"
      ],
      "text/plain": [
       "   ReleaseYear AvgSales  Count\n",
       "1  2010         469174.4 1393 \n",
       "2  2011         503859.4 1280 \n",
       "3  2012         639492.5  670 \n",
       "4  2013         790377.4  583 \n",
       "5  2014         628039.8  704 \n",
       "6  2015         550807.4  706 \n",
       "7  2016         501132.1  742 \n",
       "8  2017         594730.5  742 \n",
       "9  2018         478072.1  638 \n",
       "10 2019        1845468.8   64 \n",
       "11 2020        2325283.0   53 \n",
       "12 2021        3206190.5   21 \n",
       "13 2022        4442222.2   18 \n",
       "14 2023        3204444.4    9 "
      ]
     },
     "metadata": {},
     "output_type": "display_data"
    }
   ],
   "source": [
    "summary_data"
   ]
  },
  {
   "cell_type": "code",
   "execution_count": 8,
   "metadata": {
    "vscode": {
     "languageId": "r"
    }
   },
   "outputs": [],
   "source": [
    "# Drop data from 2019 onwards to eliminate covid impact\n",
    "\n",
    "data <- data %>%\n",
    "  filter(ReleaseYear < 2019)"
   ]
  },
  {
   "cell_type": "code",
   "execution_count": 9,
   "metadata": {
    "vscode": {
     "languageId": "r"
    }
   },
   "outputs": [
    {
     "data": {
      "text/html": [
       "<style>\n",
       ".dl-inline {width: auto; margin:0; padding: 0}\n",
       ".dl-inline>dt, .dl-inline>dd {float: none; width: auto; display: inline-block}\n",
       ".dl-inline>dt::after {content: \":\\0020\"; padding-right: .5ex}\n",
       ".dl-inline>dt:not(:first-of-type) {padding-left: .5ex}\n",
       "</style><dl class=dl-inline><dt>Rank</dt><dd>7458</dd><dt>Title</dt><dd>4789</dd><dt>Console</dt><dd>18</dd><dt>Publisher</dt><dd>693</dd><dt>Developer</dt><dd>1537</dd><dt>Genre</dt><dd>13</dd><dt>ReleaseYear</dt><dd>9</dd><dt>ReleaseQuarter</dt><dd>4</dd><dt>ReleaseMonth</dt><dd>12</dd><dt>ReleaseWeek</dt><dd>53</dd><dt>ReleaseDay</dt><dd>7</dd><dt>ReleaseWeekend</dt><dd>2</dd><dt>EndOfMonth</dt><dd>2</dd><dt>TotalSales</dt><dd>475</dd><dt>YearsSinceRelease</dt><dd>9</dd></dl>\n"
      ],
      "text/latex": [
       "\\begin{description*}\n",
       "\\item[Rank] 7458\n",
       "\\item[Title] 4789\n",
       "\\item[Console] 18\n",
       "\\item[Publisher] 693\n",
       "\\item[Developer] 1537\n",
       "\\item[Genre] 13\n",
       "\\item[ReleaseYear] 9\n",
       "\\item[ReleaseQuarter] 4\n",
       "\\item[ReleaseMonth] 12\n",
       "\\item[ReleaseWeek] 53\n",
       "\\item[ReleaseDay] 7\n",
       "\\item[ReleaseWeekend] 2\n",
       "\\item[EndOfMonth] 2\n",
       "\\item[TotalSales] 475\n",
       "\\item[YearsSinceRelease] 9\n",
       "\\end{description*}\n"
      ],
      "text/markdown": [
       "Rank\n",
       ":   7458Title\n",
       ":   4789Console\n",
       ":   18Publisher\n",
       ":   693Developer\n",
       ":   1537Genre\n",
       ":   13ReleaseYear\n",
       ":   9ReleaseQuarter\n",
       ":   4ReleaseMonth\n",
       ":   12ReleaseWeek\n",
       ":   53ReleaseDay\n",
       ":   7ReleaseWeekend\n",
       ":   2EndOfMonth\n",
       ":   2TotalSales\n",
       ":   475YearsSinceRelease\n",
       ":   9\n",
       "\n"
      ],
      "text/plain": [
       "             Rank             Title           Console         Publisher \n",
       "             7458              4789                18               693 \n",
       "        Developer             Genre       ReleaseYear    ReleaseQuarter \n",
       "             1537                13                 9                 4 \n",
       "     ReleaseMonth       ReleaseWeek        ReleaseDay    ReleaseWeekend \n",
       "               12                53                 7                 2 \n",
       "       EndOfMonth        TotalSales YearsSinceRelease \n",
       "                2               475                 9 "
      ]
     },
     "metadata": {},
     "output_type": "display_data"
    }
   ],
   "source": [
    "########################################################\n",
    "# Check the number of distinct values for the variables\n",
    "\n",
    "sapply(data, function(x) n_distinct(x))"
   ]
  },
  {
   "cell_type": "markdown",
   "metadata": {},
   "source": [
    "Handle Outliers, Transform Y to be normally distributed"
   ]
  },
  {
   "cell_type": "code",
   "execution_count": 186,
   "metadata": {
    "vscode": {
     "languageId": "r"
    }
   },
   "outputs": [
    {
     "name": "stderr",
     "output_type": "stream",
     "text": [
      "Warning message:\n",
      "\"\u001b[1m\u001b[22mUse of `data$TotalSales` is discouraged.\n",
      "\u001b[36mℹ\u001b[39m Use `TotalSales` instead.\"\n",
      "\u001b[1m\u001b[22m`stat_bin()` using `bins = 30`. Pick better value with `binwidth`.\n"
     ]
    },
    {
     "data": {
      "image/png": "[encoded data removed]",
      "text/plain": [
       "plot without title"
      ]
     },
     "metadata": {
      "image/png": {
       "height": 420,
       "width": 420
      }
     },
     "output_type": "display_data"
    }
   ],
   "source": [
    "########################################################\n",
    "# Check the distribution of dependent variable (TotalSales)\n",
    "\n",
    "# Create a histogram using ggplot\n",
    "ggplot(data, aes(x = data$TotalSales)) +\n",
    "  geom_histogram(fill = \"blue\", color = \"black\", alpha = 0.7) +\n",
    "  labs(\n",
    "    title = \"Distribution of Total Sales\",\n",
    "    x = \"Total Sales\",\n",
    "    y = \"Frequency\"\n",
    "  )"
   ]
  },
  {
   "cell_type": "code",
   "execution_count": 10,
   "metadata": {
    "vscode": {
     "languageId": "r"
    }
   },
   "outputs": [
    {
     "name": "stdout",
     "output_type": "stream",
     "text": [
      "Number of outliers removed: 925 \n"
     ]
    }
   ],
   "source": [
    "# Remove outliers\n",
    "\n",
    "# Calculate the IQR for Total Sales\n",
    "Q1 <- quantile(data$TotalSales, 0.25)\n",
    "Q3 <- quantile(data$TotalSales, 0.75)\n",
    "IQR_value <- Q3 - Q1\n",
    "\n",
    "# Define the lower and upper bounds for identifying outliers\n",
    "lower_bound <- Q1 - 1.5 * IQR_value\n",
    "upper_bound <- Q3 + 1.5 * IQR_value\n",
    "\n",
    "# Identify outliers\n",
    "outliers <- data$TotalSales[data$TotalSales < lower_bound | data$TotalSales > upper_bound]\n",
    "\n",
    "# Display the number of outliers removed\n",
    "cat(\"Number of outliers removed:\", length(outliers), \"\\n\")"
   ]
  },
  {
   "cell_type": "code",
   "execution_count": 11,
   "metadata": {
    "vscode": {
     "languageId": "r"
    }
   },
   "outputs": [],
   "source": [
    "data = data[!(data$TotalSales < lower_bound | data$TotalSales > upper_bound), ]"
   ]
  },
  {
   "cell_type": "code",
   "execution_count": 12,
   "metadata": {
    "vscode": {
     "languageId": "r"
    }
   },
   "outputs": [
    {
     "data": {
      "text/html": [
       "<style>\n",
       ".dl-inline {width: auto; margin:0; padding: 0}\n",
       ".dl-inline>dt, .dl-inline>dd {float: none; width: auto; display: inline-block}\n",
       ".dl-inline>dt::after {content: \":\\0020\"; padding-right: .5ex}\n",
       ".dl-inline>dt:not(:first-of-type) {padding-left: .5ex}\n",
       "</style><dl class=dl-inline><dt>Rank</dt><dd>6533</dd><dt>Title</dt><dd>4437</dd><dt>Console</dt><dd>17</dd><dt>Publisher</dt><dd>660</dd><dt>Developer</dt><dd>1465</dd><dt>Genre</dt><dd>13</dd><dt>ReleaseYear</dt><dd>9</dd><dt>ReleaseQuarter</dt><dd>4</dd><dt>ReleaseMonth</dt><dd>12</dd><dt>ReleaseWeek</dt><dd>53</dd><dt>ReleaseDay</dt><dd>7</dd><dt>ReleaseWeekend</dt><dd>2</dd><dt>EndOfMonth</dt><dd>2</dd><dt>TotalSales</dt><dd>94</dd><dt>YearsSinceRelease</dt><dd>9</dd></dl>\n"
      ],
      "text/latex": [
       "\\begin{description*}\n",
       "\\item[Rank] 6533\n",
       "\\item[Title] 4437\n",
       "\\item[Console] 17\n",
       "\\item[Publisher] 660\n",
       "\\item[Developer] 1465\n",
       "\\item[Genre] 13\n",
       "\\item[ReleaseYear] 9\n",
       "\\item[ReleaseQuarter] 4\n",
       "\\item[ReleaseMonth] 12\n",
       "\\item[ReleaseWeek] 53\n",
       "\\item[ReleaseDay] 7\n",
       "\\item[ReleaseWeekend] 2\n",
       "\\item[EndOfMonth] 2\n",
       "\\item[TotalSales] 94\n",
       "\\item[YearsSinceRelease] 9\n",
       "\\end{description*}\n"
      ],
      "text/markdown": [
       "Rank\n",
       ":   6533Title\n",
       ":   4437Console\n",
       ":   17Publisher\n",
       ":   660Developer\n",
       ":   1465Genre\n",
       ":   13ReleaseYear\n",
       ":   9ReleaseQuarter\n",
       ":   4ReleaseMonth\n",
       ":   12ReleaseWeek\n",
       ":   53ReleaseDay\n",
       ":   7ReleaseWeekend\n",
       ":   2EndOfMonth\n",
       ":   2TotalSales\n",
       ":   94YearsSinceRelease\n",
       ":   9\n",
       "\n"
      ],
      "text/plain": [
       "             Rank             Title           Console         Publisher \n",
       "             6533              4437                17               660 \n",
       "        Developer             Genre       ReleaseYear    ReleaseQuarter \n",
       "             1465                13                 9                 4 \n",
       "     ReleaseMonth       ReleaseWeek        ReleaseDay    ReleaseWeekend \n",
       "               12                53                 7                 2 \n",
       "       EndOfMonth        TotalSales YearsSinceRelease \n",
       "                2                94                 9 "
      ]
     },
     "metadata": {},
     "output_type": "display_data"
    }
   ],
   "source": [
    "########################################################\n",
    "# Check the number of distinct values for the variables\n",
    "\n",
    "sapply(data, function(x) n_distinct(x))"
   ]
  },
  {
   "cell_type": "code",
   "execution_count": 78,
   "metadata": {
    "vscode": {
     "languageId": "r"
    }
   },
   "outputs": [
    {
     "name": "stderr",
     "output_type": "stream",
     "text": [
      "\u001b[1m\u001b[22m`stat_bin()` using `bins = 30`. Pick better value with `binwidth`.\n"
     ]
    },
    {
     "data": {
      "image/png": "[encoded data removed]",
      "text/plain": [
       "plot without title"
      ]
     },
     "metadata": {
      "image/png": {
       "height": 420,
       "width": 420
      }
     },
     "output_type": "display_data"
    }
   ],
   "source": [
    "# Create a histogram using ggplot\n",
    "ggplot(data, aes(x = data$TotalSales)) +\n",
    "  geom_histogram(fill = \"blue\", color = \"black\", alpha = 0.7) +\n",
    "  labs(\n",
    "    title = \"Distribution of Total Sales\",\n",
    "    x = \"Total Sales\",\n",
    "    y = \"Frequency\"\n",
    "  )"
   ]
  },
  {
   "cell_type": "code",
   "execution_count": 13,
   "metadata": {
    "vscode": {
     "languageId": "r"
    }
   },
   "outputs": [],
   "source": [
    "# Right-skewed: transform 'TotalSales' using log\n",
    "data$log_transformed_total_sales <- log(data$TotalSales)\n",
    "\n",
    "# Filter out infinite and missing values from the log-transformed variable\n",
    "data <- data[is.finite(data$log_transformed_total_sales), ]"
   ]
  },
  {
   "cell_type": "code",
   "execution_count": 14,
   "metadata": {
    "vscode": {
     "languageId": "r"
    }
   },
   "outputs": [
    {
     "name": "stdout",
     "output_type": "stream",
     "text": [
      "Number of NA values in log_transformed_total_sales: 0 \n",
      "Number of NaN values in log_transformed_total_sales: 0 \n",
      "Number of Inf values in log_transformed_total_sales: 0 \n"
     ]
    }
   ],
   "source": [
    "# Check for NA values in the log_transformed_total_sales column\n",
    "na_count <- sum(is.na(data$log_transformed_total_sales))\n",
    "\n",
    "# Check for NaN values in the log_transformed_total_sales column\n",
    "nan_count <- sum(is.nan(data$log_transformed_total_sales))\n",
    "\n",
    "# Check for Inf values in the log_transformed_total_sales column\n",
    "inf_count <- sum(is.infinite(data$log_transformed_total_sales))\n",
    "\n",
    "# Print the results\n",
    "cat(\"Number of NA values in log_transformed_total_sales:\", na_count, \"\\n\")\n",
    "cat(\"Number of NaN values in log_transformed_total_sales:\", nan_count, \"\\n\")\n",
    "cat(\"Number of Inf values in log_transformed_total_sales:\", inf_count, \"\\n\")"
   ]
  },
  {
   "cell_type": "code",
   "execution_count": 81,
   "metadata": {
    "vscode": {
     "languageId": "r"
    }
   },
   "outputs": [
    {
     "data": {
      "image/png": "[encoded data removed]",
      "text/plain": [
       "Plot with title \"Histogram of log_transformed_total_sales\""
      ]
     },
     "metadata": {
      "image/png": {
       "height": 420,
       "width": 420
      }
     },
     "output_type": "display_data"
    },
    {
     "data": {
      "image/png": "[encoded data removed]",
      "text/plain": [
       "Plot with title \"Normal Q-Q Plot\""
      ]
     },
     "metadata": {
      "image/png": {
       "height": 420,
       "width": 420
      }
     },
     "output_type": "display_data"
    }
   ],
   "source": [
    "# Create a histogram for 'log_transformed_total_sales'\n",
    "hist(data$log_transformed_total_sales, main=\"Histogram of log_transformed_total_sales\", xlab=\"Log Transformed Total Sales\", col=\"lightblue\")\n",
    "\n",
    "# Create a QQ plot for 'log_transformed_total_sales'\n",
    "qqnorm(data$log_transformed_total_sales)\n",
    "qqline(data$log_transformed_total_sales, col = 2)\n",
    "\n",
    "# Display both the histogram and the QQ plot side by side\n",
    "par(mfrow = c(2, 2))"
   ]
  },
  {
   "cell_type": "code",
   "execution_count": 15,
   "metadata": {
    "vscode": {
     "languageId": "r"
    }
   },
   "outputs": [
    {
     "data": {
      "text/html": [
       "<table class=\"dataframe\">\n",
       "<caption>A matrix: 5 × 17 of type dbl</caption>\n",
       "<thead>\n",
       "\t<tr><th></th><th scope=col>Rank</th><th scope=col>Title</th><th scope=col>Console</th><th scope=col>Genre</th><th scope=col>ReleaseYear</th><th scope=col>ReleaseQuarter</th><th scope=col>ReleaseMonth</th><th scope=col>ReleaseWeek</th><th scope=col>ReleaseDay</th><th scope=col>ReleaseWeekend</th><th scope=col>EndOfMonth</th><th scope=col>TotalSales</th><th scope=col>YearsSinceRelease</th><th scope=col>log_transformed_total_sales</th><th scope=col>Publisher</th><th scope=col>Developer</th><th scope=col></th></tr>\n",
       "</thead>\n",
       "<tbody>\n",
       "\t<tr><th scope=row>6072</th><td>1</td><td>1</td><td>1</td><td>1</td><td>1</td><td>1</td><td>1</td><td>1</td><td>1</td><td>1</td><td>1</td><td>1</td><td>1</td><td>1</td><td>  1</td><td>  1</td><td>  0</td></tr>\n",
       "\t<tr><th scope=row>349</th><td>1</td><td>1</td><td>1</td><td>1</td><td>1</td><td>1</td><td>1</td><td>1</td><td>1</td><td>1</td><td>1</td><td>1</td><td>1</td><td>1</td><td>  1</td><td>  0</td><td>  1</td></tr>\n",
       "\t<tr><th scope=row>87</th><td>1</td><td>1</td><td>1</td><td>1</td><td>1</td><td>1</td><td>1</td><td>1</td><td>1</td><td>1</td><td>1</td><td>1</td><td>1</td><td>1</td><td>  0</td><td>  1</td><td>  1</td></tr>\n",
       "\t<tr><th scope=row>25</th><td>1</td><td>1</td><td>1</td><td>1</td><td>1</td><td>1</td><td>1</td><td>1</td><td>1</td><td>1</td><td>1</td><td>1</td><td>1</td><td>1</td><td>  0</td><td>  0</td><td>  2</td></tr>\n",
       "\t<tr><th scope=row></th><td>0</td><td>0</td><td>0</td><td>0</td><td>0</td><td>0</td><td>0</td><td>0</td><td>0</td><td>0</td><td>0</td><td>0</td><td>0</td><td>0</td><td>112</td><td>374</td><td>486</td></tr>\n",
       "</tbody>\n",
       "</table>\n"
      ],
      "text/latex": [
       "A matrix: 5 × 17 of type dbl\n",
       "\\begin{tabular}{r|lllllllllllllllll}\n",
       "  & Rank & Title & Console & Genre & ReleaseYear & ReleaseQuarter & ReleaseMonth & ReleaseWeek & ReleaseDay & ReleaseWeekend & EndOfMonth & TotalSales & YearsSinceRelease & log\\_transformed\\_total\\_sales & Publisher & Developer & \\\\\n",
       "\\hline\n",
       "\t6072 & 1 & 1 & 1 & 1 & 1 & 1 & 1 & 1 & 1 & 1 & 1 & 1 & 1 & 1 &   1 &   1 &   0\\\\\n",
       "\t349 & 1 & 1 & 1 & 1 & 1 & 1 & 1 & 1 & 1 & 1 & 1 & 1 & 1 & 1 &   1 &   0 &   1\\\\\n",
       "\t87 & 1 & 1 & 1 & 1 & 1 & 1 & 1 & 1 & 1 & 1 & 1 & 1 & 1 & 1 &   0 &   1 &   1\\\\\n",
       "\t25 & 1 & 1 & 1 & 1 & 1 & 1 & 1 & 1 & 1 & 1 & 1 & 1 & 1 & 1 &   0 &   0 &   2\\\\\n",
       "\t & 0 & 0 & 0 & 0 & 0 & 0 & 0 & 0 & 0 & 0 & 0 & 0 & 0 & 0 & 112 & 374 & 486\\\\\n",
       "\\end{tabular}\n"
      ],
      "text/markdown": [
       "\n",
       "A matrix: 5 × 17 of type dbl\n",
       "\n",
       "| <!--/--> | Rank | Title | Console | Genre | ReleaseYear | ReleaseQuarter | ReleaseMonth | ReleaseWeek | ReleaseDay | ReleaseWeekend | EndOfMonth | TotalSales | YearsSinceRelease | log_transformed_total_sales | Publisher | Developer | <!----> |\n",
       "|---|---|---|---|---|---|---|---|---|---|---|---|---|---|---|---|---|---|\n",
       "| 6072 | 1 | 1 | 1 | 1 | 1 | 1 | 1 | 1 | 1 | 1 | 1 | 1 | 1 | 1 |   1 |   1 |   0 |\n",
       "| 349 | 1 | 1 | 1 | 1 | 1 | 1 | 1 | 1 | 1 | 1 | 1 | 1 | 1 | 1 |   1 |   0 |   1 |\n",
       "| 87 | 1 | 1 | 1 | 1 | 1 | 1 | 1 | 1 | 1 | 1 | 1 | 1 | 1 | 1 |   0 |   1 |   1 |\n",
       "| 25 | 1 | 1 | 1 | 1 | 1 | 1 | 1 | 1 | 1 | 1 | 1 | 1 | 1 | 1 |   0 |   0 |   2 |\n",
       "| <!----> | 0 | 0 | 0 | 0 | 0 | 0 | 0 | 0 | 0 | 0 | 0 | 0 | 0 | 0 | 112 | 374 | 486 |\n",
       "\n"
      ],
      "text/plain": [
       "     Rank Title Console Genre ReleaseYear ReleaseQuarter ReleaseMonth\n",
       "6072 1    1     1       1     1           1              1           \n",
       "349  1    1     1       1     1           1              1           \n",
       "87   1    1     1       1     1           1              1           \n",
       "25   1    1     1       1     1           1              1           \n",
       "     0    0     0       0     0           0              0           \n",
       "     ReleaseWeek ReleaseDay ReleaseWeekend EndOfMonth TotalSales\n",
       "6072 1           1          1              1          1         \n",
       "349  1           1          1              1          1         \n",
       "87   1           1          1              1          1         \n",
       "25   1           1          1              1          1         \n",
       "     0           0          0              0          0         \n",
       "     YearsSinceRelease log_transformed_total_sales Publisher Developer    \n",
       "6072 1                 1                             1         1         0\n",
       "349  1                 1                             1         0         1\n",
       "87   1                 1                             0         1         1\n",
       "25   1                 1                             0         0         2\n",
       "     0                 0                           112       374       486"
      ]
     },
     "metadata": {},
     "output_type": "display_data"
    },
    {
     "data": {
      "image/png": "[encoded data removed]",
      "text/plain": [
       "plot without title"
      ]
     },
     "metadata": {
      "image/png": {
       "height": 420,
       "width": 420
      }
     },
     "output_type": "display_data"
    }
   ],
   "source": [
    "# Noted both Publisher & Developer also contains Unknown\n",
    "\n",
    "# Replace 'Unknown' with NA\n",
    "data$Developer[data$Developer == 'Unknown'] <- NA\n",
    "data$Publisher[data$Publisher == 'Unknown'] <- NA\n",
    "\n",
    "md.pattern(data)"
   ]
  },
  {
   "cell_type": "code",
   "execution_count": null,
   "metadata": {
    "vscode": {
     "languageId": "r"
    }
   },
   "outputs": [],
   "source": [
    "##### Little's Test #######\n",
    "# Little's (1988) test statistic to assess if data is MCAR. \n",
    "# The null hypothesis (H0) : the data is MCAR\n",
    "\n",
    "mcar_test(data)"
   ]
  },
  {
   "cell_type": "code",
   "execution_count": 17,
   "metadata": {
    "vscode": {
     "languageId": "r"
    }
   },
   "outputs": [],
   "source": [
    "# drop those records with Unknown\n",
    "\n",
    "data = na.omit(data)"
   ]
  },
  {
   "cell_type": "code",
   "execution_count": 18,
   "metadata": {
    "vscode": {
     "languageId": "r"
    }
   },
   "outputs": [
    {
     "data": {
      "text/html": [
       "<style>\n",
       ".dl-inline {width: auto; margin:0; padding: 0}\n",
       ".dl-inline>dt, .dl-inline>dd {float: none; width: auto; display: inline-block}\n",
       ".dl-inline>dt::after {content: \":\\0020\"; padding-right: .5ex}\n",
       ".dl-inline>dt:not(:first-of-type) {padding-left: .5ex}\n",
       "</style><dl class=dl-inline><dt>Rank</dt><dd>6072</dd><dt>Title</dt><dd>4051</dd><dt>Console</dt><dd>17</dd><dt>Publisher</dt><dd>624</dd><dt>Developer</dt><dd>1430</dd><dt>Genre</dt><dd>13</dd><dt>ReleaseYear</dt><dd>9</dd><dt>ReleaseQuarter</dt><dd>4</dd><dt>ReleaseMonth</dt><dd>12</dd><dt>ReleaseWeek</dt><dd>53</dd><dt>ReleaseDay</dt><dd>7</dd><dt>ReleaseWeekend</dt><dd>2</dd><dt>EndOfMonth</dt><dd>2</dd><dt>TotalSales</dt><dd>94</dd><dt>YearsSinceRelease</dt><dd>9</dd><dt>log_transformed_total_sales</dt><dd>94</dd></dl>\n"
      ],
      "text/latex": [
       "\\begin{description*}\n",
       "\\item[Rank] 6072\n",
       "\\item[Title] 4051\n",
       "\\item[Console] 17\n",
       "\\item[Publisher] 624\n",
       "\\item[Developer] 1430\n",
       "\\item[Genre] 13\n",
       "\\item[ReleaseYear] 9\n",
       "\\item[ReleaseQuarter] 4\n",
       "\\item[ReleaseMonth] 12\n",
       "\\item[ReleaseWeek] 53\n",
       "\\item[ReleaseDay] 7\n",
       "\\item[ReleaseWeekend] 2\n",
       "\\item[EndOfMonth] 2\n",
       "\\item[TotalSales] 94\n",
       "\\item[YearsSinceRelease] 9\n",
       "\\item[log\\textbackslash{}\\_transformed\\textbackslash{}\\_total\\textbackslash{}\\_sales] 94\n",
       "\\end{description*}\n"
      ],
      "text/markdown": [
       "Rank\n",
       ":   6072Title\n",
       ":   4051Console\n",
       ":   17Publisher\n",
       ":   624Developer\n",
       ":   1430Genre\n",
       ":   13ReleaseYear\n",
       ":   9ReleaseQuarter\n",
       ":   4ReleaseMonth\n",
       ":   12ReleaseWeek\n",
       ":   53ReleaseDay\n",
       ":   7ReleaseWeekend\n",
       ":   2EndOfMonth\n",
       ":   2TotalSales\n",
       ":   94YearsSinceRelease\n",
       ":   9log_transformed_total_sales\n",
       ":   94\n",
       "\n"
      ],
      "text/plain": [
       "                       Rank                       Title \n",
       "                       6072                        4051 \n",
       "                    Console                   Publisher \n",
       "                         17                         624 \n",
       "                  Developer                       Genre \n",
       "                       1430                          13 \n",
       "                ReleaseYear              ReleaseQuarter \n",
       "                          9                           4 \n",
       "               ReleaseMonth                 ReleaseWeek \n",
       "                         12                          53 \n",
       "                 ReleaseDay              ReleaseWeekend \n",
       "                          7                           2 \n",
       "                 EndOfMonth                  TotalSales \n",
       "                          2                          94 \n",
       "          YearsSinceRelease log_transformed_total_sales \n",
       "                          9                          94 "
      ]
     },
     "metadata": {},
     "output_type": "display_data"
    }
   ],
   "source": [
    "########################################################\n",
    "# Check the number of distinct values for the variables\n",
    "\n",
    "sapply(data, function(x) n_distinct(x))"
   ]
  },
  {
   "cell_type": "markdown",
   "metadata": {},
   "source": [
    "ANOVA test - Do Publisher & Developer have any significant impact on the sales revenue?\n",
    "Note: Due to large amount of publishers & developers, we run one-way ANOVA test in order to minimize computing power required"
   ]
  },
  {
   "cell_type": "code",
   "execution_count": 19,
   "metadata": {
    "vscode": {
     "languageId": "r"
    }
   },
   "outputs": [],
   "source": [
    "########################################################\n",
    "# Does Publisher have an impact on the revenue?\n",
    "\n",
    "#Pre-processing: change the '-' to '_' for TukeyHSD\n",
    "# Replace hyphens with underscores in the \"Publisher\" column\n",
    "data$Publisher <- gsub(\"-\", \"_\", data$Publisher)"
   ]
  },
  {
   "cell_type": "code",
   "execution_count": 20,
   "metadata": {
    "vscode": {
     "languageId": "r"
    }
   },
   "outputs": [
    {
     "data": {
      "text/plain": [
       "              Df Sum Sq Mean Sq F value Pr(>F)    \n",
       "Publisher    623   3695   5.930   5.986 <2e-16 ***\n",
       "Residuals   5448   5398   0.991                   \n",
       "---\n",
       "Signif. codes:  0 '***' 0.001 '**' 0.01 '*' 0.05 '.' 0.1 ' ' 1"
      ]
     },
     "metadata": {},
     "output_type": "display_data"
    }
   ],
   "source": [
    "# Perform one-way ANOVA to identify significant publishers\n",
    "anova.result_Publisher <- aov(log_transformed_total_sales ~ Publisher, data = data)\n",
    "summary(anova.result_Publisher)\n",
    "\n",
    "# p-value is less than 0.05, reject the null hypothesis - Publisher has an impact on the revenue"
   ]
  },
  {
   "cell_type": "code",
   "execution_count": 21,
   "metadata": {
    "vscode": {
     "languageId": "r"
    }
   },
   "outputs": [],
   "source": [
    "# Apply the Tukey HSD test\n",
    "tukey_result = TukeyHSD(anova.result_Publisher)"
   ]
  },
  {
   "cell_type": "code",
   "execution_count": 22,
   "metadata": {
    "vscode": {
     "languageId": "r"
    }
   },
   "outputs": [],
   "source": [
    "# Change Tukey HSD test result to data frame\n",
    "tukey_df <- as.data.frame(tukey_result$Publisher)"
   ]
  },
  {
   "cell_type": "code",
   "execution_count": 23,
   "metadata": {
    "vscode": {
     "languageId": "r"
    }
   },
   "outputs": [],
   "source": [
    "# Create a new column for Publisher names\n",
    "tukey_df$Publisher <- rownames(tukey_df)"
   ]
  },
  {
   "cell_type": "code",
   "execution_count": 24,
   "metadata": {
    "vscode": {
     "languageId": "r"
    }
   },
   "outputs": [
    {
     "data": {
      "text/html": [
       "<table class=\"dataframe\">\n",
       "<caption>A data.frame: 5 × 5</caption>\n",
       "<thead>\n",
       "\t<tr><th></th><th scope=col>diff</th><th scope=col>lwr</th><th scope=col>upr</th><th scope=col>p adj</th><th scope=col>Publisher</th></tr>\n",
       "\t<tr><th></th><th scope=col>&lt;dbl&gt;</th><th scope=col>&lt;dbl&gt;</th><th scope=col>&lt;dbl&gt;</th><th scope=col>&lt;dbl&gt;</th><th scope=col>&lt;chr&gt;</th></tr>\n",
       "</thead>\n",
       "<tbody>\n",
       "\t<tr><th scope=row>17_Bit-11 bit studios</th><td>1.2637194</td><td>-4.531326</td><td>7.058765</td><td>1.0000000</td><td>17_Bit-11 bit studios    </td></tr>\n",
       "\t<tr><th scope=row>1C Company-11 bit studios</th><td>0.6931472</td><td>-3.404569</td><td>4.790863</td><td>1.0000000</td><td>1C Company-11 bit studios</td></tr>\n",
       "\t<tr><th scope=row>2K Games-11 bit studios</th><td>1.8698380</td><td>-1.107084</td><td>4.846759</td><td>0.9999990</td><td>2K Games-11 bit studios  </td></tr>\n",
       "\t<tr><th scope=row>2K Play-11 bit studios</th><td>1.4956368</td><td>-1.743892</td><td>4.735166</td><td>1.0000000</td><td>2K Play-11 bit studios   </td></tr>\n",
       "\t<tr><th scope=row>2K Sports-11 bit studios</th><td>1.8181419</td><td>-1.161791</td><td>4.798075</td><td>0.9999999</td><td>2K Sports-11 bit studios </td></tr>\n",
       "</tbody>\n",
       "</table>\n"
      ],
      "text/latex": [
       "A data.frame: 5 × 5\n",
       "\\begin{tabular}{r|lllll}\n",
       "  & diff & lwr & upr & p adj & Publisher\\\\\n",
       "  & <dbl> & <dbl> & <dbl> & <dbl> & <chr>\\\\\n",
       "\\hline\n",
       "\t17\\_Bit-11 bit studios & 1.2637194 & -4.531326 & 7.058765 & 1.0000000 & 17\\_Bit-11 bit studios    \\\\\n",
       "\t1C Company-11 bit studios & 0.6931472 & -3.404569 & 4.790863 & 1.0000000 & 1C Company-11 bit studios\\\\\n",
       "\t2K Games-11 bit studios & 1.8698380 & -1.107084 & 4.846759 & 0.9999990 & 2K Games-11 bit studios  \\\\\n",
       "\t2K Play-11 bit studios & 1.4956368 & -1.743892 & 4.735166 & 1.0000000 & 2K Play-11 bit studios   \\\\\n",
       "\t2K Sports-11 bit studios & 1.8181419 & -1.161791 & 4.798075 & 0.9999999 & 2K Sports-11 bit studios \\\\\n",
       "\\end{tabular}\n"
      ],
      "text/markdown": [
       "\n",
       "A data.frame: 5 × 5\n",
       "\n",
       "| <!--/--> | diff &lt;dbl&gt; | lwr &lt;dbl&gt; | upr &lt;dbl&gt; | p adj &lt;dbl&gt; | Publisher &lt;chr&gt; |\n",
       "|---|---|---|---|---|---|\n",
       "| 17_Bit-11 bit studios | 1.2637194 | -4.531326 | 7.058765 | 1.0000000 | 17_Bit-11 bit studios     |\n",
       "| 1C Company-11 bit studios | 0.6931472 | -3.404569 | 4.790863 | 1.0000000 | 1C Company-11 bit studios |\n",
       "| 2K Games-11 bit studios | 1.8698380 | -1.107084 | 4.846759 | 0.9999990 | 2K Games-11 bit studios   |\n",
       "| 2K Play-11 bit studios | 1.4956368 | -1.743892 | 4.735166 | 1.0000000 | 2K Play-11 bit studios    |\n",
       "| 2K Sports-11 bit studios | 1.8181419 | -1.161791 | 4.798075 | 0.9999999 | 2K Sports-11 bit studios  |\n",
       "\n"
      ],
      "text/plain": [
       "                          diff      lwr       upr      p adj    \n",
       "17_Bit-11 bit studios     1.2637194 -4.531326 7.058765 1.0000000\n",
       "1C Company-11 bit studios 0.6931472 -3.404569 4.790863 1.0000000\n",
       "2K Games-11 bit studios   1.8698380 -1.107084 4.846759 0.9999990\n",
       "2K Play-11 bit studios    1.4956368 -1.743892 4.735166 1.0000000\n",
       "2K Sports-11 bit studios  1.8181419 -1.161791 4.798075 0.9999999\n",
       "                          Publisher                \n",
       "17_Bit-11 bit studios     17_Bit-11 bit studios    \n",
       "1C Company-11 bit studios 1C Company-11 bit studios\n",
       "2K Games-11 bit studios   2K Games-11 bit studios  \n",
       "2K Play-11 bit studios    2K Play-11 bit studios   \n",
       "2K Sports-11 bit studios  2K Sports-11 bit studios "
      ]
     },
     "metadata": {},
     "output_type": "display_data"
    },
    {
     "data": {
      "text/html": [
       "<style>\n",
       ".list-inline {list-style: none; margin:0; padding: 0}\n",
       ".list-inline>li {display: inline-block}\n",
       ".list-inline>li:not(:last-child)::after {content: \"\\00b7\"; padding: 0 .5ex}\n",
       "</style>\n",
       "<ol class=list-inline><li>'diff'</li><li>'lwr'</li><li>'upr'</li><li>'p adj'</li><li>'Publisher'</li></ol>\n"
      ],
      "text/latex": [
       "\\begin{enumerate*}\n",
       "\\item 'diff'\n",
       "\\item 'lwr'\n",
       "\\item 'upr'\n",
       "\\item 'p adj'\n",
       "\\item 'Publisher'\n",
       "\\end{enumerate*}\n"
      ],
      "text/markdown": [
       "1. 'diff'\n",
       "2. 'lwr'\n",
       "3. 'upr'\n",
       "4. 'p adj'\n",
       "5. 'Publisher'\n",
       "\n",
       "\n"
      ],
      "text/plain": [
       "[1] \"diff\"      \"lwr\"       \"upr\"       \"p adj\"     \"Publisher\""
      ]
     },
     "metadata": {},
     "output_type": "display_data"
    }
   ],
   "source": [
    "# View the dataframe\n",
    "head(tukey_df,5)\n",
    "names(tukey_df)"
   ]
  },
  {
   "cell_type": "code",
   "execution_count": 25,
   "metadata": {
    "vscode": {
     "languageId": "r"
    }
   },
   "outputs": [],
   "source": [
    "# filter for p value < 0.05\n",
    "significant_tukey_df <- tukey_df %>%\n",
    "  filter(`p adj` < 0.05)"
   ]
  },
  {
   "cell_type": "code",
   "execution_count": 26,
   "metadata": {
    "vscode": {
     "languageId": "r"
    }
   },
   "outputs": [],
   "source": [
    "# Split the \"Publisher\" column into two columns\n",
    "significant_tukey_df <- significant_tukey_df %>%\n",
    "  separate(Publisher, into = c(\"Publisher1\", \"Publisher2\"), sep = \"-\", extra = \"merge\", remove = FALSE)\n"
   ]
  },
  {
   "cell_type": "code",
   "execution_count": 27,
   "metadata": {
    "vscode": {
     "languageId": "r"
    }
   },
   "outputs": [
    {
     "data": {
      "text/html": [
       "135"
      ],
      "text/latex": [
       "135"
      ],
      "text/markdown": [
       "135"
      ],
      "text/plain": [
       "[1] 135"
      ]
     },
     "metadata": {},
     "output_type": "display_data"
    },
    {
     "data": {
      "text/html": [
       "<style>\n",
       ".list-inline {list-style: none; margin:0; padding: 0}\n",
       ".list-inline>li {display: inline-block}\n",
       ".list-inline>li:not(:last-child)::after {content: \"\\00b7\"; padding: 0 .5ex}\n",
       "</style>\n",
       "<ol class=list-inline><li>'5pb'</li><li>'Aksys Games'</li><li>'Alchemist'</li><li>'Arc System Works'</li><li>'Avanquest Software'</li><li>'Bandai Namco Games'</li><li>'Big Ben Interactive'</li><li>'Big Fish Games'</li><li>'Bigben Interactive'</li><li>'Cave'</li><li>'Compile Heart'</li><li>'CyberFront'</li><li>'D3 Publisher'</li><li>'D3Publisher'</li><li>'Destineer'</li><li>'Dramatic Create'</li><li>'DTP Entertainment'</li><li>'Entergram'</li><li>'Focus Multimedia'</li><li>'FuRyu Corporation'</li><li>'Graffiti'</li><li>'Idea Factory'</li><li>'Irem Software Engineering'</li><li>'Kadokawa Games'</li><li>'Kadokawa Shoten'</li><li>'Kalypso Media'</li><li>'Koei Tecmo'</li><li>'Little Orbit'</li><li>'Maximum Games'</li><li>'Merge Games'</li><li>'Microids'</li><li>'Milestone S.r.l.'</li><li>'Namco Bandai Games'</li><li>'Nighthawk Interactive'</li><li>'Nippon Ichi Software'</li><li>'NIS America'</li><li>'Nordic Games'</li><li>'O_Games'</li><li>'Outright Games'</li><li>'Paradox Interactive'</li><li>'PQube'</li><li>'Prototype'</li><li>'Quinrose'</li><li>'Rising Star Games'</li><li>'Russel'</li><li>'Soedesco'</li><li>'Storm City Games'</li><li>'System Soft'</li><li>'Tecmo Koei'</li><li>'THQ Nordic'</li><li>'Tru Blu Entertainment'</li><li>'UFO Interactive'</li><li>'Wired Productions'</li><li>'Zoo Games'</li><li>'Bethesda Softworks'</li><li>'Disney Interactive Studios'</li><li>'EA Sports'</li><li>'Electronic Arts'</li><li>'Nintendo'</li><li>'Square Enix'</li><li>'THQ'</li><li>'Warner Bros. Interactive Entertainment'</li><li>'Activision'</li><li>'Atari'</li><li>'Atlus'</li><li>'Bandai Namco Entertainment'</li><li>'Capcom'</li><li>'City Interactive'</li><li>'Codemasters'</li><li>'Crave Entertainment'</li><li>'Daedalic Entertainment'</li><li>'Deep Silver'</li><li>'Double Fine Productions'</li><li>'Focus Home Interactive'</li><li>'Frontier Developments'</li><li>'GameMill'</li><li>'Gearbox Software'</li><li>'Konami'</li><li>'Konami Digital Entertainment'</li><li>'Level 5'</li><li>'LucasArts'</li><li>'Majesco'</li><li>'Microsoft Studios'</li><li>'Mojang'</li><li>'MTV Games'</li><li>'Namco Bandai'</li><li>'Natsume'</li><li>'Rebellion Developments'</li><li>'Sega'</li><li>'Sony Computer Entertainment'</li><li>'Sony Computer Entertainment America'</li><li>'Sony Interactive Entertainment'</li><li>'SouthPeak Interactive'</li><li>'Take_Two Interactive'</li><li>'Telltale Games'</li><li>'Ubisoft'</li><li>'Warner Bros. Interactive'</li><li>'Xseed Games'</li><li>'Black Bean Games'</li><li>'Broccoli'</li><li>'GameMill Entertainment'</li><li>'Kalypso'</li><li>'KOEI'</li><li>'Marvelous Interactive'</li><li>'Mentor Interactive'</li><li>'Nippon Columbia'</li><li>'Reef Entertainment'</li><li>'Rising Star'</li><li>'Rocket Company'</li><li>'Sold Out'</li><li>'Starfish'</li><li>'Takara Tomy'</li><li>'Techland'</li><li>'Villa Gorilla'</li><li>'Yeti'</li><li>'Experience Inc.'</li><li>'Foreign Media Games'</li><li>'Funbox Media'</li><li>'GN Software'</li><li>'GSP'</li><li>'Happinet'</li><li>'Hudson Soft'</li><li>'Idea Factory International'</li><li>'Kaga Create'</li><li>'Koch Media'</li><li>'M2'</li><li>'Mastertronic'</li><li>'Mastiff'</li><li>'Nicalis'</li><li>'Piacci'</li><li>'Spike Chunsoft'</li><li>'Success'</li><li>'SVG Distribution'</li><li>'Taito'</li><li>'Toby Fox'</li></ol>\n"
      ],
      "text/latex": [
       "\\begin{enumerate*}\n",
       "\\item '5pb'\n",
       "\\item 'Aksys Games'\n",
       "\\item 'Alchemist'\n",
       "\\item 'Arc System Works'\n",
       "\\item 'Avanquest Software'\n",
       "\\item 'Bandai Namco Games'\n",
       "\\item 'Big Ben Interactive'\n",
       "\\item 'Big Fish Games'\n",
       "\\item 'Bigben Interactive'\n",
       "\\item 'Cave'\n",
       "\\item 'Compile Heart'\n",
       "\\item 'CyberFront'\n",
       "\\item 'D3 Publisher'\n",
       "\\item 'D3Publisher'\n",
       "\\item 'Destineer'\n",
       "\\item 'Dramatic Create'\n",
       "\\item 'DTP Entertainment'\n",
       "\\item 'Entergram'\n",
       "\\item 'Focus Multimedia'\n",
       "\\item 'FuRyu Corporation'\n",
       "\\item 'Graffiti'\n",
       "\\item 'Idea Factory'\n",
       "\\item 'Irem Software Engineering'\n",
       "\\item 'Kadokawa Games'\n",
       "\\item 'Kadokawa Shoten'\n",
       "\\item 'Kalypso Media'\n",
       "\\item 'Koei Tecmo'\n",
       "\\item 'Little Orbit'\n",
       "\\item 'Maximum Games'\n",
       "\\item 'Merge Games'\n",
       "\\item 'Microids'\n",
       "\\item 'Milestone S.r.l.'\n",
       "\\item 'Namco Bandai Games'\n",
       "\\item 'Nighthawk Interactive'\n",
       "\\item 'Nippon Ichi Software'\n",
       "\\item 'NIS America'\n",
       "\\item 'Nordic Games'\n",
       "\\item 'O\\_Games'\n",
       "\\item 'Outright Games'\n",
       "\\item 'Paradox Interactive'\n",
       "\\item 'PQube'\n",
       "\\item 'Prototype'\n",
       "\\item 'Quinrose'\n",
       "\\item 'Rising Star Games'\n",
       "\\item 'Russel'\n",
       "\\item 'Soedesco'\n",
       "\\item 'Storm City Games'\n",
       "\\item 'System Soft'\n",
       "\\item 'Tecmo Koei'\n",
       "\\item 'THQ Nordic'\n",
       "\\item 'Tru Blu Entertainment'\n",
       "\\item 'UFO Interactive'\n",
       "\\item 'Wired Productions'\n",
       "\\item 'Zoo Games'\n",
       "\\item 'Bethesda Softworks'\n",
       "\\item 'Disney Interactive Studios'\n",
       "\\item 'EA Sports'\n",
       "\\item 'Electronic Arts'\n",
       "\\item 'Nintendo'\n",
       "\\item 'Square Enix'\n",
       "\\item 'THQ'\n",
       "\\item 'Warner Bros. Interactive Entertainment'\n",
       "\\item 'Activision'\n",
       "\\item 'Atari'\n",
       "\\item 'Atlus'\n",
       "\\item 'Bandai Namco Entertainment'\n",
       "\\item 'Capcom'\n",
       "\\item 'City Interactive'\n",
       "\\item 'Codemasters'\n",
       "\\item 'Crave Entertainment'\n",
       "\\item 'Daedalic Entertainment'\n",
       "\\item 'Deep Silver'\n",
       "\\item 'Double Fine Productions'\n",
       "\\item 'Focus Home Interactive'\n",
       "\\item 'Frontier Developments'\n",
       "\\item 'GameMill'\n",
       "\\item 'Gearbox Software'\n",
       "\\item 'Konami'\n",
       "\\item 'Konami Digital Entertainment'\n",
       "\\item 'Level 5'\n",
       "\\item 'LucasArts'\n",
       "\\item 'Majesco'\n",
       "\\item 'Microsoft Studios'\n",
       "\\item 'Mojang'\n",
       "\\item 'MTV Games'\n",
       "\\item 'Namco Bandai'\n",
       "\\item 'Natsume'\n",
       "\\item 'Rebellion Developments'\n",
       "\\item 'Sega'\n",
       "\\item 'Sony Computer Entertainment'\n",
       "\\item 'Sony Computer Entertainment America'\n",
       "\\item 'Sony Interactive Entertainment'\n",
       "\\item 'SouthPeak Interactive'\n",
       "\\item 'Take\\_Two Interactive'\n",
       "\\item 'Telltale Games'\n",
       "\\item 'Ubisoft'\n",
       "\\item 'Warner Bros. Interactive'\n",
       "\\item 'Xseed Games'\n",
       "\\item 'Black Bean Games'\n",
       "\\item 'Broccoli'\n",
       "\\item 'GameMill Entertainment'\n",
       "\\item 'Kalypso'\n",
       "\\item 'KOEI'\n",
       "\\item 'Marvelous Interactive'\n",
       "\\item 'Mentor Interactive'\n",
       "\\item 'Nippon Columbia'\n",
       "\\item 'Reef Entertainment'\n",
       "\\item 'Rising Star'\n",
       "\\item 'Rocket Company'\n",
       "\\item 'Sold Out'\n",
       "\\item 'Starfish'\n",
       "\\item 'Takara Tomy'\n",
       "\\item 'Techland'\n",
       "\\item 'Villa Gorilla'\n",
       "\\item 'Yeti'\n",
       "\\item 'Experience Inc.'\n",
       "\\item 'Foreign Media Games'\n",
       "\\item 'Funbox Media'\n",
       "\\item 'GN Software'\n",
       "\\item 'GSP'\n",
       "\\item 'Happinet'\n",
       "\\item 'Hudson Soft'\n",
       "\\item 'Idea Factory International'\n",
       "\\item 'Kaga Create'\n",
       "\\item 'Koch Media'\n",
       "\\item 'M2'\n",
       "\\item 'Mastertronic'\n",
       "\\item 'Mastiff'\n",
       "\\item 'Nicalis'\n",
       "\\item 'Piacci'\n",
       "\\item 'Spike Chunsoft'\n",
       "\\item 'Success'\n",
       "\\item 'SVG Distribution'\n",
       "\\item 'Taito'\n",
       "\\item 'Toby Fox'\n",
       "\\end{enumerate*}\n"
      ],
      "text/markdown": [
       "1. '5pb'\n",
       "2. 'Aksys Games'\n",
       "3. 'Alchemist'\n",
       "4. 'Arc System Works'\n",
       "5. 'Avanquest Software'\n",
       "6. 'Bandai Namco Games'\n",
       "7. 'Big Ben Interactive'\n",
       "8. 'Big Fish Games'\n",
       "9. 'Bigben Interactive'\n",
       "10. 'Cave'\n",
       "11. 'Compile Heart'\n",
       "12. 'CyberFront'\n",
       "13. 'D3 Publisher'\n",
       "14. 'D3Publisher'\n",
       "15. 'Destineer'\n",
       "16. 'Dramatic Create'\n",
       "17. 'DTP Entertainment'\n",
       "18. 'Entergram'\n",
       "19. 'Focus Multimedia'\n",
       "20. 'FuRyu Corporation'\n",
       "21. 'Graffiti'\n",
       "22. 'Idea Factory'\n",
       "23. 'Irem Software Engineering'\n",
       "24. 'Kadokawa Games'\n",
       "25. 'Kadokawa Shoten'\n",
       "26. 'Kalypso Media'\n",
       "27. 'Koei Tecmo'\n",
       "28. 'Little Orbit'\n",
       "29. 'Maximum Games'\n",
       "30. 'Merge Games'\n",
       "31. 'Microids'\n",
       "32. 'Milestone S.r.l.'\n",
       "33. 'Namco Bandai Games'\n",
       "34. 'Nighthawk Interactive'\n",
       "35. 'Nippon Ichi Software'\n",
       "36. 'NIS America'\n",
       "37. 'Nordic Games'\n",
       "38. 'O_Games'\n",
       "39. 'Outright Games'\n",
       "40. 'Paradox Interactive'\n",
       "41. 'PQube'\n",
       "42. 'Prototype'\n",
       "43. 'Quinrose'\n",
       "44. 'Rising Star Games'\n",
       "45. 'Russel'\n",
       "46. 'Soedesco'\n",
       "47. 'Storm City Games'\n",
       "48. 'System Soft'\n",
       "49. 'Tecmo Koei'\n",
       "50. 'THQ Nordic'\n",
       "51. 'Tru Blu Entertainment'\n",
       "52. 'UFO Interactive'\n",
       "53. 'Wired Productions'\n",
       "54. 'Zoo Games'\n",
       "55. 'Bethesda Softworks'\n",
       "56. 'Disney Interactive Studios'\n",
       "57. 'EA Sports'\n",
       "58. 'Electronic Arts'\n",
       "59. 'Nintendo'\n",
       "60. 'Square Enix'\n",
       "61. 'THQ'\n",
       "62. 'Warner Bros. Interactive Entertainment'\n",
       "63. 'Activision'\n",
       "64. 'Atari'\n",
       "65. 'Atlus'\n",
       "66. 'Bandai Namco Entertainment'\n",
       "67. 'Capcom'\n",
       "68. 'City Interactive'\n",
       "69. 'Codemasters'\n",
       "70. 'Crave Entertainment'\n",
       "71. 'Daedalic Entertainment'\n",
       "72. 'Deep Silver'\n",
       "73. 'Double Fine Productions'\n",
       "74. 'Focus Home Interactive'\n",
       "75. 'Frontier Developments'\n",
       "76. 'GameMill'\n",
       "77. 'Gearbox Software'\n",
       "78. 'Konami'\n",
       "79. 'Konami Digital Entertainment'\n",
       "80. 'Level 5'\n",
       "81. 'LucasArts'\n",
       "82. 'Majesco'\n",
       "83. 'Microsoft Studios'\n",
       "84. 'Mojang'\n",
       "85. 'MTV Games'\n",
       "86. 'Namco Bandai'\n",
       "87. 'Natsume'\n",
       "88. 'Rebellion Developments'\n",
       "89. 'Sega'\n",
       "90. 'Sony Computer Entertainment'\n",
       "91. 'Sony Computer Entertainment America'\n",
       "92. 'Sony Interactive Entertainment'\n",
       "93. 'SouthPeak Interactive'\n",
       "94. 'Take_Two Interactive'\n",
       "95. 'Telltale Games'\n",
       "96. 'Ubisoft'\n",
       "97. 'Warner Bros. Interactive'\n",
       "98. 'Xseed Games'\n",
       "99. 'Black Bean Games'\n",
       "100. 'Broccoli'\n",
       "101. 'GameMill Entertainment'\n",
       "102. 'Kalypso'\n",
       "103. 'KOEI'\n",
       "104. 'Marvelous Interactive'\n",
       "105. 'Mentor Interactive'\n",
       "106. 'Nippon Columbia'\n",
       "107. 'Reef Entertainment'\n",
       "108. 'Rising Star'\n",
       "109. 'Rocket Company'\n",
       "110. 'Sold Out'\n",
       "111. 'Starfish'\n",
       "112. 'Takara Tomy'\n",
       "113. 'Techland'\n",
       "114. 'Villa Gorilla'\n",
       "115. 'Yeti'\n",
       "116. 'Experience Inc.'\n",
       "117. 'Foreign Media Games'\n",
       "118. 'Funbox Media'\n",
       "119. 'GN Software'\n",
       "120. 'GSP'\n",
       "121. 'Happinet'\n",
       "122. 'Hudson Soft'\n",
       "123. 'Idea Factory International'\n",
       "124. 'Kaga Create'\n",
       "125. 'Koch Media'\n",
       "126. 'M2'\n",
       "127. 'Mastertronic'\n",
       "128. 'Mastiff'\n",
       "129. 'Nicalis'\n",
       "130. 'Piacci'\n",
       "131. 'Spike Chunsoft'\n",
       "132. 'Success'\n",
       "133. 'SVG Distribution'\n",
       "134. 'Taito'\n",
       "135. 'Toby Fox'\n",
       "\n",
       "\n"
      ],
      "text/plain": [
       "  [1] \"5pb\"                                   \n",
       "  [2] \"Aksys Games\"                           \n",
       "  [3] \"Alchemist\"                             \n",
       "  [4] \"Arc System Works\"                      \n",
       "  [5] \"Avanquest Software\"                    \n",
       "  [6] \"Bandai Namco Games\"                    \n",
       "  [7] \"Big Ben Interactive\"                   \n",
       "  [8] \"Big Fish Games\"                        \n",
       "  [9] \"Bigben Interactive\"                    \n",
       " [10] \"Cave\"                                  \n",
       " [11] \"Compile Heart\"                         \n",
       " [12] \"CyberFront\"                            \n",
       " [13] \"D3 Publisher\"                          \n",
       " [14] \"D3Publisher\"                           \n",
       " [15] \"Destineer\"                             \n",
       " [16] \"Dramatic Create\"                       \n",
       " [17] \"DTP Entertainment\"                     \n",
       " [18] \"Entergram\"                             \n",
       " [19] \"Focus Multimedia\"                      \n",
       " [20] \"FuRyu Corporation\"                     \n",
       " [21] \"Graffiti\"                              \n",
       " [22] \"Idea Factory\"                          \n",
       " [23] \"Irem Software Engineering\"             \n",
       " [24] \"Kadokawa Games\"                        \n",
       " [25] \"Kadokawa Shoten\"                       \n",
       " [26] \"Kalypso Media\"                         \n",
       " [27] \"Koei Tecmo\"                            \n",
       " [28] \"Little Orbit\"                          \n",
       " [29] \"Maximum Games\"                         \n",
       " [30] \"Merge Games\"                           \n",
       " [31] \"Microids\"                              \n",
       " [32] \"Milestone S.r.l.\"                      \n",
       " [33] \"Namco Bandai Games\"                    \n",
       " [34] \"Nighthawk Interactive\"                 \n",
       " [35] \"Nippon Ichi Software\"                  \n",
       " [36] \"NIS America\"                           \n",
       " [37] \"Nordic Games\"                          \n",
       " [38] \"O_Games\"                               \n",
       " [39] \"Outright Games\"                        \n",
       " [40] \"Paradox Interactive\"                   \n",
       " [41] \"PQube\"                                 \n",
       " [42] \"Prototype\"                             \n",
       " [43] \"Quinrose\"                              \n",
       " [44] \"Rising Star Games\"                     \n",
       " [45] \"Russel\"                                \n",
       " [46] \"Soedesco\"                              \n",
       " [47] \"Storm City Games\"                      \n",
       " [48] \"System Soft\"                           \n",
       " [49] \"Tecmo Koei\"                            \n",
       " [50] \"THQ Nordic\"                            \n",
       " [51] \"Tru Blu Entertainment\"                 \n",
       " [52] \"UFO Interactive\"                       \n",
       " [53] \"Wired Productions\"                     \n",
       " [54] \"Zoo Games\"                             \n",
       " [55] \"Bethesda Softworks\"                    \n",
       " [56] \"Disney Interactive Studios\"            \n",
       " [57] \"EA Sports\"                             \n",
       " [58] \"Electronic Arts\"                       \n",
       " [59] \"Nintendo\"                              \n",
       " [60] \"Square Enix\"                           \n",
       " [61] \"THQ\"                                   \n",
       " [62] \"Warner Bros. Interactive Entertainment\"\n",
       " [63] \"Activision\"                            \n",
       " [64] \"Atari\"                                 \n",
       " [65] \"Atlus\"                                 \n",
       " [66] \"Bandai Namco Entertainment\"            \n",
       " [67] \"Capcom\"                                \n",
       " [68] \"City Interactive\"                      \n",
       " [69] \"Codemasters\"                           \n",
       " [70] \"Crave Entertainment\"                   \n",
       " [71] \"Daedalic Entertainment\"                \n",
       " [72] \"Deep Silver\"                           \n",
       " [73] \"Double Fine Productions\"               \n",
       " [74] \"Focus Home Interactive\"                \n",
       " [75] \"Frontier Developments\"                 \n",
       " [76] \"GameMill\"                              \n",
       " [77] \"Gearbox Software\"                      \n",
       " [78] \"Konami\"                                \n",
       " [79] \"Konami Digital Entertainment\"          \n",
       " [80] \"Level 5\"                               \n",
       " [81] \"LucasArts\"                             \n",
       " [82] \"Majesco\"                               \n",
       " [83] \"Microsoft Studios\"                     \n",
       " [84] \"Mojang\"                                \n",
       " [85] \"MTV Games\"                             \n",
       " [86] \"Namco Bandai\"                          \n",
       " [87] \"Natsume\"                               \n",
       " [88] \"Rebellion Developments\"                \n",
       " [89] \"Sega\"                                  \n",
       " [90] \"Sony Computer Entertainment\"           \n",
       " [91] \"Sony Computer Entertainment America\"   \n",
       " [92] \"Sony Interactive Entertainment\"        \n",
       " [93] \"SouthPeak Interactive\"                 \n",
       " [94] \"Take_Two Interactive\"                  \n",
       " [95] \"Telltale Games\"                        \n",
       " [96] \"Ubisoft\"                               \n",
       " [97] \"Warner Bros. Interactive\"              \n",
       " [98] \"Xseed Games\"                           \n",
       " [99] \"Black Bean Games\"                      \n",
       "[100] \"Broccoli\"                              \n",
       "[101] \"GameMill Entertainment\"                \n",
       "[102] \"Kalypso\"                               \n",
       "[103] \"KOEI\"                                  \n",
       "[104] \"Marvelous Interactive\"                 \n",
       "[105] \"Mentor Interactive\"                    \n",
       "[106] \"Nippon Columbia\"                       \n",
       "[107] \"Reef Entertainment\"                    \n",
       "[108] \"Rising Star\"                           \n",
       "[109] \"Rocket Company\"                        \n",
       "[110] \"Sold Out\"                              \n",
       "[111] \"Starfish\"                              \n",
       "[112] \"Takara Tomy\"                           \n",
       "[113] \"Techland\"                              \n",
       "[114] \"Villa Gorilla\"                         \n",
       "[115] \"Yeti\"                                  \n",
       "[116] \"Experience Inc.\"                       \n",
       "[117] \"Foreign Media Games\"                   \n",
       "[118] \"Funbox Media\"                          \n",
       "[119] \"GN Software\"                           \n",
       "[120] \"GSP\"                                   \n",
       "[121] \"Happinet\"                              \n",
       "[122] \"Hudson Soft\"                           \n",
       "[123] \"Idea Factory International\"            \n",
       "[124] \"Kaga Create\"                           \n",
       "[125] \"Koch Media\"                            \n",
       "[126] \"M2\"                                    \n",
       "[127] \"Mastertronic\"                          \n",
       "[128] \"Mastiff\"                               \n",
       "[129] \"Nicalis\"                               \n",
       "[130] \"Piacci\"                                \n",
       "[131] \"Spike Chunsoft\"                        \n",
       "[132] \"Success\"                               \n",
       "[133] \"SVG Distribution\"                      \n",
       "[134] \"Taito\"                                 \n",
       "[135] \"Toby Fox\"                              "
      ]
     },
     "metadata": {},
     "output_type": "display_data"
    }
   ],
   "source": [
    "# Create a vector of all unique significant publishers\n",
    "all_significant_publishers <- unique(significant_tukey_df$Publisher1)\n",
    "\n",
    "# Remove NAs (if any)\n",
    "all_significant_publishers <- all_significant_publishers[!is.na(all_significant_publishers)]\n",
    "length (all_significant_publishers)\n",
    "\n",
    "all_significant_publishers\n"
   ]
  },
  {
   "cell_type": "code",
   "execution_count": 28,
   "metadata": {
    "vscode": {
     "languageId": "r"
    }
   },
   "outputs": [],
   "source": [
    "########################################################\n",
    "# Does Developer have an impact on the revenue?\n",
    "\n",
    "#Pre-processing: change the '-' to '_' for TukeyHSD\n",
    "# Replace hyphens with underscores in the \"Developer\" column\n",
    "data$Developer <- gsub(\"-\", \"_\", data$Developer)"
   ]
  },
  {
   "cell_type": "code",
   "execution_count": 29,
   "metadata": {
    "vscode": {
     "languageId": "r"
    }
   },
   "outputs": [
    {
     "data": {
      "text/plain": [
       "              Df Sum Sq Mean Sq F value Pr(>F)    \n",
       "Developer   1429   4743   3.319   3.543 <2e-16 ***\n",
       "Residuals   4642   4349   0.937                   \n",
       "---\n",
       "Signif. codes:  0 '***' 0.001 '**' 0.01 '*' 0.05 '.' 0.1 ' ' 1"
      ]
     },
     "metadata": {},
     "output_type": "display_data"
    }
   ],
   "source": [
    "# Perform one-way ANOVA to identify significant publishers\n",
    "anova.result_Developer = aov(log_transformed_total_sales ~ Developer,data=data)\n",
    "summary(anova.result_Developer)\n",
    "\n",
    "# p-value is less than 0.05, reject the null hypothesis - Developer has an impact on the revenue\n"
   ]
  },
  {
   "cell_type": "code",
   "execution_count": 30,
   "metadata": {
    "vscode": {
     "languageId": "r"
    }
   },
   "outputs": [],
   "source": [
    "# Apply the Tukey HSD test\n",
    "tukey_result_Developer = TukeyHSD(anova.result_Developer)"
   ]
  },
  {
   "cell_type": "code",
   "execution_count": 31,
   "metadata": {
    "vscode": {
     "languageId": "r"
    }
   },
   "outputs": [],
   "source": [
    "# Change Tukey HSD test result to data frame\n",
    "tukey_df_Developer <- as.data.frame(tukey_result_Developer$Developer)\n",
    "\n",
    "# Create a new column for Developer names\n",
    "tukey_df_Developer$Developer <- rownames(tukey_df_Developer)"
   ]
  },
  {
   "cell_type": "code",
   "execution_count": 32,
   "metadata": {
    "vscode": {
     "languageId": "r"
    }
   },
   "outputs": [],
   "source": [
    "# filter for p value < 0.00025\n",
    "significant_tukey_df_Developer <- tukey_df_Developer %>%\n",
    "  filter(`p adj` < 0.00025)"
   ]
  },
  {
   "cell_type": "code",
   "execution_count": 33,
   "metadata": {
    "vscode": {
     "languageId": "r"
    }
   },
   "outputs": [
    {
     "data": {
      "text/html": [
       "120"
      ],
      "text/latex": [
       "120"
      ],
      "text/markdown": [
       "120"
      ],
      "text/plain": [
       "[1] 120"
      ]
     },
     "metadata": {},
     "output_type": "display_data"
    },
    {
     "data": {
      "text/html": [
       "<style>\n",
       ".list-inline {list-style: none; margin:0; padding: 0}\n",
       ".list-inline>li {display: inline-block}\n",
       ".list-inline>li:not(:last-child)::after {content: \"\\00b7\"; padding: 0 .5ex}\n",
       "</style>\n",
       "<ol class=list-inline><li>'Big Fish Games'</li><li>'Dramatic Create'</li><li>'Idea Factory'</li><li>'QuinRose'</li><li>'EA Canada'</li><li>'EA Tiburon'</li><li>'Traveller\\'s Tales'</li><li>'Arkane Studios'</li><li>'Atlus'</li><li>'Avalanche Software'</li><li>'BioWare Corp.'</li><li>'Codemasters'</li><li>'Codemasters Birmingham'</li><li>'CyberConnect2'</li><li>'Dimps Corporation'</li><li>'EA Bright Light'</li><li>'EA Vancouver'</li><li>'Eidos Montreal'</li><li>'Exient Entertainment'</li><li>'Gearbox Software'</li><li>'High Moon Studios'</li><li>'Infinity Ward'</li><li>'Intelligent Systems'</li><li>'IO Interactive'</li><li>'Kojima Productions'</li><li>'Konami'</li><li>'Level 5'</li><li>'MachineGames'</li><li>'Omega Force'</li><li>'PlatinumGames'</li><li>'SCE San Diego Studio'</li><li>'Sega'</li><li>'Square Enix'</li><li>'Tango Gameworks'</li><li>'The Sims Studio'</li><li>'THQ'</li><li>'Toys for Bob'</li><li>'TT Fusion'</li><li>'Ubisoft Montreal'</li><li>'Vicarious Visions'</li><li>'Visual Concepts'</li><li>'Yuke\\'s'</li><li>'Alchemist'</li><li>'Capcom'</li><li>'Firaxis Games'</li><li>'From Software'</li><li>'Giants Software'</li><li>'Rebellion Developments'</li><li>'Ubisoft'</li><li>'Entergram'</li><li>'Cave'</li><li>'CyberFront'</li><li>'FuRyu'</li><li>'GSP'</li><li>'Kadokawa Games'</li><li>'Kadokawa Shoten'</li><li>'KING Art Games'</li><li>'Koei Tecmo Games'</li><li>'Little Orbit'</li><li>'Microids'</li><li>'Nippon Ichi Software'</li><li>'Otomate'</li><li>'Prototype'</li><li>'Success'</li><li>'Crytek'</li><li>'Team Ninja'</li><li>'Ubisoft Montpellier'</li><li>'EA DICE'</li><li>'Griptonite Games'</li><li>'Harmonix Music Systems'</li><li>'id Software'</li><li>'JAKKS Pacific'</li><li>'Marvelous Entertainment'</li><li>'Monolith Soft'</li><li>'Ninja Theory'</li><li>'PES Productions'</li><li>'Pipeworks Software, Inc.'</li><li>'Spike'</li><li>'Sumo Digital'</li><li>'Telltale Games'</li><li>'Ubisoft Reflections'</li><li>'Vigil Games'</li><li>'EKO Software'</li><li>'Experience Inc.'</li><li>'FuRyu Corporation'</li><li>'Games Farm'</li><li>'Gust'</li><li>'Gusto Games'</li><li>'HB Studios'</li><li>'HuneX'</li><li>'Inti Creates'</li><li>'Koei'</li><li>'Kylotonn Entertainment'</li><li>'Milestone S.r.l'</li><li>'Milestone S.r.l.'</li><li>'Monkey Bar Games'</li><li>'Namco Bandai Games'</li><li>'Nippon Columbia'</li><li>'Outright Games'</li><li>'Russel'</li><li>'Spike Chunsoft'</li><li>'Starfish SD'</li><li>'Storm City Games'</li><li>'Studio Saizensen'</li><li>'System Soft'</li><li>'Tecmo Koei Games'</li><li>'Torus Games'</li><li>'UFO Interactive'</li><li>'UIG Entertainment'</li><li>'Weappy Studio'</li><li>'WizarBox'</li><li>'Zoo Games'</li><li>'Nihon Falcom Corporation'</li><li>'PopCap Games'</li><li>'Slightly Mad Studios'</li><li>'Volition Inc.'</li><li>'WayForward Technologies'</li><li>'Zoe Mode'</li><li>'Supermassive Games Ltd.'</li><li>'United Front Games'</li></ol>\n"
      ],
      "text/latex": [
       "\\begin{enumerate*}\n",
       "\\item 'Big Fish Games'\n",
       "\\item 'Dramatic Create'\n",
       "\\item 'Idea Factory'\n",
       "\\item 'QuinRose'\n",
       "\\item 'EA Canada'\n",
       "\\item 'EA Tiburon'\n",
       "\\item 'Traveller\\textbackslash{}'s Tales'\n",
       "\\item 'Arkane Studios'\n",
       "\\item 'Atlus'\n",
       "\\item 'Avalanche Software'\n",
       "\\item 'BioWare Corp.'\n",
       "\\item 'Codemasters'\n",
       "\\item 'Codemasters Birmingham'\n",
       "\\item 'CyberConnect2'\n",
       "\\item 'Dimps Corporation'\n",
       "\\item 'EA Bright Light'\n",
       "\\item 'EA Vancouver'\n",
       "\\item 'Eidos Montreal'\n",
       "\\item 'Exient Entertainment'\n",
       "\\item 'Gearbox Software'\n",
       "\\item 'High Moon Studios'\n",
       "\\item 'Infinity Ward'\n",
       "\\item 'Intelligent Systems'\n",
       "\\item 'IO Interactive'\n",
       "\\item 'Kojima Productions'\n",
       "\\item 'Konami'\n",
       "\\item 'Level 5'\n",
       "\\item 'MachineGames'\n",
       "\\item 'Omega Force'\n",
       "\\item 'PlatinumGames'\n",
       "\\item 'SCE San Diego Studio'\n",
       "\\item 'Sega'\n",
       "\\item 'Square Enix'\n",
       "\\item 'Tango Gameworks'\n",
       "\\item 'The Sims Studio'\n",
       "\\item 'THQ'\n",
       "\\item 'Toys for Bob'\n",
       "\\item 'TT Fusion'\n",
       "\\item 'Ubisoft Montreal'\n",
       "\\item 'Vicarious Visions'\n",
       "\\item 'Visual Concepts'\n",
       "\\item 'Yuke\\textbackslash{}'s'\n",
       "\\item 'Alchemist'\n",
       "\\item 'Capcom'\n",
       "\\item 'Firaxis Games'\n",
       "\\item 'From Software'\n",
       "\\item 'Giants Software'\n",
       "\\item 'Rebellion Developments'\n",
       "\\item 'Ubisoft'\n",
       "\\item 'Entergram'\n",
       "\\item 'Cave'\n",
       "\\item 'CyberFront'\n",
       "\\item 'FuRyu'\n",
       "\\item 'GSP'\n",
       "\\item 'Kadokawa Games'\n",
       "\\item 'Kadokawa Shoten'\n",
       "\\item 'KING Art Games'\n",
       "\\item 'Koei Tecmo Games'\n",
       "\\item 'Little Orbit'\n",
       "\\item 'Microids'\n",
       "\\item 'Nippon Ichi Software'\n",
       "\\item 'Otomate'\n",
       "\\item 'Prototype'\n",
       "\\item 'Success'\n",
       "\\item 'Crytek'\n",
       "\\item 'Team Ninja'\n",
       "\\item 'Ubisoft Montpellier'\n",
       "\\item 'EA DICE'\n",
       "\\item 'Griptonite Games'\n",
       "\\item 'Harmonix Music Systems'\n",
       "\\item 'id Software'\n",
       "\\item 'JAKKS Pacific'\n",
       "\\item 'Marvelous Entertainment'\n",
       "\\item 'Monolith Soft'\n",
       "\\item 'Ninja Theory'\n",
       "\\item 'PES Productions'\n",
       "\\item 'Pipeworks Software, Inc.'\n",
       "\\item 'Spike'\n",
       "\\item 'Sumo Digital'\n",
       "\\item 'Telltale Games'\n",
       "\\item 'Ubisoft Reflections'\n",
       "\\item 'Vigil Games'\n",
       "\\item 'EKO Software'\n",
       "\\item 'Experience Inc.'\n",
       "\\item 'FuRyu Corporation'\n",
       "\\item 'Games Farm'\n",
       "\\item 'Gust'\n",
       "\\item 'Gusto Games'\n",
       "\\item 'HB Studios'\n",
       "\\item 'HuneX'\n",
       "\\item 'Inti Creates'\n",
       "\\item 'Koei'\n",
       "\\item 'Kylotonn Entertainment'\n",
       "\\item 'Milestone S.r.l'\n",
       "\\item 'Milestone S.r.l.'\n",
       "\\item 'Monkey Bar Games'\n",
       "\\item 'Namco Bandai Games'\n",
       "\\item 'Nippon Columbia'\n",
       "\\item 'Outright Games'\n",
       "\\item 'Russel'\n",
       "\\item 'Spike Chunsoft'\n",
       "\\item 'Starfish SD'\n",
       "\\item 'Storm City Games'\n",
       "\\item 'Studio Saizensen'\n",
       "\\item 'System Soft'\n",
       "\\item 'Tecmo Koei Games'\n",
       "\\item 'Torus Games'\n",
       "\\item 'UFO Interactive'\n",
       "\\item 'UIG Entertainment'\n",
       "\\item 'Weappy Studio'\n",
       "\\item 'WizarBox'\n",
       "\\item 'Zoo Games'\n",
       "\\item 'Nihon Falcom Corporation'\n",
       "\\item 'PopCap Games'\n",
       "\\item 'Slightly Mad Studios'\n",
       "\\item 'Volition Inc.'\n",
       "\\item 'WayForward Technologies'\n",
       "\\item 'Zoe Mode'\n",
       "\\item 'Supermassive Games Ltd.'\n",
       "\\item 'United Front Games'\n",
       "\\end{enumerate*}\n"
      ],
      "text/markdown": [
       "1. 'Big Fish Games'\n",
       "2. 'Dramatic Create'\n",
       "3. 'Idea Factory'\n",
       "4. 'QuinRose'\n",
       "5. 'EA Canada'\n",
       "6. 'EA Tiburon'\n",
       "7. 'Traveller\\'s Tales'\n",
       "8. 'Arkane Studios'\n",
       "9. 'Atlus'\n",
       "10. 'Avalanche Software'\n",
       "11. 'BioWare Corp.'\n",
       "12. 'Codemasters'\n",
       "13. 'Codemasters Birmingham'\n",
       "14. 'CyberConnect2'\n",
       "15. 'Dimps Corporation'\n",
       "16. 'EA Bright Light'\n",
       "17. 'EA Vancouver'\n",
       "18. 'Eidos Montreal'\n",
       "19. 'Exient Entertainment'\n",
       "20. 'Gearbox Software'\n",
       "21. 'High Moon Studios'\n",
       "22. 'Infinity Ward'\n",
       "23. 'Intelligent Systems'\n",
       "24. 'IO Interactive'\n",
       "25. 'Kojima Productions'\n",
       "26. 'Konami'\n",
       "27. 'Level 5'\n",
       "28. 'MachineGames'\n",
       "29. 'Omega Force'\n",
       "30. 'PlatinumGames'\n",
       "31. 'SCE San Diego Studio'\n",
       "32. 'Sega'\n",
       "33. 'Square Enix'\n",
       "34. 'Tango Gameworks'\n",
       "35. 'The Sims Studio'\n",
       "36. 'THQ'\n",
       "37. 'Toys for Bob'\n",
       "38. 'TT Fusion'\n",
       "39. 'Ubisoft Montreal'\n",
       "40. 'Vicarious Visions'\n",
       "41. 'Visual Concepts'\n",
       "42. 'Yuke\\'s'\n",
       "43. 'Alchemist'\n",
       "44. 'Capcom'\n",
       "45. 'Firaxis Games'\n",
       "46. 'From Software'\n",
       "47. 'Giants Software'\n",
       "48. 'Rebellion Developments'\n",
       "49. 'Ubisoft'\n",
       "50. 'Entergram'\n",
       "51. 'Cave'\n",
       "52. 'CyberFront'\n",
       "53. 'FuRyu'\n",
       "54. 'GSP'\n",
       "55. 'Kadokawa Games'\n",
       "56. 'Kadokawa Shoten'\n",
       "57. 'KING Art Games'\n",
       "58. 'Koei Tecmo Games'\n",
       "59. 'Little Orbit'\n",
       "60. 'Microids'\n",
       "61. 'Nippon Ichi Software'\n",
       "62. 'Otomate'\n",
       "63. 'Prototype'\n",
       "64. 'Success'\n",
       "65. 'Crytek'\n",
       "66. 'Team Ninja'\n",
       "67. 'Ubisoft Montpellier'\n",
       "68. 'EA DICE'\n",
       "69. 'Griptonite Games'\n",
       "70. 'Harmonix Music Systems'\n",
       "71. 'id Software'\n",
       "72. 'JAKKS Pacific'\n",
       "73. 'Marvelous Entertainment'\n",
       "74. 'Monolith Soft'\n",
       "75. 'Ninja Theory'\n",
       "76. 'PES Productions'\n",
       "77. 'Pipeworks Software, Inc.'\n",
       "78. 'Spike'\n",
       "79. 'Sumo Digital'\n",
       "80. 'Telltale Games'\n",
       "81. 'Ubisoft Reflections'\n",
       "82. 'Vigil Games'\n",
       "83. 'EKO Software'\n",
       "84. 'Experience Inc.'\n",
       "85. 'FuRyu Corporation'\n",
       "86. 'Games Farm'\n",
       "87. 'Gust'\n",
       "88. 'Gusto Games'\n",
       "89. 'HB Studios'\n",
       "90. 'HuneX'\n",
       "91. 'Inti Creates'\n",
       "92. 'Koei'\n",
       "93. 'Kylotonn Entertainment'\n",
       "94. 'Milestone S.r.l'\n",
       "95. 'Milestone S.r.l.'\n",
       "96. 'Monkey Bar Games'\n",
       "97. 'Namco Bandai Games'\n",
       "98. 'Nippon Columbia'\n",
       "99. 'Outright Games'\n",
       "100. 'Russel'\n",
       "101. 'Spike Chunsoft'\n",
       "102. 'Starfish SD'\n",
       "103. 'Storm City Games'\n",
       "104. 'Studio Saizensen'\n",
       "105. 'System Soft'\n",
       "106. 'Tecmo Koei Games'\n",
       "107. 'Torus Games'\n",
       "108. 'UFO Interactive'\n",
       "109. 'UIG Entertainment'\n",
       "110. 'Weappy Studio'\n",
       "111. 'WizarBox'\n",
       "112. 'Zoo Games'\n",
       "113. 'Nihon Falcom Corporation'\n",
       "114. 'PopCap Games'\n",
       "115. 'Slightly Mad Studios'\n",
       "116. 'Volition Inc.'\n",
       "117. 'WayForward Technologies'\n",
       "118. 'Zoe Mode'\n",
       "119. 'Supermassive Games Ltd.'\n",
       "120. 'United Front Games'\n",
       "\n",
       "\n"
      ],
      "text/plain": [
       "  [1] \"Big Fish Games\"           \"Dramatic Create\"         \n",
       "  [3] \"Idea Factory\"             \"QuinRose\"                \n",
       "  [5] \"EA Canada\"                \"EA Tiburon\"              \n",
       "  [7] \"Traveller's Tales\"        \"Arkane Studios\"          \n",
       "  [9] \"Atlus\"                    \"Avalanche Software\"      \n",
       " [11] \"BioWare Corp.\"            \"Codemasters\"             \n",
       " [13] \"Codemasters Birmingham\"   \"CyberConnect2\"           \n",
       " [15] \"Dimps Corporation\"        \"EA Bright Light\"         \n",
       " [17] \"EA Vancouver\"             \"Eidos Montreal\"          \n",
       " [19] \"Exient Entertainment\"     \"Gearbox Software\"        \n",
       " [21] \"High Moon Studios\"        \"Infinity Ward\"           \n",
       " [23] \"Intelligent Systems\"      \"IO Interactive\"          \n",
       " [25] \"Kojima Productions\"       \"Konami\"                  \n",
       " [27] \"Level 5\"                  \"MachineGames\"            \n",
       " [29] \"Omega Force\"              \"PlatinumGames\"           \n",
       " [31] \"SCE San Diego Studio\"     \"Sega\"                    \n",
       " [33] \"Square Enix\"              \"Tango Gameworks\"         \n",
       " [35] \"The Sims Studio\"          \"THQ\"                     \n",
       " [37] \"Toys for Bob\"             \"TT Fusion\"               \n",
       " [39] \"Ubisoft Montreal\"         \"Vicarious Visions\"       \n",
       " [41] \"Visual Concepts\"          \"Yuke's\"                  \n",
       " [43] \"Alchemist\"                \"Capcom\"                  \n",
       " [45] \"Firaxis Games\"            \"From Software\"           \n",
       " [47] \"Giants Software\"          \"Rebellion Developments\"  \n",
       " [49] \"Ubisoft\"                  \"Entergram\"               \n",
       " [51] \"Cave\"                     \"CyberFront\"              \n",
       " [53] \"FuRyu\"                    \"GSP\"                     \n",
       " [55] \"Kadokawa Games\"           \"Kadokawa Shoten\"         \n",
       " [57] \"KING Art Games\"           \"Koei Tecmo Games\"        \n",
       " [59] \"Little Orbit\"             \"Microids\"                \n",
       " [61] \"Nippon Ichi Software\"     \"Otomate\"                 \n",
       " [63] \"Prototype\"                \"Success\"                 \n",
       " [65] \"Crytek\"                   \"Team Ninja\"              \n",
       " [67] \"Ubisoft Montpellier\"      \"EA DICE\"                 \n",
       " [69] \"Griptonite Games\"         \"Harmonix Music Systems\"  \n",
       " [71] \"id Software\"              \"JAKKS Pacific\"           \n",
       " [73] \"Marvelous Entertainment\"  \"Monolith Soft\"           \n",
       " [75] \"Ninja Theory\"             \"PES Productions\"         \n",
       " [77] \"Pipeworks Software, Inc.\" \"Spike\"                   \n",
       " [79] \"Sumo Digital\"             \"Telltale Games\"          \n",
       " [81] \"Ubisoft Reflections\"      \"Vigil Games\"             \n",
       " [83] \"EKO Software\"             \"Experience Inc.\"         \n",
       " [85] \"FuRyu Corporation\"        \"Games Farm\"              \n",
       " [87] \"Gust\"                     \"Gusto Games\"             \n",
       " [89] \"HB Studios\"               \"HuneX\"                   \n",
       " [91] \"Inti Creates\"             \"Koei\"                    \n",
       " [93] \"Kylotonn Entertainment\"   \"Milestone S.r.l\"         \n",
       " [95] \"Milestone S.r.l.\"         \"Monkey Bar Games\"        \n",
       " [97] \"Namco Bandai Games\"       \"Nippon Columbia\"         \n",
       " [99] \"Outright Games\"           \"Russel\"                  \n",
       "[101] \"Spike Chunsoft\"           \"Starfish SD\"             \n",
       "[103] \"Storm City Games\"         \"Studio Saizensen\"        \n",
       "[105] \"System Soft\"              \"Tecmo Koei Games\"        \n",
       "[107] \"Torus Games\"              \"UFO Interactive\"         \n",
       "[109] \"UIG Entertainment\"        \"Weappy Studio\"           \n",
       "[111] \"WizarBox\"                 \"Zoo Games\"               \n",
       "[113] \"Nihon Falcom Corporation\" \"PopCap Games\"            \n",
       "[115] \"Slightly Mad Studios\"     \"Volition Inc.\"           \n",
       "[117] \"WayForward Technologies\"  \"Zoe Mode\"                \n",
       "[119] \"Supermassive Games Ltd.\"  \"United Front Games\"      "
      ]
     },
     "metadata": {},
     "output_type": "display_data"
    }
   ],
   "source": [
    "# Split the \"Developer\" column into two columns\n",
    "significant_tukey_df_Developer <- significant_tukey_df_Developer %>%\n",
    "  separate(Developer, into = c(\"Developer1\", \"Developer2\"), sep = \"-\", extra = \"merge\", remove = FALSE)\n",
    "\n",
    "\n",
    "# Create a vector of all unique significant developers\n",
    "all_significant_developers <- unique(significant_tukey_df_Developer$Developer1)\n",
    "\n",
    "# Remove NAs (if any)\n",
    "all_significant_developers <- all_significant_developers[!is.na(all_significant_developers)]\n",
    "length (all_significant_developers)\n",
    "\n",
    "all_significant_developers"
   ]
  },
  {
   "cell_type": "markdown",
   "metadata": {},
   "source": [
    "Group Publisher & Developer"
   ]
  },
  {
   "cell_type": "code",
   "execution_count": 34,
   "metadata": {
    "vscode": {
     "languageId": "r"
    }
   },
   "outputs": [
    {
     "name": "stdout",
     "output_type": "stream",
     "text": [
      " [1] \"Namco Bandai Games\"                    \n",
      " [2] \"Activision\"                            \n",
      " [3] \"Ubisoft\"                               \n",
      " [4] \"Sega\"                                  \n",
      " [5] \"Tecmo Koei\"                            \n",
      " [6] \"Capcom\"                                \n",
      " [7] \"Electronic Arts\"                       \n",
      " [8] \"Namco Bandai\"                          \n",
      " [9] \"Warner Bros. Interactive Entertainment\"\n",
      "[10] \"THQ\"                                   \n",
      "[11] \"Konami\"                                \n",
      "[12] \"Square Enix\"                           \n",
      "[13] \"Nintendo\"                              \n",
      "[14] \"Sony Computer Entertainment\"           \n",
      "[15] \"EA Sports\"                             \n",
      "[16] \"Konami Digital Entertainment\"          \n",
      "[17] \"NIS America\"                           \n",
      "[18] \"Deep Silver\"                           \n",
      "[19] \"Idea Factory\"                          \n",
      "[20] \"505 Games\"                             \n",
      "[21] \"Focus Home Interactive\"                \n",
      "[22] \"Atlus\"                                 \n",
      "[23] \"Disney Interactive Studios\"            \n",
      "[24] \"Aksys Games\"                           \n",
      "[25] \"D3 Publisher\"                          \n",
      " [1] \"Bandai Namco Games\"   \"Capcom\"               \"Namco Bandai Games\"  \n",
      " [4] \"Konami\"               \"Omega Force\"          \"Ubisoft\"             \n",
      " [7] \"Idea Factory\"         \"EA Canada\"            \"Sega\"                \n",
      "[10] \"Telltale Games\"       \"Traveller's Tales\"    \"Arc System Works\"    \n",
      "[13] \"Nippon Ichi Software\" \"THQ\"                  \"EA Tiburon\"          \n",
      "[16] \"Square Enix\"          \"TT Fusion\"            \"Activision\"          \n",
      "[19] \"Visual Concepts\"      \"Compile Heart\"        \"Gust\"                \n",
      "[22] \"Ubisoft Montreal\"     \"Koei Tecmo Games\"     \"Milestone S.r.l.\"    \n",
      "[25] \"Level 5\"             \n"
     ]
    }
   ],
   "source": [
    "########################################################\n",
    "# Explore grouping Publisher & Developer into Top 25 based on count frequency\n",
    "'''\n",
    "# Calculate the frequency of each Publisher\n",
    "publisher_counts <- data %>%\n",
    "  count(Publisher) %>%\n",
    "  arrange(desc(n))\n",
    "\n",
    "# Calculate the frequency of each Developer\n",
    "developer_counts <- data %>%\n",
    "  count(Developer) %>%\n",
    "  arrange(desc(n))\n",
    "\n",
    "# Extract the top 25 unique publishers and developers based on count frequency\n",
    "top_publishers <- publisher_counts$Publisher %>%\n",
    "  unique() %>%\n",
    "  head(25)\n",
    "\n",
    "top_developers <- developer_counts$Developer %>%\n",
    "  unique() %>%\n",
    "  head(25)\n",
    "\n",
    "# View the top 25\n",
    "print(top_publishers)\n",
    "print(top_developers)\n",
    "'''"
   ]
  },
  {
   "cell_type": "code",
   "execution_count": 35,
   "metadata": {
    "vscode": {
     "languageId": "r"
    }
   },
   "outputs": [],
   "source": [
    "# Noted Data Inconsistencies under both Publisher & Developer columns\n",
    "# Re-run Data Processing - to clean up data inconsistencies prior to grouping top 25\n",
    "\n",
    "# Change 'Publisher' column to character\n",
    "data$Publisher <- as.character(data$Publisher)\n",
    "\n",
    "# Replace specified values\n",
    "data$Publisher <- gsub('Namco Bandai Games|Namco Bandai|Namco|Namco Networks America Inc.', 'Bandai Namco', data$Publisher)\n",
    "data$Publisher <- gsub('Warner Bros. Interactive Entertainment', 'Warner Bros. Interactive', data$Publisher)\n",
    "data$Publisher <- gsub('Konami Digital Entertainment', 'Konami', data$Publisher)\n",
    "data$Publisher <- gsub('THQ Nordic', 'THQ', data$Publisher)\n",
    "data$Publisher <- gsub('Sony Computer Entertainment|Sony Computer Entertainment America|Sony Computer Entertainment Europe|Sony Interactive Entertainment|Sony Online Entertainment', 'Sony', data$Publisher)\n",
    "data$Publisher <- gsub('Tecmo Koei', 'Tecmo', data$Publisher)\n",
    "data$Publisher <- gsub('EA Sports', 'Electronic Arts', data$Publisher)\n",
    "\n",
    "# Convert 'Publisher' back to factor\n",
    "data$Publisher <- as.factor(data$Publisher)"
   ]
  },
  {
   "cell_type": "code",
   "execution_count": 36,
   "metadata": {
    "vscode": {
     "languageId": "r"
    }
   },
   "outputs": [],
   "source": [
    "# Change 'Developer' column to character\n",
    "data$Developer <- as.character(data$Developer)\n",
    "\n",
    "# Define a mapping of replacements as a named vector\n",
    "developer_replacements <- c(\n",
    "  'Atlus Co.|Atlus Co. / Lancarse' = 'Atlus',\n",
    "  'Avalanche Software|Avalanche Studios' = 'Avalanche',\n",
    "  'Bandai|Bandai Namco|Bandai Namco Games|Bandai Namco Studios|Namco|Namco Bandai|Namco Bandai Games|Namco Bandai Games / Celius|Namco Bandai Games America|Namco Tales Studio' = 'Bandai Namco',\n",
    "  'Beenox Studios' = 'Beenox',\n",
    "  'Behaviour Interactive Inc.' = 'Behaviour Interactive',\n",
    "  'Black Lantern Studios, Inc.' = 'Black Lantern Studios',\n",
    "  'Capcom / Dimps Corporation|Capcom Production Studio 1' = 'Capcom',\n",
    "  'Codemasters Birmingham' = 'Codemasters',\n",
    "  'Cyanide Studio|Cyanide Studios' = 'Cyanide',\n",
    "  'EA|EA Black Box|EA Bright Light|EA Canada|EA DICE|EA Digital Illusions CE|EA Los Angeles|EA Montreal|EA Redwood Shores|EA Salt Lake|EA Sports|EA Tiburon|EA Vancouver' = 'Electronic Arts',\n",
    "  'Gusto Games' = 'Gust',\n",
    "  'Koei Tecmo Games' = 'Koei',\n",
    "  'Konami Computer Entertainment Japan|Konami Digital Entertainment|Konami Digital Entertainment, Inc.' = 'Konami',\n",
    "  'Level 5 / Armor Project|Level 5/Brownie Brown|Level 5/Studio Ghibli' = 'Level 5',\n",
    "  'Nippon Ichi Software / Gust' = 'Nippon Ichi Software',\n",
    "  'Sega CS3|Sega Sports R&D|Sega Studios Australia|Sega Studios, San Francisco|Sega WOW Overworks|Sega-AM2' = 'Sega',\n",
    "  'Square Enix|Square-Enix' = 'Square',\n",
    "  'THQ Australia Studios Pty Ltd.|THQ Digital Phoenix|THQ Nordic' = 'THQ',\n",
    "  'Ubisoft Annecy|Ubisoft Barcelona|Ubisoft Bucharest|Ubisoft Milan|Ubisoft Montpellier|Ubisoft Montreal|Ubisoft Nagoya|Ubisoft Paris|Ubisoft Pune|Ubisoft Quebec|Ubisoft Quebec City|Ubisoft Reflections|Ubisoft Romania|Ubisoft San Francisco|Ubisoft Shanghai|Ubisoft Sofia|Ubisoft Toronto|Ubisoft Vancouver' = 'Ubisoft',\n",
    "  'Visual Concepts, Ltd.' = 'Visual Concepts'\n",
    ")\n",
    "\n",
    "# Use str_replace_all to apply the replacements\n",
    "data$Developer <- str_replace_all(data$Developer, developer_replacements)\n",
    "\n",
    "# Convert 'Developer' back to factor\n",
    "data$Developer <- as.factor(data$Developer)"
   ]
  },
  {
   "cell_type": "code",
   "execution_count": 37,
   "metadata": {
    "vscode": {
     "languageId": "r"
    }
   },
   "outputs": [],
   "source": [
    "data$Developer <- gsub('Bandai Namco Bandai Namco Games', 'Bandai Namco', data$Developer)\n",
    "data$Developer <- gsub('Electronic Arts Canada', 'Electronic Arts', data$Developer)\n",
    "data$Developer <- gsub('Electronic Arts Tiburon', 'Electronic Arts', data$Developer)\n",
    "\n",
    "# Convert 'Developer' back to factor\n",
    "data$Developer <- as.factor(data$Developer)"
   ]
  },
  {
   "cell_type": "code",
   "execution_count": 38,
   "metadata": {
    "vscode": {
     "languageId": "r"
    }
   },
   "outputs": [
    {
     "name": "stdout",
     "output_type": "stream",
     "text": [
      " [1] Bandai Namco               Activision                \n",
      " [3] Electronic Arts            Ubisoft                   \n",
      " [5] Konami                     THQ                       \n",
      " [7] Warner Bros. Interactive   Sega                      \n",
      " [9] Tecmo                      Capcom                    \n",
      "[11] Sony                       Square Enix               \n",
      "[13] Nintendo                   NIS America               \n",
      "[15] Deep Silver                Idea Factory              \n",
      "[17] 505 Games                  Focus Home Interactive    \n",
      "[19] Atlus                      Disney Interactive Studios\n",
      "[21] Aksys Games                D3 Publisher              \n",
      "[23] Xseed Games                2K Games                  \n",
      "[25] 2K Sports                 \n",
      "613 Levels: 11 bit studios 17_Bit 1C Company 2K Games 2K Play ... ZOV GAME STUDIO\n",
      " [1] Bandai Namco             Ubisoft                  Electronic Arts         \n",
      " [4] Capcom                   Konami                   Omega Force             \n",
      " [7] Idea Factory             Sega                     Koei                    \n",
      "[10] THQ                      Telltale Games           Traveller's Tales       \n",
      "[13] Nippon Ichi Software     Arc System Works         Codemasters             \n",
      "[16] Visual Concepts          Gust                     Square                  \n",
      "[19] TT Fusion                Activision               Compile Heart           \n",
      "[22] Milestone S.r.l.         Level 5                  Spike Chunsoft          \n",
      "[25] Nihon Falcom Corporation\n",
      "1381 Levels: 11 bit studios 13AM Games 17_Bit 1C Company ... Zushi Games Ltd\n"
     ]
    }
   ],
   "source": [
    "########################################################\n",
    "# Re-group Top 25 after addressing data inconsistencies\n",
    "\n",
    "# Calculate the frequency of each Publisher\n",
    "publisher_counts <- data %>%\n",
    "  count(Publisher) %>%\n",
    "  arrange(desc(n))\n",
    "\n",
    "# Calculate the frequency of each Developer\n",
    "developer_counts <- data %>%\n",
    "  count(Developer) %>%\n",
    "  arrange(desc(n))\n",
    "\n",
    "# Extract the top 25 unique publishers and developers based on count frequency\n",
    "top_publishers <- publisher_counts$Publisher %>%\n",
    "  unique() %>%\n",
    "  head(25)\n",
    "\n",
    "top_developers <- developer_counts$Developer %>%\n",
    "  unique() %>%\n",
    "  head(25)\n",
    "\n",
    "# View the top 25\n",
    "print(top_publishers)\n",
    "print(top_developers)"
   ]
  },
  {
   "cell_type": "code",
   "execution_count": 39,
   "metadata": {
    "vscode": {
     "languageId": "r"
    }
   },
   "outputs": [],
   "source": [
    "# Create a function to replace with \"Others\" if not in the top list\n",
    "replace_with_others <- function(names, top_names) {\n",
    "  names <- as.character(names)\n",
    "  names[!names %in% top_names] <- \"Others\"\n",
    "  names <- as.factor(names)\n",
    "  return(names)\n",
    "}\n",
    "\n",
    "# Replace publishers and developers in the original data frame\n",
    "data$Publisher <- replace_with_others(data$Publisher, top_publishers)\n",
    "data$Developer <- replace_with_others(data$Developer, top_developers)"
   ]
  },
  {
   "cell_type": "code",
   "execution_count": 40,
   "metadata": {
    "vscode": {
     "languageId": "r"
    }
   },
   "outputs": [
    {
     "data": {
      "text/html": [
       "<style>\n",
       ".dl-inline {width: auto; margin:0; padding: 0}\n",
       ".dl-inline>dt, .dl-inline>dd {float: none; width: auto; display: inline-block}\n",
       ".dl-inline>dt::after {content: \":\\0020\"; padding-right: .5ex}\n",
       ".dl-inline>dt:not(:first-of-type) {padding-left: .5ex}\n",
       "</style><dl class=dl-inline><dt>Rank</dt><dd>6072</dd><dt>Title</dt><dd>4051</dd><dt>Console</dt><dd>17</dd><dt>Publisher</dt><dd>26</dd><dt>Developer</dt><dd>26</dd><dt>Genre</dt><dd>13</dd><dt>ReleaseYear</dt><dd>9</dd><dt>ReleaseQuarter</dt><dd>4</dd><dt>ReleaseMonth</dt><dd>12</dd><dt>ReleaseWeek</dt><dd>53</dd><dt>ReleaseDay</dt><dd>7</dd><dt>ReleaseWeekend</dt><dd>2</dd><dt>EndOfMonth</dt><dd>2</dd><dt>TotalSales</dt><dd>94</dd><dt>YearsSinceRelease</dt><dd>9</dd><dt>log_transformed_total_sales</dt><dd>94</dd></dl>\n"
      ],
      "text/latex": [
       "\\begin{description*}\n",
       "\\item[Rank] 6072\n",
       "\\item[Title] 4051\n",
       "\\item[Console] 17\n",
       "\\item[Publisher] 26\n",
       "\\item[Developer] 26\n",
       "\\item[Genre] 13\n",
       "\\item[ReleaseYear] 9\n",
       "\\item[ReleaseQuarter] 4\n",
       "\\item[ReleaseMonth] 12\n",
       "\\item[ReleaseWeek] 53\n",
       "\\item[ReleaseDay] 7\n",
       "\\item[ReleaseWeekend] 2\n",
       "\\item[EndOfMonth] 2\n",
       "\\item[TotalSales] 94\n",
       "\\item[YearsSinceRelease] 9\n",
       "\\item[log\\textbackslash{}\\_transformed\\textbackslash{}\\_total\\textbackslash{}\\_sales] 94\n",
       "\\end{description*}\n"
      ],
      "text/markdown": [
       "Rank\n",
       ":   6072Title\n",
       ":   4051Console\n",
       ":   17Publisher\n",
       ":   26Developer\n",
       ":   26Genre\n",
       ":   13ReleaseYear\n",
       ":   9ReleaseQuarter\n",
       ":   4ReleaseMonth\n",
       ":   12ReleaseWeek\n",
       ":   53ReleaseDay\n",
       ":   7ReleaseWeekend\n",
       ":   2EndOfMonth\n",
       ":   2TotalSales\n",
       ":   94YearsSinceRelease\n",
       ":   9log_transformed_total_sales\n",
       ":   94\n",
       "\n"
      ],
      "text/plain": [
       "                       Rank                       Title \n",
       "                       6072                        4051 \n",
       "                    Console                   Publisher \n",
       "                         17                          26 \n",
       "                  Developer                       Genre \n",
       "                         26                          13 \n",
       "                ReleaseYear              ReleaseQuarter \n",
       "                          9                           4 \n",
       "               ReleaseMonth                 ReleaseWeek \n",
       "                         12                          53 \n",
       "                 ReleaseDay              ReleaseWeekend \n",
       "                          7                           2 \n",
       "                 EndOfMonth                  TotalSales \n",
       "                          2                          94 \n",
       "          YearsSinceRelease log_transformed_total_sales \n",
       "                          9                          94 "
      ]
     },
     "metadata": {},
     "output_type": "display_data"
    }
   ],
   "source": [
    "########################################################\n",
    "# Check the number of distinct values for the variables\n",
    "\n",
    "sapply(data, function(x) n_distinct(x))"
   ]
  },
  {
   "cell_type": "code",
   "execution_count": 41,
   "metadata": {
    "vscode": {
     "languageId": "r"
    }
   },
   "outputs": [
    {
     "name": "stdout",
     "output_type": "stream",
     "text": [
      "'data.frame':\t6072 obs. of  16 variables:\n",
      " $ Rank                       : int  2703 2706 2707 2713 2716 2717 2722 2726 2731 2732 ...\n",
      " $ Title                      : chr  \"Dust: An Elysian Tail\" \"Zombie Army Trilogy\" \"Borderlands 2\" \"EA Sports Active 2\" ...\n",
      " $ Console                    : Factor w/ 21 levels \"3DS\",\"Amig\",\"DS\",..: 7 7 7 9 10 19 21 9 7 7 ...\n",
      " $ Publisher                  : Factor w/ 26 levels \"2K Games\",\"2K Sports\",..: 18 18 1 12 25 25 2 4 18 18 ...\n",
      " $ Developer                  : Factor w/ 26 levels \"Activision\",\"Arc System Works\",..: 17 17 17 17 23 23 26 17 17 17 ...\n",
      " $ Genre                      : Factor w/ 13 levels \"Action\",\"Action-Adventure\",..: 6 10 10 12 1 1 12 1 10 7 ...\n",
      " $ ReleaseYear                : int  2013 2015 2012 2010 2014 2014 2013 2011 2010 2014 ...\n",
      " $ ReleaseQuarter             : int  2 2 3 4 4 4 4 4 2 4 ...\n",
      " $ ReleaseMonth               : int  5 6 9 11 11 11 11 10 6 11 ...\n",
      " $ ReleaseWeek                : int  21 23 38 47 46 46 47 43 27 46 ...\n",
      " $ ReleaseDay                 : int  6 4 3 3 3 3 6 1 3 4 ...\n",
      " $ ReleaseWeekend             : Factor w/ 2 levels \"Weekday\",\"Weekend\": 2 1 1 1 1 1 2 1 1 1 ...\n",
      " $ EndOfMonth                 : Factor w/ 2 levels \"Beginning of month\",..: 2 1 2 2 1 1 2 2 2 1 ...\n",
      " $ TotalSales                 : num  940000 940000 940000 940000 940000 940000 940000 940000 930000 930000 ...\n",
      " $ YearsSinceRelease          : num  10 8 11 13 9 9 10 12 13 9 ...\n",
      " $ log_transformed_total_sales: num  13.8 13.8 13.8 13.8 13.8 ...\n",
      " - attr(*, \"na.action\")= 'omit' Named int [1:461] 2 17 40 201 204 205 282 287 296 302 ...\n",
      "  ..- attr(*, \"names\")= chr [1:461] \"927\" \"942\" \"965\" \"1126\" ...\n"
     ]
    }
   ],
   "source": [
    "str(data)"
   ]
  },
  {
   "cell_type": "markdown",
   "metadata": {},
   "source": [
    "Build LM model"
   ]
  },
  {
   "cell_type": "code",
   "execution_count": 43,
   "metadata": {
    "vscode": {
     "languageId": "r"
    }
   },
   "outputs": [
    {
     "data": {
      "text/plain": [
       "\n",
       "Call:\n",
       "lm(formula = log_transformed_total_sales ~ . - Rank - Title - \n",
       "    TotalSales - log_transformed_total_sales, data = data)\n",
       "\n",
       "Residuals:\n",
       "    Min      1Q  Median      3Q     Max \n",
       "-4.0987 -0.6717  0.0984  0.7155  2.7253 \n",
       "\n",
       "Coefficients: (1 not defined because of singularities)\n",
       "                                      Estimate Std. Error t value Pr(>|t|)    \n",
       "(Intercept)                         127.109808  16.753473   7.587 3.77e-14 ***\n",
       "ConsoleAmig                           1.852095   1.039001   1.783 0.074707 .  \n",
       "ConsoleDS                            -0.079850   0.070194  -1.138 0.255349    \n",
       "ConsoleNS                            -0.011265   0.092027  -0.122 0.902579    \n",
       "ConsolePC                             0.409908   0.060668   6.757 1.55e-11 ***\n",
       "ConsolePS2                           -0.453185   0.162097  -2.796 0.005194 ** \n",
       "ConsolePS3                            0.352982   0.064893   5.439 5.56e-08 ***\n",
       "ConsolePS4                            0.221697   0.068378   3.242 0.001192 ** \n",
       "ConsolePSN                           -0.617084   0.428024  -1.442 0.149438    \n",
       "ConsolePSP                           -0.218303   0.075243  -2.901 0.003729 ** \n",
       "ConsolePSV                           -0.181046   0.073070  -2.478 0.013251 *  \n",
       "ConsoleVC                            -1.504845   1.041498  -1.445 0.148542    \n",
       "ConsoleWii                            0.176330   0.074527   2.366 0.018014 *  \n",
       "ConsoleWiiU                          -0.122444   0.110108  -1.112 0.266169    \n",
       "ConsoleX360                           0.285669   0.068863   4.148 3.39e-05 ***\n",
       "ConsoleXBL                            0.077076   0.521351   0.148 0.882475    \n",
       "ConsoleXOne                           0.187245   0.075527   2.479 0.013196 *  \n",
       "Publisher2K Sports                   -0.199045   0.302873  -0.657 0.511085    \n",
       "Publisher505 Games                   -0.704750   0.183776  -3.835 0.000127 ***\n",
       "PublisherActivision                  -0.168734   0.158101  -1.067 0.285902    \n",
       "PublisherAksys Games                 -0.729834   0.197565  -3.694 0.000223 ***\n",
       "PublisherAtlus                       -0.258972   0.190054  -1.363 0.173052    \n",
       "PublisherBandai Namco                -0.380739   0.159766  -2.383 0.017199 *  \n",
       "PublisherCapcom                      -0.293245   0.201007  -1.459 0.144651    \n",
       "PublisherD3 Publisher                -0.830570   0.195099  -4.257 2.10e-05 ***\n",
       "PublisherDeep Silver                 -0.734331   0.183352  -4.005 6.28e-05 ***\n",
       "PublisherDisney Interactive Studios   0.058369   0.190544   0.306 0.759364    \n",
       "PublisherElectronic Arts              0.153420   0.166822   0.920 0.357788    \n",
       "PublisherFocus Home Interactive      -0.648303   0.185144  -3.502 0.000466 ***\n",
       "PublisherIdea Factory                -1.364744   0.249682  -5.466 4.79e-08 ***\n",
       "PublisherKonami                      -0.225820   0.176680  -1.278 0.201252    \n",
       "PublisherNintendo                     0.375051   0.178259   2.104 0.035423 *  \n",
       "PublisherNIS America                 -0.653444   0.190224  -3.435 0.000596 ***\n",
       "PublisherOthers                      -1.034112   0.145602  -7.102 1.37e-12 ***\n",
       "PublisherSega                        -0.169534   0.176034  -0.963 0.335548    \n",
       "PublisherSony                        -0.062802   0.168019  -0.374 0.708583    \n",
       "PublisherSquare Enix                  0.091009   0.184072   0.494 0.621027    \n",
       "PublisherTecmo                       -0.748522   0.183776  -4.073 4.70e-05 ***\n",
       "PublisherTHQ                         -0.571276   0.169457  -3.371 0.000753 ***\n",
       "PublisherUbisoft                     -0.541370   0.179326  -3.019 0.002548 ** \n",
       "PublisherWarner Bros. Interactive    -0.236417   0.177849  -1.329 0.183797    \n",
       "PublisherXseed Games                 -0.346457   0.201182  -1.722 0.085101 .  \n",
       "DeveloperArc System Works             0.034708   0.245026   0.142 0.887360    \n",
       "DeveloperBandai Namco                 0.099122   0.199842   0.496 0.619912    \n",
       "DeveloperCapcom                       0.054915   0.244682   0.224 0.822425    \n",
       "DeveloperCodemasters                  1.293380   0.238648   5.420 6.21e-08 ***\n",
       "DeveloperCompile Heart                0.283840   0.250782   1.132 0.257756    \n",
       "DeveloperElectronic Arts              0.660998   0.220338   3.000 0.002711 ** \n",
       "DeveloperGust                        -0.036467   0.246382  -0.148 0.882338    \n",
       "DeveloperIdea Factory                 0.240571   0.275102   0.874 0.381893    \n",
       "DeveloperKoei                        -0.078026   0.238514  -0.327 0.743577    \n",
       "DeveloperKonami                       0.265875   0.226086   1.176 0.239646    \n",
       "DeveloperLevel 5                      1.262705   0.261228   4.834 1.37e-06 ***\n",
       "DeveloperMilestone S.r.l.             0.141292   0.259188   0.545 0.585680    \n",
       "DeveloperNihon Falcom Corporation     0.586321   0.281306   2.084 0.037177 *  \n",
       "DeveloperNippon Ichi Software        -0.185581   0.244130  -0.760 0.447182    \n",
       "DeveloperOmega Force                  0.630680   0.227857   2.768 0.005660 ** \n",
       "DeveloperOthers                       0.268550   0.178735   1.503 0.133021    \n",
       "DeveloperSega                         0.476250   0.238051   2.001 0.045478 *  \n",
       "DeveloperSpike Chunsoft               0.523033   0.264384   1.978 0.047940 *  \n",
       "DeveloperSquare                       0.318875   0.261781   1.218 0.223235    \n",
       "DeveloperTelltale Games               0.963411   0.232763   4.139 3.54e-05 ***\n",
       "DeveloperTHQ                          0.578578   0.244908   2.362 0.018187 *  \n",
       "DeveloperTraveller's Tales            1.254176   0.248334   5.050 4.54e-07 ***\n",
       "DeveloperTT Fusion                    1.040821   0.263138   3.955 7.73e-05 ***\n",
       "DeveloperUbisoft                      0.528464   0.222996   2.370 0.017828 *  \n",
       "DeveloperVisual Concepts              0.543121   0.329880   1.646 0.099730 .  \n",
       "GenreAction-Adventure                 0.079176   0.077326   1.024 0.305914    \n",
       "GenreAdventure                       -0.392927   0.055733  -7.050 1.99e-12 ***\n",
       "GenreFighting                         0.156194   0.079651   1.961 0.049927 *  \n",
       "GenreMisc                            -0.118206   0.057874  -2.042 0.041148 *  \n",
       "GenrePlatform                         0.146995   0.073092   2.011 0.044360 *  \n",
       "GenrePuzzle                          -0.178695   0.080189  -2.228 0.025890 *  \n",
       "GenreRacing                          -0.240681   0.073598  -3.270 0.001081 ** \n",
       "GenreRole-Playing                     0.114978   0.056367   2.040 0.041413 *  \n",
       "GenreShooter                          0.161163   0.062669   2.572 0.010145 *  \n",
       "GenreSimulation                      -0.129421   0.063704  -2.032 0.042238 *  \n",
       "GenreSports                          -0.045399   0.060664  -0.748 0.454272    \n",
       "GenreStrategy                        -0.319655   0.072151  -4.430 9.57e-06 ***\n",
       "ReleaseYear                          -0.057098   0.008322  -6.861 7.51e-12 ***\n",
       "ReleaseQuarter                        0.094049   0.050275   1.871 0.061438 .  \n",
       "ReleaseMonth                         -0.081154   0.090798  -0.894 0.371475    \n",
       "ReleaseWeek                           0.012931   0.020451   0.632 0.527227    \n",
       "ReleaseDay                           -0.120643   0.013586  -8.880  < 2e-16 ***\n",
       "ReleaseWeekendWeekend                 0.332342   0.054444   6.104 1.10e-09 ***\n",
       "EndOfMonthEnd of month               -0.088170   0.049979  -1.764 0.077760 .  \n",
       "YearsSinceRelease                           NA         NA      NA       NA    \n",
       "---\n",
       "Signif. codes:  0 '***' 0.001 '**' 0.01 '*' 0.05 '.' 0.1 ' ' 1\n",
       "\n",
       "Residual standard error: 1.034 on 5986 degrees of freedom\n",
       "Multiple R-squared:  0.2962,\tAdjusted R-squared:  0.2862 \n",
       "F-statistic: 29.63 on 85 and 5986 DF,  p-value: < 2.2e-16\n"
      ]
     },
     "metadata": {},
     "output_type": "display_data"
    }
   ],
   "source": [
    "########################################################\n",
    "# Build LM model\n",
    "\n",
    "lm_model1 = lm(log_transformed_total_sales ~ . -Rank - Title - TotalSales - log_transformed_total_sales , data = data)\n",
    "summary(lm_model1)"
   ]
  },
  {
   "cell_type": "code",
   "execution_count": 51,
   "metadata": {
    "vscode": {
     "languageId": "r"
    }
   },
   "outputs": [
    {
     "data": {
      "text/html": [
       "<table class=\"dataframe\">\n",
       "<caption>A matrix: 6 × 6 of type dbl</caption>\n",
       "<thead>\n",
       "\t<tr><th></th><th scope=col>ReleaseYear</th><th scope=col>ReleaseQuarter</th><th scope=col>ReleaseMonth</th><th scope=col>ReleaseWeek</th><th scope=col>ReleaseDay</th><th scope=col>YearsSinceRelease</th></tr>\n",
       "</thead>\n",
       "<tbody>\n",
       "\t<tr><th scope=row>ReleaseYear</th><td> 1.0000000000</td><td>-0.001559821</td><td>-0.007332259</td><td>-0.01747475</td><td> 0.0004192302</td><td>-1.0000000000</td></tr>\n",
       "\t<tr><th scope=row>ReleaseQuarter</th><td>-0.0015598206</td><td> 1.000000000</td><td> 0.971484852</td><td> 0.96800913</td><td>-0.0105455251</td><td> 0.0015598206</td></tr>\n",
       "\t<tr><th scope=row>ReleaseMonth</th><td>-0.0073322590</td><td> 0.971484852</td><td> 1.000000000</td><td> 0.99641304</td><td>-0.0032445816</td><td> 0.0073322590</td></tr>\n",
       "\t<tr><th scope=row>ReleaseWeek</th><td>-0.0174747471</td><td> 0.968009128</td><td> 0.996413036</td><td> 1.00000000</td><td>-0.0168131239</td><td> 0.0174747471</td></tr>\n",
       "\t<tr><th scope=row>ReleaseDay</th><td> 0.0004192302</td><td>-0.010545525</td><td>-0.003244582</td><td>-0.01681312</td><td> 1.0000000000</td><td>-0.0004192302</td></tr>\n",
       "\t<tr><th scope=row>YearsSinceRelease</th><td>-1.0000000000</td><td> 0.001559821</td><td> 0.007332259</td><td> 0.01747475</td><td>-0.0004192302</td><td> 1.0000000000</td></tr>\n",
       "</tbody>\n",
       "</table>\n"
      ],
      "text/latex": [
       "A matrix: 6 × 6 of type dbl\n",
       "\\begin{tabular}{r|llllll}\n",
       "  & ReleaseYear & ReleaseQuarter & ReleaseMonth & ReleaseWeek & ReleaseDay & YearsSinceRelease\\\\\n",
       "\\hline\n",
       "\tReleaseYear &  1.0000000000 & -0.001559821 & -0.007332259 & -0.01747475 &  0.0004192302 & -1.0000000000\\\\\n",
       "\tReleaseQuarter & -0.0015598206 &  1.000000000 &  0.971484852 &  0.96800913 & -0.0105455251 &  0.0015598206\\\\\n",
       "\tReleaseMonth & -0.0073322590 &  0.971484852 &  1.000000000 &  0.99641304 & -0.0032445816 &  0.0073322590\\\\\n",
       "\tReleaseWeek & -0.0174747471 &  0.968009128 &  0.996413036 &  1.00000000 & -0.0168131239 &  0.0174747471\\\\\n",
       "\tReleaseDay &  0.0004192302 & -0.010545525 & -0.003244582 & -0.01681312 &  1.0000000000 & -0.0004192302\\\\\n",
       "\tYearsSinceRelease & -1.0000000000 &  0.001559821 &  0.007332259 &  0.01747475 & -0.0004192302 &  1.0000000000\\\\\n",
       "\\end{tabular}\n"
      ],
      "text/markdown": [
       "\n",
       "A matrix: 6 × 6 of type dbl\n",
       "\n",
       "| <!--/--> | ReleaseYear | ReleaseQuarter | ReleaseMonth | ReleaseWeek | ReleaseDay | YearsSinceRelease |\n",
       "|---|---|---|---|---|---|---|\n",
       "| ReleaseYear |  1.0000000000 | -0.001559821 | -0.007332259 | -0.01747475 |  0.0004192302 | -1.0000000000 |\n",
       "| ReleaseQuarter | -0.0015598206 |  1.000000000 |  0.971484852 |  0.96800913 | -0.0105455251 |  0.0015598206 |\n",
       "| ReleaseMonth | -0.0073322590 |  0.971484852 |  1.000000000 |  0.99641304 | -0.0032445816 |  0.0073322590 |\n",
       "| ReleaseWeek | -0.0174747471 |  0.968009128 |  0.996413036 |  1.00000000 | -0.0168131239 |  0.0174747471 |\n",
       "| ReleaseDay |  0.0004192302 | -0.010545525 | -0.003244582 | -0.01681312 |  1.0000000000 | -0.0004192302 |\n",
       "| YearsSinceRelease | -1.0000000000 |  0.001559821 |  0.007332259 |  0.01747475 | -0.0004192302 |  1.0000000000 |\n",
       "\n"
      ],
      "text/plain": [
       "                  ReleaseYear   ReleaseQuarter ReleaseMonth ReleaseWeek\n",
       "ReleaseYear        1.0000000000 -0.001559821   -0.007332259 -0.01747475\n",
       "ReleaseQuarter    -0.0015598206  1.000000000    0.971484852  0.96800913\n",
       "ReleaseMonth      -0.0073322590  0.971484852    1.000000000  0.99641304\n",
       "ReleaseWeek       -0.0174747471  0.968009128    0.996413036  1.00000000\n",
       "ReleaseDay         0.0004192302 -0.010545525   -0.003244582 -0.01681312\n",
       "YearsSinceRelease -1.0000000000  0.001559821    0.007332259  0.01747475\n",
       "                  ReleaseDay    YearsSinceRelease\n",
       "ReleaseYear        0.0004192302 -1.0000000000    \n",
       "ReleaseQuarter    -0.0105455251  0.0015598206    \n",
       "ReleaseMonth      -0.0032445816  0.0073322590    \n",
       "ReleaseWeek       -0.0168131239  0.0174747471    \n",
       "ReleaseDay         1.0000000000 -0.0004192302    \n",
       "YearsSinceRelease -0.0004192302  1.0000000000    "
      ]
     },
     "metadata": {},
     "output_type": "display_data"
    }
   ],
   "source": [
    "# Extract the numerical predictor variables from your data\n",
    "numerical_predictors <- data[, c(\"ReleaseYear\", \"ReleaseQuarter\", \"ReleaseMonth\", \"ReleaseWeek\", \"ReleaseDay\", \"YearsSinceRelease\")]\n",
    "\n",
    "# Identify collinear variables\n",
    "cor_matrix <- cor(numerical_predictors)\n",
    "cor_matrix "
   ]
  },
  {
   "cell_type": "code",
   "execution_count": 52,
   "metadata": {
    "vscode": {
     "languageId": "r"
    }
   },
   "outputs": [
    {
     "name": "stderr",
     "output_type": "stream",
     "text": [
      "Warning message in chisq.test(cross_tab):\n",
      "\"Chi-squared approximation may be incorrect\"\n",
      "Warning message in chisq.test(cross_tab):\n",
      "\"Chi-squared approximation may be incorrect\"\n",
      "Warning message in chisq.test(cross_tab):\n",
      "\"Chi-squared approximation may be incorrect\"\n",
      "Warning message in chisq.test(cross_tab):\n",
      "\"Chi-squared approximation may be incorrect\"\n",
      "Warning message in chisq.test(cross_tab):\n",
      "\"Chi-squared approximation may be incorrect\"\n",
      "Warning message in chisq.test(cross_tab):\n",
      "\"Chi-squared approximation may be incorrect\"\n",
      "Warning message in chisq.test(cross_tab):\n",
      "\"Chi-squared approximation may be incorrect\"\n",
      "Warning message in chisq.test(cross_tab):\n",
      "\"Chi-squared approximation may be incorrect\"\n",
      "Warning message in chisq.test(cross_tab):\n",
      "\"Chi-squared approximation may be incorrect\"\n"
     ]
    },
    {
     "name": "stdout",
     "output_type": "stream",
     "text": [
      "               Console    Publisher    Developer       Genre ReleaseWeekend\n",
      "Console             NA          NaN          NaN         NaN            NaN\n",
      "Publisher          NaN           NA 0.0000000000 0.000000000   1.421848e-20\n",
      "Developer          NaN 0.000000e+00           NA 0.000000000   6.278826e-04\n",
      "Genre              NaN 0.000000e+00 0.0000000000          NA   7.414458e-02\n",
      "ReleaseWeekend     NaN 1.421848e-20 0.0006278826 0.074144582             NA\n",
      "EndOfMonth         NaN 2.376634e-07 0.0002475546 0.006037509   5.707397e-16\n",
      "                 EndOfMonth\n",
      "Console                 NaN\n",
      "Publisher      2.376634e-07\n",
      "Developer      2.475546e-04\n",
      "Genre          6.037509e-03\n",
      "ReleaseWeekend 5.707397e-16\n",
      "EndOfMonth               NA\n"
     ]
    }
   ],
   "source": [
    "# Select the categorical variables to compare\n",
    "categorical_variables <- data[, c(\"Console\", \"Publisher\", \"Developer\", \"Genre\", \"ReleaseWeekend\", \"EndOfMonth\")]\n",
    "\n",
    "# Create an empty matrix to store p-values from chi-square tests\n",
    "p_values_matrix <- matrix(NA, nrow = ncol(categorical_variables), ncol = ncol(categorical_variables))\n",
    "rownames(p_values_matrix) <- colnames(p_values_matrix) <- names(categorical_variables)\n",
    "\n",
    "# Perform chi-square tests for all pairs of categorical variables\n",
    "for (i in 1:(ncol(categorical_variables) - 1)) {\n",
    "  for (j in (i + 1):ncol(categorical_variables)) {\n",
    "    cross_tab <- table(categorical_variables[, i], categorical_variables[, j])\n",
    "    chi_square_test <- chisq.test(cross_tab)\n",
    "    p_values_matrix[i, j] <- p_values_matrix[j, i] <- chi_square_test$p.value\n",
    "  }\n",
    "}\n",
    "\n",
    "# Print or view the p-values matrix\n",
    "print(p_values_matrix)"
   ]
  },
  {
   "cell_type": "code",
   "execution_count": null,
   "metadata": {
    "vscode": {
     "languageId": "r"
    }
   },
   "outputs": [],
   "source": [
    "# Set max.print to Infinity to ensure all coefficients are displayed\n",
    "options(max.print = 9999999)\n",
    "\n",
    "# Print the summary using stargazer\n",
    "stargazer(lm_model1, type = \"text\", out = \"summary_table.txt\")"
   ]
  },
  {
   "cell_type": "code",
   "execution_count": 58,
   "metadata": {
    "vscode": {
     "languageId": "r"
    }
   },
   "outputs": [
    {
     "data": {
      "text/plain": [
       "\n",
       "Call:\n",
       "lm(formula = log_transformed_total_sales ~ Console + Genre + \n",
       "    ReleaseYear + ReleaseWeek + ReleaseDay + ReleaseWeekend + \n",
       "    EndOfMonth, data = data)\n",
       "\n",
       "Residuals:\n",
       "    Min      1Q  Median      3Q     Max \n",
       "-3.3891 -0.7601  0.0502  0.8309  2.8864 \n",
       "\n",
       "Coefficients:\n",
       "                         Estimate Std. Error t value Pr(>|t|)    \n",
       "(Intercept)             1.713e+02  1.770e+01   9.676  < 2e-16 ***\n",
       "ConsoleAmig             1.472e+00  1.133e+00   1.299 0.193944    \n",
       "ConsoleDS              -2.871e-01  7.533e-02  -3.811 0.000140 ***\n",
       "ConsoleNS              -2.203e-01  9.808e-02  -2.246 0.024740 *  \n",
       "ConsolePC               1.698e-01  6.244e-02   2.720 0.006550 ** \n",
       "ConsolePS2             -6.316e-01  1.743e-01  -3.623 0.000294 ***\n",
       "ConsolePS3              3.242e-01  6.801e-02   4.767 1.92e-06 ***\n",
       "ConsolePS4              9.106e-02  7.133e-02   1.277 0.201802    \n",
       "ConsolePSN             -5.633e-01  4.639e-01  -1.214 0.224656    \n",
       "ConsolePSP             -3.943e-01  7.947e-02  -4.961 7.20e-07 ***\n",
       "ConsolePSV             -3.282e-01  7.578e-02  -4.331 1.51e-05 ***\n",
       "ConsoleVC              -1.065e+00  1.131e+00  -0.942 0.346206    \n",
       "ConsoleWii             -1.558e-02  7.979e-02  -0.195 0.845224    \n",
       "ConsoleWiiU             9.964e-03  1.185e-01   0.084 0.933009    \n",
       "ConsoleX360             2.058e-01  7.273e-02   2.830 0.004676 ** \n",
       "ConsoleXBL             -4.678e-01  5.674e-01  -0.824 0.409715    \n",
       "ConsoleXOne             9.075e-02  7.886e-02   1.151 0.249923    \n",
       "GenreAction-Adventure   2.391e-01  8.135e-02   2.938 0.003311 ** \n",
       "GenreAdventure         -6.644e-01  5.588e-02 -11.890  < 2e-16 ***\n",
       "GenreFighting           5.333e-02  7.990e-02   0.667 0.504556    \n",
       "GenreMisc              -2.067e-01  6.125e-02  -3.374 0.000746 ***\n",
       "GenrePlatform           8.199e-02  7.781e-02   1.054 0.292046    \n",
       "GenrePuzzle            -4.070e-01  8.578e-02  -4.745 2.14e-06 ***\n",
       "GenreRacing            -3.067e-01  7.079e-02  -4.332 1.50e-05 ***\n",
       "GenreRole-Playing       7.427e-02  5.541e-02   1.340 0.180158    \n",
       "GenreShooter            1.009e-01  6.551e-02   1.540 0.123654    \n",
       "GenreSimulation        -3.410e-01  6.716e-02  -5.078 3.93e-07 ***\n",
       "GenreSports             9.705e-02  5.775e-02   1.680 0.092942 .  \n",
       "GenreStrategy          -5.431e-01  7.631e-02  -7.117 1.23e-12 ***\n",
       "ReleaseYear            -7.899e-02  8.788e-03  -8.988  < 2e-16 ***\n",
       "ReleaseWeek             2.002e-03  9.977e-04   2.007 0.044810 *  \n",
       "ReleaseDay             -1.734e-01  1.424e-02 -12.177  < 2e-16 ***\n",
       "ReleaseWeekendWeekend   5.027e-01  5.754e-02   8.737  < 2e-16 ***\n",
       "EndOfMonthEnd of month -7.251e-02  2.967e-02  -2.444 0.014539 *  \n",
       "---\n",
       "Signif. codes:  0 '***' 0.001 '**' 0.01 '*' 0.05 '.' 0.1 ' ' 1\n",
       "\n",
       "Residual standard error: 1.128 on 6038 degrees of freedom\n",
       "Multiple R-squared:  0.1551,\tAdjusted R-squared:  0.1505 \n",
       "F-statistic:  33.6 on 33 and 6038 DF,  p-value: < 2.2e-16\n"
      ]
     },
     "metadata": {},
     "output_type": "display_data"
    }
   ],
   "source": [
    "########################################################\n",
    "# Build LM model\n",
    "\n",
    "lm_model2 = lm(log_transformed_total_sales ~ Console + Genre + ReleaseYear + ReleaseWeek + ReleaseDay + ReleaseWeekend + EndOfMonth, data = data)\n",
    "summary(lm_model2)"
   ]
  },
  {
   "cell_type": "code",
   "execution_count": 59,
   "metadata": {
    "vscode": {
     "languageId": "r"
    }
   },
   "outputs": [
    {
     "data": {
      "text/plain": [
       "\n",
       "Call:\n",
       "lm(formula = log_transformed_total_sales ~ Console + Publisher + \n",
       "    Genre + ReleaseYear + ReleaseWeek + ReleaseDay + ReleaseWeekend + \n",
       "    EndOfMonth, data = data)\n",
       "\n",
       "Residuals:\n",
       "    Min      1Q  Median      3Q     Max \n",
       "-3.6323 -0.6797  0.0951  0.7319  2.8414 \n",
       "\n",
       "Coefficients:\n",
       "                                      Estimate Std. Error t value Pr(>|t|)    \n",
       "(Intercept)                          1.295e+02  1.674e+01   7.736 1.20e-14 ***\n",
       "ConsoleAmig                          1.844e+00  1.053e+00   1.751 0.079945 .  \n",
       "ConsoleDS                           -1.124e-01  7.081e-02  -1.587 0.112615    \n",
       "ConsoleNS                           -4.643e-02  9.257e-02  -0.502 0.615983    \n",
       "ConsolePC                            3.964e-01  6.064e-02   6.537 6.81e-11 ***\n",
       "ConsolePS2                          -4.554e-01  1.637e-01  -2.782 0.005426 ** \n",
       "ConsolePS3                           3.509e-01  6.490e-02   5.408 6.63e-08 ***\n",
       "ConsolePS4                           2.086e-01  6.856e-02   3.043 0.002355 ** \n",
       "ConsolePSN                          -6.233e-01  4.329e-01  -1.440 0.149996    \n",
       "ConsolePSP                          -2.087e-01  7.556e-02  -2.762 0.005759 ** \n",
       "ConsolePSV                          -1.848e-01  7.304e-02  -2.531 0.011410 *  \n",
       "ConsoleVC                           -1.655e+00  1.055e+00  -1.568 0.116960    \n",
       "ConsoleWii                           1.504e-01  7.500e-02   2.005 0.045023 *  \n",
       "ConsoleWiiU                         -1.522e-01  1.108e-01  -1.373 0.169772    \n",
       "ConsoleX360                          2.911e-01  6.893e-02   4.223 2.45e-05 ***\n",
       "ConsoleXBL                           1.293e-02  5.280e-01   0.024 0.980458    \n",
       "ConsoleXOne                          1.903e-01  7.559e-02   2.518 0.011841 *  \n",
       "Publisher2K Sports                  -7.869e-03  2.095e-01  -0.038 0.970043    \n",
       "Publisher505 Games                  -7.071e-01  1.862e-01  -3.798 0.000147 ***\n",
       "PublisherActivision                 -2.193e-01  1.582e-01  -1.386 0.165684    \n",
       "PublisherAksys Games                -7.796e-01  1.945e-01  -4.009 6.16e-05 ***\n",
       "PublisherAtlus                      -2.591e-01  1.919e-01  -1.351 0.176876    \n",
       "PublisherBandai Namco               -4.410e-01  1.562e-01  -2.823 0.004775 ** \n",
       "PublisherCapcom                     -4.475e-01  1.678e-01  -2.667 0.007674 ** \n",
       "PublisherD3 Publisher               -8.377e-01  1.975e-01  -4.242 2.25e-05 ***\n",
       "PublisherDeep Silver                -6.591e-01  1.853e-01  -3.557 0.000377 ***\n",
       "PublisherDisney Interactive Studios  7.925e-02  1.928e-01   0.411 0.681125    \n",
       "PublisherElectronic Arts             3.092e-01  1.592e-01   1.942 0.052146 .  \n",
       "PublisherFocus Home Interactive     -6.456e-01  1.876e-01  -3.442 0.000581 ***\n",
       "PublisherIdea Factory               -1.401e+00  1.925e-01  -7.279 3.78e-13 ***\n",
       "PublisherKonami                     -2.374e-01  1.629e-01  -1.457 0.145057    \n",
       "PublisherNintendo                    4.501e-01  1.802e-01   2.497 0.012548 *  \n",
       "PublisherNIS America                -8.031e-01  1.848e-01  -4.345 1.42e-05 ***\n",
       "PublisherOthers                     -1.000e+00  1.473e-01  -6.790 1.23e-11 ***\n",
       "PublisherSega                       -9.150e-02  1.664e-01  -0.550 0.582449    \n",
       "PublisherSony                       -7.348e-02  1.700e-01  -0.432 0.665670    \n",
       "PublisherSquare Enix                 1.180e-01  1.752e-01   0.674 0.500607    \n",
       "PublisherTecmo                      -7.295e-01  1.680e-01  -4.341 1.44e-05 ***\n",
       "PublisherTHQ                        -4.802e-01  1.649e-01  -2.911 0.003611 ** \n",
       "PublisherUbisoft                    -3.651e-01  1.597e-01  -2.286 0.022265 *  \n",
       "PublisherWarner Bros. Interactive    1.927e-01  1.667e-01   1.156 0.247662    \n",
       "PublisherXseed Games                -2.921e-01  1.997e-01  -1.462 0.143706    \n",
       "GenreAction-Adventure                9.451e-02  7.666e-02   1.233 0.217698    \n",
       "GenreAdventure                      -3.923e-01  5.419e-02  -7.239 5.07e-13 ***\n",
       "GenreFighting                        8.926e-02  7.612e-02   1.173 0.241006    \n",
       "GenreMisc                           -1.670e-01  5.786e-02  -2.887 0.003907 ** \n",
       "GenrePlatform                        1.065e-01  7.322e-02   1.454 0.145996    \n",
       "GenrePuzzle                         -2.257e-01  8.069e-02  -2.798 0.005162 ** \n",
       "GenreRacing                         -2.019e-01  6.683e-02  -3.021 0.002530 ** \n",
       "GenreRole-Playing                    8.243e-02  5.426e-02   1.519 0.128793    \n",
       "GenreShooter                         1.100e-01  6.258e-02   1.757 0.078953 .  \n",
       "GenreSimulation                     -1.939e-01  6.379e-02  -3.040 0.002372 ** \n",
       "GenreSports                         -5.428e-02  5.850e-02  -0.928 0.353457    \n",
       "GenreStrategy                       -3.909e-01  7.185e-02  -5.441 5.51e-08 ***\n",
       "ReleaseYear                         -5.810e-02  8.312e-03  -6.991 3.03e-12 ***\n",
       "ReleaseWeek                          1.784e-03  9.334e-04   1.911 0.056007 .  \n",
       "ReleaseDay                          -1.363e-01  1.352e-02 -10.086  < 2e-16 ***\n",
       "ReleaseWeekendWeekend                3.820e-01  5.434e-02   7.030 2.30e-12 ***\n",
       "EndOfMonthEnd of month              -5.571e-02  2.774e-02  -2.008 0.044670 *  \n",
       "---\n",
       "Signif. codes:  0 '***' 0.001 '**' 0.01 '*' 0.05 '.' 0.1 ' ' 1\n",
       "\n",
       "Residual standard error: 1.048 on 6013 degrees of freedom\n",
       "Multiple R-squared:  0.2735,\tAdjusted R-squared:  0.2665 \n",
       "F-statistic: 39.03 on 58 and 6013 DF,  p-value: < 2.2e-16\n"
      ]
     },
     "metadata": {},
     "output_type": "display_data"
    }
   ],
   "source": [
    "########################################################\n",
    "# Build LM model\n",
    "\n",
    "lm_model3 = lm(log_transformed_total_sales ~ Console + Publisher + Genre + ReleaseYear + ReleaseWeek + ReleaseDay + ReleaseWeekend + EndOfMonth, data = data)\n",
    "summary(lm_model3)"
   ]
  },
  {
   "cell_type": "code",
   "execution_count": 62,
   "metadata": {
    "vscode": {
     "languageId": "r"
    }
   },
   "outputs": [
    {
     "data": {
      "text/plain": [
       "\n",
       "Call:\n",
       "lm(formula = log_transformed_total_sales ~ Console + Developer + \n",
       "    Genre + ReleaseYear + ReleaseQuarter + ReleaseDay + ReleaseWeekend + \n",
       "    EndOfMonth, data = data)\n",
       "\n",
       "Residuals:\n",
       "    Min      1Q  Median      3Q     Max \n",
       "-4.1016 -0.7213  0.0755  0.7740  2.8713 \n",
       "\n",
       "Coefficients:\n",
       "                                    Estimate Std. Error t value Pr(>|t|)    \n",
       "(Intercept)                       164.733777  17.272305   9.537  < 2e-16 ***\n",
       "ConsoleAmig                         1.505819   1.098100   1.371 0.170334    \n",
       "ConsoleDS                          -0.244604   0.073540  -3.326 0.000886 ***\n",
       "ConsoleNS                          -0.178336   0.096112  -1.855 0.063574 .  \n",
       "ConsolePC                           0.193340   0.061793   3.129 0.001764 ** \n",
       "ConsolePS2                         -0.591898   0.170471  -3.472 0.000520 ***\n",
       "ConsolePS3                          0.375203   0.066977   5.602 2.21e-08 ***\n",
       "ConsolePS4                          0.128011   0.070119   1.826 0.067955 .  \n",
       "ConsolePSN                         -0.481003   0.450034  -1.069 0.285196    \n",
       "ConsolePSP                         -0.354766   0.078299  -4.531 5.99e-06 ***\n",
       "ConsolePSV                         -0.258445   0.075175  -3.438 0.000590 ***\n",
       "ConsoleVC                          -0.705745   1.096654  -0.644 0.519896    \n",
       "ConsoleWii                          0.028808   0.078174   0.369 0.712508    \n",
       "ConsoleWiiU                         0.007485   0.115729   0.065 0.948434    \n",
       "ConsoleX360                         0.219572   0.071609   3.066 0.002177 ** \n",
       "ConsoleXBL                         -0.321037   0.550263  -0.583 0.559630    \n",
       "ConsoleXOne                         0.077668   0.077758   0.999 0.317909    \n",
       "DeveloperArc System Works          -0.570299   0.243981  -2.337 0.019447 *  \n",
       "DeveloperBandai Namco              -0.145456   0.190852  -0.762 0.446008    \n",
       "DeveloperCapcom                    -0.055368   0.204306  -0.271 0.786395    \n",
       "DeveloperCodemasters                0.505072   0.240344   2.101 0.035642 *  \n",
       "DeveloperCompile Heart             -0.537810   0.252828  -2.127 0.033446 *  \n",
       "DeveloperElectronic Arts            0.963195   0.202826   4.749 2.09e-06 ***\n",
       "DeveloperGust                      -0.724496   0.242420  -2.989 0.002814 ** \n",
       "DeveloperIdea Factory              -0.654165   0.221000  -2.960 0.003088 ** \n",
       "DeveloperKoei                      -0.657349   0.229907  -2.859 0.004262 ** \n",
       "DeveloperKonami                     0.247301   0.201939   1.225 0.220763    \n",
       "DeveloperLevel 5                    0.707917   0.265980   2.662 0.007799 ** \n",
       "DeveloperMilestone S.r.l.          -0.518022   0.264095  -1.962 0.049867 *  \n",
       "DeveloperNihon Falcom Corporation   0.067132   0.281587   0.238 0.811576    \n",
       "DeveloperNippon Ichi Software      -0.764360   0.237797  -3.214 0.001314 ** \n",
       "DeveloperOmega Force                0.121809   0.211723   0.575 0.565093    \n",
       "DeveloperOthers                    -0.162013   0.176252  -0.919 0.358022    \n",
       "DeveloperSega                       0.531118   0.218178   2.434 0.014948 *  \n",
       "DeveloperSpike Chunsoft             0.155724   0.268609   0.580 0.562109    \n",
       "DeveloperSquare                     0.634798   0.244385   2.598 0.009412 ** \n",
       "DeveloperTelltale Games             0.453329   0.235400   1.926 0.054179 .  \n",
       "DeveloperTHQ                        0.188281   0.229500   0.820 0.412022    \n",
       "DeveloperTraveller's Tales          1.168739   0.233208   5.012 5.55e-07 ***\n",
       "DeveloperTT Fusion                  0.923393   0.248265   3.719 0.000202 ***\n",
       "DeveloperUbisoft                    0.170195   0.193990   0.877 0.380335    \n",
       "DeveloperVisual Concepts            0.410501   0.237696   1.727 0.084219 .  \n",
       "GenreAction-Adventure               0.156131   0.081128   1.924 0.054340 .  \n",
       "GenreAdventure                     -0.593286   0.057932 -10.241  < 2e-16 ***\n",
       "GenreFighting                       0.151093   0.082932   1.822 0.068522 .  \n",
       "GenreMisc                          -0.168365   0.060581  -2.779 0.005467 ** \n",
       "GenrePlatform                       0.169916   0.076616   2.218 0.026608 *  \n",
       "GenrePuzzle                        -0.305811   0.084251  -3.630 0.000286 ***\n",
       "GenreRacing                        -0.252495   0.077140  -3.273 0.001069 ** \n",
       "GenreRole-Playing                   0.152650   0.057294   2.664 0.007734 ** \n",
       "GenreShooter                        0.194113   0.064928   2.990 0.002804 ** \n",
       "GenreSimulation                    -0.240455   0.066378  -3.622 0.000294 ***\n",
       "GenreSports                        -0.072345   0.062877  -1.151 0.249949    \n",
       "GenreStrategy                      -0.414245   0.075289  -5.502 3.91e-08 ***\n",
       "ReleaseYear                        -0.075772   0.008578  -8.833  < 2e-16 ***\n",
       "ReleaseQuarter                      0.015998   0.012567   1.273 0.203067    \n",
       "ReleaseDay                         -0.151117   0.014101 -10.717  < 2e-16 ***\n",
       "ReleaseWeekendWeekend               0.440187   0.056524   7.788 7.99e-15 ***\n",
       "EndOfMonthEnd of month             -0.065462   0.028747  -2.277 0.022812 *  \n",
       "---\n",
       "Signif. codes:  0 '***' 0.001 '**' 0.01 '*' 0.05 '.' 0.1 ' ' 1\n",
       "\n",
       "Residual standard error: 1.093 on 6013 degrees of freedom\n",
       "Multiple R-squared:  0.2093,\tAdjusted R-squared:  0.2017 \n",
       "F-statistic: 27.44 on 58 and 6013 DF,  p-value: < 2.2e-16\n"
      ]
     },
     "metadata": {},
     "output_type": "display_data"
    }
   ],
   "source": [
    "########################################################\n",
    "# Build LM model\n",
    "\n",
    "lm_model4 = lm(log_transformed_total_sales ~ Console + Developer + Genre + ReleaseYear + ReleaseQuarter + ReleaseDay + ReleaseWeekend + EndOfMonth, data = data)\n",
    "summary(lm_model4)"
   ]
  },
  {
   "cell_type": "code",
   "execution_count": 63,
   "metadata": {
    "vscode": {
     "languageId": "r"
    }
   },
   "outputs": [
    {
     "data": {
      "text/plain": [
       "\n",
       "Call:\n",
       "lm(formula = log_transformed_total_sales ~ Console + Developer + \n",
       "    Genre + YearsSinceRelease + ReleaseQuarter + ReleaseDay + \n",
       "    ReleaseWeekend + EndOfMonth, data = data)\n",
       "\n",
       "Residuals:\n",
       "    Min      1Q  Median      3Q     Max \n",
       "-4.1016 -0.7213  0.0755  0.7740  2.8713 \n",
       "\n",
       "Coefficients:\n",
       "                                   Estimate Std. Error t value Pr(>|t|)    \n",
       "(Intercept)                       11.447017   0.210996  54.252  < 2e-16 ***\n",
       "ConsoleAmig                        1.505819   1.098100   1.371 0.170334    \n",
       "ConsoleDS                         -0.244604   0.073540  -3.326 0.000886 ***\n",
       "ConsoleNS                         -0.178336   0.096112  -1.855 0.063574 .  \n",
       "ConsolePC                          0.193340   0.061793   3.129 0.001764 ** \n",
       "ConsolePS2                        -0.591898   0.170471  -3.472 0.000520 ***\n",
       "ConsolePS3                         0.375203   0.066977   5.602 2.21e-08 ***\n",
       "ConsolePS4                         0.128011   0.070119   1.826 0.067955 .  \n",
       "ConsolePSN                        -0.481003   0.450034  -1.069 0.285196    \n",
       "ConsolePSP                        -0.354766   0.078299  -4.531 5.99e-06 ***\n",
       "ConsolePSV                        -0.258445   0.075175  -3.438 0.000590 ***\n",
       "ConsoleVC                         -0.705745   1.096654  -0.644 0.519896    \n",
       "ConsoleWii                         0.028808   0.078174   0.369 0.712508    \n",
       "ConsoleWiiU                        0.007485   0.115729   0.065 0.948434    \n",
       "ConsoleX360                        0.219572   0.071609   3.066 0.002177 ** \n",
       "ConsoleXBL                        -0.321037   0.550263  -0.583 0.559630    \n",
       "ConsoleXOne                        0.077668   0.077758   0.999 0.317909    \n",
       "DeveloperArc System Works         -0.570299   0.243981  -2.337 0.019447 *  \n",
       "DeveloperBandai Namco             -0.145456   0.190852  -0.762 0.446008    \n",
       "DeveloperCapcom                   -0.055368   0.204306  -0.271 0.786395    \n",
       "DeveloperCodemasters               0.505072   0.240344   2.101 0.035642 *  \n",
       "DeveloperCompile Heart            -0.537810   0.252828  -2.127 0.033446 *  \n",
       "DeveloperElectronic Arts           0.963195   0.202826   4.749 2.09e-06 ***\n",
       "DeveloperGust                     -0.724496   0.242420  -2.989 0.002814 ** \n",
       "DeveloperIdea Factory             -0.654165   0.221000  -2.960 0.003088 ** \n",
       "DeveloperKoei                     -0.657349   0.229907  -2.859 0.004262 ** \n",
       "DeveloperKonami                    0.247301   0.201939   1.225 0.220763    \n",
       "DeveloperLevel 5                   0.707917   0.265980   2.662 0.007799 ** \n",
       "DeveloperMilestone S.r.l.         -0.518022   0.264095  -1.962 0.049867 *  \n",
       "DeveloperNihon Falcom Corporation  0.067132   0.281587   0.238 0.811576    \n",
       "DeveloperNippon Ichi Software     -0.764360   0.237797  -3.214 0.001314 ** \n",
       "DeveloperOmega Force               0.121809   0.211723   0.575 0.565093    \n",
       "DeveloperOthers                   -0.162013   0.176252  -0.919 0.358022    \n",
       "DeveloperSega                      0.531118   0.218178   2.434 0.014948 *  \n",
       "DeveloperSpike Chunsoft            0.155724   0.268609   0.580 0.562109    \n",
       "DeveloperSquare                    0.634798   0.244385   2.598 0.009412 ** \n",
       "DeveloperTelltale Games            0.453329   0.235400   1.926 0.054179 .  \n",
       "DeveloperTHQ                       0.188281   0.229500   0.820 0.412022    \n",
       "DeveloperTraveller's Tales         1.168739   0.233208   5.012 5.55e-07 ***\n",
       "DeveloperTT Fusion                 0.923393   0.248265   3.719 0.000202 ***\n",
       "DeveloperUbisoft                   0.170195   0.193990   0.877 0.380335    \n",
       "DeveloperVisual Concepts           0.410501   0.237696   1.727 0.084219 .  \n",
       "GenreAction-Adventure              0.156131   0.081128   1.924 0.054340 .  \n",
       "GenreAdventure                    -0.593286   0.057932 -10.241  < 2e-16 ***\n",
       "GenreFighting                      0.151093   0.082932   1.822 0.068522 .  \n",
       "GenreMisc                         -0.168365   0.060581  -2.779 0.005467 ** \n",
       "GenrePlatform                      0.169916   0.076616   2.218 0.026608 *  \n",
       "GenrePuzzle                       -0.305811   0.084251  -3.630 0.000286 ***\n",
       "GenreRacing                       -0.252495   0.077140  -3.273 0.001069 ** \n",
       "GenreRole-Playing                  0.152650   0.057294   2.664 0.007734 ** \n",
       "GenreShooter                       0.194113   0.064928   2.990 0.002804 ** \n",
       "GenreSimulation                   -0.240455   0.066378  -3.622 0.000294 ***\n",
       "GenreSports                       -0.072345   0.062877  -1.151 0.249949    \n",
       "GenreStrategy                     -0.414245   0.075289  -5.502 3.91e-08 ***\n",
       "YearsSinceRelease                  0.075772   0.008578   8.833  < 2e-16 ***\n",
       "ReleaseQuarter                     0.015998   0.012567   1.273 0.203067    \n",
       "ReleaseDay                        -0.151117   0.014101 -10.717  < 2e-16 ***\n",
       "ReleaseWeekendWeekend              0.440187   0.056524   7.788 7.99e-15 ***\n",
       "EndOfMonthEnd of month            -0.065462   0.028747  -2.277 0.022812 *  \n",
       "---\n",
       "Signif. codes:  0 '***' 0.001 '**' 0.01 '*' 0.05 '.' 0.1 ' ' 1\n",
       "\n",
       "Residual standard error: 1.093 on 6013 degrees of freedom\n",
       "Multiple R-squared:  0.2093,\tAdjusted R-squared:  0.2017 \n",
       "F-statistic: 27.44 on 58 and 6013 DF,  p-value: < 2.2e-16\n"
      ]
     },
     "metadata": {},
     "output_type": "display_data"
    }
   ],
   "source": [
    "########################################################\n",
    "# Build LM model\n",
    "\n",
    "lm_model5 = lm(log_transformed_total_sales ~ Console + Developer + Genre + YearsSinceRelease + ReleaseQuarter + ReleaseDay + ReleaseWeekend + EndOfMonth, data = data)\n",
    "summary(lm_model5)"
   ]
  },
  {
   "cell_type": "code",
   "execution_count": 64,
   "metadata": {
    "vscode": {
     "languageId": "r"
    }
   },
   "outputs": [
    {
     "data": {
      "text/plain": [
       "\n",
       "Call:\n",
       "lm(formula = log_transformed_total_sales ~ Console + Developer + \n",
       "    Publisher + Genre + YearsSinceRelease + ReleaseQuarter + \n",
       "    ReleaseDay + ReleaseWeekend + EndOfMonth, data = data)\n",
       "\n",
       "Residuals:\n",
       "    Min      1Q  Median      3Q     Max \n",
       "-4.1347 -0.6710  0.0974  0.7142  2.7232 \n",
       "\n",
       "Coefficients:\n",
       "                                     Estimate Std. Error t value Pr(>|t|)    \n",
       "(Intercept)                         11.592030   0.257268  45.058  < 2e-16 ***\n",
       "ConsoleAmig                          1.864022   1.038635   1.795 0.072755 .  \n",
       "ConsoleDS                           -0.081204   0.070178  -1.157 0.247273    \n",
       "ConsoleNS                           -0.012249   0.091997  -0.133 0.894084    \n",
       "ConsolePC                            0.412596   0.060641   6.804 1.12e-11 ***\n",
       "ConsolePS2                          -0.448279   0.162074  -2.766 0.005694 ** \n",
       "ConsolePS3                           0.353466   0.064890   5.447 5.32e-08 ***\n",
       "ConsolePS4                           0.224811   0.068349   3.289 0.001011 ** \n",
       "ConsolePSN                          -0.613093   0.428029  -1.432 0.152092    \n",
       "ConsolePSP                          -0.216238   0.075215  -2.875 0.004055 ** \n",
       "ConsolePSV                          -0.180615   0.073056  -2.472 0.013453 *  \n",
       "ConsoleVC                           -1.517696   1.041398  -1.457 0.145068    \n",
       "ConsoleWii                           0.176393   0.074530   2.367 0.017977 *  \n",
       "ConsoleWiiU                         -0.124429   0.110043  -1.131 0.258214    \n",
       "ConsoleX360                          0.287379   0.068850   4.174 3.04e-05 ***\n",
       "ConsoleXBL                           0.084795   0.521342   0.163 0.870801    \n",
       "ConsoleXOne                          0.190281   0.075507   2.520 0.011760 *  \n",
       "DeveloperArc System Works            0.015468   0.244696   0.063 0.949600    \n",
       "DeveloperBandai Namco                0.082905   0.199432   0.416 0.677641    \n",
       "DeveloperCapcom                      0.035928   0.244382   0.147 0.883124    \n",
       "DeveloperCodemasters                 1.273982   0.238051   5.352 9.04e-08 ***\n",
       "DeveloperCompile Heart               0.266230   0.250524   1.063 0.287965    \n",
       "DeveloperElectronic Arts             0.652031   0.220245   2.960 0.003084 ** \n",
       "DeveloperGust                       -0.053923   0.246025  -0.219 0.826520    \n",
       "DeveloperIdea Factory                0.221601   0.274610   0.807 0.419719    \n",
       "DeveloperKoei                       -0.097758   0.237962  -0.411 0.681223    \n",
       "DeveloperKonami                      0.250992   0.225638   1.112 0.266024    \n",
       "DeveloperLevel 5                     1.237049   0.260564   4.748 2.11e-06 ***\n",
       "DeveloperMilestone S.r.l.            0.130826   0.259099   0.505 0.613629    \n",
       "DeveloperNihon Falcom Corporation    0.567156   0.281053   2.018 0.043639 *  \n",
       "DeveloperNippon Ichi Software       -0.196603   0.243901  -0.806 0.420230    \n",
       "DeveloperOmega Force                 0.614802   0.227287   2.705 0.006851 ** \n",
       "DeveloperOthers                      0.253804   0.178312   1.423 0.154681    \n",
       "DeveloperSega                        0.464078   0.237867   1.951 0.051104 .  \n",
       "DeveloperSpike Chunsoft              0.516519   0.264247   1.955 0.050667 .  \n",
       "DeveloperSquare                      0.304356   0.261511   1.164 0.244537    \n",
       "DeveloperTelltale Games              0.950749   0.232599   4.088 4.42e-05 ***\n",
       "DeveloperTHQ                         0.569016   0.244838   2.324 0.020156 *  \n",
       "DeveloperTraveller's Tales           1.238603   0.248094   4.992 6.13e-07 ***\n",
       "DeveloperTT Fusion                   1.027187   0.262962   3.906 9.48e-05 ***\n",
       "DeveloperUbisoft                     0.512200   0.222495   2.302 0.021365 *  \n",
       "DeveloperVisual Concepts             0.511407   0.328459   1.557 0.119526    \n",
       "Publisher2K Sports                  -0.180039   0.302603  -0.595 0.551888    \n",
       "Publisher505 Games                  -0.692424   0.183621  -3.771 0.000164 ***\n",
       "PublisherActivision                 -0.158671   0.157981  -1.004 0.315243    \n",
       "PublisherAksys Games                -0.717944   0.197426  -3.637 0.000279 ***\n",
       "PublisherAtlus                      -0.246377   0.189859  -1.298 0.194447    \n",
       "PublisherBandai Namco               -0.367104   0.159456  -2.302 0.021356 *  \n",
       "PublisherCapcom                     -0.281601   0.200810  -1.402 0.160871    \n",
       "PublisherD3 Publisher               -0.820163   0.194972  -4.207 2.63e-05 ***\n",
       "PublisherDeep Silver                -0.718134   0.183073  -3.923 8.86e-05 ***\n",
       "PublisherDisney Interactive Studios  0.067050   0.190458   0.352 0.724816    \n",
       "PublisherElectronic Arts             0.157774   0.166784   0.946 0.344196    \n",
       "PublisherFocus Home Interactive     -0.639190   0.185064  -3.454 0.000556 ***\n",
       "PublisherIdea Factory               -1.347612   0.249457  -5.402 6.84e-08 ***\n",
       "PublisherKonami                     -0.217062   0.176590  -1.229 0.219049    \n",
       "PublisherNintendo                    0.387019   0.178104   2.173 0.029820 *  \n",
       "PublisherNIS America                -0.651824   0.190228  -3.427 0.000615 ***\n",
       "PublisherOthers                     -1.020024   0.145312  -7.020 2.47e-12 ***\n",
       "PublisherSega                       -0.161565   0.175856  -0.919 0.358272    \n",
       "PublisherSony                       -0.051328   0.167823  -0.306 0.759731    \n",
       "PublisherSquare Enix                 0.101647   0.183956   0.553 0.580583    \n",
       "PublisherTecmo                      -0.742431   0.183741  -4.041 5.40e-05 ***\n",
       "PublisherTHQ                        -0.563722   0.169389  -3.328 0.000880 ***\n",
       "PublisherUbisoft                    -0.527209   0.179110  -2.943 0.003258 ** \n",
       "PublisherWarner Bros. Interactive   -0.227605   0.177730  -1.281 0.200378    \n",
       "PublisherXseed Games                -0.337362   0.201103  -1.678 0.093485 .  \n",
       "GenreAction-Adventure                0.077432   0.077256   1.002 0.316251    \n",
       "GenreAdventure                      -0.394509   0.055727  -7.079 1.61e-12 ***\n",
       "GenreFighting                        0.155291   0.079651   1.950 0.051265 .  \n",
       "GenreMisc                           -0.117363   0.057874  -2.028 0.042615 *  \n",
       "GenrePlatform                        0.146025   0.073071   1.998 0.045719 *  \n",
       "GenrePuzzle                         -0.179367   0.080192  -2.237 0.025341 *  \n",
       "GenreRacing                         -0.247856   0.073461  -3.374 0.000746 ***\n",
       "GenreRole-Playing                    0.114324   0.056316   2.030 0.042395 *  \n",
       "GenreShooter                         0.158462   0.062569   2.533 0.011348 *  \n",
       "GenreSimulation                     -0.130962   0.063663  -2.057 0.039720 *  \n",
       "GenreSports                         -0.048370   0.060633  -0.798 0.425048    \n",
       "GenreStrategy                       -0.321136   0.072147  -4.451 8.70e-06 ***\n",
       "YearsSinceRelease                    0.057792   0.008232   7.020 2.46e-12 ***\n",
       "ReleaseQuarter                       0.021980   0.011948   1.840 0.065876 .  \n",
       "ReleaseDay                          -0.121884   0.013503  -9.027  < 2e-16 ***\n",
       "ReleaseWeekendWeekend                0.326406   0.054061   6.038 1.66e-09 ***\n",
       "EndOfMonthEnd of month              -0.062023   0.027383  -2.265 0.023549 *  \n",
       "---\n",
       "Signif. codes:  0 '***' 0.001 '**' 0.01 '*' 0.05 '.' 0.1 ' ' 1\n",
       "\n",
       "Residual standard error: 1.034 on 5988 degrees of freedom\n",
       "Multiple R-squared:  0.2959,\tAdjusted R-squared:  0.2861 \n",
       "F-statistic: 30.31 on 83 and 5988 DF,  p-value: < 2.2e-16\n"
      ]
     },
     "metadata": {},
     "output_type": "display_data"
    }
   ],
   "source": [
    "########################################################\n",
    "# Build LM model\n",
    "\n",
    "lm_model6 = lm(log_transformed_total_sales ~ Console + Developer + Publisher + Genre + YearsSinceRelease + ReleaseQuarter + ReleaseDay + ReleaseWeekend + EndOfMonth, data = data)\n",
    "summary(lm_model6)"
   ]
  },
  {
   "cell_type": "markdown",
   "metadata": {},
   "source": [
    "### UNTIL HERE"
   ]
  },
  {
   "cell_type": "code",
   "execution_count": 25,
   "metadata": {
    "vscode": {
     "languageId": "r"
    }
   },
   "outputs": [
    {
     "name": "stderr",
     "output_type": "stream",
     "text": [
      "Warning message in predict.lm(lm_model5, data):\n",
      "\"prediction from rank-deficient fit; attr(*, \"non-estim\") has doubtful cases\"\n",
      "Warning message in abline(lm_model5, col = \"red\"):\n",
      "\"only using the first two of 1598 regression coefficients\"\n"
     ]
    },
    {
     "data": {
      "image/png": "[encoded data removed]",
      "text/plain": [
       "Plot with title \"Predicted vs. Actual TotalSales\""
      ]
     },
     "metadata": {
      "image/png": {
       "height": 420,
       "width": 420
      }
     },
     "output_type": "display_data"
    }
   ],
   "source": [
    "# Model 5 has highest R2 and adjusted R2 score among all the models\n",
    "# Make predictions using the lm model\n",
    "predicted_values <- predict(lm_model5, data)\n",
    "\n",
    "# Create a scatterplot to compare predicted vs actual TotalSales\n",
    "plot(data$log_transformed_yearly_sales, predicted_values, main = \"Predicted vs. Actual TotalSales\", \n",
    "     xlab = \"Actual TotalSales\", ylab = \"Predicted TotalSales\")\n",
    "\n",
    "# Add the fitted line from the lm model\n",
    "abline(lm_model5, col = \"red\")"
   ]
  },
  {
   "cell_type": "markdown",
   "metadata": {},
   "source": [
    "Try splitting the dataset - and evaluate the errors"
   ]
  },
  {
   "cell_type": "code",
   "execution_count": null,
   "metadata": {
    "vscode": {
     "languageId": "r"
    }
   },
   "outputs": [],
   "source": [
    "########################################################\n",
    "# Build LM model - split into 70-30 training-testing dataset\n",
    "\n",
    "# Set a random seed for reproducibility\n",
    "set.seed(123)\n",
    "\n",
    "# Split the data into a training set (70%) and a test set (30%)\n",
    "split <- sample.split(data$log_transformed_yearly_sales, SplitRatio = 0.7)\n",
    "training_data <- subset(data, split == TRUE)\n",
    "test_data <- subset(data, split == FALSE)\n",
    "\n",
    "# Fit a linear regression (lm) model to the training set\n",
    "lm_model7 = lm(log_transformed_yearly_sales ~ Console + Developer + Genre + ReleaseMonth + ReleaseWeekend, data = training_data)\n",
    "summary(lm_model7)\n"
   ]
  },
  {
   "cell_type": "code",
   "execution_count": null,
   "metadata": {
    "vscode": {
     "languageId": "r"
    }
   },
   "outputs": [],
   "source": [
    "# Make predictions on the test set\n",
    "predicted_values <- predict(lm_model7, newdata = test_data)"
   ]
  },
  {
   "cell_type": "code",
   "execution_count": null,
   "metadata": {
    "vscode": {
     "languageId": "r"
    }
   },
   "outputs": [],
   "source": [
    "## Unable to predict due to developer not covered in the training dataset\n",
    "# Need to simplify the developer further"
   ]
  },
  {
   "cell_type": "code",
   "execution_count": 84,
   "metadata": {
    "vscode": {
     "languageId": "r"
    }
   },
   "outputs": [],
   "source": [
    "########################################################\n",
    "# Build LM model - split into 80-20 training-testing dataset\n",
    "\n",
    "# Set a random seed for reproducibility\n",
    "set.seed(25)\n",
    "\n",
    "# Split the data into a training set (80%) and a test set (20%)\n",
    "split <- sample.split(data_v2$log_transformed_yearly_sales, SplitRatio = 0.8 )\n",
    "training_data_v2 <- subset(data_v2, split == TRUE)\n",
    "test_data_v2 <- subset(data_v2, split == FALSE)"
   ]
  },
  {
   "cell_type": "code",
   "execution_count": null,
   "metadata": {
    "vscode": {
     "languageId": "r"
    }
   },
   "outputs": [],
   "source": [
    "# Fit a linear regression (lm) model to the training set\n",
    "lm_model8 = lm(log_transformed_yearly_sales ~ Console + Publisher + Developer + Genre + ReleaseMonth + ReleaseWeekend, data = training_data_v2)\n",
    "summary(lm_model8)"
   ]
  },
  {
   "cell_type": "code",
   "execution_count": null,
   "metadata": {
    "vscode": {
     "languageId": "r"
    }
   },
   "outputs": [],
   "source": [
    "# R2 drops to 38.09%; Adj R2 drop to 37.23%\n",
    "# All X variables are significant"
   ]
  },
  {
   "cell_type": "code",
   "execution_count": null,
   "metadata": {
    "vscode": {
     "languageId": "r"
    }
   },
   "outputs": [],
   "source": [
    "# Fit a linear regression (lm) model to the training set\n",
    "lm_model9 = lm(log_transformed_yearly_sales ~ Console + Developer + Genre + ReleaseMonth + ReleaseWeekend, data = training_data_v2)\n",
    "summary(lm_model9)"
   ]
  },
  {
   "cell_type": "code",
   "execution_count": null,
   "metadata": {
    "vscode": {
     "languageId": "r"
    }
   },
   "outputs": [],
   "source": [
    "# Fit a linear regression (lm) model to the training set\n",
    "lm_model10 = lm(log_transformed_yearly_sales ~ Console + Publisher + Genre  + ReleaseMonth + ReleaseDay + ReleaseWeekend, data = training_data_v2)\n",
    "summary(lm_model10)"
   ]
  },
  {
   "cell_type": "code",
   "execution_count": 86,
   "metadata": {
    "vscode": {
     "languageId": "r"
    }
   },
   "outputs": [],
   "source": [
    "# Make predictions on the test set using log-transformed data\n",
    "predicted_log_values <- predict(lm_model8, newdata = test_data_v2)\n",
    "\n",
    "# Convert log-transformed predictions back to the original scale\n",
    "predicted_values <- exp(predicted_log_values)\n"
   ]
  },
  {
   "cell_type": "code",
   "execution_count": 87,
   "metadata": {
    "vscode": {
     "languageId": "r"
    }
   },
   "outputs": [
    {
     "name": "stdout",
     "output_type": "stream",
     "text": [
      "Sum of Errors: 5900104 \n",
      "Mean Absolute Deviation: 25425.11 \n",
      "Mean Percentage Error: 460945.7 %\n",
      "Mean Squared Error: 5588013505 \n",
      "Standard Error: 74753.02 \n",
      "Mean Absolute Percentage Error: 2542511 %\n"
     ]
    }
   ],
   "source": [
    "# Calculate various error metrics on the original scale\n",
    "errors <- test_data_v2$YearlySales - predicted_values\n",
    "sum_of_errors <- sum(errors)\n",
    "mean_absolute_deviation <- mean(abs(errors))\n",
    "mean_percentage_error <- mean(errors) * 100  # Already on the original scale\n",
    "mean_squared_error <- mean(errors^2)\n",
    "standard_error <- sqrt(mean_squared_error)\n",
    "mean_absolute_percentage_error <- mean(abs(errors)) * 100\n",
    "\n",
    "# Print the error metrics\n",
    "cat(\"Sum of Errors:\", sum_of_errors, \"\\n\")\n",
    "cat(\"Mean Absolute Deviation:\", mean_absolute_deviation, \"\\n\")\n",
    "cat(\"Mean Percentage Error:\", mean_percentage_error, \"%\\n\")\n",
    "cat(\"Mean Squared Error:\", mean_squared_error, \"\\n\")\n",
    "cat(\"Standard Error:\", standard_error, \"\\n\")\n",
    "cat(\"Mean Absolute Percentage Error:\", mean_absolute_percentage_error, \"%\\n\")"
   ]
  },
  {
   "cell_type": "markdown",
   "metadata": {},
   "source": [
    "The lm model's performance is not that great - to explore using NN"
   ]
  },
  {
   "cell_type": "code",
   "execution_count": 50,
   "metadata": {
    "vscode": {
     "languageId": "r"
    }
   },
   "outputs": [],
   "source": [
    "########################################################\n",
    "# Build a NN model\n",
    "\n",
    "# Create a Keras Sequential model\n",
    "model <- keras_model_sequential()\n",
    "\n",
    "# Add an input layer\n",
    "model %>% \n",
    "  layer_dense(units = 64, input_shape = c(11), activation = \"relu\")\n",
    "\n",
    "# Add one or more hidden layers\n",
    "model %>%\n",
    "  layer_dense(units = 32, activation = \"relu\") %>%\n",
    "  layer_dense(units = 16, activation = \"relu\")\n",
    "\n",
    "# Add an output layer\n",
    "model %>%\n",
    "  layer_dense(units = 1)  # To predict 'TotalSales'\n",
    "\n",
    "# Compile the model\n",
    "model %>%\n",
    "  compile(\n",
    "    loss = \"mean_squared_error\",\n",
    "    optimizer = optimizer_adam(),\n",
    "    metrics = list(\"mean_absolute_error\")\n",
    "  )"
   ]
  },
  {
   "cell_type": "code",
   "execution_count": 51,
   "metadata": {
    "vscode": {
     "languageId": "r"
    }
   },
   "outputs": [
    {
     "name": "stdout",
     "output_type": "stream",
     "text": [
      "Model: \"sequential\"\n",
      "________________________________________________________________________________\n",
      " Layer (type)                       Output Shape                    Param #     \n",
      "================================================================================\n",
      " dense (Dense)                      (None, 64)                      768         \n",
      " dense_2 (Dense)                    (None, 32)                      2080        \n",
      " dense_1 (Dense)                    (None, 16)                      528         \n",
      " dense_3 (Dense)                    (None, 1)                       17          \n",
      "================================================================================\n",
      "Total params: 3,393\n",
      "Trainable params: 3,393\n",
      "Non-trainable params: 0\n",
      "________________________________________________________________________________\n"
     ]
    }
   ],
   "source": [
    "summary (model)"
   ]
  },
  {
   "cell_type": "code",
   "execution_count": 88,
   "metadata": {
    "vscode": {
     "languageId": "r"
    }
   },
   "outputs": [],
   "source": [
    "# Exclude specified columns by selecting all columns except the ones to be excluded\n",
    "x_train <- training_data_v2[, !names(training_data_v2) %in% c(\"Rank\", \"Title\", \"TotalSales\", \"YearsSinceRelease\", \"YearlySales\", \"log_transformed_yearly_sales\")]\n",
    "x_test <- test_data_v2[, !names(test_data_v2) %in% c(\"Rank\", \"Title\", \"TotalSales\", \"YearsSinceRelease\", \"YearlySales\", \"log_transformed_yearly_sales\")]"
   ]
  },
  {
   "cell_type": "code",
   "execution_count": 89,
   "metadata": {
    "vscode": {
     "languageId": "r"
    }
   },
   "outputs": [],
   "source": [
    "# Train the model\n",
    "history = keras::fit(model, data.matrix(x_train), data.matrix(training_data_v2$YearlySales), epochs = 100, batch_size = 100, verbose = 1)"
   ]
  },
  {
   "cell_type": "code",
   "execution_count": 90,
   "metadata": {
    "vscode": {
     "languageId": "r"
    }
   },
   "outputs": [
    {
     "data": {
      "image/png": "[encoded data removed]",
      "text/plain": [
       "plot without title"
      ]
     },
     "metadata": {
      "image/png": {
       "height": 420,
       "width": 420
      }
     },
     "output_type": "display_data"
    }
   ],
   "source": [
    "plot(history)"
   ]
  },
  {
   "cell_type": "code",
   "execution_count": 91,
   "metadata": {
    "vscode": {
     "languageId": "r"
    }
   },
   "outputs": [],
   "source": [
    "# Evaluate the model\n",
    "eval_metrics <- model %>% evaluate(\n",
    "  x = data.matrix(x_test),  # Independent variables for testing\n",
    "  y = data.matrix(test_data_v2$YearlySales)  # Target variable for testing\n",
    ")"
   ]
  },
  {
   "cell_type": "code",
   "execution_count": 92,
   "metadata": {
    "vscode": {
     "languageId": "r"
    }
   },
   "outputs": [
    {
     "name": "stdout",
     "output_type": "stream",
     "text": [
      "               loss mean_absolute_error \n",
      "       1.021147e+10        9.078630e+04 \n"
     ]
    }
   ],
   "source": [
    "# Print the evaluation metrics\n",
    "print(eval_metrics)"
   ]
  },
  {
   "cell_type": "code",
   "execution_count": null,
   "metadata": {
    "vscode": {
     "languageId": "r"
    }
   },
   "outputs": [],
   "source": [
    "# LM Model: Mean Squared Error: 5900104  & Mean Absolute Deviation: 25425.11\n",
    "# NN Model: loss: ard 10 & mean_absolute_error: ard 9\n",
    "# NN Model is of better predictor!"
   ]
  },
  {
   "cell_type": "code",
   "execution_count": 93,
   "metadata": {
    "vscode": {
     "languageId": "r"
    }
   },
   "outputs": [],
   "source": [
    "# Generate predictions using your trained model\n",
    "predictions <- model %>% predict(data.matrix(x_test))\n",
    "\n",
    "# Organize results into a data frame\n",
    "results <- data.frame(Actual_YearlySales = test_data_v2$YearlySales, Predicted_YearlySales = as.vector(predictions))"
   ]
  },
  {
   "cell_type": "code",
   "execution_count": 94,
   "metadata": {
    "vscode": {
     "languageId": "r"
    }
   },
   "outputs": [
    {
     "data": {
      "image/png": "[encoded data removed]",
      "text/plain": [
       "plot without title"
      ]
     },
     "metadata": {
      "image/png": {
       "height": 420,
       "width": 420
      }
     },
     "output_type": "display_data"
    }
   ],
   "source": [
    "# Create a scatter plot for both predicted and actual values using different colors\n",
    "ggplot(results, aes(x = seq_along(Actual_YearlySales))) +\n",
    "  geom_point(aes(y = Predicted_YearlySales), color = \"orange\") +\n",
    "  geom_point(aes(y = Actual_YearlySales), color = \"blue\") +\n",
    "  labs(x = \"Index\", y = \"Yearly Sales\") +\n",
    "  ggtitle(\"Predicted Yearly Sales vs. Actual Yearly Sales\") +\n",
    "  theme_minimal()"
   ]
  },
  {
   "cell_type": "code",
   "execution_count": 120,
   "metadata": {
    "vscode": {
     "languageId": "r"
    }
   },
   "outputs": [],
   "source": [
    "# Export to excel\n",
    "\n",
    "write_xlsx(results, path = \"NN_results.xlsx\")"
   ]
  },
  {
   "cell_type": "code",
   "execution_count": 64,
   "metadata": {
    "vscode": {
     "languageId": "r"
    }
   },
   "outputs": [],
   "source": [
    "########################################################\n",
    "# Build a NN model\n",
    "\n",
    "# Create a Keras Sequential model\n",
    "model2 <- keras_model_sequential()\n",
    "\n",
    "# Add an input layer\n",
    "model2 %>% \n",
    "  layer_dense(units = 72, input_shape = c(11), activation = \"relu\")\n",
    "\n",
    "# Add one or more hidden layers\n",
    "model2 %>%\n",
    "  layer_dense(units = 50, activation = \"relu\") %>%\n",
    "  layer_dense(units = 8, activation = \"relu\")\n",
    "\n",
    "# Add an output layer\n",
    "model2 %>%\n",
    "  layer_dense(units = 1)  # To predict 'TotalSales'\n",
    "\n",
    "# Compile the model\n",
    "model2 %>%\n",
    "  compile(\n",
    "    loss = \"mean_squared_error\",\n",
    "    optimizer = optimizer_adam(),\n",
    "    metrics = list(\"mean_absolute_error\")\n",
    "  )"
   ]
  },
  {
   "cell_type": "code",
   "execution_count": 65,
   "metadata": {
    "vscode": {
     "languageId": "r"
    }
   },
   "outputs": [
    {
     "name": "stdout",
     "output_type": "stream",
     "text": [
      "Model: \"sequential_2\"\n",
      "________________________________________________________________________________\n",
      " Layer (type)                       Output Shape                    Param #     \n",
      "================================================================================\n",
      " dense_8 (Dense)                    (None, 72)                      864         \n",
      " dense_10 (Dense)                   (None, 50)                      3650        \n",
      " dense_9 (Dense)                    (None, 8)                       408         \n",
      " dense_11 (Dense)                   (None, 1)                       9           \n",
      "================================================================================\n",
      "Total params: 4,931\n",
      "Trainable params: 4,931\n",
      "Non-trainable params: 0\n",
      "________________________________________________________________________________\n"
     ]
    }
   ],
   "source": [
    "summary(model2)"
   ]
  },
  {
   "cell_type": "code",
   "execution_count": 66,
   "metadata": {
    "vscode": {
     "languageId": "r"
    }
   },
   "outputs": [],
   "source": [
    "# Train the model\n",
    "history2 = keras::fit(model2, data.matrix(x_train), data.matrix(training_data_v2$YearlySales), epochs = 100, batch_size = 100, verbose = 1)"
   ]
  },
  {
   "cell_type": "code",
   "execution_count": 67,
   "metadata": {
    "vscode": {
     "languageId": "r"
    }
   },
   "outputs": [],
   "source": [
    "# Evaluate the model\n",
    "eval_metrics2 <- model2 %>% evaluate(\n",
    "  x = data.matrix(x_test),  # Independent variables for testing\n",
    "  y = data.matrix(test_data_v2$YearlySales)  # Target variable for testing\n",
    ")"
   ]
  },
  {
   "cell_type": "code",
   "execution_count": 68,
   "metadata": {
    "vscode": {
     "languageId": "r"
    }
   },
   "outputs": [
    {
     "name": "stdout",
     "output_type": "stream",
     "text": [
      "               loss mean_absolute_error \n",
      "       1.024168e+10        9.142907e+04 \n"
     ]
    }
   ],
   "source": [
    "# Print the evaluation metrics\n",
    "print(eval_metrics2)"
   ]
  },
  {
   "cell_type": "code",
   "execution_count": null,
   "metadata": {
    "vscode": {
     "languageId": "r"
    }
   },
   "outputs": [],
   "source": [
    "# Increasing the hyperparameter reduce the loss further"
   ]
  },
  {
   "cell_type": "code",
   "execution_count": 69,
   "metadata": {
    "vscode": {
     "languageId": "r"
    }
   },
   "outputs": [],
   "source": [
    "########################################################\n",
    "# Build a NN model\n",
    "\n",
    "# Create a Keras Sequential model\n",
    "model3 <- keras_model_sequential()\n",
    "\n",
    "# Add an input layer\n",
    "model3 %>% \n",
    "  layer_dense(units = 64, input_shape = c(11), activation = \"relu\")\n",
    "\n",
    "# Add one or more hidden layers\n",
    "model3 %>%\n",
    "  layer_dense(units = 32, activation = \"relu\") %>%\n",
    "  layer_dense(units = 16, activation = \"relu\")\n",
    "\n",
    "# Add an output layer\n",
    "model3 %>%\n",
    "  layer_dense(units = 1)  # To predict 'TotalSales'\n",
    "\n",
    "# Compile the model\n",
    "model3 %>%\n",
    "  compile(\n",
    "    loss = \"mean_squared_error\",\n",
    "    optimizer = optimizer_adam(),\n",
    "    metrics = list(\"mean_absolute_error\")\n",
    "  )"
   ]
  },
  {
   "cell_type": "code",
   "execution_count": 70,
   "metadata": {
    "vscode": {
     "languageId": "r"
    }
   },
   "outputs": [],
   "source": [
    "# Train the model\n",
    "history3 = keras::fit(model3, data.matrix(x_train), data.matrix(training_data_v2$YearlySales), epochs = 500, batch_size = 100, verbose = 1)"
   ]
  },
  {
   "cell_type": "code",
   "execution_count": 71,
   "metadata": {
    "vscode": {
     "languageId": "r"
    }
   },
   "outputs": [],
   "source": [
    "# Evaluate the model\n",
    "eval_metrics3 <- model3 %>% evaluate(\n",
    "  x = data.matrix(x_test),  # Independent variables for testing\n",
    "  y = data.matrix(test_data_v2$YearlySales)  # Target variable for testing\n",
    ")"
   ]
  },
  {
   "cell_type": "code",
   "execution_count": 72,
   "metadata": {
    "vscode": {
     "languageId": "r"
    }
   },
   "outputs": [
    {
     "name": "stdout",
     "output_type": "stream",
     "text": [
      "               loss mean_absolute_error \n",
      "       1.459941e+10        9.184043e+04 \n"
     ]
    }
   ],
   "source": [
    "# Print the evaluation metrics\n",
    "print(eval_metrics3)"
   ]
  },
  {
   "cell_type": "code",
   "execution_count": null,
   "metadata": {
    "vscode": {
     "languageId": "r"
    }
   },
   "outputs": [],
   "source": [
    "# Increasing number of iterations improves the model's performance too"
   ]
  },
  {
   "cell_type": "code",
   "execution_count": 73,
   "metadata": {
    "vscode": {
     "languageId": "r"
    }
   },
   "outputs": [],
   "source": [
    "########################################################\n",
    "# Build a NN model\n",
    "\n",
    "# Create a Keras Sequential model\n",
    "model4 <- keras_model_sequential()\n",
    "\n",
    "# Add an input layer\n",
    "model4 %>% \n",
    "  layer_dense(units = 64, input_shape = c(11), activation = \"relu\")\n",
    "\n",
    "# Add one or more hidden layers\n",
    "model4 %>%\n",
    "  layer_dense(units = 32, activation = \"relu\") %>%\n",
    "  layer_dense(units = 16, activation = \"relu\")\n",
    "\n",
    "# Add an output layer\n",
    "model4 %>%\n",
    "  layer_dense(units = 1)  # To predict 'TotalSales'\n",
    "\n",
    "# Compile the model\n",
    "model4 %>%\n",
    "  compile(\n",
    "    loss = \"mean_squared_error\",\n",
    "    optimizer = optimizer_adam(),\n",
    "    metrics = list(\"mean_absolute_error\")\n",
    "  )"
   ]
  },
  {
   "cell_type": "code",
   "execution_count": 95,
   "metadata": {
    "vscode": {
     "languageId": "r"
    }
   },
   "outputs": [],
   "source": [
    "# Train the model\n",
    "history4 = keras::fit(model4, data.matrix(x_train), data.matrix(training_data_v2$YearlySales), epochs = 200, batch_size = 100, verbose = 1)"
   ]
  },
  {
   "cell_type": "code",
   "execution_count": 96,
   "metadata": {
    "vscode": {
     "languageId": "r"
    }
   },
   "outputs": [],
   "source": [
    "# Evaluate the model\n",
    "eval_metrics4 <- model4 %>% evaluate(\n",
    "  x = data.matrix(x_test),  # Independent variables for testing\n",
    "  y = data.matrix(test_data_v2$YearlySales)  # Target variable for testing\n",
    ")"
   ]
  },
  {
   "cell_type": "code",
   "execution_count": 97,
   "metadata": {
    "vscode": {
     "languageId": "r"
    }
   },
   "outputs": [
    {
     "name": "stdout",
     "output_type": "stream",
     "text": [
      "               loss mean_absolute_error \n",
      "       1.463605e+10        9.674402e+04 \n"
     ]
    }
   ],
   "source": [
    "# Print the evaluation metrics\n",
    "print(eval_metrics4)"
   ]
  },
  {
   "cell_type": "code",
   "execution_count": 98,
   "metadata": {
    "vscode": {
     "languageId": "r"
    }
   },
   "outputs": [],
   "source": [
    "# Generate predictions using your trained model\n",
    "predictions_NN4 <- model4 %>% predict(data.matrix(x_test))\n",
    "\n",
    "# Organize results into a data frame\n",
    "results_NN4 <- data.frame(Actual_YearlySales = test_data_v2$YearlySales, Predicted_YearlySales = as.vector(predictions_NN4))"
   ]
  },
  {
   "cell_type": "code",
   "execution_count": 99,
   "metadata": {
    "vscode": {
     "languageId": "r"
    }
   },
   "outputs": [
    {
     "data": {
      "image/png": "[encoded data removed]",
      "text/plain": [
       "plot without title"
      ]
     },
     "metadata": {
      "image/png": {
       "height": 420,
       "width": 420
      }
     },
     "output_type": "display_data"
    }
   ],
   "source": [
    "# Create a scatter plot for both predicted and actual values using different colors\n",
    "ggplot(results_NN4, aes(x = seq_along(Actual_YearlySales))) +\n",
    "  geom_point(aes(y = Predicted_YearlySales), color = \"orange\") +\n",
    "  geom_point(aes(y = Actual_YearlySales), color = \"blue\") +\n",
    "  labs(x = \"Index\", y = \"Yearly Sales\") +\n",
    "  ggtitle(\"Predicted Yearly Sales vs. Actual Yearly Sales\") +\n",
    "  theme_minimal()"
   ]
  }
 ],
 "metadata": {
  "kernelspec": {
   "display_name": "R",
   "language": "R",
   "name": "ir"
  },
  "language_info": {
   "codemirror_mode": "r",
   "file_extension": ".r",
   "mimetype": "text/x-r-source",
   "name": "R",
   "pygments_lexer": "r",
   "version": "4.3.1"
  }
 },
 "nbformat": 4,
 "nbformat_minor": 2
}
