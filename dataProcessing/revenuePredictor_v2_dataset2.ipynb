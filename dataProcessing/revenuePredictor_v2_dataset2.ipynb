{
 "cells": [
  {
   "cell_type": "code",
   "execution_count": 2,
   "metadata": {
    "vscode": {
     "languageId": "r"
    }
   },
   "outputs": [],
   "source": [
    "library(pacman)\n",
    "\n",
    "# Use pacman to load the packages\n",
    "p_load(car)\n",
    "p_load(dplyr)\n",
    "p_load(tidyverse, VIM, mice, Hmisc, \n",
    "               DMwR, naniar)\n",
    "p_load(stargazer)\n",
    "p_load(openxlsx)\n",
    "p_load(here)\n",
    "p_load(rio)\n",
    "p_load(ggplot2)\n",
    "p_load(BSDA)\n",
    "p_load(corrplot)\n",
    "p_load(caTools)\n",
    "p_load(keras)\n",
    "p_load(reticulate)\n",
    "p_load(readr)\n",
    "p_load(writexl)\n",
    "p_load(stringr)\n",
    "p_load(caTools)\n",
    "p_load(scales)\n",
    "p_load(readxl)\n"
   ]
  },
  {
   "cell_type": "code",
   "execution_count": 8,
   "metadata": {
    "vscode": {
     "languageId": "r"
    }
   },
   "outputs": [
    {
     "name": "stderr",
     "output_type": "stream",
     "text": [
      "+ \"C:/Users/angme/anaconda3/condabin/conda.bat\" \"install\" \"--yes\" \"--prefix\" \"C:/Users/angme/anaconda3\" \"-c\" \"conda-forge\" \"tensorflow\"\n",
      "\n"
     ]
    }
   ],
   "source": [
    "py_install(\"tensorflow\")"
   ]
  },
  {
   "cell_type": "markdown",
   "metadata": {},
   "source": [
    "Import File"
   ]
  },
  {
   "cell_type": "code",
   "execution_count": 5,
   "metadata": {
    "vscode": {
     "languageId": "r"
    }
   },
   "outputs": [],
   "source": [
    "dataset2 <- read_excel(here(\"dataSources\", \"videoGames\", \"Video game sales - 2000 - 2020.xlsx\"))\n",
    "attach(dataset2)"
   ]
  },
  {
   "cell_type": "code",
   "execution_count": 6,
   "metadata": {
    "vscode": {
     "languageId": "r"
    }
   },
   "outputs": [
    {
     "name": "stdout",
     "output_type": "stream",
     "text": [
      "tibble [8,896 × 15] (S3: tbl_df/tbl/data.frame)\n",
      " $ title               : chr [1:8896] \"(c 12) Final Resistance\" \".hack  Sekai no Mukou ni   Versus\" \"007  Quantum of Solace\" \"007  Quantum of Solace\" ...\n",
      " $ platform            : chr [1:8896] \"PS\" \"PS3\" \"PS2\" \"PS3\" ...\n",
      " $ genre               : chr [1:8896] \"Shooter\" \"Fighting\" \"Shooter\" \"Shooter\" ...\n",
      " $ publisher           : chr [1:8896] \"IBM\" \"IBM\" \"Activision\" \"Activision\" ...\n",
      " $ vg_score            : num [1:8896] 1 6 8 3 1 6 3 1 2 3 ...\n",
      " $ critic_score        : num [1:8896] 6.5 10 7.8 6.6 6.4 7 6.1 2 10 7 ...\n",
      " $ user_score          : num [1:8896] 4 6 4 10 1 7 8 5 3 1 ...\n",
      " $ total_shipped       : num [1:8896] 8 269 81 158 240 294 210 174 21 277 ...\n",
      " $ aisan_sales         : num [1:8896] 5.08 3 3 1.14 3 2.94 3 3.74 5.5 2.67 ...\n",
      " $ north_american_sales: num [1:8896] 1.1 1.86 0.17 0.43 0.51 2.3 0.3 1.98 4.74 2.37 ...\n",
      " $ japan_sales         : num [1:8896] 5.7 0.03 1.21 0.02 3.75 1.37 4.94 2.34 3.85 5.75 ...\n",
      " $ european_sales      : num [1:8896] 3.54 6.43 2.22 0.51 0.35 2.14 0.2 1.16 3.73 3.62 ...\n",
      " $ global_sales        : num [1:8896] 15.42 8.35 4.03 2.1 5.53 ...\n",
      " $ Production Cost     : num [1:8896] 1.98 3.34 2.05 1.19 1.5 4.27 2.8 5.76 3.89 6.33 ...\n",
      " $ release_year        : num [1:8896] 2002 2012 2008 2008 2000 ...\n"
     ]
    },
    {
     "data": {
      "text/plain": [
       "    title             platform            genre            publisher        \n",
       " Length:8896        Length:8896        Length:8896        Length:8896       \n",
       " Class :character   Class :character   Class :character   Class :character  \n",
       " Mode  :character   Mode  :character   Mode  :character   Mode  :character  \n",
       "                                                                            \n",
       "                                                                            \n",
       "                                                                            \n",
       "    vg_score       critic_score     user_score     total_shipped   \n",
       " Min.   : 1.000   Min.   : 1.00   Min.   : 1.000   Min.   :  0.07  \n",
       " 1st Qu.: 4.000   1st Qu.: 3.00   1st Qu.: 3.000   1st Qu.: 67.00  \n",
       " Median : 6.000   Median : 6.00   Median : 5.000   Median :146.00  \n",
       " Mean   : 6.121   Mean   : 5.71   Mean   : 5.502   Mean   :145.25  \n",
       " 3rd Qu.: 8.500   3rd Qu.: 8.00   3rd Qu.: 8.000   3rd Qu.:224.00  \n",
       " Max.   :10.000   Max.   :10.00   Max.   :10.000   Max.   :300.00  \n",
       "  aisan_sales     north_american_sales  japan_sales    european_sales \n",
       " Min.   : 1.000   Min.   :0.010        Min.   :0.010   Min.   :0.010  \n",
       " 1st Qu.: 3.000   1st Qu.:0.640        1st Qu.:1.690   1st Qu.:1.040  \n",
       " Median : 3.000   Median :2.440        Median :3.100   Median :3.025  \n",
       " Mean   : 3.877   Mean   :2.591        Mean   :3.065   Mean   :3.037  \n",
       " 3rd Qu.: 5.140   3rd Qu.:4.060        3rd Qu.:4.590   3rd Qu.:5.000  \n",
       " Max.   :13.800   Max.   :8.000        Max.   :6.000   Max.   :7.000  \n",
       "  global_sales   Production Cost  release_year \n",
       " Min.   : 0.09   Min.   :0.010   Min.   :2000  \n",
       " 1st Qu.: 6.34   1st Qu.:2.160   1st Qu.:2004  \n",
       " Median :12.20   Median :3.440   Median :2007  \n",
       " Mean   :11.59   Mean   :3.565   Mean   :2008  \n",
       " 3rd Qu.:16.23   3rd Qu.:4.950   3rd Qu.:2010  \n",
       " Max.   :27.08   Max.   :8.000   Max.   :2020  "
      ]
     },
     "metadata": {},
     "output_type": "display_data"
    },
    {
     "data": {
      "text/html": [
       "<style>\n",
       ".list-inline {list-style: none; margin:0; padding: 0}\n",
       ".list-inline>li {display: inline-block}\n",
       ".list-inline>li:not(:last-child)::after {content: \"\\00b7\"; padding: 0 .5ex}\n",
       "</style>\n",
       "<ol class=list-inline><li>'title'</li><li>'platform'</li><li>'genre'</li><li>'publisher'</li><li>'vg_score'</li><li>'critic_score'</li><li>'user_score'</li><li>'total_shipped'</li><li>'aisan_sales'</li><li>'north_american_sales'</li><li>'japan_sales'</li><li>'european_sales'</li><li>'global_sales'</li><li>'Production Cost'</li><li>'release_year'</li></ol>\n"
      ],
      "text/latex": [
       "\\begin{enumerate*}\n",
       "\\item 'title'\n",
       "\\item 'platform'\n",
       "\\item 'genre'\n",
       "\\item 'publisher'\n",
       "\\item 'vg\\_score'\n",
       "\\item 'critic\\_score'\n",
       "\\item 'user\\_score'\n",
       "\\item 'total\\_shipped'\n",
       "\\item 'aisan\\_sales'\n",
       "\\item 'north\\_american\\_sales'\n",
       "\\item 'japan\\_sales'\n",
       "\\item 'european\\_sales'\n",
       "\\item 'global\\_sales'\n",
       "\\item 'Production Cost'\n",
       "\\item 'release\\_year'\n",
       "\\end{enumerate*}\n"
      ],
      "text/markdown": [
       "1. 'title'\n",
       "2. 'platform'\n",
       "3. 'genre'\n",
       "4. 'publisher'\n",
       "5. 'vg_score'\n",
       "6. 'critic_score'\n",
       "7. 'user_score'\n",
       "8. 'total_shipped'\n",
       "9. 'aisan_sales'\n",
       "10. 'north_american_sales'\n",
       "11. 'japan_sales'\n",
       "12. 'european_sales'\n",
       "13. 'global_sales'\n",
       "14. 'Production Cost'\n",
       "15. 'release_year'\n",
       "\n",
       "\n"
      ],
      "text/plain": [
       " [1] \"title\"                \"platform\"             \"genre\"               \n",
       " [4] \"publisher\"            \"vg_score\"             \"critic_score\"        \n",
       " [7] \"user_score\"           \"total_shipped\"        \"aisan_sales\"         \n",
       "[10] \"north_american_sales\" \"japan_sales\"          \"european_sales\"      \n",
       "[13] \"global_sales\"         \"Production Cost\"      \"release_year\"        "
      ]
     },
     "metadata": {},
     "output_type": "display_data"
    },
    {
     "data": {
      "text/html": [
       "<table class=\"dataframe\">\n",
       "<caption>A tibble: 5 × 15</caption>\n",
       "<thead>\n",
       "\t<tr><th scope=col>title</th><th scope=col>platform</th><th scope=col>genre</th><th scope=col>publisher</th><th scope=col>vg_score</th><th scope=col>critic_score</th><th scope=col>user_score</th><th scope=col>total_shipped</th><th scope=col>aisan_sales</th><th scope=col>north_american_sales</th><th scope=col>japan_sales</th><th scope=col>european_sales</th><th scope=col>global_sales</th><th scope=col>Production Cost</th><th scope=col>release_year</th></tr>\n",
       "\t<tr><th scope=col>&lt;chr&gt;</th><th scope=col>&lt;chr&gt;</th><th scope=col>&lt;chr&gt;</th><th scope=col>&lt;chr&gt;</th><th scope=col>&lt;dbl&gt;</th><th scope=col>&lt;dbl&gt;</th><th scope=col>&lt;dbl&gt;</th><th scope=col>&lt;dbl&gt;</th><th scope=col>&lt;dbl&gt;</th><th scope=col>&lt;dbl&gt;</th><th scope=col>&lt;dbl&gt;</th><th scope=col>&lt;dbl&gt;</th><th scope=col>&lt;dbl&gt;</th><th scope=col>&lt;dbl&gt;</th><th scope=col>&lt;dbl&gt;</th></tr>\n",
       "</thead>\n",
       "<tbody>\n",
       "\t<tr><td>(c 12) Final Resistance          </td><td>PS </td><td>Shooter </td><td>IBM            </td><td>1</td><td> 6.5</td><td> 4</td><td>  8</td><td>5.08</td><td>1.10</td><td>5.70</td><td>3.54</td><td>15.42</td><td>1.98</td><td>2002</td></tr>\n",
       "\t<tr><td>.hack  Sekai no Mukou ni   Versus</td><td>PS3</td><td>Fighting</td><td>IBM            </td><td>6</td><td>10.0</td><td> 6</td><td>269</td><td>3.00</td><td>1.86</td><td>0.03</td><td>6.43</td><td> 8.35</td><td>3.34</td><td>2012</td></tr>\n",
       "\t<tr><td>007  Quantum of Solace           </td><td>PS2</td><td>Shooter </td><td>Activision     </td><td>8</td><td> 7.8</td><td> 4</td><td> 81</td><td>3.00</td><td>0.17</td><td>1.21</td><td>2.22</td><td> 4.03</td><td>2.05</td><td>2008</td></tr>\n",
       "\t<tr><td>007  Quantum of Solace           </td><td>PS3</td><td>Shooter </td><td>Activision     </td><td>3</td><td> 6.6</td><td>10</td><td>158</td><td>1.14</td><td>0.43</td><td>0.02</td><td>0.51</td><td> 2.10</td><td>1.19</td><td>2008</td></tr>\n",
       "\t<tr><td>007  The World is not Enough     </td><td>PS </td><td>Shooter </td><td>Electronic Arts</td><td>1</td><td> 6.4</td><td> 1</td><td>240</td><td>3.00</td><td>0.51</td><td>3.75</td><td>0.35</td><td> 5.53</td><td>1.50</td><td>2000</td></tr>\n",
       "</tbody>\n",
       "</table>\n"
      ],
      "text/latex": [
       "A tibble: 5 × 15\n",
       "\\begin{tabular}{lllllllllllllll}\n",
       " title & platform & genre & publisher & vg\\_score & critic\\_score & user\\_score & total\\_shipped & aisan\\_sales & north\\_american\\_sales & japan\\_sales & european\\_sales & global\\_sales & Production Cost & release\\_year\\\\\n",
       " <chr> & <chr> & <chr> & <chr> & <dbl> & <dbl> & <dbl> & <dbl> & <dbl> & <dbl> & <dbl> & <dbl> & <dbl> & <dbl> & <dbl>\\\\\n",
       "\\hline\n",
       "\t (c 12) Final Resistance           & PS  & Shooter  & IBM             & 1 &  6.5 &  4 &   8 & 5.08 & 1.10 & 5.70 & 3.54 & 15.42 & 1.98 & 2002\\\\\n",
       "\t .hack  Sekai no Mukou ni   Versus & PS3 & Fighting & IBM             & 6 & 10.0 &  6 & 269 & 3.00 & 1.86 & 0.03 & 6.43 &  8.35 & 3.34 & 2012\\\\\n",
       "\t 007  Quantum of Solace            & PS2 & Shooter  & Activision      & 8 &  7.8 &  4 &  81 & 3.00 & 0.17 & 1.21 & 2.22 &  4.03 & 2.05 & 2008\\\\\n",
       "\t 007  Quantum of Solace            & PS3 & Shooter  & Activision      & 3 &  6.6 & 10 & 158 & 1.14 & 0.43 & 0.02 & 0.51 &  2.10 & 1.19 & 2008\\\\\n",
       "\t 007  The World is not Enough      & PS  & Shooter  & Electronic Arts & 1 &  6.4 &  1 & 240 & 3.00 & 0.51 & 3.75 & 0.35 &  5.53 & 1.50 & 2000\\\\\n",
       "\\end{tabular}\n"
      ],
      "text/markdown": [
       "\n",
       "A tibble: 5 × 15\n",
       "\n",
       "| title &lt;chr&gt; | platform &lt;chr&gt; | genre &lt;chr&gt; | publisher &lt;chr&gt; | vg_score &lt;dbl&gt; | critic_score &lt;dbl&gt; | user_score &lt;dbl&gt; | total_shipped &lt;dbl&gt; | aisan_sales &lt;dbl&gt; | north_american_sales &lt;dbl&gt; | japan_sales &lt;dbl&gt; | european_sales &lt;dbl&gt; | global_sales &lt;dbl&gt; | Production Cost &lt;dbl&gt; | release_year &lt;dbl&gt; |\n",
       "|---|---|---|---|---|---|---|---|---|---|---|---|---|---|---|\n",
       "| (c 12) Final Resistance           | PS  | Shooter  | IBM             | 1 |  6.5 |  4 |   8 | 5.08 | 1.10 | 5.70 | 3.54 | 15.42 | 1.98 | 2002 |\n",
       "| .hack  Sekai no Mukou ni   Versus | PS3 | Fighting | IBM             | 6 | 10.0 |  6 | 269 | 3.00 | 1.86 | 0.03 | 6.43 |  8.35 | 3.34 | 2012 |\n",
       "| 007  Quantum of Solace            | PS2 | Shooter  | Activision      | 8 |  7.8 |  4 |  81 | 3.00 | 0.17 | 1.21 | 2.22 |  4.03 | 2.05 | 2008 |\n",
       "| 007  Quantum of Solace            | PS3 | Shooter  | Activision      | 3 |  6.6 | 10 | 158 | 1.14 | 0.43 | 0.02 | 0.51 |  2.10 | 1.19 | 2008 |\n",
       "| 007  The World is not Enough      | PS  | Shooter  | Electronic Arts | 1 |  6.4 |  1 | 240 | 3.00 | 0.51 | 3.75 | 0.35 |  5.53 | 1.50 | 2000 |\n",
       "\n"
      ],
      "text/plain": [
       "  title                             platform genre    publisher       vg_score\n",
       "1 (c 12) Final Resistance           PS       Shooter  IBM             1       \n",
       "2 .hack  Sekai no Mukou ni   Versus PS3      Fighting IBM             6       \n",
       "3 007  Quantum of Solace            PS2      Shooter  Activision      8       \n",
       "4 007  Quantum of Solace            PS3      Shooter  Activision      3       \n",
       "5 007  The World is not Enough      PS       Shooter  Electronic Arts 1       \n",
       "  critic_score user_score total_shipped aisan_sales north_american_sales\n",
       "1  6.5          4           8           5.08        1.10                \n",
       "2 10.0          6         269           3.00        1.86                \n",
       "3  7.8          4          81           3.00        0.17                \n",
       "4  6.6         10         158           1.14        0.43                \n",
       "5  6.4          1         240           3.00        0.51                \n",
       "  japan_sales european_sales global_sales Production Cost release_year\n",
       "1 5.70        3.54           15.42        1.98            2002        \n",
       "2 0.03        6.43            8.35        3.34            2012        \n",
       "3 1.21        2.22            4.03        2.05            2008        \n",
       "4 0.02        0.51            2.10        1.19            2008        \n",
       "5 3.75        0.35            5.53        1.50            2000        "
      ]
     },
     "metadata": {},
     "output_type": "display_data"
    }
   ],
   "source": [
    "# Check the data\n",
    "str(dataset2)\n",
    "summary(dataset2)\n",
    "names(dataset2)\n",
    "head(dataset2, 5)"
   ]
  },
  {
   "cell_type": "code",
   "execution_count": 4,
   "metadata": {
    "vscode": {
     "languageId": "r"
    }
   },
   "outputs": [],
   "source": [
    "########################################################\n",
    "# data type\n",
    "# set the variables to factors (categorical data)\n",
    "data <- data %>%\n",
    "  mutate(\n",
    "    Console = as.factor(Console),\n",
    "    Publisher = as.factor(Publisher),\n",
    "    Developer = as.factor(Developer),\n",
    "    Genre = as.factor(Genre),\n",
    "    ReleaseWeekend = as.factor(ReleaseWeekend),\n",
    "    EndOfMonth = as.factor(EndOfMonth),\n",
    "    TotalSales = as.numeric(TotalSales)\n",
    "  )\n",
    "\n",
    "data ['NASales'] = NULL\n",
    "data ['PALSales'] = NULL\n",
    "data ['JapanSales'] = NULL\n",
    "data ['OtherSales'] = NULL\n",
    "data ['ReleaseDate'] = NULL\n",
    "data ['LastUpdate'] = NULL\n",
    "data ['VGChartzScore'] = NULL\n",
    "data ['CriticScore'] = NULL\n",
    "data ['UserScore'] = NULL"
   ]
  },
  {
   "cell_type": "code",
   "execution_count": 5,
   "metadata": {
    "vscode": {
     "languageId": "r"
    }
   },
   "outputs": [],
   "source": [
    "########################################################\n",
    "# Calculate YearsSinceRelease\n",
    "data$YearsSinceRelease <- 2023 - data$ReleaseYear"
   ]
  },
  {
   "cell_type": "code",
   "execution_count": 6,
   "metadata": {
    "vscode": {
     "languageId": "r"
    }
   },
   "outputs": [
    {
     "data": {
      "text/html": [
       "<table class=\"dataframe\">\n",
       "<caption>A data.frame: 5 × 15</caption>\n",
       "<thead>\n",
       "\t<tr><th></th><th scope=col>Rank</th><th scope=col>Title</th><th scope=col>Console</th><th scope=col>Publisher</th><th scope=col>Developer</th><th scope=col>Genre</th><th scope=col>ReleaseYear</th><th scope=col>ReleaseQuarter</th><th scope=col>ReleaseMonth</th><th scope=col>ReleaseWeek</th><th scope=col>ReleaseDay</th><th scope=col>ReleaseWeekend</th><th scope=col>EndOfMonth</th><th scope=col>TotalSales</th><th scope=col>YearsSinceRelease</th></tr>\n",
       "\t<tr><th></th><th scope=col>&lt;int&gt;</th><th scope=col>&lt;chr&gt;</th><th scope=col>&lt;fct&gt;</th><th scope=col>&lt;fct&gt;</th><th scope=col>&lt;fct&gt;</th><th scope=col>&lt;fct&gt;</th><th scope=col>&lt;int&gt;</th><th scope=col>&lt;int&gt;</th><th scope=col>&lt;int&gt;</th><th scope=col>&lt;int&gt;</th><th scope=col>&lt;int&gt;</th><th scope=col>&lt;fct&gt;</th><th scope=col>&lt;fct&gt;</th><th scope=col>&lt;dbl&gt;</th><th scope=col>&lt;dbl&gt;</th></tr>\n",
       "</thead>\n",
       "<tbody>\n",
       "\t<tr><th scope=row>1</th><td>2</td><td>Mario Kart 8 Deluxe             </td><td>NS</td><td>Nintendo        </td><td>Nintendo EPD     </td><td>Racing    </td><td>2017</td><td>2</td><td> 4</td><td>17</td><td>6</td><td>Weekend</td><td>End of month      </td><td>55460000</td><td> 6</td></tr>\n",
       "\t<tr><th scope=row>2</th><td>3</td><td>Animal Crossing: New Horizons   </td><td>NS</td><td>Nintendo        </td><td>Nintendo         </td><td>Simulation</td><td>2020</td><td>1</td><td> 3</td><td>12</td><td>6</td><td>Weekend</td><td>End of month      </td><td>42790000</td><td> 3</td></tr>\n",
       "\t<tr><th scope=row>3</th><td>5</td><td>Counter-Strike: Global Offensive</td><td>PC</td><td>Valve           </td><td>Valve Corporation</td><td>Shooter   </td><td>2012</td><td>3</td><td> 8</td><td>34</td><td>3</td><td>Weekday</td><td>End of month      </td><td>40000000</td><td>11</td></tr>\n",
       "\t<tr><th scope=row>4</th><td>7</td><td>PLAYERUNKNOWN'S BATTLEGROUNDS   </td><td>PC</td><td>PUBG Corporation</td><td>PUBG Corporation </td><td>Shooter   </td><td>2017</td><td>4</td><td>12</td><td>51</td><td>5</td><td>Weekday</td><td>End of month      </td><td>36600000</td><td> 6</td></tr>\n",
       "\t<tr><th scope=row>5</th><td>8</td><td>Minecraft                       </td><td>PC</td><td>Mojang          </td><td>Mojang AB        </td><td>Misc      </td><td>2010</td><td>4</td><td>10</td><td>41</td><td>3</td><td>Weekday</td><td>Beginning of month</td><td>33150000</td><td>13</td></tr>\n",
       "</tbody>\n",
       "</table>\n"
      ],
      "text/latex": [
       "A data.frame: 5 × 15\n",
       "\\begin{tabular}{r|lllllllllllllll}\n",
       "  & Rank & Title & Console & Publisher & Developer & Genre & ReleaseYear & ReleaseQuarter & ReleaseMonth & ReleaseWeek & ReleaseDay & ReleaseWeekend & EndOfMonth & TotalSales & YearsSinceRelease\\\\\n",
       "  & <int> & <chr> & <fct> & <fct> & <fct> & <fct> & <int> & <int> & <int> & <int> & <int> & <fct> & <fct> & <dbl> & <dbl>\\\\\n",
       "\\hline\n",
       "\t1 & 2 & Mario Kart 8 Deluxe              & NS & Nintendo         & Nintendo EPD      & Racing     & 2017 & 2 &  4 & 17 & 6 & Weekend & End of month       & 55460000 &  6\\\\\n",
       "\t2 & 3 & Animal Crossing: New Horizons    & NS & Nintendo         & Nintendo          & Simulation & 2020 & 1 &  3 & 12 & 6 & Weekend & End of month       & 42790000 &  3\\\\\n",
       "\t3 & 5 & Counter-Strike: Global Offensive & PC & Valve            & Valve Corporation & Shooter    & 2012 & 3 &  8 & 34 & 3 & Weekday & End of month       & 40000000 & 11\\\\\n",
       "\t4 & 7 & PLAYERUNKNOWN'S BATTLEGROUNDS    & PC & PUBG Corporation & PUBG Corporation  & Shooter    & 2017 & 4 & 12 & 51 & 5 & Weekday & End of month       & 36600000 &  6\\\\\n",
       "\t5 & 8 & Minecraft                        & PC & Mojang           & Mojang AB         & Misc       & 2010 & 4 & 10 & 41 & 3 & Weekday & Beginning of month & 33150000 & 13\\\\\n",
       "\\end{tabular}\n"
      ],
      "text/markdown": [
       "\n",
       "A data.frame: 5 × 15\n",
       "\n",
       "| <!--/--> | Rank &lt;int&gt; | Title &lt;chr&gt; | Console &lt;fct&gt; | Publisher &lt;fct&gt; | Developer &lt;fct&gt; | Genre &lt;fct&gt; | ReleaseYear &lt;int&gt; | ReleaseQuarter &lt;int&gt; | ReleaseMonth &lt;int&gt; | ReleaseWeek &lt;int&gt; | ReleaseDay &lt;int&gt; | ReleaseWeekend &lt;fct&gt; | EndOfMonth &lt;fct&gt; | TotalSales &lt;dbl&gt; | YearsSinceRelease &lt;dbl&gt; |\n",
       "|---|---|---|---|---|---|---|---|---|---|---|---|---|---|---|---|\n",
       "| 1 | 2 | Mario Kart 8 Deluxe              | NS | Nintendo         | Nintendo EPD      | Racing     | 2017 | 2 |  4 | 17 | 6 | Weekend | End of month       | 55460000 |  6 |\n",
       "| 2 | 3 | Animal Crossing: New Horizons    | NS | Nintendo         | Nintendo          | Simulation | 2020 | 1 |  3 | 12 | 6 | Weekend | End of month       | 42790000 |  3 |\n",
       "| 3 | 5 | Counter-Strike: Global Offensive | PC | Valve            | Valve Corporation | Shooter    | 2012 | 3 |  8 | 34 | 3 | Weekday | End of month       | 40000000 | 11 |\n",
       "| 4 | 7 | PLAYERUNKNOWN'S BATTLEGROUNDS    | PC | PUBG Corporation | PUBG Corporation  | Shooter    | 2017 | 4 | 12 | 51 | 5 | Weekday | End of month       | 36600000 |  6 |\n",
       "| 5 | 8 | Minecraft                        | PC | Mojang           | Mojang AB         | Misc       | 2010 | 4 | 10 | 41 | 3 | Weekday | Beginning of month | 33150000 | 13 |\n",
       "\n"
      ],
      "text/plain": [
       "  Rank Title                            Console Publisher       \n",
       "1 2    Mario Kart 8 Deluxe              NS      Nintendo        \n",
       "2 3    Animal Crossing: New Horizons    NS      Nintendo        \n",
       "3 5    Counter-Strike: Global Offensive PC      Valve           \n",
       "4 7    PLAYERUNKNOWN'S BATTLEGROUNDS    PC      PUBG Corporation\n",
       "5 8    Minecraft                        PC      Mojang          \n",
       "  Developer         Genre      ReleaseYear ReleaseQuarter ReleaseMonth\n",
       "1 Nintendo EPD      Racing     2017        2               4          \n",
       "2 Nintendo          Simulation 2020        1               3          \n",
       "3 Valve Corporation Shooter    2012        3               8          \n",
       "4 PUBG Corporation  Shooter    2017        4              12          \n",
       "5 Mojang AB         Misc       2010        4              10          \n",
       "  ReleaseWeek ReleaseDay ReleaseWeekend EndOfMonth         TotalSales\n",
       "1 17          6          Weekend        End of month       55460000  \n",
       "2 12          6          Weekend        End of month       42790000  \n",
       "3 34          3          Weekday        End of month       40000000  \n",
       "4 51          5          Weekday        End of month       36600000  \n",
       "5 41          3          Weekday        Beginning of month 33150000  \n",
       "  YearsSinceRelease\n",
       "1  6               \n",
       "2  3               \n",
       "3 11               \n",
       "4  6               \n",
       "5 13               "
      ]
     },
     "metadata": {},
     "output_type": "display_data"
    }
   ],
   "source": [
    "head(data,5)"
   ]
  },
  {
   "cell_type": "code",
   "execution_count": 7,
   "metadata": {
    "vscode": {
     "languageId": "r"
    }
   },
   "outputs": [
    {
     "data": {
      "text/html": [
       "<style>\n",
       ".dl-inline {width: auto; margin:0; padding: 0}\n",
       ".dl-inline>dt, .dl-inline>dd {float: none; width: auto; display: inline-block}\n",
       ".dl-inline>dt::after {content: \":\\0020\"; padding-right: .5ex}\n",
       ".dl-inline>dt:not(:first-of-type) {padding-left: .5ex}\n",
       "</style><dl class=dl-inline><dt>Rank</dt><dd>7623</dd><dt>Title</dt><dd>4930</dd><dt>Console</dt><dd>21</dd><dt>Publisher</dt><dd>713</dd><dt>Developer</dt><dd>1564</dd><dt>Genre</dt><dd>13</dd><dt>ReleaseYear</dt><dd>14</dd><dt>ReleaseQuarter</dt><dd>4</dd><dt>ReleaseMonth</dt><dd>12</dd><dt>ReleaseWeek</dt><dd>53</dd><dt>ReleaseDay</dt><dd>7</dd><dt>ReleaseWeekend</dt><dd>2</dd><dt>EndOfMonth</dt><dd>2</dd><dt>TotalSales</dt><dd>500</dd><dt>YearsSinceRelease</dt><dd>14</dd></dl>\n"
      ],
      "text/latex": [
       "\\begin{description*}\n",
       "\\item[Rank] 7623\n",
       "\\item[Title] 4930\n",
       "\\item[Console] 21\n",
       "\\item[Publisher] 713\n",
       "\\item[Developer] 1564\n",
       "\\item[Genre] 13\n",
       "\\item[ReleaseYear] 14\n",
       "\\item[ReleaseQuarter] 4\n",
       "\\item[ReleaseMonth] 12\n",
       "\\item[ReleaseWeek] 53\n",
       "\\item[ReleaseDay] 7\n",
       "\\item[ReleaseWeekend] 2\n",
       "\\item[EndOfMonth] 2\n",
       "\\item[TotalSales] 500\n",
       "\\item[YearsSinceRelease] 14\n",
       "\\end{description*}\n"
      ],
      "text/markdown": [
       "Rank\n",
       ":   7623Title\n",
       ":   4930Console\n",
       ":   21Publisher\n",
       ":   713Developer\n",
       ":   1564Genre\n",
       ":   13ReleaseYear\n",
       ":   14ReleaseQuarter\n",
       ":   4ReleaseMonth\n",
       ":   12ReleaseWeek\n",
       ":   53ReleaseDay\n",
       ":   7ReleaseWeekend\n",
       ":   2EndOfMonth\n",
       ":   2TotalSales\n",
       ":   500YearsSinceRelease\n",
       ":   14\n",
       "\n"
      ],
      "text/plain": [
       "             Rank             Title           Console         Publisher \n",
       "             7623              4930                21               713 \n",
       "        Developer             Genre       ReleaseYear    ReleaseQuarter \n",
       "             1564                13                14                 4 \n",
       "     ReleaseMonth       ReleaseWeek        ReleaseDay    ReleaseWeekend \n",
       "               12                53                 7                 2 \n",
       "       EndOfMonth        TotalSales YearsSinceRelease \n",
       "                2               500                14 "
      ]
     },
     "metadata": {},
     "output_type": "display_data"
    }
   ],
   "source": [
    "########################################################\n",
    "# Check the number of distinct values for the variables\n",
    "\n",
    "sapply(data, function(x) n_distinct(x))\n",
    "\n",
    "# Noticed too many publishers (total 713 publishers) & developers (total 1564 developers)"
   ]
  },
  {
   "cell_type": "markdown",
   "metadata": {},
   "source": [
    "Data Cleaning"
   ]
  },
  {
   "cell_type": "code",
   "execution_count": 70,
   "metadata": {
    "vscode": {
     "languageId": "r"
    }
   },
   "outputs": [
    {
     "data": {
      "image/png": "[encoded data removed]",
      "text/plain": [
       "plot without title"
      ]
     },
     "metadata": {
      "image/png": {
       "height": 420,
       "width": 420
      }
     },
     "output_type": "display_data"
    }
   ],
   "source": [
    "########################################################\n",
    "# EDA - explore the dataset\n",
    "\n",
    "# Calculate average sales and count of games released by year\n",
    "summary_data <- data %>%\n",
    "  group_by(ReleaseYear) %>%\n",
    "  summarise(AvgSales = mean(TotalSales), Count = n())\n",
    "\n",
    "# Define a scaling factor to make the Count values visible\n",
    "count_scaling_factor <- max(summary_data$AvgSales) / max(summary_data$Count)\n",
    "\n",
    "# Create a line graph\n",
    "ggplot(summary_data, aes(x = ReleaseYear)) +\n",
    "  geom_line(aes(y = AvgSales, color = \"Average Sales\"), size = 1) +\n",
    "  geom_line(aes(y = Count * count_scaling_factor, color = \"Count\"), size = 1) +\n",
    "  scale_color_manual(values = c(\"Average Sales\" = \"blue\", \"Count\" = \"orange\")) +\n",
    "  labs(title = \"Average Sales and Game Count by Release Year\",\n",
    "       y = \"Average Sales\",\n",
    "       color = \"Metric\") +\n",
    "  theme_minimal() +\n",
    "  scale_y_continuous(\n",
    "    sec.axis = sec_axis(~./count_scaling_factor, name = \"Count\")\n",
    "  ) +\n",
    "  scale_x_continuous(breaks = unique(summary_data$ReleaseYear))"
   ]
  },
  {
   "cell_type": "code",
   "execution_count": 71,
   "metadata": {
    "vscode": {
     "languageId": "r"
    }
   },
   "outputs": [
    {
     "data": {
      "text/html": [
       "<table class=\"dataframe\">\n",
       "<caption>A tibble: 14 × 3</caption>\n",
       "<thead>\n",
       "\t<tr><th scope=col>ReleaseYear</th><th scope=col>AvgSales</th><th scope=col>Count</th></tr>\n",
       "\t<tr><th scope=col>&lt;int&gt;</th><th scope=col>&lt;dbl&gt;</th><th scope=col>&lt;int&gt;</th></tr>\n",
       "</thead>\n",
       "<tbody>\n",
       "\t<tr><td>2010</td><td> 469174.4</td><td>1393</td></tr>\n",
       "\t<tr><td>2011</td><td> 503859.4</td><td>1280</td></tr>\n",
       "\t<tr><td>2012</td><td> 639492.5</td><td> 670</td></tr>\n",
       "\t<tr><td>2013</td><td> 790377.4</td><td> 583</td></tr>\n",
       "\t<tr><td>2014</td><td> 628039.8</td><td> 704</td></tr>\n",
       "\t<tr><td>2015</td><td> 550807.4</td><td> 706</td></tr>\n",
       "\t<tr><td>2016</td><td> 501132.1</td><td> 742</td></tr>\n",
       "\t<tr><td>2017</td><td> 594730.5</td><td> 742</td></tr>\n",
       "\t<tr><td>2018</td><td> 478072.1</td><td> 638</td></tr>\n",
       "\t<tr><td>2019</td><td>1845468.8</td><td>  64</td></tr>\n",
       "\t<tr><td>2020</td><td>2325283.0</td><td>  53</td></tr>\n",
       "\t<tr><td>2021</td><td>3206190.5</td><td>  21</td></tr>\n",
       "\t<tr><td>2022</td><td>4442222.2</td><td>  18</td></tr>\n",
       "\t<tr><td>2023</td><td>3204444.4</td><td>   9</td></tr>\n",
       "</tbody>\n",
       "</table>\n"
      ],
      "text/latex": [
       "A tibble: 14 × 3\n",
       "\\begin{tabular}{lll}\n",
       " ReleaseYear & AvgSales & Count\\\\\n",
       " <int> & <dbl> & <int>\\\\\n",
       "\\hline\n",
       "\t 2010 &  469174.4 & 1393\\\\\n",
       "\t 2011 &  503859.4 & 1280\\\\\n",
       "\t 2012 &  639492.5 &  670\\\\\n",
       "\t 2013 &  790377.4 &  583\\\\\n",
       "\t 2014 &  628039.8 &  704\\\\\n",
       "\t 2015 &  550807.4 &  706\\\\\n",
       "\t 2016 &  501132.1 &  742\\\\\n",
       "\t 2017 &  594730.5 &  742\\\\\n",
       "\t 2018 &  478072.1 &  638\\\\\n",
       "\t 2019 & 1845468.8 &   64\\\\\n",
       "\t 2020 & 2325283.0 &   53\\\\\n",
       "\t 2021 & 3206190.5 &   21\\\\\n",
       "\t 2022 & 4442222.2 &   18\\\\\n",
       "\t 2023 & 3204444.4 &    9\\\\\n",
       "\\end{tabular}\n"
      ],
      "text/markdown": [
       "\n",
       "A tibble: 14 × 3\n",
       "\n",
       "| ReleaseYear &lt;int&gt; | AvgSales &lt;dbl&gt; | Count &lt;int&gt; |\n",
       "|---|---|---|\n",
       "| 2010 |  469174.4 | 1393 |\n",
       "| 2011 |  503859.4 | 1280 |\n",
       "| 2012 |  639492.5 |  670 |\n",
       "| 2013 |  790377.4 |  583 |\n",
       "| 2014 |  628039.8 |  704 |\n",
       "| 2015 |  550807.4 |  706 |\n",
       "| 2016 |  501132.1 |  742 |\n",
       "| 2017 |  594730.5 |  742 |\n",
       "| 2018 |  478072.1 |  638 |\n",
       "| 2019 | 1845468.8 |   64 |\n",
       "| 2020 | 2325283.0 |   53 |\n",
       "| 2021 | 3206190.5 |   21 |\n",
       "| 2022 | 4442222.2 |   18 |\n",
       "| 2023 | 3204444.4 |    9 |\n",
       "\n"
      ],
      "text/plain": [
       "   ReleaseYear AvgSales  Count\n",
       "1  2010         469174.4 1393 \n",
       "2  2011         503859.4 1280 \n",
       "3  2012         639492.5  670 \n",
       "4  2013         790377.4  583 \n",
       "5  2014         628039.8  704 \n",
       "6  2015         550807.4  706 \n",
       "7  2016         501132.1  742 \n",
       "8  2017         594730.5  742 \n",
       "9  2018         478072.1  638 \n",
       "10 2019        1845468.8   64 \n",
       "11 2020        2325283.0   53 \n",
       "12 2021        3206190.5   21 \n",
       "13 2022        4442222.2   18 \n",
       "14 2023        3204444.4    9 "
      ]
     },
     "metadata": {},
     "output_type": "display_data"
    }
   ],
   "source": [
    "summary_data"
   ]
  },
  {
   "cell_type": "code",
   "execution_count": 8,
   "metadata": {
    "vscode": {
     "languageId": "r"
    }
   },
   "outputs": [],
   "source": [
    "# Drop data from 2019 onwards to eliminate covid impact\n",
    "\n",
    "data <- data %>%\n",
    "  filter(ReleaseYear < 2019)"
   ]
  },
  {
   "cell_type": "code",
   "execution_count": 9,
   "metadata": {
    "vscode": {
     "languageId": "r"
    }
   },
   "outputs": [
    {
     "data": {
      "text/html": [
       "<style>\n",
       ".dl-inline {width: auto; margin:0; padding: 0}\n",
       ".dl-inline>dt, .dl-inline>dd {float: none; width: auto; display: inline-block}\n",
       ".dl-inline>dt::after {content: \":\\0020\"; padding-right: .5ex}\n",
       ".dl-inline>dt:not(:first-of-type) {padding-left: .5ex}\n",
       "</style><dl class=dl-inline><dt>Rank</dt><dd>7458</dd><dt>Title</dt><dd>4789</dd><dt>Console</dt><dd>18</dd><dt>Publisher</dt><dd>693</dd><dt>Developer</dt><dd>1537</dd><dt>Genre</dt><dd>13</dd><dt>ReleaseYear</dt><dd>9</dd><dt>ReleaseQuarter</dt><dd>4</dd><dt>ReleaseMonth</dt><dd>12</dd><dt>ReleaseWeek</dt><dd>53</dd><dt>ReleaseDay</dt><dd>7</dd><dt>ReleaseWeekend</dt><dd>2</dd><dt>EndOfMonth</dt><dd>2</dd><dt>TotalSales</dt><dd>475</dd><dt>YearsSinceRelease</dt><dd>9</dd></dl>\n"
      ],
      "text/latex": [
       "\\begin{description*}\n",
       "\\item[Rank] 7458\n",
       "\\item[Title] 4789\n",
       "\\item[Console] 18\n",
       "\\item[Publisher] 693\n",
       "\\item[Developer] 1537\n",
       "\\item[Genre] 13\n",
       "\\item[ReleaseYear] 9\n",
       "\\item[ReleaseQuarter] 4\n",
       "\\item[ReleaseMonth] 12\n",
       "\\item[ReleaseWeek] 53\n",
       "\\item[ReleaseDay] 7\n",
       "\\item[ReleaseWeekend] 2\n",
       "\\item[EndOfMonth] 2\n",
       "\\item[TotalSales] 475\n",
       "\\item[YearsSinceRelease] 9\n",
       "\\end{description*}\n"
      ],
      "text/markdown": [
       "Rank\n",
       ":   7458Title\n",
       ":   4789Console\n",
       ":   18Publisher\n",
       ":   693Developer\n",
       ":   1537Genre\n",
       ":   13ReleaseYear\n",
       ":   9ReleaseQuarter\n",
       ":   4ReleaseMonth\n",
       ":   12ReleaseWeek\n",
       ":   53ReleaseDay\n",
       ":   7ReleaseWeekend\n",
       ":   2EndOfMonth\n",
       ":   2TotalSales\n",
       ":   475YearsSinceRelease\n",
       ":   9\n",
       "\n"
      ],
      "text/plain": [
       "             Rank             Title           Console         Publisher \n",
       "             7458              4789                18               693 \n",
       "        Developer             Genre       ReleaseYear    ReleaseQuarter \n",
       "             1537                13                 9                 4 \n",
       "     ReleaseMonth       ReleaseWeek        ReleaseDay    ReleaseWeekend \n",
       "               12                53                 7                 2 \n",
       "       EndOfMonth        TotalSales YearsSinceRelease \n",
       "                2               475                 9 "
      ]
     },
     "metadata": {},
     "output_type": "display_data"
    }
   ],
   "source": [
    "########################################################\n",
    "# Check the number of distinct values for the variables\n",
    "\n",
    "sapply(data, function(x) n_distinct(x))"
   ]
  },
  {
   "cell_type": "markdown",
   "metadata": {},
   "source": [
    "Handle Outliers, Transform Y to be normally distributed"
   ]
  },
  {
   "cell_type": "code",
   "execution_count": 10,
   "metadata": {
    "vscode": {
     "languageId": "r"
    }
   },
   "outputs": [
    {
     "name": "stderr",
     "output_type": "stream",
     "text": [
      "Warning message:\n",
      "\"\u001b[1m\u001b[22mUse of `data$TotalSales` is discouraged.\n",
      "\u001b[36mℹ\u001b[39m Use `TotalSales` instead.\"\n",
      "\u001b[1m\u001b[22m`stat_bin()` using `bins = 30`. Pick better value with `binwidth`.\n"
     ]
    },
    {
     "data": {
      "image/png": "[encoded data removed]",
      "text/plain": [
       "plot without title"
      ]
     },
     "metadata": {
      "image/png": {
       "height": 420,
       "width": 420
      }
     },
     "output_type": "display_data"
    }
   ],
   "source": [
    "########################################################\n",
    "# Check the distribution of dependent variable (TotalSales)\n",
    "\n",
    "# Create a histogram using ggplot\n",
    "ggplot(data, aes(x = data$TotalSales)) +\n",
    "  geom_histogram(fill = \"blue\", color = \"black\", alpha = 0.7) +\n",
    "  labs(\n",
    "    title = \"Distribution of Total Sales\",\n",
    "    x = \"Total Sales\",\n",
    "    y = \"Frequency\"\n",
    "  )"
   ]
  },
  {
   "cell_type": "code",
   "execution_count": 11,
   "metadata": {
    "vscode": {
     "languageId": "r"
    }
   },
   "outputs": [
    {
     "name": "stdout",
     "output_type": "stream",
     "text": [
      "Number of outliers removed: 925 \n"
     ]
    }
   ],
   "source": [
    "# Remove outliers\n",
    "\n",
    "# Calculate the IQR for Total Sales\n",
    "Q1 <- quantile(data$TotalSales, 0.25)\n",
    "Q3 <- quantile(data$TotalSales, 0.75)\n",
    "IQR_value <- Q3 - Q1\n",
    "\n",
    "# Define the lower and upper bounds for identifying outliers\n",
    "lower_bound <- Q1 - 1.5 * IQR_value\n",
    "upper_bound <- Q3 + 1.5 * IQR_value\n",
    "\n",
    "# Identify outliers\n",
    "outliers <- data$TotalSales[data$TotalSales < lower_bound | data$TotalSales > upper_bound]\n",
    "\n",
    "# Display the number of outliers removed\n",
    "cat(\"Number of outliers removed:\", length(outliers), \"\\n\")"
   ]
  },
  {
   "cell_type": "code",
   "execution_count": 12,
   "metadata": {
    "vscode": {
     "languageId": "r"
    }
   },
   "outputs": [],
   "source": [
    "data = data[!(data$TotalSales < lower_bound | data$TotalSales > upper_bound), ]"
   ]
  },
  {
   "cell_type": "code",
   "execution_count": 13,
   "metadata": {
    "vscode": {
     "languageId": "r"
    }
   },
   "outputs": [
    {
     "data": {
      "text/html": [
       "<style>\n",
       ".dl-inline {width: auto; margin:0; padding: 0}\n",
       ".dl-inline>dt, .dl-inline>dd {float: none; width: auto; display: inline-block}\n",
       ".dl-inline>dt::after {content: \":\\0020\"; padding-right: .5ex}\n",
       ".dl-inline>dt:not(:first-of-type) {padding-left: .5ex}\n",
       "</style><dl class=dl-inline><dt>Rank</dt><dd>6533</dd><dt>Title</dt><dd>4437</dd><dt>Console</dt><dd>17</dd><dt>Publisher</dt><dd>660</dd><dt>Developer</dt><dd>1465</dd><dt>Genre</dt><dd>13</dd><dt>ReleaseYear</dt><dd>9</dd><dt>ReleaseQuarter</dt><dd>4</dd><dt>ReleaseMonth</dt><dd>12</dd><dt>ReleaseWeek</dt><dd>53</dd><dt>ReleaseDay</dt><dd>7</dd><dt>ReleaseWeekend</dt><dd>2</dd><dt>EndOfMonth</dt><dd>2</dd><dt>TotalSales</dt><dd>94</dd><dt>YearsSinceRelease</dt><dd>9</dd></dl>\n"
      ],
      "text/latex": [
       "\\begin{description*}\n",
       "\\item[Rank] 6533\n",
       "\\item[Title] 4437\n",
       "\\item[Console] 17\n",
       "\\item[Publisher] 660\n",
       "\\item[Developer] 1465\n",
       "\\item[Genre] 13\n",
       "\\item[ReleaseYear] 9\n",
       "\\item[ReleaseQuarter] 4\n",
       "\\item[ReleaseMonth] 12\n",
       "\\item[ReleaseWeek] 53\n",
       "\\item[ReleaseDay] 7\n",
       "\\item[ReleaseWeekend] 2\n",
       "\\item[EndOfMonth] 2\n",
       "\\item[TotalSales] 94\n",
       "\\item[YearsSinceRelease] 9\n",
       "\\end{description*}\n"
      ],
      "text/markdown": [
       "Rank\n",
       ":   6533Title\n",
       ":   4437Console\n",
       ":   17Publisher\n",
       ":   660Developer\n",
       ":   1465Genre\n",
       ":   13ReleaseYear\n",
       ":   9ReleaseQuarter\n",
       ":   4ReleaseMonth\n",
       ":   12ReleaseWeek\n",
       ":   53ReleaseDay\n",
       ":   7ReleaseWeekend\n",
       ":   2EndOfMonth\n",
       ":   2TotalSales\n",
       ":   94YearsSinceRelease\n",
       ":   9\n",
       "\n"
      ],
      "text/plain": [
       "             Rank             Title           Console         Publisher \n",
       "             6533              4437                17               660 \n",
       "        Developer             Genre       ReleaseYear    ReleaseQuarter \n",
       "             1465                13                 9                 4 \n",
       "     ReleaseMonth       ReleaseWeek        ReleaseDay    ReleaseWeekend \n",
       "               12                53                 7                 2 \n",
       "       EndOfMonth        TotalSales YearsSinceRelease \n",
       "                2                94                 9 "
      ]
     },
     "metadata": {},
     "output_type": "display_data"
    }
   ],
   "source": [
    "########################################################\n",
    "# Check the number of distinct values for the variables\n",
    "\n",
    "sapply(data, function(x) n_distinct(x))"
   ]
  },
  {
   "cell_type": "code",
   "execution_count": 14,
   "metadata": {
    "vscode": {
     "languageId": "r"
    }
   },
   "outputs": [
    {
     "name": "stderr",
     "output_type": "stream",
     "text": [
      "\u001b[1m\u001b[22m`stat_bin()` using `bins = 30`. Pick better value with `binwidth`.\n"
     ]
    },
    {
     "data": {
      "image/png": "[encoded data removed]",
      "text/plain": [
       "plot without title"
      ]
     },
     "metadata": {
      "image/png": {
       "height": 420,
       "width": 420
      }
     },
     "output_type": "display_data"
    }
   ],
   "source": [
    "# Create a histogram using ggplot\n",
    "ggplot(data, aes(x = data$TotalSales)) +\n",
    "  geom_histogram(fill = \"blue\", color = \"black\", alpha = 0.7) +\n",
    "  labs(\n",
    "    title = \"Distribution of Total Sales\",\n",
    "    x = \"Total Sales\",\n",
    "    y = \"Frequency\"\n",
    "  )"
   ]
  },
  {
   "cell_type": "code",
   "execution_count": 15,
   "metadata": {
    "vscode": {
     "languageId": "r"
    }
   },
   "outputs": [],
   "source": [
    "# Right-skewed: transform 'TotalSales' using log\n",
    "data$log_transformed_total_sales <- log(data$TotalSales)\n",
    "\n",
    "# Filter out infinite and missing values from the log-transformed variable\n",
    "data <- data[is.finite(data$log_transformed_total_sales), ]"
   ]
  },
  {
   "cell_type": "code",
   "execution_count": 16,
   "metadata": {
    "vscode": {
     "languageId": "r"
    }
   },
   "outputs": [
    {
     "name": "stdout",
     "output_type": "stream",
     "text": [
      "Number of NA values in log_transformed_total_sales: 0 \n",
      "Number of NaN values in log_transformed_total_sales: 0 \n",
      "Number of Inf values in log_transformed_total_sales: 0 \n"
     ]
    }
   ],
   "source": [
    "# Check for NA values in the log_transformed_total_sales column\n",
    "na_count <- sum(is.na(data$log_transformed_total_sales))\n",
    "\n",
    "# Check for NaN values in the log_transformed_total_sales column\n",
    "nan_count <- sum(is.nan(data$log_transformed_total_sales))\n",
    "\n",
    "# Check for Inf values in the log_transformed_total_sales column\n",
    "inf_count <- sum(is.infinite(data$log_transformed_total_sales))\n",
    "\n",
    "# Print the results\n",
    "cat(\"Number of NA values in log_transformed_total_sales:\", na_count, \"\\n\")\n",
    "cat(\"Number of NaN values in log_transformed_total_sales:\", nan_count, \"\\n\")\n",
    "cat(\"Number of Inf values in log_transformed_total_sales:\", inf_count, \"\\n\")"
   ]
  },
  {
   "cell_type": "code",
   "execution_count": 17,
   "metadata": {
    "vscode": {
     "languageId": "r"
    }
   },
   "outputs": [
    {
     "data": {
      "image/png": "[encoded data removed]",
      "text/plain": [
       "Plot with title \"Histogram of log_transformed_total_sales\""
      ]
     },
     "metadata": {
      "image/png": {
       "height": 420,
       "width": 420
      }
     },
     "output_type": "display_data"
    },
    {
     "data": {
      "image/png": "[encoded data removed]",
      "text/plain": [
       "Plot with title \"Normal Q-Q Plot\""
      ]
     },
     "metadata": {
      "image/png": {
       "height": 420,
       "width": 420
      }
     },
     "output_type": "display_data"
    }
   ],
   "source": [
    "# Create a histogram for 'log_transformed_total_sales'\n",
    "hist(data$log_transformed_total_sales, main=\"Histogram of log_transformed_total_sales\", xlab=\"Log Transformed Total Sales\", col=\"lightblue\")\n",
    "\n",
    "# Create a QQ plot for 'log_transformed_total_sales'\n",
    "qqnorm(data$log_transformed_total_sales)\n",
    "qqline(data$log_transformed_total_sales, col = 2)\n",
    "\n",
    "# Display both the histogram and the QQ plot side by side\n",
    "par(mfrow = c(2, 2))"
   ]
  },
  {
   "cell_type": "code",
   "execution_count": 18,
   "metadata": {
    "vscode": {
     "languageId": "r"
    }
   },
   "outputs": [
    {
     "data": {
      "text/html": [
       "<table class=\"dataframe\">\n",
       "<caption>A matrix: 5 × 17 of type dbl</caption>\n",
       "<thead>\n",
       "\t<tr><th></th><th scope=col>Rank</th><th scope=col>Title</th><th scope=col>Console</th><th scope=col>Genre</th><th scope=col>ReleaseYear</th><th scope=col>ReleaseQuarter</th><th scope=col>ReleaseMonth</th><th scope=col>ReleaseWeek</th><th scope=col>ReleaseDay</th><th scope=col>ReleaseWeekend</th><th scope=col>EndOfMonth</th><th scope=col>TotalSales</th><th scope=col>YearsSinceRelease</th><th scope=col>log_transformed_total_sales</th><th scope=col>Publisher</th><th scope=col>Developer</th><th scope=col></th></tr>\n",
       "</thead>\n",
       "<tbody>\n",
       "\t<tr><th scope=row>6072</th><td>1</td><td>1</td><td>1</td><td>1</td><td>1</td><td>1</td><td>1</td><td>1</td><td>1</td><td>1</td><td>1</td><td>1</td><td>1</td><td>1</td><td>  1</td><td>  1</td><td>  0</td></tr>\n",
       "\t<tr><th scope=row>349</th><td>1</td><td>1</td><td>1</td><td>1</td><td>1</td><td>1</td><td>1</td><td>1</td><td>1</td><td>1</td><td>1</td><td>1</td><td>1</td><td>1</td><td>  1</td><td>  0</td><td>  1</td></tr>\n",
       "\t<tr><th scope=row>87</th><td>1</td><td>1</td><td>1</td><td>1</td><td>1</td><td>1</td><td>1</td><td>1</td><td>1</td><td>1</td><td>1</td><td>1</td><td>1</td><td>1</td><td>  0</td><td>  1</td><td>  1</td></tr>\n",
       "\t<tr><th scope=row>25</th><td>1</td><td>1</td><td>1</td><td>1</td><td>1</td><td>1</td><td>1</td><td>1</td><td>1</td><td>1</td><td>1</td><td>1</td><td>1</td><td>1</td><td>  0</td><td>  0</td><td>  2</td></tr>\n",
       "\t<tr><th scope=row></th><td>0</td><td>0</td><td>0</td><td>0</td><td>0</td><td>0</td><td>0</td><td>0</td><td>0</td><td>0</td><td>0</td><td>0</td><td>0</td><td>0</td><td>112</td><td>374</td><td>486</td></tr>\n",
       "</tbody>\n",
       "</table>\n"
      ],
      "text/latex": [
       "A matrix: 5 × 17 of type dbl\n",
       "\\begin{tabular}{r|lllllllllllllllll}\n",
       "  & Rank & Title & Console & Genre & ReleaseYear & ReleaseQuarter & ReleaseMonth & ReleaseWeek & ReleaseDay & ReleaseWeekend & EndOfMonth & TotalSales & YearsSinceRelease & log\\_transformed\\_total\\_sales & Publisher & Developer & \\\\\n",
       "\\hline\n",
       "\t6072 & 1 & 1 & 1 & 1 & 1 & 1 & 1 & 1 & 1 & 1 & 1 & 1 & 1 & 1 &   1 &   1 &   0\\\\\n",
       "\t349 & 1 & 1 & 1 & 1 & 1 & 1 & 1 & 1 & 1 & 1 & 1 & 1 & 1 & 1 &   1 &   0 &   1\\\\\n",
       "\t87 & 1 & 1 & 1 & 1 & 1 & 1 & 1 & 1 & 1 & 1 & 1 & 1 & 1 & 1 &   0 &   1 &   1\\\\\n",
       "\t25 & 1 & 1 & 1 & 1 & 1 & 1 & 1 & 1 & 1 & 1 & 1 & 1 & 1 & 1 &   0 &   0 &   2\\\\\n",
       "\t & 0 & 0 & 0 & 0 & 0 & 0 & 0 & 0 & 0 & 0 & 0 & 0 & 0 & 0 & 112 & 374 & 486\\\\\n",
       "\\end{tabular}\n"
      ],
      "text/markdown": [
       "\n",
       "A matrix: 5 × 17 of type dbl\n",
       "\n",
       "| <!--/--> | Rank | Title | Console | Genre | ReleaseYear | ReleaseQuarter | ReleaseMonth | ReleaseWeek | ReleaseDay | ReleaseWeekend | EndOfMonth | TotalSales | YearsSinceRelease | log_transformed_total_sales | Publisher | Developer | <!----> |\n",
       "|---|---|---|---|---|---|---|---|---|---|---|---|---|---|---|---|---|---|\n",
       "| 6072 | 1 | 1 | 1 | 1 | 1 | 1 | 1 | 1 | 1 | 1 | 1 | 1 | 1 | 1 |   1 |   1 |   0 |\n",
       "| 349 | 1 | 1 | 1 | 1 | 1 | 1 | 1 | 1 | 1 | 1 | 1 | 1 | 1 | 1 |   1 |   0 |   1 |\n",
       "| 87 | 1 | 1 | 1 | 1 | 1 | 1 | 1 | 1 | 1 | 1 | 1 | 1 | 1 | 1 |   0 |   1 |   1 |\n",
       "| 25 | 1 | 1 | 1 | 1 | 1 | 1 | 1 | 1 | 1 | 1 | 1 | 1 | 1 | 1 |   0 |   0 |   2 |\n",
       "| <!----> | 0 | 0 | 0 | 0 | 0 | 0 | 0 | 0 | 0 | 0 | 0 | 0 | 0 | 0 | 112 | 374 | 486 |\n",
       "\n"
      ],
      "text/plain": [
       "     Rank Title Console Genre ReleaseYear ReleaseQuarter ReleaseMonth\n",
       "6072 1    1     1       1     1           1              1           \n",
       "349  1    1     1       1     1           1              1           \n",
       "87   1    1     1       1     1           1              1           \n",
       "25   1    1     1       1     1           1              1           \n",
       "     0    0     0       0     0           0              0           \n",
       "     ReleaseWeek ReleaseDay ReleaseWeekend EndOfMonth TotalSales\n",
       "6072 1           1          1              1          1         \n",
       "349  1           1          1              1          1         \n",
       "87   1           1          1              1          1         \n",
       "25   1           1          1              1          1         \n",
       "     0           0          0              0          0         \n",
       "     YearsSinceRelease log_transformed_total_sales Publisher Developer    \n",
       "6072 1                 1                             1         1         0\n",
       "349  1                 1                             1         0         1\n",
       "87   1                 1                             0         1         1\n",
       "25   1                 1                             0         0         2\n",
       "     0                 0                           112       374       486"
      ]
     },
     "metadata": {},
     "output_type": "display_data"
    },
    {
     "data": {
      "image/png": "[encoded data removed]",
      "text/plain": [
       "plot without title"
      ]
     },
     "metadata": {
      "image/png": {
       "height": 420,
       "width": 420
      }
     },
     "output_type": "display_data"
    }
   ],
   "source": [
    "# Noted both Publisher & Developer also contains Unknown\n",
    "\n",
    "# Replace 'Unknown' with NA\n",
    "data$Developer[data$Developer == 'Unknown'] <- NA\n",
    "data$Publisher[data$Publisher == 'Unknown'] <- NA\n",
    "\n",
    "md.pattern(data)"
   ]
  },
  {
   "cell_type": "code",
   "execution_count": null,
   "metadata": {
    "vscode": {
     "languageId": "r"
    }
   },
   "outputs": [],
   "source": [
    "##### Little's Test #######\n",
    "# Little's (1988) test statistic to assess if data is MCAR. \n",
    "# The null hypothesis (H0) : the data is MCAR\n",
    "\n",
    "mcar_test(data)"
   ]
  },
  {
   "cell_type": "code",
   "execution_count": 20,
   "metadata": {
    "vscode": {
     "languageId": "r"
    }
   },
   "outputs": [],
   "source": [
    "# drop those records with Unknown\n",
    "\n",
    "data = na.omit(data)"
   ]
  },
  {
   "cell_type": "code",
   "execution_count": 21,
   "metadata": {
    "vscode": {
     "languageId": "r"
    }
   },
   "outputs": [
    {
     "data": {
      "text/html": [
       "<style>\n",
       ".dl-inline {width: auto; margin:0; padding: 0}\n",
       ".dl-inline>dt, .dl-inline>dd {float: none; width: auto; display: inline-block}\n",
       ".dl-inline>dt::after {content: \":\\0020\"; padding-right: .5ex}\n",
       ".dl-inline>dt:not(:first-of-type) {padding-left: .5ex}\n",
       "</style><dl class=dl-inline><dt>Rank</dt><dd>6072</dd><dt>Title</dt><dd>4051</dd><dt>Console</dt><dd>17</dd><dt>Publisher</dt><dd>624</dd><dt>Developer</dt><dd>1430</dd><dt>Genre</dt><dd>13</dd><dt>ReleaseYear</dt><dd>9</dd><dt>ReleaseQuarter</dt><dd>4</dd><dt>ReleaseMonth</dt><dd>12</dd><dt>ReleaseWeek</dt><dd>53</dd><dt>ReleaseDay</dt><dd>7</dd><dt>ReleaseWeekend</dt><dd>2</dd><dt>EndOfMonth</dt><dd>2</dd><dt>TotalSales</dt><dd>94</dd><dt>YearsSinceRelease</dt><dd>9</dd><dt>log_transformed_total_sales</dt><dd>94</dd></dl>\n"
      ],
      "text/latex": [
       "\\begin{description*}\n",
       "\\item[Rank] 6072\n",
       "\\item[Title] 4051\n",
       "\\item[Console] 17\n",
       "\\item[Publisher] 624\n",
       "\\item[Developer] 1430\n",
       "\\item[Genre] 13\n",
       "\\item[ReleaseYear] 9\n",
       "\\item[ReleaseQuarter] 4\n",
       "\\item[ReleaseMonth] 12\n",
       "\\item[ReleaseWeek] 53\n",
       "\\item[ReleaseDay] 7\n",
       "\\item[ReleaseWeekend] 2\n",
       "\\item[EndOfMonth] 2\n",
       "\\item[TotalSales] 94\n",
       "\\item[YearsSinceRelease] 9\n",
       "\\item[log\\textbackslash{}\\_transformed\\textbackslash{}\\_total\\textbackslash{}\\_sales] 94\n",
       "\\end{description*}\n"
      ],
      "text/markdown": [
       "Rank\n",
       ":   6072Title\n",
       ":   4051Console\n",
       ":   17Publisher\n",
       ":   624Developer\n",
       ":   1430Genre\n",
       ":   13ReleaseYear\n",
       ":   9ReleaseQuarter\n",
       ":   4ReleaseMonth\n",
       ":   12ReleaseWeek\n",
       ":   53ReleaseDay\n",
       ":   7ReleaseWeekend\n",
       ":   2EndOfMonth\n",
       ":   2TotalSales\n",
       ":   94YearsSinceRelease\n",
       ":   9log_transformed_total_sales\n",
       ":   94\n",
       "\n"
      ],
      "text/plain": [
       "                       Rank                       Title \n",
       "                       6072                        4051 \n",
       "                    Console                   Publisher \n",
       "                         17                         624 \n",
       "                  Developer                       Genre \n",
       "                       1430                          13 \n",
       "                ReleaseYear              ReleaseQuarter \n",
       "                          9                           4 \n",
       "               ReleaseMonth                 ReleaseWeek \n",
       "                         12                          53 \n",
       "                 ReleaseDay              ReleaseWeekend \n",
       "                          7                           2 \n",
       "                 EndOfMonth                  TotalSales \n",
       "                          2                          94 \n",
       "          YearsSinceRelease log_transformed_total_sales \n",
       "                          9                          94 "
      ]
     },
     "metadata": {},
     "output_type": "display_data"
    }
   ],
   "source": [
    "########################################################\n",
    "# Check the number of distinct values for the variables\n",
    "\n",
    "sapply(data, function(x) n_distinct(x))"
   ]
  },
  {
   "cell_type": "markdown",
   "metadata": {},
   "source": [
    "ANOVA test - Do Publisher & Developer have any significant impact on the sales revenue?\n",
    "Note: Due to large amount of publishers & developers, we run one-way ANOVA test in order to minimize computing power required"
   ]
  },
  {
   "cell_type": "code",
   "execution_count": 22,
   "metadata": {
    "vscode": {
     "languageId": "r"
    }
   },
   "outputs": [],
   "source": [
    "########################################################\n",
    "# Does Publisher have an impact on the revenue?\n",
    "\n",
    "#Pre-processing: change the '-' to '_' for TukeyHSD\n",
    "# Replace hyphens with underscores in the \"Publisher\" column\n",
    "data$Publisher <- gsub(\"-\", \"_\", data$Publisher)"
   ]
  },
  {
   "cell_type": "code",
   "execution_count": 23,
   "metadata": {
    "vscode": {
     "languageId": "r"
    }
   },
   "outputs": [
    {
     "data": {
      "text/plain": [
       "              Df Sum Sq Mean Sq F value Pr(>F)    \n",
       "Publisher    623   3695   5.930   5.986 <2e-16 ***\n",
       "Residuals   5448   5398   0.991                   \n",
       "---\n",
       "Signif. codes:  0 '***' 0.001 '**' 0.01 '*' 0.05 '.' 0.1 ' ' 1"
      ]
     },
     "metadata": {},
     "output_type": "display_data"
    }
   ],
   "source": [
    "# Perform one-way ANOVA to identify significant publishers\n",
    "anova.result_Publisher <- aov(log_transformed_total_sales ~ Publisher, data = data)\n",
    "summary(anova.result_Publisher)\n",
    "\n",
    "# p-value is less than 0.05, reject the null hypothesis - Publisher has an impact on the revenue"
   ]
  },
  {
   "cell_type": "code",
   "execution_count": 21,
   "metadata": {
    "vscode": {
     "languageId": "r"
    }
   },
   "outputs": [],
   "source": [
    "# Apply the Tukey HSD test\n",
    "tukey_result = TukeyHSD(anova.result_Publisher)"
   ]
  },
  {
   "cell_type": "code",
   "execution_count": 22,
   "metadata": {
    "vscode": {
     "languageId": "r"
    }
   },
   "outputs": [],
   "source": [
    "# Change Tukey HSD test result to data frame\n",
    "tukey_df <- as.data.frame(tukey_result$Publisher)"
   ]
  },
  {
   "cell_type": "code",
   "execution_count": 23,
   "metadata": {
    "vscode": {
     "languageId": "r"
    }
   },
   "outputs": [],
   "source": [
    "# Create a new column for Publisher names\n",
    "tukey_df$Publisher <- rownames(tukey_df)"
   ]
  },
  {
   "cell_type": "code",
   "execution_count": 24,
   "metadata": {
    "vscode": {
     "languageId": "r"
    }
   },
   "outputs": [
    {
     "data": {
      "text/html": [
       "<table class=\"dataframe\">\n",
       "<caption>A data.frame: 5 × 5</caption>\n",
       "<thead>\n",
       "\t<tr><th></th><th scope=col>diff</th><th scope=col>lwr</th><th scope=col>upr</th><th scope=col>p adj</th><th scope=col>Publisher</th></tr>\n",
       "\t<tr><th></th><th scope=col>&lt;dbl&gt;</th><th scope=col>&lt;dbl&gt;</th><th scope=col>&lt;dbl&gt;</th><th scope=col>&lt;dbl&gt;</th><th scope=col>&lt;chr&gt;</th></tr>\n",
       "</thead>\n",
       "<tbody>\n",
       "\t<tr><th scope=row>17_Bit-11 bit studios</th><td>1.2637194</td><td>-4.531326</td><td>7.058765</td><td>1.0000000</td><td>17_Bit-11 bit studios    </td></tr>\n",
       "\t<tr><th scope=row>1C Company-11 bit studios</th><td>0.6931472</td><td>-3.404569</td><td>4.790863</td><td>1.0000000</td><td>1C Company-11 bit studios</td></tr>\n",
       "\t<tr><th scope=row>2K Games-11 bit studios</th><td>1.8698380</td><td>-1.107084</td><td>4.846759</td><td>0.9999990</td><td>2K Games-11 bit studios  </td></tr>\n",
       "\t<tr><th scope=row>2K Play-11 bit studios</th><td>1.4956368</td><td>-1.743892</td><td>4.735166</td><td>1.0000000</td><td>2K Play-11 bit studios   </td></tr>\n",
       "\t<tr><th scope=row>2K Sports-11 bit studios</th><td>1.8181419</td><td>-1.161791</td><td>4.798075</td><td>0.9999999</td><td>2K Sports-11 bit studios </td></tr>\n",
       "</tbody>\n",
       "</table>\n"
      ],
      "text/latex": [
       "A data.frame: 5 × 5\n",
       "\\begin{tabular}{r|lllll}\n",
       "  & diff & lwr & upr & p adj & Publisher\\\\\n",
       "  & <dbl> & <dbl> & <dbl> & <dbl> & <chr>\\\\\n",
       "\\hline\n",
       "\t17\\_Bit-11 bit studios & 1.2637194 & -4.531326 & 7.058765 & 1.0000000 & 17\\_Bit-11 bit studios    \\\\\n",
       "\t1C Company-11 bit studios & 0.6931472 & -3.404569 & 4.790863 & 1.0000000 & 1C Company-11 bit studios\\\\\n",
       "\t2K Games-11 bit studios & 1.8698380 & -1.107084 & 4.846759 & 0.9999990 & 2K Games-11 bit studios  \\\\\n",
       "\t2K Play-11 bit studios & 1.4956368 & -1.743892 & 4.735166 & 1.0000000 & 2K Play-11 bit studios   \\\\\n",
       "\t2K Sports-11 bit studios & 1.8181419 & -1.161791 & 4.798075 & 0.9999999 & 2K Sports-11 bit studios \\\\\n",
       "\\end{tabular}\n"
      ],
      "text/markdown": [
       "\n",
       "A data.frame: 5 × 5\n",
       "\n",
       "| <!--/--> | diff &lt;dbl&gt; | lwr &lt;dbl&gt; | upr &lt;dbl&gt; | p adj &lt;dbl&gt; | Publisher &lt;chr&gt; |\n",
       "|---|---|---|---|---|---|\n",
       "| 17_Bit-11 bit studios | 1.2637194 | -4.531326 | 7.058765 | 1.0000000 | 17_Bit-11 bit studios     |\n",
       "| 1C Company-11 bit studios | 0.6931472 | -3.404569 | 4.790863 | 1.0000000 | 1C Company-11 bit studios |\n",
       "| 2K Games-11 bit studios | 1.8698380 | -1.107084 | 4.846759 | 0.9999990 | 2K Games-11 bit studios   |\n",
       "| 2K Play-11 bit studios | 1.4956368 | -1.743892 | 4.735166 | 1.0000000 | 2K Play-11 bit studios    |\n",
       "| 2K Sports-11 bit studios | 1.8181419 | -1.161791 | 4.798075 | 0.9999999 | 2K Sports-11 bit studios  |\n",
       "\n"
      ],
      "text/plain": [
       "                          diff      lwr       upr      p adj    \n",
       "17_Bit-11 bit studios     1.2637194 -4.531326 7.058765 1.0000000\n",
       "1C Company-11 bit studios 0.6931472 -3.404569 4.790863 1.0000000\n",
       "2K Games-11 bit studios   1.8698380 -1.107084 4.846759 0.9999990\n",
       "2K Play-11 bit studios    1.4956368 -1.743892 4.735166 1.0000000\n",
       "2K Sports-11 bit studios  1.8181419 -1.161791 4.798075 0.9999999\n",
       "                          Publisher                \n",
       "17_Bit-11 bit studios     17_Bit-11 bit studios    \n",
       "1C Company-11 bit studios 1C Company-11 bit studios\n",
       "2K Games-11 bit studios   2K Games-11 bit studios  \n",
       "2K Play-11 bit studios    2K Play-11 bit studios   \n",
       "2K Sports-11 bit studios  2K Sports-11 bit studios "
      ]
     },
     "metadata": {},
     "output_type": "display_data"
    },
    {
     "data": {
      "text/html": [
       "<style>\n",
       ".list-inline {list-style: none; margin:0; padding: 0}\n",
       ".list-inline>li {display: inline-block}\n",
       ".list-inline>li:not(:last-child)::after {content: \"\\00b7\"; padding: 0 .5ex}\n",
       "</style>\n",
       "<ol class=list-inline><li>'diff'</li><li>'lwr'</li><li>'upr'</li><li>'p adj'</li><li>'Publisher'</li></ol>\n"
      ],
      "text/latex": [
       "\\begin{enumerate*}\n",
       "\\item 'diff'\n",
       "\\item 'lwr'\n",
       "\\item 'upr'\n",
       "\\item 'p adj'\n",
       "\\item 'Publisher'\n",
       "\\end{enumerate*}\n"
      ],
      "text/markdown": [
       "1. 'diff'\n",
       "2. 'lwr'\n",
       "3. 'upr'\n",
       "4. 'p adj'\n",
       "5. 'Publisher'\n",
       "\n",
       "\n"
      ],
      "text/plain": [
       "[1] \"diff\"      \"lwr\"       \"upr\"       \"p adj\"     \"Publisher\""
      ]
     },
     "metadata": {},
     "output_type": "display_data"
    }
   ],
   "source": [
    "# View the dataframe\n",
    "head(tukey_df,5)\n",
    "names(tukey_df)"
   ]
  },
  {
   "cell_type": "code",
   "execution_count": 25,
   "metadata": {
    "vscode": {
     "languageId": "r"
    }
   },
   "outputs": [],
   "source": [
    "# filter for p value < 0.05\n",
    "significant_tukey_df <- tukey_df %>%\n",
    "  filter(`p adj` < 0.05)"
   ]
  },
  {
   "cell_type": "code",
   "execution_count": 26,
   "metadata": {
    "vscode": {
     "languageId": "r"
    }
   },
   "outputs": [],
   "source": [
    "# Split the \"Publisher\" column into two columns\n",
    "significant_tukey_df <- significant_tukey_df %>%\n",
    "  separate(Publisher, into = c(\"Publisher1\", \"Publisher2\"), sep = \"-\", extra = \"merge\", remove = FALSE)\n"
   ]
  },
  {
   "cell_type": "code",
   "execution_count": 27,
   "metadata": {
    "vscode": {
     "languageId": "r"
    }
   },
   "outputs": [
    {
     "data": {
      "text/html": [
       "135"
      ],
      "text/latex": [
       "135"
      ],
      "text/markdown": [
       "135"
      ],
      "text/plain": [
       "[1] 135"
      ]
     },
     "metadata": {},
     "output_type": "display_data"
    },
    {
     "data": {
      "text/html": [
       "<style>\n",
       ".list-inline {list-style: none; margin:0; padding: 0}\n",
       ".list-inline>li {display: inline-block}\n",
       ".list-inline>li:not(:last-child)::after {content: \"\\00b7\"; padding: 0 .5ex}\n",
       "</style>\n",
       "<ol class=list-inline><li>'5pb'</li><li>'Aksys Games'</li><li>'Alchemist'</li><li>'Arc System Works'</li><li>'Avanquest Software'</li><li>'Bandai Namco Games'</li><li>'Big Ben Interactive'</li><li>'Big Fish Games'</li><li>'Bigben Interactive'</li><li>'Cave'</li><li>'Compile Heart'</li><li>'CyberFront'</li><li>'D3 Publisher'</li><li>'D3Publisher'</li><li>'Destineer'</li><li>'Dramatic Create'</li><li>'DTP Entertainment'</li><li>'Entergram'</li><li>'Focus Multimedia'</li><li>'FuRyu Corporation'</li><li>'Graffiti'</li><li>'Idea Factory'</li><li>'Irem Software Engineering'</li><li>'Kadokawa Games'</li><li>'Kadokawa Shoten'</li><li>'Kalypso Media'</li><li>'Koei Tecmo'</li><li>'Little Orbit'</li><li>'Maximum Games'</li><li>'Merge Games'</li><li>'Microids'</li><li>'Milestone S.r.l.'</li><li>'Namco Bandai Games'</li><li>'Nighthawk Interactive'</li><li>'Nippon Ichi Software'</li><li>'NIS America'</li><li>'Nordic Games'</li><li>'O_Games'</li><li>'Outright Games'</li><li>'Paradox Interactive'</li><li>'PQube'</li><li>'Prototype'</li><li>'Quinrose'</li><li>'Rising Star Games'</li><li>'Russel'</li><li>'Soedesco'</li><li>'Storm City Games'</li><li>'System Soft'</li><li>'Tecmo Koei'</li><li>'THQ Nordic'</li><li>'Tru Blu Entertainment'</li><li>'UFO Interactive'</li><li>'Wired Productions'</li><li>'Zoo Games'</li><li>'Bethesda Softworks'</li><li>'Disney Interactive Studios'</li><li>'EA Sports'</li><li>'Electronic Arts'</li><li>'Nintendo'</li><li>'Square Enix'</li><li>'THQ'</li><li>'Warner Bros. Interactive Entertainment'</li><li>'Activision'</li><li>'Atari'</li><li>'Atlus'</li><li>'Bandai Namco Entertainment'</li><li>'Capcom'</li><li>'City Interactive'</li><li>'Codemasters'</li><li>'Crave Entertainment'</li><li>'Daedalic Entertainment'</li><li>'Deep Silver'</li><li>'Double Fine Productions'</li><li>'Focus Home Interactive'</li><li>'Frontier Developments'</li><li>'GameMill'</li><li>'Gearbox Software'</li><li>'Konami'</li><li>'Konami Digital Entertainment'</li><li>'Level 5'</li><li>'LucasArts'</li><li>'Majesco'</li><li>'Microsoft Studios'</li><li>'Mojang'</li><li>'MTV Games'</li><li>'Namco Bandai'</li><li>'Natsume'</li><li>'Rebellion Developments'</li><li>'Sega'</li><li>'Sony Computer Entertainment'</li><li>'Sony Computer Entertainment America'</li><li>'Sony Interactive Entertainment'</li><li>'SouthPeak Interactive'</li><li>'Take_Two Interactive'</li><li>'Telltale Games'</li><li>'Ubisoft'</li><li>'Warner Bros. Interactive'</li><li>'Xseed Games'</li><li>'Black Bean Games'</li><li>'Broccoli'</li><li>'GameMill Entertainment'</li><li>'Kalypso'</li><li>'KOEI'</li><li>'Marvelous Interactive'</li><li>'Mentor Interactive'</li><li>'Nippon Columbia'</li><li>'Reef Entertainment'</li><li>'Rising Star'</li><li>'Rocket Company'</li><li>'Sold Out'</li><li>'Starfish'</li><li>'Takara Tomy'</li><li>'Techland'</li><li>'Villa Gorilla'</li><li>'Yeti'</li><li>'Experience Inc.'</li><li>'Foreign Media Games'</li><li>'Funbox Media'</li><li>'GN Software'</li><li>'GSP'</li><li>'Happinet'</li><li>'Hudson Soft'</li><li>'Idea Factory International'</li><li>'Kaga Create'</li><li>'Koch Media'</li><li>'M2'</li><li>'Mastertronic'</li><li>'Mastiff'</li><li>'Nicalis'</li><li>'Piacci'</li><li>'Spike Chunsoft'</li><li>'Success'</li><li>'SVG Distribution'</li><li>'Taito'</li><li>'Toby Fox'</li></ol>\n"
      ],
      "text/latex": [
       "\\begin{enumerate*}\n",
       "\\item '5pb'\n",
       "\\item 'Aksys Games'\n",
       "\\item 'Alchemist'\n",
       "\\item 'Arc System Works'\n",
       "\\item 'Avanquest Software'\n",
       "\\item 'Bandai Namco Games'\n",
       "\\item 'Big Ben Interactive'\n",
       "\\item 'Big Fish Games'\n",
       "\\item 'Bigben Interactive'\n",
       "\\item 'Cave'\n",
       "\\item 'Compile Heart'\n",
       "\\item 'CyberFront'\n",
       "\\item 'D3 Publisher'\n",
       "\\item 'D3Publisher'\n",
       "\\item 'Destineer'\n",
       "\\item 'Dramatic Create'\n",
       "\\item 'DTP Entertainment'\n",
       "\\item 'Entergram'\n",
       "\\item 'Focus Multimedia'\n",
       "\\item 'FuRyu Corporation'\n",
       "\\item 'Graffiti'\n",
       "\\item 'Idea Factory'\n",
       "\\item 'Irem Software Engineering'\n",
       "\\item 'Kadokawa Games'\n",
       "\\item 'Kadokawa Shoten'\n",
       "\\item 'Kalypso Media'\n",
       "\\item 'Koei Tecmo'\n",
       "\\item 'Little Orbit'\n",
       "\\item 'Maximum Games'\n",
       "\\item 'Merge Games'\n",
       "\\item 'Microids'\n",
       "\\item 'Milestone S.r.l.'\n",
       "\\item 'Namco Bandai Games'\n",
       "\\item 'Nighthawk Interactive'\n",
       "\\item 'Nippon Ichi Software'\n",
       "\\item 'NIS America'\n",
       "\\item 'Nordic Games'\n",
       "\\item 'O\\_Games'\n",
       "\\item 'Outright Games'\n",
       "\\item 'Paradox Interactive'\n",
       "\\item 'PQube'\n",
       "\\item 'Prototype'\n",
       "\\item 'Quinrose'\n",
       "\\item 'Rising Star Games'\n",
       "\\item 'Russel'\n",
       "\\item 'Soedesco'\n",
       "\\item 'Storm City Games'\n",
       "\\item 'System Soft'\n",
       "\\item 'Tecmo Koei'\n",
       "\\item 'THQ Nordic'\n",
       "\\item 'Tru Blu Entertainment'\n",
       "\\item 'UFO Interactive'\n",
       "\\item 'Wired Productions'\n",
       "\\item 'Zoo Games'\n",
       "\\item 'Bethesda Softworks'\n",
       "\\item 'Disney Interactive Studios'\n",
       "\\item 'EA Sports'\n",
       "\\item 'Electronic Arts'\n",
       "\\item 'Nintendo'\n",
       "\\item 'Square Enix'\n",
       "\\item 'THQ'\n",
       "\\item 'Warner Bros. Interactive Entertainment'\n",
       "\\item 'Activision'\n",
       "\\item 'Atari'\n",
       "\\item 'Atlus'\n",
       "\\item 'Bandai Namco Entertainment'\n",
       "\\item 'Capcom'\n",
       "\\item 'City Interactive'\n",
       "\\item 'Codemasters'\n",
       "\\item 'Crave Entertainment'\n",
       "\\item 'Daedalic Entertainment'\n",
       "\\item 'Deep Silver'\n",
       "\\item 'Double Fine Productions'\n",
       "\\item 'Focus Home Interactive'\n",
       "\\item 'Frontier Developments'\n",
       "\\item 'GameMill'\n",
       "\\item 'Gearbox Software'\n",
       "\\item 'Konami'\n",
       "\\item 'Konami Digital Entertainment'\n",
       "\\item 'Level 5'\n",
       "\\item 'LucasArts'\n",
       "\\item 'Majesco'\n",
       "\\item 'Microsoft Studios'\n",
       "\\item 'Mojang'\n",
       "\\item 'MTV Games'\n",
       "\\item 'Namco Bandai'\n",
       "\\item 'Natsume'\n",
       "\\item 'Rebellion Developments'\n",
       "\\item 'Sega'\n",
       "\\item 'Sony Computer Entertainment'\n",
       "\\item 'Sony Computer Entertainment America'\n",
       "\\item 'Sony Interactive Entertainment'\n",
       "\\item 'SouthPeak Interactive'\n",
       "\\item 'Take\\_Two Interactive'\n",
       "\\item 'Telltale Games'\n",
       "\\item 'Ubisoft'\n",
       "\\item 'Warner Bros. Interactive'\n",
       "\\item 'Xseed Games'\n",
       "\\item 'Black Bean Games'\n",
       "\\item 'Broccoli'\n",
       "\\item 'GameMill Entertainment'\n",
       "\\item 'Kalypso'\n",
       "\\item 'KOEI'\n",
       "\\item 'Marvelous Interactive'\n",
       "\\item 'Mentor Interactive'\n",
       "\\item 'Nippon Columbia'\n",
       "\\item 'Reef Entertainment'\n",
       "\\item 'Rising Star'\n",
       "\\item 'Rocket Company'\n",
       "\\item 'Sold Out'\n",
       "\\item 'Starfish'\n",
       "\\item 'Takara Tomy'\n",
       "\\item 'Techland'\n",
       "\\item 'Villa Gorilla'\n",
       "\\item 'Yeti'\n",
       "\\item 'Experience Inc.'\n",
       "\\item 'Foreign Media Games'\n",
       "\\item 'Funbox Media'\n",
       "\\item 'GN Software'\n",
       "\\item 'GSP'\n",
       "\\item 'Happinet'\n",
       "\\item 'Hudson Soft'\n",
       "\\item 'Idea Factory International'\n",
       "\\item 'Kaga Create'\n",
       "\\item 'Koch Media'\n",
       "\\item 'M2'\n",
       "\\item 'Mastertronic'\n",
       "\\item 'Mastiff'\n",
       "\\item 'Nicalis'\n",
       "\\item 'Piacci'\n",
       "\\item 'Spike Chunsoft'\n",
       "\\item 'Success'\n",
       "\\item 'SVG Distribution'\n",
       "\\item 'Taito'\n",
       "\\item 'Toby Fox'\n",
       "\\end{enumerate*}\n"
      ],
      "text/markdown": [
       "1. '5pb'\n",
       "2. 'Aksys Games'\n",
       "3. 'Alchemist'\n",
       "4. 'Arc System Works'\n",
       "5. 'Avanquest Software'\n",
       "6. 'Bandai Namco Games'\n",
       "7. 'Big Ben Interactive'\n",
       "8. 'Big Fish Games'\n",
       "9. 'Bigben Interactive'\n",
       "10. 'Cave'\n",
       "11. 'Compile Heart'\n",
       "12. 'CyberFront'\n",
       "13. 'D3 Publisher'\n",
       "14. 'D3Publisher'\n",
       "15. 'Destineer'\n",
       "16. 'Dramatic Create'\n",
       "17. 'DTP Entertainment'\n",
       "18. 'Entergram'\n",
       "19. 'Focus Multimedia'\n",
       "20. 'FuRyu Corporation'\n",
       "21. 'Graffiti'\n",
       "22. 'Idea Factory'\n",
       "23. 'Irem Software Engineering'\n",
       "24. 'Kadokawa Games'\n",
       "25. 'Kadokawa Shoten'\n",
       "26. 'Kalypso Media'\n",
       "27. 'Koei Tecmo'\n",
       "28. 'Little Orbit'\n",
       "29. 'Maximum Games'\n",
       "30. 'Merge Games'\n",
       "31. 'Microids'\n",
       "32. 'Milestone S.r.l.'\n",
       "33. 'Namco Bandai Games'\n",
       "34. 'Nighthawk Interactive'\n",
       "35. 'Nippon Ichi Software'\n",
       "36. 'NIS America'\n",
       "37. 'Nordic Games'\n",
       "38. 'O_Games'\n",
       "39. 'Outright Games'\n",
       "40. 'Paradox Interactive'\n",
       "41. 'PQube'\n",
       "42. 'Prototype'\n",
       "43. 'Quinrose'\n",
       "44. 'Rising Star Games'\n",
       "45. 'Russel'\n",
       "46. 'Soedesco'\n",
       "47. 'Storm City Games'\n",
       "48. 'System Soft'\n",
       "49. 'Tecmo Koei'\n",
       "50. 'THQ Nordic'\n",
       "51. 'Tru Blu Entertainment'\n",
       "52. 'UFO Interactive'\n",
       "53. 'Wired Productions'\n",
       "54. 'Zoo Games'\n",
       "55. 'Bethesda Softworks'\n",
       "56. 'Disney Interactive Studios'\n",
       "57. 'EA Sports'\n",
       "58. 'Electronic Arts'\n",
       "59. 'Nintendo'\n",
       "60. 'Square Enix'\n",
       "61. 'THQ'\n",
       "62. 'Warner Bros. Interactive Entertainment'\n",
       "63. 'Activision'\n",
       "64. 'Atari'\n",
       "65. 'Atlus'\n",
       "66. 'Bandai Namco Entertainment'\n",
       "67. 'Capcom'\n",
       "68. 'City Interactive'\n",
       "69. 'Codemasters'\n",
       "70. 'Crave Entertainment'\n",
       "71. 'Daedalic Entertainment'\n",
       "72. 'Deep Silver'\n",
       "73. 'Double Fine Productions'\n",
       "74. 'Focus Home Interactive'\n",
       "75. 'Frontier Developments'\n",
       "76. 'GameMill'\n",
       "77. 'Gearbox Software'\n",
       "78. 'Konami'\n",
       "79. 'Konami Digital Entertainment'\n",
       "80. 'Level 5'\n",
       "81. 'LucasArts'\n",
       "82. 'Majesco'\n",
       "83. 'Microsoft Studios'\n",
       "84. 'Mojang'\n",
       "85. 'MTV Games'\n",
       "86. 'Namco Bandai'\n",
       "87. 'Natsume'\n",
       "88. 'Rebellion Developments'\n",
       "89. 'Sega'\n",
       "90. 'Sony Computer Entertainment'\n",
       "91. 'Sony Computer Entertainment America'\n",
       "92. 'Sony Interactive Entertainment'\n",
       "93. 'SouthPeak Interactive'\n",
       "94. 'Take_Two Interactive'\n",
       "95. 'Telltale Games'\n",
       "96. 'Ubisoft'\n",
       "97. 'Warner Bros. Interactive'\n",
       "98. 'Xseed Games'\n",
       "99. 'Black Bean Games'\n",
       "100. 'Broccoli'\n",
       "101. 'GameMill Entertainment'\n",
       "102. 'Kalypso'\n",
       "103. 'KOEI'\n",
       "104. 'Marvelous Interactive'\n",
       "105. 'Mentor Interactive'\n",
       "106. 'Nippon Columbia'\n",
       "107. 'Reef Entertainment'\n",
       "108. 'Rising Star'\n",
       "109. 'Rocket Company'\n",
       "110. 'Sold Out'\n",
       "111. 'Starfish'\n",
       "112. 'Takara Tomy'\n",
       "113. 'Techland'\n",
       "114. 'Villa Gorilla'\n",
       "115. 'Yeti'\n",
       "116. 'Experience Inc.'\n",
       "117. 'Foreign Media Games'\n",
       "118. 'Funbox Media'\n",
       "119. 'GN Software'\n",
       "120. 'GSP'\n",
       "121. 'Happinet'\n",
       "122. 'Hudson Soft'\n",
       "123. 'Idea Factory International'\n",
       "124. 'Kaga Create'\n",
       "125. 'Koch Media'\n",
       "126. 'M2'\n",
       "127. 'Mastertronic'\n",
       "128. 'Mastiff'\n",
       "129. 'Nicalis'\n",
       "130. 'Piacci'\n",
       "131. 'Spike Chunsoft'\n",
       "132. 'Success'\n",
       "133. 'SVG Distribution'\n",
       "134. 'Taito'\n",
       "135. 'Toby Fox'\n",
       "\n",
       "\n"
      ],
      "text/plain": [
       "  [1] \"5pb\"                                   \n",
       "  [2] \"Aksys Games\"                           \n",
       "  [3] \"Alchemist\"                             \n",
       "  [4] \"Arc System Works\"                      \n",
       "  [5] \"Avanquest Software\"                    \n",
       "  [6] \"Bandai Namco Games\"                    \n",
       "  [7] \"Big Ben Interactive\"                   \n",
       "  [8] \"Big Fish Games\"                        \n",
       "  [9] \"Bigben Interactive\"                    \n",
       " [10] \"Cave\"                                  \n",
       " [11] \"Compile Heart\"                         \n",
       " [12] \"CyberFront\"                            \n",
       " [13] \"D3 Publisher\"                          \n",
       " [14] \"D3Publisher\"                           \n",
       " [15] \"Destineer\"                             \n",
       " [16] \"Dramatic Create\"                       \n",
       " [17] \"DTP Entertainment\"                     \n",
       " [18] \"Entergram\"                             \n",
       " [19] \"Focus Multimedia\"                      \n",
       " [20] \"FuRyu Corporation\"                     \n",
       " [21] \"Graffiti\"                              \n",
       " [22] \"Idea Factory\"                          \n",
       " [23] \"Irem Software Engineering\"             \n",
       " [24] \"Kadokawa Games\"                        \n",
       " [25] \"Kadokawa Shoten\"                       \n",
       " [26] \"Kalypso Media\"                         \n",
       " [27] \"Koei Tecmo\"                            \n",
       " [28] \"Little Orbit\"                          \n",
       " [29] \"Maximum Games\"                         \n",
       " [30] \"Merge Games\"                           \n",
       " [31] \"Microids\"                              \n",
       " [32] \"Milestone S.r.l.\"                      \n",
       " [33] \"Namco Bandai Games\"                    \n",
       " [34] \"Nighthawk Interactive\"                 \n",
       " [35] \"Nippon Ichi Software\"                  \n",
       " [36] \"NIS America\"                           \n",
       " [37] \"Nordic Games\"                          \n",
       " [38] \"O_Games\"                               \n",
       " [39] \"Outright Games\"                        \n",
       " [40] \"Paradox Interactive\"                   \n",
       " [41] \"PQube\"                                 \n",
       " [42] \"Prototype\"                             \n",
       " [43] \"Quinrose\"                              \n",
       " [44] \"Rising Star Games\"                     \n",
       " [45] \"Russel\"                                \n",
       " [46] \"Soedesco\"                              \n",
       " [47] \"Storm City Games\"                      \n",
       " [48] \"System Soft\"                           \n",
       " [49] \"Tecmo Koei\"                            \n",
       " [50] \"THQ Nordic\"                            \n",
       " [51] \"Tru Blu Entertainment\"                 \n",
       " [52] \"UFO Interactive\"                       \n",
       " [53] \"Wired Productions\"                     \n",
       " [54] \"Zoo Games\"                             \n",
       " [55] \"Bethesda Softworks\"                    \n",
       " [56] \"Disney Interactive Studios\"            \n",
       " [57] \"EA Sports\"                             \n",
       " [58] \"Electronic Arts\"                       \n",
       " [59] \"Nintendo\"                              \n",
       " [60] \"Square Enix\"                           \n",
       " [61] \"THQ\"                                   \n",
       " [62] \"Warner Bros. Interactive Entertainment\"\n",
       " [63] \"Activision\"                            \n",
       " [64] \"Atari\"                                 \n",
       " [65] \"Atlus\"                                 \n",
       " [66] \"Bandai Namco Entertainment\"            \n",
       " [67] \"Capcom\"                                \n",
       " [68] \"City Interactive\"                      \n",
       " [69] \"Codemasters\"                           \n",
       " [70] \"Crave Entertainment\"                   \n",
       " [71] \"Daedalic Entertainment\"                \n",
       " [72] \"Deep Silver\"                           \n",
       " [73] \"Double Fine Productions\"               \n",
       " [74] \"Focus Home Interactive\"                \n",
       " [75] \"Frontier Developments\"                 \n",
       " [76] \"GameMill\"                              \n",
       " [77] \"Gearbox Software\"                      \n",
       " [78] \"Konami\"                                \n",
       " [79] \"Konami Digital Entertainment\"          \n",
       " [80] \"Level 5\"                               \n",
       " [81] \"LucasArts\"                             \n",
       " [82] \"Majesco\"                               \n",
       " [83] \"Microsoft Studios\"                     \n",
       " [84] \"Mojang\"                                \n",
       " [85] \"MTV Games\"                             \n",
       " [86] \"Namco Bandai\"                          \n",
       " [87] \"Natsume\"                               \n",
       " [88] \"Rebellion Developments\"                \n",
       " [89] \"Sega\"                                  \n",
       " [90] \"Sony Computer Entertainment\"           \n",
       " [91] \"Sony Computer Entertainment America\"   \n",
       " [92] \"Sony Interactive Entertainment\"        \n",
       " [93] \"SouthPeak Interactive\"                 \n",
       " [94] \"Take_Two Interactive\"                  \n",
       " [95] \"Telltale Games\"                        \n",
       " [96] \"Ubisoft\"                               \n",
       " [97] \"Warner Bros. Interactive\"              \n",
       " [98] \"Xseed Games\"                           \n",
       " [99] \"Black Bean Games\"                      \n",
       "[100] \"Broccoli\"                              \n",
       "[101] \"GameMill Entertainment\"                \n",
       "[102] \"Kalypso\"                               \n",
       "[103] \"KOEI\"                                  \n",
       "[104] \"Marvelous Interactive\"                 \n",
       "[105] \"Mentor Interactive\"                    \n",
       "[106] \"Nippon Columbia\"                       \n",
       "[107] \"Reef Entertainment\"                    \n",
       "[108] \"Rising Star\"                           \n",
       "[109] \"Rocket Company\"                        \n",
       "[110] \"Sold Out\"                              \n",
       "[111] \"Starfish\"                              \n",
       "[112] \"Takara Tomy\"                           \n",
       "[113] \"Techland\"                              \n",
       "[114] \"Villa Gorilla\"                         \n",
       "[115] \"Yeti\"                                  \n",
       "[116] \"Experience Inc.\"                       \n",
       "[117] \"Foreign Media Games\"                   \n",
       "[118] \"Funbox Media\"                          \n",
       "[119] \"GN Software\"                           \n",
       "[120] \"GSP\"                                   \n",
       "[121] \"Happinet\"                              \n",
       "[122] \"Hudson Soft\"                           \n",
       "[123] \"Idea Factory International\"            \n",
       "[124] \"Kaga Create\"                           \n",
       "[125] \"Koch Media\"                            \n",
       "[126] \"M2\"                                    \n",
       "[127] \"Mastertronic\"                          \n",
       "[128] \"Mastiff\"                               \n",
       "[129] \"Nicalis\"                               \n",
       "[130] \"Piacci\"                                \n",
       "[131] \"Spike Chunsoft\"                        \n",
       "[132] \"Success\"                               \n",
       "[133] \"SVG Distribution\"                      \n",
       "[134] \"Taito\"                                 \n",
       "[135] \"Toby Fox\"                              "
      ]
     },
     "metadata": {},
     "output_type": "display_data"
    }
   ],
   "source": [
    "# Create a vector of all unique significant publishers\n",
    "all_significant_publishers <- unique(significant_tukey_df$Publisher1)\n",
    "\n",
    "# Remove NAs (if any)\n",
    "all_significant_publishers <- all_significant_publishers[!is.na(all_significant_publishers)]\n",
    "length (all_significant_publishers)\n",
    "\n",
    "all_significant_publishers\n"
   ]
  },
  {
   "cell_type": "code",
   "execution_count": 24,
   "metadata": {
    "vscode": {
     "languageId": "r"
    }
   },
   "outputs": [],
   "source": [
    "########################################################\n",
    "# Does Developer have an impact on the revenue?\n",
    "\n",
    "#Pre-processing: change the '-' to '_' for TukeyHSD\n",
    "# Replace hyphens with underscores in the \"Developer\" column\n",
    "data$Developer <- gsub(\"-\", \"_\", data$Developer)"
   ]
  },
  {
   "cell_type": "code",
   "execution_count": 25,
   "metadata": {
    "vscode": {
     "languageId": "r"
    }
   },
   "outputs": [
    {
     "data": {
      "text/plain": [
       "              Df Sum Sq Mean Sq F value Pr(>F)    \n",
       "Developer   1429   4743   3.319   3.543 <2e-16 ***\n",
       "Residuals   4642   4349   0.937                   \n",
       "---\n",
       "Signif. codes:  0 '***' 0.001 '**' 0.01 '*' 0.05 '.' 0.1 ' ' 1"
      ]
     },
     "metadata": {},
     "output_type": "display_data"
    }
   ],
   "source": [
    "# Perform one-way ANOVA to identify significant publishers\n",
    "anova.result_Developer = aov(log_transformed_total_sales ~ Developer,data=data)\n",
    "summary(anova.result_Developer)\n",
    "\n",
    "# p-value is less than 0.05, reject the null hypothesis - Developer has an impact on the revenue\n"
   ]
  },
  {
   "cell_type": "code",
   "execution_count": 30,
   "metadata": {
    "vscode": {
     "languageId": "r"
    }
   },
   "outputs": [],
   "source": [
    "# Apply the Tukey HSD test\n",
    "tukey_result_Developer = TukeyHSD(anova.result_Developer)"
   ]
  },
  {
   "cell_type": "code",
   "execution_count": 31,
   "metadata": {
    "vscode": {
     "languageId": "r"
    }
   },
   "outputs": [],
   "source": [
    "# Change Tukey HSD test result to data frame\n",
    "tukey_df_Developer <- as.data.frame(tukey_result_Developer$Developer)\n",
    "\n",
    "# Create a new column for Developer names\n",
    "tukey_df_Developer$Developer <- rownames(tukey_df_Developer)"
   ]
  },
  {
   "cell_type": "code",
   "execution_count": 32,
   "metadata": {
    "vscode": {
     "languageId": "r"
    }
   },
   "outputs": [],
   "source": [
    "# filter for p value < 0.00025\n",
    "significant_tukey_df_Developer <- tukey_df_Developer %>%\n",
    "  filter(`p adj` < 0.00025)"
   ]
  },
  {
   "cell_type": "code",
   "execution_count": 33,
   "metadata": {
    "vscode": {
     "languageId": "r"
    }
   },
   "outputs": [
    {
     "data": {
      "text/html": [
       "120"
      ],
      "text/latex": [
       "120"
      ],
      "text/markdown": [
       "120"
      ],
      "text/plain": [
       "[1] 120"
      ]
     },
     "metadata": {},
     "output_type": "display_data"
    },
    {
     "data": {
      "text/html": [
       "<style>\n",
       ".list-inline {list-style: none; margin:0; padding: 0}\n",
       ".list-inline>li {display: inline-block}\n",
       ".list-inline>li:not(:last-child)::after {content: \"\\00b7\"; padding: 0 .5ex}\n",
       "</style>\n",
       "<ol class=list-inline><li>'Big Fish Games'</li><li>'Dramatic Create'</li><li>'Idea Factory'</li><li>'QuinRose'</li><li>'EA Canada'</li><li>'EA Tiburon'</li><li>'Traveller\\'s Tales'</li><li>'Arkane Studios'</li><li>'Atlus'</li><li>'Avalanche Software'</li><li>'BioWare Corp.'</li><li>'Codemasters'</li><li>'Codemasters Birmingham'</li><li>'CyberConnect2'</li><li>'Dimps Corporation'</li><li>'EA Bright Light'</li><li>'EA Vancouver'</li><li>'Eidos Montreal'</li><li>'Exient Entertainment'</li><li>'Gearbox Software'</li><li>'High Moon Studios'</li><li>'Infinity Ward'</li><li>'Intelligent Systems'</li><li>'IO Interactive'</li><li>'Kojima Productions'</li><li>'Konami'</li><li>'Level 5'</li><li>'MachineGames'</li><li>'Omega Force'</li><li>'PlatinumGames'</li><li>'SCE San Diego Studio'</li><li>'Sega'</li><li>'Square Enix'</li><li>'Tango Gameworks'</li><li>'The Sims Studio'</li><li>'THQ'</li><li>'Toys for Bob'</li><li>'TT Fusion'</li><li>'Ubisoft Montreal'</li><li>'Vicarious Visions'</li><li>'Visual Concepts'</li><li>'Yuke\\'s'</li><li>'Alchemist'</li><li>'Capcom'</li><li>'Firaxis Games'</li><li>'From Software'</li><li>'Giants Software'</li><li>'Rebellion Developments'</li><li>'Ubisoft'</li><li>'Entergram'</li><li>'Cave'</li><li>'CyberFront'</li><li>'FuRyu'</li><li>'GSP'</li><li>'Kadokawa Games'</li><li>'Kadokawa Shoten'</li><li>'KING Art Games'</li><li>'Koei Tecmo Games'</li><li>'Little Orbit'</li><li>'Microids'</li><li>'Nippon Ichi Software'</li><li>'Otomate'</li><li>'Prototype'</li><li>'Success'</li><li>'Crytek'</li><li>'Team Ninja'</li><li>'Ubisoft Montpellier'</li><li>'EA DICE'</li><li>'Griptonite Games'</li><li>'Harmonix Music Systems'</li><li>'id Software'</li><li>'JAKKS Pacific'</li><li>'Marvelous Entertainment'</li><li>'Monolith Soft'</li><li>'Ninja Theory'</li><li>'PES Productions'</li><li>'Pipeworks Software, Inc.'</li><li>'Spike'</li><li>'Sumo Digital'</li><li>'Telltale Games'</li><li>'Ubisoft Reflections'</li><li>'Vigil Games'</li><li>'EKO Software'</li><li>'Experience Inc.'</li><li>'FuRyu Corporation'</li><li>'Games Farm'</li><li>'Gust'</li><li>'Gusto Games'</li><li>'HB Studios'</li><li>'HuneX'</li><li>'Inti Creates'</li><li>'Koei'</li><li>'Kylotonn Entertainment'</li><li>'Milestone S.r.l'</li><li>'Milestone S.r.l.'</li><li>'Monkey Bar Games'</li><li>'Namco Bandai Games'</li><li>'Nippon Columbia'</li><li>'Outright Games'</li><li>'Russel'</li><li>'Spike Chunsoft'</li><li>'Starfish SD'</li><li>'Storm City Games'</li><li>'Studio Saizensen'</li><li>'System Soft'</li><li>'Tecmo Koei Games'</li><li>'Torus Games'</li><li>'UFO Interactive'</li><li>'UIG Entertainment'</li><li>'Weappy Studio'</li><li>'WizarBox'</li><li>'Zoo Games'</li><li>'Nihon Falcom Corporation'</li><li>'PopCap Games'</li><li>'Slightly Mad Studios'</li><li>'Volition Inc.'</li><li>'WayForward Technologies'</li><li>'Zoe Mode'</li><li>'Supermassive Games Ltd.'</li><li>'United Front Games'</li></ol>\n"
      ],
      "text/latex": [
       "\\begin{enumerate*}\n",
       "\\item 'Big Fish Games'\n",
       "\\item 'Dramatic Create'\n",
       "\\item 'Idea Factory'\n",
       "\\item 'QuinRose'\n",
       "\\item 'EA Canada'\n",
       "\\item 'EA Tiburon'\n",
       "\\item 'Traveller\\textbackslash{}'s Tales'\n",
       "\\item 'Arkane Studios'\n",
       "\\item 'Atlus'\n",
       "\\item 'Avalanche Software'\n",
       "\\item 'BioWare Corp.'\n",
       "\\item 'Codemasters'\n",
       "\\item 'Codemasters Birmingham'\n",
       "\\item 'CyberConnect2'\n",
       "\\item 'Dimps Corporation'\n",
       "\\item 'EA Bright Light'\n",
       "\\item 'EA Vancouver'\n",
       "\\item 'Eidos Montreal'\n",
       "\\item 'Exient Entertainment'\n",
       "\\item 'Gearbox Software'\n",
       "\\item 'High Moon Studios'\n",
       "\\item 'Infinity Ward'\n",
       "\\item 'Intelligent Systems'\n",
       "\\item 'IO Interactive'\n",
       "\\item 'Kojima Productions'\n",
       "\\item 'Konami'\n",
       "\\item 'Level 5'\n",
       "\\item 'MachineGames'\n",
       "\\item 'Omega Force'\n",
       "\\item 'PlatinumGames'\n",
       "\\item 'SCE San Diego Studio'\n",
       "\\item 'Sega'\n",
       "\\item 'Square Enix'\n",
       "\\item 'Tango Gameworks'\n",
       "\\item 'The Sims Studio'\n",
       "\\item 'THQ'\n",
       "\\item 'Toys for Bob'\n",
       "\\item 'TT Fusion'\n",
       "\\item 'Ubisoft Montreal'\n",
       "\\item 'Vicarious Visions'\n",
       "\\item 'Visual Concepts'\n",
       "\\item 'Yuke\\textbackslash{}'s'\n",
       "\\item 'Alchemist'\n",
       "\\item 'Capcom'\n",
       "\\item 'Firaxis Games'\n",
       "\\item 'From Software'\n",
       "\\item 'Giants Software'\n",
       "\\item 'Rebellion Developments'\n",
       "\\item 'Ubisoft'\n",
       "\\item 'Entergram'\n",
       "\\item 'Cave'\n",
       "\\item 'CyberFront'\n",
       "\\item 'FuRyu'\n",
       "\\item 'GSP'\n",
       "\\item 'Kadokawa Games'\n",
       "\\item 'Kadokawa Shoten'\n",
       "\\item 'KING Art Games'\n",
       "\\item 'Koei Tecmo Games'\n",
       "\\item 'Little Orbit'\n",
       "\\item 'Microids'\n",
       "\\item 'Nippon Ichi Software'\n",
       "\\item 'Otomate'\n",
       "\\item 'Prototype'\n",
       "\\item 'Success'\n",
       "\\item 'Crytek'\n",
       "\\item 'Team Ninja'\n",
       "\\item 'Ubisoft Montpellier'\n",
       "\\item 'EA DICE'\n",
       "\\item 'Griptonite Games'\n",
       "\\item 'Harmonix Music Systems'\n",
       "\\item 'id Software'\n",
       "\\item 'JAKKS Pacific'\n",
       "\\item 'Marvelous Entertainment'\n",
       "\\item 'Monolith Soft'\n",
       "\\item 'Ninja Theory'\n",
       "\\item 'PES Productions'\n",
       "\\item 'Pipeworks Software, Inc.'\n",
       "\\item 'Spike'\n",
       "\\item 'Sumo Digital'\n",
       "\\item 'Telltale Games'\n",
       "\\item 'Ubisoft Reflections'\n",
       "\\item 'Vigil Games'\n",
       "\\item 'EKO Software'\n",
       "\\item 'Experience Inc.'\n",
       "\\item 'FuRyu Corporation'\n",
       "\\item 'Games Farm'\n",
       "\\item 'Gust'\n",
       "\\item 'Gusto Games'\n",
       "\\item 'HB Studios'\n",
       "\\item 'HuneX'\n",
       "\\item 'Inti Creates'\n",
       "\\item 'Koei'\n",
       "\\item 'Kylotonn Entertainment'\n",
       "\\item 'Milestone S.r.l'\n",
       "\\item 'Milestone S.r.l.'\n",
       "\\item 'Monkey Bar Games'\n",
       "\\item 'Namco Bandai Games'\n",
       "\\item 'Nippon Columbia'\n",
       "\\item 'Outright Games'\n",
       "\\item 'Russel'\n",
       "\\item 'Spike Chunsoft'\n",
       "\\item 'Starfish SD'\n",
       "\\item 'Storm City Games'\n",
       "\\item 'Studio Saizensen'\n",
       "\\item 'System Soft'\n",
       "\\item 'Tecmo Koei Games'\n",
       "\\item 'Torus Games'\n",
       "\\item 'UFO Interactive'\n",
       "\\item 'UIG Entertainment'\n",
       "\\item 'Weappy Studio'\n",
       "\\item 'WizarBox'\n",
       "\\item 'Zoo Games'\n",
       "\\item 'Nihon Falcom Corporation'\n",
       "\\item 'PopCap Games'\n",
       "\\item 'Slightly Mad Studios'\n",
       "\\item 'Volition Inc.'\n",
       "\\item 'WayForward Technologies'\n",
       "\\item 'Zoe Mode'\n",
       "\\item 'Supermassive Games Ltd.'\n",
       "\\item 'United Front Games'\n",
       "\\end{enumerate*}\n"
      ],
      "text/markdown": [
       "1. 'Big Fish Games'\n",
       "2. 'Dramatic Create'\n",
       "3. 'Idea Factory'\n",
       "4. 'QuinRose'\n",
       "5. 'EA Canada'\n",
       "6. 'EA Tiburon'\n",
       "7. 'Traveller\\'s Tales'\n",
       "8. 'Arkane Studios'\n",
       "9. 'Atlus'\n",
       "10. 'Avalanche Software'\n",
       "11. 'BioWare Corp.'\n",
       "12. 'Codemasters'\n",
       "13. 'Codemasters Birmingham'\n",
       "14. 'CyberConnect2'\n",
       "15. 'Dimps Corporation'\n",
       "16. 'EA Bright Light'\n",
       "17. 'EA Vancouver'\n",
       "18. 'Eidos Montreal'\n",
       "19. 'Exient Entertainment'\n",
       "20. 'Gearbox Software'\n",
       "21. 'High Moon Studios'\n",
       "22. 'Infinity Ward'\n",
       "23. 'Intelligent Systems'\n",
       "24. 'IO Interactive'\n",
       "25. 'Kojima Productions'\n",
       "26. 'Konami'\n",
       "27. 'Level 5'\n",
       "28. 'MachineGames'\n",
       "29. 'Omega Force'\n",
       "30. 'PlatinumGames'\n",
       "31. 'SCE San Diego Studio'\n",
       "32. 'Sega'\n",
       "33. 'Square Enix'\n",
       "34. 'Tango Gameworks'\n",
       "35. 'The Sims Studio'\n",
       "36. 'THQ'\n",
       "37. 'Toys for Bob'\n",
       "38. 'TT Fusion'\n",
       "39. 'Ubisoft Montreal'\n",
       "40. 'Vicarious Visions'\n",
       "41. 'Visual Concepts'\n",
       "42. 'Yuke\\'s'\n",
       "43. 'Alchemist'\n",
       "44. 'Capcom'\n",
       "45. 'Firaxis Games'\n",
       "46. 'From Software'\n",
       "47. 'Giants Software'\n",
       "48. 'Rebellion Developments'\n",
       "49. 'Ubisoft'\n",
       "50. 'Entergram'\n",
       "51. 'Cave'\n",
       "52. 'CyberFront'\n",
       "53. 'FuRyu'\n",
       "54. 'GSP'\n",
       "55. 'Kadokawa Games'\n",
       "56. 'Kadokawa Shoten'\n",
       "57. 'KING Art Games'\n",
       "58. 'Koei Tecmo Games'\n",
       "59. 'Little Orbit'\n",
       "60. 'Microids'\n",
       "61. 'Nippon Ichi Software'\n",
       "62. 'Otomate'\n",
       "63. 'Prototype'\n",
       "64. 'Success'\n",
       "65. 'Crytek'\n",
       "66. 'Team Ninja'\n",
       "67. 'Ubisoft Montpellier'\n",
       "68. 'EA DICE'\n",
       "69. 'Griptonite Games'\n",
       "70. 'Harmonix Music Systems'\n",
       "71. 'id Software'\n",
       "72. 'JAKKS Pacific'\n",
       "73. 'Marvelous Entertainment'\n",
       "74. 'Monolith Soft'\n",
       "75. 'Ninja Theory'\n",
       "76. 'PES Productions'\n",
       "77. 'Pipeworks Software, Inc.'\n",
       "78. 'Spike'\n",
       "79. 'Sumo Digital'\n",
       "80. 'Telltale Games'\n",
       "81. 'Ubisoft Reflections'\n",
       "82. 'Vigil Games'\n",
       "83. 'EKO Software'\n",
       "84. 'Experience Inc.'\n",
       "85. 'FuRyu Corporation'\n",
       "86. 'Games Farm'\n",
       "87. 'Gust'\n",
       "88. 'Gusto Games'\n",
       "89. 'HB Studios'\n",
       "90. 'HuneX'\n",
       "91. 'Inti Creates'\n",
       "92. 'Koei'\n",
       "93. 'Kylotonn Entertainment'\n",
       "94. 'Milestone S.r.l'\n",
       "95. 'Milestone S.r.l.'\n",
       "96. 'Monkey Bar Games'\n",
       "97. 'Namco Bandai Games'\n",
       "98. 'Nippon Columbia'\n",
       "99. 'Outright Games'\n",
       "100. 'Russel'\n",
       "101. 'Spike Chunsoft'\n",
       "102. 'Starfish SD'\n",
       "103. 'Storm City Games'\n",
       "104. 'Studio Saizensen'\n",
       "105. 'System Soft'\n",
       "106. 'Tecmo Koei Games'\n",
       "107. 'Torus Games'\n",
       "108. 'UFO Interactive'\n",
       "109. 'UIG Entertainment'\n",
       "110. 'Weappy Studio'\n",
       "111. 'WizarBox'\n",
       "112. 'Zoo Games'\n",
       "113. 'Nihon Falcom Corporation'\n",
       "114. 'PopCap Games'\n",
       "115. 'Slightly Mad Studios'\n",
       "116. 'Volition Inc.'\n",
       "117. 'WayForward Technologies'\n",
       "118. 'Zoe Mode'\n",
       "119. 'Supermassive Games Ltd.'\n",
       "120. 'United Front Games'\n",
       "\n",
       "\n"
      ],
      "text/plain": [
       "  [1] \"Big Fish Games\"           \"Dramatic Create\"         \n",
       "  [3] \"Idea Factory\"             \"QuinRose\"                \n",
       "  [5] \"EA Canada\"                \"EA Tiburon\"              \n",
       "  [7] \"Traveller's Tales\"        \"Arkane Studios\"          \n",
       "  [9] \"Atlus\"                    \"Avalanche Software\"      \n",
       " [11] \"BioWare Corp.\"            \"Codemasters\"             \n",
       " [13] \"Codemasters Birmingham\"   \"CyberConnect2\"           \n",
       " [15] \"Dimps Corporation\"        \"EA Bright Light\"         \n",
       " [17] \"EA Vancouver\"             \"Eidos Montreal\"          \n",
       " [19] \"Exient Entertainment\"     \"Gearbox Software\"        \n",
       " [21] \"High Moon Studios\"        \"Infinity Ward\"           \n",
       " [23] \"Intelligent Systems\"      \"IO Interactive\"          \n",
       " [25] \"Kojima Productions\"       \"Konami\"                  \n",
       " [27] \"Level 5\"                  \"MachineGames\"            \n",
       " [29] \"Omega Force\"              \"PlatinumGames\"           \n",
       " [31] \"SCE San Diego Studio\"     \"Sega\"                    \n",
       " [33] \"Square Enix\"              \"Tango Gameworks\"         \n",
       " [35] \"The Sims Studio\"          \"THQ\"                     \n",
       " [37] \"Toys for Bob\"             \"TT Fusion\"               \n",
       " [39] \"Ubisoft Montreal\"         \"Vicarious Visions\"       \n",
       " [41] \"Visual Concepts\"          \"Yuke's\"                  \n",
       " [43] \"Alchemist\"                \"Capcom\"                  \n",
       " [45] \"Firaxis Games\"            \"From Software\"           \n",
       " [47] \"Giants Software\"          \"Rebellion Developments\"  \n",
       " [49] \"Ubisoft\"                  \"Entergram\"               \n",
       " [51] \"Cave\"                     \"CyberFront\"              \n",
       " [53] \"FuRyu\"                    \"GSP\"                     \n",
       " [55] \"Kadokawa Games\"           \"Kadokawa Shoten\"         \n",
       " [57] \"KING Art Games\"           \"Koei Tecmo Games\"        \n",
       " [59] \"Little Orbit\"             \"Microids\"                \n",
       " [61] \"Nippon Ichi Software\"     \"Otomate\"                 \n",
       " [63] \"Prototype\"                \"Success\"                 \n",
       " [65] \"Crytek\"                   \"Team Ninja\"              \n",
       " [67] \"Ubisoft Montpellier\"      \"EA DICE\"                 \n",
       " [69] \"Griptonite Games\"         \"Harmonix Music Systems\"  \n",
       " [71] \"id Software\"              \"JAKKS Pacific\"           \n",
       " [73] \"Marvelous Entertainment\"  \"Monolith Soft\"           \n",
       " [75] \"Ninja Theory\"             \"PES Productions\"         \n",
       " [77] \"Pipeworks Software, Inc.\" \"Spike\"                   \n",
       " [79] \"Sumo Digital\"             \"Telltale Games\"          \n",
       " [81] \"Ubisoft Reflections\"      \"Vigil Games\"             \n",
       " [83] \"EKO Software\"             \"Experience Inc.\"         \n",
       " [85] \"FuRyu Corporation\"        \"Games Farm\"              \n",
       " [87] \"Gust\"                     \"Gusto Games\"             \n",
       " [89] \"HB Studios\"               \"HuneX\"                   \n",
       " [91] \"Inti Creates\"             \"Koei\"                    \n",
       " [93] \"Kylotonn Entertainment\"   \"Milestone S.r.l\"         \n",
       " [95] \"Milestone S.r.l.\"         \"Monkey Bar Games\"        \n",
       " [97] \"Namco Bandai Games\"       \"Nippon Columbia\"         \n",
       " [99] \"Outright Games\"           \"Russel\"                  \n",
       "[101] \"Spike Chunsoft\"           \"Starfish SD\"             \n",
       "[103] \"Storm City Games\"         \"Studio Saizensen\"        \n",
       "[105] \"System Soft\"              \"Tecmo Koei Games\"        \n",
       "[107] \"Torus Games\"              \"UFO Interactive\"         \n",
       "[109] \"UIG Entertainment\"        \"Weappy Studio\"           \n",
       "[111] \"WizarBox\"                 \"Zoo Games\"               \n",
       "[113] \"Nihon Falcom Corporation\" \"PopCap Games\"            \n",
       "[115] \"Slightly Mad Studios\"     \"Volition Inc.\"           \n",
       "[117] \"WayForward Technologies\"  \"Zoe Mode\"                \n",
       "[119] \"Supermassive Games Ltd.\"  \"United Front Games\"      "
      ]
     },
     "metadata": {},
     "output_type": "display_data"
    }
   ],
   "source": [
    "# Split the \"Developer\" column into two columns\n",
    "significant_tukey_df_Developer <- significant_tukey_df_Developer %>%\n",
    "  separate(Developer, into = c(\"Developer1\", \"Developer2\"), sep = \"-\", extra = \"merge\", remove = FALSE)\n",
    "\n",
    "\n",
    "# Create a vector of all unique significant developers\n",
    "all_significant_developers <- unique(significant_tukey_df_Developer$Developer1)\n",
    "\n",
    "# Remove NAs (if any)\n",
    "all_significant_developers <- all_significant_developers[!is.na(all_significant_developers)]\n",
    "length (all_significant_developers)\n",
    "\n",
    "all_significant_developers"
   ]
  },
  {
   "cell_type": "markdown",
   "metadata": {},
   "source": [
    "Group Publisher & Developer"
   ]
  },
  {
   "cell_type": "code",
   "execution_count": 34,
   "metadata": {
    "vscode": {
     "languageId": "r"
    }
   },
   "outputs": [
    {
     "name": "stdout",
     "output_type": "stream",
     "text": [
      " [1] \"Namco Bandai Games\"                    \n",
      " [2] \"Activision\"                            \n",
      " [3] \"Ubisoft\"                               \n",
      " [4] \"Sega\"                                  \n",
      " [5] \"Tecmo Koei\"                            \n",
      " [6] \"Capcom\"                                \n",
      " [7] \"Electronic Arts\"                       \n",
      " [8] \"Namco Bandai\"                          \n",
      " [9] \"Warner Bros. Interactive Entertainment\"\n",
      "[10] \"THQ\"                                   \n",
      "[11] \"Konami\"                                \n",
      "[12] \"Square Enix\"                           \n",
      "[13] \"Nintendo\"                              \n",
      "[14] \"Sony Computer Entertainment\"           \n",
      "[15] \"EA Sports\"                             \n",
      "[16] \"Konami Digital Entertainment\"          \n",
      "[17] \"NIS America\"                           \n",
      "[18] \"Deep Silver\"                           \n",
      "[19] \"Idea Factory\"                          \n",
      "[20] \"505 Games\"                             \n",
      "[21] \"Focus Home Interactive\"                \n",
      "[22] \"Atlus\"                                 \n",
      "[23] \"Disney Interactive Studios\"            \n",
      "[24] \"Aksys Games\"                           \n",
      "[25] \"D3 Publisher\"                          \n",
      " [1] \"Bandai Namco Games\"   \"Capcom\"               \"Namco Bandai Games\"  \n",
      " [4] \"Konami\"               \"Omega Force\"          \"Ubisoft\"             \n",
      " [7] \"Idea Factory\"         \"EA Canada\"            \"Sega\"                \n",
      "[10] \"Telltale Games\"       \"Traveller's Tales\"    \"Arc System Works\"    \n",
      "[13] \"Nippon Ichi Software\" \"THQ\"                  \"EA Tiburon\"          \n",
      "[16] \"Square Enix\"          \"TT Fusion\"            \"Activision\"          \n",
      "[19] \"Visual Concepts\"      \"Compile Heart\"        \"Gust\"                \n",
      "[22] \"Ubisoft Montreal\"     \"Koei Tecmo Games\"     \"Milestone S.r.l.\"    \n",
      "[25] \"Level 5\"             \n"
     ]
    }
   ],
   "source": [
    "########################################################\n",
    "# Explore grouping Publisher & Developer into Top 25 based on count frequency\n",
    "'''\n",
    "# Calculate the frequency of each Publisher\n",
    "publisher_counts <- data %>%\n",
    "  count(Publisher) %>%\n",
    "  arrange(desc(n))\n",
    "\n",
    "# Calculate the frequency of each Developer\n",
    "developer_counts <- data %>%\n",
    "  count(Developer) %>%\n",
    "  arrange(desc(n))\n",
    "\n",
    "# Extract the top 25 unique publishers and developers based on count frequency\n",
    "top_publishers <- publisher_counts$Publisher %>%\n",
    "  unique() %>%\n",
    "  head(25)\n",
    "\n",
    "top_developers <- developer_counts$Developer %>%\n",
    "  unique() %>%\n",
    "  head(25)\n",
    "\n",
    "# View the top 25\n",
    "print(top_publishers)\n",
    "print(top_developers)\n",
    "'''"
   ]
  },
  {
   "cell_type": "code",
   "execution_count": 26,
   "metadata": {
    "vscode": {
     "languageId": "r"
    }
   },
   "outputs": [],
   "source": [
    "# Noted Data Inconsistencies under both Publisher & Developer columns\n",
    "# Re-run Data Processing - to clean up data inconsistencies prior to grouping top 25\n",
    "\n",
    "# Change 'Publisher' column to character\n",
    "data$Publisher <- as.character(data$Publisher)\n",
    "\n",
    "# Replace specified values\n",
    "data$Publisher <- gsub('Namco Bandai Games|Namco Bandai|Namco|Namco Networks America Inc.', 'Bandai Namco', data$Publisher)\n",
    "data$Publisher <- gsub('Warner Bros. Interactive Entertainment', 'Warner Bros. Interactive', data$Publisher)\n",
    "data$Publisher <- gsub('Konami Digital Entertainment', 'Konami', data$Publisher)\n",
    "data$Publisher <- gsub('THQ Nordic', 'THQ', data$Publisher)\n",
    "data$Publisher <- gsub('Sony Computer Entertainment|Sony Computer Entertainment America|Sony Computer Entertainment Europe|Sony Interactive Entertainment|Sony Online Entertainment', 'Sony', data$Publisher)\n",
    "data$Publisher <- gsub('Tecmo Koei', 'Tecmo', data$Publisher)\n",
    "data$Publisher <- gsub('EA Sports', 'Electronic Arts', data$Publisher)\n",
    "\n",
    "# Convert 'Publisher' back to factor\n",
    "data$Publisher <- as.factor(data$Publisher)"
   ]
  },
  {
   "cell_type": "code",
   "execution_count": 27,
   "metadata": {
    "vscode": {
     "languageId": "r"
    }
   },
   "outputs": [],
   "source": [
    "# Change 'Developer' column to character\n",
    "data$Developer <- as.character(data$Developer)\n",
    "\n",
    "# Define a mapping of replacements as a named vector\n",
    "developer_replacements <- c(\n",
    "  'Atlus Co.|Atlus Co. / Lancarse' = 'Atlus',\n",
    "  'Avalanche Software|Avalanche Studios' = 'Avalanche',\n",
    "  'Bandai|Bandai Namco|Bandai Namco Games|Bandai Namco Studios|Namco|Namco Bandai|Namco Bandai Games|Namco Bandai Games / Celius|Namco Bandai Games America|Namco Tales Studio' = 'Bandai Namco',\n",
    "  'Beenox Studios' = 'Beenox',\n",
    "  'Behaviour Interactive Inc.' = 'Behaviour Interactive',\n",
    "  'Black Lantern Studios, Inc.' = 'Black Lantern Studios',\n",
    "  'Capcom / Dimps Corporation|Capcom Production Studio 1' = 'Capcom',\n",
    "  'Codemasters Birmingham' = 'Codemasters',\n",
    "  'Cyanide Studio|Cyanide Studios' = 'Cyanide',\n",
    "  'EA|EA Black Box|EA Bright Light|EA Canada|EA DICE|EA Digital Illusions CE|EA Los Angeles|EA Montreal|EA Redwood Shores|EA Salt Lake|EA Sports|EA Tiburon|EA Vancouver' = 'Electronic Arts',\n",
    "  'Gusto Games' = 'Gust',\n",
    "  'Koei Tecmo Games' = 'Koei',\n",
    "  'Konami Computer Entertainment Japan|Konami Digital Entertainment|Konami Digital Entertainment, Inc.' = 'Konami',\n",
    "  'Level 5 / Armor Project|Level 5/Brownie Brown|Level 5/Studio Ghibli' = 'Level 5',\n",
    "  'Nippon Ichi Software / Gust' = 'Nippon Ichi Software',\n",
    "  'Sega CS3|Sega Sports R&D|Sega Studios Australia|Sega Studios, San Francisco|Sega WOW Overworks|Sega-AM2' = 'Sega',\n",
    "  'Square Enix|Square-Enix' = 'Square',\n",
    "  'THQ Australia Studios Pty Ltd.|THQ Digital Phoenix|THQ Nordic' = 'THQ',\n",
    "  'Ubisoft Annecy|Ubisoft Barcelona|Ubisoft Bucharest|Ubisoft Milan|Ubisoft Montpellier|Ubisoft Montreal|Ubisoft Nagoya|Ubisoft Paris|Ubisoft Pune|Ubisoft Quebec|Ubisoft Quebec City|Ubisoft Reflections|Ubisoft Romania|Ubisoft San Francisco|Ubisoft Shanghai|Ubisoft Sofia|Ubisoft Toronto|Ubisoft Vancouver' = 'Ubisoft',\n",
    "  'Visual Concepts, Ltd.' = 'Visual Concepts'\n",
    ")\n",
    "\n",
    "# Use str_replace_all to apply the replacements\n",
    "data$Developer <- str_replace_all(data$Developer, developer_replacements)\n",
    "\n",
    "# Convert 'Developer' back to factor\n",
    "data$Developer <- as.factor(data$Developer)"
   ]
  },
  {
   "cell_type": "code",
   "execution_count": 28,
   "metadata": {
    "vscode": {
     "languageId": "r"
    }
   },
   "outputs": [],
   "source": [
    "data$Developer <- gsub('Bandai Namco Bandai Namco Games', 'Bandai Namco', data$Developer)\n",
    "data$Developer <- gsub('Electronic Arts Canada', 'Electronic Arts', data$Developer)\n",
    "data$Developer <- gsub('Electronic Arts Tiburon', 'Electronic Arts', data$Developer)\n",
    "\n",
    "# Convert 'Developer' back to factor\n",
    "data$Developer <- as.factor(data$Developer)"
   ]
  },
  {
   "cell_type": "code",
   "execution_count": 57,
   "metadata": {
    "vscode": {
     "languageId": "r"
    }
   },
   "outputs": [
    {
     "name": "stdout",
     "output_type": "stream",
     "text": [
      " [1] Bandai Namco               Activision                \n",
      " [3] Electronic Arts            Ubisoft                   \n",
      " [5] Konami                     THQ                       \n",
      " [7] Warner Bros. Interactive   Sega                      \n",
      " [9] Tecmo                      Capcom                    \n",
      "[11] Sony                       Square Enix               \n",
      "[13] Nintendo                   NIS America               \n",
      "[15] Deep Silver                Idea Factory              \n",
      "[17] 505 Games                  Focus Home Interactive    \n",
      "[19] Atlus                      Disney Interactive Studios\n",
      "[21] Aksys Games                D3 Publisher              \n",
      "[23] Xseed Games                2K Games                  \n",
      "[25] 2K Sports                 \n",
      "613 Levels: 11 bit studios 17_Bit 1C Company 2K Games 2K Play ... ZOV GAME STUDIO\n",
      " [1] Bandai Namco             Ubisoft                  Electronic Arts         \n",
      " [4] Capcom                   Konami                   Omega Force             \n",
      " [7] Idea Factory             Sega                     Koei                    \n",
      "[10] THQ                      Telltale Games           Traveller's Tales       \n",
      "[13] Nippon Ichi Software     Arc System Works         Codemasters             \n",
      "[16] Visual Concepts          Gust                     Square                  \n",
      "[19] TT Fusion                Activision               Compile Heart           \n",
      "[22] Milestone S.r.l.         Level 5                  Spike Chunsoft          \n",
      "[25] Nihon Falcom Corporation\n",
      "1381 Levels: 11 bit studios 13AM Games 17_Bit 1C Company ... Zushi Games Ltd\n"
     ]
    }
   ],
   "source": [
    "########################################################\n",
    "# Re-group Top 25 after addressing data inconsistencies\n",
    "\n",
    "# Calculate the frequency of each Publisher\n",
    "publisher_counts <- data %>%\n",
    "  group_by(Publisher) %>%\n",
    "  summarise(n = n()) %>%\n",
    "  arrange(desc(n))\n",
    "\n",
    "# Calculate the frequency of each Developer\n",
    "developer_counts <- data %>%\n",
    "  group_by(Developer) %>%\n",
    "  summarise(n = n()) %>%\n",
    "  arrange(desc(n))\n",
    "\n",
    "# Extract the top 25 unique publishers and developers based on count frequency\n",
    "top_publishers <- publisher_counts$Publisher %>%\n",
    "  head(25)\n",
    "\n",
    "top_developers <- developer_counts$Developer %>%\n",
    "  head(25)\n",
    "\n",
    "# View the top 25\n",
    "print(top_publishers)\n",
    "print(top_developers)"
   ]
  },
  {
   "cell_type": "code",
   "execution_count": 58,
   "metadata": {
    "vscode": {
     "languageId": "r"
    }
   },
   "outputs": [
    {
     "data": {
      "image/png": "[encoded data removed]",
      "text/plain": [
       "plot without title"
      ]
     },
     "metadata": {
      "image/png": {
       "height": 420,
       "width": 420
      }
     },
     "output_type": "display_data"
    },
    {
     "data": {
      "image/png": "[encoded data removed]",
      "text/plain": [
       "plot without title"
      ]
     },
     "metadata": {
      "image/png": {
       "height": 420,
       "width": 420
      }
     },
     "output_type": "display_data"
    }
   ],
   "source": [
    "# Visualize top 25 Publishers\n",
    "ggplot(head(publisher_counts, 25), aes(x = reorder(Publisher, -n), y = n)) +\n",
    "  geom_bar(stat = \"identity\", fill = \"skyblue\", alpha = 0.7) +\n",
    "  labs(title = \"Top 25 Publishers by Count\",\n",
    "       x = \"Publisher\",\n",
    "       y = \"Count\") +\n",
    "  theme(axis.text.x = element_text(angle = 45, hjust = 1)) +\n",
    "  coord_flip()\n",
    "\n",
    "# Visualize top 25 Developers\n",
    "ggplot(head(developer_counts, 25), aes(x = reorder(Developer, -n), y = n)) +\n",
    "  geom_bar(stat = \"identity\", fill = \"skyblue\", alpha = 0.7) +\n",
    "  labs(title = \"Top 25 Developers by Count\",\n",
    "       x = \"Developer\",\n",
    "       y = \"Count\") +\n",
    "  theme(axis.text.x = element_text(angle = 45, hjust = 1)) +\n",
    "  coord_flip()"
   ]
  },
  {
   "cell_type": "code",
   "execution_count": 63,
   "metadata": {
    "vscode": {
     "languageId": "r"
    }
   },
   "outputs": [
    {
     "name": "stdout",
     "output_type": "stream",
     "text": [
      " [1] Bandai Namco             Activision               Electronic Arts         \n",
      " [4] Ubisoft                  Konami                   THQ                     \n",
      " [7] Warner Bros. Interactive Sega                     Tecmo                   \n",
      "[10] Capcom                  \n",
      "613 Levels: 11 bit studios 17_Bit 1C Company 2K Games 2K Play ... ZOV GAME STUDIO\n",
      " [1] Bandai Namco    Ubisoft         Electronic Arts Capcom         \n",
      " [5] Konami          Omega Force     Idea Factory    Sega           \n",
      " [9] Koei            THQ            \n",
      "1381 Levels: 11 bit studios 13AM Games 17_Bit 1C Company ... Zushi Games Ltd\n"
     ]
    }
   ],
   "source": [
    "########################################################\n",
    "# Re-group Top 10 after addressing data inconsistencies\n",
    "\n",
    "# Extract the top 10 unique publishers and developers based on count frequency\n",
    "top10_publishers <- publisher_counts$Publisher %>%\n",
    "  head(10)\n",
    "\n",
    "top10_developers <- developer_counts$Developer %>%\n",
    "  head(10)\n",
    "\n",
    "# View the top 10\n",
    "print(top10_publishers)\n",
    "print(top10_developers)"
   ]
  },
  {
   "cell_type": "code",
   "execution_count": 65,
   "metadata": {
    "vscode": {
     "languageId": "r"
    }
   },
   "outputs": [
    {
     "data": {
      "image/png": "[encoded data removed]",
      "text/plain": [
       "plot without title"
      ]
     },
     "metadata": {
      "image/png": {
       "height": 420,
       "width": 420
      }
     },
     "output_type": "display_data"
    },
    {
     "data": {
      "image/png": "[encoded data removed]",
      "text/plain": [
       "plot without title"
      ]
     },
     "metadata": {
      "image/png": {
       "height": 420,
       "width": 420
      }
     },
     "output_type": "display_data"
    }
   ],
   "source": [
    "# Visualize top 10 Publishers\n",
    "ggplot(head(publisher_counts, 10), aes(x = reorder(Publisher, -n), y = n)) +\n",
    "  geom_bar(stat = \"identity\", fill = \"skyblue\", alpha = 0.7) +\n",
    "  labs(title = \"Top 10 Publishers by Count\",\n",
    "       x = \"Publisher\",\n",
    "       y = \"Count\") +\n",
    "  theme(axis.text.x = element_text(angle = 45, hjust = 1)) +\n",
    "  coord_flip()\n",
    "\n",
    "# Visualize top 25 Developers\n",
    "ggplot(head(developer_counts, 10), aes(x = reorder(Developer, -n), y = n)) +\n",
    "  geom_bar(stat = \"identity\", fill = \"skyblue\", alpha = 0.7) +\n",
    "  labs(title = \"Top 10 Developers by Count\",\n",
    "       x = \"Developer\",\n",
    "       y = \"Count\") +\n",
    "  theme(axis.text.x = element_text(angle = 45, hjust = 1)) +\n",
    "  coord_flip()"
   ]
  },
  {
   "cell_type": "code",
   "execution_count": 68,
   "metadata": {
    "vscode": {
     "languageId": "r"
    }
   },
   "outputs": [],
   "source": [
    "# Create a function to replace with \"Others\" if not in the top list\n",
    "replace_with_others <- function(names, top_names) {\n",
    "  names <- as.character(names)\n",
    "  names[!names %in% top_names] <- \"Others\"\n",
    "  names <- as.factor(names)\n",
    "  return(names)\n",
    "}\n",
    "\n",
    "data$TopPublisher_Count = data$Publisher\n",
    "data$TopDeveloper_Count = data$Developer\n",
    "\n",
    "# Replace publishers and developers in the original data frame\n",
    "data$TopPublisher_Count <- replace_with_others(data$TopPublisher_Count, top10_publishers)\n",
    "data$TopDeveloper_Count <- replace_with_others(data$TopDeveloper_Count, top10_developers)"
   ]
  },
  {
   "cell_type": "code",
   "execution_count": 69,
   "metadata": {
    "vscode": {
     "languageId": "r"
    }
   },
   "outputs": [
    {
     "data": {
      "text/html": [
       "<style>\n",
       ".dl-inline {width: auto; margin:0; padding: 0}\n",
       ".dl-inline>dt, .dl-inline>dd {float: none; width: auto; display: inline-block}\n",
       ".dl-inline>dt::after {content: \":\\0020\"; padding-right: .5ex}\n",
       ".dl-inline>dt:not(:first-of-type) {padding-left: .5ex}\n",
       "</style><dl class=dl-inline><dt>Rank</dt><dd>6072</dd><dt>Title</dt><dd>4051</dd><dt>Console</dt><dd>17</dd><dt>Publisher</dt><dd>613</dd><dt>Developer</dt><dd>1381</dd><dt>Genre</dt><dd>13</dd><dt>ReleaseYear</dt><dd>9</dd><dt>ReleaseQuarter</dt><dd>4</dd><dt>ReleaseMonth</dt><dd>12</dd><dt>ReleaseWeek</dt><dd>53</dd><dt>ReleaseDay</dt><dd>7</dd><dt>ReleaseWeekend</dt><dd>2</dd><dt>EndOfMonth</dt><dd>2</dd><dt>TotalSales</dt><dd>94</dd><dt>YearsSinceRelease</dt><dd>9</dd><dt>log_transformed_total_sales</dt><dd>94</dd><dt>TopPublisher_Count</dt><dd>11</dd><dt>TopDeveloper_Count</dt><dd>11</dd></dl>\n"
      ],
      "text/latex": [
       "\\begin{description*}\n",
       "\\item[Rank] 6072\n",
       "\\item[Title] 4051\n",
       "\\item[Console] 17\n",
       "\\item[Publisher] 613\n",
       "\\item[Developer] 1381\n",
       "\\item[Genre] 13\n",
       "\\item[ReleaseYear] 9\n",
       "\\item[ReleaseQuarter] 4\n",
       "\\item[ReleaseMonth] 12\n",
       "\\item[ReleaseWeek] 53\n",
       "\\item[ReleaseDay] 7\n",
       "\\item[ReleaseWeekend] 2\n",
       "\\item[EndOfMonth] 2\n",
       "\\item[TotalSales] 94\n",
       "\\item[YearsSinceRelease] 9\n",
       "\\item[log\\textbackslash{}\\_transformed\\textbackslash{}\\_total\\textbackslash{}\\_sales] 94\n",
       "\\item[TopPublisher\\textbackslash{}\\_Count] 11\n",
       "\\item[TopDeveloper\\textbackslash{}\\_Count] 11\n",
       "\\end{description*}\n"
      ],
      "text/markdown": [
       "Rank\n",
       ":   6072Title\n",
       ":   4051Console\n",
       ":   17Publisher\n",
       ":   613Developer\n",
       ":   1381Genre\n",
       ":   13ReleaseYear\n",
       ":   9ReleaseQuarter\n",
       ":   4ReleaseMonth\n",
       ":   12ReleaseWeek\n",
       ":   53ReleaseDay\n",
       ":   7ReleaseWeekend\n",
       ":   2EndOfMonth\n",
       ":   2TotalSales\n",
       ":   94YearsSinceRelease\n",
       ":   9log_transformed_total_sales\n",
       ":   94TopPublisher_Count\n",
       ":   11TopDeveloper_Count\n",
       ":   11\n",
       "\n"
      ],
      "text/plain": [
       "                       Rank                       Title \n",
       "                       6072                        4051 \n",
       "                    Console                   Publisher \n",
       "                         17                         613 \n",
       "                  Developer                       Genre \n",
       "                       1381                          13 \n",
       "                ReleaseYear              ReleaseQuarter \n",
       "                          9                           4 \n",
       "               ReleaseMonth                 ReleaseWeek \n",
       "                         12                          53 \n",
       "                 ReleaseDay              ReleaseWeekend \n",
       "                          7                           2 \n",
       "                 EndOfMonth                  TotalSales \n",
       "                          2                          94 \n",
       "          YearsSinceRelease log_transformed_total_sales \n",
       "                          9                          94 \n",
       "         TopPublisher_Count          TopDeveloper_Count \n",
       "                         11                          11 "
      ]
     },
     "metadata": {},
     "output_type": "display_data"
    }
   ],
   "source": [
    "########################################################\n",
    "# Check the number of distinct values for the variables\n",
    "sapply(data, function(x) n_distinct(x))"
   ]
  },
  {
   "cell_type": "code",
   "execution_count": 73,
   "metadata": {
    "vscode": {
     "languageId": "r"
    }
   },
   "outputs": [],
   "source": [
    "## Explore to group Publisher by using TotalSales\n",
    "\n",
    "# Calculate the sum of TotalSales for each Publisher\n",
    "publisher_sales <- data %>%\n",
    "  group_by(Publisher) %>%\n",
    "  summarise(TotalSales = sum(TotalSales)) %>%\n",
    "  arrange(desc(TotalSales))\n",
    "\n",
    "# Calculate the sum of TotalSales for each Developer\n",
    "developer_sales <- data %>%\n",
    "  group_by(Developer) %>%\n",
    "  summarise(TotalSales = sum(TotalSales)) %>%\n",
    "  arrange(desc(TotalSales))"
   ]
  },
  {
   "cell_type": "code",
   "execution_count": 75,
   "metadata": {
    "vscode": {
     "languageId": "r"
    }
   },
   "outputs": [
    {
     "data": {
      "image/png": "[encoded data removed]",
      "text/plain": [
       "plot without title"
      ]
     },
     "metadata": {
      "image/png": {
       "height": 420,
       "width": 420
      }
     },
     "output_type": "display_data"
    },
    {
     "data": {
      "image/png": "[encoded data removed]",
      "text/plain": [
       "plot without title"
      ]
     },
     "metadata": {
      "image/png": {
       "height": 420,
       "width": 420
      }
     },
     "output_type": "display_data"
    }
   ],
   "source": [
    "# Visualize top 25 Publishers\n",
    "ggplot(head(publisher_sales, 25), aes(x = reorder(Publisher, -TotalSales), y = TotalSales/1e6)) +\n",
    "  geom_bar(stat = \"identity\", fill = \"skyblue\", alpha = 0.7) +\n",
    "  labs(title = \"Top 25 Publishers by TotalSales (in Mil)\",\n",
    "       x = \"Publisher\",\n",
    "       y = \"TotalSales (Mil)\") +\n",
    "  theme(axis.text.x = element_text(angle = 45, hjust = 1)) +\n",
    "  coord_flip() +\n",
    "  scale_y_continuous(labels = scales::comma)\n",
    "\n",
    "\n",
    "  # Visualize top 25 Developers\n",
    "ggplot(head(developer_sales, 25), aes(x = reorder(Developer, -TotalSales), y = TotalSales/1e6)) +\n",
    "  geom_bar(stat = \"identity\", fill = \"skyblue\", alpha = 0.7) +\n",
    "  labs(title = \"Top 25 Developers by TotalSales (in Mil)\",\n",
    "       x = \"Developer\",\n",
    "       y = \"TotalSales (Mil)\") +\n",
    "  theme(axis.text.x = element_text(angle = 45, hjust = 1)) +\n",
    "  coord_flip() +\n",
    "  scale_y_continuous(labels = scales::comma)"
   ]
  },
  {
   "cell_type": "code",
   "execution_count": 77,
   "metadata": {
    "vscode": {
     "languageId": "r"
    }
   },
   "outputs": [
    {
     "data": {
      "image/png": "[encoded data removed]",
      "text/plain": [
       "plot without title"
      ]
     },
     "metadata": {
      "image/png": {
       "height": 420,
       "width": 420
      }
     },
     "output_type": "display_data"
    },
    {
     "data": {
      "image/png": "[encoded data removed]",
      "text/plain": [
       "plot without title"
      ]
     },
     "metadata": {
      "image/png": {
       "height": 420,
       "width": 420
      }
     },
     "output_type": "display_data"
    }
   ],
   "source": [
    "# Visualize top 10 Publishers\n",
    "ggplot(head(publisher_sales, 10), aes(x = reorder(Publisher, -TotalSales), y = TotalSales/1e6)) +\n",
    "  geom_bar(stat = \"identity\", fill = \"skyblue\", alpha = 0.7) +\n",
    "  labs(title = \"Top 10 Publishers by TotalSales (in Mil)\",\n",
    "       x = \"Publisher\",\n",
    "       y = \"TotalSales (Mil)\") +\n",
    "  theme(axis.text.x = element_text(angle = 45, hjust = 1)) +\n",
    "  coord_flip() +\n",
    "  scale_y_continuous(labels = scales::comma)\n",
    "\n",
    "\n",
    "  # Visualize top 10 Developers\n",
    "ggplot(head(developer_sales, 10), aes(x = reorder(Developer, -TotalSales), y = TotalSales/1e6)) +\n",
    "  geom_bar(stat = \"identity\", fill = \"skyblue\", alpha = 0.7) +\n",
    "  labs(title = \"Top 10 Developers by TotalSales (in Mil)\",\n",
    "       x = \"Developer\",\n",
    "       y = \"TotalSales (Mil)\") +\n",
    "  theme(axis.text.x = element_text(angle = 45, hjust = 1)) +\n",
    "  coord_flip() +\n",
    "  scale_y_continuous(labels = scales::comma)"
   ]
  },
  {
   "cell_type": "code",
   "execution_count": 78,
   "metadata": {
    "vscode": {
     "languageId": "r"
    }
   },
   "outputs": [
    {
     "name": "stdout",
     "output_type": "stream",
     "text": [
      " [1] Electronic Arts          Activision               Bandai Namco            \n",
      " [4] Warner Bros. Interactive Ubisoft                  Sega                    \n",
      " [7] Konami                   Sony                     Square Enix             \n",
      "[10] Nintendo                \n",
      "613 Levels: 11 bit studios 17_Bit 1C Company 2K Games 2K Play ... ZOV GAME STUDIO\n",
      " [1] Electronic Arts   Ubisoft           Bandai Namco      Capcom           \n",
      " [5] Traveller's Tales Konami            Sega              Omega Force      \n",
      " [9] TT Fusion         Square           \n",
      "1381 Levels: 11 bit studios 13AM Games 17_Bit 1C Company ... Zushi Games Ltd\n"
     ]
    }
   ],
   "source": [
    "# Extract the top 10 unique publishers and developers based on count frequency\n",
    "top10_publishers_sum <- publisher_sales$Publisher %>%\n",
    "  head(10)\n",
    "\n",
    "top10_developers_sum <- developer_sales$Developer %>%\n",
    "  head(10)\n",
    "\n",
    "# View the top 10\n",
    "print(top10_publishers_sum)\n",
    "print(top10_developers_sum)\n",
    "\n"
   ]
  },
  {
   "cell_type": "code",
   "execution_count": 82,
   "metadata": {
    "vscode": {
     "languageId": "r"
    }
   },
   "outputs": [],
   "source": [
    "# Create a function to replace with \"Others\" if not in the top list\n",
    "replace_with_others <- function(names, top_names) {\n",
    "  names <- as.character(names)\n",
    "  names[!names %in% top_names] <- \"Others\"\n",
    "  names <- as.factor(names)\n",
    "  return(names)\n",
    "}\n",
    "\n",
    "data$TopPublisher_Sum = data$Publisher\n",
    "data$TopDeveloper_Sum = data$Developer\n",
    "\n",
    "# Replace publishers and developers in the original data frame\n",
    "data$TopPublisher_Sum <- replace_with_others(data$TopPublisher_Sum, top10_publishers_sum)\n",
    "data$TopDeveloper_Sum <- replace_with_others(data$TopDeveloper_Sum, top10_developers_sum)"
   ]
  },
  {
   "cell_type": "code",
   "execution_count": 83,
   "metadata": {
    "vscode": {
     "languageId": "r"
    }
   },
   "outputs": [
    {
     "data": {
      "text/html": [
       "<style>\n",
       ".dl-inline {width: auto; margin:0; padding: 0}\n",
       ".dl-inline>dt, .dl-inline>dd {float: none; width: auto; display: inline-block}\n",
       ".dl-inline>dt::after {content: \":\\0020\"; padding-right: .5ex}\n",
       ".dl-inline>dt:not(:first-of-type) {padding-left: .5ex}\n",
       "</style><dl class=dl-inline><dt>Rank</dt><dd>6072</dd><dt>Title</dt><dd>4051</dd><dt>Console</dt><dd>17</dd><dt>Publisher</dt><dd>613</dd><dt>Developer</dt><dd>1381</dd><dt>Genre</dt><dd>13</dd><dt>ReleaseYear</dt><dd>9</dd><dt>ReleaseQuarter</dt><dd>4</dd><dt>ReleaseMonth</dt><dd>12</dd><dt>ReleaseWeek</dt><dd>53</dd><dt>ReleaseDay</dt><dd>7</dd><dt>ReleaseWeekend</dt><dd>2</dd><dt>EndOfMonth</dt><dd>2</dd><dt>TotalSales</dt><dd>94</dd><dt>YearsSinceRelease</dt><dd>9</dd><dt>log_transformed_total_sales</dt><dd>94</dd><dt>TopPublisher_Count</dt><dd>11</dd><dt>TopDeveloper_Count</dt><dd>11</dd><dt>TopPublisher_Sum</dt><dd>11</dd><dt>TopDeveloper_Sum</dt><dd>11</dd></dl>\n"
      ],
      "text/latex": [
       "\\begin{description*}\n",
       "\\item[Rank] 6072\n",
       "\\item[Title] 4051\n",
       "\\item[Console] 17\n",
       "\\item[Publisher] 613\n",
       "\\item[Developer] 1381\n",
       "\\item[Genre] 13\n",
       "\\item[ReleaseYear] 9\n",
       "\\item[ReleaseQuarter] 4\n",
       "\\item[ReleaseMonth] 12\n",
       "\\item[ReleaseWeek] 53\n",
       "\\item[ReleaseDay] 7\n",
       "\\item[ReleaseWeekend] 2\n",
       "\\item[EndOfMonth] 2\n",
       "\\item[TotalSales] 94\n",
       "\\item[YearsSinceRelease] 9\n",
       "\\item[log\\textbackslash{}\\_transformed\\textbackslash{}\\_total\\textbackslash{}\\_sales] 94\n",
       "\\item[TopPublisher\\textbackslash{}\\_Count] 11\n",
       "\\item[TopDeveloper\\textbackslash{}\\_Count] 11\n",
       "\\item[TopPublisher\\textbackslash{}\\_Sum] 11\n",
       "\\item[TopDeveloper\\textbackslash{}\\_Sum] 11\n",
       "\\end{description*}\n"
      ],
      "text/markdown": [
       "Rank\n",
       ":   6072Title\n",
       ":   4051Console\n",
       ":   17Publisher\n",
       ":   613Developer\n",
       ":   1381Genre\n",
       ":   13ReleaseYear\n",
       ":   9ReleaseQuarter\n",
       ":   4ReleaseMonth\n",
       ":   12ReleaseWeek\n",
       ":   53ReleaseDay\n",
       ":   7ReleaseWeekend\n",
       ":   2EndOfMonth\n",
       ":   2TotalSales\n",
       ":   94YearsSinceRelease\n",
       ":   9log_transformed_total_sales\n",
       ":   94TopPublisher_Count\n",
       ":   11TopDeveloper_Count\n",
       ":   11TopPublisher_Sum\n",
       ":   11TopDeveloper_Sum\n",
       ":   11\n",
       "\n"
      ],
      "text/plain": [
       "                       Rank                       Title \n",
       "                       6072                        4051 \n",
       "                    Console                   Publisher \n",
       "                         17                         613 \n",
       "                  Developer                       Genre \n",
       "                       1381                          13 \n",
       "                ReleaseYear              ReleaseQuarter \n",
       "                          9                           4 \n",
       "               ReleaseMonth                 ReleaseWeek \n",
       "                         12                          53 \n",
       "                 ReleaseDay              ReleaseWeekend \n",
       "                          7                           2 \n",
       "                 EndOfMonth                  TotalSales \n",
       "                          2                          94 \n",
       "          YearsSinceRelease log_transformed_total_sales \n",
       "                          9                          94 \n",
       "         TopPublisher_Count          TopDeveloper_Count \n",
       "                         11                          11 \n",
       "           TopPublisher_Sum            TopDeveloper_Sum \n",
       "                         11                          11 "
      ]
     },
     "metadata": {},
     "output_type": "display_data"
    }
   ],
   "source": [
    "########################################################\n",
    "# Check the number of distinct values for the variables\n",
    "sapply(data, function(x) n_distinct(x))"
   ]
  },
  {
   "cell_type": "code",
   "execution_count": 129,
   "metadata": {
    "vscode": {
     "languageId": "r"
    }
   },
   "outputs": [
    {
     "name": "stdout",
     "output_type": "stream",
     "text": [
      "'data.frame':\t6072 obs. of  20 variables:\n",
      " $ Rank                       : int  2703 2706 2707 2713 2716 2717 2722 2726 2731 2732 ...\n",
      " $ Title                      : chr  \"Dust: An Elysian Tail\" \"Zombie Army Trilogy\" \"Borderlands 2\" \"EA Sports Active 2\" ...\n",
      " $ Console                    : Factor w/ 21 levels \"3DS\",\"Amig\",\"DS\",..: 7 7 7 9 10 19 21 9 7 7 ...\n",
      " $ Publisher                  : Factor w/ 613 levels \"11 bit studios\",..: 354 454 4 168 592 592 6 16 106 142 ...\n",
      " $ Developer                  : Factor w/ 1381 levels \"11 bit studios\",..: 577 988 493 390 1254 1254 1307 1252 243 288 ...\n",
      " $ Genre                      : Factor w/ 13 levels \"Action\",\"Action-Adventure\",..: 6 10 10 12 1 1 12 1 10 7 ...\n",
      " $ ReleaseYear                : int  2013 2015 2012 2010 2014 2014 2013 2011 2010 2014 ...\n",
      " $ ReleaseQuarter             : int  2 2 3 4 4 4 4 4 2 4 ...\n",
      " $ ReleaseMonth               : int  5 6 9 11 11 11 11 10 6 11 ...\n",
      " $ ReleaseWeek                : int  21 23 38 47 46 46 47 43 27 46 ...\n",
      " $ ReleaseDay                 : int  6 4 3 3 3 3 6 1 3 4 ...\n",
      " $ ReleaseWeekend             : Factor w/ 2 levels \"Weekday\",\"Weekend\": 2 1 1 1 1 1 2 1 1 1 ...\n",
      " $ EndOfMonth                 : Factor w/ 2 levels \"Beginning of month\",..: 2 1 2 2 1 1 2 2 2 1 ...\n",
      " $ TotalSales                 : num  940000 940000 940000 940000 940000 940000 940000 940000 930000 930000 ...\n",
      " $ YearsSinceRelease          : num  10 8 11 13 9 9 10 12 13 9 ...\n",
      " $ log_transformed_total_sales: num  13.8 13.8 13.8 13.8 13.8 ...\n",
      " $ TopPublisher_Count         : Factor w/ 11 levels \"Activision\",\"Bandai Namco\",..: 6 6 6 4 11 11 6 1 6 6 ...\n",
      " $ TopDeveloper_Count         : Factor w/ 11 levels \"Bandai Namco\",..: 8 8 8 8 8 8 8 8 8 8 ...\n",
      " $ TopPublisher_Sum           : Factor w/ 11 levels \"Activision\",\"Bandai Namco\",..: 6 6 6 3 11 11 6 1 6 6 ...\n",
      " $ TopDeveloper_Sum           : Factor w/ 11 levels \"Bandai Namco\",..: 6 6 6 6 9 9 6 6 6 6 ...\n",
      " - attr(*, \"na.action\")= 'omit' Named int [1:461] 2 17 40 201 204 205 282 287 296 302 ...\n",
      "  ..- attr(*, \"names\")= chr [1:461] \"927\" \"942\" \"965\" \"1126\" ...\n"
     ]
    }
   ],
   "source": [
    "str(data)"
   ]
  },
  {
   "cell_type": "markdown",
   "metadata": {},
   "source": [
    "Multi-collinearity assessment"
   ]
  },
  {
   "cell_type": "code",
   "execution_count": null,
   "metadata": {
    "vscode": {
     "languageId": "r"
    }
   },
   "outputs": [
    {
     "data": {
      "text/html": [
       "<table class=\"dataframe\">\n",
       "<caption>A matrix: 6 × 6 of type dbl</caption>\n",
       "<thead>\n",
       "\t<tr><th></th><th scope=col>ReleaseYear</th><th scope=col>ReleaseQuarter</th><th scope=col>ReleaseMonth</th><th scope=col>ReleaseWeek</th><th scope=col>ReleaseDay</th><th scope=col>YearsSinceRelease</th></tr>\n",
       "</thead>\n",
       "<tbody>\n",
       "\t<tr><th scope=row>ReleaseYear</th><td> 1.0000000000</td><td>-0.001559821</td><td>-0.007332259</td><td>-0.01747475</td><td> 0.0004192302</td><td>-1.0000000000</td></tr>\n",
       "\t<tr><th scope=row>ReleaseQuarter</th><td>-0.0015598206</td><td> 1.000000000</td><td> 0.971484852</td><td> 0.96800913</td><td>-0.0105455251</td><td> 0.0015598206</td></tr>\n",
       "\t<tr><th scope=row>ReleaseMonth</th><td>-0.0073322590</td><td> 0.971484852</td><td> 1.000000000</td><td> 0.99641304</td><td>-0.0032445816</td><td> 0.0073322590</td></tr>\n",
       "\t<tr><th scope=row>ReleaseWeek</th><td>-0.0174747471</td><td> 0.968009128</td><td> 0.996413036</td><td> 1.00000000</td><td>-0.0168131239</td><td> 0.0174747471</td></tr>\n",
       "\t<tr><th scope=row>ReleaseDay</th><td> 0.0004192302</td><td>-0.010545525</td><td>-0.003244582</td><td>-0.01681312</td><td> 1.0000000000</td><td>-0.0004192302</td></tr>\n",
       "\t<tr><th scope=row>YearsSinceRelease</th><td>-1.0000000000</td><td> 0.001559821</td><td> 0.007332259</td><td> 0.01747475</td><td>-0.0004192302</td><td> 1.0000000000</td></tr>\n",
       "</tbody>\n",
       "</table>\n"
      ],
      "text/latex": [
       "A matrix: 6 × 6 of type dbl\n",
       "\\begin{tabular}{r|llllll}\n",
       "  & ReleaseYear & ReleaseQuarter & ReleaseMonth & ReleaseWeek & ReleaseDay & YearsSinceRelease\\\\\n",
       "\\hline\n",
       "\tReleaseYear &  1.0000000000 & -0.001559821 & -0.007332259 & -0.01747475 &  0.0004192302 & -1.0000000000\\\\\n",
       "\tReleaseQuarter & -0.0015598206 &  1.000000000 &  0.971484852 &  0.96800913 & -0.0105455251 &  0.0015598206\\\\\n",
       "\tReleaseMonth & -0.0073322590 &  0.971484852 &  1.000000000 &  0.99641304 & -0.0032445816 &  0.0073322590\\\\\n",
       "\tReleaseWeek & -0.0174747471 &  0.968009128 &  0.996413036 &  1.00000000 & -0.0168131239 &  0.0174747471\\\\\n",
       "\tReleaseDay &  0.0004192302 & -0.010545525 & -0.003244582 & -0.01681312 &  1.0000000000 & -0.0004192302\\\\\n",
       "\tYearsSinceRelease & -1.0000000000 &  0.001559821 &  0.007332259 &  0.01747475 & -0.0004192302 &  1.0000000000\\\\\n",
       "\\end{tabular}\n"
      ],
      "text/markdown": [
       "\n",
       "A matrix: 6 × 6 of type dbl\n",
       "\n",
       "| <!--/--> | ReleaseYear | ReleaseQuarter | ReleaseMonth | ReleaseWeek | ReleaseDay | YearsSinceRelease |\n",
       "|---|---|---|---|---|---|---|\n",
       "| ReleaseYear |  1.0000000000 | -0.001559821 | -0.007332259 | -0.01747475 |  0.0004192302 | -1.0000000000 |\n",
       "| ReleaseQuarter | -0.0015598206 |  1.000000000 |  0.971484852 |  0.96800913 | -0.0105455251 |  0.0015598206 |\n",
       "| ReleaseMonth | -0.0073322590 |  0.971484852 |  1.000000000 |  0.99641304 | -0.0032445816 |  0.0073322590 |\n",
       "| ReleaseWeek | -0.0174747471 |  0.968009128 |  0.996413036 |  1.00000000 | -0.0168131239 |  0.0174747471 |\n",
       "| ReleaseDay |  0.0004192302 | -0.010545525 | -0.003244582 | -0.01681312 |  1.0000000000 | -0.0004192302 |\n",
       "| YearsSinceRelease | -1.0000000000 |  0.001559821 |  0.007332259 |  0.01747475 | -0.0004192302 |  1.0000000000 |\n",
       "\n"
      ],
      "text/plain": [
       "                  ReleaseYear   ReleaseQuarter ReleaseMonth ReleaseWeek\n",
       "ReleaseYear        1.0000000000 -0.001559821   -0.007332259 -0.01747475\n",
       "ReleaseQuarter    -0.0015598206  1.000000000    0.971484852  0.96800913\n",
       "ReleaseMonth      -0.0073322590  0.971484852    1.000000000  0.99641304\n",
       "ReleaseWeek       -0.0174747471  0.968009128    0.996413036  1.00000000\n",
       "ReleaseDay         0.0004192302 -0.010545525   -0.003244582 -0.01681312\n",
       "YearsSinceRelease -1.0000000000  0.001559821    0.007332259  0.01747475\n",
       "                  ReleaseDay    YearsSinceRelease\n",
       "ReleaseYear        0.0004192302 -1.0000000000    \n",
       "ReleaseQuarter    -0.0105455251  0.0015598206    \n",
       "ReleaseMonth      -0.0032445816  0.0073322590    \n",
       "ReleaseWeek       -0.0168131239  0.0174747471    \n",
       "ReleaseDay         1.0000000000 -0.0004192302    \n",
       "YearsSinceRelease -0.0004192302  1.0000000000    "
      ]
     },
     "metadata": {},
     "output_type": "display_data"
    }
   ],
   "source": [
    "# Extract the numerical predictor variables from your data\n",
    "numerical_predictors <- data[, c(\"ReleaseYear\", \"ReleaseQuarter\", \"ReleaseMonth\", \"ReleaseWeek\", \"ReleaseDay\", \"YearsSinceRelease\")]\n",
    "\n",
    "# Identify collinear variables\n",
    "cor_matrix <- cor(numerical_predictors)\n",
    "cor_matrix "
   ]
  },
  {
   "cell_type": "code",
   "execution_count": 111,
   "metadata": {
    "vscode": {
     "languageId": "r"
    }
   },
   "outputs": [
    {
     "name": "stderr",
     "output_type": "stream",
     "text": [
      "Warning message in chisq.test(cross_tab):\n",
      "\"Chi-squared approximation may be incorrect\"\n",
      "Warning message in chisq.test(cross_tab):\n",
      "\"Chi-squared approximation may be incorrect\"\n",
      "Warning message in chisq.test(cross_tab):\n",
      "\"Chi-squared approximation may be incorrect\"\n",
      "Warning message in chisq.test(cross_tab):\n",
      "\"Chi-squared approximation may be incorrect\"\n",
      "Warning message in chisq.test(cross_tab):\n",
      "\"Chi-squared approximation may be incorrect\"\n",
      "Warning message in chisq.test(cross_tab):\n",
      "\"Chi-squared approximation may be incorrect\"\n",
      "Warning message in chisq.test(cross_tab):\n",
      "\"Chi-squared approximation may be incorrect\"\n",
      "Warning message in chisq.test(cross_tab):\n",
      "\"Chi-squared approximation may be incorrect\"\n",
      "Warning message in chisq.test(cross_tab):\n",
      "\"Chi-squared approximation may be incorrect\"\n",
      "Warning message in chisq.test(cross_tab):\n",
      "\"Chi-squared approximation may be incorrect\"\n",
      "Warning message in chisq.test(cross_tab):\n",
      "\"Chi-squared approximation may be incorrect\"\n",
      "Warning message in chisq.test(cross_tab):\n",
      "\"Chi-squared approximation may be incorrect\"\n",
      "Warning message in chisq.test(cross_tab):\n",
      "\"Chi-squared approximation may be incorrect\"\n",
      "Warning message in chisq.test(cross_tab):\n",
      "\"Chi-squared approximation may be incorrect\"\n",
      "Warning message in chisq.test(cross_tab):\n",
      "\"Chi-squared approximation may be incorrect\"\n",
      "Warning message in chisq.test(cross_tab):\n",
      "\"Chi-squared approximation may be incorrect\"\n"
     ]
    },
    {
     "name": "stdout",
     "output_type": "stream",
     "text": [
      "                   Console         Genre ReleaseWeekend   EndOfMonth\n",
      "Console                 NA           NaN            NaN          NaN\n",
      "Genre                  NaN            NA   7.414458e-02 6.037509e-03\n",
      "ReleaseWeekend         NaN  7.414458e-02             NA 5.707397e-16\n",
      "EndOfMonth             NaN  6.037509e-03   5.707397e-16           NA\n",
      "TopPublisher_Count     NaN  0.000000e+00   5.429944e-07 1.825562e-04\n",
      "TopDeveloper_Count     NaN  0.000000e+00   7.738754e-03 1.624400e-02\n",
      "TopPublisher_Sum       NaN 3.730944e-317   5.692872e-16 1.003650e-05\n",
      "TopDeveloper_Sum       NaN  0.000000e+00   9.974433e-02 7.146119e-02\n",
      "                   TopPublisher_Count TopDeveloper_Count TopPublisher_Sum\n",
      "Console                           NaN                NaN              NaN\n",
      "Genre                    0.000000e+00        0.000000000    3.730944e-317\n",
      "ReleaseWeekend           5.429944e-07        0.007738754     5.692872e-16\n",
      "EndOfMonth               1.825562e-04        0.016243998     1.003650e-05\n",
      "TopPublisher_Count                 NA        0.000000000     0.000000e+00\n",
      "TopDeveloper_Count       0.000000e+00                 NA     0.000000e+00\n",
      "TopPublisher_Sum         0.000000e+00        0.000000000               NA\n",
      "TopDeveloper_Sum         0.000000e+00        0.000000000     0.000000e+00\n",
      "                   TopDeveloper_Sum\n",
      "Console                         NaN\n",
      "Genre                    0.00000000\n",
      "ReleaseWeekend           0.09974433\n",
      "EndOfMonth               0.07146119\n",
      "TopPublisher_Count       0.00000000\n",
      "TopDeveloper_Count       0.00000000\n",
      "TopPublisher_Sum         0.00000000\n",
      "TopDeveloper_Sum                 NA\n"
     ]
    }
   ],
   "source": [
    "# Select the categorical variables to compare\n",
    "categorical_variables <- data[, c(\"Console\", \"Genre\", \"ReleaseWeekend\", \"EndOfMonth\", \"TopPublisher_Count\", \"TopDeveloper_Count\", \"TopPublisher_Sum\", \"TopDeveloper_Sum\")]\n",
    "\n",
    "# Create an empty matrix to store p-values from chi-square tests\n",
    "p_values_matrix <- matrix(NA, nrow = ncol(categorical_variables), ncol = ncol(categorical_variables))\n",
    "rownames(p_values_matrix) <- colnames(p_values_matrix) <- names(categorical_variables)\n",
    "\n",
    "# Perform chi-square tests for all pairs of categorical variables\n",
    "for (i in 1:(ncol(categorical_variables) - 1)) {\n",
    "  for (j in (i + 1):ncol(categorical_variables)) {\n",
    "    cross_tab <- table(categorical_variables[, i], categorical_variables[, j])\n",
    "    chi_square_test <- chisq.test(cross_tab)\n",
    "    p_values_matrix[i, j] <- p_values_matrix[j, i] <- chi_square_test$p.value\n",
    "  }\n",
    "}\n",
    "\n",
    "# Print or view the p-values matrix\n",
    "print(p_values_matrix)"
   ]
  },
  {
   "cell_type": "markdown",
   "metadata": {},
   "source": [
    "Split Training and Testing Dataset"
   ]
  },
  {
   "cell_type": "code",
   "execution_count": 161,
   "metadata": {
    "vscode": {
     "languageId": "r"
    }
   },
   "outputs": [],
   "source": [
    "########################################################\n",
    "# Split into 80-20 training-testing dataset\n",
    "\n",
    "# Set a random seed for reproducibility\n",
    "set.seed(123)\n",
    "\n",
    "# Split the data into a training set (80%) and a test set (20%)\n",
    "split <- sample.split(data$log_transformed_total_sales, SplitRatio = 0.8)\n",
    "training_data <- subset(data, split == TRUE)\n",
    "test_data <- subset(data, split == FALSE)"
   ]
  },
  {
   "cell_type": "markdown",
   "metadata": {},
   "source": [
    "Build LM model"
   ]
  },
  {
   "cell_type": "code",
   "execution_count": null,
   "metadata": {
    "vscode": {
     "languageId": "r"
    }
   },
   "outputs": [],
   "source": [
    "########################################################\n",
    "# Build LM model for TopN based on frequency count\n",
    "\n",
    "lm_model1 = lm(log_transformed_total_sales ~ . -Rank - Title - Publisher - Developer  - TopPublisher_Count - TopPublisher_Sum - TopDeveloper_Sum - TotalSales - log_transformed_total_sales , , data = training_data)\n",
    "summary(lm_model1)"
   ]
  },
  {
   "cell_type": "code",
   "execution_count": 152,
   "metadata": {
    "vscode": {
     "languageId": "r"
    }
   },
   "outputs": [],
   "source": [
    "########################################################\n",
    "# Build LM model for TopN based on frequency count\n",
    "\n",
    "lm_model2 = lm(log_transformed_total_sales ~ . -Rank \n",
    "            - Title - Publisher - Developer  \n",
    "            - Genre\n",
    "            - TopDeveloper_Count \n",
    "            - TopPublisher_Sum - TopDeveloper_Sum\n",
    "            - ReleaseQuarter - ReleaseMonth - ReleaseWeek - EndOfMonth - YearsSinceRelease\n",
    "            - TotalSales - log_transformed_total_sales , data = training_data)"
   ]
  },
  {
   "cell_type": "code",
   "execution_count": 153,
   "metadata": {
    "vscode": {
     "languageId": "r"
    }
   },
   "outputs": [],
   "source": [
    "########################################################\n",
    "# Build LM model for TopN based on frequency count\n",
    "\n",
    "lm_model3 = lm(log_transformed_total_sales ~ . -Rank \n",
    "            - Title - Publisher - Developer  \n",
    "            - Genre \n",
    "            - TopPublisher_Count \n",
    "            - TopPublisher_Sum - TopDeveloper_Sum \n",
    "            - ReleaseQuarter - ReleaseMonth - ReleaseWeek - EndOfMonth - YearsSinceRelease \n",
    "            - TotalSales - log_transformed_total_sales , data = training_data)"
   ]
  },
  {
   "cell_type": "code",
   "execution_count": 162,
   "metadata": {
    "vscode": {
     "languageId": "r"
    }
   },
   "outputs": [],
   "source": [
    "########################################################\n",
    "# Build LM model for TopN based on sum of Total Sales\n",
    "\n",
    "lm_model4 = lm(log_transformed_total_sales ~ . -Rank \n",
    "            - Title - Publisher - Developer  \n",
    "            - Genre \n",
    "            - TopDeveloper_Sum \n",
    "            - TopPublisher_Count - TopDeveloper_Count \n",
    "            - ReleaseQuarter - ReleaseMonth - ReleaseWeek - EndOfMonth - YearsSinceRelease \n",
    "            - TotalSales - log_transformed_total_sales , data = training_data)"
   ]
  },
  {
   "cell_type": "code",
   "execution_count": 155,
   "metadata": {
    "vscode": {
     "languageId": "r"
    }
   },
   "outputs": [],
   "source": [
    "########################################################\n",
    "# Build LM model for TopN based on sum of Total Sales\n",
    "\n",
    "lm_model5 = lm(log_transformed_total_sales ~ . -Rank \n",
    "            - Title - Publisher - Developer  \n",
    "            - Genre \n",
    "            - TopPublisher_Sum \n",
    "            - TopPublisher_Count - TopDeveloper_Count \n",
    "            - ReleaseQuarter - ReleaseMonth - ReleaseWeek - EndOfMonth - YearsSinceRelease \n",
    "            - TotalSales - log_transformed_total_sales , data = training_data)"
   ]
  },
  {
   "cell_type": "code",
   "execution_count": 156,
   "metadata": {
    "vscode": {
     "languageId": "r"
    }
   },
   "outputs": [],
   "source": [
    "########################################################\n",
    "# Build LM model for TopN based on sum of Total Sales\n",
    "\n",
    "lm_model6 = lm(log_transformed_total_sales ~ . -Rank \n",
    "            - Title - Publisher - Developer \n",
    "            - TopPublisher_Sum - TopDeveloper_Sum \n",
    "            - TopPublisher_Count - TopDeveloper_Count \n",
    "            - ReleaseQuarter - ReleaseMonth - ReleaseWeek - EndOfMonth - YearsSinceRelease \n",
    "            - TotalSales - log_transformed_total_sales , data = training_data)"
   ]
  },
  {
   "cell_type": "code",
   "execution_count": 157,
   "metadata": {
    "vscode": {
     "languageId": "r"
    }
   },
   "outputs": [
    {
     "name": "stdout",
     "output_type": "stream",
     "text": [
      "\n",
      "Regression Models Comparison\n",
      "======================================================================================================================================================================================================\n",
      "                                                                                                               Dependent Variable                                                                     \n",
      "                                           -----------------------------------------------------------------------------------------------------------------------------------------------------------\n",
      "                                                                                                                Response Variable                                                                     \n",
      "                                                      (1)                       (2)                       (3)                       (4)                       (5)                       (6)           \n",
      "------------------------------------------------------------------------------------------------------------------------------------------------------------------------------------------------------\n",
      "ConsoleDS                                          -0.261***                 -0.335***                 -0.362***                 -0.213***                 -0.339***                 -0.285***        \n",
      "                                                    (0.084)                   (0.083)                   (0.085)                   (0.082)                   (0.084)                   (0.084)         \n",
      "                                                                                                                                                                                                      \n",
      "ConsoleNS                                           -0.193*                   -0.150                    -0.183*                   -0.025                    -0.196*                   -0.211*         \n",
      "                                                    (0.109)                   (0.109)                   (0.111)                   (0.107)                   (0.110)                   (0.110)         \n",
      "                                                                                                                                                                                                      \n",
      "ConsolePC                                          0.186***                   0.159**                   0.130*                   0.320***                   0.169**                   0.175**         \n",
      "                                                    (0.070)                   (0.069)                   (0.071)                   (0.069)                   (0.070)                   (0.070)         \n",
      "                                                                                                                                                                                                      \n",
      "ConsolePS2                                         -0.584***                 -0.687***                 -0.616***                 -0.607***                 -0.750***                 -0.661***        \n",
      "                                                    (0.189)                   (0.187)                   (0.192)                   (0.183)                   (0.189)                   (0.190)         \n",
      "                                                                                                                                                                                                      \n",
      "ConsolePS3                                         0.307***                  0.301***                  0.343***                  0.380***                  0.358***                  0.298***         \n",
      "                                                    (0.075)                   (0.075)                   (0.076)                   (0.074)                   (0.076)                   (0.076)         \n",
      "                                                                                                                                                                                                      \n",
      "ConsolePS4                                           0.085                     0.128                     0.092                   0.227***                    0.128                     0.088          \n",
      "                                                    (0.080)                   (0.079)                   (0.081)                   (0.079)                   (0.081)                   (0.081)         \n",
      "                                                                                                                                                                                                      \n",
      "ConsolePSN                                          -0.493                    -0.561                    -0.506                    -0.584                    -0.461                    -0.530          \n",
      "                                                    (0.504)                   (0.504)                   (0.514)                   (0.493)                   (0.510)                   (0.510)         \n",
      "                                                                                                                                                                                                      \n",
      "ConsolePSP                                         -0.414***                 -0.472***                 -0.498***                 -0.381***                 -0.552***                 -0.446***        \n",
      "                                                    (0.088)                   (0.086)                   (0.088)                   (0.085)                   (0.087)                   (0.088)         \n",
      "                                                                                                                                                                                                      \n",
      "ConsolePSV                                         -0.336***                 -0.357***                 -0.368***                 -0.290***                 -0.413***                 -0.367***        \n",
      "                                                    (0.085)                   (0.084)                   (0.086)                   (0.083)                   (0.085)                   (0.085)         \n",
      "                                                                                                                                                                                                      \n",
      "ConsoleVC                                           -0.791                    -0.605                    -0.805                    -1.744                    -0.769                    -1.091          \n",
      "                                                    (1.121)                   (1.120)                   (1.143)                   (1.099)                   (1.134)                   (1.134)         \n",
      "                                                                                                                                                                                                      \n",
      "ConsoleWii                                           0.031                     0.031                    -0.007                    0.161*                     0.033                     0.019          \n",
      "                                                    (0.089)                   (0.087)                   (0.089)                   (0.086)                   (0.089)                   (0.089)         \n",
      "                                                                                                                                                                                                      \n",
      "ConsoleWiiU                                          0.026                    -0.070                     0.106                    -0.097                     0.028                    -0.006          \n",
      "                                                    (0.136)                   (0.135)                   (0.138)                   (0.132)                   (0.137)                   (0.137)         \n",
      "                                                                                                                                                                                                      \n",
      "ConsoleX360                                         0.194**                   0.168**                  0.221***                  0.327***                  0.256***                   0.195**         \n",
      "                                                    (0.082)                   (0.081)                   (0.083)                   (0.080)                   (0.082)                   (0.082)         \n",
      "                                                                                                                                                                                                      \n",
      "ConsoleXBL                                          -0.420                    -0.234                    -0.282                    -0.064                    -0.235                    -0.462          \n",
      "                                                    (0.563)                   (0.563)                   (0.574)                   (0.549)                   (0.569)                   (0.570)         \n",
      "                                                                                                                                                                                                      \n",
      "ConsoleXOne                                          0.115                     0.074                     0.114                   0.232***                    0.131                     0.124          \n",
      "                                                    (0.088)                   (0.087)                   (0.089)                   (0.086)                   (0.088)                   (0.088)         \n",
      "                                                                                                                                                                                                      \n",
      "GenreAction-Adventure                              0.244***                                                                                                                           0.230**         \n",
      "                                                    (0.090)                                                                                                                           (0.091)         \n",
      "                                                                                                                                                                                                      \n",
      "GenreAdventure                                     -0.612***                                                                                                                         -0.680***        \n",
      "                                                    (0.065)                                                                                                                           (0.063)         \n",
      "                                                                                                                                                                                                      \n",
      "GenreFighting                                       -0.021                                                                                                                            -0.014          \n",
      "                                                    (0.090)                                                                                                                           (0.090)         \n",
      "                                                                                                                                                                                                      \n",
      "GenreMisc                                          -0.220***                                                                                                                         -0.205***        \n",
      "                                                    (0.069)                                                                                                                           (0.069)         \n",
      "                                                                                                                                                                                                      \n",
      "GenrePlatform                                        0.076                                                                                                                             0.051          \n",
      "                                                    (0.085)                                                                                                                           (0.085)         \n",
      "                                                                                                                                                                                                      \n",
      "GenrePuzzle                                        -0.440***                                                                                                                         -0.474***        \n",
      "                                                    (0.098)                                                                                                                           (0.099)         \n",
      "                                                                                                                                                                                                      \n",
      "GenreRacing                                        -0.276***                                                                                                                         -0.314***        \n",
      "                                                    (0.080)                                                                                                                           (0.080)         \n",
      "                                                                                                                                                                                                      \n",
      "GenreRole-Playing                                    0.097                                                                                                                             0.069          \n",
      "                                                    (0.063)                                                                                                                           (0.062)         \n",
      "                                                                                                                                                                                                      \n",
      "GenreShooter                                         0.101                                                                                                                             0.063          \n",
      "                                                    (0.074)                                                                                                                           (0.074)         \n",
      "                                                                                                                                                                                                      \n",
      "GenreSimulation                                    -0.295***                                                                                                                         -0.327***        \n",
      "                                                    (0.076)                                                                                                                           (0.076)         \n",
      "                                                                                                                                                                                                      \n",
      "GenreSports                                         -0.090                                                                                                                             0.091          \n",
      "                                                    (0.069)                                                                                                                           (0.064)         \n",
      "                                                                                                                                                                                                      \n",
      "GenreStrategy                                      -0.509***                                                                                                                         -0.566***        \n",
      "                                                    (0.085)                                                                                                                           (0.084)         \n",
      "                                                                                                                                                                                                      \n",
      "ReleaseYear                                        -0.077***                 -0.067***                 -0.075***                 -0.066***                 -0.081***                 -0.081***        \n",
      "                                                    (0.010)                   (0.010)                   (0.010)                   (0.010)                   (0.010)                   (0.010)         \n",
      "                                                                                                                                                                                                      \n",
      "ReleaseQuarter                                      -0.019                                                                                                                                            \n",
      "                                                    (0.060)                                                                                                                                           \n",
      "                                                                                                                                                                                                      \n",
      "ReleaseMonth                                        -0.013                                                                                                                                            \n",
      "                                                    (0.108)                                                                                                                                           \n",
      "                                                                                                                                                                                                      \n",
      "ReleaseWeek                                          0.006                                                                                                                                            \n",
      "                                                    (0.024)                                                                                                                                           \n",
      "                                                                                                                                                                                                      \n",
      "ReleaseDay                                         -0.146***                 -0.164***                 -0.161***                 -0.157***                 -0.166***                 -0.160***        \n",
      "                                                    (0.016)                   (0.016)                   (0.016)                   (0.015)                   (0.016)                   (0.016)         \n",
      "                                                                                                                                                                                                      \n",
      "ReleaseWeekendWeekend                              0.449***                  0.518***                  0.487***                  0.443***                  0.515***                  0.497***         \n",
      "                                                    (0.065)                   (0.063)                   (0.065)                   (0.062)                   (0.064)                   (0.064)         \n",
      "                                                                                                                                                                                                      \n",
      "EndOfMonthEnd of month                              -0.103*                                                                                                                                           \n",
      "                                                    (0.059)                                                                                                                                           \n",
      "                                                                                                                                                                                                      \n",
      "YearsSinceRelease                                                                                                                                                                                     \n",
      "                                                                                                                                                                                                      \n",
      "                                                                                                                                                                                                      \n",
      "TopDeveloper_CountCapcom                             0.071                                               0.160                                                                                        \n",
      "                                                    (0.143)                                             (0.145)                                                                                       \n",
      "                                                                                                                                                                                                      \n",
      "TopDeveloper_CountElectronic Arts                  1.015***                                            1.045***                                                                                       \n",
      "                                                    (0.150)                                             (0.145)                                                                                       \n",
      "                                                                                                                                                                                                      \n",
      "TopDeveloper_CountIdea Factory                     -0.599***                                           -0.959***                                                                                      \n",
      "                                                    (0.173)                                             (0.173)                                                                                       \n",
      "                                                                                                                                                                                                      \n",
      "TopDeveloper_CountKoei                             -0.554***                                           -0.709***                                                                                      \n",
      "                                                    (0.196)                                             (0.197)                                                                                       \n",
      "                                                                                                                                                                                                      \n",
      "TopDeveloper_CountKonami                            0.337**                                             0.347**                                                                                       \n",
      "                                                    (0.145)                                             (0.145)                                                                                       \n",
      "                                                                                                                                                                                                      \n",
      "TopDeveloper_CountOmega Force                        0.191                                              0.267*                                                                                        \n",
      "                                                    (0.152)                                             (0.152)                                                                                       \n",
      "                                                                                                                                                                                                      \n",
      "TopDeveloper_CountOthers                            -0.043                                              -0.045                                                                                        \n",
      "                                                    (0.086)                                             (0.087)                                                                                       \n",
      "                                                                                                                                                                                                      \n",
      "TopDeveloper_CountSega                             0.569***                                            0.591***                                                                                       \n",
      "                                                    (0.175)                                             (0.178)                                                                                       \n",
      "                                                                                                                                                                                                      \n",
      "TopDeveloper_CountTHQ                                0.248                                               0.285                                                                                        \n",
      "                                                    (0.195)                                             (0.199)                                                                                       \n",
      "                                                                                                                                                                                                      \n",
      "TopDeveloper_CountUbisoft                           0.235*                                              0.239*                                                                                        \n",
      "                                                    (0.128)                                             (0.130)                                                                                       \n",
      "                                                                                                                                                                                                      \n",
      "TopPublisher_CountBandai Namco                                               -0.231**                                                                                                                 \n",
      "                                                                              (0.097)                                                                                                                 \n",
      "                                                                                                                                                                                                      \n",
      "TopPublisher_CountCapcom                                                      -0.215*                                                                                                                 \n",
      "                                                                              (0.122)                                                                                                                 \n",
      "                                                                                                                                                                                                      \n",
      "TopPublisher_CountElectronic Arts                                            0.512***                                                                                                                 \n",
      "                                                                              (0.107)                                                                                                                 \n",
      "                                                                                                                                                                                                      \n",
      "TopPublisher_CountKonami                                                      -0.072                                                                                                                  \n",
      "                                                                              (0.113)                                                                                                                 \n",
      "                                                                                                                                                                                                      \n",
      "TopPublisher_CountOthers                                                     -0.607***                                                                                                                \n",
      "                                                                              (0.079)                                                                                                                 \n",
      "                                                                                                                                                                                                      \n",
      "TopPublisher_CountSega                                                         0.085                                                                                                                  \n",
      "                                                                              (0.123)                                                                                                                 \n",
      "                                                                                                                                                                                                      \n",
      "TopPublisher_CountTecmo                                                      -0.552***                                                                                                                \n",
      "                                                                              (0.123)                                                                                                                 \n",
      "                                                                                                                                                                                                      \n",
      "TopPublisher_CountTHQ                                                        -0.303**                                                                                                                 \n",
      "                                                                              (0.119)                                                                                                                 \n",
      "                                                                                                                                                                                                      \n",
      "TopPublisher_CountUbisoft                                                     -0.205*                                                                                                                 \n",
      "                                                                              (0.107)                                                                                                                 \n",
      "                                                                                                                                                                                                      \n",
      "TopPublisher_CountWarner Bros. Interactive                                   0.395***                                                                                                                 \n",
      "                                                                              (0.119)                                                                                                                 \n",
      "                                                                                                                                                                                                      \n",
      "TopPublisher_SumBandai Namco                                                                                                     -0.211**                                                             \n",
      "                                                                                                                                  (0.095)                                                             \n",
      "                                                                                                                                                                                                      \n",
      "TopPublisher_SumElectronic Arts                                                                                                  0.495***                                                             \n",
      "                                                                                                                                  (0.105)                                                             \n",
      "                                                                                                                                                                                                      \n",
      "TopPublisher_SumKonami                                                                                                            -0.074                                                              \n",
      "                                                                                                                                  (0.110)                                                             \n",
      "                                                                                                                                                                                                      \n",
      "TopPublisher_SumNintendo                                                                                                         0.640***                                                             \n",
      "                                                                                                                                  (0.144)                                                             \n",
      "                                                                                                                                                                                                      \n",
      "TopPublisher_SumOthers                                                                                                           -0.678***                                                            \n",
      "                                                                                                                                  (0.076)                                                             \n",
      "                                                                                                                                                                                                      \n",
      "TopPublisher_SumSega                                                                                                               0.089                                                              \n",
      "                                                                                                                                  (0.120)                                                             \n",
      "                                                                                                                                                                                                      \n",
      "TopPublisher_SumSony                                                                                                               0.136                                                              \n",
      "                                                                                                                                  (0.123)                                                             \n",
      "                                                                                                                                                                                                      \n",
      "TopPublisher_SumSquare Enix                                                                                                      0.447***                                                             \n",
      "                                                                                                                                  (0.131)                                                             \n",
      "                                                                                                                                                                                                      \n",
      "TopPublisher_SumUbisoft                                                                                                          -0.212**                                                             \n",
      "                                                                                                                                  (0.104)                                                             \n",
      "                                                                                                                                                                                                      \n",
      "TopPublisher_SumWarner Bros. Interactive                                                                                         0.401***                                                             \n",
      "                                                                                                                                  (0.116)                                                             \n",
      "                                                                                                                                                                                                      \n",
      "TopDeveloper_SumCapcom                                                                                                                                       0.146                                    \n",
      "                                                                                                                                                            (0.144)                                   \n",
      "                                                                                                                                                                                                      \n",
      "TopDeveloper_SumElectronic Arts                                                                                                                            1.022***                                   \n",
      "                                                                                                                                                            (0.144)                                   \n",
      "                                                                                                                                                                                                      \n",
      "TopDeveloper_SumKonami                                                                                                                                      0.338**                                   \n",
      "                                                                                                                                                            (0.144)                                   \n",
      "                                                                                                                                                                                                      \n",
      "TopDeveloper_SumOmega Force                                                                                                                                 0.271*                                    \n",
      "                                                                                                                                                            (0.151)                                   \n",
      "                                                                                                                                                                                                      \n",
      "TopDeveloper_SumOthers                                                                                                                                      -0.112                                    \n",
      "                                                                                                                                                            (0.086)                                   \n",
      "                                                                                                                                                                                                      \n",
      "TopDeveloper_SumSega                                                                                                                                       0.590***                                   \n",
      "                                                                                                                                                            (0.176)                                   \n",
      "                                                                                                                                                                                                      \n",
      "TopDeveloper_SumSquare                                                                                                                                     1.013***                                   \n",
      "                                                                                                                                                            (0.204)                                   \n",
      "                                                                                                                                                                                                      \n",
      "TopDeveloper_SumTraveller's Tales                                                                                                                          1.377***                                   \n",
      "                                                                                                                                                            (0.200)                                   \n",
      "                                                                                                                                                                                                      \n",
      "TopDeveloper_SumTT Fusion                                                                                                                                  1.127***                                   \n",
      "                                                                                                                                                            (0.223)                                   \n",
      "                                                                                                                                                                                                      \n",
      "TopDeveloper_SumUbisoft                                                                                                                                      0.207                                    \n",
      "                                                                                                                                                            (0.129)                                   \n",
      "                                                                                                                                                                                                      \n",
      "Constant                                          167.581***                146.822***                162.309***                145.082***                175.209***                175.636***        \n",
      "                                                   (20.007)                  (19.679)                  (20.032)                  (19.306)                  (19.867)                  (19.924)         \n",
      "                                                                                                                                                                                                      \n",
      "------------------------------------------------------------------------------------------------------------------------------------------------------------------------------------------------------\n",
      "Observations                                         4,857                     4,857                     4,857                     4,857                     4,857                     4,857          \n",
      "R2                                                   0.175                     0.171                     0.136                     0.210                     0.151                     0.151          \n",
      "Adjusted R2                                          0.167                     0.166                     0.131                     0.205                     0.146                     0.146          \n",
      "Residual Std. Error                            1.117 (df = 4812)         1.118 (df = 4828)         1.141 (df = 4828)         1.091 (df = 4828)         1.131 (df = 4828)         1.131 (df = 4826)    \n",
      "F Statistic                                23.203*** (df = 44; 4812) 35.563*** (df = 28; 4828) 27.138*** (df = 28; 4828) 45.808*** (df = 28; 4828) 30.597*** (df = 28; 4828) 28.717*** (df = 30; 4826)\n",
      "======================================================================================================================================================================================================\n",
      "Note:                                                                                                                                                                      *p<0.1; **p<0.05; ***p<0.01\n"
     ]
    }
   ],
   "source": [
    "########################################################\n",
    "# View using StarGazer\n",
    "\n",
    "# Create a list of your linear regression models\n",
    "lm_models <- list(AllDateDimensions = lm_model1, \n",
    "                Top10Publishers_Count = lm_model2, \n",
    "                Top10Developers_Count = lm_model3, \n",
    "                Top10Publishers_TotalSales  = lm_model4, \n",
    "                Top10Developers_TotalSales = lm_model5, \n",
    "                Genre = lm_model6)\n",
    "\n",
    "# Generate a regression table using stargazer\n",
    "stargazer(lm_models, \n",
    "          title = \"Regression Models Comparison\",\n",
    "          dep.var.caption = \"Dependent Variable\",\n",
    "          dep.var.labels = \"Response Variable\",\n",
    "          align = TRUE,\n",
    "          type = \"text\",\n",
    "          out = \"summary_table.txt\")"
   ]
  },
  {
   "cell_type": "markdown",
   "metadata": {},
   "source": [
    "LM Actual vs Prediction Plot"
   ]
  },
  {
   "cell_type": "code",
   "execution_count": 171,
   "metadata": {
    "vscode": {
     "languageId": "r"
    }
   },
   "outputs": [
    {
     "data": {
      "image/png": "[encoded data removed]",
      "text/plain": [
       "Plot with title \"Predicted vs. Actual TotalSales (Training Set)\""
      ]
     },
     "metadata": {
      "image/png": {
       "height": 420,
       "width": 420
      }
     },
     "output_type": "display_data"
    }
   ],
   "source": [
    "# Model 4 has highest R2 and adjusted R2 score among all the models\n",
    "# Make predictions using the lm model\n",
    "predicted_values_train <- predict(lm_model4, training_data)\n",
    "\n",
    "# Convert log-transformed values back to the original scale\n",
    "actual_values_train <- training_data$TotalSales\n",
    "predicted_values_train_exp <- exp(predicted_values_train)\n",
    "\n",
    "# Create a scatterplot to compare predicted vs actual TotalSales on the training set\n",
    "plot(seq_along(actual_values_train), actual_values_train,\n",
    "     main = \"Predicted vs. Actual TotalSales (Training Set)\",\n",
    "     xlab = \"Data Index\", ylab = \"Actual TotalSales\",\n",
    "     col = \"blue\", pch = 16)\n",
    "\n",
    "# Add the predicted values on the training set\n",
    "points(seq_along(predicted_values_train_exp), predicted_values_train_exp, col = \"red\", pch = 16)\n",
    "\n",
    "# Add the fitted line from the lm model\n",
    "legend(\"topright\", legend = c(\"Actual\", \"Predicted\"), col = c(\"blue\", \"red\"), pch = 16)\n"
   ]
  },
  {
   "cell_type": "code",
   "execution_count": 173,
   "metadata": {
    "vscode": {
     "languageId": "r"
    }
   },
   "outputs": [
    {
     "ename": "ERROR",
     "evalue": "Error in model.frame.default(Terms, newdata, na.action = na.action, xlev = object$xlevels): factor Title has new levels 1... 2... 3... KICK IT! (Drop That Beat Like an Ugly Baby), 10 Minute Solution, 100 Classic Games, 12-Sai. Torokeru Puzzle Futari no Harmony, 12 Labours of Hercules III: Girl Power, 18 Wheels of Steel: Extreme Trucker 2, 20XX, 4 Play Collection - Dark Mysteries, 4 Play Collection: Treasure Hunters, 7 Wonders: Treasures of Seven, 8-Bit Armies, A Game of Thrones: Genesis, ABBA: You Can Dance, Ace Attorney Investigations 2, Act of Aggression, After Hours Athletes, Again, Agatha Christie: The ABC Murders, Agents of Mayhem, Akin, Alien Breed 2: Assault, Alien Breed: Impact, All Kamen Rider: Rider Generation 2, All Kamen Rider: Rider Revolution, Alter World, Angry Birds: Rio, Anima - Gate of Memories, Anno 2205, Apollo Justice: Ace Attorney, Aqua Moto Racing Utopia, Arcana Heart 3, ArmaGallant: Decks of Destiny, Art Academy: Home Studio, Ashes Cricket, Asphalt 3D, Assassin's Creed Odyssey, Assassin's Creed Syndicate, Assault Suit Leynos, Astro Bot Rescue Mission, Attack on Titan: Escape from Certain Death, Attempt[42], ATV Quad Kings, Bad Apple Wars, Bass Pro Shops: The Strike - Championship Edition, Batman: Arkham Origins, Battle Garegga Rev.2016, Battle Princess of Arcadias, Battle Ranch: Pigs vs Plants, Battlefield: Bad Company 2, Battleplan: American Civil War, Battlezone, Beat City, Bella Sara 2 - The Magic of Drasilmare, Ben 10 Triple Pack, Beyblade Burst: God, Beyblade: Metal Fusion, Beyblade: Metal Masters, Binary Star, bit Dungeon II, Bleach: Heat the Soul 7, Bleed, Bloop Reloaded, Bomber Crew, Borderlands: The Handsome Collection, BoxBoy! Hakobume Box, Bravely Second: End Layer, Bravo Team, Brawlout, Bridge Project, Bunmei Haruka: Aoiza Ibunroku, Busou Shinki: Battle Masters, Busou Shinki: Battle Masters Mk. 2, Buzz! The Ultimate Music Quiz, Cake-ya San Monogatari: Ooishii Sweets o Tsukurou!, Calling, Cardfight!! Vanguard: Lock On Victory!!, Carnage Heart EXA, Casino Chaos With Las Vegas Players Collection, Chaos Rings III, Cities: Skylines Snowfall, City Climber, Clash of the Titans: The Videogame, Clustertruck, Code Name: S.T.E.A.M., Codename: Panzers Complete Collection, Combat of Giants: Dinosaurs 3D, Cook, Serve, Delicious!, Corpse Party: Book of Shadows, Cosmos Chaos!, Crayon Shin-chan: Arashi o Yobu Kasukabe Eiga Stars!, Crime Lab: Body of Evidence, Criminal Girls, Criminal Girls 2: Party Favors, Cross † Channel, Cross Channel: In Memory of All People, Crush3D, Culdcept Revolt, DaGeDar, Daito Giken Koushiki Pachi-Slot Simulator: Ossu! Misao + Maguro Densetsu Portable, Damage Inc.: Pacific Squadron WWII, Danball Senki Boost, Dance Dance Revolution: Hottest Party 5, Dance on Broadway, Danganronpa 1-2 Reload, Dark Fall 3: Lost Souls, Dark Rose Valkyrie, DarkEnd, Darkness Assault, Dead or Alive Xtreme 3: Fortune, Deadly 30, Deca Sports 3, DEFIANCE, Deponia Doomsday, Depth Hunter 2: Deep Dive, Desert Kingdom, Detective Conan: Marionette Symphony, Detective Pikachu, Devil Daggers, Devil May Cry 4 Special Edition, Dexodonex, Diabolik Lovers: More Blood, Disciples III: Renaissance, Disciples III: Resurrection, Discover Europe, Disgaea 4: A Promise Unforgotten, Disgaea PC, Disney Channel: All Star Party, Disney Epic Mickey: The Power of Illusion, Disney Fairies: Tinker Bell and the Great Fairy Rescue, Disneyland Adventures, Dissidia Final Fantasy NT, Doraemon: Nobita and the Island of Miracles, Doraemon: Shin Nobita no Daimakyou Peko to 5-nin no Tankenta, Downtown Nekketsu Koushinkyoku: Soreyuke Daiundoukai All-Star Special, Dragon Ball Heroes: Ultimate Mission 2, Dragon Ball: Origins 2, Dragon Ball: Xenoverse 2, Dragon Quest Monsters Joker 3, Dragon Quest Monsters: Terry's Wonderland 3D, Dragon Quest X: 5000-nen no Harukanaru Kokyou e Online, Drawful 2, Dreamcast Collection, Dungeon Souls, Dungeon Travelers 2-2: The Maiden Who Fell into Darkness and the Book of Beginnings, Dungeons & Dragons Anthology: The Master Collection, Dungeons & Dragons: Daggerdale, Dungeons 2, Dynasty Warriors 9, Earth Defense Force 5, Ebikore Photo Kano Kiss, Elminage Gothic: Ulm Zakir to Yami no Gishiki, Emily the Strange: Strangerous, Escape the Emerald Star, Etrian Odyssey: Millennium Girl, Everybody's Golf, Extinction, Fabled Legends: The Dark Piper, Fairyland: Fairy Power, Family Party: 30 Great Games Winter Fun, Fantastic Football Fan Party, Fantastic Pets, Far Cry 3, Farming Simulator 15 Expansion Pack, Fate/kaleid liner Prisma Illya, Fernbus Simulator, FIFA 16, FIFA Soccer, Final Fantasy VI, Final Fantasy XV: Windows Edition, Fire Emblem: Shin Monshou no Nazo Hikari to Kage no Eiyuu, Fire Pro Wrestling World, Fishdom, Football Manager Handheld 2012, Fragile Dreams: Farewell Ruins of the Moon, Freddi Fish: ABC under the sea, Fushigi no Dungeon: Fuurai no Shiren 5 - Fortune Tower to Unmei no Dice, Future Card Buddyfight: Tanjou! Oretachi no Saikyou Body!, Future Card Buddyfight: Yuujou no Bakunetsu Fight!, G1 Grand Prix, GachiTora! Abarenbou Kyoushi in High School, Gaist Crusher, Gakuen K: Wonderful School Days, Galactic Civilizations III, Game Center CX: 3-Choume no Arino, Games Around the World, Giana Sisters: Twisted Dreams, Girls RPG: Cinderellife, Girls und Panzer: Dream Tank Match, God Eater Off Shot: Soma Shikkuzaru-hen Twin Pack & Animation Vol.4, God of War Saga, Godzilla (2014), Godzilla (2015), GoldenEye 007, Grand Pigeon's Duty, Grand Slam Tennis 2, Great Battle Full Blast, Greed Corp, GRIP: Combat Racing, Gundam Versus, Gunslingers, Hakoniwa Company Works, Hakuouki: Yuugi Roku, Halo: Spartan Assault, HappinessCharge PreCure! Kawarun Collection, Harvest Moon: The Lost Valley, Hatred, Hatsune Miku: Project Diva Extend, Hatsune Miku: Project Mirai DX, Heart no Kuni no Alice Anniversary Ver.: Wonderful Wonder World, Heaven Forest NIGHTS, Her Story, Hero Bank 2, Hexyz Force, Hidden Agenda, Hidden Mysteries: Buckingham Palace, Hidden Mysteries: Salem Secrets - Witch Trials of 1692, Higurashi no Naku Koro ni Kizuna: Dai-Yon-Kan - Kizuna, Himoutou! Umaru-Chan: Himoutou Ikusei Keikaku, Hitman, Hole in the Wall: Deluxe Edition, Hollywood Squares, Hometown Story, Homeworld Remastered Collection, Horrible Histories: Ruthless Romans, Hulk Hogan's Main Event, Hunter x Hunter: Wonder Adventure, Hyakumanton no Bara Bara, Hyperdimension Idol Neptunia PP, I Love Horses: Rider's Paradise, I Spy: Universe, Ikaruga, Ikki Tousen: Xross Impact, Imagine Animal Doctor Care Center, Imagine: Fashion Designer, Inazuma Eleven 3: Sekai e no Chousen!! The Ogre, Injustice: Gods Among Us, Invizimals: The Lost Tribes, Iron Sky: Invasion, Ishin Renka: Ryouma Gaiden, Iwaihime: Matsuri, Iza, Shutsujin! Koisen, J-League Pro Soccer Club o Tsukurou! 7 Euro Plus, Jam With the Band, Jikkyou Powerful Pro Baseball Heroes, Joker no Kuni no Alice, Journey, Just Dance 2017, Just Sing! Vol. 2, Kaitou Tenshi Twin Angel: Toki to Sekai no Meikyuu, Kamen Rider Travelers Record, Kamiko, Karaoke Revolution Glee: Volume 3, Katekyoo Hitman Reborn! DS Fate of Heat III - Yuki no Shugosha Raishuu!, Ken to Mahou to Gakuen Mono. 3D, Ketsui Deathtiny: Kizuna Jigoku Tachi, Kid Adventures: Sky Captain, Kidou Senshi Gundam: Shin Gihren no Yabou, Kimi ni Todoke: Tsutaeru Kimochi, King Arthur's Gold, King Arthur II: The Role-playing Wargame, Kingdom Hearts: Birth by Sleep - Final Mix, Know How 2, KORG DS-10 Synthesizer Plus, Kouekizaidan Houjin Nihon Kanji Nouryoku Kentei Kyoukai: Kanken Training 2, Kurenai no Homura: Sanada Ninpou Chou, Kuroko's Basketball: Ties to Future, Legasista, Legend of Grimrock, Legends of Oz: Dorothy's Return, Lego City Undercover: The Chase Begins, LEGO Ninjago: Shadow of Ronin, Let's Cheer, Let's Play Flight Attendant, Lips: Party Classics, Little Battlers eXperience: Wars, LittleBigPlanet Karting, Living Legends: Frozen Beauty, Lord of Magna: Maiden Heaven, Love of Renai Koutei of Love!, Lovely Lisa and Friends, Loving Life with Hello Kitty & Friends, Madden NFL 25, Magicka: Vietnam, Mahouka Koukou no Rettousei: Out of Order, Majesty 2 Collection, Marginal #4: Idol of Supernova, Mass Effect 2, Mathews Bowhunting, Mechanic Escape, Medabots Dual: Kabuto / Kuwagata, Medal of Honor, Medalot 7, Medarot 9: Kabuto Ver. / Kuwagata Ver., Megamind: Mega \n",
     "output_type": "error",
     "traceback": [
      "Error in model.frame.default(Terms, newdata, na.action = na.action, xlev = object$xlevels): factor Title has new levels 1... 2... 3... KICK IT! (Drop That Beat Like an Ugly Baby), 10 Minute Solution, 100 Classic Games, 12-Sai. Torokeru Puzzle Futari no Harmony, 12 Labours of Hercules III: Girl Power, 18 Wheels of Steel: Extreme Trucker 2, 20XX, 4 Play Collection - Dark Mysteries, 4 Play Collection: Treasure Hunters, 7 Wonders: Treasures of Seven, 8-Bit Armies, A Game of Thrones: Genesis, ABBA: You Can Dance, Ace Attorney Investigations 2, Act of Aggression, After Hours Athletes, Again, Agatha Christie: The ABC Murders, Agents of Mayhem, Akin, Alien Breed 2: Assault, Alien Breed: Impact, All Kamen Rider: Rider Generation 2, All Kamen Rider: Rider Revolution, Alter World, Angry Birds: Rio, Anima - Gate of Memories, Anno 2205, Apollo Justice: Ace Attorney, Aqua Moto Racing Utopia, Arcana Heart 3, ArmaGallant: Decks of Destiny, Art Academy: Home Studio, Ashes Cricket, Asphalt 3D, Assassin's Creed Odyssey, Assassin's Creed Syndicate, Assault Suit Leynos, Astro Bot Rescue Mission, Attack on Titan: Escape from Certain Death, Attempt[42], ATV Quad Kings, Bad Apple Wars, Bass Pro Shops: The Strike - Championship Edition, Batman: Arkham Origins, Battle Garegga Rev.2016, Battle Princess of Arcadias, Battle Ranch: Pigs vs Plants, Battlefield: Bad Company 2, Battleplan: American Civil War, Battlezone, Beat City, Bella Sara 2 - The Magic of Drasilmare, Ben 10 Triple Pack, Beyblade Burst: God, Beyblade: Metal Fusion, Beyblade: Metal Masters, Binary Star, bit Dungeon II, Bleach: Heat the Soul 7, Bleed, Bloop Reloaded, Bomber Crew, Borderlands: The Handsome Collection, BoxBoy! Hakobume Box, Bravely Second: End Layer, Bravo Team, Brawlout, Bridge Project, Bunmei Haruka: Aoiza Ibunroku, Busou Shinki: Battle Masters, Busou Shinki: Battle Masters Mk. 2, Buzz! The Ultimate Music Quiz, Cake-ya San Monogatari: Ooishii Sweets o Tsukurou!, Calling, Cardfight!! Vanguard: Lock On Victory!!, Carnage Heart EXA, Casino Chaos With Las Vegas Players Collection, Chaos Rings III, Cities: Skylines Snowfall, City Climber, Clash of the Titans: The Videogame, Clustertruck, Code Name: S.T.E.A.M., Codename: Panzers Complete Collection, Combat of Giants: Dinosaurs 3D, Cook, Serve, Delicious!, Corpse Party: Book of Shadows, Cosmos Chaos!, Crayon Shin-chan: Arashi o Yobu Kasukabe Eiga Stars!, Crime Lab: Body of Evidence, Criminal Girls, Criminal Girls 2: Party Favors, Cross † Channel, Cross Channel: In Memory of All People, Crush3D, Culdcept Revolt, DaGeDar, Daito Giken Koushiki Pachi-Slot Simulator: Ossu! Misao + Maguro Densetsu Portable, Damage Inc.: Pacific Squadron WWII, Danball Senki Boost, Dance Dance Revolution: Hottest Party 5, Dance on Broadway, Danganronpa 1-2 Reload, Dark Fall 3: Lost Souls, Dark Rose Valkyrie, DarkEnd, Darkness Assault, Dead or Alive Xtreme 3: Fortune, Deadly 30, Deca Sports 3, DEFIANCE, Deponia Doomsday, Depth Hunter 2: Deep Dive, Desert Kingdom, Detective Conan: Marionette Symphony, Detective Pikachu, Devil Daggers, Devil May Cry 4 Special Edition, Dexodonex, Diabolik Lovers: More Blood, Disciples III: Renaissance, Disciples III: Resurrection, Discover Europe, Disgaea 4: A Promise Unforgotten, Disgaea PC, Disney Channel: All Star Party, Disney Epic Mickey: The Power of Illusion, Disney Fairies: Tinker Bell and the Great Fairy Rescue, Disneyland Adventures, Dissidia Final Fantasy NT, Doraemon: Nobita and the Island of Miracles, Doraemon: Shin Nobita no Daimakyou Peko to 5-nin no Tankenta, Downtown Nekketsu Koushinkyoku: Soreyuke Daiundoukai All-Star Special, Dragon Ball Heroes: Ultimate Mission 2, Dragon Ball: Origins 2, Dragon Ball: Xenoverse 2, Dragon Quest Monsters Joker 3, Dragon Quest Monsters: Terry's Wonderland 3D, Dragon Quest X: 5000-nen no Harukanaru Kokyou e Online, Drawful 2, Dreamcast Collection, Dungeon Souls, Dungeon Travelers 2-2: The Maiden Who Fell into Darkness and the Book of Beginnings, Dungeons & Dragons Anthology: The Master Collection, Dungeons & Dragons: Daggerdale, Dungeons 2, Dynasty Warriors 9, Earth Defense Force 5, Ebikore Photo Kano Kiss, Elminage Gothic: Ulm Zakir to Yami no Gishiki, Emily the Strange: Strangerous, Escape the Emerald Star, Etrian Odyssey: Millennium Girl, Everybody's Golf, Extinction, Fabled Legends: The Dark Piper, Fairyland: Fairy Power, Family Party: 30 Great Games Winter Fun, Fantastic Football Fan Party, Fantastic Pets, Far Cry 3, Farming Simulator 15 Expansion Pack, Fate/kaleid liner Prisma Illya, Fernbus Simulator, FIFA 16, FIFA Soccer, Final Fantasy VI, Final Fantasy XV: Windows Edition, Fire Emblem: Shin Monshou no Nazo Hikari to Kage no Eiyuu, Fire Pro Wrestling World, Fishdom, Football Manager Handheld 2012, Fragile Dreams: Farewell Ruins of the Moon, Freddi Fish: ABC under the sea, Fushigi no Dungeon: Fuurai no Shiren 5 - Fortune Tower to Unmei no Dice, Future Card Buddyfight: Tanjou! Oretachi no Saikyou Body!, Future Card Buddyfight: Yuujou no Bakunetsu Fight!, G1 Grand Prix, GachiTora! Abarenbou Kyoushi in High School, Gaist Crusher, Gakuen K: Wonderful School Days, Galactic Civilizations III, Game Center CX: 3-Choume no Arino, Games Around the World, Giana Sisters: Twisted Dreams, Girls RPG: Cinderellife, Girls und Panzer: Dream Tank Match, God Eater Off Shot: Soma Shikkuzaru-hen Twin Pack & Animation Vol.4, God of War Saga, Godzilla (2014), Godzilla (2015), GoldenEye 007, Grand Pigeon's Duty, Grand Slam Tennis 2, Great Battle Full Blast, Greed Corp, GRIP: Combat Racing, Gundam Versus, Gunslingers, Hakoniwa Company Works, Hakuouki: Yuugi Roku, Halo: Spartan Assault, HappinessCharge PreCure! Kawarun Collection, Harvest Moon: The Lost Valley, Hatred, Hatsune Miku: Project Diva Extend, Hatsune Miku: Project Mirai DX, Heart no Kuni no Alice Anniversary Ver.: Wonderful Wonder World, Heaven Forest NIGHTS, Her Story, Hero Bank 2, Hexyz Force, Hidden Agenda, Hidden Mysteries: Buckingham Palace, Hidden Mysteries: Salem Secrets - Witch Trials of 1692, Higurashi no Naku Koro ni Kizuna: Dai-Yon-Kan - Kizuna, Himoutou! Umaru-Chan: Himoutou Ikusei Keikaku, Hitman, Hole in the Wall: Deluxe Edition, Hollywood Squares, Hometown Story, Homeworld Remastered Collection, Horrible Histories: Ruthless Romans, Hulk Hogan's Main Event, Hunter x Hunter: Wonder Adventure, Hyakumanton no Bara Bara, Hyperdimension Idol Neptunia PP, I Love Horses: Rider's Paradise, I Spy: Universe, Ikaruga, Ikki Tousen: Xross Impact, Imagine Animal Doctor Care Center, Imagine: Fashion Designer, Inazuma Eleven 3: Sekai e no Chousen!! The Ogre, Injustice: Gods Among Us, Invizimals: The Lost Tribes, Iron Sky: Invasion, Ishin Renka: Ryouma Gaiden, Iwaihime: Matsuri, Iza, Shutsujin! Koisen, J-League Pro Soccer Club o Tsukurou! 7 Euro Plus, Jam With the Band, Jikkyou Powerful Pro Baseball Heroes, Joker no Kuni no Alice, Journey, Just Dance 2017, Just Sing! Vol. 2, Kaitou Tenshi Twin Angel: Toki to Sekai no Meikyuu, Kamen Rider Travelers Record, Kamiko, Karaoke Revolution Glee: Volume 3, Katekyoo Hitman Reborn! DS Fate of Heat III - Yuki no Shugosha Raishuu!, Ken to Mahou to Gakuen Mono. 3D, Ketsui Deathtiny: Kizuna Jigoku Tachi, Kid Adventures: Sky Captain, Kidou Senshi Gundam: Shin Gihren no Yabou, Kimi ni Todoke: Tsutaeru Kimochi, King Arthur's Gold, King Arthur II: The Role-playing Wargame, Kingdom Hearts: Birth by Sleep - Final Mix, Know How 2, KORG DS-10 Synthesizer Plus, Kouekizaidan Houjin Nihon Kanji Nouryoku Kentei Kyoukai: Kanken Training 2, Kurenai no Homura: Sanada Ninpou Chou, Kuroko's Basketball: Ties to Future, Legasista, Legend of Grimrock, Legends of Oz: Dorothy's Return, Lego City Undercover: The Chase Begins, LEGO Ninjago: Shadow of Ronin, Let's Cheer, Let's Play Flight Attendant, Lips: Party Classics, Little Battlers eXperience: Wars, LittleBigPlanet Karting, Living Legends: Frozen Beauty, Lord of Magna: Maiden Heaven, Love of Renai Koutei of Love!, Lovely Lisa and Friends, Loving Life with Hello Kitty & Friends, Madden NFL 25, Magicka: Vietnam, Mahouka Koukou no Rettousei: Out of Order, Majesty 2 Collection, Marginal #4: Idol of Supernova, Mass Effect 2, Mathews Bowhunting, Mechanic Escape, Medabots Dual: Kabuto / Kuwagata, Medal of Honor, Medalot 7, Medarot 9: Kabuto Ver. / Kuwagata Ver., Megamind: Mega \nTraceback:\n",
      "1. predict(lm_model4, test_data)",
      "2. predict.lm(lm_model4, test_data)",
      "3. model.frame(Terms, newdata, na.action = na.action, xlev = object$xlevels)",
      "4. model.frame.default(Terms, newdata, na.action = na.action, xlev = object$xlevels)",
      "5. stop(sprintf(ngettext(length(m), \"factor %s has new level %s\", \n .     \"factor %s has new levels %s\"), nm, paste(nxl[m], collapse = \", \")), \n .     domain = NA)"
     ]
    }
   ],
   "source": [
    "# Model 4 has highest R2 and adjusted R2 score among all the models\n",
    "# Make predictions using the lm model\n",
    "predicted_values_test <- predict(lm_model4, test_data)\n",
    "\n",
    "# Convert log-transformed values back to the original scale\n",
    "actual_values_test <- test_data$TotalSales\n",
    "predicted_values_test_exp <- exp(predicted_values_test)\n",
    "\n",
    "# Create a scatterplot to compare predicted vs actual TotalSales on the training set\n",
    "plot(seq_along(actual_values_test), actual_values_test,\n",
    "     main = \"Predicted vs. Actual TotalSales (Testing Set)\",\n",
    "     xlab = \"Data Index\", ylab = \"Actual TotalSales\",\n",
    "     col = \"blue\", pch = 16)\n",
    "\n",
    "# Add the predicted values on the training set\n",
    "points(seq_along(predicted_values_test_exp), predicted_values_test_exp, col = \"red\", pch = 16)\n",
    "\n",
    "# Add the fitted line from the lm model\n",
    "legend(\"topright\", legend = c(\"Actual\", \"Predicted\"), col = c(\"blue\", \"red\"), pch = 16)\n"
   ]
  },
  {
   "cell_type": "code",
   "execution_count": 174,
   "metadata": {
    "vscode": {
     "languageId": "r"
    }
   },
   "outputs": [
    {
     "name": "stdout",
     "output_type": "stream",
     "text": [
      "Sum of Errors (Training): 342595020 \n",
      "Mean Absolute Deviation (Training): 126815.1 \n",
      "Mean Percentage Error (Training): 7053634 %\n",
      "Mean Squared Error (Training): 40737123499 \n",
      "Standard Error (Training): 201834.4 \n",
      "Mean Absolute Percentage Error (Training): 12681505 %\n"
     ]
    }
   ],
   "source": [
    "# Calculate various error metrics on the original scale for the training set\n",
    "errors_train <- training_data$TotalSales - predicted_values_train_exp\n",
    "sum_of_errors_train <- sum(errors_train)\n",
    "mean_absolute_deviation_train <- mean(abs(errors_train))\n",
    "mean_percentage_error_train <- mean(errors_train) * 100  # Already on the original scale\n",
    "mean_squared_error_train <- mean(errors_train^2)\n",
    "standard_error_train <- sqrt(mean_squared_error_train)\n",
    "mean_absolute_percentage_error_train <- mean(abs(errors_train)) * 100\n",
    "\n",
    "# Print the error metrics for the training set\n",
    "cat(\"Sum of Errors (Training):\", sum_of_errors_train, \"\\n\")\n",
    "cat(\"Mean Absolute Deviation (Training):\", mean_absolute_deviation_train, \"\\n\")\n",
    "cat(\"Mean Percentage Error (Training):\", mean_percentage_error_train, \"%\\n\")\n",
    "cat(\"Mean Squared Error (Training):\", mean_squared_error_train, \"\\n\")\n",
    "cat(\"Standard Error (Training):\", standard_error_train, \"\\n\")\n",
    "cat(\"Mean Absolute Percentage Error (Training):\", mean_absolute_percentage_error_train, \"%\\n\")"
   ]
  },
  {
   "cell_type": "markdown",
   "metadata": {},
   "source": [
    "Neural Network_count"
   ]
  },
  {
   "cell_type": "code",
   "execution_count": 214,
   "metadata": {
    "vscode": {
     "languageId": "r"
    }
   },
   "outputs": [],
   "source": [
    "########################################################\n",
    "# Build a NN model\n",
    "\n",
    "# Create a Keras Sequential model\n",
    "model <- keras_model_sequential()\n",
    "\n",
    "# Add an input layer\n",
    "model %>% \n",
    "  layer_dense(units = 10, input_shape = c(11), activation = \"relu\")\n",
    "\n",
    "# Add one or more hidden layers\n",
    "model %>%\n",
    "  layer_dense(units = 20, activation = \"relu\") %>%\n",
    "  layer_dense(units = 5, activation = \"relu\")\n",
    "\n",
    "# Add an output layer\n",
    "model %>%\n",
    "  layer_dense(units = 1)  # To predict 'TotalSales'\n",
    "\n",
    "# Compile the model with custom absolute error loss and MAE metric\n",
    "model %>%\n",
    "  compile(\n",
    "    loss = \"mean_squared_error\",\n",
    "    optimizer = optimizer_adam(),\n",
    "    metrics = list(\"mean_absolute_error\")\n",
    "  )"
   ]
  },
  {
   "cell_type": "code",
   "execution_count": 203,
   "metadata": {
    "vscode": {
     "languageId": "r"
    }
   },
   "outputs": [
    {
     "name": "stdout",
     "output_type": "stream",
     "text": [
      "Model: \"sequential_3\"\n",
      "________________________________________________________________________________\n",
      " Layer (type)                       Output Shape                    Param #     \n",
      "================================================================================\n",
      " dense_12 (Dense)                   (None, 10)                      120         \n",
      " dense_14 (Dense)                   (None, 20)                      220         \n",
      " dense_13 (Dense)                   (None, 5)                       105         \n",
      " dense_15 (Dense)                   (None, 1)                       6           \n",
      "================================================================================\n",
      "Total params: 451\n",
      "Trainable params: 451\n",
      "Non-trainable params: 0\n",
      "________________________________________________________________________________\n"
     ]
    }
   ],
   "source": [
    "summary (model)"
   ]
  },
  {
   "cell_type": "code",
   "execution_count": 188,
   "metadata": {
    "vscode": {
     "languageId": "r"
    }
   },
   "outputs": [],
   "source": [
    "# Exclude specific columns\n",
    "excluded_columns <- c(\"Rank\", \n",
    "                    \"Title\", \n",
    "                    \"Publisher\", \n",
    "                    \"Developer\", \n",
    "                    \"YearsSinceRelease\", \n",
    "                    \"log_transformed_total_sales\", \n",
    "                    \"TopPublisher_Sum\", \n",
    "                    \"TopDeveloper_Sum\", \n",
    "                    \"TotalSales\")\n",
    "                    \n",
    "x_train <- training_data[, !names(training_data) %in% excluded_columns]\n",
    "x_test <- test_data[, !names(test_data) %in% excluded_columns]"
   ]
  },
  {
   "cell_type": "code",
   "execution_count": 215,
   "metadata": {
    "vscode": {
     "languageId": "r"
    }
   },
   "outputs": [],
   "source": [
    "# Train the model\n",
    "history = keras::fit(model, data.matrix(x_train), data.matrix(training_data$TotalSales), epochs = 100, batch_size = 100, verbose = 1)"
   ]
  },
  {
   "cell_type": "code",
   "execution_count": 216,
   "metadata": {
    "vscode": {
     "languageId": "r"
    }
   },
   "outputs": [
    {
     "data": {
      "image/png": "[encoded data removed]",
      "text/plain": [
       "plot without title"
      ]
     },
     "metadata": {
      "image/png": {
       "height": 420,
       "width": 420
      }
     },
     "output_type": "display_data"
    }
   ],
   "source": [
    "plot(history)"
   ]
  },
  {
   "cell_type": "code",
   "execution_count": 217,
   "metadata": {
    "vscode": {
     "languageId": "r"
    }
   },
   "outputs": [],
   "source": [
    "# Evaluate the model\n",
    "eval_metrics <- model %>% evaluate(\n",
    "  x = data.matrix(x_test),  # Independent variables for testing\n",
    "  y = data.matrix(test_data$TotalSales)  # Target variable for testing\n",
    ")"
   ]
  },
  {
   "cell_type": "code",
   "execution_count": 218,
   "metadata": {
    "vscode": {
     "languageId": "r"
    }
   },
   "outputs": [
    {
     "name": "stdout",
     "output_type": "stream",
     "text": [
      "               loss mean_absolute_error \n",
      "       4.335517e+10        1.576589e+05 \n"
     ]
    }
   ],
   "source": [
    "# Print the evaluation metrics\n",
    "print(eval_metrics)"
   ]
  },
  {
   "cell_type": "code",
   "execution_count": 219,
   "metadata": {
    "vscode": {
     "languageId": "r"
    }
   },
   "outputs": [],
   "source": [
    "# Generate predictions using your trained model\n",
    "predictions <- model %>% predict(data.matrix(x_train))\n",
    "\n",
    "# Organize results into a data frame\n",
    "results <- data.frame(Actual_TotalSales = training_data$TotalSales, Predicted_TotalSales = predictions)"
   ]
  },
  {
   "cell_type": "code",
   "execution_count": 220,
   "metadata": {
    "vscode": {
     "languageId": "r"
    }
   },
   "outputs": [
    {
     "data": {
      "image/png": "[encoded data removed]",
      "text/plain": [
       "plot without title"
      ]
     },
     "metadata": {
      "image/png": {
       "height": 420,
       "width": 420
      }
     },
     "output_type": "display_data"
    }
   ],
   "source": [
    "# Create a scatter plot for both predicted and actual values using different colors\n",
    "ggplot(results, aes(x = seq_along(Actual_TotalSales))) +\n",
    "  geom_point(aes(y = Predicted_TotalSales), color = \"orange\") +\n",
    "  geom_point(aes(y = Actual_TotalSales), color = \"blue\") +\n",
    "  labs(x = \"Index\", y = \"Total Sales\") +\n",
    "  ggtitle(\"Predicted Total Sales vs. Actual Total Sales\") +\n",
    "  theme_minimal()"
   ]
  },
  {
   "cell_type": "code",
   "execution_count": 120,
   "metadata": {
    "vscode": {
     "languageId": "r"
    }
   },
   "outputs": [],
   "source": [
    "# Export to excel\n",
    "\n",
    "write_xlsx(results, path = \"NN_results.xlsx\")"
   ]
  },
  {
   "cell_type": "markdown",
   "metadata": {},
   "source": [
    "Neural Network_sum"
   ]
  },
  {
   "cell_type": "code",
   "execution_count": 221,
   "metadata": {
    "vscode": {
     "languageId": "r"
    }
   },
   "outputs": [],
   "source": [
    "# Exclude specific columns\n",
    "excluded_columns <- c(\"Rank\", \n",
    "                    \"Title\", \n",
    "                    \"Publisher\", \n",
    "                    \"Developer\", \n",
    "                    \"YearsSinceRelease\", \n",
    "                    \"log_transformed_total_sales\", \n",
    "                    \"TopPublisher_Count\", \n",
    "                    \"TopDeveloper_Count\", \n",
    "                    \"TotalSales\")\n",
    "                    \n",
    "x_train <- training_data[, !names(training_data) %in% excluded_columns]\n",
    "x_test <- test_data[, !names(test_data) %in% excluded_columns]"
   ]
  },
  {
   "cell_type": "code",
   "execution_count": 228,
   "metadata": {
    "vscode": {
     "languageId": "r"
    }
   },
   "outputs": [],
   "source": [
    "# Train the model\n",
    "history = keras::fit(model, data.matrix(x_train), data.matrix(training_data$TotalSales), epochs = 100, batch_size = 100, verbose = 1)"
   ]
  },
  {
   "cell_type": "code",
   "execution_count": 223,
   "metadata": {
    "vscode": {
     "languageId": "r"
    }
   },
   "outputs": [
    {
     "data": {
      "image/png": "[encoded data removed]",
      "text/plain": [
       "plot without title"
      ]
     },
     "metadata": {
      "image/png": {
       "height": 420,
       "width": 420
      }
     },
     "output_type": "display_data"
    }
   ],
   "source": [
    "plot(history)"
   ]
  },
  {
   "cell_type": "code",
   "execution_count": 224,
   "metadata": {
    "vscode": {
     "languageId": "r"
    }
   },
   "outputs": [],
   "source": [
    "# Evaluate the model\n",
    "eval_metrics <- model %>% evaluate(\n",
    "  x = data.matrix(x_test),  # Independent variables for testing\n",
    "  y = data.matrix(test_data$TotalSales)  # Target variable for testing\n",
    ")"
   ]
  },
  {
   "cell_type": "code",
   "execution_count": 225,
   "metadata": {
    "vscode": {
     "languageId": "r"
    }
   },
   "outputs": [
    {
     "name": "stdout",
     "output_type": "stream",
     "text": [
      "               loss mean_absolute_error \n",
      "       4.332587e+10        1.579718e+05 \n"
     ]
    }
   ],
   "source": [
    "# Print the evaluation metrics\n",
    "print(eval_metrics)"
   ]
  },
  {
   "cell_type": "code",
   "execution_count": 226,
   "metadata": {
    "vscode": {
     "languageId": "r"
    }
   },
   "outputs": [],
   "source": [
    "# Generate predictions using your trained model\n",
    "predictions <- model %>% predict(data.matrix(x_train))\n",
    "\n",
    "# Organize results into a data frame\n",
    "results <- data.frame(Actual_TotalSales = training_data$TotalSales, Predicted_TotalSales = predictions)"
   ]
  },
  {
   "cell_type": "code",
   "execution_count": 227,
   "metadata": {
    "vscode": {
     "languageId": "r"
    }
   },
   "outputs": [
    {
     "data": {
      "image/png": "[encoded data removed]",
      "text/plain": [
       "plot without title"
      ]
     },
     "metadata": {
      "image/png": {
       "height": 420,
       "width": 420
      }
     },
     "output_type": "display_data"
    }
   ],
   "source": [
    "# Create a scatter plot for both predicted and actual values using different colors\n",
    "ggplot(results, aes(x = seq_along(Actual_TotalSales))) +\n",
    "  geom_point(aes(y = Predicted_TotalSales), color = \"orange\") +\n",
    "  geom_point(aes(y = Actual_TotalSales), color = \"blue\") +\n",
    "  labs(x = \"Index\", y = \"Total Sales\") +\n",
    "  ggtitle(\"Predicted Total Sales vs. Actual Total Sales\") +\n",
    "  theme_minimal()"
   ]
  },
  {
   "cell_type": "code",
   "execution_count": 229,
   "metadata": {
    "vscode": {
     "languageId": "r"
    }
   },
   "outputs": [
    {
     "name": "stdout",
     "output_type": "stream",
     "text": [
      "Model: \"sequential_7\"\n",
      "________________________________________________________________________________\n",
      " Layer (type)                       Output Shape                    Param #     \n",
      "================================================================================\n",
      " dense_28 (Dense)                   (None, 10)                      120         \n",
      " dense_30 (Dense)                   (None, 20)                      220         \n",
      " dense_29 (Dense)                   (None, 5)                       105         \n",
      " dense_31 (Dense)                   (None, 1)                       6           \n",
      "================================================================================\n",
      "Total params: 451\n",
      "Trainable params: 451\n",
      "Non-trainable params: 0\n",
      "________________________________________________________________________________\n",
      "               loss mean_absolute_error \n",
      "       7.966049e+10        1.904102e+05 \n"
     ]
    },
    {
     "data": {
      "image/png": "[encoded data removed]",
      "text/plain": [
       "plot without title"
      ]
     },
     "metadata": {
      "image/png": {
       "height": 420,
       "width": 420
      }
     },
     "output_type": "display_data"
    },
    {
     "data": {
      "image/png": "[encoded data removed]",
      "text/plain": [
       "plot without title"
      ]
     },
     "metadata": {
      "image/png": {
       "height": 420,
       "width": 420
      }
     },
     "output_type": "display_data"
    }
   ],
   "source": [
    "########################################################\n",
    "# Build a NN model\n",
    "\n",
    "# Create a Keras Sequential model\n",
    "model <- keras_model_sequential()\n",
    "\n",
    "# Add an input layer\n",
    "model %>% \n",
    "  layer_dense(units = 10, input_shape = c(11), activation = \"relu\")\n",
    "\n",
    "# Add one or more hidden layers\n",
    "model %>%\n",
    "  layer_dense(units = 20, activation = \"relu\") %>%\n",
    "  layer_dense(units = 5, activation = \"relu\")\n",
    "\n",
    "# Add an output layer\n",
    "model %>%\n",
    "  layer_dense(units = 1)  # To predict 'TotalSales'\n",
    "\n",
    "# Compile the model with custom absolute error loss and MAE metric\n",
    "model %>%\n",
    "  compile(\n",
    "    loss = \"mean_squared_error\",\n",
    "    optimizer = optimizer_adam(),\n",
    "    metrics = list(\"mean_absolute_error\")\n",
    "  )\n",
    "\n",
    "  summary (model)\n",
    "\n",
    "  # Train the model\n",
    "history = keras::fit(model, data.matrix(x_train), data.matrix(training_data$TotalSales), epochs = 200, batch_size = 100, verbose = 1)\n",
    "\n",
    "plot(history)\n",
    "\n",
    "# Evaluate the model\n",
    "eval_metrics <- model %>% evaluate(\n",
    "  x = data.matrix(x_test),  # Independent variables for testing\n",
    "  y = data.matrix(test_data$TotalSales)  # Target variable for testing\n",
    ")\n",
    "\n",
    "\n",
    "# Print the evaluation metrics\n",
    "print(eval_metrics)\n",
    "\n",
    "\n",
    "# Generate predictions using your trained model\n",
    "predictions <- model %>% predict(data.matrix(x_train))\n",
    "\n",
    "# Organize results into a data frame\n",
    "results <- data.frame(Actual_TotalSales = training_data$TotalSales, Predicted_TotalSales = predictions)\n",
    "\n",
    "# Create a scatter plot for both predicted and actual values using different colors\n",
    "ggplot(results, aes(x = seq_along(Actual_TotalSales))) +\n",
    "  geom_point(aes(y = Predicted_TotalSales), color = \"orange\") +\n",
    "  geom_point(aes(y = Actual_TotalSales), color = \"blue\") +\n",
    "  labs(x = \"Index\", y = \"Total Sales\") +\n",
    "  ggtitle(\"Predicted Total Sales vs. Actual Total Sales\") +\n",
    "  theme_minimal()\n",
    "\n"
   ]
  },
  {
   "cell_type": "code",
   "execution_count": 230,
   "metadata": {
    "vscode": {
     "languageId": "r"
    }
   },
   "outputs": [
    {
     "name": "stdout",
     "output_type": "stream",
     "text": [
      "Model: \"sequential_8\"\n",
      "________________________________________________________________________________\n",
      " Layer (type)                       Output Shape                    Param #     \n",
      "================================================================================\n",
      " dense_32 (Dense)                   (None, 10)                      120         \n",
      " dense_33 (Dense)                   (None, 20)                      220         \n",
      " dense_34 (Dense)                   (None, 1)                       21          \n",
      "================================================================================\n",
      "Total params: 361\n",
      "Trainable params: 361\n",
      "Non-trainable params: 0\n",
      "________________________________________________________________________________\n",
      "               loss mean_absolute_error \n",
      "       4.335328e+10        1.576953e+05 \n"
     ]
    },
    {
     "data": {
      "image/png": "[encoded data removed]",
      "text/plain": [
       "plot without title"
      ]
     },
     "metadata": {
      "image/png": {
       "height": 420,
       "width": 420
      }
     },
     "output_type": "display_data"
    },
    {
     "data": {
      "image/png": "[encoded data removed]",
      "text/plain": [
       "plot without title"
      ]
     },
     "metadata": {
      "image/png": {
       "height": 420,
       "width": 420
      }
     },
     "output_type": "display_data"
    }
   ],
   "source": [
    "########################################################\n",
    "# Build a NN model\n",
    "\n",
    "# Create a Keras Sequential model\n",
    "model <- keras_model_sequential()\n",
    "\n",
    "# Add an input layer\n",
    "model %>% \n",
    "  layer_dense(units = 10, input_shape = c(11), activation = \"relu\")\n",
    "\n",
    "# Add one or more hidden layers\n",
    "model %>%\n",
    "  layer_dense(units = 20, activation = \"relu\")\n",
    "\n",
    "# Add an output layer\n",
    "model %>%\n",
    "  layer_dense(units = 1)  # To predict 'TotalSales'\n",
    "\n",
    "# Compile the model with custom absolute error loss and MAE metric\n",
    "model %>%\n",
    "  compile(\n",
    "    loss = \"mean_squared_error\",\n",
    "    optimizer = optimizer_adam(),\n",
    "    metrics = list(\"mean_absolute_error\")\n",
    "  )\n",
    "\n",
    "  summary (model)\n",
    "\n",
    "  # Train the model\n",
    "history = keras::fit(model, data.matrix(x_train), data.matrix(training_data$TotalSales), epochs = 100, batch_size = 100, verbose = 1)\n",
    "\n",
    "plot(history)\n",
    "\n",
    "# Evaluate the model\n",
    "eval_metrics <- model %>% evaluate(\n",
    "  x = data.matrix(x_test),  # Independent variables for testing\n",
    "  y = data.matrix(test_data$TotalSales)  # Target variable for testing\n",
    ")\n",
    "\n",
    "\n",
    "# Print the evaluation metrics\n",
    "print(eval_metrics)\n",
    "\n",
    "\n",
    "# Generate predictions using your trained model\n",
    "predictions <- model %>% predict(data.matrix(x_train))\n",
    "\n",
    "# Organize results into a data frame\n",
    "results <- data.frame(Actual_TotalSales = training_data$TotalSales, Predicted_TotalSales = predictions)\n",
    "\n",
    "# Create a scatter plot for both predicted and actual values using different colors\n",
    "ggplot(results, aes(x = seq_along(Actual_TotalSales))) +\n",
    "  geom_point(aes(y = Predicted_TotalSales), color = \"orange\") +\n",
    "  geom_point(aes(y = Actual_TotalSales), color = \"blue\") +\n",
    "  labs(x = \"Index\", y = \"Total Sales\") +\n",
    "  ggtitle(\"Predicted Total Sales vs. Actual Total Sales\") +\n",
    "  theme_minimal()\n",
    "\n"
   ]
  }
 ],
 "metadata": {
  "kernelspec": {
   "display_name": "R",
   "language": "R",
   "name": "ir"
  },
  "language_info": {
   "codemirror_mode": "r",
   "file_extension": ".r",
   "mimetype": "text/x-r-source",
   "name": "R",
   "pygments_lexer": "r",
   "version": "4.3.1"
  }
 },
 "nbformat": 4,
 "nbformat_minor": 2
}
